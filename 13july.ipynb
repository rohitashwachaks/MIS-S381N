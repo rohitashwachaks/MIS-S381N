{
 "cells": [
  {
   "cell_type": "markdown",
   "source": [
    "# Intro to Python: Lists, Tuples, Sets, Dictionary\r\n",
    "\r\n",
    "- ## help()\r\n",
    "\r\n",
    "  This Function lists all the functions in a package\r\n"
   ],
   "metadata": {}
  },
  {
   "cell_type": "markdown",
   "source": [
    "# 13th July"
   ],
   "metadata": {}
  },
  {
   "cell_type": "code",
   "execution_count": null,
   "source": [
    "import math\r\n",
    "help(math)"
   ],
   "outputs": [],
   "metadata": {}
  },
  {
   "cell_type": "markdown",
   "source": [
    "# Lists\r\n"
   ],
   "metadata": {}
  },
  {
   "cell_type": "code",
   "execution_count": null,
   "source": [
    "# Initialising a list Variable\r\n",
    "t = ['a', 2, 1.7, math.pi]\r\n",
    "\r\n",
    "print(\"t: \", t)\r\n",
    "print(\"t[1:1]: \", t[1:1])\r\n",
    "print(\"t[0:-1]: \", t[0:-1])\r\n",
    "print(\"t[-3:]: \", t[-3:])\r\n",
    "print(\"t[-1:-3]: \", t[-1:-3])\r\n",
    "print(\"t[-1:-4:-1]: \", t[-1:-4:-1])"
   ],
   "outputs": [],
   "metadata": {}
  },
  {
   "cell_type": "code",
   "execution_count": 11,
   "source": [
    "arr1 = [1,2,3]\r\n",
    "arr2 = [5,6,7]\r\n",
    "print(arr1+arr2)\r\n",
    "print(arr1*3)"
   ],
   "outputs": [
    {
     "output_type": "stream",
     "name": "stdout",
     "text": [
      "[1, 2, 3, 5, 6, 7]\n",
      "[1, 2, 3, 1, 2, 3, 1, 2, 3]\n"
     ]
    }
   ],
   "metadata": {}
  },
  {
   "cell_type": "code",
   "execution_count": 12,
   "source": [
    "mortgages = [[1000, 2.1],[2000,1.9],[2700, 2.5]]\r\n",
    "mortgages.append([1200, 2.3])\r\n",
    "print(\"Mortgage DataSet\",mortgages)"
   ],
   "outputs": [
    {
     "output_type": "execute_result",
     "data": {
      "text/plain": [
       "[[1000, 2.1], [2000, 1.9], [2700, 2.5], [1200, 2.3]]"
      ]
     },
     "metadata": {},
     "execution_count": 12
    }
   ],
   "metadata": {}
  },
  {
   "cell_type": "markdown",
   "source": [
    "# Sort by interest rate\r\n"
   ],
   "metadata": {}
  },
  {
   "cell_type": "code",
   "execution_count": 13,
   "source": [
    "# Function to return Mortgage Rate\r\n",
    "def GetMortgageRate(property):\r\n",
    "    return property[1]"
   ],
   "outputs": [],
   "metadata": {}
  },
  {
   "cell_type": "code",
   "execution_count": 16,
   "source": [
    "sorted(mortgages, key = GetMortgageRate)"
   ],
   "outputs": [
    {
     "output_type": "execute_result",
     "data": {
      "text/plain": [
       "[[2000, 1.9], [1000, 2.1], [1200, 2.3], [2700, 2.5]]"
      ]
     },
     "metadata": {},
     "execution_count": 16
    }
   ],
   "metadata": {}
  },
  {
   "cell_type": "markdown",
   "source": [
    "# Sort by Yearly Interest\r\n"
   ],
   "metadata": {}
  },
  {
   "cell_type": "code",
   "execution_count": 25,
   "source": [
    "# Function to return Yearly Mortgage Amount\r\n",
    "def GetYearlyMortgageAmount(property):\r\n",
    "    print(property,\"-> \", property[0]*(property[1]/100))\r\n",
    "    return property[0]*(property[1]/100)"
   ],
   "outputs": [],
   "metadata": {}
  },
  {
   "cell_type": "code",
   "execution_count": 26,
   "source": [
    "sorted(mortgages, key = GetYearlyMortgageAmount, reverse = True)"
   ],
   "outputs": [
    {
     "output_type": "stream",
     "name": "stdout",
     "text": [
      "[1000, 2.1] ->  21.0\n",
      "[2000, 1.9] ->  38.0\n",
      "[2700, 2.5] ->  67.5\n",
      "[1200, 2.3] ->  27.599999999999998\n"
     ]
    },
    {
     "output_type": "execute_result",
     "data": {
      "text/plain": [
       "[[2700, 2.5], [2000, 1.9], [1200, 2.3], [1000, 2.1]]"
      ]
     },
     "metadata": {},
     "execution_count": 26
    }
   ],
   "metadata": {}
  },
  {
   "cell_type": "markdown",
   "source": [
    "# Copying in Lists\r\n"
   ],
   "metadata": {}
  },
  {
   "cell_type": "code",
   "execution_count": 29,
   "source": [
    "arr1 = [1,2,3]\r\n",
    "arr2 = arr1\r\n",
    "arr1[2] = 100\r\n",
    "# Not Copied\r\n",
    "print(arr1)\r\n",
    "print(arr2)"
   ],
   "outputs": [
    {
     "output_type": "stream",
     "name": "stdout",
     "text": [
      "[1, 2, 100]\n",
      "[1, 2, 100]\n"
     ]
    }
   ],
   "metadata": {}
  },
  {
   "cell_type": "code",
   "execution_count": 32,
   "source": [
    "arr1 = [1,[2,3],4]\r\n",
    "arr2 = list(arr1)\r\n",
    "arr1[2] = 100\r\n",
    "# Copied\r\n",
    "print(arr1)\r\n",
    "print(arr2)\r\n",
    "\r\n",
    "# Or has it?\r\n",
    "arr1[1] = [2,3,500]\r\n",
    "print(arr1)\r\n",
    "print(arr2)\r\n",
    "# fortunately yes.\r\n",
    "\r\n",
    "# But use Copy() to be safe\r\n",
    "arr2 = arr1.copy()\r\n"
   ],
   "outputs": [
    {
     "output_type": "stream",
     "name": "stdout",
     "text": [
      "[1, [2, 3], 100]\n",
      "[1, [2, 3], 4]\n",
      "[1, [2, 3, 500], 100]\n",
      "[1, [2, 3], 4]\n"
     ]
    }
   ],
   "metadata": {}
  },
  {
   "cell_type": "markdown",
   "source": [
    "# Generate Differences between consecutive elements in a list\r\n",
    "\r\n",
    "```Python\r\n",
    "arr1 = [10,20,100,150]\r\n",
    "output = [0,10,80,50]\r\n",
    "```\r\n"
   ],
   "metadata": {}
  },
  {
   "cell_type": "code",
   "execution_count": 45,
   "source": [
    "arr1 = [10,20,100,150]\r\n",
    "arr2 = [arr1[0]]+arr1[:-1]\r\n",
    "print(arr1)\r\n",
    "print(arr2)\r\n",
    "\r\n",
    "# Option1: using Zip\r\n",
    "print(\"Differences using Zip: \",[t1-t0 for t1,t0 in zip(arr1,arr2)])\r\n",
    "\r\n",
    "# Option2: using Map and operator module\r\n",
    "import operator\r\n",
    "print(\"Differences using Map: \", list(map(operator.sub, arr1,arr2)))\r\n"
   ],
   "outputs": [
    {
     "output_type": "stream",
     "name": "stdout",
     "text": [
      "[10, 20, 100, 150]\n",
      "[10, 10, 20, 100]\n",
      "Differences using Zip:  [0, 10, 80, 50]\n",
      "Differences using Map:  [0, 10, 80, 50]\n"
     ]
    }
   ],
   "metadata": {}
  },
  {
   "cell_type": "markdown",
   "source": [
    "# Tuples\r\n",
    "\r\n",
    "Declared by parenthesis _()_\r\n",
    "\r\n",
    "**Immutable**\r\n"
   ],
   "metadata": {}
  },
  {
   "cell_type": "code",
   "execution_count": null,
   "source": [],
   "outputs": [],
   "metadata": {}
  },
  {
   "cell_type": "markdown",
   "source": [
    "# Dictionary\r\n",
    "\r\n",
    "Declared by _{}_\r\n",
    "\r\n",
    "Optimised for Searching\r\n",
    "\r\n",
    "```Python\r\n",
    "Dict.keys()   #Returns iterator of keys\r\n",
    "Dict.values() #Returns iterator of values\r\n",
    "Dict.items()  #Returns iterator, as a tuple, of key-value pair\r\n",
    "```"
   ],
   "metadata": {}
  },
  {
   "cell_type": "code",
   "execution_count": null,
   "source": [],
   "outputs": [],
   "metadata": {}
  },
  {
   "cell_type": "markdown",
   "source": [
    "# List Comprehensions\r\n"
   ],
   "metadata": {}
  },
  {
   "cell_type": "code",
   "execution_count": 49,
   "source": [
    "arr1 = [1,2,-3,6,-5,7]\r\n",
    "print(\"arr1: \", arr1)\r\n",
    "\r\n",
    "# Square-ing a list\r\n",
    "print(\"Square: \", [x**2 for x in arr1])\r\n",
    "\r\n",
    "# sqrt for positive numbers\r\n",
    "import math\r\n",
    "print(\"SQRT() if +ve:\\n\", [math.sqrt(x) if x>=0 else x for x in arr1])"
   ],
   "outputs": [
    {
     "output_type": "stream",
     "name": "stdout",
     "text": [
      "arr1:  [1, 2, -3, 6, -5, 7]\n",
      "Square:  [1, 4, 9, 36, 25, 49]\n",
      "SQRT() if +ve:\n",
      " [1.0, 1.4142135623730951, -3, 2.449489742783178, -5, 2.6457513110645907]\n"
     ]
    }
   ],
   "metadata": {}
  },
  {
   "cell_type": "markdown",
   "source": [
    "# 14th July\r\n",
    "\r\n",
    "## Strings\r\n",
    "\r\n",
    "## Files\r\n"
   ],
   "metadata": {}
  },
  {
   "cell_type": "code",
   "execution_count": 3,
   "source": [],
   "outputs": [
    {
     "output_type": "error",
     "ename": "TypeError",
     "evalue": "list indices must be integers or slices, not list",
     "traceback": [
      "\u001b[1;31m---------------------------------------------------------------------------\u001b[0m",
      "\u001b[1;31mTypeError\u001b[0m                                 Traceback (most recent call last)",
      "\u001b[1;32m<ipython-input-3-cb3a7a6cf208>\u001b[0m in \u001b[0;36m<module>\u001b[1;34m\u001b[0m\n\u001b[0;32m      3\u001b[0m \u001b[0mlst\u001b[0m \u001b[1;33m=\u001b[0m \u001b[1;33m[\u001b[0m\u001b[1;36m2\u001b[0m\u001b[1;33m,\u001b[0m\u001b[1;36m3\u001b[0m\u001b[1;33m,\u001b[0m\u001b[1;36m4\u001b[0m\u001b[1;33m]\u001b[0m\u001b[1;33m\u001b[0m\u001b[1;33m\u001b[0m\u001b[0m\n\u001b[0;32m      4\u001b[0m \u001b[1;31m# b[lst] = \"_\"\u001b[0m\u001b[1;33m\u001b[0m\u001b[1;33m\u001b[0m\u001b[1;33m\u001b[0m\u001b[0m\n\u001b[1;32m----> 5\u001b[1;33m \u001b[0mb\u001b[0m\u001b[1;33m[\u001b[0m\u001b[0mlst\u001b[0m\u001b[1;33m]\u001b[0m\u001b[1;33m\u001b[0m\u001b[1;33m\u001b[0m\u001b[0m\n\u001b[0m",
      "\u001b[1;31mTypeError\u001b[0m: list indices must be integers or slices, not list"
     ]
    }
   ],
   "metadata": {}
  },
  {
   "cell_type": "markdown",
   "source": [],
   "metadata": {}
  }
 ],
 "metadata": {
  "orig_nbformat": 4,
  "language_info": {
   "name": "python"
  }
 },
 "nbformat": 4,
 "nbformat_minor": 2
}