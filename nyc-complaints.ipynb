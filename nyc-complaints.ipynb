{
 "cells": [
  {
   "cell_type": "code",
   "execution_count": null,
   "source": [],
   "outputs": [],
   "metadata": {}
  },
  {
   "cell_type": "code",
   "execution_count": 11,
   "source": [
    "import pandas as pd\r\n",
    "from pandas import Series, DataFrame\r\n",
    "%pylab inline"
   ],
   "outputs": [
    {
     "output_type": "stream",
     "name": "stdout",
     "text": [
      "Populating the interactive namespace from numpy and matplotlib\n"
     ]
    }
   ],
   "metadata": {}
  },
  {
   "cell_type": "code",
   "execution_count": 2,
   "source": [
    "df = pd.read_csv(\"311_calls_2months.csv\")\r\n",
    "df.head()"
   ],
   "outputs": [
    {
     "output_type": "stream",
     "name": "stderr",
     "text": [
      "C:\\Users\\Rohitashwa\\AppData\\Roaming\\Python\\Python39\\site-packages\\IPython\\core\\interactiveshell.py:3427: DtypeWarning: Columns (8,17,39,46,47) have mixed types.Specify dtype option on import or set low_memory=False.\n",
      "  exec(code_obj, self.user_global_ns, self.user_ns)\n"
     ]
    },
    {
     "output_type": "execute_result",
     "data": {
      "text/plain": [
       "   Unique Key            Created Date             Closed Date Agency  \\\n",
       "0    29641524  01/06/2015 02:14:39 AM                     NaN  CHALL   \n",
       "1    29636054  01/06/2015 02:09:30 AM                     NaN   NYPD   \n",
       "2    29640523  01/06/2015 02:09:18 AM                     NaN   NYPD   \n",
       "3    29635476  01/06/2015 02:08:02 AM                     NaN    DOT   \n",
       "4    29641040  01/06/2015 02:03:11 AM  01/06/2015 02:36:38 AM   NYPD   \n",
       "\n",
       "                       Agency Name           Complaint Type  \\\n",
       "0                            CHALL    Opinion for the Mayor   \n",
       "1  New York City Police Department       Noise - Commercial   \n",
       "2  New York City Police Department             Animal Abuse   \n",
       "3     Department of Transportation    Street Sign - Missing   \n",
       "4  New York City Police Department  Noise - Street/Sidewalk   \n",
       "\n",
       "                   Descriptor         Location Type Incident Zip  \\\n",
       "0                PUBLICSAFETY                   NaN          NaN   \n",
       "1            Loud Music/Party   Club/Bar/Restaurant      11372.0   \n",
       "2                  No Shelter  Residential Building      11416.0   \n",
       "3  St Name - Attached to Pole                Street      11233.0   \n",
       "4                Loud Talking       Street/Sidewalk      10022.0   \n",
       "\n",
       "         Incident Address  ... Bridge Highway Name Bridge Highway Direction  \\\n",
       "0                     NaN  ...                 NaN                      NaN   \n",
       "1  70-06 ROOSEVELT AVENUE  ...                 NaN                      NaN   \n",
       "2       101-10 107 STREET  ...                 NaN                      NaN   \n",
       "3                     NaN  ...                 NaN                      NaN   \n",
       "4      238 EAST 58 STREET  ...                 NaN                      NaN   \n",
       "\n",
       "  Road Ramp Bridge Highway Segment Garage Lot Name Ferry Direction  \\\n",
       "0       NaN         1-1-1052163595             NaN             NaN   \n",
       "1       NaN                    NaN             NaN             NaN   \n",
       "2       NaN                    NaN             NaN             NaN   \n",
       "3       NaN                    NaN             NaN             NaN   \n",
       "4       NaN                    NaN             NaN             NaN   \n",
       "\n",
       "  Ferry Terminal Name   Latitude  Longitude  \\\n",
       "0                 NaN        NaN        NaN   \n",
       "1                 NaN  40.746429 -73.895340   \n",
       "2                 NaN  40.686633 -73.835882   \n",
       "3                 NaN  40.677674 -73.913586   \n",
       "4                 NaN  40.760497 -73.966047   \n",
       "\n",
       "                                   Location  \n",
       "0                                       NaN  \n",
       "1   (40.74642854264474, -73.89533997952648)  \n",
       "2   (40.68663307825169, -73.83588154004453)  \n",
       "3  (40.677673635302874, -73.91358587691806)  \n",
       "4   (40.76049674396275, -73.96604690111288)  \n",
       "\n",
       "[5 rows x 52 columns]"
      ],
      "text/html": [
       "<div>\n",
       "<style scoped>\n",
       "    .dataframe tbody tr th:only-of-type {\n",
       "        vertical-align: middle;\n",
       "    }\n",
       "\n",
       "    .dataframe tbody tr th {\n",
       "        vertical-align: top;\n",
       "    }\n",
       "\n",
       "    .dataframe thead th {\n",
       "        text-align: right;\n",
       "    }\n",
       "</style>\n",
       "<table border=\"1\" class=\"dataframe\">\n",
       "  <thead>\n",
       "    <tr style=\"text-align: right;\">\n",
       "      <th></th>\n",
       "      <th>Unique Key</th>\n",
       "      <th>Created Date</th>\n",
       "      <th>Closed Date</th>\n",
       "      <th>Agency</th>\n",
       "      <th>Agency Name</th>\n",
       "      <th>Complaint Type</th>\n",
       "      <th>Descriptor</th>\n",
       "      <th>Location Type</th>\n",
       "      <th>Incident Zip</th>\n",
       "      <th>Incident Address</th>\n",
       "      <th>...</th>\n",
       "      <th>Bridge Highway Name</th>\n",
       "      <th>Bridge Highway Direction</th>\n",
       "      <th>Road Ramp</th>\n",
       "      <th>Bridge Highway Segment</th>\n",
       "      <th>Garage Lot Name</th>\n",
       "      <th>Ferry Direction</th>\n",
       "      <th>Ferry Terminal Name</th>\n",
       "      <th>Latitude</th>\n",
       "      <th>Longitude</th>\n",
       "      <th>Location</th>\n",
       "    </tr>\n",
       "  </thead>\n",
       "  <tbody>\n",
       "    <tr>\n",
       "      <th>0</th>\n",
       "      <td>29641524</td>\n",
       "      <td>01/06/2015 02:14:39 AM</td>\n",
       "      <td>NaN</td>\n",
       "      <td>CHALL</td>\n",
       "      <td>CHALL</td>\n",
       "      <td>Opinion for the Mayor</td>\n",
       "      <td>PUBLICSAFETY</td>\n",
       "      <td>NaN</td>\n",
       "      <td>NaN</td>\n",
       "      <td>NaN</td>\n",
       "      <td>...</td>\n",
       "      <td>NaN</td>\n",
       "      <td>NaN</td>\n",
       "      <td>NaN</td>\n",
       "      <td>1-1-1052163595</td>\n",
       "      <td>NaN</td>\n",
       "      <td>NaN</td>\n",
       "      <td>NaN</td>\n",
       "      <td>NaN</td>\n",
       "      <td>NaN</td>\n",
       "      <td>NaN</td>\n",
       "    </tr>\n",
       "    <tr>\n",
       "      <th>1</th>\n",
       "      <td>29636054</td>\n",
       "      <td>01/06/2015 02:09:30 AM</td>\n",
       "      <td>NaN</td>\n",
       "      <td>NYPD</td>\n",
       "      <td>New York City Police Department</td>\n",
       "      <td>Noise - Commercial</td>\n",
       "      <td>Loud Music/Party</td>\n",
       "      <td>Club/Bar/Restaurant</td>\n",
       "      <td>11372.0</td>\n",
       "      <td>70-06 ROOSEVELT AVENUE</td>\n",
       "      <td>...</td>\n",
       "      <td>NaN</td>\n",
       "      <td>NaN</td>\n",
       "      <td>NaN</td>\n",
       "      <td>NaN</td>\n",
       "      <td>NaN</td>\n",
       "      <td>NaN</td>\n",
       "      <td>NaN</td>\n",
       "      <td>40.746429</td>\n",
       "      <td>-73.895340</td>\n",
       "      <td>(40.74642854264474, -73.89533997952648)</td>\n",
       "    </tr>\n",
       "    <tr>\n",
       "      <th>2</th>\n",
       "      <td>29640523</td>\n",
       "      <td>01/06/2015 02:09:18 AM</td>\n",
       "      <td>NaN</td>\n",
       "      <td>NYPD</td>\n",
       "      <td>New York City Police Department</td>\n",
       "      <td>Animal Abuse</td>\n",
       "      <td>No Shelter</td>\n",
       "      <td>Residential Building</td>\n",
       "      <td>11416.0</td>\n",
       "      <td>101-10 107 STREET</td>\n",
       "      <td>...</td>\n",
       "      <td>NaN</td>\n",
       "      <td>NaN</td>\n",
       "      <td>NaN</td>\n",
       "      <td>NaN</td>\n",
       "      <td>NaN</td>\n",
       "      <td>NaN</td>\n",
       "      <td>NaN</td>\n",
       "      <td>40.686633</td>\n",
       "      <td>-73.835882</td>\n",
       "      <td>(40.68663307825169, -73.83588154004453)</td>\n",
       "    </tr>\n",
       "    <tr>\n",
       "      <th>3</th>\n",
       "      <td>29635476</td>\n",
       "      <td>01/06/2015 02:08:02 AM</td>\n",
       "      <td>NaN</td>\n",
       "      <td>DOT</td>\n",
       "      <td>Department of Transportation</td>\n",
       "      <td>Street Sign - Missing</td>\n",
       "      <td>St Name - Attached to Pole</td>\n",
       "      <td>Street</td>\n",
       "      <td>11233.0</td>\n",
       "      <td>NaN</td>\n",
       "      <td>...</td>\n",
       "      <td>NaN</td>\n",
       "      <td>NaN</td>\n",
       "      <td>NaN</td>\n",
       "      <td>NaN</td>\n",
       "      <td>NaN</td>\n",
       "      <td>NaN</td>\n",
       "      <td>NaN</td>\n",
       "      <td>40.677674</td>\n",
       "      <td>-73.913586</td>\n",
       "      <td>(40.677673635302874, -73.91358587691806)</td>\n",
       "    </tr>\n",
       "    <tr>\n",
       "      <th>4</th>\n",
       "      <td>29641040</td>\n",
       "      <td>01/06/2015 02:03:11 AM</td>\n",
       "      <td>01/06/2015 02:36:38 AM</td>\n",
       "      <td>NYPD</td>\n",
       "      <td>New York City Police Department</td>\n",
       "      <td>Noise - Street/Sidewalk</td>\n",
       "      <td>Loud Talking</td>\n",
       "      <td>Street/Sidewalk</td>\n",
       "      <td>10022.0</td>\n",
       "      <td>238 EAST 58 STREET</td>\n",
       "      <td>...</td>\n",
       "      <td>NaN</td>\n",
       "      <td>NaN</td>\n",
       "      <td>NaN</td>\n",
       "      <td>NaN</td>\n",
       "      <td>NaN</td>\n",
       "      <td>NaN</td>\n",
       "      <td>NaN</td>\n",
       "      <td>40.760497</td>\n",
       "      <td>-73.966047</td>\n",
       "      <td>(40.76049674396275, -73.96604690111288)</td>\n",
       "    </tr>\n",
       "  </tbody>\n",
       "</table>\n",
       "<p>5 rows × 52 columns</p>\n",
       "</div>"
      ]
     },
     "metadata": {},
     "execution_count": 2
    }
   ],
   "metadata": {}
  },
  {
   "cell_type": "code",
   "execution_count": 5,
   "source": [
    "vc = df[\"Complaint Type\"].value_counts()"
   ],
   "outputs": [],
   "metadata": {}
  },
  {
   "cell_type": "code",
   "execution_count": 9,
   "source": [
    "# List of all unique Complaints\r\n",
    "vc[vc == 1]\r\n",
    "# How Many?\r\n",
    "len(vc[vc == 1])"
   ],
   "outputs": [
    {
     "output_type": "execute_result",
     "data": {
      "text/plain": [
       "10"
      ]
     },
     "metadata": {},
     "execution_count": 9
    }
   ],
   "metadata": {}
  },
  {
   "cell_type": "code",
   "execution_count": 12,
   "source": [
    "# Frrequrency of 20 most frequent complaints:\r\n",
    "top20 = vc[:20]\r\n",
    "top20.plot(kind=\"bar\")"
   ],
   "outputs": [
    {
     "output_type": "execute_result",
     "data": {
      "text/plain": [
       "<AxesSubplot:>"
      ]
     },
     "metadata": {},
     "execution_count": 12
    },
    {
     "output_type": "display_data",
     "data": {
      "text/plain": [
       "<Figure size 432x288 with 1 Axes>"
      ],
      "image/png": "[encoded data removed]"
     },
     "metadata": {
      "needs_background": "light"
     }
    }
   ],
   "metadata": {}
  },
  {
   "cell_type": "code",
   "execution_count": 14,
   "source": [
    "# Normalise the value counts plot\r\n",
    "df[\"Complaint Type\"].value_counts(normalize=True).plot()\r\n"
   ],
   "outputs": [
    {
     "output_type": "execute_result",
     "data": {
      "text/plain": [
       "<AxesSubplot:>"
      ]
     },
     "metadata": {},
     "execution_count": 14
    },
    {
     "output_type": "display_data",
     "data": {
      "text/plain": [
       "<Figure size 432x288 with 1 Axes>"
      ],
      "image/png": "[encoded data removed]"
     },
     "metadata": {
      "needs_background": "light"
     }
    }
   ],
   "metadata": {}
  },
  {
   "cell_type": "code",
   "execution_count": 20,
   "source": [
    "vc.apply(lambda x: x/sum(vc)).plot()"
   ],
   "outputs": [
    {
     "output_type": "execute_result",
     "data": {
      "text/plain": [
       "<AxesSubplot:>"
      ]
     },
     "metadata": {},
     "execution_count": 20
    },
    {
     "output_type": "display_data",
     "data": {
      "text/plain": [
       "<Figure size 432x288 with 1 Axes>"
      ],
      "image/png": "[encoded data removed]"
     },
     "metadata": {
      "needs_background": "light"
     }
    }
   ],
   "metadata": {}
  },
  {
   "cell_type": "code",
   "execution_count": 25,
   "source": [
    "x = (vc.apply(lambda x: x/sum(vc)) == df[\"Complaint Type\"].value_counts(normalize=True))\r\n",
    "x.value_counts()"
   ],
   "outputs": [
    {
     "output_type": "execute_result",
     "data": {
      "text/plain": [
       "True    196\n",
       "Name: Complaint Type, dtype: int64"
      ]
     },
     "metadata": {},
     "execution_count": 25
    }
   ],
   "metadata": {}
  },
  {
   "cell_type": "markdown",
   "source": [
    "## Note\r\n",
    "\r\n",
    "It seems that ```value_counts(normalise = True)``` and the _lambda()_ method are idential.\r\n",
    "However, the difference lies in how the **NaN** values are dealt with.\r\n",
    "\r\n",
    "One of them drops Na's before processing while the other includes it in the division"
   ],
   "metadata": {}
  },
  {
   "cell_type": "code",
   "execution_count": 45,
   "source": [
    "# Find zip code through Borough\r\n",
    "\r\n",
    "## Select only Borough and IncidentZip columns\r\n",
    "df2  = df[[\"Borough\",\"Incident Zip\"]]\r\n",
    "\r\n",
    "# Remove rows where either of the two columns are null\r\n",
    "df2 = df2[df2[\"Borough\"].notnull() & df2[\"Incident Zip\"].notnull()]\r\n",
    "df2[\"Incident Zip\"]"
   ],
   "outputs": [
    {
     "output_type": "execute_result",
     "data": {
      "text/plain": [
       "1         11372.0\n",
       "2         11416.0\n",
       "3         11233.0\n",
       "4         10022.0\n",
       "5         11368.0\n",
       "           ...   \n",
       "331049    10012.0\n",
       "331050    10452.0\n",
       "331051    10472.0\n",
       "331052    10036.0\n",
       "331053    11385.0\n",
       "Name: Incident Zip, Length: 298301, dtype: object"
      ]
     },
     "metadata": {},
     "execution_count": 45
    }
   ],
   "metadata": {}
  },
  {
   "cell_type": "code",
   "execution_count": 47,
   "source": [
    "df2.drop_duplicates(subset=\"Incident Zip\")"
   ],
   "outputs": [
    {
     "output_type": "execute_result",
     "data": {
      "text/plain": [
       "            Borough Incident Zip\n",
       "1            QUEENS      11372.0\n",
       "2            QUEENS      11416.0\n",
       "3          BROOKLYN      11233.0\n",
       "4         MANHATTAN      10022.0\n",
       "5            QUEENS      11368.0\n",
       "...             ...          ...\n",
       "324199  Unspecified        11580\n",
       "324984  Unspecified        07047\n",
       "325123  Unspecified        10708\n",
       "325649  Unspecified        10583\n",
       "330504       QUEENS      11576.0\n",
       "\n",
       "[513 rows x 2 columns]"
      ],
      "text/html": [
       "<div>\n",
       "<style scoped>\n",
       "    .dataframe tbody tr th:only-of-type {\n",
       "        vertical-align: middle;\n",
       "    }\n",
       "\n",
       "    .dataframe tbody tr th {\n",
       "        vertical-align: top;\n",
       "    }\n",
       "\n",
       "    .dataframe thead th {\n",
       "        text-align: right;\n",
       "    }\n",
       "</style>\n",
       "<table border=\"1\" class=\"dataframe\">\n",
       "  <thead>\n",
       "    <tr style=\"text-align: right;\">\n",
       "      <th></th>\n",
       "      <th>Borough</th>\n",
       "      <th>Incident Zip</th>\n",
       "    </tr>\n",
       "  </thead>\n",
       "  <tbody>\n",
       "    <tr>\n",
       "      <th>1</th>\n",
       "      <td>QUEENS</td>\n",
       "      <td>11372.0</td>\n",
       "    </tr>\n",
       "    <tr>\n",
       "      <th>2</th>\n",
       "      <td>QUEENS</td>\n",
       "      <td>11416.0</td>\n",
       "    </tr>\n",
       "    <tr>\n",
       "      <th>3</th>\n",
       "      <td>BROOKLYN</td>\n",
       "      <td>11233.0</td>\n",
       "    </tr>\n",
       "    <tr>\n",
       "      <th>4</th>\n",
       "      <td>MANHATTAN</td>\n",
       "      <td>10022.0</td>\n",
       "    </tr>\n",
       "    <tr>\n",
       "      <th>5</th>\n",
       "      <td>QUEENS</td>\n",
       "      <td>11368.0</td>\n",
       "    </tr>\n",
       "    <tr>\n",
       "      <th>...</th>\n",
       "      <td>...</td>\n",
       "      <td>...</td>\n",
       "    </tr>\n",
       "    <tr>\n",
       "      <th>324199</th>\n",
       "      <td>Unspecified</td>\n",
       "      <td>11580</td>\n",
       "    </tr>\n",
       "    <tr>\n",
       "      <th>324984</th>\n",
       "      <td>Unspecified</td>\n",
       "      <td>07047</td>\n",
       "    </tr>\n",
       "    <tr>\n",
       "      <th>325123</th>\n",
       "      <td>Unspecified</td>\n",
       "      <td>10708</td>\n",
       "    </tr>\n",
       "    <tr>\n",
       "      <th>325649</th>\n",
       "      <td>Unspecified</td>\n",
       "      <td>10583</td>\n",
       "    </tr>\n",
       "    <tr>\n",
       "      <th>330504</th>\n",
       "      <td>QUEENS</td>\n",
       "      <td>11576.0</td>\n",
       "    </tr>\n",
       "  </tbody>\n",
       "</table>\n",
       "<p>513 rows × 2 columns</p>\n",
       "</div>"
      ]
     },
     "metadata": {},
     "execution_count": 47
    }
   ],
   "metadata": {}
  },
  {
   "cell_type": "code",
   "execution_count": 58,
   "source": [
    "df2.set_index('Incident Zip')[\"Borough\"]"
   ],
   "outputs": [
    {
     "output_type": "execute_result",
     "data": {
      "text/plain": [
       "Incident Zip\n",
       "11372.0       QUEENS\n",
       "11416.0       QUEENS\n",
       "11233.0     BROOKLYN\n",
       "10022.0    MANHATTAN\n",
       "11368.0       QUEENS\n",
       "             ...    \n",
       "10012.0    MANHATTAN\n",
       "10452.0        BRONX\n",
       "10472.0        BRONX\n",
       "10036.0    MANHATTAN\n",
       "11385.0       QUEENS\n",
       "Name: Borough, Length: 298301, dtype: object"
      ]
     },
     "metadata": {},
     "execution_count": 58
    }
   ],
   "metadata": {}
  },
  {
   "cell_type": "code",
   "execution_count": null,
   "source": [],
   "outputs": [],
   "metadata": {}
  }
 ],
 "metadata": {
  "orig_nbformat": 4,
  "language_info": {
   "name": "python",
   "version": "3.9.5",
   "mimetype": "text/x-python",
   "codemirror_mode": {
    "name": "ipython",
    "version": 3
   },
   "pygments_lexer": "ipython3",
   "nbconvert_exporter": "python",
   "file_extension": ".py"
  },
  "kernelspec": {
   "name": "python3",
   "display_name": "Python 3.9.5 64-bit ('mis-s381n': conda)"
  },
  "interpreter": {
   "hash": "e5b1541b0a1a84e3211cbea9f4124df9067eaf6cd09ed5b6ae3071e8db40a93f"
  }
 },
 "nbformat": 4,
 "nbformat_minor": 2
}