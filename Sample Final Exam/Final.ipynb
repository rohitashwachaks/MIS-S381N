{
 "cells": [
  {
   "cell_type": "code",
   "execution_count": 1,
   "source": [
    "from pandas import Series, DataFrame\n",
    "import pandas as pd\n",
    "%pylab inline"
   ],
   "outputs": [
    {
     "output_type": "stream",
     "name": "stdout",
     "text": [
      "Populating the interactive namespace from numpy and matplotlib\n"
     ]
    }
   ],
   "metadata": {}
  },
  {
   "cell_type": "markdown",
   "source": [
    "---\n",
    "\n",
    "The exam has 20 questions.\n",
    "* Q1 is a conceptual question with 3 parts, each worth 3 points.\n",
    "* Q2-Q19 is about a dataset of drug overdoses.\n",
    "    * Q2 is worth 3 points\n",
    "    * Q3-Q15 are worth 4 points each\n",
    "    * Q16-Q18 are worth 6 points each\n",
    "    * Q19 is worth 8 points\n",
    "* Q20 is a classification question on a dataset of chess games.\n",
    "    * Part (a) is worth 7 points\n",
    "    * Part (b) is worth 3 points\n",
    "\n",
    "*Best of luck!*\n",
    "\n",
    "---"
   ],
   "metadata": {}
  },
  {
   "cell_type": "markdown",
   "source": [
    "![Figures](Figures.png)\n",
    "\n",
    "Consider the two datasets above, where the two colors correspond to two different classes. For the following questions, provide a short reason for your answers. You may use the points named in the figures (from A to P) for your explanations. If there are multiple possible choices for your answer, you can provide any one."
   ],
   "metadata": {}
  },
  {
   "cell_type": "markdown",
   "source": [
    "### [Q1(a) 3 points]\n",
    "Which dataset can I classify better using a depth-1 decision tree (which only allows one top-level split)?"
   ],
   "metadata": {}
  },
  {
   "cell_type": "markdown",
   "source": [
    "*Fill in*"
   ],
   "metadata": {}
  },
  {
   "cell_type": "markdown",
   "source": [
    "### [Q1(b) 3 points]\n",
    "Which dataset can I classify better using a depth-2 decision tree?"
   ],
   "metadata": {}
  },
  {
   "cell_type": "markdown",
   "source": [
    "*Fill in*"
   ],
   "metadata": {}
  },
  {
   "cell_type": "markdown",
   "source": [
    "### [Q1(c) 3 points]\n",
    "Can any linear separator achieve better than 50% accuracy on Dataset 1? Why or why not?"
   ],
   "metadata": {}
  },
  {
   "cell_type": "markdown",
   "source": [
    "*Fill in*"
   ],
   "metadata": {}
  },
  {
   "cell_type": "markdown",
   "source": [
    "---\n",
    "\n",
    "We will consider a dataset (*overdoses.csv*) where each row represents one drug-related death in Connecticut. We will use the following fields:\n",
    "* Date, Age, Sex, and Race are self-explanatory\n",
    "* ResidenceCity and ResidenceCounty are the city and county where the deceased person lived.\n",
    "* DeathCity and DeathCounty are the city and county where the death was reported.\n",
    "* COD is a text string for the Cause Of Death\n",
    "* Location is the place where the person died. For example, it could be a Hospital.\n",
    "* LocationifOther is an extra string giving more details about the Location.\n",
    "* There are many columns for individual drugs. For example, under the column named \"Heroin\", we have a \"Y\" if the person had Heroin in their blood. If there was no Heroin in their blood, the value is missing.\n",
    "    * Sometimes the value may be something other than a \"Y\". When this happens, we will just think of it as missing.\n",
    "    * The \"Other\" column lists drug names instead of a \"Y\". We will ignore the \"Other\" column.\n",
    "* DeathCityGeo and ResidenceCityGeo give latitude and longitude coordinates for the death and residence cities\n",
    "\n",
    "### [Q2 3 points] Read in overdoses.csv\n",
    "\n",
    "Print the SECOND row."
   ],
   "metadata": {}
  },
  {
   "cell_type": "code",
   "execution_count": 26,
   "source": [
    "overdose = pd.read_csv(\"overdoses.csv\", index_col=0)\n",
    "overdose.iloc[1]"
   ],
   "outputs": [
    {
     "output_type": "execute_result",
     "data": {
      "text/plain": [
       "Date                                        3/21/2013 0:00\n",
       "DateType                                       DateofDeath\n",
       "Age                                                   48.0\n",
       "Sex                                                   Male\n",
       "Race                                                 Black\n",
       "ResidenceCity                                      NORWALK\n",
       "ResidenceCounty                                        NaN\n",
       "ResidenceState                                         NaN\n",
       "DeathCity                                          NORWALK\n",
       "DeathCounty                                      FAIRFIELD\n",
       "Location                                          Hospital\n",
       "LocationifOther                                        NaN\n",
       "DescriptionofInjury                                    NaN\n",
       "InjuryPlace                                            NaN\n",
       "InjuryCity                                             NaN\n",
       "InjuryCounty                                           NaN\n",
       "InjuryState                                            NaN\n",
       "COD                                   Cocaine Intoxication\n",
       "OtherSignifican                                        NaN\n",
       "Heroin                                                 NaN\n",
       "Cocaine                                                  Y\n",
       "Fentanyl                                               NaN\n",
       "FentanylAnalogue                                       NaN\n",
       "Oxycodone                                              NaN\n",
       "Oxymorphone                                            NaN\n",
       "Ethanol                                                NaN\n",
       "Hydrocodone                                            NaN\n",
       "Benzodiazepine                                         NaN\n",
       "Methadone                                              NaN\n",
       "Amphet                                                 NaN\n",
       "Tramad                                                 NaN\n",
       "Morphine_NotHeroin                                     NaN\n",
       "Hydromorphone                                          NaN\n",
       "Other                                                  NaN\n",
       "OpiateNOS                                              NaN\n",
       "AnyOpioid                                              NaN\n",
       "MannerofDeath                                     Accident\n",
       "DeathCityGeo           Norwalk, CT\\n(41.11805, -73.412906)\n",
       "ResidenceCityGeo       NORWALK, CT\\n(41.11805, -73.412906)\n",
       "InjuryCityGeo                  CT\\n(41.575155, -72.738288)\n",
       "Name: 13-0102, dtype: object"
      ]
     },
     "metadata": {},
     "execution_count": 26
    }
   ],
   "metadata": {}
  },
  {
   "cell_type": "markdown",
   "source": [
    "\n",
    "In some of the following questions, we will need to access the columns corresponding to various drugs.\n",
    "To make it easier, I have created a list called **drug_names** that you should use in your code. \n",
    "\n",
    "* You will need this in Q14, Q16, Q18, and Q19.\n",
    "\n",
    "**Make sure you run this code cell before proceeding**"
   ],
   "metadata": {}
  },
  {
   "cell_type": "code",
   "execution_count": 2,
   "source": [
    "drug_names = ['Heroin', 'Cocaine', 'Fentanyl', 'FentanylAnalogue', 'Oxycodone', 'Oxymorphone',\n",
    "              'Ethanol', 'Hydrocodone', 'Benzodiazepine', 'Methadone', 'Amphet', 'Tramad',\n",
    "              'Morphine_NotHeroin', 'Hydromorphone', 'OpiateNOS', 'AnyOpioid']"
   ],
   "outputs": [],
   "metadata": {}
  },
  {
   "cell_type": "markdown",
   "source": [
    "### [Q3 4 points] What is the ratio of Males to Females in this dataset?"
   ],
   "metadata": {}
  },
  {
   "cell_type": "code",
   "execution_count": null,
   "source": [],
   "outputs": [],
   "metadata": {}
  },
  {
   "cell_type": "markdown",
   "source": [
    "### [Q4 4 points] How often is the DeathCity the same as the ResidenceCity?"
   ],
   "metadata": {}
  },
  {
   "cell_type": "code",
   "execution_count": null,
   "source": [],
   "outputs": [],
   "metadata": {}
  },
  {
   "cell_type": "markdown",
   "source": [
    "### [Q5 4 points] How many rows are missing either the ResidenceCity or the DeathCity or both?"
   ],
   "metadata": {}
  },
  {
   "cell_type": "code",
   "execution_count": null,
   "source": [],
   "outputs": [],
   "metadata": {}
  },
  {
   "cell_type": "markdown",
   "source": [
    "### [Q6 4 points] Cities per county\n",
    "\n",
    "Print out the number of unique DeathCity in each DeathCounty.\n",
    "* Sometimes either DeathCity or DeathCounty is missing. You should not count these missing rows.\n",
    "* You will find one obviously-wrong value for DeathCounty. Don't worry about it."
   ],
   "metadata": {}
  },
  {
   "cell_type": "code",
   "execution_count": null,
   "source": [],
   "outputs": [],
   "metadata": {}
  },
  {
   "cell_type": "markdown",
   "source": [
    "### [Q7 4 points] Drugs for age groups\n",
    "\n",
    "Split the deaths into 5 equal-sized groups based on Age.\n",
    "* Each group should have (roughly) the same number of people.\n",
    "\n",
    "Find the most common COD for each age group."
   ],
   "metadata": {}
  },
  {
   "cell_type": "code",
   "execution_count": null,
   "source": [],
   "outputs": [],
   "metadata": {}
  },
  {
   "cell_type": "markdown",
   "source": [
    "### [Q8 4 points] Among deaths where the Location of death was a person's Residence, find the number of deaths in each ResidenceCity.\n",
    "\n",
    "Plot the number of such deaths in the top-10 Residence Cities."
   ],
   "metadata": {}
  },
  {
   "cell_type": "code",
   "execution_count": null,
   "source": [],
   "outputs": [],
   "metadata": {}
  },
  {
   "cell_type": "markdown",
   "source": [
    "### [Q9 4 points] For each Race, find the most common Sex among those who died."
   ],
   "metadata": {}
  },
  {
   "cell_type": "code",
   "execution_count": null,
   "source": [],
   "outputs": [],
   "metadata": {}
  },
  {
   "cell_type": "markdown",
   "source": [
    "### [Q10 4 points] Among the deaths where the COD is \"Cocaine Intoxication\", what fraction has a 'Y' under the Cocaine column?"
   ],
   "metadata": {}
  },
  {
   "cell_type": "code",
   "execution_count": null,
   "source": [],
   "outputs": [],
   "metadata": {}
  },
  {
   "cell_type": "markdown",
   "source": [
    "### [Q11 4 points] Among deaths where Cocaine is detected but the COD does not mention 'Cocaine' or 'COCAINE', what is the most common COD?"
   ],
   "metadata": {}
  },
  {
   "cell_type": "code",
   "execution_count": null,
   "source": [],
   "outputs": [],
   "metadata": {}
  },
  {
   "cell_type": "markdown",
   "source": [
    "### [Q12 4 points] Plot number of deaths by Race.\n",
    "\n",
    "Remove the \"Unknown\" Race from the plot."
   ],
   "metadata": {}
  },
  {
   "cell_type": "code",
   "execution_count": null,
   "source": [],
   "outputs": [],
   "metadata": {}
  },
  {
   "cell_type": "markdown",
   "source": [
    "### [Q13 4 points] LocationifOther data check\n",
    "\n",
    "The LocationifOther column is supposed to be used only if the Location column has the value \"Other\". Let us check this.\n",
    "\n",
    "Count the number of rows where LocationifOther is not missing, but Location is not Other."
   ],
   "metadata": {}
  },
  {
   "cell_type": "code",
   "execution_count": null,
   "source": [],
   "outputs": [],
   "metadata": {}
  },
  {
   "cell_type": "markdown",
   "source": [
    "### [Q14 4 points] What drugs never co-occur with OpiateNOS?\n",
    "\n",
    "Two drugs co-occur if there is at least one death where both those drugs had a \"Y\" under their columns.\n",
    "You should consider all the drugs whose names are listed in **drug_names**."
   ],
   "metadata": {}
  },
  {
   "cell_type": "code",
   "execution_count": null,
   "source": [],
   "outputs": [],
   "metadata": {}
  },
  {
   "cell_type": "markdown",
   "source": [
    "### [Q15 4 points] Create a column called DeathCityLatLong\n",
    "\n",
    "Extract the latitude and longitude from the DeathCityGeo column. For example,\n",
    "* If DeathCityGeo is \"Norwalk, CT\\n(41.11805, -73.412906)\", then the DeathCityLatLong column should have the value \"41.11805, -73.412906\"\n",
    "\n",
    "Print out the DeathCityGeo and DeathCityLatLong columns for the first 5 rows."
   ],
   "metadata": {}
  },
  {
   "cell_type": "code",
   "execution_count": null,
   "source": [],
   "outputs": [],
   "metadata": {}
  },
  {
   "cell_type": "markdown",
   "source": [
    "### [Q16 6 points] Data check\n",
    "\n",
    "* Find all deaths where the COD has two words, and the last word is Intoxication. Call these \"one-COD deaths\".\n",
    "    * For example, if COD is \"Cocaine Intoxication\", then it is a one-COD death.\n",
    "    * But if COD is \"Cocaine and Heroin Intoxication\", it is not a one-COD death.\n",
    "* For every one-COD death, figure out how many drug_names were found in the person's blood\n",
    "    * So if there was a \"Y\" under the columns \"Cocaine\" and \"AnyOpioid\", we count that as 2 drugs.\n",
    "* Find out how many \"one-COD deaths\" actually had two or more drug_names in the person's blood.\n",
    "\n",
    "**Note**: You may find that \"Heroin\" and \"AnyOpioid\" are both \"Y\", but the COD only says \"Heroin Intoxication\". We will count that as two drugs in the person's blood, even though Heroin is actually an Opioid and this is not really a data error."
   ],
   "metadata": {}
  },
  {
   "cell_type": "code",
   "execution_count": null,
   "source": [],
   "outputs": [],
   "metadata": {}
  },
  {
   "cell_type": "markdown",
   "source": [
    "### [ Q17 6 points] Plot the number of deaths every month.\n",
    "\n",
    "The x-axis should be the month, and the y-axis the number of deaths (i.e., rows) for that month."
   ],
   "metadata": {}
  },
  {
   "cell_type": "code",
   "execution_count": null,
   "source": [],
   "outputs": [],
   "metadata": {}
  },
  {
   "cell_type": "markdown",
   "source": [
    "### [Q18 6 points] Drug Cocktails\n",
    "Look at deaths where COD mentions the word 'COMBINED'.\n",
    "Among these deaths, count how many drugs were involved by checking how many of the drug name columns had a 'Y'\n",
    "Show a bar plot where the x-axis is the number of drugs used, and the y-axis is the number of deaths caused by this drug cocktail."
   ],
   "metadata": {}
  },
  {
   "cell_type": "code",
   "execution_count": null,
   "source": [],
   "outputs": [],
   "metadata": {}
  },
  {
   "cell_type": "markdown",
   "source": [
    "### [Q19 8 points] Differences between races\n",
    "\n",
    "* For each DeathCity and Race, figure out how many people had a particular drug in their blood when they died. For example,\n",
    "    * among Whites in City A, there may be 50 deaths with Cocaine and 12 with Heroin.\n",
    "    * among Asians in City A, there may be 30 Heroin and 20 Cocaine deaths.\n",
    "    * among Hispanics in City A, there may be 19 Cocaine and 18 Heroin deaths.\n",
    "* Now, figure out the top drug which caused the most deaths for each DeathCity and Race. Only consider drugs that killed at least 20 people of that Race in that DeathCity; if there is no such drug, just act as if no one of that Race died in that DeathCity.\n",
    "    * among Whites in City A, Cocaine is the top drug.\n",
    "    * among Asians in City A, it is Heroin.\n",
    "    * among Hispanics in City A, no drug led to at least 20 deaths, so there is no top drug.\n",
    "* Now, print out the DeathCities for which the top drug is different for at least two Races.\n",
    "    * Since the top drugs in City A are Cocaine (Whites) and Heroin (Asians), print out City A.\n",
    "    * But if a City B had Cocaine (Whites) and Cocaine (Asians), don't print out City B.\n",
    "    * Or if a City C had Heroin (Asians) but no other race had enough deaths to have a top drug, don't print out City C."
   ],
   "metadata": {}
  },
  {
   "cell_type": "code",
   "execution_count": null,
   "source": [],
   "outputs": [],
   "metadata": {}
  },
  {
   "cell_type": "markdown",
   "source": [
    "---\n",
    "\n",
    "We will try to predict chess games, using the file *games.csv*.\n",
    "\n",
    "### [Q20(a) 7 points] Train and test accuracies\n",
    "\n",
    "* Load in the games.csv file. \n",
    "* Split it into training and testing sets, where 80% of the data is used for training. \n",
    "* Use a logistic regression classifier to predict whether white will win or not.\n",
    "    * Check if the \"winner\" column is \"white\" or not.\n",
    "    * You should only use \"white_rating\", \"black_rating\" and \"opening_name\" as features. Don't use any other columns as features.\n",
    "* Print the training and test accuracies."
   ],
   "metadata": {}
  },
  {
   "cell_type": "code",
   "execution_count": null,
   "source": [],
   "outputs": [],
   "metadata": {}
  },
  {
   "cell_type": "markdown",
   "source": [
    "### [Q20(b) 3 points] Probability of win\n",
    "\n",
    "Print the probability of white winning a game where the game has the following features:\n",
    "* white_rating is 2000\n",
    "* black_rating is 1500\n",
    "* All other features are exactly the same as in the first row of the games.csv file."
   ],
   "metadata": {}
  },
  {
   "cell_type": "code",
   "execution_count": null,
   "source": [],
   "outputs": [],
   "metadata": {}
  }
 ],
 "metadata": {
  "kernelspec": {
   "name": "python3",
   "display_name": "Python 3.9.6 64-bit ('mis-381n': conda)"
  },
  "language_info": {
   "codemirror_mode": {
    "name": "ipython",
    "version": 3
   },
   "file_extension": ".py",
   "mimetype": "text/x-python",
   "name": "python",
   "nbconvert_exporter": "python",
   "pygments_lexer": "ipython3",
   "version": "3.9.6"
  },
  "interpreter": {
   "hash": "06b40021540639983462c9e311a6ff423d5a2e962ab45520e073600d5efc95cc"
  }
 },
 "nbformat": 4,
 "nbformat_minor": 4
}