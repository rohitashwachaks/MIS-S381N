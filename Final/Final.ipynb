{
 "cells": [
  {
   "cell_type": "code",
   "execution_count": 1,
   "source": [
    "import pandas as pd\n",
    "from pandas import Series, DataFrame\n",
    "%pylab inline"
   ],
   "outputs": [
    {
     "output_type": "stream",
     "name": "stdout",
     "text": [
      "Populating the interactive namespace from numpy and matplotlib\n"
     ]
    }
   ],
   "metadata": {}
  },
  {
   "cell_type": "markdown",
   "source": [
    "### Q1 [12 points] Classification\n",
    "\n",
    "Consider the following 2 datasets, each of which has equal numbers of red and blue points.\n",
    "\n",
    "![both](both.png)"
   ],
   "metadata": {}
  },
  {
   "cell_type": "markdown",
   "source": [
    "### Q1(a) [4 points] Suppose you can build a decision tree to classify the red points from the blue points. \n",
    "You can set the depth anywhere between 1 and 10 (recall that depth 1 means you get to split at most once).\n",
    "Which depth gives you the best training accuracy for dataset 1? And for dataset 2?\n",
    "If several choices for depth achieve the highest accuracy, report the smallest depth that achieves that accuracy."
   ],
   "metadata": {}
  },
  {
   "cell_type": "markdown",
   "source": [
    "## Answer\n",
    "\n",
    "A Depth of 4 will give us the best accuracy for Dataset 1 and Dataset 2"
   ],
   "metadata": {}
  },
  {
   "cell_type": "markdown",
   "source": [
    "### Q1(b) [4 points] What is the accuracy achieved by logistic regression on dataset 1? On dataset 2?\n",
    "\n",
    "For dataset 2, you may give an approximate answer assuming that the red and blue circles are very very close to each other."
   ],
   "metadata": {}
  },
  {
   "cell_type": "markdown",
   "source": [
    "**Fill in**"
   ],
   "metadata": {}
  },
  {
   "cell_type": "markdown",
   "source": [
    "### Q1(c) [4 points] What accuracy would a K-Nearest Neighbors algorithm achieve on dataset 1? On dataset 2?\n",
    "\n",
    "You may assume a reasonably large value for K, say, K=20. You can also assume that the points are uniformly spread out over the circles, and for dataset 2, the two circles are very very close to each other."
   ],
   "metadata": {}
  },
  {
   "cell_type": "markdown",
   "source": [
    "**Fill in**"
   ],
   "metadata": {}
  },
  {
   "cell_type": "markdown",
   "source": [
    "---\n",
    "\n",
    "We will consider a dataset where each row is one active businesses in the Los Angeles area. We care about the following fields:\n",
    "* BUSINESS NAME, STREET ADDRESS, CITY, ZIP CODE: self-explanatory\n",
    "* MAILING ADDRESS, MAILING CITY, MAILING ZIP CODE: these correspond to locations where letters addressed to the business need to be mailed\n",
    "* LOCATION DESCRIPTION: a column that combines the street name and zip code\n",
    "* NAICS: North American Industry Classification System (essentially the type of business)\n",
    "* PRIMARY NAICS DESCRIPTION: a description of the NAICS code\n",
    "* COUNCIL DISTRICT: another location identifier\n",
    "* LOCATION START DATE: when did the business start using this location.\n",
    "\n",
    "*Note*: You can assume that STREET ADDRESS has no NaNs. However, **there may be NaNs in all other columns, and your code may need to account for that if necessary!**"
   ],
   "metadata": {}
  },
  {
   "cell_type": "markdown",
   "source": [
    "### Q2 [3 points] Read in \"ActiveBusinesses.csv\" and print the first line."
   ],
   "metadata": {}
  },
  {
   "cell_type": "code",
   "execution_count": 4,
   "source": [
    "activeBusiness = pd.read_csv(\"ActiveBusinesses.csv\")\n",
    "activeBusiness.iloc[0]"
   ],
   "outputs": [
    {
     "output_type": "execute_result",
     "data": {
      "text/plain": [
       "LOCATION ACCOUNT #                                           0002737837-0001-4\n",
       "BUSINESS NAME                                            ERDEM ENTERPRISES LLC\n",
       "DBA NAME                                                                   NaN\n",
       "STREET ADDRESS                               6177 N LINCOLN AVENUE   UNIT #337\n",
       "CITY                                                                   CHICAGO\n",
       "ZIP CODE                                                            60659-2313\n",
       "LOCATION DESCRIPTION                                        6177 LINCOLN 60659\n",
       "MAILING ADDRESS                          5805   WHITE OAK AVENUE   UNIT #16999\n",
       "MAILING CITY                                                            ENCINO\n",
       "MAILING ZIP CODE                                                    91416-5052\n",
       "NAICS                                                                 512100.0\n",
       "PRIMARY NAICS DESCRIPTION    Motion picture & video industries (except vide...\n",
       "COUNCIL DISTRICT                                                             0\n",
       "LOCATION START DATE                                                 03/13/2014\n",
       "LOCATION END DATE                                                          NaN\n",
       "LOCATION                                                   (41.9939, -87.7129)\n",
       "Name: 0, dtype: object"
      ]
     },
     "metadata": {},
     "execution_count": 4
    }
   ],
   "metadata": {}
  },
  {
   "cell_type": "markdown",
   "source": [
    "### Q3 [4 points] Businesses with the same street address.\n",
    "\n",
    "Find the most frequent STREET ADDRESS (i.e., the STREET ADDRESS that shows up in the most rows). List all the BUSINESS NAMEs at that STREET ADDRESS."
   ],
   "metadata": {}
  },
  {
   "cell_type": "code",
   "execution_count": 9,
   "source": [
    "q1 = activeBusiness[\"STREET ADDRESS\"].value_counts().sort_values(ascending=False).idxmax()\n",
    "print(\"Most common Street address:\",q1)"
   ],
   "outputs": [
    {
     "output_type": "stream",
     "name": "stdout",
     "text": [
      "Most common Street address: 15821 VENTURA BLVD SUITE #370\n"
     ]
    }
   ],
   "metadata": {}
  },
  {
   "cell_type": "code",
   "execution_count": 12,
   "source": [
    "print(\"All businesses with address \",q1,\":\")\n",
    "print(list(activeBusiness[activeBusiness[\"STREET ADDRESS\"] == q1][\"BUSINESS NAME\"].values))"
   ],
   "outputs": [
    {
     "output_type": "stream",
     "name": "stdout",
     "text": [
      "All businesses with address  15821 VENTURA BLVD SUITE #370 :\n",
      "['HYPERSONIC, INC.', 'TWIN ENGINES LLC', 'COMANDANTE, LLC', 'PHILIP CHRISTOPHER HARVEY', 'DIA DE LOS DEFTONES LLC', 'SMOKIN CAMELS CARAVAN INC', 'BVB TOURING, INC.', 'ELLA MAI MUSIC INC', 'EMMIT FENN', 'KIDD KASH INC', 'HOT MILK INC', 'CC BLUE INC']\n"
     ]
    }
   ],
   "metadata": {}
  },
  {
   "cell_type": "markdown",
   "source": [
    "### Q4 [4 points] Plot the top 10 most frequent BUSINESS NAMEs.\n",
    "The x-axis should be the BUSINESS NAME, and the y-axis should be the number of rows with that BUSINESS NAME."
   ],
   "metadata": {}
  },
  {
   "cell_type": "code",
   "execution_count": 15,
   "source": [
    "activeBusiness[\"BUSINESS NAME\"].value_counts().sort_values(ascending=False)[:10].plot.bar()"
   ],
   "outputs": [
    {
     "output_type": "execute_result",
     "data": {
      "text/plain": [
       "<AxesSubplot:>"
      ]
     },
     "metadata": {},
     "execution_count": 15
    },
    {
     "output_type": "display_data",
     "data": {
      "text/plain": [
       "<Figure size 432x288 with 1 Axes>"
      ],
      "image/svg+xml": "<?xml version=\"1.0\" encoding=\"utf-8\" standalone=\"no\"?>\n<!DOCTYPE svg PUBLIC \"-//W3C//DTD SVG 1.1//EN\"\n  \"http://www.w3.org/Graphics/SVG/1.1/DTD/svg11.dtd\">\n<svg height=\"451.030625pt\" version=\"1.1\" viewBox=\"0 0 368.925 451.030625\" width=\"368.925pt\" xmlns=\"http://www.w3.org/2000/svg\" xmlns:xlink=\"http://www.w3.org/1999/xlink\">\n <metadata>\n  <rdf:RDF xmlns:cc=\"http://creativecommons.org/ns#\" xmlns:dc=\"http://purl.org/dc/elements/1.1/\" xmlns:rdf=\"http://www.w3.org/1999/02/22-rdf-syntax-ns#\">\n   <cc:Work>\n    <dc:type rdf:resource=\"http://purl.org/dc/dcmitype/StillImage\"/>\n    <dc:date>2021-08-13T14:09:39.211026</dc:date>\n    <dc:format>image/svg+xml</dc:format>\n    <dc:creator>\n     <cc:Agent>\n      <dc:title>Matplotlib v3.4.2, https://matplotlib.org/</dc:title>\n     </cc:Agent>\n    </dc:creator>\n   </cc:Work>\n  </rdf:RDF>\n </metadata>\n <defs>\n  <style type=\"text/css\">*{stroke-linecap:butt;stroke-linejoin:round;}</style>\n </defs>\n <g id=\"figure_1\">\n  <g id=\"patch_1\">\n   <path d=\"M -0 451.030625 \nL 368.925 451.030625 \nL 368.925 0 \nL -0 0 \nz\n\" style=\"fill:none;\"/>\n  </g>\n  <g id=\"axes_1\">\n   <g id=\"patch_2\">\n    <path d=\"M 26.925 224.64 \nL 361.725 224.64 \nL 361.725 7.2 \nL 26.925 7.2 \nz\n\" style=\"fill:#ffffff;\"/>\n   </g>\n   <g id=\"patch_3\">\n    <path clip-path=\"url(#pde00eebd88)\" d=\"M 35.295 224.64 \nL 52.035 224.64 \nL 52.035 17.554286 \nL 35.295 17.554286 \nz\n\" style=\"fill:#1f77b4;\"/>\n   </g>\n   <g id=\"patch_4\">\n    <path clip-path=\"url(#pde00eebd88)\" d=\"M 68.775 224.64 \nL 85.515 224.64 \nL 85.515 55.206234 \nL 68.775 55.206234 \nz\n\" style=\"fill:#1f77b4;\"/>\n   </g>\n   <g id=\"patch_5\">\n    <path clip-path=\"url(#pde00eebd88)\" d=\"M 102.255 224.64 \nL 118.995 224.64 \nL 118.995 55.206234 \nL 102.255 55.206234 \nz\n\" style=\"fill:#1f77b4;\"/>\n   </g>\n   <g id=\"patch_6\">\n    <path clip-path=\"url(#pde00eebd88)\" d=\"M 135.735 224.64 \nL 152.475 224.64 \nL 152.475 111.684156 \nL 135.735 111.684156 \nz\n\" style=\"fill:#1f77b4;\"/>\n   </g>\n   <g id=\"patch_7\">\n    <path clip-path=\"url(#pde00eebd88)\" d=\"M 169.215 224.64 \nL 185.955 224.64 \nL 185.955 111.684156 \nL 169.215 111.684156 \nz\n\" style=\"fill:#1f77b4;\"/>\n   </g>\n   <g id=\"patch_8\">\n    <path clip-path=\"url(#pde00eebd88)\" d=\"M 202.695 224.64 \nL 219.435 224.64 \nL 219.435 111.684156 \nL 202.695 111.684156 \nz\n\" style=\"fill:#1f77b4;\"/>\n   </g>\n   <g id=\"patch_9\">\n    <path clip-path=\"url(#pde00eebd88)\" d=\"M 236.175 224.64 \nL 252.915 224.64 \nL 252.915 130.51013 \nL 236.175 130.51013 \nz\n\" style=\"fill:#1f77b4;\"/>\n   </g>\n   <g id=\"patch_10\">\n    <path clip-path=\"url(#pde00eebd88)\" d=\"M 269.655 224.64 \nL 286.395 224.64 \nL 286.395 130.51013 \nL 269.655 130.51013 \nz\n\" style=\"fill:#1f77b4;\"/>\n   </g>\n   <g id=\"patch_11\">\n    <path clip-path=\"url(#pde00eebd88)\" d=\"M 303.135 224.64 \nL 319.875 224.64 \nL 319.875 130.51013 \nL 303.135 130.51013 \nz\n\" style=\"fill:#1f77b4;\"/>\n   </g>\n   <g id=\"patch_12\">\n    <path clip-path=\"url(#pde00eebd88)\" d=\"M 336.615 224.64 \nL 353.355 224.64 \nL 353.355 130.51013 \nL 336.615 130.51013 \nz\n\" style=\"fill:#1f77b4;\"/>\n   </g>\n   <g id=\"matplotlib.axis_1\">\n    <g id=\"xtick_1\">\n     <g id=\"line2d_1\">\n      <defs>\n       <path d=\"M 0 0 \nL 0 3.5 \n\" id=\"m69f19d9da5\" style=\"stroke:#000000;stroke-width:0.8;\"/>\n      </defs>\n      <g>\n       <use style=\"stroke:#000000;stroke-width:0.8;\" x=\"43.665\" xlink:href=\"#m69f19d9da5\" y=\"224.64\"/>\n      </g>\n     </g>\n     <g id=\"text_1\">\n      <!-- STARBUCKS CORPORATION -->\n      <g transform=\"translate(46.424375 367.086875)rotate(-90)scale(0.1 -0.1)\">\n       <defs>\n        <path d=\"M 3425 4513 \nL 3425 3897 \nQ 3066 4069 2747 4153 \nQ 2428 4238 2131 4238 \nQ 1616 4238 1336 4038 \nQ 1056 3838 1056 3469 \nQ 1056 3159 1242 3001 \nQ 1428 2844 1947 2747 \nL 2328 2669 \nQ 3034 2534 3370 2195 \nQ 3706 1856 3706 1288 \nQ 3706 609 3251 259 \nQ 2797 -91 1919 -91 \nQ 1588 -91 1214 -16 \nQ 841 59 441 206 \nL 441 856 \nQ 825 641 1194 531 \nQ 1563 422 1919 422 \nQ 2459 422 2753 634 \nQ 3047 847 3047 1241 \nQ 3047 1584 2836 1778 \nQ 2625 1972 2144 2069 \nL 1759 2144 \nQ 1053 2284 737 2584 \nQ 422 2884 422 3419 \nQ 422 4038 858 4394 \nQ 1294 4750 2059 4750 \nQ 2388 4750 2728 4690 \nQ 3069 4631 3425 4513 \nz\n\" id=\"DejaVuSans-53\" transform=\"scale(0.015625)\"/>\n        <path d=\"M -19 4666 \nL 3928 4666 \nL 3928 4134 \nL 2272 4134 \nL 2272 0 \nL 1638 0 \nL 1638 4134 \nL -19 4134 \nL -19 4666 \nz\n\" id=\"DejaVuSans-54\" transform=\"scale(0.015625)\"/>\n        <path d=\"M 2188 4044 \nL 1331 1722 \nL 3047 1722 \nL 2188 4044 \nz\nM 1831 4666 \nL 2547 4666 \nL 4325 0 \nL 3669 0 \nL 3244 1197 \nL 1141 1197 \nL 716 0 \nL 50 0 \nL 1831 4666 \nz\n\" id=\"DejaVuSans-41\" transform=\"scale(0.015625)\"/>\n        <path d=\"M 2841 2188 \nQ 3044 2119 3236 1894 \nQ 3428 1669 3622 1275 \nL 4263 0 \nL 3584 0 \nL 2988 1197 \nQ 2756 1666 2539 1819 \nQ 2322 1972 1947 1972 \nL 1259 1972 \nL 1259 0 \nL 628 0 \nL 628 4666 \nL 2053 4666 \nQ 2853 4666 3247 4331 \nQ 3641 3997 3641 3322 \nQ 3641 2881 3436 2590 \nQ 3231 2300 2841 2188 \nz\nM 1259 4147 \nL 1259 2491 \nL 2053 2491 \nQ 2509 2491 2742 2702 \nQ 2975 2913 2975 3322 \nQ 2975 3731 2742 3939 \nQ 2509 4147 2053 4147 \nL 1259 4147 \nz\n\" id=\"DejaVuSans-52\" transform=\"scale(0.015625)\"/>\n        <path d=\"M 1259 2228 \nL 1259 519 \nL 2272 519 \nQ 2781 519 3026 730 \nQ 3272 941 3272 1375 \nQ 3272 1813 3026 2020 \nQ 2781 2228 2272 2228 \nL 1259 2228 \nz\nM 1259 4147 \nL 1259 2741 \nL 2194 2741 \nQ 2656 2741 2882 2914 \nQ 3109 3088 3109 3444 \nQ 3109 3797 2882 3972 \nQ 2656 4147 2194 4147 \nL 1259 4147 \nz\nM 628 4666 \nL 2241 4666 \nQ 2963 4666 3353 4366 \nQ 3744 4066 3744 3513 \nQ 3744 3084 3544 2831 \nQ 3344 2578 2956 2516 \nQ 3422 2416 3680 2098 \nQ 3938 1781 3938 1306 \nQ 3938 681 3513 340 \nQ 3088 0 2303 0 \nL 628 0 \nL 628 4666 \nz\n\" id=\"DejaVuSans-42\" transform=\"scale(0.015625)\"/>\n        <path d=\"M 556 4666 \nL 1191 4666 \nL 1191 1831 \nQ 1191 1081 1462 751 \nQ 1734 422 2344 422 \nQ 2950 422 3222 751 \nQ 3494 1081 3494 1831 \nL 3494 4666 \nL 4128 4666 \nL 4128 1753 \nQ 4128 841 3676 375 \nQ 3225 -91 2344 -91 \nQ 1459 -91 1007 375 \nQ 556 841 556 1753 \nL 556 4666 \nz\n\" id=\"DejaVuSans-55\" transform=\"scale(0.015625)\"/>\n        <path d=\"M 4122 4306 \nL 4122 3641 \nQ 3803 3938 3442 4084 \nQ 3081 4231 2675 4231 \nQ 1875 4231 1450 3742 \nQ 1025 3253 1025 2328 \nQ 1025 1406 1450 917 \nQ 1875 428 2675 428 \nQ 3081 428 3442 575 \nQ 3803 722 4122 1019 \nL 4122 359 \nQ 3791 134 3420 21 \nQ 3050 -91 2638 -91 \nQ 1578 -91 968 557 \nQ 359 1206 359 2328 \nQ 359 3453 968 4101 \nQ 1578 4750 2638 4750 \nQ 3056 4750 3426 4639 \nQ 3797 4528 4122 4306 \nz\n\" id=\"DejaVuSans-43\" transform=\"scale(0.015625)\"/>\n        <path d=\"M 628 4666 \nL 1259 4666 \nL 1259 2694 \nL 3353 4666 \nL 4166 4666 \nL 1850 2491 \nL 4331 0 \nL 3500 0 \nL 1259 2247 \nL 1259 0 \nL 628 0 \nL 628 4666 \nz\n\" id=\"DejaVuSans-4b\" transform=\"scale(0.015625)\"/>\n        <path id=\"DejaVuSans-20\" transform=\"scale(0.015625)\"/>\n        <path d=\"M 2522 4238 \nQ 1834 4238 1429 3725 \nQ 1025 3213 1025 2328 \nQ 1025 1447 1429 934 \nQ 1834 422 2522 422 \nQ 3209 422 3611 934 \nQ 4013 1447 4013 2328 \nQ 4013 3213 3611 3725 \nQ 3209 4238 2522 4238 \nz\nM 2522 4750 \nQ 3503 4750 4090 4092 \nQ 4678 3434 4678 2328 \nQ 4678 1225 4090 567 \nQ 3503 -91 2522 -91 \nQ 1538 -91 948 565 \nQ 359 1222 359 2328 \nQ 359 3434 948 4092 \nQ 1538 4750 2522 4750 \nz\n\" id=\"DejaVuSans-4f\" transform=\"scale(0.015625)\"/>\n        <path d=\"M 1259 4147 \nL 1259 2394 \nL 2053 2394 \nQ 2494 2394 2734 2622 \nQ 2975 2850 2975 3272 \nQ 2975 3691 2734 3919 \nQ 2494 4147 2053 4147 \nL 1259 4147 \nz\nM 628 4666 \nL 2053 4666 \nQ 2838 4666 3239 4311 \nQ 3641 3956 3641 3272 \nQ 3641 2581 3239 2228 \nQ 2838 1875 2053 1875 \nL 1259 1875 \nL 1259 0 \nL 628 0 \nL 628 4666 \nz\n\" id=\"DejaVuSans-50\" transform=\"scale(0.015625)\"/>\n        <path d=\"M 628 4666 \nL 1259 4666 \nL 1259 0 \nL 628 0 \nL 628 4666 \nz\n\" id=\"DejaVuSans-49\" transform=\"scale(0.015625)\"/>\n        <path d=\"M 628 4666 \nL 1478 4666 \nL 3547 763 \nL 3547 4666 \nL 4159 4666 \nL 4159 0 \nL 3309 0 \nL 1241 3903 \nL 1241 0 \nL 628 0 \nL 628 4666 \nz\n\" id=\"DejaVuSans-4e\" transform=\"scale(0.015625)\"/>\n       </defs>\n       <use xlink:href=\"#DejaVuSans-53\"/>\n       <use x=\"63.476562\" xlink:href=\"#DejaVuSans-54\"/>\n       <use x=\"116.810547\" xlink:href=\"#DejaVuSans-41\"/>\n       <use x=\"185.21875\" xlink:href=\"#DejaVuSans-52\"/>\n       <use x=\"254.701172\" xlink:href=\"#DejaVuSans-42\"/>\n       <use x=\"323.304688\" xlink:href=\"#DejaVuSans-55\"/>\n       <use x=\"396.498047\" xlink:href=\"#DejaVuSans-43\"/>\n       <use x=\"466.322266\" xlink:href=\"#DejaVuSans-4b\"/>\n       <use x=\"531.898438\" xlink:href=\"#DejaVuSans-53\"/>\n       <use x=\"595.375\" xlink:href=\"#DejaVuSans-20\"/>\n       <use x=\"627.162109\" xlink:href=\"#DejaVuSans-43\"/>\n       <use x=\"696.986328\" xlink:href=\"#DejaVuSans-4f\"/>\n       <use x=\"775.697266\" xlink:href=\"#DejaVuSans-52\"/>\n       <use x=\"845.179688\" xlink:href=\"#DejaVuSans-50\"/>\n       <use x=\"905.482422\" xlink:href=\"#DejaVuSans-4f\"/>\n       <use x=\"984.193359\" xlink:href=\"#DejaVuSans-52\"/>\n       <use x=\"1049.675781\" xlink:href=\"#DejaVuSans-41\"/>\n       <use x=\"1110.333984\" xlink:href=\"#DejaVuSans-54\"/>\n       <use x=\"1171.417969\" xlink:href=\"#DejaVuSans-49\"/>\n       <use x=\"1200.910156\" xlink:href=\"#DejaVuSans-4f\"/>\n       <use x=\"1279.621094\" xlink:href=\"#DejaVuSans-4e\"/>\n      </g>\n     </g>\n    </g>\n    <g id=\"xtick_2\">\n     <g id=\"line2d_2\">\n      <g>\n       <use style=\"stroke:#000000;stroke-width:0.8;\" x=\"77.145\" xlink:href=\"#m69f19d9da5\" y=\"224.64\"/>\n      </g>\n     </g>\n     <g id=\"text_2\">\n      <!-- ABM INDUSTRY GROUPS, LLC -->\n      <g transform=\"translate(79.904375 377.399375)rotate(-90)scale(0.1 -0.1)\">\n       <defs>\n        <path d=\"M 628 4666 \nL 1569 4666 \nL 2759 1491 \nL 3956 4666 \nL 4897 4666 \nL 4897 0 \nL 4281 0 \nL 4281 4097 \nL 3078 897 \nL 2444 897 \nL 1241 4097 \nL 1241 0 \nL 628 0 \nL 628 4666 \nz\n\" id=\"DejaVuSans-4d\" transform=\"scale(0.015625)\"/>\n        <path d=\"M 1259 4147 \nL 1259 519 \nL 2022 519 \nQ 2988 519 3436 956 \nQ 3884 1394 3884 2338 \nQ 3884 3275 3436 3711 \nQ 2988 4147 2022 4147 \nL 1259 4147 \nz\nM 628 4666 \nL 1925 4666 \nQ 3281 4666 3915 4102 \nQ 4550 3538 4550 2338 \nQ 4550 1131 3912 565 \nQ 3275 0 1925 0 \nL 628 0 \nL 628 4666 \nz\n\" id=\"DejaVuSans-44\" transform=\"scale(0.015625)\"/>\n        <path d=\"M -13 4666 \nL 666 4666 \nL 1959 2747 \nL 3244 4666 \nL 3922 4666 \nL 2272 2222 \nL 2272 0 \nL 1638 0 \nL 1638 2222 \nL -13 4666 \nz\n\" id=\"DejaVuSans-59\" transform=\"scale(0.015625)\"/>\n        <path d=\"M 3809 666 \nL 3809 1919 \nL 2778 1919 \nL 2778 2438 \nL 4434 2438 \nL 4434 434 \nQ 4069 175 3628 42 \nQ 3188 -91 2688 -91 \nQ 1594 -91 976 548 \nQ 359 1188 359 2328 \nQ 359 3472 976 4111 \nQ 1594 4750 2688 4750 \nQ 3144 4750 3555 4637 \nQ 3966 4525 4313 4306 \nL 4313 3634 \nQ 3963 3931 3569 4081 \nQ 3175 4231 2741 4231 \nQ 1884 4231 1454 3753 \nQ 1025 3275 1025 2328 \nQ 1025 1384 1454 906 \nQ 1884 428 2741 428 \nQ 3075 428 3337 486 \nQ 3600 544 3809 666 \nz\n\" id=\"DejaVuSans-47\" transform=\"scale(0.015625)\"/>\n        <path d=\"M 750 794 \nL 1409 794 \nL 1409 256 \nL 897 -744 \nL 494 -744 \nL 750 256 \nL 750 794 \nz\n\" id=\"DejaVuSans-2c\" transform=\"scale(0.015625)\"/>\n        <path d=\"M 628 4666 \nL 1259 4666 \nL 1259 531 \nL 3531 531 \nL 3531 0 \nL 628 0 \nL 628 4666 \nz\n\" id=\"DejaVuSans-4c\" transform=\"scale(0.015625)\"/>\n       </defs>\n       <use xlink:href=\"#DejaVuSans-41\"/>\n       <use x=\"68.408203\" xlink:href=\"#DejaVuSans-42\"/>\n       <use x=\"137.011719\" xlink:href=\"#DejaVuSans-4d\"/>\n       <use x=\"223.291016\" xlink:href=\"#DejaVuSans-20\"/>\n       <use x=\"255.078125\" xlink:href=\"#DejaVuSans-49\"/>\n       <use x=\"284.570312\" xlink:href=\"#DejaVuSans-4e\"/>\n       <use x=\"359.375\" xlink:href=\"#DejaVuSans-44\"/>\n       <use x=\"436.376953\" xlink:href=\"#DejaVuSans-55\"/>\n       <use x=\"509.570312\" xlink:href=\"#DejaVuSans-53\"/>\n       <use x=\"573.046875\" xlink:href=\"#DejaVuSans-54\"/>\n       <use x=\"634.130859\" xlink:href=\"#DejaVuSans-52\"/>\n       <use x=\"697.238281\" xlink:href=\"#DejaVuSans-59\"/>\n       <use x=\"758.322266\" xlink:href=\"#DejaVuSans-20\"/>\n       <use x=\"790.109375\" xlink:href=\"#DejaVuSans-47\"/>\n       <use x=\"867.599609\" xlink:href=\"#DejaVuSans-52\"/>\n       <use x=\"937.082031\" xlink:href=\"#DejaVuSans-4f\"/>\n       <use x=\"1015.792969\" xlink:href=\"#DejaVuSans-55\"/>\n       <use x=\"1088.986328\" xlink:href=\"#DejaVuSans-50\"/>\n       <use x=\"1149.289062\" xlink:href=\"#DejaVuSans-53\"/>\n       <use x=\"1212.765625\" xlink:href=\"#DejaVuSans-2c\"/>\n       <use x=\"1244.552734\" xlink:href=\"#DejaVuSans-20\"/>\n       <use x=\"1276.339844\" xlink:href=\"#DejaVuSans-4c\"/>\n       <use x=\"1332.052734\" xlink:href=\"#DejaVuSans-4c\"/>\n       <use x=\"1387.765625\" xlink:href=\"#DejaVuSans-43\"/>\n      </g>\n     </g>\n    </g>\n    <g id=\"xtick_3\">\n     <g id=\"line2d_3\">\n      <g>\n       <use style=\"stroke:#000000;stroke-width:0.8;\" x=\"110.625\" xlink:href=\"#m69f19d9da5\" y=\"224.64\"/>\n      </g>\n     </g>\n     <g id=\"text_3\">\n      <!-- COINSTAR ASSET HOLDINGS, LLC -->\n      <g transform=\"translate(113.384375 398.391562)rotate(-90)scale(0.1 -0.1)\">\n       <defs>\n        <path d=\"M 628 4666 \nL 3578 4666 \nL 3578 4134 \nL 1259 4134 \nL 1259 2753 \nL 3481 2753 \nL 3481 2222 \nL 1259 2222 \nL 1259 531 \nL 3634 531 \nL 3634 0 \nL 628 0 \nL 628 4666 \nz\n\" id=\"DejaVuSans-45\" transform=\"scale(0.015625)\"/>\n        <path d=\"M 628 4666 \nL 1259 4666 \nL 1259 2753 \nL 3553 2753 \nL 3553 4666 \nL 4184 4666 \nL 4184 0 \nL 3553 0 \nL 3553 2222 \nL 1259 2222 \nL 1259 0 \nL 628 0 \nL 628 4666 \nz\n\" id=\"DejaVuSans-48\" transform=\"scale(0.015625)\"/>\n       </defs>\n       <use xlink:href=\"#DejaVuSans-43\"/>\n       <use x=\"69.824219\" xlink:href=\"#DejaVuSans-4f\"/>\n       <use x=\"148.535156\" xlink:href=\"#DejaVuSans-49\"/>\n       <use x=\"178.027344\" xlink:href=\"#DejaVuSans-4e\"/>\n       <use x=\"252.832031\" xlink:href=\"#DejaVuSans-53\"/>\n       <use x=\"316.308594\" xlink:href=\"#DejaVuSans-54\"/>\n       <use x=\"369.642578\" xlink:href=\"#DejaVuSans-41\"/>\n       <use x=\"438.050781\" xlink:href=\"#DejaVuSans-52\"/>\n       <use x=\"507.533203\" xlink:href=\"#DejaVuSans-20\"/>\n       <use x=\"539.320312\" xlink:href=\"#DejaVuSans-41\"/>\n       <use x=\"607.728516\" xlink:href=\"#DejaVuSans-53\"/>\n       <use x=\"671.205078\" xlink:href=\"#DejaVuSans-53\"/>\n       <use x=\"734.681641\" xlink:href=\"#DejaVuSans-45\"/>\n       <use x=\"797.865234\" xlink:href=\"#DejaVuSans-54\"/>\n       <use x=\"858.949219\" xlink:href=\"#DejaVuSans-20\"/>\n       <use x=\"890.736328\" xlink:href=\"#DejaVuSans-48\"/>\n       <use x=\"965.931641\" xlink:href=\"#DejaVuSans-4f\"/>\n       <use x=\"1044.642578\" xlink:href=\"#DejaVuSans-4c\"/>\n       <use x=\"1100.355469\" xlink:href=\"#DejaVuSans-44\"/>\n       <use x=\"1177.357422\" xlink:href=\"#DejaVuSans-49\"/>\n       <use x=\"1206.849609\" xlink:href=\"#DejaVuSans-4e\"/>\n       <use x=\"1281.654297\" xlink:href=\"#DejaVuSans-47\"/>\n       <use x=\"1359.144531\" xlink:href=\"#DejaVuSans-53\"/>\n       <use x=\"1422.621094\" xlink:href=\"#DejaVuSans-2c\"/>\n       <use x=\"1454.408203\" xlink:href=\"#DejaVuSans-20\"/>\n       <use x=\"1486.195312\" xlink:href=\"#DejaVuSans-4c\"/>\n       <use x=\"1541.908203\" xlink:href=\"#DejaVuSans-4c\"/>\n       <use x=\"1597.621094\" xlink:href=\"#DejaVuSans-43\"/>\n      </g>\n     </g>\n    </g>\n    <g id=\"xtick_4\">\n     <g id=\"line2d_4\">\n      <g>\n       <use style=\"stroke:#000000;stroke-width:0.8;\" x=\"144.105\" xlink:href=\"#m69f19d9da5\" y=\"224.64\"/>\n      </g>\n     </g>\n     <g id=\"text_4\">\n      <!-- T MOBILE WEST LLC -->\n      <g transform=\"translate(146.864375 332.272812)rotate(-90)scale(0.1 -0.1)\">\n       <defs>\n        <path d=\"M 213 4666 \nL 850 4666 \nL 1831 722 \nL 2809 4666 \nL 3519 4666 \nL 4500 722 \nL 5478 4666 \nL 6119 4666 \nL 4947 0 \nL 4153 0 \nL 3169 4050 \nL 2175 0 \nL 1381 0 \nL 213 4666 \nz\n\" id=\"DejaVuSans-57\" transform=\"scale(0.015625)\"/>\n       </defs>\n       <use xlink:href=\"#DejaVuSans-54\"/>\n       <use x=\"61.083984\" xlink:href=\"#DejaVuSans-20\"/>\n       <use x=\"92.871094\" xlink:href=\"#DejaVuSans-4d\"/>\n       <use x=\"179.150391\" xlink:href=\"#DejaVuSans-4f\"/>\n       <use x=\"257.861328\" xlink:href=\"#DejaVuSans-42\"/>\n       <use x=\"326.464844\" xlink:href=\"#DejaVuSans-49\"/>\n       <use x=\"355.957031\" xlink:href=\"#DejaVuSans-4c\"/>\n       <use x=\"411.669922\" xlink:href=\"#DejaVuSans-45\"/>\n       <use x=\"474.853516\" xlink:href=\"#DejaVuSans-20\"/>\n       <use x=\"506.640625\" xlink:href=\"#DejaVuSans-57\"/>\n       <use x=\"605.517578\" xlink:href=\"#DejaVuSans-45\"/>\n       <use x=\"668.701172\" xlink:href=\"#DejaVuSans-53\"/>\n       <use x=\"732.177734\" xlink:href=\"#DejaVuSans-54\"/>\n       <use x=\"793.261719\" xlink:href=\"#DejaVuSans-20\"/>\n       <use x=\"825.048828\" xlink:href=\"#DejaVuSans-4c\"/>\n       <use x=\"880.761719\" xlink:href=\"#DejaVuSans-4c\"/>\n       <use x=\"936.474609\" xlink:href=\"#DejaVuSans-43\"/>\n      </g>\n     </g>\n    </g>\n    <g id=\"xtick_5\">\n     <g id=\"line2d_5\">\n      <g>\n       <use style=\"stroke:#000000;stroke-width:0.8;\" x=\"177.585\" xlink:href=\"#m69f19d9da5\" y=\"224.64\"/>\n      </g>\n     </g>\n     <g id=\"text_5\">\n      <!-- REDBOX AUTOMATED RETAIL LLC -->\n      <g transform=\"translate(180.344375 397.960312)rotate(-90)scale(0.1 -0.1)\">\n       <defs>\n        <path d=\"M 403 4666 \nL 1081 4666 \nL 2241 2931 \nL 3406 4666 \nL 4084 4666 \nL 2584 2425 \nL 4184 0 \nL 3506 0 \nL 2194 1984 \nL 872 0 \nL 191 0 \nL 1856 2491 \nL 403 4666 \nz\n\" id=\"DejaVuSans-58\" transform=\"scale(0.015625)\"/>\n       </defs>\n       <use xlink:href=\"#DejaVuSans-52\"/>\n       <use x=\"69.482422\" xlink:href=\"#DejaVuSans-45\"/>\n       <use x=\"132.666016\" xlink:href=\"#DejaVuSans-44\"/>\n       <use x=\"209.667969\" xlink:href=\"#DejaVuSans-42\"/>\n       <use x=\"276.521484\" xlink:href=\"#DejaVuSans-4f\"/>\n       <use x=\"348.857422\" xlink:href=\"#DejaVuSans-58\"/>\n       <use x=\"417.363281\" xlink:href=\"#DejaVuSans-20\"/>\n       <use x=\"449.150391\" xlink:href=\"#DejaVuSans-41\"/>\n       <use x=\"517.558594\" xlink:href=\"#DejaVuSans-55\"/>\n       <use x=\"590.751953\" xlink:href=\"#DejaVuSans-54\"/>\n       <use x=\"651.835938\" xlink:href=\"#DejaVuSans-4f\"/>\n       <use x=\"730.546875\" xlink:href=\"#DejaVuSans-4d\"/>\n       <use x=\"816.826172\" xlink:href=\"#DejaVuSans-41\"/>\n       <use x=\"877.484375\" xlink:href=\"#DejaVuSans-54\"/>\n       <use x=\"938.568359\" xlink:href=\"#DejaVuSans-45\"/>\n       <use x=\"1001.751953\" xlink:href=\"#DejaVuSans-44\"/>\n       <use x=\"1078.753906\" xlink:href=\"#DejaVuSans-20\"/>\n       <use x=\"1110.541016\" xlink:href=\"#DejaVuSans-52\"/>\n       <use x=\"1180.023438\" xlink:href=\"#DejaVuSans-45\"/>\n       <use x=\"1243.207031\" xlink:href=\"#DejaVuSans-54\"/>\n       <use x=\"1296.541016\" xlink:href=\"#DejaVuSans-41\"/>\n       <use x=\"1364.949219\" xlink:href=\"#DejaVuSans-49\"/>\n       <use x=\"1394.441406\" xlink:href=\"#DejaVuSans-4c\"/>\n       <use x=\"1450.154297\" xlink:href=\"#DejaVuSans-20\"/>\n       <use x=\"1481.941406\" xlink:href=\"#DejaVuSans-4c\"/>\n       <use x=\"1537.654297\" xlink:href=\"#DejaVuSans-4c\"/>\n       <use x=\"1593.367188\" xlink:href=\"#DejaVuSans-43\"/>\n      </g>\n     </g>\n    </g>\n    <g id=\"xtick_6\">\n     <g id=\"line2d_6\">\n      <g>\n       <use style=\"stroke:#000000;stroke-width:0.8;\" x=\"211.065\" xlink:href=\"#m69f19d9da5\" y=\"224.64\"/>\n      </g>\n     </g>\n     <g id=\"text_6\">\n      <!-- LAZ KARP ASSOCIATES LLC -->\n      <g transform=\"translate(213.824375 367.172812)rotate(-90)scale(0.1 -0.1)\">\n       <defs>\n        <path d=\"M 359 4666 \nL 4025 4666 \nL 4025 4184 \nL 1075 531 \nL 4097 531 \nL 4097 0 \nL 288 0 \nL 288 481 \nL 3238 4134 \nL 359 4134 \nL 359 4666 \nz\n\" id=\"DejaVuSans-5a\" transform=\"scale(0.015625)\"/>\n       </defs>\n       <use xlink:href=\"#DejaVuSans-4c\"/>\n       <use x=\"57.962891\" xlink:href=\"#DejaVuSans-41\"/>\n       <use x=\"126.371094\" xlink:href=\"#DejaVuSans-5a\"/>\n       <use x=\"194.876953\" xlink:href=\"#DejaVuSans-20\"/>\n       <use x=\"226.664062\" xlink:href=\"#DejaVuSans-4b\"/>\n       <use x=\"290.490234\" xlink:href=\"#DejaVuSans-41\"/>\n       <use x=\"358.898438\" xlink:href=\"#DejaVuSans-52\"/>\n       <use x=\"428.380859\" xlink:href=\"#DejaVuSans-50\"/>\n       <use x=\"488.683594\" xlink:href=\"#DejaVuSans-20\"/>\n       <use x=\"520.470703\" xlink:href=\"#DejaVuSans-41\"/>\n       <use x=\"588.878906\" xlink:href=\"#DejaVuSans-53\"/>\n       <use x=\"652.355469\" xlink:href=\"#DejaVuSans-53\"/>\n       <use x=\"715.832031\" xlink:href=\"#DejaVuSans-4f\"/>\n       <use x=\"794.542969\" xlink:href=\"#DejaVuSans-43\"/>\n       <use x=\"864.367188\" xlink:href=\"#DejaVuSans-49\"/>\n       <use x=\"893.859375\" xlink:href=\"#DejaVuSans-41\"/>\n       <use x=\"954.517578\" xlink:href=\"#DejaVuSans-54\"/>\n       <use x=\"1015.601562\" xlink:href=\"#DejaVuSans-45\"/>\n       <use x=\"1078.785156\" xlink:href=\"#DejaVuSans-53\"/>\n       <use x=\"1142.261719\" xlink:href=\"#DejaVuSans-20\"/>\n       <use x=\"1174.048828\" xlink:href=\"#DejaVuSans-4c\"/>\n       <use x=\"1229.761719\" xlink:href=\"#DejaVuSans-4c\"/>\n       <use x=\"1285.474609\" xlink:href=\"#DejaVuSans-43\"/>\n      </g>\n     </g>\n    </g>\n    <g id=\"xtick_7\">\n     <g id=\"line2d_7\">\n      <g>\n       <use style=\"stroke:#000000;stroke-width:0.8;\" x=\"244.545\" xlink:href=\"#m69f19d9da5\" y=\"224.64\"/>\n      </g>\n     </g>\n     <g id=\"text_7\">\n      <!-- L &amp; R AUTO PARKS INC -->\n      <g transform=\"translate(247.304375 345.49)rotate(-90)scale(0.1 -0.1)\">\n       <defs>\n        <path d=\"M 1556 2509 \nQ 1272 2256 1139 2004 \nQ 1006 1753 1006 1478 \nQ 1006 1022 1337 719 \nQ 1669 416 2169 416 \nQ 2466 416 2725 514 \nQ 2984 613 3213 813 \nL 1556 2509 \nz\nM 1997 2859 \nL 3584 1234 \nQ 3769 1513 3872 1830 \nQ 3975 2147 3994 2503 \nL 4575 2503 \nQ 4538 2091 4375 1687 \nQ 4213 1284 3922 891 \nL 4794 0 \nL 4006 0 \nL 3559 459 \nQ 3234 181 2878 45 \nQ 2522 -91 2113 -91 \nQ 1359 -91 881 339 \nQ 403 769 403 1441 \nQ 403 1841 612 2192 \nQ 822 2544 1241 2853 \nQ 1091 3050 1012 3245 \nQ 934 3441 934 3628 \nQ 934 4134 1281 4442 \nQ 1628 4750 2203 4750 \nQ 2463 4750 2720 4694 \nQ 2978 4638 3244 4525 \nL 3244 3956 \nQ 2972 4103 2725 4179 \nQ 2478 4256 2266 4256 \nQ 1938 4256 1733 4082 \nQ 1528 3909 1528 3634 \nQ 1528 3475 1620 3314 \nQ 1713 3153 1997 2859 \nz\n\" id=\"DejaVuSans-26\" transform=\"scale(0.015625)\"/>\n       </defs>\n       <use xlink:href=\"#DejaVuSans-4c\"/>\n       <use x=\"55.712891\" xlink:href=\"#DejaVuSans-20\"/>\n       <use x=\"87.5\" xlink:href=\"#DejaVuSans-26\"/>\n       <use x=\"165.478516\" xlink:href=\"#DejaVuSans-20\"/>\n       <use x=\"197.265625\" xlink:href=\"#DejaVuSans-52\"/>\n       <use x=\"266.748047\" xlink:href=\"#DejaVuSans-20\"/>\n       <use x=\"298.535156\" xlink:href=\"#DejaVuSans-41\"/>\n       <use x=\"366.943359\" xlink:href=\"#DejaVuSans-55\"/>\n       <use x=\"440.136719\" xlink:href=\"#DejaVuSans-54\"/>\n       <use x=\"501.220703\" xlink:href=\"#DejaVuSans-4f\"/>\n       <use x=\"579.931641\" xlink:href=\"#DejaVuSans-20\"/>\n       <use x=\"611.71875\" xlink:href=\"#DejaVuSans-50\"/>\n       <use x=\"665.646484\" xlink:href=\"#DejaVuSans-41\"/>\n       <use x=\"734.054688\" xlink:href=\"#DejaVuSans-52\"/>\n       <use x=\"803.537109\" xlink:href=\"#DejaVuSans-4b\"/>\n       <use x=\"869.113281\" xlink:href=\"#DejaVuSans-53\"/>\n       <use x=\"932.589844\" xlink:href=\"#DejaVuSans-20\"/>\n       <use x=\"964.376953\" xlink:href=\"#DejaVuSans-49\"/>\n       <use x=\"993.869141\" xlink:href=\"#DejaVuSans-4e\"/>\n       <use x=\"1068.673828\" xlink:href=\"#DejaVuSans-43\"/>\n      </g>\n     </g>\n    </g>\n    <g id=\"xtick_8\">\n     <g id=\"line2d_8\">\n      <g>\n       <use style=\"stroke:#000000;stroke-width:0.8;\" x=\"278.025\" xlink:href=\"#m69f19d9da5\" y=\"224.64\"/>\n      </g>\n     </g>\n     <g id=\"text_8\">\n      <!-- SOUTHERN CALIFORNIA PIZZA CO LLC -->\n      <g transform=\"translate(280.784375 422.95875)rotate(-90)scale(0.1 -0.1)\">\n       <defs>\n        <path d=\"M 628 4666 \nL 3309 4666 \nL 3309 4134 \nL 1259 4134 \nL 1259 2759 \nL 3109 2759 \nL 3109 2228 \nL 1259 2228 \nL 1259 0 \nL 628 0 \nL 628 4666 \nz\n\" id=\"DejaVuSans-46\" transform=\"scale(0.015625)\"/>\n       </defs>\n       <use xlink:href=\"#DejaVuSans-53\"/>\n       <use x=\"63.476562\" xlink:href=\"#DejaVuSans-4f\"/>\n       <use x=\"142.1875\" xlink:href=\"#DejaVuSans-55\"/>\n       <use x=\"215.380859\" xlink:href=\"#DejaVuSans-54\"/>\n       <use x=\"276.464844\" xlink:href=\"#DejaVuSans-48\"/>\n       <use x=\"351.660156\" xlink:href=\"#DejaVuSans-45\"/>\n       <use x=\"414.84375\" xlink:href=\"#DejaVuSans-52\"/>\n       <use x=\"484.326172\" xlink:href=\"#DejaVuSans-4e\"/>\n       <use x=\"559.130859\" xlink:href=\"#DejaVuSans-20\"/>\n       <use x=\"590.917969\" xlink:href=\"#DejaVuSans-43\"/>\n       <use x=\"660.742188\" xlink:href=\"#DejaVuSans-41\"/>\n       <use x=\"729.150391\" xlink:href=\"#DejaVuSans-4c\"/>\n       <use x=\"784.863281\" xlink:href=\"#DejaVuSans-49\"/>\n       <use x=\"814.355469\" xlink:href=\"#DejaVuSans-46\"/>\n       <use x=\"871.875\" xlink:href=\"#DejaVuSans-4f\"/>\n       <use x=\"950.585938\" xlink:href=\"#DejaVuSans-52\"/>\n       <use x=\"1020.068359\" xlink:href=\"#DejaVuSans-4e\"/>\n       <use x=\"1094.873047\" xlink:href=\"#DejaVuSans-49\"/>\n       <use x=\"1124.365234\" xlink:href=\"#DejaVuSans-41\"/>\n       <use x=\"1192.773438\" xlink:href=\"#DejaVuSans-20\"/>\n       <use x=\"1224.560547\" xlink:href=\"#DejaVuSans-50\"/>\n       <use x=\"1284.863281\" xlink:href=\"#DejaVuSans-49\"/>\n       <use x=\"1314.355469\" xlink:href=\"#DejaVuSans-5a\"/>\n       <use x=\"1382.861328\" xlink:href=\"#DejaVuSans-5a\"/>\n       <use x=\"1451.367188\" xlink:href=\"#DejaVuSans-41\"/>\n       <use x=\"1519.775391\" xlink:href=\"#DejaVuSans-20\"/>\n       <use x=\"1551.5625\" xlink:href=\"#DejaVuSans-43\"/>\n       <use x=\"1621.386719\" xlink:href=\"#DejaVuSans-4f\"/>\n       <use x=\"1700.097656\" xlink:href=\"#DejaVuSans-20\"/>\n       <use x=\"1731.884766\" xlink:href=\"#DejaVuSans-4c\"/>\n       <use x=\"1787.597656\" xlink:href=\"#DejaVuSans-4c\"/>\n       <use x=\"1843.310547\" xlink:href=\"#DejaVuSans-43\"/>\n      </g>\n     </g>\n    </g>\n    <g id=\"xtick_9\">\n     <g id=\"line2d_9\">\n      <g>\n       <use style=\"stroke:#000000;stroke-width:0.8;\" x=\"311.505\" xlink:href=\"#m69f19d9da5\" y=\"224.64\"/>\n      </g>\n     </g>\n     <g id=\"text_9\">\n      <!-- KEDREN COMMUNITY HEALTH CENTER INC -->\n      <g transform=\"translate(314.264375 443.830625)rotate(-90)scale(0.1 -0.1)\">\n       <use xlink:href=\"#DejaVuSans-4b\"/>\n       <use x=\"65.576172\" xlink:href=\"#DejaVuSans-45\"/>\n       <use x=\"128.759766\" xlink:href=\"#DejaVuSans-44\"/>\n       <use x=\"205.761719\" xlink:href=\"#DejaVuSans-52\"/>\n       <use x=\"275.244141\" xlink:href=\"#DejaVuSans-45\"/>\n       <use x=\"338.427734\" xlink:href=\"#DejaVuSans-4e\"/>\n       <use x=\"413.232422\" xlink:href=\"#DejaVuSans-20\"/>\n       <use x=\"445.019531\" xlink:href=\"#DejaVuSans-43\"/>\n       <use x=\"514.84375\" xlink:href=\"#DejaVuSans-4f\"/>\n       <use x=\"593.554688\" xlink:href=\"#DejaVuSans-4d\"/>\n       <use x=\"679.833984\" xlink:href=\"#DejaVuSans-4d\"/>\n       <use x=\"766.113281\" xlink:href=\"#DejaVuSans-55\"/>\n       <use x=\"839.306641\" xlink:href=\"#DejaVuSans-4e\"/>\n       <use x=\"914.111328\" xlink:href=\"#DejaVuSans-49\"/>\n       <use x=\"943.603516\" xlink:href=\"#DejaVuSans-54\"/>\n       <use x=\"1004.6875\" xlink:href=\"#DejaVuSans-59\"/>\n       <use x=\"1065.771484\" xlink:href=\"#DejaVuSans-20\"/>\n       <use x=\"1097.558594\" xlink:href=\"#DejaVuSans-48\"/>\n       <use x=\"1172.753906\" xlink:href=\"#DejaVuSans-45\"/>\n       <use x=\"1235.9375\" xlink:href=\"#DejaVuSans-41\"/>\n       <use x=\"1304.345703\" xlink:href=\"#DejaVuSans-4c\"/>\n       <use x=\"1346.308594\" xlink:href=\"#DejaVuSans-54\"/>\n       <use x=\"1407.392578\" xlink:href=\"#DejaVuSans-48\"/>\n       <use x=\"1482.587891\" xlink:href=\"#DejaVuSans-20\"/>\n       <use x=\"1514.375\" xlink:href=\"#DejaVuSans-43\"/>\n       <use x=\"1584.199219\" xlink:href=\"#DejaVuSans-45\"/>\n       <use x=\"1647.382812\" xlink:href=\"#DejaVuSans-4e\"/>\n       <use x=\"1722.1875\" xlink:href=\"#DejaVuSans-54\"/>\n       <use x=\"1783.271484\" xlink:href=\"#DejaVuSans-45\"/>\n       <use x=\"1846.455078\" xlink:href=\"#DejaVuSans-52\"/>\n       <use x=\"1915.9375\" xlink:href=\"#DejaVuSans-20\"/>\n       <use x=\"1947.724609\" xlink:href=\"#DejaVuSans-49\"/>\n       <use x=\"1977.216797\" xlink:href=\"#DejaVuSans-4e\"/>\n       <use x=\"2052.021484\" xlink:href=\"#DejaVuSans-43\"/>\n      </g>\n     </g>\n    </g>\n    <g id=\"xtick_10\">\n     <g id=\"line2d_10\">\n      <g>\n       <use style=\"stroke:#000000;stroke-width:0.8;\" x=\"344.985\" xlink:href=\"#m69f19d9da5\" y=\"224.64\"/>\n      </g>\n     </g>\n     <g id=\"text_10\">\n      <!-- CITY CENTER PARKING INC -->\n      <g transform=\"translate(347.744375 364.813437)rotate(-90)scale(0.1 -0.1)\">\n       <use xlink:href=\"#DejaVuSans-43\"/>\n       <use x=\"69.824219\" xlink:href=\"#DejaVuSans-49\"/>\n       <use x=\"99.316406\" xlink:href=\"#DejaVuSans-54\"/>\n       <use x=\"160.400391\" xlink:href=\"#DejaVuSans-59\"/>\n       <use x=\"221.484375\" xlink:href=\"#DejaVuSans-20\"/>\n       <use x=\"253.271484\" xlink:href=\"#DejaVuSans-43\"/>\n       <use x=\"323.095703\" xlink:href=\"#DejaVuSans-45\"/>\n       <use x=\"386.279297\" xlink:href=\"#DejaVuSans-4e\"/>\n       <use x=\"461.083984\" xlink:href=\"#DejaVuSans-54\"/>\n       <use x=\"522.167969\" xlink:href=\"#DejaVuSans-45\"/>\n       <use x=\"585.351562\" xlink:href=\"#DejaVuSans-52\"/>\n       <use x=\"654.833984\" xlink:href=\"#DejaVuSans-20\"/>\n       <use x=\"686.621094\" xlink:href=\"#DejaVuSans-50\"/>\n       <use x=\"740.548828\" xlink:href=\"#DejaVuSans-41\"/>\n       <use x=\"808.957031\" xlink:href=\"#DejaVuSans-52\"/>\n       <use x=\"878.439453\" xlink:href=\"#DejaVuSans-4b\"/>\n       <use x=\"944.015625\" xlink:href=\"#DejaVuSans-49\"/>\n       <use x=\"973.507812\" xlink:href=\"#DejaVuSans-4e\"/>\n       <use x=\"1048.3125\" xlink:href=\"#DejaVuSans-47\"/>\n       <use x=\"1125.802734\" xlink:href=\"#DejaVuSans-20\"/>\n       <use x=\"1157.589844\" xlink:href=\"#DejaVuSans-49\"/>\n       <use x=\"1187.082031\" xlink:href=\"#DejaVuSans-4e\"/>\n       <use x=\"1261.886719\" xlink:href=\"#DejaVuSans-43\"/>\n      </g>\n     </g>\n    </g>\n   </g>\n   <g id=\"matplotlib.axis_2\">\n    <g id=\"ytick_1\">\n     <g id=\"line2d_11\">\n      <defs>\n       <path d=\"M 0 0 \nL -3.5 0 \n\" id=\"m2bdb23e4a0\" style=\"stroke:#000000;stroke-width:0.8;\"/>\n      </defs>\n      <g>\n       <use style=\"stroke:#000000;stroke-width:0.8;\" x=\"26.925\" xlink:href=\"#m2bdb23e4a0\" y=\"224.64\"/>\n      </g>\n     </g>\n     <g id=\"text_11\">\n      <!-- 0 -->\n      <g transform=\"translate(13.5625 228.439219)scale(0.1 -0.1)\">\n       <defs>\n        <path d=\"M 2034 4250 \nQ 1547 4250 1301 3770 \nQ 1056 3291 1056 2328 \nQ 1056 1369 1301 889 \nQ 1547 409 2034 409 \nQ 2525 409 2770 889 \nQ 3016 1369 3016 2328 \nQ 3016 3291 2770 3770 \nQ 2525 4250 2034 4250 \nz\nM 2034 4750 \nQ 2819 4750 3233 4129 \nQ 3647 3509 3647 2328 \nQ 3647 1150 3233 529 \nQ 2819 -91 2034 -91 \nQ 1250 -91 836 529 \nQ 422 1150 422 2328 \nQ 422 3509 836 4129 \nQ 1250 4750 2034 4750 \nz\n\" id=\"DejaVuSans-30\" transform=\"scale(0.015625)\"/>\n       </defs>\n       <use xlink:href=\"#DejaVuSans-30\"/>\n      </g>\n     </g>\n    </g>\n    <g id=\"ytick_2\">\n     <g id=\"line2d_12\">\n      <g>\n       <use style=\"stroke:#000000;stroke-width:0.8;\" x=\"26.925\" xlink:href=\"#m2bdb23e4a0\" y=\"186.988052\"/>\n      </g>\n     </g>\n     <g id=\"text_12\">\n      <!-- 2 -->\n      <g transform=\"translate(13.5625 190.787271)scale(0.1 -0.1)\">\n       <defs>\n        <path d=\"M 1228 531 \nL 3431 531 \nL 3431 0 \nL 469 0 \nL 469 531 \nQ 828 903 1448 1529 \nQ 2069 2156 2228 2338 \nQ 2531 2678 2651 2914 \nQ 2772 3150 2772 3378 \nQ 2772 3750 2511 3984 \nQ 2250 4219 1831 4219 \nQ 1534 4219 1204 4116 \nQ 875 4013 500 3803 \nL 500 4441 \nQ 881 4594 1212 4672 \nQ 1544 4750 1819 4750 \nQ 2544 4750 2975 4387 \nQ 3406 4025 3406 3419 \nQ 3406 3131 3298 2873 \nQ 3191 2616 2906 2266 \nQ 2828 2175 2409 1742 \nQ 1991 1309 1228 531 \nz\n\" id=\"DejaVuSans-32\" transform=\"scale(0.015625)\"/>\n       </defs>\n       <use xlink:href=\"#DejaVuSans-32\"/>\n      </g>\n     </g>\n    </g>\n    <g id=\"ytick_3\">\n     <g id=\"line2d_13\">\n      <g>\n       <use style=\"stroke:#000000;stroke-width:0.8;\" x=\"26.925\" xlink:href=\"#m2bdb23e4a0\" y=\"149.336104\"/>\n      </g>\n     </g>\n     <g id=\"text_13\">\n      <!-- 4 -->\n      <g transform=\"translate(13.5625 153.135323)scale(0.1 -0.1)\">\n       <defs>\n        <path d=\"M 2419 4116 \nL 825 1625 \nL 2419 1625 \nL 2419 4116 \nz\nM 2253 4666 \nL 3047 4666 \nL 3047 1625 \nL 3713 1625 \nL 3713 1100 \nL 3047 1100 \nL 3047 0 \nL 2419 0 \nL 2419 1100 \nL 313 1100 \nL 313 1709 \nL 2253 4666 \nz\n\" id=\"DejaVuSans-34\" transform=\"scale(0.015625)\"/>\n       </defs>\n       <use xlink:href=\"#DejaVuSans-34\"/>\n      </g>\n     </g>\n    </g>\n    <g id=\"ytick_4\">\n     <g id=\"line2d_14\">\n      <g>\n       <use style=\"stroke:#000000;stroke-width:0.8;\" x=\"26.925\" xlink:href=\"#m2bdb23e4a0\" y=\"111.684156\"/>\n      </g>\n     </g>\n     <g id=\"text_14\">\n      <!-- 6 -->\n      <g transform=\"translate(13.5625 115.483375)scale(0.1 -0.1)\">\n       <defs>\n        <path d=\"M 2113 2584 \nQ 1688 2584 1439 2293 \nQ 1191 2003 1191 1497 \nQ 1191 994 1439 701 \nQ 1688 409 2113 409 \nQ 2538 409 2786 701 \nQ 3034 994 3034 1497 \nQ 3034 2003 2786 2293 \nQ 2538 2584 2113 2584 \nz\nM 3366 4563 \nL 3366 3988 \nQ 3128 4100 2886 4159 \nQ 2644 4219 2406 4219 \nQ 1781 4219 1451 3797 \nQ 1122 3375 1075 2522 \nQ 1259 2794 1537 2939 \nQ 1816 3084 2150 3084 \nQ 2853 3084 3261 2657 \nQ 3669 2231 3669 1497 \nQ 3669 778 3244 343 \nQ 2819 -91 2113 -91 \nQ 1303 -91 875 529 \nQ 447 1150 447 2328 \nQ 447 3434 972 4092 \nQ 1497 4750 2381 4750 \nQ 2619 4750 2861 4703 \nQ 3103 4656 3366 4563 \nz\n\" id=\"DejaVuSans-36\" transform=\"scale(0.015625)\"/>\n       </defs>\n       <use xlink:href=\"#DejaVuSans-36\"/>\n      </g>\n     </g>\n    </g>\n    <g id=\"ytick_5\">\n     <g id=\"line2d_15\">\n      <g>\n       <use style=\"stroke:#000000;stroke-width:0.8;\" x=\"26.925\" xlink:href=\"#m2bdb23e4a0\" y=\"74.032208\"/>\n      </g>\n     </g>\n     <g id=\"text_15\">\n      <!-- 8 -->\n      <g transform=\"translate(13.5625 77.831427)scale(0.1 -0.1)\">\n       <defs>\n        <path d=\"M 2034 2216 \nQ 1584 2216 1326 1975 \nQ 1069 1734 1069 1313 \nQ 1069 891 1326 650 \nQ 1584 409 2034 409 \nQ 2484 409 2743 651 \nQ 3003 894 3003 1313 \nQ 3003 1734 2745 1975 \nQ 2488 2216 2034 2216 \nz\nM 1403 2484 \nQ 997 2584 770 2862 \nQ 544 3141 544 3541 \nQ 544 4100 942 4425 \nQ 1341 4750 2034 4750 \nQ 2731 4750 3128 4425 \nQ 3525 4100 3525 3541 \nQ 3525 3141 3298 2862 \nQ 3072 2584 2669 2484 \nQ 3125 2378 3379 2068 \nQ 3634 1759 3634 1313 \nQ 3634 634 3220 271 \nQ 2806 -91 2034 -91 \nQ 1263 -91 848 271 \nQ 434 634 434 1313 \nQ 434 1759 690 2068 \nQ 947 2378 1403 2484 \nz\nM 1172 3481 \nQ 1172 3119 1398 2916 \nQ 1625 2713 2034 2713 \nQ 2441 2713 2670 2916 \nQ 2900 3119 2900 3481 \nQ 2900 3844 2670 4047 \nQ 2441 4250 2034 4250 \nQ 1625 4250 1398 4047 \nQ 1172 3844 1172 3481 \nz\n\" id=\"DejaVuSans-38\" transform=\"scale(0.015625)\"/>\n       </defs>\n       <use xlink:href=\"#DejaVuSans-38\"/>\n      </g>\n     </g>\n    </g>\n    <g id=\"ytick_6\">\n     <g id=\"line2d_16\">\n      <g>\n       <use style=\"stroke:#000000;stroke-width:0.8;\" x=\"26.925\" xlink:href=\"#m2bdb23e4a0\" y=\"36.38026\"/>\n      </g>\n     </g>\n     <g id=\"text_16\">\n      <!-- 10 -->\n      <g transform=\"translate(7.2 40.179478)scale(0.1 -0.1)\">\n       <defs>\n        <path d=\"M 794 531 \nL 1825 531 \nL 1825 4091 \nL 703 3866 \nL 703 4441 \nL 1819 4666 \nL 2450 4666 \nL 2450 531 \nL 3481 531 \nL 3481 0 \nL 794 0 \nL 794 531 \nz\n\" id=\"DejaVuSans-31\" transform=\"scale(0.015625)\"/>\n       </defs>\n       <use xlink:href=\"#DejaVuSans-31\"/>\n       <use x=\"63.623047\" xlink:href=\"#DejaVuSans-30\"/>\n      </g>\n     </g>\n    </g>\n   </g>\n   <g id=\"patch_13\">\n    <path d=\"M 26.925 224.64 \nL 26.925 7.2 \n\" style=\"fill:none;stroke:#000000;stroke-linecap:square;stroke-linejoin:miter;stroke-width:0.8;\"/>\n   </g>\n   <g id=\"patch_14\">\n    <path d=\"M 361.725 224.64 \nL 361.725 7.2 \n\" style=\"fill:none;stroke:#000000;stroke-linecap:square;stroke-linejoin:miter;stroke-width:0.8;\"/>\n   </g>\n   <g id=\"patch_15\">\n    <path d=\"M 26.925 224.64 \nL 361.725 224.64 \n\" style=\"fill:none;stroke:#000000;stroke-linecap:square;stroke-linejoin:miter;stroke-width:0.8;\"/>\n   </g>\n   <g id=\"patch_16\">\n    <path d=\"M 26.925 7.2 \nL 361.725 7.2 \n\" style=\"fill:none;stroke:#000000;stroke-linecap:square;stroke-linejoin:miter;stroke-width:0.8;\"/>\n   </g>\n  </g>\n </g>\n <defs>\n  <clipPath id=\"pde00eebd88\">\n   <rect height=\"217.44\" width=\"334.8\" x=\"26.925\" y=\"7.2\"/>\n  </clipPath>\n </defs>\n</svg>\n",
      "image/png": "[encoded data removed]"
     },
     "metadata": {
      "needs_background": "light"
     }
    }
   ],
   "metadata": {}
  },
  {
   "cell_type": "markdown",
   "source": [
    "### Q5 [4 points] Top street names\n",
    "\n",
    "Define the street name as the LOCATION DESCRIPTION without the first word (street number) and the last word (the zip code).\n",
    "Print the frequencies of the top 10 street names."
   ],
   "metadata": {}
  },
  {
   "cell_type": "code",
   "execution_count": 57,
   "source": [
    "activeBusiness[\"STREET NAME\"] = activeBusiness[\"LOCATION DESCRIPTION\"].apply(lambda x: (' '.join((str)(x).split()[1:-1])))\n",
    "activeBusiness[\"STREET NAME\"].value_counts().sort_values(ascending=False)[:10]"
   ],
   "outputs": [
    {
     "output_type": "execute_result",
     "data": {
      "text/plain": [
       "VENTURA         579\n",
       "WILSHIRE        513\n",
       "OLYMPIC         157\n",
       "FIGUEROA        148\n",
       "SHERMAN         146\n",
       "SUNSET          145\n",
       "SANTA MONICA    135\n",
       "SEPULVEDA       133\n",
       "PICO            132\n",
       "WESTERN         128\n",
       "Name: STREET NAME, dtype: int64"
      ]
     },
     "metadata": {},
     "execution_count": 57
    }
   ],
   "metadata": {}
  },
  {
   "cell_type": "markdown",
   "source": [
    "### Q6 [4 points] Plot the frequencies of the top-10 cities except LOS ANGELES."
   ],
   "metadata": {}
  },
  {
   "cell_type": "code",
   "execution_count": 32,
   "source": [
    "activeBusiness[\"CITY\"].value_counts().sort_values(ascending=False).drop(\"LOS ANGELES\")[:10].plot.bar()"
   ],
   "outputs": [
    {
     "output_type": "execute_result",
     "data": {
      "text/plain": [
       "<AxesSubplot:>"
      ]
     },
     "metadata": {},
     "execution_count": 32
    },
    {
     "output_type": "display_data",
     "data": {
      "text/plain": [
       "<Figure size 432x288 with 1 Axes>"
      ],
      "image/svg+xml": "<?xml version=\"1.0\" encoding=\"utf-8\" standalone=\"no\"?>\n<!DOCTYPE svg PUBLIC \"-//W3C//DTD SVG 1.1//EN\"\n  \"http://www.w3.org/Graphics/SVG/1.1/DTD/svg11.dtd\">\n<svg height=\"341.872813pt\" version=\"1.1\" viewBox=\"0 0 375.2875 341.872813\" width=\"375.2875pt\" xmlns=\"http://www.w3.org/2000/svg\" xmlns:xlink=\"http://www.w3.org/1999/xlink\">\n <metadata>\n  <rdf:RDF xmlns:cc=\"http://creativecommons.org/ns#\" xmlns:dc=\"http://purl.org/dc/elements/1.1/\" xmlns:rdf=\"http://www.w3.org/1999/02/22-rdf-syntax-ns#\">\n   <cc:Work>\n    <dc:type rdf:resource=\"http://purl.org/dc/dcmitype/StillImage\"/>\n    <dc:date>2021-08-13T14:16:43.758871</dc:date>\n    <dc:format>image/svg+xml</dc:format>\n    <dc:creator>\n     <cc:Agent>\n      <dc:title>Matplotlib v3.4.2, https://matplotlib.org/</dc:title>\n     </cc:Agent>\n    </dc:creator>\n   </cc:Work>\n  </rdf:RDF>\n </metadata>\n <defs>\n  <style type=\"text/css\">*{stroke-linecap:butt;stroke-linejoin:round;}</style>\n </defs>\n <g id=\"figure_1\">\n  <g id=\"patch_1\">\n   <path d=\"M 0 341.872813 \nL 375.2875 341.872813 \nL 375.2875 0 \nL 0 0 \nz\n\" style=\"fill:none;\"/>\n  </g>\n  <g id=\"axes_1\">\n   <g id=\"patch_2\">\n    <path d=\"M 33.2875 224.64 \nL 368.0875 224.64 \nL 368.0875 7.2 \nL 33.2875 7.2 \nz\n\" style=\"fill:#ffffff;\"/>\n   </g>\n   <g id=\"patch_3\">\n    <path clip-path=\"url(#p5c0fd6cc53)\" d=\"M 41.6575 224.64 \nL 58.3975 224.64 \nL 58.3975 17.554286 \nL 41.6575 17.554286 \nz\n\" style=\"fill:#1f77b4;\"/>\n   </g>\n   <g id=\"patch_4\">\n    <path clip-path=\"url(#p5c0fd6cc53)\" d=\"M 75.1375 224.64 \nL 91.8775 224.64 \nL 91.8775 64.43619 \nL 75.1375 64.43619 \nz\n\" style=\"fill:#1f77b4;\"/>\n   </g>\n   <g id=\"patch_5\">\n    <path clip-path=\"url(#p5c0fd6cc53)\" d=\"M 108.6175 224.64 \nL 125.3575 224.64 \nL 125.3575 65.586667 \nL 108.6175 65.586667 \nz\n\" style=\"fill:#1f77b4;\"/>\n   </g>\n   <g id=\"patch_6\">\n    <path clip-path=\"url(#p5c0fd6cc53)\" d=\"M 142.0975 224.64 \nL 158.8375 224.64 \nL 158.8375 95.786667 \nL 142.0975 95.786667 \nz\n\" style=\"fill:#1f77b4;\"/>\n   </g>\n   <g id=\"patch_7\">\n    <path clip-path=\"url(#p5c0fd6cc53)\" d=\"M 175.5775 224.64 \nL 192.3175 224.64 \nL 192.3175 107.291429 \nL 175.5775 107.291429 \nz\n\" style=\"fill:#1f77b4;\"/>\n   </g>\n   <g id=\"patch_8\">\n    <path clip-path=\"url(#p5c0fd6cc53)\" d=\"M 209.0575 224.64 \nL 225.7975 224.64 \nL 225.7975 132.601905 \nL 209.0575 132.601905 \nz\n\" style=\"fill:#1f77b4;\"/>\n   </g>\n   <g id=\"patch_9\">\n    <path clip-path=\"url(#p5c0fd6cc53)\" d=\"M 242.5375 224.64 \nL 259.2775 224.64 \nL 259.2775 147.558095 \nL 242.5375 147.558095 \nz\n\" style=\"fill:#1f77b4;\"/>\n   </g>\n   <g id=\"patch_10\">\n    <path clip-path=\"url(#p5c0fd6cc53)\" d=\"M 276.0175 224.64 \nL 292.7575 224.64 \nL 292.7575 153.598095 \nL 276.0175 153.598095 \nz\n\" style=\"fill:#1f77b4;\"/>\n   </g>\n   <g id=\"patch_11\">\n    <path clip-path=\"url(#p5c0fd6cc53)\" d=\"M 309.4975 224.64 \nL 326.2375 224.64 \nL 326.2375 155.32381 \nL 309.4975 155.32381 \nz\n\" style=\"fill:#1f77b4;\"/>\n   </g>\n   <g id=\"patch_12\">\n    <path clip-path=\"url(#p5c0fd6cc53)\" d=\"M 342.9775 224.64 \nL 359.7175 224.64 \nL 359.7175 157.624762 \nL 342.9775 157.624762 \nz\n\" style=\"fill:#1f77b4;\"/>\n   </g>\n   <g id=\"matplotlib.axis_1\">\n    <g id=\"xtick_1\">\n     <g id=\"line2d_1\">\n      <defs>\n       <path d=\"M 0 0 \nL 0 3.5 \n\" id=\"m03436e3b14\" style=\"stroke:#000000;stroke-width:0.8;\"/>\n      </defs>\n      <g>\n       <use style=\"stroke:#000000;stroke-width:0.8;\" x=\"50.0275\" xlink:href=\"#m03436e3b14\" y=\"224.64\"/>\n      </g>\n     </g>\n     <g id=\"text_1\">\n      <!-- VAN NUYS -->\n      <g transform=\"translate(52.786875 282.599375)rotate(-90)scale(0.1 -0.1)\">\n       <defs>\n        <path d=\"M 1831 0 \nL 50 4666 \nL 709 4666 \nL 2188 738 \nL 3669 4666 \nL 4325 4666 \nL 2547 0 \nL 1831 0 \nz\n\" id=\"DejaVuSans-56\" transform=\"scale(0.015625)\"/>\n        <path d=\"M 2188 4044 \nL 1331 1722 \nL 3047 1722 \nL 2188 4044 \nz\nM 1831 4666 \nL 2547 4666 \nL 4325 0 \nL 3669 0 \nL 3244 1197 \nL 1141 1197 \nL 716 0 \nL 50 0 \nL 1831 4666 \nz\n\" id=\"DejaVuSans-41\" transform=\"scale(0.015625)\"/>\n        <path d=\"M 628 4666 \nL 1478 4666 \nL 3547 763 \nL 3547 4666 \nL 4159 4666 \nL 4159 0 \nL 3309 0 \nL 1241 3903 \nL 1241 0 \nL 628 0 \nL 628 4666 \nz\n\" id=\"DejaVuSans-4e\" transform=\"scale(0.015625)\"/>\n        <path id=\"DejaVuSans-20\" transform=\"scale(0.015625)\"/>\n        <path d=\"M 556 4666 \nL 1191 4666 \nL 1191 1831 \nQ 1191 1081 1462 751 \nQ 1734 422 2344 422 \nQ 2950 422 3222 751 \nQ 3494 1081 3494 1831 \nL 3494 4666 \nL 4128 4666 \nL 4128 1753 \nQ 4128 841 3676 375 \nQ 3225 -91 2344 -91 \nQ 1459 -91 1007 375 \nQ 556 841 556 1753 \nL 556 4666 \nz\n\" id=\"DejaVuSans-55\" transform=\"scale(0.015625)\"/>\n        <path d=\"M -13 4666 \nL 666 4666 \nL 1959 2747 \nL 3244 4666 \nL 3922 4666 \nL 2272 2222 \nL 2272 0 \nL 1638 0 \nL 1638 2222 \nL -13 4666 \nz\n\" id=\"DejaVuSans-59\" transform=\"scale(0.015625)\"/>\n        <path d=\"M 3425 4513 \nL 3425 3897 \nQ 3066 4069 2747 4153 \nQ 2428 4238 2131 4238 \nQ 1616 4238 1336 4038 \nQ 1056 3838 1056 3469 \nQ 1056 3159 1242 3001 \nQ 1428 2844 1947 2747 \nL 2328 2669 \nQ 3034 2534 3370 2195 \nQ 3706 1856 3706 1288 \nQ 3706 609 3251 259 \nQ 2797 -91 1919 -91 \nQ 1588 -91 1214 -16 \nQ 841 59 441 206 \nL 441 856 \nQ 825 641 1194 531 \nQ 1563 422 1919 422 \nQ 2459 422 2753 634 \nQ 3047 847 3047 1241 \nQ 3047 1584 2836 1778 \nQ 2625 1972 2144 2069 \nL 1759 2144 \nQ 1053 2284 737 2584 \nQ 422 2884 422 3419 \nQ 422 4038 858 4394 \nQ 1294 4750 2059 4750 \nQ 2388 4750 2728 4690 \nQ 3069 4631 3425 4513 \nz\n\" id=\"DejaVuSans-53\" transform=\"scale(0.015625)\"/>\n       </defs>\n       <use xlink:href=\"#DejaVuSans-56\"/>\n       <use x=\"62.033203\" xlink:href=\"#DejaVuSans-41\"/>\n       <use x=\"130.441406\" xlink:href=\"#DejaVuSans-4e\"/>\n       <use x=\"205.246094\" xlink:href=\"#DejaVuSans-20\"/>\n       <use x=\"237.033203\" xlink:href=\"#DejaVuSans-4e\"/>\n       <use x=\"311.837891\" xlink:href=\"#DejaVuSans-55\"/>\n       <use x=\"385.03125\" xlink:href=\"#DejaVuSans-59\"/>\n       <use x=\"446.115234\" xlink:href=\"#DejaVuSans-53\"/>\n      </g>\n     </g>\n    </g>\n    <g id=\"xtick_2\">\n     <g id=\"line2d_2\">\n      <g>\n       <use style=\"stroke:#000000;stroke-width:0.8;\" x=\"83.5075\" xlink:href=\"#m03436e3b14\" y=\"224.64\"/>\n      </g>\n     </g>\n     <g id=\"text_2\">\n      <!-- NORTH HOLLYWOOD -->\n      <g transform=\"translate(86.266875 334.672813)rotate(-90)scale(0.1 -0.1)\">\n       <defs>\n        <path d=\"M 2522 4238 \nQ 1834 4238 1429 3725 \nQ 1025 3213 1025 2328 \nQ 1025 1447 1429 934 \nQ 1834 422 2522 422 \nQ 3209 422 3611 934 \nQ 4013 1447 4013 2328 \nQ 4013 3213 3611 3725 \nQ 3209 4238 2522 4238 \nz\nM 2522 4750 \nQ 3503 4750 4090 4092 \nQ 4678 3434 4678 2328 \nQ 4678 1225 4090 567 \nQ 3503 -91 2522 -91 \nQ 1538 -91 948 565 \nQ 359 1222 359 2328 \nQ 359 3434 948 4092 \nQ 1538 4750 2522 4750 \nz\n\" id=\"DejaVuSans-4f\" transform=\"scale(0.015625)\"/>\n        <path d=\"M 2841 2188 \nQ 3044 2119 3236 1894 \nQ 3428 1669 3622 1275 \nL 4263 0 \nL 3584 0 \nL 2988 1197 \nQ 2756 1666 2539 1819 \nQ 2322 1972 1947 1972 \nL 1259 1972 \nL 1259 0 \nL 628 0 \nL 628 4666 \nL 2053 4666 \nQ 2853 4666 3247 4331 \nQ 3641 3997 3641 3322 \nQ 3641 2881 3436 2590 \nQ 3231 2300 2841 2188 \nz\nM 1259 4147 \nL 1259 2491 \nL 2053 2491 \nQ 2509 2491 2742 2702 \nQ 2975 2913 2975 3322 \nQ 2975 3731 2742 3939 \nQ 2509 4147 2053 4147 \nL 1259 4147 \nz\n\" id=\"DejaVuSans-52\" transform=\"scale(0.015625)\"/>\n        <path d=\"M -19 4666 \nL 3928 4666 \nL 3928 4134 \nL 2272 4134 \nL 2272 0 \nL 1638 0 \nL 1638 4134 \nL -19 4134 \nL -19 4666 \nz\n\" id=\"DejaVuSans-54\" transform=\"scale(0.015625)\"/>\n        <path d=\"M 628 4666 \nL 1259 4666 \nL 1259 2753 \nL 3553 2753 \nL 3553 4666 \nL 4184 4666 \nL 4184 0 \nL 3553 0 \nL 3553 2222 \nL 1259 2222 \nL 1259 0 \nL 628 0 \nL 628 4666 \nz\n\" id=\"DejaVuSans-48\" transform=\"scale(0.015625)\"/>\n        <path d=\"M 628 4666 \nL 1259 4666 \nL 1259 531 \nL 3531 531 \nL 3531 0 \nL 628 0 \nL 628 4666 \nz\n\" id=\"DejaVuSans-4c\" transform=\"scale(0.015625)\"/>\n        <path d=\"M 213 4666 \nL 850 4666 \nL 1831 722 \nL 2809 4666 \nL 3519 4666 \nL 4500 722 \nL 5478 4666 \nL 6119 4666 \nL 4947 0 \nL 4153 0 \nL 3169 4050 \nL 2175 0 \nL 1381 0 \nL 213 4666 \nz\n\" id=\"DejaVuSans-57\" transform=\"scale(0.015625)\"/>\n        <path d=\"M 1259 4147 \nL 1259 519 \nL 2022 519 \nQ 2988 519 3436 956 \nQ 3884 1394 3884 2338 \nQ 3884 3275 3436 3711 \nQ 2988 4147 2022 4147 \nL 1259 4147 \nz\nM 628 4666 \nL 1925 4666 \nQ 3281 4666 3915 4102 \nQ 4550 3538 4550 2338 \nQ 4550 1131 3912 565 \nQ 3275 0 1925 0 \nL 628 0 \nL 628 4666 \nz\n\" id=\"DejaVuSans-44\" transform=\"scale(0.015625)\"/>\n       </defs>\n       <use xlink:href=\"#DejaVuSans-4e\"/>\n       <use x=\"74.804688\" xlink:href=\"#DejaVuSans-4f\"/>\n       <use x=\"153.515625\" xlink:href=\"#DejaVuSans-52\"/>\n       <use x=\"215.748047\" xlink:href=\"#DejaVuSans-54\"/>\n       <use x=\"276.832031\" xlink:href=\"#DejaVuSans-48\"/>\n       <use x=\"352.027344\" xlink:href=\"#DejaVuSans-20\"/>\n       <use x=\"383.814453\" xlink:href=\"#DejaVuSans-48\"/>\n       <use x=\"459.009766\" xlink:href=\"#DejaVuSans-4f\"/>\n       <use x=\"537.720703\" xlink:href=\"#DejaVuSans-4c\"/>\n       <use x=\"593.433594\" xlink:href=\"#DejaVuSans-4c\"/>\n       <use x=\"635.896484\" xlink:href=\"#DejaVuSans-59\"/>\n       <use x=\"696.980469\" xlink:href=\"#DejaVuSans-57\"/>\n       <use x=\"795.857422\" xlink:href=\"#DejaVuSans-4f\"/>\n       <use x=\"874.568359\" xlink:href=\"#DejaVuSans-4f\"/>\n       <use x=\"953.279297\" xlink:href=\"#DejaVuSans-44\"/>\n      </g>\n     </g>\n    </g>\n    <g id=\"xtick_3\">\n     <g id=\"line2d_3\">\n      <g>\n       <use style=\"stroke:#000000;stroke-width:0.8;\" x=\"116.9875\" xlink:href=\"#m03436e3b14\" y=\"224.64\"/>\n      </g>\n     </g>\n     <g id=\"text_3\">\n      <!-- SHERMAN OAKS -->\n      <g transform=\"translate(119.746875 312.347813)rotate(-90)scale(0.1 -0.1)\">\n       <defs>\n        <path d=\"M 628 4666 \nL 3578 4666 \nL 3578 4134 \nL 1259 4134 \nL 1259 2753 \nL 3481 2753 \nL 3481 2222 \nL 1259 2222 \nL 1259 531 \nL 3634 531 \nL 3634 0 \nL 628 0 \nL 628 4666 \nz\n\" id=\"DejaVuSans-45\" transform=\"scale(0.015625)\"/>\n        <path d=\"M 628 4666 \nL 1569 4666 \nL 2759 1491 \nL 3956 4666 \nL 4897 4666 \nL 4897 0 \nL 4281 0 \nL 4281 4097 \nL 3078 897 \nL 2444 897 \nL 1241 4097 \nL 1241 0 \nL 628 0 \nL 628 4666 \nz\n\" id=\"DejaVuSans-4d\" transform=\"scale(0.015625)\"/>\n        <path d=\"M 628 4666 \nL 1259 4666 \nL 1259 2694 \nL 3353 4666 \nL 4166 4666 \nL 1850 2491 \nL 4331 0 \nL 3500 0 \nL 1259 2247 \nL 1259 0 \nL 628 0 \nL 628 4666 \nz\n\" id=\"DejaVuSans-4b\" transform=\"scale(0.015625)\"/>\n       </defs>\n       <use xlink:href=\"#DejaVuSans-53\"/>\n       <use x=\"63.476562\" xlink:href=\"#DejaVuSans-48\"/>\n       <use x=\"138.671875\" xlink:href=\"#DejaVuSans-45\"/>\n       <use x=\"201.855469\" xlink:href=\"#DejaVuSans-52\"/>\n       <use x=\"271.337891\" xlink:href=\"#DejaVuSans-4d\"/>\n       <use x=\"357.617188\" xlink:href=\"#DejaVuSans-41\"/>\n       <use x=\"426.025391\" xlink:href=\"#DejaVuSans-4e\"/>\n       <use x=\"500.830078\" xlink:href=\"#DejaVuSans-20\"/>\n       <use x=\"532.617188\" xlink:href=\"#DejaVuSans-4f\"/>\n       <use x=\"609.578125\" xlink:href=\"#DejaVuSans-41\"/>\n       <use x=\"677.986328\" xlink:href=\"#DejaVuSans-4b\"/>\n       <use x=\"743.5625\" xlink:href=\"#DejaVuSans-53\"/>\n      </g>\n     </g>\n    </g>\n    <g id=\"xtick_4\">\n     <g id=\"line2d_4\">\n      <g>\n       <use style=\"stroke:#000000;stroke-width:0.8;\" x=\"150.4675\" xlink:href=\"#m03436e3b14\" y=\"224.64\"/>\n      </g>\n     </g>\n     <g id=\"text_4\">\n      <!-- WOODLAND HILLS -->\n      <g transform=\"translate(153.226875 323.930625)rotate(-90)scale(0.1 -0.1)\">\n       <defs>\n        <path d=\"M 628 4666 \nL 1259 4666 \nL 1259 0 \nL 628 0 \nL 628 4666 \nz\n\" id=\"DejaVuSans-49\" transform=\"scale(0.015625)\"/>\n       </defs>\n       <use xlink:href=\"#DejaVuSans-57\"/>\n       <use x=\"98.876953\" xlink:href=\"#DejaVuSans-4f\"/>\n       <use x=\"177.587891\" xlink:href=\"#DejaVuSans-4f\"/>\n       <use x=\"256.298828\" xlink:href=\"#DejaVuSans-44\"/>\n       <use x=\"333.300781\" xlink:href=\"#DejaVuSans-4c\"/>\n       <use x=\"391.263672\" xlink:href=\"#DejaVuSans-41\"/>\n       <use x=\"459.671875\" xlink:href=\"#DejaVuSans-4e\"/>\n       <use x=\"534.476562\" xlink:href=\"#DejaVuSans-44\"/>\n       <use x=\"611.478516\" xlink:href=\"#DejaVuSans-20\"/>\n       <use x=\"643.265625\" xlink:href=\"#DejaVuSans-48\"/>\n       <use x=\"718.460938\" xlink:href=\"#DejaVuSans-49\"/>\n       <use x=\"747.953125\" xlink:href=\"#DejaVuSans-4c\"/>\n       <use x=\"803.666016\" xlink:href=\"#DejaVuSans-4c\"/>\n       <use x=\"859.378906\" xlink:href=\"#DejaVuSans-53\"/>\n      </g>\n     </g>\n    </g>\n    <g id=\"xtick_5\">\n     <g id=\"line2d_5\">\n      <g>\n       <use style=\"stroke:#000000;stroke-width:0.8;\" x=\"183.9475\" xlink:href=\"#m03436e3b14\" y=\"224.64\"/>\n      </g>\n     </g>\n     <g id=\"text_5\">\n      <!-- ENCINO -->\n      <g transform=\"translate(186.706875 270.725937)rotate(-90)scale(0.1 -0.1)\">\n       <defs>\n        <path d=\"M 4122 4306 \nL 4122 3641 \nQ 3803 3938 3442 4084 \nQ 3081 4231 2675 4231 \nQ 1875 4231 1450 3742 \nQ 1025 3253 1025 2328 \nQ 1025 1406 1450 917 \nQ 1875 428 2675 428 \nQ 3081 428 3442 575 \nQ 3803 722 4122 1019 \nL 4122 359 \nQ 3791 134 3420 21 \nQ 3050 -91 2638 -91 \nQ 1578 -91 968 557 \nQ 359 1206 359 2328 \nQ 359 3453 968 4101 \nQ 1578 4750 2638 4750 \nQ 3056 4750 3426 4639 \nQ 3797 4528 4122 4306 \nz\n\" id=\"DejaVuSans-43\" transform=\"scale(0.015625)\"/>\n       </defs>\n       <use xlink:href=\"#DejaVuSans-45\"/>\n       <use x=\"63.183594\" xlink:href=\"#DejaVuSans-4e\"/>\n       <use x=\"137.988281\" xlink:href=\"#DejaVuSans-43\"/>\n       <use x=\"207.8125\" xlink:href=\"#DejaVuSans-49\"/>\n       <use x=\"237.304688\" xlink:href=\"#DejaVuSans-4e\"/>\n       <use x=\"312.109375\" xlink:href=\"#DejaVuSans-4f\"/>\n      </g>\n     </g>\n    </g>\n    <g id=\"xtick_6\">\n     <g id=\"line2d_6\">\n      <g>\n       <use style=\"stroke:#000000;stroke-width:0.8;\" x=\"217.4275\" xlink:href=\"#m03436e3b14\" y=\"224.64\"/>\n      </g>\n     </g>\n     <g id=\"text_6\">\n      <!-- NORTHRIDGE -->\n      <g transform=\"translate(220.186875 298.510312)rotate(-90)scale(0.1 -0.1)\">\n       <defs>\n        <path d=\"M 3809 666 \nL 3809 1919 \nL 2778 1919 \nL 2778 2438 \nL 4434 2438 \nL 4434 434 \nQ 4069 175 3628 42 \nQ 3188 -91 2688 -91 \nQ 1594 -91 976 548 \nQ 359 1188 359 2328 \nQ 359 3472 976 4111 \nQ 1594 4750 2688 4750 \nQ 3144 4750 3555 4637 \nQ 3966 4525 4313 4306 \nL 4313 3634 \nQ 3963 3931 3569 4081 \nQ 3175 4231 2741 4231 \nQ 1884 4231 1454 3753 \nQ 1025 3275 1025 2328 \nQ 1025 1384 1454 906 \nQ 1884 428 2741 428 \nQ 3075 428 3337 486 \nQ 3600 544 3809 666 \nz\n\" id=\"DejaVuSans-47\" transform=\"scale(0.015625)\"/>\n       </defs>\n       <use xlink:href=\"#DejaVuSans-4e\"/>\n       <use x=\"74.804688\" xlink:href=\"#DejaVuSans-4f\"/>\n       <use x=\"153.515625\" xlink:href=\"#DejaVuSans-52\"/>\n       <use x=\"215.748047\" xlink:href=\"#DejaVuSans-54\"/>\n       <use x=\"276.832031\" xlink:href=\"#DejaVuSans-48\"/>\n       <use x=\"352.027344\" xlink:href=\"#DejaVuSans-52\"/>\n       <use x=\"421.509766\" xlink:href=\"#DejaVuSans-49\"/>\n       <use x=\"451.001953\" xlink:href=\"#DejaVuSans-44\"/>\n       <use x=\"528.003906\" xlink:href=\"#DejaVuSans-47\"/>\n       <use x=\"605.494141\" xlink:href=\"#DejaVuSans-45\"/>\n      </g>\n     </g>\n    </g>\n    <g id=\"xtick_7\">\n     <g id=\"line2d_7\">\n      <g>\n       <use style=\"stroke:#000000;stroke-width:0.8;\" x=\"250.9075\" xlink:href=\"#m03436e3b14\" y=\"224.64\"/>\n      </g>\n     </g>\n     <g id=\"text_7\">\n      <!-- RESEDA -->\n      <g transform=\"translate(253.666875 271.94)rotate(-90)scale(0.1 -0.1)\">\n       <use xlink:href=\"#DejaVuSans-52\"/>\n       <use x=\"69.482422\" xlink:href=\"#DejaVuSans-45\"/>\n       <use x=\"132.666016\" xlink:href=\"#DejaVuSans-53\"/>\n       <use x=\"196.142578\" xlink:href=\"#DejaVuSans-45\"/>\n       <use x=\"259.326172\" xlink:href=\"#DejaVuSans-44\"/>\n       <use x=\"334.578125\" xlink:href=\"#DejaVuSans-41\"/>\n      </g>\n     </g>\n    </g>\n    <g id=\"xtick_8\">\n     <g id=\"line2d_8\">\n      <g>\n       <use style=\"stroke:#000000;stroke-width:0.8;\" x=\"284.3875\" xlink:href=\"#m03436e3b14\" y=\"224.64\"/>\n      </g>\n     </g>\n     <g id=\"text_8\">\n      <!-- CANOGA PARK -->\n      <g transform=\"translate(287.146875 304.322812)rotate(-90)scale(0.1 -0.1)\">\n       <defs>\n        <path d=\"M 1259 4147 \nL 1259 2394 \nL 2053 2394 \nQ 2494 2394 2734 2622 \nQ 2975 2850 2975 3272 \nQ 2975 3691 2734 3919 \nQ 2494 4147 2053 4147 \nL 1259 4147 \nz\nM 628 4666 \nL 2053 4666 \nQ 2838 4666 3239 4311 \nQ 3641 3956 3641 3272 \nQ 3641 2581 3239 2228 \nQ 2838 1875 2053 1875 \nL 1259 1875 \nL 1259 0 \nL 628 0 \nL 628 4666 \nz\n\" id=\"DejaVuSans-50\" transform=\"scale(0.015625)\"/>\n       </defs>\n       <use xlink:href=\"#DejaVuSans-43\"/>\n       <use x=\"69.824219\" xlink:href=\"#DejaVuSans-41\"/>\n       <use x=\"138.232422\" xlink:href=\"#DejaVuSans-4e\"/>\n       <use x=\"213.037109\" xlink:href=\"#DejaVuSans-4f\"/>\n       <use x=\"291.748047\" xlink:href=\"#DejaVuSans-47\"/>\n       <use x=\"369.238281\" xlink:href=\"#DejaVuSans-41\"/>\n       <use x=\"437.646484\" xlink:href=\"#DejaVuSans-20\"/>\n       <use x=\"469.433594\" xlink:href=\"#DejaVuSans-50\"/>\n       <use x=\"523.361328\" xlink:href=\"#DejaVuSans-41\"/>\n       <use x=\"591.769531\" xlink:href=\"#DejaVuSans-52\"/>\n       <use x=\"661.251953\" xlink:href=\"#DejaVuSans-4b\"/>\n      </g>\n     </g>\n    </g>\n    <g id=\"xtick_9\">\n     <g id=\"line2d_9\">\n      <g>\n       <use style=\"stroke:#000000;stroke-width:0.8;\" x=\"317.8675\" xlink:href=\"#m03436e3b14\" y=\"224.64\"/>\n      </g>\n     </g>\n     <g id=\"text_9\">\n      <!-- TARZANA -->\n      <g transform=\"translate(320.626875 278.774375)rotate(-90)scale(0.1 -0.1)\">\n       <defs>\n        <path d=\"M 359 4666 \nL 4025 4666 \nL 4025 4184 \nL 1075 531 \nL 4097 531 \nL 4097 0 \nL 288 0 \nL 288 481 \nL 3238 4134 \nL 359 4134 \nL 359 4666 \nz\n\" id=\"DejaVuSans-5a\" transform=\"scale(0.015625)\"/>\n       </defs>\n       <use xlink:href=\"#DejaVuSans-54\"/>\n       <use x=\"53.333984\" xlink:href=\"#DejaVuSans-41\"/>\n       <use x=\"121.742188\" xlink:href=\"#DejaVuSans-52\"/>\n       <use x=\"191.224609\" xlink:href=\"#DejaVuSans-5a\"/>\n       <use x=\"259.730469\" xlink:href=\"#DejaVuSans-41\"/>\n       <use x=\"328.138672\" xlink:href=\"#DejaVuSans-4e\"/>\n       <use x=\"402.943359\" xlink:href=\"#DejaVuSans-41\"/>\n      </g>\n     </g>\n    </g>\n    <g id=\"xtick_10\">\n     <g id=\"line2d_10\">\n      <g>\n       <use style=\"stroke:#000000;stroke-width:0.8;\" x=\"351.3475\" xlink:href=\"#m03436e3b14\" y=\"224.64\"/>\n      </g>\n     </g>\n     <g id=\"text_10\">\n      <!-- STUDIO CITY -->\n      <g transform=\"translate(354.106875 295.263438)rotate(-90)scale(0.1 -0.1)\">\n       <use xlink:href=\"#DejaVuSans-53\"/>\n       <use x=\"63.476562\" xlink:href=\"#DejaVuSans-54\"/>\n       <use x=\"124.560547\" xlink:href=\"#DejaVuSans-55\"/>\n       <use x=\"197.753906\" xlink:href=\"#DejaVuSans-44\"/>\n       <use x=\"274.755859\" xlink:href=\"#DejaVuSans-49\"/>\n       <use x=\"304.248047\" xlink:href=\"#DejaVuSans-4f\"/>\n       <use x=\"382.958984\" xlink:href=\"#DejaVuSans-20\"/>\n       <use x=\"414.746094\" xlink:href=\"#DejaVuSans-43\"/>\n       <use x=\"484.570312\" xlink:href=\"#DejaVuSans-49\"/>\n       <use x=\"514.0625\" xlink:href=\"#DejaVuSans-54\"/>\n       <use x=\"575.146484\" xlink:href=\"#DejaVuSans-59\"/>\n      </g>\n     </g>\n    </g>\n   </g>\n   <g id=\"matplotlib.axis_2\">\n    <g id=\"ytick_1\">\n     <g id=\"line2d_11\">\n      <defs>\n       <path d=\"M 0 0 \nL -3.5 0 \n\" id=\"mab7dc36463\" style=\"stroke:#000000;stroke-width:0.8;\"/>\n      </defs>\n      <g>\n       <use style=\"stroke:#000000;stroke-width:0.8;\" x=\"33.2875\" xlink:href=\"#mab7dc36463\" y=\"224.64\"/>\n      </g>\n     </g>\n     <g id=\"text_11\">\n      <!-- 0 -->\n      <g transform=\"translate(19.925 228.439219)scale(0.1 -0.1)\">\n       <defs>\n        <path d=\"M 2034 4250 \nQ 1547 4250 1301 3770 \nQ 1056 3291 1056 2328 \nQ 1056 1369 1301 889 \nQ 1547 409 2034 409 \nQ 2525 409 2770 889 \nQ 3016 1369 3016 2328 \nQ 3016 3291 2770 3770 \nQ 2525 4250 2034 4250 \nz\nM 2034 4750 \nQ 2819 4750 3233 4129 \nQ 3647 3509 3647 2328 \nQ 3647 1150 3233 529 \nQ 2819 -91 2034 -91 \nQ 1250 -91 836 529 \nQ 422 1150 422 2328 \nQ 422 3509 836 4129 \nQ 1250 4750 2034 4750 \nz\n\" id=\"DejaVuSans-30\" transform=\"scale(0.015625)\"/>\n       </defs>\n       <use xlink:href=\"#DejaVuSans-30\"/>\n      </g>\n     </g>\n    </g>\n    <g id=\"ytick_2\">\n     <g id=\"line2d_12\">\n      <g>\n       <use style=\"stroke:#000000;stroke-width:0.8;\" x=\"33.2875\" xlink:href=\"#mab7dc36463\" y=\"195.878095\"/>\n      </g>\n     </g>\n     <g id=\"text_12\">\n      <!-- 100 -->\n      <g transform=\"translate(7.2 199.677314)scale(0.1 -0.1)\">\n       <defs>\n        <path d=\"M 794 531 \nL 1825 531 \nL 1825 4091 \nL 703 3866 \nL 703 4441 \nL 1819 4666 \nL 2450 4666 \nL 2450 531 \nL 3481 531 \nL 3481 0 \nL 794 0 \nL 794 531 \nz\n\" id=\"DejaVuSans-31\" transform=\"scale(0.015625)\"/>\n       </defs>\n       <use xlink:href=\"#DejaVuSans-31\"/>\n       <use x=\"63.623047\" xlink:href=\"#DejaVuSans-30\"/>\n       <use x=\"127.246094\" xlink:href=\"#DejaVuSans-30\"/>\n      </g>\n     </g>\n    </g>\n    <g id=\"ytick_3\">\n     <g id=\"line2d_13\">\n      <g>\n       <use style=\"stroke:#000000;stroke-width:0.8;\" x=\"33.2875\" xlink:href=\"#mab7dc36463\" y=\"167.11619\"/>\n      </g>\n     </g>\n     <g id=\"text_13\">\n      <!-- 200 -->\n      <g transform=\"translate(7.2 170.915409)scale(0.1 -0.1)\">\n       <defs>\n        <path d=\"M 1228 531 \nL 3431 531 \nL 3431 0 \nL 469 0 \nL 469 531 \nQ 828 903 1448 1529 \nQ 2069 2156 2228 2338 \nQ 2531 2678 2651 2914 \nQ 2772 3150 2772 3378 \nQ 2772 3750 2511 3984 \nQ 2250 4219 1831 4219 \nQ 1534 4219 1204 4116 \nQ 875 4013 500 3803 \nL 500 4441 \nQ 881 4594 1212 4672 \nQ 1544 4750 1819 4750 \nQ 2544 4750 2975 4387 \nQ 3406 4025 3406 3419 \nQ 3406 3131 3298 2873 \nQ 3191 2616 2906 2266 \nQ 2828 2175 2409 1742 \nQ 1991 1309 1228 531 \nz\n\" id=\"DejaVuSans-32\" transform=\"scale(0.015625)\"/>\n       </defs>\n       <use xlink:href=\"#DejaVuSans-32\"/>\n       <use x=\"63.623047\" xlink:href=\"#DejaVuSans-30\"/>\n       <use x=\"127.246094\" xlink:href=\"#DejaVuSans-30\"/>\n      </g>\n     </g>\n    </g>\n    <g id=\"ytick_4\">\n     <g id=\"line2d_14\">\n      <g>\n       <use style=\"stroke:#000000;stroke-width:0.8;\" x=\"33.2875\" xlink:href=\"#mab7dc36463\" y=\"138.354286\"/>\n      </g>\n     </g>\n     <g id=\"text_14\">\n      <!-- 300 -->\n      <g transform=\"translate(7.2 142.153504)scale(0.1 -0.1)\">\n       <defs>\n        <path d=\"M 2597 2516 \nQ 3050 2419 3304 2112 \nQ 3559 1806 3559 1356 \nQ 3559 666 3084 287 \nQ 2609 -91 1734 -91 \nQ 1441 -91 1130 -33 \nQ 819 25 488 141 \nL 488 750 \nQ 750 597 1062 519 \nQ 1375 441 1716 441 \nQ 2309 441 2620 675 \nQ 2931 909 2931 1356 \nQ 2931 1769 2642 2001 \nQ 2353 2234 1838 2234 \nL 1294 2234 \nL 1294 2753 \nL 1863 2753 \nQ 2328 2753 2575 2939 \nQ 2822 3125 2822 3475 \nQ 2822 3834 2567 4026 \nQ 2313 4219 1838 4219 \nQ 1578 4219 1281 4162 \nQ 984 4106 628 3988 \nL 628 4550 \nQ 988 4650 1302 4700 \nQ 1616 4750 1894 4750 \nQ 2613 4750 3031 4423 \nQ 3450 4097 3450 3541 \nQ 3450 3153 3228 2886 \nQ 3006 2619 2597 2516 \nz\n\" id=\"DejaVuSans-33\" transform=\"scale(0.015625)\"/>\n       </defs>\n       <use xlink:href=\"#DejaVuSans-33\"/>\n       <use x=\"63.623047\" xlink:href=\"#DejaVuSans-30\"/>\n       <use x=\"127.246094\" xlink:href=\"#DejaVuSans-30\"/>\n      </g>\n     </g>\n    </g>\n    <g id=\"ytick_5\">\n     <g id=\"line2d_15\">\n      <g>\n       <use style=\"stroke:#000000;stroke-width:0.8;\" x=\"33.2875\" xlink:href=\"#mab7dc36463\" y=\"109.592381\"/>\n      </g>\n     </g>\n     <g id=\"text_15\">\n      <!-- 400 -->\n      <g transform=\"translate(7.2 113.3916)scale(0.1 -0.1)\">\n       <defs>\n        <path d=\"M 2419 4116 \nL 825 1625 \nL 2419 1625 \nL 2419 4116 \nz\nM 2253 4666 \nL 3047 4666 \nL 3047 1625 \nL 3713 1625 \nL 3713 1100 \nL 3047 1100 \nL 3047 0 \nL 2419 0 \nL 2419 1100 \nL 313 1100 \nL 313 1709 \nL 2253 4666 \nz\n\" id=\"DejaVuSans-34\" transform=\"scale(0.015625)\"/>\n       </defs>\n       <use xlink:href=\"#DejaVuSans-34\"/>\n       <use x=\"63.623047\" xlink:href=\"#DejaVuSans-30\"/>\n       <use x=\"127.246094\" xlink:href=\"#DejaVuSans-30\"/>\n      </g>\n     </g>\n    </g>\n    <g id=\"ytick_6\">\n     <g id=\"line2d_16\">\n      <g>\n       <use style=\"stroke:#000000;stroke-width:0.8;\" x=\"33.2875\" xlink:href=\"#mab7dc36463\" y=\"80.830476\"/>\n      </g>\n     </g>\n     <g id=\"text_16\">\n      <!-- 500 -->\n      <g transform=\"translate(7.2 84.629695)scale(0.1 -0.1)\">\n       <defs>\n        <path d=\"M 691 4666 \nL 3169 4666 \nL 3169 4134 \nL 1269 4134 \nL 1269 2991 \nQ 1406 3038 1543 3061 \nQ 1681 3084 1819 3084 \nQ 2600 3084 3056 2656 \nQ 3513 2228 3513 1497 \nQ 3513 744 3044 326 \nQ 2575 -91 1722 -91 \nQ 1428 -91 1123 -41 \nQ 819 9 494 109 \nL 494 744 \nQ 775 591 1075 516 \nQ 1375 441 1709 441 \nQ 2250 441 2565 725 \nQ 2881 1009 2881 1497 \nQ 2881 1984 2565 2268 \nQ 2250 2553 1709 2553 \nQ 1456 2553 1204 2497 \nQ 953 2441 691 2322 \nL 691 4666 \nz\n\" id=\"DejaVuSans-35\" transform=\"scale(0.015625)\"/>\n       </defs>\n       <use xlink:href=\"#DejaVuSans-35\"/>\n       <use x=\"63.623047\" xlink:href=\"#DejaVuSans-30\"/>\n       <use x=\"127.246094\" xlink:href=\"#DejaVuSans-30\"/>\n      </g>\n     </g>\n    </g>\n    <g id=\"ytick_7\">\n     <g id=\"line2d_17\">\n      <g>\n       <use style=\"stroke:#000000;stroke-width:0.8;\" x=\"33.2875\" xlink:href=\"#mab7dc36463\" y=\"52.068571\"/>\n      </g>\n     </g>\n     <g id=\"text_17\">\n      <!-- 600 -->\n      <g transform=\"translate(7.2 55.86779)scale(0.1 -0.1)\">\n       <defs>\n        <path d=\"M 2113 2584 \nQ 1688 2584 1439 2293 \nQ 1191 2003 1191 1497 \nQ 1191 994 1439 701 \nQ 1688 409 2113 409 \nQ 2538 409 2786 701 \nQ 3034 994 3034 1497 \nQ 3034 2003 2786 2293 \nQ 2538 2584 2113 2584 \nz\nM 3366 4563 \nL 3366 3988 \nQ 3128 4100 2886 4159 \nQ 2644 4219 2406 4219 \nQ 1781 4219 1451 3797 \nQ 1122 3375 1075 2522 \nQ 1259 2794 1537 2939 \nQ 1816 3084 2150 3084 \nQ 2853 3084 3261 2657 \nQ 3669 2231 3669 1497 \nQ 3669 778 3244 343 \nQ 2819 -91 2113 -91 \nQ 1303 -91 875 529 \nQ 447 1150 447 2328 \nQ 447 3434 972 4092 \nQ 1497 4750 2381 4750 \nQ 2619 4750 2861 4703 \nQ 3103 4656 3366 4563 \nz\n\" id=\"DejaVuSans-36\" transform=\"scale(0.015625)\"/>\n       </defs>\n       <use xlink:href=\"#DejaVuSans-36\"/>\n       <use x=\"63.623047\" xlink:href=\"#DejaVuSans-30\"/>\n       <use x=\"127.246094\" xlink:href=\"#DejaVuSans-30\"/>\n      </g>\n     </g>\n    </g>\n    <g id=\"ytick_8\">\n     <g id=\"line2d_18\">\n      <g>\n       <use style=\"stroke:#000000;stroke-width:0.8;\" x=\"33.2875\" xlink:href=\"#mab7dc36463\" y=\"23.306667\"/>\n      </g>\n     </g>\n     <g id=\"text_18\">\n      <!-- 700 -->\n      <g transform=\"translate(7.2 27.105885)scale(0.1 -0.1)\">\n       <defs>\n        <path d=\"M 525 4666 \nL 3525 4666 \nL 3525 4397 \nL 1831 0 \nL 1172 0 \nL 2766 4134 \nL 525 4134 \nL 525 4666 \nz\n\" id=\"DejaVuSans-37\" transform=\"scale(0.015625)\"/>\n       </defs>\n       <use xlink:href=\"#DejaVuSans-37\"/>\n       <use x=\"63.623047\" xlink:href=\"#DejaVuSans-30\"/>\n       <use x=\"127.246094\" xlink:href=\"#DejaVuSans-30\"/>\n      </g>\n     </g>\n    </g>\n   </g>\n   <g id=\"patch_13\">\n    <path d=\"M 33.2875 224.64 \nL 33.2875 7.2 \n\" style=\"fill:none;stroke:#000000;stroke-linecap:square;stroke-linejoin:miter;stroke-width:0.8;\"/>\n   </g>\n   <g id=\"patch_14\">\n    <path d=\"M 368.0875 224.64 \nL 368.0875 7.2 \n\" style=\"fill:none;stroke:#000000;stroke-linecap:square;stroke-linejoin:miter;stroke-width:0.8;\"/>\n   </g>\n   <g id=\"patch_15\">\n    <path d=\"M 33.2875 224.64 \nL 368.0875 224.64 \n\" style=\"fill:none;stroke:#000000;stroke-linecap:square;stroke-linejoin:miter;stroke-width:0.8;\"/>\n   </g>\n   <g id=\"patch_16\">\n    <path d=\"M 33.2875 7.2 \nL 368.0875 7.2 \n\" style=\"fill:none;stroke:#000000;stroke-linecap:square;stroke-linejoin:miter;stroke-width:0.8;\"/>\n   </g>\n  </g>\n </g>\n <defs>\n  <clipPath id=\"p5c0fd6cc53\">\n   <rect height=\"217.44\" width=\"334.8\" x=\"33.2875\" y=\"7.2\"/>\n  </clipPath>\n </defs>\n</svg>\n",
      "image/png": "[encoded data removed]"
     },
     "metadata": {
      "needs_background": "light"
     }
    }
   ],
   "metadata": {}
  },
  {
   "cell_type": "markdown",
   "source": [
    "### Q7 [4 points] Among rows where both ZIP CODE and MAILING ZIP CODE are not missing, what fraction of rows have different values for these two columns?"
   ],
   "metadata": {}
  },
  {
   "cell_type": "code",
   "execution_count": 56,
   "source": [
    "q7 = activeBusiness[activeBusiness[\"ZIP CODE\"].notnull() & activeBusiness[\"MAILING ZIP CODE\"].notnull()][[\"ZIP CODE\",\"MAILING ZIP CODE\"]]\n",
    "print(\"Fraction of rows with different ZIP CODE & MAILING ZIP CODE:\",q7[q7[\"ZIP CODE\"] != q7[\"MAILING ZIP CODE\"]].shape[0]/q7.shape[0])"
   ],
   "outputs": [
    {
     "output_type": "stream",
     "name": "stdout",
     "text": [
      "Fraction of rows with different ZIP CODE & MAILING ZIP CODE: 0.5952614059134521\n"
     ]
    }
   ],
   "metadata": {}
  },
  {
   "cell_type": "markdown",
   "source": [
    "### Q8 [4 points] How many unique STREET ADDRESSes have a single character as their second word?\n",
    "\n",
    "For example, the second word of \"1155 N LA CIENEGA BLVD\" is \"N\"."
   ],
   "metadata": {}
  },
  {
   "cell_type": "code",
   "execution_count": 73,
   "source": [
    "def SecondWordSize(x):\n",
    "    t = x.split()\n",
    "    if len(t)<2:\n",
    "        return False\n",
    "    else:\n",
    "        return len(t[1]) == 1\n",
    "\n",
    "print(\"Number of Unique Street Addresses: \",activeBusiness[activeBusiness[\"STREET ADDRESS\"].apply(lambda x: (SecondWordSize(x)))][\"STREET ADDRESS\"].unique().size)"
   ],
   "outputs": [
    {
     "output_type": "stream",
     "name": "stdout",
     "text": [
      "Number of Unique Street Addresses:  5950\n"
     ]
    }
   ],
   "metadata": {}
  },
  {
   "cell_type": "markdown",
   "source": [
    "### Q9 [4 points] Among rows where NAICS is not missing, what fraction also have PRIMARY NAICS DESCRIPTION also not missing?"
   ],
   "metadata": {}
  },
  {
   "cell_type": "code",
   "execution_count": 95,
   "source": [
    "print(\"Fraction of PRIMARY NAICS DESCRIPTION NOT missing:\",1 - activeBusiness[activeBusiness[\"NAICS\"].isnull() == False][\"PRIMARY NAICS DESCRIPTION\"].isnull().mean())"
   ],
   "outputs": [
    {
     "output_type": "stream",
     "name": "stdout",
     "text": [
      "Fraction of PRIMARY NAICS DESCRIPTION NOT missing: 1.0\n"
     ]
    }
   ],
   "metadata": {}
  },
  {
   "cell_type": "markdown",
   "source": [
    "### Q10 [4 points] Find all unique BUSINESS NAMEs where the CITY in which the business is located is part of the BUSINESS NAME.\n",
    "\n",
    "For example, \"LOS ANGELES VALLEY CAREGIVERS, INC.\" in the city of LOS ANGELES."
   ],
   "metadata": {}
  },
  {
   "cell_type": "code",
   "execution_count": 114,
   "source": [
    "q10 = list(activeBusiness[activeBusiness.apply(lambda row: ( (str)(row[\"CITY\"]) in row[\"BUSINESS NAME\"]),axis = 1)][\"BUSINESS NAME\"].unique())\n",
    "print(\"List of all {} UNIQUE BUSINESS NAME:\\n\".format(len(q10)), q10)"
   ],
   "outputs": [
    {
     "output_type": "stream",
     "name": "stdout",
     "text": [
      "List of all 112 UNIQUE BUSINESS NAME:\n",
      " ['LOS ANGELES DRAMA CLUB', 'RESEDA PHARMACY INC', 'URBAN PARTNERS LOS ANGELES INC', 'SHERMAN OAKS-A, INC', 'ENCINO STARDUST INVESTMENT COMPANY', 'LOS ANGELES PSYCHOANALYTIC SOCIETY & INSTITUTE', 'EL LEON CIGARS DE LOS ANGELES INC', 'ONTARIO CHAMMBER OF COMMERCE', 'GALLAGHER DESIGNS LOS ANGELES', 'VENICE ALE HOUSE LLC', 'KIDS ENJOY EXERCISE NOW (KEEN) LOS ANGELES LLC', 'COTNER LOS ANGELES LLC', 'LOS ANGELES MOBILE TRUCK WASH LLC', 'CANOGA PARK COMMUNITY CENTER', 'VALLEY VILLAGE MANAGEMENT CORPORATION', '1533 N MCCADDEN PLACE LOS ANGELES CA 90028 FAMILY TRUST', 'A A OFICINA CENTRAL HISPANA DE LOS ANGELES /C', 'LOS ANGELES KIDNEY CENTER A PMC', 'TARZANA LOCK AND SAFE INC', 'METROPOLIS LOS ANGELES LLC', 'ONTARIO SUPER 8 INC', 'KOLLEL-LOS ANGELES /C', 'CITY OF LOS ANGELES', 'SPAY NEUTER PROJECT OF LOS ANGELES INC', 'LOS ANGELES SECURITY ACADEMY INC', 'NATIONAL COUNCIL OF JEWISH WOMEN INC/LOS ANGELES SECTION', 'M & B CARPET SUPPLIERS OF TEMPLE CITY INC', 'SUNLAND INVESTMENT GROUP INC', 'LOS ANGELES HOMEOWNERS AID INC', 'LOS ANGELES CITY FIRE DEPARTMENT', 'ENCINO PROPERTY BUSINESS IMPROVEMENT DISTRICT', 'LOS ANGELES SLEEP INSTITUTE, INC.', 'THE SHERMAN OAKS NURSERY SCHOOL /C', 'LOS ANGELES LDA SERVICES', 'MA DE LOS ANGELES MARTINEZ', 'COMMERCE HOSE/INDUSTRIAL PRODUCTS INC', 'FIRST MOTOR GROUP OF ENCINO LLC', 'PREMIER SURGICAL PAVILION OF LOS ANGELES CORP.', 'CASA DE CARLOS-CHATSWORTH INC', 'METRO VILLAS PHASE 2 LOS ANGELES LP', 'ENCINO CARE PHARMACY INC', 'ANAHEIM STONE WORKS, INC.', 'LOS ANGELES VOLLEYBALL CLUB', 'WILMINGTON RETAIL CENTER LLC', 'LOS ANGELES PARTNERSHIP INC', 'LOS ANGELES OPERA CO /C', 'VENICE HILLS, INC.', 'BILL JOHN LOS ANGELES, LLC', 'LOS ANGELES HEMATOLOGY / ONCOLOGY MEDICAL GROUP', 'SENIOR CITIZENS HOUSING DEVELOPMENT CORPORATION OF LOS ANGELES', 'RADIOLOGY DISC OF ENCINO INC', 'VETCOR OF LOS ANGELES LP', 'VENICEKUSH BRAND LLC', 'VALLEY VILLAGE FRIENDLY FAMILY', 'RAINTREE PLAZA AT SHERMAN OAKS LLC', 'BILL JOHNSON LOS ANGELES LLC', 'WOODLAND HILLS GROCERY MARKET, INC', 'LOS ANGELES MOVEMENT STRENGTH LLC', 'MISSION HILLS PARTNERS LLC', 'APOLLO WEST THEATRE AND DRAMA WORKSHOP CARSON PLAYERS', 'ACUCENTER OF LOS ANGELES, INC', 'SUSTAINABLE ECONOMIC ENTERPRISES OF LOS ANGELES /C', 'TARZANA BAKERY & CAFE INC', 'BLAME LOS ANGELES, LLC', 'BREA/ORANGE COUNTY PLUMBING,HEATING & A.C., INC.', 'LOS ANGELES ALUMNI CHAPTER DELTA SIGMA THETA INC', 'AUTO RECYCLING OF WILMINGTON INC', 'MTD PROPERTIES LOS ANGELES INC', 'CONCERNED CITIZENS OF SOUTH CENTRAL LOS ANGELES/C', 'SHERMAN OAKS CHAMBER FOUNDATION', 'LOS ANGELES CITY BD OF EDUCN', 'BURBANK GLENOAKS LLC', 'ORANGE COAST PETROLEUM EQUIPMENT INC', 'NORTH VENICE BOARDWALK LLC', 'MT CHAPEL BAPTIST CHURCH OF LOS ANGELES /C', 'THE PUBLIC HEALTH FOUNDATION OF LOS ANGELES COUNTY INC', 'YIDDISHKAYT LOS ANGELES', 'TARZANA SENIOR LIVING, INC.', 'LOS ANGELES CARES MENTORING MOVEMENT', 'AA OFICINA CENTRAL HISPANA DE LOS ANGELES', 'LOS ANGELES SECOND BAPTIST HOMES INC', 'PLANNED PARENTHOOD LOS ANGELES', 'PLAYA VISTA PARKS AND LANDSCAPE CORPORATION', 'GARDENA TERRACE VENTURES LLC', 'SAN BERNARDINO REGIONAL EMERGENCY TRAINING CENTER JOINT POWERS OF AUTHORITY', 'VAN NUYS PLATING INC', 'LOS ANGELES HOME OWNERS AID INC', 'LOS ANGELES REGIONAL FAMILY PREGNANCY PREVENTION', '1021 1132 N WILMINGTON AVENUE LLC', 'ZELMAN CHATSWORTH LP', 'ROWI ENCINO INC', 'LOS ANGELES UNITED INVESTMENT CO/C', 'LOS ANGELES ORTHOPAEDIC CENTER MED GROUP', 'NORTHRIDGE PROPERTY LLC', 'ARCHDIOCESE OF LOS ANGELES EDUCATION/WELFARE CORP', 'URBAN NEIGHBORHOOD LOS ANGELES MB, LLC', 'SMOKERS ZONE LOS ANGELES', 'CATHOLIC CHARITIES OF LOS ANGELES INC', 'LOS ANGELES POLICE DEPARTMENT VENICE LAW ENFORCEMENT EXPLORER POST 1400', 'LOS ANGELES INFANT TODDLER ACADEMY /C', 'JUST FIT LOS ANGELES LLC', '23668 MALIBU COLONY RD. LLC', 'LOS ANGELES URBAN LEAGUE', 'LOS ANGELES ORTHOPAEDIC MEDICAL CENTER/C', 'WHITTIER FIGHT SHOP INC', 'LOS ANGELES MOTOR CARS INC', 'PQ ENCINO BAKERY INC', 'GARDENA HD ASSOCIATES', 'PACOIMA CENTER LLC', 'BURLINGTON SAFETY LABORATORY INC', 'SYLMAR INDEPENDENT BASEBALL LEAGUE, INC', 'BIOFEEDBACK INSTITUTE OF LOS ANGELES /C']\n"
     ]
    }
   ],
   "metadata": {}
  },
  {
   "cell_type": "markdown",
   "source": [
    "### Q11 [4 points] Print out all cities with 5 or more unique council districts associated with them."
   ],
   "metadata": {}
  },
  {
   "cell_type": "code",
   "execution_count": 120,
   "source": [
    "q11 = activeBusiness[[\"CITY\",\"COUNCIL DISTRICT\"]].drop_duplicates().groupby(\"CITY\")[\"COUNCIL DISTRICT\"].size().sort_values(ascending=False)\n",
    "q11[q11>4]"
   ],
   "outputs": [
    {
     "output_type": "execute_result",
     "data": {
      "text/plain": [
       "CITY\n",
       "LOS ANGELES        13\n",
       "VAN NUYS            6\n",
       "SHERMAN OAKS        6\n",
       "NORTHRIDGE          6\n",
       "NORTH HOLLYWOOD     5\n",
       "ENCINO              5\n",
       "Name: COUNCIL DISTRICT, dtype: int64"
      ]
     },
     "metadata": {},
     "execution_count": 120
    }
   ],
   "metadata": {}
  },
  {
   "cell_type": "markdown",
   "source": [
    "### Q12 [6 points] Multiple NAICS\n",
    "Find all instances where there are several different NAICS for the same PRIMARY NAICS DESCRIPTION. Print out these NAICS and PRIMARY NAICS DESCRIPTIONs."
   ],
   "metadata": {}
  },
  {
   "cell_type": "code",
   "execution_count": 137,
   "source": [
    "q12 = activeBusiness[[\"NAICS\",\"PRIMARY NAICS DESCRIPTION\"]].drop_duplicates().groupby(\"PRIMARY NAICS DESCRIPTION\")\n",
    "multiNAICS = list(q12.size()[q12.size() > 1].index.values)\n",
    "\n",
    "q12.get_group(multiNAICS[0])"
   ],
   "outputs": [
    {
     "output_type": "execute_result",
     "data": {
      "text/plain": [
       "        NAICS PRIMARY NAICS DESCRIPTION\n",
       "696  445290.0   Home furnishings stores\n",
       "919  442200.0   Home furnishings stores"
      ],
      "text/html": [
       "<div>\n",
       "<style scoped>\n",
       "    .dataframe tbody tr th:only-of-type {\n",
       "        vertical-align: middle;\n",
       "    }\n",
       "\n",
       "    .dataframe tbody tr th {\n",
       "        vertical-align: top;\n",
       "    }\n",
       "\n",
       "    .dataframe thead th {\n",
       "        text-align: right;\n",
       "    }\n",
       "</style>\n",
       "<table border=\"1\" class=\"dataframe\">\n",
       "  <thead>\n",
       "    <tr style=\"text-align: right;\">\n",
       "      <th></th>\n",
       "      <th>NAICS</th>\n",
       "      <th>PRIMARY NAICS DESCRIPTION</th>\n",
       "    </tr>\n",
       "  </thead>\n",
       "  <tbody>\n",
       "    <tr>\n",
       "      <th>696</th>\n",
       "      <td>445290.0</td>\n",
       "      <td>Home furnishings stores</td>\n",
       "    </tr>\n",
       "    <tr>\n",
       "      <th>919</th>\n",
       "      <td>442200.0</td>\n",
       "      <td>Home furnishings stores</td>\n",
       "    </tr>\n",
       "  </tbody>\n",
       "</table>\n",
       "</div>"
      ]
     },
     "metadata": {},
     "execution_count": 137
    }
   ],
   "metadata": {}
  },
  {
   "cell_type": "markdown",
   "source": [
    "### Q13 [6 points] Plot the frequency of street last-names.\n",
    "\n",
    "The street last-name is defined as follows:\n",
    "* Look at a STREET ADDRESS (e.g., \"5670 WILSHIRE BLVD #B 1\")\n",
    "* Read its words backwards (here:, \"1\", \"#B\", \"BLVD\", \"WILSHIRE\", \"5670\")\n",
    "* Pick the first word that doesn't have any digits or \"#\" in it (here: \"BLVD\")\n",
    "\n",
    "Calculate the number of rows associated with each unique last-name. Plot the frequencies of the top 10 last-names."
   ],
   "metadata": {}
  },
  {
   "cell_type": "code",
   "execution_count": 150,
   "source": [
    "def LastName(inpstr):\n",
    "    for word in inpstr[::-1].split():\n",
    "        if not (word.isnumeric() or (\"#\" in word)):\n",
    "            return(word[::-1])\n",
    "\n",
    "LastName(\"5670 WILSHIRE BLVD #B 1\")"
   ],
   "outputs": [
    {
     "output_type": "execute_result",
     "data": {
      "text/plain": [
       "'BLVD'"
      ]
     },
     "metadata": {},
     "execution_count": 150
    }
   ],
   "metadata": {}
  },
  {
   "cell_type": "code",
   "execution_count": 155,
   "source": [
    "activeBusiness[\"STREET ADDRESS\"].apply(lambda x: (LastName(x))).value_counts().sort_values(ascending=False)[:10].plot.bar()"
   ],
   "outputs": [
    {
     "output_type": "execute_result",
     "data": {
      "text/plain": [
       "<AxesSubplot:>"
      ]
     },
     "metadata": {},
     "execution_count": 155
    },
    {
     "output_type": "display_data",
     "data": {
      "text/plain": [
       "<Figure size 432x288 with 1 Axes>"
      ],
      "image/svg+xml": "<?xml version=\"1.0\" encoding=\"utf-8\" standalone=\"no\"?>\n<!DOCTYPE svg PUBLIC \"-//W3C//DTD SVG 1.1//EN\"\n  \"http://www.w3.org/Graphics/SVG/1.1/DTD/svg11.dtd\">\n<svg height=\"279.966183pt\" version=\"1.1\" viewBox=\"0 0 381.65 279.966183\" width=\"381.65pt\" xmlns=\"http://www.w3.org/2000/svg\" xmlns:xlink=\"http://www.w3.org/1999/xlink\">\n <metadata>\n  <rdf:RDF xmlns:cc=\"http://creativecommons.org/ns#\" xmlns:dc=\"http://purl.org/dc/elements/1.1/\" xmlns:rdf=\"http://www.w3.org/1999/02/22-rdf-syntax-ns#\">\n   <cc:Work>\n    <dc:type rdf:resource=\"http://purl.org/dc/dcmitype/StillImage\"/>\n    <dc:date>2021-08-13T15:13:12.023452</dc:date>\n    <dc:format>image/svg+xml</dc:format>\n    <dc:creator>\n     <cc:Agent>\n      <dc:title>Matplotlib v3.4.2, https://matplotlib.org/</dc:title>\n     </cc:Agent>\n    </dc:creator>\n   </cc:Work>\n  </rdf:RDF>\n </metadata>\n <defs>\n  <style type=\"text/css\">*{stroke-linecap:butt;stroke-linejoin:round;}</style>\n </defs>\n <g id=\"figure_1\">\n  <g id=\"patch_1\">\n   <path d=\"M -0 279.966183 \nL 381.65 279.966183 \nL 381.65 0 \nL -0 0 \nz\n\" style=\"fill:none;\"/>\n  </g>\n  <g id=\"axes_1\">\n   <g id=\"patch_2\">\n    <path d=\"M 39.65 225.284933 \nL 374.45 225.284933 \nL 374.45 7.844933 \nL 39.65 7.844933 \nz\n\" style=\"fill:#ffffff;\"/>\n   </g>\n   <g id=\"patch_3\">\n    <path clip-path=\"url(#p2780b32e7f)\" d=\"M 48.02 225.284933 \nL 64.76 225.284933 \nL 64.76 18.199219 \nL 48.02 18.199219 \nz\n\" style=\"fill:#1f77b4;\"/>\n   </g>\n   <g id=\"patch_4\">\n    <path clip-path=\"url(#p2780b32e7f)\" d=\"M 81.5 225.284933 \nL 98.24 225.284933 \nL 98.24 46.22779 \nL 81.5 46.22779 \nz\n\" style=\"fill:#1f77b4;\"/>\n   </g>\n   <g id=\"patch_5\">\n    <path clip-path=\"url(#p2780b32e7f)\" d=\"M 114.98 225.284933 \nL 131.72 225.284933 \nL 131.72 110.684933 \nL 114.98 110.684933 \nz\n\" style=\"fill:#1f77b4;\"/>\n   </g>\n   <g id=\"patch_6\">\n    <path clip-path=\"url(#p2780b32e7f)\" d=\"M 148.46 225.284933 \nL 165.2 225.284933 \nL 165.2 135.756362 \nL 148.46 135.756362 \nz\n\" style=\"fill:#1f77b4;\"/>\n   </g>\n   <g id=\"patch_7\">\n    <path clip-path=\"url(#p2780b32e7f)\" d=\"M 181.94 225.284933 \nL 198.68 225.284933 \nL 198.68 158.470647 \nL 181.94 158.470647 \nz\n\" style=\"fill:#1f77b4;\"/>\n   </g>\n   <g id=\"patch_8\">\n    <path clip-path=\"url(#p2780b32e7f)\" d=\"M 215.42 225.284933 \nL 232.16 225.284933 \nL 232.16 171.242076 \nL 215.42 171.242076 \nz\n\" style=\"fill:#1f77b4;\"/>\n   </g>\n   <g id=\"patch_9\">\n    <path clip-path=\"url(#p2780b32e7f)\" d=\"M 248.9 225.284933 \nL 265.64 225.284933 \nL 265.64 179.556362 \nL 248.9 179.556362 \nz\n\" style=\"fill:#1f77b4;\"/>\n   </g>\n   <g id=\"patch_10\">\n    <path clip-path=\"url(#p2780b32e7f)\" d=\"M 282.38 225.284933 \nL 299.12 225.284933 \nL 299.12 206.984933 \nL 282.38 206.984933 \nz\n\" style=\"fill:#1f77b4;\"/>\n   </g>\n   <g id=\"patch_11\">\n    <path clip-path=\"url(#p2780b32e7f)\" d=\"M 315.86 225.284933 \nL 332.6 225.284933 \nL 332.6 207.62779 \nL 315.86 207.62779 \nz\n\" style=\"fill:#1f77b4;\"/>\n   </g>\n   <g id=\"patch_12\">\n    <path clip-path=\"url(#p2780b32e7f)\" d=\"M 349.34 225.284933 \nL 366.08 225.284933 \nL 366.08 212.813504 \nL 349.34 212.813504 \nz\n\" style=\"fill:#1f77b4;\"/>\n   </g>\n   <g id=\"matplotlib.axis_1\">\n    <g id=\"xtick_1\">\n     <g id=\"line2d_1\">\n      <defs>\n       <path d=\"M 0 0 \nL 0 3.5 \n\" id=\"mbbbdf58757\" style=\"stroke:#000000;stroke-width:0.8;\"/>\n      </defs>\n      <g>\n       <use style=\"stroke:#000000;stroke-width:0.8;\" x=\"56.39\" xlink:href=\"#mbbbdf58757\" y=\"225.284933\"/>\n      </g>\n     </g>\n     <g id=\"text_1\">\n      <!-- AVENUE -->\n      <g transform=\"translate(59.149375 272.766183)rotate(-90)scale(0.1 -0.1)\">\n       <defs>\n        <path d=\"M 2188 4044 \nL 1331 1722 \nL 3047 1722 \nL 2188 4044 \nz\nM 1831 4666 \nL 2547 4666 \nL 4325 0 \nL 3669 0 \nL 3244 1197 \nL 1141 1197 \nL 716 0 \nL 50 0 \nL 1831 4666 \nz\n\" id=\"DejaVuSans-41\" transform=\"scale(0.015625)\"/>\n        <path d=\"M 1831 0 \nL 50 4666 \nL 709 4666 \nL 2188 738 \nL 3669 4666 \nL 4325 4666 \nL 2547 0 \nL 1831 0 \nz\n\" id=\"DejaVuSans-56\" transform=\"scale(0.015625)\"/>\n        <path d=\"M 628 4666 \nL 3578 4666 \nL 3578 4134 \nL 1259 4134 \nL 1259 2753 \nL 3481 2753 \nL 3481 2222 \nL 1259 2222 \nL 1259 531 \nL 3634 531 \nL 3634 0 \nL 628 0 \nL 628 4666 \nz\n\" id=\"DejaVuSans-45\" transform=\"scale(0.015625)\"/>\n        <path d=\"M 628 4666 \nL 1478 4666 \nL 3547 763 \nL 3547 4666 \nL 4159 4666 \nL 4159 0 \nL 3309 0 \nL 1241 3903 \nL 1241 0 \nL 628 0 \nL 628 4666 \nz\n\" id=\"DejaVuSans-4e\" transform=\"scale(0.015625)\"/>\n        <path d=\"M 556 4666 \nL 1191 4666 \nL 1191 1831 \nQ 1191 1081 1462 751 \nQ 1734 422 2344 422 \nQ 2950 422 3222 751 \nQ 3494 1081 3494 1831 \nL 3494 4666 \nL 4128 4666 \nL 4128 1753 \nQ 4128 841 3676 375 \nQ 3225 -91 2344 -91 \nQ 1459 -91 1007 375 \nQ 556 841 556 1753 \nL 556 4666 \nz\n\" id=\"DejaVuSans-55\" transform=\"scale(0.015625)\"/>\n       </defs>\n       <use xlink:href=\"#DejaVuSans-41\"/>\n       <use x=\"62.033203\" xlink:href=\"#DejaVuSans-56\"/>\n       <use x=\"130.441406\" xlink:href=\"#DejaVuSans-45\"/>\n       <use x=\"193.625\" xlink:href=\"#DejaVuSans-4e\"/>\n       <use x=\"268.429688\" xlink:href=\"#DejaVuSans-55\"/>\n       <use x=\"341.623047\" xlink:href=\"#DejaVuSans-45\"/>\n      </g>\n     </g>\n    </g>\n    <g id=\"xtick_2\">\n     <g id=\"line2d_2\">\n      <g>\n       <use style=\"stroke:#000000;stroke-width:0.8;\" x=\"89.87\" xlink:href=\"#mbbbdf58757\" y=\"225.284933\"/>\n      </g>\n     </g>\n     <g id=\"text_2\">\n      <!-- STREET -->\n      <g transform=\"translate(92.629375 270.434933)rotate(-90)scale(0.1 -0.1)\">\n       <defs>\n        <path d=\"M 3425 4513 \nL 3425 3897 \nQ 3066 4069 2747 4153 \nQ 2428 4238 2131 4238 \nQ 1616 4238 1336 4038 \nQ 1056 3838 1056 3469 \nQ 1056 3159 1242 3001 \nQ 1428 2844 1947 2747 \nL 2328 2669 \nQ 3034 2534 3370 2195 \nQ 3706 1856 3706 1288 \nQ 3706 609 3251 259 \nQ 2797 -91 1919 -91 \nQ 1588 -91 1214 -16 \nQ 841 59 441 206 \nL 441 856 \nQ 825 641 1194 531 \nQ 1563 422 1919 422 \nQ 2459 422 2753 634 \nQ 3047 847 3047 1241 \nQ 3047 1584 2836 1778 \nQ 2625 1972 2144 2069 \nL 1759 2144 \nQ 1053 2284 737 2584 \nQ 422 2884 422 3419 \nQ 422 4038 858 4394 \nQ 1294 4750 2059 4750 \nQ 2388 4750 2728 4690 \nQ 3069 4631 3425 4513 \nz\n\" id=\"DejaVuSans-53\" transform=\"scale(0.015625)\"/>\n        <path d=\"M -19 4666 \nL 3928 4666 \nL 3928 4134 \nL 2272 4134 \nL 2272 0 \nL 1638 0 \nL 1638 4134 \nL -19 4134 \nL -19 4666 \nz\n\" id=\"DejaVuSans-54\" transform=\"scale(0.015625)\"/>\n        <path d=\"M 2841 2188 \nQ 3044 2119 3236 1894 \nQ 3428 1669 3622 1275 \nL 4263 0 \nL 3584 0 \nL 2988 1197 \nQ 2756 1666 2539 1819 \nQ 2322 1972 1947 1972 \nL 1259 1972 \nL 1259 0 \nL 628 0 \nL 628 4666 \nL 2053 4666 \nQ 2853 4666 3247 4331 \nQ 3641 3997 3641 3322 \nQ 3641 2881 3436 2590 \nQ 3231 2300 2841 2188 \nz\nM 1259 4147 \nL 1259 2491 \nL 2053 2491 \nQ 2509 2491 2742 2702 \nQ 2975 2913 2975 3322 \nQ 2975 3731 2742 3939 \nQ 2509 4147 2053 4147 \nL 1259 4147 \nz\n\" id=\"DejaVuSans-52\" transform=\"scale(0.015625)\"/>\n       </defs>\n       <use xlink:href=\"#DejaVuSans-53\"/>\n       <use x=\"63.476562\" xlink:href=\"#DejaVuSans-54\"/>\n       <use x=\"124.560547\" xlink:href=\"#DejaVuSans-52\"/>\n       <use x=\"194.042969\" xlink:href=\"#DejaVuSans-45\"/>\n       <use x=\"257.226562\" xlink:href=\"#DejaVuSans-45\"/>\n       <use x=\"320.410156\" xlink:href=\"#DejaVuSans-54\"/>\n      </g>\n     </g>\n    </g>\n    <g id=\"xtick_3\">\n     <g id=\"line2d_3\">\n      <g>\n       <use style=\"stroke:#000000;stroke-width:0.8;\" x=\"123.35\" xlink:href=\"#mbbbdf58757\" y=\"225.284933\"/>\n      </g>\n     </g>\n     <g id=\"text_3\">\n      <!-- BLVD -->\n      <g transform=\"translate(126.109375 258.158371)rotate(-90)scale(0.1 -0.1)\">\n       <defs>\n        <path d=\"M 1259 2228 \nL 1259 519 \nL 2272 519 \nQ 2781 519 3026 730 \nQ 3272 941 3272 1375 \nQ 3272 1813 3026 2020 \nQ 2781 2228 2272 2228 \nL 1259 2228 \nz\nM 1259 4147 \nL 1259 2741 \nL 2194 2741 \nQ 2656 2741 2882 2914 \nQ 3109 3088 3109 3444 \nQ 3109 3797 2882 3972 \nQ 2656 4147 2194 4147 \nL 1259 4147 \nz\nM 628 4666 \nL 2241 4666 \nQ 2963 4666 3353 4366 \nQ 3744 4066 3744 3513 \nQ 3744 3084 3544 2831 \nQ 3344 2578 2956 2516 \nQ 3422 2416 3680 2098 \nQ 3938 1781 3938 1306 \nQ 3938 681 3513 340 \nQ 3088 0 2303 0 \nL 628 0 \nL 628 4666 \nz\n\" id=\"DejaVuSans-42\" transform=\"scale(0.015625)\"/>\n        <path d=\"M 628 4666 \nL 1259 4666 \nL 1259 531 \nL 3531 531 \nL 3531 0 \nL 628 0 \nL 628 4666 \nz\n\" id=\"DejaVuSans-4c\" transform=\"scale(0.015625)\"/>\n        <path d=\"M 1259 4147 \nL 1259 519 \nL 2022 519 \nQ 2988 519 3436 956 \nQ 3884 1394 3884 2338 \nQ 3884 3275 3436 3711 \nQ 2988 4147 2022 4147 \nL 1259 4147 \nz\nM 628 4666 \nL 1925 4666 \nQ 3281 4666 3915 4102 \nQ 4550 3538 4550 2338 \nQ 4550 1131 3912 565 \nQ 3275 0 1925 0 \nL 628 0 \nL 628 4666 \nz\n\" id=\"DejaVuSans-44\" transform=\"scale(0.015625)\"/>\n       </defs>\n       <use xlink:href=\"#DejaVuSans-42\"/>\n       <use x=\"68.603516\" xlink:href=\"#DejaVuSans-4c\"/>\n       <use x=\"113.316406\" xlink:href=\"#DejaVuSans-56\"/>\n       <use x=\"181.724609\" xlink:href=\"#DejaVuSans-44\"/>\n      </g>\n     </g>\n    </g>\n    <g id=\"xtick_4\">\n     <g id=\"line2d_4\">\n      <g>\n       <use style=\"stroke:#000000;stroke-width:0.8;\" x=\"156.83\" xlink:href=\"#mbbbdf58757\" y=\"225.284933\"/>\n      </g>\n     </g>\n     <g id=\"text_4\">\n      <!-- SUITE -->\n      <g transform=\"translate(159.589375 261.328683)rotate(-90)scale(0.1 -0.1)\">\n       <defs>\n        <path d=\"M 628 4666 \nL 1259 4666 \nL 1259 0 \nL 628 0 \nL 628 4666 \nz\n\" id=\"DejaVuSans-49\" transform=\"scale(0.015625)\"/>\n       </defs>\n       <use xlink:href=\"#DejaVuSans-53\"/>\n       <use x=\"63.476562\" xlink:href=\"#DejaVuSans-55\"/>\n       <use x=\"136.669922\" xlink:href=\"#DejaVuSans-49\"/>\n       <use x=\"166.162109\" xlink:href=\"#DejaVuSans-54\"/>\n       <use x=\"227.246094\" xlink:href=\"#DejaVuSans-45\"/>\n      </g>\n     </g>\n    </g>\n    <g id=\"xtick_5\">\n     <g id=\"line2d_5\">\n      <g>\n       <use style=\"stroke:#000000;stroke-width:0.8;\" x=\"190.31\" xlink:href=\"#mbbbdf58757\" y=\"225.284933\"/>\n      </g>\n     </g>\n     <g id=\"text_5\">\n      <!-- APT -->\n      <g transform=\"translate(193.069375 251.263058)rotate(-90)scale(0.1 -0.1)\">\n       <defs>\n        <path d=\"M 1259 4147 \nL 1259 2394 \nL 2053 2394 \nQ 2494 2394 2734 2622 \nQ 2975 2850 2975 3272 \nQ 2975 3691 2734 3919 \nQ 2494 4147 2053 4147 \nL 1259 4147 \nz\nM 628 4666 \nL 2053 4666 \nQ 2838 4666 3239 4311 \nQ 3641 3956 3641 3272 \nQ 3641 2581 3239 2228 \nQ 2838 1875 2053 1875 \nL 1259 1875 \nL 1259 0 \nL 628 0 \nL 628 4666 \nz\n\" id=\"DejaVuSans-50\" transform=\"scale(0.015625)\"/>\n       </defs>\n       <use xlink:href=\"#DejaVuSans-41\"/>\n       <use x=\"68.408203\" xlink:href=\"#DejaVuSans-50\"/>\n       <use x=\"128.710938\" xlink:href=\"#DejaVuSans-54\"/>\n      </g>\n     </g>\n    </g>\n    <g id=\"xtick_6\">\n     <g id=\"line2d_6\">\n      <g>\n       <use style=\"stroke:#000000;stroke-width:0.8;\" x=\"223.79\" xlink:href=\"#mbbbdf58757\" y=\"225.284933\"/>\n      </g>\n     </g>\n     <g id=\"text_6\">\n      <!-- UNIT -->\n      <g transform=\"translate(226.549375 256.142746)rotate(-90)scale(0.1 -0.1)\">\n       <use xlink:href=\"#DejaVuSans-55\"/>\n       <use x=\"73.193359\" xlink:href=\"#DejaVuSans-4e\"/>\n       <use x=\"147.998047\" xlink:href=\"#DejaVuSans-49\"/>\n       <use x=\"177.490234\" xlink:href=\"#DejaVuSans-54\"/>\n      </g>\n     </g>\n    </g>\n    <g id=\"xtick_7\">\n     <g id=\"line2d_7\">\n      <g>\n       <use style=\"stroke:#000000;stroke-width:0.8;\" x=\"257.27\" xlink:href=\"#mbbbdf58757\" y=\"225.284933\"/>\n      </g>\n     </g>\n     <g id=\"text_7\">\n      <!-- DRIVE -->\n      <g transform=\"translate(260.029375 263.042746)rotate(-90)scale(0.1 -0.1)\">\n       <use xlink:href=\"#DejaVuSans-44\"/>\n       <use x=\"77.001953\" xlink:href=\"#DejaVuSans-52\"/>\n       <use x=\"146.484375\" xlink:href=\"#DejaVuSans-49\"/>\n       <use x=\"175.976562\" xlink:href=\"#DejaVuSans-56\"/>\n       <use x=\"244.384766\" xlink:href=\"#DejaVuSans-45\"/>\n      </g>\n     </g>\n    </g>\n    <g id=\"xtick_8\">\n     <g id=\"line2d_8\">\n      <g>\n       <use style=\"stroke:#000000;stroke-width:0.8;\" x=\"290.75\" xlink:href=\"#mbbbdf58757\" y=\"225.284933\"/>\n      </g>\n     </g>\n     <g id=\"text_8\">\n      <!-- ROAD -->\n      <g transform=\"translate(293.509375 261.470871)rotate(-90)scale(0.1 -0.1)\">\n       <defs>\n        <path d=\"M 2522 4238 \nQ 1834 4238 1429 3725 \nQ 1025 3213 1025 2328 \nQ 1025 1447 1429 934 \nQ 1834 422 2522 422 \nQ 3209 422 3611 934 \nQ 4013 1447 4013 2328 \nQ 4013 3213 3611 3725 \nQ 3209 4238 2522 4238 \nz\nM 2522 4750 \nQ 3503 4750 4090 4092 \nQ 4678 3434 4678 2328 \nQ 4678 1225 4090 567 \nQ 3503 -91 2522 -91 \nQ 1538 -91 948 565 \nQ 359 1222 359 2328 \nQ 359 3434 948 4092 \nQ 1538 4750 2522 4750 \nz\n\" id=\"DejaVuSans-4f\" transform=\"scale(0.015625)\"/>\n       </defs>\n       <use xlink:href=\"#DejaVuSans-52\"/>\n       <use x=\"69.482422\" xlink:href=\"#DejaVuSans-4f\"/>\n       <use x=\"146.443359\" xlink:href=\"#DejaVuSans-41\"/>\n       <use x=\"214.851562\" xlink:href=\"#DejaVuSans-44\"/>\n      </g>\n     </g>\n    </g>\n    <g id=\"xtick_9\">\n     <g id=\"line2d_9\">\n      <g>\n       <use style=\"stroke:#000000;stroke-width:0.8;\" x=\"324.23\" xlink:href=\"#mbbbdf58757\" y=\"225.284933\"/>\n      </g>\n     </g>\n     <g id=\"text_9\">\n      <!-- PLACE -->\n      <g transform=\"translate(326.989375 264.078683)rotate(-90)scale(0.1 -0.1)\">\n       <defs>\n        <path d=\"M 4122 4306 \nL 4122 3641 \nQ 3803 3938 3442 4084 \nQ 3081 4231 2675 4231 \nQ 1875 4231 1450 3742 \nQ 1025 3253 1025 2328 \nQ 1025 1406 1450 917 \nQ 1875 428 2675 428 \nQ 3081 428 3442 575 \nQ 3803 722 4122 1019 \nL 4122 359 \nQ 3791 134 3420 21 \nQ 3050 -91 2638 -91 \nQ 1578 -91 968 557 \nQ 359 1206 359 2328 \nQ 359 3453 968 4101 \nQ 1578 4750 2638 4750 \nQ 3056 4750 3426 4639 \nQ 3797 4528 4122 4306 \nz\n\" id=\"DejaVuSans-43\" transform=\"scale(0.015625)\"/>\n       </defs>\n       <use xlink:href=\"#DejaVuSans-50\"/>\n       <use x=\"60.302734\" xlink:href=\"#DejaVuSans-4c\"/>\n       <use x=\"118.265625\" xlink:href=\"#DejaVuSans-41\"/>\n       <use x=\"184.923828\" xlink:href=\"#DejaVuSans-43\"/>\n       <use x=\"254.748047\" xlink:href=\"#DejaVuSans-45\"/>\n      </g>\n     </g>\n    </g>\n    <g id=\"xtick_10\">\n     <g id=\"line2d_10\">\n      <g>\n       <use style=\"stroke:#000000;stroke-width:0.8;\" x=\"357.71\" xlink:href=\"#mbbbdf58757\" y=\"225.284933\"/>\n      </g>\n     </g>\n     <g id=\"text_10\">\n      <!-- WAY -->\n      <g transform=\"translate(360.469375 253.795871)rotate(-90)scale(0.1 -0.1)\">\n       <defs>\n        <path d=\"M 213 4666 \nL 850 4666 \nL 1831 722 \nL 2809 4666 \nL 3519 4666 \nL 4500 722 \nL 5478 4666 \nL 6119 4666 \nL 4947 0 \nL 4153 0 \nL 3169 4050 \nL 2175 0 \nL 1381 0 \nL 213 4666 \nz\n\" id=\"DejaVuSans-57\" transform=\"scale(0.015625)\"/>\n        <path d=\"M -13 4666 \nL 666 4666 \nL 1959 2747 \nL 3244 4666 \nL 3922 4666 \nL 2272 2222 \nL 2272 0 \nL 1638 0 \nL 1638 2222 \nL -13 4666 \nz\n\" id=\"DejaVuSans-59\" transform=\"scale(0.015625)\"/>\n       </defs>\n       <use xlink:href=\"#DejaVuSans-57\"/>\n       <use x=\"93.376953\" xlink:href=\"#DejaVuSans-41\"/>\n       <use x=\"154.035156\" xlink:href=\"#DejaVuSans-59\"/>\n      </g>\n     </g>\n    </g>\n   </g>\n   <g id=\"matplotlib.axis_2\">\n    <g id=\"ytick_1\">\n     <g id=\"line2d_11\">\n      <defs>\n       <path d=\"M 0 0 \nL -3.5 0 \n\" id=\"m48f2208b2e\" style=\"stroke:#000000;stroke-width:0.8;\"/>\n      </defs>\n      <g>\n       <use style=\"stroke:#000000;stroke-width:0.8;\" x=\"39.65\" xlink:href=\"#m48f2208b2e\" y=\"225.284933\"/>\n      </g>\n     </g>\n     <g id=\"text_11\">\n      <!-- 0 -->\n      <g transform=\"translate(26.2875 229.084152)scale(0.1 -0.1)\">\n       <defs>\n        <path d=\"M 2034 4250 \nQ 1547 4250 1301 3770 \nQ 1056 3291 1056 2328 \nQ 1056 1369 1301 889 \nQ 1547 409 2034 409 \nQ 2525 409 2770 889 \nQ 3016 1369 3016 2328 \nQ 3016 3291 2770 3770 \nQ 2525 4250 2034 4250 \nz\nM 2034 4750 \nQ 2819 4750 3233 4129 \nQ 3647 3509 3647 2328 \nQ 3647 1150 3233 529 \nQ 2819 -91 2034 -91 \nQ 1250 -91 836 529 \nQ 422 1150 422 2328 \nQ 422 3509 836 4129 \nQ 1250 4750 2034 4750 \nz\n\" id=\"DejaVuSans-30\" transform=\"scale(0.015625)\"/>\n       </defs>\n       <use xlink:href=\"#DejaVuSans-30\"/>\n      </g>\n     </g>\n    </g>\n    <g id=\"ytick_2\">\n     <g id=\"line2d_12\">\n      <g>\n       <use style=\"stroke:#000000;stroke-width:0.8;\" x=\"39.65\" xlink:href=\"#m48f2208b2e\" y=\"182.42779\"/>\n      </g>\n     </g>\n     <g id=\"text_12\">\n      <!-- 1000 -->\n      <g transform=\"translate(7.2 186.227009)scale(0.1 -0.1)\">\n       <defs>\n        <path d=\"M 794 531 \nL 1825 531 \nL 1825 4091 \nL 703 3866 \nL 703 4441 \nL 1819 4666 \nL 2450 4666 \nL 2450 531 \nL 3481 531 \nL 3481 0 \nL 794 0 \nL 794 531 \nz\n\" id=\"DejaVuSans-31\" transform=\"scale(0.015625)\"/>\n       </defs>\n       <use xlink:href=\"#DejaVuSans-31\"/>\n       <use x=\"63.623047\" xlink:href=\"#DejaVuSans-30\"/>\n       <use x=\"127.246094\" xlink:href=\"#DejaVuSans-30\"/>\n       <use x=\"190.869141\" xlink:href=\"#DejaVuSans-30\"/>\n      </g>\n     </g>\n    </g>\n    <g id=\"ytick_3\">\n     <g id=\"line2d_13\">\n      <g>\n       <use style=\"stroke:#000000;stroke-width:0.8;\" x=\"39.65\" xlink:href=\"#m48f2208b2e\" y=\"139.570647\"/>\n      </g>\n     </g>\n     <g id=\"text_13\">\n      <!-- 2000 -->\n      <g transform=\"translate(7.2 143.369866)scale(0.1 -0.1)\">\n       <defs>\n        <path d=\"M 1228 531 \nL 3431 531 \nL 3431 0 \nL 469 0 \nL 469 531 \nQ 828 903 1448 1529 \nQ 2069 2156 2228 2338 \nQ 2531 2678 2651 2914 \nQ 2772 3150 2772 3378 \nQ 2772 3750 2511 3984 \nQ 2250 4219 1831 4219 \nQ 1534 4219 1204 4116 \nQ 875 4013 500 3803 \nL 500 4441 \nQ 881 4594 1212 4672 \nQ 1544 4750 1819 4750 \nQ 2544 4750 2975 4387 \nQ 3406 4025 3406 3419 \nQ 3406 3131 3298 2873 \nQ 3191 2616 2906 2266 \nQ 2828 2175 2409 1742 \nQ 1991 1309 1228 531 \nz\n\" id=\"DejaVuSans-32\" transform=\"scale(0.015625)\"/>\n       </defs>\n       <use xlink:href=\"#DejaVuSans-32\"/>\n       <use x=\"63.623047\" xlink:href=\"#DejaVuSans-30\"/>\n       <use x=\"127.246094\" xlink:href=\"#DejaVuSans-30\"/>\n       <use x=\"190.869141\" xlink:href=\"#DejaVuSans-30\"/>\n      </g>\n     </g>\n    </g>\n    <g id=\"ytick_4\">\n     <g id=\"line2d_14\">\n      <g>\n       <use style=\"stroke:#000000;stroke-width:0.8;\" x=\"39.65\" xlink:href=\"#m48f2208b2e\" y=\"96.713504\"/>\n      </g>\n     </g>\n     <g id=\"text_14\">\n      <!-- 3000 -->\n      <g transform=\"translate(7.2 100.512723)scale(0.1 -0.1)\">\n       <defs>\n        <path d=\"M 2597 2516 \nQ 3050 2419 3304 2112 \nQ 3559 1806 3559 1356 \nQ 3559 666 3084 287 \nQ 2609 -91 1734 -91 \nQ 1441 -91 1130 -33 \nQ 819 25 488 141 \nL 488 750 \nQ 750 597 1062 519 \nQ 1375 441 1716 441 \nQ 2309 441 2620 675 \nQ 2931 909 2931 1356 \nQ 2931 1769 2642 2001 \nQ 2353 2234 1838 2234 \nL 1294 2234 \nL 1294 2753 \nL 1863 2753 \nQ 2328 2753 2575 2939 \nQ 2822 3125 2822 3475 \nQ 2822 3834 2567 4026 \nQ 2313 4219 1838 4219 \nQ 1578 4219 1281 4162 \nQ 984 4106 628 3988 \nL 628 4550 \nQ 988 4650 1302 4700 \nQ 1616 4750 1894 4750 \nQ 2613 4750 3031 4423 \nQ 3450 4097 3450 3541 \nQ 3450 3153 3228 2886 \nQ 3006 2619 2597 2516 \nz\n\" id=\"DejaVuSans-33\" transform=\"scale(0.015625)\"/>\n       </defs>\n       <use xlink:href=\"#DejaVuSans-33\"/>\n       <use x=\"63.623047\" xlink:href=\"#DejaVuSans-30\"/>\n       <use x=\"127.246094\" xlink:href=\"#DejaVuSans-30\"/>\n       <use x=\"190.869141\" xlink:href=\"#DejaVuSans-30\"/>\n      </g>\n     </g>\n    </g>\n    <g id=\"ytick_5\">\n     <g id=\"line2d_15\">\n      <g>\n       <use style=\"stroke:#000000;stroke-width:0.8;\" x=\"39.65\" xlink:href=\"#m48f2208b2e\" y=\"53.856362\"/>\n      </g>\n     </g>\n     <g id=\"text_15\">\n      <!-- 4000 -->\n      <g transform=\"translate(7.2 57.65558)scale(0.1 -0.1)\">\n       <defs>\n        <path d=\"M 2419 4116 \nL 825 1625 \nL 2419 1625 \nL 2419 4116 \nz\nM 2253 4666 \nL 3047 4666 \nL 3047 1625 \nL 3713 1625 \nL 3713 1100 \nL 3047 1100 \nL 3047 0 \nL 2419 0 \nL 2419 1100 \nL 313 1100 \nL 313 1709 \nL 2253 4666 \nz\n\" id=\"DejaVuSans-34\" transform=\"scale(0.015625)\"/>\n       </defs>\n       <use xlink:href=\"#DejaVuSans-34\"/>\n       <use x=\"63.623047\" xlink:href=\"#DejaVuSans-30\"/>\n       <use x=\"127.246094\" xlink:href=\"#DejaVuSans-30\"/>\n       <use x=\"190.869141\" xlink:href=\"#DejaVuSans-30\"/>\n      </g>\n     </g>\n    </g>\n    <g id=\"ytick_6\">\n     <g id=\"line2d_16\">\n      <g>\n       <use style=\"stroke:#000000;stroke-width:0.8;\" x=\"39.65\" xlink:href=\"#m48f2208b2e\" y=\"10.999219\"/>\n      </g>\n     </g>\n     <g id=\"text_16\">\n      <!-- 5000 -->\n      <g transform=\"translate(7.2 14.798438)scale(0.1 -0.1)\">\n       <defs>\n        <path d=\"M 691 4666 \nL 3169 4666 \nL 3169 4134 \nL 1269 4134 \nL 1269 2991 \nQ 1406 3038 1543 3061 \nQ 1681 3084 1819 3084 \nQ 2600 3084 3056 2656 \nQ 3513 2228 3513 1497 \nQ 3513 744 3044 326 \nQ 2575 -91 1722 -91 \nQ 1428 -91 1123 -41 \nQ 819 9 494 109 \nL 494 744 \nQ 775 591 1075 516 \nQ 1375 441 1709 441 \nQ 2250 441 2565 725 \nQ 2881 1009 2881 1497 \nQ 2881 1984 2565 2268 \nQ 2250 2553 1709 2553 \nQ 1456 2553 1204 2497 \nQ 953 2441 691 2322 \nL 691 4666 \nz\n\" id=\"DejaVuSans-35\" transform=\"scale(0.015625)\"/>\n       </defs>\n       <use xlink:href=\"#DejaVuSans-35\"/>\n       <use x=\"63.623047\" xlink:href=\"#DejaVuSans-30\"/>\n       <use x=\"127.246094\" xlink:href=\"#DejaVuSans-30\"/>\n       <use x=\"190.869141\" xlink:href=\"#DejaVuSans-30\"/>\n      </g>\n     </g>\n    </g>\n   </g>\n   <g id=\"patch_13\">\n    <path d=\"M 39.65 225.284933 \nL 39.65 7.844933 \n\" style=\"fill:none;stroke:#000000;stroke-linecap:square;stroke-linejoin:miter;stroke-width:0.8;\"/>\n   </g>\n   <g id=\"patch_14\">\n    <path d=\"M 374.45 225.284933 \nL 374.45 7.844933 \n\" style=\"fill:none;stroke:#000000;stroke-linecap:square;stroke-linejoin:miter;stroke-width:0.8;\"/>\n   </g>\n   <g id=\"patch_15\">\n    <path d=\"M 39.65 225.284933 \nL 374.45 225.284933 \n\" style=\"fill:none;stroke:#000000;stroke-linecap:square;stroke-linejoin:miter;stroke-width:0.8;\"/>\n   </g>\n   <g id=\"patch_16\">\n    <path d=\"M 39.65 7.844933 \nL 374.45 7.844933 \n\" style=\"fill:none;stroke:#000000;stroke-linecap:square;stroke-linejoin:miter;stroke-width:0.8;\"/>\n   </g>\n  </g>\n </g>\n <defs>\n  <clipPath id=\"p2780b32e7f\">\n   <rect height=\"217.44\" width=\"334.8\" x=\"39.65\" y=\"7.844933\"/>\n  </clipPath>\n </defs>\n</svg>\n",
      "image/png": "[encoded data removed]"
     },
     "metadata": {
      "needs_background": "light"
     }
    }
   ],
   "metadata": {}
  },
  {
   "cell_type": "markdown",
   "source": [
    "### Q14 [6 points] Streets with the widest range of street numbers\n",
    "\n",
    "* Drop all STREET ADDRESSES where the first word is not all numbers. For example, keep the row where the STREET ADDRESS is \"15136 STAGG STREET\" but drop the row with \"POST OFFICE BOX 123\".\n",
    "* Among these STREET ADDRESSES, call the first word STREET NUMBER and the rest of the address STREET BASE.\n",
    "    * For example, a STREET ADDRESS of \"15136 STAGG STREET\" has a STREET NUMBER of 15136 and a STREET BASE of \"STAGG STREET\"\n",
    "* For each STREET BASE, figure out the range of STREET NUMBERs.\n",
    "    * For example, if you see \"15126 STAGG STREET\", \"15100 STAGG STREET\" and \"15200 STAGG STREET\", then the range for \"STAGG STREET\" is 15200-15100=100.\n",
    "* Print out the top 5 STREET BASEs with the largest range of STREET NUMBERs."
   ],
   "metadata": {}
  },
  {
   "cell_type": "code",
   "execution_count": 207,
   "source": [
    "activeBusiness[\"STREET NUMBER\"] = activeBusiness[activeBusiness[\"STREET ADDRESS\"].apply(lambda x: (x.split()[0].isnumeric()))][\"STREET ADDRESS\"].apply(lambda x: ((int)(x.split()[0])))\n",
    "activeBusiness[\"STREET BASE\"] = activeBusiness[activeBusiness[\"STREET ADDRESS\"].apply(lambda x: (x.split()[0].isnumeric()))][\"STREET ADDRESS\"].apply(lambda x: (' '.join(x.split()[1:])))"
   ],
   "outputs": [],
   "metadata": {}
  },
  {
   "cell_type": "code",
   "execution_count": 208,
   "source": [
    "def Range(inp):\n",
    "    return max(inp)-min(inp)"
   ],
   "outputs": [],
   "metadata": {}
  },
  {
   "cell_type": "code",
   "execution_count": 209,
   "source": [
    "activeBusiness.groupby(\"STREET BASE\")[\"STREET NUMBER\"].agg(Range).sort_values(ascending=False)[:5]"
   ],
   "outputs": [
    {
     "output_type": "execute_result",
     "data": {
      "text/plain": [
       "STREET BASE\n",
       "DUNN DRIVE               78397.0\n",
       "ATLANTIC AVENUE          64710.0\n",
       "CORPORATE DRIVE          34455.0\n",
       "PACIFIC COAST HIGHWAY    30010.0\n",
       "S WESTERN AVENUE         27962.0\n",
       "Name: STREET NUMBER, dtype: float64"
      ]
     },
     "metadata": {},
     "execution_count": 209
    }
   ],
   "metadata": {}
  },
  {
   "cell_type": "markdown",
   "source": [
    "### Q15 [6 points] Among MAILING CITIES that appear at least 50 times, what is the fraction of rows for which the MAILING ADDRESS contains the string \"POST OFFICE BOX\"?"
   ],
   "metadata": {}
  },
  {
   "cell_type": "code",
   "execution_count": 241,
   "source": [
    "q15 = set(activeBusiness[\"MAILING CITY\"].value_counts()[activeBusiness[\"MAILING CITY\"].value_counts() >= 50].index)\n",
    "q15\n",
    "\n",
    "print(\"fraction of rows for which the MAILING ADDRESS contains the string 'POST OFFICE BOX':\\n\",\n",
    "    activeBusiness[(activeBusiness[\"MAILING CITY\"].apply(lambda x: (x in q15)))][\"MAILING ADDRESS\"].apply(lambda x: (\"POST OFFICE BOX\" in str(x))).mean())"
   ],
   "outputs": [
    {
     "output_type": "stream",
     "name": "stdout",
     "text": [
      "fraction of rows for which the MAILING ADDRESS contains the string 'POST OFFICE BOX':\n",
      " 0.07069261591299371\n"
     ]
    }
   ],
   "metadata": {}
  },
  {
   "cell_type": "markdown",
   "source": [
    "### Q16 [6 points] Business chains\n",
    "\n",
    "* Find all BUSINESS NAMEs that are associated with 6 or more unique non-missing LOCATIONs.\n",
    "* For each such BUSINESS NAME, print out a DataFrame with the index being the BUSINESS NAME and two columns:\n",
    "    * the number of unique cities in which the business operates, and\n",
    "    * the CITY with the maximum number of locations for this business (you need not consider unique locations here)."
   ],
   "metadata": {}
  },
  {
   "cell_type": "code",
   "execution_count": 304,
   "source": [
    "q16 = activeBusiness[[\"BUSINESS NAME\",\"LOCATION\"]].drop_duplicates().dropna(how=\"any\").groupby(\"BUSINESS NAME\").agg(\"count\")\n",
    "businessChains = set(q16[q16[\"LOCATION\"] >=6].index.values)\n",
    "businessChains"
   ],
   "outputs": [
    {
     "output_type": "execute_result",
     "data": {
      "text/plain": [
       "{'ABM INDUSTRY GROUPS, LLC',\n",
       " 'COINSTAR ASSET HOLDINGS, LLC',\n",
       " 'LAZ KARP ASSOCIATES LLC',\n",
       " 'REDBOX AUTOMATED RETAIL LLC',\n",
       " 'STARBUCKS CORPORATION',\n",
       " 'T MOBILE WEST LLC'}"
      ]
     },
     "metadata": {},
     "execution_count": 304
    }
   ],
   "metadata": {}
  },
  {
   "cell_type": "code",
   "execution_count": 305,
   "source": [
    "q16_pivot = activeBusiness[activeBusiness[\"BUSINESS NAME\"].apply(lambda x: (x in businessChains))].groupby([\"BUSINESS NAME\",\"CITY\"]).size().unstack()\n",
    "\n",
    "q16_pivot"
   ],
   "outputs": [
    {
     "output_type": "execute_result",
     "data": {
      "text/plain": [
       "CITY                          CANOGA PARK  ENCINO  GRANADA HILLS  LOS ANGELES  \\\n",
       "BUSINESS NAME                                                                   \n",
       "ABM INDUSTRY GROUPS, LLC              NaN     1.0            NaN          7.0   \n",
       "COINSTAR ASSET HOLDINGS, LLC          NaN     NaN            NaN          2.0   \n",
       "LAZ KARP ASSOCIATES LLC               NaN     1.0            NaN          5.0   \n",
       "REDBOX AUTOMATED RETAIL LLC           NaN     NaN            1.0          3.0   \n",
       "STARBUCKS CORPORATION                 1.0     NaN            1.0          6.0   \n",
       "T MOBILE WEST LLC                     NaN     NaN            NaN          1.0   \n",
       "\n",
       "CITY                          NORTH HOLLYWOOD  PACIFIC PALISADES  \\\n",
       "BUSINESS NAME                                                      \n",
       "ABM INDUSTRY GROUPS, LLC                  NaN                NaN   \n",
       "COINSTAR ASSET HOLDINGS, LLC              1.0                1.0   \n",
       "LAZ KARP ASSOCIATES LLC                   NaN                NaN   \n",
       "REDBOX AUTOMATED RETAIL LLC               NaN                NaN   \n",
       "STARBUCKS CORPORATION                     NaN                NaN   \n",
       "T MOBILE WEST LLC                         NaN                NaN   \n",
       "\n",
       "CITY                          PORTER RANCH  RESEDA  SAN PEDRO  SHERMAN OAKS  \\\n",
       "BUSINESS NAME                                                                 \n",
       "ABM INDUSTRY GROUPS, LLC               NaN     NaN        NaN           1.0   \n",
       "COINSTAR ASSET HOLDINGS, LLC           NaN     NaN        1.0           NaN   \n",
       "LAZ KARP ASSOCIATES LLC                NaN     NaN        NaN           NaN   \n",
       "REDBOX AUTOMATED RETAIL LLC            1.0     1.0        NaN           NaN   \n",
       "STARBUCKS CORPORATION                  NaN     NaN        1.0           NaN   \n",
       "T MOBILE WEST LLC                      NaN     1.0        1.0           1.0   \n",
       "\n",
       "CITY                          SUN VALLEY  TARZANA  VAN NUYS  WEST HILLS  \\\n",
       "BUSINESS NAME                                                             \n",
       "ABM INDUSTRY GROUPS, LLC             NaN      NaN       NaN         NaN   \n",
       "COINSTAR ASSET HOLDINGS, LLC         NaN      NaN       2.0         1.0   \n",
       "LAZ KARP ASSOCIATES LLC              NaN      NaN       NaN         NaN   \n",
       "REDBOX AUTOMATED RETAIL LLC          NaN      NaN       NaN         NaN   \n",
       "STARBUCKS CORPORATION                1.0      1.0       NaN         NaN   \n",
       "T MOBILE WEST LLC                    NaN      1.0       1.0         NaN   \n",
       "\n",
       "CITY                          WILMINGTON  \n",
       "BUSINESS NAME                             \n",
       "ABM INDUSTRY GROUPS, LLC             NaN  \n",
       "COINSTAR ASSET HOLDINGS, LLC         1.0  \n",
       "LAZ KARP ASSOCIATES LLC              NaN  \n",
       "REDBOX AUTOMATED RETAIL LLC          NaN  \n",
       "STARBUCKS CORPORATION                NaN  \n",
       "T MOBILE WEST LLC                    NaN  "
      ],
      "text/html": [
       "<div>\n",
       "<style scoped>\n",
       "    .dataframe tbody tr th:only-of-type {\n",
       "        vertical-align: middle;\n",
       "    }\n",
       "\n",
       "    .dataframe tbody tr th {\n",
       "        vertical-align: top;\n",
       "    }\n",
       "\n",
       "    .dataframe thead th {\n",
       "        text-align: right;\n",
       "    }\n",
       "</style>\n",
       "<table border=\"1\" class=\"dataframe\">\n",
       "  <thead>\n",
       "    <tr style=\"text-align: right;\">\n",
       "      <th>CITY</th>\n",
       "      <th>CANOGA PARK</th>\n",
       "      <th>ENCINO</th>\n",
       "      <th>GRANADA HILLS</th>\n",
       "      <th>LOS ANGELES</th>\n",
       "      <th>NORTH HOLLYWOOD</th>\n",
       "      <th>PACIFIC PALISADES</th>\n",
       "      <th>PORTER RANCH</th>\n",
       "      <th>RESEDA</th>\n",
       "      <th>SAN PEDRO</th>\n",
       "      <th>SHERMAN OAKS</th>\n",
       "      <th>SUN VALLEY</th>\n",
       "      <th>TARZANA</th>\n",
       "      <th>VAN NUYS</th>\n",
       "      <th>WEST HILLS</th>\n",
       "      <th>WILMINGTON</th>\n",
       "    </tr>\n",
       "    <tr>\n",
       "      <th>BUSINESS NAME</th>\n",
       "      <th></th>\n",
       "      <th></th>\n",
       "      <th></th>\n",
       "      <th></th>\n",
       "      <th></th>\n",
       "      <th></th>\n",
       "      <th></th>\n",
       "      <th></th>\n",
       "      <th></th>\n",
       "      <th></th>\n",
       "      <th></th>\n",
       "      <th></th>\n",
       "      <th></th>\n",
       "      <th></th>\n",
       "      <th></th>\n",
       "    </tr>\n",
       "  </thead>\n",
       "  <tbody>\n",
       "    <tr>\n",
       "      <th>ABM INDUSTRY GROUPS, LLC</th>\n",
       "      <td>NaN</td>\n",
       "      <td>1.0</td>\n",
       "      <td>NaN</td>\n",
       "      <td>7.0</td>\n",
       "      <td>NaN</td>\n",
       "      <td>NaN</td>\n",
       "      <td>NaN</td>\n",
       "      <td>NaN</td>\n",
       "      <td>NaN</td>\n",
       "      <td>1.0</td>\n",
       "      <td>NaN</td>\n",
       "      <td>NaN</td>\n",
       "      <td>NaN</td>\n",
       "      <td>NaN</td>\n",
       "      <td>NaN</td>\n",
       "    </tr>\n",
       "    <tr>\n",
       "      <th>COINSTAR ASSET HOLDINGS, LLC</th>\n",
       "      <td>NaN</td>\n",
       "      <td>NaN</td>\n",
       "      <td>NaN</td>\n",
       "      <td>2.0</td>\n",
       "      <td>1.0</td>\n",
       "      <td>1.0</td>\n",
       "      <td>NaN</td>\n",
       "      <td>NaN</td>\n",
       "      <td>1.0</td>\n",
       "      <td>NaN</td>\n",
       "      <td>NaN</td>\n",
       "      <td>NaN</td>\n",
       "      <td>2.0</td>\n",
       "      <td>1.0</td>\n",
       "      <td>1.0</td>\n",
       "    </tr>\n",
       "    <tr>\n",
       "      <th>LAZ KARP ASSOCIATES LLC</th>\n",
       "      <td>NaN</td>\n",
       "      <td>1.0</td>\n",
       "      <td>NaN</td>\n",
       "      <td>5.0</td>\n",
       "      <td>NaN</td>\n",
       "      <td>NaN</td>\n",
       "      <td>NaN</td>\n",
       "      <td>NaN</td>\n",
       "      <td>NaN</td>\n",
       "      <td>NaN</td>\n",
       "      <td>NaN</td>\n",
       "      <td>NaN</td>\n",
       "      <td>NaN</td>\n",
       "      <td>NaN</td>\n",
       "      <td>NaN</td>\n",
       "    </tr>\n",
       "    <tr>\n",
       "      <th>REDBOX AUTOMATED RETAIL LLC</th>\n",
       "      <td>NaN</td>\n",
       "      <td>NaN</td>\n",
       "      <td>1.0</td>\n",
       "      <td>3.0</td>\n",
       "      <td>NaN</td>\n",
       "      <td>NaN</td>\n",
       "      <td>1.0</td>\n",
       "      <td>1.0</td>\n",
       "      <td>NaN</td>\n",
       "      <td>NaN</td>\n",
       "      <td>NaN</td>\n",
       "      <td>NaN</td>\n",
       "      <td>NaN</td>\n",
       "      <td>NaN</td>\n",
       "      <td>NaN</td>\n",
       "    </tr>\n",
       "    <tr>\n",
       "      <th>STARBUCKS CORPORATION</th>\n",
       "      <td>1.0</td>\n",
       "      <td>NaN</td>\n",
       "      <td>1.0</td>\n",
       "      <td>6.0</td>\n",
       "      <td>NaN</td>\n",
       "      <td>NaN</td>\n",
       "      <td>NaN</td>\n",
       "      <td>NaN</td>\n",
       "      <td>1.0</td>\n",
       "      <td>NaN</td>\n",
       "      <td>1.0</td>\n",
       "      <td>1.0</td>\n",
       "      <td>NaN</td>\n",
       "      <td>NaN</td>\n",
       "      <td>NaN</td>\n",
       "    </tr>\n",
       "    <tr>\n",
       "      <th>T MOBILE WEST LLC</th>\n",
       "      <td>NaN</td>\n",
       "      <td>NaN</td>\n",
       "      <td>NaN</td>\n",
       "      <td>1.0</td>\n",
       "      <td>NaN</td>\n",
       "      <td>NaN</td>\n",
       "      <td>NaN</td>\n",
       "      <td>1.0</td>\n",
       "      <td>1.0</td>\n",
       "      <td>1.0</td>\n",
       "      <td>NaN</td>\n",
       "      <td>1.0</td>\n",
       "      <td>1.0</td>\n",
       "      <td>NaN</td>\n",
       "      <td>NaN</td>\n",
       "    </tr>\n",
       "  </tbody>\n",
       "</table>\n",
       "</div>"
      ]
     },
     "metadata": {},
     "execution_count": 305
    }
   ],
   "metadata": {}
  },
  {
   "cell_type": "code",
   "execution_count": 307,
   "source": [
    "q16_answer = DataFrame(index=q16_pivot.index.values)\n",
    "q16_answer[\"UNIQUE CITIES\"] = q16_pivot.apply(lambda row: (len(row.dropna().index.values)),axis = 1)\n",
    "q16_answer[\"MAX CITY\"] = q16_pivot.apply(lambda row: (row.idxmax()),axis = 1)\n",
    "q16_answer"
   ],
   "outputs": [
    {
     "output_type": "execute_result",
     "data": {
      "text/plain": [
       "                              UNIQUE CITIES     MAX CITY\n",
       "ABM INDUSTRY GROUPS, LLC                  3  LOS ANGELES\n",
       "COINSTAR ASSET HOLDINGS, LLC              7  LOS ANGELES\n",
       "LAZ KARP ASSOCIATES LLC                   2  LOS ANGELES\n",
       "REDBOX AUTOMATED RETAIL LLC               4  LOS ANGELES\n",
       "STARBUCKS CORPORATION                     6  LOS ANGELES\n",
       "T MOBILE WEST LLC                         6  LOS ANGELES"
      ],
      "text/html": [
       "<div>\n",
       "<style scoped>\n",
       "    .dataframe tbody tr th:only-of-type {\n",
       "        vertical-align: middle;\n",
       "    }\n",
       "\n",
       "    .dataframe tbody tr th {\n",
       "        vertical-align: top;\n",
       "    }\n",
       "\n",
       "    .dataframe thead th {\n",
       "        text-align: right;\n",
       "    }\n",
       "</style>\n",
       "<table border=\"1\" class=\"dataframe\">\n",
       "  <thead>\n",
       "    <tr style=\"text-align: right;\">\n",
       "      <th></th>\n",
       "      <th>UNIQUE CITIES</th>\n",
       "      <th>MAX CITY</th>\n",
       "    </tr>\n",
       "  </thead>\n",
       "  <tbody>\n",
       "    <tr>\n",
       "      <th>ABM INDUSTRY GROUPS, LLC</th>\n",
       "      <td>3</td>\n",
       "      <td>LOS ANGELES</td>\n",
       "    </tr>\n",
       "    <tr>\n",
       "      <th>COINSTAR ASSET HOLDINGS, LLC</th>\n",
       "      <td>7</td>\n",
       "      <td>LOS ANGELES</td>\n",
       "    </tr>\n",
       "    <tr>\n",
       "      <th>LAZ KARP ASSOCIATES LLC</th>\n",
       "      <td>2</td>\n",
       "      <td>LOS ANGELES</td>\n",
       "    </tr>\n",
       "    <tr>\n",
       "      <th>REDBOX AUTOMATED RETAIL LLC</th>\n",
       "      <td>4</td>\n",
       "      <td>LOS ANGELES</td>\n",
       "    </tr>\n",
       "    <tr>\n",
       "      <th>STARBUCKS CORPORATION</th>\n",
       "      <td>6</td>\n",
       "      <td>LOS ANGELES</td>\n",
       "    </tr>\n",
       "    <tr>\n",
       "      <th>T MOBILE WEST LLC</th>\n",
       "      <td>6</td>\n",
       "      <td>LOS ANGELES</td>\n",
       "    </tr>\n",
       "  </tbody>\n",
       "</table>\n",
       "</div>"
      ]
     },
     "metadata": {},
     "execution_count": 307
    }
   ],
   "metadata": {}
  },
  {
   "cell_type": "markdown",
   "source": [
    "### Q17 [6 points] Visualize Ventura\n",
    "\n",
    "* Find all rows where the STREET ADDRESS contains \"VENTURA BLVD\".\n",
    "* Look at the LOCATION column for these rows. These are in the form (latitude, longitude)\n",
    "* Drop any rows where the LOCATION is missing or equals \"(0.0, 0.0)\"\n",
    "* Extract the latitudes and longitudes. \n",
    "* Show a scatter plot of locations with latitude on the y-axis and longitude on the x-axis. These give a visualization of roads named Ventura Blvd."
   ],
   "metadata": {}
  },
  {
   "cell_type": "code",
   "execution_count": 330,
   "source": [
    "def ExtractLatLong(inp):\n",
    "\n",
    "    if(inp == '(0.0, 0.0)'):\n",
    "        return np.nan\n",
    "    \n",
    "    if(inp != inp ): # Nan != Nan\n",
    "        return np.nan\n",
    "    \n",
    "    lat,long = map(float,inp.replace(\"(\",\"\").replace(\")\",\"\").replace(\" \",\"\").split(\",\"))\n",
    "    return (lat, long)\n",
    "\n",
    "# ExtractLatLong(\"(34.1538, -118.4662)\")\n",
    "# ExtractLatLong(\"(0.0, 0.0)\")"
   ],
   "outputs": [],
   "metadata": {}
  },
  {
   "cell_type": "code",
   "execution_count": 336,
   "source": [
    "q17 = activeBusiness[activeBusiness[\"STREET ADDRESS\"].apply(lambda x: (\"VENTURA BLVD\" in x))][\"LOCATION\"].apply(lambda x: (ExtractLatLong(x))).dropna()\n",
    "q17.head()"
   ],
   "outputs": [
    {
     "output_type": "execute_result",
     "data": {
      "text/plain": [
       "11    (34.1538, -118.4662)\n",
       "44    (34.1595, -118.5024)\n",
       "46    (34.1589, -118.4996)\n",
       "58    (34.1537, -118.4654)\n",
       "71    (34.1556, -118.4819)\n",
       "Name: LOCATION, dtype: object"
      ]
     },
     "metadata": {},
     "execution_count": 336
    }
   ],
   "metadata": {}
  },
  {
   "cell_type": "code",
   "execution_count": 341,
   "source": [
    "lat = q17.apply(lambda x: x[0])\n",
    "long = q17.apply(lambda x: x[1])\n",
    "\n",
    "scatter(lat,long)\n",
    "xlabel(\"Latitude\")\n",
    "ylabel(\"Longitude\")"
   ],
   "outputs": [
    {
     "output_type": "execute_result",
     "data": {
      "text/plain": [
       "Text(0, 0.5, 'Longitude')"
      ]
     },
     "metadata": {},
     "execution_count": 341
    },
    {
     "output_type": "display_data",
     "data": {
      "text/plain": [
       "<Figure size 432x288 with 1 Axes>"
      ],
      "image/svg+xml": "<?xml version=\"1.0\" encoding=\"utf-8\" standalone=\"no\"?>\n<!DOCTYPE svg PUBLIC \"-//W3C//DTD SVG 1.1//EN\"\n  \"http://www.w3.org/Graphics/SVG/1.1/DTD/svg11.dtd\">\n<svg height=\"262.19625pt\" version=\"1.1\" viewBox=\"0 0 413.248438 262.19625\" width=\"413.248438pt\" xmlns=\"http://www.w3.org/2000/svg\" xmlns:xlink=\"http://www.w3.org/1999/xlink\">\n <metadata>\n  <rdf:RDF xmlns:cc=\"http://creativecommons.org/ns#\" xmlns:dc=\"http://purl.org/dc/elements/1.1/\" xmlns:rdf=\"http://www.w3.org/1999/02/22-rdf-syntax-ns#\">\n   <cc:Work>\n    <dc:type rdf:resource=\"http://purl.org/dc/dcmitype/StillImage\"/>\n    <dc:date>2021-08-13T16:37:58.428669</dc:date>\n    <dc:format>image/svg+xml</dc:format>\n    <dc:creator>\n     <cc:Agent>\n      <dc:title>Matplotlib v3.4.2, https://matplotlib.org/</dc:title>\n     </cc:Agent>\n    </dc:creator>\n   </cc:Work>\n  </rdf:RDF>\n </metadata>\n <defs>\n  <style type=\"text/css\">*{stroke-linecap:butt;stroke-linejoin:round;}</style>\n </defs>\n <g id=\"figure_1\">\n  <g id=\"patch_1\">\n   <path d=\"M 0 262.19625 \nL 413.248438 262.19625 \nL 413.248438 0 \nL 0 0 \nz\n\" style=\"fill:none;\"/>\n  </g>\n  <g id=\"axes_1\">\n   <g id=\"patch_2\">\n    <path d=\"M 71.248438 224.64 \nL 406.048438 224.64 \nL 406.048438 7.2 \nL 71.248438 7.2 \nz\n\" style=\"fill:#ffffff;\"/>\n   </g>\n   <g id=\"PathCollection_1\">\n    <defs>\n     <path d=\"M 0 3 \nC 0.795609 3 1.55874 2.683901 2.12132 2.12132 \nC 2.683901 1.55874 3 0.795609 3 0 \nC 3 -0.795609 2.683901 -1.55874 2.12132 -2.12132 \nC 1.55874 -2.683901 0.795609 -3 0 -3 \nC -0.795609 -3 -1.55874 -2.683901 -2.12132 -2.12132 \nC -2.683901 -1.55874 -3 -0.795609 -3 0 \nC -3 0.795609 -2.683901 1.55874 -2.12132 2.12132 \nC -1.55874 2.683901 -0.795609 3 0 3 \nz\n\" id=\"m9d46be86fd\" style=\"stroke:#1f77b4;\"/>\n    </defs>\n    <g clip-path=\"url(#pc7afeaf3e7)\">\n     <use style=\"fill:#1f77b4;stroke:#1f77b4;\" x=\"334.019635\" xlink:href=\"#m9d46be86fd\" y=\"121.938527\"/>\n     <use style=\"fill:#1f77b4;stroke:#1f77b4;\" x=\"350.797901\" xlink:href=\"#m9d46be86fd\" y=\"141.926663\"/>\n     <use style=\"fill:#1f77b4;stroke:#1f77b4;\" x=\"349.031768\" xlink:href=\"#m9d46be86fd\" y=\"140.38062\"/>\n     <use style=\"fill:#1f77b4;stroke:#1f77b4;\" x=\"333.725279\" xlink:href=\"#m9d46be86fd\" y=\"121.4968\"/>\n     <use style=\"fill:#1f77b4;stroke:#1f77b4;\" x=\"339.318035\" xlink:href=\"#m9d46be86fd\" y=\"130.607415\"/>\n     <use style=\"fill:#1f77b4;stroke:#1f77b4;\" x=\"336.96319\" xlink:href=\"#m9d46be86fd\" y=\"127.680975\"/>\n     <use style=\"fill:#1f77b4;stroke:#1f77b4;\" x=\"332.547857\" xlink:href=\"#m9d46be86fd\" y=\"120.282052\"/>\n     <use style=\"fill:#1f77b4;stroke:#1f77b4;\" x=\"333.725279\" xlink:href=\"#m9d46be86fd\" y=\"121.4968\"/>\n     <use style=\"fill:#1f77b4;stroke:#1f77b4;\" x=\"334.902702\" xlink:href=\"#m9d46be86fd\" y=\"121.552016\"/>\n     <use style=\"fill:#1f77b4;stroke:#1f77b4;\" x=\"343.439012\" xlink:href=\"#m9d46be86fd\" y=\"134.086013\"/>\n     <use style=\"fill:#1f77b4;stroke:#1f77b4;\" x=\"339.318035\" xlink:href=\"#m9d46be86fd\" y=\"130.552199\"/>\n     <use style=\"fill:#1f77b4;stroke:#1f77b4;\" x=\"289.571947\" xlink:href=\"#m9d46be86fd\" y=\"66.557034\"/>\n     <use style=\"fill:#1f77b4;stroke:#1f77b4;\" x=\"326.955102\" xlink:href=\"#m9d46be86fd\" y=\"113.821798\"/>\n     <use style=\"fill:#1f77b4;stroke:#1f77b4;\" x=\"342.555946\" xlink:href=\"#m9d46be86fd\" y=\"130.93871\"/>\n     <use style=\"fill:#1f77b4;stroke:#1f77b4;\" x=\"328.132524\" xlink:href=\"#m9d46be86fd\" y=\"115.367842\"/>\n     <use style=\"fill:#1f77b4;stroke:#1f77b4;\" x=\"307.23328\" xlink:href=\"#m9d46be86fd\" y=\"91.072869\"/>\n     <use style=\"fill:#1f77b4;stroke:#1f77b4;\" x=\"296.342125\" xlink:href=\"#m9d46be86fd\" y=\"71.857755\"/>\n     <use style=\"fill:#1f77b4;stroke:#1f77b4;\" x=\"339.61239\" xlink:href=\"#m9d46be86fd\" y=\"130.93871\"/>\n     <use style=\"fill:#1f77b4;stroke:#1f77b4;\" x=\"354.624523\" xlink:href=\"#m9d46be86fd\" y=\"145.791772\"/>\n     <use style=\"fill:#1f77b4;stroke:#1f77b4;\" x=\"343.439012\" xlink:href=\"#m9d46be86fd\" y=\"134.086013\"/>\n     <use style=\"fill:#1f77b4;stroke:#1f77b4;\" x=\"286.922747\" xlink:href=\"#m9d46be86fd\" y=\"65.784012\"/>\n     <use style=\"fill:#1f77b4;stroke:#1f77b4;\" x=\"369.342301\" xlink:href=\"#m9d46be86fd\" y=\"187.479736\"/>\n     <use style=\"fill:#1f77b4;stroke:#1f77b4;\" x=\"376.112478\" xlink:href=\"#m9d46be86fd\" y=\"159.37487\"/>\n     <use style=\"fill:#1f77b4;stroke:#1f77b4;\" x=\"344.91079\" xlink:href=\"#m9d46be86fd\" y=\"134.251661\"/>\n     <use style=\"fill:#1f77b4;stroke:#1f77b4;\" x=\"323.422835\" xlink:href=\"#m9d46be86fd\" y=\"110.287984\"/>\n     <use style=\"fill:#1f77b4;stroke:#1f77b4;\" x=\"370.814078\" xlink:href=\"#m9d46be86fd\" y=\"186.927577\"/>\n     <use style=\"fill:#1f77b4;stroke:#1f77b4;\" x=\"333.725279\" xlink:href=\"#m9d46be86fd\" y=\"121.607232\"/>\n     <use style=\"fill:#1f77b4;stroke:#1f77b4;\" x=\"381.116523\" xlink:href=\"#m9d46be86fd\" y=\"161.970015\"/>\n     <use style=\"fill:#1f77b4;stroke:#1f77b4;\" x=\"377.584256\" xlink:href=\"#m9d46be86fd\" y=\"201.11805\"/>\n     <use style=\"fill:#1f77b4;stroke:#1f77b4;\" x=\"333.430924\" xlink:href=\"#m9d46be86fd\" y=\"121.220721\"/>\n     <use style=\"fill:#1f77b4;stroke:#1f77b4;\" x=\"325.483324\" xlink:href=\"#m9d46be86fd\" y=\"112.386186\"/>\n     <use style=\"fill:#1f77b4;stroke:#1f77b4;\" x=\"344.322079\" xlink:href=\"#m9d46be86fd\" y=\"135.466409\"/>\n     <use style=\"fill:#1f77b4;stroke:#1f77b4;\" x=\"373.463278\" xlink:href=\"#m9d46be86fd\" y=\"186.154556\"/>\n     <use style=\"fill:#1f77b4;stroke:#1f77b4;\" x=\"326.072035\" xlink:href=\"#m9d46be86fd\" y=\"115.036546\"/>\n     <use style=\"fill:#1f77b4;stroke:#1f77b4;\" x=\"340.789813\" xlink:href=\"#m9d46be86fd\" y=\"130.717847\"/>\n     <use style=\"fill:#1f77b4;stroke:#1f77b4;\" x=\"334.019635\" xlink:href=\"#m9d46be86fd\" y=\"121.938527\"/>\n     <use style=\"fill:#1f77b4;stroke:#1f77b4;\" x=\"341.084168\" xlink:href=\"#m9d46be86fd\" y=\"130.993926\"/>\n     <use style=\"fill:#1f77b4;stroke:#1f77b4;\" x=\"378.761678\" xlink:href=\"#m9d46be86fd\" y=\"201.062834\"/>\n     <use style=\"fill:#1f77b4;stroke:#1f77b4;\" x=\"331.959146\" xlink:href=\"#m9d46be86fd\" y=\"121.662448\"/>\n     <use style=\"fill:#1f77b4;stroke:#1f77b4;\" x=\"355.801946\" xlink:href=\"#m9d46be86fd\" y=\"149.049507\"/>\n     <use style=\"fill:#1f77b4;stroke:#1f77b4;\" x=\"332.547857\" xlink:href=\"#m9d46be86fd\" y=\"119.343382\"/>\n     <use style=\"fill:#1f77b4;stroke:#1f77b4;\" x=\"390.830256\" xlink:href=\"#m9d46be86fd\" y=\"172.737105\"/>\n     <use style=\"fill:#1f77b4;stroke:#1f77b4;\" x=\"371.991501\" xlink:href=\"#m9d46be86fd\" y=\"191.068766\"/>\n     <use style=\"fill:#1f77b4;stroke:#1f77b4;\" x=\"375.818123\" xlink:href=\"#m9d46be86fd\" y=\"158.491417\"/>\n     <use style=\"fill:#1f77b4;stroke:#1f77b4;\" x=\"378.172967\" xlink:href=\"#m9d46be86fd\" y=\"203.823626\"/>\n     <use style=\"fill:#1f77b4;stroke:#1f77b4;\" x=\"335.785768\" xlink:href=\"#m9d46be86fd\" y=\"124.975399\"/>\n     <use style=\"fill:#1f77b4;stroke:#1f77b4;\" x=\"330.193013\" xlink:href=\"#m9d46be86fd\" y=\"118.956872\"/>\n     <use style=\"fill:#1f77b4;stroke:#1f77b4;\" x=\"342.850301\" xlink:href=\"#m9d46be86fd\" y=\"133.589071\"/>\n     <use style=\"fill:#1f77b4;stroke:#1f77b4;\" x=\"340.495457\" xlink:href=\"#m9d46be86fd\" y=\"132.043027\"/>\n     <use style=\"fill:#1f77b4;stroke:#1f77b4;\" x=\"340.495457\" xlink:href=\"#m9d46be86fd\" y=\"128.564429\"/>\n     <use style=\"fill:#1f77b4;stroke:#1f77b4;\" x=\"356.979368\" xlink:href=\"#m9d46be86fd\" y=\"148.828644\"/>\n     <use style=\"fill:#1f77b4;stroke:#1f77b4;\" x=\"343.733368\" xlink:href=\"#m9d46be86fd\" y=\"132.26389\"/>\n     <use style=\"fill:#1f77b4;stroke:#1f77b4;\" x=\"339.61239\" xlink:href=\"#m9d46be86fd\" y=\"129.227019\"/>\n     <use style=\"fill:#1f77b4;stroke:#1f77b4;\" x=\"339.61239\" xlink:href=\"#m9d46be86fd\" y=\"130.93871\"/>\n     <use style=\"fill:#1f77b4;stroke:#1f77b4;\" x=\"355.50759\" xlink:href=\"#m9d46be86fd\" y=\"147.337816\"/>\n     <use style=\"fill:#1f77b4;stroke:#1f77b4;\" x=\"341.967235\" xlink:href=\"#m9d46be86fd\" y=\"132.153459\"/>\n     <use style=\"fill:#1f77b4;stroke:#1f77b4;\" x=\"390.830256\" xlink:href=\"#m9d46be86fd\" y=\"173.234048\"/>\n     <use style=\"fill:#1f77b4;stroke:#1f77b4;\" x=\"303.406658\" xlink:href=\"#m9d46be86fd\" y=\"83.563514\"/>\n     <use style=\"fill:#1f77b4;stroke:#1f77b4;\" x=\"339.61239\" xlink:href=\"#m9d46be86fd\" y=\"129.227019\"/>\n     <use style=\"fill:#1f77b4;stroke:#1f77b4;\" x=\"340.495457\" xlink:href=\"#m9d46be86fd\" y=\"131.325221\"/>\n     <use style=\"fill:#1f77b4;stroke:#1f77b4;\" x=\"310.765547\" xlink:href=\"#m9d46be86fd\" y=\"95.545353\"/>\n     <use style=\"fill:#1f77b4;stroke:#1f77b4;\" x=\"366.693101\" xlink:href=\"#m9d46be86fd\" y=\"154.847171\"/>\n     <use style=\"fill:#1f77b4;stroke:#1f77b4;\" x=\"331.959146\" xlink:href=\"#m9d46be86fd\" y=\"120.83421\"/>\n     <use style=\"fill:#1f77b4;stroke:#1f77b4;\" x=\"384.060078\" xlink:href=\"#m9d46be86fd\" y=\"162.798253\"/>\n     <use style=\"fill:#1f77b4;stroke:#1f77b4;\" x=\"315.769591\" xlink:href=\"#m9d46be86fd\" y=\"100.128268\"/>\n     <use style=\"fill:#1f77b4;stroke:#1f77b4;\" x=\"374.935056\" xlink:href=\"#m9d46be86fd\" y=\"192.890889\"/>\n     <use style=\"fill:#1f77b4;stroke:#1f77b4;\" x=\"338.434968\" xlink:href=\"#m9d46be86fd\" y=\"127.460112\"/>\n     <use style=\"fill:#1f77b4;stroke:#1f77b4;\" x=\"314.003458\" xlink:href=\"#m9d46be86fd\" y=\"100.183484\"/>\n     <use style=\"fill:#1f77b4;stroke:#1f77b4;\" x=\"331.959146\" xlink:href=\"#m9d46be86fd\" y=\"121.662448\"/>\n     <use style=\"fill:#1f77b4;stroke:#1f77b4;\" x=\"372.580212\" xlink:href=\"#m9d46be86fd\" y=\"206.418771\"/>\n     <use style=\"fill:#1f77b4;stroke:#1f77b4;\" x=\"389.652833\" xlink:href=\"#m9d46be86fd\" y=\"166.387283\"/>\n     <use style=\"fill:#1f77b4;stroke:#1f77b4;\" x=\"361.983412\" xlink:href=\"#m9d46be86fd\" y=\"152.417674\"/>\n     <use style=\"fill:#1f77b4;stroke:#1f77b4;\" x=\"314.592169\" xlink:href=\"#m9d46be86fd\" y=\"100.017836\"/>\n     <use style=\"fill:#1f77b4;stroke:#1f77b4;\" x=\"379.056034\" xlink:href=\"#m9d46be86fd\" y=\"160.810482\"/>\n     <use style=\"fill:#1f77b4;stroke:#1f77b4;\" x=\"384.943145\" xlink:href=\"#m9d46be86fd\" y=\"180.356892\"/>\n     <use style=\"fill:#1f77b4;stroke:#1f77b4;\" x=\"357.273723\" xlink:href=\"#m9d46be86fd\" y=\"214.480284\"/>\n     <use style=\"fill:#1f77b4;stroke:#1f77b4;\" x=\"341.084168\" xlink:href=\"#m9d46be86fd\" y=\"130.993926\"/>\n     <use style=\"fill:#1f77b4;stroke:#1f77b4;\" x=\"371.991501\" xlink:href=\"#m9d46be86fd\" y=\"207.35744\"/>\n     <use style=\"fill:#1f77b4;stroke:#1f77b4;\" x=\"389.652833\" xlink:href=\"#m9d46be86fd\" y=\"171.964083\"/>\n     <use style=\"fill:#1f77b4;stroke:#1f77b4;\" x=\"376.995545\" xlink:href=\"#m9d46be86fd\" y=\"158.657064\"/>\n     <use style=\"fill:#1f77b4;stroke:#1f77b4;\" x=\"380.233456\" xlink:href=\"#m9d46be86fd\" y=\"181.958151\"/>\n     <use style=\"fill:#1f77b4;stroke:#1f77b4;\" x=\"376.112478\" xlink:href=\"#m9d46be86fd\" y=\"184.387649\"/>\n     <use style=\"fill:#1f77b4;stroke:#1f77b4;\" x=\"323.422835\" xlink:href=\"#m9d46be86fd\" y=\"110.287984\"/>\n     <use style=\"fill:#1f77b4;stroke:#1f77b4;\" x=\"374.051989\" xlink:href=\"#m9d46be86fd\" y=\"191.123982\"/>\n     <use style=\"fill:#1f77b4;stroke:#1f77b4;\" x=\"341.084168\" xlink:href=\"#m9d46be86fd\" y=\"130.993926\"/>\n     <use style=\"fill:#1f77b4;stroke:#1f77b4;\" x=\"340.495457\" xlink:href=\"#m9d46be86fd\" y=\"130.331336\"/>\n     <use style=\"fill:#1f77b4;stroke:#1f77b4;\" x=\"315.769591\" xlink:href=\"#m9d46be86fd\" y=\"102.336902\"/>\n     <use style=\"fill:#1f77b4;stroke:#1f77b4;\" x=\"307.23328\" xlink:href=\"#m9d46be86fd\" y=\"90.852006\"/>\n     <use style=\"fill:#1f77b4;stroke:#1f77b4;\" x=\"389.358478\" xlink:href=\"#m9d46be86fd\" y=\"169.148075\"/>\n     <use style=\"fill:#1f77b4;stroke:#1f77b4;\" x=\"373.757634\" xlink:href=\"#m9d46be86fd\" y=\"192.946105\"/>\n     <use style=\"fill:#1f77b4;stroke:#1f77b4;\" x=\"340.495457\" xlink:href=\"#m9d46be86fd\" y=\"128.564429\"/>\n     <use style=\"fill:#1f77b4;stroke:#1f77b4;\" x=\"316.358302\" xlink:href=\"#m9d46be86fd\" y=\"100.956506\"/>\n     <use style=\"fill:#1f77b4;stroke:#1f77b4;\" x=\"336.96319\" xlink:href=\"#m9d46be86fd\" y=\"127.680975\"/>\n     <use style=\"fill:#1f77b4;stroke:#1f77b4;\" x=\"346.382568\" xlink:href=\"#m9d46be86fd\" y=\"138.392849\"/>\n     <use style=\"fill:#1f77b4;stroke:#1f77b4;\" x=\"336.668835\" xlink:href=\"#m9d46be86fd\" y=\"125.030615\"/>\n     <use style=\"fill:#1f77b4;stroke:#1f77b4;\" x=\"315.769591\" xlink:href=\"#m9d46be86fd\" y=\"101.232585\"/>\n     <use style=\"fill:#1f77b4;stroke:#1f77b4;\" x=\"336.668835\" xlink:href=\"#m9d46be86fd\" y=\"125.030615\"/>\n     <use style=\"fill:#1f77b4;stroke:#1f77b4;\" x=\"328.721235\" xlink:href=\"#m9d46be86fd\" y=\"115.588705\"/>\n     <use style=\"fill:#1f77b4;stroke:#1f77b4;\" x=\"292.221147\" xlink:href=\"#m9d46be86fd\" y=\"73.624662\"/>\n     <use style=\"fill:#1f77b4;stroke:#1f77b4;\" x=\"374.051989\" xlink:href=\"#m9d46be86fd\" y=\"191.123982\"/>\n     <use style=\"fill:#1f77b4;stroke:#1f77b4;\" x=\"373.463278\" xlink:href=\"#m9d46be86fd\" y=\"190.903118\"/>\n     <use style=\"fill:#1f77b4;stroke:#1f77b4;\" x=\"355.50759\" xlink:href=\"#m9d46be86fd\" y=\"147.393032\"/>\n     <use style=\"fill:#1f77b4;stroke:#1f77b4;\" x=\"383.177011\" xlink:href=\"#m9d46be86fd\" y=\"162.687821\"/>\n     <use style=\"fill:#1f77b4;stroke:#1f77b4;\" x=\"301.93488\" xlink:href=\"#m9d46be86fd\" y=\"80.913154\"/>\n     <use style=\"fill:#1f77b4;stroke:#1f77b4;\" x=\"340.495457\" xlink:href=\"#m9d46be86fd\" y=\"128.564429\"/>\n     <use style=\"fill:#1f77b4;stroke:#1f77b4;\" x=\"339.61239\" xlink:href=\"#m9d46be86fd\" y=\"130.93871\"/>\n     <use style=\"fill:#1f77b4;stroke:#1f77b4;\" x=\"384.060078\" xlink:href=\"#m9d46be86fd\" y=\"162.798253\"/>\n     <use style=\"fill:#1f77b4;stroke:#1f77b4;\" x=\"301.051814\" xlink:href=\"#m9d46be86fd\" y=\"87.152544\"/>\n     <use style=\"fill:#1f77b4;stroke:#1f77b4;\" x=\"332.253502\" xlink:href=\"#m9d46be86fd\" y=\"120.005973\"/>\n     <use style=\"fill:#1f77b4;stroke:#1f77b4;\" x=\"339.318035\" xlink:href=\"#m9d46be86fd\" y=\"130.607415\"/>\n     <use style=\"fill:#1f77b4;stroke:#1f77b4;\" x=\"341.967235\" xlink:href=\"#m9d46be86fd\" y=\"132.153459\"/>\n     <use style=\"fill:#1f77b4;stroke:#1f77b4;\" x=\"345.499501\" xlink:href=\"#m9d46be86fd\" y=\"136.957237\"/>\n     <use style=\"fill:#1f77b4;stroke:#1f77b4;\" x=\"322.539769\" xlink:href=\"#m9d46be86fd\" y=\"110.287984\"/>\n     <use style=\"fill:#1f77b4;stroke:#1f77b4;\" x=\"371.108434\" xlink:href=\"#m9d46be86fd\" y=\"190.958334\"/>\n     <use style=\"fill:#1f77b4;stroke:#1f77b4;\" x=\"348.148701\" xlink:href=\"#m9d46be86fd\" y=\"141.04321\"/>\n     <use style=\"fill:#1f77b4;stroke:#1f77b4;\" x=\"342.850301\" xlink:href=\"#m9d46be86fd\" y=\"134.693388\"/>\n     <use style=\"fill:#1f77b4;stroke:#1f77b4;\" x=\"374.935056\" xlink:href=\"#m9d46be86fd\" y=\"192.890889\"/>\n     <use style=\"fill:#1f77b4;stroke:#1f77b4;\" x=\"376.701189\" xlink:href=\"#m9d46be86fd\" y=\"196.535135\"/>\n     <use style=\"fill:#1f77b4;stroke:#1f77b4;\" x=\"383.177011\" xlink:href=\"#m9d46be86fd\" y=\"162.853469\"/>\n     <use style=\"fill:#1f77b4;stroke:#1f77b4;\" x=\"347.55999\" xlink:href=\"#m9d46be86fd\" y=\"138.11677\"/>\n     <use style=\"fill:#1f77b4;stroke:#1f77b4;\" x=\"389.652833\" xlink:href=\"#m9d46be86fd\" y=\"173.289264\"/>\n     <use style=\"fill:#1f77b4;stroke:#1f77b4;\" x=\"340.495457\" xlink:href=\"#m9d46be86fd\" y=\"128.564429\"/>\n     <use style=\"fill:#1f77b4;stroke:#1f77b4;\" x=\"357.273723\" xlink:href=\"#m9d46be86fd\" y=\"146.730442\"/>\n     <use style=\"fill:#1f77b4;stroke:#1f77b4;\" x=\"374.051989\" xlink:href=\"#m9d46be86fd\" y=\"207.302224\"/>\n     <use style=\"fill:#1f77b4;stroke:#1f77b4;\" x=\"301.346169\" xlink:href=\"#m9d46be86fd\" y=\"87.262976\"/>\n     <use style=\"fill:#1f77b4;stroke:#1f77b4;\" x=\"309.88248\" xlink:href=\"#m9d46be86fd\" y=\"94.827547\"/>\n     <use style=\"fill:#1f77b4;stroke:#1f77b4;\" x=\"373.463278\" xlink:href=\"#m9d46be86fd\" y=\"189.964449\"/>\n     <use style=\"fill:#1f77b4;stroke:#1f77b4;\" x=\"341.084168\" xlink:href=\"#m9d46be86fd\" y=\"130.993926\"/>\n     <use style=\"fill:#1f77b4;stroke:#1f77b4;\" x=\"388.475411\" xlink:href=\"#m9d46be86fd\" y=\"176.436567\"/>\n     <use style=\"fill:#1f77b4;stroke:#1f77b4;\" x=\"315.475235\" xlink:href=\"#m9d46be86fd\" y=\"99.907405\"/>\n     <use style=\"fill:#1f77b4;stroke:#1f77b4;\" x=\"317.83008\" xlink:href=\"#m9d46be86fd\" y=\"104.49032\"/>\n     <use style=\"fill:#1f77b4;stroke:#1f77b4;\" x=\"331.959146\" xlink:href=\"#m9d46be86fd\" y=\"121.662448\"/>\n     <use style=\"fill:#1f77b4;stroke:#1f77b4;\" x=\"384.060078\" xlink:href=\"#m9d46be86fd\" y=\"162.798253\"/>\n     <use style=\"fill:#1f77b4;stroke:#1f77b4;\" x=\"319.890569\" xlink:href=\"#m9d46be86fd\" y=\"105.870716\"/>\n     <use style=\"fill:#1f77b4;stroke:#1f77b4;\" x=\"354.918879\" xlink:href=\"#m9d46be86fd\" y=\"146.62001\"/>\n     <use style=\"fill:#1f77b4;stroke:#1f77b4;\" x=\"370.814078\" xlink:href=\"#m9d46be86fd\" y=\"157.111021\"/>\n     <use style=\"fill:#1f77b4;stroke:#1f77b4;\" x=\"339.023679\" xlink:href=\"#m9d46be86fd\" y=\"128.288349\"/>\n     <use style=\"fill:#1f77b4;stroke:#1f77b4;\" x=\"301.051814\" xlink:href=\"#m9d46be86fd\" y=\"87.152544\"/>\n     <use style=\"fill:#1f77b4;stroke:#1f77b4;\" x=\"340.495457\" xlink:href=\"#m9d46be86fd\" y=\"130.331336\"/>\n     <use style=\"fill:#1f77b4;stroke:#1f77b4;\" x=\"333.725279\" xlink:href=\"#m9d46be86fd\" y=\"121.4968\"/>\n     <use style=\"fill:#1f77b4;stroke:#1f77b4;\" x=\"296.63648\" xlink:href=\"#m9d46be86fd\" y=\"71.912971\"/>\n     <use style=\"fill:#1f77b4;stroke:#1f77b4;\" x=\"387.8867\" xlink:href=\"#m9d46be86fd\" y=\"174.283149\"/>\n     <use style=\"fill:#1f77b4;stroke:#1f77b4;\" x=\"375.818123\" xlink:href=\"#m9d46be86fd\" y=\"159.430086\"/>\n     <use style=\"fill:#1f77b4;stroke:#1f77b4;\" x=\"341.967235\" xlink:href=\"#m9d46be86fd\" y=\"129.503098\"/>\n     <use style=\"fill:#1f77b4;stroke:#1f77b4;\" x=\"297.519547\" xlink:href=\"#m9d46be86fd\" y=\"79.146247\"/>\n     <use style=\"fill:#1f77b4;stroke:#1f77b4;\" x=\"317.535724\" xlink:href=\"#m9d46be86fd\" y=\"103.441219\"/>\n     <use style=\"fill:#1f77b4;stroke:#1f77b4;\" x=\"343.733368\" xlink:href=\"#m9d46be86fd\" y=\"132.26389\"/>\n     <use style=\"fill:#1f77b4;stroke:#1f77b4;\" x=\"346.676924\" xlink:href=\"#m9d46be86fd\" y=\"138.613713\"/>\n     <use style=\"fill:#1f77b4;stroke:#1f77b4;\" x=\"339.61239\" xlink:href=\"#m9d46be86fd\" y=\"129.227019\"/>\n     <use style=\"fill:#1f77b4;stroke:#1f77b4;\" x=\"371.991501\" xlink:href=\"#m9d46be86fd\" y=\"191.068766\"/>\n     <use style=\"fill:#1f77b4;stroke:#1f77b4;\" x=\"370.814078\" xlink:href=\"#m9d46be86fd\" y=\"186.872362\"/>\n     <use style=\"fill:#1f77b4;stroke:#1f77b4;\" x=\"331.959146\" xlink:href=\"#m9d46be86fd\" y=\"121.662448\"/>\n     <use style=\"fill:#1f77b4;stroke:#1f77b4;\" x=\"362.866479\" xlink:href=\"#m9d46be86fd\" y=\"212.271651\"/>\n     <use style=\"fill:#1f77b4;stroke:#1f77b4;\" x=\"355.213234\" xlink:href=\"#m9d46be86fd\" y=\"147.227384\"/>\n     <use style=\"fill:#1f77b4;stroke:#1f77b4;\" x=\"389.652833\" xlink:href=\"#m9d46be86fd\" y=\"173.565343\"/>\n     <use style=\"fill:#1f77b4;stroke:#1f77b4;\" x=\"357.568079\" xlink:href=\"#m9d46be86fd\" y=\"149.491234\"/>\n     <use style=\"fill:#1f77b4;stroke:#1f77b4;\" x=\"343.144657\" xlink:href=\"#m9d46be86fd\" y=\"133.478639\"/>\n     <use style=\"fill:#1f77b4;stroke:#1f77b4;\" x=\"334.313991\" xlink:href=\"#m9d46be86fd\" y=\"121.938527\"/>\n     <use style=\"fill:#1f77b4;stroke:#1f77b4;\" x=\"322.539769\" xlink:href=\"#m9d46be86fd\" y=\"110.287984\"/>\n     <use style=\"fill:#1f77b4;stroke:#1f77b4;\" x=\"342.850301\" xlink:href=\"#m9d46be86fd\" y=\"134.693388\"/>\n     <use style=\"fill:#1f77b4;stroke:#1f77b4;\" x=\"383.177011\" xlink:href=\"#m9d46be86fd\" y=\"162.853469\"/>\n     <use style=\"fill:#1f77b4;stroke:#1f77b4;\" x=\"374.051989\" xlink:href=\"#m9d46be86fd\" y=\"193.387831\"/>\n     <use style=\"fill:#1f77b4;stroke:#1f77b4;\" x=\"339.318035\" xlink:href=\"#m9d46be86fd\" y=\"130.552199\"/>\n     <use style=\"fill:#1f77b4;stroke:#1f77b4;\" x=\"342.850301\" xlink:href=\"#m9d46be86fd\" y=\"133.589071\"/>\n     <use style=\"fill:#1f77b4;stroke:#1f77b4;\" x=\"285.745325\" xlink:href=\"#m9d46be86fd\" y=\"65.231854\"/>\n     <use style=\"fill:#1f77b4;stroke:#1f77b4;\" x=\"326.072035\" xlink:href=\"#m9d46be86fd\" y=\"115.036546\"/>\n     <use style=\"fill:#1f77b4;stroke:#1f77b4;\" x=\"344.91079\" xlink:href=\"#m9d46be86fd\" y=\"135.687273\"/>\n     <use style=\"fill:#1f77b4;stroke:#1f77b4;\" x=\"387.8867\" xlink:href=\"#m9d46be86fd\" y=\"164.454728\"/>\n     <use style=\"fill:#1f77b4;stroke:#1f77b4;\" x=\"301.051814\" xlink:href=\"#m9d46be86fd\" y=\"80.581859\"/>\n     <use style=\"fill:#1f77b4;stroke:#1f77b4;\" x=\"376.995545\" xlink:href=\"#m9d46be86fd\" y=\"198.081178\"/>\n     <use style=\"fill:#1f77b4;stroke:#1f77b4;\" x=\"382.882656\" xlink:href=\"#m9d46be86fd\" y=\"181.516425\"/>\n     <use style=\"fill:#1f77b4;stroke:#1f77b4;\" x=\"379.350389\" xlink:href=\"#m9d46be86fd\" y=\"196.700782\"/>\n     <use style=\"fill:#1f77b4;stroke:#1f77b4;\" x=\"316.358302\" xlink:href=\"#m9d46be86fd\" y=\"100.956506\"/>\n     <use style=\"fill:#1f77b4;stroke:#1f77b4;\" x=\"330.193013\" xlink:href=\"#m9d46be86fd\" y=\"118.956872\"/>\n     <use style=\"fill:#1f77b4;stroke:#1f77b4;\" x=\"316.358302\" xlink:href=\"#m9d46be86fd\" y=\"102.060823\"/>\n     <use style=\"fill:#1f77b4;stroke:#1f77b4;\" x=\"334.313991\" xlink:href=\"#m9d46be86fd\" y=\"121.938527\"/>\n     <use style=\"fill:#1f77b4;stroke:#1f77b4;\" x=\"357.273723\" xlink:href=\"#m9d46be86fd\" y=\"149.325587\"/>\n     <use style=\"fill:#1f77b4;stroke:#1f77b4;\" x=\"333.430924\" xlink:href=\"#m9d46be86fd\" y=\"121.220721\"/>\n     <use style=\"fill:#1f77b4;stroke:#1f77b4;\" x=\"302.229236\" xlink:href=\"#m9d46be86fd\" y=\"86.048228\"/>\n     <use style=\"fill:#1f77b4;stroke:#1f77b4;\" x=\"389.652833\" xlink:href=\"#m9d46be86fd\" y=\"172.019299\"/>\n     <use style=\"fill:#1f77b4;stroke:#1f77b4;\" x=\"371.991501\" xlink:href=\"#m9d46be86fd\" y=\"207.35744\"/>\n     <use style=\"fill:#1f77b4;stroke:#1f77b4;\" x=\"345.499501\" xlink:href=\"#m9d46be86fd\" y=\"137.012453\"/>\n     <use style=\"fill:#1f77b4;stroke:#1f77b4;\" x=\"388.475411\" xlink:href=\"#m9d46be86fd\" y=\"177.209589\"/>\n     <use style=\"fill:#1f77b4;stroke:#1f77b4;\" x=\"302.817947\" xlink:href=\"#m9d46be86fd\" y=\"84.5574\"/>\n     <use style=\"fill:#1f77b4;stroke:#1f77b4;\" x=\"367.576167\" xlink:href=\"#m9d46be86fd\" y=\"155.344114\"/>\n     <use style=\"fill:#1f77b4;stroke:#1f77b4;\" x=\"314.592169\" xlink:href=\"#m9d46be86fd\" y=\"99.907405\"/>\n     <use style=\"fill:#1f77b4;stroke:#1f77b4;\" x=\"318.418791\" xlink:href=\"#m9d46be86fd\" y=\"104.269457\"/>\n     <use style=\"fill:#1f77b4;stroke:#1f77b4;\" x=\"303.701014\" xlink:href=\"#m9d46be86fd\" y=\"82.183118\"/>\n     <use style=\"fill:#1f77b4;stroke:#1f77b4;\" x=\"333.725279\" xlink:href=\"#m9d46be86fd\" y=\"121.4968\"/>\n     <use style=\"fill:#1f77b4;stroke:#1f77b4;\" x=\"349.031768\" xlink:href=\"#m9d46be86fd\" y=\"140.38062\"/>\n     <use style=\"fill:#1f77b4;stroke:#1f77b4;\" x=\"387.297989\" xlink:href=\"#m9d46be86fd\" y=\"175.553113\"/>\n     <use style=\"fill:#1f77b4;stroke:#1f77b4;\" x=\"340.495457\" xlink:href=\"#m9d46be86fd\" y=\"128.564429\"/>\n     <use style=\"fill:#1f77b4;stroke:#1f77b4;\" x=\"324.894613\" xlink:href=\"#m9d46be86fd\" y=\"111.502732\"/>\n     <use style=\"fill:#1f77b4;stroke:#1f77b4;\" x=\"330.193013\" xlink:href=\"#m9d46be86fd\" y=\"117.576475\"/>\n     <use style=\"fill:#1f77b4;stroke:#1f77b4;\" x=\"377.2899\" xlink:href=\"#m9d46be86fd\" y=\"196.921646\"/>\n     <use style=\"fill:#1f77b4;stroke:#1f77b4;\" x=\"331.959146\" xlink:href=\"#m9d46be86fd\" y=\"121.662448\"/>\n     <use style=\"fill:#1f77b4;stroke:#1f77b4;\" x=\"326.072035\" xlink:href=\"#m9d46be86fd\" y=\"112.772697\"/>\n     <use style=\"fill:#1f77b4;stroke:#1f77b4;\" x=\"338.140613\" xlink:href=\"#m9d46be86fd\" y=\"127.073601\"/>\n     <use style=\"fill:#1f77b4;stroke:#1f77b4;\" x=\"376.701189\" xlink:href=\"#m9d46be86fd\" y=\"197.087293\"/>\n     <use style=\"fill:#1f77b4;stroke:#1f77b4;\" x=\"338.434968\" xlink:href=\"#m9d46be86fd\" y=\"127.460112\"/>\n     <use style=\"fill:#1f77b4;stroke:#1f77b4;\" x=\"304.878436\" xlink:href=\"#m9d46be86fd\" y=\"89.858121\"/>\n     <use style=\"fill:#1f77b4;stroke:#1f77b4;\" x=\"388.475411\" xlink:href=\"#m9d46be86fd\" y=\"165.503829\"/>\n     <use style=\"fill:#1f77b4;stroke:#1f77b4;\" x=\"303.701014\" xlink:href=\"#m9d46be86fd\" y=\"85.661717\"/>\n     <use style=\"fill:#1f77b4;stroke:#1f77b4;\" x=\"388.475411\" xlink:href=\"#m9d46be86fd\" y=\"165.117318\"/>\n     <use style=\"fill:#1f77b4;stroke:#1f77b4;\" x=\"345.793857\" xlink:href=\"#m9d46be86fd\" y=\"139.276303\"/>\n     <use style=\"fill:#1f77b4;stroke:#1f77b4;\" x=\"345.205146\" xlink:href=\"#m9d46be86fd\" y=\"136.736374\"/>\n     <use style=\"fill:#1f77b4;stroke:#1f77b4;\" x=\"331.370435\" xlink:href=\"#m9d46be86fd\" y=\"117.852555\"/>\n     <use style=\"fill:#1f77b4;stroke:#1f77b4;\" x=\"333.136568\" xlink:href=\"#m9d46be86fd\" y=\"119.950757\"/>\n     <use style=\"fill:#1f77b4;stroke:#1f77b4;\" x=\"363.749545\" xlink:href=\"#m9d46be86fd\" y=\"152.362458\"/>\n     <use style=\"fill:#1f77b4;stroke:#1f77b4;\" x=\"381.116523\" xlink:href=\"#m9d46be86fd\" y=\"161.970015\"/>\n     <use style=\"fill:#1f77b4;stroke:#1f77b4;\" x=\"317.535724\" xlink:href=\"#m9d46be86fd\" y=\"103.220356\"/>\n     <use style=\"fill:#1f77b4;stroke:#1f77b4;\" x=\"329.898657\" xlink:href=\"#m9d46be86fd\" y=\"117.410828\"/>\n     <use style=\"fill:#1f77b4;stroke:#1f77b4;\" x=\"388.475411\" xlink:href=\"#m9d46be86fd\" y=\"166.442499\"/>\n     <use style=\"fill:#1f77b4;stroke:#1f77b4;\" x=\"340.495457\" xlink:href=\"#m9d46be86fd\" y=\"128.564429\"/>\n     <use style=\"fill:#1f77b4;stroke:#1f77b4;\" x=\"333.725279\" xlink:href=\"#m9d46be86fd\" y=\"121.4968\"/>\n     <use style=\"fill:#1f77b4;stroke:#1f77b4;\" x=\"364.632612\" xlink:href=\"#m9d46be86fd\" y=\"153.521991\"/>\n     <use style=\"fill:#1f77b4;stroke:#1f77b4;\" x=\"348.148701\" xlink:href=\"#m9d46be86fd\" y=\"141.04321\"/>\n     <use style=\"fill:#1f77b4;stroke:#1f77b4;\" x=\"389.064122\" xlink:href=\"#m9d46be86fd\" y=\"174.724876\"/>\n     <use style=\"fill:#1f77b4;stroke:#1f77b4;\" x=\"342.850301\" xlink:href=\"#m9d46be86fd\" y=\"134.693388\"/>\n     <use style=\"fill:#1f77b4;stroke:#1f77b4;\" x=\"302.229236\" xlink:href=\"#m9d46be86fd\" y=\"85.827364\"/>\n     <use style=\"fill:#1f77b4;stroke:#1f77b4;\" x=\"345.499501\" xlink:href=\"#m9d46be86fd\" y=\"136.957237\"/>\n     <use style=\"fill:#1f77b4;stroke:#1f77b4;\" x=\"323.422835\" xlink:href=\"#m9d46be86fd\" y=\"109.901473\"/>\n     <use style=\"fill:#1f77b4;stroke:#1f77b4;\" x=\"389.947189\" xlink:href=\"#m9d46be86fd\" y=\"172.074515\"/>\n     <use style=\"fill:#1f77b4;stroke:#1f77b4;\" x=\"372.580212\" xlink:href=\"#m9d46be86fd\" y=\"157.939259\"/>\n     <use style=\"fill:#1f77b4;stroke:#1f77b4;\" x=\"340.495457\" xlink:href=\"#m9d46be86fd\" y=\"128.564429\"/>\n     <use style=\"fill:#1f77b4;stroke:#1f77b4;\" x=\"333.136568\" xlink:href=\"#m9d46be86fd\" y=\"119.895541\"/>\n     <use style=\"fill:#1f77b4;stroke:#1f77b4;\" x=\"318.418791\" xlink:href=\"#m9d46be86fd\" y=\"104.269457\"/>\n     <use style=\"fill:#1f77b4;stroke:#1f77b4;\" x=\"346.676924\" xlink:href=\"#m9d46be86fd\" y=\"138.227202\"/>\n     <use style=\"fill:#1f77b4;stroke:#1f77b4;\" x=\"298.108258\" xlink:href=\"#m9d46be86fd\" y=\"78.980599\"/>\n     <use style=\"fill:#1f77b4;stroke:#1f77b4;\" x=\"374.346345\" xlink:href=\"#m9d46be86fd\" y=\"158.767496\"/>\n     <use style=\"fill:#1f77b4;stroke:#1f77b4;\" x=\"347.854346\" xlink:href=\"#m9d46be86fd\" y=\"139.44195\"/>\n     <use style=\"fill:#1f77b4;stroke:#1f77b4;\" x=\"353.447101\" xlink:href=\"#m9d46be86fd\" y=\"144.521808\"/>\n     <use style=\"fill:#1f77b4;stroke:#1f77b4;\" x=\"342.850301\" xlink:href=\"#m9d46be86fd\" y=\"134.693388\"/>\n     <use style=\"fill:#1f77b4;stroke:#1f77b4;\" x=\"295.459058\" xlink:href=\"#m9d46be86fd\" y=\"69.814769\"/>\n     <use style=\"fill:#1f77b4;stroke:#1f77b4;\" x=\"318.418791\" xlink:href=\"#m9d46be86fd\" y=\"103.054708\"/>\n     <use style=\"fill:#1f77b4;stroke:#1f77b4;\" x=\"340.495457\" xlink:href=\"#m9d46be86fd\" y=\"132.043027\"/>\n     <use style=\"fill:#1f77b4;stroke:#1f77b4;\" x=\"340.495457\" xlink:href=\"#m9d46be86fd\" y=\"128.564429\"/>\n     <use style=\"fill:#1f77b4;stroke:#1f77b4;\" x=\"377.878612\" xlink:href=\"#m9d46be86fd\" y=\"202.111935\"/>\n     <use style=\"fill:#1f77b4;stroke:#1f77b4;\" x=\"383.471367\" xlink:href=\"#m9d46be86fd\" y=\"161.970015\"/>\n     <use style=\"fill:#1f77b4;stroke:#1f77b4;\" x=\"340.495457\" xlink:href=\"#m9d46be86fd\" y=\"128.564429\"/>\n     <use style=\"fill:#1f77b4;stroke:#1f77b4;\" x=\"341.967235\" xlink:href=\"#m9d46be86fd\" y=\"132.153459\"/>\n     <use style=\"fill:#1f77b4;stroke:#1f77b4;\" x=\"312.826036\" xlink:href=\"#m9d46be86fd\" y=\"96.760102\"/>\n     <use style=\"fill:#1f77b4;stroke:#1f77b4;\" x=\"341.967235\" xlink:href=\"#m9d46be86fd\" y=\"132.153459\"/>\n     <use style=\"fill:#1f77b4;stroke:#1f77b4;\" x=\"366.398745\" xlink:href=\"#m9d46be86fd\" y=\"210.615175\"/>\n     <use style=\"fill:#1f77b4;stroke:#1f77b4;\" x=\"349.031768\" xlink:href=\"#m9d46be86fd\" y=\"140.38062\"/>\n     <use style=\"fill:#1f77b4;stroke:#1f77b4;\" x=\"388.769767\" xlink:href=\"#m9d46be86fd\" y=\"170.638903\"/>\n     <use style=\"fill:#1f77b4;stroke:#1f77b4;\" x=\"388.475411\" xlink:href=\"#m9d46be86fd\" y=\"174.283149\"/>\n     <use style=\"fill:#1f77b4;stroke:#1f77b4;\" x=\"369.342301\" xlink:href=\"#m9d46be86fd\" y=\"187.479736\"/>\n     <use style=\"fill:#1f77b4;stroke:#1f77b4;\" x=\"298.108258\" xlink:href=\"#m9d46be86fd\" y=\"71.581676\"/>\n     <use style=\"fill:#1f77b4;stroke:#1f77b4;\" x=\"375.229412\" xlink:href=\"#m9d46be86fd\" y=\"157.939259\"/>\n     <use style=\"fill:#1f77b4;stroke:#1f77b4;\" x=\"338.434968\" xlink:href=\"#m9d46be86fd\" y=\"127.460112\"/>\n     <use style=\"fill:#1f77b4;stroke:#1f77b4;\" x=\"311.942969\" xlink:href=\"#m9d46be86fd\" y=\"97.146612\"/>\n     <use style=\"fill:#1f77b4;stroke:#1f77b4;\" x=\"389.652833\" xlink:href=\"#m9d46be86fd\" y=\"171.964083\"/>\n     <use style=\"fill:#1f77b4;stroke:#1f77b4;\" x=\"374.346345\" xlink:href=\"#m9d46be86fd\" y=\"158.767496\"/>\n     <use style=\"fill:#1f77b4;stroke:#1f77b4;\" x=\"340.495457\" xlink:href=\"#m9d46be86fd\" y=\"130.331336\"/>\n     <use style=\"fill:#1f77b4;stroke:#1f77b4;\" x=\"314.003458\" xlink:href=\"#m9d46be86fd\" y=\"98.140498\"/>\n     <use style=\"fill:#1f77b4;stroke:#1f77b4;\" x=\"362.866479\" xlink:href=\"#m9d46be86fd\" y=\"152.914617\"/>\n     <use style=\"fill:#1f77b4;stroke:#1f77b4;\" x=\"336.96319\" xlink:href=\"#m9d46be86fd\" y=\"127.680975\"/>\n     <use style=\"fill:#1f77b4;stroke:#1f77b4;\" x=\"346.382568\" xlink:href=\"#m9d46be86fd\" y=\"138.392849\"/>\n     <use style=\"fill:#1f77b4;stroke:#1f77b4;\" x=\"346.382568\" xlink:href=\"#m9d46be86fd\" y=\"138.392849\"/>\n     <use style=\"fill:#1f77b4;stroke:#1f77b4;\" x=\"371.108434\" xlink:href=\"#m9d46be86fd\" y=\"188.142326\"/>\n     <use style=\"fill:#1f77b4;stroke:#1f77b4;\" x=\"339.318035\" xlink:href=\"#m9d46be86fd\" y=\"130.607415\"/>\n     <use style=\"fill:#1f77b4;stroke:#1f77b4;\" x=\"331.664791\" xlink:href=\"#m9d46be86fd\" y=\"121.386369\"/>\n     <use style=\"fill:#1f77b4;stroke:#1f77b4;\" x=\"372.874567\" xlink:href=\"#m9d46be86fd\" y=\"192.228299\"/>\n     <use style=\"fill:#1f77b4;stroke:#1f77b4;\" x=\"316.063947\" xlink:href=\"#m9d46be86fd\" y=\"101.287801\"/>\n     <use style=\"fill:#1f77b4;stroke:#1f77b4;\" x=\"325.77768\" xlink:href=\"#m9d46be86fd\" y=\"114.208309\"/>\n     <use style=\"fill:#1f77b4;stroke:#1f77b4;\" x=\"348.148701\" xlink:href=\"#m9d46be86fd\" y=\"141.04321\"/>\n     <use style=\"fill:#1f77b4;stroke:#1f77b4;\" x=\"338.434968\" xlink:href=\"#m9d46be86fd\" y=\"127.460112\"/>\n     <use style=\"fill:#1f77b4;stroke:#1f77b4;\" x=\"371.108434\" xlink:href=\"#m9d46be86fd\" y=\"189.68837\"/>\n     <use style=\"fill:#1f77b4;stroke:#1f77b4;\" x=\"339.318035\" xlink:href=\"#m9d46be86fd\" y=\"130.607415\"/>\n     <use style=\"fill:#1f77b4;stroke:#1f77b4;\" x=\"345.793857\" xlink:href=\"#m9d46be86fd\" y=\"137.564611\"/>\n     <use style=\"fill:#1f77b4;stroke:#1f77b4;\" x=\"383.765723\" xlink:href=\"#m9d46be86fd\" y=\"180.025597\"/>\n     <use style=\"fill:#1f77b4;stroke:#1f77b4;\" x=\"339.61239\" xlink:href=\"#m9d46be86fd\" y=\"130.93871\"/>\n     <use style=\"fill:#1f77b4;stroke:#1f77b4;\" x=\"331.959146\" xlink:href=\"#m9d46be86fd\" y=\"121.662448\"/>\n     <use style=\"fill:#1f77b4;stroke:#1f77b4;\" x=\"307.23328\" xlink:href=\"#m9d46be86fd\" y=\"90.852006\"/>\n     <use style=\"fill:#1f77b4;stroke:#1f77b4;\" x=\"340.495457\" xlink:href=\"#m9d46be86fd\" y=\"128.564429\"/>\n     <use style=\"fill:#1f77b4;stroke:#1f77b4;\" x=\"375.229412\" xlink:href=\"#m9d46be86fd\" y=\"193.111752\"/>\n     <use style=\"fill:#1f77b4;stroke:#1f77b4;\" x=\"313.414747\" xlink:href=\"#m9d46be86fd\" y=\"98.747872\"/>\n     <use style=\"fill:#1f77b4;stroke:#1f77b4;\" x=\"383.177011\" xlink:href=\"#m9d46be86fd\" y=\"162.025231\"/>\n     <use style=\"fill:#1f77b4;stroke:#1f77b4;\" x=\"355.50759\" xlink:href=\"#m9d46be86fd\" y=\"147.116953\"/>\n     <use style=\"fill:#1f77b4;stroke:#1f77b4;\" x=\"343.144657\" xlink:href=\"#m9d46be86fd\" y=\"133.478639\"/>\n     <use style=\"fill:#1f77b4;stroke:#1f77b4;\" x=\"389.358478\" xlink:href=\"#m9d46be86fd\" y=\"170.473255\"/>\n     <use style=\"fill:#1f77b4;stroke:#1f77b4;\" x=\"355.50759\" xlink:href=\"#m9d46be86fd\" y=\"146.454363\"/>\n     <use style=\"fill:#1f77b4;stroke:#1f77b4;\" x=\"341.084168\" xlink:href=\"#m9d46be86fd\" y=\"130.993926\"/>\n     <use style=\"fill:#1f77b4;stroke:#1f77b4;\" x=\"338.729324\" xlink:href=\"#m9d46be86fd\" y=\"129.447882\"/>\n     <use style=\"fill:#1f77b4;stroke:#1f77b4;\" x=\"333.725279\" xlink:href=\"#m9d46be86fd\" y=\"121.662448\"/>\n     <use style=\"fill:#1f77b4;stroke:#1f77b4;\" x=\"346.676924\" xlink:href=\"#m9d46be86fd\" y=\"138.613713\"/>\n     <use style=\"fill:#1f77b4;stroke:#1f77b4;\" x=\"355.801946\" xlink:href=\"#m9d46be86fd\" y=\"147.503464\"/>\n     <use style=\"fill:#1f77b4;stroke:#1f77b4;\" x=\"386.120567\" xlink:href=\"#m9d46be86fd\" y=\"178.810848\"/>\n     <use style=\"fill:#1f77b4;stroke:#1f77b4;\" x=\"341.378524\" xlink:href=\"#m9d46be86fd\" y=\"131.546084\"/>\n     <use style=\"fill:#1f77b4;stroke:#1f77b4;\" x=\"346.382568\" xlink:href=\"#m9d46be86fd\" y=\"138.392849\"/>\n     <use style=\"fill:#1f77b4;stroke:#1f77b4;\" x=\"330.193013\" xlink:href=\"#m9d46be86fd\" y=\"118.956872\"/>\n     <use style=\"fill:#1f77b4;stroke:#1f77b4;\" x=\"339.906746\" xlink:href=\"#m9d46be86fd\" y=\"129.282235\"/>\n     <use style=\"fill:#1f77b4;stroke:#1f77b4;\" x=\"326.072035\" xlink:href=\"#m9d46be86fd\" y=\"115.036546\"/>\n     <use style=\"fill:#1f77b4;stroke:#1f77b4;\" x=\"379.9391\" xlink:href=\"#m9d46be86fd\" y=\"161.804368\"/>\n     <use style=\"fill:#1f77b4;stroke:#1f77b4;\" x=\"338.434968\" xlink:href=\"#m9d46be86fd\" y=\"127.460112\"/>\n     <use style=\"fill:#1f77b4;stroke:#1f77b4;\" x=\"339.318035\" xlink:href=\"#m9d46be86fd\" y=\"130.607415\"/>\n     <use style=\"fill:#1f77b4;stroke:#1f77b4;\" x=\"326.955102\" xlink:href=\"#m9d46be86fd\" y=\"114.042661\"/>\n     <use style=\"fill:#1f77b4;stroke:#1f77b4;\" x=\"347.854346\" xlink:href=\"#m9d46be86fd\" y=\"137.178101\"/>\n     <use style=\"fill:#1f77b4;stroke:#1f77b4;\" x=\"345.499501\" xlink:href=\"#m9d46be86fd\" y=\"137.012453\"/>\n     <use style=\"fill:#1f77b4;stroke:#1f77b4;\" x=\"377.584256\" xlink:href=\"#m9d46be86fd\" y=\"201.007618\"/>\n     <use style=\"fill:#1f77b4;stroke:#1f77b4;\" x=\"336.080124\" xlink:href=\"#m9d46be86fd\" y=\"133.754718\"/>\n     <use style=\"fill:#1f77b4;stroke:#1f77b4;\" x=\"387.592345\" xlink:href=\"#m9d46be86fd\" y=\"178.037826\"/>\n     <use style=\"fill:#1f77b4;stroke:#1f77b4;\" x=\"340.495457\" xlink:href=\"#m9d46be86fd\" y=\"128.564429\"/>\n     <use style=\"fill:#1f77b4;stroke:#1f77b4;\" x=\"324.894613\" xlink:href=\"#m9d46be86fd\" y=\"111.337085\"/>\n     <use style=\"fill:#1f77b4;stroke:#1f77b4;\" x=\"388.769767\" xlink:href=\"#m9d46be86fd\" y=\"166.387283\"/>\n     <use style=\"fill:#1f77b4;stroke:#1f77b4;\" x=\"301.051814\" xlink:href=\"#m9d46be86fd\" y=\"87.152544\"/>\n     <use style=\"fill:#1f77b4;stroke:#1f77b4;\" x=\"340.495457\" xlink:href=\"#m9d46be86fd\" y=\"130.331336\"/>\n     <use style=\"fill:#1f77b4;stroke:#1f77b4;\" x=\"340.495457\" xlink:href=\"#m9d46be86fd\" y=\"128.564429\"/>\n     <use style=\"fill:#1f77b4;stroke:#1f77b4;\" x=\"337.551902\" xlink:href=\"#m9d46be86fd\" y=\"126.300579\"/>\n     <use style=\"fill:#1f77b4;stroke:#1f77b4;\" x=\"373.757634\" xlink:href=\"#m9d46be86fd\" y=\"206.363555\"/>\n     <use style=\"fill:#1f77b4;stroke:#1f77b4;\" x=\"293.692925\" xlink:href=\"#m9d46be86fd\" y=\"73.017288\"/>\n     <use style=\"fill:#1f77b4;stroke:#1f77b4;\" x=\"339.906746\" xlink:href=\"#m9d46be86fd\" y=\"122.601117\"/>\n     <use style=\"fill:#1f77b4;stroke:#1f77b4;\" x=\"341.084168\" xlink:href=\"#m9d46be86fd\" y=\"130.993926\"/>\n     <use style=\"fill:#1f77b4;stroke:#1f77b4;\" x=\"373.463278\" xlink:href=\"#m9d46be86fd\" y=\"189.964449\"/>\n     <use style=\"fill:#1f77b4;stroke:#1f77b4;\" x=\"296.342125\" xlink:href=\"#m9d46be86fd\" y=\"71.857755\"/>\n     <use style=\"fill:#1f77b4;stroke:#1f77b4;\" x=\"380.527812\" xlink:href=\"#m9d46be86fd\" y=\"161.583504\"/>\n     <use style=\"fill:#1f77b4;stroke:#1f77b4;\" x=\"325.77768\" xlink:href=\"#m9d46be86fd\" y=\"114.208309\"/>\n     <use style=\"fill:#1f77b4;stroke:#1f77b4;\" x=\"342.555946\" xlink:href=\"#m9d46be86fd\" y=\"130.93871\"/>\n     <use style=\"fill:#1f77b4;stroke:#1f77b4;\" x=\"341.084168\" xlink:href=\"#m9d46be86fd\" y=\"131.104358\"/>\n     <use style=\"fill:#1f77b4;stroke:#1f77b4;\" x=\"331.959146\" xlink:href=\"#m9d46be86fd\" y=\"119.729893\"/>\n     <use style=\"fill:#1f77b4;stroke:#1f77b4;\" x=\"307.23328\" xlink:href=\"#m9d46be86fd\" y=\"90.852006\"/>\n     <use style=\"fill:#1f77b4;stroke:#1f77b4;\" x=\"336.96319\" xlink:href=\"#m9d46be86fd\" y=\"127.680975\"/>\n     <use style=\"fill:#1f77b4;stroke:#1f77b4;\" x=\"346.676924\" xlink:href=\"#m9d46be86fd\" y=\"138.227202\"/>\n     <use style=\"fill:#1f77b4;stroke:#1f77b4;\" x=\"379.056034\" xlink:href=\"#m9d46be86fd\" y=\"182.51031\"/>\n     <use style=\"fill:#1f77b4;stroke:#1f77b4;\" x=\"333.725279\" xlink:href=\"#m9d46be86fd\" y=\"120.502915\"/>\n     <use style=\"fill:#1f77b4;stroke:#1f77b4;\" x=\"333.725279\" xlink:href=\"#m9d46be86fd\" y=\"121.607232\"/>\n     <use style=\"fill:#1f77b4;stroke:#1f77b4;\" x=\"327.838168\" xlink:href=\"#m9d46be86fd\" y=\"113.766582\"/>\n     <use style=\"fill:#1f77b4;stroke:#1f77b4;\" x=\"346.676924\" xlink:href=\"#m9d46be86fd\" y=\"138.227202\"/>\n     <use style=\"fill:#1f77b4;stroke:#1f77b4;\" x=\"342.850301\" xlink:href=\"#m9d46be86fd\" y=\"133.589071\"/>\n     <use style=\"fill:#1f77b4;stroke:#1f77b4;\" x=\"302.229236\" xlink:href=\"#m9d46be86fd\" y=\"86.379523\"/>\n     <use style=\"fill:#1f77b4;stroke:#1f77b4;\" x=\"389.652833\" xlink:href=\"#m9d46be86fd\" y=\"172.019299\"/>\n     <use style=\"fill:#1f77b4;stroke:#1f77b4;\" x=\"374.051989\" xlink:href=\"#m9d46be86fd\" y=\"191.123982\"/>\n     <use style=\"fill:#1f77b4;stroke:#1f77b4;\" x=\"331.959146\" xlink:href=\"#m9d46be86fd\" y=\"121.662448\"/>\n     <use style=\"fill:#1f77b4;stroke:#1f77b4;\" x=\"298.991325\" xlink:href=\"#m9d46be86fd\" y=\"71.802539\"/>\n     <use style=\"fill:#1f77b4;stroke:#1f77b4;\" x=\"311.354258\" xlink:href=\"#m9d46be86fd\" y=\"96.428807\"/>\n     <use style=\"fill:#1f77b4;stroke:#1f77b4;\" x=\"382.882656\" xlink:href=\"#m9d46be86fd\" y=\"162.798253\"/>\n     <use style=\"fill:#1f77b4;stroke:#1f77b4;\" x=\"302.817947\" xlink:href=\"#m9d46be86fd\" y=\"84.612616\"/>\n     <use style=\"fill:#1f77b4;stroke:#1f77b4;\" x=\"325.77768\" xlink:href=\"#m9d46be86fd\" y=\"114.153093\"/>\n     <use style=\"fill:#1f77b4;stroke:#1f77b4;\" x=\"389.064122\" xlink:href=\"#m9d46be86fd\" y=\"166.773794\"/>\n     <use style=\"fill:#1f77b4;stroke:#1f77b4;\" x=\"339.906746\" xlink:href=\"#m9d46be86fd\" y=\"129.668746\"/>\n     <use style=\"fill:#1f77b4;stroke:#1f77b4;\" x=\"371.697145\" xlink:href=\"#m9d46be86fd\" y=\"207.523088\"/>\n     <use style=\"fill:#1f77b4;stroke:#1f77b4;\" x=\"334.313991\" xlink:href=\"#m9d46be86fd\" y=\"121.938527\"/>\n     <use style=\"fill:#1f77b4;stroke:#1f77b4;\" x=\"314.003458\" xlink:href=\"#m9d46be86fd\" y=\"99.355246\"/>\n     <use style=\"fill:#1f77b4;stroke:#1f77b4;\" x=\"354.918879\" xlink:href=\"#m9d46be86fd\" y=\"146.62001\"/>\n     <use style=\"fill:#1f77b4;stroke:#1f77b4;\" x=\"326.366391\" xlink:href=\"#m9d46be86fd\" y=\"115.367842\"/>\n     <use style=\"fill:#1f77b4;stroke:#1f77b4;\" x=\"389.064122\" xlink:href=\"#m9d46be86fd\" y=\"166.55293\"/>\n     <use style=\"fill:#1f77b4;stroke:#1f77b4;\" x=\"301.346169\" xlink:href=\"#m9d46be86fd\" y=\"87.649487\"/>\n     <use style=\"fill:#1f77b4;stroke:#1f77b4;\" x=\"374.051989\" xlink:href=\"#m9d46be86fd\" y=\"207.302224\"/>\n     <use style=\"fill:#1f77b4;stroke:#1f77b4;\" x=\"342.850301\" xlink:href=\"#m9d46be86fd\" y=\"133.589071\"/>\n     <use style=\"fill:#1f77b4;stroke:#1f77b4;\" x=\"341.967235\" xlink:href=\"#m9d46be86fd\" y=\"132.153459\"/>\n     <use style=\"fill:#1f77b4;stroke:#1f77b4;\" x=\"301.640525\" xlink:href=\"#m9d46be86fd\" y=\"87.042113\"/>\n     <use style=\"fill:#1f77b4;stroke:#1f77b4;\" x=\"316.358302\" xlink:href=\"#m9d46be86fd\" y=\"100.956506\"/>\n     <use style=\"fill:#1f77b4;stroke:#1f77b4;\" x=\"343.439012\" xlink:href=\"#m9d46be86fd\" y=\"134.086013\"/>\n     <use style=\"fill:#1f77b4;stroke:#1f77b4;\" x=\"331.664791\" xlink:href=\"#m9d46be86fd\" y=\"118.791224\"/>\n     <use style=\"fill:#1f77b4;stroke:#1f77b4;\" x=\"338.140613\" xlink:href=\"#m9d46be86fd\" y=\"126.963169\"/>\n     <use style=\"fill:#1f77b4;stroke:#1f77b4;\" x=\"374.346345\" xlink:href=\"#m9d46be86fd\" y=\"158.767496\"/>\n     <use style=\"fill:#1f77b4;stroke:#1f77b4;\" x=\"390.830256\" xlink:href=\"#m9d46be86fd\" y=\"173.289264\"/>\n     <use style=\"fill:#1f77b4;stroke:#1f77b4;\" x=\"333.136568\" xlink:href=\"#m9d46be86fd\" y=\"119.950757\"/>\n     <use style=\"fill:#1f77b4;stroke:#1f77b4;\" x=\"333.725279\" xlink:href=\"#m9d46be86fd\" y=\"121.607232\"/>\n     <use style=\"fill:#1f77b4;stroke:#1f77b4;\" x=\"339.023679\" xlink:href=\"#m9d46be86fd\" y=\"128.288349\"/>\n     <use style=\"fill:#1f77b4;stroke:#1f77b4;\" x=\"383.471367\" xlink:href=\"#m9d46be86fd\" y=\"161.970015\"/>\n     <use style=\"fill:#1f77b4;stroke:#1f77b4;\" x=\"334.313991\" xlink:href=\"#m9d46be86fd\" y=\"121.938527\"/>\n     <use style=\"fill:#1f77b4;stroke:#1f77b4;\" x=\"346.676924\" xlink:href=\"#m9d46be86fd\" y=\"138.282417\"/>\n     <use style=\"fill:#1f77b4;stroke:#1f77b4;\" x=\"374.935056\" xlink:href=\"#m9d46be86fd\" y=\"205.590533\"/>\n     <use style=\"fill:#1f77b4;stroke:#1f77b4;\" x=\"326.660746\" xlink:href=\"#m9d46be86fd\" y=\"114.539604\"/>\n     <use style=\"fill:#1f77b4;stroke:#1f77b4;\" x=\"296.930836\" xlink:href=\"#m9d46be86fd\" y=\"70.090848\"/>\n     <use style=\"fill:#1f77b4;stroke:#1f77b4;\" x=\"369.342301\" xlink:href=\"#m9d46be86fd\" y=\"155.288898\"/>\n     <use style=\"fill:#1f77b4;stroke:#1f77b4;\" x=\"331.370435\" xlink:href=\"#m9d46be86fd\" y=\"117.852555\"/>\n     <use style=\"fill:#1f77b4;stroke:#1f77b4;\" x=\"331.664791\" xlink:href=\"#m9d46be86fd\" y=\"116.361727\"/>\n     <use style=\"fill:#1f77b4;stroke:#1f77b4;\" x=\"318.418791\" xlink:href=\"#m9d46be86fd\" y=\"103.054708\"/>\n     <use style=\"fill:#1f77b4;stroke:#1f77b4;\" x=\"324.600257\" xlink:href=\"#m9d46be86fd\" y=\"111.337085\"/>\n     <use style=\"fill:#1f77b4;stroke:#1f77b4;\" x=\"370.814078\" xlink:href=\"#m9d46be86fd\" y=\"185.712829\"/>\n     <use style=\"fill:#1f77b4;stroke:#1f77b4;\" x=\"342.850301\" xlink:href=\"#m9d46be86fd\" y=\"131.325221\"/>\n     <use style=\"fill:#1f77b4;stroke:#1f77b4;\" x=\"375.523767\" xlink:href=\"#m9d46be86fd\" y=\"159.65095\"/>\n     <use style=\"fill:#1f77b4;stroke:#1f77b4;\" x=\"340.495457\" xlink:href=\"#m9d46be86fd\" y=\"128.564429\"/>\n     <use style=\"fill:#1f77b4;stroke:#1f77b4;\" x=\"343.439012\" xlink:href=\"#m9d46be86fd\" y=\"135.742489\"/>\n     <use style=\"fill:#1f77b4;stroke:#1f77b4;\" x=\"348.148701\" xlink:href=\"#m9d46be86fd\" y=\"141.04321\"/>\n     <use style=\"fill:#1f77b4;stroke:#1f77b4;\" x=\"345.499501\" xlink:href=\"#m9d46be86fd\" y=\"139.110655\"/>\n     <use style=\"fill:#1f77b4;stroke:#1f77b4;\" x=\"389.652833\" xlink:href=\"#m9d46be86fd\" y=\"172.626673\"/>\n     <use style=\"fill:#1f77b4;stroke:#1f77b4;\" x=\"341.967235\" xlink:href=\"#m9d46be86fd\" y=\"129.503098\"/>\n     <use style=\"fill:#1f77b4;stroke:#1f77b4;\" x=\"314.592169\" xlink:href=\"#m9d46be86fd\" y=\"99.852189\"/>\n     <use style=\"fill:#1f77b4;stroke:#1f77b4;\" x=\"348.443057\" xlink:href=\"#m9d46be86fd\" y=\"138.558497\"/>\n     <use style=\"fill:#1f77b4;stroke:#1f77b4;\" x=\"378.172967\" xlink:href=\"#m9d46be86fd\" y=\"203.823626\"/>\n     <use style=\"fill:#1f77b4;stroke:#1f77b4;\" x=\"301.640525\" xlink:href=\"#m9d46be86fd\" y=\"87.042113\"/>\n     <use style=\"fill:#1f77b4;stroke:#1f77b4;\" x=\"343.733368\" xlink:href=\"#m9d46be86fd\" y=\"132.26389\"/>\n     <use style=\"fill:#1f77b4;stroke:#1f77b4;\" x=\"340.495457\" xlink:href=\"#m9d46be86fd\" y=\"128.564429\"/>\n     <use style=\"fill:#1f77b4;stroke:#1f77b4;\" x=\"338.729324\" xlink:href=\"#m9d46be86fd\" y=\"129.779177\"/>\n     <use style=\"fill:#1f77b4;stroke:#1f77b4;\" x=\"373.757634\" xlink:href=\"#m9d46be86fd\" y=\"193.00132\"/>\n     <use style=\"fill:#1f77b4;stroke:#1f77b4;\" x=\"342.850301\" xlink:href=\"#m9d46be86fd\" y=\"131.325221\"/>\n     <use style=\"fill:#1f77b4;stroke:#1f77b4;\" x=\"375.229412\" xlink:href=\"#m9d46be86fd\" y=\"193.111752\"/>\n     <use style=\"fill:#1f77b4;stroke:#1f77b4;\" x=\"375.523767\" xlink:href=\"#m9d46be86fd\" y=\"204.70708\"/>\n     <use style=\"fill:#1f77b4;stroke:#1f77b4;\" x=\"376.995545\" xlink:href=\"#m9d46be86fd\" y=\"198.19161\"/>\n     <use style=\"fill:#1f77b4;stroke:#1f77b4;\" x=\"333.725279\" xlink:href=\"#m9d46be86fd\" y=\"121.662448\"/>\n     <use style=\"fill:#1f77b4;stroke:#1f77b4;\" x=\"367.281812\" xlink:href=\"#m9d46be86fd\" y=\"210.228664\"/>\n     <use style=\"fill:#1f77b4;stroke:#1f77b4;\" x=\"330.193013\" xlink:href=\"#m9d46be86fd\" y=\"118.956872\"/>\n     <use style=\"fill:#1f77b4;stroke:#1f77b4;\" x=\"389.358478\" xlink:href=\"#m9d46be86fd\" y=\"170.41804\"/>\n     <use style=\"fill:#1f77b4;stroke:#1f77b4;\" x=\"374.935056\" xlink:href=\"#m9d46be86fd\" y=\"184.884591\"/>\n     <use style=\"fill:#1f77b4;stroke:#1f77b4;\" x=\"374.051989\" xlink:href=\"#m9d46be86fd\" y=\"207.302224\"/>\n     <use style=\"fill:#1f77b4;stroke:#1f77b4;\" x=\"342.850301\" xlink:href=\"#m9d46be86fd\" y=\"134.693388\"/>\n     <use style=\"fill:#1f77b4;stroke:#1f77b4;\" x=\"356.979368\" xlink:href=\"#m9d46be86fd\" y=\"148.828644\"/>\n     <use style=\"fill:#1f77b4;stroke:#1f77b4;\" x=\"370.814078\" xlink:href=\"#m9d46be86fd\" y=\"186.927577\"/>\n     <use style=\"fill:#1f77b4;stroke:#1f77b4;\" x=\"331.959146\" xlink:href=\"#m9d46be86fd\" y=\"119.785109\"/>\n     <use style=\"fill:#1f77b4;stroke:#1f77b4;\" x=\"301.346169\" xlink:href=\"#m9d46be86fd\" y=\"87.649487\"/>\n     <use style=\"fill:#1f77b4;stroke:#1f77b4;\" x=\"318.418791\" xlink:href=\"#m9d46be86fd\" y=\"104.49032\"/>\n     <use style=\"fill:#1f77b4;stroke:#1f77b4;\" x=\"329.898657\" xlink:href=\"#m9d46be86fd\" y=\"119.343382\"/>\n     <use style=\"fill:#1f77b4;stroke:#1f77b4;\" x=\"380.233456\" xlink:href=\"#m9d46be86fd\" y=\"161.528288\"/>\n     <use style=\"fill:#1f77b4;stroke:#1f77b4;\" x=\"320.184924\" xlink:href=\"#m9d46be86fd\" y=\"106.312443\"/>\n     <use style=\"fill:#1f77b4;stroke:#1f77b4;\" x=\"333.430924\" xlink:href=\"#m9d46be86fd\" y=\"121.220721\"/>\n     <use style=\"fill:#1f77b4;stroke:#1f77b4;\" x=\"333.725279\" xlink:href=\"#m9d46be86fd\" y=\"121.4968\"/>\n     <use style=\"fill:#1f77b4;stroke:#1f77b4;\" x=\"304.878436\" xlink:href=\"#m9d46be86fd\" y=\"82.127902\"/>\n     <use style=\"fill:#1f77b4;stroke:#1f77b4;\" x=\"381.116523\" xlink:href=\"#m9d46be86fd\" y=\"161.970015\"/>\n     <use style=\"fill:#1f77b4;stroke:#1f77b4;\" x=\"341.084168\" xlink:href=\"#m9d46be86fd\" y=\"132.650401\"/>\n     <use style=\"fill:#1f77b4;stroke:#1f77b4;\" x=\"343.733368\" xlink:href=\"#m9d46be86fd\" y=\"132.319106\"/>\n     <use style=\"fill:#1f77b4;stroke:#1f77b4;\" x=\"341.084168\" xlink:href=\"#m9d46be86fd\" y=\"130.993926\"/>\n     <use style=\"fill:#1f77b4;stroke:#1f77b4;\" x=\"293.98728\" xlink:href=\"#m9d46be86fd\" y=\"72.520345\"/>\n     <use style=\"fill:#1f77b4;stroke:#1f77b4;\" x=\"345.499501\" xlink:href=\"#m9d46be86fd\" y=\"138.834576\"/>\n     <use style=\"fill:#1f77b4;stroke:#1f77b4;\" x=\"349.620479\" xlink:href=\"#m9d46be86fd\" y=\"139.44195\"/>\n     <use style=\"fill:#1f77b4;stroke:#1f77b4;\" x=\"374.935056\" xlink:href=\"#m9d46be86fd\" y=\"192.890889\"/>\n     <use style=\"fill:#1f77b4;stroke:#1f77b4;\" x=\"339.318035\" xlink:href=\"#m9d46be86fd\" y=\"130.607415\"/>\n     <use style=\"fill:#1f77b4;stroke:#1f77b4;\" x=\"346.088212\" xlink:href=\"#m9d46be86fd\" y=\"136.570726\"/>\n     <use style=\"fill:#1f77b4;stroke:#1f77b4;\" x=\"388.475411\" xlink:href=\"#m9d46be86fd\" y=\"165.503829\"/>\n     <use style=\"fill:#1f77b4;stroke:#1f77b4;\" x=\"381.116523\" xlink:href=\"#m9d46be86fd\" y=\"161.970015\"/>\n     <use style=\"fill:#1f77b4;stroke:#1f77b4;\" x=\"389.652833\" xlink:href=\"#m9d46be86fd\" y=\"173.0684\"/>\n     <use style=\"fill:#1f77b4;stroke:#1f77b4;\" x=\"369.636656\" xlink:href=\"#m9d46be86fd\" y=\"208.848268\"/>\n     <use style=\"fill:#1f77b4;stroke:#1f77b4;\" x=\"334.019635\" xlink:href=\"#m9d46be86fd\" y=\"121.938527\"/>\n     <use style=\"fill:#1f77b4;stroke:#1f77b4;\" x=\"371.108434\" xlink:href=\"#m9d46be86fd\" y=\"157.331884\"/>\n     <use style=\"fill:#1f77b4;stroke:#1f77b4;\" x=\"343.439012\" xlink:href=\"#m9d46be86fd\" y=\"135.742489\"/>\n     <use style=\"fill:#1f77b4;stroke:#1f77b4;\" x=\"381.116523\" xlink:href=\"#m9d46be86fd\" y=\"161.970015\"/>\n     <use style=\"fill:#1f77b4;stroke:#1f77b4;\" x=\"369.342301\" xlink:href=\"#m9d46be86fd\" y=\"187.479736\"/>\n     <use style=\"fill:#1f77b4;stroke:#1f77b4;\" x=\"374.051989\" xlink:href=\"#m9d46be86fd\" y=\"191.123982\"/>\n     <use style=\"fill:#1f77b4;stroke:#1f77b4;\" x=\"353.741457\" xlink:href=\"#m9d46be86fd\" y=\"144.853103\"/>\n     <use style=\"fill:#1f77b4;stroke:#1f77b4;\" x=\"372.874567\" xlink:href=\"#m9d46be86fd\" y=\"192.117867\"/>\n     <use style=\"fill:#1f77b4;stroke:#1f77b4;\" x=\"333.725279\" xlink:href=\"#m9d46be86fd\" y=\"121.4968\"/>\n     <use style=\"fill:#1f77b4;stroke:#1f77b4;\" x=\"336.96319\" xlink:href=\"#m9d46be86fd\" y=\"127.680975\"/>\n     <use style=\"fill:#1f77b4;stroke:#1f77b4;\" x=\"346.382568\" xlink:href=\"#m9d46be86fd\" y=\"138.392849\"/>\n     <use style=\"fill:#1f77b4;stroke:#1f77b4;\" x=\"338.140613\" xlink:href=\"#m9d46be86fd\" y=\"125.251478\"/>\n     <use style=\"fill:#1f77b4;stroke:#1f77b4;\" x=\"332.253502\" xlink:href=\"#m9d46be86fd\" y=\"119.840325\"/>\n     <use style=\"fill:#1f77b4;stroke:#1f77b4;\" x=\"343.439012\" xlink:href=\"#m9d46be86fd\" y=\"134.086013\"/>\n     <use style=\"fill:#1f77b4;stroke:#1f77b4;\" x=\"389.652833\" xlink:href=\"#m9d46be86fd\" y=\"173.675775\"/>\n     <use style=\"fill:#1f77b4;stroke:#1f77b4;\" x=\"324.600257\" xlink:href=\"#m9d46be86fd\" y=\"111.281869\"/>\n     <use style=\"fill:#1f77b4;stroke:#1f77b4;\" x=\"296.342125\" xlink:href=\"#m9d46be86fd\" y=\"71.857755\"/>\n     <use style=\"fill:#1f77b4;stroke:#1f77b4;\" x=\"350.20919\" xlink:href=\"#m9d46be86fd\" y=\"142.147527\"/>\n     <use style=\"fill:#1f77b4;stroke:#1f77b4;\" x=\"343.144657\" xlink:href=\"#m9d46be86fd\" y=\"133.478639\"/>\n     <use style=\"fill:#1f77b4;stroke:#1f77b4;\" x=\"338.434968\" xlink:href=\"#m9d46be86fd\" y=\"127.460112\"/>\n     <use style=\"fill:#1f77b4;stroke:#1f77b4;\" x=\"366.10439\" xlink:href=\"#m9d46be86fd\" y=\"211.277765\"/>\n     <use style=\"fill:#1f77b4;stroke:#1f77b4;\" x=\"354.624523\" xlink:href=\"#m9d46be86fd\" y=\"146.123068\"/>\n     <use style=\"fill:#1f77b4;stroke:#1f77b4;\" x=\"341.967235\" xlink:href=\"#m9d46be86fd\" y=\"132.153459\"/>\n     <use style=\"fill:#1f77b4;stroke:#1f77b4;\" x=\"372.580212\" xlink:href=\"#m9d46be86fd\" y=\"207.799167\"/>\n     <use style=\"fill:#1f77b4;stroke:#1f77b4;\" x=\"338.140613\" xlink:href=\"#m9d46be86fd\" y=\"126.963169\"/>\n     <use style=\"fill:#1f77b4;stroke:#1f77b4;\" x=\"357.273723\" xlink:href=\"#m9d46be86fd\" y=\"149.325587\"/>\n     <use style=\"fill:#1f77b4;stroke:#1f77b4;\" x=\"333.725279\" xlink:href=\"#m9d46be86fd\" y=\"121.662448\"/>\n     <use style=\"fill:#1f77b4;stroke:#1f77b4;\" x=\"356.096301\" xlink:href=\"#m9d46be86fd\" y=\"214.756364\"/>\n     <use style=\"fill:#1f77b4;stroke:#1f77b4;\" x=\"333.725279\" xlink:href=\"#m9d46be86fd\" y=\"121.4968\"/>\n     <use style=\"fill:#1f77b4;stroke:#1f77b4;\" x=\"372.580212\" xlink:href=\"#m9d46be86fd\" y=\"158.270554\"/>\n     <use style=\"fill:#1f77b4;stroke:#1f77b4;\" x=\"333.725279\" xlink:href=\"#m9d46be86fd\" y=\"121.4968\"/>\n     <use style=\"fill:#1f77b4;stroke:#1f77b4;\" x=\"86.466619\" xlink:href=\"#m9d46be86fd\" y=\"17.083636\"/>\n     <use style=\"fill:#1f77b4;stroke:#1f77b4;\" x=\"384.943145\" xlink:href=\"#m9d46be86fd\" y=\"179.418222\"/>\n     <use style=\"fill:#1f77b4;stroke:#1f77b4;\" x=\"338.140613\" xlink:href=\"#m9d46be86fd\" y=\"127.239248\"/>\n     <use style=\"fill:#1f77b4;stroke:#1f77b4;\" x=\"389.652833\" xlink:href=\"#m9d46be86fd\" y=\"172.571458\"/>\n     <use style=\"fill:#1f77b4;stroke:#1f77b4;\" x=\"344.91079\" xlink:href=\"#m9d46be86fd\" y=\"134.251661\"/>\n     <use style=\"fill:#1f77b4;stroke:#1f77b4;\" x=\"389.652833\" xlink:href=\"#m9d46be86fd\" y=\"173.289264\"/>\n     <use style=\"fill:#1f77b4;stroke:#1f77b4;\" x=\"334.019635\" xlink:href=\"#m9d46be86fd\" y=\"121.938527\"/>\n     <use style=\"fill:#1f77b4;stroke:#1f77b4;\" x=\"331.959146\" xlink:href=\"#m9d46be86fd\" y=\"121.662448\"/>\n     <use style=\"fill:#1f77b4;stroke:#1f77b4;\" x=\"362.866479\" xlink:href=\"#m9d46be86fd\" y=\"211.88514\"/>\n     <use style=\"fill:#1f77b4;stroke:#1f77b4;\" x=\"333.725279\" xlink:href=\"#m9d46be86fd\" y=\"121.662448\"/>\n     <use style=\"fill:#1f77b4;stroke:#1f77b4;\" x=\"376.112478\" xlink:href=\"#m9d46be86fd\" y=\"198.246826\"/>\n     <use style=\"fill:#1f77b4;stroke:#1f77b4;\" x=\"389.652833\" xlink:href=\"#m9d46be86fd\" y=\"173.0684\"/>\n     <use style=\"fill:#1f77b4;stroke:#1f77b4;\" x=\"365.515679\" xlink:href=\"#m9d46be86fd\" y=\"154.074149\"/>\n     <use style=\"fill:#1f77b4;stroke:#1f77b4;\" x=\"346.088212\" xlink:href=\"#m9d46be86fd\" y=\"138.006338\"/>\n     <use style=\"fill:#1f77b4;stroke:#1f77b4;\" x=\"373.463278\" xlink:href=\"#m9d46be86fd\" y=\"189.964449\"/>\n     <use style=\"fill:#1f77b4;stroke:#1f77b4;\" x=\"343.439012\" xlink:href=\"#m9d46be86fd\" y=\"134.086013\"/>\n     <use style=\"fill:#1f77b4;stroke:#1f77b4;\" x=\"357.862434\" xlink:href=\"#m9d46be86fd\" y=\"213.541615\"/>\n     <use style=\"fill:#1f77b4;stroke:#1f77b4;\" x=\"390.5359\" xlink:href=\"#m9d46be86fd\" y=\"170.638903\"/>\n     <use style=\"fill:#1f77b4;stroke:#1f77b4;\" x=\"343.733368\" xlink:href=\"#m9d46be86fd\" y=\"137.288532\"/>\n     <use style=\"fill:#1f77b4;stroke:#1f77b4;\" x=\"340.495457\" xlink:href=\"#m9d46be86fd\" y=\"128.564429\"/>\n     <use style=\"fill:#1f77b4;stroke:#1f77b4;\" x=\"372.874567\" xlink:href=\"#m9d46be86fd\" y=\"186.706714\"/>\n     <use style=\"fill:#1f77b4;stroke:#1f77b4;\" x=\"374.935056\" xlink:href=\"#m9d46be86fd\" y=\"192.890889\"/>\n     <use style=\"fill:#1f77b4;stroke:#1f77b4;\" x=\"339.906746\" xlink:href=\"#m9d46be86fd\" y=\"122.601117\"/>\n     <use style=\"fill:#1f77b4;stroke:#1f77b4;\" x=\"375.523767\" xlink:href=\"#m9d46be86fd\" y=\"194.547364\"/>\n     <use style=\"fill:#1f77b4;stroke:#1f77b4;\" x=\"351.386612\" xlink:href=\"#m9d46be86fd\" y=\"142.36839\"/>\n     <use style=\"fill:#1f77b4;stroke:#1f77b4;\" x=\"344.91079\" xlink:href=\"#m9d46be86fd\" y=\"134.251661\"/>\n     <use style=\"fill:#1f77b4;stroke:#1f77b4;\" x=\"337.846257\" xlink:href=\"#m9d46be86fd\" y=\"126.355795\"/>\n     <use style=\"fill:#1f77b4;stroke:#1f77b4;\" x=\"340.789813\" xlink:href=\"#m9d46be86fd\" y=\"130.717847\"/>\n     <use style=\"fill:#1f77b4;stroke:#1f77b4;\" x=\"322.539769\" xlink:href=\"#m9d46be86fd\" y=\"110.287984\"/>\n     <use style=\"fill:#1f77b4;stroke:#1f77b4;\" x=\"388.769767\" xlink:href=\"#m9d46be86fd\" y=\"175.663545\"/>\n     <use style=\"fill:#1f77b4;stroke:#1f77b4;\" x=\"376.701189\" xlink:href=\"#m9d46be86fd\" y=\"196.369487\"/>\n     <use style=\"fill:#1f77b4;stroke:#1f77b4;\" x=\"373.757634\" xlink:href=\"#m9d46be86fd\" y=\"205.700965\"/>\n     <use style=\"fill:#1f77b4;stroke:#1f77b4;\" x=\"376.701189\" xlink:href=\"#m9d46be86fd\" y=\"196.811214\"/>\n     <use style=\"fill:#1f77b4;stroke:#1f77b4;\" x=\"374.346345\" xlink:href=\"#m9d46be86fd\" y=\"205.977044\"/>\n     <use style=\"fill:#1f77b4;stroke:#1f77b4;\" x=\"348.443057\" xlink:href=\"#m9d46be86fd\" y=\"138.558497\"/>\n     <use style=\"fill:#1f77b4;stroke:#1f77b4;\" x=\"374.346345\" xlink:href=\"#m9d46be86fd\" y=\"191.068766\"/>\n     <use style=\"fill:#1f77b4;stroke:#1f77b4;\" x=\"334.313991\" xlink:href=\"#m9d46be86fd\" y=\"121.938527\"/>\n     <use style=\"fill:#1f77b4;stroke:#1f77b4;\" x=\"388.475411\" xlink:href=\"#m9d46be86fd\" y=\"165.614261\"/>\n     <use style=\"fill:#1f77b4;stroke:#1f77b4;\" x=\"331.959146\" xlink:href=\"#m9d46be86fd\" y=\"121.662448\"/>\n     <use style=\"fill:#1f77b4;stroke:#1f77b4;\" x=\"307.23328\" xlink:href=\"#m9d46be86fd\" y=\"91.128085\"/>\n     <use style=\"fill:#1f77b4;stroke:#1f77b4;\" x=\"340.495457\" xlink:href=\"#m9d46be86fd\" y=\"128.564429\"/>\n     <use style=\"fill:#1f77b4;stroke:#1f77b4;\" x=\"342.850301\" xlink:href=\"#m9d46be86fd\" y=\"133.589071\"/>\n     <use style=\"fill:#1f77b4;stroke:#1f77b4;\" x=\"378.761678\" xlink:href=\"#m9d46be86fd\" y=\"182.123799\"/>\n     <use style=\"fill:#1f77b4;stroke:#1f77b4;\" x=\"384.354434\" xlink:href=\"#m9d46be86fd\" y=\"180.522539\"/>\n     <use style=\"fill:#1f77b4;stroke:#1f77b4;\" x=\"367.576167\" xlink:href=\"#m9d46be86fd\" y=\"155.344114\"/>\n     <use style=\"fill:#1f77b4;stroke:#1f77b4;\" x=\"303.112302\" xlink:href=\"#m9d46be86fd\" y=\"84.336536\"/>\n     <use style=\"fill:#1f77b4;stroke:#1f77b4;\" x=\"370.814078\" xlink:href=\"#m9d46be86fd\" y=\"186.927577\"/>\n     <use style=\"fill:#1f77b4;stroke:#1f77b4;\" x=\"315.18088\" xlink:href=\"#m9d46be86fd\" y=\"99.465678\"/>\n     <use style=\"fill:#1f77b4;stroke:#1f77b4;\" x=\"340.495457\" xlink:href=\"#m9d46be86fd\" y=\"130.331336\"/>\n     <use style=\"fill:#1f77b4;stroke:#1f77b4;\" x=\"374.346345\" xlink:href=\"#m9d46be86fd\" y=\"185.547181\"/>\n     <use style=\"fill:#1f77b4;stroke:#1f77b4;\" x=\"309.588125\" xlink:href=\"#m9d46be86fd\" y=\"93.281503\"/>\n     <use style=\"fill:#1f77b4;stroke:#1f77b4;\" x=\"338.729324\" xlink:href=\"#m9d46be86fd\" y=\"129.447882\"/>\n     <use style=\"fill:#1f77b4;stroke:#1f77b4;\" x=\"348.148701\" xlink:href=\"#m9d46be86fd\" y=\"141.04321\"/>\n     <use style=\"fill:#1f77b4;stroke:#1f77b4;\" x=\"340.495457\" xlink:href=\"#m9d46be86fd\" y=\"128.564429\"/>\n     <use style=\"fill:#1f77b4;stroke:#1f77b4;\" x=\"373.463278\" xlink:href=\"#m9d46be86fd\" y=\"190.958334\"/>\n     <use style=\"fill:#1f77b4;stroke:#1f77b4;\" x=\"372.580212\" xlink:href=\"#m9d46be86fd\" y=\"189.02578\"/>\n     <use style=\"fill:#1f77b4;stroke:#1f77b4;\" x=\"343.733368\" xlink:href=\"#m9d46be86fd\" y=\"132.26389\"/>\n     <use style=\"fill:#1f77b4;stroke:#1f77b4;\" x=\"356.685012\" xlink:href=\"#m9d46be86fd\" y=\"145.736557\"/>\n     <use style=\"fill:#1f77b4;stroke:#1f77b4;\" x=\"377.584256\" xlink:href=\"#m9d46be86fd\" y=\"201.062834\"/>\n     <use style=\"fill:#1f77b4;stroke:#1f77b4;\" x=\"341.378524\" xlink:href=\"#m9d46be86fd\" y=\"131.546084\"/>\n     <use style=\"fill:#1f77b4;stroke:#1f77b4;\" x=\"318.418791\" xlink:href=\"#m9d46be86fd\" y=\"103.054708\"/>\n     <use style=\"fill:#1f77b4;stroke:#1f77b4;\" x=\"322.539769\" xlink:href=\"#m9d46be86fd\" y=\"110.287984\"/>\n     <use style=\"fill:#1f77b4;stroke:#1f77b4;\" x=\"335.785768\" xlink:href=\"#m9d46be86fd\" y=\"124.036729\"/>\n     <use style=\"fill:#1f77b4;stroke:#1f77b4;\" x=\"334.902702\" xlink:href=\"#m9d46be86fd\" y=\"121.552016\"/>\n     <use style=\"fill:#1f77b4;stroke:#1f77b4;\" x=\"294.281636\" xlink:href=\"#m9d46be86fd\" y=\"76.992829\"/>\n     <use style=\"fill:#1f77b4;stroke:#1f77b4;\" x=\"333.725279\" xlink:href=\"#m9d46be86fd\" y=\"121.662448\"/>\n     <use style=\"fill:#1f77b4;stroke:#1f77b4;\" x=\"370.814078\" xlink:href=\"#m9d46be86fd\" y=\"186.927577\"/>\n     <use style=\"fill:#1f77b4;stroke:#1f77b4;\" x=\"302.229236\" xlink:href=\"#m9d46be86fd\" y=\"87.925566\"/>\n     <use style=\"fill:#1f77b4;stroke:#1f77b4;\" x=\"356.096301\" xlink:href=\"#m9d46be86fd\" y=\"147.779543\"/>\n     <use style=\"fill:#1f77b4;stroke:#1f77b4;\" x=\"341.084168\" xlink:href=\"#m9d46be86fd\" y=\"130.993926\"/>\n     <use style=\"fill:#1f77b4;stroke:#1f77b4;\" x=\"374.051989\" xlink:href=\"#m9d46be86fd\" y=\"191.123982\"/>\n     <use style=\"fill:#1f77b4;stroke:#1f77b4;\" x=\"325.483324\" xlink:href=\"#m9d46be86fd\" y=\"112.386186\"/>\n     <use style=\"fill:#1f77b4;stroke:#1f77b4;\" x=\"346.382568\" xlink:href=\"#m9d46be86fd\" y=\"138.392849\"/>\n     <use style=\"fill:#1f77b4;stroke:#1f77b4;\" x=\"341.967235\" xlink:href=\"#m9d46be86fd\" y=\"132.153459\"/>\n     <use style=\"fill:#1f77b4;stroke:#1f77b4;\" x=\"332.842213\" xlink:href=\"#m9d46be86fd\" y=\"120.83421\"/>\n     <use style=\"fill:#1f77b4;stroke:#1f77b4;\" x=\"333.430924\" xlink:href=\"#m9d46be86fd\" y=\"121.220721\"/>\n     <use style=\"fill:#1f77b4;stroke:#1f77b4;\" x=\"373.463278\" xlink:href=\"#m9d46be86fd\" y=\"189.964449\"/>\n     <use style=\"fill:#1f77b4;stroke:#1f77b4;\" x=\"338.434968\" xlink:href=\"#m9d46be86fd\" y=\"127.460112\"/>\n     <use style=\"fill:#1f77b4;stroke:#1f77b4;\" x=\"359.334212\" xlink:href=\"#m9d46be86fd\" y=\"149.270371\"/>\n     <use style=\"fill:#1f77b4;stroke:#1f77b4;\" x=\"339.61239\" xlink:href=\"#m9d46be86fd\" y=\"130.93871\"/>\n     <use style=\"fill:#1f77b4;stroke:#1f77b4;\" x=\"331.959146\" xlink:href=\"#m9d46be86fd\" y=\"121.662448\"/>\n     <use style=\"fill:#1f77b4;stroke:#1f77b4;\" x=\"293.692925\" xlink:href=\"#m9d46be86fd\" y=\"73.017288\"/>\n     <use style=\"fill:#1f77b4;stroke:#1f77b4;\" x=\"333.430924\" xlink:href=\"#m9d46be86fd\" y=\"121.386369\"/>\n     <use style=\"fill:#1f77b4;stroke:#1f77b4;\" x=\"345.205146\" xlink:href=\"#m9d46be86fd\" y=\"136.736374\"/>\n     <use style=\"fill:#1f77b4;stroke:#1f77b4;\" x=\"382.882656\" xlink:href=\"#m9d46be86fd\" y=\"162.798253\"/>\n     <use style=\"fill:#1f77b4;stroke:#1f77b4;\" x=\"386.709278\" xlink:href=\"#m9d46be86fd\" y=\"175.33225\"/>\n     <use style=\"fill:#1f77b4;stroke:#1f77b4;\" x=\"321.362346\" xlink:href=\"#m9d46be86fd\" y=\"105.8155\"/>\n     <use style=\"fill:#1f77b4;stroke:#1f77b4;\" x=\"340.495457\" xlink:href=\"#m9d46be86fd\" y=\"128.564429\"/>\n     <use style=\"fill:#1f77b4;stroke:#1f77b4;\" x=\"355.50759\" xlink:href=\"#m9d46be86fd\" y=\"147.116953\"/>\n     <use style=\"fill:#1f77b4;stroke:#1f77b4;\" x=\"344.91079\" xlink:href=\"#m9d46be86fd\" y=\"134.251661\"/>\n     <use style=\"fill:#1f77b4;stroke:#1f77b4;\" x=\"354.330168\" xlink:href=\"#m9d46be86fd\" y=\"143.914434\"/>\n     <use style=\"fill:#1f77b4;stroke:#1f77b4;\" x=\"343.144657\" xlink:href=\"#m9d46be86fd\" y=\"133.478639\"/>\n     <use style=\"fill:#1f77b4;stroke:#1f77b4;\" x=\"311.942969\" xlink:href=\"#m9d46be86fd\" y=\"97.146612\"/>\n     <use style=\"fill:#1f77b4;stroke:#1f77b4;\" x=\"310.765547\" xlink:href=\"#m9d46be86fd\" y=\"95.545353\"/>\n     <use style=\"fill:#1f77b4;stroke:#1f77b4;\" x=\"336.96319\" xlink:href=\"#m9d46be86fd\" y=\"125.196262\"/>\n     <use style=\"fill:#1f77b4;stroke:#1f77b4;\" x=\"371.40279\" xlink:href=\"#m9d46be86fd\" y=\"190.130096\"/>\n     <use style=\"fill:#1f77b4;stroke:#1f77b4;\" x=\"301.346169\" xlink:href=\"#m9d46be86fd\" y=\"88.80902\"/>\n     <use style=\"fill:#1f77b4;stroke:#1f77b4;\" x=\"325.188969\" xlink:href=\"#m9d46be86fd\" y=\"113.048776\"/>\n     <use style=\"fill:#1f77b4;stroke:#1f77b4;\" x=\"343.733368\" xlink:href=\"#m9d46be86fd\" y=\"137.012453\"/>\n     <use style=\"fill:#1f77b4;stroke:#1f77b4;\" x=\"340.495457\" xlink:href=\"#m9d46be86fd\" y=\"128.564429\"/>\n     <use style=\"fill:#1f77b4;stroke:#1f77b4;\" x=\"333.725279\" xlink:href=\"#m9d46be86fd\" y=\"121.607232\"/>\n     <use style=\"fill:#1f77b4;stroke:#1f77b4;\" x=\"385.531856\" xlink:href=\"#m9d46be86fd\" y=\"179.197359\"/>\n     <use style=\"fill:#1f77b4;stroke:#1f77b4;\" x=\"343.439012\" xlink:href=\"#m9d46be86fd\" y=\"134.086013\"/>\n     <use style=\"fill:#1f77b4;stroke:#1f77b4;\" x=\"344.322079\" xlink:href=\"#m9d46be86fd\" y=\"135.466409\"/>\n     <use style=\"fill:#1f77b4;stroke:#1f77b4;\" x=\"340.495457\" xlink:href=\"#m9d46be86fd\" y=\"128.564429\"/>\n     <use style=\"fill:#1f77b4;stroke:#1f77b4;\" x=\"343.144657\" xlink:href=\"#m9d46be86fd\" y=\"133.478639\"/>\n     <use style=\"fill:#1f77b4;stroke:#1f77b4;\" x=\"357.862434\" xlink:href=\"#m9d46be86fd\" y=\"147.393032\"/>\n     <use style=\"fill:#1f77b4;stroke:#1f77b4;\" x=\"331.076079\" xlink:href=\"#m9d46be86fd\" y=\"118.515145\"/>\n     <use style=\"fill:#1f77b4;stroke:#1f77b4;\" x=\"353.447101\" xlink:href=\"#m9d46be86fd\" y=\"144.521808\"/>\n     <use style=\"fill:#1f77b4;stroke:#1f77b4;\" x=\"343.439012\" xlink:href=\"#m9d46be86fd\" y=\"131.822164\"/>\n     <use style=\"fill:#1f77b4;stroke:#1f77b4;\" x=\"345.499501\" xlink:href=\"#m9d46be86fd\" y=\"136.957237\"/>\n     <use style=\"fill:#1f77b4;stroke:#1f77b4;\" x=\"354.330168\" xlink:href=\"#m9d46be86fd\" y=\"144.853103\"/>\n     <use style=\"fill:#1f77b4;stroke:#1f77b4;\" x=\"372.580212\" xlink:href=\"#m9d46be86fd\" y=\"189.02578\"/>\n     <use style=\"fill:#1f77b4;stroke:#1f77b4;\" x=\"346.382568\" xlink:href=\"#m9d46be86fd\" y=\"138.392849\"/>\n     <use style=\"fill:#1f77b4;stroke:#1f77b4;\" x=\"355.50759\" xlink:href=\"#m9d46be86fd\" y=\"147.393032\"/>\n     <use style=\"fill:#1f77b4;stroke:#1f77b4;\" x=\"345.793857\" xlink:href=\"#m9d46be86fd\" y=\"139.276303\"/>\n    </g>\n   </g>\n   <g id=\"matplotlib.axis_1\">\n    <g id=\"xtick_1\">\n     <g id=\"line2d_1\">\n      <defs>\n       <path d=\"M 0 0 \nL 0 3.5 \n\" id=\"md911d8aeaa\" style=\"stroke:#000000;stroke-width:0.8;\"/>\n      </defs>\n      <g>\n       <use style=\"stroke:#000000;stroke-width:0.8;\" x=\"116.785241\" xlink:href=\"#md911d8aeaa\" y=\"224.64\"/>\n      </g>\n     </g>\n     <g id=\"text_1\">\n      <!-- 34.08 -->\n      <g transform=\"translate(102.471178 239.238438)scale(0.1 -0.1)\">\n       <defs>\n        <path d=\"M 2597 2516 \nQ 3050 2419 3304 2112 \nQ 3559 1806 3559 1356 \nQ 3559 666 3084 287 \nQ 2609 -91 1734 -91 \nQ 1441 -91 1130 -33 \nQ 819 25 488 141 \nL 488 750 \nQ 750 597 1062 519 \nQ 1375 441 1716 441 \nQ 2309 441 2620 675 \nQ 2931 909 2931 1356 \nQ 2931 1769 2642 2001 \nQ 2353 2234 1838 2234 \nL 1294 2234 \nL 1294 2753 \nL 1863 2753 \nQ 2328 2753 2575 2939 \nQ 2822 3125 2822 3475 \nQ 2822 3834 2567 4026 \nQ 2313 4219 1838 4219 \nQ 1578 4219 1281 4162 \nQ 984 4106 628 3988 \nL 628 4550 \nQ 988 4650 1302 4700 \nQ 1616 4750 1894 4750 \nQ 2613 4750 3031 4423 \nQ 3450 4097 3450 3541 \nQ 3450 3153 3228 2886 \nQ 3006 2619 2597 2516 \nz\n\" id=\"DejaVuSans-33\" transform=\"scale(0.015625)\"/>\n        <path d=\"M 2419 4116 \nL 825 1625 \nL 2419 1625 \nL 2419 4116 \nz\nM 2253 4666 \nL 3047 4666 \nL 3047 1625 \nL 3713 1625 \nL 3713 1100 \nL 3047 1100 \nL 3047 0 \nL 2419 0 \nL 2419 1100 \nL 313 1100 \nL 313 1709 \nL 2253 4666 \nz\n\" id=\"DejaVuSans-34\" transform=\"scale(0.015625)\"/>\n        <path d=\"M 684 794 \nL 1344 794 \nL 1344 0 \nL 684 0 \nL 684 794 \nz\n\" id=\"DejaVuSans-2e\" transform=\"scale(0.015625)\"/>\n        <path d=\"M 2034 4250 \nQ 1547 4250 1301 3770 \nQ 1056 3291 1056 2328 \nQ 1056 1369 1301 889 \nQ 1547 409 2034 409 \nQ 2525 409 2770 889 \nQ 3016 1369 3016 2328 \nQ 3016 3291 2770 3770 \nQ 2525 4250 2034 4250 \nz\nM 2034 4750 \nQ 2819 4750 3233 4129 \nQ 3647 3509 3647 2328 \nQ 3647 1150 3233 529 \nQ 2819 -91 2034 -91 \nQ 1250 -91 836 529 \nQ 422 1150 422 2328 \nQ 422 3509 836 4129 \nQ 1250 4750 2034 4750 \nz\n\" id=\"DejaVuSans-30\" transform=\"scale(0.015625)\"/>\n        <path d=\"M 2034 2216 \nQ 1584 2216 1326 1975 \nQ 1069 1734 1069 1313 \nQ 1069 891 1326 650 \nQ 1584 409 2034 409 \nQ 2484 409 2743 651 \nQ 3003 894 3003 1313 \nQ 3003 1734 2745 1975 \nQ 2488 2216 2034 2216 \nz\nM 1403 2484 \nQ 997 2584 770 2862 \nQ 544 3141 544 3541 \nQ 544 4100 942 4425 \nQ 1341 4750 2034 4750 \nQ 2731 4750 3128 4425 \nQ 3525 4100 3525 3541 \nQ 3525 3141 3298 2862 \nQ 3072 2584 2669 2484 \nQ 3125 2378 3379 2068 \nQ 3634 1759 3634 1313 \nQ 3634 634 3220 271 \nQ 2806 -91 2034 -91 \nQ 1263 -91 848 271 \nQ 434 634 434 1313 \nQ 434 1759 690 2068 \nQ 947 2378 1403 2484 \nz\nM 1172 3481 \nQ 1172 3119 1398 2916 \nQ 1625 2713 2034 2713 \nQ 2441 2713 2670 2916 \nQ 2900 3119 2900 3481 \nQ 2900 3844 2670 4047 \nQ 2441 4250 2034 4250 \nQ 1625 4250 1398 4047 \nQ 1172 3844 1172 3481 \nz\n\" id=\"DejaVuSans-38\" transform=\"scale(0.015625)\"/>\n       </defs>\n       <use xlink:href=\"#DejaVuSans-33\"/>\n       <use x=\"63.623047\" xlink:href=\"#DejaVuSans-34\"/>\n       <use x=\"127.246094\" xlink:href=\"#DejaVuSans-2e\"/>\n       <use x=\"159.033203\" xlink:href=\"#DejaVuSans-30\"/>\n       <use x=\"222.65625\" xlink:href=\"#DejaVuSans-38\"/>\n      </g>\n     </g>\n    </g>\n    <g id=\"xtick_2\">\n     <g id=\"line2d_2\">\n      <g>\n       <use style=\"stroke:#000000;stroke-width:0.8;\" x=\"175.65635\" xlink:href=\"#md911d8aeaa\" y=\"224.64\"/>\n      </g>\n     </g>\n     <g id=\"text_2\">\n      <!-- 34.10 -->\n      <g transform=\"translate(161.342288 239.238438)scale(0.1 -0.1)\">\n       <defs>\n        <path d=\"M 794 531 \nL 1825 531 \nL 1825 4091 \nL 703 3866 \nL 703 4441 \nL 1819 4666 \nL 2450 4666 \nL 2450 531 \nL 3481 531 \nL 3481 0 \nL 794 0 \nL 794 531 \nz\n\" id=\"DejaVuSans-31\" transform=\"scale(0.015625)\"/>\n       </defs>\n       <use xlink:href=\"#DejaVuSans-33\"/>\n       <use x=\"63.623047\" xlink:href=\"#DejaVuSans-34\"/>\n       <use x=\"127.246094\" xlink:href=\"#DejaVuSans-2e\"/>\n       <use x=\"159.033203\" xlink:href=\"#DejaVuSans-31\"/>\n       <use x=\"222.65625\" xlink:href=\"#DejaVuSans-30\"/>\n      </g>\n     </g>\n    </g>\n    <g id=\"xtick_3\">\n     <g id=\"line2d_3\">\n      <g>\n       <use style=\"stroke:#000000;stroke-width:0.8;\" x=\"234.52746\" xlink:href=\"#md911d8aeaa\" y=\"224.64\"/>\n      </g>\n     </g>\n     <g id=\"text_3\">\n      <!-- 34.12 -->\n      <g transform=\"translate(220.213397 239.238438)scale(0.1 -0.1)\">\n       <defs>\n        <path d=\"M 1228 531 \nL 3431 531 \nL 3431 0 \nL 469 0 \nL 469 531 \nQ 828 903 1448 1529 \nQ 2069 2156 2228 2338 \nQ 2531 2678 2651 2914 \nQ 2772 3150 2772 3378 \nQ 2772 3750 2511 3984 \nQ 2250 4219 1831 4219 \nQ 1534 4219 1204 4116 \nQ 875 4013 500 3803 \nL 500 4441 \nQ 881 4594 1212 4672 \nQ 1544 4750 1819 4750 \nQ 2544 4750 2975 4387 \nQ 3406 4025 3406 3419 \nQ 3406 3131 3298 2873 \nQ 3191 2616 2906 2266 \nQ 2828 2175 2409 1742 \nQ 1991 1309 1228 531 \nz\n\" id=\"DejaVuSans-32\" transform=\"scale(0.015625)\"/>\n       </defs>\n       <use xlink:href=\"#DejaVuSans-33\"/>\n       <use x=\"63.623047\" xlink:href=\"#DejaVuSans-34\"/>\n       <use x=\"127.246094\" xlink:href=\"#DejaVuSans-2e\"/>\n       <use x=\"159.033203\" xlink:href=\"#DejaVuSans-31\"/>\n       <use x=\"222.65625\" xlink:href=\"#DejaVuSans-32\"/>\n      </g>\n     </g>\n    </g>\n    <g id=\"xtick_4\">\n     <g id=\"line2d_4\">\n      <g>\n       <use style=\"stroke:#000000;stroke-width:0.8;\" x=\"293.398569\" xlink:href=\"#md911d8aeaa\" y=\"224.64\"/>\n      </g>\n     </g>\n     <g id=\"text_4\">\n      <!-- 34.14 -->\n      <g transform=\"translate(279.084507 239.238438)scale(0.1 -0.1)\">\n       <use xlink:href=\"#DejaVuSans-33\"/>\n       <use x=\"63.623047\" xlink:href=\"#DejaVuSans-34\"/>\n       <use x=\"127.246094\" xlink:href=\"#DejaVuSans-2e\"/>\n       <use x=\"159.033203\" xlink:href=\"#DejaVuSans-31\"/>\n       <use x=\"222.65625\" xlink:href=\"#DejaVuSans-34\"/>\n      </g>\n     </g>\n    </g>\n    <g id=\"xtick_5\">\n     <g id=\"line2d_5\">\n      <g>\n       <use style=\"stroke:#000000;stroke-width:0.8;\" x=\"352.269679\" xlink:href=\"#md911d8aeaa\" y=\"224.64\"/>\n      </g>\n     </g>\n     <g id=\"text_5\">\n      <!-- 34.16 -->\n      <g transform=\"translate(337.955616 239.238438)scale(0.1 -0.1)\">\n       <defs>\n        <path d=\"M 2113 2584 \nQ 1688 2584 1439 2293 \nQ 1191 2003 1191 1497 \nQ 1191 994 1439 701 \nQ 1688 409 2113 409 \nQ 2538 409 2786 701 \nQ 3034 994 3034 1497 \nQ 3034 2003 2786 2293 \nQ 2538 2584 2113 2584 \nz\nM 3366 4563 \nL 3366 3988 \nQ 3128 4100 2886 4159 \nQ 2644 4219 2406 4219 \nQ 1781 4219 1451 3797 \nQ 1122 3375 1075 2522 \nQ 1259 2794 1537 2939 \nQ 1816 3084 2150 3084 \nQ 2853 3084 3261 2657 \nQ 3669 2231 3669 1497 \nQ 3669 778 3244 343 \nQ 2819 -91 2113 -91 \nQ 1303 -91 875 529 \nQ 447 1150 447 2328 \nQ 447 3434 972 4092 \nQ 1497 4750 2381 4750 \nQ 2619 4750 2861 4703 \nQ 3103 4656 3366 4563 \nz\n\" id=\"DejaVuSans-36\" transform=\"scale(0.015625)\"/>\n       </defs>\n       <use xlink:href=\"#DejaVuSans-33\"/>\n       <use x=\"63.623047\" xlink:href=\"#DejaVuSans-34\"/>\n       <use x=\"127.246094\" xlink:href=\"#DejaVuSans-2e\"/>\n       <use x=\"159.033203\" xlink:href=\"#DejaVuSans-31\"/>\n       <use x=\"222.65625\" xlink:href=\"#DejaVuSans-36\"/>\n      </g>\n     </g>\n    </g>\n    <g id=\"text_6\">\n     <!-- Latitude -->\n     <g transform=\"translate(218.069531 252.916563)scale(0.1 -0.1)\">\n      <defs>\n       <path d=\"M 628 4666 \nL 1259 4666 \nL 1259 531 \nL 3531 531 \nL 3531 0 \nL 628 0 \nL 628 4666 \nz\n\" id=\"DejaVuSans-4c\" transform=\"scale(0.015625)\"/>\n       <path d=\"M 2194 1759 \nQ 1497 1759 1228 1600 \nQ 959 1441 959 1056 \nQ 959 750 1161 570 \nQ 1363 391 1709 391 \nQ 2188 391 2477 730 \nQ 2766 1069 2766 1631 \nL 2766 1759 \nL 2194 1759 \nz\nM 3341 1997 \nL 3341 0 \nL 2766 0 \nL 2766 531 \nQ 2569 213 2275 61 \nQ 1981 -91 1556 -91 \nQ 1019 -91 701 211 \nQ 384 513 384 1019 \nQ 384 1609 779 1909 \nQ 1175 2209 1959 2209 \nL 2766 2209 \nL 2766 2266 \nQ 2766 2663 2505 2880 \nQ 2244 3097 1772 3097 \nQ 1472 3097 1187 3025 \nQ 903 2953 641 2809 \nL 641 3341 \nQ 956 3463 1253 3523 \nQ 1550 3584 1831 3584 \nQ 2591 3584 2966 3190 \nQ 3341 2797 3341 1997 \nz\n\" id=\"DejaVuSans-61\" transform=\"scale(0.015625)\"/>\n       <path d=\"M 1172 4494 \nL 1172 3500 \nL 2356 3500 \nL 2356 3053 \nL 1172 3053 \nL 1172 1153 \nQ 1172 725 1289 603 \nQ 1406 481 1766 481 \nL 2356 481 \nL 2356 0 \nL 1766 0 \nQ 1100 0 847 248 \nQ 594 497 594 1153 \nL 594 3053 \nL 172 3053 \nL 172 3500 \nL 594 3500 \nL 594 4494 \nL 1172 4494 \nz\n\" id=\"DejaVuSans-74\" transform=\"scale(0.015625)\"/>\n       <path d=\"M 603 3500 \nL 1178 3500 \nL 1178 0 \nL 603 0 \nL 603 3500 \nz\nM 603 4863 \nL 1178 4863 \nL 1178 4134 \nL 603 4134 \nL 603 4863 \nz\n\" id=\"DejaVuSans-69\" transform=\"scale(0.015625)\"/>\n       <path d=\"M 544 1381 \nL 544 3500 \nL 1119 3500 \nL 1119 1403 \nQ 1119 906 1312 657 \nQ 1506 409 1894 409 \nQ 2359 409 2629 706 \nQ 2900 1003 2900 1516 \nL 2900 3500 \nL 3475 3500 \nL 3475 0 \nL 2900 0 \nL 2900 538 \nQ 2691 219 2414 64 \nQ 2138 -91 1772 -91 \nQ 1169 -91 856 284 \nQ 544 659 544 1381 \nz\nM 1991 3584 \nL 1991 3584 \nz\n\" id=\"DejaVuSans-75\" transform=\"scale(0.015625)\"/>\n       <path d=\"M 2906 2969 \nL 2906 4863 \nL 3481 4863 \nL 3481 0 \nL 2906 0 \nL 2906 525 \nQ 2725 213 2448 61 \nQ 2172 -91 1784 -91 \nQ 1150 -91 751 415 \nQ 353 922 353 1747 \nQ 353 2572 751 3078 \nQ 1150 3584 1784 3584 \nQ 2172 3584 2448 3432 \nQ 2725 3281 2906 2969 \nz\nM 947 1747 \nQ 947 1113 1208 752 \nQ 1469 391 1925 391 \nQ 2381 391 2643 752 \nQ 2906 1113 2906 1747 \nQ 2906 2381 2643 2742 \nQ 2381 3103 1925 3103 \nQ 1469 3103 1208 2742 \nQ 947 2381 947 1747 \nz\n\" id=\"DejaVuSans-64\" transform=\"scale(0.015625)\"/>\n       <path d=\"M 3597 1894 \nL 3597 1613 \nL 953 1613 \nQ 991 1019 1311 708 \nQ 1631 397 2203 397 \nQ 2534 397 2845 478 \nQ 3156 559 3463 722 \nL 3463 178 \nQ 3153 47 2828 -22 \nQ 2503 -91 2169 -91 \nQ 1331 -91 842 396 \nQ 353 884 353 1716 \nQ 353 2575 817 3079 \nQ 1281 3584 2069 3584 \nQ 2775 3584 3186 3129 \nQ 3597 2675 3597 1894 \nz\nM 3022 2063 \nQ 3016 2534 2758 2815 \nQ 2500 3097 2075 3097 \nQ 1594 3097 1305 2825 \nQ 1016 2553 972 2059 \nL 3022 2063 \nz\n\" id=\"DejaVuSans-65\" transform=\"scale(0.015625)\"/>\n      </defs>\n      <use xlink:href=\"#DejaVuSans-4c\"/>\n      <use x=\"55.712891\" xlink:href=\"#DejaVuSans-61\"/>\n      <use x=\"116.992188\" xlink:href=\"#DejaVuSans-74\"/>\n      <use x=\"156.201172\" xlink:href=\"#DejaVuSans-69\"/>\n      <use x=\"183.984375\" xlink:href=\"#DejaVuSans-74\"/>\n      <use x=\"223.193359\" xlink:href=\"#DejaVuSans-75\"/>\n      <use x=\"286.572266\" xlink:href=\"#DejaVuSans-64\"/>\n      <use x=\"350.048828\" xlink:href=\"#DejaVuSans-65\"/>\n     </g>\n    </g>\n   </g>\n   <g id=\"matplotlib.axis_2\">\n    <g id=\"ytick_1\">\n     <g id=\"line2d_6\">\n      <defs>\n       <path d=\"M 0 0 \nL -3.5 0 \n\" id=\"m77e620abc0\" style=\"stroke:#000000;stroke-width:0.8;\"/>\n      </defs>\n      <g>\n       <use style=\"stroke:#000000;stroke-width:0.8;\" x=\"71.248438\" xlink:href=\"#m77e620abc0\" y=\"223.425251\"/>\n      </g>\n     </g>\n     <g id=\"text_7\">\n      <!-- −118.65 -->\n      <g transform=\"translate(20.878125 227.22447)scale(0.1 -0.1)\">\n       <defs>\n        <path d=\"M 678 2272 \nL 4684 2272 \nL 4684 1741 \nL 678 1741 \nL 678 2272 \nz\n\" id=\"DejaVuSans-2212\" transform=\"scale(0.015625)\"/>\n        <path d=\"M 691 4666 \nL 3169 4666 \nL 3169 4134 \nL 1269 4134 \nL 1269 2991 \nQ 1406 3038 1543 3061 \nQ 1681 3084 1819 3084 \nQ 2600 3084 3056 2656 \nQ 3513 2228 3513 1497 \nQ 3513 744 3044 326 \nQ 2575 -91 1722 -91 \nQ 1428 -91 1123 -41 \nQ 819 9 494 109 \nL 494 744 \nQ 775 591 1075 516 \nQ 1375 441 1709 441 \nQ 2250 441 2565 725 \nQ 2881 1009 2881 1497 \nQ 2881 1984 2565 2268 \nQ 2250 2553 1709 2553 \nQ 1456 2553 1204 2497 \nQ 953 2441 691 2322 \nL 691 4666 \nz\n\" id=\"DejaVuSans-35\" transform=\"scale(0.015625)\"/>\n       </defs>\n       <use xlink:href=\"#DejaVuSans-2212\"/>\n       <use x=\"83.789062\" xlink:href=\"#DejaVuSans-31\"/>\n       <use x=\"147.412109\" xlink:href=\"#DejaVuSans-31\"/>\n       <use x=\"211.035156\" xlink:href=\"#DejaVuSans-38\"/>\n       <use x=\"274.658203\" xlink:href=\"#DejaVuSans-2e\"/>\n       <use x=\"306.445312\" xlink:href=\"#DejaVuSans-36\"/>\n       <use x=\"370.068359\" xlink:href=\"#DejaVuSans-35\"/>\n      </g>\n     </g>\n    </g>\n    <g id=\"ytick_2\">\n     <g id=\"line2d_7\">\n      <g>\n       <use style=\"stroke:#000000;stroke-width:0.8;\" x=\"71.248438\" xlink:href=\"#m77e620abc0\" y=\"195.817329\"/>\n      </g>\n     </g>\n     <g id=\"text_8\">\n      <!-- −118.60 -->\n      <g transform=\"translate(20.878125 199.616547)scale(0.1 -0.1)\">\n       <use xlink:href=\"#DejaVuSans-2212\"/>\n       <use x=\"83.789062\" xlink:href=\"#DejaVuSans-31\"/>\n       <use x=\"147.412109\" xlink:href=\"#DejaVuSans-31\"/>\n       <use x=\"211.035156\" xlink:href=\"#DejaVuSans-38\"/>\n       <use x=\"274.658203\" xlink:href=\"#DejaVuSans-2e\"/>\n       <use x=\"306.445312\" xlink:href=\"#DejaVuSans-36\"/>\n       <use x=\"370.068359\" xlink:href=\"#DejaVuSans-30\"/>\n      </g>\n     </g>\n    </g>\n    <g id=\"ytick_3\">\n     <g id=\"line2d_8\">\n      <g>\n       <use style=\"stroke:#000000;stroke-width:0.8;\" x=\"71.248438\" xlink:href=\"#m77e620abc0\" y=\"168.209406\"/>\n      </g>\n     </g>\n     <g id=\"text_9\">\n      <!-- −118.55 -->\n      <g transform=\"translate(20.878125 172.008625)scale(0.1 -0.1)\">\n       <use xlink:href=\"#DejaVuSans-2212\"/>\n       <use x=\"83.789062\" xlink:href=\"#DejaVuSans-31\"/>\n       <use x=\"147.412109\" xlink:href=\"#DejaVuSans-31\"/>\n       <use x=\"211.035156\" xlink:href=\"#DejaVuSans-38\"/>\n       <use x=\"274.658203\" xlink:href=\"#DejaVuSans-2e\"/>\n       <use x=\"306.445312\" xlink:href=\"#DejaVuSans-35\"/>\n       <use x=\"370.068359\" xlink:href=\"#DejaVuSans-35\"/>\n      </g>\n     </g>\n    </g>\n    <g id=\"ytick_4\">\n     <g id=\"line2d_9\">\n      <g>\n       <use style=\"stroke:#000000;stroke-width:0.8;\" x=\"71.248438\" xlink:href=\"#m77e620abc0\" y=\"140.601483\"/>\n      </g>\n     </g>\n     <g id=\"text_10\">\n      <!-- −118.50 -->\n      <g transform=\"translate(20.878125 144.400702)scale(0.1 -0.1)\">\n       <use xlink:href=\"#DejaVuSans-2212\"/>\n       <use x=\"83.789062\" xlink:href=\"#DejaVuSans-31\"/>\n       <use x=\"147.412109\" xlink:href=\"#DejaVuSans-31\"/>\n       <use x=\"211.035156\" xlink:href=\"#DejaVuSans-38\"/>\n       <use x=\"274.658203\" xlink:href=\"#DejaVuSans-2e\"/>\n       <use x=\"306.445312\" xlink:href=\"#DejaVuSans-35\"/>\n       <use x=\"370.068359\" xlink:href=\"#DejaVuSans-30\"/>\n      </g>\n     </g>\n    </g>\n    <g id=\"ytick_5\">\n     <g id=\"line2d_10\">\n      <g>\n       <use style=\"stroke:#000000;stroke-width:0.8;\" x=\"71.248438\" xlink:href=\"#m77e620abc0\" y=\"112.99356\"/>\n      </g>\n     </g>\n     <g id=\"text_11\">\n      <!-- −118.45 -->\n      <g transform=\"translate(20.878125 116.792779)scale(0.1 -0.1)\">\n       <use xlink:href=\"#DejaVuSans-2212\"/>\n       <use x=\"83.789062\" xlink:href=\"#DejaVuSans-31\"/>\n       <use x=\"147.412109\" xlink:href=\"#DejaVuSans-31\"/>\n       <use x=\"211.035156\" xlink:href=\"#DejaVuSans-38\"/>\n       <use x=\"274.658203\" xlink:href=\"#DejaVuSans-2e\"/>\n       <use x=\"306.445312\" xlink:href=\"#DejaVuSans-34\"/>\n       <use x=\"370.068359\" xlink:href=\"#DejaVuSans-35\"/>\n      </g>\n     </g>\n    </g>\n    <g id=\"ytick_6\">\n     <g id=\"line2d_11\">\n      <g>\n       <use style=\"stroke:#000000;stroke-width:0.8;\" x=\"71.248438\" xlink:href=\"#m77e620abc0\" y=\"85.385637\"/>\n      </g>\n     </g>\n     <g id=\"text_12\">\n      <!-- −118.40 -->\n      <g transform=\"translate(20.878125 89.184856)scale(0.1 -0.1)\">\n       <use xlink:href=\"#DejaVuSans-2212\"/>\n       <use x=\"83.789062\" xlink:href=\"#DejaVuSans-31\"/>\n       <use x=\"147.412109\" xlink:href=\"#DejaVuSans-31\"/>\n       <use x=\"211.035156\" xlink:href=\"#DejaVuSans-38\"/>\n       <use x=\"274.658203\" xlink:href=\"#DejaVuSans-2e\"/>\n       <use x=\"306.445312\" xlink:href=\"#DejaVuSans-34\"/>\n       <use x=\"370.068359\" xlink:href=\"#DejaVuSans-30\"/>\n      </g>\n     </g>\n    </g>\n    <g id=\"ytick_7\">\n     <g id=\"line2d_12\">\n      <g>\n       <use style=\"stroke:#000000;stroke-width:0.8;\" x=\"71.248438\" xlink:href=\"#m77e620abc0\" y=\"57.777715\"/>\n      </g>\n     </g>\n     <g id=\"text_13\">\n      <!-- −118.35 -->\n      <g transform=\"translate(20.878125 61.576933)scale(0.1 -0.1)\">\n       <use xlink:href=\"#DejaVuSans-2212\"/>\n       <use x=\"83.789062\" xlink:href=\"#DejaVuSans-31\"/>\n       <use x=\"147.412109\" xlink:href=\"#DejaVuSans-31\"/>\n       <use x=\"211.035156\" xlink:href=\"#DejaVuSans-38\"/>\n       <use x=\"274.658203\" xlink:href=\"#DejaVuSans-2e\"/>\n       <use x=\"306.445312\" xlink:href=\"#DejaVuSans-33\"/>\n       <use x=\"370.068359\" xlink:href=\"#DejaVuSans-35\"/>\n      </g>\n     </g>\n    </g>\n    <g id=\"ytick_8\">\n     <g id=\"line2d_13\">\n      <g>\n       <use style=\"stroke:#000000;stroke-width:0.8;\" x=\"71.248438\" xlink:href=\"#m77e620abc0\" y=\"30.169792\"/>\n      </g>\n     </g>\n     <g id=\"text_14\">\n      <!-- −118.30 -->\n      <g transform=\"translate(20.878125 33.969011)scale(0.1 -0.1)\">\n       <use xlink:href=\"#DejaVuSans-2212\"/>\n       <use x=\"83.789062\" xlink:href=\"#DejaVuSans-31\"/>\n       <use x=\"147.412109\" xlink:href=\"#DejaVuSans-31\"/>\n       <use x=\"211.035156\" xlink:href=\"#DejaVuSans-38\"/>\n       <use x=\"274.658203\" xlink:href=\"#DejaVuSans-2e\"/>\n       <use x=\"306.445312\" xlink:href=\"#DejaVuSans-33\"/>\n       <use x=\"370.068359\" xlink:href=\"#DejaVuSans-30\"/>\n      </g>\n     </g>\n    </g>\n    <g id=\"text_15\">\n     <!-- Longitude -->\n     <g transform=\"translate(14.798438 140.789531)rotate(-90)scale(0.1 -0.1)\">\n      <defs>\n       <path d=\"M 1959 3097 \nQ 1497 3097 1228 2736 \nQ 959 2375 959 1747 \nQ 959 1119 1226 758 \nQ 1494 397 1959 397 \nQ 2419 397 2687 759 \nQ 2956 1122 2956 1747 \nQ 2956 2369 2687 2733 \nQ 2419 3097 1959 3097 \nz\nM 1959 3584 \nQ 2709 3584 3137 3096 \nQ 3566 2609 3566 1747 \nQ 3566 888 3137 398 \nQ 2709 -91 1959 -91 \nQ 1206 -91 779 398 \nQ 353 888 353 1747 \nQ 353 2609 779 3096 \nQ 1206 3584 1959 3584 \nz\n\" id=\"DejaVuSans-6f\" transform=\"scale(0.015625)\"/>\n       <path d=\"M 3513 2113 \nL 3513 0 \nL 2938 0 \nL 2938 2094 \nQ 2938 2591 2744 2837 \nQ 2550 3084 2163 3084 \nQ 1697 3084 1428 2787 \nQ 1159 2491 1159 1978 \nL 1159 0 \nL 581 0 \nL 581 3500 \nL 1159 3500 \nL 1159 2956 \nQ 1366 3272 1645 3428 \nQ 1925 3584 2291 3584 \nQ 2894 3584 3203 3211 \nQ 3513 2838 3513 2113 \nz\n\" id=\"DejaVuSans-6e\" transform=\"scale(0.015625)\"/>\n       <path d=\"M 2906 1791 \nQ 2906 2416 2648 2759 \nQ 2391 3103 1925 3103 \nQ 1463 3103 1205 2759 \nQ 947 2416 947 1791 \nQ 947 1169 1205 825 \nQ 1463 481 1925 481 \nQ 2391 481 2648 825 \nQ 2906 1169 2906 1791 \nz\nM 3481 434 \nQ 3481 -459 3084 -895 \nQ 2688 -1331 1869 -1331 \nQ 1566 -1331 1297 -1286 \nQ 1028 -1241 775 -1147 \nL 775 -588 \nQ 1028 -725 1275 -790 \nQ 1522 -856 1778 -856 \nQ 2344 -856 2625 -561 \nQ 2906 -266 2906 331 \nL 2906 616 \nQ 2728 306 2450 153 \nQ 2172 0 1784 0 \nQ 1141 0 747 490 \nQ 353 981 353 1791 \nQ 353 2603 747 3093 \nQ 1141 3584 1784 3584 \nQ 2172 3584 2450 3431 \nQ 2728 3278 2906 2969 \nL 2906 3500 \nL 3481 3500 \nL 3481 434 \nz\n\" id=\"DejaVuSans-67\" transform=\"scale(0.015625)\"/>\n      </defs>\n      <use xlink:href=\"#DejaVuSans-4c\"/>\n      <use x=\"53.962891\" xlink:href=\"#DejaVuSans-6f\"/>\n      <use x=\"115.144531\" xlink:href=\"#DejaVuSans-6e\"/>\n      <use x=\"178.523438\" xlink:href=\"#DejaVuSans-67\"/>\n      <use x=\"242\" xlink:href=\"#DejaVuSans-69\"/>\n      <use x=\"269.783203\" xlink:href=\"#DejaVuSans-74\"/>\n      <use x=\"308.992188\" xlink:href=\"#DejaVuSans-75\"/>\n      <use x=\"372.371094\" xlink:href=\"#DejaVuSans-64\"/>\n      <use x=\"435.847656\" xlink:href=\"#DejaVuSans-65\"/>\n     </g>\n    </g>\n   </g>\n   <g id=\"patch_3\">\n    <path d=\"M 71.248438 224.64 \nL 71.248438 7.2 \n\" style=\"fill:none;stroke:#000000;stroke-linecap:square;stroke-linejoin:miter;stroke-width:0.8;\"/>\n   </g>\n   <g id=\"patch_4\">\n    <path d=\"M 406.048438 224.64 \nL 406.048438 7.2 \n\" style=\"fill:none;stroke:#000000;stroke-linecap:square;stroke-linejoin:miter;stroke-width:0.8;\"/>\n   </g>\n   <g id=\"patch_5\">\n    <path d=\"M 71.248438 224.64 \nL 406.048438 224.64 \n\" style=\"fill:none;stroke:#000000;stroke-linecap:square;stroke-linejoin:miter;stroke-width:0.8;\"/>\n   </g>\n   <g id=\"patch_6\">\n    <path d=\"M 71.248438 7.2 \nL 406.048438 7.2 \n\" style=\"fill:none;stroke:#000000;stroke-linecap:square;stroke-linejoin:miter;stroke-width:0.8;\"/>\n   </g>\n  </g>\n </g>\n <defs>\n  <clipPath id=\"pc7afeaf3e7\">\n   <rect height=\"217.44\" width=\"334.8\" x=\"71.248438\" y=\"7.2\"/>\n  </clipPath>\n </defs>\n</svg>\n",
      "image/png": "[encoded data removed]"
     },
     "metadata": {
      "needs_background": "light"
     }
    }
   ],
   "metadata": {}
  },
  {
   "cell_type": "markdown",
   "source": [
    "### Q18 [4 points] Plot the total number of rows for each month from 01/01/2000 to 01/01/2021."
   ],
   "metadata": {}
  },
  {
   "cell_type": "code",
   "execution_count": null,
   "source": [],
   "outputs": [],
   "metadata": {}
  },
  {
   "cell_type": "markdown",
   "source": [
    "---\n",
    "\n",
    "### Autism Classification\n",
    "\n",
    "We will consider a dataset where each row is an adult who may be autistic (Class/ASD is YES). We will only need the columns named A1_Score to A10_Score. These are scores achieved on answers to different questions measuring mental acuity. A score of 1 is a correct answer, while 0 is a wrong answer."
   ],
   "metadata": {}
  },
  {
   "cell_type": "code",
   "execution_count": 378,
   "source": [
    "df = pd.read_csv('Autism-Adult-Data.arff', skiprows=25, header=None, \\\n",
    "                 names=['A1_Score', 'A2_Score', 'A3_Score', 'A4_Score', 'A5_Score', 'A6_Score',\n",
    "                        'A7_Score', 'A8_Score', 'A9_Score', 'A10_Score', 'age',\n",
    "                        'gender', 'ethnicity', 'jaundice', 'austim', 'country_of_res',\n",
    "                        'used_app_before', 'result', 'age_desc', 'relation', 'Class/ASD'])\n",
    "df.iloc[0]"
   ],
   "outputs": [
    {
     "output_type": "execute_result",
     "data": {
      "text/plain": [
       "A1_Score                         1\n",
       "A2_Score                         1\n",
       "A3_Score                         1\n",
       "A4_Score                         1\n",
       "A5_Score                         0\n",
       "A6_Score                         0\n",
       "A7_Score                         1\n",
       "A8_Score                         1\n",
       "A9_Score                         0\n",
       "A10_Score                        0\n",
       "age                             26\n",
       "gender                           f\n",
       "ethnicity           White-European\n",
       "jaundice                        no\n",
       "austim                          no\n",
       "country_of_res     'United States'\n",
       "used_app_before                 no\n",
       "result                           6\n",
       "age_desc             '18 and more'\n",
       "relation                      Self\n",
       "Class/ASD                       NO\n",
       "Name: 0, dtype: object"
      ]
     },
     "metadata": {},
     "execution_count": 378
    }
   ],
   "metadata": {}
  },
  {
   "cell_type": "markdown",
   "source": [
    "### Q19 [3 points] Create a target column which is 1 if Class/ASD is YES, and 0 otherwise.\n",
    "\n",
    "Print out the baseline accuracy on this dataset."
   ],
   "metadata": {}
  },
  {
   "cell_type": "code",
   "execution_count": 379,
   "source": [
    "df[\"Target\"] = df[\"Class/ASD\"].apply(lambda x: (1 if x == \"YES\" else 0))\n",
    "df[\"Target\"].value_counts()\n",
    "print(\"Baseline Accuracy is when all predictions are 0:\",(df[\"Target\"].value_counts()[0]/len(df)))"
   ],
   "outputs": [
    {
     "output_type": "stream",
     "name": "stdout",
     "text": [
      "Baseline Accuracy is when all predictions are 0: 0.7315340909090909\n"
     ]
    }
   ],
   "metadata": {}
  },
  {
   "cell_type": "markdown",
   "source": [
    "### Q20 [6 points] Minimum number of questions\n",
    "\n",
    "Calculate the average cross-validation accuracy for predicting the target using 10 different classifiers. Each classifier is a Nearest Neighbors classifier with K=15 nearest neighbors (all other settings can be set to their defaults), but with different features.\n",
    "* Classifier 1 uses A1_Score\n",
    "* Classifier 2 uses A1_Score and A2_Score\n",
    "* Classifier 3 uses A1_Score, A2_Score, and A3_Score\n",
    "* ...\n",
    "* Classifier 10 uses A1_Score, A2_Score, ..., A10_Score\n",
    "\n",
    "None of the classifiers use any of the other available columns such as age/gender/etc.\n",
    "\n",
    "Find the maximum cross-validation accuracy among these 10 classifiers.\n",
    "Then find out which classifiers achieve a cross-validation accuracy that is at least 95% of this maximum.\n",
    "Among these, print out which classifier uses the fewest features."
   ],
   "metadata": {}
  },
  {
   "cell_type": "code",
   "execution_count": 388,
   "source": [
    "from sklearn import neighbors\n",
    "from sklearn import model_selection\n",
    "from patsy import dmatrices\n",
    "from sklearn.model_selection import train_test_split\n",
    "from sklearn import metrics"
   ],
   "outputs": [],
   "metadata": {}
  },
  {
   "cell_type": "code",
   "execution_count": 389,
   "source": [
    "def cv_accuracy_score(X, y, nn=15):\n",
    "    \"\"\"For each fold, fit the nearest neighbors model\n",
    "    with nn nearest neighbors on the train, and return accuracy\n",
    "    on the test.\"\"\"\n",
    "    \n",
    "    model = neighbors.KNeighborsClassifier(n_neighbors=nn,\n",
    "                                           weights='uniform')\n",
    "    accuracies = []\n",
    "    \n",
    "    kfold = model_selection.StratifiedKFold(n_splits=3, shuffle=True).split(X, y)\n",
    "    for train, holdout in kfold:\n",
    "        # Select the training and testing data using the indices\n",
    "        # provided by kfold\n",
    "        X_train = X.iloc[train]\n",
    "        X_holdout = X.iloc[holdout]\n",
    "        y_train = y[train]\n",
    "        y_holdout = y[holdout]\n",
    "        \n",
    "        # Fit the model\n",
    "        model.fit(X_train, y_train)\n",
    "        \n",
    "        # Compute test accuracy\n",
    "        accuracy = metrics.accuracy_score(y_holdout, model.predict(X_holdout))\n",
    "        accuracies.append(accuracy)\n",
    "    \n",
    "    average_accuracy = mean(accuracies)\n",
    "    return average_accuracy\n"
   ],
   "outputs": [],
   "metadata": {}
  },
  {
   "cell_type": "code",
   "execution_count": 403,
   "source": [
    "\n",
    "formula = 'Target ~ 0'\n",
    "scores = []\n",
    "\n",
    "for x in range(1,11):\n",
    "    formula = formula + \"+A{}_Score\".format(x)\n",
    "    # print(formula)\n",
    "    Y, X = dmatrices(formula,\n",
    "                 df,return_type=\"dataframe\")\n",
    "    y = Y['Target'].values\n",
    "\n",
    "    X_train, X_test, y_train, y_test = train_test_split(X, y, test_size=0.3, random_state=1)\n",
    "\n",
    "    scores.append(cv_accuracy_score(X_train,y_train))\n",
    "\n",
    "scores = DataFrame(scores)\n",
    "scores"
   ],
   "outputs": [
    {
     "output_type": "execute_result",
     "data": {
      "text/plain": [
       "          0\n",
       "0  0.717480\n",
       "1  0.717480\n",
       "2  0.827236\n",
       "3  0.800813\n",
       "4  0.888211\n",
       "5  0.904472\n",
       "6  0.918699\n",
       "7  0.957317\n",
       "8  0.955285\n",
       "9  0.981707"
      ],
      "text/html": [
       "<div>\n",
       "<style scoped>\n",
       "    .dataframe tbody tr th:only-of-type {\n",
       "        vertical-align: middle;\n",
       "    }\n",
       "\n",
       "    .dataframe tbody tr th {\n",
       "        vertical-align: top;\n",
       "    }\n",
       "\n",
       "    .dataframe thead th {\n",
       "        text-align: right;\n",
       "    }\n",
       "</style>\n",
       "<table border=\"1\" class=\"dataframe\">\n",
       "  <thead>\n",
       "    <tr style=\"text-align: right;\">\n",
       "      <th></th>\n",
       "      <th>0</th>\n",
       "    </tr>\n",
       "  </thead>\n",
       "  <tbody>\n",
       "    <tr>\n",
       "      <th>0</th>\n",
       "      <td>0.717480</td>\n",
       "    </tr>\n",
       "    <tr>\n",
       "      <th>1</th>\n",
       "      <td>0.717480</td>\n",
       "    </tr>\n",
       "    <tr>\n",
       "      <th>2</th>\n",
       "      <td>0.827236</td>\n",
       "    </tr>\n",
       "    <tr>\n",
       "      <th>3</th>\n",
       "      <td>0.800813</td>\n",
       "    </tr>\n",
       "    <tr>\n",
       "      <th>4</th>\n",
       "      <td>0.888211</td>\n",
       "    </tr>\n",
       "    <tr>\n",
       "      <th>5</th>\n",
       "      <td>0.904472</td>\n",
       "    </tr>\n",
       "    <tr>\n",
       "      <th>6</th>\n",
       "      <td>0.918699</td>\n",
       "    </tr>\n",
       "    <tr>\n",
       "      <th>7</th>\n",
       "      <td>0.957317</td>\n",
       "    </tr>\n",
       "    <tr>\n",
       "      <th>8</th>\n",
       "      <td>0.955285</td>\n",
       "    </tr>\n",
       "    <tr>\n",
       "      <th>9</th>\n",
       "      <td>0.981707</td>\n",
       "    </tr>\n",
       "  </tbody>\n",
       "</table>\n",
       "</div>"
      ]
     },
     "metadata": {},
     "execution_count": 403
    }
   ],
   "metadata": {}
  },
  {
   "cell_type": "code",
   "execution_count": 406,
   "source": [
    "scores[scores >= scores.quantile(0.95)]"
   ],
   "outputs": [
    {
     "output_type": "execute_result",
     "data": {
      "text/plain": [
       "          0\n",
       "0       NaN\n",
       "1       NaN\n",
       "2       NaN\n",
       "3       NaN\n",
       "4       NaN\n",
       "5       NaN\n",
       "6       NaN\n",
       "7       NaN\n",
       "8       NaN\n",
       "9  0.981707"
      ],
      "text/html": [
       "<div>\n",
       "<style scoped>\n",
       "    .dataframe tbody tr th:only-of-type {\n",
       "        vertical-align: middle;\n",
       "    }\n",
       "\n",
       "    .dataframe tbody tr th {\n",
       "        vertical-align: top;\n",
       "    }\n",
       "\n",
       "    .dataframe thead th {\n",
       "        text-align: right;\n",
       "    }\n",
       "</style>\n",
       "<table border=\"1\" class=\"dataframe\">\n",
       "  <thead>\n",
       "    <tr style=\"text-align: right;\">\n",
       "      <th></th>\n",
       "      <th>0</th>\n",
       "    </tr>\n",
       "  </thead>\n",
       "  <tbody>\n",
       "    <tr>\n",
       "      <th>0</th>\n",
       "      <td>NaN</td>\n",
       "    </tr>\n",
       "    <tr>\n",
       "      <th>1</th>\n",
       "      <td>NaN</td>\n",
       "    </tr>\n",
       "    <tr>\n",
       "      <th>2</th>\n",
       "      <td>NaN</td>\n",
       "    </tr>\n",
       "    <tr>\n",
       "      <th>3</th>\n",
       "      <td>NaN</td>\n",
       "    </tr>\n",
       "    <tr>\n",
       "      <th>4</th>\n",
       "      <td>NaN</td>\n",
       "    </tr>\n",
       "    <tr>\n",
       "      <th>5</th>\n",
       "      <td>NaN</td>\n",
       "    </tr>\n",
       "    <tr>\n",
       "      <th>6</th>\n",
       "      <td>NaN</td>\n",
       "    </tr>\n",
       "    <tr>\n",
       "      <th>7</th>\n",
       "      <td>NaN</td>\n",
       "    </tr>\n",
       "    <tr>\n",
       "      <th>8</th>\n",
       "      <td>NaN</td>\n",
       "    </tr>\n",
       "    <tr>\n",
       "      <th>9</th>\n",
       "      <td>0.981707</td>\n",
       "    </tr>\n",
       "  </tbody>\n",
       "</table>\n",
       "</div>"
      ]
     },
     "metadata": {},
     "execution_count": 406
    }
   ],
   "metadata": {}
  },
  {
   "cell_type": "code",
   "execution_count": 407,
   "source": [
    "scores.quantile(0.95)"
   ],
   "outputs": [
    {
     "output_type": "execute_result",
     "data": {
      "text/plain": [
       "0    0.970732\n",
       "Name: 0.95, dtype: float64"
      ]
     },
     "metadata": {},
     "execution_count": 407
    }
   ],
   "metadata": {}
  },
  {
   "cell_type": "code",
   "execution_count": null,
   "source": [],
   "outputs": [],
   "metadata": {}
  }
 ],
 "metadata": {
  "kernelspec": {
   "name": "python3",
   "display_name": "Python 3.9.6 64-bit ('mis-381n': conda)"
  },
  "language_info": {
   "codemirror_mode": {
    "name": "ipython",
    "version": 3
   },
   "file_extension": ".py",
   "mimetype": "text/x-python",
   "name": "python",
   "nbconvert_exporter": "python",
   "pygments_lexer": "ipython3",
   "version": "3.9.6"
  },
  "interpreter": {
   "hash": "06b40021540639983462c9e311a6ff423d5a2e962ab45520e073600d5efc95cc"
  }
 },
 "nbformat": 4,
 "nbformat_minor": 5
}