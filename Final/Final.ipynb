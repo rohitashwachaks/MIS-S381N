{
 "cells": [
  {
   "cell_type": "code",
   "execution_count": 1,
   "id": "understanding-replica",
   "metadata": {},
   "outputs": [
    {
     "name": "stdout",
     "output_type": "stream",
     "text": [
      "Populating the interactive namespace from numpy and matplotlib\n"
     ]
    }
   ],
   "source": [
    "import pandas as pd\n",
    "from pandas import Series, DataFrame\n",
    "%pylab inline"
   ]
  },
  {
   "cell_type": "markdown",
   "id": "liked-animation",
   "metadata": {},
   "source": [
    "### Q1 [12 points] Classification\n",
    "\n",
    "Consider the following 2 datasets, each of which has equal numbers of red and blue points.\n",
    "\n",
    "![both](both.png)"
   ]
  },
  {
   "cell_type": "markdown",
   "id": "substantial-telephone",
   "metadata": {},
   "source": [
    "### Q1(a) [4 points] Suppose you can build a decision tree to classify the red points from the blue points. \n",
    "You can set the depth anywhere between 1 and 10 (recall that depth 1 means you get to split at most once).\n",
    "Which depth gives you the best training accuracy for dataset 1? And for dataset 2?\n",
    "If several choices for depth achieve the highest accuracy, report the smallest depth that achieves that accuracy."
   ]
  },
  {
   "cell_type": "markdown",
   "id": "continued-transsexual",
   "metadata": {},
   "source": [
    "**Fill in**"
   ]
  },
  {
   "cell_type": "markdown",
   "id": "senior-mirror",
   "metadata": {},
   "source": [
    "### Q1(b) [4 points] What is the accuracy achieved by logistic regression on dataset 1? On dataset 2?\n",
    "\n",
    "For dataset 2, you may give an approximate answer assuming that the red and blue circles are very very close to each other."
   ]
  },
  {
   "cell_type": "markdown",
   "id": "awful-nutrition",
   "metadata": {},
   "source": [
    "**Fill in**"
   ]
  },
  {
   "cell_type": "markdown",
   "id": "significant-anatomy",
   "metadata": {},
   "source": [
    "### Q1(c) [4 points] What accuracy would a K-Nearest Neighbors algorithm achieve on dataset 1? On dataset 2?\n",
    "\n",
    "You may assume a reasonably large value for K, say, K=20. You can also assume that the points are uniformly spread out over the circles, and for dataset 2, the two circles are very very close to each other."
   ]
  },
  {
   "cell_type": "markdown",
   "id": "juvenile-playback",
   "metadata": {},
   "source": [
    "**Fill in**"
   ]
  },
  {
   "cell_type": "markdown",
   "id": "processed-visiting",
   "metadata": {},
   "source": [
    "---\n",
    "\n",
    "We will consider a dataset where each row is one active businesses in the Los Angeles area. We care about the following fields:\n",
    "* BUSINESS NAME, STREET ADDRESS, CITY, ZIP CODE: self-explanatory\n",
    "* MAILING ADDRESS, MAILING CITY, MAILING ZIP CODE: these correspond to locations where letters addressed to the business need to be mailed\n",
    "* LOCATION DESCRIPTION: a column that combines the street name and zip code\n",
    "* NAICS: North American Industry Classification System (essentially the type of business)\n",
    "* PRIMARY NAICS DESCRIPTION: a description of the NAICS code\n",
    "* COUNCIL DISTRICT: another location identifier\n",
    "* LOCATION START DATE: when did the business start using this location.\n",
    "\n",
    "*Note*: You can assume that STREET ADDRESS has no NaNs. However, **there may be NaNs in all other columns, and your code may need to account for that if necessary!**"
   ]
  },
  {
   "cell_type": "markdown",
   "id": "primary-consciousness",
   "metadata": {},
   "source": [
    "### Q2 [3 points] Read in \"ActiveBusinesses.csv\" and print the first line."
   ]
  },
  {
   "cell_type": "code",
   "execution_count": null,
   "id": "plain-discrimination",
   "metadata": {},
   "outputs": [],
   "source": []
  },
  {
   "cell_type": "markdown",
   "id": "satisfactory-newman",
   "metadata": {},
   "source": [
    "### Q3 [4 points] Businesses with the same street address.\n",
    "\n",
    "Find the most frequent STREET ADDRESS (i.e., the STREET ADDRESS that shows up in the most rows). List all the BUSINESS NAMEs at that STREET ADDRESS."
   ]
  },
  {
   "cell_type": "code",
   "execution_count": null,
   "id": "martial-grove",
   "metadata": {},
   "outputs": [],
   "source": []
  },
  {
   "cell_type": "markdown",
   "id": "institutional-selection",
   "metadata": {},
   "source": [
    "### Q4 [4 points] Plot the top 10 most frequent BUSINESS NAMEs.\n",
    "The x-axis should be the BUSINESS NAME, and the y-axis should be the number of rows with that BUSINESS NAME."
   ]
  },
  {
   "cell_type": "code",
   "execution_count": null,
   "id": "close-hamburg",
   "metadata": {},
   "outputs": [],
   "source": []
  },
  {
   "cell_type": "markdown",
   "id": "nervous-entrance",
   "metadata": {},
   "source": [
    "### Q5 [4 points] Top street names\n",
    "\n",
    "Define the street name as the LOCATION DESCRIPTION without the first word (street number) and the last word (the zip code).\n",
    "Print the frequencies of the top 10 street names."
   ]
  },
  {
   "cell_type": "code",
   "execution_count": null,
   "id": "thirty-integral",
   "metadata": {},
   "outputs": [],
   "source": []
  },
  {
   "cell_type": "markdown",
   "id": "apart-minneapolis",
   "metadata": {},
   "source": [
    "### Q6 [4 points] Plot the frequencies of the top-10 cities except LOS ANGELES."
   ]
  },
  {
   "cell_type": "code",
   "execution_count": null,
   "id": "historic-liberia",
   "metadata": {},
   "outputs": [],
   "source": []
  },
  {
   "cell_type": "markdown",
   "id": "related-transportation",
   "metadata": {},
   "source": [
    "### Q7 [4 points] Among rows where both ZIP CODE and MAILING ZIP CODE are not missing, what fraction of rows have different values for these two columns?"
   ]
  },
  {
   "cell_type": "code",
   "execution_count": null,
   "id": "brazilian-cyprus",
   "metadata": {},
   "outputs": [],
   "source": []
  },
  {
   "cell_type": "markdown",
   "id": "marked-enforcement",
   "metadata": {},
   "source": [
    "### Q8 [4 points] How many unique STREET ADDRESSes have a single character as their second word?\n",
    "\n",
    "For example, the second word of \"1155 N LA CIENEGA BLVD\" is \"N\"."
   ]
  },
  {
   "cell_type": "code",
   "execution_count": null,
   "id": "strong-mills",
   "metadata": {},
   "outputs": [],
   "source": []
  },
  {
   "cell_type": "markdown",
   "id": "skilled-producer",
   "metadata": {},
   "source": [
    "### Q9 [4 points] Among rows where NAICS is not missing, what fraction also have PRIMARY NAICS DESCRIPTION also not missing?"
   ]
  },
  {
   "cell_type": "code",
   "execution_count": null,
   "id": "photographic-modem",
   "metadata": {},
   "outputs": [],
   "source": []
  },
  {
   "cell_type": "markdown",
   "id": "official-turtle",
   "metadata": {},
   "source": [
    "### Q10 [4 points] Find all unique BUSINESS NAMEs where the CITY in which the business is located is part of the BUSINESS NAME.\n",
    "\n",
    "For example, \"LOS ANGELES VALLEY CAREGIVERS, INC.\" in the city of LOS ANGELES."
   ]
  },
  {
   "cell_type": "code",
   "execution_count": null,
   "id": "manual-russian",
   "metadata": {},
   "outputs": [],
   "source": []
  },
  {
   "cell_type": "markdown",
   "id": "recognized-native",
   "metadata": {},
   "source": [
    "### Q11 [4 points] Print out all cities with 5 or more unique council districts associated with them."
   ]
  },
  {
   "cell_type": "code",
   "execution_count": null,
   "id": "bacterial-situation",
   "metadata": {},
   "outputs": [],
   "source": []
  },
  {
   "cell_type": "markdown",
   "id": "bronze-piano",
   "metadata": {},
   "source": [
    "### Q12 [6 points] Multiple NAICS\n",
    "Find all instances where there are several different NAICS for the same PRIMARY NAICS DESCRIPTION. Print out these NAICS and PRIMARY NAICS DESCRIPTIONs."
   ]
  },
  {
   "cell_type": "code",
   "execution_count": null,
   "id": "hearing-arthritis",
   "metadata": {},
   "outputs": [],
   "source": []
  },
  {
   "cell_type": "markdown",
   "id": "every-hammer",
   "metadata": {},
   "source": [
    "### Q13 [6 points] Plot the frequency of street last-names.\n",
    "\n",
    "The street last-name is defined as follows:\n",
    "* Look at a STREET ADDRESS (e.g., \"5670 WILSHIRE BLVD #B 1\")\n",
    "* Read its words backwards (here:, \"1\", \"#B\", \"BLVD\", \"WILSHIRE\", \"5670\")\n",
    "* Pick the first word that doesn't have any digits or \"#\" in it (here: \"BLVD\")\n",
    "\n",
    "Calculate the number of rows associated with each unique last-name. Plot the frequencies of the top 10 last-names."
   ]
  },
  {
   "cell_type": "code",
   "execution_count": null,
   "id": "hydraulic-sharp",
   "metadata": {},
   "outputs": [],
   "source": []
  },
  {
   "cell_type": "markdown",
   "id": "expected-patent",
   "metadata": {},
   "source": [
    "### Q14 [6 points] Streets with the widest range of street numbers\n",
    "\n",
    "* Drop all STREET ADDRESSES where the first word is not all numbers. For example, keep the row where the STREET ADDRESS is \"15136 STAGG STREET\" but drop the row with \"POST OFFICE BOX 123\".\n",
    "* Among these STREET ADDRESSES, call the first word STREET NUMBER and the rest of the address STREET BASE.\n",
    "    * For example, a STREET ADDRESS of \"15136 STAGG STREET\" has a STREET NUMBER of 15136 and a STREET BASE of \"STAGG STREET\"\n",
    "* For each STREET BASE, figure out the range of STREET NUMBERs.\n",
    "    * For example, if you see \"15126 STAGG STREET\", \"15100 STAGG STREET\" and \"15200 STAGG STREET\", then the range for \"STAGG STREET\" is 15200-15100=100.\n",
    "* Print out the top 5 STREET BASEs with the largest range of STREET NUMBERs."
   ]
  },
  {
   "cell_type": "code",
   "execution_count": null,
   "id": "anonymous-mathematics",
   "metadata": {},
   "outputs": [],
   "source": []
  },
  {
   "cell_type": "markdown",
   "id": "million-petroleum",
   "metadata": {},
   "source": [
    "### Q15 [6 points] Among MAILING CITIES that appear at least 50 times, what is the fraction of rows for which the MAILING ADDRESS contains the string \"POST OFFICE BOX\"?"
   ]
  },
  {
   "cell_type": "code",
   "execution_count": null,
   "id": "nuclear-framework",
   "metadata": {},
   "outputs": [],
   "source": []
  },
  {
   "cell_type": "markdown",
   "id": "logical-operation",
   "metadata": {},
   "source": [
    "### Q16 [6 points] Business chains\n",
    "\n",
    "* Find all BUSINESS NAMEs that are associated with 6 or more unique non-missing LOCATIONs.\n",
    "* For each such BUSINESS NAME, print out a DataFrame with the index being the BUSINESS NAME and two columns:\n",
    "    * the number of unique cities in which the business operates, and\n",
    "    * the CITY with the maximum number of locations for this business (you need not consider unique locations here)."
   ]
  },
  {
   "cell_type": "code",
   "execution_count": null,
   "id": "fatty-purchase",
   "metadata": {},
   "outputs": [],
   "source": []
  },
  {
   "cell_type": "markdown",
   "id": "egyptian-donor",
   "metadata": {},
   "source": [
    "### Q17 [6 points] Visualize Ventura\n",
    "\n",
    "* Find all rows where the STREET ADDRESS contains \"VENTURA BLVD\".\n",
    "* Look at the LOCATION column for these rows. These are in the form (latitude, longitude)\n",
    "* Drop any rows where the LOCATION is missing or equals \"(0.0, 0.0)\"\n",
    "* Extract the latitudes and longitudes. \n",
    "* Show a scatter plot of locations with latitude on the y-axis and longitude on the x-axis. These give a visualization of roads named Ventura Blvd."
   ]
  },
  {
   "cell_type": "code",
   "execution_count": null,
   "id": "quarterly-minority",
   "metadata": {},
   "outputs": [],
   "source": []
  },
  {
   "cell_type": "markdown",
   "id": "superb-seven",
   "metadata": {},
   "source": [
    "### Q18 [4 points] Plot the total number of rows for each month from 01/01/2000 to 01/01/2021."
   ]
  },
  {
   "cell_type": "code",
   "execution_count": null,
   "id": "proper-stuart",
   "metadata": {},
   "outputs": [],
   "source": []
  },
  {
   "cell_type": "markdown",
   "id": "attended-graphics",
   "metadata": {},
   "source": [
    "---\n",
    "\n",
    "### Autism Classification\n",
    "\n",
    "We will consider a dataset where each row is an adult who may be autistic (Class/ASD is YES). We will only need the columns named A1_Score to A10_Score. These are scores achieved on answers to different questions measuring mental acuity. A score of 1 is a correct answer, while 0 is a wrong answer."
   ]
  },
  {
   "cell_type": "code",
   "execution_count": 2,
   "id": "attached-closure",
   "metadata": {},
   "outputs": [
    {
     "data": {
      "text/plain": [
       "A1_Score                         1\n",
       "A2_Score                         1\n",
       "A3_Score                         1\n",
       "A4_Score                         1\n",
       "A5_Score                         0\n",
       "A6_Score                         0\n",
       "A7_Score                         1\n",
       "A8_Score                         1\n",
       "A9_Score                         0\n",
       "A10_Score                        0\n",
       "age                             26\n",
       "gender                           f\n",
       "ethnicity           White-European\n",
       "jaundice                        no\n",
       "austim                          no\n",
       "country_of_res     'United States'\n",
       "used_app_before                 no\n",
       "result                           6\n",
       "age_desc             '18 and more'\n",
       "relation                      Self\n",
       "Class/ASD                       NO\n",
       "Name: 0, dtype: object"
      ]
     },
     "execution_count": 2,
     "metadata": {},
     "output_type": "execute_result"
    }
   ],
   "source": [
    "df = pd.read_csv('Autism-Adult-Data.arff', skiprows=25, header=None, \\\n",
    "                 names=['A1_Score', 'A2_Score', 'A3_Score', 'A4_Score', 'A5_Score', 'A6_Score',\n",
    "                        'A7_Score', 'A8_Score', 'A9_Score', 'A10_Score', 'age',\n",
    "                        'gender', 'ethnicity', 'jaundice', 'austim', 'country_of_res',\n",
    "                        'used_app_before', 'result', 'age_desc', 'relation', 'Class/ASD'])\n",
    "df.iloc[0]"
   ]
  },
  {
   "cell_type": "markdown",
   "id": "earned-norman",
   "metadata": {},
   "source": [
    "### Q19 [3 points] Create a target column which is 1 if Class/ASD is YES, and 0 otherwise.\n",
    "\n",
    "Print out the baseline accuracy on this dataset."
   ]
  },
  {
   "cell_type": "code",
   "execution_count": null,
   "id": "female-wisdom",
   "metadata": {},
   "outputs": [],
   "source": []
  },
  {
   "cell_type": "markdown",
   "id": "civil-pricing",
   "metadata": {},
   "source": [
    "### Q20 [6 points] Minimum number of questions\n",
    "\n",
    "Calculate the average cross-validation accuracy for predicting the target using 10 different classifiers. Each classifier is a Nearest Neighbors classifier with K=15 nearest neighbors (all other settings can be set to their defaults), but with different features.\n",
    "* Classifier 1 uses A1_Score\n",
    "* Classifier 2 uses A1_Score and A2_Score\n",
    "* Classifier 3 uses A1_Score, A2_Score, and A3_Score\n",
    "* ...\n",
    "* Classifier 10 uses A1_Score, A2_Score, ..., A10_Score\n",
    "\n",
    "None of the classifiers use any of the other available columns such as age/gender/etc.\n",
    "\n",
    "Find the maximum cross-validation accuracy among these 10 classifiers.\n",
    "Then find out which classifiers achieve a cross-validation accuracy that is at least 95% of this maximum.\n",
    "Among these, print out which classifier uses the fewest features."
   ]
  },
  {
   "cell_type": "code",
   "execution_count": null,
   "id": "overhead-gather",
   "metadata": {},
   "outputs": [],
   "source": []
  }
 ],
 "metadata": {
  "kernelspec": {
   "display_name": "Python 3",
   "language": "python",
   "name": "python3"
  },
  "language_info": {
   "codemirror_mode": {
    "name": "ipython",
    "version": 3
   },
   "file_extension": ".py",
   "mimetype": "text/x-python",
   "name": "python",
   "nbconvert_exporter": "python",
   "pygments_lexer": "ipython3",
   "version": "3.7.9"
  }
 },
 "nbformat": 4,
 "nbformat_minor": 5
}
