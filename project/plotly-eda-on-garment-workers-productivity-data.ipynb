{
 "cells": [
  {
   "cell_type": "code",
   "execution_count": 1,
   "source": [
    "#importing libraries\n",
    "import numpy as np\n",
    "import pandas as pd \n",
    "import matplotlib.pyplot as plt\n",
    "import seaborn as sns\n",
    "\n",
    "import plotly_express as px\n",
    "import plotly.graph_objects as go\n",
    "import plotly.io as pio\n",
    "import plotly.figure_factory as ff\n",
    "from plotly.subplots import make_subplots\n",
    "\n",
    "from plotly.offline import plot, iplot,init_notebook_mode"
   ],
   "outputs": [],
   "metadata": {
    "execution": {
     "iopub.execute_input": "2021-04-10T14:15:00.190508Z",
     "iopub.status.busy": "2021-04-10T14:15:00.189883Z",
     "iopub.status.idle": "2021-04-10T14:15:04.270974Z",
     "shell.execute_reply": "2021-04-10T14:15:04.270192Z"
    },
    "papermill": {
     "duration": 4.127901,
     "end_time": "2021-04-10T14:15:04.271170",
     "exception": false,
     "start_time": "2021-04-10T14:15:00.143269",
     "status": "completed"
    },
    "tags": []
   }
  },
  {
   "cell_type": "code",
   "execution_count": 3,
   "source": [
    "data = pd.read_csv('../input/productivity-prediction-of-garment-employees/garments_worker_productivity.csv')\n",
    "data.head()"
   ],
   "outputs": [
    {
     "output_type": "execute_result",
     "data": {
      "text/plain": [
       "       date   quarter  department       day  team  targeted_productivity  \\\n",
       "0  1/1/2015  Quarter1      sweing  Thursday     8                   0.80   \n",
       "1  1/1/2015  Quarter1  finishing   Thursday     1                   0.75   \n",
       "2  1/1/2015  Quarter1      sweing  Thursday    11                   0.80   \n",
       "3  1/1/2015  Quarter1      sweing  Thursday    12                   0.80   \n",
       "4  1/1/2015  Quarter1      sweing  Thursday     6                   0.80   \n",
       "\n",
       "     smv     wip  over_time  incentive  idle_time  idle_men  \\\n",
       "0  26.16  1108.0       7080         98        0.0         0   \n",
       "1   3.94     NaN        960          0        0.0         0   \n",
       "2  11.41   968.0       3660         50        0.0         0   \n",
       "3  11.41   968.0       3660         50        0.0         0   \n",
       "4  25.90  1170.0       1920         50        0.0         0   \n",
       "\n",
       "   no_of_style_change  no_of_workers  actual_productivity  \n",
       "0                   0           59.0             0.940725  \n",
       "1                   0            8.0             0.886500  \n",
       "2                   0           30.5             0.800570  \n",
       "3                   0           30.5             0.800570  \n",
       "4                   0           56.0             0.800382  "
      ],
      "text/html": [
       "<div>\n",
       "<style scoped>\n",
       "    .dataframe tbody tr th:only-of-type {\n",
       "        vertical-align: middle;\n",
       "    }\n",
       "\n",
       "    .dataframe tbody tr th {\n",
       "        vertical-align: top;\n",
       "    }\n",
       "\n",
       "    .dataframe thead th {\n",
       "        text-align: right;\n",
       "    }\n",
       "</style>\n",
       "<table border=\"1\" class=\"dataframe\">\n",
       "  <thead>\n",
       "    <tr style=\"text-align: right;\">\n",
       "      <th></th>\n",
       "      <th>date</th>\n",
       "      <th>quarter</th>\n",
       "      <th>department</th>\n",
       "      <th>day</th>\n",
       "      <th>team</th>\n",
       "      <th>targeted_productivity</th>\n",
       "      <th>smv</th>\n",
       "      <th>wip</th>\n",
       "      <th>over_time</th>\n",
       "      <th>incentive</th>\n",
       "      <th>idle_time</th>\n",
       "      <th>idle_men</th>\n",
       "      <th>no_of_style_change</th>\n",
       "      <th>no_of_workers</th>\n",
       "      <th>actual_productivity</th>\n",
       "    </tr>\n",
       "  </thead>\n",
       "  <tbody>\n",
       "    <tr>\n",
       "      <th>0</th>\n",
       "      <td>1/1/2015</td>\n",
       "      <td>Quarter1</td>\n",
       "      <td>sweing</td>\n",
       "      <td>Thursday</td>\n",
       "      <td>8</td>\n",
       "      <td>0.80</td>\n",
       "      <td>26.16</td>\n",
       "      <td>1108.0</td>\n",
       "      <td>7080</td>\n",
       "      <td>98</td>\n",
       "      <td>0.0</td>\n",
       "      <td>0</td>\n",
       "      <td>0</td>\n",
       "      <td>59.0</td>\n",
       "      <td>0.940725</td>\n",
       "    </tr>\n",
       "    <tr>\n",
       "      <th>1</th>\n",
       "      <td>1/1/2015</td>\n",
       "      <td>Quarter1</td>\n",
       "      <td>finishing</td>\n",
       "      <td>Thursday</td>\n",
       "      <td>1</td>\n",
       "      <td>0.75</td>\n",
       "      <td>3.94</td>\n",
       "      <td>NaN</td>\n",
       "      <td>960</td>\n",
       "      <td>0</td>\n",
       "      <td>0.0</td>\n",
       "      <td>0</td>\n",
       "      <td>0</td>\n",
       "      <td>8.0</td>\n",
       "      <td>0.886500</td>\n",
       "    </tr>\n",
       "    <tr>\n",
       "      <th>2</th>\n",
       "      <td>1/1/2015</td>\n",
       "      <td>Quarter1</td>\n",
       "      <td>sweing</td>\n",
       "      <td>Thursday</td>\n",
       "      <td>11</td>\n",
       "      <td>0.80</td>\n",
       "      <td>11.41</td>\n",
       "      <td>968.0</td>\n",
       "      <td>3660</td>\n",
       "      <td>50</td>\n",
       "      <td>0.0</td>\n",
       "      <td>0</td>\n",
       "      <td>0</td>\n",
       "      <td>30.5</td>\n",
       "      <td>0.800570</td>\n",
       "    </tr>\n",
       "    <tr>\n",
       "      <th>3</th>\n",
       "      <td>1/1/2015</td>\n",
       "      <td>Quarter1</td>\n",
       "      <td>sweing</td>\n",
       "      <td>Thursday</td>\n",
       "      <td>12</td>\n",
       "      <td>0.80</td>\n",
       "      <td>11.41</td>\n",
       "      <td>968.0</td>\n",
       "      <td>3660</td>\n",
       "      <td>50</td>\n",
       "      <td>0.0</td>\n",
       "      <td>0</td>\n",
       "      <td>0</td>\n",
       "      <td>30.5</td>\n",
       "      <td>0.800570</td>\n",
       "    </tr>\n",
       "    <tr>\n",
       "      <th>4</th>\n",
       "      <td>1/1/2015</td>\n",
       "      <td>Quarter1</td>\n",
       "      <td>sweing</td>\n",
       "      <td>Thursday</td>\n",
       "      <td>6</td>\n",
       "      <td>0.80</td>\n",
       "      <td>25.90</td>\n",
       "      <td>1170.0</td>\n",
       "      <td>1920</td>\n",
       "      <td>50</td>\n",
       "      <td>0.0</td>\n",
       "      <td>0</td>\n",
       "      <td>0</td>\n",
       "      <td>56.0</td>\n",
       "      <td>0.800382</td>\n",
       "    </tr>\n",
       "  </tbody>\n",
       "</table>\n",
       "</div>"
      ]
     },
     "metadata": {},
     "execution_count": 3
    }
   ],
   "metadata": {
    "execution": {
     "iopub.execute_input": "2021-04-10T14:15:04.348368Z",
     "iopub.status.busy": "2021-04-10T14:15:04.347552Z",
     "iopub.status.idle": "2021-04-10T14:15:04.409493Z",
     "shell.execute_reply": "2021-04-10T14:15:04.410027Z"
    },
    "papermill": {
     "duration": 0.103443,
     "end_time": "2021-04-10T14:15:04.410211",
     "exception": false,
     "start_time": "2021-04-10T14:15:04.306768",
     "status": "completed"
    },
    "tags": []
   }
  },
  {
   "cell_type": "code",
   "execution_count": 8,
   "source": [
    "data.date.unique()"
   ],
   "outputs": [
    {
     "output_type": "execute_result",
     "data": {
      "text/plain": [
       "array(['1/1/2015', '1/3/2015', '1/4/2015', '1/5/2015', '1/6/2015',\n",
       "       '1/7/2015', '1/8/2015', '1/10/2015', '1/11/2015', '1/12/2015',\n",
       "       '1/13/2015', '1/14/2015', '1/15/2015', '1/17/2015', '1/18/2015',\n",
       "       '1/19/2015', '1/20/2015', '1/21/2015', '1/22/2015', '1/24/2015',\n",
       "       '1/25/2015', '1/26/2015', '1/27/2015', '1/28/2015', '1/29/2015',\n",
       "       '1/31/2015', '2/1/2015', '2/2/2015', '2/3/2015', '2/4/2015',\n",
       "       '2/5/2015', '2/7/2015', '2/8/2015', '2/9/2015', '2/10/2015',\n",
       "       '2/11/2015', '2/12/2015', '2/14/2015', '2/15/2015', '2/16/2015',\n",
       "       '2/17/2015', '2/18/2015', '2/19/2015', '2/22/2015', '2/23/2015',\n",
       "       '2/24/2015', '2/25/2015', '2/26/2015', '2/28/2015', '3/1/2015',\n",
       "       '3/2/2015', '3/3/2015', '3/4/2015', '3/5/2015', '3/7/2015',\n",
       "       '3/8/2015', '3/9/2015', '3/10/2015', '3/11/2015'], dtype=object)"
      ]
     },
     "metadata": {},
     "execution_count": 8
    }
   ],
   "metadata": {}
  },
  {
   "cell_type": "code",
   "execution_count": 12,
   "source": [
    "data[[\"date\",\"quarter\"]].drop_duplicates()"
   ],
   "outputs": [
    {
     "output_type": "execute_result",
     "data": {
      "text/plain": [
       "           date   quarter\n",
       "0      1/1/2015  Quarter1\n",
       "19     1/3/2015  Quarter1\n",
       "40     1/4/2015  Quarter1\n",
       "61     1/5/2015  Quarter1\n",
       "83     1/6/2015  Quarter1\n",
       "104    1/7/2015  Quarter1\n",
       "126    1/8/2015  Quarter2\n",
       "148   1/10/2015  Quarter2\n",
       "170   1/11/2015  Quarter2\n",
       "193   1/12/2015  Quarter2\n",
       "216   1/13/2015  Quarter2\n",
       "238   1/14/2015  Quarter2\n",
       "259   1/15/2015  Quarter3\n",
       "278   1/17/2015  Quarter3\n",
       "299   1/18/2015  Quarter3\n",
       "318   1/19/2015  Quarter3\n",
       "337   1/20/2015  Quarter3\n",
       "352   1/21/2015  Quarter3\n",
       "371   1/22/2015  Quarter4\n",
       "393   1/24/2015  Quarter4\n",
       "416   1/25/2015  Quarter4\n",
       "437   1/26/2015  Quarter4\n",
       "456   1/27/2015  Quarter4\n",
       "477   1/28/2015  Quarter4\n",
       "498   1/29/2015  Quarter5\n",
       "518   1/31/2015  Quarter5\n",
       "542    2/1/2015  Quarter1\n",
       "561    2/2/2015  Quarter1\n",
       "580    2/3/2015  Quarter1\n",
       "599    2/4/2015  Quarter1\n",
       "618    2/5/2015  Quarter1\n",
       "636    2/7/2015  Quarter1\n",
       "655    2/8/2015  Quarter2\n",
       "674    2/9/2015  Quarter2\n",
       "692   2/10/2015  Quarter2\n",
       "711   2/11/2015  Quarter2\n",
       "730   2/12/2015  Quarter2\n",
       "749   2/14/2015  Quarter2\n",
       "766   2/15/2015  Quarter3\n",
       "785   2/16/2015  Quarter3\n",
       "803   2/17/2015  Quarter3\n",
       "823   2/18/2015  Quarter3\n",
       "844   2/19/2015  Quarter3\n",
       "864   2/22/2015  Quarter4\n",
       "884   2/23/2015  Quarter4\n",
       "903   2/24/2015  Quarter4\n",
       "922   2/25/2015  Quarter4\n",
       "943   2/26/2015  Quarter4\n",
       "964   2/28/2015  Quarter4\n",
       "985    3/1/2015  Quarter1\n",
       "1005   3/2/2015  Quarter1\n",
       "1025   3/3/2015  Quarter1\n",
       "1047   3/4/2015  Quarter1\n",
       "1068   3/5/2015  Quarter1\n",
       "1087   3/7/2015  Quarter1\n",
       "1106   3/8/2015  Quarter2\n",
       "1128   3/9/2015  Quarter2\n",
       "1150  3/10/2015  Quarter2\n",
       "1173  3/11/2015  Quarter2"
      ],
      "text/html": [
       "<div>\n",
       "<style scoped>\n",
       "    .dataframe tbody tr th:only-of-type {\n",
       "        vertical-align: middle;\n",
       "    }\n",
       "\n",
       "    .dataframe tbody tr th {\n",
       "        vertical-align: top;\n",
       "    }\n",
       "\n",
       "    .dataframe thead th {\n",
       "        text-align: right;\n",
       "    }\n",
       "</style>\n",
       "<table border=\"1\" class=\"dataframe\">\n",
       "  <thead>\n",
       "    <tr style=\"text-align: right;\">\n",
       "      <th></th>\n",
       "      <th>date</th>\n",
       "      <th>quarter</th>\n",
       "    </tr>\n",
       "  </thead>\n",
       "  <tbody>\n",
       "    <tr>\n",
       "      <th>0</th>\n",
       "      <td>1/1/2015</td>\n",
       "      <td>Quarter1</td>\n",
       "    </tr>\n",
       "    <tr>\n",
       "      <th>19</th>\n",
       "      <td>1/3/2015</td>\n",
       "      <td>Quarter1</td>\n",
       "    </tr>\n",
       "    <tr>\n",
       "      <th>40</th>\n",
       "      <td>1/4/2015</td>\n",
       "      <td>Quarter1</td>\n",
       "    </tr>\n",
       "    <tr>\n",
       "      <th>61</th>\n",
       "      <td>1/5/2015</td>\n",
       "      <td>Quarter1</td>\n",
       "    </tr>\n",
       "    <tr>\n",
       "      <th>83</th>\n",
       "      <td>1/6/2015</td>\n",
       "      <td>Quarter1</td>\n",
       "    </tr>\n",
       "    <tr>\n",
       "      <th>104</th>\n",
       "      <td>1/7/2015</td>\n",
       "      <td>Quarter1</td>\n",
       "    </tr>\n",
       "    <tr>\n",
       "      <th>126</th>\n",
       "      <td>1/8/2015</td>\n",
       "      <td>Quarter2</td>\n",
       "    </tr>\n",
       "    <tr>\n",
       "      <th>148</th>\n",
       "      <td>1/10/2015</td>\n",
       "      <td>Quarter2</td>\n",
       "    </tr>\n",
       "    <tr>\n",
       "      <th>170</th>\n",
       "      <td>1/11/2015</td>\n",
       "      <td>Quarter2</td>\n",
       "    </tr>\n",
       "    <tr>\n",
       "      <th>193</th>\n",
       "      <td>1/12/2015</td>\n",
       "      <td>Quarter2</td>\n",
       "    </tr>\n",
       "    <tr>\n",
       "      <th>216</th>\n",
       "      <td>1/13/2015</td>\n",
       "      <td>Quarter2</td>\n",
       "    </tr>\n",
       "    <tr>\n",
       "      <th>238</th>\n",
       "      <td>1/14/2015</td>\n",
       "      <td>Quarter2</td>\n",
       "    </tr>\n",
       "    <tr>\n",
       "      <th>259</th>\n",
       "      <td>1/15/2015</td>\n",
       "      <td>Quarter3</td>\n",
       "    </tr>\n",
       "    <tr>\n",
       "      <th>278</th>\n",
       "      <td>1/17/2015</td>\n",
       "      <td>Quarter3</td>\n",
       "    </tr>\n",
       "    <tr>\n",
       "      <th>299</th>\n",
       "      <td>1/18/2015</td>\n",
       "      <td>Quarter3</td>\n",
       "    </tr>\n",
       "    <tr>\n",
       "      <th>318</th>\n",
       "      <td>1/19/2015</td>\n",
       "      <td>Quarter3</td>\n",
       "    </tr>\n",
       "    <tr>\n",
       "      <th>337</th>\n",
       "      <td>1/20/2015</td>\n",
       "      <td>Quarter3</td>\n",
       "    </tr>\n",
       "    <tr>\n",
       "      <th>352</th>\n",
       "      <td>1/21/2015</td>\n",
       "      <td>Quarter3</td>\n",
       "    </tr>\n",
       "    <tr>\n",
       "      <th>371</th>\n",
       "      <td>1/22/2015</td>\n",
       "      <td>Quarter4</td>\n",
       "    </tr>\n",
       "    <tr>\n",
       "      <th>393</th>\n",
       "      <td>1/24/2015</td>\n",
       "      <td>Quarter4</td>\n",
       "    </tr>\n",
       "    <tr>\n",
       "      <th>416</th>\n",
       "      <td>1/25/2015</td>\n",
       "      <td>Quarter4</td>\n",
       "    </tr>\n",
       "    <tr>\n",
       "      <th>437</th>\n",
       "      <td>1/26/2015</td>\n",
       "      <td>Quarter4</td>\n",
       "    </tr>\n",
       "    <tr>\n",
       "      <th>456</th>\n",
       "      <td>1/27/2015</td>\n",
       "      <td>Quarter4</td>\n",
       "    </tr>\n",
       "    <tr>\n",
       "      <th>477</th>\n",
       "      <td>1/28/2015</td>\n",
       "      <td>Quarter4</td>\n",
       "    </tr>\n",
       "    <tr>\n",
       "      <th>498</th>\n",
       "      <td>1/29/2015</td>\n",
       "      <td>Quarter5</td>\n",
       "    </tr>\n",
       "    <tr>\n",
       "      <th>518</th>\n",
       "      <td>1/31/2015</td>\n",
       "      <td>Quarter5</td>\n",
       "    </tr>\n",
       "    <tr>\n",
       "      <th>542</th>\n",
       "      <td>2/1/2015</td>\n",
       "      <td>Quarter1</td>\n",
       "    </tr>\n",
       "    <tr>\n",
       "      <th>561</th>\n",
       "      <td>2/2/2015</td>\n",
       "      <td>Quarter1</td>\n",
       "    </tr>\n",
       "    <tr>\n",
       "      <th>580</th>\n",
       "      <td>2/3/2015</td>\n",
       "      <td>Quarter1</td>\n",
       "    </tr>\n",
       "    <tr>\n",
       "      <th>599</th>\n",
       "      <td>2/4/2015</td>\n",
       "      <td>Quarter1</td>\n",
       "    </tr>\n",
       "    <tr>\n",
       "      <th>618</th>\n",
       "      <td>2/5/2015</td>\n",
       "      <td>Quarter1</td>\n",
       "    </tr>\n",
       "    <tr>\n",
       "      <th>636</th>\n",
       "      <td>2/7/2015</td>\n",
       "      <td>Quarter1</td>\n",
       "    </tr>\n",
       "    <tr>\n",
       "      <th>655</th>\n",
       "      <td>2/8/2015</td>\n",
       "      <td>Quarter2</td>\n",
       "    </tr>\n",
       "    <tr>\n",
       "      <th>674</th>\n",
       "      <td>2/9/2015</td>\n",
       "      <td>Quarter2</td>\n",
       "    </tr>\n",
       "    <tr>\n",
       "      <th>692</th>\n",
       "      <td>2/10/2015</td>\n",
       "      <td>Quarter2</td>\n",
       "    </tr>\n",
       "    <tr>\n",
       "      <th>711</th>\n",
       "      <td>2/11/2015</td>\n",
       "      <td>Quarter2</td>\n",
       "    </tr>\n",
       "    <tr>\n",
       "      <th>730</th>\n",
       "      <td>2/12/2015</td>\n",
       "      <td>Quarter2</td>\n",
       "    </tr>\n",
       "    <tr>\n",
       "      <th>749</th>\n",
       "      <td>2/14/2015</td>\n",
       "      <td>Quarter2</td>\n",
       "    </tr>\n",
       "    <tr>\n",
       "      <th>766</th>\n",
       "      <td>2/15/2015</td>\n",
       "      <td>Quarter3</td>\n",
       "    </tr>\n",
       "    <tr>\n",
       "      <th>785</th>\n",
       "      <td>2/16/2015</td>\n",
       "      <td>Quarter3</td>\n",
       "    </tr>\n",
       "    <tr>\n",
       "      <th>803</th>\n",
       "      <td>2/17/2015</td>\n",
       "      <td>Quarter3</td>\n",
       "    </tr>\n",
       "    <tr>\n",
       "      <th>823</th>\n",
       "      <td>2/18/2015</td>\n",
       "      <td>Quarter3</td>\n",
       "    </tr>\n",
       "    <tr>\n",
       "      <th>844</th>\n",
       "      <td>2/19/2015</td>\n",
       "      <td>Quarter3</td>\n",
       "    </tr>\n",
       "    <tr>\n",
       "      <th>864</th>\n",
       "      <td>2/22/2015</td>\n",
       "      <td>Quarter4</td>\n",
       "    </tr>\n",
       "    <tr>\n",
       "      <th>884</th>\n",
       "      <td>2/23/2015</td>\n",
       "      <td>Quarter4</td>\n",
       "    </tr>\n",
       "    <tr>\n",
       "      <th>903</th>\n",
       "      <td>2/24/2015</td>\n",
       "      <td>Quarter4</td>\n",
       "    </tr>\n",
       "    <tr>\n",
       "      <th>922</th>\n",
       "      <td>2/25/2015</td>\n",
       "      <td>Quarter4</td>\n",
       "    </tr>\n",
       "    <tr>\n",
       "      <th>943</th>\n",
       "      <td>2/26/2015</td>\n",
       "      <td>Quarter4</td>\n",
       "    </tr>\n",
       "    <tr>\n",
       "      <th>964</th>\n",
       "      <td>2/28/2015</td>\n",
       "      <td>Quarter4</td>\n",
       "    </tr>\n",
       "    <tr>\n",
       "      <th>985</th>\n",
       "      <td>3/1/2015</td>\n",
       "      <td>Quarter1</td>\n",
       "    </tr>\n",
       "    <tr>\n",
       "      <th>1005</th>\n",
       "      <td>3/2/2015</td>\n",
       "      <td>Quarter1</td>\n",
       "    </tr>\n",
       "    <tr>\n",
       "      <th>1025</th>\n",
       "      <td>3/3/2015</td>\n",
       "      <td>Quarter1</td>\n",
       "    </tr>\n",
       "    <tr>\n",
       "      <th>1047</th>\n",
       "      <td>3/4/2015</td>\n",
       "      <td>Quarter1</td>\n",
       "    </tr>\n",
       "    <tr>\n",
       "      <th>1068</th>\n",
       "      <td>3/5/2015</td>\n",
       "      <td>Quarter1</td>\n",
       "    </tr>\n",
       "    <tr>\n",
       "      <th>1087</th>\n",
       "      <td>3/7/2015</td>\n",
       "      <td>Quarter1</td>\n",
       "    </tr>\n",
       "    <tr>\n",
       "      <th>1106</th>\n",
       "      <td>3/8/2015</td>\n",
       "      <td>Quarter2</td>\n",
       "    </tr>\n",
       "    <tr>\n",
       "      <th>1128</th>\n",
       "      <td>3/9/2015</td>\n",
       "      <td>Quarter2</td>\n",
       "    </tr>\n",
       "    <tr>\n",
       "      <th>1150</th>\n",
       "      <td>3/10/2015</td>\n",
       "      <td>Quarter2</td>\n",
       "    </tr>\n",
       "    <tr>\n",
       "      <th>1173</th>\n",
       "      <td>3/11/2015</td>\n",
       "      <td>Quarter2</td>\n",
       "    </tr>\n",
       "  </tbody>\n",
       "</table>\n",
       "</div>"
      ]
     },
     "metadata": {},
     "execution_count": 12
    }
   ],
   "metadata": {}
  },
  {
   "cell_type": "code",
   "execution_count": 4,
   "source": [
    "df = data.copy()"
   ],
   "outputs": [],
   "metadata": {
    "execution": {
     "iopub.execute_input": "2021-04-10T14:15:04.487309Z",
     "iopub.status.busy": "2021-04-10T14:15:04.486600Z",
     "iopub.status.idle": "2021-04-10T14:15:04.489250Z",
     "shell.execute_reply": "2021-04-10T14:15:04.489776Z"
    },
    "papermill": {
     "duration": 0.044032,
     "end_time": "2021-04-10T14:15:04.489950",
     "exception": false,
     "start_time": "2021-04-10T14:15:04.445918",
     "status": "completed"
    },
    "tags": []
   }
  },
  {
   "cell_type": "code",
   "execution_count": 5,
   "source": [
    "df.shape"
   ],
   "outputs": [
    {
     "output_type": "execute_result",
     "data": {
      "text/plain": [
       "(1197, 15)"
      ]
     },
     "metadata": {},
     "execution_count": 5
    }
   ],
   "metadata": {
    "execution": {
     "iopub.execute_input": "2021-04-10T14:15:04.570210Z",
     "iopub.status.busy": "2021-04-10T14:15:04.569173Z",
     "iopub.status.idle": "2021-04-10T14:15:04.573276Z",
     "shell.execute_reply": "2021-04-10T14:15:04.572731Z"
    },
    "papermill": {
     "duration": 0.047359,
     "end_time": "2021-04-10T14:15:04.573411",
     "exception": false,
     "start_time": "2021-04-10T14:15:04.526052",
     "status": "completed"
    },
    "tags": []
   }
  },
  {
   "cell_type": "code",
   "execution_count": 6,
   "source": [
    "df.info()"
   ],
   "outputs": [
    {
     "output_type": "stream",
     "name": "stdout",
     "text": [
      "<class 'pandas.core.frame.DataFrame'>\n",
      "RangeIndex: 1197 entries, 0 to 1196\n",
      "Data columns (total 15 columns):\n",
      " #   Column                 Non-Null Count  Dtype  \n",
      "---  ------                 --------------  -----  \n",
      " 0   date                   1197 non-null   object \n",
      " 1   quarter                1197 non-null   object \n",
      " 2   department             1197 non-null   object \n",
      " 3   day                    1197 non-null   object \n",
      " 4   team                   1197 non-null   int64  \n",
      " 5   targeted_productivity  1197 non-null   float64\n",
      " 6   smv                    1197 non-null   float64\n",
      " 7   wip                    691 non-null    float64\n",
      " 8   over_time              1197 non-null   int64  \n",
      " 9   incentive              1197 non-null   int64  \n",
      " 10  idle_time              1197 non-null   float64\n",
      " 11  idle_men               1197 non-null   int64  \n",
      " 12  no_of_style_change     1197 non-null   int64  \n",
      " 13  no_of_workers          1197 non-null   float64\n",
      " 14  actual_productivity    1197 non-null   float64\n",
      "dtypes: float64(6), int64(5), object(4)\n",
      "memory usage: 140.4+ KB\n"
     ]
    }
   ],
   "metadata": {
    "execution": {
     "iopub.execute_input": "2021-04-10T14:15:04.666915Z",
     "iopub.status.busy": "2021-04-10T14:15:04.665967Z",
     "iopub.status.idle": "2021-04-10T14:15:04.670331Z",
     "shell.execute_reply": "2021-04-10T14:15:04.669693Z"
    },
    "papermill": {
     "duration": 0.060729,
     "end_time": "2021-04-10T14:15:04.670465",
     "exception": false,
     "start_time": "2021-04-10T14:15:04.609736",
     "status": "completed"
    },
    "tags": []
   }
  },
  {
   "cell_type": "markdown",
   "source": [
    "# Data Description\n",
    "1. The dataset contains 1197 rows and 15 columns\n",
    " \n",
    "Attribute Information:\n",
    "\n",
    "1. date : Date in MM-DD-YYYY\n",
    "2. day : Day of the Week\n",
    "3. quarter : A portion of the month. A month was divided into four quarters\n",
    "4. department : Associated department with the instance\n",
    "5. teamno : Associated team number with the instance\n",
    "6. noofworkers : Number of workers in each team \n",
    "7. noofstylechange : Number of changes in the style of a particular product\n",
    "8. targetedproductivity : Targeted productivity set by the Authority for each team for each day.\n",
    "9. smv : Standard Minute Value, it is the allocated time for a task \n",
    "10. wip : Work in progress. Includes the number of unfinished items for products \n",
    "11. overtime : Represents the amount of overtime by each team in minutes\n",
    "12. incentive : Represents the amount of financial incentive (in BDT) that enables or motivates a particular course of action.\n",
    "13. idletime : The amount of time when the production was interrupted due to several reasons \n",
    "14. idlemen : The number of workers who were idle due to production interruption\n",
    "15. actual_productivity : The actual % of productivity that was delivered by the workers. It ranges from 0-1.\n",
    "\n",
    "Date,quarter, department and day are object datatypes and rest are int or float types"
   ],
   "metadata": {
    "papermill": {
     "duration": 0.037636,
     "end_time": "2021-04-10T14:15:04.746021",
     "exception": false,
     "start_time": "2021-04-10T14:15:04.708385",
     "status": "completed"
    },
    "tags": []
   }
  },
  {
   "cell_type": "code",
   "execution_count": 6,
   "source": [
    "df.isna().sum()"
   ],
   "outputs": [
    {
     "output_type": "execute_result",
     "data": {
      "text/plain": [
       "date                       0\n",
       "quarter                    0\n",
       "department                 0\n",
       "day                        0\n",
       "team                       0\n",
       "targeted_productivity      0\n",
       "smv                        0\n",
       "wip                      506\n",
       "over_time                  0\n",
       "incentive                  0\n",
       "idle_time                  0\n",
       "idle_men                   0\n",
       "no_of_style_change         0\n",
       "no_of_workers              0\n",
       "actual_productivity        0\n",
       "dtype: int64"
      ]
     },
     "metadata": {},
     "execution_count": 6
    }
   ],
   "metadata": {
    "execution": {
     "iopub.execute_input": "2021-04-10T14:15:04.831479Z",
     "iopub.status.busy": "2021-04-10T14:15:04.830626Z",
     "iopub.status.idle": "2021-04-10T14:15:04.835356Z",
     "shell.execute_reply": "2021-04-10T14:15:04.835827Z"
    },
    "papermill": {
     "duration": 0.052146,
     "end_time": "2021-04-10T14:15:04.836007",
     "exception": false,
     "start_time": "2021-04-10T14:15:04.783861",
     "status": "completed"
    },
    "tags": []
   }
  },
  {
   "cell_type": "markdown",
   "source": [
    "# Data Cleaning - Feature engineering"
   ],
   "metadata": {
    "papermill": {
     "duration": 0.037387,
     "end_time": "2021-04-10T14:15:04.911521",
     "exception": false,
     "start_time": "2021-04-10T14:15:04.874134",
     "status": "completed"
    },
    "tags": []
   }
  },
  {
   "cell_type": "code",
   "execution_count": 13,
   "source": [
    "df['date'] = pd.to_datetime(df['date'])\n",
    "df['month_name'] = df['date'].dt.month_name() #create month name"
   ],
   "outputs": [],
   "metadata": {
    "execution": {
     "iopub.execute_input": "2021-04-10T14:15:05.006449Z",
     "iopub.status.busy": "2021-04-10T14:15:05.005805Z",
     "iopub.status.idle": "2021-04-10T14:15:05.009590Z",
     "shell.execute_reply": "2021-04-10T14:15:05.009048Z"
    },
    "papermill": {
     "duration": 0.060881,
     "end_time": "2021-04-10T14:15:05.009755",
     "exception": false,
     "start_time": "2021-04-10T14:15:04.948874",
     "status": "completed"
    },
    "tags": []
   }
  },
  {
   "cell_type": "code",
   "execution_count": 14,
   "source": [
    "df['overtime_in_hours'] = df['over_time'].apply(lambda x: x/60) #create a new feature which has overtime measured in hours"
   ],
   "outputs": [],
   "metadata": {
    "execution": {
     "iopub.execute_input": "2021-04-10T14:15:05.094428Z",
     "iopub.status.busy": "2021-04-10T14:15:05.093775Z",
     "iopub.status.idle": "2021-04-10T14:15:05.097125Z",
     "shell.execute_reply": "2021-04-10T14:15:05.096506Z"
    },
    "papermill": {
     "duration": 0.048571,
     "end_time": "2021-04-10T14:15:05.097269",
     "exception": false,
     "start_time": "2021-04-10T14:15:05.048698",
     "status": "completed"
    },
    "tags": []
   }
  },
  {
   "cell_type": "code",
   "execution_count": 15,
   "source": [
    "df['quarter'].value_counts()"
   ],
   "outputs": [
    {
     "output_type": "execute_result",
     "data": {
      "text/plain": [
       "Quarter1    360\n",
       "Quarter2    335\n",
       "Quarter4    248\n",
       "Quarter3    210\n",
       "Quarter5     44\n",
       "Name: quarter, dtype: int64"
      ]
     },
     "metadata": {},
     "execution_count": 15
    }
   ],
   "metadata": {
    "execution": {
     "iopub.execute_input": "2021-04-10T14:15:05.182135Z",
     "iopub.status.busy": "2021-04-10T14:15:05.181047Z",
     "iopub.status.idle": "2021-04-10T14:15:05.185485Z",
     "shell.execute_reply": "2021-04-10T14:15:05.184955Z"
    },
    "papermill": {
     "duration": 0.051192,
     "end_time": "2021-04-10T14:15:05.185629",
     "exception": false,
     "start_time": "2021-04-10T14:15:05.134437",
     "status": "completed"
    },
    "tags": []
   }
  },
  {
   "cell_type": "code",
   "execution_count": 16,
   "source": [
    "df['department'].value_counts().index.to_list() #We can see there is an extra space, which led to 3 categories, we'll fix it and also fix the spelling of sewing"
   ],
   "outputs": [
    {
     "output_type": "execute_result",
     "data": {
      "text/plain": [
       "['sweing', 'finishing ', 'finishing']"
      ]
     },
     "metadata": {},
     "execution_count": 16
    }
   ],
   "metadata": {
    "execution": {
     "iopub.execute_input": "2021-04-10T14:15:05.269736Z",
     "iopub.status.busy": "2021-04-10T14:15:05.269005Z",
     "iopub.status.idle": "2021-04-10T14:15:05.273100Z",
     "shell.execute_reply": "2021-04-10T14:15:05.272478Z"
    },
    "papermill": {
     "duration": 0.049329,
     "end_time": "2021-04-10T14:15:05.273234",
     "exception": false,
     "start_time": "2021-04-10T14:15:05.223905",
     "status": "completed"
    },
    "tags": []
   }
  },
  {
   "cell_type": "code",
   "execution_count": 17,
   "source": [
    "df['department'] = df['department'].apply(lambda x: 'finishing' if x == ('finishing ' or 'finishing' ) else 'sewing' )"
   ],
   "outputs": [],
   "metadata": {
    "execution": {
     "iopub.execute_input": "2021-04-10T14:15:05.356800Z",
     "iopub.status.busy": "2021-04-10T14:15:05.356115Z",
     "iopub.status.idle": "2021-04-10T14:15:05.359282Z",
     "shell.execute_reply": "2021-04-10T14:15:05.358573Z"
    },
    "papermill": {
     "duration": 0.048119,
     "end_time": "2021-04-10T14:15:05.359421",
     "exception": false,
     "start_time": "2021-04-10T14:15:05.311302",
     "status": "completed"
    },
    "tags": []
   }
  },
  {
   "cell_type": "code",
   "execution_count": 18,
   "source": [
    "df['department'].value_counts().index.to_list()"
   ],
   "outputs": [
    {
     "output_type": "execute_result",
     "data": {
      "text/plain": [
       "['sewing', 'finishing']"
      ]
     },
     "metadata": {},
     "execution_count": 18
    }
   ],
   "metadata": {
    "execution": {
     "iopub.execute_input": "2021-04-10T14:15:05.445751Z",
     "iopub.status.busy": "2021-04-10T14:15:05.445020Z",
     "iopub.status.idle": "2021-04-10T14:15:05.447957Z",
     "shell.execute_reply": "2021-04-10T14:15:05.448409Z"
    },
    "papermill": {
     "duration": 0.049153,
     "end_time": "2021-04-10T14:15:05.448581",
     "exception": false,
     "start_time": "2021-04-10T14:15:05.399428",
     "status": "completed"
    },
    "tags": []
   }
  },
  {
   "cell_type": "code",
   "execution_count": 19,
   "source": [
    "df['day'].value_counts() #Friday is not a working day"
   ],
   "outputs": [
    {
     "output_type": "execute_result",
     "data": {
      "text/plain": [
       "Wednesday    208\n",
       "Sunday       203\n",
       "Tuesday      201\n",
       "Thursday     199\n",
       "Monday       199\n",
       "Saturday     187\n",
       "Name: day, dtype: int64"
      ]
     },
     "metadata": {},
     "execution_count": 19
    }
   ],
   "metadata": {
    "execution": {
     "iopub.execute_input": "2021-04-10T14:15:05.530552Z",
     "iopub.status.busy": "2021-04-10T14:15:05.529886Z",
     "iopub.status.idle": "2021-04-10T14:15:05.538147Z",
     "shell.execute_reply": "2021-04-10T14:15:05.537566Z"
    },
    "papermill": {
     "duration": 0.050722,
     "end_time": "2021-04-10T14:15:05.538296",
     "exception": false,
     "start_time": "2021-04-10T14:15:05.487574",
     "status": "completed"
    },
    "tags": []
   }
  },
  {
   "cell_type": "code",
   "execution_count": 20,
   "source": [
    "dept = df.department.value_counts().reset_index()\n",
    "dept.rename(columns = {'index':'department', 'department':'total_num'},inplace=True)\n",
    "dept"
   ],
   "outputs": [
    {
     "output_type": "execute_result",
     "data": {
      "text/plain": [
       "  department  total_num\n",
       "0     sewing        940\n",
       "1  finishing        257"
      ],
      "text/html": [
       "<div>\n",
       "<style scoped>\n",
       "    .dataframe tbody tr th:only-of-type {\n",
       "        vertical-align: middle;\n",
       "    }\n",
       "\n",
       "    .dataframe tbody tr th {\n",
       "        vertical-align: top;\n",
       "    }\n",
       "\n",
       "    .dataframe thead th {\n",
       "        text-align: right;\n",
       "    }\n",
       "</style>\n",
       "<table border=\"1\" class=\"dataframe\">\n",
       "  <thead>\n",
       "    <tr style=\"text-align: right;\">\n",
       "      <th></th>\n",
       "      <th>department</th>\n",
       "      <th>total_num</th>\n",
       "    </tr>\n",
       "  </thead>\n",
       "  <tbody>\n",
       "    <tr>\n",
       "      <th>0</th>\n",
       "      <td>sewing</td>\n",
       "      <td>940</td>\n",
       "    </tr>\n",
       "    <tr>\n",
       "      <th>1</th>\n",
       "      <td>finishing</td>\n",
       "      <td>257</td>\n",
       "    </tr>\n",
       "  </tbody>\n",
       "</table>\n",
       "</div>"
      ]
     },
     "metadata": {},
     "execution_count": 20
    }
   ],
   "metadata": {
    "execution": {
     "iopub.execute_input": "2021-04-10T14:15:05.630908Z",
     "iopub.status.busy": "2021-04-10T14:15:05.630150Z",
     "iopub.status.idle": "2021-04-10T14:15:05.633609Z",
     "shell.execute_reply": "2021-04-10T14:15:05.634139Z"
    },
    "papermill": {
     "duration": 0.055859,
     "end_time": "2021-04-10T14:15:05.634326",
     "exception": false,
     "start_time": "2021-04-10T14:15:05.578467",
     "status": "completed"
    },
    "tags": []
   }
  },
  {
   "cell_type": "markdown",
   "source": [
    "# Univariate analysis of categorical variables"
   ],
   "metadata": {
    "papermill": {
     "duration": 0.04005,
     "end_time": "2021-04-10T14:15:05.714293",
     "exception": false,
     "start_time": "2021-04-10T14:15:05.674243",
     "status": "completed"
    },
    "tags": []
   }
  },
  {
   "cell_type": "code",
   "execution_count": 21,
   "source": [
    "fig = go.Figure(data=[go.Pie(labels=dept.department.to_list(),\n",
    "                             values=dept.total_num.to_list())])\n",
    "fig.update_traces(hoverinfo='label+percent', textinfo='value', textfont_size=20,\n",
    "                  marker=dict(colors=['green', 'yellow'], line=dict(color='#000000', width=2)))\n",
    "fig.show()"
   ],
   "outputs": [
    {
     "output_type": "display_data",
     "data": {
      "application/vnd.plotly.v1+json": {
       "config": {
        "plotlyServerURL": "https://plot.ly"
       },
       "data": [
        {
         "hoverinfo": "label+percent",
         "labels": [
          "sewing",
          "finishing"
         ],
         "marker": {
          "colors": [
           "green",
           "yellow"
          ],
          "line": {
           "color": "#000000",
           "width": 2
          }
         },
         "textfont": {
          "size": 20
         },
         "textinfo": "value",
         "type": "pie",
         "values": [
          940,
          257
         ]
        }
       ],
       "layout": {
        "template": {
         "data": {
          "bar": [
           {
            "error_x": {
             "color": "#2a3f5f"
            },
            "error_y": {
             "color": "#2a3f5f"
            },
            "marker": {
             "line": {
              "color": "#E5ECF6",
              "width": 0.5
             },
             "pattern": {
              "fillmode": "overlay",
              "size": 10,
              "solidity": 0.2
             }
            },
            "type": "bar"
           }
          ],
          "barpolar": [
           {
            "marker": {
             "line": {
              "color": "#E5ECF6",
              "width": 0.5
             },
             "pattern": {
              "fillmode": "overlay",
              "size": 10,
              "solidity": 0.2
             }
            },
            "type": "barpolar"
           }
          ],
          "carpet": [
           {
            "aaxis": {
             "endlinecolor": "#2a3f5f",
             "gridcolor": "white",
             "linecolor": "white",
             "minorgridcolor": "white",
             "startlinecolor": "#2a3f5f"
            },
            "baxis": {
             "endlinecolor": "#2a3f5f",
             "gridcolor": "white",
             "linecolor": "white",
             "minorgridcolor": "white",
             "startlinecolor": "#2a3f5f"
            },
            "type": "carpet"
           }
          ],
          "choropleth": [
           {
            "colorbar": {
             "outlinewidth": 0,
             "ticks": ""
            },
            "type": "choropleth"
           }
          ],
          "contour": [
           {
            "colorbar": {
             "outlinewidth": 0,
             "ticks": ""
            },
            "colorscale": [
             [
              0,
              "#0d0887"
             ],
             [
              0.1111111111111111,
              "#46039f"
             ],
             [
              0.2222222222222222,
              "#7201a8"
             ],
             [
              0.3333333333333333,
              "#9c179e"
             ],
             [
              0.4444444444444444,
              "#bd3786"
             ],
             [
              0.5555555555555556,
              "#d8576b"
             ],
             [
              0.6666666666666666,
              "#ed7953"
             ],
             [
              0.7777777777777778,
              "#fb9f3a"
             ],
             [
              0.8888888888888888,
              "#fdca26"
             ],
             [
              1,
              "#f0f921"
             ]
            ],
            "type": "contour"
           }
          ],
          "contourcarpet": [
           {
            "colorbar": {
             "outlinewidth": 0,
             "ticks": ""
            },
            "type": "contourcarpet"
           }
          ],
          "heatmap": [
           {
            "colorbar": {
             "outlinewidth": 0,
             "ticks": ""
            },
            "colorscale": [
             [
              0,
              "#0d0887"
             ],
             [
              0.1111111111111111,
              "#46039f"
             ],
             [
              0.2222222222222222,
              "#7201a8"
             ],
             [
              0.3333333333333333,
              "#9c179e"
             ],
             [
              0.4444444444444444,
              "#bd3786"
             ],
             [
              0.5555555555555556,
              "#d8576b"
             ],
             [
              0.6666666666666666,
              "#ed7953"
             ],
             [
              0.7777777777777778,
              "#fb9f3a"
             ],
             [
              0.8888888888888888,
              "#fdca26"
             ],
             [
              1,
              "#f0f921"
             ]
            ],
            "type": "heatmap"
           }
          ],
          "heatmapgl": [
           {
            "colorbar": {
             "outlinewidth": 0,
             "ticks": ""
            },
            "colorscale": [
             [
              0,
              "#0d0887"
             ],
             [
              0.1111111111111111,
              "#46039f"
             ],
             [
              0.2222222222222222,
              "#7201a8"
             ],
             [
              0.3333333333333333,
              "#9c179e"
             ],
             [
              0.4444444444444444,
              "#bd3786"
             ],
             [
              0.5555555555555556,
              "#d8576b"
             ],
             [
              0.6666666666666666,
              "#ed7953"
             ],
             [
              0.7777777777777778,
              "#fb9f3a"
             ],
             [
              0.8888888888888888,
              "#fdca26"
             ],
             [
              1,
              "#f0f921"
             ]
            ],
            "type": "heatmapgl"
           }
          ],
          "histogram": [
           {
            "marker": {
             "pattern": {
              "fillmode": "overlay",
              "size": 10,
              "solidity": 0.2
             }
            },
            "type": "histogram"
           }
          ],
          "histogram2d": [
           {
            "colorbar": {
             "outlinewidth": 0,
             "ticks": ""
            },
            "colorscale": [
             [
              0,
              "#0d0887"
             ],
             [
              0.1111111111111111,
              "#46039f"
             ],
             [
              0.2222222222222222,
              "#7201a8"
             ],
             [
              0.3333333333333333,
              "#9c179e"
             ],
             [
              0.4444444444444444,
              "#bd3786"
             ],
             [
              0.5555555555555556,
              "#d8576b"
             ],
             [
              0.6666666666666666,
              "#ed7953"
             ],
             [
              0.7777777777777778,
              "#fb9f3a"
             ],
             [
              0.8888888888888888,
              "#fdca26"
             ],
             [
              1,
              "#f0f921"
             ]
            ],
            "type": "histogram2d"
           }
          ],
          "histogram2dcontour": [
           {
            "colorbar": {
             "outlinewidth": 0,
             "ticks": ""
            },
            "colorscale": [
             [
              0,
              "#0d0887"
             ],
             [
              0.1111111111111111,
              "#46039f"
             ],
             [
              0.2222222222222222,
              "#7201a8"
             ],
             [
              0.3333333333333333,
              "#9c179e"
             ],
             [
              0.4444444444444444,
              "#bd3786"
             ],
             [
              0.5555555555555556,
              "#d8576b"
             ],
             [
              0.6666666666666666,
              "#ed7953"
             ],
             [
              0.7777777777777778,
              "#fb9f3a"
             ],
             [
              0.8888888888888888,
              "#fdca26"
             ],
             [
              1,
              "#f0f921"
             ]
            ],
            "type": "histogram2dcontour"
           }
          ],
          "mesh3d": [
           {
            "colorbar": {
             "outlinewidth": 0,
             "ticks": ""
            },
            "type": "mesh3d"
           }
          ],
          "parcoords": [
           {
            "line": {
             "colorbar": {
              "outlinewidth": 0,
              "ticks": ""
             }
            },
            "type": "parcoords"
           }
          ],
          "pie": [
           {
            "automargin": true,
            "type": "pie"
           }
          ],
          "scatter": [
           {
            "marker": {
             "colorbar": {
              "outlinewidth": 0,
              "ticks": ""
             }
            },
            "type": "scatter"
           }
          ],
          "scatter3d": [
           {
            "line": {
             "colorbar": {
              "outlinewidth": 0,
              "ticks": ""
             }
            },
            "marker": {
             "colorbar": {
              "outlinewidth": 0,
              "ticks": ""
             }
            },
            "type": "scatter3d"
           }
          ],
          "scattercarpet": [
           {
            "marker": {
             "colorbar": {
              "outlinewidth": 0,
              "ticks": ""
             }
            },
            "type": "scattercarpet"
           }
          ],
          "scattergeo": [
           {
            "marker": {
             "colorbar": {
              "outlinewidth": 0,
              "ticks": ""
             }
            },
            "type": "scattergeo"
           }
          ],
          "scattergl": [
           {
            "marker": {
             "colorbar": {
              "outlinewidth": 0,
              "ticks": ""
             }
            },
            "type": "scattergl"
           }
          ],
          "scattermapbox": [
           {
            "marker": {
             "colorbar": {
              "outlinewidth": 0,
              "ticks": ""
             }
            },
            "type": "scattermapbox"
           }
          ],
          "scatterpolar": [
           {
            "marker": {
             "colorbar": {
              "outlinewidth": 0,
              "ticks": ""
             }
            },
            "type": "scatterpolar"
           }
          ],
          "scatterpolargl": [
           {
            "marker": {
             "colorbar": {
              "outlinewidth": 0,
              "ticks": ""
             }
            },
            "type": "scatterpolargl"
           }
          ],
          "scatterternary": [
           {
            "marker": {
             "colorbar": {
              "outlinewidth": 0,
              "ticks": ""
             }
            },
            "type": "scatterternary"
           }
          ],
          "surface": [
           {
            "colorbar": {
             "outlinewidth": 0,
             "ticks": ""
            },
            "colorscale": [
             [
              0,
              "#0d0887"
             ],
             [
              0.1111111111111111,
              "#46039f"
             ],
             [
              0.2222222222222222,
              "#7201a8"
             ],
             [
              0.3333333333333333,
              "#9c179e"
             ],
             [
              0.4444444444444444,
              "#bd3786"
             ],
             [
              0.5555555555555556,
              "#d8576b"
             ],
             [
              0.6666666666666666,
              "#ed7953"
             ],
             [
              0.7777777777777778,
              "#fb9f3a"
             ],
             [
              0.8888888888888888,
              "#fdca26"
             ],
             [
              1,
              "#f0f921"
             ]
            ],
            "type": "surface"
           }
          ],
          "table": [
           {
            "cells": {
             "fill": {
              "color": "#EBF0F8"
             },
             "line": {
              "color": "white"
             }
            },
            "header": {
             "fill": {
              "color": "#C8D4E3"
             },
             "line": {
              "color": "white"
             }
            },
            "type": "table"
           }
          ]
         },
         "layout": {
          "annotationdefaults": {
           "arrowcolor": "#2a3f5f",
           "arrowhead": 0,
           "arrowwidth": 1
          },
          "autotypenumbers": "strict",
          "coloraxis": {
           "colorbar": {
            "outlinewidth": 0,
            "ticks": ""
           }
          },
          "colorscale": {
           "diverging": [
            [
             0,
             "#8e0152"
            ],
            [
             0.1,
             "#c51b7d"
            ],
            [
             0.2,
             "#de77ae"
            ],
            [
             0.3,
             "#f1b6da"
            ],
            [
             0.4,
             "#fde0ef"
            ],
            [
             0.5,
             "#f7f7f7"
            ],
            [
             0.6,
             "#e6f5d0"
            ],
            [
             0.7,
             "#b8e186"
            ],
            [
             0.8,
             "#7fbc41"
            ],
            [
             0.9,
             "#4d9221"
            ],
            [
             1,
             "#276419"
            ]
           ],
           "sequential": [
            [
             0,
             "#0d0887"
            ],
            [
             0.1111111111111111,
             "#46039f"
            ],
            [
             0.2222222222222222,
             "#7201a8"
            ],
            [
             0.3333333333333333,
             "#9c179e"
            ],
            [
             0.4444444444444444,
             "#bd3786"
            ],
            [
             0.5555555555555556,
             "#d8576b"
            ],
            [
             0.6666666666666666,
             "#ed7953"
            ],
            [
             0.7777777777777778,
             "#fb9f3a"
            ],
            [
             0.8888888888888888,
             "#fdca26"
            ],
            [
             1,
             "#f0f921"
            ]
           ],
           "sequentialminus": [
            [
             0,
             "#0d0887"
            ],
            [
             0.1111111111111111,
             "#46039f"
            ],
            [
             0.2222222222222222,
             "#7201a8"
            ],
            [
             0.3333333333333333,
             "#9c179e"
            ],
            [
             0.4444444444444444,
             "#bd3786"
            ],
            [
             0.5555555555555556,
             "#d8576b"
            ],
            [
             0.6666666666666666,
             "#ed7953"
            ],
            [
             0.7777777777777778,
             "#fb9f3a"
            ],
            [
             0.8888888888888888,
             "#fdca26"
            ],
            [
             1,
             "#f0f921"
            ]
           ]
          },
          "colorway": [
           "#636efa",
           "#EF553B",
           "#00cc96",
           "#ab63fa",
           "#FFA15A",
           "#19d3f3",
           "#FF6692",
           "#B6E880",
           "#FF97FF",
           "#FECB52"
          ],
          "font": {
           "color": "#2a3f5f"
          },
          "geo": {
           "bgcolor": "white",
           "lakecolor": "white",
           "landcolor": "#E5ECF6",
           "showlakes": true,
           "showland": true,
           "subunitcolor": "white"
          },
          "hoverlabel": {
           "align": "left"
          },
          "hovermode": "closest",
          "mapbox": {
           "style": "light"
          },
          "paper_bgcolor": "white",
          "plot_bgcolor": "#E5ECF6",
          "polar": {
           "angularaxis": {
            "gridcolor": "white",
            "linecolor": "white",
            "ticks": ""
           },
           "bgcolor": "#E5ECF6",
           "radialaxis": {
            "gridcolor": "white",
            "linecolor": "white",
            "ticks": ""
           }
          },
          "scene": {
           "xaxis": {
            "backgroundcolor": "#E5ECF6",
            "gridcolor": "white",
            "gridwidth": 2,
            "linecolor": "white",
            "showbackground": true,
            "ticks": "",
            "zerolinecolor": "white"
           },
           "yaxis": {
            "backgroundcolor": "#E5ECF6",
            "gridcolor": "white",
            "gridwidth": 2,
            "linecolor": "white",
            "showbackground": true,
            "ticks": "",
            "zerolinecolor": "white"
           },
           "zaxis": {
            "backgroundcolor": "#E5ECF6",
            "gridcolor": "white",
            "gridwidth": 2,
            "linecolor": "white",
            "showbackground": true,
            "ticks": "",
            "zerolinecolor": "white"
           }
          },
          "shapedefaults": {
           "line": {
            "color": "#2a3f5f"
           }
          },
          "ternary": {
           "aaxis": {
            "gridcolor": "white",
            "linecolor": "white",
            "ticks": ""
           },
           "baxis": {
            "gridcolor": "white",
            "linecolor": "white",
            "ticks": ""
           },
           "bgcolor": "#E5ECF6",
           "caxis": {
            "gridcolor": "white",
            "linecolor": "white",
            "ticks": ""
           }
          },
          "title": {
           "x": 0.05
          },
          "xaxis": {
           "automargin": true,
           "gridcolor": "white",
           "linecolor": "white",
           "ticks": "",
           "title": {
            "standoff": 15
           },
           "zerolinecolor": "white",
           "zerolinewidth": 2
          },
          "yaxis": {
           "automargin": true,
           "gridcolor": "white",
           "linecolor": "white",
           "ticks": "",
           "title": {
            "standoff": 15
           },
           "zerolinecolor": "white",
           "zerolinewidth": 2
          }
         }
        }
       }
      }
     },
     "metadata": {}
    }
   ],
   "metadata": {
    "execution": {
     "iopub.execute_input": "2021-04-10T14:15:05.798078Z",
     "iopub.status.busy": "2021-04-10T14:15:05.797089Z",
     "iopub.status.idle": "2021-04-10T14:15:05.926437Z",
     "shell.execute_reply": "2021-04-10T14:15:05.925780Z"
    },
    "papermill": {
     "duration": 0.172495,
     "end_time": "2021-04-10T14:15:05.926574",
     "exception": false,
     "start_time": "2021-04-10T14:15:05.754079",
     "status": "completed"
    },
    "tags": []
   }
  },
  {
   "cell_type": "code",
   "execution_count": 22,
   "source": [
    "qdf = df['quarter'].value_counts().reset_index()\n",
    "qdf.rename(columns={'index': 'quarters', 'quarter': 'days_in_each_quarter'}, inplace=True)\n",
    "fig = go.Figure(data=[go.Pie(labels=qdf.quarters.to_list(), values=qdf.days_in_each_quarter.to_list(), pull=[0, 0, 0, 0, 0.4], hole=.3)])\n",
    "fig.show()"
   ],
   "outputs": [
    {
     "output_type": "display_data",
     "data": {
      "application/vnd.plotly.v1+json": {
       "config": {
        "plotlyServerURL": "https://plot.ly"
       },
       "data": [
        {
         "hole": 0.3,
         "labels": [
          "Quarter1",
          "Quarter2",
          "Quarter4",
          "Quarter3",
          "Quarter5"
         ],
         "pull": [
          0,
          0,
          0,
          0,
          0.4
         ],
         "type": "pie",
         "values": [
          360,
          335,
          248,
          210,
          44
         ]
        }
       ],
       "layout": {
        "template": {
         "data": {
          "bar": [
           {
            "error_x": {
             "color": "#2a3f5f"
            },
            "error_y": {
             "color": "#2a3f5f"
            },
            "marker": {
             "line": {
              "color": "#E5ECF6",
              "width": 0.5
             },
             "pattern": {
              "fillmode": "overlay",
              "size": 10,
              "solidity": 0.2
             }
            },
            "type": "bar"
           }
          ],
          "barpolar": [
           {
            "marker": {
             "line": {
              "color": "#E5ECF6",
              "width": 0.5
             },
             "pattern": {
              "fillmode": "overlay",
              "size": 10,
              "solidity": 0.2
             }
            },
            "type": "barpolar"
           }
          ],
          "carpet": [
           {
            "aaxis": {
             "endlinecolor": "#2a3f5f",
             "gridcolor": "white",
             "linecolor": "white",
             "minorgridcolor": "white",
             "startlinecolor": "#2a3f5f"
            },
            "baxis": {
             "endlinecolor": "#2a3f5f",
             "gridcolor": "white",
             "linecolor": "white",
             "minorgridcolor": "white",
             "startlinecolor": "#2a3f5f"
            },
            "type": "carpet"
           }
          ],
          "choropleth": [
           {
            "colorbar": {
             "outlinewidth": 0,
             "ticks": ""
            },
            "type": "choropleth"
           }
          ],
          "contour": [
           {
            "colorbar": {
             "outlinewidth": 0,
             "ticks": ""
            },
            "colorscale": [
             [
              0,
              "#0d0887"
             ],
             [
              0.1111111111111111,
              "#46039f"
             ],
             [
              0.2222222222222222,
              "#7201a8"
             ],
             [
              0.3333333333333333,
              "#9c179e"
             ],
             [
              0.4444444444444444,
              "#bd3786"
             ],
             [
              0.5555555555555556,
              "#d8576b"
             ],
             [
              0.6666666666666666,
              "#ed7953"
             ],
             [
              0.7777777777777778,
              "#fb9f3a"
             ],
             [
              0.8888888888888888,
              "#fdca26"
             ],
             [
              1,
              "#f0f921"
             ]
            ],
            "type": "contour"
           }
          ],
          "contourcarpet": [
           {
            "colorbar": {
             "outlinewidth": 0,
             "ticks": ""
            },
            "type": "contourcarpet"
           }
          ],
          "heatmap": [
           {
            "colorbar": {
             "outlinewidth": 0,
             "ticks": ""
            },
            "colorscale": [
             [
              0,
              "#0d0887"
             ],
             [
              0.1111111111111111,
              "#46039f"
             ],
             [
              0.2222222222222222,
              "#7201a8"
             ],
             [
              0.3333333333333333,
              "#9c179e"
             ],
             [
              0.4444444444444444,
              "#bd3786"
             ],
             [
              0.5555555555555556,
              "#d8576b"
             ],
             [
              0.6666666666666666,
              "#ed7953"
             ],
             [
              0.7777777777777778,
              "#fb9f3a"
             ],
             [
              0.8888888888888888,
              "#fdca26"
             ],
             [
              1,
              "#f0f921"
             ]
            ],
            "type": "heatmap"
           }
          ],
          "heatmapgl": [
           {
            "colorbar": {
             "outlinewidth": 0,
             "ticks": ""
            },
            "colorscale": [
             [
              0,
              "#0d0887"
             ],
             [
              0.1111111111111111,
              "#46039f"
             ],
             [
              0.2222222222222222,
              "#7201a8"
             ],
             [
              0.3333333333333333,
              "#9c179e"
             ],
             [
              0.4444444444444444,
              "#bd3786"
             ],
             [
              0.5555555555555556,
              "#d8576b"
             ],
             [
              0.6666666666666666,
              "#ed7953"
             ],
             [
              0.7777777777777778,
              "#fb9f3a"
             ],
             [
              0.8888888888888888,
              "#fdca26"
             ],
             [
              1,
              "#f0f921"
             ]
            ],
            "type": "heatmapgl"
           }
          ],
          "histogram": [
           {
            "marker": {
             "pattern": {
              "fillmode": "overlay",
              "size": 10,
              "solidity": 0.2
             }
            },
            "type": "histogram"
           }
          ],
          "histogram2d": [
           {
            "colorbar": {
             "outlinewidth": 0,
             "ticks": ""
            },
            "colorscale": [
             [
              0,
              "#0d0887"
             ],
             [
              0.1111111111111111,
              "#46039f"
             ],
             [
              0.2222222222222222,
              "#7201a8"
             ],
             [
              0.3333333333333333,
              "#9c179e"
             ],
             [
              0.4444444444444444,
              "#bd3786"
             ],
             [
              0.5555555555555556,
              "#d8576b"
             ],
             [
              0.6666666666666666,
              "#ed7953"
             ],
             [
              0.7777777777777778,
              "#fb9f3a"
             ],
             [
              0.8888888888888888,
              "#fdca26"
             ],
             [
              1,
              "#f0f921"
             ]
            ],
            "type": "histogram2d"
           }
          ],
          "histogram2dcontour": [
           {
            "colorbar": {
             "outlinewidth": 0,
             "ticks": ""
            },
            "colorscale": [
             [
              0,
              "#0d0887"
             ],
             [
              0.1111111111111111,
              "#46039f"
             ],
             [
              0.2222222222222222,
              "#7201a8"
             ],
             [
              0.3333333333333333,
              "#9c179e"
             ],
             [
              0.4444444444444444,
              "#bd3786"
             ],
             [
              0.5555555555555556,
              "#d8576b"
             ],
             [
              0.6666666666666666,
              "#ed7953"
             ],
             [
              0.7777777777777778,
              "#fb9f3a"
             ],
             [
              0.8888888888888888,
              "#fdca26"
             ],
             [
              1,
              "#f0f921"
             ]
            ],
            "type": "histogram2dcontour"
           }
          ],
          "mesh3d": [
           {
            "colorbar": {
             "outlinewidth": 0,
             "ticks": ""
            },
            "type": "mesh3d"
           }
          ],
          "parcoords": [
           {
            "line": {
             "colorbar": {
              "outlinewidth": 0,
              "ticks": ""
             }
            },
            "type": "parcoords"
           }
          ],
          "pie": [
           {
            "automargin": true,
            "type": "pie"
           }
          ],
          "scatter": [
           {
            "marker": {
             "colorbar": {
              "outlinewidth": 0,
              "ticks": ""
             }
            },
            "type": "scatter"
           }
          ],
          "scatter3d": [
           {
            "line": {
             "colorbar": {
              "outlinewidth": 0,
              "ticks": ""
             }
            },
            "marker": {
             "colorbar": {
              "outlinewidth": 0,
              "ticks": ""
             }
            },
            "type": "scatter3d"
           }
          ],
          "scattercarpet": [
           {
            "marker": {
             "colorbar": {
              "outlinewidth": 0,
              "ticks": ""
             }
            },
            "type": "scattercarpet"
           }
          ],
          "scattergeo": [
           {
            "marker": {
             "colorbar": {
              "outlinewidth": 0,
              "ticks": ""
             }
            },
            "type": "scattergeo"
           }
          ],
          "scattergl": [
           {
            "marker": {
             "colorbar": {
              "outlinewidth": 0,
              "ticks": ""
             }
            },
            "type": "scattergl"
           }
          ],
          "scattermapbox": [
           {
            "marker": {
             "colorbar": {
              "outlinewidth": 0,
              "ticks": ""
             }
            },
            "type": "scattermapbox"
           }
          ],
          "scatterpolar": [
           {
            "marker": {
             "colorbar": {
              "outlinewidth": 0,
              "ticks": ""
             }
            },
            "type": "scatterpolar"
           }
          ],
          "scatterpolargl": [
           {
            "marker": {
             "colorbar": {
              "outlinewidth": 0,
              "ticks": ""
             }
            },
            "type": "scatterpolargl"
           }
          ],
          "scatterternary": [
           {
            "marker": {
             "colorbar": {
              "outlinewidth": 0,
              "ticks": ""
             }
            },
            "type": "scatterternary"
           }
          ],
          "surface": [
           {
            "colorbar": {
             "outlinewidth": 0,
             "ticks": ""
            },
            "colorscale": [
             [
              0,
              "#0d0887"
             ],
             [
              0.1111111111111111,
              "#46039f"
             ],
             [
              0.2222222222222222,
              "#7201a8"
             ],
             [
              0.3333333333333333,
              "#9c179e"
             ],
             [
              0.4444444444444444,
              "#bd3786"
             ],
             [
              0.5555555555555556,
              "#d8576b"
             ],
             [
              0.6666666666666666,
              "#ed7953"
             ],
             [
              0.7777777777777778,
              "#fb9f3a"
             ],
             [
              0.8888888888888888,
              "#fdca26"
             ],
             [
              1,
              "#f0f921"
             ]
            ],
            "type": "surface"
           }
          ],
          "table": [
           {
            "cells": {
             "fill": {
              "color": "#EBF0F8"
             },
             "line": {
              "color": "white"
             }
            },
            "header": {
             "fill": {
              "color": "#C8D4E3"
             },
             "line": {
              "color": "white"
             }
            },
            "type": "table"
           }
          ]
         },
         "layout": {
          "annotationdefaults": {
           "arrowcolor": "#2a3f5f",
           "arrowhead": 0,
           "arrowwidth": 1
          },
          "autotypenumbers": "strict",
          "coloraxis": {
           "colorbar": {
            "outlinewidth": 0,
            "ticks": ""
           }
          },
          "colorscale": {
           "diverging": [
            [
             0,
             "#8e0152"
            ],
            [
             0.1,
             "#c51b7d"
            ],
            [
             0.2,
             "#de77ae"
            ],
            [
             0.3,
             "#f1b6da"
            ],
            [
             0.4,
             "#fde0ef"
            ],
            [
             0.5,
             "#f7f7f7"
            ],
            [
             0.6,
             "#e6f5d0"
            ],
            [
             0.7,
             "#b8e186"
            ],
            [
             0.8,
             "#7fbc41"
            ],
            [
             0.9,
             "#4d9221"
            ],
            [
             1,
             "#276419"
            ]
           ],
           "sequential": [
            [
             0,
             "#0d0887"
            ],
            [
             0.1111111111111111,
             "#46039f"
            ],
            [
             0.2222222222222222,
             "#7201a8"
            ],
            [
             0.3333333333333333,
             "#9c179e"
            ],
            [
             0.4444444444444444,
             "#bd3786"
            ],
            [
             0.5555555555555556,
             "#d8576b"
            ],
            [
             0.6666666666666666,
             "#ed7953"
            ],
            [
             0.7777777777777778,
             "#fb9f3a"
            ],
            [
             0.8888888888888888,
             "#fdca26"
            ],
            [
             1,
             "#f0f921"
            ]
           ],
           "sequentialminus": [
            [
             0,
             "#0d0887"
            ],
            [
             0.1111111111111111,
             "#46039f"
            ],
            [
             0.2222222222222222,
             "#7201a8"
            ],
            [
             0.3333333333333333,
             "#9c179e"
            ],
            [
             0.4444444444444444,
             "#bd3786"
            ],
            [
             0.5555555555555556,
             "#d8576b"
            ],
            [
             0.6666666666666666,
             "#ed7953"
            ],
            [
             0.7777777777777778,
             "#fb9f3a"
            ],
            [
             0.8888888888888888,
             "#fdca26"
            ],
            [
             1,
             "#f0f921"
            ]
           ]
          },
          "colorway": [
           "#636efa",
           "#EF553B",
           "#00cc96",
           "#ab63fa",
           "#FFA15A",
           "#19d3f3",
           "#FF6692",
           "#B6E880",
           "#FF97FF",
           "#FECB52"
          ],
          "font": {
           "color": "#2a3f5f"
          },
          "geo": {
           "bgcolor": "white",
           "lakecolor": "white",
           "landcolor": "#E5ECF6",
           "showlakes": true,
           "showland": true,
           "subunitcolor": "white"
          },
          "hoverlabel": {
           "align": "left"
          },
          "hovermode": "closest",
          "mapbox": {
           "style": "light"
          },
          "paper_bgcolor": "white",
          "plot_bgcolor": "#E5ECF6",
          "polar": {
           "angularaxis": {
            "gridcolor": "white",
            "linecolor": "white",
            "ticks": ""
           },
           "bgcolor": "#E5ECF6",
           "radialaxis": {
            "gridcolor": "white",
            "linecolor": "white",
            "ticks": ""
           }
          },
          "scene": {
           "xaxis": {
            "backgroundcolor": "#E5ECF6",
            "gridcolor": "white",
            "gridwidth": 2,
            "linecolor": "white",
            "showbackground": true,
            "ticks": "",
            "zerolinecolor": "white"
           },
           "yaxis": {
            "backgroundcolor": "#E5ECF6",
            "gridcolor": "white",
            "gridwidth": 2,
            "linecolor": "white",
            "showbackground": true,
            "ticks": "",
            "zerolinecolor": "white"
           },
           "zaxis": {
            "backgroundcolor": "#E5ECF6",
            "gridcolor": "white",
            "gridwidth": 2,
            "linecolor": "white",
            "showbackground": true,
            "ticks": "",
            "zerolinecolor": "white"
           }
          },
          "shapedefaults": {
           "line": {
            "color": "#2a3f5f"
           }
          },
          "ternary": {
           "aaxis": {
            "gridcolor": "white",
            "linecolor": "white",
            "ticks": ""
           },
           "baxis": {
            "gridcolor": "white",
            "linecolor": "white",
            "ticks": ""
           },
           "bgcolor": "#E5ECF6",
           "caxis": {
            "gridcolor": "white",
            "linecolor": "white",
            "ticks": ""
           }
          },
          "title": {
           "x": 0.05
          },
          "xaxis": {
           "automargin": true,
           "gridcolor": "white",
           "linecolor": "white",
           "ticks": "",
           "title": {
            "standoff": 15
           },
           "zerolinecolor": "white",
           "zerolinewidth": 2
          },
          "yaxis": {
           "automargin": true,
           "gridcolor": "white",
           "linecolor": "white",
           "ticks": "",
           "title": {
            "standoff": 15
           },
           "zerolinecolor": "white",
           "zerolinewidth": 2
          }
         }
        }
       }
      }
     },
     "metadata": {}
    }
   ],
   "metadata": {
    "execution": {
     "iopub.execute_input": "2021-04-10T14:15:06.024404Z",
     "iopub.status.busy": "2021-04-10T14:15:06.023635Z",
     "iopub.status.idle": "2021-04-10T14:15:06.038740Z",
     "shell.execute_reply": "2021-04-10T14:15:06.037942Z"
    },
    "papermill": {
     "duration": 0.070078,
     "end_time": "2021-04-10T14:15:06.038893",
     "exception": false,
     "start_time": "2021-04-10T14:15:05.968815",
     "status": "completed"
    },
    "tags": []
   }
  },
  {
   "cell_type": "markdown",
   "source": [
    "# Univariate analysis of continuous variables"
   ],
   "metadata": {
    "papermill": {
     "duration": 0.041979,
     "end_time": "2021-04-10T14:15:06.125341",
     "exception": false,
     "start_time": "2021-04-10T14:15:06.083362",
     "status": "completed"
    },
    "tags": []
   }
  },
  {
   "cell_type": "markdown",
   "source": [
    "**Histogram is representation of the distribution of numerical data**"
   ],
   "metadata": {
    "papermill": {
     "duration": 0.043377,
     "end_time": "2021-04-10T14:15:06.212733",
     "exception": false,
     "start_time": "2021-04-10T14:15:06.169356",
     "status": "completed"
    },
    "tags": []
   }
  },
  {
   "cell_type": "code",
   "execution_count": 23,
   "source": [
    "fig = px.histogram(df, x=\"targeted_productivity\", nbins=20, template='plotly_dark')\n",
    "fig.update_layout(title='Distribution of Targeted productivity', title_x=0.5)\n",
    "fig.show()"
   ],
   "outputs": [
    {
     "output_type": "display_data",
     "data": {
      "application/vnd.plotly.v1+json": {
       "config": {
        "plotlyServerURL": "https://plot.ly"
       },
       "data": [
        {
         "alignmentgroup": "True",
         "bingroup": "x",
         "hovertemplate": "targeted_productivity=%{x}<br>count=%{y}<extra></extra>",
         "legendgroup": "",
         "marker": {
          "color": "#636efa",
          "pattern": {
           "shape": ""
          }
         },
         "name": "",
         "nbinsx": 20,
         "offsetgroup": "",
         "orientation": "v",
         "showlegend": false,
         "type": "histogram",
         "x": [
          0.8,
          0.75,
          0.8,
          0.8,
          0.8,
          0.8,
          0.75,
          0.75,
          0.75,
          0.75,
          0.7,
          0.75,
          0.8,
          0.65,
          0.75,
          0.75,
          0.8,
          0.65,
          0.7,
          0.8,
          0.75,
          0.8,
          0.75,
          0.8,
          0.8,
          0.8,
          0.8,
          0.8,
          0.8,
          0.8,
          0.8,
          0.8,
          0.75,
          0.8,
          0.75,
          0.7,
          0.7,
          0.7,
          0.8,
          0.8,
          0.75,
          0.8,
          0.8,
          0.8,
          0.8,
          0.8,
          0.8,
          0.8,
          0.8,
          0.8,
          0.8,
          0.8,
          0.8,
          0.7,
          0.75,
          0.75,
          0.7,
          0.8,
          0.8,
          0.7,
          0.75,
          0.8,
          0.8,
          0.8,
          0.75,
          0.8,
          0.8,
          0.8,
          0.8,
          0.8,
          0.8,
          0.8,
          0.8,
          0.8,
          0.8,
          0.8,
          0.75,
          0.6,
          0.75,
          0.75,
          0.8,
          0.8,
          0.6,
          0.8,
          0.8,
          0.75,
          0.8,
          0.8,
          0.8,
          0.8,
          0.75,
          0.8,
          0.8,
          0.8,
          0.8,
          0.8,
          0.8,
          0.8,
          0.8,
          0.75,
          0.75,
          0.8,
          0.65,
          0.8,
          0.8,
          0.8,
          0.8,
          0.8,
          0.8,
          0.75,
          0.8,
          0.8,
          0.75,
          0.8,
          0.8,
          0.8,
          0.8,
          0.8,
          0.8,
          0.8,
          0.75,
          0.7,
          0.8,
          0.8,
          0.8,
          0.7,
          0.8,
          0.8,
          0.8,
          0.8,
          0.8,
          0.8,
          0.8,
          0.8,
          0.8,
          0.7,
          0.8,
          0.8,
          0.8,
          0.8,
          0.75,
          0.75,
          0.8,
          0.75,
          0.8,
          0.8,
          0.35,
          0.7,
          0.8,
          0.75,
          0.8,
          0.8,
          0.8,
          0.8,
          0.8,
          0.8,
          0.8,
          0.8,
          0.8,
          0.8,
          0.8,
          0.8,
          0.8,
          0.8,
          0.75,
          0.5,
          0.8,
          0.8,
          0.5,
          0.5,
          0.75,
          0.8,
          0.8,
          0.8,
          0.8,
          0.8,
          0.8,
          0.8,
          0.8,
          0.8,
          0.8,
          0.8,
          0.8,
          0.8,
          0.8,
          0.8,
          0.8,
          0.5,
          0.6,
          0.8,
          0.8,
          0.8,
          0.6,
          0.8,
          0.35,
          0.8,
          0.8,
          0.8,
          0.8,
          0.8,
          0.8,
          0.8,
          0.8,
          0.65,
          0.8,
          0.8,
          0.8,
          0.8,
          0.8,
          0.8,
          0.65,
          0.65,
          0.8,
          0.8,
          0.35,
          0.8,
          0.35,
          0.8,
          0.8,
          0.8,
          0.8,
          0.8,
          0.8,
          0.8,
          0.8,
          0.65,
          0.8,
          0.8,
          0.8,
          0.8,
          0.8,
          0.8,
          0.8,
          0.8,
          0.7,
          0.7,
          0.5,
          0.35,
          0.8,
          0.35,
          0.8,
          0.8,
          0.65,
          0.8,
          0.8,
          0.8,
          0.8,
          0.8,
          0.8,
          0.8,
          0.8,
          0.7,
          0.8,
          0.6,
          0.5,
          0.35,
          0.8,
          0.8,
          0.8,
          0.35,
          0.8,
          0.8,
          0.65,
          0.8,
          0.8,
          0.8,
          0.8,
          0.8,
          0.8,
          0.8,
          0.7,
          0.8,
          0.5,
          0.65,
          0.8,
          0.6,
          0.5,
          0.5,
          0.65,
          0.8,
          0.8,
          0.8,
          0.8,
          0.8,
          0.8,
          0.8,
          0.8,
          0.8,
          0.8,
          0.6,
          0.7,
          0.8,
          0.8,
          0.65,
          0.6,
          0.6,
          0.8,
          0.7,
          0.8,
          0.6,
          0.65,
          0.8,
          0.8,
          0.8,
          0.8,
          0.8,
          0.7,
          0.7,
          0.8,
          0.8,
          0.65,
          0.65,
          0.65,
          0.8,
          0.6,
          0.8,
          0.8,
          0.7,
          0.7,
          0.8,
          0.65,
          0.8,
          0.8,
          0.8,
          0.8,
          0.7,
          0.7,
          0.7,
          0.7,
          0.7,
          0.8,
          0.65,
          0.8,
          0.5,
          0.7,
          0.7,
          0.35,
          0.7,
          0.8,
          0.8,
          0.8,
          0.7,
          0.7,
          0.7,
          0.7,
          0.8,
          0.7,
          0.7,
          0.8,
          0.5,
          0.35,
          0.7,
          0.75,
          0.7,
          0.75,
          0.8,
          0.8,
          0.8,
          0.7,
          0.7,
          0.7,
          0.7,
          0.7,
          0.7,
          0.65,
          0.6,
          0.8,
          0.8,
          0.65,
          0.5,
          0.7,
          0.6,
          0.75,
          0.75,
          0.7,
          0.8,
          0.75,
          0.7,
          0.7,
          0.7,
          0.7,
          0.7,
          0.75,
          0.7,
          0.7,
          0.8,
          0.6,
          0.6,
          0.8,
          0.5,
          0.7,
          0.8,
          0.6,
          0.7,
          0.75,
          0.8,
          0.75,
          0.75,
          0.75,
          0.75,
          0.65,
          0.7,
          0.7,
          0.75,
          0.8,
          0.75,
          0.75,
          0.75,
          0.7,
          0.75,
          0.65,
          0.6,
          0.75,
          0.7,
          0.35,
          0.6,
          0.7,
          0.75,
          0.7,
          0.75,
          0.75,
          0.75,
          0.75,
          0.75,
          0.7,
          0.75,
          0.8,
          0.75,
          0.65,
          0.7,
          0.7,
          0.7,
          0.65,
          0.7,
          0.75,
          0.5,
          0.8,
          0.75,
          0.75,
          0.75,
          0.7,
          0.75,
          0.7,
          0.8,
          0.8,
          0.75,
          0.75,
          0.7,
          0.75,
          0.7,
          0.75,
          0.7,
          0.7,
          0.65,
          0.6,
          0.35,
          0.75,
          0.75,
          0.8,
          0.8,
          0.5,
          0.8,
          0.75,
          0.8,
          0.65,
          0.7,
          0.5,
          0.75,
          0.75,
          0.75,
          0.7,
          0.7,
          0.65,
          0.8,
          0.8,
          0.5,
          0.5,
          0.8,
          0.8,
          0.35,
          0.75,
          0.8,
          0.8,
          0.75,
          0.8,
          0.6,
          0.8,
          0.75,
          0.7,
          0.75,
          0.8,
          0.65,
          0.5,
          0.7,
          0.35,
          0.6,
          0.6,
          0.5,
          0.8,
          0.8,
          0.8,
          0.8,
          0.8,
          0.5,
          0.65,
          0.6,
          0.8,
          0.75,
          0.75,
          0.7,
          0.65,
          0.8,
          0.75,
          0.75,
          0.6,
          0.5,
          0.8,
          0.65,
          0.8,
          0.8,
          0.8,
          0.8,
          0.8,
          0.8,
          0.75,
          0.75,
          0.75,
          0.7,
          0.7,
          0.65,
          0.65,
          0.6,
          0.8,
          0.8,
          0.75,
          0.75,
          0.75,
          0.7,
          0.65,
          0.6,
          0.7,
          0.5,
          0.65,
          0.8,
          0.8,
          0.75,
          0.8,
          0.8,
          0.7,
          0.8,
          0.8,
          0.8,
          0.8,
          0.75,
          0.75,
          0.75,
          0.7,
          0.65,
          0.6,
          0.7,
          0.6,
          0.8,
          0.75,
          0.8,
          0.8,
          0.8,
          0.8,
          0.8,
          0.8,
          0.8,
          0.75,
          0.75,
          0.7,
          0.7,
          0.65,
          0.75,
          0.5,
          0.7,
          0.6,
          0.65,
          0.8,
          0.8,
          0.8,
          0.8,
          0.7,
          0.8,
          0.8,
          0.75,
          0.8,
          0.8,
          0.8,
          0.75,
          0.7,
          0.7,
          0.7,
          0.7,
          0.8,
          0.7,
          0.6,
          0.8,
          0.8,
          0.8,
          0.8,
          0.8,
          0.7,
          0.8,
          0.8,
          0.8,
          0.7,
          0.75,
          0.7,
          0.7,
          0.7,
          0.7,
          0.8,
          0.65,
          0.7,
          0.35,
          0.8,
          0.8,
          0.8,
          0.8,
          0.8,
          0.7,
          0.8,
          0.7,
          0.8,
          0.8,
          0.8,
          0.8,
          0.75,
          0.7,
          0.7,
          0.07,
          0.5,
          0.7,
          0.8,
          0.8,
          0.8,
          0.8,
          0.8,
          0.8,
          0.8,
          0.75,
          0.8,
          0.8,
          0.8,
          0.75,
          0.75,
          0.7,
          0.7,
          0.6,
          0.7,
          0.8,
          0.7,
          0.8,
          0.7,
          0.8,
          0.8,
          0.8,
          0.8,
          0.8,
          0.8,
          0.7,
          0.8,
          0.8,
          0.75,
          0.75,
          0.7,
          0.75,
          0.8,
          0.65,
          0.7,
          0.7,
          0.8,
          0.8,
          0.8,
          0.8,
          0.8,
          0.75,
          0.8,
          0.8,
          0.8,
          0.7,
          0.75,
          0.35,
          0.7,
          0.8,
          0.75,
          0.35,
          0.35,
          0.8,
          0.8,
          0.8,
          0.8,
          0.8,
          0.8,
          0.8,
          0.8,
          0.8,
          0.8,
          0.7,
          0.75,
          0.8,
          0.75,
          0.35,
          0.7,
          0.8,
          0.75,
          0.5,
          0.5,
          0.7,
          0.8,
          0.8,
          0.8,
          0.35,
          0.8,
          0.7,
          0.8,
          0.8,
          0.8,
          0.8,
          0.75,
          0.6,
          0.7,
          0.8,
          0.6,
          0.8,
          0.8,
          0.35,
          0.8,
          0.7,
          0.8,
          0.8,
          0.8,
          0.35,
          0.75,
          0.8,
          0.8,
          0.8,
          0.7,
          0.8,
          0.7,
          0.65,
          0.5,
          0.8,
          0.65,
          0.8,
          0.35,
          0.8,
          0.7,
          0.75,
          0.8,
          0.8,
          0.8,
          0.8,
          0.75,
          0.75,
          0.7,
          0.7,
          0.7,
          0.6,
          0.8,
          0.5,
          0.8,
          0.8,
          0.8,
          0.8,
          0.8,
          0.8,
          0.8,
          0.75,
          0.8,
          0.6,
          0.7,
          0.7,
          0.75,
          0.65,
          0.7,
          0.8,
          0.75,
          0.6,
          0.8,
          0.75,
          0.5,
          0.8,
          0.8,
          0.8,
          0.5,
          0.65,
          0.8,
          0.8,
          0.8,
          0.75,
          0.75,
          0.75,
          0.7,
          0.75,
          0.7,
          0.7,
          0.6,
          0.6,
          0.7,
          0.8,
          0.8,
          0.7,
          0.8,
          0.8,
          0.5,
          0.75,
          0.75,
          0.8,
          0.7,
          0.7,
          0.7,
          0.75,
          0.8,
          0.65,
          0.6,
          0.8,
          0.8,
          0.5,
          0.65,
          0.8,
          0.8,
          0.8,
          0.7,
          0.8,
          0.8,
          0.8,
          0.8,
          0.75,
          0.75,
          0.75,
          0.7,
          0.7,
          0.7,
          0.8,
          0.7,
          0.8,
          0.6,
          0.7,
          0.5,
          0.65,
          0.5,
          0.8,
          0.8,
          0.8,
          0.8,
          0.8,
          0.75,
          0.8,
          0.8,
          0.7,
          0.7,
          0.7,
          0.75,
          0.7,
          0.7,
          0.75,
          0.75,
          0.8,
          0.65,
          0.7,
          0.5,
          0.8,
          0.8,
          0.6,
          0.8,
          0.8,
          0.8,
          0.8,
          0.75,
          0.8,
          0.7,
          0.7,
          0.75,
          0.7,
          0.7,
          0.7,
          0.75,
          0.8,
          0.8,
          0.7,
          0.8,
          0.7,
          0.8,
          0.8,
          0.8,
          0.8,
          0.8,
          0.75,
          0.75,
          0.75,
          0.7,
          0.7,
          0.7,
          0.7,
          0.7,
          0.8,
          0.8,
          0.8,
          0.7,
          0.7,
          0.8,
          0.8,
          0.8,
          0.8,
          0.7,
          0.75,
          0.75,
          0.75,
          0.75,
          0.75,
          0.7,
          0.7,
          0.7,
          0.7,
          0.7,
          0.7,
          0.7,
          0.6,
          0.75,
          0.8,
          0.8,
          0.8,
          0.7,
          0.8,
          0.8,
          0.8,
          0.75,
          0.75,
          0.75,
          0.7,
          0.7,
          0.7,
          0.75,
          0.7,
          0.8,
          0.65,
          0.7,
          0.75,
          0.7,
          0.8,
          0.8,
          0.8,
          0.8,
          0.8,
          0.5,
          0.75,
          0.75,
          0.75,
          0.75,
          0.7,
          0.7,
          0.8,
          0.7,
          0.8,
          0.35,
          0.7,
          0.75,
          0.35,
          0.75,
          0.75,
          0.8,
          0.8,
          0.8,
          0.8,
          0.8,
          0.5,
          0.75,
          0.75,
          0.75,
          0.75,
          0.7,
          0.7,
          0.8,
          0.7,
          0.5,
          0.5,
          0.5,
          0.7,
          0.75,
          0.75,
          0.75,
          0.8,
          0.75,
          0.8,
          0.75,
          0.75,
          0.75,
          0.75,
          0.6,
          0.7,
          0.6,
          0.7,
          0.8,
          0.6,
          0.7,
          0.6,
          0.7,
          0.8,
          0.6,
          0.75,
          0.8,
          0.7,
          0.8,
          0.65,
          0.65,
          0.8,
          0.75,
          0.8,
          0.8,
          0.8,
          0.75,
          0.75,
          0.75,
          0.75,
          0.65,
          0.65,
          0.7,
          0.7,
          0.8,
          0.65,
          0.8,
          0.8,
          0.8,
          0.8,
          0.7,
          0.8,
          0.8,
          0.8,
          0.7,
          0.75,
          0.75,
          0.75,
          0.75,
          0.7,
          0.7,
          0.8,
          0.4,
          0.7,
          0.7,
          0.7,
          0.7,
          0.75,
          0.4,
          0.8,
          0.8,
          0.8,
          0.75,
          0.7,
          0.7,
          0.8,
          0.8,
          0.8,
          0.8,
          0.7,
          0.7,
          0.75,
          0.7,
          0.7,
          0.8,
          0.7,
          0.5,
          0.8,
          0.5,
          0.75,
          0.8,
          0.6,
          0.8,
          0.8,
          0.7,
          0.7,
          0.8,
          0.8,
          0.8,
          0.8,
          0.7,
          0.75,
          0.7,
          0.7,
          0.7,
          0.6,
          0.75,
          0.8,
          0.35,
          0.8,
          0.8,
          0.7,
          0.8,
          0.35,
          0.7,
          0.8,
          0.8,
          0.5,
          0.75,
          0.7,
          0.7,
          0.7,
          0.8,
          0.65,
          0.8,
          0.65,
          0.5,
          0.7,
          0.8,
          0.8,
          0.75,
          0.75,
          0.75,
          0.7,
          0.5,
          0.75,
          0.75,
          0.8,
          0.8,
          0.8,
          0.8,
          0.75,
          0.7,
          0.7,
          0.6,
          0.6,
          0.5,
          0.6,
          0.7,
          0.6,
          0.8,
          0.8,
          0.6,
          0.75,
          0.75,
          0.75,
          0.8,
          0.8,
          0.8,
          0.8,
          0.75,
          0.75,
          0.75,
          0.7,
          0.7,
          0.7,
          0.65,
          0.65,
          0.6,
          0.5,
          0.7,
          0.65,
          0.8,
          0.6,
          0.75,
          0.8,
          0.75,
          0.75,
          0.75,
          0.75,
          0.8,
          0.8,
          0.8,
          0.8,
          0.75,
          0.75,
          0.7,
          0.7,
          0.7,
          0.7,
          0.65,
          0.6,
          0.65,
          0.5,
          0.7,
          0.8,
          0.8,
          0.75,
          0.75,
          0.75,
          0.8,
          0.8,
          0.8,
          0.8,
          0.7,
          0.75,
          0.75,
          0.75,
          0.75,
          0.75,
          0.7,
          0.7,
          0.7,
          0.65,
          0.75,
          0.7,
          0.65,
          0.75,
          0.7
         ],
         "xaxis": "x",
         "yaxis": "y"
        }
       ],
       "layout": {
        "barmode": "relative",
        "legend": {
         "tracegroupgap": 0
        },
        "margin": {
         "t": 60
        },
        "template": {
         "data": {
          "bar": [
           {
            "error_x": {
             "color": "#f2f5fa"
            },
            "error_y": {
             "color": "#f2f5fa"
            },
            "marker": {
             "line": {
              "color": "rgb(17,17,17)",
              "width": 0.5
             },
             "pattern": {
              "fillmode": "overlay",
              "size": 10,
              "solidity": 0.2
             }
            },
            "type": "bar"
           }
          ],
          "barpolar": [
           {
            "marker": {
             "line": {
              "color": "rgb(17,17,17)",
              "width": 0.5
             },
             "pattern": {
              "fillmode": "overlay",
              "size": 10,
              "solidity": 0.2
             }
            },
            "type": "barpolar"
           }
          ],
          "carpet": [
           {
            "aaxis": {
             "endlinecolor": "#A2B1C6",
             "gridcolor": "#506784",
             "linecolor": "#506784",
             "minorgridcolor": "#506784",
             "startlinecolor": "#A2B1C6"
            },
            "baxis": {
             "endlinecolor": "#A2B1C6",
             "gridcolor": "#506784",
             "linecolor": "#506784",
             "minorgridcolor": "#506784",
             "startlinecolor": "#A2B1C6"
            },
            "type": "carpet"
           }
          ],
          "choropleth": [
           {
            "colorbar": {
             "outlinewidth": 0,
             "ticks": ""
            },
            "type": "choropleth"
           }
          ],
          "contour": [
           {
            "colorbar": {
             "outlinewidth": 0,
             "ticks": ""
            },
            "colorscale": [
             [
              0,
              "#0d0887"
             ],
             [
              0.1111111111111111,
              "#46039f"
             ],
             [
              0.2222222222222222,
              "#7201a8"
             ],
             [
              0.3333333333333333,
              "#9c179e"
             ],
             [
              0.4444444444444444,
              "#bd3786"
             ],
             [
              0.5555555555555556,
              "#d8576b"
             ],
             [
              0.6666666666666666,
              "#ed7953"
             ],
             [
              0.7777777777777778,
              "#fb9f3a"
             ],
             [
              0.8888888888888888,
              "#fdca26"
             ],
             [
              1,
              "#f0f921"
             ]
            ],
            "type": "contour"
           }
          ],
          "contourcarpet": [
           {
            "colorbar": {
             "outlinewidth": 0,
             "ticks": ""
            },
            "type": "contourcarpet"
           }
          ],
          "heatmap": [
           {
            "colorbar": {
             "outlinewidth": 0,
             "ticks": ""
            },
            "colorscale": [
             [
              0,
              "#0d0887"
             ],
             [
              0.1111111111111111,
              "#46039f"
             ],
             [
              0.2222222222222222,
              "#7201a8"
             ],
             [
              0.3333333333333333,
              "#9c179e"
             ],
             [
              0.4444444444444444,
              "#bd3786"
             ],
             [
              0.5555555555555556,
              "#d8576b"
             ],
             [
              0.6666666666666666,
              "#ed7953"
             ],
             [
              0.7777777777777778,
              "#fb9f3a"
             ],
             [
              0.8888888888888888,
              "#fdca26"
             ],
             [
              1,
              "#f0f921"
             ]
            ],
            "type": "heatmap"
           }
          ],
          "heatmapgl": [
           {
            "colorbar": {
             "outlinewidth": 0,
             "ticks": ""
            },
            "colorscale": [
             [
              0,
              "#0d0887"
             ],
             [
              0.1111111111111111,
              "#46039f"
             ],
             [
              0.2222222222222222,
              "#7201a8"
             ],
             [
              0.3333333333333333,
              "#9c179e"
             ],
             [
              0.4444444444444444,
              "#bd3786"
             ],
             [
              0.5555555555555556,
              "#d8576b"
             ],
             [
              0.6666666666666666,
              "#ed7953"
             ],
             [
              0.7777777777777778,
              "#fb9f3a"
             ],
             [
              0.8888888888888888,
              "#fdca26"
             ],
             [
              1,
              "#f0f921"
             ]
            ],
            "type": "heatmapgl"
           }
          ],
          "histogram": [
           {
            "marker": {
             "pattern": {
              "fillmode": "overlay",
              "size": 10,
              "solidity": 0.2
             }
            },
            "type": "histogram"
           }
          ],
          "histogram2d": [
           {
            "colorbar": {
             "outlinewidth": 0,
             "ticks": ""
            },
            "colorscale": [
             [
              0,
              "#0d0887"
             ],
             [
              0.1111111111111111,
              "#46039f"
             ],
             [
              0.2222222222222222,
              "#7201a8"
             ],
             [
              0.3333333333333333,
              "#9c179e"
             ],
             [
              0.4444444444444444,
              "#bd3786"
             ],
             [
              0.5555555555555556,
              "#d8576b"
             ],
             [
              0.6666666666666666,
              "#ed7953"
             ],
             [
              0.7777777777777778,
              "#fb9f3a"
             ],
             [
              0.8888888888888888,
              "#fdca26"
             ],
             [
              1,
              "#f0f921"
             ]
            ],
            "type": "histogram2d"
           }
          ],
          "histogram2dcontour": [
           {
            "colorbar": {
             "outlinewidth": 0,
             "ticks": ""
            },
            "colorscale": [
             [
              0,
              "#0d0887"
             ],
             [
              0.1111111111111111,
              "#46039f"
             ],
             [
              0.2222222222222222,
              "#7201a8"
             ],
             [
              0.3333333333333333,
              "#9c179e"
             ],
             [
              0.4444444444444444,
              "#bd3786"
             ],
             [
              0.5555555555555556,
              "#d8576b"
             ],
             [
              0.6666666666666666,
              "#ed7953"
             ],
             [
              0.7777777777777778,
              "#fb9f3a"
             ],
             [
              0.8888888888888888,
              "#fdca26"
             ],
             [
              1,
              "#f0f921"
             ]
            ],
            "type": "histogram2dcontour"
           }
          ],
          "mesh3d": [
           {
            "colorbar": {
             "outlinewidth": 0,
             "ticks": ""
            },
            "type": "mesh3d"
           }
          ],
          "parcoords": [
           {
            "line": {
             "colorbar": {
              "outlinewidth": 0,
              "ticks": ""
             }
            },
            "type": "parcoords"
           }
          ],
          "pie": [
           {
            "automargin": true,
            "type": "pie"
           }
          ],
          "scatter": [
           {
            "marker": {
             "line": {
              "color": "#283442"
             }
            },
            "type": "scatter"
           }
          ],
          "scatter3d": [
           {
            "line": {
             "colorbar": {
              "outlinewidth": 0,
              "ticks": ""
             }
            },
            "marker": {
             "colorbar": {
              "outlinewidth": 0,
              "ticks": ""
             }
            },
            "type": "scatter3d"
           }
          ],
          "scattercarpet": [
           {
            "marker": {
             "colorbar": {
              "outlinewidth": 0,
              "ticks": ""
             }
            },
            "type": "scattercarpet"
           }
          ],
          "scattergeo": [
           {
            "marker": {
             "colorbar": {
              "outlinewidth": 0,
              "ticks": ""
             }
            },
            "type": "scattergeo"
           }
          ],
          "scattergl": [
           {
            "marker": {
             "line": {
              "color": "#283442"
             }
            },
            "type": "scattergl"
           }
          ],
          "scattermapbox": [
           {
            "marker": {
             "colorbar": {
              "outlinewidth": 0,
              "ticks": ""
             }
            },
            "type": "scattermapbox"
           }
          ],
          "scatterpolar": [
           {
            "marker": {
             "colorbar": {
              "outlinewidth": 0,
              "ticks": ""
             }
            },
            "type": "scatterpolar"
           }
          ],
          "scatterpolargl": [
           {
            "marker": {
             "colorbar": {
              "outlinewidth": 0,
              "ticks": ""
             }
            },
            "type": "scatterpolargl"
           }
          ],
          "scatterternary": [
           {
            "marker": {
             "colorbar": {
              "outlinewidth": 0,
              "ticks": ""
             }
            },
            "type": "scatterternary"
           }
          ],
          "surface": [
           {
            "colorbar": {
             "outlinewidth": 0,
             "ticks": ""
            },
            "colorscale": [
             [
              0,
              "#0d0887"
             ],
             [
              0.1111111111111111,
              "#46039f"
             ],
             [
              0.2222222222222222,
              "#7201a8"
             ],
             [
              0.3333333333333333,
              "#9c179e"
             ],
             [
              0.4444444444444444,
              "#bd3786"
             ],
             [
              0.5555555555555556,
              "#d8576b"
             ],
             [
              0.6666666666666666,
              "#ed7953"
             ],
             [
              0.7777777777777778,
              "#fb9f3a"
             ],
             [
              0.8888888888888888,
              "#fdca26"
             ],
             [
              1,
              "#f0f921"
             ]
            ],
            "type": "surface"
           }
          ],
          "table": [
           {
            "cells": {
             "fill": {
              "color": "#506784"
             },
             "line": {
              "color": "rgb(17,17,17)"
             }
            },
            "header": {
             "fill": {
              "color": "#2a3f5f"
             },
             "line": {
              "color": "rgb(17,17,17)"
             }
            },
            "type": "table"
           }
          ]
         },
         "layout": {
          "annotationdefaults": {
           "arrowcolor": "#f2f5fa",
           "arrowhead": 0,
           "arrowwidth": 1
          },
          "autotypenumbers": "strict",
          "coloraxis": {
           "colorbar": {
            "outlinewidth": 0,
            "ticks": ""
           }
          },
          "colorscale": {
           "diverging": [
            [
             0,
             "#8e0152"
            ],
            [
             0.1,
             "#c51b7d"
            ],
            [
             0.2,
             "#de77ae"
            ],
            [
             0.3,
             "#f1b6da"
            ],
            [
             0.4,
             "#fde0ef"
            ],
            [
             0.5,
             "#f7f7f7"
            ],
            [
             0.6,
             "#e6f5d0"
            ],
            [
             0.7,
             "#b8e186"
            ],
            [
             0.8,
             "#7fbc41"
            ],
            [
             0.9,
             "#4d9221"
            ],
            [
             1,
             "#276419"
            ]
           ],
           "sequential": [
            [
             0,
             "#0d0887"
            ],
            [
             0.1111111111111111,
             "#46039f"
            ],
            [
             0.2222222222222222,
             "#7201a8"
            ],
            [
             0.3333333333333333,
             "#9c179e"
            ],
            [
             0.4444444444444444,
             "#bd3786"
            ],
            [
             0.5555555555555556,
             "#d8576b"
            ],
            [
             0.6666666666666666,
             "#ed7953"
            ],
            [
             0.7777777777777778,
             "#fb9f3a"
            ],
            [
             0.8888888888888888,
             "#fdca26"
            ],
            [
             1,
             "#f0f921"
            ]
           ],
           "sequentialminus": [
            [
             0,
             "#0d0887"
            ],
            [
             0.1111111111111111,
             "#46039f"
            ],
            [
             0.2222222222222222,
             "#7201a8"
            ],
            [
             0.3333333333333333,
             "#9c179e"
            ],
            [
             0.4444444444444444,
             "#bd3786"
            ],
            [
             0.5555555555555556,
             "#d8576b"
            ],
            [
             0.6666666666666666,
             "#ed7953"
            ],
            [
             0.7777777777777778,
             "#fb9f3a"
            ],
            [
             0.8888888888888888,
             "#fdca26"
            ],
            [
             1,
             "#f0f921"
            ]
           ]
          },
          "colorway": [
           "#636efa",
           "#EF553B",
           "#00cc96",
           "#ab63fa",
           "#FFA15A",
           "#19d3f3",
           "#FF6692",
           "#B6E880",
           "#FF97FF",
           "#FECB52"
          ],
          "font": {
           "color": "#f2f5fa"
          },
          "geo": {
           "bgcolor": "rgb(17,17,17)",
           "lakecolor": "rgb(17,17,17)",
           "landcolor": "rgb(17,17,17)",
           "showlakes": true,
           "showland": true,
           "subunitcolor": "#506784"
          },
          "hoverlabel": {
           "align": "left"
          },
          "hovermode": "closest",
          "mapbox": {
           "style": "dark"
          },
          "paper_bgcolor": "rgb(17,17,17)",
          "plot_bgcolor": "rgb(17,17,17)",
          "polar": {
           "angularaxis": {
            "gridcolor": "#506784",
            "linecolor": "#506784",
            "ticks": ""
           },
           "bgcolor": "rgb(17,17,17)",
           "radialaxis": {
            "gridcolor": "#506784",
            "linecolor": "#506784",
            "ticks": ""
           }
          },
          "scene": {
           "xaxis": {
            "backgroundcolor": "rgb(17,17,17)",
            "gridcolor": "#506784",
            "gridwidth": 2,
            "linecolor": "#506784",
            "showbackground": true,
            "ticks": "",
            "zerolinecolor": "#C8D4E3"
           },
           "yaxis": {
            "backgroundcolor": "rgb(17,17,17)",
            "gridcolor": "#506784",
            "gridwidth": 2,
            "linecolor": "#506784",
            "showbackground": true,
            "ticks": "",
            "zerolinecolor": "#C8D4E3"
           },
           "zaxis": {
            "backgroundcolor": "rgb(17,17,17)",
            "gridcolor": "#506784",
            "gridwidth": 2,
            "linecolor": "#506784",
            "showbackground": true,
            "ticks": "",
            "zerolinecolor": "#C8D4E3"
           }
          },
          "shapedefaults": {
           "line": {
            "color": "#f2f5fa"
           }
          },
          "sliderdefaults": {
           "bgcolor": "#C8D4E3",
           "bordercolor": "rgb(17,17,17)",
           "borderwidth": 1,
           "tickwidth": 0
          },
          "ternary": {
           "aaxis": {
            "gridcolor": "#506784",
            "linecolor": "#506784",
            "ticks": ""
           },
           "baxis": {
            "gridcolor": "#506784",
            "linecolor": "#506784",
            "ticks": ""
           },
           "bgcolor": "rgb(17,17,17)",
           "caxis": {
            "gridcolor": "#506784",
            "linecolor": "#506784",
            "ticks": ""
           }
          },
          "title": {
           "x": 0.05
          },
          "updatemenudefaults": {
           "bgcolor": "#506784",
           "borderwidth": 0
          },
          "xaxis": {
           "automargin": true,
           "gridcolor": "#283442",
           "linecolor": "#506784",
           "ticks": "",
           "title": {
            "standoff": 15
           },
           "zerolinecolor": "#283442",
           "zerolinewidth": 2
          },
          "yaxis": {
           "automargin": true,
           "gridcolor": "#283442",
           "linecolor": "#506784",
           "ticks": "",
           "title": {
            "standoff": 15
           },
           "zerolinecolor": "#283442",
           "zerolinewidth": 2
          }
         }
        },
        "title": {
         "text": "Distribution of Targeted productivity",
         "x": 0.5
        },
        "xaxis": {
         "anchor": "y",
         "domain": [
          0,
          1
         ],
         "title": {
          "text": "targeted_productivity"
         }
        },
        "yaxis": {
         "anchor": "x",
         "domain": [
          0,
          1
         ],
         "title": {
          "text": "count"
         }
        }
       }
      }
     },
     "metadata": {}
    }
   ],
   "metadata": {
    "execution": {
     "iopub.execute_input": "2021-04-10T14:15:06.302932Z",
     "iopub.status.busy": "2021-04-10T14:15:06.302291Z",
     "iopub.status.idle": "2021-04-10T14:15:07.291733Z",
     "shell.execute_reply": "2021-04-10T14:15:07.292290Z"
    },
    "papermill": {
     "duration": 1.036159,
     "end_time": "2021-04-10T14:15:07.292485",
     "exception": false,
     "start_time": "2021-04-10T14:15:06.256326",
     "status": "completed"
    },
    "tags": []
   }
  },
  {
   "cell_type": "markdown",
   "source": [
    "**A violin plot is a method of plotting numeric data. It is similar to a box plot, with the addition of a rotated kernel density plot on each side**"
   ],
   "metadata": {
    "papermill": {
     "duration": 0.043401,
     "end_time": "2021-04-10T14:15:07.379766",
     "exception": false,
     "start_time": "2021-04-10T14:15:07.336365",
     "status": "completed"
    },
    "tags": []
   }
  },
  {
   "cell_type": "code",
   "execution_count": 18,
   "source": [
    "fig = px.violin(df, y=\"actual_productivity\", box=True, points='all')\n",
    "fig.update_layout(title='Distribution of actual_productivity', title_x=0.5)\n",
    "fig.show()"
   ],
   "outputs": [
    {
     "output_type": "display_data",
     "data": {
      "text/html": [
       "<div>                            <div id=\"3623ae05-37fa-4c35-8c2c-7f781f38d510\" class=\"plotly-graph-div\" style=\"height:525px; width:100%;\"></div>            <script type=\"text/javascript\">                require([\"plotly\"], function(Plotly) {                    window.PLOTLYENV=window.PLOTLYENV || {};                                    if (document.getElementById(\"3623ae05-37fa-4c35-8c2c-7f781f38d510\")) {                    Plotly.newPlot(                        \"3623ae05-37fa-4c35-8c2c-7f781f38d510\",                        [{\"alignmentgroup\": \"True\", \"box\": {\"visible\": true}, \"hovertemplate\": \"actual_productivity=%{y}<extra></extra>\", \"legendgroup\": \"\", \"marker\": {\"color\": \"#636efa\"}, \"name\": \"\", \"offsetgroup\": \"\", \"orientation\": \"v\", \"points\": \"all\", \"scalegroup\": \"True\", \"showlegend\": false, \"type\": \"violin\", \"x0\": \" \", \"xaxis\": \"x\", \"y\": [0.940725424, 0.8865, 0.800570492, 0.800570492, 0.800381944, 0.800125, 0.755166667, 0.753683478, 0.753097531, 0.750427826, 0.721126957, 0.712205247, 0.707045902, 0.705916667, 0.676666667, 0.593055556, 0.540729167, 0.52118, 0.436326389, 0.988024691, 0.987880435, 0.956270833, 0.945277778, 0.902916667, 0.800725314, 0.800322936, 0.800318644, 0.800318644, 0.800237288, 0.800148649, 0.800125, 0.800125, 0.787299691, 0.782447917, 0.75024303, 0.7018125, 0.700134038, 0.699965217, 0.628333333, 0.6253125, 0.991388889, 0.931645833, 0.915229167, 0.879714482, 0.861679012, 0.850569492, 0.850436438, 0.850345133, 0.800598058, 0.800318644, 0.800237838, 0.800030199, 0.792104167, 0.759228395, 0.750348457, 0.75024303, 0.699965217, 0.682708333, 0.667604167, 0.603432184, 0.345833333, 0.961059028, 0.939513889, 0.893663194, 0.875390625, 0.850569492, 0.820833333, 0.804416667, 0.800684366, 0.800684366, 0.800318644, 0.800250962, 0.800246011, 0.800246011, 0.800076522, 0.800076522, 0.763375, 0.759270833, 0.7504, 0.75024303, 0.676666667, 0.664583333, 0.600028736, 0.966781346, 0.936496212, 0.899166667, 0.888686869, 0.858143939, 0.850502311, 0.850502311, 0.809640152, 0.805909091, 0.800594466, 0.800594466, 0.800273829, 0.800140969, 0.800128721, 0.800128721, 0.80007657, 0.750545455, 0.750057851, 0.681060606, 0.649983281, 0.61625, 0.951420455, 0.880530303, 0.850502311, 0.850502311, 0.850136766, 0.83, 0.827186544, 0.813371212, 0.805909091, 0.804640152, 0.800594466, 0.800594466, 0.800343766, 0.800273829, 0.800246753, 0.800128721, 0.8, 0.700480831, 0.681060606, 0.666515152, 0.412119835, 0.330113636, 0.947689394, 0.919905405, 0.900215716, 0.891723485, 0.850502311, 0.850181818, 0.850136766, 0.850136766, 0.835757576, 0.821354167, 0.800497246, 0.800273829, 0.800107143, 0.800024932, 0.8, 0.779791667, 0.735984848, 0.712626263, 0.681060606, 0.515606061, 0.349951389, 0.233705476, 0.985, 0.930340376, 0.911589744, 0.858143939, 0.851174114, 0.850136766, 0.850136766, 0.846950758, 0.817424242, 0.817102273, 0.801028213, 0.800594466, 0.800346445, 0.800343766, 0.800117103, 0.8, 0.750098351, 0.673245283, 0.670075758, 0.628882576, 0.388007813, 0.337973485, 0.93532197, 0.925643939, 0.900215716, 0.873068182, 0.858143939, 0.850502311, 0.850136766, 0.850136766, 0.828295455, 0.820833333, 0.800343766, 0.800246753, 0.8, 0.8, 0.690182815, 0.668087121, 0.653598485, 0.609138258, 0.600229846, 0.597348485, 0.590435606, 0.473134796, 0.452979626, 0.955151515, 0.942213805, 0.905454545, 0.880530303, 0.858143939, 0.850522167, 0.850502311, 0.850136766, 0.850136766, 0.817424242, 0.809564394, 0.800273829, 0.800181818, 0.80007657, 0.8, 0.725, 0.688557555, 0.650040783, 0.64998056, 0.648106061, 0.640577652, 0.35063299, 0.24625, 0.952020202, 0.951420455, 0.912766667, 0.901262626, 0.858143939, 0.850502311, 0.850502311, 0.850252525, 0.850136766, 0.821354167, 0.805909091, 0.800246753, 0.800246753, 0.8, 0.705576584, 0.681060606, 0.670075758, 0.601278409, 0.582301029, 0.526810345, 0.500380799, 0.35020649, 0.934607438, 0.908080808, 0.900144811, 0.891723485, 0.864583333, 0.858143939, 0.850502311, 0.850136766, 0.837594697, 0.820833333, 0.800313433, 0.800246753, 0.800117103, 0.700095563, 0.667329545, 0.600369686, 0.499980334, 0.35003125, 0.332359307, 0.311207464, 0.247316017, 0.988636364, 0.953110048, 0.884261364, 0.860653409, 0.858143939, 0.850502311, 0.850415628, 0.850136766, 0.800117103, 0.80003139, 0.80003139, 0.700060345, 0.689299242, 0.660683293, 0.650130952, 0.606912879, 0.600291767, 0.500025069, 0.499998888, 0.98719697, 0.980909091, 0.974621212, 0.884261364, 0.82680303, 0.800343766, 0.800246753, 0.800128721, 0.800128721, 0.800117103, 0.800117103, 0.77011398, 0.7005417, 0.675568182, 0.661837121, 0.650198653, 0.600291767, 0.600273268, 0.465757576, 0.452012539, 0.313852814, 0.852793561, 0.838383838, 0.804848485, 0.800343766, 0.800128721, 0.800128721, 0.800015009, 0.7005417, 0.700094156, 0.692045455, 0.662255892, 0.650416734, 0.650299575, 0.650243497, 0.639867424, 0.600062696, 0.582045455, 0.403242161, 0.235795455, 0.977272727, 0.964106061, 0.958901515, 0.800358775, 0.800162602, 0.800117103, 0.793844697, 0.750517565, 0.750068049, 0.750062751, 0.750057359, 0.700170388, 0.683806818, 0.650066445, 0.576460393, 0.549969429, 0.538399621, 0.409545455, 0.35021836, 1.033570076, 0.800261486, 0.800128721, 0.800117103, 0.750068049, 0.750057359, 0.750037968, 0.750031898, 0.72830303, 0.700170388, 0.700063796, 0.639867424, 0.500290419, 0.400332792, 0.362666667, 0.978525641, 0.912202112, 0.900556277, 0.850410511, 0.827147436, 0.800436542, 0.800415742, 0.800020563, 0.758173077, 0.750344828, 0.750068049, 0.700170388, 0.700029771, 0.60017284, 0.594871795, 0.520237649, 0.505128205, 0.500241342, 0.470769231, 0.957638889, 0.940701058, 0.849983766, 0.800302791, 0.800191989, 0.800020563, 0.750162367, 0.750068049, 0.742901235, 0.700250784, 0.700170388, 0.670216049, 0.649662222, 0.649662222, 0.626822917, 0.600436426, 0.60041361, 0.555500132, 0.500547544, 0.460578704, 0.397743056, 0.327407407, 0.966666667, 0.937242424, 0.910521886, 0.90064806, 0.900321106, 0.896022727, 0.895454545, 0.870580808, 0.858585859, 0.800643806, 0.80062987, 0.800537143, 0.80035194, 0.750079323, 0.750041201, 0.700250784, 0.651515152, 0.650416734, 0.600125217, 0.578314394, 0.578314394, 0.34998951, 0.261174242, 0.973796791, 0.970075758, 0.970075758, 0.961784512, 0.955151515, 0.952020202, 0.900321106, 0.850223776, 0.800909609, 0.800513307, 0.800386364, 0.800020563, 0.749188312, 0.7005417, 0.70043672, 0.700250784, 0.650407524, 0.618181818, 0.59114168, 0.500061916, 0.329545455, 1.059621212, 0.997792208, 0.963699495, 0.959191919, 0.910378788, 0.910378788, 0.850312684, 0.800386364, 0.80035194, 0.800034024, 0.800023511, 0.800020563, 0.769292929, 0.750031447, 0.70061442, 0.70043672, 0.646306818, 0.600143365, 0.350066986, 1.000230409, 1.000230409, 0.979527778, 0.940625, 0.926388889, 0.900129762, 0.861875, 0.850312684, 0.845458333, 0.823555556, 0.803541667, 0.800263218, 0.788, 0.77815, 0.700386207, 0.700164706, 0.650307143, 0.622828125, 0.6225, 0.500035345, 0.37046657, 1.000230409, 1.000230409, 0.977555556, 0.9456, 0.902222222, 0.850532143, 0.850362069, 0.840533333, 0.800534483, 0.800489676, 0.755555556, 0.750593103, 0.750283333, 0.722638889, 0.553333333, 0.500567308, 0.467693269, 0.437995338, 0.406354167, 0.285333333, 0.259375, 1.000230409, 0.989, 0.950185965, 0.9008, 0.900129762, 0.899, 0.877552083, 0.864583333, 0.85695, 0.853666667, 0.850362069, 0.850170115, 0.800473729, 0.773333333, 0.750646667, 0.634666667, 0.60059761, 0.500117677, 0.4925, 0.48792, 1.000457471, 1.000230409, 0.971866667, 0.971866667, 0.971866667, 0.971866667, 0.971866667, 0.971866667, 0.971866667, 0.971866667, 0.971866667, 0.971866667, 0.971866667, 0.971866667, 0.920236905, 0.900537069, 0.850610526, 0.850362069, 0.750646667, 0.656763743, 0.650148148, 0.600710606, 0.388830357, 0.286984568, 1.0115625, 1.000671304, 1.000402055, 0.950438596, 0.950185965, 0.912766667, 0.892194444, 0.8865, 0.850532143, 0.85011396, 0.845069444, 0.750593103, 0.750450658, 0.702666667, 0.700508929, 0.651007071, 0.466821212, 0.411553571, 0.314166667, 1.000602279, 0.994270833, 0.900158405, 0.90014152, 0.900129762, 0.85695, 0.809236111, 0.800401961, 0.800393224, 0.799963218, 0.740444444, 0.700398148, 0.700354545, 0.561979167, 0.504596491, 0.500801724, 0.295307738, 0.280333333, 0.260978788, 1.001416667, 1.000018551, 0.999995238, 0.99485, 0.976979167, 0.950185965, 0.949981609, 0.919954545, 0.800434622, 0.800259023, 0.778222222, 0.750593103, 0.700513566, 0.700184577, 0.586465465, 0.541517857, 0.5375, 0.495416667, 0.415172414, 1.05028058, 1.000230409, 0.999995238, 0.966759259, 0.929183333, 0.915766667, 0.900147246, 0.800401961, 0.799963218, 0.779791667, 0.755166667, 0.700710417, 0.700612069, 0.700278846, 0.700135088, 0.687555556, 0.650834808, 0.531666667, 0.350706422, 1.000446018, 1.000018551, 0.999995238, 0.999924242, 0.950185965, 0.9425, 0.906666667, 0.8471, 0.845458333, 0.800612676, 0.799963218, 0.771583333, 0.7504, 0.700079032, 0.562212644, 0.522844828, 0.500720126, 0.496549708, 1.050666667, 1.000018551, 0.950185965, 0.900135693, 0.900129762, 0.899111111, 0.870083333, 0.845833333, 0.800401961, 0.799963218, 0.771583333, 0.750520115, 0.750027778, 0.715766667, 0.662270115, 0.600224189, 0.545657673, 0.447916667, 0.365318713, 1.000018551, 0.928680556, 0.9008, 0.900135693, 0.900129762, 0.893066667, 0.891555556, 0.875555556, 0.840888889, 0.800355208, 0.799963218, 0.75065101, 0.750027778, 0.700618234, 0.610208333, 0.607416667, 0.568259587, 0.355534483, 0.353259649, 1.057962963, 0.962016667, 0.9008, 0.900509044, 0.900477825, 0.888125, 0.800401961, 0.800161172, 0.799963218, 0.790003236, 0.750648148, 0.707111111, 0.700618234, 0.697708333, 0.612517157, 0.350301724, 0.350301724, 0.272, 1.004888889, 0.966759259, 0.90063244, 0.90047076, 0.90047076, 0.899984058, 0.853666667, 0.8008, 0.800401961, 0.796755556, 0.750797009, 0.750648148, 0.750356125, 0.703770833, 0.700618234, 0.6895, 0.628333333, 0.500801724, 0.393548851, 1.033155556, 1.02, 1.000344928, 1.000065789, 0.994375, 0.912037037, 0.87, 0.850364583, 0.800947475, 0.800401961, 0.800144144, 0.750406233, 0.714410494, 0.700588406, 0.618361111, 0.600070513, 0.54175, 0.536901754, 0.507903226, 1.100483918, 1.096633333, 1.000344928, 0.838666667, 0.800401961, 0.755486111, 0.750799435, 0.688017677, 0.664875, 0.656666667, 0.637711864, 0.601944444, 0.58, 0.535677966, 0.50012336, 0.497885057, 0.463403955, 0.441392, 0.350301724, 1.000230409, 0.929277778, 0.902916667, 0.800888889, 0.800401961, 0.80037492, 0.796208333, 0.750392157, 0.750392157, 0.725625, 0.700206125, 0.602, 0.600447507, 0.557252451, 0.500801724, 0.483333333, 0.238041667, 1.1204375, 1.108125, 1.000230409, 0.876444444, 0.800806306, 0.760833333, 0.722568627, 0.715333333, 0.700632768, 0.700573099, 0.681598039, 0.650223718, 0.605208333, 0.604166667, 0.598627451, 0.475718391, 0.432122899, 0.287041667, 0.283054487, 1.000230409, 0.960433333, 0.891555556, 0.864583333, 0.802243319, 0.800980392, 0.800312375, 0.773333333, 0.75065101, 0.750356125, 0.722333333, 0.700459889, 0.629416667, 0.621971751, 0.565972222, 0.35542803, 0.329964879, 0.258, 1.000230409, 0.927541667, 0.91375, 0.9025, 0.800401961, 0.7866, 0.750621354, 0.750356125, 0.749166667, 0.700888203, 0.700614035, 0.700603448, 0.656666667, 0.653431373, 0.650134, 0.600982906, 0.586041667, 0.5814, 0.361071429, 0.302117347, 0.9918, 0.936861111, 0.919125, 0.8211125, 0.800980392, 0.800980392, 0.800401961, 0.800279693, 0.75065101, 0.75053268, 0.734645833, 0.700603448, 0.70009573, 0.671875, 0.64025, 0.58, 0.549791667, 0.328131579, 0.303574468, 0.2565, 0.251399254, 0.81640625, 0.800711494, 0.800470513, 0.800094017, 0.799982853, 0.785864198, 0.75065101, 0.733277778, 0.710125, 0.700603448, 0.700540441, 0.7, 0.684027778, 0.672135417, 0.638614379, 0.631354167, 0.611140537, 0.609583333, 0.585315789, 0.249416667, 0.8721, 0.8319375, 0.8300625, 0.805555556, 0.800401961, 0.80000295, 0.78375, 0.753525, 0.75065101, 0.727349537, 0.700614035, 0.700605263, 0.672140805, 0.627011183, 0.626577778, 0.456875, 0.393548851, 0.385791667, 0.307501459, 0.283958333, 0.955791667, 0.930416667, 0.9025, 0.87115, 0.800401961, 0.800137255, 0.800137255, 0.750770115, 0.75065101, 0.750293939, 0.700623, 0.700614035, 0.700362069, 0.60128, 0.417916667, 0.3715625, 0.3715625, 0.36871875, 0.356458333, 0.902222222, 0.811388889, 0.800401961, 0.800137255, 0.800071839, 0.791458333, 0.750727326, 0.75065101, 0.750437269, 0.750176991, 0.726933333, 0.726933333, 0.700623, 0.700518519, 0.700256795, 0.5046875, 0.471108491, 0.325, 0.268214286, 0.970816667, 0.902962963, 0.900833333, 0.899555556, 0.845833333, 0.800808642, 0.800401961, 0.800115819, 0.75065101, 0.750503571, 0.750206897, 0.700362069, 0.700069811, 0.700058333, 0.676666667, 0.658541667, 0.598792339, 0.581130952, 0.440375, 0.410833333, 0.410833333, 0.921703704, 0.921604938, 0.800808642, 0.800516667, 0.800401961, 0.768847222, 0.75065101, 0.750473684, 0.750371895, 0.750206897, 0.700251773, 0.66237931, 0.590617284, 0.5565625, 0.495617514, 0.449964912, 0.410833333, 0.4078125, 0.378895152, 0.376597222, 0.271875, 0.921703704, 0.921604938, 0.800779018, 0.800260821, 0.799982853, 0.768847222, 0.750716981, 0.75065101, 0.750425926, 0.750395513, 0.700236601, 0.700211111, 0.590617284, 0.5565625, 0.550403509, 0.550349708, 0.500258046, 0.410833333, 0.4078125, 0.376597222, 0.271875, 0.936355556, 0.813611111, 0.800401961, 0.75075, 0.75065101, 0.750473684, 0.750395513, 0.707446429, 0.700236601, 0.700019883, 0.683550607, 0.682433036, 0.673083333, 0.664583333, 0.600239766, 0.585, 0.579511494, 0.448722222, 0.447083333, 0.350416667, 0.92885, 0.86037037, 0.806879167, 0.800579532, 0.800401961, 0.8004, 0.800309211, 0.800149813, 0.800115819, 0.773333333, 0.750797009, 0.750473684, 0.750395513, 0.750254867, 0.700903571, 0.70013604, 0.632361111, 0.607654321, 0.537919444, 0.342361111, 0.999533333, 0.902962963, 0.800701754, 0.800566092, 0.800401961, 0.800333333, 0.800115819, 0.750770115, 0.750473684, 0.750395513, 0.750212553, 0.702777778, 0.700659649, 0.699984417, 0.636049383, 0.567377778, 0.555430556, 0.555430556, 0.463194444, 0.354444444, 0.309333333, 0.30277037, 0.939166667, 0.930416667, 0.885925926, 0.83375, 0.806879167, 0.806058333, 0.800701754, 0.800401961, 0.800333333, 0.800055762, 0.799975862, 0.750651724, 0.750395513, 0.700424138, 0.700058333, 0.684888889, 0.592083333, 0.5403125, 0.433263158, 0.404144928, 0.332146465, 0.980984848, 0.950625, 0.927291667, 0.868888889, 0.812625, 0.812625, 0.810111111, 0.800701754, 0.800534979, 0.800401961, 0.750651724, 0.750395513, 0.750050847, 0.700424138, 0.700422, 0.600099145, 0.453125, 0.366053523, 0.26369382, 0.868888889, 0.850520588, 0.850045, 0.825444444, 0.80575, 0.800746552, 0.800578947, 0.800034503, 0.7975, 0.749987124, 0.700422, 0.664875, 0.664875, 0.657083333, 0.65024031, 0.590740741, 0.528125, 0.500528095, 0.408960345, 0.951944444, 0.945555556, 0.929074074, 0.890604167, 0.890604167, 0.884, 0.857916667, 0.850084211, 0.85007069, 0.800511068, 0.800401961, 0.800034503, 0.755208333, 0.750371895, 0.700422, 0.700106061, 0.601037091, 0.600528571, 0.500033898, 0.4509375, 0.441041667, 0.271875, 0.960625, 0.902962963, 0.864342593, 0.850446154, 0.850426891, 0.841, 0.800842424, 0.800401961, 0.800034503, 0.795416667, 0.7953875, 0.794566667, 0.750395513, 0.700516224, 0.700422, 0.6825, 0.650962281, 0.650421429, 0.600040678, 0.500610909, 0.477291667, 0.2640625, 0.92, 0.909391667, 0.900061017, 0.894444444, 0.881575, 0.880754167, 0.850084211, 0.821666667, 0.800401961, 0.800071839, 0.800034503, 0.758229167, 0.750608, 0.750395513, 0.741, 0.700505263, 0.700246491, 0.700051852, 0.650044068, 0.630402924, 0.560625, 0.560625, 0.39875, 0.922839506, 0.874027778, 0.819270833, 0.813309028, 0.812625, 0.800401961, 0.800071839, 0.800034503, 0.786631944, 0.75885, 0.750608, 0.750347333, 0.750140741, 0.750050847, 0.750050847, 0.700556897, 0.700505263, 0.700246491, 0.650596491, 0.628333333, 0.625625, 0.625625, 0.505888889, 0.394722222], \"y0\": \" \", \"yaxis\": \"y\"}],                        {\"legend\": {\"tracegroupgap\": 0}, \"margin\": {\"t\": 60}, \"template\": {\"data\": {\"bar\": [{\"error_x\": {\"color\": \"#2a3f5f\"}, \"error_y\": {\"color\": \"#2a3f5f\"}, \"marker\": {\"line\": {\"color\": \"#E5ECF6\", \"width\": 0.5}}, \"type\": \"bar\"}], \"barpolar\": [{\"marker\": {\"line\": {\"color\": \"#E5ECF6\", \"width\": 0.5}}, \"type\": \"barpolar\"}], \"carpet\": [{\"aaxis\": {\"endlinecolor\": \"#2a3f5f\", \"gridcolor\": \"white\", \"linecolor\": \"white\", \"minorgridcolor\": \"white\", \"startlinecolor\": \"#2a3f5f\"}, \"baxis\": {\"endlinecolor\": \"#2a3f5f\", \"gridcolor\": \"white\", \"linecolor\": \"white\", \"minorgridcolor\": \"white\", \"startlinecolor\": \"#2a3f5f\"}, \"type\": \"carpet\"}], \"choropleth\": [{\"colorbar\": {\"outlinewidth\": 0, \"ticks\": \"\"}, \"type\": \"choropleth\"}], \"contour\": [{\"colorbar\": {\"outlinewidth\": 0, \"ticks\": \"\"}, \"colorscale\": [[0.0, \"#0d0887\"], [0.1111111111111111, \"#46039f\"], [0.2222222222222222, \"#7201a8\"], [0.3333333333333333, \"#9c179e\"], [0.4444444444444444, \"#bd3786\"], [0.5555555555555556, \"#d8576b\"], [0.6666666666666666, \"#ed7953\"], [0.7777777777777778, \"#fb9f3a\"], [0.8888888888888888, \"#fdca26\"], [1.0, \"#f0f921\"]], \"type\": \"contour\"}], \"contourcarpet\": [{\"colorbar\": {\"outlinewidth\": 0, \"ticks\": \"\"}, \"type\": \"contourcarpet\"}], \"heatmap\": [{\"colorbar\": {\"outlinewidth\": 0, \"ticks\": \"\"}, \"colorscale\": [[0.0, \"#0d0887\"], [0.1111111111111111, \"#46039f\"], [0.2222222222222222, \"#7201a8\"], [0.3333333333333333, \"#9c179e\"], [0.4444444444444444, \"#bd3786\"], [0.5555555555555556, \"#d8576b\"], [0.6666666666666666, \"#ed7953\"], [0.7777777777777778, \"#fb9f3a\"], [0.8888888888888888, \"#fdca26\"], [1.0, \"#f0f921\"]], \"type\": \"heatmap\"}], \"heatmapgl\": [{\"colorbar\": {\"outlinewidth\": 0, \"ticks\": \"\"}, \"colorscale\": [[0.0, \"#0d0887\"], [0.1111111111111111, \"#46039f\"], [0.2222222222222222, \"#7201a8\"], [0.3333333333333333, \"#9c179e\"], [0.4444444444444444, \"#bd3786\"], [0.5555555555555556, \"#d8576b\"], [0.6666666666666666, \"#ed7953\"], [0.7777777777777778, \"#fb9f3a\"], [0.8888888888888888, \"#fdca26\"], [1.0, \"#f0f921\"]], \"type\": \"heatmapgl\"}], \"histogram\": [{\"marker\": {\"colorbar\": {\"outlinewidth\": 0, \"ticks\": \"\"}}, \"type\": \"histogram\"}], \"histogram2d\": [{\"colorbar\": {\"outlinewidth\": 0, \"ticks\": \"\"}, \"colorscale\": [[0.0, \"#0d0887\"], [0.1111111111111111, \"#46039f\"], [0.2222222222222222, \"#7201a8\"], [0.3333333333333333, \"#9c179e\"], [0.4444444444444444, \"#bd3786\"], [0.5555555555555556, \"#d8576b\"], [0.6666666666666666, \"#ed7953\"], [0.7777777777777778, \"#fb9f3a\"], [0.8888888888888888, \"#fdca26\"], [1.0, \"#f0f921\"]], \"type\": \"histogram2d\"}], \"histogram2dcontour\": [{\"colorbar\": {\"outlinewidth\": 0, \"ticks\": \"\"}, \"colorscale\": [[0.0, \"#0d0887\"], [0.1111111111111111, \"#46039f\"], [0.2222222222222222, \"#7201a8\"], [0.3333333333333333, \"#9c179e\"], [0.4444444444444444, \"#bd3786\"], [0.5555555555555556, \"#d8576b\"], [0.6666666666666666, \"#ed7953\"], [0.7777777777777778, \"#fb9f3a\"], [0.8888888888888888, \"#fdca26\"], [1.0, \"#f0f921\"]], \"type\": \"histogram2dcontour\"}], \"mesh3d\": [{\"colorbar\": {\"outlinewidth\": 0, \"ticks\": \"\"}, \"type\": \"mesh3d\"}], \"parcoords\": [{\"line\": {\"colorbar\": {\"outlinewidth\": 0, \"ticks\": \"\"}}, \"type\": \"parcoords\"}], \"pie\": [{\"automargin\": true, \"type\": \"pie\"}], \"scatter\": [{\"marker\": {\"colorbar\": {\"outlinewidth\": 0, \"ticks\": \"\"}}, \"type\": \"scatter\"}], \"scatter3d\": [{\"line\": {\"colorbar\": {\"outlinewidth\": 0, \"ticks\": \"\"}}, \"marker\": {\"colorbar\": {\"outlinewidth\": 0, \"ticks\": \"\"}}, \"type\": \"scatter3d\"}], \"scattercarpet\": [{\"marker\": {\"colorbar\": {\"outlinewidth\": 0, \"ticks\": \"\"}}, \"type\": \"scattercarpet\"}], \"scattergeo\": [{\"marker\": {\"colorbar\": {\"outlinewidth\": 0, \"ticks\": \"\"}}, \"type\": \"scattergeo\"}], \"scattergl\": [{\"marker\": {\"colorbar\": {\"outlinewidth\": 0, \"ticks\": \"\"}}, \"type\": \"scattergl\"}], \"scattermapbox\": [{\"marker\": {\"colorbar\": {\"outlinewidth\": 0, \"ticks\": \"\"}}, \"type\": \"scattermapbox\"}], \"scatterpolar\": [{\"marker\": {\"colorbar\": {\"outlinewidth\": 0, \"ticks\": \"\"}}, \"type\": \"scatterpolar\"}], \"scatterpolargl\": [{\"marker\": {\"colorbar\": {\"outlinewidth\": 0, \"ticks\": \"\"}}, \"type\": \"scatterpolargl\"}], \"scatterternary\": [{\"marker\": {\"colorbar\": {\"outlinewidth\": 0, \"ticks\": \"\"}}, \"type\": \"scatterternary\"}], \"surface\": [{\"colorbar\": {\"outlinewidth\": 0, \"ticks\": \"\"}, \"colorscale\": [[0.0, \"#0d0887\"], [0.1111111111111111, \"#46039f\"], [0.2222222222222222, \"#7201a8\"], [0.3333333333333333, \"#9c179e\"], [0.4444444444444444, \"#bd3786\"], [0.5555555555555556, \"#d8576b\"], [0.6666666666666666, \"#ed7953\"], [0.7777777777777778, \"#fb9f3a\"], [0.8888888888888888, \"#fdca26\"], [1.0, \"#f0f921\"]], \"type\": \"surface\"}], \"table\": [{\"cells\": {\"fill\": {\"color\": \"#EBF0F8\"}, \"line\": {\"color\": \"white\"}}, \"header\": {\"fill\": {\"color\": \"#C8D4E3\"}, \"line\": {\"color\": \"white\"}}, \"type\": \"table\"}]}, \"layout\": {\"annotationdefaults\": {\"arrowcolor\": \"#2a3f5f\", \"arrowhead\": 0, \"arrowwidth\": 1}, \"autotypenumbers\": \"strict\", \"coloraxis\": {\"colorbar\": {\"outlinewidth\": 0, \"ticks\": \"\"}}, \"colorscale\": {\"diverging\": [[0, \"#8e0152\"], [0.1, \"#c51b7d\"], [0.2, \"#de77ae\"], [0.3, \"#f1b6da\"], [0.4, \"#fde0ef\"], [0.5, \"#f7f7f7\"], [0.6, \"#e6f5d0\"], [0.7, \"#b8e186\"], [0.8, \"#7fbc41\"], [0.9, \"#4d9221\"], [1, \"#276419\"]], \"sequential\": [[0.0, \"#0d0887\"], [0.1111111111111111, \"#46039f\"], [0.2222222222222222, \"#7201a8\"], [0.3333333333333333, \"#9c179e\"], [0.4444444444444444, \"#bd3786\"], [0.5555555555555556, \"#d8576b\"], [0.6666666666666666, \"#ed7953\"], [0.7777777777777778, \"#fb9f3a\"], [0.8888888888888888, \"#fdca26\"], [1.0, \"#f0f921\"]], \"sequentialminus\": [[0.0, \"#0d0887\"], [0.1111111111111111, \"#46039f\"], [0.2222222222222222, \"#7201a8\"], [0.3333333333333333, \"#9c179e\"], [0.4444444444444444, \"#bd3786\"], [0.5555555555555556, \"#d8576b\"], [0.6666666666666666, \"#ed7953\"], [0.7777777777777778, \"#fb9f3a\"], [0.8888888888888888, \"#fdca26\"], [1.0, \"#f0f921\"]]}, \"colorway\": [\"#636efa\", \"#EF553B\", \"#00cc96\", \"#ab63fa\", \"#FFA15A\", \"#19d3f3\", \"#FF6692\", \"#B6E880\", \"#FF97FF\", \"#FECB52\"], \"font\": {\"color\": \"#2a3f5f\"}, \"geo\": {\"bgcolor\": \"white\", \"lakecolor\": \"white\", \"landcolor\": \"#E5ECF6\", \"showlakes\": true, \"showland\": true, \"subunitcolor\": \"white\"}, \"hoverlabel\": {\"align\": \"left\"}, \"hovermode\": \"closest\", \"mapbox\": {\"style\": \"light\"}, \"paper_bgcolor\": \"white\", \"plot_bgcolor\": \"#E5ECF6\", \"polar\": {\"angularaxis\": {\"gridcolor\": \"white\", \"linecolor\": \"white\", \"ticks\": \"\"}, \"bgcolor\": \"#E5ECF6\", \"radialaxis\": {\"gridcolor\": \"white\", \"linecolor\": \"white\", \"ticks\": \"\"}}, \"scene\": {\"xaxis\": {\"backgroundcolor\": \"#E5ECF6\", \"gridcolor\": \"white\", \"gridwidth\": 2, \"linecolor\": \"white\", \"showbackground\": true, \"ticks\": \"\", \"zerolinecolor\": \"white\"}, \"yaxis\": {\"backgroundcolor\": \"#E5ECF6\", \"gridcolor\": \"white\", \"gridwidth\": 2, \"linecolor\": \"white\", \"showbackground\": true, \"ticks\": \"\", \"zerolinecolor\": \"white\"}, \"zaxis\": {\"backgroundcolor\": \"#E5ECF6\", \"gridcolor\": \"white\", \"gridwidth\": 2, \"linecolor\": \"white\", \"showbackground\": true, \"ticks\": \"\", \"zerolinecolor\": \"white\"}}, \"shapedefaults\": {\"line\": {\"color\": \"#2a3f5f\"}}, \"ternary\": {\"aaxis\": {\"gridcolor\": \"white\", \"linecolor\": \"white\", \"ticks\": \"\"}, \"baxis\": {\"gridcolor\": \"white\", \"linecolor\": \"white\", \"ticks\": \"\"}, \"bgcolor\": \"#E5ECF6\", \"caxis\": {\"gridcolor\": \"white\", \"linecolor\": \"white\", \"ticks\": \"\"}}, \"title\": {\"x\": 0.05}, \"xaxis\": {\"automargin\": true, \"gridcolor\": \"white\", \"linecolor\": \"white\", \"ticks\": \"\", \"title\": {\"standoff\": 15}, \"zerolinecolor\": \"white\", \"zerolinewidth\": 2}, \"yaxis\": {\"automargin\": true, \"gridcolor\": \"white\", \"linecolor\": \"white\", \"ticks\": \"\", \"title\": {\"standoff\": 15}, \"zerolinecolor\": \"white\", \"zerolinewidth\": 2}}}, \"title\": {\"text\": \"Distribution of actual_productivity\", \"x\": 0.5}, \"violinmode\": \"group\", \"xaxis\": {\"anchor\": \"y\", \"domain\": [0.0, 1.0]}, \"yaxis\": {\"anchor\": \"x\", \"domain\": [0.0, 1.0], \"title\": {\"text\": \"actual_productivity\"}}},                        {\"responsive\": true}                    ).then(function(){\n",
       "                            \n",
       "var gd = document.getElementById('3623ae05-37fa-4c35-8c2c-7f781f38d510');\n",
       "var x = new MutationObserver(function (mutations, observer) {{\n",
       "        var display = window.getComputedStyle(gd).display;\n",
       "        if (!display || display === 'none') {{\n",
       "            console.log([gd, 'removed!']);\n",
       "            Plotly.purge(gd);\n",
       "            observer.disconnect();\n",
       "        }}\n",
       "}});\n",
       "\n",
       "// Listen for the removal of the full notebook cells\n",
       "var notebookContainer = gd.closest('#notebook-container');\n",
       "if (notebookContainer) {{\n",
       "    x.observe(notebookContainer, {childList: true});\n",
       "}}\n",
       "\n",
       "// Listen for the clearing of the current output cell\n",
       "var outputEl = gd.closest('.output');\n",
       "if (outputEl) {{\n",
       "    x.observe(outputEl, {childList: true});\n",
       "}}\n",
       "\n",
       "                        })                };                });            </script>        </div>"
      ]
     },
     "metadata": {}
    }
   ],
   "metadata": {
    "execution": {
     "iopub.execute_input": "2021-04-10T14:15:07.484433Z",
     "iopub.status.busy": "2021-04-10T14:15:07.482566Z",
     "iopub.status.idle": "2021-04-10T14:15:07.594057Z",
     "shell.execute_reply": "2021-04-10T14:15:07.593409Z"
    },
    "papermill": {
     "duration": 0.170799,
     "end_time": "2021-04-10T14:15:07.594208",
     "exception": false,
     "start_time": "2021-04-10T14:15:07.423409",
     "status": "completed"
    },
    "tags": []
   }
  },
  {
   "cell_type": "code",
   "execution_count": 19,
   "source": [
    "fig = px.histogram(df, x=\"smv\", \n",
    "                   marginal=\"violin\", template='ggplot2' # or violin, rug\n",
    "                  )\n",
    "fig.update_layout(title='Distribution of smv(standard minute value)', title_x=0.5)\n",
    "\n",
    "fig.show()"
   ],
   "outputs": [
    {
     "output_type": "display_data",
     "data": {
      "text/html": [
       "<div>                            <div id=\"ad2d30b7-ee3a-4fbe-a7b5-e577efa9d16c\" class=\"plotly-graph-div\" style=\"height:525px; width:100%;\"></div>            <script type=\"text/javascript\">                require([\"plotly\"], function(Plotly) {                    window.PLOTLYENV=window.PLOTLYENV || {};                                    if (document.getElementById(\"ad2d30b7-ee3a-4fbe-a7b5-e577efa9d16c\")) {                    Plotly.newPlot(                        \"ad2d30b7-ee3a-4fbe-a7b5-e577efa9d16c\",                        [{\"alignmentgroup\": \"True\", \"bingroup\": \"x\", \"hovertemplate\": \"smv=%{x}<br>count=%{y}<extra></extra>\", \"legendgroup\": \"\", \"marker\": {\"color\": \"#F8766D\"}, \"name\": \"\", \"offsetgroup\": \"\", \"orientation\": \"v\", \"showlegend\": false, \"type\": \"histogram\", \"x\": [26.16, 3.94, 11.41, 11.41, 25.9, 25.9, 3.94, 28.08, 19.87, 28.08, 28.08, 19.31, 11.41, 3.94, 2.9, 3.94, 2.9, 23.69, 4.15, 4.15, 2.9, 4.15, 3.94, 3.94, 28.08, 28.08, 26.16, 26.16, 11.61, 11.61, 25.9, 25.9, 19.31, 4.15, 19.87, 4.15, 23.69, 28.08, 2.9, 3.94, 4.15, 3.94, 3.94, 11.61, 3.94, 26.16, 25.9, 25.9, 28.08, 26.16, 28.08, 11.61, 3.94, 3.94, 19.31, 19.87, 28.08, 2.9, 2.9, 45.67, 4.15, 3.94, 3.94, 3.94, 4.15, 26.16, 2.9, 3.94, 25.9, 25.9, 26.16, 19.31, 11.61, 11.61, 28.08, 28.08, 2.9, 2.9, 28.08, 19.87, 3.94, 2.9, 21.98, 3.94, 3.94, 4.15, 4.15, 3.94, 26.16, 26.16, 3.94, 3.94, 28.08, 28.08, 19.87, 11.61, 25.9, 25.9, 11.61, 28.08, 19.31, 2.9, 21.98, 2.9, 3.94, 3.94, 26.16, 26.16, 25.9, 4.15, 3.94, 3.94, 3.94, 2.9, 28.08, 28.08, 11.41, 19.87, 11.61, 25.9, 28.08, 21.98, 2.9, 2.9, 31.83, 4.15, 3.94, 3.94, 26.16, 3.94, 26.16, 28.08, 25.9, 25.9, 3.94, 4.15, 28.08, 19.87, 11.61, 11.41, 28.08, 3.94, 2.9, 4.15, 2.9, 4.15, 12.52, 42.41, 3.94, 4.15, 3.94, 3.94, 26.16, 25.9, 25.9, 3.94, 4.15, 3.94, 28.08, 28.08, 11.61, 11.41, 26.16, 28.08, 19.87, 12.52, 2.9, 2.9, 20.79, 4.15, 4.15, 3.94, 26.16, 3.94, 3.94, 26.16, 25.9, 25.9, 3.94, 3.94, 11.41, 11.61, 28.08, 28.08, 19.87, 4.15, 2.9, 4.15, 12.52, 2.9, 2.9, 50.48, 20.79, 3.94, 4.3, 4.15, 3.94, 3.94, 26.16, 26.16, 25.9, 25.9, 2.9, 4.15, 19.87, 11.41, 11.61, 28.08, 2.9, 50.48, 20.79, 12.52, 2.9, 4.15, 22.4, 3.94, 4.3, 3.94, 3.94, 4.15, 3.94, 26.16, 26.16, 25.9, 25.9, 4.15, 3.94, 11.61, 11.61, 28.08, 42.27, 2.9, 2.9, 4.15, 27.13, 20.79, 22.4, 22.4, 4.15, 4.3, 25.9, 3.94, 4.15, 3.94, 26.16, 25.9, 2.9, 4.15, 11.61, 11.61, 26.16, 20.79, 2.9, 22.4, 22.4, 14.61, 3.94, 51.02, 3.94, 4.3, 3.94, 3.94, 4.15, 3.94, 26.16, 25.9, 25.9, 26.16, 11.61, 11.61, 20.79, 2.9, 22.52, 22.52, 2.9, 22.52, 14.89, 22.94, 4.15, 3.94, 3.94, 3.94, 3.94, 11.41, 11.61, 25.9, 25.9, 48.68, 26.16, 22.94, 22.52, 2.9, 2.9, 22.52, 22.52, 14.89, 2.9, 41.19, 4.15, 4.15, 4.15, 2.9, 11.41, 48.84, 25.9, 26.16, 22.52, 22.52, 2.9, 26.87, 22.52, 14.89, 22.94, 2.9, 20.4, 3.94, 49.1, 3.94, 4.3, 3.94, 4.15, 11.41, 25.9, 26.16, 2.9, 22.94, 22.52, 22.52, 22.52, 14.89, 2.9, 20.4, 48.84, 22.94, 3.94, 4.15, 15.26, 4.15, 11.41, 25.9, 26.16, 22.52, 22.52, 22.52, 22.94, 3.94, 14.89, 20.4, 2.9, 15.26, 22.94, 4.15, 4.3, 3.94, 22.52, 11.61, 3.94, 25.9, 22.94, 22.52, 4.15, 20.4, 22.52, 14.89, 22.94, 15.26, 2.9, 54.56, 3.94, 22.52, 4.15, 3.94, 3.94, 22.52, 22.94, 11.61, 22.52, 22.94, 22.52, 4.15, 20.4, 14.89, 4.3, 3.94, 3.94, 2.9, 15.26, 22.52, 40.99, 29.12, 3.94, 2.9, 4.08, 4.15, 3.94, 2.9, 22.94, 22.52, 4.15, 3.94, 3.94, 4.08, 22.94, 22.52, 11.61, 22.52, 15.26, 42.97, 20.4, 4.3, 22.52, 29.12, 3.94, 3.94, 15.09, 3.94, 4.15, 3.94, 3.94, 3.94, 3.94, 4.3, 22.52, 22.94, 22.94, 22.52, 11.61, 22.52, 3.94, 22.52, 15.26, 20.4, 29.12, 4.08, 42.97, 15.09, 2.9, 3.94, 3.94, 4.3, 4.15, 3.94, 3.94, 22.52, 11.61, 22.52, 22.94, 22.94, 22.52, 4.08, 20.4, 29.12, 15.26, 3.94, 15.09, 28.08, 22.52, 22.52, 3.94, 4.3, 4.15, 22.52, 3.94, 22.52, 3.94, 4.15, 4.15, 22.94, 3.94, 3.94, 29.12, 15.26, 15.09, 30.4, 2.9, 20.79, 48.18, 22.52, 22.52, 2.9, 3.94, 3.94, 22.52, 22.94, 3.94, 20.79, 22.52, 4.08, 29.12, 15.26, 4.3, 4.15, 20.1, 38.09, 18.79, 3.94, 23.54, 2.9, 22.52, 4.3, 22.52, 22.52, 22.52, 2.9, 4.15, 2.9, 3.94, 3.94, 22.94, 29.12, 20.79, 3.94, 15.26, 4.08, 20.1, 18.79, 3.94, 23.54, 22.52, 22.52, 3.94, 3.94, 3.94, 3.94, 3.94, 3.94, 4.08, 3.94, 3.94, 3.94, 3.94, 3.94, 22.52, 22.52, 29.12, 22.94, 15.26, 50.89, 20.1, 18.79, 23.54, 23.54, 4.15, 22.52, 22.94, 3.94, 22.52, 3.94, 3.94, 3.94, 22.52, 22.52, 4.3, 29.12, 15.26, 4.08, 20.1, 18.79, 24.26, 24.26, 2.9, 22.94, 3.94, 22.52, 22.52, 22.52, 3.94, 4.3, 15.26, 22.52, 29.12, 4.08, 20.55, 18.79, 4.15, 3.94, 30.1, 24.26, 2.9, 24.26, 3.94, 22.52, 22.52, 3.94, 4.15, 22.52, 22.52, 3.94, 22.52, 15.26, 4.08, 29.12, 25.31, 18.79, 24.26, 24.26, 4.3, 2.9, 30.1, 22.52, 22.52, 22.52, 3.94, 3.94, 4.15, 22.52, 15.26, 22.52, 3.94, 3.94, 18.79, 24.26, 10.05, 29.12, 4.08, 30.1, 2.9, 30.1, 22.52, 22.52, 22.52, 3.94, 22.52, 2.9, 4.08, 3.94, 3.94, 15.26, 29.12, 3.94, 10.05, 18.79, 30.1, 24.26, 30.1, 24.26, 3.94, 22.52, 22.52, 22.52, 22.52, 4.08, 3.94, 2.9, 15.26, 29.12, 3.94, 18.79, 10.05, 3.94, 24.26, 30.1, 30.1, 4.3, 24.26, 22.52, 4.15, 22.52, 22.52, 22.52, 3.94, 4.08, 3.94, 4.15, 15.26, 29.12, 18.79, 10.05, 30.1, 2.9, 3.94, 30.1, 24.26, 24.26, 3.94, 3.94, 22.52, 22.52, 22.52, 2.9, 15.26, 22.52, 29.12, 30.1, 10.05, 4.15, 30.1, 3.94, 18.79, 30.1, 30.1, 4.08, 4.08, 3.94, 22.52, 22.52, 22.52, 22.52, 3.94, 29.12, 15.26, 4.15, 18.79, 10.05, 30.1, 4.15, 30.1, 3.94, 2.9, 30.1, 30.1, 4.15, 4.08, 22.52, 22.52, 4.15, 3.94, 4.15, 22.52, 18.79, 15.26, 29.12, 30.1, 30.1, 30.1, 3.94, 30.1, 3.94, 22.52, 11.41, 22.52, 4.15, 22.52, 4.08, 15.26, 4.15, 30.1, 18.79, 3.94, 3.94, 30.1, 3.94, 4.15, 30.1, 11.41, 29.12, 30.1, 22.52, 30.1, 22.52, 4.15, 4.15, 4.08, 15.26, 22.52, 3.94, 30.1, 30.1, 4.15, 30.1, 30.1, 11.41, 18.79, 30.1, 2.9, 3.94, 3.94, 3.94, 22.52, 4.08, 15.26, 4.15, 30.1, 2.9, 30.1, 30.1, 18.79, 11.41, 4.15, 2.9, 30.1, 30.1, 22.52, 4.15, 18.79, 22.52, 3.94, 4.08, 4.15, 30.1, 30.1, 15.26, 2.9, 18.79, 30.1, 4.15, 30.1, 4.15, 30.1, 11.41, 18.22, 18.79, 4.15, 22.52, 3.94, 5.13, 5.13, 15.26, 5.13, 18.79, 30.1, 2.9, 30.1, 11.41, 30.1, 5.13, 30.1, 18.79, 29.4, 3.94, 5.13, 30.33, 18.22, 5.13, 2.9, 5.13, 11.41, 30.1, 30.1, 15.26, 22.52, 18.79, 30.1, 5.13, 30.1, 18.79, 5.13, 3.94, 5.13, 3.94, 30.33, 19.68, 5.13, 29.4, 5.13, 15.26, 22.52, 30.1, 30.1, 2.9, 18.79, 3.94, 5.13, 30.1, 11.41, 29.4, 5.13, 5.13, 18.79, 5.13, 30.1, 5.13, 30.33, 19.68, 5.13, 2.9, 5.13, 2.9, 15.26, 30.1, 5.13, 3.94, 18.79, 3.94, 29.4, 30.33, 11.41, 18.79, 30.1, 21.25, 30.1, 3.94, 30.1, 5.13, 3.94, 5.13, 5.13, 5.13, 15.26, 30.1, 30.1, 30.1, 18.79, 11.41, 30.33, 29.4, 29.4, 18.79, 21.25, 2.9, 2.9, 5.13, 5.13, 2.9, 4.6, 15.26, 30.1, 30.1, 4.6, 30.1, 18.79, 11.61, 29.4, 2.9, 2.9, 30.33, 29.4, 18.79, 2.9, 21.25, 3.9, 22.53, 18.79, 4.6, 4.6, 4.6, 2.9, 30.1, 15.26, 30.1, 18.79, 11.61, 29.4, 29.4, 30.33, 21.82, 4.6, 4.6, 30.1, 22.53, 3.9, 2.9, 2.9, 4.6, 4.6, 30.1, 11.61, 15.26, 3.94, 18.79, 29.4, 18.79, 29.4, 21.82, 30.33, 4.6, 3.9, 30.1, 27.48, 2.9, 2.9, 26.66, 4.6, 2.9, 4.6, 4.6, 11.61, 15.26, 30.1, 3.94, 29.4, 18.79, 29.4, 18.79, 21.82, 30.33, 4.6, 3.9, 27.48, 26.66, 26.66, 2.9, 2.9, 4.6, 2.9, 4.6, 4.6, 15.26, 29.4, 18.79, 29.4, 18.79, 27.48, 21.82, 26.66, 30.33, 11.61, 3.94, 2.9, 26.66, 3.9, 30.1, 3.94, 2.9, 4.6, 3.9, 4.6, 3.94, 26.66, 15.26, 2.9, 11.61, 29.4, 30.1, 4.6, 18.79, 29.4, 18.79, 26.66, 27.48, 21.82, 2.9, 4.6, 3.94, 4.6, 4.6, 4.6, 11.41, 26.66, 15.26, 29.4, 30.1, 26.66, 29.4, 18.79, 20.2, 4.6, 27.48, 21.82, 4.6, 3.9, 3.94, 3.94, 2.9, 4.6, 2.9, 15.28, 4.6, 4.6, 4.6, 2.9, 3.94, 3.94, 11.41, 15.26, 29.4, 30.1, 26.82, 26.82, 18.79, 27.48, 21.82, 4.6, 4.6, 3.9, 29.4, 15.28, 18.79, 4.6, 3.9, 2.9, 4.6, 3.94, 3.94, 4.6, 11.41, 29.4, 15.26, 26.82, 18.79, 26.82, 27.48, 21.82, 15.28, 2.9, 30.1, 22.53, 4.6, 15.26, 26.82, 4.6, 3.94, 26.82, 29.4, 11.41, 2.9, 18.79, 21.82, 3.94, 3.94, 2.9, 16.1, 4.6, 3.9, 23.41, 27.48, 4.6, 4.6, 2.9, 3.94, 3.94, 3.9, 3.94, 26.82, 26.82, 30.1, 15.26, 11.41, 2.9, 18.79, 21.82, 16.1, 23.41, 30.48, 26.82, 3.9, 2.9, 2.9, 2.9, 4.6, 3.94, 26.82, 26.82, 2.9, 30.1, 15.26, 11.41, 4.6, 3.94, 3.94, 18.79, 16.1, 21.82, 3.9, 23.41, 30.48, 26.82, 30.48, 2.9, 3.9, 4.6, 3.94, 26.82, 4.6, 3.94, 3.94, 26.82, 2.9, 15.26, 30.1, 11.41, 2.9, 21.82, 18.79, 3.9, 30.48, 23.41, 16.1, 26.82, 30.48, 3.9, 3.9, 2.9, 4.6, 2.9, 3.9, 3.94, 3.94, 15.26, 30.1, 11.41, 4.6, 3.94, 21.82, 18.79, 16.1, 26.82, 26.82, 26.82, 30.48, 23.41, 30.48, 2.9, 3.9, 3.9, 2.9, 2.9], \"xaxis\": \"x\", \"yaxis\": \"y\"}, {\"alignmentgroup\": \"True\", \"hovertemplate\": \"smv=%{x}<extra></extra>\", \"legendgroup\": \"\", \"marker\": {\"color\": \"#F8766D\"}, \"name\": \"\", \"offsetgroup\": \"\", \"scalegroup\": \"x\", \"showlegend\": false, \"type\": \"violin\", \"x\": [26.16, 3.94, 11.41, 11.41, 25.9, 25.9, 3.94, 28.08, 19.87, 28.08, 28.08, 19.31, 11.41, 3.94, 2.9, 3.94, 2.9, 23.69, 4.15, 4.15, 2.9, 4.15, 3.94, 3.94, 28.08, 28.08, 26.16, 26.16, 11.61, 11.61, 25.9, 25.9, 19.31, 4.15, 19.87, 4.15, 23.69, 28.08, 2.9, 3.94, 4.15, 3.94, 3.94, 11.61, 3.94, 26.16, 25.9, 25.9, 28.08, 26.16, 28.08, 11.61, 3.94, 3.94, 19.31, 19.87, 28.08, 2.9, 2.9, 45.67, 4.15, 3.94, 3.94, 3.94, 4.15, 26.16, 2.9, 3.94, 25.9, 25.9, 26.16, 19.31, 11.61, 11.61, 28.08, 28.08, 2.9, 2.9, 28.08, 19.87, 3.94, 2.9, 21.98, 3.94, 3.94, 4.15, 4.15, 3.94, 26.16, 26.16, 3.94, 3.94, 28.08, 28.08, 19.87, 11.61, 25.9, 25.9, 11.61, 28.08, 19.31, 2.9, 21.98, 2.9, 3.94, 3.94, 26.16, 26.16, 25.9, 4.15, 3.94, 3.94, 3.94, 2.9, 28.08, 28.08, 11.41, 19.87, 11.61, 25.9, 28.08, 21.98, 2.9, 2.9, 31.83, 4.15, 3.94, 3.94, 26.16, 3.94, 26.16, 28.08, 25.9, 25.9, 3.94, 4.15, 28.08, 19.87, 11.61, 11.41, 28.08, 3.94, 2.9, 4.15, 2.9, 4.15, 12.52, 42.41, 3.94, 4.15, 3.94, 3.94, 26.16, 25.9, 25.9, 3.94, 4.15, 3.94, 28.08, 28.08, 11.61, 11.41, 26.16, 28.08, 19.87, 12.52, 2.9, 2.9, 20.79, 4.15, 4.15, 3.94, 26.16, 3.94, 3.94, 26.16, 25.9, 25.9, 3.94, 3.94, 11.41, 11.61, 28.08, 28.08, 19.87, 4.15, 2.9, 4.15, 12.52, 2.9, 2.9, 50.48, 20.79, 3.94, 4.3, 4.15, 3.94, 3.94, 26.16, 26.16, 25.9, 25.9, 2.9, 4.15, 19.87, 11.41, 11.61, 28.08, 2.9, 50.48, 20.79, 12.52, 2.9, 4.15, 22.4, 3.94, 4.3, 3.94, 3.94, 4.15, 3.94, 26.16, 26.16, 25.9, 25.9, 4.15, 3.94, 11.61, 11.61, 28.08, 42.27, 2.9, 2.9, 4.15, 27.13, 20.79, 22.4, 22.4, 4.15, 4.3, 25.9, 3.94, 4.15, 3.94, 26.16, 25.9, 2.9, 4.15, 11.61, 11.61, 26.16, 20.79, 2.9, 22.4, 22.4, 14.61, 3.94, 51.02, 3.94, 4.3, 3.94, 3.94, 4.15, 3.94, 26.16, 25.9, 25.9, 26.16, 11.61, 11.61, 20.79, 2.9, 22.52, 22.52, 2.9, 22.52, 14.89, 22.94, 4.15, 3.94, 3.94, 3.94, 3.94, 11.41, 11.61, 25.9, 25.9, 48.68, 26.16, 22.94, 22.52, 2.9, 2.9, 22.52, 22.52, 14.89, 2.9, 41.19, 4.15, 4.15, 4.15, 2.9, 11.41, 48.84, 25.9, 26.16, 22.52, 22.52, 2.9, 26.87, 22.52, 14.89, 22.94, 2.9, 20.4, 3.94, 49.1, 3.94, 4.3, 3.94, 4.15, 11.41, 25.9, 26.16, 2.9, 22.94, 22.52, 22.52, 22.52, 14.89, 2.9, 20.4, 48.84, 22.94, 3.94, 4.15, 15.26, 4.15, 11.41, 25.9, 26.16, 22.52, 22.52, 22.52, 22.94, 3.94, 14.89, 20.4, 2.9, 15.26, 22.94, 4.15, 4.3, 3.94, 22.52, 11.61, 3.94, 25.9, 22.94, 22.52, 4.15, 20.4, 22.52, 14.89, 22.94, 15.26, 2.9, 54.56, 3.94, 22.52, 4.15, 3.94, 3.94, 22.52, 22.94, 11.61, 22.52, 22.94, 22.52, 4.15, 20.4, 14.89, 4.3, 3.94, 3.94, 2.9, 15.26, 22.52, 40.99, 29.12, 3.94, 2.9, 4.08, 4.15, 3.94, 2.9, 22.94, 22.52, 4.15, 3.94, 3.94, 4.08, 22.94, 22.52, 11.61, 22.52, 15.26, 42.97, 20.4, 4.3, 22.52, 29.12, 3.94, 3.94, 15.09, 3.94, 4.15, 3.94, 3.94, 3.94, 3.94, 4.3, 22.52, 22.94, 22.94, 22.52, 11.61, 22.52, 3.94, 22.52, 15.26, 20.4, 29.12, 4.08, 42.97, 15.09, 2.9, 3.94, 3.94, 4.3, 4.15, 3.94, 3.94, 22.52, 11.61, 22.52, 22.94, 22.94, 22.52, 4.08, 20.4, 29.12, 15.26, 3.94, 15.09, 28.08, 22.52, 22.52, 3.94, 4.3, 4.15, 22.52, 3.94, 22.52, 3.94, 4.15, 4.15, 22.94, 3.94, 3.94, 29.12, 15.26, 15.09, 30.4, 2.9, 20.79, 48.18, 22.52, 22.52, 2.9, 3.94, 3.94, 22.52, 22.94, 3.94, 20.79, 22.52, 4.08, 29.12, 15.26, 4.3, 4.15, 20.1, 38.09, 18.79, 3.94, 23.54, 2.9, 22.52, 4.3, 22.52, 22.52, 22.52, 2.9, 4.15, 2.9, 3.94, 3.94, 22.94, 29.12, 20.79, 3.94, 15.26, 4.08, 20.1, 18.79, 3.94, 23.54, 22.52, 22.52, 3.94, 3.94, 3.94, 3.94, 3.94, 3.94, 4.08, 3.94, 3.94, 3.94, 3.94, 3.94, 22.52, 22.52, 29.12, 22.94, 15.26, 50.89, 20.1, 18.79, 23.54, 23.54, 4.15, 22.52, 22.94, 3.94, 22.52, 3.94, 3.94, 3.94, 22.52, 22.52, 4.3, 29.12, 15.26, 4.08, 20.1, 18.79, 24.26, 24.26, 2.9, 22.94, 3.94, 22.52, 22.52, 22.52, 3.94, 4.3, 15.26, 22.52, 29.12, 4.08, 20.55, 18.79, 4.15, 3.94, 30.1, 24.26, 2.9, 24.26, 3.94, 22.52, 22.52, 3.94, 4.15, 22.52, 22.52, 3.94, 22.52, 15.26, 4.08, 29.12, 25.31, 18.79, 24.26, 24.26, 4.3, 2.9, 30.1, 22.52, 22.52, 22.52, 3.94, 3.94, 4.15, 22.52, 15.26, 22.52, 3.94, 3.94, 18.79, 24.26, 10.05, 29.12, 4.08, 30.1, 2.9, 30.1, 22.52, 22.52, 22.52, 3.94, 22.52, 2.9, 4.08, 3.94, 3.94, 15.26, 29.12, 3.94, 10.05, 18.79, 30.1, 24.26, 30.1, 24.26, 3.94, 22.52, 22.52, 22.52, 22.52, 4.08, 3.94, 2.9, 15.26, 29.12, 3.94, 18.79, 10.05, 3.94, 24.26, 30.1, 30.1, 4.3, 24.26, 22.52, 4.15, 22.52, 22.52, 22.52, 3.94, 4.08, 3.94, 4.15, 15.26, 29.12, 18.79, 10.05, 30.1, 2.9, 3.94, 30.1, 24.26, 24.26, 3.94, 3.94, 22.52, 22.52, 22.52, 2.9, 15.26, 22.52, 29.12, 30.1, 10.05, 4.15, 30.1, 3.94, 18.79, 30.1, 30.1, 4.08, 4.08, 3.94, 22.52, 22.52, 22.52, 22.52, 3.94, 29.12, 15.26, 4.15, 18.79, 10.05, 30.1, 4.15, 30.1, 3.94, 2.9, 30.1, 30.1, 4.15, 4.08, 22.52, 22.52, 4.15, 3.94, 4.15, 22.52, 18.79, 15.26, 29.12, 30.1, 30.1, 30.1, 3.94, 30.1, 3.94, 22.52, 11.41, 22.52, 4.15, 22.52, 4.08, 15.26, 4.15, 30.1, 18.79, 3.94, 3.94, 30.1, 3.94, 4.15, 30.1, 11.41, 29.12, 30.1, 22.52, 30.1, 22.52, 4.15, 4.15, 4.08, 15.26, 22.52, 3.94, 30.1, 30.1, 4.15, 30.1, 30.1, 11.41, 18.79, 30.1, 2.9, 3.94, 3.94, 3.94, 22.52, 4.08, 15.26, 4.15, 30.1, 2.9, 30.1, 30.1, 18.79, 11.41, 4.15, 2.9, 30.1, 30.1, 22.52, 4.15, 18.79, 22.52, 3.94, 4.08, 4.15, 30.1, 30.1, 15.26, 2.9, 18.79, 30.1, 4.15, 30.1, 4.15, 30.1, 11.41, 18.22, 18.79, 4.15, 22.52, 3.94, 5.13, 5.13, 15.26, 5.13, 18.79, 30.1, 2.9, 30.1, 11.41, 30.1, 5.13, 30.1, 18.79, 29.4, 3.94, 5.13, 30.33, 18.22, 5.13, 2.9, 5.13, 11.41, 30.1, 30.1, 15.26, 22.52, 18.79, 30.1, 5.13, 30.1, 18.79, 5.13, 3.94, 5.13, 3.94, 30.33, 19.68, 5.13, 29.4, 5.13, 15.26, 22.52, 30.1, 30.1, 2.9, 18.79, 3.94, 5.13, 30.1, 11.41, 29.4, 5.13, 5.13, 18.79, 5.13, 30.1, 5.13, 30.33, 19.68, 5.13, 2.9, 5.13, 2.9, 15.26, 30.1, 5.13, 3.94, 18.79, 3.94, 29.4, 30.33, 11.41, 18.79, 30.1, 21.25, 30.1, 3.94, 30.1, 5.13, 3.94, 5.13, 5.13, 5.13, 15.26, 30.1, 30.1, 30.1, 18.79, 11.41, 30.33, 29.4, 29.4, 18.79, 21.25, 2.9, 2.9, 5.13, 5.13, 2.9, 4.6, 15.26, 30.1, 30.1, 4.6, 30.1, 18.79, 11.61, 29.4, 2.9, 2.9, 30.33, 29.4, 18.79, 2.9, 21.25, 3.9, 22.53, 18.79, 4.6, 4.6, 4.6, 2.9, 30.1, 15.26, 30.1, 18.79, 11.61, 29.4, 29.4, 30.33, 21.82, 4.6, 4.6, 30.1, 22.53, 3.9, 2.9, 2.9, 4.6, 4.6, 30.1, 11.61, 15.26, 3.94, 18.79, 29.4, 18.79, 29.4, 21.82, 30.33, 4.6, 3.9, 30.1, 27.48, 2.9, 2.9, 26.66, 4.6, 2.9, 4.6, 4.6, 11.61, 15.26, 30.1, 3.94, 29.4, 18.79, 29.4, 18.79, 21.82, 30.33, 4.6, 3.9, 27.48, 26.66, 26.66, 2.9, 2.9, 4.6, 2.9, 4.6, 4.6, 15.26, 29.4, 18.79, 29.4, 18.79, 27.48, 21.82, 26.66, 30.33, 11.61, 3.94, 2.9, 26.66, 3.9, 30.1, 3.94, 2.9, 4.6, 3.9, 4.6, 3.94, 26.66, 15.26, 2.9, 11.61, 29.4, 30.1, 4.6, 18.79, 29.4, 18.79, 26.66, 27.48, 21.82, 2.9, 4.6, 3.94, 4.6, 4.6, 4.6, 11.41, 26.66, 15.26, 29.4, 30.1, 26.66, 29.4, 18.79, 20.2, 4.6, 27.48, 21.82, 4.6, 3.9, 3.94, 3.94, 2.9, 4.6, 2.9, 15.28, 4.6, 4.6, 4.6, 2.9, 3.94, 3.94, 11.41, 15.26, 29.4, 30.1, 26.82, 26.82, 18.79, 27.48, 21.82, 4.6, 4.6, 3.9, 29.4, 15.28, 18.79, 4.6, 3.9, 2.9, 4.6, 3.94, 3.94, 4.6, 11.41, 29.4, 15.26, 26.82, 18.79, 26.82, 27.48, 21.82, 15.28, 2.9, 30.1, 22.53, 4.6, 15.26, 26.82, 4.6, 3.94, 26.82, 29.4, 11.41, 2.9, 18.79, 21.82, 3.94, 3.94, 2.9, 16.1, 4.6, 3.9, 23.41, 27.48, 4.6, 4.6, 2.9, 3.94, 3.94, 3.9, 3.94, 26.82, 26.82, 30.1, 15.26, 11.41, 2.9, 18.79, 21.82, 16.1, 23.41, 30.48, 26.82, 3.9, 2.9, 2.9, 2.9, 4.6, 3.94, 26.82, 26.82, 2.9, 30.1, 15.26, 11.41, 4.6, 3.94, 3.94, 18.79, 16.1, 21.82, 3.9, 23.41, 30.48, 26.82, 30.48, 2.9, 3.9, 4.6, 3.94, 26.82, 4.6, 3.94, 3.94, 26.82, 2.9, 15.26, 30.1, 11.41, 2.9, 21.82, 18.79, 3.9, 30.48, 23.41, 16.1, 26.82, 30.48, 3.9, 3.9, 2.9, 4.6, 2.9, 3.9, 3.94, 3.94, 15.26, 30.1, 11.41, 4.6, 3.94, 21.82, 18.79, 16.1, 26.82, 26.82, 26.82, 30.48, 23.41, 30.48, 2.9, 3.9, 3.9, 2.9, 2.9], \"xaxis\": \"x2\", \"yaxis\": \"y2\"}],                        {\"barmode\": \"relative\", \"legend\": {\"tracegroupgap\": 0}, \"margin\": {\"t\": 60}, \"template\": {\"data\": {\"bar\": [{\"error_x\": {\"color\": \"rgb(51,51,51)\"}, \"error_y\": {\"color\": \"rgb(51,51,51)\"}, \"marker\": {\"line\": {\"color\": \"rgb(237,237,237)\", \"width\": 0.5}}, \"type\": \"bar\"}], \"barpolar\": [{\"marker\": {\"line\": {\"color\": \"rgb(237,237,237)\", \"width\": 0.5}}, \"type\": \"barpolar\"}], \"carpet\": [{\"aaxis\": {\"endlinecolor\": \"rgb(51,51,51)\", \"gridcolor\": \"white\", \"linecolor\": \"white\", \"minorgridcolor\": \"white\", \"startlinecolor\": \"rgb(51,51,51)\"}, \"baxis\": {\"endlinecolor\": \"rgb(51,51,51)\", \"gridcolor\": \"white\", \"linecolor\": \"white\", \"minorgridcolor\": \"white\", \"startlinecolor\": \"rgb(51,51,51)\"}, \"type\": \"carpet\"}], \"choropleth\": [{\"colorbar\": {\"outlinewidth\": 0, \"tickcolor\": \"rgb(237,237,237)\", \"ticklen\": 6, \"ticks\": \"inside\"}, \"type\": \"choropleth\"}], \"contour\": [{\"colorbar\": {\"outlinewidth\": 0, \"tickcolor\": \"rgb(237,237,237)\", \"ticklen\": 6, \"ticks\": \"inside\"}, \"colorscale\": [[0, \"rgb(20,44,66)\"], [1, \"rgb(90,179,244)\"]], \"type\": \"contour\"}], \"contourcarpet\": [{\"colorbar\": {\"outlinewidth\": 0, \"tickcolor\": \"rgb(237,237,237)\", \"ticklen\": 6, \"ticks\": \"inside\"}, \"type\": \"contourcarpet\"}], \"heatmap\": [{\"colorbar\": {\"outlinewidth\": 0, \"tickcolor\": \"rgb(237,237,237)\", \"ticklen\": 6, \"ticks\": \"inside\"}, \"colorscale\": [[0, \"rgb(20,44,66)\"], [1, \"rgb(90,179,244)\"]], \"type\": \"heatmap\"}], \"heatmapgl\": [{\"colorbar\": {\"outlinewidth\": 0, \"tickcolor\": \"rgb(237,237,237)\", \"ticklen\": 6, \"ticks\": \"inside\"}, \"colorscale\": [[0, \"rgb(20,44,66)\"], [1, \"rgb(90,179,244)\"]], \"type\": \"heatmapgl\"}], \"histogram\": [{\"marker\": {\"colorbar\": {\"outlinewidth\": 0, \"tickcolor\": \"rgb(237,237,237)\", \"ticklen\": 6, \"ticks\": \"inside\"}}, \"type\": \"histogram\"}], \"histogram2d\": [{\"colorbar\": {\"outlinewidth\": 0, \"tickcolor\": \"rgb(237,237,237)\", \"ticklen\": 6, \"ticks\": \"inside\"}, \"colorscale\": [[0, \"rgb(20,44,66)\"], [1, \"rgb(90,179,244)\"]], \"type\": \"histogram2d\"}], \"histogram2dcontour\": [{\"colorbar\": {\"outlinewidth\": 0, \"tickcolor\": \"rgb(237,237,237)\", \"ticklen\": 6, \"ticks\": \"inside\"}, \"colorscale\": [[0, \"rgb(20,44,66)\"], [1, \"rgb(90,179,244)\"]], \"type\": \"histogram2dcontour\"}], \"mesh3d\": [{\"colorbar\": {\"outlinewidth\": 0, \"tickcolor\": \"rgb(237,237,237)\", \"ticklen\": 6, \"ticks\": \"inside\"}, \"type\": \"mesh3d\"}], \"parcoords\": [{\"line\": {\"colorbar\": {\"outlinewidth\": 0, \"tickcolor\": \"rgb(237,237,237)\", \"ticklen\": 6, \"ticks\": \"inside\"}}, \"type\": \"parcoords\"}], \"pie\": [{\"automargin\": true, \"type\": \"pie\"}], \"scatter\": [{\"marker\": {\"colorbar\": {\"outlinewidth\": 0, \"tickcolor\": \"rgb(237,237,237)\", \"ticklen\": 6, \"ticks\": \"inside\"}}, \"type\": \"scatter\"}], \"scatter3d\": [{\"line\": {\"colorbar\": {\"outlinewidth\": 0, \"tickcolor\": \"rgb(237,237,237)\", \"ticklen\": 6, \"ticks\": \"inside\"}}, \"marker\": {\"colorbar\": {\"outlinewidth\": 0, \"tickcolor\": \"rgb(237,237,237)\", \"ticklen\": 6, \"ticks\": \"inside\"}}, \"type\": \"scatter3d\"}], \"scattercarpet\": [{\"marker\": {\"colorbar\": {\"outlinewidth\": 0, \"tickcolor\": \"rgb(237,237,237)\", \"ticklen\": 6, \"ticks\": \"inside\"}}, \"type\": \"scattercarpet\"}], \"scattergeo\": [{\"marker\": {\"colorbar\": {\"outlinewidth\": 0, \"tickcolor\": \"rgb(237,237,237)\", \"ticklen\": 6, \"ticks\": \"inside\"}}, \"type\": \"scattergeo\"}], \"scattergl\": [{\"marker\": {\"colorbar\": {\"outlinewidth\": 0, \"tickcolor\": \"rgb(237,237,237)\", \"ticklen\": 6, \"ticks\": \"inside\"}}, \"type\": \"scattergl\"}], \"scattermapbox\": [{\"marker\": {\"colorbar\": {\"outlinewidth\": 0, \"tickcolor\": \"rgb(237,237,237)\", \"ticklen\": 6, \"ticks\": \"inside\"}}, \"type\": \"scattermapbox\"}], \"scatterpolar\": [{\"marker\": {\"colorbar\": {\"outlinewidth\": 0, \"tickcolor\": \"rgb(237,237,237)\", \"ticklen\": 6, \"ticks\": \"inside\"}}, \"type\": \"scatterpolar\"}], \"scatterpolargl\": [{\"marker\": {\"colorbar\": {\"outlinewidth\": 0, \"tickcolor\": \"rgb(237,237,237)\", \"ticklen\": 6, \"ticks\": \"inside\"}}, \"type\": \"scatterpolargl\"}], \"scatterternary\": [{\"marker\": {\"colorbar\": {\"outlinewidth\": 0, \"tickcolor\": \"rgb(237,237,237)\", \"ticklen\": 6, \"ticks\": \"inside\"}}, \"type\": \"scatterternary\"}], \"surface\": [{\"colorbar\": {\"outlinewidth\": 0, \"tickcolor\": \"rgb(237,237,237)\", \"ticklen\": 6, \"ticks\": \"inside\"}, \"colorscale\": [[0, \"rgb(20,44,66)\"], [1, \"rgb(90,179,244)\"]], \"type\": \"surface\"}], \"table\": [{\"cells\": {\"fill\": {\"color\": \"rgb(237,237,237)\"}, \"line\": {\"color\": \"white\"}}, \"header\": {\"fill\": {\"color\": \"rgb(217,217,217)\"}, \"line\": {\"color\": \"white\"}}, \"type\": \"table\"}]}, \"layout\": {\"annotationdefaults\": {\"arrowhead\": 0, \"arrowwidth\": 1}, \"autotypenumbers\": \"strict\", \"coloraxis\": {\"colorbar\": {\"outlinewidth\": 0, \"tickcolor\": \"rgb(237,237,237)\", \"ticklen\": 6, \"ticks\": \"inside\"}}, \"colorscale\": {\"sequential\": [[0, \"rgb(20,44,66)\"], [1, \"rgb(90,179,244)\"]], \"sequentialminus\": [[0, \"rgb(20,44,66)\"], [1, \"rgb(90,179,244)\"]]}, \"colorway\": [\"#F8766D\", \"#A3A500\", \"#00BF7D\", \"#00B0F6\", \"#E76BF3\"], \"font\": {\"color\": \"rgb(51,51,51)\"}, \"geo\": {\"bgcolor\": \"white\", \"lakecolor\": \"white\", \"landcolor\": \"rgb(237,237,237)\", \"showlakes\": true, \"showland\": true, \"subunitcolor\": \"white\"}, \"hoverlabel\": {\"align\": \"left\"}, \"hovermode\": \"closest\", \"paper_bgcolor\": \"white\", \"plot_bgcolor\": \"rgb(237,237,237)\", \"polar\": {\"angularaxis\": {\"gridcolor\": \"white\", \"linecolor\": \"white\", \"showgrid\": true, \"tickcolor\": \"rgb(51,51,51)\", \"ticks\": \"outside\"}, \"bgcolor\": \"rgb(237,237,237)\", \"radialaxis\": {\"gridcolor\": \"white\", \"linecolor\": \"white\", \"showgrid\": true, \"tickcolor\": \"rgb(51,51,51)\", \"ticks\": \"outside\"}}, \"scene\": {\"xaxis\": {\"backgroundcolor\": \"rgb(237,237,237)\", \"gridcolor\": \"white\", \"gridwidth\": 2, \"linecolor\": \"white\", \"showbackground\": true, \"showgrid\": true, \"tickcolor\": \"rgb(51,51,51)\", \"ticks\": \"outside\", \"zerolinecolor\": \"white\"}, \"yaxis\": {\"backgroundcolor\": \"rgb(237,237,237)\", \"gridcolor\": \"white\", \"gridwidth\": 2, \"linecolor\": \"white\", \"showbackground\": true, \"showgrid\": true, \"tickcolor\": \"rgb(51,51,51)\", \"ticks\": \"outside\", \"zerolinecolor\": \"white\"}, \"zaxis\": {\"backgroundcolor\": \"rgb(237,237,237)\", \"gridcolor\": \"white\", \"gridwidth\": 2, \"linecolor\": \"white\", \"showbackground\": true, \"showgrid\": true, \"tickcolor\": \"rgb(51,51,51)\", \"ticks\": \"outside\", \"zerolinecolor\": \"white\"}}, \"shapedefaults\": {\"fillcolor\": \"black\", \"line\": {\"width\": 0}, \"opacity\": 0.3}, \"ternary\": {\"aaxis\": {\"gridcolor\": \"white\", \"linecolor\": \"white\", \"showgrid\": true, \"tickcolor\": \"rgb(51,51,51)\", \"ticks\": \"outside\"}, \"baxis\": {\"gridcolor\": \"white\", \"linecolor\": \"white\", \"showgrid\": true, \"tickcolor\": \"rgb(51,51,51)\", \"ticks\": \"outside\"}, \"bgcolor\": \"rgb(237,237,237)\", \"caxis\": {\"gridcolor\": \"white\", \"linecolor\": \"white\", \"showgrid\": true, \"tickcolor\": \"rgb(51,51,51)\", \"ticks\": \"outside\"}}, \"xaxis\": {\"automargin\": true, \"gridcolor\": \"white\", \"linecolor\": \"white\", \"showgrid\": true, \"tickcolor\": \"rgb(51,51,51)\", \"ticks\": \"outside\", \"title\": {\"standoff\": 15}, \"zerolinecolor\": \"white\"}, \"yaxis\": {\"automargin\": true, \"gridcolor\": \"white\", \"linecolor\": \"white\", \"showgrid\": true, \"tickcolor\": \"rgb(51,51,51)\", \"ticks\": \"outside\", \"title\": {\"standoff\": 15}, \"zerolinecolor\": \"white\"}}}, \"title\": {\"text\": \"Distribution of smv(standard minute value)\", \"x\": 0.5}, \"xaxis\": {\"anchor\": \"y\", \"domain\": [0.0, 1.0], \"title\": {\"text\": \"smv\"}}, \"xaxis2\": {\"anchor\": \"y2\", \"domain\": [0.0, 1.0], \"matches\": \"x\", \"showticklabels\": false}, \"yaxis\": {\"anchor\": \"x\", \"domain\": [0.0, 0.8316], \"title\": {\"text\": \"count\"}}, \"yaxis2\": {\"anchor\": \"x2\", \"domain\": [0.8416, 1.0], \"matches\": \"y2\", \"showline\": false, \"showticklabels\": false, \"ticks\": \"\"}},                        {\"responsive\": true}                    ).then(function(){\n",
       "                            \n",
       "var gd = document.getElementById('ad2d30b7-ee3a-4fbe-a7b5-e577efa9d16c');\n",
       "var x = new MutationObserver(function (mutations, observer) {{\n",
       "        var display = window.getComputedStyle(gd).display;\n",
       "        if (!display || display === 'none') {{\n",
       "            console.log([gd, 'removed!']);\n",
       "            Plotly.purge(gd);\n",
       "            observer.disconnect();\n",
       "        }}\n",
       "}});\n",
       "\n",
       "// Listen for the removal of the full notebook cells\n",
       "var notebookContainer = gd.closest('#notebook-container');\n",
       "if (notebookContainer) {{\n",
       "    x.observe(notebookContainer, {childList: true});\n",
       "}}\n",
       "\n",
       "// Listen for the clearing of the current output cell\n",
       "var outputEl = gd.closest('.output');\n",
       "if (outputEl) {{\n",
       "    x.observe(outputEl, {childList: true});\n",
       "}}\n",
       "\n",
       "                        })                };                });            </script>        </div>"
      ]
     },
     "metadata": {}
    }
   ],
   "metadata": {
    "execution": {
     "iopub.execute_input": "2021-04-10T14:15:07.690832Z",
     "iopub.status.busy": "2021-04-10T14:15:07.690059Z",
     "iopub.status.idle": "2021-04-10T14:15:07.868503Z",
     "shell.execute_reply": "2021-04-10T14:15:07.867277Z"
    },
    "papermill": {
     "duration": 0.229726,
     "end_time": "2021-04-10T14:15:07.868692",
     "exception": false,
     "start_time": "2021-04-10T14:15:07.638966",
     "status": "completed"
    },
    "tags": []
   }
  },
  {
   "cell_type": "code",
   "execution_count": 20,
   "source": [
    "fig = make_subplots(rows=1, cols=2)\n",
    "y1= df['no_of_workers']\n",
    "y2=df['incentive']\n",
    "x=df['month_name']\n",
    "\n",
    "fig.add_trace(go.Bar( x=x,y=y1), row=1, col=1)\n",
    "fig.add_trace(go.Bar(x=x, y=y2), row=1, col=2)\n",
    "\n",
    "fig.update_layout(title='Plots of number of workers and incentive paid in each month', title_x=0.5)\n",
    "\n",
    "fig.show()"
   ],
   "outputs": [
    {
     "output_type": "display_data",
     "data": {
      "text/html": [
       "<div>                            <div id=\"4eed7fa4-2ac6-4ae2-9b25-39f96863845f\" class=\"plotly-graph-div\" style=\"height:525px; width:100%;\"></div>            <script type=\"text/javascript\">                require([\"plotly\"], function(Plotly) {                    window.PLOTLYENV=window.PLOTLYENV || {};                                    if (document.getElementById(\"4eed7fa4-2ac6-4ae2-9b25-39f96863845f\")) {                    Plotly.newPlot(                        \"4eed7fa4-2ac6-4ae2-9b25-39f96863845f\",                        [{\"type\": \"bar\", \"x\": [\"January\", \"January\", \"January\", \"January\", \"January\", \"January\", \"January\", \"January\", \"January\", \"January\", \"January\", \"January\", \"January\", \"January\", \"January\", \"January\", \"January\", \"January\", \"January\", \"January\", \"January\", \"January\", \"January\", \"January\", \"January\", \"January\", \"January\", \"January\", \"January\", \"January\", \"January\", \"January\", \"January\", \"January\", \"January\", \"January\", \"January\", \"January\", \"January\", \"January\", \"January\", \"January\", \"January\", \"January\", \"January\", \"January\", \"January\", \"January\", \"January\", \"January\", \"January\", \"January\", \"January\", \"January\", \"January\", \"January\", \"January\", \"January\", \"January\", \"January\", \"January\", \"January\", \"January\", \"January\", \"January\", \"January\", \"January\", \"January\", \"January\", \"January\", \"January\", \"January\", \"January\", \"January\", \"January\", \"January\", \"January\", \"January\", \"January\", \"January\", \"January\", \"January\", \"January\", \"January\", \"January\", \"January\", \"January\", \"January\", \"January\", \"January\", \"January\", \"January\", \"January\", \"January\", \"January\", \"January\", \"January\", \"January\", \"January\", \"January\", \"January\", \"January\", \"January\", \"January\", \"January\", \"January\", \"January\", \"January\", \"January\", \"January\", \"January\", \"January\", \"January\", \"January\", \"January\", \"January\", \"January\", \"January\", \"January\", \"January\", \"January\", \"January\", \"January\", \"January\", \"January\", \"January\", \"January\", \"January\", \"January\", \"January\", \"January\", \"January\", \"January\", \"January\", \"January\", \"January\", \"January\", \"January\", \"January\", \"January\", \"January\", \"January\", \"January\", \"January\", \"January\", \"January\", \"January\", \"January\", \"January\", \"January\", \"January\", \"January\", \"January\", \"January\", \"January\", \"January\", \"January\", \"January\", \"January\", \"January\", \"January\", \"January\", \"January\", \"January\", \"January\", \"January\", \"January\", \"January\", \"January\", \"January\", \"January\", \"January\", \"January\", \"January\", \"January\", \"January\", \"January\", \"January\", \"January\", \"January\", \"January\", \"January\", \"January\", \"January\", \"January\", \"January\", \"January\", \"January\", \"January\", \"January\", \"January\", \"January\", \"January\", \"January\", \"January\", \"January\", \"January\", \"January\", \"January\", \"January\", \"January\", \"January\", \"January\", \"January\", \"January\", \"January\", \"January\", \"January\", \"January\", \"January\", \"January\", \"January\", \"January\", \"January\", \"January\", \"January\", \"January\", \"January\", \"January\", \"January\", \"January\", \"January\", \"January\", \"January\", \"January\", \"January\", \"January\", \"January\", \"January\", \"January\", \"January\", \"January\", \"January\", \"January\", \"January\", \"January\", \"January\", \"January\", \"January\", \"January\", \"January\", \"January\", \"January\", \"January\", \"January\", \"January\", \"January\", \"January\", \"January\", \"January\", \"January\", \"January\", \"January\", \"January\", \"January\", \"January\", \"January\", \"January\", \"January\", \"January\", \"January\", \"January\", \"January\", \"January\", \"January\", \"January\", \"January\", \"January\", \"January\", \"January\", \"January\", \"January\", \"January\", \"January\", \"January\", \"January\", \"January\", \"January\", \"January\", \"January\", \"January\", \"January\", \"January\", \"January\", \"January\", \"January\", \"January\", \"January\", \"January\", \"January\", \"January\", \"January\", \"January\", \"January\", \"January\", \"January\", \"January\", \"January\", \"January\", \"January\", \"January\", \"January\", \"January\", \"January\", \"January\", \"January\", \"January\", \"January\", \"January\", \"January\", \"January\", \"January\", \"January\", \"January\", \"January\", \"January\", \"January\", \"January\", \"January\", \"January\", \"January\", \"January\", \"January\", \"January\", \"January\", \"January\", \"January\", \"January\", \"January\", \"January\", \"January\", \"January\", \"January\", \"January\", \"January\", \"January\", \"January\", \"January\", \"January\", \"January\", \"January\", \"January\", \"January\", \"January\", \"January\", \"January\", \"January\", \"January\", \"January\", \"January\", \"January\", \"January\", \"January\", \"January\", \"January\", \"January\", \"January\", \"January\", \"January\", \"January\", \"January\", \"January\", \"January\", \"January\", \"January\", \"January\", \"January\", \"January\", \"January\", \"January\", \"January\", \"January\", \"January\", \"January\", \"January\", \"January\", \"January\", \"January\", \"January\", \"January\", \"January\", \"January\", \"January\", \"January\", \"January\", \"January\", \"January\", \"January\", \"January\", \"January\", \"January\", \"January\", \"January\", \"January\", \"January\", \"January\", \"January\", \"January\", \"January\", \"January\", \"January\", \"January\", \"January\", \"January\", \"January\", \"January\", \"January\", \"January\", \"January\", \"January\", \"January\", \"January\", \"January\", \"January\", \"January\", \"January\", \"January\", \"January\", \"January\", \"January\", \"January\", \"January\", \"January\", \"January\", \"January\", \"January\", \"January\", \"January\", \"January\", \"January\", \"January\", \"January\", \"January\", \"January\", \"January\", \"January\", \"January\", \"January\", \"January\", \"January\", \"January\", \"January\", \"January\", \"January\", \"January\", \"January\", \"January\", \"January\", \"January\", \"January\", \"January\", \"January\", \"January\", \"January\", \"January\", \"January\", \"January\", \"January\", \"January\", \"January\", \"January\", \"January\", \"January\", \"January\", \"January\", \"January\", \"January\", \"January\", \"January\", \"January\", \"January\", \"January\", \"January\", \"January\", \"January\", \"January\", \"January\", \"January\", \"January\", \"January\", \"January\", \"January\", \"January\", \"January\", \"January\", \"January\", \"January\", \"January\", \"January\", \"January\", \"January\", \"January\", \"January\", \"January\", \"January\", \"January\", \"January\", \"January\", \"January\", \"January\", \"January\", \"January\", \"January\", \"January\", \"January\", \"January\", \"January\", \"January\", \"January\", \"January\", \"January\", \"January\", \"January\", \"January\", \"January\", \"January\", \"January\", \"January\", \"January\", \"January\", \"January\", \"January\", \"January\", \"January\", \"January\", \"January\", \"January\", \"January\", \"January\", \"January\", \"January\", \"January\", \"January\", \"January\", \"January\", \"January\", \"January\", \"January\", \"January\", \"January\", \"January\", \"January\", \"February\", \"February\", \"February\", \"February\", \"February\", \"February\", \"February\", \"February\", \"February\", \"February\", \"February\", \"February\", \"February\", \"February\", \"February\", \"February\", \"February\", \"February\", \"February\", \"February\", \"February\", \"February\", \"February\", \"February\", \"February\", \"February\", \"February\", \"February\", \"February\", \"February\", \"February\", \"February\", \"February\", \"February\", \"February\", \"February\", \"February\", \"February\", \"February\", \"February\", \"February\", \"February\", \"February\", \"February\", \"February\", \"February\", \"February\", \"February\", \"February\", \"February\", \"February\", \"February\", \"February\", \"February\", \"February\", \"February\", \"February\", \"February\", \"February\", \"February\", \"February\", \"February\", \"February\", \"February\", \"February\", \"February\", \"February\", \"February\", \"February\", \"February\", \"February\", \"February\", \"February\", \"February\", \"February\", \"February\", \"February\", \"February\", \"February\", \"February\", \"February\", \"February\", \"February\", \"February\", \"February\", \"February\", \"February\", \"February\", \"February\", \"February\", \"February\", \"February\", \"February\", \"February\", \"February\", \"February\", \"February\", \"February\", \"February\", \"February\", \"February\", \"February\", \"February\", \"February\", \"February\", \"February\", \"February\", \"February\", \"February\", \"February\", \"February\", \"February\", \"February\", \"February\", \"February\", \"February\", \"February\", \"February\", \"February\", \"February\", \"February\", \"February\", \"February\", \"February\", \"February\", \"February\", \"February\", \"February\", \"February\", \"February\", \"February\", \"February\", \"February\", \"February\", \"February\", \"February\", \"February\", \"February\", \"February\", \"February\", \"February\", \"February\", \"February\", \"February\", \"February\", \"February\", \"February\", \"February\", \"February\", \"February\", \"February\", \"February\", \"February\", \"February\", \"February\", \"February\", \"February\", \"February\", \"February\", \"February\", \"February\", \"February\", \"February\", \"February\", \"February\", \"February\", \"February\", \"February\", \"February\", \"February\", \"February\", \"February\", \"February\", \"February\", \"February\", \"February\", \"February\", \"February\", \"February\", \"February\", \"February\", \"February\", \"February\", \"February\", \"February\", \"February\", \"February\", \"February\", \"February\", \"February\", \"February\", \"February\", \"February\", \"February\", \"February\", \"February\", \"February\", \"February\", \"February\", \"February\", \"February\", \"February\", \"February\", \"February\", \"February\", \"February\", \"February\", \"February\", \"February\", \"February\", \"February\", \"February\", \"February\", \"February\", \"February\", \"February\", \"February\", \"February\", \"February\", \"February\", \"February\", \"February\", \"February\", \"February\", \"February\", \"February\", \"February\", \"February\", \"February\", \"February\", \"February\", \"February\", \"February\", \"February\", \"February\", \"February\", \"February\", \"February\", \"February\", \"February\", \"February\", \"February\", \"February\", \"February\", \"February\", \"February\", \"February\", \"February\", \"February\", \"February\", \"February\", \"February\", \"February\", \"February\", \"February\", \"February\", \"February\", \"February\", \"February\", \"February\", \"February\", \"February\", \"February\", \"February\", \"February\", \"February\", \"February\", \"February\", \"February\", \"February\", \"February\", \"February\", \"February\", \"February\", \"February\", \"February\", \"February\", \"February\", \"February\", \"February\", \"February\", \"February\", \"February\", \"February\", \"February\", \"February\", \"February\", \"February\", \"February\", \"February\", \"February\", \"February\", \"February\", \"February\", \"February\", \"February\", \"February\", \"February\", \"February\", \"February\", \"February\", \"February\", \"February\", \"February\", \"February\", \"February\", \"February\", \"February\", \"February\", \"February\", \"February\", \"February\", \"February\", \"February\", \"February\", \"February\", \"February\", \"February\", \"February\", \"February\", \"February\", \"February\", \"February\", \"February\", \"February\", \"February\", \"February\", \"February\", \"February\", \"February\", \"February\", \"February\", \"February\", \"February\", \"February\", \"February\", \"February\", \"February\", \"February\", \"February\", \"February\", \"February\", \"February\", \"February\", \"February\", \"February\", \"February\", \"February\", \"February\", \"February\", \"February\", \"February\", \"February\", \"February\", \"February\", \"February\", \"February\", \"February\", \"February\", \"February\", \"February\", \"February\", \"February\", \"February\", \"February\", \"February\", \"February\", \"February\", \"February\", \"February\", \"February\", \"February\", \"February\", \"February\", \"February\", \"February\", \"February\", \"February\", \"February\", \"February\", \"February\", \"February\", \"February\", \"February\", \"February\", \"February\", \"February\", \"February\", \"February\", \"February\", \"February\", \"February\", \"February\", \"February\", \"February\", \"February\", \"February\", \"February\", \"February\", \"February\", \"February\", \"February\", \"February\", \"February\", \"February\", \"February\", \"February\", \"February\", \"February\", \"February\", \"February\", \"February\", \"February\", \"February\", \"February\", \"February\", \"February\", \"February\", \"February\", \"February\", \"February\", \"February\", \"February\", \"February\", \"February\", \"February\", \"February\", \"February\", \"February\", \"February\", \"February\", \"February\", \"February\", \"February\", \"February\", \"February\", \"February\", \"February\", \"February\", \"February\", \"February\", \"February\", \"February\", \"March\", \"March\", \"March\", \"March\", \"March\", \"March\", \"March\", \"March\", \"March\", \"March\", \"March\", \"March\", \"March\", \"March\", \"March\", \"March\", \"March\", \"March\", \"March\", \"March\", \"March\", \"March\", \"March\", \"March\", \"March\", \"March\", \"March\", \"March\", \"March\", \"March\", \"March\", \"March\", \"March\", \"March\", \"March\", \"March\", \"March\", \"March\", \"March\", \"March\", \"March\", \"March\", \"March\", \"March\", \"March\", \"March\", \"March\", \"March\", \"March\", \"March\", \"March\", \"March\", \"March\", \"March\", \"March\", \"March\", \"March\", \"March\", \"March\", \"March\", \"March\", \"March\", \"March\", \"March\", \"March\", \"March\", \"March\", \"March\", \"March\", \"March\", \"March\", \"March\", \"March\", \"March\", \"March\", \"March\", \"March\", \"March\", \"March\", \"March\", \"March\", \"March\", \"March\", \"March\", \"March\", \"March\", \"March\", \"March\", \"March\", \"March\", \"March\", \"March\", \"March\", \"March\", \"March\", \"March\", \"March\", \"March\", \"March\", \"March\", \"March\", \"March\", \"March\", \"March\", \"March\", \"March\", \"March\", \"March\", \"March\", \"March\", \"March\", \"March\", \"March\", \"March\", \"March\", \"March\", \"March\", \"March\", \"March\", \"March\", \"March\", \"March\", \"March\", \"March\", \"March\", \"March\", \"March\", \"March\", \"March\", \"March\", \"March\", \"March\", \"March\", \"March\", \"March\", \"March\", \"March\", \"March\", \"March\", \"March\", \"March\", \"March\", \"March\", \"March\", \"March\", \"March\", \"March\", \"March\", \"March\", \"March\", \"March\", \"March\", \"March\", \"March\", \"March\", \"March\", \"March\", \"March\", \"March\", \"March\", \"March\", \"March\", \"March\", \"March\", \"March\", \"March\", \"March\", \"March\", \"March\", \"March\", \"March\", \"March\", \"March\", \"March\", \"March\", \"March\", \"March\", \"March\", \"March\", \"March\", \"March\", \"March\", \"March\", \"March\", \"March\", \"March\", \"March\", \"March\", \"March\", \"March\", \"March\", \"March\", \"March\", \"March\", \"March\", \"March\", \"March\", \"March\", \"March\", \"March\", \"March\", \"March\", \"March\", \"March\", \"March\", \"March\", \"March\", \"March\", \"March\", \"March\", \"March\", \"March\"], \"xaxis\": \"x\", \"y\": [59.0, 8.0, 30.5, 30.5, 56.0, 56.0, 8.0, 57.5, 55.0, 57.5, 57.5, 54.0, 30.5, 8.0, 8.0, 18.0, 8.0, 60.0, 12.0, 20.0, 17.0, 8.0, 8.0, 8.0, 56.5, 54.5, 59.0, 59.0, 29.5, 31.5, 56.0, 56.0, 54.0, 8.0, 55.0, 8.0, 60.0, 57.5, 8.0, 8.0, 8.0, 8.0, 8.0, 31.0, 20.0, 59.0, 56.5, 56.5, 55.5, 59.0, 55.5, 31.0, 8.0, 18.0, 54.0, 55.0, 57.5, 8.0, 8.0, 58.0, 8.0, 8.0, 10.0, 16.0, 8.0, 59.0, 8.0, 8.0, 56.5, 56.5, 59.0, 55.0, 32.0, 32.0, 57.5, 57.5, 8.0, 8.0, 58.5, 55.0, 8.0, 8.0, 58.0, 18.0, 8.0, 10.0, 15.0, 8.0, 59.0, 59.0, 8.0, 8.0, 57.5, 57.5, 55.0, 31.5, 56.5, 56.5, 31.5, 58.5, 55.0, 8.0, 58.0, 8.0, 8.0, 8.0, 59.0, 59.0, 56.5, 15.0, 18.0, 8.0, 8.0, 8.0, 57.5, 57.5, 30.5, 55.0, 31.5, 56.5, 58.5, 58.0, 8.0, 10.0, 55.0, 8.0, 8.0, 20.0, 59.0, 8.0, 59.0, 58.5, 56.5, 56.5, 8.0, 8.0, 58.5, 55.0, 31.5, 30.5, 58.5, 8.0, 8.0, 12.0, 8.0, 5.0, 54.0, 57.0, 8.0, 12.0, 20.0, 8.0, 59.0, 56.5, 56.5, 8.0, 8.0, 8.0, 58.0, 57.5, 31.5, 30.5, 59.0, 58.5, 56.0, 53.0, 8.0, 8.0, 56.0, 8.0, 8.0, 20.0, 59.0, 8.0, 8.0, 59.0, 56.5, 56.5, 8.0, 8.0, 30.5, 31.5, 58.5, 58.5, 55.0, 8.0, 8.0, 8.0, 53.0, 8.0, 8.0, 58.0, 57.0, 8.0, 18.0, 10.0, 8.0, 8.0, 59.0, 59.0, 56.5, 56.5, 8.0, 8.0, 55.0, 31.5, 31.5, 58.5, 8.0, 58.5, 59.0, 53.0, 8.0, 8.0, 51.5, 8.0, 12.0, 2.0, 20.0, 9.0, 8.0, 59.0, 59.0, 57.0, 56.5, 8.0, 8.0, 31.5, 31.5, 58.5, 55.0, 8.0, 8.0, 8.0, 53.0, 58.0, 56.5, 56.5, 7.0, 8.0, 56.5, 8.0, 15.0, 8.0, 59.0, 56.5, 8.0, 7.0, 31.5, 31.5, 59.0, 58.0, 8.0, 57.0, 56.5, 55.0, 8.0, 57.0, 8.0, 20.0, 19.0, 8.0, 8.0, 8.0, 59.0, 56.5, 56.5, 59.0, 31.5, 31.5, 58.0, 8.0, 56.5, 56.0, 8.0, 56.5, 55.0, 54.5, 15.0, 10.0, 8.0, 8.0, 10.0, 30.5, 31.5, 56.5, 56.5, 59.0, 59.0, 56.5, 56.5, 8.0, 8.0, 54.0, 56.5, 56.0, 5.0, 58.0, 7.0, 8.0, 12.0, 10.0, 30.5, 56.5, 56.5, 59.0, 56.5, 56.0, 8.0, 31.5, 56.5, 57.0, 56.5, 8.0, 58.0, 10.0, 57.5, 8.0, 28.0, 10.0, 8.0, 31.0, 56.5, 59.0, 8.0, 56.5, 57.0, 56.5, 56.0, 57.0, 8.0, 58.0, 57.0, 56.5, 8.0, 8.0, 34.0, 8.0, 31.0, 56.5, 59.0, 57.0, 56.0, 57.0, 57.0, 10.0, 57.0, 57.0, 8.0, 34.0, 56.0, 15.0, 20.0, 17.0, 56.0, 89.0, 8.0, 56.5, 57.0, 56.0, 8.0, 58.0, 57.0, 57.0, 57.0, 34.0, 8.0, 58.0, 8.0, 56.0, 9.0, 10.0, 14.0, 56.0, 57.0, 32.0, 56.0, 57.0, 57.0, 15.0, 58.0, 57.0, 15.0, 25.0, 25.0, 8.0, 34.0, 57.0, 56.5, 58.0, 20.0, 8.0, 9.0, 15.0, 10.0, 9.0, 57.0, 57.0, 10.0, 8.0, 12.0, 9.0, 57.0, 56.0, 32.0, 57.0, 34.0, 57.0, 58.0, 12.0, 56.5, 58.0, 8.0, 8.0, 52.0, 8.0, 17.0, 8.0, 8.0, 9.0, 19.0, 12.0, 57.0, 58.5, 58.5, 57.5, 32.0, 56.0, 14.0, 56.5, 34.0, 58.0, 58.0, 9.0, 57.0, 52.0, 4.0, 10.0, 21.0, 12.0, 15.0, 10.0, 10.0, 56.5, 32.0, 57.0, 57.0, 58.0, 56.0, 9.0, 58.0, 58.0, 34.0, 8.0, 52.0, 57.0, 57.0, 57.0, 12.0, 12.0, 12.0, 56.0, 12.0, 56.5, 8.0, 9.0, 8.0, 58.0, 10.0, 10.0, 58.0, 34.0, 52.0, 32.0, 8.0, 58.0, 54.0, 57.0, 57.0, 15.0, 10.0, 15.0, 56.0, 58.0, 10.0, 58.0, 56.5, 9.0, 58.0, 35.0, 12.0, 8.0, 54.0, 52.0, 32.0, 8.0, 55.0, 8.0, 57.0, 10.0, 57.0, 57.5, 56.0, 10.0, 8.0, 8.0, 10.0, 10.0, 58.0, 58.0, 59.0, 10.0, 35.0, 9.0, 51.0, 33.0, 8.0, 55.0, 58.0, 57.0, 10.0, 8.0, 10.0, 10.0, 15.0, 2.0, 9.0, 2.0, 10.0, 8.0, 5.0, 10.0, 56.0, 57.5, 57.0, 58.0, 35.0, 59.0, 54.0, 33.0, 56.0, 54.0, 8.0, 57.5, 58.5, 19.0, 57.0, 10.0, 18.0, 10.0, 56.0, 58.5, 12.0, 58.0, 35.0, 9.0, 54.0, 33.0, 55.0, 56.0, 10.0, 58.5, 8.0, 58.5, 57.0, 56.0, 10.0, 12.0, 35.0, 56.5, 58.0, 9.0, 54.0, 33.0, 8.0, 19.0, 58.0, 56.0, 10.0, 55.0, 20.0, 57.5, 56.0, 10.0, 8.0, 57.0, 58.0, 11.0, 56.5, 35.0, 9.0, 58.0, 54.0, 33.5, 55.5, 56.0, 12.0, 8.0, 58.0, 57.5, 57.0, 56.0, 18.0, 10.0, 25.0, 57.5, 34.0, 58.0, 8.0, 8.0, 33.0, 58.0, 53.0, 57.0, 9.0, 58.5, 8.0, 55.5, 56.5, 57.5, 56.0, 22.0, 57.0, 8.0, 9.0, 10.0, 12.0, 34.0, 58.0, 8.0, 26.0, 33.0, 58.0, 58.0, 53.0, 57.0, 25.0, 58.0, 57.0, 57.0, 56.0, 9.0, 10.0, 8.0, 34.0, 58.0, 8.0, 33.0, 27.0, 10.0, 58.0, 57.0, 59.0, 8.0, 57.0, 57.5, 12.0, 56.0, 56.5, 56.0, 10.0, 9.0, 18.0, 15.0, 34.0, 58.0, 33.0, 27.0, 58.5, 8.0, 8.0, 56.5, 58.0, 57.0, 18.0, 10.0, 56.0, 57.0, 57.0, 8.0, 34.0, 57.0, 58.0, 57.0, 54.0, 15.0, 58.0, 8.0, 34.0, 58.0, 58.0, 9.0, 9.0, 18.0, 56.0, 57.0, 57.0, 57.0, 12.0, 58.0, 34.0, 15.0, 34.0, 54.0, 58.0, 8.0, 58.0, 8.0, 8.0, 58.0, 58.0, 15.0, 9.0, 57.5, 57.0, 12.0, 18.0, 2.0, 56.0, 34.0, 34.0, 58.0, 59.5, 58.0, 59.5, 12.0, 58.0, 8.0, 57.0, 52.0, 57.0, 15.0, 57.5, 9.0, 34.0, 12.0, 59.0, 33.0, 12.0, 8.0, 59.0, 18.0, 2.0, 59.0, 55.0, 58.0, 59.0, 50.0, 58.0, 57.0, 15.0, 20.0, 9.0, 34.0, 57.0, 12.0, 59.0, 59.0, 8.0, 60.0, 60.0, 55.0, 34.0, 58.0, 8.0, 8.0, 8.0, 8.0, 57.0, 9.0, 34.0, 2.0, 59.5, 10.0, 59.0, 59.0, 34.0, 53.0, 8.0, 8.0, 59.5, 58.0, 57.5, 20.0, 54.0, 57.0, 10.0, 9.0, 8.0, 58.0, 59.0, 34.0, 8.0, 33.0, 58.0, 15.0, 59.0, 10.0, 59.0, 54.0, 44.0, 54.0, 15.0, 57.0, 8.0, 10.0, 9.0, 34.0, 15.0, 33.0, 58.0, 8.0, 59.0, 56.0, 58.0, 8.0, 59.0, 51.0, 58.0, 8.0, 15.0, 56.0, 49.0, 10.0, 12.0, 12.0, 56.0, 58.0, 59.0, 34.0, 57.0, 33.0, 59.0, 8.0, 58.0, 51.0, 8.0, 8.0, 8.0, 8.0, 57.0, 47.0, 8.0, 57.0, 12.0, 34.0, 57.0, 58.5, 59.5, 18.0, 33.0, 10.0, 15.0, 58.0, 58.0, 57.0, 8.0, 8.0, 51.0, 8.0, 59.0, 9.0, 57.0, 48.0, 15.0, 8.0, 20.0, 12.0, 34.0, 59.0, 10.0, 10.0, 33.0, 12.0, 57.0, 57.0, 58.0, 57.0, 58.0, 50.0, 58.0, 8.0, 60.0, 8.0, 20.0, 8.0, 9.0, 18.0, 34.0, 59.0, 59.0, 58.0, 33.0, 58.0, 58.0, 57.0, 58.0, 50.0, 50.0, 8.0, 8.0, 8.0, 8.0, 15.0, 12.0, 34.0, 60.0, 59.0, 8.0, 59.0, 33.0, 57.0, 60.0, 15.0, 15.0, 59.0, 58.0, 52.0, 8.0, 53.0, 8.0, 42.0, 52.0, 9.0, 20.0, 15.0, 10.0, 59.0, 34.0, 59.0, 33.0, 57.0, 58.0, 58.0, 58.0, 52.0, 8.0, 8.0, 59.0, 42.0, 8.0, 8.0, 8.0, 15.0, 18.0, 59.0, 57.0, 34.0, 8.0, 33.0, 57.0, 52.0, 58.0, 52.0, 58.0, 9.0, 8.0, 59.0, 57.0, 8.0, 8.0, 55.0, 8.0, 8.0, 15.0, 18.0, 58.0, 34.0, 59.0, 8.0, 57.0, 33.0, 58.0, 52.0, 51.0, 58.0, 9.0, 8.0, 57.0, 57.0, 58.0, 8.0, 8.0, 8.0, 8.0, 25.0, 8.0, 34.0, 57.0, 33.0, 57.0, 52.0, 56.0, 52.0, 57.0, 58.0, 57.0, 8.0, 8.0, 57.0, 8.0, 58.0, 8.0, 8.0, 8.0, 10.0, 24.0, 8.0, 57.0, 34.0, 10.0, 57.0, 57.0, 59.0, 8.0, 33.0, 57.0, 52.0, 57.0, 56.0, 51.0, 8.0, 9.0, 8.0, 8.0, 10.0, 15.0, 56.0, 58.0, 34.0, 57.0, 59.0, 58.0, 57.0, 52.0, 33.0, 8.0, 57.0, 51.0, 9.0, 15.0, 8.0, 8.0, 8.0, 8.0, 8.0, 45.0, 10.0, 8.0, 9.0, 8.0, 8.0, 8.0, 56.0, 34.0, 57.0, 59.0, 58.0, 58.0, 52.0, 58.0, 53.0, 20.0, 8.0, 8.0, 57.0, 46.0, 33.0, 22.0, 8.0, 10.0, 9.0, 8.0, 8.0, 15.0, 56.0, 57.0, 34.0, 58.0, 52.0, 59.0, 58.0, 50.0, 46.0, 8.0, 59.0, 39.0, 9.0, 34.0, 58.0, 25.0, 10.0, 58.0, 57.0, 58.0, 8.0, 51.0, 50.0, 8.0, 8.0, 8.0, 45.0, 15.0, 8.0, 39.0, 58.0, 12.0, 9.0, 9.0, 8.0, 8.0, 10.0, 8.0, 57.0, 58.0, 57.0, 34.0, 58.0, 8.0, 52.0, 50.0, 45.0, 38.0, 56.0, 59.0, 8.0, 8.0, 8.0, 8.0, 9.0, 12.0, 58.0, 59.0, 15.0, 58.0, 34.0, 58.0, 12.0, 8.0, 8.0, 52.0, 45.0, 50.0, 10.0, 38.0, 56.0, 59.0, 55.0, 8.0, 8.0, 9.0, 12.0, 59.0, 12.0, 8.0, 8.0, 59.0, 15.0, 34.0, 58.0, 58.0, 8.0, 50.0, 52.0, 8.0, 57.0, 38.0, 45.0, 59.0, 57.0, 8.0, 8.0, 8.0, 9.0, 10.0, 8.0, 8.0, 8.0, 34.0, 58.0, 58.0, 8.0, 12.0, 50.0, 52.0, 45.0, 59.0, 59.0, 58.0, 57.0, 38.0, 57.0, 8.0, 8.0, 8.0, 15.0, 6.0], \"yaxis\": \"y\"}, {\"type\": \"bar\", \"x\": [\"January\", \"January\", \"January\", \"January\", \"January\", \"January\", \"January\", \"January\", \"January\", \"January\", \"January\", \"January\", \"January\", \"January\", \"January\", \"January\", \"January\", \"January\", \"January\", \"January\", \"January\", \"January\", \"January\", \"January\", \"January\", \"January\", \"January\", \"January\", \"January\", \"January\", \"January\", \"January\", \"January\", \"January\", \"January\", \"January\", \"January\", \"January\", \"January\", \"January\", \"January\", \"January\", \"January\", \"January\", \"January\", \"January\", \"January\", \"January\", \"January\", \"January\", \"January\", \"January\", \"January\", \"January\", \"January\", \"January\", \"January\", \"January\", \"January\", \"January\", \"January\", \"January\", \"January\", \"January\", \"January\", \"January\", \"January\", \"January\", \"January\", \"January\", \"January\", \"January\", \"January\", \"January\", \"January\", \"January\", \"January\", \"January\", \"January\", \"January\", \"January\", \"January\", \"January\", \"January\", \"January\", \"January\", \"January\", \"January\", \"January\", \"January\", \"January\", \"January\", \"January\", \"January\", \"January\", \"January\", \"January\", \"January\", \"January\", \"January\", \"January\", \"January\", \"January\", \"January\", \"January\", \"January\", \"January\", \"January\", \"January\", \"January\", \"January\", \"January\", \"January\", \"January\", \"January\", \"January\", \"January\", \"January\", \"January\", \"January\", \"January\", \"January\", \"January\", \"January\", \"January\", \"January\", \"January\", \"January\", \"January\", \"January\", \"January\", \"January\", \"January\", \"January\", \"January\", \"January\", \"January\", \"January\", \"January\", \"January\", \"January\", \"January\", \"January\", \"January\", \"January\", \"January\", \"January\", \"January\", \"January\", \"January\", \"January\", \"January\", \"January\", \"January\", \"January\", \"January\", \"January\", \"January\", \"January\", \"January\", \"January\", \"January\", \"January\", \"January\", \"January\", \"January\", \"January\", \"January\", \"January\", \"January\", \"January\", \"January\", \"January\", \"January\", \"January\", \"January\", \"January\", \"January\", \"January\", \"January\", \"January\", \"January\", \"January\", \"January\", \"January\", \"January\", \"January\", \"January\", \"January\", \"January\", \"January\", \"January\", \"January\", \"January\", \"January\", \"January\", \"January\", \"January\", \"January\", \"January\", \"January\", \"January\", \"January\", \"January\", \"January\", \"January\", \"January\", \"January\", \"January\", \"January\", \"January\", \"January\", \"January\", \"January\", \"January\", \"January\", \"January\", \"January\", \"January\", \"January\", \"January\", \"January\", \"January\", \"January\", \"January\", \"January\", \"January\", \"January\", \"January\", \"January\", \"January\", \"January\", \"January\", \"January\", \"January\", \"January\", \"January\", \"January\", \"January\", \"January\", \"January\", \"January\", \"January\", \"January\", \"January\", \"January\", \"January\", \"January\", \"January\", \"January\", \"January\", \"January\", \"January\", \"January\", \"January\", \"January\", \"January\", \"January\", \"January\", \"January\", \"January\", \"January\", \"January\", \"January\", \"January\", \"January\", \"January\", \"January\", \"January\", \"January\", \"January\", \"January\", \"January\", \"January\", \"January\", \"January\", \"January\", \"January\", \"January\", \"January\", \"January\", \"January\", \"January\", \"January\", \"January\", \"January\", \"January\", \"January\", \"January\", \"January\", \"January\", \"January\", \"January\", \"January\", \"January\", \"January\", \"January\", \"January\", \"January\", \"January\", \"January\", \"January\", \"January\", \"January\", \"January\", \"January\", \"January\", \"January\", \"January\", \"January\", \"January\", \"January\", \"January\", \"January\", \"January\", \"January\", \"January\", \"January\", \"January\", \"January\", \"January\", \"January\", \"January\", \"January\", \"January\", \"January\", \"January\", \"January\", \"January\", \"January\", \"January\", \"January\", \"January\", \"January\", \"January\", \"January\", \"January\", \"January\", \"January\", \"January\", \"January\", \"January\", \"January\", \"January\", \"January\", \"January\", \"January\", \"January\", \"January\", \"January\", \"January\", \"January\", \"January\", \"January\", \"January\", \"January\", \"January\", \"January\", \"January\", \"January\", \"January\", \"January\", \"January\", \"January\", \"January\", \"January\", \"January\", \"January\", \"January\", \"January\", \"January\", \"January\", \"January\", \"January\", \"January\", \"January\", \"January\", \"January\", \"January\", \"January\", \"January\", \"January\", \"January\", \"January\", \"January\", \"January\", \"January\", \"January\", \"January\", \"January\", \"January\", \"January\", \"January\", \"January\", \"January\", \"January\", \"January\", \"January\", \"January\", \"January\", \"January\", \"January\", \"January\", \"January\", \"January\", \"January\", \"January\", \"January\", \"January\", \"January\", \"January\", \"January\", \"January\", \"January\", \"January\", \"January\", \"January\", \"January\", \"January\", \"January\", \"January\", \"January\", \"January\", \"January\", \"January\", \"January\", \"January\", \"January\", \"January\", \"January\", \"January\", \"January\", \"January\", \"January\", \"January\", \"January\", \"January\", \"January\", \"January\", \"January\", \"January\", \"January\", \"January\", \"January\", \"January\", \"January\", \"January\", \"January\", \"January\", \"January\", \"January\", \"January\", \"January\", \"January\", \"January\", \"January\", \"January\", \"January\", \"January\", \"January\", \"January\", \"January\", \"January\", \"January\", \"January\", \"January\", \"January\", \"January\", \"January\", \"January\", \"January\", \"January\", \"January\", \"January\", \"January\", \"January\", \"January\", \"January\", \"January\", \"January\", \"January\", \"January\", \"January\", \"January\", \"January\", \"January\", \"January\", \"January\", \"January\", \"January\", \"January\", \"January\", \"January\", \"January\", \"January\", \"January\", \"January\", \"January\", \"January\", \"January\", \"January\", \"January\", \"January\", \"January\", \"January\", \"January\", \"January\", \"January\", \"January\", \"January\", \"January\", \"January\", \"January\", \"January\", \"January\", \"January\", \"January\", \"January\", \"January\", \"January\", \"January\", \"January\", \"January\", \"January\", \"January\", \"January\", \"January\", \"January\", \"January\", \"January\", \"January\", \"January\", \"January\", \"January\", \"January\", \"January\", \"January\", \"January\", \"January\", \"January\", \"January\", \"January\", \"February\", \"February\", \"February\", \"February\", \"February\", \"February\", \"February\", \"February\", \"February\", \"February\", \"February\", \"February\", \"February\", \"February\", \"February\", \"February\", \"February\", \"February\", \"February\", \"February\", \"February\", \"February\", \"February\", \"February\", \"February\", \"February\", \"February\", \"February\", \"February\", \"February\", \"February\", \"February\", \"February\", \"February\", \"February\", \"February\", \"February\", \"February\", \"February\", \"February\", \"February\", \"February\", \"February\", \"February\", \"February\", \"February\", \"February\", \"February\", \"February\", \"February\", \"February\", \"February\", \"February\", \"February\", \"February\", \"February\", \"February\", \"February\", \"February\", \"February\", \"February\", \"February\", \"February\", \"February\", \"February\", \"February\", \"February\", \"February\", \"February\", \"February\", \"February\", \"February\", \"February\", \"February\", \"February\", \"February\", \"February\", \"February\", \"February\", \"February\", \"February\", \"February\", \"February\", \"February\", \"February\", \"February\", \"February\", \"February\", \"February\", \"February\", \"February\", \"February\", \"February\", \"February\", \"February\", \"February\", \"February\", \"February\", \"February\", \"February\", \"February\", \"February\", \"February\", \"February\", \"February\", \"February\", \"February\", \"February\", \"February\", \"February\", \"February\", \"February\", \"February\", \"February\", \"February\", \"February\", \"February\", \"February\", \"February\", \"February\", \"February\", \"February\", \"February\", \"February\", \"February\", \"February\", \"February\", \"February\", \"February\", \"February\", \"February\", \"February\", \"February\", \"February\", \"February\", \"February\", \"February\", \"February\", \"February\", \"February\", \"February\", \"February\", \"February\", \"February\", \"February\", \"February\", \"February\", \"February\", \"February\", \"February\", \"February\", \"February\", \"February\", \"February\", \"February\", \"February\", \"February\", \"February\", \"February\", \"February\", \"February\", \"February\", \"February\", \"February\", \"February\", \"February\", \"February\", \"February\", \"February\", \"February\", \"February\", \"February\", \"February\", \"February\", \"February\", \"February\", \"February\", \"February\", \"February\", \"February\", \"February\", \"February\", \"February\", \"February\", \"February\", \"February\", \"February\", \"February\", \"February\", \"February\", \"February\", \"February\", \"February\", \"February\", \"February\", \"February\", \"February\", \"February\", \"February\", \"February\", \"February\", \"February\", \"February\", \"February\", \"February\", \"February\", \"February\", \"February\", \"February\", \"February\", \"February\", \"February\", \"February\", \"February\", \"February\", \"February\", \"February\", \"February\", \"February\", \"February\", \"February\", \"February\", \"February\", \"February\", \"February\", \"February\", \"February\", \"February\", \"February\", \"February\", \"February\", \"February\", \"February\", \"February\", \"February\", \"February\", \"February\", \"February\", \"February\", \"February\", \"February\", \"February\", \"February\", \"February\", \"February\", \"February\", \"February\", \"February\", \"February\", \"February\", \"February\", \"February\", \"February\", \"February\", \"February\", \"February\", \"February\", \"February\", \"February\", \"February\", \"February\", \"February\", \"February\", \"February\", \"February\", \"February\", \"February\", \"February\", \"February\", \"February\", \"February\", \"February\", \"February\", \"February\", \"February\", \"February\", \"February\", \"February\", \"February\", \"February\", \"February\", \"February\", \"February\", \"February\", \"February\", \"February\", \"February\", \"February\", \"February\", \"February\", \"February\", \"February\", \"February\", \"February\", \"February\", \"February\", \"February\", \"February\", \"February\", \"February\", \"February\", \"February\", \"February\", \"February\", \"February\", \"February\", \"February\", \"February\", \"February\", \"February\", \"February\", \"February\", \"February\", \"February\", \"February\", \"February\", \"February\", \"February\", \"February\", \"February\", \"February\", \"February\", \"February\", \"February\", \"February\", \"February\", \"February\", \"February\", \"February\", \"February\", \"February\", \"February\", \"February\", \"February\", \"February\", \"February\", \"February\", \"February\", \"February\", \"February\", \"February\", \"February\", \"February\", \"February\", \"February\", \"February\", \"February\", \"February\", \"February\", \"February\", \"February\", \"February\", \"February\", \"February\", \"February\", \"February\", \"February\", \"February\", \"February\", \"February\", \"February\", \"February\", \"February\", \"February\", \"February\", \"February\", \"February\", \"February\", \"February\", \"February\", \"February\", \"February\", \"February\", \"February\", \"February\", \"February\", \"February\", \"February\", \"February\", \"February\", \"February\", \"February\", \"February\", \"February\", \"February\", \"February\", \"February\", \"February\", \"February\", \"February\", \"February\", \"February\", \"February\", \"February\", \"February\", \"February\", \"February\", \"February\", \"February\", \"February\", \"February\", \"February\", \"February\", \"February\", \"February\", \"February\", \"February\", \"February\", \"February\", \"February\", \"February\", \"February\", \"February\", \"February\", \"February\", \"February\", \"February\", \"February\", \"February\", \"February\", \"February\", \"February\", \"February\", \"February\", \"February\", \"February\", \"February\", \"February\", \"February\", \"February\", \"February\", \"February\", \"February\", \"February\", \"February\", \"February\", \"February\", \"February\", \"February\", \"February\", \"February\", \"February\", \"February\", \"March\", \"March\", \"March\", \"March\", \"March\", \"March\", \"March\", \"March\", \"March\", \"March\", \"March\", \"March\", \"March\", \"March\", \"March\", \"March\", \"March\", \"March\", \"March\", \"March\", \"March\", \"March\", \"March\", \"March\", \"March\", \"March\", \"March\", \"March\", \"March\", \"March\", \"March\", \"March\", \"March\", \"March\", \"March\", \"March\", \"March\", \"March\", \"March\", \"March\", \"March\", \"March\", \"March\", \"March\", \"March\", \"March\", \"March\", \"March\", \"March\", \"March\", \"March\", \"March\", \"March\", \"March\", \"March\", \"March\", \"March\", \"March\", \"March\", \"March\", \"March\", \"March\", \"March\", \"March\", \"March\", \"March\", \"March\", \"March\", \"March\", \"March\", \"March\", \"March\", \"March\", \"March\", \"March\", \"March\", \"March\", \"March\", \"March\", \"March\", \"March\", \"March\", \"March\", \"March\", \"March\", \"March\", \"March\", \"March\", \"March\", \"March\", \"March\", \"March\", \"March\", \"March\", \"March\", \"March\", \"March\", \"March\", \"March\", \"March\", \"March\", \"March\", \"March\", \"March\", \"March\", \"March\", \"March\", \"March\", \"March\", \"March\", \"March\", \"March\", \"March\", \"March\", \"March\", \"March\", \"March\", \"March\", \"March\", \"March\", \"March\", \"March\", \"March\", \"March\", \"March\", \"March\", \"March\", \"March\", \"March\", \"March\", \"March\", \"March\", \"March\", \"March\", \"March\", \"March\", \"March\", \"March\", \"March\", \"March\", \"March\", \"March\", \"March\", \"March\", \"March\", \"March\", \"March\", \"March\", \"March\", \"March\", \"March\", \"March\", \"March\", \"March\", \"March\", \"March\", \"March\", \"March\", \"March\", \"March\", \"March\", \"March\", \"March\", \"March\", \"March\", \"March\", \"March\", \"March\", \"March\", \"March\", \"March\", \"March\", \"March\", \"March\", \"March\", \"March\", \"March\", \"March\", \"March\", \"March\", \"March\", \"March\", \"March\", \"March\", \"March\", \"March\", \"March\", \"March\", \"March\", \"March\", \"March\", \"March\", \"March\", \"March\", \"March\", \"March\", \"March\", \"March\", \"March\", \"March\", \"March\", \"March\", \"March\", \"March\", \"March\", \"March\", \"March\", \"March\", \"March\", \"March\", \"March\", \"March\"], \"xaxis\": \"x2\", \"y\": [98, 0, 50, 50, 50, 38, 0, 45, 34, 45, 44, 45, 50, 0, 0, 0, 0, 0, 0, 0, 0, 0, 0, 0, 50, 50, 50, 63, 50, 50, 50, 38, 56, 0, 45, 0, 0, 40, 0, 0, 0, 0, 0, 50, 0, 60, 60, 45, 50, 63, 50, 50, 0, 0, 45, 45, 40, 0, 0, 26, 0, 0, 0, 0, 0, 75, 0, 0, 50, 38, 63, 50, 50, 50, 50, 50, 0, 0, 45, 45, 0, 0, 23, 0, 0, 0, 0, 0, 75, 75, 0, 0, 50, 50, 50, 50, 38, 38, 38, 45, 45, 0, 35, 0, 0, 0, 75, 75, 60, 0, 0, 0, 0, 0, 63, 50, 50, 50, 50, 50, 69, 40, 0, 0, 40, 0, 0, 0, 88, 0, 75, 75, 60, 60, 0, 0, 63, 50, 63, 50, 69, 0, 0, 0, 0, 0, 38, 0, 0, 0, 0, 0, 75, 60, 60, 0, 0, 0, 63, 63, 50, 50, 63, 63, 45, 38, 0, 0, 0, 0, 0, 0, 88, 0, 0, 75, 45, 60, 0, 0, 50, 50, 63, 38, 0, 0, 0, 0, 30, 0, 0, 0, 0, 0, 0, 0, 0, 0, 75, 75, 60, 60, 0, 0, 0, 50, 50, 63, 0, 45, 0, 44, 0, 0, 0, 0, 0, 0, 0, 0, 0, 75, 75, 60, 60, 0, 0, 50, 50, 50, 54, 0, 0, 0, 37, 0, 23, 23, 0, 0, 70, 0, 0, 0, 75, 60, 0, 0, 50, 38, 63, 0, 0, 23, 23, 23, 0, 27, 0, 0, 0, 0, 0, 0, 75, 60, 60, 63, 38, 50, 0, 0, 30, 26, 0, 23, 30, 23, 0, 0, 0, 0, 0, 63, 63, 50, 50, 63, 63, 23, 50, 0, 0, 35, 30, 38, 0, 21, 0, 0, 0, 0, 63, 50, 38, 50, 50, 40, 0, 56, 35, 44, 26, 0, 30, 0, 24, 0, 0, 0, 0, 50, 50, 63, 0, 38, 63, 50, 63, 50, 0, 35, 30, 30, 0, 0, 23, 0, 63, 50, 63, 63, 63, 50, 50, 0, 50, 50, 0, 23, 30, 0, 0, 0, 94, 75, 0, 38, 60, 75, 0, 50, 63, 50, 34, 23, 0, 29, 0, 23, 0, 0, 0, 81, 60, 63, 55, 63, 63, 0, 40, 50, 0, 0, 0, 0, 23, 23, 30, 30, 0, 0, 0, 0, 0, 0, 94, 94, 0, 0, 0, 0, 75, 69, 63, 69, 40, 56, 50, 0, 26, 23, 0, 0, 23, 0, 0, 0, 0, 0, 0, 0, 94, 81, 75, 55, 63, 69, 0, 40, 40, 50, 26, 0, 40, 23, 0, 0, 0, 0, 0, 0, 0, 60, 50, 69, 55, 60, 55, 0, 56, 40, 40, 0, 23, 23, 119, 119, 0, 0, 0, 70, 0, 60, 0, 0, 0, 55, 0, 0, 50, 40, 23, 34, 0, 30, 23, 90, 113, 0, 0, 0, 60, 81, 0, 88, 50, 0, 63, 45, 0, 0, 46, 0, 23, 0, 0, 0, 113, 0, 100, 88, 88, 0, 0, 0, 0, 0, 81, 53, 81, 0, 45, 0, 46, 23, 0, 0, 113, 113, 0, 0, 0, 0, 0, 0, 0, 0, 0, 0, 0, 0, 93, 88, 81, 81, 45, 56, 49, 23, 0, 0, 0, 113, 113, 0, 100, 0, 0, 0, 75, 60, 0, 45, 45, 0, 75, 26, 0, 0, 0, 113, 0, 88, 70, 88, 0, 0, 63, 50, 55, 0, 60, 30, 0, 0, 0, 0, 0, 0, 0, 113, 90, 0, 0, 100, 100, 0, 63, 50, 0, 34, 60, 30, 0, 0, 0, 0, 0, 100, 113, 113, 0, 0, 0, 88, 38, 50, 0, 0, 30, 0, 60, 0, 0, 0, 0, 23, 113, 113, 113, 0, 100, 0, 0, 0, 0, 38, 50, 0, 34, 30, 0, 0, 23, 0, 0, 113, 100, 88, 88, 0, 0, 0, 63, 50, 0, 34, 45, 0, 0, 30, 0, 0, 0, 113, 0, 88, 88, 88, 0, 0, 0, 0, 63, 50, 34, 45, 0, 0, 0, 44, 0, 0, 0, 0, 88, 70, 70, 0, 63, 50, 50, 50, 45, 0, 40, 0, 0, 0, 0, 0, 0, 0, 88, 88, 88, 88, 0, 38, 50, 0, 0, 34, 45, 0, 40, 0, 0, 23, 30, 0, 0, 90, 113, 0, 0, 0, 75, 38, 50, 50, 56, 30, 40, 0, 23, 0, 0, 0, 138, 0, 113, 0, 50, 0, 56, 0, 0, 0, 0, 0, 0, 0, 0, 0, 0, 0, 0, 113, 0, 0, 0, 63, 63, 0, 0, 56, 0, 0, 0, 23, 0, 30, 0, 0, 0, 0, 113, 0, 50, 0, 0, 0, 0, 40, 0, 23, 0, 0, 0, 30, 0, 0, 0, 113, 0, 0, 0, 63, 0, 38, 0, 0, 0, 0, 30, 0, 27, 30, 0, 0, 0, 113, 0, 0, 0, 38, 0, 0, 45, 0, 30, 30, 50, 0, 0, 0, 23, 0, 0, 0, 0, 0, 0, 0, 30, 50, 0, 63, 63, 34, 45, 0, 40, 30, 0, 0, 0, 0, 0, 0, 0, 0, 0, 38, 63, 63, 63, 0, 56, 0, 0, 50, 30, 0, 0, 0, 30, 0, 0, 0, 0, 0, 0, 0, 0, 0, 63, 63, 0, 0, 45, 0, 40, 0, 0, 30, 33, 0, 0, 0, 0, 0, 0, 0, 0, 0, 63, 38, 38, 45, 45, 0, 30, 40, 30, 40, 0, 0, 0, 0, 0, 0, 0, 50, 50, 50, 0, 45, 45, 34, 45, 0, 0, 30, 40, 30, 0, 0, 0, 0, 56, 0, 0, 0, 0, 50, 50, 50, 45, 45, 45, 30, 30, 0, 0, 0, 49, 0, 0, 0, 0, 0, 0, 50, 50, 63, 0, 45, 45, 45, 56, 0, 0, 0, 0, 32, 38, 0, 0, 23, 0, 0, 0, 0, 50, 62, 38, 0, 45, 45, 56, 45, 40, 0, 0, 0, 30, 30, 23, 0, 0, 0, 0, 0, 0, 63, 56, 45, 45, 34, 38, 30, 38, 0, 50, 0, 0, 23, 0, 0, 0, 0, 0, 0, 0, 0, 65, 63, 0, 50, 50, 0, 0, 34, 45, 45, 55, 34, 30, 0, 0, 0, 0, 0, 0, 50, 60, 50, 50, 50, 50, 56, 34, 45, 0, 30, 30, 0, 0, 0, 0, 0, 0, 0, 0, 0, 0, 0, 0, 0, 0, 38, 50, 63, 50, 60, 50, 34, 40, 30, 0, 0, 0, 0, 0, 0, 0, 0, 0, 0, 0, 0, 0, 50, 63, 50, 50, 45, 50, 40, 30, 0, 0, 0, 0, 0, 75, 70, 0, 0, 60, 63, 50, 0, 45, 30, 0, 0, 0, 0, 0, 0, 0, 24, 0, 0, 0, 0, 0, 0, 0, 65, 65, 50, 63, 50, 0, 45, 30, 30, 23, 0, 23, 0, 0, 0, 960, 1080, 2880, 65, 65, 3600, 50, 63, 50, 1440, 960, 960, 45, 30, 30, 1200, 35, 26, 23, 0, 960, 960, 0, 0, 75, 0, 0, 0, 65, 0, 63, 63, 50, 0, 34, 45, 0, 30, 30, 40, 26, 25, 0, 0, 0, 0, 0, 0, 0, 0, 63, 63, 50, 0, 0, 34, 45, 45, 45, 45, 30, 30, 40, 26, 0, 0, 0, 0, 0], \"yaxis\": \"y2\"}],                        {\"template\": {\"data\": {\"bar\": [{\"error_x\": {\"color\": \"#2a3f5f\"}, \"error_y\": {\"color\": \"#2a3f5f\"}, \"marker\": {\"line\": {\"color\": \"#E5ECF6\", \"width\": 0.5}}, \"type\": \"bar\"}], \"barpolar\": [{\"marker\": {\"line\": {\"color\": \"#E5ECF6\", \"width\": 0.5}}, \"type\": \"barpolar\"}], \"carpet\": [{\"aaxis\": {\"endlinecolor\": \"#2a3f5f\", \"gridcolor\": \"white\", \"linecolor\": \"white\", \"minorgridcolor\": \"white\", \"startlinecolor\": \"#2a3f5f\"}, \"baxis\": {\"endlinecolor\": \"#2a3f5f\", \"gridcolor\": \"white\", \"linecolor\": \"white\", \"minorgridcolor\": \"white\", \"startlinecolor\": \"#2a3f5f\"}, \"type\": \"carpet\"}], \"choropleth\": [{\"colorbar\": {\"outlinewidth\": 0, \"ticks\": \"\"}, \"type\": \"choropleth\"}], \"contour\": [{\"colorbar\": {\"outlinewidth\": 0, \"ticks\": \"\"}, \"colorscale\": [[0.0, \"#0d0887\"], [0.1111111111111111, \"#46039f\"], [0.2222222222222222, \"#7201a8\"], [0.3333333333333333, \"#9c179e\"], [0.4444444444444444, \"#bd3786\"], [0.5555555555555556, \"#d8576b\"], [0.6666666666666666, \"#ed7953\"], [0.7777777777777778, \"#fb9f3a\"], [0.8888888888888888, \"#fdca26\"], [1.0, \"#f0f921\"]], \"type\": \"contour\"}], \"contourcarpet\": [{\"colorbar\": {\"outlinewidth\": 0, \"ticks\": \"\"}, \"type\": \"contourcarpet\"}], \"heatmap\": [{\"colorbar\": {\"outlinewidth\": 0, \"ticks\": \"\"}, \"colorscale\": [[0.0, \"#0d0887\"], [0.1111111111111111, \"#46039f\"], [0.2222222222222222, \"#7201a8\"], [0.3333333333333333, \"#9c179e\"], [0.4444444444444444, \"#bd3786\"], [0.5555555555555556, \"#d8576b\"], [0.6666666666666666, \"#ed7953\"], [0.7777777777777778, \"#fb9f3a\"], [0.8888888888888888, \"#fdca26\"], [1.0, \"#f0f921\"]], \"type\": \"heatmap\"}], \"heatmapgl\": [{\"colorbar\": {\"outlinewidth\": 0, \"ticks\": \"\"}, \"colorscale\": [[0.0, \"#0d0887\"], [0.1111111111111111, \"#46039f\"], [0.2222222222222222, \"#7201a8\"], [0.3333333333333333, \"#9c179e\"], [0.4444444444444444, \"#bd3786\"], [0.5555555555555556, \"#d8576b\"], [0.6666666666666666, \"#ed7953\"], [0.7777777777777778, \"#fb9f3a\"], [0.8888888888888888, \"#fdca26\"], [1.0, \"#f0f921\"]], \"type\": \"heatmapgl\"}], \"histogram\": [{\"marker\": {\"colorbar\": {\"outlinewidth\": 0, \"ticks\": \"\"}}, \"type\": \"histogram\"}], \"histogram2d\": [{\"colorbar\": {\"outlinewidth\": 0, \"ticks\": \"\"}, \"colorscale\": [[0.0, \"#0d0887\"], [0.1111111111111111, \"#46039f\"], [0.2222222222222222, \"#7201a8\"], [0.3333333333333333, \"#9c179e\"], [0.4444444444444444, \"#bd3786\"], [0.5555555555555556, \"#d8576b\"], [0.6666666666666666, \"#ed7953\"], [0.7777777777777778, \"#fb9f3a\"], [0.8888888888888888, \"#fdca26\"], [1.0, \"#f0f921\"]], \"type\": \"histogram2d\"}], \"histogram2dcontour\": [{\"colorbar\": {\"outlinewidth\": 0, \"ticks\": \"\"}, \"colorscale\": [[0.0, \"#0d0887\"], [0.1111111111111111, \"#46039f\"], [0.2222222222222222, \"#7201a8\"], [0.3333333333333333, \"#9c179e\"], [0.4444444444444444, \"#bd3786\"], [0.5555555555555556, \"#d8576b\"], [0.6666666666666666, \"#ed7953\"], [0.7777777777777778, \"#fb9f3a\"], [0.8888888888888888, \"#fdca26\"], [1.0, \"#f0f921\"]], \"type\": \"histogram2dcontour\"}], \"mesh3d\": [{\"colorbar\": {\"outlinewidth\": 0, \"ticks\": \"\"}, \"type\": \"mesh3d\"}], \"parcoords\": [{\"line\": {\"colorbar\": {\"outlinewidth\": 0, \"ticks\": \"\"}}, \"type\": \"parcoords\"}], \"pie\": [{\"automargin\": true, \"type\": \"pie\"}], \"scatter\": [{\"marker\": {\"colorbar\": {\"outlinewidth\": 0, \"ticks\": \"\"}}, \"type\": \"scatter\"}], \"scatter3d\": [{\"line\": {\"colorbar\": {\"outlinewidth\": 0, \"ticks\": \"\"}}, \"marker\": {\"colorbar\": {\"outlinewidth\": 0, \"ticks\": \"\"}}, \"type\": \"scatter3d\"}], \"scattercarpet\": [{\"marker\": {\"colorbar\": {\"outlinewidth\": 0, \"ticks\": \"\"}}, \"type\": \"scattercarpet\"}], \"scattergeo\": [{\"marker\": {\"colorbar\": {\"outlinewidth\": 0, \"ticks\": \"\"}}, \"type\": \"scattergeo\"}], \"scattergl\": [{\"marker\": {\"colorbar\": {\"outlinewidth\": 0, \"ticks\": \"\"}}, \"type\": \"scattergl\"}], \"scattermapbox\": [{\"marker\": {\"colorbar\": {\"outlinewidth\": 0, \"ticks\": \"\"}}, \"type\": \"scattermapbox\"}], \"scatterpolar\": [{\"marker\": {\"colorbar\": {\"outlinewidth\": 0, \"ticks\": \"\"}}, \"type\": \"scatterpolar\"}], \"scatterpolargl\": [{\"marker\": {\"colorbar\": {\"outlinewidth\": 0, \"ticks\": \"\"}}, \"type\": \"scatterpolargl\"}], \"scatterternary\": [{\"marker\": {\"colorbar\": {\"outlinewidth\": 0, \"ticks\": \"\"}}, \"type\": \"scatterternary\"}], \"surface\": [{\"colorbar\": {\"outlinewidth\": 0, \"ticks\": \"\"}, \"colorscale\": [[0.0, \"#0d0887\"], [0.1111111111111111, \"#46039f\"], [0.2222222222222222, \"#7201a8\"], [0.3333333333333333, \"#9c179e\"], [0.4444444444444444, \"#bd3786\"], [0.5555555555555556, \"#d8576b\"], [0.6666666666666666, \"#ed7953\"], [0.7777777777777778, \"#fb9f3a\"], [0.8888888888888888, \"#fdca26\"], [1.0, \"#f0f921\"]], \"type\": \"surface\"}], \"table\": [{\"cells\": {\"fill\": {\"color\": \"#EBF0F8\"}, \"line\": {\"color\": \"white\"}}, \"header\": {\"fill\": {\"color\": \"#C8D4E3\"}, \"line\": {\"color\": \"white\"}}, \"type\": \"table\"}]}, \"layout\": {\"annotationdefaults\": {\"arrowcolor\": \"#2a3f5f\", \"arrowhead\": 0, \"arrowwidth\": 1}, \"autotypenumbers\": \"strict\", \"coloraxis\": {\"colorbar\": {\"outlinewidth\": 0, \"ticks\": \"\"}}, \"colorscale\": {\"diverging\": [[0, \"#8e0152\"], [0.1, \"#c51b7d\"], [0.2, \"#de77ae\"], [0.3, \"#f1b6da\"], [0.4, \"#fde0ef\"], [0.5, \"#f7f7f7\"], [0.6, \"#e6f5d0\"], [0.7, \"#b8e186\"], [0.8, \"#7fbc41\"], [0.9, \"#4d9221\"], [1, \"#276419\"]], \"sequential\": [[0.0, \"#0d0887\"], [0.1111111111111111, \"#46039f\"], [0.2222222222222222, \"#7201a8\"], [0.3333333333333333, \"#9c179e\"], [0.4444444444444444, \"#bd3786\"], [0.5555555555555556, \"#d8576b\"], [0.6666666666666666, \"#ed7953\"], [0.7777777777777778, \"#fb9f3a\"], [0.8888888888888888, \"#fdca26\"], [1.0, \"#f0f921\"]], \"sequentialminus\": [[0.0, \"#0d0887\"], [0.1111111111111111, \"#46039f\"], [0.2222222222222222, \"#7201a8\"], [0.3333333333333333, \"#9c179e\"], [0.4444444444444444, \"#bd3786\"], [0.5555555555555556, \"#d8576b\"], [0.6666666666666666, \"#ed7953\"], [0.7777777777777778, \"#fb9f3a\"], [0.8888888888888888, \"#fdca26\"], [1.0, \"#f0f921\"]]}, \"colorway\": [\"#636efa\", \"#EF553B\", \"#00cc96\", \"#ab63fa\", \"#FFA15A\", \"#19d3f3\", \"#FF6692\", \"#B6E880\", \"#FF97FF\", \"#FECB52\"], \"font\": {\"color\": \"#2a3f5f\"}, \"geo\": {\"bgcolor\": \"white\", \"lakecolor\": \"white\", \"landcolor\": \"#E5ECF6\", \"showlakes\": true, \"showland\": true, \"subunitcolor\": \"white\"}, \"hoverlabel\": {\"align\": \"left\"}, \"hovermode\": \"closest\", \"mapbox\": {\"style\": \"light\"}, \"paper_bgcolor\": \"white\", \"plot_bgcolor\": \"#E5ECF6\", \"polar\": {\"angularaxis\": {\"gridcolor\": \"white\", \"linecolor\": \"white\", \"ticks\": \"\"}, \"bgcolor\": \"#E5ECF6\", \"radialaxis\": {\"gridcolor\": \"white\", \"linecolor\": \"white\", \"ticks\": \"\"}}, \"scene\": {\"xaxis\": {\"backgroundcolor\": \"#E5ECF6\", \"gridcolor\": \"white\", \"gridwidth\": 2, \"linecolor\": \"white\", \"showbackground\": true, \"ticks\": \"\", \"zerolinecolor\": \"white\"}, \"yaxis\": {\"backgroundcolor\": \"#E5ECF6\", \"gridcolor\": \"white\", \"gridwidth\": 2, \"linecolor\": \"white\", \"showbackground\": true, \"ticks\": \"\", \"zerolinecolor\": \"white\"}, \"zaxis\": {\"backgroundcolor\": \"#E5ECF6\", \"gridcolor\": \"white\", \"gridwidth\": 2, \"linecolor\": \"white\", \"showbackground\": true, \"ticks\": \"\", \"zerolinecolor\": \"white\"}}, \"shapedefaults\": {\"line\": {\"color\": \"#2a3f5f\"}}, \"ternary\": {\"aaxis\": {\"gridcolor\": \"white\", \"linecolor\": \"white\", \"ticks\": \"\"}, \"baxis\": {\"gridcolor\": \"white\", \"linecolor\": \"white\", \"ticks\": \"\"}, \"bgcolor\": \"#E5ECF6\", \"caxis\": {\"gridcolor\": \"white\", \"linecolor\": \"white\", \"ticks\": \"\"}}, \"title\": {\"x\": 0.05}, \"xaxis\": {\"automargin\": true, \"gridcolor\": \"white\", \"linecolor\": \"white\", \"ticks\": \"\", \"title\": {\"standoff\": 15}, \"zerolinecolor\": \"white\", \"zerolinewidth\": 2}, \"yaxis\": {\"automargin\": true, \"gridcolor\": \"white\", \"linecolor\": \"white\", \"ticks\": \"\", \"title\": {\"standoff\": 15}, \"zerolinecolor\": \"white\", \"zerolinewidth\": 2}}}, \"title\": {\"text\": \"Plots of number of workers and incentive paid in each month\", \"x\": 0.5}, \"xaxis\": {\"anchor\": \"y\", \"domain\": [0.0, 0.45]}, \"xaxis2\": {\"anchor\": \"y2\", \"domain\": [0.55, 1.0]}, \"yaxis\": {\"anchor\": \"x\", \"domain\": [0.0, 1.0]}, \"yaxis2\": {\"anchor\": \"x2\", \"domain\": [0.0, 1.0]}},                        {\"responsive\": true}                    ).then(function(){\n",
       "                            \n",
       "var gd = document.getElementById('4eed7fa4-2ac6-4ae2-9b25-39f96863845f');\n",
       "var x = new MutationObserver(function (mutations, observer) {{\n",
       "        var display = window.getComputedStyle(gd).display;\n",
       "        if (!display || display === 'none') {{\n",
       "            console.log([gd, 'removed!']);\n",
       "            Plotly.purge(gd);\n",
       "            observer.disconnect();\n",
       "        }}\n",
       "}});\n",
       "\n",
       "// Listen for the removal of the full notebook cells\n",
       "var notebookContainer = gd.closest('#notebook-container');\n",
       "if (notebookContainer) {{\n",
       "    x.observe(notebookContainer, {childList: true});\n",
       "}}\n",
       "\n",
       "// Listen for the clearing of the current output cell\n",
       "var outputEl = gd.closest('.output');\n",
       "if (outputEl) {{\n",
       "    x.observe(outputEl, {childList: true});\n",
       "}}\n",
       "\n",
       "                        })                };                });            </script>        </div>"
      ]
     },
     "metadata": {}
    }
   ],
   "metadata": {
    "execution": {
     "iopub.execute_input": "2021-04-10T14:15:07.980374Z",
     "iopub.status.busy": "2021-04-10T14:15:07.975105Z",
     "iopub.status.idle": "2021-04-10T14:15:08.026291Z",
     "shell.execute_reply": "2021-04-10T14:15:08.026828Z"
    },
    "papermill": {
     "duration": 0.111675,
     "end_time": "2021-04-10T14:15:08.027011",
     "exception": false,
     "start_time": "2021-04-10T14:15:07.915336",
     "status": "completed"
    },
    "tags": []
   }
  },
  {
   "cell_type": "markdown",
   "source": [
    "# Although less number of people worked in March, high incentive was paid, which means they are working overtime."
   ],
   "metadata": {
    "papermill": {
     "duration": 0.048453,
     "end_time": "2021-04-10T14:15:08.123379",
     "exception": false,
     "start_time": "2021-04-10T14:15:08.074926",
     "status": "completed"
    },
    "tags": []
   }
  },
  {
   "cell_type": "code",
   "execution_count": 21,
   "source": [
    "fig = px.scatter(df, x=\"date\", y=\"idle_time\",color=\"team\", template=\"plotly_dark\")\n",
    "fig.update_layout(title='Idle time spent by Teams', title_x=0.5)\n",
    "fig.show()"
   ],
   "outputs": [
    {
     "output_type": "display_data",
     "data": {
      "text/html": [
       "<div>                            <div id=\"315765c9-0c1f-47fb-8e94-a0c23256cb2b\" class=\"plotly-graph-div\" style=\"height:525px; width:100%;\"></div>            <script type=\"text/javascript\">                require([\"plotly\"], function(Plotly) {                    window.PLOTLYENV=window.PLOTLYENV || {};                                    if (document.getElementById(\"315765c9-0c1f-47fb-8e94-a0c23256cb2b\")) {                    Plotly.newPlot(                        \"315765c9-0c1f-47fb-8e94-a0c23256cb2b\",                        [{\"hovertemplate\": \"date=%{x}<br>idle_time=%{y}<br>team=%{marker.color}<extra></extra>\", \"legendgroup\": \"\", \"marker\": {\"color\": [8, 1, 11, 12, 6, 7, 2, 3, 2, 1, 9, 10, 5, 10, 8, 4, 7, 4, 11, 4, 11, 9, 3, 1, 1, 3, 8, 12, 11, 5, 6, 7, 10, 2, 2, 10, 4, 9, 8, 7, 3, 9, 1, 6, 4, 9, 7, 8, 4, 1, 2, 12, 2, 10, 11, 3, 10, 8, 7, 5, 11, 1, 11, 4, 3, 9, 9, 2, 7, 8, 1, 11, 6, 12, 2, 4, 10, 5, 10, 3, 7, 8, 5, 4, 1, 3, 11, 9, 1, 9, 10, 2, 2, 4, 3, 12, 7, 8, 6, 10, 11, 8, 5, 7, 1, 9, 1, 9, 8, 3, 4, 2, 10, 7, 2, 4, 6, 3, 12, 7, 10, 5, 8, 6, 11, 5, 1, 4, 9, 9, 1, 4, 7, 8, 2, 5, 2, 3, 12, 6, 10, 10, 8, 3, 7, 11, 11, 5, 1, 3, 4, 9, 9, 7, 8, 10, 11, 2, 4, 2, 12, 6, 1, 10, 3, 11, 7, 8, 5, 5, 3, 4, 9, 1, 9, 1, 7, 8, 10, 2, 6, 12, 2, 10, 3, 11, 8, 5, 11, 6, 7, 4, 5, 1, 4, 3, 2, 9, 1, 9, 7, 8, 6, 5, 3, 6, 12, 2, 8, 10, 5, 11, 7, 11, 4, 10, 4, 1, 10, 3, 9, 1, 9, 8, 7, 5, 2, 6, 12, 2, 3, 8, 7, 11, 11, 5, 4, 10, 11, 4, 7, 1, 5, 9, 9, 8, 7, 3, 12, 6, 1, 5, 8, 4, 10, 11, 10, 2, 2, 4, 10, 1, 5, 9, 1, 8, 7, 9, 6, 12, 5, 7, 3, 4, 8, 10, 11, 2, 5, 2, 10, 1, 9, 6, 12, 7, 8, 1, 9, 2, 4, 8, 7, 10, 3, 11, 6, 5, 11, 5, 11, 6, 6, 7, 8, 9, 4, 10, 7, 12, 3, 11, 2, 8, 5, 9, 1, 10, 4, 9, 5, 6, 8, 9, 12, 2, 4, 3, 10, 11, 8, 5, 7, 1, 10, 11, 12, 5, 6, 8, 9, 4, 10, 3, 2, 9, 11, 5, 8, 12, 7, 11, 4, 2, 4, 6, 9, 8, 2, 10, 5, 5, 3, 11, 1, 12, 8, 9, 1, 7, 11, 7, 10, 4, 2, 6, 10, 1, 3, 5, 5, 11, 4, 1, 2, 6, 12, 7, 8, 9, 3, 8, 12, 5, 10, 8, 2, 4, 11, 3, 7, 12, 1, 10, 6, 3, 12, 11, 5, 4, 7, 9, 2, 1, 8, 9, 5, 2, 1, 3, 10, 4, 4, 2, 1, 3, 6, 10, 7, 7, 12, 5, 9, 12, 11, 8, 8, 3, 10, 4, 5, 2, 1, 4, 6, 3, 2, 1, 10, 12, 5, 9, 12, 7, 8, 11, 2, 3, 10, 4, 5, 10, 3, 4, 8, 12, 7, 1, 2, 1, 9, 12, 8, 6, 6, 5, 11, 2, 3, 6, 1, 2, 10, 1, 10, 5, 4, 12, 9, 12, 4, 8, 11, 8, 6, 7, 7, 11, 2, 4, 3, 4, 10, 6, 8, 11, 10, 1, 1, 9, 5, 2, 12, 12, 11, 6, 3, 7, 3, 2, 2, 3, 4, 10, 1, 9, 12, 5, 7, 8, 11, 6, 10, 4, 9, 1, 12, 5, 11, 6, 7, 8, 8, 2, 1, 1, 3, 2, 7, 10, 10, 4, 4, 9, 12, 12, 11, 6, 8, 7, 6, 1, 9, 2, 3, 10, 10, 4, 12, 4, 9, 12, 11, 6, 8, 1, 5, 7, 6, 8, 2, 1, 10, 1, 8, 3, 2, 9, 4, 12, 12, 9, 11, 6, 8, 7, 4, 6, 5, 2, 3, 10, 2, 1, 8, 1, 12, 9, 7, 9, 6, 7, 11, 8, 12, 5, 6, 4, 2, 1, 10, 2, 3, 6, 12, 7, 1, 12, 9, 10, 11, 6, 5, 7, 4, 8, 2, 2, 3, 1, 10, 12, 1, 6, 12, 9, 9, 6, 11, 7, 7, 4, 5, 4, 8, 2, 7, 10, 1, 3, 1, 12, 2, 8, 12, 9, 6, 11, 5, 6, 9, 4, 7, 8, 2, 1, 10, 1, 2, 6, 12, 3, 9, 4, 11, 8, 5, 9, 6, 7, 8, 12, 12, 2, 10, 1, 3, 2, 1, 9, 12, 4, 6, 11, 5, 8, 4, 9, 6, 7, 8, 4, 12, 2, 1, 8, 2, 5, 10, 6, 12, 9, 5, 8, 4, 1, 7, 9, 3, 11, 1, 4, 2, 12, 12, 8, 5, 6, 1, 9, 4, 2, 5, 7, 11, 9, 8, 10, 3, 1, 7, 4, 12, 12, 2, 1, 4, 5, 8, 8, 7, 11, 6, 3, 6, 9, 1, 2, 1, 12, 12, 5, 5, 11, 7, 8, 6, 11, 8, 6, 4, 3, 2, 4, 9, 1, 9, 12, 3, 3, 5, 12, 6, 6, 4, 4, 7, 5, 8, 11, 10, 9, 7, 1, 10, 7, 12, 12, 3, 6, 4, 6, 7, 11, 3, 4, 5, 9, 8, 9, 2, 2, 10, 12, 6, 2, 11, 4, 5, 12, 1, 6, 7, 4, 3, 9, 7, 10, 8, 9, 2, 10, 3, 8, 3, 12, 1, 4, 5, 6, 6, 10, 2, 3, 11, 8, 4, 8, 9, 5, 7, 12, 2, 10, 3, 6, 2, 11, 12, 4, 12, 9, 6, 1, 8, 2, 11, 9, 3, 10, 7, 10, 5, 7, 10, 8, 12, 3, 12, 4, 5, 7, 6, 11, 2, 8, 3, 9, 10, 6, 9, 2, 7, 10, 3, 12, 5, 4, 8, 7, 6, 11, 3, 6, 9, 2, 8, 9, 11, 10, 2, 1, 9, 5, 3, 12, 10, 4, 12, 7, 6, 11, 3, 8, 2, 10, 7, 8, 5, 1, 2, 6, 9, 3, 5, 7, 11, 12, 1, 6, 3, 9, 8, 10, 2, 12, 2, 4, 5, 10, 9, 1, 8, 6, 3, 5, 11, 12, 7, 1, 3, 6, 8, 9, 10, 2, 12, 2, 5, 1, 4, 10, 9, 8, 6, 3, 8, 12, 8, 6, 3, 9, 5, 10, 1, 2, 11, 4, 10, 4, 2, 7, 1, 9, 7, 2, 3, 4, 1, 12, 9, 11, 3, 7, 8, 6, 8, 9, 4, 5, 10, 10, 12, 1, 7, 7, 3, 11, 1, 12, 3, 7, 4, 8, 9, 6, 8, 5, 10, 12, 2, 1, 4, 10, 5, 6, 2, 3, 8, 12, 9, 1, 4, 11, 12, 3, 7, 4, 1, 9, 5, 10, 7, 5, 2, 8, 2, 6, 8, 2, 11, 12, 1, 4, 3, 11, 3, 12, 1, 9, 4, 5, 10, 2, 9, 7, 6, 12, 12, 1, 7, 5, 4, 3, 11, 6, 9, 10, 1, 4, 11, 2, 8, 2, 6, 5, 3, 12, 9, 1, 4, 2, 5, 4, 1, 3, 12, 11, 11, 9, 10, 2, 6, 8, 5, 8, 10, 6, 11, 12, 5, 4, 1, 9, 3, 12, 11, 3, 4, 1, 9, 2, 10, 2, 6, 8, 5, 7, 10, 8, 12, 5, 1, 3, 4, 1, 4, 9, 12, 3, 11, 11, 10, 9, 2, 8, 6, 2, 5, 7, 8, 7, 10, 12, 11, 2, 4, 1, 12, 3, 11, 3, 5, 10, 9, 2, 1, 4, 5, 8, 6, 7, 10, 8, 7, 9, 6], \"coloraxis\": \"coloraxis\", \"symbol\": \"circle\"}, \"mode\": \"markers\", \"name\": \"\", \"showlegend\": false, \"type\": \"scattergl\", \"x\": [\"2015-01-01T00:00:00\", \"2015-01-01T00:00:00\", \"2015-01-01T00:00:00\", \"2015-01-01T00:00:00\", \"2015-01-01T00:00:00\", \"2015-01-01T00:00:00\", \"2015-01-01T00:00:00\", \"2015-01-01T00:00:00\", \"2015-01-01T00:00:00\", \"2015-01-01T00:00:00\", \"2015-01-01T00:00:00\", \"2015-01-01T00:00:00\", \"2015-01-01T00:00:00\", \"2015-01-01T00:00:00\", \"2015-01-01T00:00:00\", \"2015-01-01T00:00:00\", \"2015-01-01T00:00:00\", \"2015-01-01T00:00:00\", \"2015-01-01T00:00:00\", \"2015-01-03T00:00:00\", \"2015-01-03T00:00:00\", \"2015-01-03T00:00:00\", \"2015-01-03T00:00:00\", \"2015-01-03T00:00:00\", \"2015-01-03T00:00:00\", \"2015-01-03T00:00:00\", \"2015-01-03T00:00:00\", \"2015-01-03T00:00:00\", \"2015-01-03T00:00:00\", \"2015-01-03T00:00:00\", \"2015-01-03T00:00:00\", \"2015-01-03T00:00:00\", \"2015-01-03T00:00:00\", \"2015-01-03T00:00:00\", \"2015-01-03T00:00:00\", \"2015-01-03T00:00:00\", \"2015-01-03T00:00:00\", \"2015-01-03T00:00:00\", \"2015-01-03T00:00:00\", \"2015-01-03T00:00:00\", \"2015-01-04T00:00:00\", \"2015-01-04T00:00:00\", \"2015-01-04T00:00:00\", \"2015-01-04T00:00:00\", \"2015-01-04T00:00:00\", \"2015-01-04T00:00:00\", \"2015-01-04T00:00:00\", \"2015-01-04T00:00:00\", \"2015-01-04T00:00:00\", \"2015-01-04T00:00:00\", \"2015-01-04T00:00:00\", \"2015-01-04T00:00:00\", \"2015-01-04T00:00:00\", \"2015-01-04T00:00:00\", \"2015-01-04T00:00:00\", \"2015-01-04T00:00:00\", \"2015-01-04T00:00:00\", \"2015-01-04T00:00:00\", \"2015-01-04T00:00:00\", \"2015-01-04T00:00:00\", \"2015-01-04T00:00:00\", \"2015-01-05T00:00:00\", \"2015-01-05T00:00:00\", \"2015-01-05T00:00:00\", \"2015-01-05T00:00:00\", \"2015-01-05T00:00:00\", \"2015-01-05T00:00:00\", \"2015-01-05T00:00:00\", \"2015-01-05T00:00:00\", \"2015-01-05T00:00:00\", \"2015-01-05T00:00:00\", \"2015-01-05T00:00:00\", \"2015-01-05T00:00:00\", \"2015-01-05T00:00:00\", \"2015-01-05T00:00:00\", \"2015-01-05T00:00:00\", \"2015-01-05T00:00:00\", \"2015-01-05T00:00:00\", \"2015-01-05T00:00:00\", \"2015-01-05T00:00:00\", \"2015-01-05T00:00:00\", \"2015-01-05T00:00:00\", \"2015-01-05T00:00:00\", \"2015-01-06T00:00:00\", \"2015-01-06T00:00:00\", \"2015-01-06T00:00:00\", \"2015-01-06T00:00:00\", \"2015-01-06T00:00:00\", \"2015-01-06T00:00:00\", \"2015-01-06T00:00:00\", \"2015-01-06T00:00:00\", \"2015-01-06T00:00:00\", \"2015-01-06T00:00:00\", \"2015-01-06T00:00:00\", \"2015-01-06T00:00:00\", \"2015-01-06T00:00:00\", \"2015-01-06T00:00:00\", \"2015-01-06T00:00:00\", \"2015-01-06T00:00:00\", \"2015-01-06T00:00:00\", \"2015-01-06T00:00:00\", \"2015-01-06T00:00:00\", \"2015-01-06T00:00:00\", \"2015-01-06T00:00:00\", \"2015-01-07T00:00:00\", \"2015-01-07T00:00:00\", \"2015-01-07T00:00:00\", \"2015-01-07T00:00:00\", \"2015-01-07T00:00:00\", \"2015-01-07T00:00:00\", \"2015-01-07T00:00:00\", \"2015-01-07T00:00:00\", \"2015-01-07T00:00:00\", \"2015-01-07T00:00:00\", \"2015-01-07T00:00:00\", \"2015-01-07T00:00:00\", \"2015-01-07T00:00:00\", \"2015-01-07T00:00:00\", \"2015-01-07T00:00:00\", \"2015-01-07T00:00:00\", \"2015-01-07T00:00:00\", \"2015-01-07T00:00:00\", \"2015-01-07T00:00:00\", \"2015-01-07T00:00:00\", \"2015-01-07T00:00:00\", \"2015-01-07T00:00:00\", \"2015-01-08T00:00:00\", \"2015-01-08T00:00:00\", \"2015-01-08T00:00:00\", \"2015-01-08T00:00:00\", \"2015-01-08T00:00:00\", \"2015-01-08T00:00:00\", \"2015-01-08T00:00:00\", \"2015-01-08T00:00:00\", \"2015-01-08T00:00:00\", \"2015-01-08T00:00:00\", \"2015-01-08T00:00:00\", \"2015-01-08T00:00:00\", \"2015-01-08T00:00:00\", \"2015-01-08T00:00:00\", \"2015-01-08T00:00:00\", \"2015-01-08T00:00:00\", \"2015-01-08T00:00:00\", \"2015-01-08T00:00:00\", \"2015-01-08T00:00:00\", \"2015-01-08T00:00:00\", \"2015-01-08T00:00:00\", \"2015-01-08T00:00:00\", \"2015-01-10T00:00:00\", \"2015-01-10T00:00:00\", \"2015-01-10T00:00:00\", \"2015-01-10T00:00:00\", \"2015-01-10T00:00:00\", \"2015-01-10T00:00:00\", \"2015-01-10T00:00:00\", \"2015-01-10T00:00:00\", \"2015-01-10T00:00:00\", \"2015-01-10T00:00:00\", \"2015-01-10T00:00:00\", \"2015-01-10T00:00:00\", \"2015-01-10T00:00:00\", \"2015-01-10T00:00:00\", \"2015-01-10T00:00:00\", \"2015-01-10T00:00:00\", \"2015-01-10T00:00:00\", \"2015-01-10T00:00:00\", \"2015-01-10T00:00:00\", \"2015-01-10T00:00:00\", \"2015-01-10T00:00:00\", \"2015-01-10T00:00:00\", \"2015-01-11T00:00:00\", \"2015-01-11T00:00:00\", \"2015-01-11T00:00:00\", \"2015-01-11T00:00:00\", \"2015-01-11T00:00:00\", \"2015-01-11T00:00:00\", \"2015-01-11T00:00:00\", \"2015-01-11T00:00:00\", \"2015-01-11T00:00:00\", \"2015-01-11T00:00:00\", \"2015-01-11T00:00:00\", \"2015-01-11T00:00:00\", \"2015-01-11T00:00:00\", \"2015-01-11T00:00:00\", \"2015-01-11T00:00:00\", \"2015-01-11T00:00:00\", \"2015-01-11T00:00:00\", \"2015-01-11T00:00:00\", \"2015-01-11T00:00:00\", \"2015-01-11T00:00:00\", \"2015-01-11T00:00:00\", \"2015-01-11T00:00:00\", \"2015-01-11T00:00:00\", \"2015-01-12T00:00:00\", \"2015-01-12T00:00:00\", \"2015-01-12T00:00:00\", \"2015-01-12T00:00:00\", \"2015-01-12T00:00:00\", \"2015-01-12T00:00:00\", \"2015-01-12T00:00:00\", \"2015-01-12T00:00:00\", \"2015-01-12T00:00:00\", \"2015-01-12T00:00:00\", \"2015-01-12T00:00:00\", \"2015-01-12T00:00:00\", \"2015-01-12T00:00:00\", \"2015-01-12T00:00:00\", \"2015-01-12T00:00:00\", \"2015-01-12T00:00:00\", \"2015-01-12T00:00:00\", \"2015-01-12T00:00:00\", \"2015-01-12T00:00:00\", \"2015-01-12T00:00:00\", \"2015-01-12T00:00:00\", \"2015-01-12T00:00:00\", \"2015-01-12T00:00:00\", \"2015-01-13T00:00:00\", \"2015-01-13T00:00:00\", \"2015-01-13T00:00:00\", \"2015-01-13T00:00:00\", \"2015-01-13T00:00:00\", \"2015-01-13T00:00:00\", \"2015-01-13T00:00:00\", \"2015-01-13T00:00:00\", \"2015-01-13T00:00:00\", \"2015-01-13T00:00:00\", \"2015-01-13T00:00:00\", \"2015-01-13T00:00:00\", \"2015-01-13T00:00:00\", \"2015-01-13T00:00:00\", \"2015-01-13T00:00:00\", \"2015-01-13T00:00:00\", \"2015-01-13T00:00:00\", \"2015-01-13T00:00:00\", \"2015-01-13T00:00:00\", \"2015-01-13T00:00:00\", \"2015-01-13T00:00:00\", \"2015-01-13T00:00:00\", \"2015-01-14T00:00:00\", \"2015-01-14T00:00:00\", \"2015-01-14T00:00:00\", \"2015-01-14T00:00:00\", \"2015-01-14T00:00:00\", \"2015-01-14T00:00:00\", \"2015-01-14T00:00:00\", \"2015-01-14T00:00:00\", \"2015-01-14T00:00:00\", \"2015-01-14T00:00:00\", \"2015-01-14T00:00:00\", \"2015-01-14T00:00:00\", \"2015-01-14T00:00:00\", \"2015-01-14T00:00:00\", \"2015-01-14T00:00:00\", \"2015-01-14T00:00:00\", \"2015-01-14T00:00:00\", \"2015-01-14T00:00:00\", \"2015-01-14T00:00:00\", \"2015-01-14T00:00:00\", \"2015-01-14T00:00:00\", \"2015-01-15T00:00:00\", \"2015-01-15T00:00:00\", \"2015-01-15T00:00:00\", \"2015-01-15T00:00:00\", \"2015-01-15T00:00:00\", \"2015-01-15T00:00:00\", \"2015-01-15T00:00:00\", \"2015-01-15T00:00:00\", \"2015-01-15T00:00:00\", \"2015-01-15T00:00:00\", \"2015-01-15T00:00:00\", \"2015-01-15T00:00:00\", \"2015-01-15T00:00:00\", \"2015-01-15T00:00:00\", \"2015-01-15T00:00:00\", \"2015-01-15T00:00:00\", \"2015-01-15T00:00:00\", \"2015-01-15T00:00:00\", \"2015-01-15T00:00:00\", \"2015-01-17T00:00:00\", \"2015-01-17T00:00:00\", \"2015-01-17T00:00:00\", \"2015-01-17T00:00:00\", \"2015-01-17T00:00:00\", \"2015-01-17T00:00:00\", \"2015-01-17T00:00:00\", \"2015-01-17T00:00:00\", \"2015-01-17T00:00:00\", \"2015-01-17T00:00:00\", \"2015-01-17T00:00:00\", \"2015-01-17T00:00:00\", \"2015-01-17T00:00:00\", \"2015-01-17T00:00:00\", \"2015-01-17T00:00:00\", \"2015-01-17T00:00:00\", \"2015-01-17T00:00:00\", \"2015-01-17T00:00:00\", \"2015-01-17T00:00:00\", \"2015-01-17T00:00:00\", \"2015-01-17T00:00:00\", \"2015-01-18T00:00:00\", \"2015-01-18T00:00:00\", \"2015-01-18T00:00:00\", \"2015-01-18T00:00:00\", \"2015-01-18T00:00:00\", \"2015-01-18T00:00:00\", \"2015-01-18T00:00:00\", \"2015-01-18T00:00:00\", \"2015-01-18T00:00:00\", \"2015-01-18T00:00:00\", \"2015-01-18T00:00:00\", \"2015-01-18T00:00:00\", \"2015-01-18T00:00:00\", \"2015-01-18T00:00:00\", \"2015-01-18T00:00:00\", \"2015-01-18T00:00:00\", \"2015-01-18T00:00:00\", \"2015-01-18T00:00:00\", \"2015-01-18T00:00:00\", \"2015-01-19T00:00:00\", \"2015-01-19T00:00:00\", \"2015-01-19T00:00:00\", \"2015-01-19T00:00:00\", \"2015-01-19T00:00:00\", \"2015-01-19T00:00:00\", \"2015-01-19T00:00:00\", \"2015-01-19T00:00:00\", \"2015-01-19T00:00:00\", \"2015-01-19T00:00:00\", \"2015-01-19T00:00:00\", \"2015-01-19T00:00:00\", \"2015-01-19T00:00:00\", \"2015-01-19T00:00:00\", \"2015-01-19T00:00:00\", \"2015-01-19T00:00:00\", \"2015-01-19T00:00:00\", \"2015-01-19T00:00:00\", \"2015-01-19T00:00:00\", \"2015-01-20T00:00:00\", \"2015-01-20T00:00:00\", \"2015-01-20T00:00:00\", \"2015-01-20T00:00:00\", \"2015-01-20T00:00:00\", \"2015-01-20T00:00:00\", \"2015-01-20T00:00:00\", \"2015-01-20T00:00:00\", \"2015-01-20T00:00:00\", \"2015-01-20T00:00:00\", \"2015-01-20T00:00:00\", \"2015-01-20T00:00:00\", \"2015-01-20T00:00:00\", \"2015-01-20T00:00:00\", \"2015-01-20T00:00:00\", \"2015-01-21T00:00:00\", \"2015-01-21T00:00:00\", \"2015-01-21T00:00:00\", \"2015-01-21T00:00:00\", \"2015-01-21T00:00:00\", \"2015-01-21T00:00:00\", \"2015-01-21T00:00:00\", \"2015-01-21T00:00:00\", \"2015-01-21T00:00:00\", \"2015-01-21T00:00:00\", \"2015-01-21T00:00:00\", \"2015-01-21T00:00:00\", \"2015-01-21T00:00:00\", \"2015-01-21T00:00:00\", \"2015-01-21T00:00:00\", \"2015-01-21T00:00:00\", \"2015-01-21T00:00:00\", \"2015-01-21T00:00:00\", \"2015-01-21T00:00:00\", \"2015-01-22T00:00:00\", \"2015-01-22T00:00:00\", \"2015-01-22T00:00:00\", \"2015-01-22T00:00:00\", \"2015-01-22T00:00:00\", \"2015-01-22T00:00:00\", \"2015-01-22T00:00:00\", \"2015-01-22T00:00:00\", \"2015-01-22T00:00:00\", \"2015-01-22T00:00:00\", \"2015-01-22T00:00:00\", \"2015-01-22T00:00:00\", \"2015-01-22T00:00:00\", \"2015-01-22T00:00:00\", \"2015-01-22T00:00:00\", \"2015-01-22T00:00:00\", \"2015-01-22T00:00:00\", \"2015-01-22T00:00:00\", \"2015-01-22T00:00:00\", \"2015-01-22T00:00:00\", \"2015-01-22T00:00:00\", \"2015-01-22T00:00:00\", \"2015-01-24T00:00:00\", \"2015-01-24T00:00:00\", \"2015-01-24T00:00:00\", \"2015-01-24T00:00:00\", \"2015-01-24T00:00:00\", \"2015-01-24T00:00:00\", \"2015-01-24T00:00:00\", \"2015-01-24T00:00:00\", \"2015-01-24T00:00:00\", \"2015-01-24T00:00:00\", \"2015-01-24T00:00:00\", \"2015-01-24T00:00:00\", \"2015-01-24T00:00:00\", \"2015-01-24T00:00:00\", \"2015-01-24T00:00:00\", \"2015-01-24T00:00:00\", \"2015-01-24T00:00:00\", \"2015-01-24T00:00:00\", \"2015-01-24T00:00:00\", \"2015-01-24T00:00:00\", \"2015-01-24T00:00:00\", \"2015-01-24T00:00:00\", \"2015-01-24T00:00:00\", \"2015-01-25T00:00:00\", \"2015-01-25T00:00:00\", \"2015-01-25T00:00:00\", \"2015-01-25T00:00:00\", \"2015-01-25T00:00:00\", \"2015-01-25T00:00:00\", \"2015-01-25T00:00:00\", \"2015-01-25T00:00:00\", \"2015-01-25T00:00:00\", \"2015-01-25T00:00:00\", \"2015-01-25T00:00:00\", \"2015-01-25T00:00:00\", \"2015-01-25T00:00:00\", \"2015-01-25T00:00:00\", \"2015-01-25T00:00:00\", \"2015-01-25T00:00:00\", \"2015-01-25T00:00:00\", \"2015-01-25T00:00:00\", \"2015-01-25T00:00:00\", \"2015-01-25T00:00:00\", \"2015-01-25T00:00:00\", \"2015-01-26T00:00:00\", \"2015-01-26T00:00:00\", \"2015-01-26T00:00:00\", \"2015-01-26T00:00:00\", \"2015-01-26T00:00:00\", \"2015-01-26T00:00:00\", \"2015-01-26T00:00:00\", \"2015-01-26T00:00:00\", \"2015-01-26T00:00:00\", \"2015-01-26T00:00:00\", \"2015-01-26T00:00:00\", \"2015-01-26T00:00:00\", \"2015-01-26T00:00:00\", \"2015-01-26T00:00:00\", \"2015-01-26T00:00:00\", \"2015-01-26T00:00:00\", \"2015-01-26T00:00:00\", \"2015-01-26T00:00:00\", \"2015-01-26T00:00:00\", \"2015-01-27T00:00:00\", \"2015-01-27T00:00:00\", \"2015-01-27T00:00:00\", \"2015-01-27T00:00:00\", \"2015-01-27T00:00:00\", \"2015-01-27T00:00:00\", \"2015-01-27T00:00:00\", \"2015-01-27T00:00:00\", \"2015-01-27T00:00:00\", \"2015-01-27T00:00:00\", \"2015-01-27T00:00:00\", \"2015-01-27T00:00:00\", \"2015-01-27T00:00:00\", \"2015-01-27T00:00:00\", \"2015-01-27T00:00:00\", \"2015-01-27T00:00:00\", \"2015-01-27T00:00:00\", \"2015-01-27T00:00:00\", \"2015-01-27T00:00:00\", \"2015-01-27T00:00:00\", \"2015-01-27T00:00:00\", \"2015-01-28T00:00:00\", \"2015-01-28T00:00:00\", \"2015-01-28T00:00:00\", \"2015-01-28T00:00:00\", \"2015-01-28T00:00:00\", \"2015-01-28T00:00:00\", \"2015-01-28T00:00:00\", \"2015-01-28T00:00:00\", \"2015-01-28T00:00:00\", \"2015-01-28T00:00:00\", \"2015-01-28T00:00:00\", \"2015-01-28T00:00:00\", \"2015-01-28T00:00:00\", \"2015-01-28T00:00:00\", \"2015-01-28T00:00:00\", \"2015-01-28T00:00:00\", \"2015-01-28T00:00:00\", \"2015-01-28T00:00:00\", \"2015-01-28T00:00:00\", \"2015-01-28T00:00:00\", \"2015-01-28T00:00:00\", \"2015-01-29T00:00:00\", \"2015-01-29T00:00:00\", \"2015-01-29T00:00:00\", \"2015-01-29T00:00:00\", \"2015-01-29T00:00:00\", \"2015-01-29T00:00:00\", \"2015-01-29T00:00:00\", \"2015-01-29T00:00:00\", \"2015-01-29T00:00:00\", \"2015-01-29T00:00:00\", \"2015-01-29T00:00:00\", \"2015-01-29T00:00:00\", \"2015-01-29T00:00:00\", \"2015-01-29T00:00:00\", \"2015-01-29T00:00:00\", \"2015-01-29T00:00:00\", \"2015-01-29T00:00:00\", \"2015-01-29T00:00:00\", \"2015-01-29T00:00:00\", \"2015-01-29T00:00:00\", \"2015-01-31T00:00:00\", \"2015-01-31T00:00:00\", \"2015-01-31T00:00:00\", \"2015-01-31T00:00:00\", \"2015-01-31T00:00:00\", \"2015-01-31T00:00:00\", \"2015-01-31T00:00:00\", \"2015-01-31T00:00:00\", \"2015-01-31T00:00:00\", \"2015-01-31T00:00:00\", \"2015-01-31T00:00:00\", \"2015-01-31T00:00:00\", \"2015-01-31T00:00:00\", \"2015-01-31T00:00:00\", \"2015-01-31T00:00:00\", \"2015-01-31T00:00:00\", \"2015-01-31T00:00:00\", \"2015-01-31T00:00:00\", \"2015-01-31T00:00:00\", \"2015-01-31T00:00:00\", \"2015-01-31T00:00:00\", \"2015-01-31T00:00:00\", \"2015-01-31T00:00:00\", \"2015-01-31T00:00:00\", \"2015-02-01T00:00:00\", \"2015-02-01T00:00:00\", \"2015-02-01T00:00:00\", \"2015-02-01T00:00:00\", \"2015-02-01T00:00:00\", \"2015-02-01T00:00:00\", \"2015-02-01T00:00:00\", \"2015-02-01T00:00:00\", \"2015-02-01T00:00:00\", \"2015-02-01T00:00:00\", \"2015-02-01T00:00:00\", \"2015-02-01T00:00:00\", \"2015-02-01T00:00:00\", \"2015-02-01T00:00:00\", \"2015-02-01T00:00:00\", \"2015-02-01T00:00:00\", \"2015-02-01T00:00:00\", \"2015-02-01T00:00:00\", \"2015-02-01T00:00:00\", \"2015-02-02T00:00:00\", \"2015-02-02T00:00:00\", \"2015-02-02T00:00:00\", \"2015-02-02T00:00:00\", \"2015-02-02T00:00:00\", \"2015-02-02T00:00:00\", \"2015-02-02T00:00:00\", \"2015-02-02T00:00:00\", \"2015-02-02T00:00:00\", \"2015-02-02T00:00:00\", \"2015-02-02T00:00:00\", \"2015-02-02T00:00:00\", \"2015-02-02T00:00:00\", \"2015-02-02T00:00:00\", \"2015-02-02T00:00:00\", \"2015-02-02T00:00:00\", \"2015-02-02T00:00:00\", \"2015-02-02T00:00:00\", \"2015-02-02T00:00:00\", \"2015-02-03T00:00:00\", \"2015-02-03T00:00:00\", \"2015-02-03T00:00:00\", \"2015-02-03T00:00:00\", \"2015-02-03T00:00:00\", \"2015-02-03T00:00:00\", \"2015-02-03T00:00:00\", \"2015-02-03T00:00:00\", \"2015-02-03T00:00:00\", \"2015-02-03T00:00:00\", \"2015-02-03T00:00:00\", \"2015-02-03T00:00:00\", \"2015-02-03T00:00:00\", \"2015-02-03T00:00:00\", \"2015-02-03T00:00:00\", \"2015-02-03T00:00:00\", \"2015-02-03T00:00:00\", \"2015-02-03T00:00:00\", \"2015-02-03T00:00:00\", \"2015-02-04T00:00:00\", \"2015-02-04T00:00:00\", \"2015-02-04T00:00:00\", \"2015-02-04T00:00:00\", \"2015-02-04T00:00:00\", \"2015-02-04T00:00:00\", \"2015-02-04T00:00:00\", \"2015-02-04T00:00:00\", \"2015-02-04T00:00:00\", \"2015-02-04T00:00:00\", \"2015-02-04T00:00:00\", \"2015-02-04T00:00:00\", \"2015-02-04T00:00:00\", \"2015-02-04T00:00:00\", \"2015-02-04T00:00:00\", \"2015-02-04T00:00:00\", \"2015-02-04T00:00:00\", \"2015-02-04T00:00:00\", \"2015-02-04T00:00:00\", \"2015-02-05T00:00:00\", \"2015-02-05T00:00:00\", \"2015-02-05T00:00:00\", \"2015-02-05T00:00:00\", \"2015-02-05T00:00:00\", \"2015-02-05T00:00:00\", \"2015-02-05T00:00:00\", \"2015-02-05T00:00:00\", \"2015-02-05T00:00:00\", \"2015-02-05T00:00:00\", \"2015-02-05T00:00:00\", \"2015-02-05T00:00:00\", \"2015-02-05T00:00:00\", \"2015-02-05T00:00:00\", \"2015-02-05T00:00:00\", \"2015-02-05T00:00:00\", \"2015-02-05T00:00:00\", \"2015-02-05T00:00:00\", \"2015-02-07T00:00:00\", \"2015-02-07T00:00:00\", \"2015-02-07T00:00:00\", \"2015-02-07T00:00:00\", \"2015-02-07T00:00:00\", \"2015-02-07T00:00:00\", \"2015-02-07T00:00:00\", \"2015-02-07T00:00:00\", \"2015-02-07T00:00:00\", \"2015-02-07T00:00:00\", \"2015-02-07T00:00:00\", \"2015-02-07T00:00:00\", \"2015-02-07T00:00:00\", \"2015-02-07T00:00:00\", \"2015-02-07T00:00:00\", \"2015-02-07T00:00:00\", \"2015-02-07T00:00:00\", \"2015-02-07T00:00:00\", \"2015-02-07T00:00:00\", \"2015-02-08T00:00:00\", \"2015-02-08T00:00:00\", \"2015-02-08T00:00:00\", \"2015-02-08T00:00:00\", \"2015-02-08T00:00:00\", \"2015-02-08T00:00:00\", \"2015-02-08T00:00:00\", \"2015-02-08T00:00:00\", \"2015-02-08T00:00:00\", \"2015-02-08T00:00:00\", \"2015-02-08T00:00:00\", \"2015-02-08T00:00:00\", \"2015-02-08T00:00:00\", \"2015-02-08T00:00:00\", \"2015-02-08T00:00:00\", \"2015-02-08T00:00:00\", \"2015-02-08T00:00:00\", \"2015-02-08T00:00:00\", \"2015-02-08T00:00:00\", \"2015-02-09T00:00:00\", \"2015-02-09T00:00:00\", \"2015-02-09T00:00:00\", \"2015-02-09T00:00:00\", \"2015-02-09T00:00:00\", \"2015-02-09T00:00:00\", \"2015-02-09T00:00:00\", \"2015-02-09T00:00:00\", \"2015-02-09T00:00:00\", \"2015-02-09T00:00:00\", \"2015-02-09T00:00:00\", \"2015-02-09T00:00:00\", \"2015-02-09T00:00:00\", \"2015-02-09T00:00:00\", \"2015-02-09T00:00:00\", \"2015-02-09T00:00:00\", \"2015-02-09T00:00:00\", \"2015-02-09T00:00:00\", \"2015-02-10T00:00:00\", \"2015-02-10T00:00:00\", \"2015-02-10T00:00:00\", \"2015-02-10T00:00:00\", \"2015-02-10T00:00:00\", \"2015-02-10T00:00:00\", \"2015-02-10T00:00:00\", \"2015-02-10T00:00:00\", \"2015-02-10T00:00:00\", \"2015-02-10T00:00:00\", \"2015-02-10T00:00:00\", \"2015-02-10T00:00:00\", \"2015-02-10T00:00:00\", \"2015-02-10T00:00:00\", \"2015-02-10T00:00:00\", \"2015-02-10T00:00:00\", \"2015-02-10T00:00:00\", \"2015-02-10T00:00:00\", \"2015-02-10T00:00:00\", \"2015-02-11T00:00:00\", \"2015-02-11T00:00:00\", \"2015-02-11T00:00:00\", \"2015-02-11T00:00:00\", \"2015-02-11T00:00:00\", \"2015-02-11T00:00:00\", \"2015-02-11T00:00:00\", \"2015-02-11T00:00:00\", \"2015-02-11T00:00:00\", \"2015-02-11T00:00:00\", \"2015-02-11T00:00:00\", \"2015-02-11T00:00:00\", \"2015-02-11T00:00:00\", \"2015-02-11T00:00:00\", \"2015-02-11T00:00:00\", \"2015-02-11T00:00:00\", \"2015-02-11T00:00:00\", \"2015-02-11T00:00:00\", \"2015-02-11T00:00:00\", \"2015-02-12T00:00:00\", \"2015-02-12T00:00:00\", \"2015-02-12T00:00:00\", \"2015-02-12T00:00:00\", \"2015-02-12T00:00:00\", \"2015-02-12T00:00:00\", \"2015-02-12T00:00:00\", \"2015-02-12T00:00:00\", \"2015-02-12T00:00:00\", \"2015-02-12T00:00:00\", \"2015-02-12T00:00:00\", \"2015-02-12T00:00:00\", \"2015-02-12T00:00:00\", \"2015-02-12T00:00:00\", \"2015-02-12T00:00:00\", \"2015-02-12T00:00:00\", \"2015-02-12T00:00:00\", \"2015-02-12T00:00:00\", \"2015-02-12T00:00:00\", \"2015-02-14T00:00:00\", \"2015-02-14T00:00:00\", \"2015-02-14T00:00:00\", \"2015-02-14T00:00:00\", \"2015-02-14T00:00:00\", \"2015-02-14T00:00:00\", \"2015-02-14T00:00:00\", \"2015-02-14T00:00:00\", \"2015-02-14T00:00:00\", \"2015-02-14T00:00:00\", \"2015-02-14T00:00:00\", \"2015-02-14T00:00:00\", \"2015-02-14T00:00:00\", \"2015-02-14T00:00:00\", \"2015-02-14T00:00:00\", \"2015-02-14T00:00:00\", \"2015-02-14T00:00:00\", \"2015-02-15T00:00:00\", \"2015-02-15T00:00:00\", \"2015-02-15T00:00:00\", \"2015-02-15T00:00:00\", \"2015-02-15T00:00:00\", \"2015-02-15T00:00:00\", \"2015-02-15T00:00:00\", \"2015-02-15T00:00:00\", \"2015-02-15T00:00:00\", \"2015-02-15T00:00:00\", \"2015-02-15T00:00:00\", \"2015-02-15T00:00:00\", \"2015-02-15T00:00:00\", \"2015-02-15T00:00:00\", \"2015-02-15T00:00:00\", \"2015-02-15T00:00:00\", \"2015-02-15T00:00:00\", \"2015-02-15T00:00:00\", \"2015-02-15T00:00:00\", \"2015-02-16T00:00:00\", \"2015-02-16T00:00:00\", \"2015-02-16T00:00:00\", \"2015-02-16T00:00:00\", \"2015-02-16T00:00:00\", \"2015-02-16T00:00:00\", \"2015-02-16T00:00:00\", \"2015-02-16T00:00:00\", \"2015-02-16T00:00:00\", \"2015-02-16T00:00:00\", \"2015-02-16T00:00:00\", \"2015-02-16T00:00:00\", \"2015-02-16T00:00:00\", \"2015-02-16T00:00:00\", \"2015-02-16T00:00:00\", \"2015-02-16T00:00:00\", \"2015-02-16T00:00:00\", \"2015-02-16T00:00:00\", \"2015-02-17T00:00:00\", \"2015-02-17T00:00:00\", \"2015-02-17T00:00:00\", \"2015-02-17T00:00:00\", \"2015-02-17T00:00:00\", \"2015-02-17T00:00:00\", \"2015-02-17T00:00:00\", \"2015-02-17T00:00:00\", \"2015-02-17T00:00:00\", \"2015-02-17T00:00:00\", \"2015-02-17T00:00:00\", \"2015-02-17T00:00:00\", \"2015-02-17T00:00:00\", \"2015-02-17T00:00:00\", \"2015-02-17T00:00:00\", \"2015-02-17T00:00:00\", \"2015-02-17T00:00:00\", \"2015-02-17T00:00:00\", \"2015-02-17T00:00:00\", \"2015-02-17T00:00:00\", \"2015-02-18T00:00:00\", \"2015-02-18T00:00:00\", \"2015-02-18T00:00:00\", \"2015-02-18T00:00:00\", \"2015-02-18T00:00:00\", \"2015-02-18T00:00:00\", \"2015-02-18T00:00:00\", \"2015-02-18T00:00:00\", \"2015-02-18T00:00:00\", \"2015-02-18T00:00:00\", \"2015-02-18T00:00:00\", \"2015-02-18T00:00:00\", \"2015-02-18T00:00:00\", \"2015-02-18T00:00:00\", \"2015-02-18T00:00:00\", \"2015-02-18T00:00:00\", \"2015-02-18T00:00:00\", \"2015-02-18T00:00:00\", \"2015-02-18T00:00:00\", \"2015-02-18T00:00:00\", \"2015-02-18T00:00:00\", \"2015-02-19T00:00:00\", \"2015-02-19T00:00:00\", \"2015-02-19T00:00:00\", \"2015-02-19T00:00:00\", \"2015-02-19T00:00:00\", \"2015-02-19T00:00:00\", \"2015-02-19T00:00:00\", \"2015-02-19T00:00:00\", \"2015-02-19T00:00:00\", \"2015-02-19T00:00:00\", \"2015-02-19T00:00:00\", \"2015-02-19T00:00:00\", \"2015-02-19T00:00:00\", \"2015-02-19T00:00:00\", \"2015-02-19T00:00:00\", \"2015-02-19T00:00:00\", \"2015-02-19T00:00:00\", \"2015-02-19T00:00:00\", \"2015-02-19T00:00:00\", \"2015-02-19T00:00:00\", \"2015-02-22T00:00:00\", \"2015-02-22T00:00:00\", \"2015-02-22T00:00:00\", \"2015-02-22T00:00:00\", \"2015-02-22T00:00:00\", \"2015-02-22T00:00:00\", \"2015-02-22T00:00:00\", \"2015-02-22T00:00:00\", \"2015-02-22T00:00:00\", \"2015-02-22T00:00:00\", \"2015-02-22T00:00:00\", \"2015-02-22T00:00:00\", \"2015-02-22T00:00:00\", \"2015-02-22T00:00:00\", \"2015-02-22T00:00:00\", \"2015-02-22T00:00:00\", \"2015-02-22T00:00:00\", \"2015-02-22T00:00:00\", \"2015-02-22T00:00:00\", \"2015-02-22T00:00:00\", \"2015-02-23T00:00:00\", \"2015-02-23T00:00:00\", \"2015-02-23T00:00:00\", \"2015-02-23T00:00:00\", \"2015-02-23T00:00:00\", \"2015-02-23T00:00:00\", \"2015-02-23T00:00:00\", \"2015-02-23T00:00:00\", \"2015-02-23T00:00:00\", \"2015-02-23T00:00:00\", \"2015-02-23T00:00:00\", \"2015-02-23T00:00:00\", \"2015-02-23T00:00:00\", \"2015-02-23T00:00:00\", \"2015-02-23T00:00:00\", \"2015-02-23T00:00:00\", \"2015-02-23T00:00:00\", \"2015-02-23T00:00:00\", \"2015-02-23T00:00:00\", \"2015-02-24T00:00:00\", \"2015-02-24T00:00:00\", \"2015-02-24T00:00:00\", \"2015-02-24T00:00:00\", \"2015-02-24T00:00:00\", \"2015-02-24T00:00:00\", \"2015-02-24T00:00:00\", \"2015-02-24T00:00:00\", \"2015-02-24T00:00:00\", \"2015-02-24T00:00:00\", \"2015-02-24T00:00:00\", \"2015-02-24T00:00:00\", \"2015-02-24T00:00:00\", \"2015-02-24T00:00:00\", \"2015-02-24T00:00:00\", \"2015-02-24T00:00:00\", \"2015-02-24T00:00:00\", \"2015-02-24T00:00:00\", \"2015-02-24T00:00:00\", \"2015-02-25T00:00:00\", \"2015-02-25T00:00:00\", \"2015-02-25T00:00:00\", \"2015-02-25T00:00:00\", \"2015-02-25T00:00:00\", \"2015-02-25T00:00:00\", \"2015-02-25T00:00:00\", \"2015-02-25T00:00:00\", \"2015-02-25T00:00:00\", \"2015-02-25T00:00:00\", \"2015-02-25T00:00:00\", \"2015-02-25T00:00:00\", \"2015-02-25T00:00:00\", \"2015-02-25T00:00:00\", \"2015-02-25T00:00:00\", \"2015-02-25T00:00:00\", \"2015-02-25T00:00:00\", \"2015-02-25T00:00:00\", \"2015-02-25T00:00:00\", \"2015-02-25T00:00:00\", \"2015-02-25T00:00:00\", \"2015-02-26T00:00:00\", \"2015-02-26T00:00:00\", \"2015-02-26T00:00:00\", \"2015-02-26T00:00:00\", \"2015-02-26T00:00:00\", \"2015-02-26T00:00:00\", \"2015-02-26T00:00:00\", \"2015-02-26T00:00:00\", \"2015-02-26T00:00:00\", \"2015-02-26T00:00:00\", \"2015-02-26T00:00:00\", \"2015-02-26T00:00:00\", \"2015-02-26T00:00:00\", \"2015-02-26T00:00:00\", \"2015-02-26T00:00:00\", \"2015-02-26T00:00:00\", \"2015-02-26T00:00:00\", \"2015-02-26T00:00:00\", \"2015-02-26T00:00:00\", \"2015-02-26T00:00:00\", \"2015-02-26T00:00:00\", \"2015-02-28T00:00:00\", \"2015-02-28T00:00:00\", \"2015-02-28T00:00:00\", \"2015-02-28T00:00:00\", \"2015-02-28T00:00:00\", \"2015-02-28T00:00:00\", \"2015-02-28T00:00:00\", \"2015-02-28T00:00:00\", \"2015-02-28T00:00:00\", \"2015-02-28T00:00:00\", \"2015-02-28T00:00:00\", \"2015-02-28T00:00:00\", \"2015-02-28T00:00:00\", \"2015-02-28T00:00:00\", \"2015-02-28T00:00:00\", \"2015-02-28T00:00:00\", \"2015-02-28T00:00:00\", \"2015-02-28T00:00:00\", \"2015-02-28T00:00:00\", \"2015-02-28T00:00:00\", \"2015-02-28T00:00:00\", \"2015-03-01T00:00:00\", \"2015-03-01T00:00:00\", \"2015-03-01T00:00:00\", \"2015-03-01T00:00:00\", \"2015-03-01T00:00:00\", \"2015-03-01T00:00:00\", \"2015-03-01T00:00:00\", \"2015-03-01T00:00:00\", \"2015-03-01T00:00:00\", \"2015-03-01T00:00:00\", \"2015-03-01T00:00:00\", \"2015-03-01T00:00:00\", \"2015-03-01T00:00:00\", \"2015-03-01T00:00:00\", \"2015-03-01T00:00:00\", \"2015-03-01T00:00:00\", \"2015-03-01T00:00:00\", \"2015-03-01T00:00:00\", \"2015-03-01T00:00:00\", \"2015-03-01T00:00:00\", \"2015-03-02T00:00:00\", \"2015-03-02T00:00:00\", \"2015-03-02T00:00:00\", \"2015-03-02T00:00:00\", \"2015-03-02T00:00:00\", \"2015-03-02T00:00:00\", \"2015-03-02T00:00:00\", \"2015-03-02T00:00:00\", \"2015-03-02T00:00:00\", \"2015-03-02T00:00:00\", \"2015-03-02T00:00:00\", \"2015-03-02T00:00:00\", \"2015-03-02T00:00:00\", \"2015-03-02T00:00:00\", \"2015-03-02T00:00:00\", \"2015-03-02T00:00:00\", \"2015-03-02T00:00:00\", \"2015-03-02T00:00:00\", \"2015-03-02T00:00:00\", \"2015-03-02T00:00:00\", \"2015-03-03T00:00:00\", \"2015-03-03T00:00:00\", \"2015-03-03T00:00:00\", \"2015-03-03T00:00:00\", \"2015-03-03T00:00:00\", \"2015-03-03T00:00:00\", \"2015-03-03T00:00:00\", \"2015-03-03T00:00:00\", \"2015-03-03T00:00:00\", \"2015-03-03T00:00:00\", \"2015-03-03T00:00:00\", \"2015-03-03T00:00:00\", \"2015-03-03T00:00:00\", \"2015-03-03T00:00:00\", \"2015-03-03T00:00:00\", \"2015-03-03T00:00:00\", \"2015-03-03T00:00:00\", \"2015-03-03T00:00:00\", \"2015-03-03T00:00:00\", \"2015-03-03T00:00:00\", \"2015-03-03T00:00:00\", \"2015-03-03T00:00:00\", \"2015-03-04T00:00:00\", \"2015-03-04T00:00:00\", \"2015-03-04T00:00:00\", \"2015-03-04T00:00:00\", \"2015-03-04T00:00:00\", \"2015-03-04T00:00:00\", \"2015-03-04T00:00:00\", \"2015-03-04T00:00:00\", \"2015-03-04T00:00:00\", \"2015-03-04T00:00:00\", \"2015-03-04T00:00:00\", \"2015-03-04T00:00:00\", \"2015-03-04T00:00:00\", \"2015-03-04T00:00:00\", \"2015-03-04T00:00:00\", \"2015-03-04T00:00:00\", \"2015-03-04T00:00:00\", \"2015-03-04T00:00:00\", \"2015-03-04T00:00:00\", \"2015-03-04T00:00:00\", \"2015-03-04T00:00:00\", \"2015-03-05T00:00:00\", \"2015-03-05T00:00:00\", \"2015-03-05T00:00:00\", \"2015-03-05T00:00:00\", \"2015-03-05T00:00:00\", \"2015-03-05T00:00:00\", \"2015-03-05T00:00:00\", \"2015-03-05T00:00:00\", \"2015-03-05T00:00:00\", \"2015-03-05T00:00:00\", \"2015-03-05T00:00:00\", \"2015-03-05T00:00:00\", \"2015-03-05T00:00:00\", \"2015-03-05T00:00:00\", \"2015-03-05T00:00:00\", \"2015-03-05T00:00:00\", \"2015-03-05T00:00:00\", \"2015-03-05T00:00:00\", \"2015-03-05T00:00:00\", \"2015-03-07T00:00:00\", \"2015-03-07T00:00:00\", \"2015-03-07T00:00:00\", \"2015-03-07T00:00:00\", \"2015-03-07T00:00:00\", \"2015-03-07T00:00:00\", \"2015-03-07T00:00:00\", \"2015-03-07T00:00:00\", \"2015-03-07T00:00:00\", \"2015-03-07T00:00:00\", \"2015-03-07T00:00:00\", \"2015-03-07T00:00:00\", \"2015-03-07T00:00:00\", \"2015-03-07T00:00:00\", \"2015-03-07T00:00:00\", \"2015-03-07T00:00:00\", \"2015-03-07T00:00:00\", \"2015-03-07T00:00:00\", \"2015-03-07T00:00:00\", \"2015-03-08T00:00:00\", \"2015-03-08T00:00:00\", \"2015-03-08T00:00:00\", \"2015-03-08T00:00:00\", \"2015-03-08T00:00:00\", \"2015-03-08T00:00:00\", \"2015-03-08T00:00:00\", \"2015-03-08T00:00:00\", \"2015-03-08T00:00:00\", \"2015-03-08T00:00:00\", \"2015-03-08T00:00:00\", \"2015-03-08T00:00:00\", \"2015-03-08T00:00:00\", \"2015-03-08T00:00:00\", \"2015-03-08T00:00:00\", \"2015-03-08T00:00:00\", \"2015-03-08T00:00:00\", \"2015-03-08T00:00:00\", \"2015-03-08T00:00:00\", \"2015-03-08T00:00:00\", \"2015-03-08T00:00:00\", \"2015-03-08T00:00:00\", \"2015-03-09T00:00:00\", \"2015-03-09T00:00:00\", \"2015-03-09T00:00:00\", \"2015-03-09T00:00:00\", \"2015-03-09T00:00:00\", \"2015-03-09T00:00:00\", \"2015-03-09T00:00:00\", \"2015-03-09T00:00:00\", \"2015-03-09T00:00:00\", \"2015-03-09T00:00:00\", \"2015-03-09T00:00:00\", \"2015-03-09T00:00:00\", \"2015-03-09T00:00:00\", \"2015-03-09T00:00:00\", \"2015-03-09T00:00:00\", \"2015-03-09T00:00:00\", \"2015-03-09T00:00:00\", \"2015-03-09T00:00:00\", \"2015-03-09T00:00:00\", \"2015-03-09T00:00:00\", \"2015-03-09T00:00:00\", \"2015-03-09T00:00:00\", \"2015-03-10T00:00:00\", \"2015-03-10T00:00:00\", \"2015-03-10T00:00:00\", \"2015-03-10T00:00:00\", \"2015-03-10T00:00:00\", \"2015-03-10T00:00:00\", \"2015-03-10T00:00:00\", \"2015-03-10T00:00:00\", \"2015-03-10T00:00:00\", \"2015-03-10T00:00:00\", \"2015-03-10T00:00:00\", \"2015-03-10T00:00:00\", \"2015-03-10T00:00:00\", \"2015-03-10T00:00:00\", \"2015-03-10T00:00:00\", \"2015-03-10T00:00:00\", \"2015-03-10T00:00:00\", \"2015-03-10T00:00:00\", \"2015-03-10T00:00:00\", \"2015-03-10T00:00:00\", \"2015-03-10T00:00:00\", \"2015-03-10T00:00:00\", \"2015-03-10T00:00:00\", \"2015-03-11T00:00:00\", \"2015-03-11T00:00:00\", \"2015-03-11T00:00:00\", \"2015-03-11T00:00:00\", \"2015-03-11T00:00:00\", \"2015-03-11T00:00:00\", \"2015-03-11T00:00:00\", \"2015-03-11T00:00:00\", \"2015-03-11T00:00:00\", \"2015-03-11T00:00:00\", \"2015-03-11T00:00:00\", \"2015-03-11T00:00:00\", \"2015-03-11T00:00:00\", \"2015-03-11T00:00:00\", \"2015-03-11T00:00:00\", \"2015-03-11T00:00:00\", \"2015-03-11T00:00:00\", \"2015-03-11T00:00:00\", \"2015-03-11T00:00:00\", \"2015-03-11T00:00:00\", \"2015-03-11T00:00:00\", \"2015-03-11T00:00:00\", \"2015-03-11T00:00:00\", \"2015-03-11T00:00:00\"], \"xaxis\": \"x\", \"y\": [0.0, 0.0, 0.0, 0.0, 0.0, 0.0, 0.0, 0.0, 0.0, 0.0, 0.0, 0.0, 0.0, 0.0, 0.0, 0.0, 0.0, 0.0, 0.0, 0.0, 0.0, 0.0, 0.0, 0.0, 0.0, 0.0, 0.0, 0.0, 0.0, 0.0, 0.0, 0.0, 0.0, 0.0, 0.0, 0.0, 0.0, 0.0, 0.0, 0.0, 0.0, 0.0, 0.0, 0.0, 0.0, 0.0, 0.0, 0.0, 0.0, 0.0, 0.0, 0.0, 0.0, 0.0, 0.0, 0.0, 0.0, 0.0, 0.0, 0.0, 0.0, 0.0, 0.0, 0.0, 0.0, 0.0, 0.0, 0.0, 0.0, 0.0, 0.0, 0.0, 0.0, 0.0, 0.0, 0.0, 0.0, 0.0, 0.0, 0.0, 0.0, 0.0, 0.0, 0.0, 0.0, 0.0, 0.0, 0.0, 0.0, 0.0, 0.0, 0.0, 0.0, 0.0, 0.0, 0.0, 0.0, 0.0, 0.0, 0.0, 0.0, 0.0, 0.0, 0.0, 0.0, 0.0, 0.0, 0.0, 0.0, 0.0, 0.0, 0.0, 0.0, 0.0, 0.0, 0.0, 0.0, 0.0, 0.0, 0.0, 0.0, 0.0, 0.0, 0.0, 0.0, 0.0, 0.0, 0.0, 0.0, 0.0, 0.0, 0.0, 0.0, 0.0, 0.0, 0.0, 0.0, 0.0, 0.0, 0.0, 0.0, 0.0, 0.0, 0.0, 0.0, 0.0, 0.0, 0.0, 0.0, 0.0, 0.0, 0.0, 0.0, 0.0, 0.0, 0.0, 0.0, 0.0, 0.0, 0.0, 0.0, 0.0, 0.0, 0.0, 0.0, 0.0, 0.0, 0.0, 0.0, 0.0, 0.0, 0.0, 0.0, 0.0, 0.0, 0.0, 0.0, 0.0, 0.0, 0.0, 0.0, 0.0, 0.0, 0.0, 0.0, 0.0, 0.0, 0.0, 0.0, 0.0, 0.0, 0.0, 0.0, 0.0, 0.0, 0.0, 0.0, 0.0, 0.0, 0.0, 0.0, 0.0, 0.0, 0.0, 0.0, 0.0, 0.0, 0.0, 0.0, 0.0, 0.0, 0.0, 0.0, 0.0, 0.0, 0.0, 0.0, 0.0, 0.0, 0.0, 0.0, 0.0, 0.0, 0.0, 0.0, 0.0, 0.0, 0.0, 0.0, 0.0, 0.0, 0.0, 0.0, 0.0, 0.0, 0.0, 0.0, 0.0, 0.0, 0.0, 0.0, 0.0, 0.0, 0.0, 0.0, 0.0, 0.0, 0.0, 0.0, 0.0, 0.0, 0.0, 0.0, 0.0, 0.0, 0.0, 0.0, 0.0, 0.0, 0.0, 0.0, 0.0, 0.0, 0.0, 0.0, 0.0, 0.0, 0.0, 0.0, 0.0, 0.0, 0.0, 0.0, 0.0, 0.0, 0.0, 0.0, 0.0, 0.0, 0.0, 0.0, 0.0, 0.0, 0.0, 0.0, 0.0, 0.0, 0.0, 0.0, 0.0, 0.0, 0.0, 0.0, 0.0, 0.0, 0.0, 0.0, 0.0, 0.0, 0.0, 0.0, 0.0, 0.0, 0.0, 0.0, 0.0, 0.0, 0.0, 0.0, 0.0, 0.0, 0.0, 0.0, 0.0, 0.0, 0.0, 0.0, 0.0, 0.0, 0.0, 0.0, 0.0, 0.0, 0.0, 0.0, 0.0, 0.0, 0.0, 0.0, 0.0, 0.0, 0.0, 0.0, 0.0, 0.0, 0.0, 0.0, 0.0, 0.0, 0.0, 0.0, 0.0, 0.0, 0.0, 0.0, 0.0, 0.0, 0.0, 0.0, 0.0, 0.0, 0.0, 0.0, 0.0, 0.0, 0.0, 0.0, 0.0, 0.0, 0.0, 0.0, 0.0, 0.0, 0.0, 0.0, 0.0, 0.0, 0.0, 0.0, 0.0, 0.0, 0.0, 0.0, 0.0, 0.0, 0.0, 0.0, 0.0, 0.0, 0.0, 0.0, 0.0, 0.0, 0.0, 0.0, 0.0, 0.0, 0.0, 0.0, 0.0, 0.0, 0.0, 0.0, 0.0, 0.0, 0.0, 0.0, 0.0, 0.0, 0.0, 0.0, 0.0, 0.0, 0.0, 0.0, 0.0, 0.0, 0.0, 0.0, 0.0, 0.0, 0.0, 0.0, 0.0, 0.0, 0.0, 0.0, 0.0, 0.0, 0.0, 0.0, 0.0, 0.0, 0.0, 0.0, 0.0, 0.0, 0.0, 0.0, 0.0, 0.0, 0.0, 0.0, 0.0, 0.0, 0.0, 0.0, 0.0, 0.0, 0.0, 0.0, 0.0, 0.0, 0.0, 0.0, 0.0, 0.0, 0.0, 0.0, 0.0, 0.0, 0.0, 0.0, 0.0, 0.0, 0.0, 0.0, 0.0, 0.0, 0.0, 0.0, 0.0, 0.0, 0.0, 0.0, 0.0, 0.0, 0.0, 0.0, 0.0, 0.0, 0.0, 0.0, 0.0, 0.0, 0.0, 0.0, 0.0, 0.0, 0.0, 0.0, 0.0, 0.0, 0.0, 0.0, 0.0, 0.0, 0.0, 0.0, 0.0, 0.0, 0.0, 0.0, 0.0, 0.0, 0.0, 0.0, 0.0, 0.0, 0.0, 0.0, 0.0, 0.0, 0.0, 0.0, 0.0, 0.0, 0.0, 0.0, 0.0, 0.0, 0.0, 0.0, 0.0, 0.0, 0.0, 0.0, 0.0, 0.0, 0.0, 0.0, 0.0, 0.0, 0.0, 0.0, 0.0, 0.0, 0.0, 0.0, 0.0, 0.0, 0.0, 0.0, 0.0, 0.0, 0.0, 0.0, 0.0, 0.0, 0.0, 0.0, 0.0, 0.0, 0.0, 0.0, 0.0, 0.0, 0.0, 0.0, 0.0, 0.0, 0.0, 0.0, 0.0, 0.0, 0.0, 0.0, 0.0, 0.0, 0.0, 0.0, 0.0, 0.0, 0.0, 0.0, 0.0, 0.0, 0.0, 0.0, 0.0, 0.0, 0.0, 0.0, 0.0, 0.0, 0.0, 0.0, 0.0, 0.0, 0.0, 0.0, 0.0, 0.0, 0.0, 0.0, 0.0, 0.0, 0.0, 0.0, 0.0, 0.0, 0.0, 0.0, 0.0, 0.0, 0.0, 0.0, 0.0, 0.0, 0.0, 0.0, 0.0, 0.0, 0.0, 0.0, 0.0, 0.0, 0.0, 0.0, 0.0, 0.0, 0.0, 0.0, 0.0, 0.0, 90.0, 0.0, 150.0, 0.0, 0.0, 0.0, 0.0, 0.0, 0.0, 0.0, 0.0, 0.0, 0.0, 0.0, 0.0, 0.0, 0.0, 0.0, 0.0, 0.0, 0.0, 0.0, 0.0, 0.0, 0.0, 0.0, 0.0, 0.0, 0.0, 0.0, 0.0, 0.0, 0.0, 0.0, 0.0, 270.0, 0.0, 0.0, 0.0, 300.0, 0.0, 0.0, 0.0, 0.0, 0.0, 0.0, 0.0, 0.0, 0.0, 0.0, 0.0, 0.0, 0.0, 0.0, 0.0, 0.0, 0.0, 0.0, 0.0, 0.0, 0.0, 0.0, 0.0, 0.0, 0.0, 0.0, 0.0, 0.0, 0.0, 0.0, 0.0, 0.0, 0.0, 0.0, 0.0, 0.0, 0.0, 0.0, 0.0, 0.0, 0.0, 0.0, 0.0, 0.0, 0.0, 0.0, 0.0, 0.0, 0.0, 0.0, 0.0, 0.0, 0.0, 0.0, 0.0, 0.0, 0.0, 0.0, 0.0, 0.0, 0.0, 0.0, 0.0, 0.0, 0.0, 0.0, 0.0, 0.0, 0.0, 0.0, 0.0, 0.0, 0.0, 0.0, 0.0, 0.0, 0.0, 0.0, 0.0, 0.0, 0.0, 0.0, 0.0, 0.0, 0.0, 0.0, 0.0, 0.0, 0.0, 0.0, 0.0, 0.0, 0.0, 0.0, 0.0, 0.0, 0.0, 0.0, 0.0, 0.0, 0.0, 0.0, 0.0, 0.0, 0.0, 0.0, 0.0, 0.0, 0.0, 0.0, 0.0, 0.0, 0.0, 0.0, 0.0, 0.0, 0.0, 0.0, 0.0, 0.0, 2.0, 0.0, 0.0, 0.0, 0.0, 0.0, 0.0, 0.0, 0.0, 0.0, 0.0, 0.0, 0.0, 0.0, 0.0, 0.0, 0.0, 0.0, 0.0, 0.0, 0.0, 0.0, 0.0, 2.0, 0.0, 0.0, 0.0, 0.0, 0.0, 0.0, 0.0, 0.0, 0.0, 0.0, 0.0, 0.0, 0.0, 0.0, 0.0, 0.0, 0.0, 0.0, 0.0, 5.0, 0.0, 0.0, 0.0, 8.0, 0.0, 0.0, 0.0, 0.0, 0.0, 0.0, 0.0, 0.0, 0.0, 0.0, 0.0, 0.0, 0.0, 0.0, 0.0, 0.0, 0.0, 0.0, 8.0, 0.0, 4.5, 0.0, 0.0, 0.0, 0.0, 3.5, 0.0, 0.0, 0.0, 0.0, 0.0, 0.0, 0.0, 0.0, 0.0, 0.0, 0.0, 5.0, 0.0, 0.0, 0.0, 0.0, 0.0, 0.0, 0.0, 0.0, 0.0, 0.0, 0.0, 0.0, 0.0, 0.0, 0.0, 0.0, 0.0, 0.0, 0.0, 3.5, 0.0, 4.5, 0.0, 0.0, 0.0, 0.0, 0.0, 0.0, 0.0, 0.0, 0.0, 0.0, 0.0, 0.0, 0.0, 0.0, 0.0, 0.0, 0.0, 0.0, 0.0, 0.0, 0.0, 0.0, 0.0, 0.0, 0.0, 0.0, 0.0, 0.0, 0.0, 0.0, 0.0, 0.0, 0.0, 0.0, 0.0, 0.0, 0.0, 0.0, 0.0, 0.0, 0.0, 0.0, 0.0, 0.0, 0.0, 0.0, 0.0, 0.0, 0.0, 0.0, 0.0, 0.0, 0.0, 0.0, 0.0, 0.0, 0.0, 0.0, 0.0, 0.0, 0.0, 0.0, 0.0, 0.0, 0.0, 0.0, 0.0, 0.0, 0.0, 0.0, 0.0, 0.0, 0.0, 0.0, 0.0, 0.0, 0.0, 0.0, 0.0, 0.0, 0.0, 0.0, 0.0, 0.0, 0.0, 0.0, 0.0, 0.0, 0.0, 0.0, 0.0, 0.0, 0.0, 0.0, 0.0, 0.0, 0.0, 0.0, 0.0, 0.0, 0.0, 0.0, 0.0, 0.0, 0.0, 0.0, 0.0, 0.0, 0.0, 0.0, 0.0, 0.0, 0.0, 4.0, 0.0, 0.0, 0.0, 0.0, 3.5, 0.0, 0.0, 0.0, 0.0, 0.0, 0.0, 0.0, 0.0, 0.0, 0.0, 0.0, 0.0, 0.0, 0.0, 0.0, 0.0, 0.0, 0.0, 0.0, 0.0, 0.0, 0.0, 0.0, 0.0, 0.0, 0.0, 0.0, 0.0, 0.0, 0.0, 0.0, 0.0, 0.0, 0.0, 0.0, 0.0, 0.0, 0.0, 0.0, 0.0, 0.0, 0.0, 0.0, 0.0, 6.5, 0.0, 0.0, 0.0, 0.0, 0.0, 0.0, 0.0, 0.0, 0.0, 0.0, 0.0, 0.0, 0.0, 0.0, 0.0, 0.0, 0.0, 0.0, 0.0, 0.0, 0.0, 0.0, 0.0, 0.0, 0.0, 0.0, 0.0, 0.0, 0.0, 0.0, 0.0, 0.0, 0.0, 0.0, 0.0, 0.0, 0.0, 0.0, 4.0, 0.0, 0.0, 0.0, 0.0, 0.0, 0.0, 0.0, 0.0, 0.0, 0.0, 0.0, 0.0, 0.0, 0.0, 0.0, 0.0, 0.0, 0.0, 0.0, 0.0, 0.0, 0.0, 0.0, 0.0, 0.0, 0.0, 0.0, 0.0, 0.0, 0.0, 0.0, 0.0, 0.0, 0.0, 0.0, 0.0, 0.0, 0.0, 0.0, 0.0, 0.0, 0.0, 0.0, 0.0, 0.0, 0.0, 0.0, 0.0, 0.0, 0.0, 0.0, 0.0, 0.0, 0.0, 0.0, 0.0, 0.0, 0.0, 0.0, 0.0, 0.0, 0.0, 0.0, 0.0, 0.0, 0.0, 0.0, 0.0, 0.0, 0.0, 0.0, 0.0, 0.0, 0.0, 0.0, 0.0, 0.0, 0.0, 0.0, 0.0, 0.0, 0.0, 0.0, 0.0, 0.0, 0.0, 0.0, 0.0, 0.0, 0.0, 0.0, 0.0, 0.0, 0.0, 0.0, 0.0, 0.0, 0.0, 0.0, 0.0, 0.0, 0.0, 0.0, 0.0, 0.0, 0.0, 0.0, 0.0, 0.0, 0.0, 0.0], \"yaxis\": \"y\"}],                        {\"coloraxis\": {\"colorbar\": {\"title\": {\"text\": \"team\"}}, \"colorscale\": [[0.0, \"#0d0887\"], [0.1111111111111111, \"#46039f\"], [0.2222222222222222, \"#7201a8\"], [0.3333333333333333, \"#9c179e\"], [0.4444444444444444, \"#bd3786\"], [0.5555555555555556, \"#d8576b\"], [0.6666666666666666, \"#ed7953\"], [0.7777777777777778, \"#fb9f3a\"], [0.8888888888888888, \"#fdca26\"], [1.0, \"#f0f921\"]]}, \"legend\": {\"tracegroupgap\": 0}, \"margin\": {\"t\": 60}, \"template\": {\"data\": {\"bar\": [{\"error_x\": {\"color\": \"#f2f5fa\"}, \"error_y\": {\"color\": \"#f2f5fa\"}, \"marker\": {\"line\": {\"color\": \"rgb(17,17,17)\", \"width\": 0.5}}, \"type\": \"bar\"}], \"barpolar\": [{\"marker\": {\"line\": {\"color\": \"rgb(17,17,17)\", \"width\": 0.5}}, \"type\": \"barpolar\"}], \"carpet\": [{\"aaxis\": {\"endlinecolor\": \"#A2B1C6\", \"gridcolor\": \"#506784\", \"linecolor\": \"#506784\", \"minorgridcolor\": \"#506784\", \"startlinecolor\": \"#A2B1C6\"}, \"baxis\": {\"endlinecolor\": \"#A2B1C6\", \"gridcolor\": \"#506784\", \"linecolor\": \"#506784\", \"minorgridcolor\": \"#506784\", \"startlinecolor\": \"#A2B1C6\"}, \"type\": \"carpet\"}], \"choropleth\": [{\"colorbar\": {\"outlinewidth\": 0, \"ticks\": \"\"}, \"type\": \"choropleth\"}], \"contour\": [{\"colorbar\": {\"outlinewidth\": 0, \"ticks\": \"\"}, \"colorscale\": [[0.0, \"#0d0887\"], [0.1111111111111111, \"#46039f\"], [0.2222222222222222, \"#7201a8\"], [0.3333333333333333, \"#9c179e\"], [0.4444444444444444, \"#bd3786\"], [0.5555555555555556, \"#d8576b\"], [0.6666666666666666, \"#ed7953\"], [0.7777777777777778, \"#fb9f3a\"], [0.8888888888888888, \"#fdca26\"], [1.0, \"#f0f921\"]], \"type\": \"contour\"}], \"contourcarpet\": [{\"colorbar\": {\"outlinewidth\": 0, \"ticks\": \"\"}, \"type\": \"contourcarpet\"}], \"heatmap\": [{\"colorbar\": {\"outlinewidth\": 0, \"ticks\": \"\"}, \"colorscale\": [[0.0, \"#0d0887\"], [0.1111111111111111, \"#46039f\"], [0.2222222222222222, \"#7201a8\"], [0.3333333333333333, \"#9c179e\"], [0.4444444444444444, \"#bd3786\"], [0.5555555555555556, \"#d8576b\"], [0.6666666666666666, \"#ed7953\"], [0.7777777777777778, \"#fb9f3a\"], [0.8888888888888888, \"#fdca26\"], [1.0, \"#f0f921\"]], \"type\": \"heatmap\"}], \"heatmapgl\": [{\"colorbar\": {\"outlinewidth\": 0, \"ticks\": \"\"}, \"colorscale\": [[0.0, \"#0d0887\"], [0.1111111111111111, \"#46039f\"], [0.2222222222222222, \"#7201a8\"], [0.3333333333333333, \"#9c179e\"], [0.4444444444444444, \"#bd3786\"], [0.5555555555555556, \"#d8576b\"], [0.6666666666666666, \"#ed7953\"], [0.7777777777777778, \"#fb9f3a\"], [0.8888888888888888, \"#fdca26\"], [1.0, \"#f0f921\"]], \"type\": \"heatmapgl\"}], \"histogram\": [{\"marker\": {\"colorbar\": {\"outlinewidth\": 0, \"ticks\": \"\"}}, \"type\": \"histogram\"}], \"histogram2d\": [{\"colorbar\": {\"outlinewidth\": 0, \"ticks\": \"\"}, \"colorscale\": [[0.0, \"#0d0887\"], [0.1111111111111111, \"#46039f\"], [0.2222222222222222, \"#7201a8\"], [0.3333333333333333, \"#9c179e\"], [0.4444444444444444, \"#bd3786\"], [0.5555555555555556, \"#d8576b\"], [0.6666666666666666, \"#ed7953\"], [0.7777777777777778, \"#fb9f3a\"], [0.8888888888888888, \"#fdca26\"], [1.0, \"#f0f921\"]], \"type\": \"histogram2d\"}], \"histogram2dcontour\": [{\"colorbar\": {\"outlinewidth\": 0, \"ticks\": \"\"}, \"colorscale\": [[0.0, \"#0d0887\"], [0.1111111111111111, \"#46039f\"], [0.2222222222222222, \"#7201a8\"], [0.3333333333333333, \"#9c179e\"], [0.4444444444444444, \"#bd3786\"], [0.5555555555555556, \"#d8576b\"], [0.6666666666666666, \"#ed7953\"], [0.7777777777777778, \"#fb9f3a\"], [0.8888888888888888, \"#fdca26\"], [1.0, \"#f0f921\"]], \"type\": \"histogram2dcontour\"}], \"mesh3d\": [{\"colorbar\": {\"outlinewidth\": 0, \"ticks\": \"\"}, \"type\": \"mesh3d\"}], \"parcoords\": [{\"line\": {\"colorbar\": {\"outlinewidth\": 0, \"ticks\": \"\"}}, \"type\": \"parcoords\"}], \"pie\": [{\"automargin\": true, \"type\": \"pie\"}], \"scatter\": [{\"marker\": {\"line\": {\"color\": \"#283442\"}}, \"type\": \"scatter\"}], \"scatter3d\": [{\"line\": {\"colorbar\": {\"outlinewidth\": 0, \"ticks\": \"\"}}, \"marker\": {\"colorbar\": {\"outlinewidth\": 0, \"ticks\": \"\"}}, \"type\": \"scatter3d\"}], \"scattercarpet\": [{\"marker\": {\"colorbar\": {\"outlinewidth\": 0, \"ticks\": \"\"}}, \"type\": \"scattercarpet\"}], \"scattergeo\": [{\"marker\": {\"colorbar\": {\"outlinewidth\": 0, \"ticks\": \"\"}}, \"type\": \"scattergeo\"}], \"scattergl\": [{\"marker\": {\"line\": {\"color\": \"#283442\"}}, \"type\": \"scattergl\"}], \"scattermapbox\": [{\"marker\": {\"colorbar\": {\"outlinewidth\": 0, \"ticks\": \"\"}}, \"type\": \"scattermapbox\"}], \"scatterpolar\": [{\"marker\": {\"colorbar\": {\"outlinewidth\": 0, \"ticks\": \"\"}}, \"type\": \"scatterpolar\"}], \"scatterpolargl\": [{\"marker\": {\"colorbar\": {\"outlinewidth\": 0, \"ticks\": \"\"}}, \"type\": \"scatterpolargl\"}], \"scatterternary\": [{\"marker\": {\"colorbar\": {\"outlinewidth\": 0, \"ticks\": \"\"}}, \"type\": \"scatterternary\"}], \"surface\": [{\"colorbar\": {\"outlinewidth\": 0, \"ticks\": \"\"}, \"colorscale\": [[0.0, \"#0d0887\"], [0.1111111111111111, \"#46039f\"], [0.2222222222222222, \"#7201a8\"], [0.3333333333333333, \"#9c179e\"], [0.4444444444444444, \"#bd3786\"], [0.5555555555555556, \"#d8576b\"], [0.6666666666666666, \"#ed7953\"], [0.7777777777777778, \"#fb9f3a\"], [0.8888888888888888, \"#fdca26\"], [1.0, \"#f0f921\"]], \"type\": \"surface\"}], \"table\": [{\"cells\": {\"fill\": {\"color\": \"#506784\"}, \"line\": {\"color\": \"rgb(17,17,17)\"}}, \"header\": {\"fill\": {\"color\": \"#2a3f5f\"}, \"line\": {\"color\": \"rgb(17,17,17)\"}}, \"type\": \"table\"}]}, \"layout\": {\"annotationdefaults\": {\"arrowcolor\": \"#f2f5fa\", \"arrowhead\": 0, \"arrowwidth\": 1}, \"autotypenumbers\": \"strict\", \"coloraxis\": {\"colorbar\": {\"outlinewidth\": 0, \"ticks\": \"\"}}, \"colorscale\": {\"diverging\": [[0, \"#8e0152\"], [0.1, \"#c51b7d\"], [0.2, \"#de77ae\"], [0.3, \"#f1b6da\"], [0.4, \"#fde0ef\"], [0.5, \"#f7f7f7\"], [0.6, \"#e6f5d0\"], [0.7, \"#b8e186\"], [0.8, \"#7fbc41\"], [0.9, \"#4d9221\"], [1, \"#276419\"]], \"sequential\": [[0.0, \"#0d0887\"], [0.1111111111111111, \"#46039f\"], [0.2222222222222222, \"#7201a8\"], [0.3333333333333333, \"#9c179e\"], [0.4444444444444444, \"#bd3786\"], [0.5555555555555556, \"#d8576b\"], [0.6666666666666666, \"#ed7953\"], [0.7777777777777778, \"#fb9f3a\"], [0.8888888888888888, \"#fdca26\"], [1.0, \"#f0f921\"]], \"sequentialminus\": [[0.0, \"#0d0887\"], [0.1111111111111111, \"#46039f\"], [0.2222222222222222, \"#7201a8\"], [0.3333333333333333, \"#9c179e\"], [0.4444444444444444, \"#bd3786\"], [0.5555555555555556, \"#d8576b\"], [0.6666666666666666, \"#ed7953\"], [0.7777777777777778, \"#fb9f3a\"], [0.8888888888888888, \"#fdca26\"], [1.0, \"#f0f921\"]]}, \"colorway\": [\"#636efa\", \"#EF553B\", \"#00cc96\", \"#ab63fa\", \"#FFA15A\", \"#19d3f3\", \"#FF6692\", \"#B6E880\", \"#FF97FF\", \"#FECB52\"], \"font\": {\"color\": \"#f2f5fa\"}, \"geo\": {\"bgcolor\": \"rgb(17,17,17)\", \"lakecolor\": \"rgb(17,17,17)\", \"landcolor\": \"rgb(17,17,17)\", \"showlakes\": true, \"showland\": true, \"subunitcolor\": \"#506784\"}, \"hoverlabel\": {\"align\": \"left\"}, \"hovermode\": \"closest\", \"mapbox\": {\"style\": \"dark\"}, \"paper_bgcolor\": \"rgb(17,17,17)\", \"plot_bgcolor\": \"rgb(17,17,17)\", \"polar\": {\"angularaxis\": {\"gridcolor\": \"#506784\", \"linecolor\": \"#506784\", \"ticks\": \"\"}, \"bgcolor\": \"rgb(17,17,17)\", \"radialaxis\": {\"gridcolor\": \"#506784\", \"linecolor\": \"#506784\", \"ticks\": \"\"}}, \"scene\": {\"xaxis\": {\"backgroundcolor\": \"rgb(17,17,17)\", \"gridcolor\": \"#506784\", \"gridwidth\": 2, \"linecolor\": \"#506784\", \"showbackground\": true, \"ticks\": \"\", \"zerolinecolor\": \"#C8D4E3\"}, \"yaxis\": {\"backgroundcolor\": \"rgb(17,17,17)\", \"gridcolor\": \"#506784\", \"gridwidth\": 2, \"linecolor\": \"#506784\", \"showbackground\": true, \"ticks\": \"\", \"zerolinecolor\": \"#C8D4E3\"}, \"zaxis\": {\"backgroundcolor\": \"rgb(17,17,17)\", \"gridcolor\": \"#506784\", \"gridwidth\": 2, \"linecolor\": \"#506784\", \"showbackground\": true, \"ticks\": \"\", \"zerolinecolor\": \"#C8D4E3\"}}, \"shapedefaults\": {\"line\": {\"color\": \"#f2f5fa\"}}, \"sliderdefaults\": {\"bgcolor\": \"#C8D4E3\", \"bordercolor\": \"rgb(17,17,17)\", \"borderwidth\": 1, \"tickwidth\": 0}, \"ternary\": {\"aaxis\": {\"gridcolor\": \"#506784\", \"linecolor\": \"#506784\", \"ticks\": \"\"}, \"baxis\": {\"gridcolor\": \"#506784\", \"linecolor\": \"#506784\", \"ticks\": \"\"}, \"bgcolor\": \"rgb(17,17,17)\", \"caxis\": {\"gridcolor\": \"#506784\", \"linecolor\": \"#506784\", \"ticks\": \"\"}}, \"title\": {\"x\": 0.05}, \"updatemenudefaults\": {\"bgcolor\": \"#506784\", \"borderwidth\": 0}, \"xaxis\": {\"automargin\": true, \"gridcolor\": \"#283442\", \"linecolor\": \"#506784\", \"ticks\": \"\", \"title\": {\"standoff\": 15}, \"zerolinecolor\": \"#283442\", \"zerolinewidth\": 2}, \"yaxis\": {\"automargin\": true, \"gridcolor\": \"#283442\", \"linecolor\": \"#506784\", \"ticks\": \"\", \"title\": {\"standoff\": 15}, \"zerolinecolor\": \"#283442\", \"zerolinewidth\": 2}}}, \"title\": {\"text\": \"Idle time spent by Teams\", \"x\": 0.5}, \"xaxis\": {\"anchor\": \"y\", \"domain\": [0.0, 1.0], \"title\": {\"text\": \"date\"}}, \"yaxis\": {\"anchor\": \"x\", \"domain\": [0.0, 1.0], \"title\": {\"text\": \"idle_time\"}}},                        {\"responsive\": true}                    ).then(function(){\n",
       "                            \n",
       "var gd = document.getElementById('315765c9-0c1f-47fb-8e94-a0c23256cb2b');\n",
       "var x = new MutationObserver(function (mutations, observer) {{\n",
       "        var display = window.getComputedStyle(gd).display;\n",
       "        if (!display || display === 'none') {{\n",
       "            console.log([gd, 'removed!']);\n",
       "            Plotly.purge(gd);\n",
       "            observer.disconnect();\n",
       "        }}\n",
       "}});\n",
       "\n",
       "// Listen for the removal of the full notebook cells\n",
       "var notebookContainer = gd.closest('#notebook-container');\n",
       "if (notebookContainer) {{\n",
       "    x.observe(notebookContainer, {childList: true});\n",
       "}}\n",
       "\n",
       "// Listen for the clearing of the current output cell\n",
       "var outputEl = gd.closest('.output');\n",
       "if (outputEl) {{\n",
       "    x.observe(outputEl, {childList: true});\n",
       "}}\n",
       "\n",
       "                        })                };                });            </script>        </div>"
      ]
     },
     "metadata": {}
    }
   ],
   "metadata": {
    "execution": {
     "iopub.execute_input": "2021-04-10T14:15:08.226584Z",
     "iopub.status.busy": "2021-04-10T14:15:08.225932Z",
     "iopub.status.idle": "2021-04-10T14:15:08.371565Z",
     "shell.execute_reply": "2021-04-10T14:15:08.370878Z"
    },
    "papermill": {
     "duration": 0.199478,
     "end_time": "2021-04-10T14:15:08.371732",
     "exception": false,
     "start_time": "2021-04-10T14:15:08.172254",
     "status": "completed"
    },
    "tags": []
   }
  },
  {
   "cell_type": "markdown",
   "source": [
    "# Team 8 and 7 spent most idle time"
   ],
   "metadata": {
    "papermill": {
     "duration": 0.048059,
     "end_time": "2021-04-10T14:15:08.469104",
     "exception": false,
     "start_time": "2021-04-10T14:15:08.421045",
     "status": "completed"
    },
    "tags": []
   }
  },
  {
   "cell_type": "code",
   "execution_count": 22,
   "source": [
    "fig = px.scatter(df, y=\"idle_men\", x=\"date\", color=\"idle_men\", facet_col=\"team\", \n",
    "                 title=\"Number of Idle_men in Teams\", template=\"plotly_dark\")\n",
    "fig.update_layout(title='Count of Idle men in Teams', title_x=0.5)\n",
    "fig.update_xaxes(showgrid=False)\n",
    "\n",
    "fig.show()"
   ],
   "outputs": [
    {
     "output_type": "display_data",
     "data": {
      "text/html": [
       "<div>                            <div id=\"87a1e1a5-e318-4313-a350-aa32a9acff72\" class=\"plotly-graph-div\" style=\"height:525px; width:100%;\"></div>            <script type=\"text/javascript\">                require([\"plotly\"], function(Plotly) {                    window.PLOTLYENV=window.PLOTLYENV || {};                                    if (document.getElementById(\"87a1e1a5-e318-4313-a350-aa32a9acff72\")) {                    Plotly.newPlot(                        \"87a1e1a5-e318-4313-a350-aa32a9acff72\",                        [{\"hovertemplate\": \"team=8<br>date=%{x}<br>idle_men=%{marker.color}<extra></extra>\", \"legendgroup\": \"\", \"marker\": {\"color\": [0, 0, 0, 0, 0, 0, 0, 0, 0, 0, 0, 0, 0, 0, 0, 0, 0, 0, 0, 0, 0, 0, 0, 0, 0, 0, 0, 0, 0, 0, 0, 0, 0, 0, 0, 0, 0, 0, 0, 0, 0, 0, 0, 0, 0, 0, 0, 0, 0, 0, 0, 0, 0, 0, 0, 0, 0, 0, 0, 37, 0, 0, 0, 0, 0, 0, 0, 0, 0, 0, 0, 0, 10, 0, 10, 30, 0, 30, 0, 0, 0, 0, 0, 0, 0, 0, 0, 0, 0, 0, 0, 0, 0, 0, 0, 0, 0, 0, 0, 0, 0, 0, 0, 0, 0, 0, 0, 0, 0], \"coloraxis\": \"coloraxis\", \"symbol\": \"circle\"}, \"mode\": \"markers\", \"name\": \"\", \"showlegend\": false, \"type\": \"scattergl\", \"x\": [\"2015-01-01T00:00:00\", \"2015-01-01T00:00:00\", \"2015-01-03T00:00:00\", \"2015-01-03T00:00:00\", \"2015-01-04T00:00:00\", \"2015-01-04T00:00:00\", \"2015-01-05T00:00:00\", \"2015-01-05T00:00:00\", \"2015-01-06T00:00:00\", \"2015-01-06T00:00:00\", \"2015-01-07T00:00:00\", \"2015-01-07T00:00:00\", \"2015-01-08T00:00:00\", \"2015-01-08T00:00:00\", \"2015-01-10T00:00:00\", \"2015-01-10T00:00:00\", \"2015-01-11T00:00:00\", \"2015-01-11T00:00:00\", \"2015-01-12T00:00:00\", \"2015-01-12T00:00:00\", \"2015-01-13T00:00:00\", \"2015-01-13T00:00:00\", \"2015-01-14T00:00:00\", \"2015-01-14T00:00:00\", \"2015-01-15T00:00:00\", \"2015-01-15T00:00:00\", \"2015-01-17T00:00:00\", \"2015-01-17T00:00:00\", \"2015-01-18T00:00:00\", \"2015-01-18T00:00:00\", \"2015-01-19T00:00:00\", \"2015-01-19T00:00:00\", \"2015-01-20T00:00:00\", \"2015-01-20T00:00:00\", \"2015-01-21T00:00:00\", \"2015-01-21T00:00:00\", \"2015-01-22T00:00:00\", \"2015-01-22T00:00:00\", \"2015-01-24T00:00:00\", \"2015-01-24T00:00:00\", \"2015-01-25T00:00:00\", \"2015-01-25T00:00:00\", \"2015-01-26T00:00:00\", \"2015-01-27T00:00:00\", \"2015-01-27T00:00:00\", \"2015-01-28T00:00:00\", \"2015-01-28T00:00:00\", \"2015-01-29T00:00:00\", \"2015-01-31T00:00:00\", \"2015-01-31T00:00:00\", \"2015-02-01T00:00:00\", \"2015-02-01T00:00:00\", \"2015-02-02T00:00:00\", \"2015-02-02T00:00:00\", \"2015-02-03T00:00:00\", \"2015-02-03T00:00:00\", \"2015-02-04T00:00:00\", \"2015-02-04T00:00:00\", \"2015-02-05T00:00:00\", \"2015-02-07T00:00:00\", \"2015-02-08T00:00:00\", \"2015-02-08T00:00:00\", \"2015-02-09T00:00:00\", \"2015-02-09T00:00:00\", \"2015-02-10T00:00:00\", \"2015-02-10T00:00:00\", \"2015-02-11T00:00:00\", \"2015-02-11T00:00:00\", \"2015-02-12T00:00:00\", \"2015-02-12T00:00:00\", \"2015-02-14T00:00:00\", \"2015-02-14T00:00:00\", \"2015-02-15T00:00:00\", \"2015-02-15T00:00:00\", \"2015-02-16T00:00:00\", \"2015-02-17T00:00:00\", \"2015-02-18T00:00:00\", \"2015-02-18T00:00:00\", \"2015-02-19T00:00:00\", \"2015-02-19T00:00:00\", \"2015-02-22T00:00:00\", \"2015-02-23T00:00:00\", \"2015-02-23T00:00:00\", \"2015-02-24T00:00:00\", \"2015-02-24T00:00:00\", \"2015-02-25T00:00:00\", \"2015-02-25T00:00:00\", \"2015-02-26T00:00:00\", \"2015-02-26T00:00:00\", \"2015-02-28T00:00:00\", \"2015-02-28T00:00:00\", \"2015-03-01T00:00:00\", \"2015-03-01T00:00:00\", \"2015-03-02T00:00:00\", \"2015-03-02T00:00:00\", \"2015-03-03T00:00:00\", \"2015-03-03T00:00:00\", \"2015-03-04T00:00:00\", \"2015-03-04T00:00:00\", \"2015-03-05T00:00:00\", \"2015-03-07T00:00:00\", \"2015-03-08T00:00:00\", \"2015-03-08T00:00:00\", \"2015-03-09T00:00:00\", \"2015-03-09T00:00:00\", \"2015-03-10T00:00:00\", \"2015-03-10T00:00:00\", \"2015-03-11T00:00:00\", \"2015-03-11T00:00:00\"], \"xaxis\": \"x\", \"y\": [0, 0, 0, 0, 0, 0, 0, 0, 0, 0, 0, 0, 0, 0, 0, 0, 0, 0, 0, 0, 0, 0, 0, 0, 0, 0, 0, 0, 0, 0, 0, 0, 0, 0, 0, 0, 0, 0, 0, 0, 0, 0, 0, 0, 0, 0, 0, 0, 0, 0, 0, 0, 0, 0, 0, 0, 0, 0, 0, 37, 0, 0, 0, 0, 0, 0, 0, 0, 0, 0, 0, 0, 10, 0, 10, 30, 0, 30, 0, 0, 0, 0, 0, 0, 0, 0, 0, 0, 0, 0, 0, 0, 0, 0, 0, 0, 0, 0, 0, 0, 0, 0, 0, 0, 0, 0, 0, 0, 0], \"yaxis\": \"y\"}, {\"hovertemplate\": \"team=1<br>date=%{x}<br>idle_men=%{marker.color}<extra></extra>\", \"legendgroup\": \"\", \"marker\": {\"color\": [0, 0, 0, 0, 0, 0, 0, 0, 0, 0, 0, 0, 0, 0, 0, 0, 0, 0, 0, 0, 0, 0, 0, 0, 0, 0, 0, 0, 0, 0, 0, 0, 0, 0, 0, 0, 0, 0, 0, 0, 0, 0, 0, 0, 0, 0, 0, 0, 0, 0, 0, 0, 0, 0, 0, 0, 0, 0, 0, 0, 0, 0, 0, 0, 0, 0, 0, 0, 0, 0, 0, 0, 0, 0, 0, 0, 0, 0, 0, 0, 0, 0, 0, 0, 0, 0, 0, 0, 0, 0, 0, 0, 0, 0, 0, 0, 0, 0, 0, 0, 0, 0, 0, 0, 0], \"coloraxis\": \"coloraxis\", \"symbol\": \"circle\"}, \"mode\": \"markers\", \"name\": \"\", \"showlegend\": false, \"type\": \"scattergl\", \"x\": [\"2015-01-01T00:00:00\", \"2015-01-01T00:00:00\", \"2015-01-03T00:00:00\", \"2015-01-03T00:00:00\", \"2015-01-04T00:00:00\", \"2015-01-04T00:00:00\", \"2015-01-05T00:00:00\", \"2015-01-05T00:00:00\", \"2015-01-06T00:00:00\", \"2015-01-06T00:00:00\", \"2015-01-07T00:00:00\", \"2015-01-07T00:00:00\", \"2015-01-08T00:00:00\", \"2015-01-08T00:00:00\", \"2015-01-10T00:00:00\", \"2015-01-10T00:00:00\", \"2015-01-11T00:00:00\", \"2015-01-11T00:00:00\", \"2015-01-12T00:00:00\", \"2015-01-12T00:00:00\", \"2015-01-13T00:00:00\", \"2015-01-13T00:00:00\", \"2015-01-14T00:00:00\", \"2015-01-14T00:00:00\", \"2015-01-15T00:00:00\", \"2015-01-15T00:00:00\", \"2015-01-17T00:00:00\", \"2015-01-17T00:00:00\", \"2015-01-18T00:00:00\", \"2015-01-19T00:00:00\", \"2015-01-21T00:00:00\", \"2015-01-21T00:00:00\", \"2015-01-22T00:00:00\", \"2015-01-22T00:00:00\", \"2015-01-24T00:00:00\", \"2015-01-24T00:00:00\", \"2015-01-25T00:00:00\", \"2015-01-25T00:00:00\", \"2015-01-26T00:00:00\", \"2015-01-26T00:00:00\", \"2015-01-27T00:00:00\", \"2015-01-27T00:00:00\", \"2015-01-28T00:00:00\", \"2015-01-28T00:00:00\", \"2015-01-29T00:00:00\", \"2015-01-29T00:00:00\", \"2015-01-31T00:00:00\", \"2015-01-31T00:00:00\", \"2015-02-01T00:00:00\", \"2015-02-01T00:00:00\", \"2015-02-02T00:00:00\", \"2015-02-02T00:00:00\", \"2015-02-03T00:00:00\", \"2015-02-03T00:00:00\", \"2015-02-04T00:00:00\", \"2015-02-04T00:00:00\", \"2015-02-05T00:00:00\", \"2015-02-05T00:00:00\", \"2015-02-07T00:00:00\", \"2015-02-07T00:00:00\", \"2015-02-08T00:00:00\", \"2015-02-08T00:00:00\", \"2015-02-09T00:00:00\", \"2015-02-09T00:00:00\", \"2015-02-10T00:00:00\", \"2015-02-10T00:00:00\", \"2015-02-11T00:00:00\", \"2015-02-11T00:00:00\", \"2015-02-12T00:00:00\", \"2015-02-12T00:00:00\", \"2015-02-14T00:00:00\", \"2015-02-14T00:00:00\", \"2015-02-15T00:00:00\", \"2015-02-15T00:00:00\", \"2015-02-16T00:00:00\", \"2015-02-17T00:00:00\", \"2015-02-18T00:00:00\", \"2015-02-19T00:00:00\", \"2015-02-22T00:00:00\", \"2015-02-24T00:00:00\", \"2015-02-25T00:00:00\", \"2015-02-26T00:00:00\", \"2015-02-26T00:00:00\", \"2015-02-28T00:00:00\", \"2015-02-28T00:00:00\", \"2015-03-01T00:00:00\", \"2015-03-01T00:00:00\", \"2015-03-02T00:00:00\", \"2015-03-02T00:00:00\", \"2015-03-03T00:00:00\", \"2015-03-03T00:00:00\", \"2015-03-04T00:00:00\", \"2015-03-04T00:00:00\", \"2015-03-05T00:00:00\", \"2015-03-05T00:00:00\", \"2015-03-07T00:00:00\", \"2015-03-07T00:00:00\", \"2015-03-08T00:00:00\", \"2015-03-08T00:00:00\", \"2015-03-09T00:00:00\", \"2015-03-09T00:00:00\", \"2015-03-10T00:00:00\", \"2015-03-10T00:00:00\", \"2015-03-11T00:00:00\", \"2015-03-11T00:00:00\"], \"xaxis\": \"x2\", \"y\": [0, 0, 0, 0, 0, 0, 0, 0, 0, 0, 0, 0, 0, 0, 0, 0, 0, 0, 0, 0, 0, 0, 0, 0, 0, 0, 0, 0, 0, 0, 0, 0, 0, 0, 0, 0, 0, 0, 0, 0, 0, 0, 0, 0, 0, 0, 0, 0, 0, 0, 0, 0, 0, 0, 0, 0, 0, 0, 0, 0, 0, 0, 0, 0, 0, 0, 0, 0, 0, 0, 0, 0, 0, 0, 0, 0, 0, 0, 0, 0, 0, 0, 0, 0, 0, 0, 0, 0, 0, 0, 0, 0, 0, 0, 0, 0, 0, 0, 0, 0, 0, 0, 0, 0, 0], \"yaxis\": \"y2\"}, {\"hovertemplate\": \"team=11<br>date=%{x}<br>idle_men=%{marker.color}<extra></extra>\", \"legendgroup\": \"\", \"marker\": {\"color\": [0, 0, 0, 0, 0, 0, 0, 0, 0, 0, 0, 0, 0, 0, 0, 0, 0, 0, 0, 0, 0, 0, 0, 0, 0, 0, 0, 0, 0, 0, 0, 0, 0, 0, 0, 0, 0, 0, 0, 0, 0, 0, 0, 0, 0, 0, 0, 0, 0, 0, 0, 0, 0, 0, 0, 0, 0, 0, 0, 0, 0, 0, 0, 0, 0, 0, 0, 0, 0, 0, 0, 0, 20, 0, 0, 0, 0, 0, 0, 0, 0, 0, 0, 0, 0, 0, 0, 0], \"coloraxis\": \"coloraxis\", \"symbol\": \"circle\"}, \"mode\": \"markers\", \"name\": \"\", \"showlegend\": false, \"type\": \"scattergl\", \"x\": [\"2015-01-01T00:00:00\", \"2015-01-01T00:00:00\", \"2015-01-03T00:00:00\", \"2015-01-03T00:00:00\", \"2015-01-04T00:00:00\", \"2015-01-04T00:00:00\", \"2015-01-05T00:00:00\", \"2015-01-05T00:00:00\", \"2015-01-06T00:00:00\", \"2015-01-06T00:00:00\", \"2015-01-07T00:00:00\", \"2015-01-08T00:00:00\", \"2015-01-08T00:00:00\", \"2015-01-10T00:00:00\", \"2015-01-10T00:00:00\", \"2015-01-11T00:00:00\", \"2015-01-11T00:00:00\", \"2015-01-12T00:00:00\", \"2015-01-12T00:00:00\", \"2015-01-13T00:00:00\", \"2015-01-13T00:00:00\", \"2015-01-14T00:00:00\", \"2015-01-14T00:00:00\", \"2015-01-15T00:00:00\", \"2015-01-17T00:00:00\", \"2015-01-17T00:00:00\", \"2015-01-18T00:00:00\", \"2015-01-18T00:00:00\", \"2015-01-19T00:00:00\", \"2015-01-19T00:00:00\", \"2015-01-20T00:00:00\", \"2015-01-20T00:00:00\", \"2015-01-21T00:00:00\", \"2015-01-21T00:00:00\", \"2015-01-22T00:00:00\", \"2015-01-24T00:00:00\", \"2015-01-24T00:00:00\", \"2015-01-25T00:00:00\", \"2015-01-26T00:00:00\", \"2015-01-27T00:00:00\", \"2015-01-28T00:00:00\", \"2015-01-28T00:00:00\", \"2015-01-29T00:00:00\", \"2015-01-29T00:00:00\", \"2015-01-31T00:00:00\", \"2015-01-31T00:00:00\", \"2015-02-01T00:00:00\", \"2015-02-02T00:00:00\", \"2015-02-03T00:00:00\", \"2015-02-04T00:00:00\", \"2015-02-05T00:00:00\", \"2015-02-07T00:00:00\", \"2015-02-08T00:00:00\", \"2015-02-09T00:00:00\", \"2015-02-10T00:00:00\", \"2015-02-11T00:00:00\", \"2015-02-12T00:00:00\", \"2015-02-14T00:00:00\", \"2015-02-15T00:00:00\", \"2015-02-15T00:00:00\", \"2015-02-16T00:00:00\", \"2015-02-17T00:00:00\", \"2015-02-18T00:00:00\", \"2015-02-19T00:00:00\", \"2015-02-22T00:00:00\", \"2015-02-22T00:00:00\", \"2015-02-23T00:00:00\", \"2015-02-24T00:00:00\", \"2015-02-24T00:00:00\", \"2015-02-25T00:00:00\", \"2015-02-26T00:00:00\", \"2015-02-28T00:00:00\", \"2015-03-01T00:00:00\", \"2015-03-02T00:00:00\", \"2015-03-03T00:00:00\", \"2015-03-04T00:00:00\", \"2015-03-05T00:00:00\", \"2015-03-05T00:00:00\", \"2015-03-07T00:00:00\", \"2015-03-07T00:00:00\", \"2015-03-08T00:00:00\", \"2015-03-08T00:00:00\", \"2015-03-09T00:00:00\", \"2015-03-09T00:00:00\", \"2015-03-10T00:00:00\", \"2015-03-10T00:00:00\", \"2015-03-11T00:00:00\", \"2015-03-11T00:00:00\"], \"xaxis\": \"x3\", \"y\": [0, 0, 0, 0, 0, 0, 0, 0, 0, 0, 0, 0, 0, 0, 0, 0, 0, 0, 0, 0, 0, 0, 0, 0, 0, 0, 0, 0, 0, 0, 0, 0, 0, 0, 0, 0, 0, 0, 0, 0, 0, 0, 0, 0, 0, 0, 0, 0, 0, 0, 0, 0, 0, 0, 0, 0, 0, 0, 0, 0, 0, 0, 0, 0, 0, 0, 0, 0, 0, 0, 0, 0, 20, 0, 0, 0, 0, 0, 0, 0, 0, 0, 0, 0, 0, 0, 0, 0], \"yaxis\": \"y3\"}, {\"hovertemplate\": \"team=12<br>date=%{x}<br>idle_men=%{marker.color}<extra></extra>\", \"legendgroup\": \"\", \"marker\": {\"color\": [0, 0, 0, 0, 0, 0, 0, 0, 0, 0, 0, 0, 0, 0, 0, 0, 0, 0, 0, 0, 0, 0, 0, 0, 0, 0, 0, 0, 0, 0, 0, 0, 0, 0, 0, 0, 0, 0, 0, 0, 0, 0, 0, 0, 0, 0, 0, 0, 0, 0, 0, 0, 0, 0, 0, 0, 0, 0, 0, 0, 0, 0, 0, 0, 0, 0, 0, 0, 0, 0, 0, 0, 0, 0, 0, 0, 0, 0, 0, 0, 0, 0, 0, 0, 0, 0, 0, 0, 0, 0, 0, 0, 0, 0, 0, 0, 0, 0, 0], \"coloraxis\": \"coloraxis\", \"symbol\": \"circle\"}, \"mode\": \"markers\", \"name\": \"\", \"showlegend\": false, \"type\": \"scattergl\", \"x\": [\"2015-01-01T00:00:00\", \"2015-01-03T00:00:00\", \"2015-01-04T00:00:00\", \"2015-01-05T00:00:00\", \"2015-01-06T00:00:00\", \"2015-01-07T00:00:00\", \"2015-01-08T00:00:00\", \"2015-01-10T00:00:00\", \"2015-01-11T00:00:00\", \"2015-01-12T00:00:00\", \"2015-01-13T00:00:00\", \"2015-01-14T00:00:00\", \"2015-01-15T00:00:00\", \"2015-01-17T00:00:00\", \"2015-01-18T00:00:00\", \"2015-01-19T00:00:00\", \"2015-01-19T00:00:00\", \"2015-01-20T00:00:00\", \"2015-01-21T00:00:00\", \"2015-01-22T00:00:00\", \"2015-01-22T00:00:00\", \"2015-01-24T00:00:00\", \"2015-01-24T00:00:00\", \"2015-01-25T00:00:00\", \"2015-01-25T00:00:00\", \"2015-01-26T00:00:00\", \"2015-01-26T00:00:00\", \"2015-01-27T00:00:00\", \"2015-01-27T00:00:00\", \"2015-01-28T00:00:00\", \"2015-01-28T00:00:00\", \"2015-01-29T00:00:00\", \"2015-01-29T00:00:00\", \"2015-01-31T00:00:00\", \"2015-01-31T00:00:00\", \"2015-02-01T00:00:00\", \"2015-02-01T00:00:00\", \"2015-02-02T00:00:00\", \"2015-02-02T00:00:00\", \"2015-02-03T00:00:00\", \"2015-02-03T00:00:00\", \"2015-02-04T00:00:00\", \"2015-02-04T00:00:00\", \"2015-02-05T00:00:00\", \"2015-02-05T00:00:00\", \"2015-02-07T00:00:00\", \"2015-02-07T00:00:00\", \"2015-02-08T00:00:00\", \"2015-02-08T00:00:00\", \"2015-02-09T00:00:00\", \"2015-02-09T00:00:00\", \"2015-02-10T00:00:00\", \"2015-02-10T00:00:00\", \"2015-02-11T00:00:00\", \"2015-02-11T00:00:00\", \"2015-02-12T00:00:00\", \"2015-02-12T00:00:00\", \"2015-02-14T00:00:00\", \"2015-02-14T00:00:00\", \"2015-02-15T00:00:00\", \"2015-02-15T00:00:00\", \"2015-02-16T00:00:00\", \"2015-02-16T00:00:00\", \"2015-02-17T00:00:00\", \"2015-02-17T00:00:00\", \"2015-02-18T00:00:00\", \"2015-02-18T00:00:00\", \"2015-02-19T00:00:00\", \"2015-02-19T00:00:00\", \"2015-02-22T00:00:00\", \"2015-02-22T00:00:00\", \"2015-02-23T00:00:00\", \"2015-02-23T00:00:00\", \"2015-02-24T00:00:00\", \"2015-02-25T00:00:00\", \"2015-02-25T00:00:00\", \"2015-02-26T00:00:00\", \"2015-02-26T00:00:00\", \"2015-02-28T00:00:00\", \"2015-02-28T00:00:00\", \"2015-03-01T00:00:00\", \"2015-03-02T00:00:00\", \"2015-03-02T00:00:00\", \"2015-03-03T00:00:00\", \"2015-03-03T00:00:00\", \"2015-03-04T00:00:00\", \"2015-03-04T00:00:00\", \"2015-03-05T00:00:00\", \"2015-03-05T00:00:00\", \"2015-03-07T00:00:00\", \"2015-03-07T00:00:00\", \"2015-03-08T00:00:00\", \"2015-03-08T00:00:00\", \"2015-03-09T00:00:00\", \"2015-03-09T00:00:00\", \"2015-03-10T00:00:00\", \"2015-03-10T00:00:00\", \"2015-03-11T00:00:00\", \"2015-03-11T00:00:00\"], \"xaxis\": \"x4\", \"y\": [0, 0, 0, 0, 0, 0, 0, 0, 0, 0, 0, 0, 0, 0, 0, 0, 0, 0, 0, 0, 0, 0, 0, 0, 0, 0, 0, 0, 0, 0, 0, 0, 0, 0, 0, 0, 0, 0, 0, 0, 0, 0, 0, 0, 0, 0, 0, 0, 0, 0, 0, 0, 0, 0, 0, 0, 0, 0, 0, 0, 0, 0, 0, 0, 0, 0, 0, 0, 0, 0, 0, 0, 0, 0, 0, 0, 0, 0, 0, 0, 0, 0, 0, 0, 0, 0, 0, 0, 0, 0, 0, 0, 0, 0, 0, 0, 0, 0, 0], \"yaxis\": \"y4\"}, {\"hovertemplate\": \"team=6<br>date=%{x}<br>idle_men=%{marker.color}<extra></extra>\", \"legendgroup\": \"\", \"marker\": {\"color\": [0, 0, 0, 0, 0, 0, 0, 0, 0, 0, 0, 0, 0, 0, 0, 0, 0, 0, 0, 0, 0, 0, 0, 0, 0, 0, 0, 0, 0, 0, 0, 0, 0, 0, 0, 0, 0, 0, 0, 0, 0, 0, 0, 0, 0, 0, 0, 0, 0, 0, 0, 0, 0, 0, 0, 0, 0, 0, 0, 0, 0, 0, 0, 0, 0, 0, 0, 0, 0, 0, 0, 0, 0, 0, 0, 0, 0, 0, 0, 0, 0, 0, 0, 0, 0, 0, 0, 0, 0, 0, 0, 0, 0, 0], \"coloraxis\": \"coloraxis\", \"symbol\": \"circle\"}, \"mode\": \"markers\", \"name\": \"\", \"showlegend\": false, \"type\": \"scattergl\", \"x\": [\"2015-01-01T00:00:00\", \"2015-01-03T00:00:00\", \"2015-01-04T00:00:00\", \"2015-01-05T00:00:00\", \"2015-01-06T00:00:00\", \"2015-01-07T00:00:00\", \"2015-01-07T00:00:00\", \"2015-01-08T00:00:00\", \"2015-01-10T00:00:00\", \"2015-01-11T00:00:00\", \"2015-01-11T00:00:00\", \"2015-01-12T00:00:00\", \"2015-01-12T00:00:00\", \"2015-01-13T00:00:00\", \"2015-01-14T00:00:00\", \"2015-01-15T00:00:00\", \"2015-01-17T00:00:00\", \"2015-01-17T00:00:00\", \"2015-01-18T00:00:00\", \"2015-01-18T00:00:00\", \"2015-01-19T00:00:00\", \"2015-01-20T00:00:00\", \"2015-01-21T00:00:00\", \"2015-01-22T00:00:00\", \"2015-01-22T00:00:00\", \"2015-01-24T00:00:00\", \"2015-01-25T00:00:00\", \"2015-01-26T00:00:00\", \"2015-01-27T00:00:00\", \"2015-01-27T00:00:00\", \"2015-01-28T00:00:00\", \"2015-01-28T00:00:00\", \"2015-01-29T00:00:00\", \"2015-01-29T00:00:00\", \"2015-01-31T00:00:00\", \"2015-01-31T00:00:00\", \"2015-02-01T00:00:00\", \"2015-02-01T00:00:00\", \"2015-02-02T00:00:00\", \"2015-02-02T00:00:00\", \"2015-02-03T00:00:00\", \"2015-02-03T00:00:00\", \"2015-02-04T00:00:00\", \"2015-02-04T00:00:00\", \"2015-02-05T00:00:00\", \"2015-02-05T00:00:00\", \"2015-02-07T00:00:00\", \"2015-02-07T00:00:00\", \"2015-02-08T00:00:00\", \"2015-02-08T00:00:00\", \"2015-02-09T00:00:00\", \"2015-02-09T00:00:00\", \"2015-02-10T00:00:00\", \"2015-02-10T00:00:00\", \"2015-02-11T00:00:00\", \"2015-02-12T00:00:00\", \"2015-02-14T00:00:00\", \"2015-02-14T00:00:00\", \"2015-02-15T00:00:00\", \"2015-02-15T00:00:00\", \"2015-02-16T00:00:00\", \"2015-02-16T00:00:00\", \"2015-02-17T00:00:00\", \"2015-02-17T00:00:00\", \"2015-02-18T00:00:00\", \"2015-02-18T00:00:00\", \"2015-02-19T00:00:00\", \"2015-02-19T00:00:00\", \"2015-02-22T00:00:00\", \"2015-02-22T00:00:00\", \"2015-02-23T00:00:00\", \"2015-02-23T00:00:00\", \"2015-02-24T00:00:00\", \"2015-02-24T00:00:00\", \"2015-02-25T00:00:00\", \"2015-02-25T00:00:00\", \"2015-02-26T00:00:00\", \"2015-02-26T00:00:00\", \"2015-02-28T00:00:00\", \"2015-02-28T00:00:00\", \"2015-03-01T00:00:00\", \"2015-03-02T00:00:00\", \"2015-03-03T00:00:00\", \"2015-03-03T00:00:00\", \"2015-03-04T00:00:00\", \"2015-03-05T00:00:00\", \"2015-03-07T00:00:00\", \"2015-03-07T00:00:00\", \"2015-03-08T00:00:00\", \"2015-03-08T00:00:00\", \"2015-03-09T00:00:00\", \"2015-03-10T00:00:00\", \"2015-03-11T00:00:00\", \"2015-03-11T00:00:00\"], \"xaxis\": \"x5\", \"y\": [0, 0, 0, 0, 0, 0, 0, 0, 0, 0, 0, 0, 0, 0, 0, 0, 0, 0, 0, 0, 0, 0, 0, 0, 0, 0, 0, 0, 0, 0, 0, 0, 0, 0, 0, 0, 0, 0, 0, 0, 0, 0, 0, 0, 0, 0, 0, 0, 0, 0, 0, 0, 0, 0, 0, 0, 0, 0, 0, 0, 0, 0, 0, 0, 0, 0, 0, 0, 0, 0, 0, 0, 0, 0, 0, 0, 0, 0, 0, 0, 0, 0, 0, 0, 0, 0, 0, 0, 0, 0, 0, 0, 0, 0], \"yaxis\": \"y5\"}, {\"hovertemplate\": \"team=7<br>date=%{x}<br>idle_men=%{marker.color}<extra></extra>\", \"legendgroup\": \"\", \"marker\": {\"color\": [0, 0, 0, 0, 0, 0, 0, 0, 0, 0, 0, 0, 0, 0, 0, 0, 0, 0, 0, 0, 0, 0, 0, 0, 0, 0, 0, 0, 0, 0, 0, 0, 0, 0, 0, 0, 0, 0, 0, 0, 0, 0, 0, 0, 0, 0, 0, 0, 0, 0, 0, 0, 0, 0, 0, 45, 0, 0, 0, 0, 0, 0, 0, 0, 0, 0, 0, 0, 0, 0, 0, 20, 20, 0, 0, 0, 0, 0, 0, 0, 0, 15, 0, 0, 0, 0, 0, 0, 0, 40, 0, 0, 0, 0, 0, 0], \"coloraxis\": \"coloraxis\", \"symbol\": \"circle\"}, \"mode\": \"markers\", \"name\": \"\", \"showlegend\": false, \"type\": \"scattergl\", \"x\": [\"2015-01-01T00:00:00\", \"2015-01-01T00:00:00\", \"2015-01-03T00:00:00\", \"2015-01-03T00:00:00\", \"2015-01-04T00:00:00\", \"2015-01-04T00:00:00\", \"2015-01-05T00:00:00\", \"2015-01-05T00:00:00\", \"2015-01-06T00:00:00\", \"2015-01-06T00:00:00\", \"2015-01-07T00:00:00\", \"2015-01-07T00:00:00\", \"2015-01-08T00:00:00\", \"2015-01-08T00:00:00\", \"2015-01-10T00:00:00\", \"2015-01-10T00:00:00\", \"2015-01-11T00:00:00\", \"2015-01-11T00:00:00\", \"2015-01-12T00:00:00\", \"2015-01-12T00:00:00\", \"2015-01-13T00:00:00\", \"2015-01-13T00:00:00\", \"2015-01-14T00:00:00\", \"2015-01-14T00:00:00\", \"2015-01-15T00:00:00\", \"2015-01-15T00:00:00\", \"2015-01-17T00:00:00\", \"2015-01-17T00:00:00\", \"2015-01-18T00:00:00\", \"2015-01-18T00:00:00\", \"2015-01-19T00:00:00\", \"2015-01-20T00:00:00\", \"2015-01-21T00:00:00\", \"2015-01-22T00:00:00\", \"2015-01-22T00:00:00\", \"2015-01-24T00:00:00\", \"2015-01-24T00:00:00\", \"2015-01-25T00:00:00\", \"2015-01-25T00:00:00\", \"2015-01-26T00:00:00\", \"2015-01-27T00:00:00\", \"2015-01-28T00:00:00\", \"2015-01-28T00:00:00\", \"2015-01-29T00:00:00\", \"2015-01-31T00:00:00\", \"2015-01-31T00:00:00\", \"2015-02-01T00:00:00\", \"2015-02-01T00:00:00\", \"2015-02-02T00:00:00\", \"2015-02-03T00:00:00\", \"2015-02-04T00:00:00\", \"2015-02-04T00:00:00\", \"2015-02-05T00:00:00\", \"2015-02-05T00:00:00\", \"2015-02-07T00:00:00\", \"2015-02-07T00:00:00\", \"2015-02-08T00:00:00\", \"2015-02-08T00:00:00\", \"2015-02-09T00:00:00\", \"2015-02-10T00:00:00\", \"2015-02-11T00:00:00\", \"2015-02-12T00:00:00\", \"2015-02-14T00:00:00\", \"2015-02-14T00:00:00\", \"2015-02-15T00:00:00\", \"2015-02-16T00:00:00\", \"2015-02-16T00:00:00\", \"2015-02-17T00:00:00\", \"2015-02-17T00:00:00\", \"2015-02-18T00:00:00\", \"2015-02-18T00:00:00\", \"2015-02-19T00:00:00\", \"2015-02-22T00:00:00\", \"2015-02-22T00:00:00\", \"2015-02-23T00:00:00\", \"2015-02-23T00:00:00\", \"2015-02-24T00:00:00\", \"2015-02-25T00:00:00\", \"2015-02-25T00:00:00\", \"2015-02-26T00:00:00\", \"2015-02-28T00:00:00\", \"2015-03-01T00:00:00\", \"2015-03-01T00:00:00\", \"2015-03-02T00:00:00\", \"2015-03-02T00:00:00\", \"2015-03-03T00:00:00\", \"2015-03-03T00:00:00\", \"2015-03-04T00:00:00\", \"2015-03-04T00:00:00\", \"2015-03-05T00:00:00\", \"2015-03-07T00:00:00\", \"2015-03-09T00:00:00\", \"2015-03-10T00:00:00\", \"2015-03-10T00:00:00\", \"2015-03-11T00:00:00\", \"2015-03-11T00:00:00\"], \"xaxis\": \"x6\", \"y\": [0, 0, 0, 0, 0, 0, 0, 0, 0, 0, 0, 0, 0, 0, 0, 0, 0, 0, 0, 0, 0, 0, 0, 0, 0, 0, 0, 0, 0, 0, 0, 0, 0, 0, 0, 0, 0, 0, 0, 0, 0, 0, 0, 0, 0, 0, 0, 0, 0, 0, 0, 0, 0, 0, 0, 45, 0, 0, 0, 0, 0, 0, 0, 0, 0, 0, 0, 0, 0, 0, 0, 20, 20, 0, 0, 0, 0, 0, 0, 0, 0, 15, 0, 0, 0, 0, 0, 0, 0, 40, 0, 0, 0, 0, 0, 0], \"yaxis\": \"y6\"}, {\"hovertemplate\": \"team=2<br>date=%{x}<br>idle_men=%{marker.color}<extra></extra>\", \"legendgroup\": \"\", \"marker\": {\"color\": [0, 0, 0, 0, 0, 0, 0, 0, 0, 0, 0, 0, 0, 0, 0, 0, 0, 0, 0, 0, 0, 0, 0, 0, 0, 0, 0, 0, 0, 0, 0, 0, 0, 0, 0, 0, 0, 0, 0, 0, 0, 0, 0, 0, 0, 0, 0, 0, 0, 0, 0, 0, 0, 0, 0, 0, 0, 0, 0, 0, 0, 0, 0, 0, 0, 0, 0, 0, 0, 0, 0, 0, 0, 0, 0, 0, 0, 0, 0, 0, 0, 0, 0, 0, 0, 0, 0, 0, 0, 0, 0, 0, 0, 0, 30, 0, 0, 0, 0, 0, 0, 0, 0, 0, 0, 0, 0, 0, 0], \"coloraxis\": \"coloraxis\", \"symbol\": \"circle\"}, \"mode\": \"markers\", \"name\": \"\", \"showlegend\": false, \"type\": \"scattergl\", \"x\": [\"2015-01-01T00:00:00\", \"2015-01-01T00:00:00\", \"2015-01-03T00:00:00\", \"2015-01-03T00:00:00\", \"2015-01-04T00:00:00\", \"2015-01-04T00:00:00\", \"2015-01-05T00:00:00\", \"2015-01-05T00:00:00\", \"2015-01-06T00:00:00\", \"2015-01-06T00:00:00\", \"2015-01-07T00:00:00\", \"2015-01-07T00:00:00\", \"2015-01-08T00:00:00\", \"2015-01-08T00:00:00\", \"2015-01-10T00:00:00\", \"2015-01-10T00:00:00\", \"2015-01-11T00:00:00\", \"2015-01-11T00:00:00\", \"2015-01-12T00:00:00\", \"2015-01-12T00:00:00\", \"2015-01-13T00:00:00\", \"2015-01-13T00:00:00\", \"2015-01-14T00:00:00\", \"2015-01-14T00:00:00\", \"2015-01-15T00:00:00\", \"2015-01-17T00:00:00\", \"2015-01-17T00:00:00\", \"2015-01-18T00:00:00\", \"2015-01-19T00:00:00\", \"2015-01-20T00:00:00\", \"2015-01-21T00:00:00\", \"2015-01-21T00:00:00\", \"2015-01-22T00:00:00\", \"2015-01-22T00:00:00\", \"2015-01-24T00:00:00\", \"2015-01-24T00:00:00\", \"2015-01-25T00:00:00\", \"2015-01-25T00:00:00\", \"2015-01-26T00:00:00\", \"2015-01-26T00:00:00\", \"2015-01-27T00:00:00\", \"2015-01-27T00:00:00\", \"2015-01-28T00:00:00\", \"2015-01-28T00:00:00\", \"2015-01-29T00:00:00\", \"2015-01-29T00:00:00\", \"2015-01-31T00:00:00\", \"2015-01-31T00:00:00\", \"2015-02-01T00:00:00\", \"2015-02-01T00:00:00\", \"2015-02-02T00:00:00\", \"2015-02-03T00:00:00\", \"2015-02-03T00:00:00\", \"2015-02-04T00:00:00\", \"2015-02-04T00:00:00\", \"2015-02-05T00:00:00\", \"2015-02-05T00:00:00\", \"2015-02-07T00:00:00\", \"2015-02-07T00:00:00\", \"2015-02-08T00:00:00\", \"2015-02-08T00:00:00\", \"2015-02-09T00:00:00\", \"2015-02-09T00:00:00\", \"2015-02-10T00:00:00\", \"2015-02-10T00:00:00\", \"2015-02-11T00:00:00\", \"2015-02-11T00:00:00\", \"2015-02-12T00:00:00\", \"2015-02-12T00:00:00\", \"2015-02-14T00:00:00\", \"2015-02-15T00:00:00\", \"2015-02-15T00:00:00\", \"2015-02-17T00:00:00\", \"2015-02-17T00:00:00\", \"2015-02-18T00:00:00\", \"2015-02-18T00:00:00\", \"2015-02-19T00:00:00\", \"2015-02-19T00:00:00\", \"2015-02-22T00:00:00\", \"2015-02-22T00:00:00\", \"2015-02-23T00:00:00\", \"2015-02-23T00:00:00\", \"2015-02-24T00:00:00\", \"2015-02-24T00:00:00\", \"2015-02-25T00:00:00\", \"2015-02-25T00:00:00\", \"2015-02-26T00:00:00\", \"2015-02-26T00:00:00\", \"2015-02-28T00:00:00\", \"2015-02-28T00:00:00\", \"2015-03-01T00:00:00\", \"2015-03-01T00:00:00\", \"2015-03-02T00:00:00\", \"2015-03-03T00:00:00\", \"2015-03-03T00:00:00\", \"2015-03-04T00:00:00\", \"2015-03-04T00:00:00\", \"2015-03-05T00:00:00\", \"2015-03-05T00:00:00\", \"2015-03-07T00:00:00\", \"2015-03-07T00:00:00\", \"2015-03-08T00:00:00\", \"2015-03-08T00:00:00\", \"2015-03-09T00:00:00\", \"2015-03-09T00:00:00\", \"2015-03-10T00:00:00\", \"2015-03-10T00:00:00\", \"2015-03-11T00:00:00\", \"2015-03-11T00:00:00\"], \"xaxis\": \"x7\", \"y\": [0, 0, 0, 0, 0, 0, 0, 0, 0, 0, 0, 0, 0, 0, 0, 0, 0, 0, 0, 0, 0, 0, 0, 0, 0, 0, 0, 0, 0, 0, 0, 0, 0, 0, 0, 0, 0, 0, 0, 0, 0, 0, 0, 0, 0, 0, 0, 0, 0, 0, 0, 0, 0, 0, 0, 0, 0, 0, 0, 0, 0, 0, 0, 0, 0, 0, 0, 0, 0, 0, 0, 0, 0, 0, 0, 0, 0, 0, 0, 0, 0, 0, 0, 0, 0, 0, 0, 0, 0, 0, 0, 0, 0, 0, 30, 0, 0, 0, 0, 0, 0, 0, 0, 0, 0, 0, 0, 0, 0], \"yaxis\": \"y7\"}, {\"hovertemplate\": \"team=3<br>date=%{x}<br>idle_men=%{marker.color}<extra></extra>\", \"legendgroup\": \"\", \"marker\": {\"color\": [0, 0, 0, 0, 0, 0, 0, 0, 0, 0, 0, 0, 0, 0, 0, 0, 0, 0, 0, 0, 0, 0, 0, 0, 0, 0, 0, 0, 0, 0, 0, 0, 0, 0, 0, 0, 0, 0, 0, 0, 0, 0, 0, 0, 0, 0, 0, 0, 0, 0, 0, 0, 0, 0, 0, 0, 0, 0, 0, 0, 0, 0, 0, 0, 0, 0, 0, 0, 0, 0, 0, 0, 0, 0, 0, 0, 0, 0, 0, 0, 0, 0, 0, 0, 0, 0, 0, 0, 0, 0, 0, 0, 0, 0, 0], \"coloraxis\": \"coloraxis\", \"symbol\": \"circle\"}, \"mode\": \"markers\", \"name\": \"\", \"showlegend\": false, \"type\": \"scattergl\", \"x\": [\"2015-01-01T00:00:00\", \"2015-01-03T00:00:00\", \"2015-01-03T00:00:00\", \"2015-01-04T00:00:00\", \"2015-01-04T00:00:00\", \"2015-01-05T00:00:00\", \"2015-01-05T00:00:00\", \"2015-01-06T00:00:00\", \"2015-01-06T00:00:00\", \"2015-01-07T00:00:00\", \"2015-01-07T00:00:00\", \"2015-01-08T00:00:00\", \"2015-01-08T00:00:00\", \"2015-01-10T00:00:00\", \"2015-01-10T00:00:00\", \"2015-01-11T00:00:00\", \"2015-01-11T00:00:00\", \"2015-01-12T00:00:00\", \"2015-01-12T00:00:00\", \"2015-01-13T00:00:00\", \"2015-01-13T00:00:00\", \"2015-01-14T00:00:00\", \"2015-01-15T00:00:00\", \"2015-01-17T00:00:00\", \"2015-01-18T00:00:00\", \"2015-01-19T00:00:00\", \"2015-01-20T00:00:00\", \"2015-01-21T00:00:00\", \"2015-01-22T00:00:00\", \"2015-01-22T00:00:00\", \"2015-01-24T00:00:00\", \"2015-01-24T00:00:00\", \"2015-01-25T00:00:00\", \"2015-01-25T00:00:00\", \"2015-01-26T00:00:00\", \"2015-01-26T00:00:00\", \"2015-01-27T00:00:00\", \"2015-01-27T00:00:00\", \"2015-01-28T00:00:00\", \"2015-01-29T00:00:00\", \"2015-01-29T00:00:00\", \"2015-01-31T00:00:00\", \"2015-01-31T00:00:00\", \"2015-02-01T00:00:00\", \"2015-02-02T00:00:00\", \"2015-02-03T00:00:00\", \"2015-02-04T00:00:00\", \"2015-02-05T00:00:00\", \"2015-02-07T00:00:00\", \"2015-02-08T00:00:00\", \"2015-02-09T00:00:00\", \"2015-02-10T00:00:00\", \"2015-02-11T00:00:00\", \"2015-02-12T00:00:00\", \"2015-02-14T00:00:00\", \"2015-02-15T00:00:00\", \"2015-02-16T00:00:00\", \"2015-02-16T00:00:00\", \"2015-02-17T00:00:00\", \"2015-02-17T00:00:00\", \"2015-02-18T00:00:00\", \"2015-02-18T00:00:00\", \"2015-02-19T00:00:00\", \"2015-02-19T00:00:00\", \"2015-02-22T00:00:00\", \"2015-02-22T00:00:00\", \"2015-02-23T00:00:00\", \"2015-02-23T00:00:00\", \"2015-02-24T00:00:00\", \"2015-02-24T00:00:00\", \"2015-02-25T00:00:00\", \"2015-02-25T00:00:00\", \"2015-02-26T00:00:00\", \"2015-02-26T00:00:00\", \"2015-02-28T00:00:00\", \"2015-02-28T00:00:00\", \"2015-03-01T00:00:00\", \"2015-03-01T00:00:00\", \"2015-03-02T00:00:00\", \"2015-03-02T00:00:00\", \"2015-03-03T00:00:00\", \"2015-03-03T00:00:00\", \"2015-03-04T00:00:00\", \"2015-03-04T00:00:00\", \"2015-03-05T00:00:00\", \"2015-03-05T00:00:00\", \"2015-03-07T00:00:00\", \"2015-03-08T00:00:00\", \"2015-03-08T00:00:00\", \"2015-03-09T00:00:00\", \"2015-03-09T00:00:00\", \"2015-03-10T00:00:00\", \"2015-03-10T00:00:00\", \"2015-03-11T00:00:00\", \"2015-03-11T00:00:00\"], \"xaxis\": \"x8\", \"y\": [0, 0, 0, 0, 0, 0, 0, 0, 0, 0, 0, 0, 0, 0, 0, 0, 0, 0, 0, 0, 0, 0, 0, 0, 0, 0, 0, 0, 0, 0, 0, 0, 0, 0, 0, 0, 0, 0, 0, 0, 0, 0, 0, 0, 0, 0, 0, 0, 0, 0, 0, 0, 0, 0, 0, 0, 0, 0, 0, 0, 0, 0, 0, 0, 0, 0, 0, 0, 0, 0, 0, 0, 0, 0, 0, 0, 0, 0, 0, 0, 0, 0, 0, 0, 0, 0, 0, 0, 0, 0, 0, 0, 0, 0, 0], \"yaxis\": \"y8\"}, {\"hovertemplate\": \"team=9<br>date=%{x}<br>idle_men=%{marker.color}<extra></extra>\", \"legendgroup\": \"\", \"marker\": {\"color\": [0, 0, 0, 0, 0, 0, 0, 0, 0, 0, 0, 0, 0, 0, 0, 0, 0, 0, 0, 0, 0, 0, 0, 0, 0, 0, 0, 0, 0, 0, 0, 0, 0, 0, 0, 0, 0, 0, 0, 0, 0, 0, 0, 0, 0, 0, 0, 0, 0, 0, 0, 0, 0, 0, 0, 0, 0, 0, 0, 0, 0, 0, 0, 0, 0, 0, 0, 0, 0, 0, 0, 0, 0, 0, 0, 0, 0, 0, 0, 0, 0, 0, 0, 0, 0, 0, 0, 0, 0, 0, 0, 0, 0, 0, 0, 0, 0, 0, 0, 0, 0, 0, 0, 0], \"coloraxis\": \"coloraxis\", \"symbol\": \"circle\"}, \"mode\": \"markers\", \"name\": \"\", \"showlegend\": false, \"type\": \"scattergl\", \"x\": [\"2015-01-01T00:00:00\", \"2015-01-03T00:00:00\", \"2015-01-03T00:00:00\", \"2015-01-04T00:00:00\", \"2015-01-04T00:00:00\", \"2015-01-05T00:00:00\", \"2015-01-05T00:00:00\", \"2015-01-06T00:00:00\", \"2015-01-06T00:00:00\", \"2015-01-07T00:00:00\", \"2015-01-07T00:00:00\", \"2015-01-08T00:00:00\", \"2015-01-08T00:00:00\", \"2015-01-10T00:00:00\", \"2015-01-10T00:00:00\", \"2015-01-11T00:00:00\", \"2015-01-11T00:00:00\", \"2015-01-12T00:00:00\", \"2015-01-12T00:00:00\", \"2015-01-13T00:00:00\", \"2015-01-13T00:00:00\", \"2015-01-14T00:00:00\", \"2015-01-14T00:00:00\", \"2015-01-15T00:00:00\", \"2015-01-15T00:00:00\", \"2015-01-17T00:00:00\", \"2015-01-17T00:00:00\", \"2015-01-18T00:00:00\", \"2015-01-18T00:00:00\", \"2015-01-19T00:00:00\", \"2015-01-19T00:00:00\", \"2015-01-20T00:00:00\", \"2015-01-20T00:00:00\", \"2015-01-21T00:00:00\", \"2015-01-21T00:00:00\", \"2015-01-22T00:00:00\", \"2015-01-24T00:00:00\", \"2015-01-24T00:00:00\", \"2015-01-25T00:00:00\", \"2015-01-26T00:00:00\", \"2015-01-27T00:00:00\", \"2015-01-28T00:00:00\", \"2015-01-29T00:00:00\", \"2015-01-31T00:00:00\", \"2015-01-31T00:00:00\", \"2015-02-01T00:00:00\", \"2015-02-02T00:00:00\", \"2015-02-02T00:00:00\", \"2015-02-03T00:00:00\", \"2015-02-03T00:00:00\", \"2015-02-04T00:00:00\", \"2015-02-04T00:00:00\", \"2015-02-05T00:00:00\", \"2015-02-07T00:00:00\", \"2015-02-07T00:00:00\", \"2015-02-08T00:00:00\", \"2015-02-08T00:00:00\", \"2015-02-09T00:00:00\", \"2015-02-09T00:00:00\", \"2015-02-10T00:00:00\", \"2015-02-10T00:00:00\", \"2015-02-11T00:00:00\", \"2015-02-11T00:00:00\", \"2015-02-12T00:00:00\", \"2015-02-12T00:00:00\", \"2015-02-14T00:00:00\", \"2015-02-15T00:00:00\", \"2015-02-16T00:00:00\", \"2015-02-16T00:00:00\", \"2015-02-17T00:00:00\", \"2015-02-17T00:00:00\", \"2015-02-18T00:00:00\", \"2015-02-18T00:00:00\", \"2015-02-19T00:00:00\", \"2015-02-22T00:00:00\", \"2015-02-22T00:00:00\", \"2015-02-23T00:00:00\", \"2015-02-23T00:00:00\", \"2015-02-24T00:00:00\", \"2015-02-24T00:00:00\", \"2015-02-25T00:00:00\", \"2015-02-25T00:00:00\", \"2015-02-26T00:00:00\", \"2015-02-26T00:00:00\", \"2015-02-28T00:00:00\", \"2015-02-28T00:00:00\", \"2015-03-01T00:00:00\", \"2015-03-01T00:00:00\", \"2015-03-02T00:00:00\", \"2015-03-02T00:00:00\", \"2015-03-03T00:00:00\", \"2015-03-04T00:00:00\", \"2015-03-04T00:00:00\", \"2015-03-05T00:00:00\", \"2015-03-05T00:00:00\", \"2015-03-07T00:00:00\", \"2015-03-08T00:00:00\", \"2015-03-08T00:00:00\", \"2015-03-09T00:00:00\", \"2015-03-09T00:00:00\", \"2015-03-10T00:00:00\", \"2015-03-10T00:00:00\", \"2015-03-11T00:00:00\", \"2015-03-11T00:00:00\"], \"xaxis\": \"x9\", \"y\": [0, 0, 0, 0, 0, 0, 0, 0, 0, 0, 0, 0, 0, 0, 0, 0, 0, 0, 0, 0, 0, 0, 0, 0, 0, 0, 0, 0, 0, 0, 0, 0, 0, 0, 0, 0, 0, 0, 0, 0, 0, 0, 0, 0, 0, 0, 0, 0, 0, 0, 0, 0, 0, 0, 0, 0, 0, 0, 0, 0, 0, 0, 0, 0, 0, 0, 0, 0, 0, 0, 0, 0, 0, 0, 0, 0, 0, 0, 0, 0, 0, 0, 0, 0, 0, 0, 0, 0, 0, 0, 0, 0, 0, 0, 0, 0, 0, 0, 0, 0, 0, 0, 0, 0], \"yaxis\": \"y9\"}, {\"hovertemplate\": \"team=10<br>date=%{x}<br>idle_men=%{marker.color}<extra></extra>\", \"legendgroup\": \"\", \"marker\": {\"color\": [0, 0, 0, 0, 0, 0, 0, 0, 0, 0, 0, 0, 0, 0, 0, 0, 0, 0, 0, 0, 0, 0, 0, 0, 0, 0, 0, 0, 0, 0, 0, 0, 0, 0, 0, 0, 0, 0, 0, 0, 0, 0, 0, 0, 0, 0, 0, 0, 0, 0, 0, 0, 0, 0, 0, 0, 0, 0, 0, 0, 0, 0, 0, 0, 0, 0, 35, 0, 35, 0, 0, 0, 0, 0, 0, 0, 0, 0, 0, 0, 0, 0, 0, 0, 0, 0, 0, 0, 0, 0, 0, 0, 0, 0, 0, 0, 0, 0, 0, 0], \"coloraxis\": \"coloraxis\", \"symbol\": \"circle\"}, \"mode\": \"markers\", \"name\": \"\", \"showlegend\": false, \"type\": \"scattergl\", \"x\": [\"2015-01-01T00:00:00\", \"2015-01-01T00:00:00\", \"2015-01-03T00:00:00\", \"2015-01-03T00:00:00\", \"2015-01-04T00:00:00\", \"2015-01-04T00:00:00\", \"2015-01-05T00:00:00\", \"2015-01-05T00:00:00\", \"2015-01-06T00:00:00\", \"2015-01-06T00:00:00\", \"2015-01-07T00:00:00\", \"2015-01-07T00:00:00\", \"2015-01-08T00:00:00\", \"2015-01-08T00:00:00\", \"2015-01-10T00:00:00\", \"2015-01-10T00:00:00\", \"2015-01-11T00:00:00\", \"2015-01-11T00:00:00\", \"2015-01-12T00:00:00\", \"2015-01-12T00:00:00\", \"2015-01-13T00:00:00\", \"2015-01-13T00:00:00\", \"2015-01-14T00:00:00\", \"2015-01-14T00:00:00\", \"2015-01-15T00:00:00\", \"2015-01-15T00:00:00\", \"2015-01-17T00:00:00\", \"2015-01-17T00:00:00\", \"2015-01-18T00:00:00\", \"2015-01-18T00:00:00\", \"2015-01-19T00:00:00\", \"2015-01-19T00:00:00\", \"2015-01-20T00:00:00\", \"2015-01-21T00:00:00\", \"2015-01-22T00:00:00\", \"2015-01-22T00:00:00\", \"2015-01-24T00:00:00\", \"2015-01-24T00:00:00\", \"2015-01-25T00:00:00\", \"2015-01-25T00:00:00\", \"2015-01-26T00:00:00\", \"2015-01-26T00:00:00\", \"2015-01-27T00:00:00\", \"2015-01-27T00:00:00\", \"2015-01-28T00:00:00\", \"2015-01-28T00:00:00\", \"2015-01-29T00:00:00\", \"2015-01-29T00:00:00\", \"2015-01-31T00:00:00\", \"2015-01-31T00:00:00\", \"2015-02-01T00:00:00\", \"2015-02-01T00:00:00\", \"2015-02-02T00:00:00\", \"2015-02-02T00:00:00\", \"2015-02-03T00:00:00\", \"2015-02-04T00:00:00\", \"2015-02-05T00:00:00\", \"2015-02-05T00:00:00\", \"2015-02-07T00:00:00\", \"2015-02-08T00:00:00\", \"2015-02-09T00:00:00\", \"2015-02-10T00:00:00\", \"2015-02-11T00:00:00\", \"2015-02-12T00:00:00\", \"2015-02-16T00:00:00\", \"2015-02-17T00:00:00\", \"2015-02-17T00:00:00\", \"2015-02-18T00:00:00\", \"2015-02-18T00:00:00\", \"2015-02-19T00:00:00\", \"2015-02-19T00:00:00\", \"2015-02-22T00:00:00\", \"2015-02-22T00:00:00\", \"2015-02-23T00:00:00\", \"2015-02-23T00:00:00\", \"2015-02-24T00:00:00\", \"2015-02-24T00:00:00\", \"2015-02-25T00:00:00\", \"2015-02-25T00:00:00\", \"2015-02-26T00:00:00\", \"2015-02-26T00:00:00\", \"2015-02-28T00:00:00\", \"2015-02-28T00:00:00\", \"2015-03-01T00:00:00\", \"2015-03-01T00:00:00\", \"2015-03-02T00:00:00\", \"2015-03-02T00:00:00\", \"2015-03-03T00:00:00\", \"2015-03-03T00:00:00\", \"2015-03-04T00:00:00\", \"2015-03-05T00:00:00\", \"2015-03-07T00:00:00\", \"2015-03-08T00:00:00\", \"2015-03-08T00:00:00\", \"2015-03-09T00:00:00\", \"2015-03-09T00:00:00\", \"2015-03-10T00:00:00\", \"2015-03-10T00:00:00\", \"2015-03-11T00:00:00\", \"2015-03-11T00:00:00\"], \"xaxis\": \"x10\", \"y\": [0, 0, 0, 0, 0, 0, 0, 0, 0, 0, 0, 0, 0, 0, 0, 0, 0, 0, 0, 0, 0, 0, 0, 0, 0, 0, 0, 0, 0, 0, 0, 0, 0, 0, 0, 0, 0, 0, 0, 0, 0, 0, 0, 0, 0, 0, 0, 0, 0, 0, 0, 0, 0, 0, 0, 0, 0, 0, 0, 0, 0, 0, 0, 0, 0, 0, 35, 0, 35, 0, 0, 0, 0, 0, 0, 0, 0, 0, 0, 0, 0, 0, 0, 0, 0, 0, 0, 0, 0, 0, 0, 0, 0, 0, 0, 0, 0, 0, 0, 0], \"yaxis\": \"y10\"}, {\"hovertemplate\": \"team=5<br>date=%{x}<br>idle_men=%{marker.color}<extra></extra>\", \"legendgroup\": \"\", \"marker\": {\"color\": [0, 0, 0, 0, 0, 0, 0, 0, 0, 0, 0, 0, 0, 0, 0, 0, 0, 0, 0, 0, 0, 0, 0, 0, 0, 0, 0, 0, 0, 0, 0, 0, 0, 0, 0, 0, 0, 0, 0, 0, 0, 0, 0, 0, 0, 0, 0, 0, 10, 0, 0, 0, 0, 0, 0, 0, 0, 0, 0, 0, 0, 0, 0, 0, 0, 15, 0, 25, 0, 0, 0, 0, 0, 0, 0, 0, 0, 0, 0, 0, 0, 0, 0, 0, 0, 0, 0, 0, 0, 0, 0, 0, 0], \"coloraxis\": \"coloraxis\", \"symbol\": \"circle\"}, \"mode\": \"markers\", \"name\": \"\", \"showlegend\": false, \"type\": \"scattergl\", \"x\": [\"2015-01-01T00:00:00\", \"2015-01-03T00:00:00\", \"2015-01-04T00:00:00\", \"2015-01-05T00:00:00\", \"2015-01-05T00:00:00\", \"2015-01-06T00:00:00\", \"2015-01-07T00:00:00\", \"2015-01-07T00:00:00\", \"2015-01-08T00:00:00\", \"2015-01-08T00:00:00\", \"2015-01-10T00:00:00\", \"2015-01-10T00:00:00\", \"2015-01-11T00:00:00\", \"2015-01-11T00:00:00\", \"2015-01-12T00:00:00\", \"2015-01-12T00:00:00\", \"2015-01-13T00:00:00\", \"2015-01-13T00:00:00\", \"2015-01-14T00:00:00\", \"2015-01-14T00:00:00\", \"2015-01-15T00:00:00\", \"2015-01-15T00:00:00\", \"2015-01-17T00:00:00\", \"2015-01-17T00:00:00\", \"2015-01-18T00:00:00\", \"2015-01-18T00:00:00\", \"2015-01-19T00:00:00\", \"2015-01-19T00:00:00\", \"2015-01-20T00:00:00\", \"2015-01-20T00:00:00\", \"2015-01-21T00:00:00\", \"2015-01-21T00:00:00\", \"2015-01-22T00:00:00\", \"2015-01-22T00:00:00\", \"2015-01-24T00:00:00\", \"2015-01-24T00:00:00\", \"2015-01-25T00:00:00\", \"2015-01-25T00:00:00\", \"2015-01-26T00:00:00\", \"2015-01-26T00:00:00\", \"2015-01-27T00:00:00\", \"2015-01-27T00:00:00\", \"2015-01-28T00:00:00\", \"2015-01-29T00:00:00\", \"2015-01-31T00:00:00\", \"2015-01-31T00:00:00\", \"2015-02-02T00:00:00\", \"2015-02-03T00:00:00\", \"2015-02-04T00:00:00\", \"2015-02-05T00:00:00\", \"2015-02-07T00:00:00\", \"2015-02-08T00:00:00\", \"2015-02-09T00:00:00\", \"2015-02-10T00:00:00\", \"2015-02-11T00:00:00\", \"2015-02-11T00:00:00\", \"2015-02-12T00:00:00\", \"2015-02-12T00:00:00\", \"2015-02-14T00:00:00\", \"2015-02-15T00:00:00\", \"2015-02-15T00:00:00\", \"2015-02-16T00:00:00\", \"2015-02-16T00:00:00\", \"2015-02-17T00:00:00\", \"2015-02-18T00:00:00\", \"2015-02-19T00:00:00\", \"2015-02-19T00:00:00\", \"2015-02-22T00:00:00\", \"2015-02-23T00:00:00\", \"2015-02-24T00:00:00\", \"2015-02-25T00:00:00\", \"2015-02-25T00:00:00\", \"2015-02-26T00:00:00\", \"2015-02-26T00:00:00\", \"2015-02-28T00:00:00\", \"2015-02-28T00:00:00\", \"2015-03-01T00:00:00\", \"2015-03-02T00:00:00\", \"2015-03-03T00:00:00\", \"2015-03-03T00:00:00\", \"2015-03-04T00:00:00\", \"2015-03-04T00:00:00\", \"2015-03-05T00:00:00\", \"2015-03-07T00:00:00\", \"2015-03-07T00:00:00\", \"2015-03-08T00:00:00\", \"2015-03-08T00:00:00\", \"2015-03-09T00:00:00\", \"2015-03-09T00:00:00\", \"2015-03-10T00:00:00\", \"2015-03-10T00:00:00\", \"2015-03-11T00:00:00\", \"2015-03-11T00:00:00\"], \"xaxis\": \"x11\", \"y\": [0, 0, 0, 0, 0, 0, 0, 0, 0, 0, 0, 0, 0, 0, 0, 0, 0, 0, 0, 0, 0, 0, 0, 0, 0, 0, 0, 0, 0, 0, 0, 0, 0, 0, 0, 0, 0, 0, 0, 0, 0, 0, 0, 0, 0, 0, 0, 0, 10, 0, 0, 0, 0, 0, 0, 0, 0, 0, 0, 0, 0, 0, 0, 0, 0, 15, 0, 25, 0, 0, 0, 0, 0, 0, 0, 0, 0, 0, 0, 0, 0, 0, 0, 0, 0, 0, 0, 0, 0, 0, 0, 0, 0], \"yaxis\": \"y11\"}, {\"hovertemplate\": \"team=4<br>date=%{x}<br>idle_men=%{marker.color}<extra></extra>\", \"legendgroup\": \"\", \"marker\": {\"color\": [0, 0, 0, 0, 0, 0, 0, 0, 0, 0, 0, 0, 0, 0, 0, 0, 0, 0, 0, 0, 0, 0, 0, 0, 0, 0, 0, 0, 0, 0, 0, 0, 0, 0, 0, 0, 0, 0, 0, 0, 0, 0, 0, 0, 0, 0, 0, 0, 0, 0, 0, 0, 0, 0, 0, 15, 0, 0, 0, 0, 0, 0, 0, 0, 0, 0, 0, 0, 0, 0, 0, 0, 0, 0, 0, 0, 0, 0, 0, 0, 0, 0, 0, 0, 0, 0, 0, 0, 0, 0, 0, 0, 0, 0, 0, 0, 0, 0, 0, 0, 0, 0, 0, 0, 0], \"coloraxis\": \"coloraxis\", \"symbol\": \"circle\"}, \"mode\": \"markers\", \"name\": \"\", \"showlegend\": false, \"type\": \"scattergl\", \"x\": [\"2015-01-01T00:00:00\", \"2015-01-01T00:00:00\", \"2015-01-03T00:00:00\", \"2015-01-03T00:00:00\", \"2015-01-04T00:00:00\", \"2015-01-04T00:00:00\", \"2015-01-05T00:00:00\", \"2015-01-05T00:00:00\", \"2015-01-06T00:00:00\", \"2015-01-06T00:00:00\", \"2015-01-07T00:00:00\", \"2015-01-07T00:00:00\", \"2015-01-08T00:00:00\", \"2015-01-08T00:00:00\", \"2015-01-10T00:00:00\", \"2015-01-10T00:00:00\", \"2015-01-11T00:00:00\", \"2015-01-11T00:00:00\", \"2015-01-12T00:00:00\", \"2015-01-12T00:00:00\", \"2015-01-13T00:00:00\", \"2015-01-13T00:00:00\", \"2015-01-14T00:00:00\", \"2015-01-14T00:00:00\", \"2015-01-15T00:00:00\", \"2015-01-15T00:00:00\", \"2015-01-17T00:00:00\", \"2015-01-18T00:00:00\", \"2015-01-19T00:00:00\", \"2015-01-19T00:00:00\", \"2015-01-20T00:00:00\", \"2015-01-21T00:00:00\", \"2015-01-21T00:00:00\", \"2015-01-22T00:00:00\", \"2015-01-22T00:00:00\", \"2015-01-24T00:00:00\", \"2015-01-24T00:00:00\", \"2015-01-25T00:00:00\", \"2015-01-25T00:00:00\", \"2015-01-26T00:00:00\", \"2015-01-26T00:00:00\", \"2015-01-27T00:00:00\", \"2015-01-27T00:00:00\", \"2015-01-28T00:00:00\", \"2015-01-28T00:00:00\", \"2015-01-29T00:00:00\", \"2015-01-29T00:00:00\", \"2015-01-31T00:00:00\", \"2015-01-31T00:00:00\", \"2015-02-01T00:00:00\", \"2015-02-01T00:00:00\", \"2015-02-02T00:00:00\", \"2015-02-02T00:00:00\", \"2015-02-03T00:00:00\", \"2015-02-03T00:00:00\", \"2015-02-04T00:00:00\", \"2015-02-05T00:00:00\", \"2015-02-07T00:00:00\", \"2015-02-07T00:00:00\", \"2015-02-08T00:00:00\", \"2015-02-09T00:00:00\", \"2015-02-10T00:00:00\", \"2015-02-10T00:00:00\", \"2015-02-11T00:00:00\", \"2015-02-11T00:00:00\", \"2015-02-12T00:00:00\", \"2015-02-12T00:00:00\", \"2015-02-14T00:00:00\", \"2015-02-14T00:00:00\", \"2015-02-15T00:00:00\", \"2015-02-15T00:00:00\", \"2015-02-16T00:00:00\", \"2015-02-16T00:00:00\", \"2015-02-17T00:00:00\", \"2015-02-17T00:00:00\", \"2015-02-18T00:00:00\", \"2015-02-18T00:00:00\", \"2015-02-19T00:00:00\", \"2015-02-19T00:00:00\", \"2015-02-22T00:00:00\", \"2015-02-23T00:00:00\", \"2015-02-24T00:00:00\", \"2015-02-25T00:00:00\", \"2015-02-26T00:00:00\", \"2015-02-28T00:00:00\", \"2015-03-01T00:00:00\", \"2015-03-01T00:00:00\", \"2015-03-02T00:00:00\", \"2015-03-02T00:00:00\", \"2015-03-03T00:00:00\", \"2015-03-03T00:00:00\", \"2015-03-04T00:00:00\", \"2015-03-04T00:00:00\", \"2015-03-05T00:00:00\", \"2015-03-05T00:00:00\", \"2015-03-07T00:00:00\", \"2015-03-07T00:00:00\", \"2015-03-08T00:00:00\", \"2015-03-08T00:00:00\", \"2015-03-09T00:00:00\", \"2015-03-09T00:00:00\", \"2015-03-10T00:00:00\", \"2015-03-10T00:00:00\", \"2015-03-11T00:00:00\", \"2015-03-11T00:00:00\"], \"xaxis\": \"x12\", \"y\": [0, 0, 0, 0, 0, 0, 0, 0, 0, 0, 0, 0, 0, 0, 0, 0, 0, 0, 0, 0, 0, 0, 0, 0, 0, 0, 0, 0, 0, 0, 0, 0, 0, 0, 0, 0, 0, 0, 0, 0, 0, 0, 0, 0, 0, 0, 0, 0, 0, 0, 0, 0, 0, 0, 0, 15, 0, 0, 0, 0, 0, 0, 0, 0, 0, 0, 0, 0, 0, 0, 0, 0, 0, 0, 0, 0, 0, 0, 0, 0, 0, 0, 0, 0, 0, 0, 0, 0, 0, 0, 0, 0, 0, 0, 0, 0, 0, 0, 0, 0, 0, 0, 0, 0, 0], \"yaxis\": \"y12\"}],                        {\"annotations\": [{\"font\": {}, \"showarrow\": false, \"text\": \"team=8\", \"x\": 0.0325, \"xanchor\": \"center\", \"xref\": \"paper\", \"y\": 1.0, \"yanchor\": \"bottom\", \"yref\": \"paper\"}, {\"font\": {}, \"showarrow\": false, \"text\": \"team=1\", \"x\": 0.11750000000000002, \"xanchor\": \"center\", \"xref\": \"paper\", \"y\": 1.0, \"yanchor\": \"bottom\", \"yref\": \"paper\"}, {\"font\": {}, \"showarrow\": false, \"text\": \"team=11\", \"x\": 0.2025, \"xanchor\": \"center\", \"xref\": \"paper\", \"y\": 1.0, \"yanchor\": \"bottom\", \"yref\": \"paper\"}, {\"font\": {}, \"showarrow\": false, \"text\": \"team=12\", \"x\": 0.2875, \"xanchor\": \"center\", \"xref\": \"paper\", \"y\": 1.0, \"yanchor\": \"bottom\", \"yref\": \"paper\"}, {\"font\": {}, \"showarrow\": false, \"text\": \"team=6\", \"x\": 0.37250000000000005, \"xanchor\": \"center\", \"xref\": \"paper\", \"y\": 1.0, \"yanchor\": \"bottom\", \"yref\": \"paper\"}, {\"font\": {}, \"showarrow\": false, \"text\": \"team=7\", \"x\": 0.4575, \"xanchor\": \"center\", \"xref\": \"paper\", \"y\": 1.0, \"yanchor\": \"bottom\", \"yref\": \"paper\"}, {\"font\": {}, \"showarrow\": false, \"text\": \"team=2\", \"x\": 0.5425, \"xanchor\": \"center\", \"xref\": \"paper\", \"y\": 1.0, \"yanchor\": \"bottom\", \"yref\": \"paper\"}, {\"font\": {}, \"showarrow\": false, \"text\": \"team=3\", \"x\": 0.6275, \"xanchor\": \"center\", \"xref\": \"paper\", \"y\": 1.0, \"yanchor\": \"bottom\", \"yref\": \"paper\"}, {\"font\": {}, \"showarrow\": false, \"text\": \"team=9\", \"x\": 0.7125000000000001, \"xanchor\": \"center\", \"xref\": \"paper\", \"y\": 1.0, \"yanchor\": \"bottom\", \"yref\": \"paper\"}, {\"font\": {}, \"showarrow\": false, \"text\": \"team=10\", \"x\": 0.7974999999999999, \"xanchor\": \"center\", \"xref\": \"paper\", \"y\": 1.0, \"yanchor\": \"bottom\", \"yref\": \"paper\"}, {\"font\": {}, \"showarrow\": false, \"text\": \"team=5\", \"x\": 0.8824999999999998, \"xanchor\": \"center\", \"xref\": \"paper\", \"y\": 1.0, \"yanchor\": \"bottom\", \"yref\": \"paper\"}, {\"font\": {}, \"showarrow\": false, \"text\": \"team=4\", \"x\": 0.9674999999999998, \"xanchor\": \"center\", \"xref\": \"paper\", \"y\": 1.0, \"yanchor\": \"bottom\", \"yref\": \"paper\"}], \"coloraxis\": {\"colorbar\": {\"title\": {\"text\": \"idle_men\"}}, \"colorscale\": [[0.0, \"#0d0887\"], [0.1111111111111111, \"#46039f\"], [0.2222222222222222, \"#7201a8\"], [0.3333333333333333, \"#9c179e\"], [0.4444444444444444, \"#bd3786\"], [0.5555555555555556, \"#d8576b\"], [0.6666666666666666, \"#ed7953\"], [0.7777777777777778, \"#fb9f3a\"], [0.8888888888888888, \"#fdca26\"], [1.0, \"#f0f921\"]]}, \"legend\": {\"tracegroupgap\": 0}, \"template\": {\"data\": {\"bar\": [{\"error_x\": {\"color\": \"#f2f5fa\"}, \"error_y\": {\"color\": \"#f2f5fa\"}, \"marker\": {\"line\": {\"color\": \"rgb(17,17,17)\", \"width\": 0.5}}, \"type\": \"bar\"}], \"barpolar\": [{\"marker\": {\"line\": {\"color\": \"rgb(17,17,17)\", \"width\": 0.5}}, \"type\": \"barpolar\"}], \"carpet\": [{\"aaxis\": {\"endlinecolor\": \"#A2B1C6\", \"gridcolor\": \"#506784\", \"linecolor\": \"#506784\", \"minorgridcolor\": \"#506784\", \"startlinecolor\": \"#A2B1C6\"}, \"baxis\": {\"endlinecolor\": \"#A2B1C6\", \"gridcolor\": \"#506784\", \"linecolor\": \"#506784\", \"minorgridcolor\": \"#506784\", \"startlinecolor\": \"#A2B1C6\"}, \"type\": \"carpet\"}], \"choropleth\": [{\"colorbar\": {\"outlinewidth\": 0, \"ticks\": \"\"}, \"type\": \"choropleth\"}], \"contour\": [{\"colorbar\": {\"outlinewidth\": 0, \"ticks\": \"\"}, \"colorscale\": [[0.0, \"#0d0887\"], [0.1111111111111111, \"#46039f\"], [0.2222222222222222, \"#7201a8\"], [0.3333333333333333, \"#9c179e\"], [0.4444444444444444, \"#bd3786\"], [0.5555555555555556, \"#d8576b\"], [0.6666666666666666, \"#ed7953\"], [0.7777777777777778, \"#fb9f3a\"], [0.8888888888888888, \"#fdca26\"], [1.0, \"#f0f921\"]], \"type\": \"contour\"}], \"contourcarpet\": [{\"colorbar\": {\"outlinewidth\": 0, \"ticks\": \"\"}, \"type\": \"contourcarpet\"}], \"heatmap\": [{\"colorbar\": {\"outlinewidth\": 0, \"ticks\": \"\"}, \"colorscale\": [[0.0, \"#0d0887\"], [0.1111111111111111, \"#46039f\"], [0.2222222222222222, \"#7201a8\"], [0.3333333333333333, \"#9c179e\"], [0.4444444444444444, \"#bd3786\"], [0.5555555555555556, \"#d8576b\"], [0.6666666666666666, \"#ed7953\"], [0.7777777777777778, \"#fb9f3a\"], [0.8888888888888888, \"#fdca26\"], [1.0, \"#f0f921\"]], \"type\": \"heatmap\"}], \"heatmapgl\": [{\"colorbar\": {\"outlinewidth\": 0, \"ticks\": \"\"}, \"colorscale\": [[0.0, \"#0d0887\"], [0.1111111111111111, \"#46039f\"], [0.2222222222222222, \"#7201a8\"], [0.3333333333333333, \"#9c179e\"], [0.4444444444444444, \"#bd3786\"], [0.5555555555555556, \"#d8576b\"], [0.6666666666666666, \"#ed7953\"], [0.7777777777777778, \"#fb9f3a\"], [0.8888888888888888, \"#fdca26\"], [1.0, \"#f0f921\"]], \"type\": \"heatmapgl\"}], \"histogram\": [{\"marker\": {\"colorbar\": {\"outlinewidth\": 0, \"ticks\": \"\"}}, \"type\": \"histogram\"}], \"histogram2d\": [{\"colorbar\": {\"outlinewidth\": 0, \"ticks\": \"\"}, \"colorscale\": [[0.0, \"#0d0887\"], [0.1111111111111111, \"#46039f\"], [0.2222222222222222, \"#7201a8\"], [0.3333333333333333, \"#9c179e\"], [0.4444444444444444, \"#bd3786\"], [0.5555555555555556, \"#d8576b\"], [0.6666666666666666, \"#ed7953\"], [0.7777777777777778, \"#fb9f3a\"], [0.8888888888888888, \"#fdca26\"], [1.0, \"#f0f921\"]], \"type\": \"histogram2d\"}], \"histogram2dcontour\": [{\"colorbar\": {\"outlinewidth\": 0, \"ticks\": \"\"}, \"colorscale\": [[0.0, \"#0d0887\"], [0.1111111111111111, \"#46039f\"], [0.2222222222222222, \"#7201a8\"], [0.3333333333333333, \"#9c179e\"], [0.4444444444444444, \"#bd3786\"], [0.5555555555555556, \"#d8576b\"], [0.6666666666666666, \"#ed7953\"], [0.7777777777777778, \"#fb9f3a\"], [0.8888888888888888, \"#fdca26\"], [1.0, \"#f0f921\"]], \"type\": \"histogram2dcontour\"}], \"mesh3d\": [{\"colorbar\": {\"outlinewidth\": 0, \"ticks\": \"\"}, \"type\": \"mesh3d\"}], \"parcoords\": [{\"line\": {\"colorbar\": {\"outlinewidth\": 0, \"ticks\": \"\"}}, \"type\": \"parcoords\"}], \"pie\": [{\"automargin\": true, \"type\": \"pie\"}], \"scatter\": [{\"marker\": {\"line\": {\"color\": \"#283442\"}}, \"type\": \"scatter\"}], \"scatter3d\": [{\"line\": {\"colorbar\": {\"outlinewidth\": 0, \"ticks\": \"\"}}, \"marker\": {\"colorbar\": {\"outlinewidth\": 0, \"ticks\": \"\"}}, \"type\": \"scatter3d\"}], \"scattercarpet\": [{\"marker\": {\"colorbar\": {\"outlinewidth\": 0, \"ticks\": \"\"}}, \"type\": \"scattercarpet\"}], \"scattergeo\": [{\"marker\": {\"colorbar\": {\"outlinewidth\": 0, \"ticks\": \"\"}}, \"type\": \"scattergeo\"}], \"scattergl\": [{\"marker\": {\"line\": {\"color\": \"#283442\"}}, \"type\": \"scattergl\"}], \"scattermapbox\": [{\"marker\": {\"colorbar\": {\"outlinewidth\": 0, \"ticks\": \"\"}}, \"type\": \"scattermapbox\"}], \"scatterpolar\": [{\"marker\": {\"colorbar\": {\"outlinewidth\": 0, \"ticks\": \"\"}}, \"type\": \"scatterpolar\"}], \"scatterpolargl\": [{\"marker\": {\"colorbar\": {\"outlinewidth\": 0, \"ticks\": \"\"}}, \"type\": \"scatterpolargl\"}], \"scatterternary\": [{\"marker\": {\"colorbar\": {\"outlinewidth\": 0, \"ticks\": \"\"}}, \"type\": \"scatterternary\"}], \"surface\": [{\"colorbar\": {\"outlinewidth\": 0, \"ticks\": \"\"}, \"colorscale\": [[0.0, \"#0d0887\"], [0.1111111111111111, \"#46039f\"], [0.2222222222222222, \"#7201a8\"], [0.3333333333333333, \"#9c179e\"], [0.4444444444444444, \"#bd3786\"], [0.5555555555555556, \"#d8576b\"], [0.6666666666666666, \"#ed7953\"], [0.7777777777777778, \"#fb9f3a\"], [0.8888888888888888, \"#fdca26\"], [1.0, \"#f0f921\"]], \"type\": \"surface\"}], \"table\": [{\"cells\": {\"fill\": {\"color\": \"#506784\"}, \"line\": {\"color\": \"rgb(17,17,17)\"}}, \"header\": {\"fill\": {\"color\": \"#2a3f5f\"}, \"line\": {\"color\": \"rgb(17,17,17)\"}}, \"type\": \"table\"}]}, \"layout\": {\"annotationdefaults\": {\"arrowcolor\": \"#f2f5fa\", \"arrowhead\": 0, \"arrowwidth\": 1}, \"autotypenumbers\": \"strict\", \"coloraxis\": {\"colorbar\": {\"outlinewidth\": 0, \"ticks\": \"\"}}, \"colorscale\": {\"diverging\": [[0, \"#8e0152\"], [0.1, \"#c51b7d\"], [0.2, \"#de77ae\"], [0.3, \"#f1b6da\"], [0.4, \"#fde0ef\"], [0.5, \"#f7f7f7\"], [0.6, \"#e6f5d0\"], [0.7, \"#b8e186\"], [0.8, \"#7fbc41\"], [0.9, \"#4d9221\"], [1, \"#276419\"]], \"sequential\": [[0.0, \"#0d0887\"], [0.1111111111111111, \"#46039f\"], [0.2222222222222222, \"#7201a8\"], [0.3333333333333333, \"#9c179e\"], [0.4444444444444444, \"#bd3786\"], [0.5555555555555556, \"#d8576b\"], [0.6666666666666666, \"#ed7953\"], [0.7777777777777778, \"#fb9f3a\"], [0.8888888888888888, \"#fdca26\"], [1.0, \"#f0f921\"]], \"sequentialminus\": [[0.0, \"#0d0887\"], [0.1111111111111111, \"#46039f\"], [0.2222222222222222, \"#7201a8\"], [0.3333333333333333, \"#9c179e\"], [0.4444444444444444, \"#bd3786\"], [0.5555555555555556, \"#d8576b\"], [0.6666666666666666, \"#ed7953\"], [0.7777777777777778, \"#fb9f3a\"], [0.8888888888888888, \"#fdca26\"], [1.0, \"#f0f921\"]]}, \"colorway\": [\"#636efa\", \"#EF553B\", \"#00cc96\", \"#ab63fa\", \"#FFA15A\", \"#19d3f3\", \"#FF6692\", \"#B6E880\", \"#FF97FF\", \"#FECB52\"], \"font\": {\"color\": \"#f2f5fa\"}, \"geo\": {\"bgcolor\": \"rgb(17,17,17)\", \"lakecolor\": \"rgb(17,17,17)\", \"landcolor\": \"rgb(17,17,17)\", \"showlakes\": true, \"showland\": true, \"subunitcolor\": \"#506784\"}, \"hoverlabel\": {\"align\": \"left\"}, \"hovermode\": \"closest\", \"mapbox\": {\"style\": \"dark\"}, \"paper_bgcolor\": \"rgb(17,17,17)\", \"plot_bgcolor\": \"rgb(17,17,17)\", \"polar\": {\"angularaxis\": {\"gridcolor\": \"#506784\", \"linecolor\": \"#506784\", \"ticks\": \"\"}, \"bgcolor\": \"rgb(17,17,17)\", \"radialaxis\": {\"gridcolor\": \"#506784\", \"linecolor\": \"#506784\", \"ticks\": \"\"}}, \"scene\": {\"xaxis\": {\"backgroundcolor\": \"rgb(17,17,17)\", \"gridcolor\": \"#506784\", \"gridwidth\": 2, \"linecolor\": \"#506784\", \"showbackground\": true, \"ticks\": \"\", \"zerolinecolor\": \"#C8D4E3\"}, \"yaxis\": {\"backgroundcolor\": \"rgb(17,17,17)\", \"gridcolor\": \"#506784\", \"gridwidth\": 2, \"linecolor\": \"#506784\", \"showbackground\": true, \"ticks\": \"\", \"zerolinecolor\": \"#C8D4E3\"}, \"zaxis\": {\"backgroundcolor\": \"rgb(17,17,17)\", \"gridcolor\": \"#506784\", \"gridwidth\": 2, \"linecolor\": \"#506784\", \"showbackground\": true, \"ticks\": \"\", \"zerolinecolor\": \"#C8D4E3\"}}, \"shapedefaults\": {\"line\": {\"color\": \"#f2f5fa\"}}, \"sliderdefaults\": {\"bgcolor\": \"#C8D4E3\", \"bordercolor\": \"rgb(17,17,17)\", \"borderwidth\": 1, \"tickwidth\": 0}, \"ternary\": {\"aaxis\": {\"gridcolor\": \"#506784\", \"linecolor\": \"#506784\", \"ticks\": \"\"}, \"baxis\": {\"gridcolor\": \"#506784\", \"linecolor\": \"#506784\", \"ticks\": \"\"}, \"bgcolor\": \"rgb(17,17,17)\", \"caxis\": {\"gridcolor\": \"#506784\", \"linecolor\": \"#506784\", \"ticks\": \"\"}}, \"title\": {\"x\": 0.05}, \"updatemenudefaults\": {\"bgcolor\": \"#506784\", \"borderwidth\": 0}, \"xaxis\": {\"automargin\": true, \"gridcolor\": \"#283442\", \"linecolor\": \"#506784\", \"ticks\": \"\", \"title\": {\"standoff\": 15}, \"zerolinecolor\": \"#283442\", \"zerolinewidth\": 2}, \"yaxis\": {\"automargin\": true, \"gridcolor\": \"#283442\", \"linecolor\": \"#506784\", \"ticks\": \"\", \"title\": {\"standoff\": 15}, \"zerolinecolor\": \"#283442\", \"zerolinewidth\": 2}}}, \"title\": {\"text\": \"Count of Idle men in Teams\", \"x\": 0.5}, \"xaxis\": {\"anchor\": \"y\", \"domain\": [0.0, 0.065], \"showgrid\": false, \"title\": {\"text\": \"date\"}}, \"xaxis10\": {\"anchor\": \"y10\", \"domain\": [0.7649999999999999, 0.8299999999999998], \"matches\": \"x\", \"showgrid\": false, \"title\": {\"text\": \"date\"}}, \"xaxis11\": {\"anchor\": \"y11\", \"domain\": [0.8499999999999999, 0.9149999999999998], \"matches\": \"x\", \"showgrid\": false, \"title\": {\"text\": \"date\"}}, \"xaxis12\": {\"anchor\": \"y12\", \"domain\": [0.9349999999999998, 0.9999999999999998], \"matches\": \"x\", \"showgrid\": false, \"title\": {\"text\": \"date\"}}, \"xaxis2\": {\"anchor\": \"y2\", \"domain\": [0.085, 0.15000000000000002], \"matches\": \"x\", \"showgrid\": false, \"title\": {\"text\": \"date\"}}, \"xaxis3\": {\"anchor\": \"y3\", \"domain\": [0.17, 0.23500000000000001], \"matches\": \"x\", \"showgrid\": false, \"title\": {\"text\": \"date\"}}, \"xaxis4\": {\"anchor\": \"y4\", \"domain\": [0.255, 0.32], \"matches\": \"x\", \"showgrid\": false, \"title\": {\"text\": \"date\"}}, \"xaxis5\": {\"anchor\": \"y5\", \"domain\": [0.34, 0.405], \"matches\": \"x\", \"showgrid\": false, \"title\": {\"text\": \"date\"}}, \"xaxis6\": {\"anchor\": \"y6\", \"domain\": [0.42500000000000004, 0.49000000000000005], \"matches\": \"x\", \"showgrid\": false, \"title\": {\"text\": \"date\"}}, \"xaxis7\": {\"anchor\": \"y7\", \"domain\": [0.51, 0.575], \"matches\": \"x\", \"showgrid\": false, \"title\": {\"text\": \"date\"}}, \"xaxis8\": {\"anchor\": \"y8\", \"domain\": [0.595, 0.6599999999999999], \"matches\": \"x\", \"showgrid\": false, \"title\": {\"text\": \"date\"}}, \"xaxis9\": {\"anchor\": \"y9\", \"domain\": [0.68, 0.7450000000000001], \"matches\": \"x\", \"showgrid\": false, \"title\": {\"text\": \"date\"}}, \"yaxis\": {\"anchor\": \"x\", \"domain\": [0.0, 1.0], \"title\": {\"text\": \"idle_men\"}}, \"yaxis10\": {\"anchor\": \"x10\", \"domain\": [0.0, 1.0], \"matches\": \"y\", \"showticklabels\": false}, \"yaxis11\": {\"anchor\": \"x11\", \"domain\": [0.0, 1.0], \"matches\": \"y\", \"showticklabels\": false}, \"yaxis12\": {\"anchor\": \"x12\", \"domain\": [0.0, 1.0], \"matches\": \"y\", \"showticklabels\": false}, \"yaxis2\": {\"anchor\": \"x2\", \"domain\": [0.0, 1.0], \"matches\": \"y\", \"showticklabels\": false}, \"yaxis3\": {\"anchor\": \"x3\", \"domain\": [0.0, 1.0], \"matches\": \"y\", \"showticklabels\": false}, \"yaxis4\": {\"anchor\": \"x4\", \"domain\": [0.0, 1.0], \"matches\": \"y\", \"showticklabels\": false}, \"yaxis5\": {\"anchor\": \"x5\", \"domain\": [0.0, 1.0], \"matches\": \"y\", \"showticklabels\": false}, \"yaxis6\": {\"anchor\": \"x6\", \"domain\": [0.0, 1.0], \"matches\": \"y\", \"showticklabels\": false}, \"yaxis7\": {\"anchor\": \"x7\", \"domain\": [0.0, 1.0], \"matches\": \"y\", \"showticklabels\": false}, \"yaxis8\": {\"anchor\": \"x8\", \"domain\": [0.0, 1.0], \"matches\": \"y\", \"showticklabels\": false}, \"yaxis9\": {\"anchor\": \"x9\", \"domain\": [0.0, 1.0], \"matches\": \"y\", \"showticklabels\": false}},                        {\"responsive\": true}                    ).then(function(){\n",
       "                            \n",
       "var gd = document.getElementById('87a1e1a5-e318-4313-a350-aa32a9acff72');\n",
       "var x = new MutationObserver(function (mutations, observer) {{\n",
       "        var display = window.getComputedStyle(gd).display;\n",
       "        if (!display || display === 'none') {{\n",
       "            console.log([gd, 'removed!']);\n",
       "            Plotly.purge(gd);\n",
       "            observer.disconnect();\n",
       "        }}\n",
       "}});\n",
       "\n",
       "// Listen for the removal of the full notebook cells\n",
       "var notebookContainer = gd.closest('#notebook-container');\n",
       "if (notebookContainer) {{\n",
       "    x.observe(notebookContainer, {childList: true});\n",
       "}}\n",
       "\n",
       "// Listen for the clearing of the current output cell\n",
       "var outputEl = gd.closest('.output');\n",
       "if (outputEl) {{\n",
       "    x.observe(outputEl, {childList: true});\n",
       "}}\n",
       "\n",
       "                        })                };                });            </script>        </div>"
      ]
     },
     "metadata": {}
    }
   ],
   "metadata": {
    "execution": {
     "iopub.execute_input": "2021-04-10T14:15:08.570440Z",
     "iopub.status.busy": "2021-04-10T14:15:08.569732Z",
     "iopub.status.idle": "2021-04-10T14:15:08.955846Z",
     "shell.execute_reply": "2021-04-10T14:15:08.955256Z"
    },
    "papermill": {
     "duration": 0.437809,
     "end_time": "2021-04-10T14:15:08.955987",
     "exception": false,
     "start_time": "2021-04-10T14:15:08.518178",
     "status": "completed"
    },
    "tags": []
   }
  },
  {
   "cell_type": "markdown",
   "source": [
    "# Bivariate Analysis"
   ],
   "metadata": {
    "papermill": {
     "duration": 0.051039,
     "end_time": "2021-04-10T14:15:09.058804",
     "exception": false,
     "start_time": "2021-04-10T14:15:09.007765",
     "status": "completed"
    },
    "tags": []
   }
  },
  {
   "cell_type": "markdown",
   "source": [
    "# Actual productivity w.r.t departments"
   ],
   "metadata": {
    "papermill": {
     "duration": 0.05016,
     "end_time": "2021-04-10T14:15:09.159422",
     "exception": false,
     "start_time": "2021-04-10T14:15:09.109262",
     "status": "completed"
    },
    "tags": []
   }
  },
  {
   "cell_type": "code",
   "execution_count": 23,
   "source": [
    "fig = px.violin(df, y=\"actual_productivity\", box=True, points='all', color='department')\n",
    "fig.show()"
   ],
   "outputs": [
    {
     "output_type": "display_data",
     "data": {
      "text/html": [
       "<div>                            <div id=\"df9d9f7c-6e6d-4690-a29c-cef4a46230f6\" class=\"plotly-graph-div\" style=\"height:525px; width:100%;\"></div>            <script type=\"text/javascript\">                require([\"plotly\"], function(Plotly) {                    window.PLOTLYENV=window.PLOTLYENV || {};                                    if (document.getElementById(\"df9d9f7c-6e6d-4690-a29c-cef4a46230f6\")) {                    Plotly.newPlot(                        \"df9d9f7c-6e6d-4690-a29c-cef4a46230f6\",                        [{\"alignmentgroup\": \"True\", \"box\": {\"visible\": true}, \"hovertemplate\": \"department=sewing<br>actual_productivity=%{y}<extra></extra>\", \"legendgroup\": \"sewing\", \"marker\": {\"color\": \"#636efa\"}, \"name\": \"sewing\", \"offsetgroup\": \"sewing\", \"orientation\": \"v\", \"points\": \"all\", \"scalegroup\": \"True\", \"showlegend\": true, \"type\": \"violin\", \"x0\": \" \", \"xaxis\": \"x\", \"y\": [0.940725424, 0.800570492, 0.800570492, 0.800381944, 0.800125, 0.753683478, 0.753097531, 0.750427826, 0.721126957, 0.712205247, 0.707045902, 0.52118, 0.436326389, 0.800725314, 0.800322936, 0.800318644, 0.800318644, 0.800237288, 0.800148649, 0.800125, 0.800125, 0.787299691, 0.75024303, 0.700134038, 0.699965217, 0.879714482, 0.850569492, 0.850436438, 0.850345133, 0.800598058, 0.800318644, 0.800237838, 0.800030199, 0.750348457, 0.75024303, 0.699965217, 0.603432184, 0.850569492, 0.800684366, 0.800684366, 0.800318644, 0.800250962, 0.800246011, 0.800246011, 0.800076522, 0.800076522, 0.7504, 0.75024303, 0.600028736, 0.850502311, 0.850502311, 0.800594466, 0.800594466, 0.800273829, 0.800140969, 0.800128721, 0.800128721, 0.80007657, 0.750545455, 0.750057851, 0.649983281, 0.850502311, 0.850502311, 0.850136766, 0.800594466, 0.800594466, 0.800343766, 0.800273829, 0.800246753, 0.800128721, 0.8, 0.700480831, 0.412119835, 0.900215716, 0.850502311, 0.850181818, 0.850136766, 0.850136766, 0.800497246, 0.800273829, 0.800107143, 0.800024932, 0.8, 0.349951389, 0.233705476, 0.851174114, 0.850136766, 0.850136766, 0.801028213, 0.800594466, 0.800346445, 0.800343766, 0.800117103, 0.8, 0.750098351, 0.673245283, 0.388007813, 0.900215716, 0.850502311, 0.850136766, 0.850136766, 0.800343766, 0.800246753, 0.8, 0.8, 0.690182815, 0.600229846, 0.473134796, 0.452979626, 0.850522167, 0.850502311, 0.850136766, 0.850136766, 0.800273829, 0.800181818, 0.80007657, 0.8, 0.688557555, 0.650040783, 0.64998056, 0.35063299, 0.850502311, 0.850502311, 0.850252525, 0.850136766, 0.800246753, 0.800246753, 0.8, 0.705576584, 0.582301029, 0.526810345, 0.500380799, 0.35020649, 0.900144811, 0.850502311, 0.850136766, 0.800313433, 0.800246753, 0.800117103, 0.700095563, 0.600369686, 0.499980334, 0.35003125, 0.311207464, 0.850502311, 0.850415628, 0.850136766, 0.800117103, 0.80003139, 0.80003139, 0.700060345, 0.660683293, 0.650130952, 0.600291767, 0.500025069, 0.499998888, 0.800343766, 0.800246753, 0.800128721, 0.800128721, 0.800117103, 0.800117103, 0.77011398, 0.7005417, 0.650198653, 0.600291767, 0.600273268, 0.452012539, 0.800343766, 0.800128721, 0.800128721, 0.800015009, 0.7005417, 0.700094156, 0.662255892, 0.650416734, 0.650299575, 0.650243497, 0.600062696, 0.403242161, 0.800358775, 0.800162602, 0.800117103, 0.750517565, 0.750068049, 0.750062751, 0.750057359, 0.700170388, 0.650066445, 0.576460393, 0.549969429, 0.35021836, 0.800261486, 0.800128721, 0.800117103, 0.750068049, 0.750057359, 0.750037968, 0.750031898, 0.700170388, 0.700063796, 0.500290419, 0.400332792, 0.900556277, 0.850410511, 0.800436542, 0.800415742, 0.800020563, 0.750344828, 0.750068049, 0.700170388, 0.700029771, 0.60017284, 0.520237649, 0.500241342, 0.849983766, 0.800302791, 0.800191989, 0.800020563, 0.750162367, 0.750068049, 0.700250784, 0.700170388, 0.600436426, 0.60041361, 0.555500132, 0.500547544, 0.90064806, 0.900321106, 0.800643806, 0.80062987, 0.800537143, 0.80035194, 0.750079323, 0.750041201, 0.700250784, 0.650416734, 0.600125217, 0.34998951, 0.900321106, 0.850223776, 0.800909609, 0.800513307, 0.800386364, 0.800020563, 0.7005417, 0.70043672, 0.700250784, 0.650407524, 0.59114168, 0.500061916, 0.850312684, 0.800386364, 0.80035194, 0.800034024, 0.800023511, 0.800020563, 0.750031447, 0.70061442, 0.70043672, 0.600143365, 0.350066986, 1.000230409, 1.000230409, 0.900129762, 0.850312684, 0.800263218, 0.700386207, 0.700164706, 0.650307143, 0.622828125, 0.500035345, 0.37046657, 1.000230409, 1.000230409, 0.850532143, 0.850362069, 0.800534483, 0.800489676, 0.750593103, 0.750283333, 0.500567308, 0.467693269, 0.437995338, 0.285333333, 1.000230409, 0.950185965, 0.9008, 0.900129762, 0.850362069, 0.850170115, 0.800473729, 0.750646667, 0.60059761, 0.500117677, 0.48792, 1.000457471, 1.000230409, 0.920236905, 0.900537069, 0.850610526, 0.850362069, 0.750646667, 0.656763743, 0.650148148, 0.600710606, 0.388830357, 0.286984568, 1.000671304, 1.000402055, 0.950185965, 0.850532143, 0.85011396, 0.750593103, 0.750450658, 0.700508929, 0.651007071, 0.466821212, 0.411553571, 1.000602279, 0.900158405, 0.90014152, 0.900129762, 0.800401961, 0.800393224, 0.799963218, 0.700398148, 0.700354545, 0.500801724, 0.295307738, 0.260978788, 1.000018551, 0.999995238, 0.950185965, 0.949981609, 0.800434622, 0.800259023, 0.750593103, 0.700513566, 0.700184577, 0.586465465, 0.541517857, 0.415172414, 1.05028058, 1.000230409, 0.999995238, 0.966759259, 0.929183333, 0.915766667, 0.900147246, 0.800401961, 0.799963218, 0.779791667, 0.755166667, 0.700710417, 0.700612069, 0.700278846, 0.700135088, 0.650834808, 0.531666667, 0.350706422, 1.000446018, 1.000018551, 0.999995238, 0.999924242, 0.950185965, 0.9425, 0.906666667, 0.8471, 0.845458333, 0.800612676, 0.799963218, 0.771583333, 0.7504, 0.700079032, 0.562212644, 0.522844828, 0.500720126, 0.496549708, 1.050666667, 1.000018551, 0.950185965, 0.900135693, 0.900129762, 0.899111111, 0.870083333, 0.845833333, 0.800401961, 0.799963218, 0.771583333, 0.750520115, 0.750027778, 0.715766667, 0.662270115, 0.600224189, 0.545657673, 0.447916667, 0.365318713, 1.000018551, 0.928680556, 0.9008, 0.900135693, 0.900129762, 0.893066667, 0.891555556, 0.875555556, 0.840888889, 0.800355208, 0.799963218, 0.75065101, 0.750027778, 0.700618234, 0.610208333, 0.607416667, 0.568259587, 0.355534483, 0.353259649, 1.057962963, 0.962016667, 0.9008, 0.900509044, 0.900477825, 0.888125, 0.800401961, 0.800161172, 0.799963218, 0.790003236, 0.750648148, 0.707111111, 0.700618234, 0.697708333, 0.612517157, 0.350301724, 0.350301724, 0.272, 1.004888889, 0.966759259, 0.90063244, 0.90047076, 0.90047076, 0.899984058, 0.853666667, 0.8008, 0.800401961, 0.796755556, 0.750797009, 0.750648148, 0.750356125, 0.703770833, 0.700618234, 0.6895, 0.628333333, 0.500801724, 0.393548851, 1.033155556, 1.02, 1.000344928, 1.000065789, 0.994375, 0.912037037, 0.87, 0.850364583, 0.800947475, 0.800401961, 0.800144144, 0.750406233, 0.714410494, 0.700588406, 0.618361111, 0.600070513, 0.54175, 0.536901754, 0.507903226, 1.100483918, 1.096633333, 1.000344928, 0.838666667, 0.800401961, 0.755486111, 0.750799435, 0.688017677, 0.664875, 0.656666667, 0.637711864, 0.601944444, 0.58, 0.535677966, 0.50012336, 0.497885057, 0.463403955, 0.441392, 0.350301724, 1.000230409, 0.929277778, 0.902916667, 0.800888889, 0.800401961, 0.80037492, 0.796208333, 0.750392157, 0.750392157, 0.725625, 0.700206125, 0.602, 0.600447507, 0.557252451, 0.500801724, 0.483333333, 0.238041667, 1.1204375, 1.108125, 1.000230409, 0.876444444, 0.800806306, 0.760833333, 0.722568627, 0.715333333, 0.700632768, 0.700573099, 0.681598039, 0.650223718, 0.605208333, 0.604166667, 0.598627451, 0.475718391, 0.432122899, 0.287041667, 0.283054487, 1.000230409, 0.960433333, 0.891555556, 0.864583333, 0.802243319, 0.800980392, 0.800312375, 0.773333333, 0.75065101, 0.750356125, 0.722333333, 0.700459889, 0.629416667, 0.621971751, 0.565972222, 0.35542803, 0.329964879, 0.258, 1.000230409, 0.927541667, 0.91375, 0.9025, 0.800401961, 0.7866, 0.750621354, 0.750356125, 0.749166667, 0.700888203, 0.700614035, 0.700603448, 0.656666667, 0.653431373, 0.650134, 0.600982906, 0.586041667, 0.5814, 0.361071429, 0.302117347, 0.9918, 0.936861111, 0.919125, 0.8211125, 0.800980392, 0.800980392, 0.800401961, 0.800279693, 0.75065101, 0.75053268, 0.734645833, 0.700603448, 0.70009573, 0.671875, 0.64025, 0.58, 0.549791667, 0.328131579, 0.303574468, 0.2565, 0.251399254, 0.81640625, 0.800711494, 0.800470513, 0.800094017, 0.799982853, 0.785864198, 0.75065101, 0.733277778, 0.710125, 0.700603448, 0.700540441, 0.7, 0.684027778, 0.672135417, 0.638614379, 0.631354167, 0.611140537, 0.609583333, 0.585315789, 0.249416667, 0.8721, 0.8319375, 0.8300625, 0.805555556, 0.800401961, 0.80000295, 0.78375, 0.753525, 0.75065101, 0.727349537, 0.700614035, 0.700605263, 0.672140805, 0.627011183, 0.626577778, 0.456875, 0.393548851, 0.385791667, 0.307501459, 0.283958333, 0.955791667, 0.930416667, 0.9025, 0.87115, 0.800401961, 0.800137255, 0.800137255, 0.750770115, 0.75065101, 0.750293939, 0.700623, 0.700614035, 0.700362069, 0.60128, 0.417916667, 0.3715625, 0.3715625, 0.36871875, 0.356458333, 0.902222222, 0.811388889, 0.800401961, 0.800137255, 0.800071839, 0.791458333, 0.750727326, 0.75065101, 0.750437269, 0.750176991, 0.726933333, 0.726933333, 0.700623, 0.700518519, 0.700256795, 0.5046875, 0.471108491, 0.325, 0.268214286, 0.970816667, 0.902962963, 0.900833333, 0.899555556, 0.845833333, 0.800808642, 0.800401961, 0.800115819, 0.75065101, 0.750503571, 0.750206897, 0.700362069, 0.700069811, 0.700058333, 0.676666667, 0.658541667, 0.598792339, 0.581130952, 0.440375, 0.410833333, 0.410833333, 0.921703704, 0.921604938, 0.800808642, 0.800516667, 0.800401961, 0.768847222, 0.75065101, 0.750473684, 0.750371895, 0.750206897, 0.700251773, 0.66237931, 0.590617284, 0.5565625, 0.495617514, 0.449964912, 0.410833333, 0.4078125, 0.378895152, 0.376597222, 0.271875, 0.921703704, 0.921604938, 0.800779018, 0.800260821, 0.799982853, 0.768847222, 0.750716981, 0.75065101, 0.750425926, 0.750395513, 0.700236601, 0.700211111, 0.590617284, 0.5565625, 0.550403509, 0.550349708, 0.500258046, 0.410833333, 0.4078125, 0.376597222, 0.271875, 0.936355556, 0.813611111, 0.800401961, 0.75075, 0.75065101, 0.750473684, 0.750395513, 0.707446429, 0.700236601, 0.700019883, 0.683550607, 0.682433036, 0.673083333, 0.664583333, 0.600239766, 0.585, 0.579511494, 0.448722222, 0.447083333, 0.350416667, 0.92885, 0.86037037, 0.806879167, 0.800579532, 0.800401961, 0.8004, 0.800309211, 0.800149813, 0.800115819, 0.773333333, 0.750797009, 0.750473684, 0.750395513, 0.750254867, 0.700903571, 0.70013604, 0.632361111, 0.607654321, 0.537919444, 0.342361111, 0.999533333, 0.902962963, 0.800701754, 0.800566092, 0.800401961, 0.800333333, 0.800115819, 0.750770115, 0.750473684, 0.750395513, 0.750212553, 0.702777778, 0.700659649, 0.699984417, 0.636049383, 0.567377778, 0.555430556, 0.555430556, 0.463194444, 0.354444444, 0.309333333, 0.30277037, 0.939166667, 0.930416667, 0.885925926, 0.83375, 0.806879167, 0.806058333, 0.800701754, 0.800401961, 0.800333333, 0.800055762, 0.799975862, 0.750651724, 0.750395513, 0.700424138, 0.700058333, 0.684888889, 0.592083333, 0.5403125, 0.433263158, 0.404144928, 0.332146465, 0.980984848, 0.950625, 0.927291667, 0.868888889, 0.812625, 0.812625, 0.810111111, 0.800701754, 0.800534979, 0.800401961, 0.750651724, 0.750395513, 0.750050847, 0.700424138, 0.700422, 0.600099145, 0.453125, 0.366053523, 0.26369382, 0.868888889, 0.850520588, 0.850045, 0.825444444, 0.80575, 0.800746552, 0.800578947, 0.800034503, 0.7975, 0.749987124, 0.700422, 0.664875, 0.664875, 0.657083333, 0.65024031, 0.590740741, 0.528125, 0.500528095, 0.408960345, 0.951944444, 0.945555556, 0.929074074, 0.890604167, 0.890604167, 0.884, 0.857916667, 0.850084211, 0.85007069, 0.800511068, 0.800401961, 0.800034503, 0.755208333, 0.750371895, 0.700422, 0.700106061, 0.601037091, 0.600528571, 0.500033898, 0.4509375, 0.441041667, 0.271875, 0.960625, 0.902962963, 0.864342593, 0.850446154, 0.850426891, 0.841, 0.800842424, 0.800401961, 0.800034503, 0.795416667, 0.7953875, 0.794566667, 0.750395513, 0.700516224, 0.700422, 0.6825, 0.650962281, 0.650421429, 0.600040678, 0.500610909, 0.477291667, 0.2640625, 0.92, 0.909391667, 0.900061017, 0.894444444, 0.881575, 0.880754167, 0.850084211, 0.821666667, 0.800401961, 0.800071839, 0.800034503, 0.758229167, 0.750608, 0.750395513, 0.741, 0.700505263, 0.700246491, 0.700051852, 0.650044068, 0.630402924, 0.560625, 0.560625, 0.39875, 0.922839506, 0.874027778, 0.819270833, 0.813309028, 0.812625, 0.800401961, 0.800071839, 0.800034503, 0.786631944, 0.75885, 0.750608, 0.750347333, 0.750140741, 0.750050847, 0.750050847, 0.700556897, 0.700505263, 0.700246491, 0.650596491, 0.628333333, 0.625625, 0.625625, 0.505888889, 0.394722222], \"y0\": \" \", \"yaxis\": \"y\"}, {\"alignmentgroup\": \"True\", \"box\": {\"visible\": true}, \"hovertemplate\": \"department=finishing<br>actual_productivity=%{y}<extra></extra>\", \"legendgroup\": \"finishing\", \"marker\": {\"color\": \"#EF553B\"}, \"name\": \"finishing\", \"offsetgroup\": \"finishing\", \"orientation\": \"v\", \"points\": \"all\", \"scalegroup\": \"True\", \"showlegend\": true, \"type\": \"violin\", \"x0\": \" \", \"xaxis\": \"x\", \"y\": [0.8865, 0.755166667, 0.705916667, 0.676666667, 0.593055556, 0.540729167, 0.988024691, 0.987880435, 0.956270833, 0.945277778, 0.902916667, 0.782447917, 0.7018125, 0.628333333, 0.6253125, 0.991388889, 0.931645833, 0.915229167, 0.861679012, 0.792104167, 0.759228395, 0.682708333, 0.667604167, 0.345833333, 0.961059028, 0.939513889, 0.893663194, 0.875390625, 0.820833333, 0.804416667, 0.763375, 0.759270833, 0.676666667, 0.664583333, 0.966781346, 0.936496212, 0.899166667, 0.888686869, 0.858143939, 0.809640152, 0.805909091, 0.681060606, 0.61625, 0.951420455, 0.880530303, 0.83, 0.827186544, 0.813371212, 0.805909091, 0.804640152, 0.681060606, 0.666515152, 0.330113636, 0.947689394, 0.919905405, 0.891723485, 0.835757576, 0.821354167, 0.779791667, 0.735984848, 0.712626263, 0.681060606, 0.515606061, 0.985, 0.930340376, 0.911589744, 0.858143939, 0.846950758, 0.817424242, 0.817102273, 0.670075758, 0.628882576, 0.337973485, 0.93532197, 0.925643939, 0.873068182, 0.858143939, 0.828295455, 0.820833333, 0.668087121, 0.653598485, 0.609138258, 0.597348485, 0.590435606, 0.955151515, 0.942213805, 0.905454545, 0.880530303, 0.858143939, 0.817424242, 0.809564394, 0.725, 0.648106061, 0.640577652, 0.24625, 0.952020202, 0.951420455, 0.912766667, 0.901262626, 0.858143939, 0.821354167, 0.805909091, 0.681060606, 0.670075758, 0.601278409, 0.934607438, 0.908080808, 0.891723485, 0.864583333, 0.858143939, 0.837594697, 0.820833333, 0.667329545, 0.332359307, 0.247316017, 0.988636364, 0.953110048, 0.884261364, 0.860653409, 0.858143939, 0.689299242, 0.606912879, 0.98719697, 0.980909091, 0.974621212, 0.884261364, 0.82680303, 0.675568182, 0.661837121, 0.465757576, 0.313852814, 0.852793561, 0.838383838, 0.804848485, 0.692045455, 0.639867424, 0.582045455, 0.235795455, 0.977272727, 0.964106061, 0.958901515, 0.793844697, 0.683806818, 0.538399621, 0.409545455, 1.033570076, 0.72830303, 0.639867424, 0.362666667, 0.978525641, 0.912202112, 0.827147436, 0.758173077, 0.594871795, 0.505128205, 0.470769231, 0.957638889, 0.940701058, 0.742901235, 0.670216049, 0.649662222, 0.649662222, 0.626822917, 0.460578704, 0.397743056, 0.327407407, 0.966666667, 0.937242424, 0.910521886, 0.896022727, 0.895454545, 0.870580808, 0.858585859, 0.651515152, 0.578314394, 0.578314394, 0.261174242, 0.973796791, 0.970075758, 0.970075758, 0.961784512, 0.955151515, 0.952020202, 0.749188312, 0.618181818, 0.329545455, 1.059621212, 0.997792208, 0.963699495, 0.959191919, 0.910378788, 0.910378788, 0.769292929, 0.646306818, 0.979527778, 0.940625, 0.926388889, 0.861875, 0.845458333, 0.823555556, 0.803541667, 0.788, 0.77815, 0.6225, 0.977555556, 0.9456, 0.902222222, 0.840533333, 0.755555556, 0.722638889, 0.553333333, 0.406354167, 0.259375, 0.989, 0.899, 0.877552083, 0.864583333, 0.85695, 0.853666667, 0.773333333, 0.634666667, 0.4925, 0.971866667, 0.971866667, 0.971866667, 0.971866667, 0.971866667, 0.971866667, 0.971866667, 0.971866667, 0.971866667, 0.971866667, 0.971866667, 0.971866667, 1.0115625, 0.950438596, 0.912766667, 0.892194444, 0.8865, 0.845069444, 0.702666667, 0.314166667, 0.994270833, 0.85695, 0.809236111, 0.740444444, 0.561979167, 0.504596491, 0.280333333, 1.001416667, 0.99485, 0.976979167, 0.919954545, 0.778222222, 0.5375, 0.495416667, 0.687555556], \"y0\": \" \", \"yaxis\": \"y\"}],                        {\"legend\": {\"title\": {\"text\": \"department\"}, \"tracegroupgap\": 0}, \"margin\": {\"t\": 60}, \"template\": {\"data\": {\"bar\": [{\"error_x\": {\"color\": \"#2a3f5f\"}, \"error_y\": {\"color\": \"#2a3f5f\"}, \"marker\": {\"line\": {\"color\": \"#E5ECF6\", \"width\": 0.5}}, \"type\": \"bar\"}], \"barpolar\": [{\"marker\": {\"line\": {\"color\": \"#E5ECF6\", \"width\": 0.5}}, \"type\": \"barpolar\"}], \"carpet\": [{\"aaxis\": {\"endlinecolor\": \"#2a3f5f\", \"gridcolor\": \"white\", \"linecolor\": \"white\", \"minorgridcolor\": \"white\", \"startlinecolor\": \"#2a3f5f\"}, \"baxis\": {\"endlinecolor\": \"#2a3f5f\", \"gridcolor\": \"white\", \"linecolor\": \"white\", \"minorgridcolor\": \"white\", \"startlinecolor\": \"#2a3f5f\"}, \"type\": \"carpet\"}], \"choropleth\": [{\"colorbar\": {\"outlinewidth\": 0, \"ticks\": \"\"}, \"type\": \"choropleth\"}], \"contour\": [{\"colorbar\": {\"outlinewidth\": 0, \"ticks\": \"\"}, \"colorscale\": [[0.0, \"#0d0887\"], [0.1111111111111111, \"#46039f\"], [0.2222222222222222, \"#7201a8\"], [0.3333333333333333, \"#9c179e\"], [0.4444444444444444, \"#bd3786\"], [0.5555555555555556, \"#d8576b\"], [0.6666666666666666, \"#ed7953\"], [0.7777777777777778, \"#fb9f3a\"], [0.8888888888888888, \"#fdca26\"], [1.0, \"#f0f921\"]], \"type\": \"contour\"}], \"contourcarpet\": [{\"colorbar\": {\"outlinewidth\": 0, \"ticks\": \"\"}, \"type\": \"contourcarpet\"}], \"heatmap\": [{\"colorbar\": {\"outlinewidth\": 0, \"ticks\": \"\"}, \"colorscale\": [[0.0, \"#0d0887\"], [0.1111111111111111, \"#46039f\"], [0.2222222222222222, \"#7201a8\"], [0.3333333333333333, \"#9c179e\"], [0.4444444444444444, \"#bd3786\"], [0.5555555555555556, \"#d8576b\"], [0.6666666666666666, \"#ed7953\"], [0.7777777777777778, \"#fb9f3a\"], [0.8888888888888888, \"#fdca26\"], [1.0, \"#f0f921\"]], \"type\": \"heatmap\"}], \"heatmapgl\": [{\"colorbar\": {\"outlinewidth\": 0, \"ticks\": \"\"}, \"colorscale\": [[0.0, \"#0d0887\"], [0.1111111111111111, \"#46039f\"], [0.2222222222222222, \"#7201a8\"], [0.3333333333333333, \"#9c179e\"], [0.4444444444444444, \"#bd3786\"], [0.5555555555555556, \"#d8576b\"], [0.6666666666666666, \"#ed7953\"], [0.7777777777777778, \"#fb9f3a\"], [0.8888888888888888, \"#fdca26\"], [1.0, \"#f0f921\"]], \"type\": \"heatmapgl\"}], \"histogram\": [{\"marker\": {\"colorbar\": {\"outlinewidth\": 0, \"ticks\": \"\"}}, \"type\": \"histogram\"}], \"histogram2d\": [{\"colorbar\": {\"outlinewidth\": 0, \"ticks\": \"\"}, \"colorscale\": [[0.0, \"#0d0887\"], [0.1111111111111111, \"#46039f\"], [0.2222222222222222, \"#7201a8\"], [0.3333333333333333, \"#9c179e\"], [0.4444444444444444, \"#bd3786\"], [0.5555555555555556, \"#d8576b\"], [0.6666666666666666, \"#ed7953\"], [0.7777777777777778, \"#fb9f3a\"], [0.8888888888888888, \"#fdca26\"], [1.0, \"#f0f921\"]], \"type\": \"histogram2d\"}], \"histogram2dcontour\": [{\"colorbar\": {\"outlinewidth\": 0, \"ticks\": \"\"}, \"colorscale\": [[0.0, \"#0d0887\"], [0.1111111111111111, \"#46039f\"], [0.2222222222222222, \"#7201a8\"], [0.3333333333333333, \"#9c179e\"], [0.4444444444444444, \"#bd3786\"], [0.5555555555555556, \"#d8576b\"], [0.6666666666666666, \"#ed7953\"], [0.7777777777777778, \"#fb9f3a\"], [0.8888888888888888, \"#fdca26\"], [1.0, \"#f0f921\"]], \"type\": \"histogram2dcontour\"}], \"mesh3d\": [{\"colorbar\": {\"outlinewidth\": 0, \"ticks\": \"\"}, \"type\": \"mesh3d\"}], \"parcoords\": [{\"line\": {\"colorbar\": {\"outlinewidth\": 0, \"ticks\": \"\"}}, \"type\": \"parcoords\"}], \"pie\": [{\"automargin\": true, \"type\": \"pie\"}], \"scatter\": [{\"marker\": {\"colorbar\": {\"outlinewidth\": 0, \"ticks\": \"\"}}, \"type\": \"scatter\"}], \"scatter3d\": [{\"line\": {\"colorbar\": {\"outlinewidth\": 0, \"ticks\": \"\"}}, \"marker\": {\"colorbar\": {\"outlinewidth\": 0, \"ticks\": \"\"}}, \"type\": \"scatter3d\"}], \"scattercarpet\": [{\"marker\": {\"colorbar\": {\"outlinewidth\": 0, \"ticks\": \"\"}}, \"type\": \"scattercarpet\"}], \"scattergeo\": [{\"marker\": {\"colorbar\": {\"outlinewidth\": 0, \"ticks\": \"\"}}, \"type\": \"scattergeo\"}], \"scattergl\": [{\"marker\": {\"colorbar\": {\"outlinewidth\": 0, \"ticks\": \"\"}}, \"type\": \"scattergl\"}], \"scattermapbox\": [{\"marker\": {\"colorbar\": {\"outlinewidth\": 0, \"ticks\": \"\"}}, \"type\": \"scattermapbox\"}], \"scatterpolar\": [{\"marker\": {\"colorbar\": {\"outlinewidth\": 0, \"ticks\": \"\"}}, \"type\": \"scatterpolar\"}], \"scatterpolargl\": [{\"marker\": {\"colorbar\": {\"outlinewidth\": 0, \"ticks\": \"\"}}, \"type\": \"scatterpolargl\"}], \"scatterternary\": [{\"marker\": {\"colorbar\": {\"outlinewidth\": 0, \"ticks\": \"\"}}, \"type\": \"scatterternary\"}], \"surface\": [{\"colorbar\": {\"outlinewidth\": 0, \"ticks\": \"\"}, \"colorscale\": [[0.0, \"#0d0887\"], [0.1111111111111111, \"#46039f\"], [0.2222222222222222, \"#7201a8\"], [0.3333333333333333, \"#9c179e\"], [0.4444444444444444, \"#bd3786\"], [0.5555555555555556, \"#d8576b\"], [0.6666666666666666, \"#ed7953\"], [0.7777777777777778, \"#fb9f3a\"], [0.8888888888888888, \"#fdca26\"], [1.0, \"#f0f921\"]], \"type\": \"surface\"}], \"table\": [{\"cells\": {\"fill\": {\"color\": \"#EBF0F8\"}, \"line\": {\"color\": \"white\"}}, \"header\": {\"fill\": {\"color\": \"#C8D4E3\"}, \"line\": {\"color\": \"white\"}}, \"type\": \"table\"}]}, \"layout\": {\"annotationdefaults\": {\"arrowcolor\": \"#2a3f5f\", \"arrowhead\": 0, \"arrowwidth\": 1}, \"autotypenumbers\": \"strict\", \"coloraxis\": {\"colorbar\": {\"outlinewidth\": 0, \"ticks\": \"\"}}, \"colorscale\": {\"diverging\": [[0, \"#8e0152\"], [0.1, \"#c51b7d\"], [0.2, \"#de77ae\"], [0.3, \"#f1b6da\"], [0.4, \"#fde0ef\"], [0.5, \"#f7f7f7\"], [0.6, \"#e6f5d0\"], [0.7, \"#b8e186\"], [0.8, \"#7fbc41\"], [0.9, \"#4d9221\"], [1, \"#276419\"]], \"sequential\": [[0.0, \"#0d0887\"], [0.1111111111111111, \"#46039f\"], [0.2222222222222222, \"#7201a8\"], [0.3333333333333333, \"#9c179e\"], [0.4444444444444444, \"#bd3786\"], [0.5555555555555556, \"#d8576b\"], [0.6666666666666666, \"#ed7953\"], [0.7777777777777778, \"#fb9f3a\"], [0.8888888888888888, \"#fdca26\"], [1.0, \"#f0f921\"]], \"sequentialminus\": [[0.0, \"#0d0887\"], [0.1111111111111111, \"#46039f\"], [0.2222222222222222, \"#7201a8\"], [0.3333333333333333, \"#9c179e\"], [0.4444444444444444, \"#bd3786\"], [0.5555555555555556, \"#d8576b\"], [0.6666666666666666, \"#ed7953\"], [0.7777777777777778, \"#fb9f3a\"], [0.8888888888888888, \"#fdca26\"], [1.0, \"#f0f921\"]]}, \"colorway\": [\"#636efa\", \"#EF553B\", \"#00cc96\", \"#ab63fa\", \"#FFA15A\", \"#19d3f3\", \"#FF6692\", \"#B6E880\", \"#FF97FF\", \"#FECB52\"], \"font\": {\"color\": \"#2a3f5f\"}, \"geo\": {\"bgcolor\": \"white\", \"lakecolor\": \"white\", \"landcolor\": \"#E5ECF6\", \"showlakes\": true, \"showland\": true, \"subunitcolor\": \"white\"}, \"hoverlabel\": {\"align\": \"left\"}, \"hovermode\": \"closest\", \"mapbox\": {\"style\": \"light\"}, \"paper_bgcolor\": \"white\", \"plot_bgcolor\": \"#E5ECF6\", \"polar\": {\"angularaxis\": {\"gridcolor\": \"white\", \"linecolor\": \"white\", \"ticks\": \"\"}, \"bgcolor\": \"#E5ECF6\", \"radialaxis\": {\"gridcolor\": \"white\", \"linecolor\": \"white\", \"ticks\": \"\"}}, \"scene\": {\"xaxis\": {\"backgroundcolor\": \"#E5ECF6\", \"gridcolor\": \"white\", \"gridwidth\": 2, \"linecolor\": \"white\", \"showbackground\": true, \"ticks\": \"\", \"zerolinecolor\": \"white\"}, \"yaxis\": {\"backgroundcolor\": \"#E5ECF6\", \"gridcolor\": \"white\", \"gridwidth\": 2, \"linecolor\": \"white\", \"showbackground\": true, \"ticks\": \"\", \"zerolinecolor\": \"white\"}, \"zaxis\": {\"backgroundcolor\": \"#E5ECF6\", \"gridcolor\": \"white\", \"gridwidth\": 2, \"linecolor\": \"white\", \"showbackground\": true, \"ticks\": \"\", \"zerolinecolor\": \"white\"}}, \"shapedefaults\": {\"line\": {\"color\": \"#2a3f5f\"}}, \"ternary\": {\"aaxis\": {\"gridcolor\": \"white\", \"linecolor\": \"white\", \"ticks\": \"\"}, \"baxis\": {\"gridcolor\": \"white\", \"linecolor\": \"white\", \"ticks\": \"\"}, \"bgcolor\": \"#E5ECF6\", \"caxis\": {\"gridcolor\": \"white\", \"linecolor\": \"white\", \"ticks\": \"\"}}, \"title\": {\"x\": 0.05}, \"xaxis\": {\"automargin\": true, \"gridcolor\": \"white\", \"linecolor\": \"white\", \"ticks\": \"\", \"title\": {\"standoff\": 15}, \"zerolinecolor\": \"white\", \"zerolinewidth\": 2}, \"yaxis\": {\"automargin\": true, \"gridcolor\": \"white\", \"linecolor\": \"white\", \"ticks\": \"\", \"title\": {\"standoff\": 15}, \"zerolinecolor\": \"white\", \"zerolinewidth\": 2}}}, \"violinmode\": \"group\", \"xaxis\": {\"anchor\": \"y\", \"domain\": [0.0, 1.0]}, \"yaxis\": {\"anchor\": \"x\", \"domain\": [0.0, 1.0], \"title\": {\"text\": \"actual_productivity\"}}},                        {\"responsive\": true}                    ).then(function(){\n",
       "                            \n",
       "var gd = document.getElementById('df9d9f7c-6e6d-4690-a29c-cef4a46230f6');\n",
       "var x = new MutationObserver(function (mutations, observer) {{\n",
       "        var display = window.getComputedStyle(gd).display;\n",
       "        if (!display || display === 'none') {{\n",
       "            console.log([gd, 'removed!']);\n",
       "            Plotly.purge(gd);\n",
       "            observer.disconnect();\n",
       "        }}\n",
       "}});\n",
       "\n",
       "// Listen for the removal of the full notebook cells\n",
       "var notebookContainer = gd.closest('#notebook-container');\n",
       "if (notebookContainer) {{\n",
       "    x.observe(notebookContainer, {childList: true});\n",
       "}}\n",
       "\n",
       "// Listen for the clearing of the current output cell\n",
       "var outputEl = gd.closest('.output');\n",
       "if (outputEl) {{\n",
       "    x.observe(outputEl, {childList: true});\n",
       "}}\n",
       "\n",
       "                        })                };                });            </script>        </div>"
      ]
     },
     "metadata": {}
    }
   ],
   "metadata": {
    "execution": {
     "iopub.execute_input": "2021-04-10T14:15:09.267012Z",
     "iopub.status.busy": "2021-04-10T14:15:09.265972Z",
     "iopub.status.idle": "2021-04-10T14:15:09.350612Z",
     "shell.execute_reply": "2021-04-10T14:15:09.350014Z"
    },
    "papermill": {
     "duration": 0.138686,
     "end_time": "2021-04-10T14:15:09.350766",
     "exception": false,
     "start_time": "2021-04-10T14:15:09.212080",
     "status": "completed"
    },
    "tags": []
   }
  },
  {
   "cell_type": "code",
   "execution_count": 24,
   "source": [
    "fig = px.scatter(df, y=\"actual_productivity\",x=\"targeted_productivity\", color='department'\n",
    "             )\n",
    "fig.update_layout(title_text='Actual vs Targeted Productivity',title_x=0.5,font=dict(\n",
    "        family=\"Courier New, monospace\",\n",
    "        size=18,\n",
    "        color=\"rosybrown\"\n",
    "    ))\n",
    "\n",
    "fig.show()"
   ],
   "outputs": [
    {
     "output_type": "display_data",
     "data": {
      "text/html": [
       "<div>                            <div id=\"83805580-9d31-47c2-baa0-d27459b84890\" class=\"plotly-graph-div\" style=\"height:525px; width:100%;\"></div>            <script type=\"text/javascript\">                require([\"plotly\"], function(Plotly) {                    window.PLOTLYENV=window.PLOTLYENV || {};                                    if (document.getElementById(\"83805580-9d31-47c2-baa0-d27459b84890\")) {                    Plotly.newPlot(                        \"83805580-9d31-47c2-baa0-d27459b84890\",                        [{\"hovertemplate\": \"department=sewing<br>targeted_productivity=%{x}<br>actual_productivity=%{y}<extra></extra>\", \"legendgroup\": \"sewing\", \"marker\": {\"color\": \"#636efa\", \"symbol\": \"circle\"}, \"mode\": \"markers\", \"name\": \"sewing\", \"showlegend\": true, \"type\": \"scattergl\", \"x\": [0.8, 0.8, 0.8, 0.8, 0.8, 0.75, 0.75, 0.75, 0.7, 0.75, 0.8, 0.65, 0.7, 0.8, 0.8, 0.8, 0.8, 0.8, 0.8, 0.8, 0.8, 0.75, 0.75, 0.7, 0.7, 0.8, 0.8, 0.8, 0.8, 0.8, 0.8, 0.8, 0.8, 0.75, 0.75, 0.7, 0.7, 0.8, 0.8, 0.8, 0.8, 0.8, 0.8, 0.8, 0.8, 0.8, 0.75, 0.75, 0.6, 0.8, 0.8, 0.8, 0.8, 0.8, 0.8, 0.8, 0.8, 0.8, 0.75, 0.75, 0.65, 0.8, 0.8, 0.8, 0.8, 0.8, 0.8, 0.8, 0.8, 0.8, 0.75, 0.7, 0.8, 0.8, 0.8, 0.8, 0.8, 0.8, 0.8, 0.8, 0.8, 0.8, 0.75, 0.35, 0.7, 0.8, 0.8, 0.8, 0.8, 0.8, 0.8, 0.8, 0.8, 0.8, 0.75, 0.5, 0.5, 0.8, 0.8, 0.8, 0.8, 0.8, 0.8, 0.8, 0.8, 0.8, 0.6, 0.8, 0.6, 0.8, 0.8, 0.8, 0.8, 0.8, 0.8, 0.8, 0.8, 0.8, 0.65, 0.65, 0.35, 0.8, 0.8, 0.8, 0.8, 0.8, 0.8, 0.8, 0.8, 0.7, 0.7, 0.5, 0.35, 0.8, 0.8, 0.8, 0.8, 0.8, 0.8, 0.7, 0.6, 0.5, 0.35, 0.8, 0.8, 0.8, 0.8, 0.8, 0.8, 0.8, 0.7, 0.5, 0.65, 0.6, 0.5, 0.5, 0.8, 0.8, 0.8, 0.8, 0.8, 0.8, 0.6, 0.7, 0.65, 0.6, 0.6, 0.7, 0.8, 0.8, 0.8, 0.8, 0.7, 0.7, 0.8, 0.65, 0.65, 0.65, 0.6, 0.8, 0.8, 0.8, 0.8, 0.7, 0.7, 0.7, 0.7, 0.7, 0.65, 0.8, 0.5, 0.35, 0.8, 0.8, 0.8, 0.7, 0.7, 0.7, 0.7, 0.7, 0.7, 0.5, 0.35, 0.75, 0.8, 0.8, 0.7, 0.7, 0.7, 0.7, 0.7, 0.65, 0.6, 0.8, 0.5, 0.75, 0.7, 0.8, 0.75, 0.7, 0.7, 0.7, 0.7, 0.6, 0.6, 0.8, 0.5, 0.75, 0.75, 0.7, 0.75, 0.8, 0.75, 0.75, 0.75, 0.7, 0.65, 0.6, 0.35, 0.75, 0.75, 0.7, 0.75, 0.8, 0.75, 0.7, 0.7, 0.7, 0.65, 0.75, 0.5, 0.8, 0.8, 0.75, 0.75, 0.7, 0.75, 0.75, 0.7, 0.7, 0.6, 0.35, 0.75, 0.75, 0.8, 0.8, 0.75, 0.7, 0.7, 0.65, 0.8, 0.5, 0.5, 0.8, 0.8, 0.8, 0.75, 0.6, 0.8, 0.7, 0.75, 0.5, 0.7, 0.35, 0.6, 0.8, 0.8, 0.8, 0.8, 0.75, 0.7, 0.65, 0.75, 0.6, 0.5, 0.65, 0.8, 0.8, 0.8, 0.8, 0.75, 0.75, 0.75, 0.7, 0.65, 0.6, 0.7, 0.5, 0.8, 0.8, 0.8, 0.8, 0.8, 0.75, 0.75, 0.7, 0.65, 0.6, 0.7, 0.8, 0.8, 0.8, 0.8, 0.8, 0.8, 0.75, 0.7, 0.7, 0.5, 0.7, 0.65, 0.8, 0.8, 0.8, 0.8, 0.8, 0.8, 0.75, 0.7, 0.7, 0.7, 0.7, 0.6, 0.8, 0.8, 0.8, 0.8, 0.8, 0.7, 0.8, 0.8, 0.8, 0.7, 0.75, 0.7, 0.7, 0.7, 0.7, 0.65, 0.7, 0.35, 0.8, 0.8, 0.8, 0.8, 0.8, 0.7, 0.8, 0.7, 0.8, 0.8, 0.8, 0.8, 0.75, 0.7, 0.7, 0.07, 0.5, 0.7, 0.8, 0.8, 0.8, 0.8, 0.8, 0.8, 0.8, 0.75, 0.8, 0.8, 0.8, 0.75, 0.75, 0.7, 0.7, 0.6, 0.7, 0.8, 0.7, 0.8, 0.7, 0.8, 0.8, 0.8, 0.8, 0.8, 0.8, 0.7, 0.8, 0.8, 0.75, 0.75, 0.7, 0.75, 0.8, 0.65, 0.7, 0.7, 0.8, 0.8, 0.8, 0.8, 0.8, 0.75, 0.8, 0.8, 0.8, 0.7, 0.75, 0.35, 0.7, 0.8, 0.75, 0.35, 0.35, 0.8, 0.8, 0.8, 0.8, 0.8, 0.8, 0.8, 0.8, 0.8, 0.8, 0.7, 0.75, 0.8, 0.75, 0.35, 0.7, 0.8, 0.75, 0.5, 0.5, 0.7, 0.8, 0.8, 0.8, 0.35, 0.8, 0.7, 0.8, 0.8, 0.8, 0.8, 0.75, 0.6, 0.7, 0.8, 0.6, 0.8, 0.8, 0.35, 0.8, 0.7, 0.8, 0.8, 0.8, 0.35, 0.75, 0.8, 0.8, 0.8, 0.7, 0.8, 0.7, 0.65, 0.5, 0.8, 0.65, 0.8, 0.35, 0.8, 0.7, 0.75, 0.8, 0.8, 0.8, 0.8, 0.75, 0.75, 0.7, 0.7, 0.7, 0.6, 0.8, 0.5, 0.8, 0.8, 0.8, 0.8, 0.8, 0.8, 0.8, 0.75, 0.8, 0.6, 0.7, 0.7, 0.75, 0.65, 0.7, 0.8, 0.75, 0.6, 0.8, 0.75, 0.5, 0.8, 0.8, 0.8, 0.5, 0.65, 0.8, 0.8, 0.8, 0.75, 0.75, 0.75, 0.7, 0.75, 0.7, 0.7, 0.6, 0.6, 0.7, 0.8, 0.8, 0.7, 0.8, 0.8, 0.5, 0.75, 0.75, 0.8, 0.7, 0.7, 0.7, 0.75, 0.8, 0.65, 0.6, 0.8, 0.8, 0.5, 0.65, 0.8, 0.8, 0.8, 0.7, 0.8, 0.8, 0.8, 0.8, 0.75, 0.75, 0.75, 0.7, 0.7, 0.7, 0.8, 0.7, 0.8, 0.6, 0.7, 0.5, 0.65, 0.5, 0.8, 0.8, 0.8, 0.8, 0.8, 0.75, 0.8, 0.8, 0.7, 0.7, 0.7, 0.75, 0.7, 0.7, 0.75, 0.75, 0.8, 0.65, 0.7, 0.5, 0.8, 0.8, 0.6, 0.8, 0.8, 0.8, 0.8, 0.75, 0.8, 0.7, 0.7, 0.75, 0.7, 0.7, 0.7, 0.75, 0.8, 0.8, 0.7, 0.8, 0.7, 0.8, 0.8, 0.8, 0.8, 0.8, 0.75, 0.75, 0.75, 0.7, 0.7, 0.7, 0.7, 0.7, 0.8, 0.8, 0.8, 0.7, 0.7, 0.8, 0.8, 0.8, 0.8, 0.7, 0.75, 0.75, 0.75, 0.75, 0.75, 0.7, 0.7, 0.7, 0.7, 0.7, 0.7, 0.7, 0.6, 0.75, 0.8, 0.8, 0.8, 0.7, 0.8, 0.8, 0.8, 0.75, 0.75, 0.75, 0.7, 0.7, 0.7, 0.75, 0.7, 0.8, 0.65, 0.7, 0.75, 0.7, 0.8, 0.8, 0.8, 0.8, 0.8, 0.5, 0.75, 0.75, 0.75, 0.75, 0.7, 0.7, 0.8, 0.7, 0.8, 0.35, 0.7, 0.75, 0.35, 0.75, 0.75, 0.8, 0.8, 0.8, 0.8, 0.8, 0.5, 0.75, 0.75, 0.75, 0.75, 0.7, 0.7, 0.8, 0.7, 0.5, 0.5, 0.5, 0.7, 0.75, 0.75, 0.75, 0.8, 0.75, 0.8, 0.75, 0.75, 0.75, 0.75, 0.6, 0.7, 0.6, 0.7, 0.8, 0.6, 0.7, 0.6, 0.7, 0.8, 0.6, 0.75, 0.8, 0.7, 0.8, 0.65, 0.65, 0.8, 0.75, 0.8, 0.8, 0.8, 0.75, 0.75, 0.75, 0.75, 0.65, 0.65, 0.7, 0.7, 0.8, 0.65, 0.8, 0.8, 0.8, 0.8, 0.7, 0.8, 0.8, 0.8, 0.7, 0.75, 0.75, 0.75, 0.75, 0.7, 0.7, 0.8, 0.4, 0.7, 0.7, 0.7, 0.7, 0.75, 0.4, 0.8, 0.8, 0.8, 0.75, 0.7, 0.7, 0.8, 0.8, 0.8, 0.8, 0.7, 0.7, 0.75, 0.7, 0.7, 0.8, 0.7, 0.5, 0.8, 0.5, 0.75, 0.8, 0.6, 0.8, 0.8, 0.7, 0.7, 0.8, 0.8, 0.8, 0.8, 0.7, 0.75, 0.7, 0.7, 0.7, 0.6, 0.75, 0.8, 0.35, 0.8, 0.8, 0.7, 0.8, 0.35, 0.7, 0.8, 0.8, 0.5, 0.75, 0.7, 0.7, 0.7, 0.8, 0.65, 0.8, 0.65, 0.5, 0.7, 0.8, 0.8, 0.75, 0.75, 0.75, 0.7, 0.5, 0.75, 0.75, 0.8, 0.8, 0.8, 0.8, 0.75, 0.7, 0.7, 0.6, 0.6, 0.5, 0.6, 0.7, 0.6, 0.8, 0.8, 0.6, 0.75, 0.75, 0.75, 0.8, 0.8, 0.8, 0.8, 0.75, 0.75, 0.75, 0.7, 0.7, 0.7, 0.65, 0.65, 0.6, 0.5, 0.7, 0.65, 0.8, 0.6, 0.75, 0.8, 0.75, 0.75, 0.75, 0.75, 0.8, 0.8, 0.8, 0.8, 0.75, 0.75, 0.7, 0.7, 0.7, 0.7, 0.65, 0.6, 0.65, 0.5, 0.7, 0.8, 0.8, 0.75, 0.75, 0.75, 0.8, 0.8, 0.8, 0.8, 0.7, 0.75, 0.75, 0.75, 0.75, 0.75, 0.7, 0.7, 0.7, 0.65, 0.75, 0.7, 0.65, 0.75, 0.7], \"xaxis\": \"x\", \"y\": [0.940725424, 0.800570492, 0.800570492, 0.800381944, 0.800125, 0.753683478, 0.753097531, 0.750427826, 0.721126957, 0.712205247, 0.707045902, 0.52118, 0.436326389, 0.800725314, 0.800322936, 0.800318644, 0.800318644, 0.800237288, 0.800148649, 0.800125, 0.800125, 0.787299691, 0.75024303, 0.700134038, 0.699965217, 0.879714482, 0.850569492, 0.850436438, 0.850345133, 0.800598058, 0.800318644, 0.800237838, 0.800030199, 0.750348457, 0.75024303, 0.699965217, 0.603432184, 0.850569492, 0.800684366, 0.800684366, 0.800318644, 0.800250962, 0.800246011, 0.800246011, 0.800076522, 0.800076522, 0.7504, 0.75024303, 0.600028736, 0.850502311, 0.850502311, 0.800594466, 0.800594466, 0.800273829, 0.800140969, 0.800128721, 0.800128721, 0.80007657, 0.750545455, 0.750057851, 0.649983281, 0.850502311, 0.850502311, 0.850136766, 0.800594466, 0.800594466, 0.800343766, 0.800273829, 0.800246753, 0.800128721, 0.8, 0.700480831, 0.412119835, 0.900215716, 0.850502311, 0.850181818, 0.850136766, 0.850136766, 0.800497246, 0.800273829, 0.800107143, 0.800024932, 0.8, 0.349951389, 0.233705476, 0.851174114, 0.850136766, 0.850136766, 0.801028213, 0.800594466, 0.800346445, 0.800343766, 0.800117103, 0.8, 0.750098351, 0.673245283, 0.388007813, 0.900215716, 0.850502311, 0.850136766, 0.850136766, 0.800343766, 0.800246753, 0.8, 0.8, 0.690182815, 0.600229846, 0.473134796, 0.452979626, 0.850522167, 0.850502311, 0.850136766, 0.850136766, 0.800273829, 0.800181818, 0.80007657, 0.8, 0.688557555, 0.650040783, 0.64998056, 0.35063299, 0.850502311, 0.850502311, 0.850252525, 0.850136766, 0.800246753, 0.800246753, 0.8, 0.705576584, 0.582301029, 0.526810345, 0.500380799, 0.35020649, 0.900144811, 0.850502311, 0.850136766, 0.800313433, 0.800246753, 0.800117103, 0.700095563, 0.600369686, 0.499980334, 0.35003125, 0.311207464, 0.850502311, 0.850415628, 0.850136766, 0.800117103, 0.80003139, 0.80003139, 0.700060345, 0.660683293, 0.650130952, 0.600291767, 0.500025069, 0.499998888, 0.800343766, 0.800246753, 0.800128721, 0.800128721, 0.800117103, 0.800117103, 0.77011398, 0.7005417, 0.650198653, 0.600291767, 0.600273268, 0.452012539, 0.800343766, 0.800128721, 0.800128721, 0.800015009, 0.7005417, 0.700094156, 0.662255892, 0.650416734, 0.650299575, 0.650243497, 0.600062696, 0.403242161, 0.800358775, 0.800162602, 0.800117103, 0.750517565, 0.750068049, 0.750062751, 0.750057359, 0.700170388, 0.650066445, 0.576460393, 0.549969429, 0.35021836, 0.800261486, 0.800128721, 0.800117103, 0.750068049, 0.750057359, 0.750037968, 0.750031898, 0.700170388, 0.700063796, 0.500290419, 0.400332792, 0.900556277, 0.850410511, 0.800436542, 0.800415742, 0.800020563, 0.750344828, 0.750068049, 0.700170388, 0.700029771, 0.60017284, 0.520237649, 0.500241342, 0.849983766, 0.800302791, 0.800191989, 0.800020563, 0.750162367, 0.750068049, 0.700250784, 0.700170388, 0.600436426, 0.60041361, 0.555500132, 0.500547544, 0.90064806, 0.900321106, 0.800643806, 0.80062987, 0.800537143, 0.80035194, 0.750079323, 0.750041201, 0.700250784, 0.650416734, 0.600125217, 0.34998951, 0.900321106, 0.850223776, 0.800909609, 0.800513307, 0.800386364, 0.800020563, 0.7005417, 0.70043672, 0.700250784, 0.650407524, 0.59114168, 0.500061916, 0.850312684, 0.800386364, 0.80035194, 0.800034024, 0.800023511, 0.800020563, 0.750031447, 0.70061442, 0.70043672, 0.600143365, 0.350066986, 1.000230409, 1.000230409, 0.900129762, 0.850312684, 0.800263218, 0.700386207, 0.700164706, 0.650307143, 0.622828125, 0.500035345, 0.37046657, 1.000230409, 1.000230409, 0.850532143, 0.850362069, 0.800534483, 0.800489676, 0.750593103, 0.750283333, 0.500567308, 0.467693269, 0.437995338, 0.285333333, 1.000230409, 0.950185965, 0.9008, 0.900129762, 0.850362069, 0.850170115, 0.800473729, 0.750646667, 0.60059761, 0.500117677, 0.48792, 1.000457471, 1.000230409, 0.920236905, 0.900537069, 0.850610526, 0.850362069, 0.750646667, 0.656763743, 0.650148148, 0.600710606, 0.388830357, 0.286984568, 1.000671304, 1.000402055, 0.950185965, 0.850532143, 0.85011396, 0.750593103, 0.750450658, 0.700508929, 0.651007071, 0.466821212, 0.411553571, 1.000602279, 0.900158405, 0.90014152, 0.900129762, 0.800401961, 0.800393224, 0.799963218, 0.700398148, 0.700354545, 0.500801724, 0.295307738, 0.260978788, 1.000018551, 0.999995238, 0.950185965, 0.949981609, 0.800434622, 0.800259023, 0.750593103, 0.700513566, 0.700184577, 0.586465465, 0.541517857, 0.415172414, 1.05028058, 1.000230409, 0.999995238, 0.966759259, 0.929183333, 0.915766667, 0.900147246, 0.800401961, 0.799963218, 0.779791667, 0.755166667, 0.700710417, 0.700612069, 0.700278846, 0.700135088, 0.650834808, 0.531666667, 0.350706422, 1.000446018, 1.000018551, 0.999995238, 0.999924242, 0.950185965, 0.9425, 0.906666667, 0.8471, 0.845458333, 0.800612676, 0.799963218, 0.771583333, 0.7504, 0.700079032, 0.562212644, 0.522844828, 0.500720126, 0.496549708, 1.050666667, 1.000018551, 0.950185965, 0.900135693, 0.900129762, 0.899111111, 0.870083333, 0.845833333, 0.800401961, 0.799963218, 0.771583333, 0.750520115, 0.750027778, 0.715766667, 0.662270115, 0.600224189, 0.545657673, 0.447916667, 0.365318713, 1.000018551, 0.928680556, 0.9008, 0.900135693, 0.900129762, 0.893066667, 0.891555556, 0.875555556, 0.840888889, 0.800355208, 0.799963218, 0.75065101, 0.750027778, 0.700618234, 0.610208333, 0.607416667, 0.568259587, 0.355534483, 0.353259649, 1.057962963, 0.962016667, 0.9008, 0.900509044, 0.900477825, 0.888125, 0.800401961, 0.800161172, 0.799963218, 0.790003236, 0.750648148, 0.707111111, 0.700618234, 0.697708333, 0.612517157, 0.350301724, 0.350301724, 0.272, 1.004888889, 0.966759259, 0.90063244, 0.90047076, 0.90047076, 0.899984058, 0.853666667, 0.8008, 0.800401961, 0.796755556, 0.750797009, 0.750648148, 0.750356125, 0.703770833, 0.700618234, 0.6895, 0.628333333, 0.500801724, 0.393548851, 1.033155556, 1.02, 1.000344928, 1.000065789, 0.994375, 0.912037037, 0.87, 0.850364583, 0.800947475, 0.800401961, 0.800144144, 0.750406233, 0.714410494, 0.700588406, 0.618361111, 0.600070513, 0.54175, 0.536901754, 0.507903226, 1.100483918, 1.096633333, 1.000344928, 0.838666667, 0.800401961, 0.755486111, 0.750799435, 0.688017677, 0.664875, 0.656666667, 0.637711864, 0.601944444, 0.58, 0.535677966, 0.50012336, 0.497885057, 0.463403955, 0.441392, 0.350301724, 1.000230409, 0.929277778, 0.902916667, 0.800888889, 0.800401961, 0.80037492, 0.796208333, 0.750392157, 0.750392157, 0.725625, 0.700206125, 0.602, 0.600447507, 0.557252451, 0.500801724, 0.483333333, 0.238041667, 1.1204375, 1.108125, 1.000230409, 0.876444444, 0.800806306, 0.760833333, 0.722568627, 0.715333333, 0.700632768, 0.700573099, 0.681598039, 0.650223718, 0.605208333, 0.604166667, 0.598627451, 0.475718391, 0.432122899, 0.287041667, 0.283054487, 1.000230409, 0.960433333, 0.891555556, 0.864583333, 0.802243319, 0.800980392, 0.800312375, 0.773333333, 0.75065101, 0.750356125, 0.722333333, 0.700459889, 0.629416667, 0.621971751, 0.565972222, 0.35542803, 0.329964879, 0.258, 1.000230409, 0.927541667, 0.91375, 0.9025, 0.800401961, 0.7866, 0.750621354, 0.750356125, 0.749166667, 0.700888203, 0.700614035, 0.700603448, 0.656666667, 0.653431373, 0.650134, 0.600982906, 0.586041667, 0.5814, 0.361071429, 0.302117347, 0.9918, 0.936861111, 0.919125, 0.8211125, 0.800980392, 0.800980392, 0.800401961, 0.800279693, 0.75065101, 0.75053268, 0.734645833, 0.700603448, 0.70009573, 0.671875, 0.64025, 0.58, 0.549791667, 0.328131579, 0.303574468, 0.2565, 0.251399254, 0.81640625, 0.800711494, 0.800470513, 0.800094017, 0.799982853, 0.785864198, 0.75065101, 0.733277778, 0.710125, 0.700603448, 0.700540441, 0.7, 0.684027778, 0.672135417, 0.638614379, 0.631354167, 0.611140537, 0.609583333, 0.585315789, 0.249416667, 0.8721, 0.8319375, 0.8300625, 0.805555556, 0.800401961, 0.80000295, 0.78375, 0.753525, 0.75065101, 0.727349537, 0.700614035, 0.700605263, 0.672140805, 0.627011183, 0.626577778, 0.456875, 0.393548851, 0.385791667, 0.307501459, 0.283958333, 0.955791667, 0.930416667, 0.9025, 0.87115, 0.800401961, 0.800137255, 0.800137255, 0.750770115, 0.75065101, 0.750293939, 0.700623, 0.700614035, 0.700362069, 0.60128, 0.417916667, 0.3715625, 0.3715625, 0.36871875, 0.356458333, 0.902222222, 0.811388889, 0.800401961, 0.800137255, 0.800071839, 0.791458333, 0.750727326, 0.75065101, 0.750437269, 0.750176991, 0.726933333, 0.726933333, 0.700623, 0.700518519, 0.700256795, 0.5046875, 0.471108491, 0.325, 0.268214286, 0.970816667, 0.902962963, 0.900833333, 0.899555556, 0.845833333, 0.800808642, 0.800401961, 0.800115819, 0.75065101, 0.750503571, 0.750206897, 0.700362069, 0.700069811, 0.700058333, 0.676666667, 0.658541667, 0.598792339, 0.581130952, 0.440375, 0.410833333, 0.410833333, 0.921703704, 0.921604938, 0.800808642, 0.800516667, 0.800401961, 0.768847222, 0.75065101, 0.750473684, 0.750371895, 0.750206897, 0.700251773, 0.66237931, 0.590617284, 0.5565625, 0.495617514, 0.449964912, 0.410833333, 0.4078125, 0.378895152, 0.376597222, 0.271875, 0.921703704, 0.921604938, 0.800779018, 0.800260821, 0.799982853, 0.768847222, 0.750716981, 0.75065101, 0.750425926, 0.750395513, 0.700236601, 0.700211111, 0.590617284, 0.5565625, 0.550403509, 0.550349708, 0.500258046, 0.410833333, 0.4078125, 0.376597222, 0.271875, 0.936355556, 0.813611111, 0.800401961, 0.75075, 0.75065101, 0.750473684, 0.750395513, 0.707446429, 0.700236601, 0.700019883, 0.683550607, 0.682433036, 0.673083333, 0.664583333, 0.600239766, 0.585, 0.579511494, 0.448722222, 0.447083333, 0.350416667, 0.92885, 0.86037037, 0.806879167, 0.800579532, 0.800401961, 0.8004, 0.800309211, 0.800149813, 0.800115819, 0.773333333, 0.750797009, 0.750473684, 0.750395513, 0.750254867, 0.700903571, 0.70013604, 0.632361111, 0.607654321, 0.537919444, 0.342361111, 0.999533333, 0.902962963, 0.800701754, 0.800566092, 0.800401961, 0.800333333, 0.800115819, 0.750770115, 0.750473684, 0.750395513, 0.750212553, 0.702777778, 0.700659649, 0.699984417, 0.636049383, 0.567377778, 0.555430556, 0.555430556, 0.463194444, 0.354444444, 0.309333333, 0.30277037, 0.939166667, 0.930416667, 0.885925926, 0.83375, 0.806879167, 0.806058333, 0.800701754, 0.800401961, 0.800333333, 0.800055762, 0.799975862, 0.750651724, 0.750395513, 0.700424138, 0.700058333, 0.684888889, 0.592083333, 0.5403125, 0.433263158, 0.404144928, 0.332146465, 0.980984848, 0.950625, 0.927291667, 0.868888889, 0.812625, 0.812625, 0.810111111, 0.800701754, 0.800534979, 0.800401961, 0.750651724, 0.750395513, 0.750050847, 0.700424138, 0.700422, 0.600099145, 0.453125, 0.366053523, 0.26369382, 0.868888889, 0.850520588, 0.850045, 0.825444444, 0.80575, 0.800746552, 0.800578947, 0.800034503, 0.7975, 0.749987124, 0.700422, 0.664875, 0.664875, 0.657083333, 0.65024031, 0.590740741, 0.528125, 0.500528095, 0.408960345, 0.951944444, 0.945555556, 0.929074074, 0.890604167, 0.890604167, 0.884, 0.857916667, 0.850084211, 0.85007069, 0.800511068, 0.800401961, 0.800034503, 0.755208333, 0.750371895, 0.700422, 0.700106061, 0.601037091, 0.600528571, 0.500033898, 0.4509375, 0.441041667, 0.271875, 0.960625, 0.902962963, 0.864342593, 0.850446154, 0.850426891, 0.841, 0.800842424, 0.800401961, 0.800034503, 0.795416667, 0.7953875, 0.794566667, 0.750395513, 0.700516224, 0.700422, 0.6825, 0.650962281, 0.650421429, 0.600040678, 0.500610909, 0.477291667, 0.2640625, 0.92, 0.909391667, 0.900061017, 0.894444444, 0.881575, 0.880754167, 0.850084211, 0.821666667, 0.800401961, 0.800071839, 0.800034503, 0.758229167, 0.750608, 0.750395513, 0.741, 0.700505263, 0.700246491, 0.700051852, 0.650044068, 0.630402924, 0.560625, 0.560625, 0.39875, 0.922839506, 0.874027778, 0.819270833, 0.813309028, 0.812625, 0.800401961, 0.800071839, 0.800034503, 0.786631944, 0.75885, 0.750608, 0.750347333, 0.750140741, 0.750050847, 0.750050847, 0.700556897, 0.700505263, 0.700246491, 0.650596491, 0.628333333, 0.625625, 0.625625, 0.505888889, 0.394722222], \"yaxis\": \"y\"}, {\"hovertemplate\": \"department=finishing<br>targeted_productivity=%{x}<br>actual_productivity=%{y}<extra></extra>\", \"legendgroup\": \"finishing\", \"marker\": {\"color\": \"#EF553B\", \"symbol\": \"circle\"}, \"mode\": \"markers\", \"name\": \"finishing\", \"showlegend\": true, \"type\": \"scattergl\", \"x\": [0.75, 0.75, 0.65, 0.75, 0.75, 0.8, 0.8, 0.75, 0.8, 0.75, 0.8, 0.8, 0.7, 0.8, 0.8, 0.75, 0.8, 0.8, 0.8, 0.8, 0.7, 0.8, 0.8, 0.75, 0.8, 0.8, 0.8, 0.75, 0.8, 0.8, 0.75, 0.6, 0.8, 0.8, 0.8, 0.8, 0.75, 0.8, 0.8, 0.75, 0.8, 0.8, 0.8, 0.8, 0.8, 0.75, 0.8, 0.8, 0.75, 0.8, 0.8, 0.8, 0.7, 0.8, 0.8, 0.8, 0.8, 0.7, 0.75, 0.8, 0.75, 0.8, 0.8, 0.8, 0.75, 0.8, 0.8, 0.8, 0.8, 0.8, 0.8, 0.8, 0.5, 0.75, 0.8, 0.8, 0.8, 0.8, 0.8, 0.8, 0.8, 0.5, 0.8, 0.8, 0.8, 0.35, 0.8, 0.8, 0.8, 0.8, 0.65, 0.8, 0.8, 0.8, 0.8, 0.35, 0.8, 0.8, 0.8, 0.8, 0.65, 0.8, 0.8, 0.8, 0.8, 0.8, 0.35, 0.8, 0.65, 0.8, 0.8, 0.8, 0.8, 0.8, 0.8, 0.35, 0.8, 0.8, 0.65, 0.8, 0.8, 0.8, 0.65, 0.8, 0.8, 0.8, 0.8, 0.8, 0.8, 0.8, 0.8, 0.6, 0.65, 0.8, 0.8, 0.8, 0.8, 0.7, 0.7, 0.8, 0.65, 0.8, 0.8, 0.7, 0.7, 0.7, 0.8, 0.8, 0.7, 0.75, 0.7, 0.8, 0.7, 0.8, 0.65, 0.7, 0.6, 0.75, 0.7, 0.75, 0.7, 0.7, 0.8, 0.7, 0.8, 0.6, 0.7, 0.75, 0.8, 0.75, 0.75, 0.65, 0.7, 0.75, 0.75, 0.7, 0.6, 0.7, 0.75, 0.7, 0.75, 0.75, 0.75, 0.65, 0.7, 0.8, 0.75, 0.75, 0.75, 0.7, 0.75, 0.7, 0.7, 0.65, 0.8, 0.8, 0.5, 0.75, 0.65, 0.7, 0.5, 0.75, 0.75, 0.8, 0.35, 0.75, 0.8, 0.8, 0.75, 0.8, 0.65, 0.6, 0.5, 0.8, 0.5, 0.65, 0.6, 0.8, 0.75, 0.8, 0.75, 0.8, 0.8, 0.8, 0.8, 0.8, 0.75, 0.75, 0.75, 0.7, 0.7, 0.65, 0.65, 0.6, 0.65, 0.75, 0.8, 0.7, 0.8, 0.8, 0.75, 0.6, 0.75, 0.8, 0.8, 0.75, 0.65, 0.75, 0.6, 0.8, 0.8, 0.7, 0.75, 0.8, 0.8, 0.7, 0.8], \"xaxis\": \"x\", \"y\": [0.8865, 0.755166667, 0.705916667, 0.676666667, 0.593055556, 0.540729167, 0.988024691, 0.987880435, 0.956270833, 0.945277778, 0.902916667, 0.782447917, 0.7018125, 0.628333333, 0.6253125, 0.991388889, 0.931645833, 0.915229167, 0.861679012, 0.792104167, 0.759228395, 0.682708333, 0.667604167, 0.345833333, 0.961059028, 0.939513889, 0.893663194, 0.875390625, 0.820833333, 0.804416667, 0.763375, 0.759270833, 0.676666667, 0.664583333, 0.966781346, 0.936496212, 0.899166667, 0.888686869, 0.858143939, 0.809640152, 0.805909091, 0.681060606, 0.61625, 0.951420455, 0.880530303, 0.83, 0.827186544, 0.813371212, 0.805909091, 0.804640152, 0.681060606, 0.666515152, 0.330113636, 0.947689394, 0.919905405, 0.891723485, 0.835757576, 0.821354167, 0.779791667, 0.735984848, 0.712626263, 0.681060606, 0.515606061, 0.985, 0.930340376, 0.911589744, 0.858143939, 0.846950758, 0.817424242, 0.817102273, 0.670075758, 0.628882576, 0.337973485, 0.93532197, 0.925643939, 0.873068182, 0.858143939, 0.828295455, 0.820833333, 0.668087121, 0.653598485, 0.609138258, 0.597348485, 0.590435606, 0.955151515, 0.942213805, 0.905454545, 0.880530303, 0.858143939, 0.817424242, 0.809564394, 0.725, 0.648106061, 0.640577652, 0.24625, 0.952020202, 0.951420455, 0.912766667, 0.901262626, 0.858143939, 0.821354167, 0.805909091, 0.681060606, 0.670075758, 0.601278409, 0.934607438, 0.908080808, 0.891723485, 0.864583333, 0.858143939, 0.837594697, 0.820833333, 0.667329545, 0.332359307, 0.247316017, 0.988636364, 0.953110048, 0.884261364, 0.860653409, 0.858143939, 0.689299242, 0.606912879, 0.98719697, 0.980909091, 0.974621212, 0.884261364, 0.82680303, 0.675568182, 0.661837121, 0.465757576, 0.313852814, 0.852793561, 0.838383838, 0.804848485, 0.692045455, 0.639867424, 0.582045455, 0.235795455, 0.977272727, 0.964106061, 0.958901515, 0.793844697, 0.683806818, 0.538399621, 0.409545455, 1.033570076, 0.72830303, 0.639867424, 0.362666667, 0.978525641, 0.912202112, 0.827147436, 0.758173077, 0.594871795, 0.505128205, 0.470769231, 0.957638889, 0.940701058, 0.742901235, 0.670216049, 0.649662222, 0.649662222, 0.626822917, 0.460578704, 0.397743056, 0.327407407, 0.966666667, 0.937242424, 0.910521886, 0.896022727, 0.895454545, 0.870580808, 0.858585859, 0.651515152, 0.578314394, 0.578314394, 0.261174242, 0.973796791, 0.970075758, 0.970075758, 0.961784512, 0.955151515, 0.952020202, 0.749188312, 0.618181818, 0.329545455, 1.059621212, 0.997792208, 0.963699495, 0.959191919, 0.910378788, 0.910378788, 0.769292929, 0.646306818, 0.979527778, 0.940625, 0.926388889, 0.861875, 0.845458333, 0.823555556, 0.803541667, 0.788, 0.77815, 0.6225, 0.977555556, 0.9456, 0.902222222, 0.840533333, 0.755555556, 0.722638889, 0.553333333, 0.406354167, 0.259375, 0.989, 0.899, 0.877552083, 0.864583333, 0.85695, 0.853666667, 0.773333333, 0.634666667, 0.4925, 0.971866667, 0.971866667, 0.971866667, 0.971866667, 0.971866667, 0.971866667, 0.971866667, 0.971866667, 0.971866667, 0.971866667, 0.971866667, 0.971866667, 1.0115625, 0.950438596, 0.912766667, 0.892194444, 0.8865, 0.845069444, 0.702666667, 0.314166667, 0.994270833, 0.85695, 0.809236111, 0.740444444, 0.561979167, 0.504596491, 0.280333333, 1.001416667, 0.99485, 0.976979167, 0.919954545, 0.778222222, 0.5375, 0.495416667, 0.687555556], \"yaxis\": \"y\"}],                        {\"font\": {\"color\": \"rosybrown\", \"family\": \"Courier New, monospace\", \"size\": 18}, \"legend\": {\"title\": {\"text\": \"department\"}, \"tracegroupgap\": 0}, \"margin\": {\"t\": 60}, \"template\": {\"data\": {\"bar\": [{\"error_x\": {\"color\": \"#2a3f5f\"}, \"error_y\": {\"color\": \"#2a3f5f\"}, \"marker\": {\"line\": {\"color\": \"#E5ECF6\", \"width\": 0.5}}, \"type\": \"bar\"}], \"barpolar\": [{\"marker\": {\"line\": {\"color\": \"#E5ECF6\", \"width\": 0.5}}, \"type\": \"barpolar\"}], \"carpet\": [{\"aaxis\": {\"endlinecolor\": \"#2a3f5f\", \"gridcolor\": \"white\", \"linecolor\": \"white\", \"minorgridcolor\": \"white\", \"startlinecolor\": \"#2a3f5f\"}, \"baxis\": {\"endlinecolor\": \"#2a3f5f\", \"gridcolor\": \"white\", \"linecolor\": \"white\", \"minorgridcolor\": \"white\", \"startlinecolor\": \"#2a3f5f\"}, \"type\": \"carpet\"}], \"choropleth\": [{\"colorbar\": {\"outlinewidth\": 0, \"ticks\": \"\"}, \"type\": \"choropleth\"}], \"contour\": [{\"colorbar\": {\"outlinewidth\": 0, \"ticks\": \"\"}, \"colorscale\": [[0.0, \"#0d0887\"], [0.1111111111111111, \"#46039f\"], [0.2222222222222222, \"#7201a8\"], [0.3333333333333333, \"#9c179e\"], [0.4444444444444444, \"#bd3786\"], [0.5555555555555556, \"#d8576b\"], [0.6666666666666666, \"#ed7953\"], [0.7777777777777778, \"#fb9f3a\"], [0.8888888888888888, \"#fdca26\"], [1.0, \"#f0f921\"]], \"type\": \"contour\"}], \"contourcarpet\": [{\"colorbar\": {\"outlinewidth\": 0, \"ticks\": \"\"}, \"type\": \"contourcarpet\"}], \"heatmap\": [{\"colorbar\": {\"outlinewidth\": 0, \"ticks\": \"\"}, \"colorscale\": [[0.0, \"#0d0887\"], [0.1111111111111111, \"#46039f\"], [0.2222222222222222, \"#7201a8\"], [0.3333333333333333, \"#9c179e\"], [0.4444444444444444, \"#bd3786\"], [0.5555555555555556, \"#d8576b\"], [0.6666666666666666, \"#ed7953\"], [0.7777777777777778, \"#fb9f3a\"], [0.8888888888888888, \"#fdca26\"], [1.0, \"#f0f921\"]], \"type\": \"heatmap\"}], \"heatmapgl\": [{\"colorbar\": {\"outlinewidth\": 0, \"ticks\": \"\"}, \"colorscale\": [[0.0, \"#0d0887\"], [0.1111111111111111, \"#46039f\"], [0.2222222222222222, \"#7201a8\"], [0.3333333333333333, \"#9c179e\"], [0.4444444444444444, \"#bd3786\"], [0.5555555555555556, \"#d8576b\"], [0.6666666666666666, \"#ed7953\"], [0.7777777777777778, \"#fb9f3a\"], [0.8888888888888888, \"#fdca26\"], [1.0, \"#f0f921\"]], \"type\": \"heatmapgl\"}], \"histogram\": [{\"marker\": {\"colorbar\": {\"outlinewidth\": 0, \"ticks\": \"\"}}, \"type\": \"histogram\"}], \"histogram2d\": [{\"colorbar\": {\"outlinewidth\": 0, \"ticks\": \"\"}, \"colorscale\": [[0.0, \"#0d0887\"], [0.1111111111111111, \"#46039f\"], [0.2222222222222222, \"#7201a8\"], [0.3333333333333333, \"#9c179e\"], [0.4444444444444444, \"#bd3786\"], [0.5555555555555556, \"#d8576b\"], [0.6666666666666666, \"#ed7953\"], [0.7777777777777778, \"#fb9f3a\"], [0.8888888888888888, \"#fdca26\"], [1.0, \"#f0f921\"]], \"type\": \"histogram2d\"}], \"histogram2dcontour\": [{\"colorbar\": {\"outlinewidth\": 0, \"ticks\": \"\"}, \"colorscale\": [[0.0, \"#0d0887\"], [0.1111111111111111, \"#46039f\"], [0.2222222222222222, \"#7201a8\"], [0.3333333333333333, \"#9c179e\"], [0.4444444444444444, \"#bd3786\"], [0.5555555555555556, \"#d8576b\"], [0.6666666666666666, \"#ed7953\"], [0.7777777777777778, \"#fb9f3a\"], [0.8888888888888888, \"#fdca26\"], [1.0, \"#f0f921\"]], \"type\": \"histogram2dcontour\"}], \"mesh3d\": [{\"colorbar\": {\"outlinewidth\": 0, \"ticks\": \"\"}, \"type\": \"mesh3d\"}], \"parcoords\": [{\"line\": {\"colorbar\": {\"outlinewidth\": 0, \"ticks\": \"\"}}, \"type\": \"parcoords\"}], \"pie\": [{\"automargin\": true, \"type\": \"pie\"}], \"scatter\": [{\"marker\": {\"colorbar\": {\"outlinewidth\": 0, \"ticks\": \"\"}}, \"type\": \"scatter\"}], \"scatter3d\": [{\"line\": {\"colorbar\": {\"outlinewidth\": 0, \"ticks\": \"\"}}, \"marker\": {\"colorbar\": {\"outlinewidth\": 0, \"ticks\": \"\"}}, \"type\": \"scatter3d\"}], \"scattercarpet\": [{\"marker\": {\"colorbar\": {\"outlinewidth\": 0, \"ticks\": \"\"}}, \"type\": \"scattercarpet\"}], \"scattergeo\": [{\"marker\": {\"colorbar\": {\"outlinewidth\": 0, \"ticks\": \"\"}}, \"type\": \"scattergeo\"}], \"scattergl\": [{\"marker\": {\"colorbar\": {\"outlinewidth\": 0, \"ticks\": \"\"}}, \"type\": \"scattergl\"}], \"scattermapbox\": [{\"marker\": {\"colorbar\": {\"outlinewidth\": 0, \"ticks\": \"\"}}, \"type\": \"scattermapbox\"}], \"scatterpolar\": [{\"marker\": {\"colorbar\": {\"outlinewidth\": 0, \"ticks\": \"\"}}, \"type\": \"scatterpolar\"}], \"scatterpolargl\": [{\"marker\": {\"colorbar\": {\"outlinewidth\": 0, \"ticks\": \"\"}}, \"type\": \"scatterpolargl\"}], \"scatterternary\": [{\"marker\": {\"colorbar\": {\"outlinewidth\": 0, \"ticks\": \"\"}}, \"type\": \"scatterternary\"}], \"surface\": [{\"colorbar\": {\"outlinewidth\": 0, \"ticks\": \"\"}, \"colorscale\": [[0.0, \"#0d0887\"], [0.1111111111111111, \"#46039f\"], [0.2222222222222222, \"#7201a8\"], [0.3333333333333333, \"#9c179e\"], [0.4444444444444444, \"#bd3786\"], [0.5555555555555556, \"#d8576b\"], [0.6666666666666666, \"#ed7953\"], [0.7777777777777778, \"#fb9f3a\"], [0.8888888888888888, \"#fdca26\"], [1.0, \"#f0f921\"]], \"type\": \"surface\"}], \"table\": [{\"cells\": {\"fill\": {\"color\": \"#EBF0F8\"}, \"line\": {\"color\": \"white\"}}, \"header\": {\"fill\": {\"color\": \"#C8D4E3\"}, \"line\": {\"color\": \"white\"}}, \"type\": \"table\"}]}, \"layout\": {\"annotationdefaults\": {\"arrowcolor\": \"#2a3f5f\", \"arrowhead\": 0, \"arrowwidth\": 1}, \"autotypenumbers\": \"strict\", \"coloraxis\": {\"colorbar\": {\"outlinewidth\": 0, \"ticks\": \"\"}}, \"colorscale\": {\"diverging\": [[0, \"#8e0152\"], [0.1, \"#c51b7d\"], [0.2, \"#de77ae\"], [0.3, \"#f1b6da\"], [0.4, \"#fde0ef\"], [0.5, \"#f7f7f7\"], [0.6, \"#e6f5d0\"], [0.7, \"#b8e186\"], [0.8, \"#7fbc41\"], [0.9, \"#4d9221\"], [1, \"#276419\"]], \"sequential\": [[0.0, \"#0d0887\"], [0.1111111111111111, \"#46039f\"], [0.2222222222222222, \"#7201a8\"], [0.3333333333333333, \"#9c179e\"], [0.4444444444444444, \"#bd3786\"], [0.5555555555555556, \"#d8576b\"], [0.6666666666666666, \"#ed7953\"], [0.7777777777777778, \"#fb9f3a\"], [0.8888888888888888, \"#fdca26\"], [1.0, \"#f0f921\"]], \"sequentialminus\": [[0.0, \"#0d0887\"], [0.1111111111111111, \"#46039f\"], [0.2222222222222222, \"#7201a8\"], [0.3333333333333333, \"#9c179e\"], [0.4444444444444444, \"#bd3786\"], [0.5555555555555556, \"#d8576b\"], [0.6666666666666666, \"#ed7953\"], [0.7777777777777778, \"#fb9f3a\"], [0.8888888888888888, \"#fdca26\"], [1.0, \"#f0f921\"]]}, \"colorway\": [\"#636efa\", \"#EF553B\", \"#00cc96\", \"#ab63fa\", \"#FFA15A\", \"#19d3f3\", \"#FF6692\", \"#B6E880\", \"#FF97FF\", \"#FECB52\"], \"font\": {\"color\": \"#2a3f5f\"}, \"geo\": {\"bgcolor\": \"white\", \"lakecolor\": \"white\", \"landcolor\": \"#E5ECF6\", \"showlakes\": true, \"showland\": true, \"subunitcolor\": \"white\"}, \"hoverlabel\": {\"align\": \"left\"}, \"hovermode\": \"closest\", \"mapbox\": {\"style\": \"light\"}, \"paper_bgcolor\": \"white\", \"plot_bgcolor\": \"#E5ECF6\", \"polar\": {\"angularaxis\": {\"gridcolor\": \"white\", \"linecolor\": \"white\", \"ticks\": \"\"}, \"bgcolor\": \"#E5ECF6\", \"radialaxis\": {\"gridcolor\": \"white\", \"linecolor\": \"white\", \"ticks\": \"\"}}, \"scene\": {\"xaxis\": {\"backgroundcolor\": \"#E5ECF6\", \"gridcolor\": \"white\", \"gridwidth\": 2, \"linecolor\": \"white\", \"showbackground\": true, \"ticks\": \"\", \"zerolinecolor\": \"white\"}, \"yaxis\": {\"backgroundcolor\": \"#E5ECF6\", \"gridcolor\": \"white\", \"gridwidth\": 2, \"linecolor\": \"white\", \"showbackground\": true, \"ticks\": \"\", \"zerolinecolor\": \"white\"}, \"zaxis\": {\"backgroundcolor\": \"#E5ECF6\", \"gridcolor\": \"white\", \"gridwidth\": 2, \"linecolor\": \"white\", \"showbackground\": true, \"ticks\": \"\", \"zerolinecolor\": \"white\"}}, \"shapedefaults\": {\"line\": {\"color\": \"#2a3f5f\"}}, \"ternary\": {\"aaxis\": {\"gridcolor\": \"white\", \"linecolor\": \"white\", \"ticks\": \"\"}, \"baxis\": {\"gridcolor\": \"white\", \"linecolor\": \"white\", \"ticks\": \"\"}, \"bgcolor\": \"#E5ECF6\", \"caxis\": {\"gridcolor\": \"white\", \"linecolor\": \"white\", \"ticks\": \"\"}}, \"title\": {\"x\": 0.05}, \"xaxis\": {\"automargin\": true, \"gridcolor\": \"white\", \"linecolor\": \"white\", \"ticks\": \"\", \"title\": {\"standoff\": 15}, \"zerolinecolor\": \"white\", \"zerolinewidth\": 2}, \"yaxis\": {\"automargin\": true, \"gridcolor\": \"white\", \"linecolor\": \"white\", \"ticks\": \"\", \"title\": {\"standoff\": 15}, \"zerolinecolor\": \"white\", \"zerolinewidth\": 2}}}, \"title\": {\"text\": \"Actual vs Targeted Productivity\", \"x\": 0.5}, \"xaxis\": {\"anchor\": \"y\", \"domain\": [0.0, 1.0], \"title\": {\"text\": \"targeted_productivity\"}}, \"yaxis\": {\"anchor\": \"x\", \"domain\": [0.0, 1.0], \"title\": {\"text\": \"actual_productivity\"}}},                        {\"responsive\": true}                    ).then(function(){\n",
       "                            \n",
       "var gd = document.getElementById('83805580-9d31-47c2-baa0-d27459b84890');\n",
       "var x = new MutationObserver(function (mutations, observer) {{\n",
       "        var display = window.getComputedStyle(gd).display;\n",
       "        if (!display || display === 'none') {{\n",
       "            console.log([gd, 'removed!']);\n",
       "            Plotly.purge(gd);\n",
       "            observer.disconnect();\n",
       "        }}\n",
       "}});\n",
       "\n",
       "// Listen for the removal of the full notebook cells\n",
       "var notebookContainer = gd.closest('#notebook-container');\n",
       "if (notebookContainer) {{\n",
       "    x.observe(notebookContainer, {childList: true});\n",
       "}}\n",
       "\n",
       "// Listen for the clearing of the current output cell\n",
       "var outputEl = gd.closest('.output');\n",
       "if (outputEl) {{\n",
       "    x.observe(outputEl, {childList: true});\n",
       "}}\n",
       "\n",
       "                        })                };                });            </script>        </div>"
      ]
     },
     "metadata": {}
    }
   ],
   "metadata": {
    "execution": {
     "iopub.execute_input": "2021-04-10T14:15:09.459575Z",
     "iopub.status.busy": "2021-04-10T14:15:09.458524Z",
     "iopub.status.idle": "2021-04-10T14:15:09.541719Z",
     "shell.execute_reply": "2021-04-10T14:15:09.541021Z"
    },
    "papermill": {
     "duration": 0.139297,
     "end_time": "2021-04-10T14:15:09.541873",
     "exception": false,
     "start_time": "2021-04-10T14:15:09.402576",
     "status": "completed"
    },
    "tags": []
   }
  },
  {
   "cell_type": "markdown",
   "source": [
    "Both departments are exceeding targets"
   ],
   "metadata": {
    "papermill": {
     "duration": 0.053023,
     "end_time": "2021-04-10T14:15:09.647861",
     "exception": false,
     "start_time": "2021-04-10T14:15:09.594838",
     "status": "completed"
    },
    "tags": []
   }
  },
  {
   "cell_type": "code",
   "execution_count": 25,
   "source": [
    "fig = px.bar(df, x=\"department\", y=\"actual_productivity\", barmode=\"group\", color=\"department\",\n",
    "             facet_col=\"quarter\")\n",
    "fig.update_layout(title_text='Productivity of departments in each quarter',title_x=0.5,font=dict(\n",
    "        family=\"Courier New, monospace\",\n",
    "        size=18,\n",
    "        color=\"maroon\"\n",
    "    ))\n",
    "\n",
    "fig.show()"
   ],
   "outputs": [
    {
     "output_type": "display_data",
     "data": {
      "text/html": [
       "<div>                            <div id=\"4ab6d9fd-6c7e-4e46-8bae-7846fc3313a8\" class=\"plotly-graph-div\" style=\"height:525px; width:100%;\"></div>            <script type=\"text/javascript\">                require([\"plotly\"], function(Plotly) {                    window.PLOTLYENV=window.PLOTLYENV || {};                                    if (document.getElementById(\"4ab6d9fd-6c7e-4e46-8bae-7846fc3313a8\")) {                    Plotly.newPlot(                        \"4ab6d9fd-6c7e-4e46-8bae-7846fc3313a8\",                        [{\"alignmentgroup\": \"True\", \"hovertemplate\": \"department=%{x}<br>quarter=Quarter1<br>actual_productivity=%{y}<extra></extra>\", \"legendgroup\": \"sewing\", \"marker\": {\"color\": \"#636efa\"}, \"name\": \"sewing\", \"offsetgroup\": \"sewing\", \"orientation\": \"v\", \"showlegend\": true, \"textposition\": \"auto\", \"type\": \"bar\", \"x\": [\"sewing\", \"sewing\", \"sewing\", \"sewing\", \"sewing\", \"sewing\", \"sewing\", \"sewing\", \"sewing\", \"sewing\", \"sewing\", \"sewing\", \"sewing\", \"sewing\", \"sewing\", \"sewing\", \"sewing\", \"sewing\", \"sewing\", \"sewing\", \"sewing\", \"sewing\", \"sewing\", \"sewing\", \"sewing\", \"sewing\", \"sewing\", \"sewing\", \"sewing\", \"sewing\", \"sewing\", \"sewing\", \"sewing\", \"sewing\", \"sewing\", \"sewing\", \"sewing\", \"sewing\", \"sewing\", \"sewing\", \"sewing\", \"sewing\", \"sewing\", \"sewing\", \"sewing\", \"sewing\", \"sewing\", \"sewing\", \"sewing\", \"sewing\", \"sewing\", \"sewing\", \"sewing\", \"sewing\", \"sewing\", \"sewing\", \"sewing\", \"sewing\", \"sewing\", \"sewing\", \"sewing\", \"sewing\", \"sewing\", \"sewing\", \"sewing\", \"sewing\", \"sewing\", \"sewing\", \"sewing\", \"sewing\", \"sewing\", \"sewing\", \"sewing\", \"sewing\", \"sewing\", \"sewing\", \"sewing\", \"sewing\", \"sewing\", \"sewing\", \"sewing\", \"sewing\", \"sewing\", \"sewing\", \"sewing\", \"sewing\", \"sewing\", \"sewing\", \"sewing\", \"sewing\", \"sewing\", \"sewing\", \"sewing\", \"sewing\", \"sewing\", \"sewing\", \"sewing\", \"sewing\", \"sewing\", \"sewing\", \"sewing\", \"sewing\", \"sewing\", \"sewing\", \"sewing\", \"sewing\", \"sewing\", \"sewing\", \"sewing\", \"sewing\", \"sewing\", \"sewing\", \"sewing\", \"sewing\", \"sewing\", \"sewing\", \"sewing\", \"sewing\", \"sewing\", \"sewing\", \"sewing\", \"sewing\", \"sewing\", \"sewing\", \"sewing\", \"sewing\", \"sewing\", \"sewing\", \"sewing\", \"sewing\", \"sewing\", \"sewing\", \"sewing\", \"sewing\", \"sewing\", \"sewing\", \"sewing\", \"sewing\", \"sewing\", \"sewing\", \"sewing\", \"sewing\", \"sewing\", \"sewing\", \"sewing\", \"sewing\", \"sewing\", \"sewing\", \"sewing\", \"sewing\", \"sewing\", \"sewing\", \"sewing\", \"sewing\", \"sewing\", \"sewing\", \"sewing\", \"sewing\", \"sewing\", \"sewing\", \"sewing\", \"sewing\", \"sewing\", \"sewing\", \"sewing\", \"sewing\", \"sewing\", \"sewing\", \"sewing\", \"sewing\", \"sewing\", \"sewing\", \"sewing\", \"sewing\", \"sewing\", \"sewing\", \"sewing\", \"sewing\", \"sewing\", \"sewing\", \"sewing\", \"sewing\", \"sewing\", \"sewing\", \"sewing\", \"sewing\", \"sewing\", \"sewing\", \"sewing\", \"sewing\", \"sewing\", \"sewing\", \"sewing\", \"sewing\", \"sewing\", \"sewing\", \"sewing\", \"sewing\", \"sewing\", \"sewing\", \"sewing\", \"sewing\", \"sewing\", \"sewing\", \"sewing\", \"sewing\", \"sewing\", \"sewing\", \"sewing\", \"sewing\", \"sewing\", \"sewing\", \"sewing\", \"sewing\", \"sewing\", \"sewing\", \"sewing\", \"sewing\", \"sewing\", \"sewing\", \"sewing\", \"sewing\", \"sewing\", \"sewing\", \"sewing\", \"sewing\", \"sewing\", \"sewing\", \"sewing\", \"sewing\", \"sewing\", \"sewing\", \"sewing\", \"sewing\", \"sewing\", \"sewing\", \"sewing\", \"sewing\", \"sewing\", \"sewing\", \"sewing\", \"sewing\", \"sewing\", \"sewing\", \"sewing\", \"sewing\", \"sewing\", \"sewing\", \"sewing\", \"sewing\", \"sewing\", \"sewing\", \"sewing\", \"sewing\", \"sewing\", \"sewing\", \"sewing\", \"sewing\", \"sewing\", \"sewing\", \"sewing\", \"sewing\", \"sewing\", \"sewing\", \"sewing\", \"sewing\", \"sewing\", \"sewing\", \"sewing\", \"sewing\", \"sewing\", \"sewing\", \"sewing\", \"sewing\", \"sewing\", \"sewing\", \"sewing\", \"sewing\", \"sewing\", \"sewing\", \"sewing\", \"sewing\", \"sewing\", \"sewing\"], \"xaxis\": \"x\", \"y\": [0.940725424, 0.800570492, 0.800570492, 0.800381944, 0.800125, 0.753683478, 0.753097531, 0.750427826, 0.721126957, 0.712205247, 0.707045902, 0.52118, 0.436326389, 0.800725314, 0.800322936, 0.800318644, 0.800318644, 0.800237288, 0.800148649, 0.800125, 0.800125, 0.787299691, 0.75024303, 0.700134038, 0.699965217, 0.879714482, 0.850569492, 0.850436438, 0.850345133, 0.800598058, 0.800318644, 0.800237838, 0.800030199, 0.750348457, 0.75024303, 0.699965217, 0.603432184, 0.850569492, 0.800684366, 0.800684366, 0.800318644, 0.800250962, 0.800246011, 0.800246011, 0.800076522, 0.800076522, 0.7504, 0.75024303, 0.600028736, 0.850502311, 0.850502311, 0.800594466, 0.800594466, 0.800273829, 0.800140969, 0.800128721, 0.800128721, 0.80007657, 0.750545455, 0.750057851, 0.649983281, 0.850502311, 0.850502311, 0.850136766, 0.800594466, 0.800594466, 0.800343766, 0.800273829, 0.800246753, 0.800128721, 0.8, 0.700480831, 0.412119835, 1.000671304, 1.000402055, 0.950185965, 0.850532143, 0.85011396, 0.750593103, 0.750450658, 0.700508929, 0.651007071, 0.466821212, 0.411553571, 1.000602279, 0.900158405, 0.90014152, 0.900129762, 0.800401961, 0.800393224, 0.799963218, 0.700398148, 0.700354545, 0.500801724, 0.295307738, 0.260978788, 1.000018551, 0.999995238, 0.950185965, 0.949981609, 0.800434622, 0.800259023, 0.750593103, 0.700513566, 0.700184577, 0.586465465, 0.541517857, 0.415172414, 1.05028058, 1.000230409, 0.999995238, 0.966759259, 0.929183333, 0.915766667, 0.900147246, 0.800401961, 0.799963218, 0.779791667, 0.755166667, 0.700710417, 0.700612069, 0.700278846, 0.700135088, 0.650834808, 0.531666667, 0.350706422, 1.000446018, 1.000018551, 0.999995238, 0.999924242, 0.950185965, 0.9425, 0.906666667, 0.8471, 0.845458333, 0.800612676, 0.799963218, 0.771583333, 0.7504, 0.700079032, 0.562212644, 0.522844828, 0.500720126, 0.496549708, 1.050666667, 1.000018551, 0.950185965, 0.900135693, 0.900129762, 0.899111111, 0.870083333, 0.845833333, 0.800401961, 0.799963218, 0.771583333, 0.750520115, 0.750027778, 0.715766667, 0.662270115, 0.600224189, 0.545657673, 0.447916667, 0.365318713, 0.936355556, 0.813611111, 0.800401961, 0.75075, 0.75065101, 0.750473684, 0.750395513, 0.707446429, 0.700236601, 0.700019883, 0.683550607, 0.682433036, 0.673083333, 0.664583333, 0.600239766, 0.585, 0.579511494, 0.448722222, 0.447083333, 0.350416667, 0.92885, 0.86037037, 0.806879167, 0.800579532, 0.800401961, 0.8004, 0.800309211, 0.800149813, 0.800115819, 0.773333333, 0.750797009, 0.750473684, 0.750395513, 0.750254867, 0.700903571, 0.70013604, 0.632361111, 0.607654321, 0.537919444, 0.342361111, 0.999533333, 0.902962963, 0.800701754, 0.800566092, 0.800401961, 0.800333333, 0.800115819, 0.750770115, 0.750473684, 0.750395513, 0.750212553, 0.702777778, 0.700659649, 0.699984417, 0.636049383, 0.567377778, 0.555430556, 0.555430556, 0.463194444, 0.354444444, 0.309333333, 0.30277037, 0.939166667, 0.930416667, 0.885925926, 0.83375, 0.806879167, 0.806058333, 0.800701754, 0.800401961, 0.800333333, 0.800055762, 0.799975862, 0.750651724, 0.750395513, 0.700424138, 0.700058333, 0.684888889, 0.592083333, 0.5403125, 0.433263158, 0.404144928, 0.332146465, 0.980984848, 0.950625, 0.927291667, 0.868888889, 0.812625, 0.812625, 0.810111111, 0.800701754, 0.800534979, 0.800401961, 0.750651724, 0.750395513, 0.750050847, 0.700424138, 0.700422, 0.600099145, 0.453125, 0.366053523, 0.26369382, 0.868888889, 0.850520588, 0.850045, 0.825444444, 0.80575, 0.800746552, 0.800578947, 0.800034503, 0.7975, 0.749987124, 0.700422, 0.664875, 0.664875, 0.657083333, 0.65024031, 0.590740741, 0.528125, 0.500528095, 0.408960345], \"yaxis\": \"y\"}, {\"alignmentgroup\": \"True\", \"hovertemplate\": \"department=%{x}<br>quarter=Quarter2<br>actual_productivity=%{y}<extra></extra>\", \"legendgroup\": \"sewing\", \"marker\": {\"color\": \"#636efa\"}, \"name\": \"sewing\", \"offsetgroup\": \"sewing\", \"orientation\": \"v\", \"showlegend\": false, \"textposition\": \"auto\", \"type\": \"bar\", \"x\": [\"sewing\", \"sewing\", \"sewing\", \"sewing\", \"sewing\", \"sewing\", \"sewing\", \"sewing\", \"sewing\", \"sewing\", \"sewing\", \"sewing\", \"sewing\", \"sewing\", \"sewing\", \"sewing\", \"sewing\", \"sewing\", \"sewing\", \"sewing\", \"sewing\", \"sewing\", \"sewing\", \"sewing\", \"sewing\", \"sewing\", \"sewing\", \"sewing\", \"sewing\", \"sewing\", \"sewing\", \"sewing\", \"sewing\", \"sewing\", \"sewing\", \"sewing\", \"sewing\", \"sewing\", \"sewing\", \"sewing\", \"sewing\", \"sewing\", \"sewing\", \"sewing\", \"sewing\", \"sewing\", \"sewing\", \"sewing\", \"sewing\", \"sewing\", \"sewing\", \"sewing\", \"sewing\", \"sewing\", \"sewing\", \"sewing\", \"sewing\", \"sewing\", \"sewing\", \"sewing\", \"sewing\", \"sewing\", \"sewing\", \"sewing\", \"sewing\", \"sewing\", \"sewing\", \"sewing\", \"sewing\", \"sewing\", \"sewing\", \"sewing\", \"sewing\", \"sewing\", \"sewing\", \"sewing\", \"sewing\", \"sewing\", \"sewing\", \"sewing\", \"sewing\", \"sewing\", \"sewing\", \"sewing\", \"sewing\", \"sewing\", \"sewing\", \"sewing\", \"sewing\", \"sewing\", \"sewing\", \"sewing\", \"sewing\", \"sewing\", \"sewing\", \"sewing\", \"sewing\", \"sewing\", \"sewing\", \"sewing\", \"sewing\", \"sewing\", \"sewing\", \"sewing\", \"sewing\", \"sewing\", \"sewing\", \"sewing\", \"sewing\", \"sewing\", \"sewing\", \"sewing\", \"sewing\", \"sewing\", \"sewing\", \"sewing\", \"sewing\", \"sewing\", \"sewing\", \"sewing\", \"sewing\", \"sewing\", \"sewing\", \"sewing\", \"sewing\", \"sewing\", \"sewing\", \"sewing\", \"sewing\", \"sewing\", \"sewing\", \"sewing\", \"sewing\", \"sewing\", \"sewing\", \"sewing\", \"sewing\", \"sewing\", \"sewing\", \"sewing\", \"sewing\", \"sewing\", \"sewing\", \"sewing\", \"sewing\", \"sewing\", \"sewing\", \"sewing\", \"sewing\", \"sewing\", \"sewing\", \"sewing\", \"sewing\", \"sewing\", \"sewing\", \"sewing\", \"sewing\", \"sewing\", \"sewing\", \"sewing\", \"sewing\", \"sewing\", \"sewing\", \"sewing\", \"sewing\", \"sewing\", \"sewing\", \"sewing\", \"sewing\", \"sewing\", \"sewing\", \"sewing\", \"sewing\", \"sewing\", \"sewing\", \"sewing\", \"sewing\", \"sewing\", \"sewing\", \"sewing\", \"sewing\", \"sewing\", \"sewing\", \"sewing\", \"sewing\", \"sewing\", \"sewing\", \"sewing\", \"sewing\", \"sewing\", \"sewing\", \"sewing\", \"sewing\", \"sewing\", \"sewing\", \"sewing\", \"sewing\", \"sewing\", \"sewing\", \"sewing\", \"sewing\", \"sewing\", \"sewing\", \"sewing\", \"sewing\", \"sewing\", \"sewing\", \"sewing\", \"sewing\", \"sewing\", \"sewing\", \"sewing\", \"sewing\", \"sewing\", \"sewing\", \"sewing\", \"sewing\", \"sewing\", \"sewing\", \"sewing\", \"sewing\", \"sewing\", \"sewing\", \"sewing\", \"sewing\", \"sewing\", \"sewing\", \"sewing\", \"sewing\", \"sewing\", \"sewing\", \"sewing\", \"sewing\", \"sewing\", \"sewing\", \"sewing\", \"sewing\", \"sewing\", \"sewing\", \"sewing\", \"sewing\", \"sewing\", \"sewing\", \"sewing\", \"sewing\", \"sewing\", \"sewing\", \"sewing\", \"sewing\", \"sewing\", \"sewing\", \"sewing\", \"sewing\", \"sewing\", \"sewing\", \"sewing\", \"sewing\", \"sewing\", \"sewing\", \"sewing\", \"sewing\", \"sewing\", \"sewing\", \"sewing\", \"sewing\", \"sewing\", \"sewing\", \"sewing\", \"sewing\", \"sewing\", \"sewing\", \"sewing\", \"sewing\"], \"xaxis\": \"x2\", \"y\": [0.900215716, 0.850502311, 0.850181818, 0.850136766, 0.850136766, 0.800497246, 0.800273829, 0.800107143, 0.800024932, 0.8, 0.349951389, 0.233705476, 0.851174114, 0.850136766, 0.850136766, 0.801028213, 0.800594466, 0.800346445, 0.800343766, 0.800117103, 0.8, 0.750098351, 0.673245283, 0.388007813, 0.900215716, 0.850502311, 0.850136766, 0.850136766, 0.800343766, 0.800246753, 0.8, 0.8, 0.690182815, 0.600229846, 0.473134796, 0.452979626, 0.850522167, 0.850502311, 0.850136766, 0.850136766, 0.800273829, 0.800181818, 0.80007657, 0.8, 0.688557555, 0.650040783, 0.64998056, 0.35063299, 0.850502311, 0.850502311, 0.850252525, 0.850136766, 0.800246753, 0.800246753, 0.8, 0.705576584, 0.582301029, 0.526810345, 0.500380799, 0.35020649, 0.900144811, 0.850502311, 0.850136766, 0.800313433, 0.800246753, 0.800117103, 0.700095563, 0.600369686, 0.499980334, 0.35003125, 0.311207464, 1.000018551, 0.928680556, 0.9008, 0.900135693, 0.900129762, 0.893066667, 0.891555556, 0.875555556, 0.840888889, 0.800355208, 0.799963218, 0.75065101, 0.750027778, 0.700618234, 0.610208333, 0.607416667, 0.568259587, 0.355534483, 0.353259649, 1.057962963, 0.962016667, 0.9008, 0.900509044, 0.900477825, 0.888125, 0.800401961, 0.800161172, 0.799963218, 0.790003236, 0.750648148, 0.707111111, 0.700618234, 0.697708333, 0.612517157, 0.350301724, 0.350301724, 0.272, 1.004888889, 0.966759259, 0.90063244, 0.90047076, 0.90047076, 0.899984058, 0.853666667, 0.8008, 0.800401961, 0.796755556, 0.750797009, 0.750648148, 0.750356125, 0.703770833, 0.700618234, 0.6895, 0.628333333, 0.500801724, 0.393548851, 1.033155556, 1.02, 1.000344928, 1.000065789, 0.994375, 0.912037037, 0.87, 0.850364583, 0.800947475, 0.800401961, 0.800144144, 0.750406233, 0.714410494, 0.700588406, 0.618361111, 0.600070513, 0.54175, 0.536901754, 0.507903226, 1.100483918, 1.096633333, 1.000344928, 0.838666667, 0.800401961, 0.755486111, 0.750799435, 0.688017677, 0.664875, 0.656666667, 0.637711864, 0.601944444, 0.58, 0.535677966, 0.50012336, 0.497885057, 0.463403955, 0.441392, 0.350301724, 1.000230409, 0.929277778, 0.902916667, 0.800888889, 0.800401961, 0.80037492, 0.796208333, 0.750392157, 0.750392157, 0.725625, 0.700206125, 0.602, 0.600447507, 0.557252451, 0.500801724, 0.483333333, 0.238041667, 0.951944444, 0.945555556, 0.929074074, 0.890604167, 0.890604167, 0.884, 0.857916667, 0.850084211, 0.85007069, 0.800511068, 0.800401961, 0.800034503, 0.755208333, 0.750371895, 0.700422, 0.700106061, 0.601037091, 0.600528571, 0.500033898, 0.4509375, 0.441041667, 0.271875, 0.960625, 0.902962963, 0.864342593, 0.850446154, 0.850426891, 0.841, 0.800842424, 0.800401961, 0.800034503, 0.795416667, 0.7953875, 0.794566667, 0.750395513, 0.700516224, 0.700422, 0.6825, 0.650962281, 0.650421429, 0.600040678, 0.500610909, 0.477291667, 0.2640625, 0.92, 0.909391667, 0.900061017, 0.894444444, 0.881575, 0.880754167, 0.850084211, 0.821666667, 0.800401961, 0.800071839, 0.800034503, 0.758229167, 0.750608, 0.750395513, 0.741, 0.700505263, 0.700246491, 0.700051852, 0.650044068, 0.630402924, 0.560625, 0.560625, 0.39875, 0.922839506, 0.874027778, 0.819270833, 0.813309028, 0.812625, 0.800401961, 0.800071839, 0.800034503, 0.786631944, 0.75885, 0.750608, 0.750347333, 0.750140741, 0.750050847, 0.750050847, 0.700556897, 0.700505263, 0.700246491, 0.650596491, 0.628333333, 0.625625, 0.625625, 0.505888889, 0.394722222], \"yaxis\": \"y2\"}, {\"alignmentgroup\": \"True\", \"hovertemplate\": \"department=%{x}<br>quarter=Quarter3<br>actual_productivity=%{y}<extra></extra>\", \"legendgroup\": \"sewing\", \"marker\": {\"color\": \"#636efa\"}, \"name\": \"sewing\", \"offsetgroup\": \"sewing\", \"orientation\": \"v\", \"showlegend\": false, \"textposition\": \"auto\", \"type\": \"bar\", \"x\": [\"sewing\", \"sewing\", \"sewing\", \"sewing\", \"sewing\", \"sewing\", \"sewing\", \"sewing\", \"sewing\", \"sewing\", \"sewing\", \"sewing\", \"sewing\", \"sewing\", \"sewing\", \"sewing\", \"sewing\", \"sewing\", \"sewing\", \"sewing\", \"sewing\", \"sewing\", \"sewing\", \"sewing\", \"sewing\", \"sewing\", \"sewing\", \"sewing\", \"sewing\", \"sewing\", \"sewing\", \"sewing\", \"sewing\", \"sewing\", \"sewing\", \"sewing\", \"sewing\", \"sewing\", \"sewing\", \"sewing\", \"sewing\", \"sewing\", \"sewing\", \"sewing\", \"sewing\", \"sewing\", \"sewing\", \"sewing\", \"sewing\", \"sewing\", \"sewing\", \"sewing\", \"sewing\", \"sewing\", \"sewing\", \"sewing\", \"sewing\", \"sewing\", \"sewing\", \"sewing\", \"sewing\", \"sewing\", \"sewing\", \"sewing\", \"sewing\", \"sewing\", \"sewing\", \"sewing\", \"sewing\", \"sewing\", \"sewing\", \"sewing\", \"sewing\", \"sewing\", \"sewing\", \"sewing\", \"sewing\", \"sewing\", \"sewing\", \"sewing\", \"sewing\", \"sewing\", \"sewing\", \"sewing\", \"sewing\", \"sewing\", \"sewing\", \"sewing\", \"sewing\", \"sewing\", \"sewing\", \"sewing\", \"sewing\", \"sewing\", \"sewing\", \"sewing\", \"sewing\", \"sewing\", \"sewing\", \"sewing\", \"sewing\", \"sewing\", \"sewing\", \"sewing\", \"sewing\", \"sewing\", \"sewing\", \"sewing\", \"sewing\", \"sewing\", \"sewing\", \"sewing\", \"sewing\", \"sewing\", \"sewing\", \"sewing\", \"sewing\", \"sewing\", \"sewing\", \"sewing\", \"sewing\", \"sewing\", \"sewing\", \"sewing\", \"sewing\", \"sewing\", \"sewing\", \"sewing\", \"sewing\", \"sewing\", \"sewing\", \"sewing\", \"sewing\", \"sewing\", \"sewing\", \"sewing\", \"sewing\", \"sewing\", \"sewing\", \"sewing\", \"sewing\", \"sewing\", \"sewing\", \"sewing\", \"sewing\", \"sewing\", \"sewing\", \"sewing\", \"sewing\", \"sewing\", \"sewing\", \"sewing\", \"sewing\", \"sewing\", \"sewing\", \"sewing\", \"sewing\", \"sewing\", \"sewing\", \"sewing\", \"sewing\", \"sewing\", \"sewing\", \"sewing\", \"sewing\", \"sewing\", \"sewing\", \"sewing\", \"sewing\"], \"xaxis\": \"x3\", \"y\": [0.850502311, 0.850415628, 0.850136766, 0.800117103, 0.80003139, 0.80003139, 0.700060345, 0.660683293, 0.650130952, 0.600291767, 0.500025069, 0.499998888, 0.800343766, 0.800246753, 0.800128721, 0.800128721, 0.800117103, 0.800117103, 0.77011398, 0.7005417, 0.650198653, 0.600291767, 0.600273268, 0.452012539, 0.800343766, 0.800128721, 0.800128721, 0.800015009, 0.7005417, 0.700094156, 0.662255892, 0.650416734, 0.650299575, 0.650243497, 0.600062696, 0.403242161, 0.800358775, 0.800162602, 0.800117103, 0.750517565, 0.750068049, 0.750062751, 0.750057359, 0.700170388, 0.650066445, 0.576460393, 0.549969429, 0.35021836, 0.800261486, 0.800128721, 0.800117103, 0.750068049, 0.750057359, 0.750037968, 0.750031898, 0.700170388, 0.700063796, 0.500290419, 0.400332792, 0.900556277, 0.850410511, 0.800436542, 0.800415742, 0.800020563, 0.750344828, 0.750068049, 0.700170388, 0.700029771, 0.60017284, 0.520237649, 0.500241342, 1.1204375, 1.108125, 1.000230409, 0.876444444, 0.800806306, 0.760833333, 0.722568627, 0.715333333, 0.700632768, 0.700573099, 0.681598039, 0.650223718, 0.605208333, 0.604166667, 0.598627451, 0.475718391, 0.432122899, 0.287041667, 0.283054487, 1.000230409, 0.960433333, 0.891555556, 0.864583333, 0.802243319, 0.800980392, 0.800312375, 0.773333333, 0.75065101, 0.750356125, 0.722333333, 0.700459889, 0.629416667, 0.621971751, 0.565972222, 0.35542803, 0.329964879, 0.258, 1.000230409, 0.927541667, 0.91375, 0.9025, 0.800401961, 0.7866, 0.750621354, 0.750356125, 0.749166667, 0.700888203, 0.700614035, 0.700603448, 0.656666667, 0.653431373, 0.650134, 0.600982906, 0.586041667, 0.5814, 0.361071429, 0.302117347, 0.9918, 0.936861111, 0.919125, 0.8211125, 0.800980392, 0.800980392, 0.800401961, 0.800279693, 0.75065101, 0.75053268, 0.734645833, 0.700603448, 0.70009573, 0.671875, 0.64025, 0.58, 0.549791667, 0.328131579, 0.303574468, 0.2565, 0.251399254, 0.81640625, 0.800711494, 0.800470513, 0.800094017, 0.799982853, 0.785864198, 0.75065101, 0.733277778, 0.710125, 0.700603448, 0.700540441, 0.7, 0.684027778, 0.672135417, 0.638614379, 0.631354167, 0.611140537, 0.609583333, 0.585315789, 0.249416667], \"yaxis\": \"y3\"}, {\"alignmentgroup\": \"True\", \"hovertemplate\": \"department=%{x}<br>quarter=Quarter4<br>actual_productivity=%{y}<extra></extra>\", \"legendgroup\": \"sewing\", \"marker\": {\"color\": \"#636efa\"}, \"name\": \"sewing\", \"offsetgroup\": \"sewing\", \"orientation\": \"v\", \"showlegend\": false, \"textposition\": \"auto\", \"type\": \"bar\", \"x\": [\"sewing\", \"sewing\", \"sewing\", \"sewing\", \"sewing\", \"sewing\", \"sewing\", \"sewing\", \"sewing\", \"sewing\", \"sewing\", \"sewing\", \"sewing\", \"sewing\", \"sewing\", \"sewing\", \"sewing\", \"sewing\", \"sewing\", \"sewing\", \"sewing\", \"sewing\", \"sewing\", \"sewing\", \"sewing\", \"sewing\", \"sewing\", \"sewing\", \"sewing\", \"sewing\", \"sewing\", \"sewing\", \"sewing\", \"sewing\", \"sewing\", \"sewing\", \"sewing\", \"sewing\", \"sewing\", \"sewing\", \"sewing\", \"sewing\", \"sewing\", \"sewing\", \"sewing\", \"sewing\", \"sewing\", \"sewing\", \"sewing\", \"sewing\", \"sewing\", \"sewing\", \"sewing\", \"sewing\", \"sewing\", \"sewing\", \"sewing\", \"sewing\", \"sewing\", \"sewing\", \"sewing\", \"sewing\", \"sewing\", \"sewing\", \"sewing\", \"sewing\", \"sewing\", \"sewing\", \"sewing\", \"sewing\", \"sewing\", \"sewing\", \"sewing\", \"sewing\", \"sewing\", \"sewing\", \"sewing\", \"sewing\", \"sewing\", \"sewing\", \"sewing\", \"sewing\", \"sewing\", \"sewing\", \"sewing\", \"sewing\", \"sewing\", \"sewing\", \"sewing\", \"sewing\", \"sewing\", \"sewing\", \"sewing\", \"sewing\", \"sewing\", \"sewing\", \"sewing\", \"sewing\", \"sewing\", \"sewing\", \"sewing\", \"sewing\", \"sewing\", \"sewing\", \"sewing\", \"sewing\", \"sewing\", \"sewing\", \"sewing\", \"sewing\", \"sewing\", \"sewing\", \"sewing\", \"sewing\", \"sewing\", \"sewing\", \"sewing\", \"sewing\", \"sewing\", \"sewing\", \"sewing\", \"sewing\", \"sewing\", \"sewing\", \"sewing\", \"sewing\", \"sewing\", \"sewing\", \"sewing\", \"sewing\", \"sewing\", \"sewing\", \"sewing\", \"sewing\", \"sewing\", \"sewing\", \"sewing\", \"sewing\", \"sewing\", \"sewing\", \"sewing\", \"sewing\", \"sewing\", \"sewing\", \"sewing\", \"sewing\", \"sewing\", \"sewing\", \"sewing\", \"sewing\", \"sewing\", \"sewing\", \"sewing\", \"sewing\", \"sewing\", \"sewing\", \"sewing\", \"sewing\", \"sewing\", \"sewing\", \"sewing\", \"sewing\", \"sewing\", \"sewing\", \"sewing\", \"sewing\", \"sewing\", \"sewing\", \"sewing\", \"sewing\", \"sewing\", \"sewing\", \"sewing\", \"sewing\", \"sewing\", \"sewing\", \"sewing\", \"sewing\", \"sewing\", \"sewing\", \"sewing\", \"sewing\", \"sewing\", \"sewing\", \"sewing\", \"sewing\", \"sewing\", \"sewing\", \"sewing\", \"sewing\", \"sewing\"], \"xaxis\": \"x4\", \"y\": [0.849983766, 0.800302791, 0.800191989, 0.800020563, 0.750162367, 0.750068049, 0.700250784, 0.700170388, 0.600436426, 0.60041361, 0.555500132, 0.500547544, 0.90064806, 0.900321106, 0.800643806, 0.80062987, 0.800537143, 0.80035194, 0.750079323, 0.750041201, 0.700250784, 0.650416734, 0.600125217, 0.34998951, 0.900321106, 0.850223776, 0.800909609, 0.800513307, 0.800386364, 0.800020563, 0.7005417, 0.70043672, 0.700250784, 0.650407524, 0.59114168, 0.500061916, 0.850312684, 0.800386364, 0.80035194, 0.800034024, 0.800023511, 0.800020563, 0.750031447, 0.70061442, 0.70043672, 0.600143365, 0.350066986, 1.000230409, 1.000230409, 0.900129762, 0.850312684, 0.800263218, 0.700386207, 0.700164706, 0.650307143, 0.622828125, 0.500035345, 0.37046657, 1.000230409, 1.000230409, 0.850532143, 0.850362069, 0.800534483, 0.800489676, 0.750593103, 0.750283333, 0.500567308, 0.467693269, 0.437995338, 0.285333333, 0.8721, 0.8319375, 0.8300625, 0.805555556, 0.800401961, 0.80000295, 0.78375, 0.753525, 0.75065101, 0.727349537, 0.700614035, 0.700605263, 0.672140805, 0.627011183, 0.626577778, 0.456875, 0.393548851, 0.385791667, 0.307501459, 0.283958333, 0.955791667, 0.930416667, 0.9025, 0.87115, 0.800401961, 0.800137255, 0.800137255, 0.750770115, 0.75065101, 0.750293939, 0.700623, 0.700614035, 0.700362069, 0.60128, 0.417916667, 0.3715625, 0.3715625, 0.36871875, 0.356458333, 0.902222222, 0.811388889, 0.800401961, 0.800137255, 0.800071839, 0.791458333, 0.750727326, 0.75065101, 0.750437269, 0.750176991, 0.726933333, 0.726933333, 0.700623, 0.700518519, 0.700256795, 0.5046875, 0.471108491, 0.325, 0.268214286, 0.970816667, 0.902962963, 0.900833333, 0.899555556, 0.845833333, 0.800808642, 0.800401961, 0.800115819, 0.75065101, 0.750503571, 0.750206897, 0.700362069, 0.700069811, 0.700058333, 0.676666667, 0.658541667, 0.598792339, 0.581130952, 0.440375, 0.410833333, 0.410833333, 0.921703704, 0.921604938, 0.800808642, 0.800516667, 0.800401961, 0.768847222, 0.75065101, 0.750473684, 0.750371895, 0.750206897, 0.700251773, 0.66237931, 0.590617284, 0.5565625, 0.495617514, 0.449964912, 0.410833333, 0.4078125, 0.378895152, 0.376597222, 0.271875, 0.921703704, 0.921604938, 0.800779018, 0.800260821, 0.799982853, 0.768847222, 0.750716981, 0.75065101, 0.750425926, 0.750395513, 0.700236601, 0.700211111, 0.590617284, 0.5565625, 0.550403509, 0.550349708, 0.500258046, 0.410833333, 0.4078125, 0.376597222, 0.271875], \"yaxis\": \"y4\"}, {\"alignmentgroup\": \"True\", \"hovertemplate\": \"department=%{x}<br>quarter=Quarter5<br>actual_productivity=%{y}<extra></extra>\", \"legendgroup\": \"sewing\", \"marker\": {\"color\": \"#636efa\"}, \"name\": \"sewing\", \"offsetgroup\": \"sewing\", \"orientation\": \"v\", \"showlegend\": false, \"textposition\": \"auto\", \"type\": \"bar\", \"x\": [\"sewing\", \"sewing\", \"sewing\", \"sewing\", \"sewing\", \"sewing\", \"sewing\", \"sewing\", \"sewing\", \"sewing\", \"sewing\", \"sewing\", \"sewing\", \"sewing\", \"sewing\", \"sewing\", \"sewing\", \"sewing\", \"sewing\", \"sewing\", \"sewing\", \"sewing\", \"sewing\"], \"xaxis\": \"x5\", \"y\": [1.000230409, 0.950185965, 0.9008, 0.900129762, 0.850362069, 0.850170115, 0.800473729, 0.750646667, 0.60059761, 0.500117677, 0.48792, 1.000457471, 1.000230409, 0.920236905, 0.900537069, 0.850610526, 0.850362069, 0.750646667, 0.656763743, 0.650148148, 0.600710606, 0.388830357, 0.286984568], \"yaxis\": \"y5\"}, {\"alignmentgroup\": \"True\", \"hovertemplate\": \"department=%{x}<br>quarter=Quarter1<br>actual_productivity=%{y}<extra></extra>\", \"legendgroup\": \"finishing\", \"marker\": {\"color\": \"#EF553B\"}, \"name\": \"finishing\", \"offsetgroup\": \"finishing\", \"orientation\": \"v\", \"showlegend\": true, \"textposition\": \"auto\", \"type\": \"bar\", \"x\": [\"finishing\", \"finishing\", \"finishing\", \"finishing\", \"finishing\", \"finishing\", \"finishing\", \"finishing\", \"finishing\", \"finishing\", \"finishing\", \"finishing\", \"finishing\", \"finishing\", \"finishing\", \"finishing\", \"finishing\", \"finishing\", \"finishing\", \"finishing\", \"finishing\", \"finishing\", \"finishing\", \"finishing\", \"finishing\", \"finishing\", \"finishing\", \"finishing\", \"finishing\", \"finishing\", \"finishing\", \"finishing\", \"finishing\", \"finishing\", \"finishing\", \"finishing\", \"finishing\", \"finishing\", \"finishing\", \"finishing\", \"finishing\", \"finishing\", \"finishing\", \"finishing\", \"finishing\", \"finishing\", \"finishing\", \"finishing\", \"finishing\", \"finishing\", \"finishing\", \"finishing\", \"finishing\", \"finishing\", \"finishing\", \"finishing\", \"finishing\", \"finishing\", \"finishing\", \"finishing\", \"finishing\", \"finishing\", \"finishing\", \"finishing\", \"finishing\", \"finishing\", \"finishing\", \"finishing\", \"finishing\", \"finishing\", \"finishing\", \"finishing\", \"finishing\", \"finishing\", \"finishing\", \"finishing\"], \"xaxis\": \"x\", \"y\": [0.8865, 0.755166667, 0.705916667, 0.676666667, 0.593055556, 0.540729167, 0.988024691, 0.987880435, 0.956270833, 0.945277778, 0.902916667, 0.782447917, 0.7018125, 0.628333333, 0.6253125, 0.991388889, 0.931645833, 0.915229167, 0.861679012, 0.792104167, 0.759228395, 0.682708333, 0.667604167, 0.345833333, 0.961059028, 0.939513889, 0.893663194, 0.875390625, 0.820833333, 0.804416667, 0.763375, 0.759270833, 0.676666667, 0.664583333, 0.966781346, 0.936496212, 0.899166667, 0.888686869, 0.858143939, 0.809640152, 0.805909091, 0.681060606, 0.61625, 0.951420455, 0.880530303, 0.83, 0.827186544, 0.813371212, 0.805909091, 0.804640152, 0.681060606, 0.666515152, 0.330113636, 1.0115625, 0.950438596, 0.912766667, 0.892194444, 0.8865, 0.845069444, 0.702666667, 0.314166667, 0.994270833, 0.85695, 0.809236111, 0.740444444, 0.561979167, 0.504596491, 0.280333333, 1.001416667, 0.99485, 0.976979167, 0.919954545, 0.778222222, 0.5375, 0.495416667, 0.687555556], \"yaxis\": \"y\"}, {\"alignmentgroup\": \"True\", \"hovertemplate\": \"department=%{x}<br>quarter=Quarter2<br>actual_productivity=%{y}<extra></extra>\", \"legendgroup\": \"finishing\", \"marker\": {\"color\": \"#EF553B\"}, \"name\": \"finishing\", \"offsetgroup\": \"finishing\", \"orientation\": \"v\", \"showlegend\": false, \"textposition\": \"auto\", \"type\": \"bar\", \"x\": [\"finishing\", \"finishing\", \"finishing\", \"finishing\", \"finishing\", \"finishing\", \"finishing\", \"finishing\", \"finishing\", \"finishing\", \"finishing\", \"finishing\", \"finishing\", \"finishing\", \"finishing\", \"finishing\", \"finishing\", \"finishing\", \"finishing\", \"finishing\", \"finishing\", \"finishing\", \"finishing\", \"finishing\", \"finishing\", \"finishing\", \"finishing\", \"finishing\", \"finishing\", \"finishing\", \"finishing\", \"finishing\", \"finishing\", \"finishing\", \"finishing\", \"finishing\", \"finishing\", \"finishing\", \"finishing\", \"finishing\", \"finishing\", \"finishing\", \"finishing\", \"finishing\", \"finishing\", \"finishing\", \"finishing\", \"finishing\", \"finishing\", \"finishing\", \"finishing\", \"finishing\", \"finishing\", \"finishing\", \"finishing\", \"finishing\", \"finishing\", \"finishing\", \"finishing\", \"finishing\", \"finishing\", \"finishing\"], \"xaxis\": \"x2\", \"y\": [0.947689394, 0.919905405, 0.891723485, 0.835757576, 0.821354167, 0.779791667, 0.735984848, 0.712626263, 0.681060606, 0.515606061, 0.985, 0.930340376, 0.911589744, 0.858143939, 0.846950758, 0.817424242, 0.817102273, 0.670075758, 0.628882576, 0.337973485, 0.93532197, 0.925643939, 0.873068182, 0.858143939, 0.828295455, 0.820833333, 0.668087121, 0.653598485, 0.609138258, 0.597348485, 0.590435606, 0.955151515, 0.942213805, 0.905454545, 0.880530303, 0.858143939, 0.817424242, 0.809564394, 0.725, 0.648106061, 0.640577652, 0.24625, 0.952020202, 0.951420455, 0.912766667, 0.901262626, 0.858143939, 0.821354167, 0.805909091, 0.681060606, 0.670075758, 0.601278409, 0.934607438, 0.908080808, 0.891723485, 0.864583333, 0.858143939, 0.837594697, 0.820833333, 0.667329545, 0.332359307, 0.247316017], \"yaxis\": \"y2\"}, {\"alignmentgroup\": \"True\", \"hovertemplate\": \"department=%{x}<br>quarter=Quarter3<br>actual_productivity=%{y}<extra></extra>\", \"legendgroup\": \"finishing\", \"marker\": {\"color\": \"#EF553B\"}, \"name\": \"finishing\", \"offsetgroup\": \"finishing\", \"orientation\": \"v\", \"showlegend\": false, \"textposition\": \"auto\", \"type\": \"bar\", \"x\": [\"finishing\", \"finishing\", \"finishing\", \"finishing\", \"finishing\", \"finishing\", \"finishing\", \"finishing\", \"finishing\", \"finishing\", \"finishing\", \"finishing\", \"finishing\", \"finishing\", \"finishing\", \"finishing\", \"finishing\", \"finishing\", \"finishing\", \"finishing\", \"finishing\", \"finishing\", \"finishing\", \"finishing\", \"finishing\", \"finishing\", \"finishing\", \"finishing\", \"finishing\", \"finishing\", \"finishing\", \"finishing\", \"finishing\", \"finishing\", \"finishing\", \"finishing\", \"finishing\", \"finishing\", \"finishing\", \"finishing\", \"finishing\"], \"xaxis\": \"x3\", \"y\": [0.988636364, 0.953110048, 0.884261364, 0.860653409, 0.858143939, 0.689299242, 0.606912879, 0.98719697, 0.980909091, 0.974621212, 0.884261364, 0.82680303, 0.675568182, 0.661837121, 0.465757576, 0.313852814, 0.852793561, 0.838383838, 0.804848485, 0.692045455, 0.639867424, 0.582045455, 0.235795455, 0.977272727, 0.964106061, 0.958901515, 0.793844697, 0.683806818, 0.538399621, 0.409545455, 1.033570076, 0.72830303, 0.639867424, 0.362666667, 0.978525641, 0.912202112, 0.827147436, 0.758173077, 0.594871795, 0.505128205, 0.470769231], \"yaxis\": \"y3\"}, {\"alignmentgroup\": \"True\", \"hovertemplate\": \"department=%{x}<br>quarter=Quarter4<br>actual_productivity=%{y}<extra></extra>\", \"legendgroup\": \"finishing\", \"marker\": {\"color\": \"#EF553B\"}, \"name\": \"finishing\", \"offsetgroup\": \"finishing\", \"orientation\": \"v\", \"showlegend\": false, \"textposition\": \"auto\", \"type\": \"bar\", \"x\": [\"finishing\", \"finishing\", \"finishing\", \"finishing\", \"finishing\", \"finishing\", \"finishing\", \"finishing\", \"finishing\", \"finishing\", \"finishing\", \"finishing\", \"finishing\", \"finishing\", \"finishing\", \"finishing\", \"finishing\", \"finishing\", \"finishing\", \"finishing\", \"finishing\", \"finishing\", \"finishing\", \"finishing\", \"finishing\", \"finishing\", \"finishing\", \"finishing\", \"finishing\", \"finishing\", \"finishing\", \"finishing\", \"finishing\", \"finishing\", \"finishing\", \"finishing\", \"finishing\", \"finishing\", \"finishing\", \"finishing\", \"finishing\", \"finishing\", \"finishing\", \"finishing\", \"finishing\", \"finishing\", \"finishing\", \"finishing\", \"finishing\", \"finishing\", \"finishing\", \"finishing\", \"finishing\", \"finishing\", \"finishing\", \"finishing\", \"finishing\"], \"xaxis\": \"x4\", \"y\": [0.957638889, 0.940701058, 0.742901235, 0.670216049, 0.649662222, 0.649662222, 0.626822917, 0.460578704, 0.397743056, 0.327407407, 0.966666667, 0.937242424, 0.910521886, 0.896022727, 0.895454545, 0.870580808, 0.858585859, 0.651515152, 0.578314394, 0.578314394, 0.261174242, 0.973796791, 0.970075758, 0.970075758, 0.961784512, 0.955151515, 0.952020202, 0.749188312, 0.618181818, 0.329545455, 1.059621212, 0.997792208, 0.963699495, 0.959191919, 0.910378788, 0.910378788, 0.769292929, 0.646306818, 0.979527778, 0.940625, 0.926388889, 0.861875, 0.845458333, 0.823555556, 0.803541667, 0.788, 0.77815, 0.6225, 0.977555556, 0.9456, 0.902222222, 0.840533333, 0.755555556, 0.722638889, 0.553333333, 0.406354167, 0.259375], \"yaxis\": \"y4\"}, {\"alignmentgroup\": \"True\", \"hovertemplate\": \"department=%{x}<br>quarter=Quarter5<br>actual_productivity=%{y}<extra></extra>\", \"legendgroup\": \"finishing\", \"marker\": {\"color\": \"#EF553B\"}, \"name\": \"finishing\", \"offsetgroup\": \"finishing\", \"orientation\": \"v\", \"showlegend\": false, \"textposition\": \"auto\", \"type\": \"bar\", \"x\": [\"finishing\", \"finishing\", \"finishing\", \"finishing\", \"finishing\", \"finishing\", \"finishing\", \"finishing\", \"finishing\", \"finishing\", \"finishing\", \"finishing\", \"finishing\", \"finishing\", \"finishing\", \"finishing\", \"finishing\", \"finishing\", \"finishing\", \"finishing\", \"finishing\"], \"xaxis\": \"x5\", \"y\": [0.989, 0.899, 0.877552083, 0.864583333, 0.85695, 0.853666667, 0.773333333, 0.634666667, 0.4925, 0.971866667, 0.971866667, 0.971866667, 0.971866667, 0.971866667, 0.971866667, 0.971866667, 0.971866667, 0.971866667, 0.971866667, 0.971866667, 0.971866667], \"yaxis\": \"y5\"}],                        {\"annotations\": [{\"font\": {}, \"showarrow\": false, \"text\": \"quarter=Quarter1\", \"x\": 0.09200000000000001, \"xanchor\": \"center\", \"xref\": \"paper\", \"y\": 1.0, \"yanchor\": \"bottom\", \"yref\": \"paper\"}, {\"font\": {}, \"showarrow\": false, \"text\": \"quarter=Quarter2\", \"x\": 0.29600000000000004, \"xanchor\": \"center\", \"xref\": \"paper\", \"y\": 1.0, \"yanchor\": \"bottom\", \"yref\": \"paper\"}, {\"font\": {}, \"showarrow\": false, \"text\": \"quarter=Quarter3\", \"x\": 0.5, \"xanchor\": \"center\", \"xref\": \"paper\", \"y\": 1.0, \"yanchor\": \"bottom\", \"yref\": \"paper\"}, {\"font\": {}, \"showarrow\": false, \"text\": \"quarter=Quarter4\", \"x\": 0.7040000000000002, \"xanchor\": \"center\", \"xref\": \"paper\", \"y\": 1.0, \"yanchor\": \"bottom\", \"yref\": \"paper\"}, {\"font\": {}, \"showarrow\": false, \"text\": \"quarter=Quarter5\", \"x\": 0.908, \"xanchor\": \"center\", \"xref\": \"paper\", \"y\": 1.0, \"yanchor\": \"bottom\", \"yref\": \"paper\"}], \"barmode\": \"group\", \"font\": {\"color\": \"maroon\", \"family\": \"Courier New, monospace\", \"size\": 18}, \"legend\": {\"title\": {\"text\": \"department\"}, \"tracegroupgap\": 0}, \"margin\": {\"t\": 60}, \"template\": {\"data\": {\"bar\": [{\"error_x\": {\"color\": \"#2a3f5f\"}, \"error_y\": {\"color\": \"#2a3f5f\"}, \"marker\": {\"line\": {\"color\": \"#E5ECF6\", \"width\": 0.5}}, \"type\": \"bar\"}], \"barpolar\": [{\"marker\": {\"line\": {\"color\": \"#E5ECF6\", \"width\": 0.5}}, \"type\": \"barpolar\"}], \"carpet\": [{\"aaxis\": {\"endlinecolor\": \"#2a3f5f\", \"gridcolor\": \"white\", \"linecolor\": \"white\", \"minorgridcolor\": \"white\", \"startlinecolor\": \"#2a3f5f\"}, \"baxis\": {\"endlinecolor\": \"#2a3f5f\", \"gridcolor\": \"white\", \"linecolor\": \"white\", \"minorgridcolor\": \"white\", \"startlinecolor\": \"#2a3f5f\"}, \"type\": \"carpet\"}], \"choropleth\": [{\"colorbar\": {\"outlinewidth\": 0, \"ticks\": \"\"}, \"type\": \"choropleth\"}], \"contour\": [{\"colorbar\": {\"outlinewidth\": 0, \"ticks\": \"\"}, \"colorscale\": [[0.0, \"#0d0887\"], [0.1111111111111111, \"#46039f\"], [0.2222222222222222, \"#7201a8\"], [0.3333333333333333, \"#9c179e\"], [0.4444444444444444, \"#bd3786\"], [0.5555555555555556, \"#d8576b\"], [0.6666666666666666, \"#ed7953\"], [0.7777777777777778, \"#fb9f3a\"], [0.8888888888888888, \"#fdca26\"], [1.0, \"#f0f921\"]], \"type\": \"contour\"}], \"contourcarpet\": [{\"colorbar\": {\"outlinewidth\": 0, \"ticks\": \"\"}, \"type\": \"contourcarpet\"}], \"heatmap\": [{\"colorbar\": {\"outlinewidth\": 0, \"ticks\": \"\"}, \"colorscale\": [[0.0, \"#0d0887\"], [0.1111111111111111, \"#46039f\"], [0.2222222222222222, \"#7201a8\"], [0.3333333333333333, \"#9c179e\"], [0.4444444444444444, \"#bd3786\"], [0.5555555555555556, \"#d8576b\"], [0.6666666666666666, \"#ed7953\"], [0.7777777777777778, \"#fb9f3a\"], [0.8888888888888888, \"#fdca26\"], [1.0, \"#f0f921\"]], \"type\": \"heatmap\"}], \"heatmapgl\": [{\"colorbar\": {\"outlinewidth\": 0, \"ticks\": \"\"}, \"colorscale\": [[0.0, \"#0d0887\"], [0.1111111111111111, \"#46039f\"], [0.2222222222222222, \"#7201a8\"], [0.3333333333333333, \"#9c179e\"], [0.4444444444444444, \"#bd3786\"], [0.5555555555555556, \"#d8576b\"], [0.6666666666666666, \"#ed7953\"], [0.7777777777777778, \"#fb9f3a\"], [0.8888888888888888, \"#fdca26\"], [1.0, \"#f0f921\"]], \"type\": \"heatmapgl\"}], \"histogram\": [{\"marker\": {\"colorbar\": {\"outlinewidth\": 0, \"ticks\": \"\"}}, \"type\": \"histogram\"}], \"histogram2d\": [{\"colorbar\": {\"outlinewidth\": 0, \"ticks\": \"\"}, \"colorscale\": [[0.0, \"#0d0887\"], [0.1111111111111111, \"#46039f\"], [0.2222222222222222, \"#7201a8\"], [0.3333333333333333, \"#9c179e\"], [0.4444444444444444, \"#bd3786\"], [0.5555555555555556, \"#d8576b\"], [0.6666666666666666, \"#ed7953\"], [0.7777777777777778, \"#fb9f3a\"], [0.8888888888888888, \"#fdca26\"], [1.0, \"#f0f921\"]], \"type\": \"histogram2d\"}], \"histogram2dcontour\": [{\"colorbar\": {\"outlinewidth\": 0, \"ticks\": \"\"}, \"colorscale\": [[0.0, \"#0d0887\"], [0.1111111111111111, \"#46039f\"], [0.2222222222222222, \"#7201a8\"], [0.3333333333333333, \"#9c179e\"], [0.4444444444444444, \"#bd3786\"], [0.5555555555555556, \"#d8576b\"], [0.6666666666666666, \"#ed7953\"], [0.7777777777777778, \"#fb9f3a\"], [0.8888888888888888, \"#fdca26\"], [1.0, \"#f0f921\"]], \"type\": \"histogram2dcontour\"}], \"mesh3d\": [{\"colorbar\": {\"outlinewidth\": 0, \"ticks\": \"\"}, \"type\": \"mesh3d\"}], \"parcoords\": [{\"line\": {\"colorbar\": {\"outlinewidth\": 0, \"ticks\": \"\"}}, \"type\": \"parcoords\"}], \"pie\": [{\"automargin\": true, \"type\": \"pie\"}], \"scatter\": [{\"marker\": {\"colorbar\": {\"outlinewidth\": 0, \"ticks\": \"\"}}, \"type\": \"scatter\"}], \"scatter3d\": [{\"line\": {\"colorbar\": {\"outlinewidth\": 0, \"ticks\": \"\"}}, \"marker\": {\"colorbar\": {\"outlinewidth\": 0, \"ticks\": \"\"}}, \"type\": \"scatter3d\"}], \"scattercarpet\": [{\"marker\": {\"colorbar\": {\"outlinewidth\": 0, \"ticks\": \"\"}}, \"type\": \"scattercarpet\"}], \"scattergeo\": [{\"marker\": {\"colorbar\": {\"outlinewidth\": 0, \"ticks\": \"\"}}, \"type\": \"scattergeo\"}], \"scattergl\": [{\"marker\": {\"colorbar\": {\"outlinewidth\": 0, \"ticks\": \"\"}}, \"type\": \"scattergl\"}], \"scattermapbox\": [{\"marker\": {\"colorbar\": {\"outlinewidth\": 0, \"ticks\": \"\"}}, \"type\": \"scattermapbox\"}], \"scatterpolar\": [{\"marker\": {\"colorbar\": {\"outlinewidth\": 0, \"ticks\": \"\"}}, \"type\": \"scatterpolar\"}], \"scatterpolargl\": [{\"marker\": {\"colorbar\": {\"outlinewidth\": 0, \"ticks\": \"\"}}, \"type\": \"scatterpolargl\"}], \"scatterternary\": [{\"marker\": {\"colorbar\": {\"outlinewidth\": 0, \"ticks\": \"\"}}, \"type\": \"scatterternary\"}], \"surface\": [{\"colorbar\": {\"outlinewidth\": 0, \"ticks\": \"\"}, \"colorscale\": [[0.0, \"#0d0887\"], [0.1111111111111111, \"#46039f\"], [0.2222222222222222, \"#7201a8\"], [0.3333333333333333, \"#9c179e\"], [0.4444444444444444, \"#bd3786\"], [0.5555555555555556, \"#d8576b\"], [0.6666666666666666, \"#ed7953\"], [0.7777777777777778, \"#fb9f3a\"], [0.8888888888888888, \"#fdca26\"], [1.0, \"#f0f921\"]], \"type\": \"surface\"}], \"table\": [{\"cells\": {\"fill\": {\"color\": \"#EBF0F8\"}, \"line\": {\"color\": \"white\"}}, \"header\": {\"fill\": {\"color\": \"#C8D4E3\"}, \"line\": {\"color\": \"white\"}}, \"type\": \"table\"}]}, \"layout\": {\"annotationdefaults\": {\"arrowcolor\": \"#2a3f5f\", \"arrowhead\": 0, \"arrowwidth\": 1}, \"autotypenumbers\": \"strict\", \"coloraxis\": {\"colorbar\": {\"outlinewidth\": 0, \"ticks\": \"\"}}, \"colorscale\": {\"diverging\": [[0, \"#8e0152\"], [0.1, \"#c51b7d\"], [0.2, \"#de77ae\"], [0.3, \"#f1b6da\"], [0.4, \"#fde0ef\"], [0.5, \"#f7f7f7\"], [0.6, \"#e6f5d0\"], [0.7, \"#b8e186\"], [0.8, \"#7fbc41\"], [0.9, \"#4d9221\"], [1, \"#276419\"]], \"sequential\": [[0.0, \"#0d0887\"], [0.1111111111111111, \"#46039f\"], [0.2222222222222222, \"#7201a8\"], [0.3333333333333333, \"#9c179e\"], [0.4444444444444444, \"#bd3786\"], [0.5555555555555556, \"#d8576b\"], [0.6666666666666666, \"#ed7953\"], [0.7777777777777778, \"#fb9f3a\"], [0.8888888888888888, \"#fdca26\"], [1.0, \"#f0f921\"]], \"sequentialminus\": [[0.0, \"#0d0887\"], [0.1111111111111111, \"#46039f\"], [0.2222222222222222, \"#7201a8\"], [0.3333333333333333, \"#9c179e\"], [0.4444444444444444, \"#bd3786\"], [0.5555555555555556, \"#d8576b\"], [0.6666666666666666, \"#ed7953\"], [0.7777777777777778, \"#fb9f3a\"], [0.8888888888888888, \"#fdca26\"], [1.0, \"#f0f921\"]]}, \"colorway\": [\"#636efa\", \"#EF553B\", \"#00cc96\", \"#ab63fa\", \"#FFA15A\", \"#19d3f3\", \"#FF6692\", \"#B6E880\", \"#FF97FF\", \"#FECB52\"], \"font\": {\"color\": \"#2a3f5f\"}, \"geo\": {\"bgcolor\": \"white\", \"lakecolor\": \"white\", \"landcolor\": \"#E5ECF6\", \"showlakes\": true, \"showland\": true, \"subunitcolor\": \"white\"}, \"hoverlabel\": {\"align\": \"left\"}, \"hovermode\": \"closest\", \"mapbox\": {\"style\": \"light\"}, \"paper_bgcolor\": \"white\", \"plot_bgcolor\": \"#E5ECF6\", \"polar\": {\"angularaxis\": {\"gridcolor\": \"white\", \"linecolor\": \"white\", \"ticks\": \"\"}, \"bgcolor\": \"#E5ECF6\", \"radialaxis\": {\"gridcolor\": \"white\", \"linecolor\": \"white\", \"ticks\": \"\"}}, \"scene\": {\"xaxis\": {\"backgroundcolor\": \"#E5ECF6\", \"gridcolor\": \"white\", \"gridwidth\": 2, \"linecolor\": \"white\", \"showbackground\": true, \"ticks\": \"\", \"zerolinecolor\": \"white\"}, \"yaxis\": {\"backgroundcolor\": \"#E5ECF6\", \"gridcolor\": \"white\", \"gridwidth\": 2, \"linecolor\": \"white\", \"showbackground\": true, \"ticks\": \"\", \"zerolinecolor\": \"white\"}, \"zaxis\": {\"backgroundcolor\": \"#E5ECF6\", \"gridcolor\": \"white\", \"gridwidth\": 2, \"linecolor\": \"white\", \"showbackground\": true, \"ticks\": \"\", \"zerolinecolor\": \"white\"}}, \"shapedefaults\": {\"line\": {\"color\": \"#2a3f5f\"}}, \"ternary\": {\"aaxis\": {\"gridcolor\": \"white\", \"linecolor\": \"white\", \"ticks\": \"\"}, \"baxis\": {\"gridcolor\": \"white\", \"linecolor\": \"white\", \"ticks\": \"\"}, \"bgcolor\": \"#E5ECF6\", \"caxis\": {\"gridcolor\": \"white\", \"linecolor\": \"white\", \"ticks\": \"\"}}, \"title\": {\"x\": 0.05}, \"xaxis\": {\"automargin\": true, \"gridcolor\": \"white\", \"linecolor\": \"white\", \"ticks\": \"\", \"title\": {\"standoff\": 15}, \"zerolinecolor\": \"white\", \"zerolinewidth\": 2}, \"yaxis\": {\"automargin\": true, \"gridcolor\": \"white\", \"linecolor\": \"white\", \"ticks\": \"\", \"title\": {\"standoff\": 15}, \"zerolinecolor\": \"white\", \"zerolinewidth\": 2}}}, \"title\": {\"text\": \"Productivity of departments in each quarter\", \"x\": 0.5}, \"xaxis\": {\"anchor\": \"y\", \"categoryarray\": [\"sewing\", \"finishing\"], \"categoryorder\": \"array\", \"domain\": [0.0, 0.18400000000000002], \"title\": {\"text\": \"department\"}}, \"xaxis2\": {\"anchor\": \"y2\", \"categoryarray\": [\"sewing\", \"finishing\"], \"categoryorder\": \"array\", \"domain\": [0.20400000000000001, 0.388], \"matches\": \"x\", \"title\": {\"text\": \"department\"}}, \"xaxis3\": {\"anchor\": \"y3\", \"categoryarray\": [\"sewing\", \"finishing\"], \"categoryorder\": \"array\", \"domain\": [0.40800000000000003, 0.5920000000000001], \"matches\": \"x\", \"title\": {\"text\": \"department\"}}, \"xaxis4\": {\"anchor\": \"y4\", \"categoryarray\": [\"sewing\", \"finishing\"], \"categoryorder\": \"array\", \"domain\": [0.6120000000000001, 0.7960000000000002], \"matches\": \"x\", \"title\": {\"text\": \"department\"}}, \"xaxis5\": {\"anchor\": \"y5\", \"categoryarray\": [\"sewing\", \"finishing\"], \"categoryorder\": \"array\", \"domain\": [0.8160000000000001, 1.0], \"matches\": \"x\", \"title\": {\"text\": \"department\"}}, \"yaxis\": {\"anchor\": \"x\", \"domain\": [0.0, 1.0], \"title\": {\"text\": \"actual_productivity\"}}, \"yaxis2\": {\"anchor\": \"x2\", \"domain\": [0.0, 1.0], \"matches\": \"y\", \"showticklabels\": false}, \"yaxis3\": {\"anchor\": \"x3\", \"domain\": [0.0, 1.0], \"matches\": \"y\", \"showticklabels\": false}, \"yaxis4\": {\"anchor\": \"x4\", \"domain\": [0.0, 1.0], \"matches\": \"y\", \"showticklabels\": false}, \"yaxis5\": {\"anchor\": \"x5\", \"domain\": [0.0, 1.0], \"matches\": \"y\", \"showticklabels\": false}},                        {\"responsive\": true}                    ).then(function(){\n",
       "                            \n",
       "var gd = document.getElementById('4ab6d9fd-6c7e-4e46-8bae-7846fc3313a8');\n",
       "var x = new MutationObserver(function (mutations, observer) {{\n",
       "        var display = window.getComputedStyle(gd).display;\n",
       "        if (!display || display === 'none') {{\n",
       "            console.log([gd, 'removed!']);\n",
       "            Plotly.purge(gd);\n",
       "            observer.disconnect();\n",
       "        }}\n",
       "}});\n",
       "\n",
       "// Listen for the removal of the full notebook cells\n",
       "var notebookContainer = gd.closest('#notebook-container');\n",
       "if (notebookContainer) {{\n",
       "    x.observe(notebookContainer, {childList: true});\n",
       "}}\n",
       "\n",
       "// Listen for the clearing of the current output cell\n",
       "var outputEl = gd.closest('.output');\n",
       "if (outputEl) {{\n",
       "    x.observe(outputEl, {childList: true});\n",
       "}}\n",
       "\n",
       "                        })                };                });            </script>        </div>"
      ]
     },
     "metadata": {}
    }
   ],
   "metadata": {
    "execution": {
     "iopub.execute_input": "2021-04-10T14:15:09.772389Z",
     "iopub.status.busy": "2021-04-10T14:15:09.771095Z",
     "iopub.status.idle": "2021-04-10T14:15:09.957818Z",
     "shell.execute_reply": "2021-04-10T14:15:09.958347Z"
    },
    "papermill": {
     "duration": 0.255989,
     "end_time": "2021-04-10T14:15:09.958520",
     "exception": false,
     "start_time": "2021-04-10T14:15:09.702531",
     "status": "completed"
    },
    "tags": []
   }
  },
  {
   "cell_type": "markdown",
   "source": [
    "# Productivity in each month"
   ],
   "metadata": {
    "papermill": {
     "duration": 0.055407,
     "end_time": "2021-04-10T14:15:10.069022",
     "exception": false,
     "start_time": "2021-04-10T14:15:10.013615",
     "status": "completed"
    },
    "tags": []
   }
  },
  {
   "cell_type": "code",
   "execution_count": 26,
   "source": [
    "fig = go.Figure()\n",
    "fig.add_trace(go.Bar(\n",
    "    y=df['month_name'].to_list(),\n",
    "    x=df['no_of_workers'].to_list(),\n",
    "    name='Sewing',\n",
    "    orientation='h',\n",
    "    marker=dict(\n",
    "        color='rgba(246, 78, 139, 0.6)',\n",
    "        line=dict(color='rgba(246, 78, 139, 1.0)', width=3)\n",
    "    )\n",
    "))\n",
    "fig.add_trace(go.Bar(\n",
    "    y=df['month_name'].to_list(),\n",
    "    x=df['no_of_workers'].to_list(),\n",
    "    name='Finishing',\n",
    "    orientation='h',\n",
    "    marker=dict(\n",
    "        color='rgba(58, 71, 80, 0.6)',\n",
    "        line=dict(color='rgba(58, 71, 80, 1.0)', width=3)\n",
    "    )\n",
    "))\n",
    "\n",
    "fig.update_layout(barmode='stack')\n",
    "fig.show()"
   ],
   "outputs": [
    {
     "output_type": "display_data",
     "data": {
      "text/html": [
       "<div>                            <div id=\"a6d7f391-905d-4a49-bd7e-1e859c2c79ad\" class=\"plotly-graph-div\" style=\"height:525px; width:100%;\"></div>            <script type=\"text/javascript\">                require([\"plotly\"], function(Plotly) {                    window.PLOTLYENV=window.PLOTLYENV || {};                                    if (document.getElementById(\"a6d7f391-905d-4a49-bd7e-1e859c2c79ad\")) {                    Plotly.newPlot(                        \"a6d7f391-905d-4a49-bd7e-1e859c2c79ad\",                        [{\"marker\": {\"color\": \"rgba(246, 78, 139, 0.6)\", \"line\": {\"color\": \"rgba(246, 78, 139, 1.0)\", \"width\": 3}}, \"name\": \"Sewing\", \"orientation\": \"h\", \"type\": \"bar\", \"x\": [59.0, 8.0, 30.5, 30.5, 56.0, 56.0, 8.0, 57.5, 55.0, 57.5, 57.5, 54.0, 30.5, 8.0, 8.0, 18.0, 8.0, 60.0, 12.0, 20.0, 17.0, 8.0, 8.0, 8.0, 56.5, 54.5, 59.0, 59.0, 29.5, 31.5, 56.0, 56.0, 54.0, 8.0, 55.0, 8.0, 60.0, 57.5, 8.0, 8.0, 8.0, 8.0, 8.0, 31.0, 20.0, 59.0, 56.5, 56.5, 55.5, 59.0, 55.5, 31.0, 8.0, 18.0, 54.0, 55.0, 57.5, 8.0, 8.0, 58.0, 8.0, 8.0, 10.0, 16.0, 8.0, 59.0, 8.0, 8.0, 56.5, 56.5, 59.0, 55.0, 32.0, 32.0, 57.5, 57.5, 8.0, 8.0, 58.5, 55.0, 8.0, 8.0, 58.0, 18.0, 8.0, 10.0, 15.0, 8.0, 59.0, 59.0, 8.0, 8.0, 57.5, 57.5, 55.0, 31.5, 56.5, 56.5, 31.5, 58.5, 55.0, 8.0, 58.0, 8.0, 8.0, 8.0, 59.0, 59.0, 56.5, 15.0, 18.0, 8.0, 8.0, 8.0, 57.5, 57.5, 30.5, 55.0, 31.5, 56.5, 58.5, 58.0, 8.0, 10.0, 55.0, 8.0, 8.0, 20.0, 59.0, 8.0, 59.0, 58.5, 56.5, 56.5, 8.0, 8.0, 58.5, 55.0, 31.5, 30.5, 58.5, 8.0, 8.0, 12.0, 8.0, 5.0, 54.0, 57.0, 8.0, 12.0, 20.0, 8.0, 59.0, 56.5, 56.5, 8.0, 8.0, 8.0, 58.0, 57.5, 31.5, 30.5, 59.0, 58.5, 56.0, 53.0, 8.0, 8.0, 56.0, 8.0, 8.0, 20.0, 59.0, 8.0, 8.0, 59.0, 56.5, 56.5, 8.0, 8.0, 30.5, 31.5, 58.5, 58.5, 55.0, 8.0, 8.0, 8.0, 53.0, 8.0, 8.0, 58.0, 57.0, 8.0, 18.0, 10.0, 8.0, 8.0, 59.0, 59.0, 56.5, 56.5, 8.0, 8.0, 55.0, 31.5, 31.5, 58.5, 8.0, 58.5, 59.0, 53.0, 8.0, 8.0, 51.5, 8.0, 12.0, 2.0, 20.0, 9.0, 8.0, 59.0, 59.0, 57.0, 56.5, 8.0, 8.0, 31.5, 31.5, 58.5, 55.0, 8.0, 8.0, 8.0, 53.0, 58.0, 56.5, 56.5, 7.0, 8.0, 56.5, 8.0, 15.0, 8.0, 59.0, 56.5, 8.0, 7.0, 31.5, 31.5, 59.0, 58.0, 8.0, 57.0, 56.5, 55.0, 8.0, 57.0, 8.0, 20.0, 19.0, 8.0, 8.0, 8.0, 59.0, 56.5, 56.5, 59.0, 31.5, 31.5, 58.0, 8.0, 56.5, 56.0, 8.0, 56.5, 55.0, 54.5, 15.0, 10.0, 8.0, 8.0, 10.0, 30.5, 31.5, 56.5, 56.5, 59.0, 59.0, 56.5, 56.5, 8.0, 8.0, 54.0, 56.5, 56.0, 5.0, 58.0, 7.0, 8.0, 12.0, 10.0, 30.5, 56.5, 56.5, 59.0, 56.5, 56.0, 8.0, 31.5, 56.5, 57.0, 56.5, 8.0, 58.0, 10.0, 57.5, 8.0, 28.0, 10.0, 8.0, 31.0, 56.5, 59.0, 8.0, 56.5, 57.0, 56.5, 56.0, 57.0, 8.0, 58.0, 57.0, 56.5, 8.0, 8.0, 34.0, 8.0, 31.0, 56.5, 59.0, 57.0, 56.0, 57.0, 57.0, 10.0, 57.0, 57.0, 8.0, 34.0, 56.0, 15.0, 20.0, 17.0, 56.0, 89.0, 8.0, 56.5, 57.0, 56.0, 8.0, 58.0, 57.0, 57.0, 57.0, 34.0, 8.0, 58.0, 8.0, 56.0, 9.0, 10.0, 14.0, 56.0, 57.0, 32.0, 56.0, 57.0, 57.0, 15.0, 58.0, 57.0, 15.0, 25.0, 25.0, 8.0, 34.0, 57.0, 56.5, 58.0, 20.0, 8.0, 9.0, 15.0, 10.0, 9.0, 57.0, 57.0, 10.0, 8.0, 12.0, 9.0, 57.0, 56.0, 32.0, 57.0, 34.0, 57.0, 58.0, 12.0, 56.5, 58.0, 8.0, 8.0, 52.0, 8.0, 17.0, 8.0, 8.0, 9.0, 19.0, 12.0, 57.0, 58.5, 58.5, 57.5, 32.0, 56.0, 14.0, 56.5, 34.0, 58.0, 58.0, 9.0, 57.0, 52.0, 4.0, 10.0, 21.0, 12.0, 15.0, 10.0, 10.0, 56.5, 32.0, 57.0, 57.0, 58.0, 56.0, 9.0, 58.0, 58.0, 34.0, 8.0, 52.0, 57.0, 57.0, 57.0, 12.0, 12.0, 12.0, 56.0, 12.0, 56.5, 8.0, 9.0, 8.0, 58.0, 10.0, 10.0, 58.0, 34.0, 52.0, 32.0, 8.0, 58.0, 54.0, 57.0, 57.0, 15.0, 10.0, 15.0, 56.0, 58.0, 10.0, 58.0, 56.5, 9.0, 58.0, 35.0, 12.0, 8.0, 54.0, 52.0, 32.0, 8.0, 55.0, 8.0, 57.0, 10.0, 57.0, 57.5, 56.0, 10.0, 8.0, 8.0, 10.0, 10.0, 58.0, 58.0, 59.0, 10.0, 35.0, 9.0, 51.0, 33.0, 8.0, 55.0, 58.0, 57.0, 10.0, 8.0, 10.0, 10.0, 15.0, 2.0, 9.0, 2.0, 10.0, 8.0, 5.0, 10.0, 56.0, 57.5, 57.0, 58.0, 35.0, 59.0, 54.0, 33.0, 56.0, 54.0, 8.0, 57.5, 58.5, 19.0, 57.0, 10.0, 18.0, 10.0, 56.0, 58.5, 12.0, 58.0, 35.0, 9.0, 54.0, 33.0, 55.0, 56.0, 10.0, 58.5, 8.0, 58.5, 57.0, 56.0, 10.0, 12.0, 35.0, 56.5, 58.0, 9.0, 54.0, 33.0, 8.0, 19.0, 58.0, 56.0, 10.0, 55.0, 20.0, 57.5, 56.0, 10.0, 8.0, 57.0, 58.0, 11.0, 56.5, 35.0, 9.0, 58.0, 54.0, 33.5, 55.5, 56.0, 12.0, 8.0, 58.0, 57.5, 57.0, 56.0, 18.0, 10.0, 25.0, 57.5, 34.0, 58.0, 8.0, 8.0, 33.0, 58.0, 53.0, 57.0, 9.0, 58.5, 8.0, 55.5, 56.5, 57.5, 56.0, 22.0, 57.0, 8.0, 9.0, 10.0, 12.0, 34.0, 58.0, 8.0, 26.0, 33.0, 58.0, 58.0, 53.0, 57.0, 25.0, 58.0, 57.0, 57.0, 56.0, 9.0, 10.0, 8.0, 34.0, 58.0, 8.0, 33.0, 27.0, 10.0, 58.0, 57.0, 59.0, 8.0, 57.0, 57.5, 12.0, 56.0, 56.5, 56.0, 10.0, 9.0, 18.0, 15.0, 34.0, 58.0, 33.0, 27.0, 58.5, 8.0, 8.0, 56.5, 58.0, 57.0, 18.0, 10.0, 56.0, 57.0, 57.0, 8.0, 34.0, 57.0, 58.0, 57.0, 54.0, 15.0, 58.0, 8.0, 34.0, 58.0, 58.0, 9.0, 9.0, 18.0, 56.0, 57.0, 57.0, 57.0, 12.0, 58.0, 34.0, 15.0, 34.0, 54.0, 58.0, 8.0, 58.0, 8.0, 8.0, 58.0, 58.0, 15.0, 9.0, 57.5, 57.0, 12.0, 18.0, 2.0, 56.0, 34.0, 34.0, 58.0, 59.5, 58.0, 59.5, 12.0, 58.0, 8.0, 57.0, 52.0, 57.0, 15.0, 57.5, 9.0, 34.0, 12.0, 59.0, 33.0, 12.0, 8.0, 59.0, 18.0, 2.0, 59.0, 55.0, 58.0, 59.0, 50.0, 58.0, 57.0, 15.0, 20.0, 9.0, 34.0, 57.0, 12.0, 59.0, 59.0, 8.0, 60.0, 60.0, 55.0, 34.0, 58.0, 8.0, 8.0, 8.0, 8.0, 57.0, 9.0, 34.0, 2.0, 59.5, 10.0, 59.0, 59.0, 34.0, 53.0, 8.0, 8.0, 59.5, 58.0, 57.5, 20.0, 54.0, 57.0, 10.0, 9.0, 8.0, 58.0, 59.0, 34.0, 8.0, 33.0, 58.0, 15.0, 59.0, 10.0, 59.0, 54.0, 44.0, 54.0, 15.0, 57.0, 8.0, 10.0, 9.0, 34.0, 15.0, 33.0, 58.0, 8.0, 59.0, 56.0, 58.0, 8.0, 59.0, 51.0, 58.0, 8.0, 15.0, 56.0, 49.0, 10.0, 12.0, 12.0, 56.0, 58.0, 59.0, 34.0, 57.0, 33.0, 59.0, 8.0, 58.0, 51.0, 8.0, 8.0, 8.0, 8.0, 57.0, 47.0, 8.0, 57.0, 12.0, 34.0, 57.0, 58.5, 59.5, 18.0, 33.0, 10.0, 15.0, 58.0, 58.0, 57.0, 8.0, 8.0, 51.0, 8.0, 59.0, 9.0, 57.0, 48.0, 15.0, 8.0, 20.0, 12.0, 34.0, 59.0, 10.0, 10.0, 33.0, 12.0, 57.0, 57.0, 58.0, 57.0, 58.0, 50.0, 58.0, 8.0, 60.0, 8.0, 20.0, 8.0, 9.0, 18.0, 34.0, 59.0, 59.0, 58.0, 33.0, 58.0, 58.0, 57.0, 58.0, 50.0, 50.0, 8.0, 8.0, 8.0, 8.0, 15.0, 12.0, 34.0, 60.0, 59.0, 8.0, 59.0, 33.0, 57.0, 60.0, 15.0, 15.0, 59.0, 58.0, 52.0, 8.0, 53.0, 8.0, 42.0, 52.0, 9.0, 20.0, 15.0, 10.0, 59.0, 34.0, 59.0, 33.0, 57.0, 58.0, 58.0, 58.0, 52.0, 8.0, 8.0, 59.0, 42.0, 8.0, 8.0, 8.0, 15.0, 18.0, 59.0, 57.0, 34.0, 8.0, 33.0, 57.0, 52.0, 58.0, 52.0, 58.0, 9.0, 8.0, 59.0, 57.0, 8.0, 8.0, 55.0, 8.0, 8.0, 15.0, 18.0, 58.0, 34.0, 59.0, 8.0, 57.0, 33.0, 58.0, 52.0, 51.0, 58.0, 9.0, 8.0, 57.0, 57.0, 58.0, 8.0, 8.0, 8.0, 8.0, 25.0, 8.0, 34.0, 57.0, 33.0, 57.0, 52.0, 56.0, 52.0, 57.0, 58.0, 57.0, 8.0, 8.0, 57.0, 8.0, 58.0, 8.0, 8.0, 8.0, 10.0, 24.0, 8.0, 57.0, 34.0, 10.0, 57.0, 57.0, 59.0, 8.0, 33.0, 57.0, 52.0, 57.0, 56.0, 51.0, 8.0, 9.0, 8.0, 8.0, 10.0, 15.0, 56.0, 58.0, 34.0, 57.0, 59.0, 58.0, 57.0, 52.0, 33.0, 8.0, 57.0, 51.0, 9.0, 15.0, 8.0, 8.0, 8.0, 8.0, 8.0, 45.0, 10.0, 8.0, 9.0, 8.0, 8.0, 8.0, 56.0, 34.0, 57.0, 59.0, 58.0, 58.0, 52.0, 58.0, 53.0, 20.0, 8.0, 8.0, 57.0, 46.0, 33.0, 22.0, 8.0, 10.0, 9.0, 8.0, 8.0, 15.0, 56.0, 57.0, 34.0, 58.0, 52.0, 59.0, 58.0, 50.0, 46.0, 8.0, 59.0, 39.0, 9.0, 34.0, 58.0, 25.0, 10.0, 58.0, 57.0, 58.0, 8.0, 51.0, 50.0, 8.0, 8.0, 8.0, 45.0, 15.0, 8.0, 39.0, 58.0, 12.0, 9.0, 9.0, 8.0, 8.0, 10.0, 8.0, 57.0, 58.0, 57.0, 34.0, 58.0, 8.0, 52.0, 50.0, 45.0, 38.0, 56.0, 59.0, 8.0, 8.0, 8.0, 8.0, 9.0, 12.0, 58.0, 59.0, 15.0, 58.0, 34.0, 58.0, 12.0, 8.0, 8.0, 52.0, 45.0, 50.0, 10.0, 38.0, 56.0, 59.0, 55.0, 8.0, 8.0, 9.0, 12.0, 59.0, 12.0, 8.0, 8.0, 59.0, 15.0, 34.0, 58.0, 58.0, 8.0, 50.0, 52.0, 8.0, 57.0, 38.0, 45.0, 59.0, 57.0, 8.0, 8.0, 8.0, 9.0, 10.0, 8.0, 8.0, 8.0, 34.0, 58.0, 58.0, 8.0, 12.0, 50.0, 52.0, 45.0, 59.0, 59.0, 58.0, 57.0, 38.0, 57.0, 8.0, 8.0, 8.0, 15.0, 6.0], \"y\": [\"January\", \"January\", \"January\", \"January\", \"January\", \"January\", \"January\", \"January\", \"January\", \"January\", \"January\", \"January\", \"January\", \"January\", \"January\", \"January\", \"January\", \"January\", \"January\", \"January\", \"January\", \"January\", \"January\", \"January\", \"January\", \"January\", \"January\", \"January\", \"January\", \"January\", \"January\", \"January\", \"January\", \"January\", \"January\", \"January\", \"January\", \"January\", \"January\", \"January\", \"January\", \"January\", \"January\", \"January\", \"January\", \"January\", \"January\", \"January\", \"January\", \"January\", \"January\", \"January\", \"January\", \"January\", \"January\", \"January\", \"January\", \"January\", \"January\", \"January\", \"January\", \"January\", \"January\", \"January\", \"January\", \"January\", \"January\", \"January\", \"January\", \"January\", \"January\", \"January\", \"January\", \"January\", \"January\", \"January\", \"January\", \"January\", \"January\", \"January\", \"January\", \"January\", \"January\", \"January\", \"January\", \"January\", \"January\", \"January\", \"January\", \"January\", \"January\", \"January\", \"January\", \"January\", \"January\", \"January\", \"January\", \"January\", \"January\", \"January\", \"January\", \"January\", \"January\", \"January\", \"January\", \"January\", \"January\", \"January\", \"January\", \"January\", \"January\", \"January\", \"January\", \"January\", \"January\", \"January\", \"January\", \"January\", \"January\", \"January\", \"January\", \"January\", \"January\", \"January\", \"January\", \"January\", \"January\", \"January\", \"January\", \"January\", \"January\", \"January\", \"January\", \"January\", \"January\", \"January\", \"January\", \"January\", \"January\", \"January\", \"January\", \"January\", \"January\", \"January\", \"January\", \"January\", \"January\", \"January\", \"January\", \"January\", \"January\", \"January\", \"January\", \"January\", \"January\", \"January\", \"January\", \"January\", \"January\", \"January\", \"January\", \"January\", \"January\", \"January\", \"January\", \"January\", \"January\", \"January\", \"January\", \"January\", \"January\", \"January\", \"January\", \"January\", \"January\", \"January\", \"January\", \"January\", \"January\", \"January\", \"January\", \"January\", \"January\", \"January\", \"January\", \"January\", \"January\", \"January\", \"January\", \"January\", \"January\", \"January\", \"January\", \"January\", \"January\", \"January\", \"January\", \"January\", \"January\", \"January\", \"January\", \"January\", \"January\", \"January\", \"January\", \"January\", \"January\", \"January\", \"January\", \"January\", \"January\", \"January\", \"January\", \"January\", \"January\", \"January\", \"January\", \"January\", \"January\", \"January\", \"January\", \"January\", \"January\", \"January\", \"January\", \"January\", \"January\", \"January\", \"January\", \"January\", \"January\", \"January\", \"January\", \"January\", \"January\", \"January\", \"January\", \"January\", \"January\", \"January\", \"January\", \"January\", \"January\", \"January\", \"January\", \"January\", \"January\", \"January\", \"January\", \"January\", \"January\", \"January\", \"January\", \"January\", \"January\", \"January\", \"January\", \"January\", \"January\", \"January\", \"January\", \"January\", \"January\", \"January\", \"January\", \"January\", \"January\", \"January\", \"January\", \"January\", \"January\", \"January\", \"January\", \"January\", \"January\", \"January\", \"January\", \"January\", \"January\", \"January\", \"January\", \"January\", \"January\", \"January\", \"January\", \"January\", \"January\", \"January\", \"January\", \"January\", \"January\", \"January\", \"January\", \"January\", \"January\", \"January\", \"January\", \"January\", \"January\", \"January\", \"January\", \"January\", \"January\", \"January\", \"January\", \"January\", \"January\", \"January\", \"January\", \"January\", \"January\", \"January\", \"January\", \"January\", \"January\", \"January\", \"January\", \"January\", \"January\", \"January\", \"January\", \"January\", \"January\", \"January\", \"January\", \"January\", \"January\", \"January\", \"January\", \"January\", \"January\", \"January\", \"January\", \"January\", \"January\", \"January\", \"January\", \"January\", \"January\", \"January\", \"January\", \"January\", \"January\", \"January\", \"January\", \"January\", \"January\", \"January\", \"January\", \"January\", \"January\", \"January\", \"January\", \"January\", \"January\", \"January\", \"January\", \"January\", \"January\", \"January\", \"January\", \"January\", \"January\", \"January\", \"January\", \"January\", \"January\", \"January\", \"January\", \"January\", \"January\", \"January\", \"January\", \"January\", \"January\", \"January\", \"January\", \"January\", \"January\", \"January\", \"January\", \"January\", \"January\", \"January\", \"January\", \"January\", \"January\", \"January\", \"January\", \"January\", \"January\", \"January\", \"January\", \"January\", \"January\", \"January\", \"January\", \"January\", \"January\", \"January\", \"January\", \"January\", \"January\", \"January\", \"January\", \"January\", \"January\", \"January\", \"January\", \"January\", \"January\", \"January\", \"January\", \"January\", \"January\", \"January\", \"January\", \"January\", \"January\", \"January\", \"January\", \"January\", \"January\", \"January\", \"January\", \"January\", \"January\", \"January\", \"January\", \"January\", \"January\", \"January\", \"January\", \"January\", \"January\", \"January\", \"January\", \"January\", \"January\", \"January\", \"January\", \"January\", \"January\", \"January\", \"January\", \"January\", \"January\", \"January\", \"January\", \"January\", \"January\", \"January\", \"January\", \"January\", \"January\", \"January\", \"January\", \"January\", \"January\", \"January\", \"January\", \"January\", \"January\", \"January\", \"January\", \"January\", \"January\", \"January\", \"January\", \"January\", \"January\", \"January\", \"January\", \"January\", \"January\", \"January\", \"January\", \"January\", \"January\", \"January\", \"January\", \"January\", \"January\", \"January\", \"January\", \"January\", \"January\", \"January\", \"January\", \"January\", \"January\", \"January\", \"January\", \"January\", \"January\", \"January\", \"January\", \"January\", \"January\", \"January\", \"January\", \"January\", \"January\", \"January\", \"January\", \"January\", \"January\", \"January\", \"January\", \"January\", \"January\", \"January\", \"January\", \"January\", \"January\", \"January\", \"January\", \"January\", \"January\", \"January\", \"January\", \"January\", \"January\", \"January\", \"January\", \"January\", \"January\", \"January\", \"January\", \"January\", \"January\", \"January\", \"January\", \"January\", \"January\", \"January\", \"January\", \"January\", \"January\", \"January\", \"January\", \"January\", \"February\", \"February\", \"February\", \"February\", \"February\", \"February\", \"February\", \"February\", \"February\", \"February\", \"February\", \"February\", \"February\", \"February\", \"February\", \"February\", \"February\", \"February\", \"February\", \"February\", \"February\", \"February\", \"February\", \"February\", \"February\", \"February\", \"February\", \"February\", \"February\", \"February\", \"February\", \"February\", \"February\", \"February\", \"February\", \"February\", \"February\", \"February\", \"February\", \"February\", \"February\", \"February\", \"February\", \"February\", \"February\", \"February\", \"February\", \"February\", \"February\", \"February\", \"February\", \"February\", \"February\", \"February\", \"February\", \"February\", \"February\", \"February\", \"February\", \"February\", \"February\", \"February\", \"February\", \"February\", \"February\", \"February\", \"February\", \"February\", \"February\", \"February\", \"February\", \"February\", \"February\", \"February\", \"February\", \"February\", \"February\", \"February\", \"February\", \"February\", \"February\", \"February\", \"February\", \"February\", \"February\", \"February\", \"February\", \"February\", \"February\", \"February\", \"February\", \"February\", \"February\", \"February\", \"February\", \"February\", \"February\", \"February\", \"February\", \"February\", \"February\", \"February\", \"February\", \"February\", \"February\", \"February\", \"February\", \"February\", \"February\", \"February\", \"February\", \"February\", \"February\", \"February\", \"February\", \"February\", \"February\", \"February\", \"February\", \"February\", \"February\", \"February\", \"February\", \"February\", \"February\", \"February\", \"February\", \"February\", \"February\", \"February\", \"February\", \"February\", \"February\", \"February\", \"February\", \"February\", \"February\", \"February\", \"February\", \"February\", \"February\", \"February\", \"February\", \"February\", \"February\", \"February\", \"February\", \"February\", \"February\", \"February\", \"February\", \"February\", \"February\", \"February\", \"February\", \"February\", \"February\", \"February\", \"February\", \"February\", \"February\", \"February\", \"February\", \"February\", \"February\", \"February\", \"February\", \"February\", \"February\", \"February\", \"February\", \"February\", \"February\", \"February\", \"February\", \"February\", \"February\", \"February\", \"February\", \"February\", \"February\", \"February\", \"February\", \"February\", \"February\", \"February\", \"February\", \"February\", \"February\", \"February\", \"February\", \"February\", \"February\", \"February\", \"February\", \"February\", \"February\", \"February\", \"February\", \"February\", \"February\", \"February\", \"February\", \"February\", \"February\", \"February\", \"February\", \"February\", \"February\", \"February\", \"February\", \"February\", \"February\", \"February\", \"February\", \"February\", \"February\", \"February\", \"February\", \"February\", \"February\", \"February\", \"February\", \"February\", \"February\", \"February\", \"February\", \"February\", \"February\", \"February\", \"February\", \"February\", \"February\", \"February\", \"February\", \"February\", \"February\", \"February\", \"February\", \"February\", \"February\", \"February\", \"February\", \"February\", \"February\", \"February\", \"February\", \"February\", \"February\", \"February\", \"February\", \"February\", \"February\", \"February\", \"February\", \"February\", \"February\", \"February\", \"February\", \"February\", \"February\", \"February\", \"February\", \"February\", \"February\", \"February\", \"February\", \"February\", \"February\", \"February\", \"February\", \"February\", \"February\", \"February\", \"February\", \"February\", \"February\", \"February\", \"February\", \"February\", \"February\", \"February\", \"February\", \"February\", \"February\", \"February\", \"February\", \"February\", \"February\", \"February\", \"February\", \"February\", \"February\", \"February\", \"February\", \"February\", \"February\", \"February\", \"February\", \"February\", \"February\", \"February\", \"February\", \"February\", \"February\", \"February\", \"February\", \"February\", \"February\", \"February\", \"February\", \"February\", \"February\", \"February\", \"February\", \"February\", \"February\", \"February\", \"February\", \"February\", \"February\", \"February\", \"February\", \"February\", \"February\", \"February\", \"February\", \"February\", \"February\", \"February\", \"February\", \"February\", \"February\", \"February\", \"February\", \"February\", \"February\", \"February\", \"February\", \"February\", \"February\", \"February\", \"February\", \"February\", \"February\", \"February\", \"February\", \"February\", \"February\", \"February\", \"February\", \"February\", \"February\", \"February\", \"February\", \"February\", \"February\", \"February\", \"February\", \"February\", \"February\", \"February\", \"February\", \"February\", \"February\", \"February\", \"February\", \"February\", \"February\", \"February\", \"February\", \"February\", \"February\", \"February\", \"February\", \"February\", \"February\", \"February\", \"February\", \"February\", \"February\", \"February\", \"February\", \"February\", \"February\", \"February\", \"February\", \"February\", \"February\", \"February\", \"February\", \"February\", \"February\", \"February\", \"February\", \"February\", \"February\", \"February\", \"February\", \"February\", \"February\", \"February\", \"February\", \"February\", \"February\", \"February\", \"February\", \"February\", \"February\", \"February\", \"February\", \"February\", \"February\", \"February\", \"February\", \"February\", \"February\", \"February\", \"February\", \"February\", \"February\", \"February\", \"February\", \"February\", \"February\", \"February\", \"February\", \"February\", \"February\", \"February\", \"February\", \"February\", \"February\", \"February\", \"February\", \"February\", \"February\", \"February\", \"February\", \"February\", \"February\", \"February\", \"February\", \"March\", \"March\", \"March\", \"March\", \"March\", \"March\", \"March\", \"March\", \"March\", \"March\", \"March\", \"March\", \"March\", \"March\", \"March\", \"March\", \"March\", \"March\", \"March\", \"March\", \"March\", \"March\", \"March\", \"March\", \"March\", \"March\", \"March\", \"March\", \"March\", \"March\", \"March\", \"March\", \"March\", \"March\", \"March\", \"March\", \"March\", \"March\", \"March\", \"March\", \"March\", \"March\", \"March\", \"March\", \"March\", \"March\", \"March\", \"March\", \"March\", \"March\", \"March\", \"March\", \"March\", \"March\", \"March\", \"March\", \"March\", \"March\", \"March\", \"March\", \"March\", \"March\", \"March\", \"March\", \"March\", \"March\", \"March\", \"March\", \"March\", \"March\", \"March\", \"March\", \"March\", \"March\", \"March\", \"March\", \"March\", \"March\", \"March\", \"March\", \"March\", \"March\", \"March\", \"March\", \"March\", \"March\", \"March\", \"March\", \"March\", \"March\", \"March\", \"March\", \"March\", \"March\", \"March\", \"March\", \"March\", \"March\", \"March\", \"March\", \"March\", \"March\", \"March\", \"March\", \"March\", \"March\", \"March\", \"March\", \"March\", \"March\", \"March\", \"March\", \"March\", \"March\", \"March\", \"March\", \"March\", \"March\", \"March\", \"March\", \"March\", \"March\", \"March\", \"March\", \"March\", \"March\", \"March\", \"March\", \"March\", \"March\", \"March\", \"March\", \"March\", \"March\", \"March\", \"March\", \"March\", \"March\", \"March\", \"March\", \"March\", \"March\", \"March\", \"March\", \"March\", \"March\", \"March\", \"March\", \"March\", \"March\", \"March\", \"March\", \"March\", \"March\", \"March\", \"March\", \"March\", \"March\", \"March\", \"March\", \"March\", \"March\", \"March\", \"March\", \"March\", \"March\", \"March\", \"March\", \"March\", \"March\", \"March\", \"March\", \"March\", \"March\", \"March\", \"March\", \"March\", \"March\", \"March\", \"March\", \"March\", \"March\", \"March\", \"March\", \"March\", \"March\", \"March\", \"March\", \"March\", \"March\", \"March\", \"March\", \"March\", \"March\", \"March\", \"March\", \"March\", \"March\", \"March\", \"March\", \"March\", \"March\", \"March\", \"March\", \"March\", \"March\", \"March\", \"March\", \"March\", \"March\", \"March\", \"March\"]}, {\"marker\": {\"color\": \"rgba(58, 71, 80, 0.6)\", \"line\": {\"color\": \"rgba(58, 71, 80, 1.0)\", \"width\": 3}}, \"name\": \"Finishing\", \"orientation\": \"h\", \"type\": \"bar\", \"x\": [59.0, 8.0, 30.5, 30.5, 56.0, 56.0, 8.0, 57.5, 55.0, 57.5, 57.5, 54.0, 30.5, 8.0, 8.0, 18.0, 8.0, 60.0, 12.0, 20.0, 17.0, 8.0, 8.0, 8.0, 56.5, 54.5, 59.0, 59.0, 29.5, 31.5, 56.0, 56.0, 54.0, 8.0, 55.0, 8.0, 60.0, 57.5, 8.0, 8.0, 8.0, 8.0, 8.0, 31.0, 20.0, 59.0, 56.5, 56.5, 55.5, 59.0, 55.5, 31.0, 8.0, 18.0, 54.0, 55.0, 57.5, 8.0, 8.0, 58.0, 8.0, 8.0, 10.0, 16.0, 8.0, 59.0, 8.0, 8.0, 56.5, 56.5, 59.0, 55.0, 32.0, 32.0, 57.5, 57.5, 8.0, 8.0, 58.5, 55.0, 8.0, 8.0, 58.0, 18.0, 8.0, 10.0, 15.0, 8.0, 59.0, 59.0, 8.0, 8.0, 57.5, 57.5, 55.0, 31.5, 56.5, 56.5, 31.5, 58.5, 55.0, 8.0, 58.0, 8.0, 8.0, 8.0, 59.0, 59.0, 56.5, 15.0, 18.0, 8.0, 8.0, 8.0, 57.5, 57.5, 30.5, 55.0, 31.5, 56.5, 58.5, 58.0, 8.0, 10.0, 55.0, 8.0, 8.0, 20.0, 59.0, 8.0, 59.0, 58.5, 56.5, 56.5, 8.0, 8.0, 58.5, 55.0, 31.5, 30.5, 58.5, 8.0, 8.0, 12.0, 8.0, 5.0, 54.0, 57.0, 8.0, 12.0, 20.0, 8.0, 59.0, 56.5, 56.5, 8.0, 8.0, 8.0, 58.0, 57.5, 31.5, 30.5, 59.0, 58.5, 56.0, 53.0, 8.0, 8.0, 56.0, 8.0, 8.0, 20.0, 59.0, 8.0, 8.0, 59.0, 56.5, 56.5, 8.0, 8.0, 30.5, 31.5, 58.5, 58.5, 55.0, 8.0, 8.0, 8.0, 53.0, 8.0, 8.0, 58.0, 57.0, 8.0, 18.0, 10.0, 8.0, 8.0, 59.0, 59.0, 56.5, 56.5, 8.0, 8.0, 55.0, 31.5, 31.5, 58.5, 8.0, 58.5, 59.0, 53.0, 8.0, 8.0, 51.5, 8.0, 12.0, 2.0, 20.0, 9.0, 8.0, 59.0, 59.0, 57.0, 56.5, 8.0, 8.0, 31.5, 31.5, 58.5, 55.0, 8.0, 8.0, 8.0, 53.0, 58.0, 56.5, 56.5, 7.0, 8.0, 56.5, 8.0, 15.0, 8.0, 59.0, 56.5, 8.0, 7.0, 31.5, 31.5, 59.0, 58.0, 8.0, 57.0, 56.5, 55.0, 8.0, 57.0, 8.0, 20.0, 19.0, 8.0, 8.0, 8.0, 59.0, 56.5, 56.5, 59.0, 31.5, 31.5, 58.0, 8.0, 56.5, 56.0, 8.0, 56.5, 55.0, 54.5, 15.0, 10.0, 8.0, 8.0, 10.0, 30.5, 31.5, 56.5, 56.5, 59.0, 59.0, 56.5, 56.5, 8.0, 8.0, 54.0, 56.5, 56.0, 5.0, 58.0, 7.0, 8.0, 12.0, 10.0, 30.5, 56.5, 56.5, 59.0, 56.5, 56.0, 8.0, 31.5, 56.5, 57.0, 56.5, 8.0, 58.0, 10.0, 57.5, 8.0, 28.0, 10.0, 8.0, 31.0, 56.5, 59.0, 8.0, 56.5, 57.0, 56.5, 56.0, 57.0, 8.0, 58.0, 57.0, 56.5, 8.0, 8.0, 34.0, 8.0, 31.0, 56.5, 59.0, 57.0, 56.0, 57.0, 57.0, 10.0, 57.0, 57.0, 8.0, 34.0, 56.0, 15.0, 20.0, 17.0, 56.0, 89.0, 8.0, 56.5, 57.0, 56.0, 8.0, 58.0, 57.0, 57.0, 57.0, 34.0, 8.0, 58.0, 8.0, 56.0, 9.0, 10.0, 14.0, 56.0, 57.0, 32.0, 56.0, 57.0, 57.0, 15.0, 58.0, 57.0, 15.0, 25.0, 25.0, 8.0, 34.0, 57.0, 56.5, 58.0, 20.0, 8.0, 9.0, 15.0, 10.0, 9.0, 57.0, 57.0, 10.0, 8.0, 12.0, 9.0, 57.0, 56.0, 32.0, 57.0, 34.0, 57.0, 58.0, 12.0, 56.5, 58.0, 8.0, 8.0, 52.0, 8.0, 17.0, 8.0, 8.0, 9.0, 19.0, 12.0, 57.0, 58.5, 58.5, 57.5, 32.0, 56.0, 14.0, 56.5, 34.0, 58.0, 58.0, 9.0, 57.0, 52.0, 4.0, 10.0, 21.0, 12.0, 15.0, 10.0, 10.0, 56.5, 32.0, 57.0, 57.0, 58.0, 56.0, 9.0, 58.0, 58.0, 34.0, 8.0, 52.0, 57.0, 57.0, 57.0, 12.0, 12.0, 12.0, 56.0, 12.0, 56.5, 8.0, 9.0, 8.0, 58.0, 10.0, 10.0, 58.0, 34.0, 52.0, 32.0, 8.0, 58.0, 54.0, 57.0, 57.0, 15.0, 10.0, 15.0, 56.0, 58.0, 10.0, 58.0, 56.5, 9.0, 58.0, 35.0, 12.0, 8.0, 54.0, 52.0, 32.0, 8.0, 55.0, 8.0, 57.0, 10.0, 57.0, 57.5, 56.0, 10.0, 8.0, 8.0, 10.0, 10.0, 58.0, 58.0, 59.0, 10.0, 35.0, 9.0, 51.0, 33.0, 8.0, 55.0, 58.0, 57.0, 10.0, 8.0, 10.0, 10.0, 15.0, 2.0, 9.0, 2.0, 10.0, 8.0, 5.0, 10.0, 56.0, 57.5, 57.0, 58.0, 35.0, 59.0, 54.0, 33.0, 56.0, 54.0, 8.0, 57.5, 58.5, 19.0, 57.0, 10.0, 18.0, 10.0, 56.0, 58.5, 12.0, 58.0, 35.0, 9.0, 54.0, 33.0, 55.0, 56.0, 10.0, 58.5, 8.0, 58.5, 57.0, 56.0, 10.0, 12.0, 35.0, 56.5, 58.0, 9.0, 54.0, 33.0, 8.0, 19.0, 58.0, 56.0, 10.0, 55.0, 20.0, 57.5, 56.0, 10.0, 8.0, 57.0, 58.0, 11.0, 56.5, 35.0, 9.0, 58.0, 54.0, 33.5, 55.5, 56.0, 12.0, 8.0, 58.0, 57.5, 57.0, 56.0, 18.0, 10.0, 25.0, 57.5, 34.0, 58.0, 8.0, 8.0, 33.0, 58.0, 53.0, 57.0, 9.0, 58.5, 8.0, 55.5, 56.5, 57.5, 56.0, 22.0, 57.0, 8.0, 9.0, 10.0, 12.0, 34.0, 58.0, 8.0, 26.0, 33.0, 58.0, 58.0, 53.0, 57.0, 25.0, 58.0, 57.0, 57.0, 56.0, 9.0, 10.0, 8.0, 34.0, 58.0, 8.0, 33.0, 27.0, 10.0, 58.0, 57.0, 59.0, 8.0, 57.0, 57.5, 12.0, 56.0, 56.5, 56.0, 10.0, 9.0, 18.0, 15.0, 34.0, 58.0, 33.0, 27.0, 58.5, 8.0, 8.0, 56.5, 58.0, 57.0, 18.0, 10.0, 56.0, 57.0, 57.0, 8.0, 34.0, 57.0, 58.0, 57.0, 54.0, 15.0, 58.0, 8.0, 34.0, 58.0, 58.0, 9.0, 9.0, 18.0, 56.0, 57.0, 57.0, 57.0, 12.0, 58.0, 34.0, 15.0, 34.0, 54.0, 58.0, 8.0, 58.0, 8.0, 8.0, 58.0, 58.0, 15.0, 9.0, 57.5, 57.0, 12.0, 18.0, 2.0, 56.0, 34.0, 34.0, 58.0, 59.5, 58.0, 59.5, 12.0, 58.0, 8.0, 57.0, 52.0, 57.0, 15.0, 57.5, 9.0, 34.0, 12.0, 59.0, 33.0, 12.0, 8.0, 59.0, 18.0, 2.0, 59.0, 55.0, 58.0, 59.0, 50.0, 58.0, 57.0, 15.0, 20.0, 9.0, 34.0, 57.0, 12.0, 59.0, 59.0, 8.0, 60.0, 60.0, 55.0, 34.0, 58.0, 8.0, 8.0, 8.0, 8.0, 57.0, 9.0, 34.0, 2.0, 59.5, 10.0, 59.0, 59.0, 34.0, 53.0, 8.0, 8.0, 59.5, 58.0, 57.5, 20.0, 54.0, 57.0, 10.0, 9.0, 8.0, 58.0, 59.0, 34.0, 8.0, 33.0, 58.0, 15.0, 59.0, 10.0, 59.0, 54.0, 44.0, 54.0, 15.0, 57.0, 8.0, 10.0, 9.0, 34.0, 15.0, 33.0, 58.0, 8.0, 59.0, 56.0, 58.0, 8.0, 59.0, 51.0, 58.0, 8.0, 15.0, 56.0, 49.0, 10.0, 12.0, 12.0, 56.0, 58.0, 59.0, 34.0, 57.0, 33.0, 59.0, 8.0, 58.0, 51.0, 8.0, 8.0, 8.0, 8.0, 57.0, 47.0, 8.0, 57.0, 12.0, 34.0, 57.0, 58.5, 59.5, 18.0, 33.0, 10.0, 15.0, 58.0, 58.0, 57.0, 8.0, 8.0, 51.0, 8.0, 59.0, 9.0, 57.0, 48.0, 15.0, 8.0, 20.0, 12.0, 34.0, 59.0, 10.0, 10.0, 33.0, 12.0, 57.0, 57.0, 58.0, 57.0, 58.0, 50.0, 58.0, 8.0, 60.0, 8.0, 20.0, 8.0, 9.0, 18.0, 34.0, 59.0, 59.0, 58.0, 33.0, 58.0, 58.0, 57.0, 58.0, 50.0, 50.0, 8.0, 8.0, 8.0, 8.0, 15.0, 12.0, 34.0, 60.0, 59.0, 8.0, 59.0, 33.0, 57.0, 60.0, 15.0, 15.0, 59.0, 58.0, 52.0, 8.0, 53.0, 8.0, 42.0, 52.0, 9.0, 20.0, 15.0, 10.0, 59.0, 34.0, 59.0, 33.0, 57.0, 58.0, 58.0, 58.0, 52.0, 8.0, 8.0, 59.0, 42.0, 8.0, 8.0, 8.0, 15.0, 18.0, 59.0, 57.0, 34.0, 8.0, 33.0, 57.0, 52.0, 58.0, 52.0, 58.0, 9.0, 8.0, 59.0, 57.0, 8.0, 8.0, 55.0, 8.0, 8.0, 15.0, 18.0, 58.0, 34.0, 59.0, 8.0, 57.0, 33.0, 58.0, 52.0, 51.0, 58.0, 9.0, 8.0, 57.0, 57.0, 58.0, 8.0, 8.0, 8.0, 8.0, 25.0, 8.0, 34.0, 57.0, 33.0, 57.0, 52.0, 56.0, 52.0, 57.0, 58.0, 57.0, 8.0, 8.0, 57.0, 8.0, 58.0, 8.0, 8.0, 8.0, 10.0, 24.0, 8.0, 57.0, 34.0, 10.0, 57.0, 57.0, 59.0, 8.0, 33.0, 57.0, 52.0, 57.0, 56.0, 51.0, 8.0, 9.0, 8.0, 8.0, 10.0, 15.0, 56.0, 58.0, 34.0, 57.0, 59.0, 58.0, 57.0, 52.0, 33.0, 8.0, 57.0, 51.0, 9.0, 15.0, 8.0, 8.0, 8.0, 8.0, 8.0, 45.0, 10.0, 8.0, 9.0, 8.0, 8.0, 8.0, 56.0, 34.0, 57.0, 59.0, 58.0, 58.0, 52.0, 58.0, 53.0, 20.0, 8.0, 8.0, 57.0, 46.0, 33.0, 22.0, 8.0, 10.0, 9.0, 8.0, 8.0, 15.0, 56.0, 57.0, 34.0, 58.0, 52.0, 59.0, 58.0, 50.0, 46.0, 8.0, 59.0, 39.0, 9.0, 34.0, 58.0, 25.0, 10.0, 58.0, 57.0, 58.0, 8.0, 51.0, 50.0, 8.0, 8.0, 8.0, 45.0, 15.0, 8.0, 39.0, 58.0, 12.0, 9.0, 9.0, 8.0, 8.0, 10.0, 8.0, 57.0, 58.0, 57.0, 34.0, 58.0, 8.0, 52.0, 50.0, 45.0, 38.0, 56.0, 59.0, 8.0, 8.0, 8.0, 8.0, 9.0, 12.0, 58.0, 59.0, 15.0, 58.0, 34.0, 58.0, 12.0, 8.0, 8.0, 52.0, 45.0, 50.0, 10.0, 38.0, 56.0, 59.0, 55.0, 8.0, 8.0, 9.0, 12.0, 59.0, 12.0, 8.0, 8.0, 59.0, 15.0, 34.0, 58.0, 58.0, 8.0, 50.0, 52.0, 8.0, 57.0, 38.0, 45.0, 59.0, 57.0, 8.0, 8.0, 8.0, 9.0, 10.0, 8.0, 8.0, 8.0, 34.0, 58.0, 58.0, 8.0, 12.0, 50.0, 52.0, 45.0, 59.0, 59.0, 58.0, 57.0, 38.0, 57.0, 8.0, 8.0, 8.0, 15.0, 6.0], \"y\": [\"January\", \"January\", \"January\", \"January\", \"January\", \"January\", \"January\", \"January\", \"January\", \"January\", \"January\", \"January\", \"January\", \"January\", \"January\", \"January\", \"January\", \"January\", \"January\", \"January\", \"January\", \"January\", \"January\", \"January\", \"January\", \"January\", \"January\", \"January\", \"January\", \"January\", \"January\", \"January\", \"January\", \"January\", \"January\", \"January\", \"January\", \"January\", \"January\", \"January\", \"January\", \"January\", \"January\", \"January\", \"January\", \"January\", \"January\", \"January\", \"January\", \"January\", \"January\", \"January\", \"January\", \"January\", \"January\", \"January\", \"January\", \"January\", \"January\", \"January\", \"January\", \"January\", \"January\", \"January\", \"January\", \"January\", \"January\", \"January\", \"January\", \"January\", \"January\", \"January\", \"January\", \"January\", \"January\", \"January\", \"January\", \"January\", \"January\", \"January\", \"January\", \"January\", \"January\", \"January\", \"January\", \"January\", \"January\", \"January\", \"January\", \"January\", \"January\", \"January\", \"January\", \"January\", \"January\", \"January\", \"January\", \"January\", \"January\", \"January\", \"January\", \"January\", \"January\", \"January\", \"January\", \"January\", \"January\", \"January\", \"January\", \"January\", \"January\", \"January\", \"January\", \"January\", \"January\", \"January\", \"January\", \"January\", \"January\", \"January\", \"January\", \"January\", \"January\", \"January\", \"January\", \"January\", \"January\", \"January\", \"January\", \"January\", \"January\", \"January\", \"January\", \"January\", \"January\", \"January\", \"January\", \"January\", \"January\", \"January\", \"January\", \"January\", \"January\", \"January\", \"January\", \"January\", \"January\", \"January\", \"January\", \"January\", \"January\", \"January\", \"January\", \"January\", \"January\", \"January\", \"January\", \"January\", \"January\", \"January\", \"January\", \"January\", \"January\", \"January\", \"January\", \"January\", \"January\", \"January\", \"January\", \"January\", \"January\", \"January\", \"January\", \"January\", \"January\", \"January\", \"January\", \"January\", \"January\", \"January\", \"January\", \"January\", \"January\", \"January\", \"January\", \"January\", \"January\", \"January\", \"January\", \"January\", \"January\", \"January\", \"January\", \"January\", \"January\", \"January\", \"January\", \"January\", \"January\", \"January\", \"January\", \"January\", \"January\", \"January\", \"January\", \"January\", \"January\", \"January\", \"January\", \"January\", \"January\", \"January\", \"January\", \"January\", \"January\", \"January\", \"January\", \"January\", \"January\", \"January\", \"January\", \"January\", \"January\", \"January\", \"January\", \"January\", \"January\", \"January\", \"January\", \"January\", \"January\", \"January\", \"January\", \"January\", \"January\", \"January\", \"January\", \"January\", \"January\", \"January\", \"January\", \"January\", \"January\", \"January\", \"January\", \"January\", \"January\", \"January\", \"January\", \"January\", \"January\", \"January\", \"January\", \"January\", \"January\", \"January\", \"January\", \"January\", \"January\", \"January\", \"January\", \"January\", \"January\", \"January\", \"January\", \"January\", \"January\", \"January\", \"January\", \"January\", \"January\", \"January\", \"January\", \"January\", \"January\", \"January\", \"January\", \"January\", \"January\", \"January\", \"January\", \"January\", \"January\", \"January\", \"January\", \"January\", \"January\", \"January\", \"January\", \"January\", \"January\", \"January\", \"January\", \"January\", \"January\", \"January\", \"January\", \"January\", \"January\", \"January\", \"January\", \"January\", \"January\", \"January\", \"January\", \"January\", \"January\", \"January\", \"January\", \"January\", \"January\", \"January\", \"January\", \"January\", \"January\", \"January\", \"January\", \"January\", \"January\", \"January\", \"January\", \"January\", \"January\", \"January\", \"January\", \"January\", \"January\", \"January\", \"January\", \"January\", \"January\", \"January\", \"January\", \"January\", \"January\", \"January\", \"January\", \"January\", \"January\", \"January\", \"January\", \"January\", \"January\", \"January\", \"January\", \"January\", \"January\", \"January\", \"January\", \"January\", \"January\", \"January\", \"January\", \"January\", \"January\", \"January\", \"January\", \"January\", \"January\", \"January\", \"January\", \"January\", \"January\", \"January\", \"January\", \"January\", \"January\", \"January\", \"January\", \"January\", \"January\", \"January\", \"January\", \"January\", \"January\", \"January\", \"January\", \"January\", \"January\", \"January\", \"January\", \"January\", \"January\", \"January\", \"January\", \"January\", \"January\", \"January\", \"January\", \"January\", \"January\", \"January\", \"January\", \"January\", \"January\", \"January\", \"January\", \"January\", \"January\", \"January\", \"January\", \"January\", \"January\", \"January\", \"January\", \"January\", \"January\", \"January\", \"January\", \"January\", \"January\", \"January\", \"January\", \"January\", \"January\", \"January\", \"January\", \"January\", \"January\", \"January\", \"January\", \"January\", \"January\", \"January\", \"January\", \"January\", \"January\", \"January\", \"January\", \"January\", \"January\", \"January\", \"January\", \"January\", \"January\", \"January\", \"January\", \"January\", \"January\", \"January\", \"January\", \"January\", \"January\", \"January\", \"January\", \"January\", \"January\", \"January\", \"January\", \"January\", \"January\", \"January\", \"January\", \"January\", \"January\", \"January\", \"January\", \"January\", \"January\", \"January\", \"January\", \"January\", \"January\", \"January\", \"January\", \"January\", \"January\", \"January\", \"January\", \"January\", \"January\", \"January\", \"January\", \"January\", \"January\", \"January\", \"January\", \"January\", \"January\", \"January\", \"January\", \"January\", \"January\", \"January\", \"January\", \"January\", \"January\", \"January\", \"January\", \"January\", \"January\", \"January\", \"January\", \"January\", \"January\", \"January\", \"January\", \"January\", \"January\", \"January\", \"January\", \"January\", \"January\", \"January\", \"January\", \"January\", \"January\", \"January\", \"January\", \"January\", \"January\", \"January\", \"January\", \"January\", \"January\", \"January\", \"January\", \"January\", \"January\", \"January\", \"January\", \"January\", \"January\", \"January\", \"January\", \"January\", \"January\", \"January\", \"January\", \"January\", \"January\", \"January\", \"January\", \"January\", \"January\", \"January\", \"January\", \"January\", \"January\", \"January\", \"January\", \"January\", \"February\", \"February\", \"February\", \"February\", \"February\", \"February\", \"February\", \"February\", \"February\", \"February\", \"February\", \"February\", \"February\", \"February\", \"February\", \"February\", \"February\", \"February\", \"February\", \"February\", \"February\", \"February\", \"February\", \"February\", \"February\", \"February\", \"February\", \"February\", \"February\", \"February\", \"February\", \"February\", \"February\", \"February\", \"February\", \"February\", \"February\", \"February\", \"February\", \"February\", \"February\", \"February\", \"February\", \"February\", \"February\", \"February\", \"February\", \"February\", \"February\", \"February\", \"February\", \"February\", \"February\", \"February\", \"February\", \"February\", \"February\", \"February\", \"February\", \"February\", \"February\", \"February\", \"February\", \"February\", \"February\", \"February\", \"February\", \"February\", \"February\", \"February\", \"February\", \"February\", \"February\", \"February\", \"February\", \"February\", \"February\", \"February\", \"February\", \"February\", \"February\", \"February\", \"February\", \"February\", \"February\", \"February\", \"February\", \"February\", \"February\", \"February\", \"February\", \"February\", \"February\", \"February\", \"February\", \"February\", \"February\", \"February\", \"February\", \"February\", \"February\", \"February\", \"February\", \"February\", \"February\", \"February\", \"February\", \"February\", \"February\", \"February\", \"February\", \"February\", \"February\", \"February\", \"February\", \"February\", \"February\", \"February\", \"February\", \"February\", \"February\", \"February\", \"February\", \"February\", \"February\", \"February\", \"February\", \"February\", \"February\", \"February\", \"February\", \"February\", \"February\", \"February\", \"February\", \"February\", \"February\", \"February\", \"February\", \"February\", \"February\", \"February\", \"February\", \"February\", \"February\", \"February\", \"February\", \"February\", \"February\", \"February\", \"February\", \"February\", \"February\", \"February\", \"February\", \"February\", \"February\", \"February\", \"February\", \"February\", \"February\", \"February\", \"February\", \"February\", \"February\", \"February\", \"February\", \"February\", \"February\", \"February\", \"February\", \"February\", \"February\", \"February\", \"February\", \"February\", \"February\", \"February\", \"February\", \"February\", \"February\", \"February\", \"February\", \"February\", \"February\", \"February\", \"February\", \"February\", \"February\", \"February\", \"February\", \"February\", \"February\", \"February\", \"February\", \"February\", \"February\", \"February\", \"February\", \"February\", \"February\", \"February\", \"February\", \"February\", \"February\", \"February\", \"February\", \"February\", \"February\", \"February\", \"February\", \"February\", \"February\", \"February\", \"February\", \"February\", \"February\", \"February\", \"February\", \"February\", \"February\", \"February\", \"February\", \"February\", \"February\", \"February\", \"February\", \"February\", \"February\", \"February\", \"February\", \"February\", \"February\", \"February\", \"February\", \"February\", \"February\", \"February\", \"February\", \"February\", \"February\", \"February\", \"February\", \"February\", \"February\", \"February\", \"February\", \"February\", \"February\", \"February\", \"February\", \"February\", \"February\", \"February\", \"February\", \"February\", \"February\", \"February\", \"February\", \"February\", \"February\", \"February\", \"February\", \"February\", \"February\", \"February\", \"February\", \"February\", \"February\", \"February\", \"February\", \"February\", \"February\", \"February\", \"February\", \"February\", \"February\", \"February\", \"February\", \"February\", \"February\", \"February\", \"February\", \"February\", \"February\", \"February\", \"February\", \"February\", \"February\", \"February\", \"February\", \"February\", \"February\", \"February\", \"February\", \"February\", \"February\", \"February\", \"February\", \"February\", \"February\", \"February\", \"February\", \"February\", \"February\", \"February\", \"February\", \"February\", \"February\", \"February\", \"February\", \"February\", \"February\", \"February\", \"February\", \"February\", \"February\", \"February\", \"February\", \"February\", \"February\", \"February\", \"February\", \"February\", \"February\", \"February\", \"February\", \"February\", \"February\", \"February\", \"February\", \"February\", \"February\", \"February\", \"February\", \"February\", \"February\", \"February\", \"February\", \"February\", \"February\", \"February\", \"February\", \"February\", \"February\", \"February\", \"February\", \"February\", \"February\", \"February\", \"February\", \"February\", \"February\", \"February\", \"February\", \"February\", \"February\", \"February\", \"February\", \"February\", \"February\", \"February\", \"February\", \"February\", \"February\", \"February\", \"February\", \"February\", \"February\", \"February\", \"February\", \"February\", \"February\", \"February\", \"February\", \"February\", \"February\", \"February\", \"February\", \"February\", \"February\", \"February\", \"February\", \"February\", \"February\", \"February\", \"February\", \"February\", \"February\", \"February\", \"February\", \"February\", \"February\", \"February\", \"February\", \"February\", \"February\", \"February\", \"February\", \"February\", \"February\", \"February\", \"February\", \"February\", \"February\", \"February\", \"February\", \"February\", \"February\", \"February\", \"February\", \"February\", \"February\", \"February\", \"February\", \"February\", \"February\", \"February\", \"February\", \"February\", \"February\", \"February\", \"February\", \"February\", \"February\", \"February\", \"February\", \"February\", \"February\", \"February\", \"February\", \"February\", \"February\", \"February\", \"February\", \"February\", \"February\", \"February\", \"February\", \"February\", \"February\", \"February\", \"February\", \"March\", \"March\", \"March\", \"March\", \"March\", \"March\", \"March\", \"March\", \"March\", \"March\", \"March\", \"March\", \"March\", \"March\", \"March\", \"March\", \"March\", \"March\", \"March\", \"March\", \"March\", \"March\", \"March\", \"March\", \"March\", \"March\", \"March\", \"March\", \"March\", \"March\", \"March\", \"March\", \"March\", \"March\", \"March\", \"March\", \"March\", \"March\", \"March\", \"March\", \"March\", \"March\", \"March\", \"March\", \"March\", \"March\", \"March\", \"March\", \"March\", \"March\", \"March\", \"March\", \"March\", \"March\", \"March\", \"March\", \"March\", \"March\", \"March\", \"March\", \"March\", \"March\", \"March\", \"March\", \"March\", \"March\", \"March\", \"March\", \"March\", \"March\", \"March\", \"March\", \"March\", \"March\", \"March\", \"March\", \"March\", \"March\", \"March\", \"March\", \"March\", \"March\", \"March\", \"March\", \"March\", \"March\", \"March\", \"March\", \"March\", \"March\", \"March\", \"March\", \"March\", \"March\", \"March\", \"March\", \"March\", \"March\", \"March\", \"March\", \"March\", \"March\", \"March\", \"March\", \"March\", \"March\", \"March\", \"March\", \"March\", \"March\", \"March\", \"March\", \"March\", \"March\", \"March\", \"March\", \"March\", \"March\", \"March\", \"March\", \"March\", \"March\", \"March\", \"March\", \"March\", \"March\", \"March\", \"March\", \"March\", \"March\", \"March\", \"March\", \"March\", \"March\", \"March\", \"March\", \"March\", \"March\", \"March\", \"March\", \"March\", \"March\", \"March\", \"March\", \"March\", \"March\", \"March\", \"March\", \"March\", \"March\", \"March\", \"March\", \"March\", \"March\", \"March\", \"March\", \"March\", \"March\", \"March\", \"March\", \"March\", \"March\", \"March\", \"March\", \"March\", \"March\", \"March\", \"March\", \"March\", \"March\", \"March\", \"March\", \"March\", \"March\", \"March\", \"March\", \"March\", \"March\", \"March\", \"March\", \"March\", \"March\", \"March\", \"March\", \"March\", \"March\", \"March\", \"March\", \"March\", \"March\", \"March\", \"March\", \"March\", \"March\", \"March\", \"March\", \"March\", \"March\", \"March\", \"March\", \"March\", \"March\", \"March\", \"March\", \"March\", \"March\", \"March\", \"March\", \"March\", \"March\", \"March\", \"March\"]}],                        {\"barmode\": \"stack\", \"template\": {\"data\": {\"bar\": [{\"error_x\": {\"color\": \"#2a3f5f\"}, \"error_y\": {\"color\": \"#2a3f5f\"}, \"marker\": {\"line\": {\"color\": \"#E5ECF6\", \"width\": 0.5}}, \"type\": \"bar\"}], \"barpolar\": [{\"marker\": {\"line\": {\"color\": \"#E5ECF6\", \"width\": 0.5}}, \"type\": \"barpolar\"}], \"carpet\": [{\"aaxis\": {\"endlinecolor\": \"#2a3f5f\", \"gridcolor\": \"white\", \"linecolor\": \"white\", \"minorgridcolor\": \"white\", \"startlinecolor\": \"#2a3f5f\"}, \"baxis\": {\"endlinecolor\": \"#2a3f5f\", \"gridcolor\": \"white\", \"linecolor\": \"white\", \"minorgridcolor\": \"white\", \"startlinecolor\": \"#2a3f5f\"}, \"type\": \"carpet\"}], \"choropleth\": [{\"colorbar\": {\"outlinewidth\": 0, \"ticks\": \"\"}, \"type\": \"choropleth\"}], \"contour\": [{\"colorbar\": {\"outlinewidth\": 0, \"ticks\": \"\"}, \"colorscale\": [[0.0, \"#0d0887\"], [0.1111111111111111, \"#46039f\"], [0.2222222222222222, \"#7201a8\"], [0.3333333333333333, \"#9c179e\"], [0.4444444444444444, \"#bd3786\"], [0.5555555555555556, \"#d8576b\"], [0.6666666666666666, \"#ed7953\"], [0.7777777777777778, \"#fb9f3a\"], [0.8888888888888888, \"#fdca26\"], [1.0, \"#f0f921\"]], \"type\": \"contour\"}], \"contourcarpet\": [{\"colorbar\": {\"outlinewidth\": 0, \"ticks\": \"\"}, \"type\": \"contourcarpet\"}], \"heatmap\": [{\"colorbar\": {\"outlinewidth\": 0, \"ticks\": \"\"}, \"colorscale\": [[0.0, \"#0d0887\"], [0.1111111111111111, \"#46039f\"], [0.2222222222222222, \"#7201a8\"], [0.3333333333333333, \"#9c179e\"], [0.4444444444444444, \"#bd3786\"], [0.5555555555555556, \"#d8576b\"], [0.6666666666666666, \"#ed7953\"], [0.7777777777777778, \"#fb9f3a\"], [0.8888888888888888, \"#fdca26\"], [1.0, \"#f0f921\"]], \"type\": \"heatmap\"}], \"heatmapgl\": [{\"colorbar\": {\"outlinewidth\": 0, \"ticks\": \"\"}, \"colorscale\": [[0.0, \"#0d0887\"], [0.1111111111111111, \"#46039f\"], [0.2222222222222222, \"#7201a8\"], [0.3333333333333333, \"#9c179e\"], [0.4444444444444444, \"#bd3786\"], [0.5555555555555556, \"#d8576b\"], [0.6666666666666666, \"#ed7953\"], [0.7777777777777778, \"#fb9f3a\"], [0.8888888888888888, \"#fdca26\"], [1.0, \"#f0f921\"]], \"type\": \"heatmapgl\"}], \"histogram\": [{\"marker\": {\"colorbar\": {\"outlinewidth\": 0, \"ticks\": \"\"}}, \"type\": \"histogram\"}], \"histogram2d\": [{\"colorbar\": {\"outlinewidth\": 0, \"ticks\": \"\"}, \"colorscale\": [[0.0, \"#0d0887\"], [0.1111111111111111, \"#46039f\"], [0.2222222222222222, \"#7201a8\"], [0.3333333333333333, \"#9c179e\"], [0.4444444444444444, \"#bd3786\"], [0.5555555555555556, \"#d8576b\"], [0.6666666666666666, \"#ed7953\"], [0.7777777777777778, \"#fb9f3a\"], [0.8888888888888888, \"#fdca26\"], [1.0, \"#f0f921\"]], \"type\": \"histogram2d\"}], \"histogram2dcontour\": [{\"colorbar\": {\"outlinewidth\": 0, \"ticks\": \"\"}, \"colorscale\": [[0.0, \"#0d0887\"], [0.1111111111111111, \"#46039f\"], [0.2222222222222222, \"#7201a8\"], [0.3333333333333333, \"#9c179e\"], [0.4444444444444444, \"#bd3786\"], [0.5555555555555556, \"#d8576b\"], [0.6666666666666666, \"#ed7953\"], [0.7777777777777778, \"#fb9f3a\"], [0.8888888888888888, \"#fdca26\"], [1.0, \"#f0f921\"]], \"type\": \"histogram2dcontour\"}], \"mesh3d\": [{\"colorbar\": {\"outlinewidth\": 0, \"ticks\": \"\"}, \"type\": \"mesh3d\"}], \"parcoords\": [{\"line\": {\"colorbar\": {\"outlinewidth\": 0, \"ticks\": \"\"}}, \"type\": \"parcoords\"}], \"pie\": [{\"automargin\": true, \"type\": \"pie\"}], \"scatter\": [{\"marker\": {\"colorbar\": {\"outlinewidth\": 0, \"ticks\": \"\"}}, \"type\": \"scatter\"}], \"scatter3d\": [{\"line\": {\"colorbar\": {\"outlinewidth\": 0, \"ticks\": \"\"}}, \"marker\": {\"colorbar\": {\"outlinewidth\": 0, \"ticks\": \"\"}}, \"type\": \"scatter3d\"}], \"scattercarpet\": [{\"marker\": {\"colorbar\": {\"outlinewidth\": 0, \"ticks\": \"\"}}, \"type\": \"scattercarpet\"}], \"scattergeo\": [{\"marker\": {\"colorbar\": {\"outlinewidth\": 0, \"ticks\": \"\"}}, \"type\": \"scattergeo\"}], \"scattergl\": [{\"marker\": {\"colorbar\": {\"outlinewidth\": 0, \"ticks\": \"\"}}, \"type\": \"scattergl\"}], \"scattermapbox\": [{\"marker\": {\"colorbar\": {\"outlinewidth\": 0, \"ticks\": \"\"}}, \"type\": \"scattermapbox\"}], \"scatterpolar\": [{\"marker\": {\"colorbar\": {\"outlinewidth\": 0, \"ticks\": \"\"}}, \"type\": \"scatterpolar\"}], \"scatterpolargl\": [{\"marker\": {\"colorbar\": {\"outlinewidth\": 0, \"ticks\": \"\"}}, \"type\": \"scatterpolargl\"}], \"scatterternary\": [{\"marker\": {\"colorbar\": {\"outlinewidth\": 0, \"ticks\": \"\"}}, \"type\": \"scatterternary\"}], \"surface\": [{\"colorbar\": {\"outlinewidth\": 0, \"ticks\": \"\"}, \"colorscale\": [[0.0, \"#0d0887\"], [0.1111111111111111, \"#46039f\"], [0.2222222222222222, \"#7201a8\"], [0.3333333333333333, \"#9c179e\"], [0.4444444444444444, \"#bd3786\"], [0.5555555555555556, \"#d8576b\"], [0.6666666666666666, \"#ed7953\"], [0.7777777777777778, \"#fb9f3a\"], [0.8888888888888888, \"#fdca26\"], [1.0, \"#f0f921\"]], \"type\": \"surface\"}], \"table\": [{\"cells\": {\"fill\": {\"color\": \"#EBF0F8\"}, \"line\": {\"color\": \"white\"}}, \"header\": {\"fill\": {\"color\": \"#C8D4E3\"}, \"line\": {\"color\": \"white\"}}, \"type\": \"table\"}]}, \"layout\": {\"annotationdefaults\": {\"arrowcolor\": \"#2a3f5f\", \"arrowhead\": 0, \"arrowwidth\": 1}, \"autotypenumbers\": \"strict\", \"coloraxis\": {\"colorbar\": {\"outlinewidth\": 0, \"ticks\": \"\"}}, \"colorscale\": {\"diverging\": [[0, \"#8e0152\"], [0.1, \"#c51b7d\"], [0.2, \"#de77ae\"], [0.3, \"#f1b6da\"], [0.4, \"#fde0ef\"], [0.5, \"#f7f7f7\"], [0.6, \"#e6f5d0\"], [0.7, \"#b8e186\"], [0.8, \"#7fbc41\"], [0.9, \"#4d9221\"], [1, \"#276419\"]], \"sequential\": [[0.0, \"#0d0887\"], [0.1111111111111111, \"#46039f\"], [0.2222222222222222, \"#7201a8\"], [0.3333333333333333, \"#9c179e\"], [0.4444444444444444, \"#bd3786\"], [0.5555555555555556, \"#d8576b\"], [0.6666666666666666, \"#ed7953\"], [0.7777777777777778, \"#fb9f3a\"], [0.8888888888888888, \"#fdca26\"], [1.0, \"#f0f921\"]], \"sequentialminus\": [[0.0, \"#0d0887\"], [0.1111111111111111, \"#46039f\"], [0.2222222222222222, \"#7201a8\"], [0.3333333333333333, \"#9c179e\"], [0.4444444444444444, \"#bd3786\"], [0.5555555555555556, \"#d8576b\"], [0.6666666666666666, \"#ed7953\"], [0.7777777777777778, \"#fb9f3a\"], [0.8888888888888888, \"#fdca26\"], [1.0, \"#f0f921\"]]}, \"colorway\": [\"#636efa\", \"#EF553B\", \"#00cc96\", \"#ab63fa\", \"#FFA15A\", \"#19d3f3\", \"#FF6692\", \"#B6E880\", \"#FF97FF\", \"#FECB52\"], \"font\": {\"color\": \"#2a3f5f\"}, \"geo\": {\"bgcolor\": \"white\", \"lakecolor\": \"white\", \"landcolor\": \"#E5ECF6\", \"showlakes\": true, \"showland\": true, \"subunitcolor\": \"white\"}, \"hoverlabel\": {\"align\": \"left\"}, \"hovermode\": \"closest\", \"mapbox\": {\"style\": \"light\"}, \"paper_bgcolor\": \"white\", \"plot_bgcolor\": \"#E5ECF6\", \"polar\": {\"angularaxis\": {\"gridcolor\": \"white\", \"linecolor\": \"white\", \"ticks\": \"\"}, \"bgcolor\": \"#E5ECF6\", \"radialaxis\": {\"gridcolor\": \"white\", \"linecolor\": \"white\", \"ticks\": \"\"}}, \"scene\": {\"xaxis\": {\"backgroundcolor\": \"#E5ECF6\", \"gridcolor\": \"white\", \"gridwidth\": 2, \"linecolor\": \"white\", \"showbackground\": true, \"ticks\": \"\", \"zerolinecolor\": \"white\"}, \"yaxis\": {\"backgroundcolor\": \"#E5ECF6\", \"gridcolor\": \"white\", \"gridwidth\": 2, \"linecolor\": \"white\", \"showbackground\": true, \"ticks\": \"\", \"zerolinecolor\": \"white\"}, \"zaxis\": {\"backgroundcolor\": \"#E5ECF6\", \"gridcolor\": \"white\", \"gridwidth\": 2, \"linecolor\": \"white\", \"showbackground\": true, \"ticks\": \"\", \"zerolinecolor\": \"white\"}}, \"shapedefaults\": {\"line\": {\"color\": \"#2a3f5f\"}}, \"ternary\": {\"aaxis\": {\"gridcolor\": \"white\", \"linecolor\": \"white\", \"ticks\": \"\"}, \"baxis\": {\"gridcolor\": \"white\", \"linecolor\": \"white\", \"ticks\": \"\"}, \"bgcolor\": \"#E5ECF6\", \"caxis\": {\"gridcolor\": \"white\", \"linecolor\": \"white\", \"ticks\": \"\"}}, \"title\": {\"x\": 0.05}, \"xaxis\": {\"automargin\": true, \"gridcolor\": \"white\", \"linecolor\": \"white\", \"ticks\": \"\", \"title\": {\"standoff\": 15}, \"zerolinecolor\": \"white\", \"zerolinewidth\": 2}, \"yaxis\": {\"automargin\": true, \"gridcolor\": \"white\", \"linecolor\": \"white\", \"ticks\": \"\", \"title\": {\"standoff\": 15}, \"zerolinecolor\": \"white\", \"zerolinewidth\": 2}}}},                        {\"responsive\": true}                    ).then(function(){\n",
       "                            \n",
       "var gd = document.getElementById('a6d7f391-905d-4a49-bd7e-1e859c2c79ad');\n",
       "var x = new MutationObserver(function (mutations, observer) {{\n",
       "        var display = window.getComputedStyle(gd).display;\n",
       "        if (!display || display === 'none') {{\n",
       "            console.log([gd, 'removed!']);\n",
       "            Plotly.purge(gd);\n",
       "            observer.disconnect();\n",
       "        }}\n",
       "}});\n",
       "\n",
       "// Listen for the removal of the full notebook cells\n",
       "var notebookContainer = gd.closest('#notebook-container');\n",
       "if (notebookContainer) {{\n",
       "    x.observe(notebookContainer, {childList: true});\n",
       "}}\n",
       "\n",
       "// Listen for the clearing of the current output cell\n",
       "var outputEl = gd.closest('.output');\n",
       "if (outputEl) {{\n",
       "    x.observe(outputEl, {childList: true});\n",
       "}}\n",
       "\n",
       "                        })                };                });            </script>        </div>"
      ]
     },
     "metadata": {}
    }
   ],
   "metadata": {
    "execution": {
     "iopub.execute_input": "2021-04-10T14:15:10.233379Z",
     "iopub.status.busy": "2021-04-10T14:15:10.228113Z",
     "iopub.status.idle": "2021-04-10T14:15:10.257368Z",
     "shell.execute_reply": "2021-04-10T14:15:10.257894Z"
    },
    "papermill": {
     "duration": 0.131965,
     "end_time": "2021-04-10T14:15:10.258066",
     "exception": false,
     "start_time": "2021-04-10T14:15:10.126101",
     "status": "completed"
    },
    "tags": []
   }
  },
  {
   "cell_type": "code",
   "execution_count": 27,
   "source": [
    "daydf = df[['day', 'actual_productivity']].groupby('day').mean()\n",
    "daydf = daydf.sort_values('actual_productivity', ascending=False).reset_index()\n",
    "fig = px.bar(daydf, x='day', y='actual_productivity',\n",
    "             hover_data=['day', 'actual_productivity'], color='actual_productivity',\n",
    "             labels={'actual_productivity':'Productivity'}, height=500)\n",
    "fig.show()"
   ],
   "outputs": [
    {
     "output_type": "display_data",
     "data": {
      "text/html": [
       "<div>                            <div id=\"0b7abfc4-c91d-4215-9d0a-0098b3fb0a34\" class=\"plotly-graph-div\" style=\"height:500px; width:100%;\"></div>            <script type=\"text/javascript\">                require([\"plotly\"], function(Plotly) {                    window.PLOTLYENV=window.PLOTLYENV || {};                                    if (document.getElementById(\"0b7abfc4-c91d-4215-9d0a-0098b3fb0a34\")) {                    Plotly.newPlot(                        \"0b7abfc4-c91d-4215-9d0a-0098b3fb0a34\",                        [{\"alignmentgroup\": \"True\", \"hovertemplate\": \"day=%{x}<br>Productivity=%{marker.color}<extra></extra>\", \"legendgroup\": \"\", \"marker\": {\"color\": [0.7519288593743311, 0.7427009176766167, 0.735488499417086, 0.7304619085144229, 0.7286041288078813, 0.7226408815326633], \"coloraxis\": \"coloraxis\"}, \"name\": \"\", \"offsetgroup\": \"\", \"orientation\": \"v\", \"showlegend\": false, \"textposition\": \"auto\", \"type\": \"bar\", \"x\": [\"Saturday\", \"Tuesday\", \"Monday\", \"Wednesday\", \"Sunday\", \"Thursday\"], \"xaxis\": \"x\", \"y\": [0.7519288593743311, 0.7427009176766167, 0.735488499417086, 0.7304619085144229, 0.7286041288078813, 0.7226408815326633], \"yaxis\": \"y\"}],                        {\"barmode\": \"relative\", \"coloraxis\": {\"colorbar\": {\"title\": {\"text\": \"Productivity\"}}, \"colorscale\": [[0.0, \"#0d0887\"], [0.1111111111111111, \"#46039f\"], [0.2222222222222222, \"#7201a8\"], [0.3333333333333333, \"#9c179e\"], [0.4444444444444444, \"#bd3786\"], [0.5555555555555556, \"#d8576b\"], [0.6666666666666666, \"#ed7953\"], [0.7777777777777778, \"#fb9f3a\"], [0.8888888888888888, \"#fdca26\"], [1.0, \"#f0f921\"]]}, \"height\": 500, \"legend\": {\"tracegroupgap\": 0}, \"margin\": {\"t\": 60}, \"template\": {\"data\": {\"bar\": [{\"error_x\": {\"color\": \"#2a3f5f\"}, \"error_y\": {\"color\": \"#2a3f5f\"}, \"marker\": {\"line\": {\"color\": \"#E5ECF6\", \"width\": 0.5}}, \"type\": \"bar\"}], \"barpolar\": [{\"marker\": {\"line\": {\"color\": \"#E5ECF6\", \"width\": 0.5}}, \"type\": \"barpolar\"}], \"carpet\": [{\"aaxis\": {\"endlinecolor\": \"#2a3f5f\", \"gridcolor\": \"white\", \"linecolor\": \"white\", \"minorgridcolor\": \"white\", \"startlinecolor\": \"#2a3f5f\"}, \"baxis\": {\"endlinecolor\": \"#2a3f5f\", \"gridcolor\": \"white\", \"linecolor\": \"white\", \"minorgridcolor\": \"white\", \"startlinecolor\": \"#2a3f5f\"}, \"type\": \"carpet\"}], \"choropleth\": [{\"colorbar\": {\"outlinewidth\": 0, \"ticks\": \"\"}, \"type\": \"choropleth\"}], \"contour\": [{\"colorbar\": {\"outlinewidth\": 0, \"ticks\": \"\"}, \"colorscale\": [[0.0, \"#0d0887\"], [0.1111111111111111, \"#46039f\"], [0.2222222222222222, \"#7201a8\"], [0.3333333333333333, \"#9c179e\"], [0.4444444444444444, \"#bd3786\"], [0.5555555555555556, \"#d8576b\"], [0.6666666666666666, \"#ed7953\"], [0.7777777777777778, \"#fb9f3a\"], [0.8888888888888888, \"#fdca26\"], [1.0, \"#f0f921\"]], \"type\": \"contour\"}], \"contourcarpet\": [{\"colorbar\": {\"outlinewidth\": 0, \"ticks\": \"\"}, \"type\": \"contourcarpet\"}], \"heatmap\": [{\"colorbar\": {\"outlinewidth\": 0, \"ticks\": \"\"}, \"colorscale\": [[0.0, \"#0d0887\"], [0.1111111111111111, \"#46039f\"], [0.2222222222222222, \"#7201a8\"], [0.3333333333333333, \"#9c179e\"], [0.4444444444444444, \"#bd3786\"], [0.5555555555555556, \"#d8576b\"], [0.6666666666666666, \"#ed7953\"], [0.7777777777777778, \"#fb9f3a\"], [0.8888888888888888, \"#fdca26\"], [1.0, \"#f0f921\"]], \"type\": \"heatmap\"}], \"heatmapgl\": [{\"colorbar\": {\"outlinewidth\": 0, \"ticks\": \"\"}, \"colorscale\": [[0.0, \"#0d0887\"], [0.1111111111111111, \"#46039f\"], [0.2222222222222222, \"#7201a8\"], [0.3333333333333333, \"#9c179e\"], [0.4444444444444444, \"#bd3786\"], [0.5555555555555556, \"#d8576b\"], [0.6666666666666666, \"#ed7953\"], [0.7777777777777778, \"#fb9f3a\"], [0.8888888888888888, \"#fdca26\"], [1.0, \"#f0f921\"]], \"type\": \"heatmapgl\"}], \"histogram\": [{\"marker\": {\"colorbar\": {\"outlinewidth\": 0, \"ticks\": \"\"}}, \"type\": \"histogram\"}], \"histogram2d\": [{\"colorbar\": {\"outlinewidth\": 0, \"ticks\": \"\"}, \"colorscale\": [[0.0, \"#0d0887\"], [0.1111111111111111, \"#46039f\"], [0.2222222222222222, \"#7201a8\"], [0.3333333333333333, \"#9c179e\"], [0.4444444444444444, \"#bd3786\"], [0.5555555555555556, \"#d8576b\"], [0.6666666666666666, \"#ed7953\"], [0.7777777777777778, \"#fb9f3a\"], [0.8888888888888888, \"#fdca26\"], [1.0, \"#f0f921\"]], \"type\": \"histogram2d\"}], \"histogram2dcontour\": [{\"colorbar\": {\"outlinewidth\": 0, \"ticks\": \"\"}, \"colorscale\": [[0.0, \"#0d0887\"], [0.1111111111111111, \"#46039f\"], [0.2222222222222222, \"#7201a8\"], [0.3333333333333333, \"#9c179e\"], [0.4444444444444444, \"#bd3786\"], [0.5555555555555556, \"#d8576b\"], [0.6666666666666666, \"#ed7953\"], [0.7777777777777778, \"#fb9f3a\"], [0.8888888888888888, \"#fdca26\"], [1.0, \"#f0f921\"]], \"type\": \"histogram2dcontour\"}], \"mesh3d\": [{\"colorbar\": {\"outlinewidth\": 0, \"ticks\": \"\"}, \"type\": \"mesh3d\"}], \"parcoords\": [{\"line\": {\"colorbar\": {\"outlinewidth\": 0, \"ticks\": \"\"}}, \"type\": \"parcoords\"}], \"pie\": [{\"automargin\": true, \"type\": \"pie\"}], \"scatter\": [{\"marker\": {\"colorbar\": {\"outlinewidth\": 0, \"ticks\": \"\"}}, \"type\": \"scatter\"}], \"scatter3d\": [{\"line\": {\"colorbar\": {\"outlinewidth\": 0, \"ticks\": \"\"}}, \"marker\": {\"colorbar\": {\"outlinewidth\": 0, \"ticks\": \"\"}}, \"type\": \"scatter3d\"}], \"scattercarpet\": [{\"marker\": {\"colorbar\": {\"outlinewidth\": 0, \"ticks\": \"\"}}, \"type\": \"scattercarpet\"}], \"scattergeo\": [{\"marker\": {\"colorbar\": {\"outlinewidth\": 0, \"ticks\": \"\"}}, \"type\": \"scattergeo\"}], \"scattergl\": [{\"marker\": {\"colorbar\": {\"outlinewidth\": 0, \"ticks\": \"\"}}, \"type\": \"scattergl\"}], \"scattermapbox\": [{\"marker\": {\"colorbar\": {\"outlinewidth\": 0, \"ticks\": \"\"}}, \"type\": \"scattermapbox\"}], \"scatterpolar\": [{\"marker\": {\"colorbar\": {\"outlinewidth\": 0, \"ticks\": \"\"}}, \"type\": \"scatterpolar\"}], \"scatterpolargl\": [{\"marker\": {\"colorbar\": {\"outlinewidth\": 0, \"ticks\": \"\"}}, \"type\": \"scatterpolargl\"}], \"scatterternary\": [{\"marker\": {\"colorbar\": {\"outlinewidth\": 0, \"ticks\": \"\"}}, \"type\": \"scatterternary\"}], \"surface\": [{\"colorbar\": {\"outlinewidth\": 0, \"ticks\": \"\"}, \"colorscale\": [[0.0, \"#0d0887\"], [0.1111111111111111, \"#46039f\"], [0.2222222222222222, \"#7201a8\"], [0.3333333333333333, \"#9c179e\"], [0.4444444444444444, \"#bd3786\"], [0.5555555555555556, \"#d8576b\"], [0.6666666666666666, \"#ed7953\"], [0.7777777777777778, \"#fb9f3a\"], [0.8888888888888888, \"#fdca26\"], [1.0, \"#f0f921\"]], \"type\": \"surface\"}], \"table\": [{\"cells\": {\"fill\": {\"color\": \"#EBF0F8\"}, \"line\": {\"color\": \"white\"}}, \"header\": {\"fill\": {\"color\": \"#C8D4E3\"}, \"line\": {\"color\": \"white\"}}, \"type\": \"table\"}]}, \"layout\": {\"annotationdefaults\": {\"arrowcolor\": \"#2a3f5f\", \"arrowhead\": 0, \"arrowwidth\": 1}, \"autotypenumbers\": \"strict\", \"coloraxis\": {\"colorbar\": {\"outlinewidth\": 0, \"ticks\": \"\"}}, \"colorscale\": {\"diverging\": [[0, \"#8e0152\"], [0.1, \"#c51b7d\"], [0.2, \"#de77ae\"], [0.3, \"#f1b6da\"], [0.4, \"#fde0ef\"], [0.5, \"#f7f7f7\"], [0.6, \"#e6f5d0\"], [0.7, \"#b8e186\"], [0.8, \"#7fbc41\"], [0.9, \"#4d9221\"], [1, \"#276419\"]], \"sequential\": [[0.0, \"#0d0887\"], [0.1111111111111111, \"#46039f\"], [0.2222222222222222, \"#7201a8\"], [0.3333333333333333, \"#9c179e\"], [0.4444444444444444, \"#bd3786\"], [0.5555555555555556, \"#d8576b\"], [0.6666666666666666, \"#ed7953\"], [0.7777777777777778, \"#fb9f3a\"], [0.8888888888888888, \"#fdca26\"], [1.0, \"#f0f921\"]], \"sequentialminus\": [[0.0, \"#0d0887\"], [0.1111111111111111, \"#46039f\"], [0.2222222222222222, \"#7201a8\"], [0.3333333333333333, \"#9c179e\"], [0.4444444444444444, \"#bd3786\"], [0.5555555555555556, \"#d8576b\"], [0.6666666666666666, \"#ed7953\"], [0.7777777777777778, \"#fb9f3a\"], [0.8888888888888888, \"#fdca26\"], [1.0, \"#f0f921\"]]}, \"colorway\": [\"#636efa\", \"#EF553B\", \"#00cc96\", \"#ab63fa\", \"#FFA15A\", \"#19d3f3\", \"#FF6692\", \"#B6E880\", \"#FF97FF\", \"#FECB52\"], \"font\": {\"color\": \"#2a3f5f\"}, \"geo\": {\"bgcolor\": \"white\", \"lakecolor\": \"white\", \"landcolor\": \"#E5ECF6\", \"showlakes\": true, \"showland\": true, \"subunitcolor\": \"white\"}, \"hoverlabel\": {\"align\": \"left\"}, \"hovermode\": \"closest\", \"mapbox\": {\"style\": \"light\"}, \"paper_bgcolor\": \"white\", \"plot_bgcolor\": \"#E5ECF6\", \"polar\": {\"angularaxis\": {\"gridcolor\": \"white\", \"linecolor\": \"white\", \"ticks\": \"\"}, \"bgcolor\": \"#E5ECF6\", \"radialaxis\": {\"gridcolor\": \"white\", \"linecolor\": \"white\", \"ticks\": \"\"}}, \"scene\": {\"xaxis\": {\"backgroundcolor\": \"#E5ECF6\", \"gridcolor\": \"white\", \"gridwidth\": 2, \"linecolor\": \"white\", \"showbackground\": true, \"ticks\": \"\", \"zerolinecolor\": \"white\"}, \"yaxis\": {\"backgroundcolor\": \"#E5ECF6\", \"gridcolor\": \"white\", \"gridwidth\": 2, \"linecolor\": \"white\", \"showbackground\": true, \"ticks\": \"\", \"zerolinecolor\": \"white\"}, \"zaxis\": {\"backgroundcolor\": \"#E5ECF6\", \"gridcolor\": \"white\", \"gridwidth\": 2, \"linecolor\": \"white\", \"showbackground\": true, \"ticks\": \"\", \"zerolinecolor\": \"white\"}}, \"shapedefaults\": {\"line\": {\"color\": \"#2a3f5f\"}}, \"ternary\": {\"aaxis\": {\"gridcolor\": \"white\", \"linecolor\": \"white\", \"ticks\": \"\"}, \"baxis\": {\"gridcolor\": \"white\", \"linecolor\": \"white\", \"ticks\": \"\"}, \"bgcolor\": \"#E5ECF6\", \"caxis\": {\"gridcolor\": \"white\", \"linecolor\": \"white\", \"ticks\": \"\"}}, \"title\": {\"x\": 0.05}, \"xaxis\": {\"automargin\": true, \"gridcolor\": \"white\", \"linecolor\": \"white\", \"ticks\": \"\", \"title\": {\"standoff\": 15}, \"zerolinecolor\": \"white\", \"zerolinewidth\": 2}, \"yaxis\": {\"automargin\": true, \"gridcolor\": \"white\", \"linecolor\": \"white\", \"ticks\": \"\", \"title\": {\"standoff\": 15}, \"zerolinecolor\": \"white\", \"zerolinewidth\": 2}}}, \"xaxis\": {\"anchor\": \"y\", \"domain\": [0.0, 1.0], \"title\": {\"text\": \"day\"}}, \"yaxis\": {\"anchor\": \"x\", \"domain\": [0.0, 1.0], \"title\": {\"text\": \"Productivity\"}}},                        {\"responsive\": true}                    ).then(function(){\n",
       "                            \n",
       "var gd = document.getElementById('0b7abfc4-c91d-4215-9d0a-0098b3fb0a34');\n",
       "var x = new MutationObserver(function (mutations, observer) {{\n",
       "        var display = window.getComputedStyle(gd).display;\n",
       "        if (!display || display === 'none') {{\n",
       "            console.log([gd, 'removed!']);\n",
       "            Plotly.purge(gd);\n",
       "            observer.disconnect();\n",
       "        }}\n",
       "}});\n",
       "\n",
       "// Listen for the removal of the full notebook cells\n",
       "var notebookContainer = gd.closest('#notebook-container');\n",
       "if (notebookContainer) {{\n",
       "    x.observe(notebookContainer, {childList: true});\n",
       "}}\n",
       "\n",
       "// Listen for the clearing of the current output cell\n",
       "var outputEl = gd.closest('.output');\n",
       "if (outputEl) {{\n",
       "    x.observe(outputEl, {childList: true});\n",
       "}}\n",
       "\n",
       "                        })                };                });            </script>        </div>"
      ]
     },
     "metadata": {}
    }
   ],
   "metadata": {
    "execution": {
     "iopub.execute_input": "2021-04-10T14:15:10.381417Z",
     "iopub.status.busy": "2021-04-10T14:15:10.380640Z",
     "iopub.status.idle": "2021-04-10T14:15:10.452547Z",
     "shell.execute_reply": "2021-04-10T14:15:10.451906Z"
    },
    "papermill": {
     "duration": 0.13695,
     "end_time": "2021-04-10T14:15:10.452713",
     "exception": false,
     "start_time": "2021-04-10T14:15:10.315763",
     "status": "completed"
    },
    "tags": []
   }
  },
  {
   "cell_type": "markdown",
   "source": [
    "**Surprisingly Saturday is the most productive with an average of 0.75, maybe because Friday is holiday which makes sense, after a break your productivity is more**"
   ],
   "metadata": {
    "papermill": {
     "duration": 0.058056,
     "end_time": "2021-04-10T14:15:10.570359",
     "exception": false,
     "start_time": "2021-04-10T14:15:10.512303",
     "status": "completed"
    },
    "tags": []
   }
  },
  {
   "cell_type": "code",
   "execution_count": 28,
   "source": [
    "teamdf = df[['team', 'actual_productivity']].groupby('team').mean()\n",
    "teamdf = teamdf.sort_values('actual_productivity', ascending=False).reset_index()\n",
    "teamdf\n",
    "fig = px.bar(teamdf, x=\"team\", y=\"actual_productivity\", color='actual_productivity')\n",
    "fig.update_layout(title_text='Productivity by Teams',title_x=0.5,font=dict(\n",
    "        family=\"Courier New, monospace\",\n",
    "        size=18,\n",
    "        color=\"green\"\n",
    "    ))\n",
    "fig.show()"
   ],
   "outputs": [
    {
     "output_type": "display_data",
     "data": {
      "text/html": [
       "<div>                            <div id=\"10a5c288-4743-4aec-9516-293a27fa451b\" class=\"plotly-graph-div\" style=\"height:525px; width:100%;\"></div>            <script type=\"text/javascript\">                require([\"plotly\"], function(Plotly) {                    window.PLOTLYENV=window.PLOTLYENV || {};                                    if (document.getElementById(\"10a5c288-4743-4aec-9516-293a27fa451b\")) {                    Plotly.newPlot(                        \"10a5c288-4743-4aec-9516-293a27fa451b\",                        [{\"alignmentgroup\": \"True\", \"hovertemplate\": \"team=%{x}<br>actual_productivity=%{marker.color}<extra></extra>\", \"legendgroup\": \"\", \"marker\": {\"color\": [0.8210543824666662, 0.8038798219052633, 0.7790554071515153, 0.7708551285779813, 0.7700348248857142, 0.7344619130769233, 0.7197362001500001, 0.6979807909032257, 0.6853852354148934, 0.6819845691931821, 0.6741481065963304, 0.6680055056458333], \"coloraxis\": \"coloraxis\"}, \"name\": \"\", \"offsetgroup\": \"\", \"orientation\": \"v\", \"showlegend\": false, \"textposition\": \"auto\", \"type\": \"bar\", \"x\": [1, 3, 12, 2, 4, 9, 10, 5, 6, 11, 8, 7], \"xaxis\": \"x\", \"y\": [0.8210543824666662, 0.8038798219052633, 0.7790554071515153, 0.7708551285779813, 0.7700348248857142, 0.7344619130769233, 0.7197362001500001, 0.6979807909032257, 0.6853852354148934, 0.6819845691931821, 0.6741481065963304, 0.6680055056458333], \"yaxis\": \"y\"}],                        {\"barmode\": \"relative\", \"coloraxis\": {\"colorbar\": {\"title\": {\"text\": \"actual_productivity\"}}, \"colorscale\": [[0.0, \"#0d0887\"], [0.1111111111111111, \"#46039f\"], [0.2222222222222222, \"#7201a8\"], [0.3333333333333333, \"#9c179e\"], [0.4444444444444444, \"#bd3786\"], [0.5555555555555556, \"#d8576b\"], [0.6666666666666666, \"#ed7953\"], [0.7777777777777778, \"#fb9f3a\"], [0.8888888888888888, \"#fdca26\"], [1.0, \"#f0f921\"]]}, \"font\": {\"color\": \"green\", \"family\": \"Courier New, monospace\", \"size\": 18}, \"legend\": {\"tracegroupgap\": 0}, \"margin\": {\"t\": 60}, \"template\": {\"data\": {\"bar\": [{\"error_x\": {\"color\": \"#2a3f5f\"}, \"error_y\": {\"color\": \"#2a3f5f\"}, \"marker\": {\"line\": {\"color\": \"#E5ECF6\", \"width\": 0.5}}, \"type\": \"bar\"}], \"barpolar\": [{\"marker\": {\"line\": {\"color\": \"#E5ECF6\", \"width\": 0.5}}, \"type\": \"barpolar\"}], \"carpet\": [{\"aaxis\": {\"endlinecolor\": \"#2a3f5f\", \"gridcolor\": \"white\", \"linecolor\": \"white\", \"minorgridcolor\": \"white\", \"startlinecolor\": \"#2a3f5f\"}, \"baxis\": {\"endlinecolor\": \"#2a3f5f\", \"gridcolor\": \"white\", \"linecolor\": \"white\", \"minorgridcolor\": \"white\", \"startlinecolor\": \"#2a3f5f\"}, \"type\": \"carpet\"}], \"choropleth\": [{\"colorbar\": {\"outlinewidth\": 0, \"ticks\": \"\"}, \"type\": \"choropleth\"}], \"contour\": [{\"colorbar\": {\"outlinewidth\": 0, \"ticks\": \"\"}, \"colorscale\": [[0.0, \"#0d0887\"], [0.1111111111111111, \"#46039f\"], [0.2222222222222222, \"#7201a8\"], [0.3333333333333333, \"#9c179e\"], [0.4444444444444444, \"#bd3786\"], [0.5555555555555556, \"#d8576b\"], [0.6666666666666666, \"#ed7953\"], [0.7777777777777778, \"#fb9f3a\"], [0.8888888888888888, \"#fdca26\"], [1.0, \"#f0f921\"]], \"type\": \"contour\"}], \"contourcarpet\": [{\"colorbar\": {\"outlinewidth\": 0, \"ticks\": \"\"}, \"type\": \"contourcarpet\"}], \"heatmap\": [{\"colorbar\": {\"outlinewidth\": 0, \"ticks\": \"\"}, \"colorscale\": [[0.0, \"#0d0887\"], [0.1111111111111111, \"#46039f\"], [0.2222222222222222, \"#7201a8\"], [0.3333333333333333, \"#9c179e\"], [0.4444444444444444, \"#bd3786\"], [0.5555555555555556, \"#d8576b\"], [0.6666666666666666, \"#ed7953\"], [0.7777777777777778, \"#fb9f3a\"], [0.8888888888888888, \"#fdca26\"], [1.0, \"#f0f921\"]], \"type\": \"heatmap\"}], \"heatmapgl\": [{\"colorbar\": {\"outlinewidth\": 0, \"ticks\": \"\"}, \"colorscale\": [[0.0, \"#0d0887\"], [0.1111111111111111, \"#46039f\"], [0.2222222222222222, \"#7201a8\"], [0.3333333333333333, \"#9c179e\"], [0.4444444444444444, \"#bd3786\"], [0.5555555555555556, \"#d8576b\"], [0.6666666666666666, \"#ed7953\"], [0.7777777777777778, \"#fb9f3a\"], [0.8888888888888888, \"#fdca26\"], [1.0, \"#f0f921\"]], \"type\": \"heatmapgl\"}], \"histogram\": [{\"marker\": {\"colorbar\": {\"outlinewidth\": 0, \"ticks\": \"\"}}, \"type\": \"histogram\"}], \"histogram2d\": [{\"colorbar\": {\"outlinewidth\": 0, \"ticks\": \"\"}, \"colorscale\": [[0.0, \"#0d0887\"], [0.1111111111111111, \"#46039f\"], [0.2222222222222222, \"#7201a8\"], [0.3333333333333333, \"#9c179e\"], [0.4444444444444444, \"#bd3786\"], [0.5555555555555556, \"#d8576b\"], [0.6666666666666666, \"#ed7953\"], [0.7777777777777778, \"#fb9f3a\"], [0.8888888888888888, \"#fdca26\"], [1.0, \"#f0f921\"]], \"type\": \"histogram2d\"}], \"histogram2dcontour\": [{\"colorbar\": {\"outlinewidth\": 0, \"ticks\": \"\"}, \"colorscale\": [[0.0, \"#0d0887\"], [0.1111111111111111, \"#46039f\"], [0.2222222222222222, \"#7201a8\"], [0.3333333333333333, \"#9c179e\"], [0.4444444444444444, \"#bd3786\"], [0.5555555555555556, \"#d8576b\"], [0.6666666666666666, \"#ed7953\"], [0.7777777777777778, \"#fb9f3a\"], [0.8888888888888888, \"#fdca26\"], [1.0, \"#f0f921\"]], \"type\": \"histogram2dcontour\"}], \"mesh3d\": [{\"colorbar\": {\"outlinewidth\": 0, \"ticks\": \"\"}, \"type\": \"mesh3d\"}], \"parcoords\": [{\"line\": {\"colorbar\": {\"outlinewidth\": 0, \"ticks\": \"\"}}, \"type\": \"parcoords\"}], \"pie\": [{\"automargin\": true, \"type\": \"pie\"}], \"scatter\": [{\"marker\": {\"colorbar\": {\"outlinewidth\": 0, \"ticks\": \"\"}}, \"type\": \"scatter\"}], \"scatter3d\": [{\"line\": {\"colorbar\": {\"outlinewidth\": 0, \"ticks\": \"\"}}, \"marker\": {\"colorbar\": {\"outlinewidth\": 0, \"ticks\": \"\"}}, \"type\": \"scatter3d\"}], \"scattercarpet\": [{\"marker\": {\"colorbar\": {\"outlinewidth\": 0, \"ticks\": \"\"}}, \"type\": \"scattercarpet\"}], \"scattergeo\": [{\"marker\": {\"colorbar\": {\"outlinewidth\": 0, \"ticks\": \"\"}}, \"type\": \"scattergeo\"}], \"scattergl\": [{\"marker\": {\"colorbar\": {\"outlinewidth\": 0, \"ticks\": \"\"}}, \"type\": \"scattergl\"}], \"scattermapbox\": [{\"marker\": {\"colorbar\": {\"outlinewidth\": 0, \"ticks\": \"\"}}, \"type\": \"scattermapbox\"}], \"scatterpolar\": [{\"marker\": {\"colorbar\": {\"outlinewidth\": 0, \"ticks\": \"\"}}, \"type\": \"scatterpolar\"}], \"scatterpolargl\": [{\"marker\": {\"colorbar\": {\"outlinewidth\": 0, \"ticks\": \"\"}}, \"type\": \"scatterpolargl\"}], \"scatterternary\": [{\"marker\": {\"colorbar\": {\"outlinewidth\": 0, \"ticks\": \"\"}}, \"type\": \"scatterternary\"}], \"surface\": [{\"colorbar\": {\"outlinewidth\": 0, \"ticks\": \"\"}, \"colorscale\": [[0.0, \"#0d0887\"], [0.1111111111111111, \"#46039f\"], [0.2222222222222222, \"#7201a8\"], [0.3333333333333333, \"#9c179e\"], [0.4444444444444444, \"#bd3786\"], [0.5555555555555556, \"#d8576b\"], [0.6666666666666666, \"#ed7953\"], [0.7777777777777778, \"#fb9f3a\"], [0.8888888888888888, \"#fdca26\"], [1.0, \"#f0f921\"]], \"type\": \"surface\"}], \"table\": [{\"cells\": {\"fill\": {\"color\": \"#EBF0F8\"}, \"line\": {\"color\": \"white\"}}, \"header\": {\"fill\": {\"color\": \"#C8D4E3\"}, \"line\": {\"color\": \"white\"}}, \"type\": \"table\"}]}, \"layout\": {\"annotationdefaults\": {\"arrowcolor\": \"#2a3f5f\", \"arrowhead\": 0, \"arrowwidth\": 1}, \"autotypenumbers\": \"strict\", \"coloraxis\": {\"colorbar\": {\"outlinewidth\": 0, \"ticks\": \"\"}}, \"colorscale\": {\"diverging\": [[0, \"#8e0152\"], [0.1, \"#c51b7d\"], [0.2, \"#de77ae\"], [0.3, \"#f1b6da\"], [0.4, \"#fde0ef\"], [0.5, \"#f7f7f7\"], [0.6, \"#e6f5d0\"], [0.7, \"#b8e186\"], [0.8, \"#7fbc41\"], [0.9, \"#4d9221\"], [1, \"#276419\"]], \"sequential\": [[0.0, \"#0d0887\"], [0.1111111111111111, \"#46039f\"], [0.2222222222222222, \"#7201a8\"], [0.3333333333333333, \"#9c179e\"], [0.4444444444444444, \"#bd3786\"], [0.5555555555555556, \"#d8576b\"], [0.6666666666666666, \"#ed7953\"], [0.7777777777777778, \"#fb9f3a\"], [0.8888888888888888, \"#fdca26\"], [1.0, \"#f0f921\"]], \"sequentialminus\": [[0.0, \"#0d0887\"], [0.1111111111111111, \"#46039f\"], [0.2222222222222222, \"#7201a8\"], [0.3333333333333333, \"#9c179e\"], [0.4444444444444444, \"#bd3786\"], [0.5555555555555556, \"#d8576b\"], [0.6666666666666666, \"#ed7953\"], [0.7777777777777778, \"#fb9f3a\"], [0.8888888888888888, \"#fdca26\"], [1.0, \"#f0f921\"]]}, \"colorway\": [\"#636efa\", \"#EF553B\", \"#00cc96\", \"#ab63fa\", \"#FFA15A\", \"#19d3f3\", \"#FF6692\", \"#B6E880\", \"#FF97FF\", \"#FECB52\"], \"font\": {\"color\": \"#2a3f5f\"}, \"geo\": {\"bgcolor\": \"white\", \"lakecolor\": \"white\", \"landcolor\": \"#E5ECF6\", \"showlakes\": true, \"showland\": true, \"subunitcolor\": \"white\"}, \"hoverlabel\": {\"align\": \"left\"}, \"hovermode\": \"closest\", \"mapbox\": {\"style\": \"light\"}, \"paper_bgcolor\": \"white\", \"plot_bgcolor\": \"#E5ECF6\", \"polar\": {\"angularaxis\": {\"gridcolor\": \"white\", \"linecolor\": \"white\", \"ticks\": \"\"}, \"bgcolor\": \"#E5ECF6\", \"radialaxis\": {\"gridcolor\": \"white\", \"linecolor\": \"white\", \"ticks\": \"\"}}, \"scene\": {\"xaxis\": {\"backgroundcolor\": \"#E5ECF6\", \"gridcolor\": \"white\", \"gridwidth\": 2, \"linecolor\": \"white\", \"showbackground\": true, \"ticks\": \"\", \"zerolinecolor\": \"white\"}, \"yaxis\": {\"backgroundcolor\": \"#E5ECF6\", \"gridcolor\": \"white\", \"gridwidth\": 2, \"linecolor\": \"white\", \"showbackground\": true, \"ticks\": \"\", \"zerolinecolor\": \"white\"}, \"zaxis\": {\"backgroundcolor\": \"#E5ECF6\", \"gridcolor\": \"white\", \"gridwidth\": 2, \"linecolor\": \"white\", \"showbackground\": true, \"ticks\": \"\", \"zerolinecolor\": \"white\"}}, \"shapedefaults\": {\"line\": {\"color\": \"#2a3f5f\"}}, \"ternary\": {\"aaxis\": {\"gridcolor\": \"white\", \"linecolor\": \"white\", \"ticks\": \"\"}, \"baxis\": {\"gridcolor\": \"white\", \"linecolor\": \"white\", \"ticks\": \"\"}, \"bgcolor\": \"#E5ECF6\", \"caxis\": {\"gridcolor\": \"white\", \"linecolor\": \"white\", \"ticks\": \"\"}}, \"title\": {\"x\": 0.05}, \"xaxis\": {\"automargin\": true, \"gridcolor\": \"white\", \"linecolor\": \"white\", \"ticks\": \"\", \"title\": {\"standoff\": 15}, \"zerolinecolor\": \"white\", \"zerolinewidth\": 2}, \"yaxis\": {\"automargin\": true, \"gridcolor\": \"white\", \"linecolor\": \"white\", \"ticks\": \"\", \"title\": {\"standoff\": 15}, \"zerolinecolor\": \"white\", \"zerolinewidth\": 2}}}, \"title\": {\"text\": \"Productivity by Teams\", \"x\": 0.5}, \"xaxis\": {\"anchor\": \"y\", \"domain\": [0.0, 1.0], \"title\": {\"text\": \"team\"}}, \"yaxis\": {\"anchor\": \"x\", \"domain\": [0.0, 1.0], \"title\": {\"text\": \"actual_productivity\"}}},                        {\"responsive\": true}                    ).then(function(){\n",
       "                            \n",
       "var gd = document.getElementById('10a5c288-4743-4aec-9516-293a27fa451b');\n",
       "var x = new MutationObserver(function (mutations, observer) {{\n",
       "        var display = window.getComputedStyle(gd).display;\n",
       "        if (!display || display === 'none') {{\n",
       "            console.log([gd, 'removed!']);\n",
       "            Plotly.purge(gd);\n",
       "            observer.disconnect();\n",
       "        }}\n",
       "}});\n",
       "\n",
       "// Listen for the removal of the full notebook cells\n",
       "var notebookContainer = gd.closest('#notebook-container');\n",
       "if (notebookContainer) {{\n",
       "    x.observe(notebookContainer, {childList: true});\n",
       "}}\n",
       "\n",
       "// Listen for the clearing of the current output cell\n",
       "var outputEl = gd.closest('.output');\n",
       "if (outputEl) {{\n",
       "    x.observe(outputEl, {childList: true});\n",
       "}}\n",
       "\n",
       "                        })                };                });            </script>        </div>"
      ]
     },
     "metadata": {}
    }
   ],
   "metadata": {
    "execution": {
     "iopub.execute_input": "2021-04-10T14:15:10.704822Z",
     "iopub.status.busy": "2021-04-10T14:15:10.697950Z",
     "iopub.status.idle": "2021-04-10T14:15:10.771104Z",
     "shell.execute_reply": "2021-04-10T14:15:10.770538Z"
    },
    "papermill": {
     "duration": 0.142221,
     "end_time": "2021-04-10T14:15:10.771248",
     "exception": false,
     "start_time": "2021-04-10T14:15:10.629027",
     "status": "completed"
    },
    "tags": []
   }
  },
  {
   "cell_type": "markdown",
   "source": [
    "# Team 1 is the most productive followed by Team 3"
   ],
   "metadata": {
    "papermill": {
     "duration": 0.058273,
     "end_time": "2021-04-10T14:15:10.888019",
     "exception": false,
     "start_time": "2021-04-10T14:15:10.829746",
     "status": "completed"
    },
    "tags": []
   }
  },
  {
   "cell_type": "markdown",
   "source": [
    "# Number of workers in each Team"
   ],
   "metadata": {
    "papermill": {
     "duration": 0.057942,
     "end_time": "2021-04-10T14:15:11.003928",
     "exception": false,
     "start_time": "2021-04-10T14:15:10.945986",
     "status": "completed"
    },
    "tags": []
   }
  },
  {
   "cell_type": "code",
   "execution_count": 29,
   "source": [
    "fig = px.bar(df, x=\"team\", y=\"no_of_workers\", barmode=\"group\", color='department'\n",
    "             )\n",
    "fig.update_layout(title_text='Team size',title_x=0.5,font=dict(\n",
    "        family=\"Courier New, monospace\",\n",
    "        size=18,\n",
    "        color=\"red\"\n",
    "    ))\n",
    "\n",
    "fig.show()  "
   ],
   "outputs": [
    {
     "output_type": "display_data",
     "data": {
      "text/html": [
       "<div>                            <div id=\"a7b108b7-3306-4974-88c3-884dcdeae6dc\" class=\"plotly-graph-div\" style=\"height:525px; width:100%;\"></div>            <script type=\"text/javascript\">                require([\"plotly\"], function(Plotly) {                    window.PLOTLYENV=window.PLOTLYENV || {};                                    if (document.getElementById(\"a7b108b7-3306-4974-88c3-884dcdeae6dc\")) {                    Plotly.newPlot(                        \"a7b108b7-3306-4974-88c3-884dcdeae6dc\",                        [{\"alignmentgroup\": \"True\", \"hovertemplate\": \"department=sewing<br>team=%{x}<br>no_of_workers=%{y}<extra></extra>\", \"legendgroup\": \"sewing\", \"marker\": {\"color\": \"#636efa\"}, \"name\": \"sewing\", \"offsetgroup\": \"sewing\", \"orientation\": \"v\", \"showlegend\": true, \"textposition\": \"auto\", \"type\": \"bar\", \"x\": [8, 11, 12, 6, 7, 3, 2, 1, 9, 10, 5, 4, 11, 1, 3, 8, 12, 11, 5, 6, 7, 10, 2, 4, 9, 6, 9, 7, 8, 4, 1, 2, 12, 11, 3, 10, 5, 9, 7, 8, 1, 11, 6, 12, 2, 4, 10, 3, 5, 1, 9, 2, 4, 3, 12, 7, 8, 6, 10, 11, 5, 1, 9, 8, 2, 4, 6, 3, 12, 7, 10, 5, 11, 9, 1, 4, 7, 8, 2, 3, 12, 6, 10, 11, 5, 9, 7, 8, 4, 2, 12, 6, 1, 10, 3, 11, 5, 9, 1, 7, 8, 6, 12, 2, 10, 3, 11, 4, 5, 1, 9, 7, 8, 3, 6, 12, 2, 10, 5, 11, 4, 1, 9, 8, 7, 6, 12, 2, 3, 11, 5, 4, 10, 7, 9, 8, 12, 6, 1, 5, 4, 10, 11, 2, 1, 8, 7, 9, 6, 12, 5, 3, 4, 10, 11, 2, 6, 12, 7, 8, 1, 9, 2, 4, 10, 3, 11, 5, 6, 7, 8, 9, 4, 10, 12, 3, 11, 2, 5, 1, 6, 8, 9, 2, 4, 3, 10, 11, 5, 7, 1, 12, 6, 8, 9, 4, 10, 3, 2, 11, 5, 12, 7, 4, 6, 8, 2, 10, 5, 3, 11, 1, 12, 9, 7, 4, 2, 6, 10, 1, 3, 5, 11, 12, 7, 8, 9, 2, 4, 1, 10, 6, 3, 12, 11, 5, 7, 9, 8, 4, 2, 1, 3, 6, 10, 7, 12, 5, 9, 11, 8, 4, 6, 3, 2, 1, 10, 5, 9, 12, 8, 11, 2, 3, 10, 4, 1, 9, 12, 8, 6, 5, 11, 2, 3, 10, 1, 5, 4, 9, 12, 11, 8, 6, 7, 2, 3, 4, 10, 1, 9, 5, 12, 11, 6, 7, 3, 2, 10, 4, 9, 1, 12, 5, 11, 6, 7, 8, 2, 1, 3, 10, 4, 9, 12, 11, 6, 8, 7, 1, 2, 3, 10, 12, 4, 9, 11, 6, 5, 7, 8, 1, 10, 3, 2, 4, 12, 9, 11, 6, 8, 7, 5, 2, 3, 10, 2, 1, 8, 1, 12, 9, 7, 9, 6, 7, 11, 8, 5, 6, 4, 2, 1, 10, 2, 3, 6, 12, 7, 1, 12, 9, 10, 11, 6, 5, 7, 4, 8, 2, 2, 3, 1, 10, 12, 1, 6, 12, 9, 9, 6, 11, 7, 7, 4, 5, 4, 8, 2, 7, 10, 1, 3, 1, 12, 2, 8, 12, 9, 6, 11, 5, 6, 9, 4, 7, 8, 2, 1, 10, 1, 2, 6, 12, 3, 9, 4, 11, 8, 5, 9, 6, 7, 8, 12, 12, 2, 10, 1, 3, 2, 1, 9, 12, 4, 6, 11, 5, 8, 4, 9, 6, 7, 8, 4, 12, 2, 1, 8, 2, 5, 10, 6, 12, 9, 5, 8, 4, 1, 7, 9, 3, 11, 1, 4, 2, 12, 12, 8, 5, 6, 1, 9, 4, 2, 5, 7, 11, 9, 8, 10, 3, 1, 7, 4, 12, 12, 2, 1, 4, 5, 8, 8, 7, 11, 6, 3, 6, 9, 1, 2, 1, 12, 12, 5, 5, 11, 7, 8, 6, 11, 8, 6, 4, 3, 2, 4, 9, 1, 9, 12, 3, 3, 5, 12, 6, 6, 4, 4, 7, 5, 8, 11, 10, 9, 7, 1, 10, 7, 12, 12, 3, 6, 4, 6, 7, 11, 3, 4, 5, 9, 8, 9, 2, 2, 10, 12, 6, 2, 11, 4, 5, 12, 1, 6, 7, 4, 3, 9, 7, 10, 8, 9, 2, 10, 3, 8, 3, 12, 1, 4, 5, 6, 6, 10, 2, 3, 11, 8, 4, 8, 9, 5, 7, 12, 2, 10, 3, 6, 2, 11, 12, 4, 12, 9, 6, 1, 8, 2, 11, 9, 3, 10, 7, 10, 5, 7, 10, 8, 12, 3, 12, 4, 5, 7, 6, 11, 2, 8, 3, 9, 10, 6, 9, 2, 7, 10, 3, 12, 5, 4, 8, 7, 6, 11, 3, 6, 9, 2, 8, 9, 11, 10, 2, 1, 9, 5, 3, 12, 10, 4, 12, 7, 6, 11, 3, 8, 2, 10, 7, 8, 5, 1, 2, 6, 9, 3, 5, 7, 11, 12, 1, 6, 3, 9, 8, 10, 2, 12, 2, 4, 5, 10, 9, 1, 8, 6, 3, 5, 11, 12, 7, 1, 3, 6, 8, 9, 10, 2, 12, 2, 5, 1, 4, 10, 9, 8, 6, 3, 8, 12, 8, 6, 3, 9, 5, 10, 1, 2, 11, 4, 10, 4, 2, 7, 1, 9, 7, 2, 3, 4, 1, 12, 9, 11, 3, 7, 8, 6, 8, 9, 4, 5, 10, 10, 12, 1, 7, 7, 3, 11, 1, 12, 3, 7, 4, 8, 9, 6, 8, 5, 10, 12, 2, 1, 4, 10, 5, 6, 2, 3, 8, 12, 9, 1, 4, 11, 12, 3, 7, 4, 1, 9, 5, 10, 7, 5, 2, 8, 2, 6, 8, 2, 11, 12, 1, 4, 3, 11, 3, 12, 1, 9, 4, 5, 10, 2, 9, 7, 6, 12, 12, 1, 7, 5, 4, 3, 11, 6, 9, 10, 1, 4, 11, 2, 8, 2, 6, 5, 3, 12, 9, 1, 4, 2, 5, 4, 1, 3, 12, 11, 11, 9, 10, 2, 6, 8, 5, 8, 10, 6, 11, 12, 5, 4, 1, 9, 3, 12, 11, 3, 4, 1, 9, 2, 10, 2, 6, 8, 5, 7, 10, 8, 12, 5, 1, 3, 4, 1, 4, 9, 12, 3, 11, 11, 10, 9, 2, 8, 6, 2, 5, 7, 8, 7, 10, 12, 11, 2, 4, 1, 12, 3, 11, 3, 5, 10, 9, 2, 1, 4, 5, 8, 6, 7, 10, 8, 7, 9, 6], \"xaxis\": \"x\", \"y\": [59.0, 30.5, 30.5, 56.0, 56.0, 57.5, 55.0, 57.5, 57.5, 54.0, 30.5, 60.0, 12.0, 56.5, 54.5, 59.0, 59.0, 29.5, 31.5, 56.0, 56.0, 54.0, 55.0, 60.0, 57.5, 31.0, 59.0, 56.5, 56.5, 55.5, 59.0, 55.5, 31.0, 54.0, 55.0, 57.5, 58.0, 59.0, 56.5, 56.5, 59.0, 55.0, 32.0, 32.0, 57.5, 57.5, 58.5, 55.0, 58.0, 59.0, 59.0, 57.5, 57.5, 55.0, 31.5, 56.5, 56.5, 31.5, 58.5, 55.0, 58.0, 59.0, 59.0, 56.5, 57.5, 57.5, 30.5, 55.0, 31.5, 56.5, 58.5, 58.0, 55.0, 59.0, 59.0, 58.5, 56.5, 56.5, 58.5, 55.0, 31.5, 30.5, 58.5, 54.0, 57.0, 59.0, 56.5, 56.5, 58.0, 57.5, 31.5, 30.5, 59.0, 58.5, 56.0, 53.0, 56.0, 59.0, 59.0, 56.5, 56.5, 30.5, 31.5, 58.5, 58.5, 55.0, 53.0, 58.0, 57.0, 59.0, 59.0, 56.5, 56.5, 55.0, 31.5, 31.5, 58.5, 58.5, 59.0, 53.0, 51.5, 59.0, 59.0, 57.0, 56.5, 31.5, 31.5, 58.5, 55.0, 53.0, 58.0, 56.5, 56.5, 56.5, 59.0, 56.5, 31.5, 31.5, 59.0, 58.0, 57.0, 56.5, 55.0, 57.0, 59.0, 56.5, 56.5, 59.0, 31.5, 31.5, 58.0, 56.5, 56.0, 56.5, 55.0, 54.5, 30.5, 31.5, 56.5, 56.5, 59.0, 59.0, 56.5, 56.5, 54.0, 56.5, 56.0, 58.0, 30.5, 56.5, 56.5, 59.0, 56.5, 56.0, 31.5, 56.5, 57.0, 56.5, 58.0, 57.5, 31.0, 56.5, 59.0, 56.5, 57.0, 56.5, 56.0, 57.0, 58.0, 57.0, 56.5, 34.0, 31.0, 56.5, 59.0, 57.0, 56.0, 57.0, 57.0, 57.0, 57.0, 34.0, 56.0, 56.0, 89.0, 56.5, 57.0, 56.0, 58.0, 57.0, 57.0, 57.0, 34.0, 58.0, 56.0, 56.0, 57.0, 32.0, 56.0, 57.0, 57.0, 58.0, 57.0, 34.0, 57.0, 56.5, 58.0, 57.0, 57.0, 57.0, 56.0, 32.0, 57.0, 34.0, 57.0, 58.0, 56.5, 58.0, 52.0, 57.0, 58.5, 58.5, 57.5, 32.0, 56.0, 56.5, 34.0, 58.0, 58.0, 57.0, 52.0, 56.5, 32.0, 57.0, 57.0, 58.0, 56.0, 58.0, 58.0, 34.0, 52.0, 57.0, 57.0, 57.0, 56.0, 56.5, 58.0, 58.0, 34.0, 52.0, 32.0, 58.0, 54.0, 57.0, 57.0, 56.0, 58.0, 58.0, 56.5, 58.0, 35.0, 54.0, 52.0, 32.0, 55.0, 57.0, 57.0, 57.5, 56.0, 58.0, 58.0, 59.0, 35.0, 51.0, 33.0, 55.0, 58.0, 57.0, 56.0, 57.5, 57.0, 58.0, 35.0, 59.0, 54.0, 33.0, 56.0, 54.0, 57.5, 58.5, 57.0, 56.0, 58.5, 58.0, 35.0, 54.0, 33.0, 55.0, 56.0, 58.5, 58.5, 57.0, 56.0, 35.0, 56.5, 58.0, 54.0, 33.0, 58.0, 56.0, 55.0, 57.5, 56.0, 57.0, 58.0, 56.5, 35.0, 58.0, 54.0, 33.5, 55.5, 56.0, 58.0, 57.5, 57.0, 56.0, 18.0, 10.0, 25.0, 57.5, 34.0, 58.0, 8.0, 8.0, 33.0, 58.0, 53.0, 57.0, 58.5, 8.0, 55.5, 56.5, 57.5, 56.0, 22.0, 57.0, 8.0, 9.0, 10.0, 12.0, 34.0, 58.0, 8.0, 26.0, 33.0, 58.0, 58.0, 53.0, 57.0, 25.0, 58.0, 57.0, 57.0, 56.0, 9.0, 10.0, 8.0, 34.0, 58.0, 8.0, 33.0, 27.0, 10.0, 58.0, 57.0, 59.0, 8.0, 57.0, 57.5, 12.0, 56.0, 56.5, 56.0, 10.0, 9.0, 18.0, 15.0, 34.0, 58.0, 33.0, 27.0, 58.5, 8.0, 8.0, 56.5, 58.0, 57.0, 18.0, 10.0, 56.0, 57.0, 57.0, 8.0, 34.0, 57.0, 58.0, 57.0, 54.0, 15.0, 58.0, 8.0, 34.0, 58.0, 58.0, 9.0, 9.0, 18.0, 56.0, 57.0, 57.0, 57.0, 12.0, 58.0, 34.0, 15.0, 34.0, 54.0, 58.0, 8.0, 58.0, 8.0, 8.0, 58.0, 58.0, 15.0, 9.0, 57.5, 57.0, 12.0, 18.0, 2.0, 56.0, 34.0, 34.0, 58.0, 59.5, 58.0, 59.5, 12.0, 58.0, 8.0, 57.0, 52.0, 57.0, 15.0, 57.5, 9.0, 34.0, 12.0, 59.0, 33.0, 12.0, 8.0, 59.0, 18.0, 2.0, 59.0, 55.0, 58.0, 59.0, 50.0, 58.0, 57.0, 15.0, 20.0, 9.0, 34.0, 57.0, 12.0, 59.0, 59.0, 8.0, 60.0, 60.0, 55.0, 34.0, 58.0, 8.0, 8.0, 8.0, 8.0, 57.0, 9.0, 34.0, 2.0, 59.5, 10.0, 59.0, 59.0, 34.0, 53.0, 8.0, 8.0, 59.5, 58.0, 57.5, 20.0, 54.0, 57.0, 10.0, 9.0, 8.0, 58.0, 59.0, 34.0, 8.0, 33.0, 58.0, 15.0, 59.0, 10.0, 59.0, 54.0, 44.0, 54.0, 15.0, 57.0, 8.0, 10.0, 9.0, 34.0, 15.0, 33.0, 58.0, 8.0, 59.0, 56.0, 58.0, 8.0, 59.0, 51.0, 58.0, 8.0, 15.0, 56.0, 49.0, 10.0, 12.0, 12.0, 56.0, 58.0, 59.0, 34.0, 57.0, 33.0, 59.0, 8.0, 58.0, 51.0, 8.0, 8.0, 8.0, 8.0, 57.0, 47.0, 8.0, 57.0, 12.0, 34.0, 57.0, 58.5, 59.5, 18.0, 33.0, 10.0, 15.0, 58.0, 58.0, 57.0, 8.0, 8.0, 51.0, 8.0, 59.0, 9.0, 57.0, 48.0, 15.0, 8.0, 20.0, 12.0, 34.0, 59.0, 10.0, 10.0, 33.0, 12.0, 57.0, 57.0, 58.0, 57.0, 58.0, 50.0, 58.0, 8.0, 60.0, 8.0, 20.0, 8.0, 9.0, 18.0, 34.0, 59.0, 59.0, 58.0, 33.0, 58.0, 58.0, 57.0, 58.0, 50.0, 50.0, 8.0, 8.0, 8.0, 8.0, 15.0, 12.0, 34.0, 60.0, 59.0, 8.0, 59.0, 33.0, 57.0, 60.0, 15.0, 15.0, 59.0, 58.0, 52.0, 8.0, 53.0, 8.0, 42.0, 52.0, 9.0, 20.0, 15.0, 10.0, 59.0, 34.0, 59.0, 33.0, 57.0, 58.0, 58.0, 58.0, 52.0, 8.0, 8.0, 59.0, 42.0, 8.0, 8.0, 8.0, 15.0, 18.0, 59.0, 57.0, 34.0, 8.0, 33.0, 57.0, 52.0, 58.0, 52.0, 58.0, 9.0, 8.0, 59.0, 57.0, 8.0, 8.0, 55.0, 8.0, 8.0, 15.0, 18.0, 58.0, 34.0, 59.0, 8.0, 57.0, 33.0, 58.0, 52.0, 51.0, 58.0, 9.0, 8.0, 57.0, 57.0, 58.0, 8.0, 8.0, 8.0, 8.0, 25.0, 8.0, 34.0, 57.0, 33.0, 57.0, 52.0, 56.0, 52.0, 57.0, 58.0, 57.0, 8.0, 8.0, 57.0, 8.0, 58.0, 8.0, 8.0, 8.0, 10.0, 24.0, 8.0, 57.0, 34.0, 10.0, 57.0, 57.0, 59.0, 8.0, 33.0, 57.0, 52.0, 57.0, 56.0, 51.0, 8.0, 9.0, 8.0, 8.0, 10.0, 15.0, 56.0, 58.0, 34.0, 57.0, 59.0, 58.0, 57.0, 52.0, 33.0, 8.0, 57.0, 51.0, 9.0, 15.0, 8.0, 8.0, 8.0, 8.0, 8.0, 45.0, 10.0, 8.0, 9.0, 8.0, 8.0, 8.0, 56.0, 34.0, 57.0, 59.0, 58.0, 58.0, 52.0, 58.0, 53.0, 20.0, 8.0, 8.0, 57.0, 46.0, 33.0, 22.0, 8.0, 10.0, 9.0, 8.0, 8.0, 15.0, 56.0, 57.0, 34.0, 58.0, 52.0, 59.0, 58.0, 50.0, 46.0, 8.0, 59.0, 39.0, 9.0, 34.0, 58.0, 25.0, 10.0, 58.0, 57.0, 58.0, 8.0, 51.0, 50.0, 8.0, 8.0, 8.0, 45.0, 15.0, 8.0, 39.0, 58.0, 12.0, 9.0, 9.0, 8.0, 8.0, 10.0, 8.0, 57.0, 58.0, 57.0, 34.0, 58.0, 8.0, 52.0, 50.0, 45.0, 38.0, 56.0, 59.0, 8.0, 8.0, 8.0, 8.0, 9.0, 12.0, 58.0, 59.0, 15.0, 58.0, 34.0, 58.0, 12.0, 8.0, 8.0, 52.0, 45.0, 50.0, 10.0, 38.0, 56.0, 59.0, 55.0, 8.0, 8.0, 9.0, 12.0, 59.0, 12.0, 8.0, 8.0, 59.0, 15.0, 34.0, 58.0, 58.0, 8.0, 50.0, 52.0, 8.0, 57.0, 38.0, 45.0, 59.0, 57.0, 8.0, 8.0, 8.0, 9.0, 10.0, 8.0, 8.0, 8.0, 34.0, 58.0, 58.0, 8.0, 12.0, 50.0, 52.0, 45.0, 59.0, 59.0, 58.0, 57.0, 38.0, 57.0, 8.0, 8.0, 8.0, 15.0, 6.0], \"yaxis\": \"y\"}, {\"alignmentgroup\": \"True\", \"hovertemplate\": \"department=finishing<br>team=%{x}<br>no_of_workers=%{y}<extra></extra>\", \"legendgroup\": \"finishing\", \"marker\": {\"color\": \"#EF553B\"}, \"name\": \"finishing\", \"offsetgroup\": \"finishing\", \"orientation\": \"v\", \"showlegend\": true, \"textposition\": \"auto\", \"type\": \"bar\", \"x\": [1, 2, 10, 8, 4, 7, 4, 11, 9, 3, 1, 2, 10, 8, 7, 3, 9, 1, 4, 2, 10, 8, 7, 11, 1, 11, 4, 3, 9, 2, 10, 5, 7, 8, 4, 1, 3, 11, 9, 10, 2, 8, 7, 1, 9, 3, 4, 2, 10, 7, 8, 6, 5, 1, 4, 9, 2, 5, 10, 8, 3, 7, 11, 1, 3, 4, 9, 10, 11, 2, 7, 8, 5, 3, 4, 1, 9, 10, 2, 11, 8, 5, 6, 7, 1, 4, 3, 2, 9, 6, 5, 8, 7, 11, 10, 4, 1, 10, 3, 9, 5, 2, 8, 7, 11, 11, 4, 1, 5, 9, 7, 3, 8, 10, 2, 4, 10, 1, 5, 9, 7, 8, 5, 2, 10, 1, 9, 8, 7, 6, 11, 5, 11, 6, 7, 8, 9, 10, 4, 9, 5, 12, 8, 10, 11, 5, 9, 8, 11, 4, 2, 9, 5, 8, 1, 11, 7, 10, 5, 4, 1, 2, 6, 3, 8, 12, 5, 10, 8, 11, 3, 7, 12, 4, 2, 1, 9, 5, 2, 1, 3, 10, 4, 7, 12, 8, 3, 10, 4, 5, 2, 1, 12, 7, 10, 4, 5, 3, 8, 12, 7, 2, 1, 6, 6, 1, 2, 10, 12, 4, 8, 7, 11, 4, 6, 8, 11, 10, 1, 2, 12, 3, 2, 3, 4, 10, 1, 9, 12, 5, 7, 8, 11, 6, 8, 1, 2, 7, 10, 4, 12, 6, 9, 10, 4, 12, 8, 1, 6, 2, 1, 8, 9, 12, 4, 6, 12], \"xaxis\": \"x\", \"y\": [8.0, 8.0, 8.0, 8.0, 18.0, 8.0, 20.0, 17.0, 8.0, 8.0, 8.0, 8.0, 8.0, 8.0, 8.0, 8.0, 8.0, 8.0, 20.0, 8.0, 18.0, 8.0, 8.0, 8.0, 8.0, 10.0, 16.0, 8.0, 8.0, 8.0, 8.0, 8.0, 8.0, 8.0, 18.0, 8.0, 10.0, 15.0, 8.0, 8.0, 8.0, 8.0, 8.0, 8.0, 8.0, 15.0, 18.0, 8.0, 8.0, 8.0, 8.0, 10.0, 8.0, 8.0, 20.0, 8.0, 8.0, 8.0, 8.0, 8.0, 12.0, 8.0, 5.0, 8.0, 12.0, 20.0, 8.0, 8.0, 8.0, 8.0, 8.0, 8.0, 8.0, 8.0, 20.0, 8.0, 8.0, 8.0, 8.0, 8.0, 8.0, 8.0, 8.0, 8.0, 8.0, 18.0, 10.0, 8.0, 8.0, 8.0, 8.0, 8.0, 8.0, 8.0, 8.0, 12.0, 2.0, 20.0, 9.0, 8.0, 8.0, 8.0, 8.0, 8.0, 8.0, 7.0, 8.0, 8.0, 15.0, 8.0, 8.0, 7.0, 8.0, 8.0, 8.0, 20.0, 19.0, 8.0, 8.0, 8.0, 8.0, 8.0, 15.0, 10.0, 8.0, 8.0, 10.0, 8.0, 8.0, 5.0, 7.0, 8.0, 12.0, 10.0, 8.0, 8.0, 10.0, 8.0, 28.0, 10.0, 8.0, 8.0, 8.0, 8.0, 8.0, 8.0, 10.0, 8.0, 15.0, 20.0, 17.0, 8.0, 8.0, 8.0, 8.0, 9.0, 10.0, 14.0, 15.0, 15.0, 25.0, 25.0, 8.0, 20.0, 8.0, 9.0, 15.0, 10.0, 9.0, 10.0, 8.0, 12.0, 9.0, 12.0, 8.0, 8.0, 8.0, 17.0, 8.0, 8.0, 9.0, 19.0, 12.0, 14.0, 9.0, 4.0, 10.0, 21.0, 12.0, 15.0, 10.0, 10.0, 9.0, 8.0, 12.0, 12.0, 12.0, 12.0, 8.0, 9.0, 8.0, 10.0, 10.0, 8.0, 15.0, 10.0, 15.0, 10.0, 9.0, 12.0, 8.0, 8.0, 8.0, 10.0, 10.0, 8.0, 8.0, 10.0, 10.0, 10.0, 9.0, 8.0, 10.0, 8.0, 10.0, 10.0, 15.0, 2.0, 9.0, 2.0, 10.0, 8.0, 5.0, 10.0, 8.0, 19.0, 10.0, 18.0, 10.0, 12.0, 9.0, 10.0, 8.0, 10.0, 12.0, 9.0, 8.0, 19.0, 10.0, 20.0, 10.0, 8.0, 11.0, 9.0, 12.0, 8.0, 9.0], \"yaxis\": \"y\"}],                        {\"barmode\": \"group\", \"font\": {\"color\": \"red\", \"family\": \"Courier New, monospace\", \"size\": 18}, \"legend\": {\"title\": {\"text\": \"department\"}, \"tracegroupgap\": 0}, \"margin\": {\"t\": 60}, \"template\": {\"data\": {\"bar\": [{\"error_x\": {\"color\": \"#2a3f5f\"}, \"error_y\": {\"color\": \"#2a3f5f\"}, \"marker\": {\"line\": {\"color\": \"#E5ECF6\", \"width\": 0.5}}, \"type\": \"bar\"}], \"barpolar\": [{\"marker\": {\"line\": {\"color\": \"#E5ECF6\", \"width\": 0.5}}, \"type\": \"barpolar\"}], \"carpet\": [{\"aaxis\": {\"endlinecolor\": \"#2a3f5f\", \"gridcolor\": \"white\", \"linecolor\": \"white\", \"minorgridcolor\": \"white\", \"startlinecolor\": \"#2a3f5f\"}, \"baxis\": {\"endlinecolor\": \"#2a3f5f\", \"gridcolor\": \"white\", \"linecolor\": \"white\", \"minorgridcolor\": \"white\", \"startlinecolor\": \"#2a3f5f\"}, \"type\": \"carpet\"}], \"choropleth\": [{\"colorbar\": {\"outlinewidth\": 0, \"ticks\": \"\"}, \"type\": \"choropleth\"}], \"contour\": [{\"colorbar\": {\"outlinewidth\": 0, \"ticks\": \"\"}, \"colorscale\": [[0.0, \"#0d0887\"], [0.1111111111111111, \"#46039f\"], [0.2222222222222222, \"#7201a8\"], [0.3333333333333333, \"#9c179e\"], [0.4444444444444444, \"#bd3786\"], [0.5555555555555556, \"#d8576b\"], [0.6666666666666666, \"#ed7953\"], [0.7777777777777778, \"#fb9f3a\"], [0.8888888888888888, \"#fdca26\"], [1.0, \"#f0f921\"]], \"type\": \"contour\"}], \"contourcarpet\": [{\"colorbar\": {\"outlinewidth\": 0, \"ticks\": \"\"}, \"type\": \"contourcarpet\"}], \"heatmap\": [{\"colorbar\": {\"outlinewidth\": 0, \"ticks\": \"\"}, \"colorscale\": [[0.0, \"#0d0887\"], [0.1111111111111111, \"#46039f\"], [0.2222222222222222, \"#7201a8\"], [0.3333333333333333, \"#9c179e\"], [0.4444444444444444, \"#bd3786\"], [0.5555555555555556, \"#d8576b\"], [0.6666666666666666, \"#ed7953\"], [0.7777777777777778, \"#fb9f3a\"], [0.8888888888888888, \"#fdca26\"], [1.0, \"#f0f921\"]], \"type\": \"heatmap\"}], \"heatmapgl\": [{\"colorbar\": {\"outlinewidth\": 0, \"ticks\": \"\"}, \"colorscale\": [[0.0, \"#0d0887\"], [0.1111111111111111, \"#46039f\"], [0.2222222222222222, \"#7201a8\"], [0.3333333333333333, \"#9c179e\"], [0.4444444444444444, \"#bd3786\"], [0.5555555555555556, \"#d8576b\"], [0.6666666666666666, \"#ed7953\"], [0.7777777777777778, \"#fb9f3a\"], [0.8888888888888888, \"#fdca26\"], [1.0, \"#f0f921\"]], \"type\": \"heatmapgl\"}], \"histogram\": [{\"marker\": {\"colorbar\": {\"outlinewidth\": 0, \"ticks\": \"\"}}, \"type\": \"histogram\"}], \"histogram2d\": [{\"colorbar\": {\"outlinewidth\": 0, \"ticks\": \"\"}, \"colorscale\": [[0.0, \"#0d0887\"], [0.1111111111111111, \"#46039f\"], [0.2222222222222222, \"#7201a8\"], [0.3333333333333333, \"#9c179e\"], [0.4444444444444444, \"#bd3786\"], [0.5555555555555556, \"#d8576b\"], [0.6666666666666666, \"#ed7953\"], [0.7777777777777778, \"#fb9f3a\"], [0.8888888888888888, \"#fdca26\"], [1.0, \"#f0f921\"]], \"type\": \"histogram2d\"}], \"histogram2dcontour\": [{\"colorbar\": {\"outlinewidth\": 0, \"ticks\": \"\"}, \"colorscale\": [[0.0, \"#0d0887\"], [0.1111111111111111, \"#46039f\"], [0.2222222222222222, \"#7201a8\"], [0.3333333333333333, \"#9c179e\"], [0.4444444444444444, \"#bd3786\"], [0.5555555555555556, \"#d8576b\"], [0.6666666666666666, \"#ed7953\"], [0.7777777777777778, \"#fb9f3a\"], [0.8888888888888888, \"#fdca26\"], [1.0, \"#f0f921\"]], \"type\": \"histogram2dcontour\"}], \"mesh3d\": [{\"colorbar\": {\"outlinewidth\": 0, \"ticks\": \"\"}, \"type\": \"mesh3d\"}], \"parcoords\": [{\"line\": {\"colorbar\": {\"outlinewidth\": 0, \"ticks\": \"\"}}, \"type\": \"parcoords\"}], \"pie\": [{\"automargin\": true, \"type\": \"pie\"}], \"scatter\": [{\"marker\": {\"colorbar\": {\"outlinewidth\": 0, \"ticks\": \"\"}}, \"type\": \"scatter\"}], \"scatter3d\": [{\"line\": {\"colorbar\": {\"outlinewidth\": 0, \"ticks\": \"\"}}, \"marker\": {\"colorbar\": {\"outlinewidth\": 0, \"ticks\": \"\"}}, \"type\": \"scatter3d\"}], \"scattercarpet\": [{\"marker\": {\"colorbar\": {\"outlinewidth\": 0, \"ticks\": \"\"}}, \"type\": \"scattercarpet\"}], \"scattergeo\": [{\"marker\": {\"colorbar\": {\"outlinewidth\": 0, \"ticks\": \"\"}}, \"type\": \"scattergeo\"}], \"scattergl\": [{\"marker\": {\"colorbar\": {\"outlinewidth\": 0, \"ticks\": \"\"}}, \"type\": \"scattergl\"}], \"scattermapbox\": [{\"marker\": {\"colorbar\": {\"outlinewidth\": 0, \"ticks\": \"\"}}, \"type\": \"scattermapbox\"}], \"scatterpolar\": [{\"marker\": {\"colorbar\": {\"outlinewidth\": 0, \"ticks\": \"\"}}, \"type\": \"scatterpolar\"}], \"scatterpolargl\": [{\"marker\": {\"colorbar\": {\"outlinewidth\": 0, \"ticks\": \"\"}}, \"type\": \"scatterpolargl\"}], \"scatterternary\": [{\"marker\": {\"colorbar\": {\"outlinewidth\": 0, \"ticks\": \"\"}}, \"type\": \"scatterternary\"}], \"surface\": [{\"colorbar\": {\"outlinewidth\": 0, \"ticks\": \"\"}, \"colorscale\": [[0.0, \"#0d0887\"], [0.1111111111111111, \"#46039f\"], [0.2222222222222222, \"#7201a8\"], [0.3333333333333333, \"#9c179e\"], [0.4444444444444444, \"#bd3786\"], [0.5555555555555556, \"#d8576b\"], [0.6666666666666666, \"#ed7953\"], [0.7777777777777778, \"#fb9f3a\"], [0.8888888888888888, \"#fdca26\"], [1.0, \"#f0f921\"]], \"type\": \"surface\"}], \"table\": [{\"cells\": {\"fill\": {\"color\": \"#EBF0F8\"}, \"line\": {\"color\": \"white\"}}, \"header\": {\"fill\": {\"color\": \"#C8D4E3\"}, \"line\": {\"color\": \"white\"}}, \"type\": \"table\"}]}, \"layout\": {\"annotationdefaults\": {\"arrowcolor\": \"#2a3f5f\", \"arrowhead\": 0, \"arrowwidth\": 1}, \"autotypenumbers\": \"strict\", \"coloraxis\": {\"colorbar\": {\"outlinewidth\": 0, \"ticks\": \"\"}}, \"colorscale\": {\"diverging\": [[0, \"#8e0152\"], [0.1, \"#c51b7d\"], [0.2, \"#de77ae\"], [0.3, \"#f1b6da\"], [0.4, \"#fde0ef\"], [0.5, \"#f7f7f7\"], [0.6, \"#e6f5d0\"], [0.7, \"#b8e186\"], [0.8, \"#7fbc41\"], [0.9, \"#4d9221\"], [1, \"#276419\"]], \"sequential\": [[0.0, \"#0d0887\"], [0.1111111111111111, \"#46039f\"], [0.2222222222222222, \"#7201a8\"], [0.3333333333333333, \"#9c179e\"], [0.4444444444444444, \"#bd3786\"], [0.5555555555555556, \"#d8576b\"], [0.6666666666666666, \"#ed7953\"], [0.7777777777777778, \"#fb9f3a\"], [0.8888888888888888, \"#fdca26\"], [1.0, \"#f0f921\"]], \"sequentialminus\": [[0.0, \"#0d0887\"], [0.1111111111111111, \"#46039f\"], [0.2222222222222222, \"#7201a8\"], [0.3333333333333333, \"#9c179e\"], [0.4444444444444444, \"#bd3786\"], [0.5555555555555556, \"#d8576b\"], [0.6666666666666666, \"#ed7953\"], [0.7777777777777778, \"#fb9f3a\"], [0.8888888888888888, \"#fdca26\"], [1.0, \"#f0f921\"]]}, \"colorway\": [\"#636efa\", \"#EF553B\", \"#00cc96\", \"#ab63fa\", \"#FFA15A\", \"#19d3f3\", \"#FF6692\", \"#B6E880\", \"#FF97FF\", \"#FECB52\"], \"font\": {\"color\": \"#2a3f5f\"}, \"geo\": {\"bgcolor\": \"white\", \"lakecolor\": \"white\", \"landcolor\": \"#E5ECF6\", \"showlakes\": true, \"showland\": true, \"subunitcolor\": \"white\"}, \"hoverlabel\": {\"align\": \"left\"}, \"hovermode\": \"closest\", \"mapbox\": {\"style\": \"light\"}, \"paper_bgcolor\": \"white\", \"plot_bgcolor\": \"#E5ECF6\", \"polar\": {\"angularaxis\": {\"gridcolor\": \"white\", \"linecolor\": \"white\", \"ticks\": \"\"}, \"bgcolor\": \"#E5ECF6\", \"radialaxis\": {\"gridcolor\": \"white\", \"linecolor\": \"white\", \"ticks\": \"\"}}, \"scene\": {\"xaxis\": {\"backgroundcolor\": \"#E5ECF6\", \"gridcolor\": \"white\", \"gridwidth\": 2, \"linecolor\": \"white\", \"showbackground\": true, \"ticks\": \"\", \"zerolinecolor\": \"white\"}, \"yaxis\": {\"backgroundcolor\": \"#E5ECF6\", \"gridcolor\": \"white\", \"gridwidth\": 2, \"linecolor\": \"white\", \"showbackground\": true, \"ticks\": \"\", \"zerolinecolor\": \"white\"}, \"zaxis\": {\"backgroundcolor\": \"#E5ECF6\", \"gridcolor\": \"white\", \"gridwidth\": 2, \"linecolor\": \"white\", \"showbackground\": true, \"ticks\": \"\", \"zerolinecolor\": \"white\"}}, \"shapedefaults\": {\"line\": {\"color\": \"#2a3f5f\"}}, \"ternary\": {\"aaxis\": {\"gridcolor\": \"white\", \"linecolor\": \"white\", \"ticks\": \"\"}, \"baxis\": {\"gridcolor\": \"white\", \"linecolor\": \"white\", \"ticks\": \"\"}, \"bgcolor\": \"#E5ECF6\", \"caxis\": {\"gridcolor\": \"white\", \"linecolor\": \"white\", \"ticks\": \"\"}}, \"title\": {\"x\": 0.05}, \"xaxis\": {\"automargin\": true, \"gridcolor\": \"white\", \"linecolor\": \"white\", \"ticks\": \"\", \"title\": {\"standoff\": 15}, \"zerolinecolor\": \"white\", \"zerolinewidth\": 2}, \"yaxis\": {\"automargin\": true, \"gridcolor\": \"white\", \"linecolor\": \"white\", \"ticks\": \"\", \"title\": {\"standoff\": 15}, \"zerolinecolor\": \"white\", \"zerolinewidth\": 2}}}, \"title\": {\"text\": \"Team size\", \"x\": 0.5}, \"xaxis\": {\"anchor\": \"y\", \"domain\": [0.0, 1.0], \"title\": {\"text\": \"team\"}}, \"yaxis\": {\"anchor\": \"x\", \"domain\": [0.0, 1.0], \"title\": {\"text\": \"no_of_workers\"}}},                        {\"responsive\": true}                    ).then(function(){\n",
       "                            \n",
       "var gd = document.getElementById('a7b108b7-3306-4974-88c3-884dcdeae6dc');\n",
       "var x = new MutationObserver(function (mutations, observer) {{\n",
       "        var display = window.getComputedStyle(gd).display;\n",
       "        if (!display || display === 'none') {{\n",
       "            console.log([gd, 'removed!']);\n",
       "            Plotly.purge(gd);\n",
       "            observer.disconnect();\n",
       "        }}\n",
       "}});\n",
       "\n",
       "// Listen for the removal of the full notebook cells\n",
       "var notebookContainer = gd.closest('#notebook-container');\n",
       "if (notebookContainer) {{\n",
       "    x.observe(notebookContainer, {childList: true});\n",
       "}}\n",
       "\n",
       "// Listen for the clearing of the current output cell\n",
       "var outputEl = gd.closest('.output');\n",
       "if (outputEl) {{\n",
       "    x.observe(outputEl, {childList: true});\n",
       "}}\n",
       "\n",
       "                        })                };                });            </script>        </div>"
      ]
     },
     "metadata": {}
    }
   ],
   "metadata": {
    "execution": {
     "iopub.execute_input": "2021-04-10T14:15:11.136613Z",
     "iopub.status.busy": "2021-04-10T14:15:11.135955Z",
     "iopub.status.idle": "2021-04-10T14:15:11.210014Z",
     "shell.execute_reply": "2021-04-10T14:15:11.210566Z"
    },
    "papermill": {
     "duration": 0.148902,
     "end_time": "2021-04-10T14:15:11.210758",
     "exception": false,
     "start_time": "2021-04-10T14:15:11.061856",
     "status": "completed"
    },
    "tags": []
   }
  },
  {
   "cell_type": "markdown",
   "source": [
    "# Incentives paid to different teams"
   ],
   "metadata": {
    "papermill": {
     "duration": 0.059566,
     "end_time": "2021-04-10T14:15:11.329503",
     "exception": false,
     "start_time": "2021-04-10T14:15:11.269937",
     "status": "completed"
    },
    "tags": []
   }
  },
  {
   "cell_type": "code",
   "execution_count": 30,
   "source": [
    "idf = df[['team', 'incentive']].groupby('team').mean().sort_values('incentive',ascending=False).reset_index()\n",
    "fig = px.bar(idf, x=\"team\", y=\"incentive\", barmode=\"group\"\n",
    "             )\n",
    "fig.update_layout(title_text='Incentive paid to each team',title_x=0.5,font=dict(\n",
    "        family=\"Courier New, monospace\",\n",
    "        size=18,\n",
    "        color=\"green\"\n",
    "    ))\n",
    "\n",
    "fig.show()  "
   ],
   "outputs": [
    {
     "output_type": "display_data",
     "data": {
      "text/html": [
       "<div>                            <div id=\"fd997591-bb2c-4335-ad3f-ad889a1d0098\" class=\"plotly-graph-div\" style=\"height:525px; width:100%;\"></div>            <script type=\"text/javascript\">                require([\"plotly\"], function(Plotly) {                    window.PLOTLYENV=window.PLOTLYENV || {};                                    if (document.getElementById(\"fd997591-bb2c-4335-ad3f-ad889a1d0098\")) {                    Plotly.newPlot(                        \"fd997591-bb2c-4335-ad3f-ad889a1d0098\",                        [{\"alignmentgroup\": \"True\", \"hovertemplate\": \"team=%{x}<br>incentive=%{y}<extra></extra>\", \"legendgroup\": \"\", \"marker\": {\"color\": \"#636efa\"}, \"name\": \"\", \"offsetgroup\": \"\", \"orientation\": \"v\", \"showlegend\": false, \"textposition\": \"auto\", \"type\": \"bar\", \"x\": [9, 3, 5, 1, 12, 2, 11, 10, 4, 8, 6, 7], \"xaxis\": \"x\", \"y\": [60.93269230769231, 49.55789473684211, 49.13978494623656, 46.6, 41.2020202020202, 38.211009174311926, 37.90909090909091, 36.33, 35.04761904761905, 24.880733944954127, 22.70212765957447, 15.53125], \"yaxis\": \"y\"}],                        {\"barmode\": \"group\", \"font\": {\"color\": \"green\", \"family\": \"Courier New, monospace\", \"size\": 18}, \"legend\": {\"tracegroupgap\": 0}, \"margin\": {\"t\": 60}, \"template\": {\"data\": {\"bar\": [{\"error_x\": {\"color\": \"#2a3f5f\"}, \"error_y\": {\"color\": \"#2a3f5f\"}, \"marker\": {\"line\": {\"color\": \"#E5ECF6\", \"width\": 0.5}}, \"type\": \"bar\"}], \"barpolar\": [{\"marker\": {\"line\": {\"color\": \"#E5ECF6\", \"width\": 0.5}}, \"type\": \"barpolar\"}], \"carpet\": [{\"aaxis\": {\"endlinecolor\": \"#2a3f5f\", \"gridcolor\": \"white\", \"linecolor\": \"white\", \"minorgridcolor\": \"white\", \"startlinecolor\": \"#2a3f5f\"}, \"baxis\": {\"endlinecolor\": \"#2a3f5f\", \"gridcolor\": \"white\", \"linecolor\": \"white\", \"minorgridcolor\": \"white\", \"startlinecolor\": \"#2a3f5f\"}, \"type\": \"carpet\"}], \"choropleth\": [{\"colorbar\": {\"outlinewidth\": 0, \"ticks\": \"\"}, \"type\": \"choropleth\"}], \"contour\": [{\"colorbar\": {\"outlinewidth\": 0, \"ticks\": \"\"}, \"colorscale\": [[0.0, \"#0d0887\"], [0.1111111111111111, \"#46039f\"], [0.2222222222222222, \"#7201a8\"], [0.3333333333333333, \"#9c179e\"], [0.4444444444444444, \"#bd3786\"], [0.5555555555555556, \"#d8576b\"], [0.6666666666666666, \"#ed7953\"], [0.7777777777777778, \"#fb9f3a\"], [0.8888888888888888, \"#fdca26\"], [1.0, \"#f0f921\"]], \"type\": \"contour\"}], \"contourcarpet\": [{\"colorbar\": {\"outlinewidth\": 0, \"ticks\": \"\"}, \"type\": \"contourcarpet\"}], \"heatmap\": [{\"colorbar\": {\"outlinewidth\": 0, \"ticks\": \"\"}, \"colorscale\": [[0.0, \"#0d0887\"], [0.1111111111111111, \"#46039f\"], [0.2222222222222222, \"#7201a8\"], [0.3333333333333333, \"#9c179e\"], [0.4444444444444444, \"#bd3786\"], [0.5555555555555556, \"#d8576b\"], [0.6666666666666666, \"#ed7953\"], [0.7777777777777778, \"#fb9f3a\"], [0.8888888888888888, \"#fdca26\"], [1.0, \"#f0f921\"]], \"type\": \"heatmap\"}], \"heatmapgl\": [{\"colorbar\": {\"outlinewidth\": 0, \"ticks\": \"\"}, \"colorscale\": [[0.0, \"#0d0887\"], [0.1111111111111111, \"#46039f\"], [0.2222222222222222, \"#7201a8\"], [0.3333333333333333, \"#9c179e\"], [0.4444444444444444, \"#bd3786\"], [0.5555555555555556, \"#d8576b\"], [0.6666666666666666, \"#ed7953\"], [0.7777777777777778, \"#fb9f3a\"], [0.8888888888888888, \"#fdca26\"], [1.0, \"#f0f921\"]], \"type\": \"heatmapgl\"}], \"histogram\": [{\"marker\": {\"colorbar\": {\"outlinewidth\": 0, \"ticks\": \"\"}}, \"type\": \"histogram\"}], \"histogram2d\": [{\"colorbar\": {\"outlinewidth\": 0, \"ticks\": \"\"}, \"colorscale\": [[0.0, \"#0d0887\"], [0.1111111111111111, \"#46039f\"], [0.2222222222222222, \"#7201a8\"], [0.3333333333333333, \"#9c179e\"], [0.4444444444444444, \"#bd3786\"], [0.5555555555555556, \"#d8576b\"], [0.6666666666666666, \"#ed7953\"], [0.7777777777777778, \"#fb9f3a\"], [0.8888888888888888, \"#fdca26\"], [1.0, \"#f0f921\"]], \"type\": \"histogram2d\"}], \"histogram2dcontour\": [{\"colorbar\": {\"outlinewidth\": 0, \"ticks\": \"\"}, \"colorscale\": [[0.0, \"#0d0887\"], [0.1111111111111111, \"#46039f\"], [0.2222222222222222, \"#7201a8\"], [0.3333333333333333, \"#9c179e\"], [0.4444444444444444, \"#bd3786\"], [0.5555555555555556, \"#d8576b\"], [0.6666666666666666, \"#ed7953\"], [0.7777777777777778, \"#fb9f3a\"], [0.8888888888888888, \"#fdca26\"], [1.0, \"#f0f921\"]], \"type\": \"histogram2dcontour\"}], \"mesh3d\": [{\"colorbar\": {\"outlinewidth\": 0, \"ticks\": \"\"}, \"type\": \"mesh3d\"}], \"parcoords\": [{\"line\": {\"colorbar\": {\"outlinewidth\": 0, \"ticks\": \"\"}}, \"type\": \"parcoords\"}], \"pie\": [{\"automargin\": true, \"type\": \"pie\"}], \"scatter\": [{\"marker\": {\"colorbar\": {\"outlinewidth\": 0, \"ticks\": \"\"}}, \"type\": \"scatter\"}], \"scatter3d\": [{\"line\": {\"colorbar\": {\"outlinewidth\": 0, \"ticks\": \"\"}}, \"marker\": {\"colorbar\": {\"outlinewidth\": 0, \"ticks\": \"\"}}, \"type\": \"scatter3d\"}], \"scattercarpet\": [{\"marker\": {\"colorbar\": {\"outlinewidth\": 0, \"ticks\": \"\"}}, \"type\": \"scattercarpet\"}], \"scattergeo\": [{\"marker\": {\"colorbar\": {\"outlinewidth\": 0, \"ticks\": \"\"}}, \"type\": \"scattergeo\"}], \"scattergl\": [{\"marker\": {\"colorbar\": {\"outlinewidth\": 0, \"ticks\": \"\"}}, \"type\": \"scattergl\"}], \"scattermapbox\": [{\"marker\": {\"colorbar\": {\"outlinewidth\": 0, \"ticks\": \"\"}}, \"type\": \"scattermapbox\"}], \"scatterpolar\": [{\"marker\": {\"colorbar\": {\"outlinewidth\": 0, \"ticks\": \"\"}}, \"type\": \"scatterpolar\"}], \"scatterpolargl\": [{\"marker\": {\"colorbar\": {\"outlinewidth\": 0, \"ticks\": \"\"}}, \"type\": \"scatterpolargl\"}], \"scatterternary\": [{\"marker\": {\"colorbar\": {\"outlinewidth\": 0, \"ticks\": \"\"}}, \"type\": \"scatterternary\"}], \"surface\": [{\"colorbar\": {\"outlinewidth\": 0, \"ticks\": \"\"}, \"colorscale\": [[0.0, \"#0d0887\"], [0.1111111111111111, \"#46039f\"], [0.2222222222222222, \"#7201a8\"], [0.3333333333333333, \"#9c179e\"], [0.4444444444444444, \"#bd3786\"], [0.5555555555555556, \"#d8576b\"], [0.6666666666666666, \"#ed7953\"], [0.7777777777777778, \"#fb9f3a\"], [0.8888888888888888, \"#fdca26\"], [1.0, \"#f0f921\"]], \"type\": \"surface\"}], \"table\": [{\"cells\": {\"fill\": {\"color\": \"#EBF0F8\"}, \"line\": {\"color\": \"white\"}}, \"header\": {\"fill\": {\"color\": \"#C8D4E3\"}, \"line\": {\"color\": \"white\"}}, \"type\": \"table\"}]}, \"layout\": {\"annotationdefaults\": {\"arrowcolor\": \"#2a3f5f\", \"arrowhead\": 0, \"arrowwidth\": 1}, \"autotypenumbers\": \"strict\", \"coloraxis\": {\"colorbar\": {\"outlinewidth\": 0, \"ticks\": \"\"}}, \"colorscale\": {\"diverging\": [[0, \"#8e0152\"], [0.1, \"#c51b7d\"], [0.2, \"#de77ae\"], [0.3, \"#f1b6da\"], [0.4, \"#fde0ef\"], [0.5, \"#f7f7f7\"], [0.6, \"#e6f5d0\"], [0.7, \"#b8e186\"], [0.8, \"#7fbc41\"], [0.9, \"#4d9221\"], [1, \"#276419\"]], \"sequential\": [[0.0, \"#0d0887\"], [0.1111111111111111, \"#46039f\"], [0.2222222222222222, \"#7201a8\"], [0.3333333333333333, \"#9c179e\"], [0.4444444444444444, \"#bd3786\"], [0.5555555555555556, \"#d8576b\"], [0.6666666666666666, \"#ed7953\"], [0.7777777777777778, \"#fb9f3a\"], [0.8888888888888888, \"#fdca26\"], [1.0, \"#f0f921\"]], \"sequentialminus\": [[0.0, \"#0d0887\"], [0.1111111111111111, \"#46039f\"], [0.2222222222222222, \"#7201a8\"], [0.3333333333333333, \"#9c179e\"], [0.4444444444444444, \"#bd3786\"], [0.5555555555555556, \"#d8576b\"], [0.6666666666666666, \"#ed7953\"], [0.7777777777777778, \"#fb9f3a\"], [0.8888888888888888, \"#fdca26\"], [1.0, \"#f0f921\"]]}, \"colorway\": [\"#636efa\", \"#EF553B\", \"#00cc96\", \"#ab63fa\", \"#FFA15A\", \"#19d3f3\", \"#FF6692\", \"#B6E880\", \"#FF97FF\", \"#FECB52\"], \"font\": {\"color\": \"#2a3f5f\"}, \"geo\": {\"bgcolor\": \"white\", \"lakecolor\": \"white\", \"landcolor\": \"#E5ECF6\", \"showlakes\": true, \"showland\": true, \"subunitcolor\": \"white\"}, \"hoverlabel\": {\"align\": \"left\"}, \"hovermode\": \"closest\", \"mapbox\": {\"style\": \"light\"}, \"paper_bgcolor\": \"white\", \"plot_bgcolor\": \"#E5ECF6\", \"polar\": {\"angularaxis\": {\"gridcolor\": \"white\", \"linecolor\": \"white\", \"ticks\": \"\"}, \"bgcolor\": \"#E5ECF6\", \"radialaxis\": {\"gridcolor\": \"white\", \"linecolor\": \"white\", \"ticks\": \"\"}}, \"scene\": {\"xaxis\": {\"backgroundcolor\": \"#E5ECF6\", \"gridcolor\": \"white\", \"gridwidth\": 2, \"linecolor\": \"white\", \"showbackground\": true, \"ticks\": \"\", \"zerolinecolor\": \"white\"}, \"yaxis\": {\"backgroundcolor\": \"#E5ECF6\", \"gridcolor\": \"white\", \"gridwidth\": 2, \"linecolor\": \"white\", \"showbackground\": true, \"ticks\": \"\", \"zerolinecolor\": \"white\"}, \"zaxis\": {\"backgroundcolor\": \"#E5ECF6\", \"gridcolor\": \"white\", \"gridwidth\": 2, \"linecolor\": \"white\", \"showbackground\": true, \"ticks\": \"\", \"zerolinecolor\": \"white\"}}, \"shapedefaults\": {\"line\": {\"color\": \"#2a3f5f\"}}, \"ternary\": {\"aaxis\": {\"gridcolor\": \"white\", \"linecolor\": \"white\", \"ticks\": \"\"}, \"baxis\": {\"gridcolor\": \"white\", \"linecolor\": \"white\", \"ticks\": \"\"}, \"bgcolor\": \"#E5ECF6\", \"caxis\": {\"gridcolor\": \"white\", \"linecolor\": \"white\", \"ticks\": \"\"}}, \"title\": {\"x\": 0.05}, \"xaxis\": {\"automargin\": true, \"gridcolor\": \"white\", \"linecolor\": \"white\", \"ticks\": \"\", \"title\": {\"standoff\": 15}, \"zerolinecolor\": \"white\", \"zerolinewidth\": 2}, \"yaxis\": {\"automargin\": true, \"gridcolor\": \"white\", \"linecolor\": \"white\", \"ticks\": \"\", \"title\": {\"standoff\": 15}, \"zerolinecolor\": \"white\", \"zerolinewidth\": 2}}}, \"title\": {\"text\": \"Incentive paid to each team\", \"x\": 0.5}, \"xaxis\": {\"anchor\": \"y\", \"domain\": [0.0, 1.0], \"title\": {\"text\": \"team\"}}, \"yaxis\": {\"anchor\": \"x\", \"domain\": [0.0, 1.0], \"title\": {\"text\": \"incentive\"}}},                        {\"responsive\": true}                    ).then(function(){\n",
       "                            \n",
       "var gd = document.getElementById('fd997591-bb2c-4335-ad3f-ad889a1d0098');\n",
       "var x = new MutationObserver(function (mutations, observer) {{\n",
       "        var display = window.getComputedStyle(gd).display;\n",
       "        if (!display || display === 'none') {{\n",
       "            console.log([gd, 'removed!']);\n",
       "            Plotly.purge(gd);\n",
       "            observer.disconnect();\n",
       "        }}\n",
       "}});\n",
       "\n",
       "// Listen for the removal of the full notebook cells\n",
       "var notebookContainer = gd.closest('#notebook-container');\n",
       "if (notebookContainer) {{\n",
       "    x.observe(notebookContainer, {childList: true});\n",
       "}}\n",
       "\n",
       "// Listen for the clearing of the current output cell\n",
       "var outputEl = gd.closest('.output');\n",
       "if (outputEl) {{\n",
       "    x.observe(outputEl, {childList: true});\n",
       "}}\n",
       "\n",
       "                        })                };                });            </script>        </div>"
      ]
     },
     "metadata": {}
    }
   ],
   "metadata": {
    "execution": {
     "iopub.execute_input": "2021-04-10T14:15:11.453018Z",
     "iopub.status.busy": "2021-04-10T14:15:11.452296Z",
     "iopub.status.idle": "2021-04-10T14:15:11.522420Z",
     "shell.execute_reply": "2021-04-10T14:15:11.521741Z"
    },
    "papermill": {
     "duration": 0.132578,
     "end_time": "2021-04-10T14:15:11.522560",
     "exception": false,
     "start_time": "2021-04-10T14:15:11.389982",
     "status": "completed"
    },
    "tags": []
   }
  },
  {
   "cell_type": "markdown",
   "source": [
    "**Team 9 gets the highest incentive on avg, let us check the box plots to see if any outliers exist**"
   ],
   "metadata": {
    "papermill": {
     "duration": 0.059605,
     "end_time": "2021-04-10T14:15:11.643602",
     "exception": false,
     "start_time": "2021-04-10T14:15:11.583997",
     "status": "completed"
    },
    "tags": []
   }
  },
  {
   "cell_type": "code",
   "execution_count": 31,
   "source": [
    "fig = px.box(df, x=\"team\", y=\"incentive\")\n",
    "fig.update_layout(title_text='Incentive paid to each team - boxplot',title_x=0.5,font=dict(\n",
    "        family=\"Courier New, monospace\",\n",
    "        size=10,\n",
    "        color=\"red\"\n",
    "    ))\n",
    "fig.show()"
   ],
   "outputs": [
    {
     "output_type": "display_data",
     "data": {
      "text/html": [
       "<div>                            <div id=\"862fa345-ff73-4862-b812-6264b3876813\" class=\"plotly-graph-div\" style=\"height:525px; width:100%;\"></div>            <script type=\"text/javascript\">                require([\"plotly\"], function(Plotly) {                    window.PLOTLYENV=window.PLOTLYENV || {};                                    if (document.getElementById(\"862fa345-ff73-4862-b812-6264b3876813\")) {                    Plotly.newPlot(                        \"862fa345-ff73-4862-b812-6264b3876813\",                        [{\"alignmentgroup\": \"True\", \"hovertemplate\": \"team=%{x}<br>incentive=%{y}<extra></extra>\", \"legendgroup\": \"\", \"marker\": {\"color\": \"#636efa\"}, \"name\": \"\", \"notched\": false, \"offsetgroup\": \"\", \"orientation\": \"v\", \"showlegend\": false, \"type\": \"box\", \"x\": [8, 1, 11, 12, 6, 7, 2, 3, 2, 1, 9, 10, 5, 10, 8, 4, 7, 4, 11, 4, 11, 9, 3, 1, 1, 3, 8, 12, 11, 5, 6, 7, 10, 2, 2, 10, 4, 9, 8, 7, 3, 9, 1, 6, 4, 9, 7, 8, 4, 1, 2, 12, 2, 10, 11, 3, 10, 8, 7, 5, 11, 1, 11, 4, 3, 9, 9, 2, 7, 8, 1, 11, 6, 12, 2, 4, 10, 5, 10, 3, 7, 8, 5, 4, 1, 3, 11, 9, 1, 9, 10, 2, 2, 4, 3, 12, 7, 8, 6, 10, 11, 8, 5, 7, 1, 9, 1, 9, 8, 3, 4, 2, 10, 7, 2, 4, 6, 3, 12, 7, 10, 5, 8, 6, 11, 5, 1, 4, 9, 9, 1, 4, 7, 8, 2, 5, 2, 3, 12, 6, 10, 10, 8, 3, 7, 11, 11, 5, 1, 3, 4, 9, 9, 7, 8, 10, 11, 2, 4, 2, 12, 6, 1, 10, 3, 11, 7, 8, 5, 5, 3, 4, 9, 1, 9, 1, 7, 8, 10, 2, 6, 12, 2, 10, 3, 11, 8, 5, 11, 6, 7, 4, 5, 1, 4, 3, 2, 9, 1, 9, 7, 8, 6, 5, 3, 6, 12, 2, 8, 10, 5, 11, 7, 11, 4, 10, 4, 1, 10, 3, 9, 1, 9, 8, 7, 5, 2, 6, 12, 2, 3, 8, 7, 11, 11, 5, 4, 10, 11, 4, 7, 1, 5, 9, 9, 8, 7, 3, 12, 6, 1, 5, 8, 4, 10, 11, 10, 2, 2, 4, 10, 1, 5, 9, 1, 8, 7, 9, 6, 12, 5, 7, 3, 4, 8, 10, 11, 2, 5, 2, 10, 1, 9, 6, 12, 7, 8, 1, 9, 2, 4, 8, 7, 10, 3, 11, 6, 5, 11, 5, 11, 6, 6, 7, 8, 9, 4, 10, 7, 12, 3, 11, 2, 8, 5, 9, 1, 10, 4, 9, 5, 6, 8, 9, 12, 2, 4, 3, 10, 11, 8, 5, 7, 1, 10, 11, 12, 5, 6, 8, 9, 4, 10, 3, 2, 9, 11, 5, 8, 12, 7, 11, 4, 2, 4, 6, 9, 8, 2, 10, 5, 5, 3, 11, 1, 12, 8, 9, 1, 7, 11, 7, 10, 4, 2, 6, 10, 1, 3, 5, 5, 11, 4, 1, 2, 6, 12, 7, 8, 9, 3, 8, 12, 5, 10, 8, 2, 4, 11, 3, 7, 12, 1, 10, 6, 3, 12, 11, 5, 4, 7, 9, 2, 1, 8, 9, 5, 2, 1, 3, 10, 4, 4, 2, 1, 3, 6, 10, 7, 7, 12, 5, 9, 12, 11, 8, 8, 3, 10, 4, 5, 2, 1, 4, 6, 3, 2, 1, 10, 12, 5, 9, 12, 7, 8, 11, 2, 3, 10, 4, 5, 10, 3, 4, 8, 12, 7, 1, 2, 1, 9, 12, 8, 6, 6, 5, 11, 2, 3, 6, 1, 2, 10, 1, 10, 5, 4, 12, 9, 12, 4, 8, 11, 8, 6, 7, 7, 11, 2, 4, 3, 4, 10, 6, 8, 11, 10, 1, 1, 9, 5, 2, 12, 12, 11, 6, 3, 7, 3, 2, 2, 3, 4, 10, 1, 9, 12, 5, 7, 8, 11, 6, 10, 4, 9, 1, 12, 5, 11, 6, 7, 8, 8, 2, 1, 1, 3, 2, 7, 10, 10, 4, 4, 9, 12, 12, 11, 6, 8, 7, 6, 1, 9, 2, 3, 10, 10, 4, 12, 4, 9, 12, 11, 6, 8, 1, 5, 7, 6, 8, 2, 1, 10, 1, 8, 3, 2, 9, 4, 12, 12, 9, 11, 6, 8, 7, 4, 6, 5, 2, 3, 10, 2, 1, 8, 1, 12, 9, 7, 9, 6, 7, 11, 8, 12, 5, 6, 4, 2, 1, 10, 2, 3, 6, 12, 7, 1, 12, 9, 10, 11, 6, 5, 7, 4, 8, 2, 2, 3, 1, 10, 12, 1, 6, 12, 9, 9, 6, 11, 7, 7, 4, 5, 4, 8, 2, 7, 10, 1, 3, 1, 12, 2, 8, 12, 9, 6, 11, 5, 6, 9, 4, 7, 8, 2, 1, 10, 1, 2, 6, 12, 3, 9, 4, 11, 8, 5, 9, 6, 7, 8, 12, 12, 2, 10, 1, 3, 2, 1, 9, 12, 4, 6, 11, 5, 8, 4, 9, 6, 7, 8, 4, 12, 2, 1, 8, 2, 5, 10, 6, 12, 9, 5, 8, 4, 1, 7, 9, 3, 11, 1, 4, 2, 12, 12, 8, 5, 6, 1, 9, 4, 2, 5, 7, 11, 9, 8, 10, 3, 1, 7, 4, 12, 12, 2, 1, 4, 5, 8, 8, 7, 11, 6, 3, 6, 9, 1, 2, 1, 12, 12, 5, 5, 11, 7, 8, 6, 11, 8, 6, 4, 3, 2, 4, 9, 1, 9, 12, 3, 3, 5, 12, 6, 6, 4, 4, 7, 5, 8, 11, 10, 9, 7, 1, 10, 7, 12, 12, 3, 6, 4, 6, 7, 11, 3, 4, 5, 9, 8, 9, 2, 2, 10, 12, 6, 2, 11, 4, 5, 12, 1, 6, 7, 4, 3, 9, 7, 10, 8, 9, 2, 10, 3, 8, 3, 12, 1, 4, 5, 6, 6, 10, 2, 3, 11, 8, 4, 8, 9, 5, 7, 12, 2, 10, 3, 6, 2, 11, 12, 4, 12, 9, 6, 1, 8, 2, 11, 9, 3, 10, 7, 10, 5, 7, 10, 8, 12, 3, 12, 4, 5, 7, 6, 11, 2, 8, 3, 9, 10, 6, 9, 2, 7, 10, 3, 12, 5, 4, 8, 7, 6, 11, 3, 6, 9, 2, 8, 9, 11, 10, 2, 1, 9, 5, 3, 12, 10, 4, 12, 7, 6, 11, 3, 8, 2, 10, 7, 8, 5, 1, 2, 6, 9, 3, 5, 7, 11, 12, 1, 6, 3, 9, 8, 10, 2, 12, 2, 4, 5, 10, 9, 1, 8, 6, 3, 5, 11, 12, 7, 1, 3, 6, 8, 9, 10, 2, 12, 2, 5, 1, 4, 10, 9, 8, 6, 3, 8, 12, 8, 6, 3, 9, 5, 10, 1, 2, 11, 4, 10, 4, 2, 7, 1, 9, 7, 2, 3, 4, 1, 12, 9, 11, 3, 7, 8, 6, 8, 9, 4, 5, 10, 10, 12, 1, 7, 7, 3, 11, 1, 12, 3, 7, 4, 8, 9, 6, 8, 5, 10, 12, 2, 1, 4, 10, 5, 6, 2, 3, 8, 12, 9, 1, 4, 11, 12, 3, 7, 4, 1, 9, 5, 10, 7, 5, 2, 8, 2, 6, 8, 2, 11, 12, 1, 4, 3, 11, 3, 12, 1, 9, 4, 5, 10, 2, 9, 7, 6, 12, 12, 1, 7, 5, 4, 3, 11, 6, 9, 10, 1, 4, 11, 2, 8, 2, 6, 5, 3, 12, 9, 1, 4, 2, 5, 4, 1, 3, 12, 11, 11, 9, 10, 2, 6, 8, 5, 8, 10, 6, 11, 12, 5, 4, 1, 9, 3, 12, 11, 3, 4, 1, 9, 2, 10, 2, 6, 8, 5, 7, 10, 8, 12, 5, 1, 3, 4, 1, 4, 9, 12, 3, 11, 11, 10, 9, 2, 8, 6, 2, 5, 7, 8, 7, 10, 12, 11, 2, 4, 1, 12, 3, 11, 3, 5, 10, 9, 2, 1, 4, 5, 8, 6, 7, 10, 8, 7, 9, 6], \"x0\": \" \", \"xaxis\": \"x\", \"y\": [98, 0, 50, 50, 50, 38, 0, 45, 34, 45, 44, 45, 50, 0, 0, 0, 0, 0, 0, 0, 0, 0, 0, 0, 50, 50, 50, 63, 50, 50, 50, 38, 56, 0, 45, 0, 0, 40, 0, 0, 0, 0, 0, 50, 0, 60, 60, 45, 50, 63, 50, 50, 0, 0, 45, 45, 40, 0, 0, 26, 0, 0, 0, 0, 0, 75, 0, 0, 50, 38, 63, 50, 50, 50, 50, 50, 0, 0, 45, 45, 0, 0, 23, 0, 0, 0, 0, 0, 75, 75, 0, 0, 50, 50, 50, 50, 38, 38, 38, 45, 45, 0, 35, 0, 0, 0, 75, 75, 60, 0, 0, 0, 0, 0, 63, 50, 50, 50, 50, 50, 69, 40, 0, 0, 40, 0, 0, 0, 88, 0, 75, 75, 60, 60, 0, 0, 63, 50, 63, 50, 69, 0, 0, 0, 0, 0, 38, 0, 0, 0, 0, 0, 75, 60, 60, 0, 0, 0, 63, 63, 50, 50, 63, 63, 45, 38, 0, 0, 0, 0, 0, 0, 88, 0, 0, 75, 45, 60, 0, 0, 50, 50, 63, 38, 0, 0, 0, 0, 30, 0, 0, 0, 0, 0, 0, 0, 0, 0, 75, 75, 60, 60, 0, 0, 0, 50, 50, 63, 0, 45, 0, 44, 0, 0, 0, 0, 0, 0, 0, 0, 0, 75, 75, 60, 60, 0, 0, 50, 50, 50, 54, 0, 0, 0, 37, 0, 23, 23, 0, 0, 70, 0, 0, 0, 75, 60, 0, 0, 50, 38, 63, 0, 0, 23, 23, 23, 0, 27, 0, 0, 0, 0, 0, 0, 75, 60, 60, 63, 38, 50, 0, 0, 30, 26, 0, 23, 30, 23, 0, 0, 0, 0, 0, 63, 63, 50, 50, 63, 63, 23, 50, 0, 0, 35, 30, 38, 0, 21, 0, 0, 0, 0, 63, 50, 38, 50, 50, 40, 0, 56, 35, 44, 26, 0, 30, 0, 24, 0, 0, 0, 0, 50, 50, 63, 0, 38, 63, 50, 63, 50, 0, 35, 30, 30, 0, 0, 23, 0, 63, 50, 63, 63, 63, 50, 50, 0, 50, 50, 0, 23, 30, 0, 0, 0, 94, 75, 0, 38, 60, 75, 0, 50, 63, 50, 34, 23, 0, 29, 0, 23, 0, 0, 0, 81, 60, 63, 55, 63, 63, 0, 40, 50, 0, 0, 0, 0, 23, 23, 30, 30, 0, 0, 0, 0, 0, 0, 94, 94, 0, 0, 0, 0, 75, 69, 63, 69, 40, 56, 50, 0, 26, 23, 0, 0, 23, 0, 0, 0, 0, 0, 0, 0, 94, 81, 75, 55, 63, 69, 0, 40, 40, 50, 26, 0, 40, 23, 0, 0, 0, 0, 0, 0, 0, 60, 50, 69, 55, 60, 55, 0, 56, 40, 40, 0, 23, 23, 119, 119, 0, 0, 0, 70, 0, 60, 0, 0, 0, 55, 0, 0, 50, 40, 23, 34, 0, 30, 23, 90, 113, 0, 0, 0, 60, 81, 0, 88, 50, 0, 63, 45, 0, 0, 46, 0, 23, 0, 0, 0, 113, 0, 100, 88, 88, 0, 0, 0, 0, 0, 81, 53, 81, 0, 45, 0, 46, 23, 0, 0, 113, 113, 0, 0, 0, 0, 0, 0, 0, 0, 0, 0, 0, 0, 93, 88, 81, 81, 45, 56, 49, 23, 0, 0, 0, 113, 113, 0, 100, 0, 0, 0, 75, 60, 0, 45, 45, 0, 75, 26, 0, 0, 0, 113, 0, 88, 70, 88, 0, 0, 63, 50, 55, 0, 60, 30, 0, 0, 0, 0, 0, 0, 0, 113, 90, 0, 0, 100, 100, 0, 63, 50, 0, 34, 60, 30, 0, 0, 0, 0, 0, 100, 113, 113, 0, 0, 0, 88, 38, 50, 0, 0, 30, 0, 60, 0, 0, 0, 0, 23, 113, 113, 113, 0, 100, 0, 0, 0, 0, 38, 50, 0, 34, 30, 0, 0, 23, 0, 0, 113, 100, 88, 88, 0, 0, 0, 63, 50, 0, 34, 45, 0, 0, 30, 0, 0, 0, 113, 0, 88, 88, 88, 0, 0, 0, 0, 63, 50, 34, 45, 0, 0, 0, 44, 0, 0, 0, 0, 88, 70, 70, 0, 63, 50, 50, 50, 45, 0, 40, 0, 0, 0, 0, 0, 0, 0, 88, 88, 88, 88, 0, 38, 50, 0, 0, 34, 45, 0, 40, 0, 0, 23, 30, 0, 0, 90, 113, 0, 0, 0, 75, 38, 50, 50, 56, 30, 40, 0, 23, 0, 0, 0, 138, 0, 113, 0, 50, 0, 56, 0, 0, 0, 0, 0, 0, 0, 0, 0, 0, 0, 0, 113, 0, 0, 0, 63, 63, 0, 0, 56, 0, 0, 0, 23, 0, 30, 0, 0, 0, 0, 113, 0, 50, 0, 0, 0, 0, 40, 0, 23, 0, 0, 0, 30, 0, 0, 0, 113, 0, 0, 0, 63, 0, 38, 0, 0, 0, 0, 30, 0, 27, 30, 0, 0, 0, 113, 0, 0, 0, 38, 0, 0, 45, 0, 30, 30, 50, 0, 0, 0, 23, 0, 0, 0, 0, 0, 0, 0, 30, 50, 0, 63, 63, 34, 45, 0, 40, 30, 0, 0, 0, 0, 0, 0, 0, 0, 0, 38, 63, 63, 63, 0, 56, 0, 0, 50, 30, 0, 0, 0, 30, 0, 0, 0, 0, 0, 0, 0, 0, 0, 63, 63, 0, 0, 45, 0, 40, 0, 0, 30, 33, 0, 0, 0, 0, 0, 0, 0, 0, 0, 63, 38, 38, 45, 45, 0, 30, 40, 30, 40, 0, 0, 0, 0, 0, 0, 0, 50, 50, 50, 0, 45, 45, 34, 45, 0, 0, 30, 40, 30, 0, 0, 0, 0, 56, 0, 0, 0, 0, 50, 50, 50, 45, 45, 45, 30, 30, 0, 0, 0, 49, 0, 0, 0, 0, 0, 0, 50, 50, 63, 0, 45, 45, 45, 56, 0, 0, 0, 0, 32, 38, 0, 0, 23, 0, 0, 0, 0, 50, 62, 38, 0, 45, 45, 56, 45, 40, 0, 0, 0, 30, 30, 23, 0, 0, 0, 0, 0, 0, 63, 56, 45, 45, 34, 38, 30, 38, 0, 50, 0, 0, 23, 0, 0, 0, 0, 0, 0, 0, 0, 65, 63, 0, 50, 50, 0, 0, 34, 45, 45, 55, 34, 30, 0, 0, 0, 0, 0, 0, 50, 60, 50, 50, 50, 50, 56, 34, 45, 0, 30, 30, 0, 0, 0, 0, 0, 0, 0, 0, 0, 0, 0, 0, 0, 0, 38, 50, 63, 50, 60, 50, 34, 40, 30, 0, 0, 0, 0, 0, 0, 0, 0, 0, 0, 0, 0, 0, 50, 63, 50, 50, 45, 50, 40, 30, 0, 0, 0, 0, 0, 75, 70, 0, 0, 60, 63, 50, 0, 45, 30, 0, 0, 0, 0, 0, 0, 0, 24, 0, 0, 0, 0, 0, 0, 0, 65, 65, 50, 63, 50, 0, 45, 30, 30, 23, 0, 23, 0, 0, 0, 960, 1080, 2880, 65, 65, 3600, 50, 63, 50, 1440, 960, 960, 45, 30, 30, 1200, 35, 26, 23, 0, 960, 960, 0, 0, 75, 0, 0, 0, 65, 0, 63, 63, 50, 0, 34, 45, 0, 30, 30, 40, 26, 25, 0, 0, 0, 0, 0, 0, 0, 0, 63, 63, 50, 0, 0, 34, 45, 45, 45, 45, 30, 30, 40, 26, 0, 0, 0, 0, 0], \"y0\": \" \", \"yaxis\": \"y\"}],                        {\"boxmode\": \"group\", \"font\": {\"color\": \"red\", \"family\": \"Courier New, monospace\", \"size\": 10}, \"legend\": {\"tracegroupgap\": 0}, \"margin\": {\"t\": 60}, \"template\": {\"data\": {\"bar\": [{\"error_x\": {\"color\": \"#2a3f5f\"}, \"error_y\": {\"color\": \"#2a3f5f\"}, \"marker\": {\"line\": {\"color\": \"#E5ECF6\", \"width\": 0.5}}, \"type\": \"bar\"}], \"barpolar\": [{\"marker\": {\"line\": {\"color\": \"#E5ECF6\", \"width\": 0.5}}, \"type\": \"barpolar\"}], \"carpet\": [{\"aaxis\": {\"endlinecolor\": \"#2a3f5f\", \"gridcolor\": \"white\", \"linecolor\": \"white\", \"minorgridcolor\": \"white\", \"startlinecolor\": \"#2a3f5f\"}, \"baxis\": {\"endlinecolor\": \"#2a3f5f\", \"gridcolor\": \"white\", \"linecolor\": \"white\", \"minorgridcolor\": \"white\", \"startlinecolor\": \"#2a3f5f\"}, \"type\": \"carpet\"}], \"choropleth\": [{\"colorbar\": {\"outlinewidth\": 0, \"ticks\": \"\"}, \"type\": \"choropleth\"}], \"contour\": [{\"colorbar\": {\"outlinewidth\": 0, \"ticks\": \"\"}, \"colorscale\": [[0.0, \"#0d0887\"], [0.1111111111111111, \"#46039f\"], [0.2222222222222222, \"#7201a8\"], [0.3333333333333333, \"#9c179e\"], [0.4444444444444444, \"#bd3786\"], [0.5555555555555556, \"#d8576b\"], [0.6666666666666666, \"#ed7953\"], [0.7777777777777778, \"#fb9f3a\"], [0.8888888888888888, \"#fdca26\"], [1.0, \"#f0f921\"]], \"type\": \"contour\"}], \"contourcarpet\": [{\"colorbar\": {\"outlinewidth\": 0, \"ticks\": \"\"}, \"type\": \"contourcarpet\"}], \"heatmap\": [{\"colorbar\": {\"outlinewidth\": 0, \"ticks\": \"\"}, \"colorscale\": [[0.0, \"#0d0887\"], [0.1111111111111111, \"#46039f\"], [0.2222222222222222, \"#7201a8\"], [0.3333333333333333, \"#9c179e\"], [0.4444444444444444, \"#bd3786\"], [0.5555555555555556, \"#d8576b\"], [0.6666666666666666, \"#ed7953\"], [0.7777777777777778, \"#fb9f3a\"], [0.8888888888888888, \"#fdca26\"], [1.0, \"#f0f921\"]], \"type\": \"heatmap\"}], \"heatmapgl\": [{\"colorbar\": {\"outlinewidth\": 0, \"ticks\": \"\"}, \"colorscale\": [[0.0, \"#0d0887\"], [0.1111111111111111, \"#46039f\"], [0.2222222222222222, \"#7201a8\"], [0.3333333333333333, \"#9c179e\"], [0.4444444444444444, \"#bd3786\"], [0.5555555555555556, \"#d8576b\"], [0.6666666666666666, \"#ed7953\"], [0.7777777777777778, \"#fb9f3a\"], [0.8888888888888888, \"#fdca26\"], [1.0, \"#f0f921\"]], \"type\": \"heatmapgl\"}], \"histogram\": [{\"marker\": {\"colorbar\": {\"outlinewidth\": 0, \"ticks\": \"\"}}, \"type\": \"histogram\"}], \"histogram2d\": [{\"colorbar\": {\"outlinewidth\": 0, \"ticks\": \"\"}, \"colorscale\": [[0.0, \"#0d0887\"], [0.1111111111111111, \"#46039f\"], [0.2222222222222222, \"#7201a8\"], [0.3333333333333333, \"#9c179e\"], [0.4444444444444444, \"#bd3786\"], [0.5555555555555556, \"#d8576b\"], [0.6666666666666666, \"#ed7953\"], [0.7777777777777778, \"#fb9f3a\"], [0.8888888888888888, \"#fdca26\"], [1.0, \"#f0f921\"]], \"type\": \"histogram2d\"}], \"histogram2dcontour\": [{\"colorbar\": {\"outlinewidth\": 0, \"ticks\": \"\"}, \"colorscale\": [[0.0, \"#0d0887\"], [0.1111111111111111, \"#46039f\"], [0.2222222222222222, \"#7201a8\"], [0.3333333333333333, \"#9c179e\"], [0.4444444444444444, \"#bd3786\"], [0.5555555555555556, \"#d8576b\"], [0.6666666666666666, \"#ed7953\"], [0.7777777777777778, \"#fb9f3a\"], [0.8888888888888888, \"#fdca26\"], [1.0, \"#f0f921\"]], \"type\": \"histogram2dcontour\"}], \"mesh3d\": [{\"colorbar\": {\"outlinewidth\": 0, \"ticks\": \"\"}, \"type\": \"mesh3d\"}], \"parcoords\": [{\"line\": {\"colorbar\": {\"outlinewidth\": 0, \"ticks\": \"\"}}, \"type\": \"parcoords\"}], \"pie\": [{\"automargin\": true, \"type\": \"pie\"}], \"scatter\": [{\"marker\": {\"colorbar\": {\"outlinewidth\": 0, \"ticks\": \"\"}}, \"type\": \"scatter\"}], \"scatter3d\": [{\"line\": {\"colorbar\": {\"outlinewidth\": 0, \"ticks\": \"\"}}, \"marker\": {\"colorbar\": {\"outlinewidth\": 0, \"ticks\": \"\"}}, \"type\": \"scatter3d\"}], \"scattercarpet\": [{\"marker\": {\"colorbar\": {\"outlinewidth\": 0, \"ticks\": \"\"}}, \"type\": \"scattercarpet\"}], \"scattergeo\": [{\"marker\": {\"colorbar\": {\"outlinewidth\": 0, \"ticks\": \"\"}}, \"type\": \"scattergeo\"}], \"scattergl\": [{\"marker\": {\"colorbar\": {\"outlinewidth\": 0, \"ticks\": \"\"}}, \"type\": \"scattergl\"}], \"scattermapbox\": [{\"marker\": {\"colorbar\": {\"outlinewidth\": 0, \"ticks\": \"\"}}, \"type\": \"scattermapbox\"}], \"scatterpolar\": [{\"marker\": {\"colorbar\": {\"outlinewidth\": 0, \"ticks\": \"\"}}, \"type\": \"scatterpolar\"}], \"scatterpolargl\": [{\"marker\": {\"colorbar\": {\"outlinewidth\": 0, \"ticks\": \"\"}}, \"type\": \"scatterpolargl\"}], \"scatterternary\": [{\"marker\": {\"colorbar\": {\"outlinewidth\": 0, \"ticks\": \"\"}}, \"type\": \"scatterternary\"}], \"surface\": [{\"colorbar\": {\"outlinewidth\": 0, \"ticks\": \"\"}, \"colorscale\": [[0.0, \"#0d0887\"], [0.1111111111111111, \"#46039f\"], [0.2222222222222222, \"#7201a8\"], [0.3333333333333333, \"#9c179e\"], [0.4444444444444444, \"#bd3786\"], [0.5555555555555556, \"#d8576b\"], [0.6666666666666666, \"#ed7953\"], [0.7777777777777778, \"#fb9f3a\"], [0.8888888888888888, \"#fdca26\"], [1.0, \"#f0f921\"]], \"type\": \"surface\"}], \"table\": [{\"cells\": {\"fill\": {\"color\": \"#EBF0F8\"}, \"line\": {\"color\": \"white\"}}, \"header\": {\"fill\": {\"color\": \"#C8D4E3\"}, \"line\": {\"color\": \"white\"}}, \"type\": \"table\"}]}, \"layout\": {\"annotationdefaults\": {\"arrowcolor\": \"#2a3f5f\", \"arrowhead\": 0, \"arrowwidth\": 1}, \"autotypenumbers\": \"strict\", \"coloraxis\": {\"colorbar\": {\"outlinewidth\": 0, \"ticks\": \"\"}}, \"colorscale\": {\"diverging\": [[0, \"#8e0152\"], [0.1, \"#c51b7d\"], [0.2, \"#de77ae\"], [0.3, \"#f1b6da\"], [0.4, \"#fde0ef\"], [0.5, \"#f7f7f7\"], [0.6, \"#e6f5d0\"], [0.7, \"#b8e186\"], [0.8, \"#7fbc41\"], [0.9, \"#4d9221\"], [1, \"#276419\"]], \"sequential\": [[0.0, \"#0d0887\"], [0.1111111111111111, \"#46039f\"], [0.2222222222222222, \"#7201a8\"], [0.3333333333333333, \"#9c179e\"], [0.4444444444444444, \"#bd3786\"], [0.5555555555555556, \"#d8576b\"], [0.6666666666666666, \"#ed7953\"], [0.7777777777777778, \"#fb9f3a\"], [0.8888888888888888, \"#fdca26\"], [1.0, \"#f0f921\"]], \"sequentialminus\": [[0.0, \"#0d0887\"], [0.1111111111111111, \"#46039f\"], [0.2222222222222222, \"#7201a8\"], [0.3333333333333333, \"#9c179e\"], [0.4444444444444444, \"#bd3786\"], [0.5555555555555556, \"#d8576b\"], [0.6666666666666666, \"#ed7953\"], [0.7777777777777778, \"#fb9f3a\"], [0.8888888888888888, \"#fdca26\"], [1.0, \"#f0f921\"]]}, \"colorway\": [\"#636efa\", \"#EF553B\", \"#00cc96\", \"#ab63fa\", \"#FFA15A\", \"#19d3f3\", \"#FF6692\", \"#B6E880\", \"#FF97FF\", \"#FECB52\"], \"font\": {\"color\": \"#2a3f5f\"}, \"geo\": {\"bgcolor\": \"white\", \"lakecolor\": \"white\", \"landcolor\": \"#E5ECF6\", \"showlakes\": true, \"showland\": true, \"subunitcolor\": \"white\"}, \"hoverlabel\": {\"align\": \"left\"}, \"hovermode\": \"closest\", \"mapbox\": {\"style\": \"light\"}, \"paper_bgcolor\": \"white\", \"plot_bgcolor\": \"#E5ECF6\", \"polar\": {\"angularaxis\": {\"gridcolor\": \"white\", \"linecolor\": \"white\", \"ticks\": \"\"}, \"bgcolor\": \"#E5ECF6\", \"radialaxis\": {\"gridcolor\": \"white\", \"linecolor\": \"white\", \"ticks\": \"\"}}, \"scene\": {\"xaxis\": {\"backgroundcolor\": \"#E5ECF6\", \"gridcolor\": \"white\", \"gridwidth\": 2, \"linecolor\": \"white\", \"showbackground\": true, \"ticks\": \"\", \"zerolinecolor\": \"white\"}, \"yaxis\": {\"backgroundcolor\": \"#E5ECF6\", \"gridcolor\": \"white\", \"gridwidth\": 2, \"linecolor\": \"white\", \"showbackground\": true, \"ticks\": \"\", \"zerolinecolor\": \"white\"}, \"zaxis\": {\"backgroundcolor\": \"#E5ECF6\", \"gridcolor\": \"white\", \"gridwidth\": 2, \"linecolor\": \"white\", \"showbackground\": true, \"ticks\": \"\", \"zerolinecolor\": \"white\"}}, \"shapedefaults\": {\"line\": {\"color\": \"#2a3f5f\"}}, \"ternary\": {\"aaxis\": {\"gridcolor\": \"white\", \"linecolor\": \"white\", \"ticks\": \"\"}, \"baxis\": {\"gridcolor\": \"white\", \"linecolor\": \"white\", \"ticks\": \"\"}, \"bgcolor\": \"#E5ECF6\", \"caxis\": {\"gridcolor\": \"white\", \"linecolor\": \"white\", \"ticks\": \"\"}}, \"title\": {\"x\": 0.05}, \"xaxis\": {\"automargin\": true, \"gridcolor\": \"white\", \"linecolor\": \"white\", \"ticks\": \"\", \"title\": {\"standoff\": 15}, \"zerolinecolor\": \"white\", \"zerolinewidth\": 2}, \"yaxis\": {\"automargin\": true, \"gridcolor\": \"white\", \"linecolor\": \"white\", \"ticks\": \"\", \"title\": {\"standoff\": 15}, \"zerolinecolor\": \"white\", \"zerolinewidth\": 2}}}, \"title\": {\"text\": \"Incentive paid to each team - boxplot\", \"x\": 0.5}, \"xaxis\": {\"anchor\": \"y\", \"domain\": [0.0, 1.0], \"title\": {\"text\": \"team\"}}, \"yaxis\": {\"anchor\": \"x\", \"domain\": [0.0, 1.0], \"title\": {\"text\": \"incentive\"}}},                        {\"responsive\": true}                    ).then(function(){\n",
       "                            \n",
       "var gd = document.getElementById('862fa345-ff73-4862-b812-6264b3876813');\n",
       "var x = new MutationObserver(function (mutations, observer) {{\n",
       "        var display = window.getComputedStyle(gd).display;\n",
       "        if (!display || display === 'none') {{\n",
       "            console.log([gd, 'removed!']);\n",
       "            Plotly.purge(gd);\n",
       "            observer.disconnect();\n",
       "        }}\n",
       "}});\n",
       "\n",
       "// Listen for the removal of the full notebook cells\n",
       "var notebookContainer = gd.closest('#notebook-container');\n",
       "if (notebookContainer) {{\n",
       "    x.observe(notebookContainer, {childList: true});\n",
       "}}\n",
       "\n",
       "// Listen for the clearing of the current output cell\n",
       "var outputEl = gd.closest('.output');\n",
       "if (outputEl) {{\n",
       "    x.observe(outputEl, {childList: true});\n",
       "}}\n",
       "\n",
       "                        })                };                });            </script>        </div>"
      ]
     },
     "metadata": {}
    }
   ],
   "metadata": {
    "execution": {
     "iopub.execute_input": "2021-04-10T14:15:11.778743Z",
     "iopub.status.busy": "2021-04-10T14:15:11.778044Z",
     "iopub.status.idle": "2021-04-10T14:15:11.868547Z",
     "shell.execute_reply": "2021-04-10T14:15:11.869048Z"
    },
    "papermill": {
     "duration": 0.165478,
     "end_time": "2021-04-10T14:15:11.869243",
     "exception": false,
     "start_time": "2021-04-10T14:15:11.703765",
     "status": "completed"
    },
    "tags": []
   }
  },
  {
   "cell_type": "markdown",
   "source": [
    "**Because of the outlier, team 9 avg incentive value is very high****"
   ],
   "metadata": {
    "papermill": {
     "duration": 0.061315,
     "end_time": "2021-04-10T14:15:11.992008",
     "exception": false,
     "start_time": "2021-04-10T14:15:11.930693",
     "status": "completed"
    },
    "tags": []
   }
  },
  {
   "cell_type": "markdown",
   "source": [
    "# Only sewing department gets incentive"
   ],
   "metadata": {
    "papermill": {
     "duration": 0.062403,
     "end_time": "2021-04-10T14:15:12.117401",
     "exception": false,
     "start_time": "2021-04-10T14:15:12.054998",
     "status": "completed"
    },
    "tags": []
   }
  },
  {
   "cell_type": "code",
   "execution_count": 32,
   "source": [
    "fig = px.box(df, x=\"department\", y=\"incentive\")\n",
    "fig.show()"
   ],
   "outputs": [
    {
     "output_type": "display_data",
     "data": {
      "text/html": [
       "<div>                            <div id=\"1a6b66bb-32c4-4879-abb9-a7ac7248bfa6\" class=\"plotly-graph-div\" style=\"height:525px; width:100%;\"></div>            <script type=\"text/javascript\">                require([\"plotly\"], function(Plotly) {                    window.PLOTLYENV=window.PLOTLYENV || {};                                    if (document.getElementById(\"1a6b66bb-32c4-4879-abb9-a7ac7248bfa6\")) {                    Plotly.newPlot(                        \"1a6b66bb-32c4-4879-abb9-a7ac7248bfa6\",                        [{\"alignmentgroup\": \"True\", \"hovertemplate\": \"department=%{x}<br>incentive=%{y}<extra></extra>\", \"legendgroup\": \"\", \"marker\": {\"color\": \"#636efa\"}, \"name\": \"\", \"notched\": false, \"offsetgroup\": \"\", \"orientation\": \"v\", \"showlegend\": false, \"type\": \"box\", \"x\": [\"sewing\", \"finishing\", \"sewing\", \"sewing\", \"sewing\", \"sewing\", \"finishing\", \"sewing\", \"sewing\", \"sewing\", \"sewing\", \"sewing\", \"sewing\", \"finishing\", \"finishing\", \"finishing\", \"finishing\", \"sewing\", \"sewing\", \"finishing\", \"finishing\", \"finishing\", \"finishing\", \"finishing\", \"sewing\", \"sewing\", \"sewing\", \"sewing\", \"sewing\", \"sewing\", \"sewing\", \"sewing\", \"sewing\", \"finishing\", \"sewing\", \"finishing\", \"sewing\", \"sewing\", \"finishing\", \"finishing\", \"finishing\", \"finishing\", \"finishing\", \"sewing\", \"finishing\", \"sewing\", \"sewing\", \"sewing\", \"sewing\", \"sewing\", \"sewing\", \"sewing\", \"finishing\", \"finishing\", \"sewing\", \"sewing\", \"sewing\", \"finishing\", \"finishing\", \"sewing\", \"finishing\", \"finishing\", \"finishing\", \"finishing\", \"finishing\", \"sewing\", \"finishing\", \"finishing\", \"sewing\", \"sewing\", \"sewing\", \"sewing\", \"sewing\", \"sewing\", \"sewing\", \"sewing\", \"finishing\", \"finishing\", \"sewing\", \"sewing\", \"finishing\", \"finishing\", \"sewing\", \"finishing\", \"finishing\", \"finishing\", \"finishing\", \"finishing\", \"sewing\", \"sewing\", \"finishing\", \"finishing\", \"sewing\", \"sewing\", \"sewing\", \"sewing\", \"sewing\", \"sewing\", \"sewing\", \"sewing\", \"sewing\", \"finishing\", \"sewing\", \"finishing\", \"finishing\", \"finishing\", \"sewing\", \"sewing\", \"sewing\", \"finishing\", \"finishing\", \"finishing\", \"finishing\", \"finishing\", \"sewing\", \"sewing\", \"sewing\", \"sewing\", \"sewing\", \"sewing\", \"sewing\", \"sewing\", \"finishing\", \"finishing\", \"sewing\", \"finishing\", \"finishing\", \"finishing\", \"sewing\", \"finishing\", \"sewing\", \"sewing\", \"sewing\", \"sewing\", \"finishing\", \"finishing\", \"sewing\", \"sewing\", \"sewing\", \"sewing\", \"sewing\", \"finishing\", \"finishing\", \"finishing\", \"finishing\", \"finishing\", \"sewing\", \"sewing\", \"finishing\", \"finishing\", \"finishing\", \"finishing\", \"sewing\", \"sewing\", \"sewing\", \"finishing\", \"finishing\", \"finishing\", \"sewing\", \"sewing\", \"sewing\", \"sewing\", \"sewing\", \"sewing\", \"sewing\", \"sewing\", \"finishing\", \"finishing\", \"sewing\", \"finishing\", \"finishing\", \"finishing\", \"sewing\", \"finishing\", \"finishing\", \"sewing\", \"sewing\", \"sewing\", \"finishing\", \"finishing\", \"sewing\", \"sewing\", \"sewing\", \"sewing\", \"sewing\", \"finishing\", \"finishing\", \"finishing\", \"sewing\", \"finishing\", \"finishing\", \"sewing\", \"sewing\", \"finishing\", \"finishing\", \"finishing\", \"finishing\", \"finishing\", \"sewing\", \"sewing\", \"sewing\", \"sewing\", \"finishing\", \"finishing\", \"sewing\", \"sewing\", \"sewing\", \"sewing\", \"finishing\", \"sewing\", \"sewing\", \"sewing\", \"finishing\", \"finishing\", \"sewing\", \"finishing\", \"finishing\", \"finishing\", \"finishing\", \"finishing\", \"finishing\", \"sewing\", \"sewing\", \"sewing\", \"sewing\", \"finishing\", \"finishing\", \"sewing\", \"sewing\", \"sewing\", \"sewing\", \"finishing\", \"finishing\", \"finishing\", \"sewing\", \"sewing\", \"sewing\", \"sewing\", \"finishing\", \"finishing\", \"sewing\", \"finishing\", \"finishing\", \"finishing\", \"sewing\", \"sewing\", \"finishing\", \"finishing\", \"sewing\", \"sewing\", \"sewing\", \"sewing\", \"finishing\", \"sewing\", \"sewing\", \"sewing\", \"finishing\", \"sewing\", \"finishing\", \"finishing\", \"finishing\", \"finishing\", \"finishing\", \"finishing\", \"sewing\", \"sewing\", \"sewing\", \"sewing\", \"sewing\", \"sewing\", \"sewing\", \"finishing\", \"sewing\", \"sewing\", \"finishing\", \"sewing\", \"sewing\", \"sewing\", \"finishing\", \"finishing\", \"finishing\", \"finishing\", \"finishing\", \"sewing\", \"sewing\", \"sewing\", \"sewing\", \"sewing\", \"sewing\", \"sewing\", \"sewing\", \"finishing\", \"finishing\", \"sewing\", \"sewing\", \"sewing\", \"finishing\", \"sewing\", \"finishing\", \"finishing\", \"finishing\", \"finishing\", \"sewing\", \"sewing\", \"sewing\", \"sewing\", \"sewing\", \"sewing\", \"finishing\", \"sewing\", \"sewing\", \"sewing\", \"sewing\", \"finishing\", \"sewing\", \"finishing\", \"sewing\", \"finishing\", \"finishing\", \"finishing\", \"finishing\", \"sewing\", \"sewing\", \"sewing\", \"finishing\", \"sewing\", \"sewing\", \"sewing\", \"sewing\", \"sewing\", \"finishing\", \"sewing\", \"sewing\", \"sewing\", \"finishing\", \"finishing\", \"sewing\", \"finishing\", \"sewing\", \"sewing\", \"sewing\", \"sewing\", \"sewing\", \"sewing\", \"sewing\", \"finishing\", \"sewing\", \"sewing\", \"finishing\", \"sewing\", \"sewing\", \"finishing\", \"finishing\", \"finishing\", \"sewing\", \"sewing\", \"finishing\", \"sewing\", \"sewing\", \"sewing\", \"finishing\", \"sewing\", \"sewing\", \"sewing\", \"sewing\", \"sewing\", \"finishing\", \"sewing\", \"finishing\", \"sewing\", \"finishing\", \"finishing\", \"finishing\", \"sewing\", \"sewing\", \"sewing\", \"sewing\", \"sewing\", \"sewing\", \"finishing\", \"sewing\", \"sewing\", \"finishing\", \"finishing\", \"finishing\", \"finishing\", \"sewing\", \"sewing\", \"sewing\", \"sewing\", \"finishing\", \"finishing\", \"finishing\", \"finishing\", \"finishing\", \"finishing\", \"sewing\", \"sewing\", \"finishing\", \"finishing\", \"finishing\", \"finishing\", \"sewing\", \"sewing\", \"sewing\", \"sewing\", \"sewing\", \"sewing\", \"sewing\", \"finishing\", \"sewing\", \"sewing\", \"finishing\", \"finishing\", \"sewing\", \"finishing\", \"finishing\", \"finishing\", \"finishing\", \"finishing\", \"finishing\", \"finishing\", \"sewing\", \"sewing\", \"sewing\", \"sewing\", \"sewing\", \"sewing\", \"finishing\", \"sewing\", \"sewing\", \"sewing\", \"sewing\", \"finishing\", \"sewing\", \"sewing\", \"finishing\", \"finishing\", \"finishing\", \"finishing\", \"finishing\", \"finishing\", \"finishing\", \"sewing\", \"sewing\", \"sewing\", \"sewing\", \"sewing\", \"sewing\", \"finishing\", \"sewing\", \"sewing\", \"sewing\", \"finishing\", \"sewing\", \"sewing\", \"sewing\", \"sewing\", \"finishing\", \"finishing\", \"finishing\", \"sewing\", \"finishing\", \"sewing\", \"finishing\", \"finishing\", \"finishing\", \"sewing\", \"finishing\", \"finishing\", \"sewing\", \"sewing\", \"sewing\", \"sewing\", \"finishing\", \"sewing\", \"sewing\", \"sewing\", \"sewing\", \"finishing\", \"finishing\", \"finishing\", \"sewing\", \"sewing\", \"finishing\", \"sewing\", \"sewing\", \"finishing\", \"sewing\", \"sewing\", \"finishing\", \"finishing\", \"sewing\", \"sewing\", \"sewing\", \"finishing\", \"sewing\", \"finishing\", \"sewing\", \"finishing\", \"sewing\", \"sewing\", \"sewing\", \"finishing\", \"finishing\", \"finishing\", \"finishing\", \"finishing\", \"sewing\", \"sewing\", \"sewing\", \"finishing\", \"sewing\", \"finishing\", \"sewing\", \"sewing\", \"finishing\", \"sewing\", \"sewing\", \"sewing\", \"finishing\", \"finishing\", \"finishing\", \"finishing\", \"finishing\", \"finishing\", \"finishing\", \"finishing\", \"finishing\", \"finishing\", \"finishing\", \"finishing\", \"sewing\", \"sewing\", \"sewing\", \"sewing\", \"sewing\", \"sewing\", \"sewing\", \"sewing\", \"sewing\", \"sewing\", \"finishing\", \"sewing\", \"sewing\", \"finishing\", \"sewing\", \"finishing\", \"finishing\", \"finishing\", \"sewing\", \"sewing\", \"finishing\", \"sewing\", \"sewing\", \"finishing\", \"sewing\", \"sewing\", \"sewing\", \"sewing\", \"finishing\", \"sewing\", \"finishing\", \"sewing\", \"sewing\", \"sewing\", \"finishing\", \"finishing\", \"sewing\", \"sewing\", \"sewing\", \"finishing\", \"sewing\", \"sewing\", \"finishing\", \"finishing\", \"sewing\", \"sewing\", \"finishing\", \"sewing\", \"finishing\", \"sewing\", \"sewing\", \"finishing\", \"finishing\", \"sewing\", \"sewing\", \"finishing\", \"sewing\", \"sewing\", \"finishing\", \"sewing\", \"sewing\", \"sewing\", \"sewing\", \"sewing\", \"finishing\", \"finishing\", \"sewing\", \"sewing\", \"sewing\", \"sewing\", \"sewing\", \"sewing\", \"sewing\", \"sewing\", \"sewing\", \"sewing\", \"sewing\", \"sewing\", \"sewing\", \"sewing\", \"sewing\", \"sewing\", \"finishing\", \"sewing\", \"sewing\", \"sewing\", \"sewing\", \"sewing\", \"sewing\", \"sewing\", \"sewing\", \"sewing\", \"sewing\", \"sewing\", \"sewing\", \"sewing\", \"sewing\", \"sewing\", \"sewing\", \"sewing\", \"sewing\", \"sewing\", \"sewing\", \"sewing\", \"sewing\", \"sewing\", \"sewing\", \"sewing\", \"sewing\", \"sewing\", \"sewing\", \"sewing\", \"sewing\", \"sewing\", \"sewing\", \"sewing\", \"sewing\", \"sewing\", \"sewing\", \"sewing\", \"sewing\", \"sewing\", \"sewing\", \"sewing\", \"sewing\", \"sewing\", \"sewing\", \"sewing\", \"sewing\", \"sewing\", \"sewing\", \"sewing\", \"sewing\", \"sewing\", \"sewing\", \"sewing\", \"sewing\", \"sewing\", \"sewing\", \"sewing\", \"sewing\", \"sewing\", \"sewing\", \"sewing\", \"sewing\", \"sewing\", \"sewing\", \"sewing\", \"sewing\", \"sewing\", \"sewing\", \"sewing\", \"sewing\", \"sewing\", \"sewing\", \"sewing\", \"sewing\", \"sewing\", \"sewing\", \"sewing\", \"sewing\", \"sewing\", \"sewing\", \"sewing\", \"sewing\", \"sewing\", \"sewing\", \"sewing\", \"sewing\", \"sewing\", \"sewing\", \"sewing\", \"sewing\", \"sewing\", \"sewing\", \"sewing\", \"sewing\", \"sewing\", \"sewing\", \"sewing\", \"sewing\", \"sewing\", \"sewing\", \"sewing\", \"sewing\", \"sewing\", \"sewing\", \"sewing\", \"sewing\", \"sewing\", \"sewing\", \"sewing\", \"sewing\", \"sewing\", \"sewing\", \"sewing\", \"sewing\", \"sewing\", \"sewing\", \"sewing\", \"sewing\", \"sewing\", \"sewing\", \"sewing\", \"sewing\", \"sewing\", \"sewing\", \"sewing\", \"sewing\", \"sewing\", \"sewing\", \"sewing\", \"sewing\", \"sewing\", \"sewing\", \"sewing\", \"sewing\", \"sewing\", \"sewing\", \"sewing\", \"sewing\", \"sewing\", \"sewing\", \"sewing\", \"sewing\", \"sewing\", \"sewing\", \"sewing\", \"sewing\", \"sewing\", \"sewing\", \"sewing\", \"sewing\", \"sewing\", \"sewing\", \"sewing\", \"sewing\", \"sewing\", \"sewing\", \"sewing\", \"sewing\", \"sewing\", \"sewing\", \"sewing\", \"sewing\", \"sewing\", \"sewing\", \"sewing\", \"sewing\", \"sewing\", \"sewing\", \"sewing\", \"sewing\", \"sewing\", \"sewing\", \"sewing\", \"sewing\", \"sewing\", \"sewing\", \"sewing\", \"sewing\", \"sewing\", \"sewing\", \"sewing\", \"sewing\", \"sewing\", \"sewing\", \"sewing\", \"sewing\", \"sewing\", \"sewing\", \"sewing\", \"sewing\", \"sewing\", \"sewing\", \"sewing\", \"sewing\", \"sewing\", \"sewing\", \"sewing\", \"sewing\", \"sewing\", \"sewing\", \"sewing\", \"sewing\", \"sewing\", \"sewing\", \"sewing\", \"sewing\", \"sewing\", \"sewing\", \"sewing\", \"sewing\", \"sewing\", \"sewing\", \"sewing\", \"sewing\", \"sewing\", \"sewing\", \"sewing\", \"sewing\", \"sewing\", \"sewing\", \"sewing\", \"sewing\", \"sewing\", \"sewing\", \"sewing\", \"sewing\", \"sewing\", \"sewing\", \"sewing\", \"sewing\", \"sewing\", \"sewing\", \"sewing\", \"sewing\", \"sewing\", \"sewing\", \"sewing\", \"sewing\", \"sewing\", \"sewing\", \"sewing\", \"sewing\", \"sewing\", \"sewing\", \"sewing\", \"sewing\", \"sewing\", \"sewing\", \"sewing\", \"sewing\", \"sewing\", \"sewing\", \"sewing\", \"sewing\", \"sewing\", \"sewing\", \"sewing\", \"sewing\", \"sewing\", \"sewing\", \"sewing\", \"sewing\", \"sewing\", \"sewing\", \"sewing\", \"sewing\", \"sewing\", \"sewing\", \"sewing\", \"sewing\", \"sewing\", \"sewing\", \"sewing\", \"sewing\", \"sewing\", \"sewing\", \"sewing\", \"sewing\", \"sewing\", \"sewing\", \"sewing\", \"sewing\", \"sewing\", \"sewing\", \"sewing\", \"sewing\", \"sewing\", \"sewing\", \"sewing\", \"sewing\", \"sewing\", \"sewing\", \"sewing\", \"sewing\", \"sewing\", \"sewing\", \"sewing\", \"sewing\", \"sewing\", \"sewing\", \"sewing\", \"sewing\", \"sewing\", \"sewing\", \"sewing\", \"sewing\", \"sewing\", \"sewing\", \"sewing\", \"sewing\", \"sewing\", \"sewing\", \"sewing\", \"sewing\", \"sewing\", \"sewing\", \"sewing\", \"sewing\", \"sewing\", \"sewing\", \"sewing\", \"sewing\", \"sewing\", \"sewing\", \"sewing\", \"sewing\", \"sewing\", \"sewing\", \"sewing\", \"sewing\", \"sewing\", \"sewing\", \"sewing\", \"sewing\", \"sewing\", \"sewing\", \"sewing\", \"sewing\", \"sewing\", \"sewing\", \"sewing\", \"sewing\", \"sewing\", \"sewing\", \"sewing\", \"sewing\", \"sewing\", \"sewing\", \"sewing\", \"sewing\", \"sewing\", \"sewing\", \"sewing\", \"sewing\", \"sewing\", \"sewing\", \"sewing\", \"sewing\", \"sewing\", \"sewing\", \"sewing\", \"sewing\", \"sewing\", \"sewing\", \"sewing\", \"sewing\", \"sewing\", \"sewing\", \"sewing\", \"sewing\", \"sewing\", \"sewing\", \"sewing\", \"sewing\", \"sewing\", \"sewing\", \"sewing\", \"sewing\", \"sewing\", \"sewing\", \"sewing\", \"sewing\", \"sewing\", \"sewing\", \"sewing\", \"sewing\", \"sewing\", \"sewing\", \"sewing\", \"sewing\", \"sewing\", \"sewing\", \"sewing\", \"sewing\", \"sewing\", \"sewing\", \"sewing\", \"sewing\", \"sewing\", \"sewing\", \"sewing\", \"sewing\", \"sewing\", \"sewing\", \"sewing\", \"sewing\", \"sewing\", \"sewing\", \"sewing\", \"sewing\", \"sewing\", \"sewing\", \"sewing\", \"sewing\", \"sewing\", \"sewing\", \"sewing\", \"sewing\", \"sewing\", \"sewing\", \"sewing\", \"sewing\", \"sewing\", \"sewing\", \"sewing\", \"sewing\", \"sewing\", \"sewing\", \"sewing\", \"sewing\", \"sewing\", \"sewing\", \"sewing\", \"sewing\", \"sewing\", \"sewing\", \"sewing\", \"sewing\", \"sewing\", \"sewing\", \"sewing\", \"sewing\", \"sewing\", \"sewing\", \"sewing\", \"sewing\", \"sewing\", \"sewing\", \"sewing\", \"sewing\", \"sewing\", \"sewing\", \"sewing\", \"sewing\", \"sewing\", \"sewing\", \"sewing\", \"sewing\", \"sewing\", \"sewing\", \"sewing\", \"sewing\", \"sewing\", \"sewing\", \"sewing\", \"sewing\", \"sewing\", \"sewing\", \"sewing\", \"sewing\", \"sewing\", \"sewing\", \"sewing\", \"sewing\", \"sewing\", \"sewing\", \"sewing\", \"sewing\", \"sewing\", \"sewing\", \"sewing\", \"sewing\", \"sewing\", \"sewing\", \"sewing\", \"sewing\", \"sewing\", \"sewing\", \"sewing\", \"sewing\", \"sewing\", \"sewing\", \"sewing\", \"sewing\", \"sewing\", \"sewing\", \"sewing\", \"sewing\", \"sewing\", \"sewing\", \"sewing\", \"sewing\", \"sewing\", \"sewing\", \"sewing\", \"sewing\", \"sewing\", \"sewing\", \"sewing\", \"sewing\", \"sewing\", \"sewing\", \"sewing\", \"sewing\", \"sewing\", \"sewing\", \"sewing\", \"sewing\", \"sewing\", \"sewing\", \"sewing\", \"sewing\", \"sewing\", \"sewing\", \"sewing\", \"sewing\", \"sewing\", \"sewing\", \"sewing\", \"sewing\", \"sewing\", \"sewing\", \"sewing\", \"sewing\", \"sewing\", \"sewing\", \"sewing\", \"sewing\", \"sewing\", \"sewing\", \"sewing\", \"sewing\", \"sewing\", \"sewing\", \"sewing\", \"sewing\", \"sewing\", \"sewing\", \"sewing\", \"sewing\", \"sewing\", \"sewing\", \"sewing\", \"sewing\", \"sewing\", \"sewing\", \"sewing\", \"sewing\", \"sewing\", \"sewing\", \"sewing\", \"sewing\", \"sewing\", \"sewing\", \"sewing\", \"sewing\", \"sewing\", \"sewing\", \"sewing\", \"sewing\", \"sewing\", \"sewing\", \"sewing\", \"sewing\", \"sewing\", \"sewing\", \"sewing\", \"sewing\", \"sewing\", \"sewing\", \"sewing\", \"sewing\"], \"x0\": \" \", \"xaxis\": \"x\", \"y\": [98, 0, 50, 50, 50, 38, 0, 45, 34, 45, 44, 45, 50, 0, 0, 0, 0, 0, 0, 0, 0, 0, 0, 0, 50, 50, 50, 63, 50, 50, 50, 38, 56, 0, 45, 0, 0, 40, 0, 0, 0, 0, 0, 50, 0, 60, 60, 45, 50, 63, 50, 50, 0, 0, 45, 45, 40, 0, 0, 26, 0, 0, 0, 0, 0, 75, 0, 0, 50, 38, 63, 50, 50, 50, 50, 50, 0, 0, 45, 45, 0, 0, 23, 0, 0, 0, 0, 0, 75, 75, 0, 0, 50, 50, 50, 50, 38, 38, 38, 45, 45, 0, 35, 0, 0, 0, 75, 75, 60, 0, 0, 0, 0, 0, 63, 50, 50, 50, 50, 50, 69, 40, 0, 0, 40, 0, 0, 0, 88, 0, 75, 75, 60, 60, 0, 0, 63, 50, 63, 50, 69, 0, 0, 0, 0, 0, 38, 0, 0, 0, 0, 0, 75, 60, 60, 0, 0, 0, 63, 63, 50, 50, 63, 63, 45, 38, 0, 0, 0, 0, 0, 0, 88, 0, 0, 75, 45, 60, 0, 0, 50, 50, 63, 38, 0, 0, 0, 0, 30, 0, 0, 0, 0, 0, 0, 0, 0, 0, 75, 75, 60, 60, 0, 0, 0, 50, 50, 63, 0, 45, 0, 44, 0, 0, 0, 0, 0, 0, 0, 0, 0, 75, 75, 60, 60, 0, 0, 50, 50, 50, 54, 0, 0, 0, 37, 0, 23, 23, 0, 0, 70, 0, 0, 0, 75, 60, 0, 0, 50, 38, 63, 0, 0, 23, 23, 23, 0, 27, 0, 0, 0, 0, 0, 0, 75, 60, 60, 63, 38, 50, 0, 0, 30, 26, 0, 23, 30, 23, 0, 0, 0, 0, 0, 63, 63, 50, 50, 63, 63, 23, 50, 0, 0, 35, 30, 38, 0, 21, 0, 0, 0, 0, 63, 50, 38, 50, 50, 40, 0, 56, 35, 44, 26, 0, 30, 0, 24, 0, 0, 0, 0, 50, 50, 63, 0, 38, 63, 50, 63, 50, 0, 35, 30, 30, 0, 0, 23, 0, 63, 50, 63, 63, 63, 50, 50, 0, 50, 50, 0, 23, 30, 0, 0, 0, 94, 75, 0, 38, 60, 75, 0, 50, 63, 50, 34, 23, 0, 29, 0, 23, 0, 0, 0, 81, 60, 63, 55, 63, 63, 0, 40, 50, 0, 0, 0, 0, 23, 23, 30, 30, 0, 0, 0, 0, 0, 0, 94, 94, 0, 0, 0, 0, 75, 69, 63, 69, 40, 56, 50, 0, 26, 23, 0, 0, 23, 0, 0, 0, 0, 0, 0, 0, 94, 81, 75, 55, 63, 69, 0, 40, 40, 50, 26, 0, 40, 23, 0, 0, 0, 0, 0, 0, 0, 60, 50, 69, 55, 60, 55, 0, 56, 40, 40, 0, 23, 23, 119, 119, 0, 0, 0, 70, 0, 60, 0, 0, 0, 55, 0, 0, 50, 40, 23, 34, 0, 30, 23, 90, 113, 0, 0, 0, 60, 81, 0, 88, 50, 0, 63, 45, 0, 0, 46, 0, 23, 0, 0, 0, 113, 0, 100, 88, 88, 0, 0, 0, 0, 0, 81, 53, 81, 0, 45, 0, 46, 23, 0, 0, 113, 113, 0, 0, 0, 0, 0, 0, 0, 0, 0, 0, 0, 0, 93, 88, 81, 81, 45, 56, 49, 23, 0, 0, 0, 113, 113, 0, 100, 0, 0, 0, 75, 60, 0, 45, 45, 0, 75, 26, 0, 0, 0, 113, 0, 88, 70, 88, 0, 0, 63, 50, 55, 0, 60, 30, 0, 0, 0, 0, 0, 0, 0, 113, 90, 0, 0, 100, 100, 0, 63, 50, 0, 34, 60, 30, 0, 0, 0, 0, 0, 100, 113, 113, 0, 0, 0, 88, 38, 50, 0, 0, 30, 0, 60, 0, 0, 0, 0, 23, 113, 113, 113, 0, 100, 0, 0, 0, 0, 38, 50, 0, 34, 30, 0, 0, 23, 0, 0, 113, 100, 88, 88, 0, 0, 0, 63, 50, 0, 34, 45, 0, 0, 30, 0, 0, 0, 113, 0, 88, 88, 88, 0, 0, 0, 0, 63, 50, 34, 45, 0, 0, 0, 44, 0, 0, 0, 0, 88, 70, 70, 0, 63, 50, 50, 50, 45, 0, 40, 0, 0, 0, 0, 0, 0, 0, 88, 88, 88, 88, 0, 38, 50, 0, 0, 34, 45, 0, 40, 0, 0, 23, 30, 0, 0, 90, 113, 0, 0, 0, 75, 38, 50, 50, 56, 30, 40, 0, 23, 0, 0, 0, 138, 0, 113, 0, 50, 0, 56, 0, 0, 0, 0, 0, 0, 0, 0, 0, 0, 0, 0, 113, 0, 0, 0, 63, 63, 0, 0, 56, 0, 0, 0, 23, 0, 30, 0, 0, 0, 0, 113, 0, 50, 0, 0, 0, 0, 40, 0, 23, 0, 0, 0, 30, 0, 0, 0, 113, 0, 0, 0, 63, 0, 38, 0, 0, 0, 0, 30, 0, 27, 30, 0, 0, 0, 113, 0, 0, 0, 38, 0, 0, 45, 0, 30, 30, 50, 0, 0, 0, 23, 0, 0, 0, 0, 0, 0, 0, 30, 50, 0, 63, 63, 34, 45, 0, 40, 30, 0, 0, 0, 0, 0, 0, 0, 0, 0, 38, 63, 63, 63, 0, 56, 0, 0, 50, 30, 0, 0, 0, 30, 0, 0, 0, 0, 0, 0, 0, 0, 0, 63, 63, 0, 0, 45, 0, 40, 0, 0, 30, 33, 0, 0, 0, 0, 0, 0, 0, 0, 0, 63, 38, 38, 45, 45, 0, 30, 40, 30, 40, 0, 0, 0, 0, 0, 0, 0, 50, 50, 50, 0, 45, 45, 34, 45, 0, 0, 30, 40, 30, 0, 0, 0, 0, 56, 0, 0, 0, 0, 50, 50, 50, 45, 45, 45, 30, 30, 0, 0, 0, 49, 0, 0, 0, 0, 0, 0, 50, 50, 63, 0, 45, 45, 45, 56, 0, 0, 0, 0, 32, 38, 0, 0, 23, 0, 0, 0, 0, 50, 62, 38, 0, 45, 45, 56, 45, 40, 0, 0, 0, 30, 30, 23, 0, 0, 0, 0, 0, 0, 63, 56, 45, 45, 34, 38, 30, 38, 0, 50, 0, 0, 23, 0, 0, 0, 0, 0, 0, 0, 0, 65, 63, 0, 50, 50, 0, 0, 34, 45, 45, 55, 34, 30, 0, 0, 0, 0, 0, 0, 50, 60, 50, 50, 50, 50, 56, 34, 45, 0, 30, 30, 0, 0, 0, 0, 0, 0, 0, 0, 0, 0, 0, 0, 0, 0, 38, 50, 63, 50, 60, 50, 34, 40, 30, 0, 0, 0, 0, 0, 0, 0, 0, 0, 0, 0, 0, 0, 50, 63, 50, 50, 45, 50, 40, 30, 0, 0, 0, 0, 0, 75, 70, 0, 0, 60, 63, 50, 0, 45, 30, 0, 0, 0, 0, 0, 0, 0, 24, 0, 0, 0, 0, 0, 0, 0, 65, 65, 50, 63, 50, 0, 45, 30, 30, 23, 0, 23, 0, 0, 0, 960, 1080, 2880, 65, 65, 3600, 50, 63, 50, 1440, 960, 960, 45, 30, 30, 1200, 35, 26, 23, 0, 960, 960, 0, 0, 75, 0, 0, 0, 65, 0, 63, 63, 50, 0, 34, 45, 0, 30, 30, 40, 26, 25, 0, 0, 0, 0, 0, 0, 0, 0, 63, 63, 50, 0, 0, 34, 45, 45, 45, 45, 30, 30, 40, 26, 0, 0, 0, 0, 0], \"y0\": \" \", \"yaxis\": \"y\"}],                        {\"boxmode\": \"group\", \"legend\": {\"tracegroupgap\": 0}, \"margin\": {\"t\": 60}, \"template\": {\"data\": {\"bar\": [{\"error_x\": {\"color\": \"#2a3f5f\"}, \"error_y\": {\"color\": \"#2a3f5f\"}, \"marker\": {\"line\": {\"color\": \"#E5ECF6\", \"width\": 0.5}}, \"type\": \"bar\"}], \"barpolar\": [{\"marker\": {\"line\": {\"color\": \"#E5ECF6\", \"width\": 0.5}}, \"type\": \"barpolar\"}], \"carpet\": [{\"aaxis\": {\"endlinecolor\": \"#2a3f5f\", \"gridcolor\": \"white\", \"linecolor\": \"white\", \"minorgridcolor\": \"white\", \"startlinecolor\": \"#2a3f5f\"}, \"baxis\": {\"endlinecolor\": \"#2a3f5f\", \"gridcolor\": \"white\", \"linecolor\": \"white\", \"minorgridcolor\": \"white\", \"startlinecolor\": \"#2a3f5f\"}, \"type\": \"carpet\"}], \"choropleth\": [{\"colorbar\": {\"outlinewidth\": 0, \"ticks\": \"\"}, \"type\": \"choropleth\"}], \"contour\": [{\"colorbar\": {\"outlinewidth\": 0, \"ticks\": \"\"}, \"colorscale\": [[0.0, \"#0d0887\"], [0.1111111111111111, \"#46039f\"], [0.2222222222222222, \"#7201a8\"], [0.3333333333333333, \"#9c179e\"], [0.4444444444444444, \"#bd3786\"], [0.5555555555555556, \"#d8576b\"], [0.6666666666666666, \"#ed7953\"], [0.7777777777777778, \"#fb9f3a\"], [0.8888888888888888, \"#fdca26\"], [1.0, \"#f0f921\"]], \"type\": \"contour\"}], \"contourcarpet\": [{\"colorbar\": {\"outlinewidth\": 0, \"ticks\": \"\"}, \"type\": \"contourcarpet\"}], \"heatmap\": [{\"colorbar\": {\"outlinewidth\": 0, \"ticks\": \"\"}, \"colorscale\": [[0.0, \"#0d0887\"], [0.1111111111111111, \"#46039f\"], [0.2222222222222222, \"#7201a8\"], [0.3333333333333333, \"#9c179e\"], [0.4444444444444444, \"#bd3786\"], [0.5555555555555556, \"#d8576b\"], [0.6666666666666666, \"#ed7953\"], [0.7777777777777778, \"#fb9f3a\"], [0.8888888888888888, \"#fdca26\"], [1.0, \"#f0f921\"]], \"type\": \"heatmap\"}], \"heatmapgl\": [{\"colorbar\": {\"outlinewidth\": 0, \"ticks\": \"\"}, \"colorscale\": [[0.0, \"#0d0887\"], [0.1111111111111111, \"#46039f\"], [0.2222222222222222, \"#7201a8\"], [0.3333333333333333, \"#9c179e\"], [0.4444444444444444, \"#bd3786\"], [0.5555555555555556, \"#d8576b\"], [0.6666666666666666, \"#ed7953\"], [0.7777777777777778, \"#fb9f3a\"], [0.8888888888888888, \"#fdca26\"], [1.0, \"#f0f921\"]], \"type\": \"heatmapgl\"}], \"histogram\": [{\"marker\": {\"colorbar\": {\"outlinewidth\": 0, \"ticks\": \"\"}}, \"type\": \"histogram\"}], \"histogram2d\": [{\"colorbar\": {\"outlinewidth\": 0, \"ticks\": \"\"}, \"colorscale\": [[0.0, \"#0d0887\"], [0.1111111111111111, \"#46039f\"], [0.2222222222222222, \"#7201a8\"], [0.3333333333333333, \"#9c179e\"], [0.4444444444444444, \"#bd3786\"], [0.5555555555555556, \"#d8576b\"], [0.6666666666666666, \"#ed7953\"], [0.7777777777777778, \"#fb9f3a\"], [0.8888888888888888, \"#fdca26\"], [1.0, \"#f0f921\"]], \"type\": \"histogram2d\"}], \"histogram2dcontour\": [{\"colorbar\": {\"outlinewidth\": 0, \"ticks\": \"\"}, \"colorscale\": [[0.0, \"#0d0887\"], [0.1111111111111111, \"#46039f\"], [0.2222222222222222, \"#7201a8\"], [0.3333333333333333, \"#9c179e\"], [0.4444444444444444, \"#bd3786\"], [0.5555555555555556, \"#d8576b\"], [0.6666666666666666, \"#ed7953\"], [0.7777777777777778, \"#fb9f3a\"], [0.8888888888888888, \"#fdca26\"], [1.0, \"#f0f921\"]], \"type\": \"histogram2dcontour\"}], \"mesh3d\": [{\"colorbar\": {\"outlinewidth\": 0, \"ticks\": \"\"}, \"type\": \"mesh3d\"}], \"parcoords\": [{\"line\": {\"colorbar\": {\"outlinewidth\": 0, \"ticks\": \"\"}}, \"type\": \"parcoords\"}], \"pie\": [{\"automargin\": true, \"type\": \"pie\"}], \"scatter\": [{\"marker\": {\"colorbar\": {\"outlinewidth\": 0, \"ticks\": \"\"}}, \"type\": \"scatter\"}], \"scatter3d\": [{\"line\": {\"colorbar\": {\"outlinewidth\": 0, \"ticks\": \"\"}}, \"marker\": {\"colorbar\": {\"outlinewidth\": 0, \"ticks\": \"\"}}, \"type\": \"scatter3d\"}], \"scattercarpet\": [{\"marker\": {\"colorbar\": {\"outlinewidth\": 0, \"ticks\": \"\"}}, \"type\": \"scattercarpet\"}], \"scattergeo\": [{\"marker\": {\"colorbar\": {\"outlinewidth\": 0, \"ticks\": \"\"}}, \"type\": \"scattergeo\"}], \"scattergl\": [{\"marker\": {\"colorbar\": {\"outlinewidth\": 0, \"ticks\": \"\"}}, \"type\": \"scattergl\"}], \"scattermapbox\": [{\"marker\": {\"colorbar\": {\"outlinewidth\": 0, \"ticks\": \"\"}}, \"type\": \"scattermapbox\"}], \"scatterpolar\": [{\"marker\": {\"colorbar\": {\"outlinewidth\": 0, \"ticks\": \"\"}}, \"type\": \"scatterpolar\"}], \"scatterpolargl\": [{\"marker\": {\"colorbar\": {\"outlinewidth\": 0, \"ticks\": \"\"}}, \"type\": \"scatterpolargl\"}], \"scatterternary\": [{\"marker\": {\"colorbar\": {\"outlinewidth\": 0, \"ticks\": \"\"}}, \"type\": \"scatterternary\"}], \"surface\": [{\"colorbar\": {\"outlinewidth\": 0, \"ticks\": \"\"}, \"colorscale\": [[0.0, \"#0d0887\"], [0.1111111111111111, \"#46039f\"], [0.2222222222222222, \"#7201a8\"], [0.3333333333333333, \"#9c179e\"], [0.4444444444444444, \"#bd3786\"], [0.5555555555555556, \"#d8576b\"], [0.6666666666666666, \"#ed7953\"], [0.7777777777777778, \"#fb9f3a\"], [0.8888888888888888, \"#fdca26\"], [1.0, \"#f0f921\"]], \"type\": \"surface\"}], \"table\": [{\"cells\": {\"fill\": {\"color\": \"#EBF0F8\"}, \"line\": {\"color\": \"white\"}}, \"header\": {\"fill\": {\"color\": \"#C8D4E3\"}, \"line\": {\"color\": \"white\"}}, \"type\": \"table\"}]}, \"layout\": {\"annotationdefaults\": {\"arrowcolor\": \"#2a3f5f\", \"arrowhead\": 0, \"arrowwidth\": 1}, \"autotypenumbers\": \"strict\", \"coloraxis\": {\"colorbar\": {\"outlinewidth\": 0, \"ticks\": \"\"}}, \"colorscale\": {\"diverging\": [[0, \"#8e0152\"], [0.1, \"#c51b7d\"], [0.2, \"#de77ae\"], [0.3, \"#f1b6da\"], [0.4, \"#fde0ef\"], [0.5, \"#f7f7f7\"], [0.6, \"#e6f5d0\"], [0.7, \"#b8e186\"], [0.8, \"#7fbc41\"], [0.9, \"#4d9221\"], [1, \"#276419\"]], \"sequential\": [[0.0, \"#0d0887\"], [0.1111111111111111, \"#46039f\"], [0.2222222222222222, \"#7201a8\"], [0.3333333333333333, \"#9c179e\"], [0.4444444444444444, \"#bd3786\"], [0.5555555555555556, \"#d8576b\"], [0.6666666666666666, \"#ed7953\"], [0.7777777777777778, \"#fb9f3a\"], [0.8888888888888888, \"#fdca26\"], [1.0, \"#f0f921\"]], \"sequentialminus\": [[0.0, \"#0d0887\"], [0.1111111111111111, \"#46039f\"], [0.2222222222222222, \"#7201a8\"], [0.3333333333333333, \"#9c179e\"], [0.4444444444444444, \"#bd3786\"], [0.5555555555555556, \"#d8576b\"], [0.6666666666666666, \"#ed7953\"], [0.7777777777777778, \"#fb9f3a\"], [0.8888888888888888, \"#fdca26\"], [1.0, \"#f0f921\"]]}, \"colorway\": [\"#636efa\", \"#EF553B\", \"#00cc96\", \"#ab63fa\", \"#FFA15A\", \"#19d3f3\", \"#FF6692\", \"#B6E880\", \"#FF97FF\", \"#FECB52\"], \"font\": {\"color\": \"#2a3f5f\"}, \"geo\": {\"bgcolor\": \"white\", \"lakecolor\": \"white\", \"landcolor\": \"#E5ECF6\", \"showlakes\": true, \"showland\": true, \"subunitcolor\": \"white\"}, \"hoverlabel\": {\"align\": \"left\"}, \"hovermode\": \"closest\", \"mapbox\": {\"style\": \"light\"}, \"paper_bgcolor\": \"white\", \"plot_bgcolor\": \"#E5ECF6\", \"polar\": {\"angularaxis\": {\"gridcolor\": \"white\", \"linecolor\": \"white\", \"ticks\": \"\"}, \"bgcolor\": \"#E5ECF6\", \"radialaxis\": {\"gridcolor\": \"white\", \"linecolor\": \"white\", \"ticks\": \"\"}}, \"scene\": {\"xaxis\": {\"backgroundcolor\": \"#E5ECF6\", \"gridcolor\": \"white\", \"gridwidth\": 2, \"linecolor\": \"white\", \"showbackground\": true, \"ticks\": \"\", \"zerolinecolor\": \"white\"}, \"yaxis\": {\"backgroundcolor\": \"#E5ECF6\", \"gridcolor\": \"white\", \"gridwidth\": 2, \"linecolor\": \"white\", \"showbackground\": true, \"ticks\": \"\", \"zerolinecolor\": \"white\"}, \"zaxis\": {\"backgroundcolor\": \"#E5ECF6\", \"gridcolor\": \"white\", \"gridwidth\": 2, \"linecolor\": \"white\", \"showbackground\": true, \"ticks\": \"\", \"zerolinecolor\": \"white\"}}, \"shapedefaults\": {\"line\": {\"color\": \"#2a3f5f\"}}, \"ternary\": {\"aaxis\": {\"gridcolor\": \"white\", \"linecolor\": \"white\", \"ticks\": \"\"}, \"baxis\": {\"gridcolor\": \"white\", \"linecolor\": \"white\", \"ticks\": \"\"}, \"bgcolor\": \"#E5ECF6\", \"caxis\": {\"gridcolor\": \"white\", \"linecolor\": \"white\", \"ticks\": \"\"}}, \"title\": {\"x\": 0.05}, \"xaxis\": {\"automargin\": true, \"gridcolor\": \"white\", \"linecolor\": \"white\", \"ticks\": \"\", \"title\": {\"standoff\": 15}, \"zerolinecolor\": \"white\", \"zerolinewidth\": 2}, \"yaxis\": {\"automargin\": true, \"gridcolor\": \"white\", \"linecolor\": \"white\", \"ticks\": \"\", \"title\": {\"standoff\": 15}, \"zerolinecolor\": \"white\", \"zerolinewidth\": 2}}}, \"xaxis\": {\"anchor\": \"y\", \"domain\": [0.0, 1.0], \"title\": {\"text\": \"department\"}}, \"yaxis\": {\"anchor\": \"x\", \"domain\": [0.0, 1.0], \"title\": {\"text\": \"incentive\"}}},                        {\"responsive\": true}                    ).then(function(){\n",
       "                            \n",
       "var gd = document.getElementById('1a6b66bb-32c4-4879-abb9-a7ac7248bfa6');\n",
       "var x = new MutationObserver(function (mutations, observer) {{\n",
       "        var display = window.getComputedStyle(gd).display;\n",
       "        if (!display || display === 'none') {{\n",
       "            console.log([gd, 'removed!']);\n",
       "            Plotly.purge(gd);\n",
       "            observer.disconnect();\n",
       "        }}\n",
       "}});\n",
       "\n",
       "// Listen for the removal of the full notebook cells\n",
       "var notebookContainer = gd.closest('#notebook-container');\n",
       "if (notebookContainer) {{\n",
       "    x.observe(notebookContainer, {childList: true});\n",
       "}}\n",
       "\n",
       "// Listen for the clearing of the current output cell\n",
       "var outputEl = gd.closest('.output');\n",
       "if (outputEl) {{\n",
       "    x.observe(outputEl, {childList: true});\n",
       "}}\n",
       "\n",
       "                        })                };                });            </script>        </div>"
      ]
     },
     "metadata": {}
    }
   ],
   "metadata": {
    "execution": {
     "iopub.execute_input": "2021-04-10T14:15:12.256049Z",
     "iopub.status.busy": "2021-04-10T14:15:12.253363Z",
     "iopub.status.idle": "2021-04-10T14:15:12.317942Z",
     "shell.execute_reply": "2021-04-10T14:15:12.317328Z"
    },
    "papermill": {
     "duration": 0.139276,
     "end_time": "2021-04-10T14:15:12.318090",
     "exception": false,
     "start_time": "2021-04-10T14:15:12.178814",
     "status": "completed"
    },
    "tags": []
   }
  },
  {
   "cell_type": "markdown",
   "source": [
    "# Over-time vs Teams, department"
   ],
   "metadata": {
    "papermill": {
     "duration": 0.062202,
     "end_time": "2021-04-10T14:15:12.444159",
     "exception": false,
     "start_time": "2021-04-10T14:15:12.381957",
     "status": "completed"
    },
    "tags": []
   }
  },
  {
   "cell_type": "code",
   "execution_count": 33,
   "source": [
    "fig = px.box(df, x=\"department\", y=\"overtime_in_hours\")\n",
    "\n",
    "fig.update_layout(title_text='Overtime spent(in hours) vs Departments',xaxis_title = 'Department',yaxis_title='Overtime in minutes', title_x=0.5,font=dict(\n",
    "        family=\"Courier New, monospace\",\n",
    "        size=18,\n",
    "        color=\"mediumvioletred\"\n",
    "    ))\n",
    "\n",
    "fig.show()"
   ],
   "outputs": [
    {
     "output_type": "display_data",
     "data": {
      "text/html": [
       "<div>                            <div id=\"fe88dd6a-7784-4a96-8dfb-b27c5dee098e\" class=\"plotly-graph-div\" style=\"height:525px; width:100%;\"></div>            <script type=\"text/javascript\">                require([\"plotly\"], function(Plotly) {                    window.PLOTLYENV=window.PLOTLYENV || {};                                    if (document.getElementById(\"fe88dd6a-7784-4a96-8dfb-b27c5dee098e\")) {                    Plotly.newPlot(                        \"fe88dd6a-7784-4a96-8dfb-b27c5dee098e\",                        [{\"alignmentgroup\": \"True\", \"hovertemplate\": \"department=%{x}<br>overtime_in_hours=%{y}<extra></extra>\", \"legendgroup\": \"\", \"marker\": {\"color\": \"#636efa\"}, \"name\": \"\", \"notched\": false, \"offsetgroup\": \"\", \"orientation\": \"v\", \"showlegend\": false, \"type\": \"box\", \"x\": [\"sewing\", \"finishing\", \"sewing\", \"sewing\", \"sewing\", \"sewing\", \"finishing\", \"sewing\", \"sewing\", \"sewing\", \"sewing\", \"sewing\", \"sewing\", \"finishing\", \"finishing\", \"finishing\", \"finishing\", \"sewing\", \"sewing\", \"finishing\", \"finishing\", \"finishing\", \"finishing\", \"finishing\", \"sewing\", \"sewing\", \"sewing\", \"sewing\", \"sewing\", \"sewing\", \"sewing\", \"sewing\", \"sewing\", \"finishing\", \"sewing\", \"finishing\", \"sewing\", \"sewing\", \"finishing\", \"finishing\", \"finishing\", \"finishing\", \"finishing\", \"sewing\", \"finishing\", \"sewing\", \"sewing\", \"sewing\", \"sewing\", \"sewing\", \"sewing\", \"sewing\", \"finishing\", \"finishing\", \"sewing\", \"sewing\", \"sewing\", \"finishing\", \"finishing\", \"sewing\", \"finishing\", \"finishing\", \"finishing\", \"finishing\", \"finishing\", \"sewing\", \"finishing\", \"finishing\", \"sewing\", \"sewing\", \"sewing\", \"sewing\", \"sewing\", \"sewing\", \"sewing\", \"sewing\", \"finishing\", \"finishing\", \"sewing\", \"sewing\", \"finishing\", \"finishing\", \"sewing\", \"finishing\", \"finishing\", \"finishing\", \"finishing\", \"finishing\", \"sewing\", \"sewing\", \"finishing\", \"finishing\", \"sewing\", \"sewing\", \"sewing\", \"sewing\", \"sewing\", \"sewing\", \"sewing\", \"sewing\", \"sewing\", \"finishing\", \"sewing\", \"finishing\", \"finishing\", \"finishing\", \"sewing\", \"sewing\", \"sewing\", \"finishing\", \"finishing\", \"finishing\", \"finishing\", \"finishing\", \"sewing\", \"sewing\", \"sewing\", \"sewing\", \"sewing\", \"sewing\", \"sewing\", \"sewing\", \"finishing\", \"finishing\", \"sewing\", \"finishing\", \"finishing\", \"finishing\", \"sewing\", \"finishing\", \"sewing\", \"sewing\", \"sewing\", \"sewing\", \"finishing\", \"finishing\", \"sewing\", \"sewing\", \"sewing\", \"sewing\", \"sewing\", \"finishing\", \"finishing\", \"finishing\", \"finishing\", \"finishing\", \"sewing\", \"sewing\", \"finishing\", \"finishing\", \"finishing\", \"finishing\", \"sewing\", \"sewing\", \"sewing\", \"finishing\", \"finishing\", \"finishing\", \"sewing\", \"sewing\", \"sewing\", \"sewing\", \"sewing\", \"sewing\", \"sewing\", \"sewing\", \"finishing\", \"finishing\", \"sewing\", \"finishing\", \"finishing\", \"finishing\", \"sewing\", \"finishing\", \"finishing\", \"sewing\", \"sewing\", \"sewing\", \"finishing\", \"finishing\", \"sewing\", \"sewing\", \"sewing\", \"sewing\", \"sewing\", \"finishing\", \"finishing\", \"finishing\", \"sewing\", \"finishing\", \"finishing\", \"sewing\", \"sewing\", \"finishing\", \"finishing\", \"finishing\", \"finishing\", \"finishing\", \"sewing\", \"sewing\", \"sewing\", \"sewing\", \"finishing\", \"finishing\", \"sewing\", \"sewing\", \"sewing\", \"sewing\", \"finishing\", \"sewing\", \"sewing\", \"sewing\", \"finishing\", \"finishing\", \"sewing\", \"finishing\", \"finishing\", \"finishing\", \"finishing\", \"finishing\", \"finishing\", \"sewing\", \"sewing\", \"sewing\", \"sewing\", \"finishing\", \"finishing\", \"sewing\", \"sewing\", \"sewing\", \"sewing\", \"finishing\", \"finishing\", \"finishing\", \"sewing\", \"sewing\", \"sewing\", \"sewing\", \"finishing\", \"finishing\", \"sewing\", \"finishing\", \"finishing\", \"finishing\", \"sewing\", \"sewing\", \"finishing\", \"finishing\", \"sewing\", \"sewing\", \"sewing\", \"sewing\", \"finishing\", \"sewing\", \"sewing\", \"sewing\", \"finishing\", \"sewing\", \"finishing\", \"finishing\", \"finishing\", \"finishing\", \"finishing\", \"finishing\", \"sewing\", \"sewing\", \"sewing\", \"sewing\", \"sewing\", \"sewing\", \"sewing\", \"finishing\", \"sewing\", \"sewing\", \"finishing\", \"sewing\", \"sewing\", \"sewing\", \"finishing\", \"finishing\", \"finishing\", \"finishing\", \"finishing\", \"sewing\", \"sewing\", \"sewing\", \"sewing\", \"sewing\", \"sewing\", \"sewing\", \"sewing\", \"finishing\", \"finishing\", \"sewing\", \"sewing\", \"sewing\", \"finishing\", \"sewing\", \"finishing\", \"finishing\", \"finishing\", \"finishing\", \"sewing\", \"sewing\", \"sewing\", \"sewing\", \"sewing\", \"sewing\", \"finishing\", \"sewing\", \"sewing\", \"sewing\", \"sewing\", \"finishing\", \"sewing\", \"finishing\", \"sewing\", \"finishing\", \"finishing\", \"finishing\", \"finishing\", \"sewing\", \"sewing\", \"sewing\", \"finishing\", \"sewing\", \"sewing\", \"sewing\", \"sewing\", \"sewing\", \"finishing\", \"sewing\", \"sewing\", \"sewing\", \"finishing\", \"finishing\", \"sewing\", \"finishing\", \"sewing\", \"sewing\", \"sewing\", \"sewing\", \"sewing\", \"sewing\", \"sewing\", \"finishing\", \"sewing\", \"sewing\", \"finishing\", \"sewing\", \"sewing\", \"finishing\", \"finishing\", \"finishing\", \"sewing\", \"sewing\", \"finishing\", \"sewing\", \"sewing\", \"sewing\", \"finishing\", \"sewing\", \"sewing\", \"sewing\", \"sewing\", \"sewing\", \"finishing\", \"sewing\", \"finishing\", \"sewing\", \"finishing\", \"finishing\", \"finishing\", \"sewing\", \"sewing\", \"sewing\", \"sewing\", \"sewing\", \"sewing\", \"finishing\", \"sewing\", \"sewing\", \"finishing\", \"finishing\", \"finishing\", \"finishing\", \"sewing\", \"sewing\", \"sewing\", \"sewing\", \"finishing\", \"finishing\", \"finishing\", \"finishing\", \"finishing\", \"finishing\", \"sewing\", \"sewing\", \"finishing\", \"finishing\", \"finishing\", \"finishing\", \"sewing\", \"sewing\", \"sewing\", \"sewing\", \"sewing\", \"sewing\", \"sewing\", \"finishing\", \"sewing\", \"sewing\", \"finishing\", \"finishing\", \"sewing\", \"finishing\", \"finishing\", \"finishing\", \"finishing\", \"finishing\", \"finishing\", \"finishing\", \"sewing\", \"sewing\", \"sewing\", \"sewing\", \"sewing\", \"sewing\", \"finishing\", \"sewing\", \"sewing\", \"sewing\", \"sewing\", \"finishing\", \"sewing\", \"sewing\", \"finishing\", \"finishing\", \"finishing\", \"finishing\", \"finishing\", \"finishing\", \"finishing\", \"sewing\", \"sewing\", \"sewing\", \"sewing\", \"sewing\", \"sewing\", \"finishing\", \"sewing\", \"sewing\", \"sewing\", \"finishing\", \"sewing\", \"sewing\", \"sewing\", \"sewing\", \"finishing\", \"finishing\", \"finishing\", \"sewing\", \"finishing\", \"sewing\", \"finishing\", \"finishing\", \"finishing\", \"sewing\", \"finishing\", \"finishing\", \"sewing\", \"sewing\", \"sewing\", \"sewing\", \"finishing\", \"sewing\", \"sewing\", \"sewing\", \"sewing\", \"finishing\", \"finishing\", \"finishing\", \"sewing\", \"sewing\", \"finishing\", \"sewing\", \"sewing\", \"finishing\", \"sewing\", \"sewing\", \"finishing\", \"finishing\", \"sewing\", \"sewing\", \"sewing\", \"finishing\", \"sewing\", \"finishing\", \"sewing\", \"finishing\", \"sewing\", \"sewing\", \"sewing\", \"finishing\", \"finishing\", \"finishing\", \"finishing\", \"finishing\", \"sewing\", \"sewing\", \"sewing\", \"finishing\", \"sewing\", \"finishing\", \"sewing\", \"sewing\", \"finishing\", \"sewing\", \"sewing\", \"sewing\", \"finishing\", \"finishing\", \"finishing\", \"finishing\", \"finishing\", \"finishing\", \"finishing\", \"finishing\", \"finishing\", \"finishing\", \"finishing\", \"finishing\", \"sewing\", \"sewing\", \"sewing\", \"sewing\", \"sewing\", \"sewing\", \"sewing\", \"sewing\", \"sewing\", \"sewing\", \"finishing\", \"sewing\", \"sewing\", \"finishing\", \"sewing\", \"finishing\", \"finishing\", \"finishing\", \"sewing\", \"sewing\", \"finishing\", \"sewing\", \"sewing\", \"finishing\", \"sewing\", \"sewing\", \"sewing\", \"sewing\", \"finishing\", \"sewing\", \"finishing\", \"sewing\", \"sewing\", \"sewing\", \"finishing\", \"finishing\", \"sewing\", \"sewing\", \"sewing\", \"finishing\", \"sewing\", \"sewing\", \"finishing\", \"finishing\", \"sewing\", \"sewing\", \"finishing\", \"sewing\", \"finishing\", \"sewing\", \"sewing\", \"finishing\", \"finishing\", \"sewing\", \"sewing\", \"finishing\", \"sewing\", \"sewing\", \"finishing\", \"sewing\", \"sewing\", \"sewing\", \"sewing\", \"sewing\", \"finishing\", \"finishing\", \"sewing\", \"sewing\", \"sewing\", \"sewing\", \"sewing\", \"sewing\", \"sewing\", \"sewing\", \"sewing\", \"sewing\", \"sewing\", \"sewing\", \"sewing\", \"sewing\", \"sewing\", \"sewing\", \"finishing\", \"sewing\", \"sewing\", \"sewing\", \"sewing\", \"sewing\", \"sewing\", \"sewing\", \"sewing\", \"sewing\", \"sewing\", \"sewing\", \"sewing\", \"sewing\", \"sewing\", \"sewing\", \"sewing\", \"sewing\", \"sewing\", \"sewing\", \"sewing\", \"sewing\", \"sewing\", \"sewing\", \"sewing\", \"sewing\", \"sewing\", \"sewing\", \"sewing\", \"sewing\", \"sewing\", \"sewing\", \"sewing\", \"sewing\", \"sewing\", \"sewing\", \"sewing\", \"sewing\", \"sewing\", \"sewing\", \"sewing\", \"sewing\", \"sewing\", \"sewing\", \"sewing\", \"sewing\", \"sewing\", \"sewing\", \"sewing\", \"sewing\", \"sewing\", \"sewing\", \"sewing\", \"sewing\", \"sewing\", \"sewing\", \"sewing\", \"sewing\", \"sewing\", \"sewing\", \"sewing\", \"sewing\", \"sewing\", \"sewing\", \"sewing\", \"sewing\", \"sewing\", \"sewing\", \"sewing\", \"sewing\", \"sewing\", \"sewing\", \"sewing\", \"sewing\", \"sewing\", \"sewing\", \"sewing\", \"sewing\", \"sewing\", \"sewing\", \"sewing\", \"sewing\", \"sewing\", \"sewing\", \"sewing\", \"sewing\", \"sewing\", \"sewing\", \"sewing\", \"sewing\", \"sewing\", \"sewing\", \"sewing\", \"sewing\", \"sewing\", \"sewing\", \"sewing\", \"sewing\", \"sewing\", \"sewing\", \"sewing\", \"sewing\", \"sewing\", \"sewing\", \"sewing\", \"sewing\", \"sewing\", \"sewing\", \"sewing\", \"sewing\", \"sewing\", \"sewing\", \"sewing\", \"sewing\", \"sewing\", \"sewing\", \"sewing\", \"sewing\", \"sewing\", \"sewing\", \"sewing\", \"sewing\", \"sewing\", \"sewing\", \"sewing\", \"sewing\", \"sewing\", \"sewing\", \"sewing\", \"sewing\", \"sewing\", \"sewing\", \"sewing\", \"sewing\", \"sewing\", \"sewing\", \"sewing\", \"sewing\", \"sewing\", \"sewing\", \"sewing\", \"sewing\", \"sewing\", \"sewing\", \"sewing\", \"sewing\", \"sewing\", \"sewing\", \"sewing\", \"sewing\", \"sewing\", \"sewing\", \"sewing\", \"sewing\", \"sewing\", \"sewing\", \"sewing\", \"sewing\", \"sewing\", \"sewing\", \"sewing\", \"sewing\", \"sewing\", \"sewing\", \"sewing\", \"sewing\", \"sewing\", \"sewing\", \"sewing\", \"sewing\", \"sewing\", \"sewing\", \"sewing\", \"sewing\", \"sewing\", \"sewing\", \"sewing\", \"sewing\", \"sewing\", \"sewing\", \"sewing\", \"sewing\", \"sewing\", \"sewing\", \"sewing\", \"sewing\", \"sewing\", \"sewing\", \"sewing\", \"sewing\", \"sewing\", \"sewing\", \"sewing\", \"sewing\", \"sewing\", \"sewing\", \"sewing\", \"sewing\", \"sewing\", \"sewing\", \"sewing\", \"sewing\", \"sewing\", \"sewing\", \"sewing\", \"sewing\", \"sewing\", \"sewing\", \"sewing\", \"sewing\", \"sewing\", \"sewing\", \"sewing\", \"sewing\", \"sewing\", \"sewing\", \"sewing\", \"sewing\", \"sewing\", \"sewing\", \"sewing\", \"sewing\", \"sewing\", \"sewing\", \"sewing\", \"sewing\", \"sewing\", \"sewing\", \"sewing\", \"sewing\", \"sewing\", \"sewing\", \"sewing\", \"sewing\", \"sewing\", \"sewing\", \"sewing\", \"sewing\", \"sewing\", \"sewing\", \"sewing\", \"sewing\", \"sewing\", \"sewing\", \"sewing\", \"sewing\", \"sewing\", \"sewing\", \"sewing\", \"sewing\", \"sewing\", \"sewing\", \"sewing\", \"sewing\", \"sewing\", \"sewing\", \"sewing\", \"sewing\", \"sewing\", \"sewing\", \"sewing\", \"sewing\", \"sewing\", \"sewing\", \"sewing\", \"sewing\", \"sewing\", \"sewing\", \"sewing\", \"sewing\", \"sewing\", \"sewing\", \"sewing\", \"sewing\", \"sewing\", \"sewing\", \"sewing\", \"sewing\", \"sewing\", \"sewing\", \"sewing\", \"sewing\", \"sewing\", \"sewing\", \"sewing\", \"sewing\", \"sewing\", \"sewing\", \"sewing\", \"sewing\", \"sewing\", \"sewing\", \"sewing\", \"sewing\", \"sewing\", \"sewing\", \"sewing\", \"sewing\", \"sewing\", \"sewing\", \"sewing\", \"sewing\", \"sewing\", \"sewing\", \"sewing\", \"sewing\", \"sewing\", \"sewing\", \"sewing\", \"sewing\", \"sewing\", \"sewing\", \"sewing\", \"sewing\", \"sewing\", \"sewing\", \"sewing\", \"sewing\", \"sewing\", \"sewing\", \"sewing\", \"sewing\", \"sewing\", \"sewing\", \"sewing\", \"sewing\", \"sewing\", \"sewing\", \"sewing\", \"sewing\", \"sewing\", \"sewing\", \"sewing\", \"sewing\", \"sewing\", \"sewing\", \"sewing\", \"sewing\", \"sewing\", \"sewing\", \"sewing\", \"sewing\", \"sewing\", \"sewing\", \"sewing\", \"sewing\", \"sewing\", \"sewing\", \"sewing\", \"sewing\", \"sewing\", \"sewing\", \"sewing\", \"sewing\", \"sewing\", \"sewing\", \"sewing\", \"sewing\", \"sewing\", \"sewing\", \"sewing\", \"sewing\", \"sewing\", \"sewing\", \"sewing\", \"sewing\", \"sewing\", \"sewing\", \"sewing\", \"sewing\", \"sewing\", \"sewing\", \"sewing\", \"sewing\", \"sewing\", \"sewing\", \"sewing\", \"sewing\", \"sewing\", \"sewing\", \"sewing\", \"sewing\", \"sewing\", \"sewing\", \"sewing\", \"sewing\", \"sewing\", \"sewing\", \"sewing\", \"sewing\", \"sewing\", \"sewing\", \"sewing\", \"sewing\", \"sewing\", \"sewing\", \"sewing\", \"sewing\", \"sewing\", \"sewing\", \"sewing\", \"sewing\", \"sewing\", \"sewing\", \"sewing\", \"sewing\", \"sewing\", \"sewing\", \"sewing\", \"sewing\", \"sewing\", \"sewing\", \"sewing\", \"sewing\", \"sewing\", \"sewing\", \"sewing\", \"sewing\", \"sewing\", \"sewing\", \"sewing\", \"sewing\", \"sewing\", \"sewing\", \"sewing\", \"sewing\", \"sewing\", \"sewing\", \"sewing\", \"sewing\", \"sewing\", \"sewing\", \"sewing\", \"sewing\", \"sewing\", \"sewing\", \"sewing\", \"sewing\", \"sewing\", \"sewing\", \"sewing\", \"sewing\", \"sewing\", \"sewing\", \"sewing\", \"sewing\", \"sewing\", \"sewing\", \"sewing\", \"sewing\", \"sewing\", \"sewing\", \"sewing\", \"sewing\", \"sewing\", \"sewing\", \"sewing\", \"sewing\", \"sewing\", \"sewing\", \"sewing\", \"sewing\", \"sewing\", \"sewing\", \"sewing\", \"sewing\", \"sewing\", \"sewing\", \"sewing\", \"sewing\", \"sewing\", \"sewing\", \"sewing\", \"sewing\", \"sewing\", \"sewing\", \"sewing\", \"sewing\", \"sewing\", \"sewing\", \"sewing\", \"sewing\", \"sewing\", \"sewing\", \"sewing\", \"sewing\", \"sewing\", \"sewing\", \"sewing\", \"sewing\", \"sewing\", \"sewing\", \"sewing\", \"sewing\", \"sewing\", \"sewing\", \"sewing\", \"sewing\", \"sewing\", \"sewing\", \"sewing\", \"sewing\", \"sewing\", \"sewing\", \"sewing\", \"sewing\", \"sewing\", \"sewing\", \"sewing\", \"sewing\", \"sewing\", \"sewing\", \"sewing\", \"sewing\", \"sewing\", \"sewing\", \"sewing\", \"sewing\", \"sewing\", \"sewing\", \"sewing\", \"sewing\", \"sewing\", \"sewing\", \"sewing\", \"sewing\", \"sewing\", \"sewing\", \"sewing\", \"sewing\", \"sewing\", \"sewing\", \"sewing\", \"sewing\", \"sewing\", \"sewing\", \"sewing\", \"sewing\", \"sewing\", \"sewing\", \"sewing\", \"sewing\", \"sewing\", \"sewing\", \"sewing\", \"sewing\", \"sewing\", \"sewing\", \"sewing\", \"sewing\", \"sewing\", \"sewing\", \"sewing\", \"sewing\", \"sewing\", \"sewing\", \"sewing\", \"sewing\", \"sewing\", \"sewing\", \"sewing\", \"sewing\", \"sewing\", \"sewing\", \"sewing\", \"sewing\", \"sewing\", \"sewing\", \"sewing\", \"sewing\", \"sewing\", \"sewing\", \"sewing\", \"sewing\", \"sewing\", \"sewing\", \"sewing\", \"sewing\", \"sewing\", \"sewing\", \"sewing\", \"sewing\", \"sewing\"], \"x0\": \" \", \"xaxis\": \"x\", \"y\": [118.0, 16.0, 61.0, 61.0, 32.0, 112.0, 16.0, 115.0, 100.0, 115.0, 115.0, 108.0, 61.0, 16.0, 16.0, 36.0, 16.0, 120.0, 24.0, 110.0, 94.0, 16.0, 26.0, 16.0, 105.0, 109.0, 118.0, 118.0, 118.0, 118.0, 112.0, 112.0, 108.0, 16.0, 110.0, 16.0, 230.0, 115.0, 16.0, 16.0, 26.0, 16.0, 16.0, 116.25, 110.0, 118.0, 117.0, 113.0, 71.0, 118.0, 111.0, 116.25, 16.0, 72.0, 108.0, 110.0, 115.0, 16.0, 16.0, 116.0, 16.0, 32.0, 40.0, 64.0, 32.0, 118.0, 32.0, 16.0, 113.0, 113.0, 118.0, 80.0, 120.0, 120.0, 115.0, 115.0, 16.0, 16.0, 117.0, 110.0, 16.0, 16.0, 116.0, 74.0, 24.0, 30.0, 45.0, 24.0, 177.0, 177.0, 24.0, 24.0, 172.5, 172.5, 165.0, 88.5, 169.5, 169.5, 74.5, 175.5, 165.0, 24.0, 174.0, 24.0, 24.0, 24.0, 177.0, 177.0, 169.5, 45.0, 74.0, 24.0, 24.0, 24.0, 172.5, 172.5, 91.5, 165.0, 94.5, 169.5, 175.5, 162.0, 24.0, 30.0, 165.0, 24.0, 24.0, 210.0, 177.0, 24.0, 177.0, 175.5, 169.5, 169.5, 24.0, 64.0, 167.5, 165.0, 252.0, 244.0, 175.5, 24.0, 24.0, 36.0, 24.0, 15.0, 432.0, 171.0, 36.0, 46.0, 100.0, 24.0, 177.0, 169.5, 169.5, 24.0, 24.0, 24.0, 174.0, 172.5, 78.5, 91.5, 177.0, 175.5, 118.0, 159.0, 24.0, 24.0, 128.0, 24.0, 24.0, 60.0, 177.0, 24.0, 24.0, 177.0, 169.5, 169.5, 24.0, 24.0, 91.5, 94.5, 175.5, 175.5, 107.0, 24.0, 24.0, 24.0, 159.0, 24.0, 24.0, 174.0, 133.0, 24.0, 54.0, 30.0, 24.0, 24.0, 137.0, 177.0, 169.5, 169.5, 24.0, 24.0, 165.0, 94.5, 74.5, 175.5, 24.0, 115.5, 141.0, 159.0, 24.0, 24.0, 122.5, 24.0, 36.0, 24.0, 90.0, 27.0, 24.0, 177.0, 177.0, 171.0, 169.5, 24.0, 24.0, 94.5, 94.5, 175.5, 165.0, 24.0, 24.0, 24.0, 159.0, 174.0, 169.5, 169.5, 33.0, 45.0, 169.5, 24.0, 24.0, 24.0, 177.0, 169.5, 24.0, 24.0, 49.5, 94.5, 177.0, 122.0, 24.0, 85.0, 56.5, 120.0, 21.0, 71.0, 21.0, 60.0, 57.0, 24.0, 24.0, 24.0, 177.0, 149.5, 169.5, 177.0, 82.5, 82.5, 174.0, 24.0, 169.5, 168.0, 24.0, 169.5, 165.0, 163.5, 45.0, 30.0, 24.0, 24.0, 30.0, 91.5, 94.5, 169.5, 169.5, 177.0, 177.0, 109.5, 169.5, 24.0, 24.0, 162.0, 169.5, 168.0, 15.0, 174.0, 21.0, 24.0, 36.0, 30.0, 91.5, 169.5, 169.5, 61.0, 169.5, 168.0, 24.0, 94.5, 169.5, 171.0, 169.5, 24.0, 174.0, 30.0, 172.5, 24.0, 84.0, 30.0, 24.0, 73.0, 60.5, 177.0, 24.0, 169.5, 171.0, 169.5, 168.0, 171.0, 24.0, 138.0, 171.0, 169.5, 24.0, 24.0, 102.0, 24.0, 93.0, 169.5, 177.0, 171.0, 168.0, 141.0, 171.0, 30.0, 171.0, 171.0, 24.0, 62.0, 168.0, 45.0, 100.0, 85.0, 168.0, 96.0, 40.0, 124.5, 175.0, 168.0, 40.0, 174.0, 171.0, 171.0, 171.0, 106.0, 40.0, 69.0, 40.0, 168.0, 45.0, 100.0, 140.0, 168.0, 177.0, 106.0, 168.0, 203.0, 171.0, 150.0, 174.0, 171.0, 150.0, 250.0, 250.0, 80.0, 116.0, 171.0, 179.5, 174.0, 200.0, 80.0, 90.0, 45.0, 30.0, 27.0, 171.0, 171.0, 30.0, 24.0, 36.0, 27.0, 171.0, 168.0, 94.0, 171.0, 102.0, 171.0, 174.0, 36.0, 169.5, 111.0, 24.0, 24.0, 156.0, 24.0, 51.0, 24.0, 24.0, 27.0, 57.0, 36.0, 171.0, 175.5, 175.5, 172.5, 96.0, 168.0, 42.0, 169.5, 102.0, 174.0, 174.0, 27.0, 171.0, 12.0, 12.0, 30.0, 63.0, 36.0, 45.0, 30.0, 30.0, 169.5, 96.0, 171.0, 171.0, 174.0, 168.0, 27.0, 172.0, 174.0, 102.0, 24.0, 6.0, 171.0, 114.0, 114.0, 24.0, 24.0, 24.0, 112.0, 24.0, 113.0, 16.0, 18.0, 16.0, 116.0, 20.0, 20.0, 116.0, 68.0, 4.0, 64.0, 16.0, 116.0, 108.0, 114.0, 114.0, 30.0, 20.0, 30.0, 112.0, 116.0, 20.0, 116.0, 113.0, 18.0, 116.0, 60.0, 24.0, 16.0, 98.0, 104.0, 30.0, 16.0, 110.0, 16.0, 114.0, 20.0, 114.0, 115.0, 112.0, 20.0, 16.0, 16.0, 20.0, 20.0, 116.0, 116.0, 118.0, 20.0, 70.0, 18.0, 72.0, 66.0, 16.0, 110.0, 116.0, 114.0, 20.0, 16.0, 20.0, 20.0, 30.0, 4.0, 18.0, 4.0, 20.0, 16.0, 10.0, 20.0, 112.0, 111.0, 114.0, 116.0, 70.0, 98.0, 108.0, 66.0, 112.0, 108.0, 16.0, 115.0, 51.0, 38.0, 114.0, 20.0, 36.0, 20.0, 112.0, 117.0, 24.0, 116.0, 24.0, 18.0, 102.0, 66.0, 110.0, 112.0, 20.0, 117.0, 16.0, 117.0, 114.0, 112.0, 20.0, 24.0, 60.0, 99.0, 116.0, 18.0, 108.0, 66.0, 16.0, 38.0, 116.0, 112.0, 20.0, 110.0, 40.0, 115.0, 112.0, 20.0, 16.0, 114.0, 116.0, 22.0, 91.0, 34.0, 18.0, 116.0, 96.0, 67.0, 111.0, 112.0, 24.0, 16.0, 116.0, 115.0, 114.0, 112.0, 36.0, 20.0, 50.0, 115.0, 68.0, 116.0, 16.0, 16.0, 56.0, 116.0, 102.0, 114.0, 18.0, 97.0, 16.0, 101.0, 113.0, 115.0, 112.0, 44.0, 114.0, 16.0, 18.0, 20.0, 24.0, 12.0, 116.0, 16.0, 42.0, 46.0, 116.0, 116.0, 106.0, 114.0, 50.0, 115.0, 114.0, 113.0, 112.0, 18.0, 20.0, 16.0, 68.0, 116.0, 16.0, 26.0, 54.0, 20.0, 116.0, 113.0, 125.0, 16.0, 114.0, 115.0, 24.0, 112.0, 113.0, 112.0, 20.0, 18.0, 36.0, 30.0, 48.0, 116.0, 66.0, 54.0, 117.0, 16.0, 16.0, 113.0, 116.0, 114.0, 36.0, 20.0, 2.0, 60.0, 6.0, 16.0, 68.0, 90.0, 116.0, 55.0, 0.0, 30.0, 117.0, 16.0, 68.0, 116.0, 116.0, 18.0, 18.0, 36.0, 0.0, 0.0, 0.0, 0.0, 24.0, 36.0, 68.0, 30.0, 40.0, 54.0, 117.0, 16.0, 117.0, 16.0, 16.0, 116.0, 116.0, 30.0, 18.0, 0.0, 0.0, 24.0, 36.0, 4.0, 0.0, 58.0, 68.0, 54.0, 123.0, 76.0, 99.0, 24.0, 56.0, 16.0, 114.0, 54.0, 0.0, 30.0, 0.0, 18.0, 68.0, 24.0, 118.0, 66.0, 24.0, 16.0, 118.0, 36.0, 4.0, 118.0, 38.0, 116.0, 118.0, 100.0, 116.0, 114.0, 30.0, 40.0, 18.0, 68.0, 61.0, 24.0, 119.0, 119.0, 16.0, 86.0, 120.0, 38.0, 68.0, 116.0, 16.0, 16.0, 16.0, 16.0, 114.0, 18.0, 24.0, 4.0, 119.0, 20.0, 118.0, 98.0, 68.0, 44.0, 16.0, 16.0, 119.0, 116.0, 115.0, 40.0, 88.0, 114.0, 20.0, 18.0, 16.0, 10.0, 0.0, 62.0, 16.0, 66.0, 117.0, 30.0, 10.0, 20.0, 118.0, 36.0, 88.0, 90.0, 30.0, 114.0, 16.0, 20.0, 18.0, 68.0, 30.0, 56.0, 117.0, 16.0, 14.0, 57.0, 116.0, 16.0, 119.0, 92.0, 0.0, 16.0, 30.0, 112.0, 0.0, 20.0, 24.0, 24.0, 56.0, 8.0, 0.0, 68.0, 66.0, 66.0, 38.0, 16.0, 0.0, 76.0, 16.0, 16.0, 16.0, 16.0, 114.0, 94.0, 16.0, 76.0, 48.0, 18.0, 64.0, 117.0, 10.0, 72.0, 66.0, 40.0, 60.0, 116.0, 58.0, 104.0, 32.0, 32.0, 102.0, 32.0, 0.0, 36.0, 114.0, 96.0, 30.0, 16.0, 80.0, 48.0, 68.0, 97.0, 40.0, 40.0, 66.0, 48.0, 114.0, 114.0, 58.0, 54.0, 136.0, 100.0, 116.0, 16.0, 95.0, 16.0, 40.0, 16.0, 18.0, 36.0, 68.0, 119.0, 119.0, 116.0, 66.0, 47.0, 36.0, 114.0, 116.0, 100.0, 100.0, 16.0, 16.0, 16.0, 16.0, 30.0, 24.0, 68.0, 119.0, 108.0, 16.0, 94.0, 56.0, 56.0, 89.0, 30.0, 30.0, 28.0, 76.0, 50.0, 16.0, 106.0, 16.0, 84.0, 104.0, 18.0, 40.0, 30.0, 20.0, 68.0, 68.0, 118.0, 66.0, 56.0, 116.0, 116.0, 66.0, 104.0, 16.0, 16.0, 20.0, 84.0, 16.0, 16.0, 16.0, 105.0, 126.0, 68.0, 47.0, 68.0, 56.0, 66.0, 114.0, 94.0, 116.0, 54.0, 116.0, 63.0, 16.0, 118.0, 114.0, 56.0, 16.0, 110.0, 56.0, 56.0, 105.0, 126.0, 0.0, 28.333333333333332, 14.0, 56.0, 74.0, 66.0, 76.0, 104.0, 102.0, 76.0, 63.0, 16.0, 114.0, 114.0, 116.0, 56.0, 16.0, 56.0, 56.0, 175.0, 56.0, 68.0, 104.0, 66.0, 114.0, 104.0, 112.0, 94.0, 114.0, 30.0, 0.0, 16.0, 56.0, 114.0, 16.0, 116.0, 56.0, 16.0, 56.0, 20.0, 168.0, 16.0, 114.0, 68.0, 20.0, 0.0, 78.0, 118.0, 56.0, 48.0, 114.0, 104.0, 113.0, 112.0, 60.0, 56.0, 63.0, 56.0, 56.0, 70.0, 105.0, 0.0, 116.0, 68.0, 114.0, 118.0, 116.0, 114.0, 104.0, 52.0, 56.0, 114.0, 84.0, 63.0, 105.0, 56.0, 56.0, 56.0, 56.0, 56.0, 90.0, 20.0, 16.0, 18.0, 16.0, 16.0, 16.0, 0.0, 68.0, 114.0, 66.0, 116.0, 116.0, 104.0, 116.0, 96.0, 140.0, 16.0, 16.0, 114.0, 92.0, 66.0, 44.0, 16.0, 20.0, 18.0, 16.0, 16.0, 30.0, 57.0, 30.0, 68.0, 116.0, 104.0, 118.0, 116.0, 100.0, 22.0, 16.0, 20.0, 44.0, 18.0, 68.0, 136.0, 100.0, 40.0, 116.0, 114.0, 57.0, 16.0, 58.0, 100.0, 16.0, 16.0, 16.0, 70.0, 60.0, 32.0, 38.0, 116.0, 24.0, 18.0, 18.0, 16.0, 16.0, 20.0, 16.0, 114.0, 116.0, 56.0, 68.0, 57.0, 16.0, 94.0, 100.0, 80.0, 42.0, 112.0, 118.0, 16.0, 16.0, 16.0, 0.0, 0.0, 0.0, 117.0, 119.0, 0.0, 86.0, 68.0, 57.0, 0.0, 0.0, 0.0, 104.0, 92.0, 100.0, 0.0, 76.0, 112.0, 118.0, 110.0, 0.0, 0.0, 18.0, 24.0, 118.0, 24.0, 16.0, 16.0, 98.0, 30.0, 68.0, 116.0, 57.0, 16.0, 100.0, 104.0, 16.0, 114.0, 76.0, 90.0, 118.0, 114.0, 16.0, 16.0, 16.0, 36.0, 40.0, 32.0, 32.0, 32.0, 68.0, 116.0, 57.0, 32.0, 24.0, 100.0, 84.0, 90.0, 118.0, 118.0, 116.0, 114.0, 76.0, 114.0, 16.0, 16.0, 16.0, 30.0, 12.0], \"y0\": \" \", \"yaxis\": \"y\"}],                        {\"boxmode\": \"group\", \"font\": {\"color\": \"mediumvioletred\", \"family\": \"Courier New, monospace\", \"size\": 18}, \"legend\": {\"tracegroupgap\": 0}, \"margin\": {\"t\": 60}, \"template\": {\"data\": {\"bar\": [{\"error_x\": {\"color\": \"#2a3f5f\"}, \"error_y\": {\"color\": \"#2a3f5f\"}, \"marker\": {\"line\": {\"color\": \"#E5ECF6\", \"width\": 0.5}}, \"type\": \"bar\"}], \"barpolar\": [{\"marker\": {\"line\": {\"color\": \"#E5ECF6\", \"width\": 0.5}}, \"type\": \"barpolar\"}], \"carpet\": [{\"aaxis\": {\"endlinecolor\": \"#2a3f5f\", \"gridcolor\": \"white\", \"linecolor\": \"white\", \"minorgridcolor\": \"white\", \"startlinecolor\": \"#2a3f5f\"}, \"baxis\": {\"endlinecolor\": \"#2a3f5f\", \"gridcolor\": \"white\", \"linecolor\": \"white\", \"minorgridcolor\": \"white\", \"startlinecolor\": \"#2a3f5f\"}, \"type\": \"carpet\"}], \"choropleth\": [{\"colorbar\": {\"outlinewidth\": 0, \"ticks\": \"\"}, \"type\": \"choropleth\"}], \"contour\": [{\"colorbar\": {\"outlinewidth\": 0, \"ticks\": \"\"}, \"colorscale\": [[0.0, \"#0d0887\"], [0.1111111111111111, \"#46039f\"], [0.2222222222222222, \"#7201a8\"], [0.3333333333333333, \"#9c179e\"], [0.4444444444444444, \"#bd3786\"], [0.5555555555555556, \"#d8576b\"], [0.6666666666666666, \"#ed7953\"], [0.7777777777777778, \"#fb9f3a\"], [0.8888888888888888, \"#fdca26\"], [1.0, \"#f0f921\"]], \"type\": \"contour\"}], \"contourcarpet\": [{\"colorbar\": {\"outlinewidth\": 0, \"ticks\": \"\"}, \"type\": \"contourcarpet\"}], \"heatmap\": [{\"colorbar\": {\"outlinewidth\": 0, \"ticks\": \"\"}, \"colorscale\": [[0.0, \"#0d0887\"], [0.1111111111111111, \"#46039f\"], [0.2222222222222222, \"#7201a8\"], [0.3333333333333333, \"#9c179e\"], [0.4444444444444444, \"#bd3786\"], [0.5555555555555556, \"#d8576b\"], [0.6666666666666666, \"#ed7953\"], [0.7777777777777778, \"#fb9f3a\"], [0.8888888888888888, \"#fdca26\"], [1.0, \"#f0f921\"]], \"type\": \"heatmap\"}], \"heatmapgl\": [{\"colorbar\": {\"outlinewidth\": 0, \"ticks\": \"\"}, \"colorscale\": [[0.0, \"#0d0887\"], [0.1111111111111111, \"#46039f\"], [0.2222222222222222, \"#7201a8\"], [0.3333333333333333, \"#9c179e\"], [0.4444444444444444, \"#bd3786\"], [0.5555555555555556, \"#d8576b\"], [0.6666666666666666, \"#ed7953\"], [0.7777777777777778, \"#fb9f3a\"], [0.8888888888888888, \"#fdca26\"], [1.0, \"#f0f921\"]], \"type\": \"heatmapgl\"}], \"histogram\": [{\"marker\": {\"colorbar\": {\"outlinewidth\": 0, \"ticks\": \"\"}}, \"type\": \"histogram\"}], \"histogram2d\": [{\"colorbar\": {\"outlinewidth\": 0, \"ticks\": \"\"}, \"colorscale\": [[0.0, \"#0d0887\"], [0.1111111111111111, \"#46039f\"], [0.2222222222222222, \"#7201a8\"], [0.3333333333333333, \"#9c179e\"], [0.4444444444444444, \"#bd3786\"], [0.5555555555555556, \"#d8576b\"], [0.6666666666666666, \"#ed7953\"], [0.7777777777777778, \"#fb9f3a\"], [0.8888888888888888, \"#fdca26\"], [1.0, \"#f0f921\"]], \"type\": \"histogram2d\"}], \"histogram2dcontour\": [{\"colorbar\": {\"outlinewidth\": 0, \"ticks\": \"\"}, \"colorscale\": [[0.0, \"#0d0887\"], [0.1111111111111111, \"#46039f\"], [0.2222222222222222, \"#7201a8\"], [0.3333333333333333, \"#9c179e\"], [0.4444444444444444, \"#bd3786\"], [0.5555555555555556, \"#d8576b\"], [0.6666666666666666, \"#ed7953\"], [0.7777777777777778, \"#fb9f3a\"], [0.8888888888888888, \"#fdca26\"], [1.0, \"#f0f921\"]], \"type\": \"histogram2dcontour\"}], \"mesh3d\": [{\"colorbar\": {\"outlinewidth\": 0, \"ticks\": \"\"}, \"type\": \"mesh3d\"}], \"parcoords\": [{\"line\": {\"colorbar\": {\"outlinewidth\": 0, \"ticks\": \"\"}}, \"type\": \"parcoords\"}], \"pie\": [{\"automargin\": true, \"type\": \"pie\"}], \"scatter\": [{\"marker\": {\"colorbar\": {\"outlinewidth\": 0, \"ticks\": \"\"}}, \"type\": \"scatter\"}], \"scatter3d\": [{\"line\": {\"colorbar\": {\"outlinewidth\": 0, \"ticks\": \"\"}}, \"marker\": {\"colorbar\": {\"outlinewidth\": 0, \"ticks\": \"\"}}, \"type\": \"scatter3d\"}], \"scattercarpet\": [{\"marker\": {\"colorbar\": {\"outlinewidth\": 0, \"ticks\": \"\"}}, \"type\": \"scattercarpet\"}], \"scattergeo\": [{\"marker\": {\"colorbar\": {\"outlinewidth\": 0, \"ticks\": \"\"}}, \"type\": \"scattergeo\"}], \"scattergl\": [{\"marker\": {\"colorbar\": {\"outlinewidth\": 0, \"ticks\": \"\"}}, \"type\": \"scattergl\"}], \"scattermapbox\": [{\"marker\": {\"colorbar\": {\"outlinewidth\": 0, \"ticks\": \"\"}}, \"type\": \"scattermapbox\"}], \"scatterpolar\": [{\"marker\": {\"colorbar\": {\"outlinewidth\": 0, \"ticks\": \"\"}}, \"type\": \"scatterpolar\"}], \"scatterpolargl\": [{\"marker\": {\"colorbar\": {\"outlinewidth\": 0, \"ticks\": \"\"}}, \"type\": \"scatterpolargl\"}], \"scatterternary\": [{\"marker\": {\"colorbar\": {\"outlinewidth\": 0, \"ticks\": \"\"}}, \"type\": \"scatterternary\"}], \"surface\": [{\"colorbar\": {\"outlinewidth\": 0, \"ticks\": \"\"}, \"colorscale\": [[0.0, \"#0d0887\"], [0.1111111111111111, \"#46039f\"], [0.2222222222222222, \"#7201a8\"], [0.3333333333333333, \"#9c179e\"], [0.4444444444444444, \"#bd3786\"], [0.5555555555555556, \"#d8576b\"], [0.6666666666666666, \"#ed7953\"], [0.7777777777777778, \"#fb9f3a\"], [0.8888888888888888, \"#fdca26\"], [1.0, \"#f0f921\"]], \"type\": \"surface\"}], \"table\": [{\"cells\": {\"fill\": {\"color\": \"#EBF0F8\"}, \"line\": {\"color\": \"white\"}}, \"header\": {\"fill\": {\"color\": \"#C8D4E3\"}, \"line\": {\"color\": \"white\"}}, \"type\": \"table\"}]}, \"layout\": {\"annotationdefaults\": {\"arrowcolor\": \"#2a3f5f\", \"arrowhead\": 0, \"arrowwidth\": 1}, \"autotypenumbers\": \"strict\", \"coloraxis\": {\"colorbar\": {\"outlinewidth\": 0, \"ticks\": \"\"}}, \"colorscale\": {\"diverging\": [[0, \"#8e0152\"], [0.1, \"#c51b7d\"], [0.2, \"#de77ae\"], [0.3, \"#f1b6da\"], [0.4, \"#fde0ef\"], [0.5, \"#f7f7f7\"], [0.6, \"#e6f5d0\"], [0.7, \"#b8e186\"], [0.8, \"#7fbc41\"], [0.9, \"#4d9221\"], [1, \"#276419\"]], \"sequential\": [[0.0, \"#0d0887\"], [0.1111111111111111, \"#46039f\"], [0.2222222222222222, \"#7201a8\"], [0.3333333333333333, \"#9c179e\"], [0.4444444444444444, \"#bd3786\"], [0.5555555555555556, \"#d8576b\"], [0.6666666666666666, \"#ed7953\"], [0.7777777777777778, \"#fb9f3a\"], [0.8888888888888888, \"#fdca26\"], [1.0, \"#f0f921\"]], \"sequentialminus\": [[0.0, \"#0d0887\"], [0.1111111111111111, \"#46039f\"], [0.2222222222222222, \"#7201a8\"], [0.3333333333333333, \"#9c179e\"], [0.4444444444444444, \"#bd3786\"], [0.5555555555555556, \"#d8576b\"], [0.6666666666666666, \"#ed7953\"], [0.7777777777777778, \"#fb9f3a\"], [0.8888888888888888, \"#fdca26\"], [1.0, \"#f0f921\"]]}, \"colorway\": [\"#636efa\", \"#EF553B\", \"#00cc96\", \"#ab63fa\", \"#FFA15A\", \"#19d3f3\", \"#FF6692\", \"#B6E880\", \"#FF97FF\", \"#FECB52\"], \"font\": {\"color\": \"#2a3f5f\"}, \"geo\": {\"bgcolor\": \"white\", \"lakecolor\": \"white\", \"landcolor\": \"#E5ECF6\", \"showlakes\": true, \"showland\": true, \"subunitcolor\": \"white\"}, \"hoverlabel\": {\"align\": \"left\"}, \"hovermode\": \"closest\", \"mapbox\": {\"style\": \"light\"}, \"paper_bgcolor\": \"white\", \"plot_bgcolor\": \"#E5ECF6\", \"polar\": {\"angularaxis\": {\"gridcolor\": \"white\", \"linecolor\": \"white\", \"ticks\": \"\"}, \"bgcolor\": \"#E5ECF6\", \"radialaxis\": {\"gridcolor\": \"white\", \"linecolor\": \"white\", \"ticks\": \"\"}}, \"scene\": {\"xaxis\": {\"backgroundcolor\": \"#E5ECF6\", \"gridcolor\": \"white\", \"gridwidth\": 2, \"linecolor\": \"white\", \"showbackground\": true, \"ticks\": \"\", \"zerolinecolor\": \"white\"}, \"yaxis\": {\"backgroundcolor\": \"#E5ECF6\", \"gridcolor\": \"white\", \"gridwidth\": 2, \"linecolor\": \"white\", \"showbackground\": true, \"ticks\": \"\", \"zerolinecolor\": \"white\"}, \"zaxis\": {\"backgroundcolor\": \"#E5ECF6\", \"gridcolor\": \"white\", \"gridwidth\": 2, \"linecolor\": \"white\", \"showbackground\": true, \"ticks\": \"\", \"zerolinecolor\": \"white\"}}, \"shapedefaults\": {\"line\": {\"color\": \"#2a3f5f\"}}, \"ternary\": {\"aaxis\": {\"gridcolor\": \"white\", \"linecolor\": \"white\", \"ticks\": \"\"}, \"baxis\": {\"gridcolor\": \"white\", \"linecolor\": \"white\", \"ticks\": \"\"}, \"bgcolor\": \"#E5ECF6\", \"caxis\": {\"gridcolor\": \"white\", \"linecolor\": \"white\", \"ticks\": \"\"}}, \"title\": {\"x\": 0.05}, \"xaxis\": {\"automargin\": true, \"gridcolor\": \"white\", \"linecolor\": \"white\", \"ticks\": \"\", \"title\": {\"standoff\": 15}, \"zerolinecolor\": \"white\", \"zerolinewidth\": 2}, \"yaxis\": {\"automargin\": true, \"gridcolor\": \"white\", \"linecolor\": \"white\", \"ticks\": \"\", \"title\": {\"standoff\": 15}, \"zerolinecolor\": \"white\", \"zerolinewidth\": 2}}}, \"title\": {\"text\": \"Overtime spent(in hours) vs Departments\", \"x\": 0.5}, \"xaxis\": {\"anchor\": \"y\", \"domain\": [0.0, 1.0], \"title\": {\"text\": \"Department\"}}, \"yaxis\": {\"anchor\": \"x\", \"domain\": [0.0, 1.0], \"title\": {\"text\": \"Overtime in minutes\"}}},                        {\"responsive\": true}                    ).then(function(){\n",
       "                            \n",
       "var gd = document.getElementById('fe88dd6a-7784-4a96-8dfb-b27c5dee098e');\n",
       "var x = new MutationObserver(function (mutations, observer) {{\n",
       "        var display = window.getComputedStyle(gd).display;\n",
       "        if (!display || display === 'none') {{\n",
       "            console.log([gd, 'removed!']);\n",
       "            Plotly.purge(gd);\n",
       "            observer.disconnect();\n",
       "        }}\n",
       "}});\n",
       "\n",
       "// Listen for the removal of the full notebook cells\n",
       "var notebookContainer = gd.closest('#notebook-container');\n",
       "if (notebookContainer) {{\n",
       "    x.observe(notebookContainer, {childList: true});\n",
       "}}\n",
       "\n",
       "// Listen for the clearing of the current output cell\n",
       "var outputEl = gd.closest('.output');\n",
       "if (outputEl) {{\n",
       "    x.observe(outputEl, {childList: true});\n",
       "}}\n",
       "\n",
       "                        })                };                });            </script>        </div>"
      ]
     },
     "metadata": {}
    }
   ],
   "metadata": {
    "execution": {
     "iopub.execute_input": "2021-04-10T14:15:12.590016Z",
     "iopub.status.busy": "2021-04-10T14:15:12.589330Z",
     "iopub.status.idle": "2021-04-10T14:15:12.652570Z",
     "shell.execute_reply": "2021-04-10T14:15:12.651909Z"
    },
    "papermill": {
     "duration": 0.145333,
     "end_time": "2021-04-10T14:15:12.652826",
     "exception": false,
     "start_time": "2021-04-10T14:15:12.507493",
     "status": "completed"
    },
    "tags": []
   }
  },
  {
   "cell_type": "markdown",
   "source": [
    "**the median value of financing department working overtime is 1 day , it is not paid incentive, while sewing department works 4 days as overtime**"
   ],
   "metadata": {
    "papermill": {
     "duration": 0.063768,
     "end_time": "2021-04-10T14:15:12.780880",
     "exception": false,
     "start_time": "2021-04-10T14:15:12.717112",
     "status": "completed"
    },
    "tags": []
   }
  },
  {
   "cell_type": "markdown",
   "source": [
    "# Work in progress in departments, teams, quarters"
   ],
   "metadata": {
    "papermill": {
     "duration": 0.070143,
     "end_time": "2021-04-10T14:15:12.915022",
     "exception": false,
     "start_time": "2021-04-10T14:15:12.844879",
     "status": "completed"
    },
    "tags": []
   }
  },
  {
   "cell_type": "code",
   "execution_count": 34,
   "source": [
    "fig = px.box(df, x=\"department\", y=\"wip\")\n",
    "fig.show()"
   ],
   "outputs": [
    {
     "output_type": "display_data",
     "data": {
      "text/html": [
       "<div>                            <div id=\"a7b2bc8b-6ced-40fb-853f-0d88334b472c\" class=\"plotly-graph-div\" style=\"height:525px; width:100%;\"></div>            <script type=\"text/javascript\">                require([\"plotly\"], function(Plotly) {                    window.PLOTLYENV=window.PLOTLYENV || {};                                    if (document.getElementById(\"a7b2bc8b-6ced-40fb-853f-0d88334b472c\")) {                    Plotly.newPlot(                        \"a7b2bc8b-6ced-40fb-853f-0d88334b472c\",                        [{\"alignmentgroup\": \"True\", \"hovertemplate\": \"department=%{x}<br>wip=%{y}<extra></extra>\", \"legendgroup\": \"\", \"marker\": {\"color\": \"#636efa\"}, \"name\": \"\", \"notched\": false, \"offsetgroup\": \"\", \"orientation\": \"v\", \"showlegend\": false, \"type\": \"box\", \"x\": [\"sewing\", \"finishing\", \"sewing\", \"sewing\", \"sewing\", \"sewing\", \"finishing\", \"sewing\", \"sewing\", \"sewing\", \"sewing\", \"sewing\", \"sewing\", \"finishing\", \"finishing\", \"finishing\", \"finishing\", \"sewing\", \"sewing\", \"finishing\", \"finishing\", \"finishing\", \"finishing\", \"finishing\", \"sewing\", \"sewing\", \"sewing\", \"sewing\", \"sewing\", \"sewing\", \"sewing\", \"sewing\", \"sewing\", \"finishing\", \"sewing\", \"finishing\", \"sewing\", \"sewing\", \"finishing\", \"finishing\", \"finishing\", \"finishing\", \"finishing\", \"sewing\", \"finishing\", \"sewing\", \"sewing\", \"sewing\", \"sewing\", \"sewing\", \"sewing\", \"sewing\", \"finishing\", \"finishing\", \"sewing\", \"sewing\", \"sewing\", \"finishing\", \"finishing\", \"sewing\", \"finishing\", \"finishing\", \"finishing\", \"finishing\", \"finishing\", \"sewing\", \"finishing\", \"finishing\", \"sewing\", \"sewing\", \"sewing\", \"sewing\", \"sewing\", \"sewing\", \"sewing\", \"sewing\", \"finishing\", \"finishing\", \"sewing\", \"sewing\", \"finishing\", \"finishing\", \"sewing\", \"finishing\", \"finishing\", \"finishing\", \"finishing\", \"finishing\", \"sewing\", \"sewing\", \"finishing\", \"finishing\", \"sewing\", \"sewing\", \"sewing\", \"sewing\", \"sewing\", \"sewing\", \"sewing\", \"sewing\", \"sewing\", \"finishing\", \"sewing\", \"finishing\", \"finishing\", \"finishing\", \"sewing\", \"sewing\", \"sewing\", \"finishing\", \"finishing\", \"finishing\", \"finishing\", \"finishing\", \"sewing\", \"sewing\", \"sewing\", \"sewing\", \"sewing\", \"sewing\", \"sewing\", \"sewing\", \"finishing\", \"finishing\", \"sewing\", \"finishing\", \"finishing\", \"finishing\", \"sewing\", \"finishing\", \"sewing\", \"sewing\", \"sewing\", \"sewing\", \"finishing\", \"finishing\", \"sewing\", \"sewing\", \"sewing\", \"sewing\", \"sewing\", \"finishing\", \"finishing\", \"finishing\", \"finishing\", \"finishing\", \"sewing\", \"sewing\", \"finishing\", \"finishing\", \"finishing\", \"finishing\", \"sewing\", \"sewing\", \"sewing\", \"finishing\", \"finishing\", \"finishing\", \"sewing\", \"sewing\", \"sewing\", \"sewing\", \"sewing\", \"sewing\", \"sewing\", \"sewing\", \"finishing\", \"finishing\", \"sewing\", \"finishing\", \"finishing\", \"finishing\", \"sewing\", \"finishing\", \"finishing\", \"sewing\", \"sewing\", \"sewing\", \"finishing\", \"finishing\", \"sewing\", \"sewing\", \"sewing\", \"sewing\", \"sewing\", \"finishing\", \"finishing\", \"finishing\", \"sewing\", \"finishing\", \"finishing\", \"sewing\", \"sewing\", \"finishing\", \"finishing\", \"finishing\", \"finishing\", \"finishing\", \"sewing\", \"sewing\", \"sewing\", \"sewing\", \"finishing\", \"finishing\", \"sewing\", \"sewing\", \"sewing\", \"sewing\", \"finishing\", \"sewing\", \"sewing\", \"sewing\", \"finishing\", \"finishing\", \"sewing\", \"finishing\", \"finishing\", \"finishing\", \"finishing\", \"finishing\", \"finishing\", \"sewing\", \"sewing\", \"sewing\", \"sewing\", \"finishing\", \"finishing\", \"sewing\", \"sewing\", \"sewing\", \"sewing\", \"finishing\", \"finishing\", \"finishing\", \"sewing\", \"sewing\", \"sewing\", \"sewing\", \"finishing\", \"finishing\", \"sewing\", \"finishing\", \"finishing\", \"finishing\", \"sewing\", \"sewing\", \"finishing\", \"finishing\", \"sewing\", \"sewing\", \"sewing\", \"sewing\", \"finishing\", \"sewing\", \"sewing\", \"sewing\", \"finishing\", \"sewing\", \"finishing\", \"finishing\", \"finishing\", \"finishing\", \"finishing\", \"finishing\", \"sewing\", \"sewing\", \"sewing\", \"sewing\", \"sewing\", \"sewing\", \"sewing\", \"finishing\", \"sewing\", \"sewing\", \"finishing\", \"sewing\", \"sewing\", \"sewing\", \"finishing\", \"finishing\", \"finishing\", \"finishing\", \"finishing\", \"sewing\", \"sewing\", \"sewing\", \"sewing\", \"sewing\", \"sewing\", \"sewing\", \"sewing\", \"finishing\", \"finishing\", \"sewing\", \"sewing\", \"sewing\", \"finishing\", \"sewing\", \"finishing\", \"finishing\", \"finishing\", \"finishing\", \"sewing\", \"sewing\", \"sewing\", \"sewing\", \"sewing\", \"sewing\", \"finishing\", \"sewing\", \"sewing\", \"sewing\", \"sewing\", \"finishing\", \"sewing\", \"finishing\", \"sewing\", \"finishing\", \"finishing\", \"finishing\", \"finishing\", \"sewing\", \"sewing\", \"sewing\", \"finishing\", \"sewing\", \"sewing\", \"sewing\", \"sewing\", \"sewing\", \"finishing\", \"sewing\", \"sewing\", \"sewing\", \"finishing\", \"finishing\", \"sewing\", \"finishing\", \"sewing\", \"sewing\", \"sewing\", \"sewing\", \"sewing\", \"sewing\", \"sewing\", \"finishing\", \"sewing\", \"sewing\", \"finishing\", \"sewing\", \"sewing\", \"finishing\", \"finishing\", \"finishing\", \"sewing\", \"sewing\", \"finishing\", \"sewing\", \"sewing\", \"sewing\", \"finishing\", \"sewing\", \"sewing\", \"sewing\", \"sewing\", \"sewing\", \"finishing\", \"sewing\", \"finishing\", \"sewing\", \"finishing\", \"finishing\", \"finishing\", \"sewing\", \"sewing\", \"sewing\", \"sewing\", \"sewing\", \"sewing\", \"finishing\", \"sewing\", \"sewing\", \"finishing\", \"finishing\", \"finishing\", \"finishing\", \"sewing\", \"sewing\", \"sewing\", \"sewing\", \"finishing\", \"finishing\", \"finishing\", \"finishing\", \"finishing\", \"finishing\", \"sewing\", \"sewing\", \"finishing\", \"finishing\", \"finishing\", \"finishing\", \"sewing\", \"sewing\", \"sewing\", \"sewing\", \"sewing\", \"sewing\", \"sewing\", \"finishing\", \"sewing\", \"sewing\", \"finishing\", \"finishing\", \"sewing\", \"finishing\", \"finishing\", \"finishing\", \"finishing\", \"finishing\", \"finishing\", \"finishing\", \"sewing\", \"sewing\", \"sewing\", \"sewing\", \"sewing\", \"sewing\", \"finishing\", \"sewing\", \"sewing\", \"sewing\", \"sewing\", \"finishing\", \"sewing\", \"sewing\", \"finishing\", \"finishing\", \"finishing\", \"finishing\", \"finishing\", \"finishing\", \"finishing\", \"sewing\", \"sewing\", \"sewing\", \"sewing\", \"sewing\", \"sewing\", \"finishing\", \"sewing\", \"sewing\", \"sewing\", \"finishing\", \"sewing\", \"sewing\", \"sewing\", \"sewing\", \"finishing\", \"finishing\", \"finishing\", \"sewing\", \"finishing\", \"sewing\", \"finishing\", \"finishing\", \"finishing\", \"sewing\", \"finishing\", \"finishing\", \"sewing\", \"sewing\", \"sewing\", \"sewing\", \"finishing\", \"sewing\", \"sewing\", \"sewing\", \"sewing\", \"finishing\", \"finishing\", \"finishing\", \"sewing\", \"sewing\", \"finishing\", \"sewing\", \"sewing\", \"finishing\", \"sewing\", \"sewing\", \"finishing\", \"finishing\", \"sewing\", \"sewing\", \"sewing\", \"finishing\", \"sewing\", \"finishing\", \"sewing\", \"finishing\", \"sewing\", \"sewing\", \"sewing\", \"finishing\", \"finishing\", \"finishing\", \"finishing\", \"finishing\", \"sewing\", \"sewing\", \"sewing\", \"finishing\", \"sewing\", \"finishing\", \"sewing\", \"sewing\", \"finishing\", \"sewing\", \"sewing\", \"sewing\", \"finishing\", \"finishing\", \"finishing\", \"finishing\", \"finishing\", \"finishing\", \"finishing\", \"finishing\", \"finishing\", \"finishing\", \"finishing\", \"finishing\", \"sewing\", \"sewing\", \"sewing\", \"sewing\", \"sewing\", \"sewing\", \"sewing\", \"sewing\", \"sewing\", \"sewing\", \"finishing\", \"sewing\", \"sewing\", \"finishing\", \"sewing\", \"finishing\", \"finishing\", \"finishing\", \"sewing\", \"sewing\", \"finishing\", \"sewing\", \"sewing\", \"finishing\", \"sewing\", \"sewing\", \"sewing\", \"sewing\", \"finishing\", \"sewing\", \"finishing\", \"sewing\", \"sewing\", \"sewing\", \"finishing\", \"finishing\", \"sewing\", \"sewing\", \"sewing\", \"finishing\", \"sewing\", \"sewing\", \"finishing\", \"finishing\", \"sewing\", \"sewing\", \"finishing\", \"sewing\", \"finishing\", \"sewing\", \"sewing\", \"finishing\", \"finishing\", \"sewing\", \"sewing\", \"finishing\", \"sewing\", \"sewing\", \"finishing\", \"sewing\", \"sewing\", \"sewing\", \"sewing\", \"sewing\", \"finishing\", \"finishing\", \"sewing\", \"sewing\", \"sewing\", \"sewing\", \"sewing\", \"sewing\", \"sewing\", \"sewing\", \"sewing\", \"sewing\", \"sewing\", \"sewing\", \"sewing\", \"sewing\", \"sewing\", \"sewing\", \"finishing\", \"sewing\", \"sewing\", \"sewing\", \"sewing\", \"sewing\", \"sewing\", \"sewing\", \"sewing\", \"sewing\", \"sewing\", \"sewing\", \"sewing\", \"sewing\", \"sewing\", \"sewing\", \"sewing\", \"sewing\", \"sewing\", \"sewing\", \"sewing\", \"sewing\", \"sewing\", \"sewing\", \"sewing\", \"sewing\", \"sewing\", \"sewing\", \"sewing\", \"sewing\", \"sewing\", \"sewing\", \"sewing\", \"sewing\", \"sewing\", \"sewing\", \"sewing\", \"sewing\", \"sewing\", \"sewing\", \"sewing\", \"sewing\", \"sewing\", \"sewing\", \"sewing\", \"sewing\", \"sewing\", \"sewing\", \"sewing\", \"sewing\", \"sewing\", \"sewing\", \"sewing\", \"sewing\", \"sewing\", \"sewing\", \"sewing\", \"sewing\", \"sewing\", \"sewing\", \"sewing\", \"sewing\", \"sewing\", \"sewing\", \"sewing\", \"sewing\", \"sewing\", \"sewing\", \"sewing\", \"sewing\", \"sewing\", \"sewing\", \"sewing\", \"sewing\", \"sewing\", \"sewing\", \"sewing\", \"sewing\", \"sewing\", \"sewing\", \"sewing\", \"sewing\", \"sewing\", \"sewing\", \"sewing\", \"sewing\", \"sewing\", \"sewing\", \"sewing\", \"sewing\", \"sewing\", \"sewing\", \"sewing\", \"sewing\", \"sewing\", \"sewing\", \"sewing\", \"sewing\", \"sewing\", \"sewing\", \"sewing\", \"sewing\", \"sewing\", \"sewing\", \"sewing\", \"sewing\", \"sewing\", \"sewing\", \"sewing\", \"sewing\", \"sewing\", \"sewing\", \"sewing\", \"sewing\", \"sewing\", \"sewing\", \"sewing\", \"sewing\", \"sewing\", \"sewing\", \"sewing\", \"sewing\", \"sewing\", \"sewing\", \"sewing\", \"sewing\", \"sewing\", \"sewing\", \"sewing\", \"sewing\", \"sewing\", \"sewing\", \"sewing\", \"sewing\", \"sewing\", \"sewing\", \"sewing\", \"sewing\", \"sewing\", \"sewing\", \"sewing\", \"sewing\", \"sewing\", \"sewing\", \"sewing\", \"sewing\", \"sewing\", \"sewing\", \"sewing\", \"sewing\", \"sewing\", \"sewing\", \"sewing\", \"sewing\", \"sewing\", \"sewing\", \"sewing\", \"sewing\", \"sewing\", \"sewing\", \"sewing\", \"sewing\", \"sewing\", \"sewing\", \"sewing\", \"sewing\", \"sewing\", \"sewing\", \"sewing\", \"sewing\", \"sewing\", \"sewing\", \"sewing\", \"sewing\", \"sewing\", \"sewing\", \"sewing\", \"sewing\", \"sewing\", \"sewing\", \"sewing\", \"sewing\", \"sewing\", \"sewing\", \"sewing\", \"sewing\", \"sewing\", \"sewing\", \"sewing\", \"sewing\", \"sewing\", \"sewing\", \"sewing\", \"sewing\", \"sewing\", \"sewing\", \"sewing\", \"sewing\", \"sewing\", \"sewing\", \"sewing\", \"sewing\", \"sewing\", \"sewing\", \"sewing\", \"sewing\", \"sewing\", \"sewing\", \"sewing\", \"sewing\", \"sewing\", \"sewing\", \"sewing\", \"sewing\", \"sewing\", \"sewing\", \"sewing\", \"sewing\", \"sewing\", \"sewing\", \"sewing\", \"sewing\", \"sewing\", \"sewing\", \"sewing\", \"sewing\", \"sewing\", \"sewing\", \"sewing\", \"sewing\", \"sewing\", \"sewing\", \"sewing\", \"sewing\", \"sewing\", \"sewing\", \"sewing\", \"sewing\", \"sewing\", \"sewing\", \"sewing\", \"sewing\", \"sewing\", \"sewing\", \"sewing\", \"sewing\", \"sewing\", \"sewing\", \"sewing\", \"sewing\", \"sewing\", \"sewing\", \"sewing\", \"sewing\", \"sewing\", \"sewing\", \"sewing\", \"sewing\", \"sewing\", \"sewing\", \"sewing\", \"sewing\", \"sewing\", \"sewing\", \"sewing\", \"sewing\", \"sewing\", \"sewing\", \"sewing\", \"sewing\", \"sewing\", \"sewing\", \"sewing\", \"sewing\", \"sewing\", \"sewing\", \"sewing\", \"sewing\", \"sewing\", \"sewing\", \"sewing\", \"sewing\", \"sewing\", \"sewing\", \"sewing\", \"sewing\", \"sewing\", \"sewing\", \"sewing\", \"sewing\", \"sewing\", \"sewing\", \"sewing\", \"sewing\", \"sewing\", \"sewing\", \"sewing\", \"sewing\", \"sewing\", \"sewing\", \"sewing\", \"sewing\", \"sewing\", \"sewing\", \"sewing\", \"sewing\", \"sewing\", \"sewing\", \"sewing\", \"sewing\", \"sewing\", \"sewing\", \"sewing\", \"sewing\", \"sewing\", \"sewing\", \"sewing\", \"sewing\", \"sewing\", \"sewing\", \"sewing\", \"sewing\", \"sewing\", \"sewing\", \"sewing\", \"sewing\", \"sewing\", \"sewing\", \"sewing\", \"sewing\", \"sewing\", \"sewing\", \"sewing\", \"sewing\", \"sewing\", \"sewing\", \"sewing\", \"sewing\", \"sewing\", \"sewing\", \"sewing\", \"sewing\", \"sewing\", \"sewing\", \"sewing\", \"sewing\", \"sewing\", \"sewing\", \"sewing\", \"sewing\", \"sewing\", \"sewing\", \"sewing\", \"sewing\", \"sewing\", \"sewing\", \"sewing\", \"sewing\", \"sewing\", \"sewing\", \"sewing\", \"sewing\", \"sewing\", \"sewing\", \"sewing\", \"sewing\", \"sewing\", \"sewing\", \"sewing\", \"sewing\", \"sewing\", \"sewing\", \"sewing\", \"sewing\", \"sewing\", \"sewing\", \"sewing\", \"sewing\", \"sewing\", \"sewing\", \"sewing\", \"sewing\", \"sewing\", \"sewing\", \"sewing\", \"sewing\", \"sewing\", \"sewing\", \"sewing\", \"sewing\", \"sewing\", \"sewing\", \"sewing\", \"sewing\", \"sewing\", \"sewing\", \"sewing\", \"sewing\", \"sewing\", \"sewing\", \"sewing\", \"sewing\", \"sewing\", \"sewing\", \"sewing\", \"sewing\", \"sewing\", \"sewing\", \"sewing\", \"sewing\", \"sewing\", \"sewing\", \"sewing\", \"sewing\", \"sewing\", \"sewing\", \"sewing\", \"sewing\", \"sewing\", \"sewing\", \"sewing\", \"sewing\", \"sewing\", \"sewing\", \"sewing\", \"sewing\", \"sewing\", \"sewing\", \"sewing\", \"sewing\", \"sewing\", \"sewing\", \"sewing\", \"sewing\", \"sewing\", \"sewing\", \"sewing\", \"sewing\", \"sewing\", \"sewing\", \"sewing\", \"sewing\", \"sewing\", \"sewing\", \"sewing\", \"sewing\", \"sewing\", \"sewing\", \"sewing\", \"sewing\", \"sewing\", \"sewing\", \"sewing\", \"sewing\", \"sewing\", \"sewing\", \"sewing\", \"sewing\", \"sewing\", \"sewing\", \"sewing\", \"sewing\", \"sewing\", \"sewing\", \"sewing\", \"sewing\", \"sewing\", \"sewing\", \"sewing\", \"sewing\", \"sewing\", \"sewing\", \"sewing\", \"sewing\", \"sewing\", \"sewing\", \"sewing\", \"sewing\", \"sewing\", \"sewing\", \"sewing\", \"sewing\", \"sewing\", \"sewing\", \"sewing\", \"sewing\", \"sewing\", \"sewing\", \"sewing\", \"sewing\", \"sewing\", \"sewing\", \"sewing\", \"sewing\", \"sewing\", \"sewing\", \"sewing\", \"sewing\", \"sewing\", \"sewing\", \"sewing\", \"sewing\", \"sewing\", \"sewing\", \"sewing\", \"sewing\", \"sewing\", \"sewing\", \"sewing\", \"sewing\", \"sewing\", \"sewing\", \"sewing\", \"sewing\", \"sewing\", \"sewing\", \"sewing\", \"sewing\", \"sewing\", \"sewing\", \"sewing\", \"sewing\", \"sewing\", \"sewing\", \"sewing\", \"sewing\", \"sewing\", \"sewing\", \"sewing\", \"sewing\", \"sewing\", \"sewing\", \"sewing\", \"sewing\", \"sewing\", \"sewing\", \"sewing\", \"sewing\", \"sewing\", \"sewing\", \"sewing\", \"sewing\", \"sewing\", \"sewing\", \"sewing\", \"sewing\", \"sewing\", \"sewing\", \"sewing\", \"sewing\", \"sewing\", \"sewing\", \"sewing\", \"sewing\", \"sewing\", \"sewing\", \"sewing\", \"sewing\", \"sewing\", \"sewing\", \"sewing\", \"sewing\", \"sewing\", \"sewing\", \"sewing\", \"sewing\", \"sewing\", \"sewing\", \"sewing\", \"sewing\", \"sewing\", \"sewing\", \"sewing\", \"sewing\", \"sewing\", \"sewing\", \"sewing\", \"sewing\", \"sewing\", \"sewing\", \"sewing\", \"sewing\", \"sewing\"], \"x0\": \" \", \"xaxis\": \"x\", \"y\": [1108.0, null, 968.0, 968.0, 1170.0, 984.0, null, 795.0, 733.0, 681.0, 872.0, 578.0, 668.0, null, null, null, null, 861.0, null, null, null, null, null, null, 772.0, 913.0, 1261.0, 844.0, 1005.0, 659.0, 1152.0, 1138.0, 610.0, null, 944.0, null, 544.0, 1072.0, null, null, null, null, null, 539.0, null, 1278.0, 1227.0, 1039.0, 878.0, 1033.0, 782.0, 1216.0, null, null, 513.0, 734.0, 1202.0, null, null, 884.0, null, null, null, null, null, 1227.0, null, null, 1255.0, 1047.0, 1138.0, 678.0, 712.0, 1037.0, 757.0, 759.0, null, null, 1083.0, 944.0, null, null, 666.0, null, null, null, null, null, 1187.0, 1305.0, null, null, 716.0, 925.0, 963.0, 1101.0, 1035.0, 1083.0, 910.0, 1209.0, 590.0, null, 808.0, null, null, null, 1179.0, 1324.0, 1135.0, null, null, null, null, null, 776.0, 990.0, 986.0, 924.0, 1120.0, 1066.0, 1144.0, 413.0, null, null, 568.0, null, null, null, 1216.0, null, 1189.0, 942.0, 1050.0, 1026.0, null, null, 783.0, 857.0, 548.0, 411.0, 1066.0, null, null, null, null, null, 287.0, 724.0, null, null, null, null, 1122.0, 970.0, 1158.0, null, null, null, 660.0, 749.0, 893.0, 887.0, 1335.0, 1082.0, 1075.0, 749.0, null, null, 966.0, null, null, null, 1095.0, null, null, 1383.0, 1012.0, 1209.0, null, null, 887.0, 896.0, 805.0, 762.0, 1043.0, null, null, null, 831.0, null, null, 562.0, 1208.0, null, null, null, null, null, 1099.0, 1093.0, 1031.0, 1233.0, null, null, 941.0, 843.0, 760.0, 737.0, null, 381.0, 1141.0, 1004.0, null, null, 581.0, null, null, null, null, null, null, 1073.0, 1156.0, 1211.0, 1126.0, null, null, 1004.0, 1063.0, 723.0, 465.0, null, null, null, 530.0, 1297.0, 783.0, 715.0, null, null, 1150.0, null, null, null, 1232.0, 1218.0, null, null, 1159.0, 972.0, 1092.0, 965.0, null, 816.0, 947.0, 838.0, null, 1086.0, null, null, null, null, null, null, 1160.0, 1177.0, 1281.0, 1369.0, 1084.0, 1216.0, 391.0, null, 1102.0, 872.0, null, 1076.0, 917.0, 1044.0, null, null, null, null, null, 1067.0, 1039.0, 1396.0, 1292.0, 171.0, 1128.0, 865.0, 825.0, null, null, 1163.0, 1140.0, 1027.0, null, 1052.0, null, null, null, null, 1140.0, 624.0, 1288.0, 1381.0, 882.0, 1002.0, null, 585.0, 1138.0, 1140.0, 1025.0, null, 1031.0, null, 1381.0, null, null, null, null, 1028.0, 1380.0, 1196.0, null, 1006.0, 930.0, 1095.0, 938.0, 1484.0, null, 1255.0, 1040.0, 1492.0, null, null, 1111.0, null, 1047.0, 1434.0, 399.0, 983.0, 1108.0, 1134.0, 1363.0, null, 1501.0, 1352.0, null, 1352.0, 1450.0, null, null, null, 825.0, 916.0, null, 562.0, 1422.0, 1206.0, null, 1404.0, 1139.0, 1735.0, 1595.0, 1245.0, null, 757.0, null, 1720.0, null, null, null, 759.0, 1510.0, 955.0, 1328.0, 1384.0, 1244.0, null, 1480.0, 1863.0, null, null, null, null, 1492.0, 1859.0, 980.0, 970.0, null, null, null, null, null, null, 1606.0, 727.0, null, null, null, null, 1472.0, 1332.0, 1009.0, 1266.0, 1316.0, 1282.0, 1382.0, null, 1295.0, 925.0, null, null, 1448.0, null, null, null, null, null, null, null, 867.0, 1636.0, 1682.0, 1495.0, 1181.0, 1413.0, null, 360.0, 1296.0, 1217.0, 1086.0, null, 532.0, 1557.0, null, null, null, null, null, null, null, 1016.0, 1072.0, 1584.0, 1764.0, 1745.0, 1250.0, null, 1118.0, 1143.0, 1337.0, null, 1519.0, 749.0, 1635.0, 1299.0, null, null, null, 1134.0, null, 1106.0, null, null, null, 1871.0, null, null, 1294.0, 1462.0, 976.0, 338.0, null, 1455.0, 1282.0, 1559.0, 1350.0, null, null, null, 1175.0, 1868.0, null, 1045.0, 1342.0, null, 1340.0, 1429.0, null, null, 1413.0, 336.0, 511.0, null, 958.0, null, 1416.0, null, 1287.0, 1444.0, 1088.0, null, null, null, null, null, 1579.0, 1170.0, 1015.0, null, 1436.0, null, 1601.0, 717.0, null, 830.0, 1136.0, 1397.0, null, null, null, null, null, null, null, null, null, null, null, null, 1116.0, 1432.0, 1082.0, 1502.0, 1209.0, 282.0, 1417.0, 799.0, 1109.0, 1144.0, null, 1396.0, 1582.0, null, 1124.0, null, null, null, 1282.0, 1472.0, null, 1282.0, 1276.0, null, 1192.0, 881.0, 1196.0, 1400.0, null, 16882.0, null, 21385.0, 21266.0, 21540.0, null, null, 12261.0, 23122.0, 8992.0, null, 9792.0, 2984.0, null, null, 839.0, 2698.0, null, 1435.0, null, 1500.0, 1188.0, null, null, 1112.0, 1452.0, null, 340.0, 1029.0, null, 1070.0, 946.0, 913.0, 1363.0, 1639.0, null, null, 415.0, 1263.0, 968.0, 1108.0, null, null, null, 1532.0, 1094.0, 1086.0, null, null, 941.0, 1471.0, 1042.0, 1248.0, null, 326.0, null, 287.0, 1300.0, 1485.0, 1039.0, null, 1063.0, null, null, null, null, 1083.0, 1069.0, null, 668.0, 766.0, 557.0, 1608.0, 417.0, 1167.0, null, 1186.0, 1060.0, 1534.0, 1142.0, null, null, null, 1021.0, 829.0, null, 813.0, 677.0, null, 658.0, 486.0, 687.0, null, 652.0, 1233.0, null, 1388.0, 1615.0, 1283.0, null, null, null, null, 1026.0, 909.0, 670.0, 629.0, 754.0, null, null, 712.0, 148.0, 154.0, null, null, 1127.0, 1506.0, 1413.0, null, 970.0, 1271.0, 1073.0, 767.0, 103.0, null, 773.0, null, 708.0, 842.0, 901.0, null, null, null, 1268.0, 1546.0, 813.0, 1512.0, null, 1263.0, 900.0, null, 640.0, 13.0, 855.0, null, 855.0, null, null, 1025.0, 1061.0, null, null, 1557.0, 1498.0, null, null, null, 598.0, 656.0, 854.0, 609.0, 788.0, 1069.0, 667.0, null, 829.0, null, 11.0, 434.0, 1397.0, null, 1327.0, null, 894.0, null, 610.0, 779.0, null, null, 419.0, null, null, 909.0, 1039.0, 14.0, 1193.0, 10.0, 770.0, 1416.0, null, null, null, 942.0, 674.0, null, 481.0, 664.0, null, 824.0, 957.0, 1039.0, 822.0, 1261.0, null, null, null, null, 1420.0, null, 1120.0, null, 679.0, null, 881.0, 507.0, 814.0, 700.0, null, null, 919.0, 1361.0, 12.0, null, 1688.0, 1422.0, null, null, null, 1263.0, 461.0, 1079.0, null, 895.0, 912.0, null, 784.0, null, 7.0, 680.0, 1131.0, 2103.0, null, 1445.0, null, null, null, 1133.0, null, 726.0, 849.0, null, 562.0, 1054.0, 1422.0, null, 680.0, 2120.0, 179.0, null, null, 838.0, 741.0, null, null, null, 685.0, 864.0, 511.0, 1095.0, 1374.0, 759.0, 553.0, null, 1057.0, 1587.0, null, null, null, null, 868.0, 1119.0, null, 962.0, null, 1126.0, 265.0, 859.0, 276.0, null, 899.0, null, null, 247.0, 653.0, 1116.0, null, null, 1603.0, null, 444.0, null, 841.0, 1410.0, null, null, null, null, 1103.0, 922.0, null, null, 1055.0, null, 1146.0, 746.0, 834.0, 1717.0, 1041.0, 1531.0, 627.0, null, 450.0, null, null, null, null, null, 1060.0, 891.0, 541.0, 709.0, 1100.0, 826.0, 577.0, 1094.0, 1228.0, 1641.0, 1583.0, null, null, null, null, null, null, 1062.0, 450.0, 901.0, null, 739.0, 913.0, 698.0, 1172.0, null, null, 408.0, 1079.0, 1068.0, null, 1834.0, null, 708.0, 1085.0, null, null, null, null, 323.0, 1053.0, 786.0, 1003.0, 635.0, 1283.0, 847.0, 361.0, 1653.0, null, null, 15.0, 762.0, null, null, null, null, null, 694.0, 816.0, 1065.0, null, 912.0, 1244.0, 1020.0, 916.0, 1591.0, 398.0, null, null, 437.0, 413.0, null, null, 1164.0, null, null, null, null, 954.0, 1194.0, 644.0, null, 1144.0, 1012.0, 792.0, 841.0, 1448.0, 512.0, null, null, 609.0, 1448.0, 556.0, null, null, null, null, null, null, 1106.0, 622.0, 1193.0, 1143.0, 895.0, 549.0, 1393.0, 1578.0, 254.0, 347.0, null, null, 692.0, null, 934.0, null, null, null, null, null, null, 1527.0, 1035.0, null, 632.0, 1231.0, 616.0, null, 947.0, 551.0, 935.0, 832.0, 544.0, 1511.0, null, null, null, null, null, null, 601.0, 1562.0, 983.0, 1156.0, 29.0, 950.0, 534.0, 1096.0, 402.0, null, 573.0, 1313.0, null, null, null, null, null, null, null, 157.0, null, null, null, null, null, null, 433.0, 961.0, 1169.0, 874.0, 1028.0, 1772.0, 1206.0, 586.0, 1334.0, null, null, null, 30.0, 261.0, 52.0, null, null, null, null, null, null, null, 455.0, 797.0, 959.0, 1373.0, 1228.0, 1117.0, 230.0, 1390.0, 529.0, null, 834.0, 1450.0, null, 986.0, 1267.0, null, null, 1195.0, 983.0, 471.0, null, 1226.0, 1251.0, null, null, null, 626.0, null, null, 1379.0, 541.0, null, null, null, null, null, null, null, 1082.0, 1254.0, 1278.0, 1064.0, 313.0, null, 1239.0, 1335.0, 928.0, 1266.0, 869.0, 711.0, null, null, null, null, null, null, 1079.0, 1322.0, null, 964.0, 1132.0, 357.0, null, null, null, 1193.0, 817.0, 1576.0, null, 1262.0, 953.0, 919.0, 1161.0, null, null, null, null, 1574.0, null, null, null, 1104.0, null, 1069.0, 756.0, 338.0, null, 1499.0, 1247.0, null, 923.0, 1180.0, 957.0, 1001.0, 1017.0, null, null, null, null, null, null, null, null, 470.0, 735.0, 560.0, null, null, 1674.0, 290.0, 971.0, 1322.0, 1054.0, 992.0, 914.0, 1128.0, 935.0, null, null, null, null, null], \"y0\": \" \", \"yaxis\": \"y\"}],                        {\"boxmode\": \"group\", \"legend\": {\"tracegroupgap\": 0}, \"margin\": {\"t\": 60}, \"template\": {\"data\": {\"bar\": [{\"error_x\": {\"color\": \"#2a3f5f\"}, \"error_y\": {\"color\": \"#2a3f5f\"}, \"marker\": {\"line\": {\"color\": \"#E5ECF6\", \"width\": 0.5}}, \"type\": \"bar\"}], \"barpolar\": [{\"marker\": {\"line\": {\"color\": \"#E5ECF6\", \"width\": 0.5}}, \"type\": \"barpolar\"}], \"carpet\": [{\"aaxis\": {\"endlinecolor\": \"#2a3f5f\", \"gridcolor\": \"white\", \"linecolor\": \"white\", \"minorgridcolor\": \"white\", \"startlinecolor\": \"#2a3f5f\"}, \"baxis\": {\"endlinecolor\": \"#2a3f5f\", \"gridcolor\": \"white\", \"linecolor\": \"white\", \"minorgridcolor\": \"white\", \"startlinecolor\": \"#2a3f5f\"}, \"type\": \"carpet\"}], \"choropleth\": [{\"colorbar\": {\"outlinewidth\": 0, \"ticks\": \"\"}, \"type\": \"choropleth\"}], \"contour\": [{\"colorbar\": {\"outlinewidth\": 0, \"ticks\": \"\"}, \"colorscale\": [[0.0, \"#0d0887\"], [0.1111111111111111, \"#46039f\"], [0.2222222222222222, \"#7201a8\"], [0.3333333333333333, \"#9c179e\"], [0.4444444444444444, \"#bd3786\"], [0.5555555555555556, \"#d8576b\"], [0.6666666666666666, \"#ed7953\"], [0.7777777777777778, \"#fb9f3a\"], [0.8888888888888888, \"#fdca26\"], [1.0, \"#f0f921\"]], \"type\": \"contour\"}], \"contourcarpet\": [{\"colorbar\": {\"outlinewidth\": 0, \"ticks\": \"\"}, \"type\": \"contourcarpet\"}], \"heatmap\": [{\"colorbar\": {\"outlinewidth\": 0, \"ticks\": \"\"}, \"colorscale\": [[0.0, \"#0d0887\"], [0.1111111111111111, \"#46039f\"], [0.2222222222222222, \"#7201a8\"], [0.3333333333333333, \"#9c179e\"], [0.4444444444444444, \"#bd3786\"], [0.5555555555555556, \"#d8576b\"], [0.6666666666666666, \"#ed7953\"], [0.7777777777777778, \"#fb9f3a\"], [0.8888888888888888, \"#fdca26\"], [1.0, \"#f0f921\"]], \"type\": \"heatmap\"}], \"heatmapgl\": [{\"colorbar\": {\"outlinewidth\": 0, \"ticks\": \"\"}, \"colorscale\": [[0.0, \"#0d0887\"], [0.1111111111111111, \"#46039f\"], [0.2222222222222222, \"#7201a8\"], [0.3333333333333333, \"#9c179e\"], [0.4444444444444444, \"#bd3786\"], [0.5555555555555556, \"#d8576b\"], [0.6666666666666666, \"#ed7953\"], [0.7777777777777778, \"#fb9f3a\"], [0.8888888888888888, \"#fdca26\"], [1.0, \"#f0f921\"]], \"type\": \"heatmapgl\"}], \"histogram\": [{\"marker\": {\"colorbar\": {\"outlinewidth\": 0, \"ticks\": \"\"}}, \"type\": \"histogram\"}], \"histogram2d\": [{\"colorbar\": {\"outlinewidth\": 0, \"ticks\": \"\"}, \"colorscale\": [[0.0, \"#0d0887\"], [0.1111111111111111, \"#46039f\"], [0.2222222222222222, \"#7201a8\"], [0.3333333333333333, \"#9c179e\"], [0.4444444444444444, \"#bd3786\"], [0.5555555555555556, \"#d8576b\"], [0.6666666666666666, \"#ed7953\"], [0.7777777777777778, \"#fb9f3a\"], [0.8888888888888888, \"#fdca26\"], [1.0, \"#f0f921\"]], \"type\": \"histogram2d\"}], \"histogram2dcontour\": [{\"colorbar\": {\"outlinewidth\": 0, \"ticks\": \"\"}, \"colorscale\": [[0.0, \"#0d0887\"], [0.1111111111111111, \"#46039f\"], [0.2222222222222222, \"#7201a8\"], [0.3333333333333333, \"#9c179e\"], [0.4444444444444444, \"#bd3786\"], [0.5555555555555556, \"#d8576b\"], [0.6666666666666666, \"#ed7953\"], [0.7777777777777778, \"#fb9f3a\"], [0.8888888888888888, \"#fdca26\"], [1.0, \"#f0f921\"]], \"type\": \"histogram2dcontour\"}], \"mesh3d\": [{\"colorbar\": {\"outlinewidth\": 0, \"ticks\": \"\"}, \"type\": \"mesh3d\"}], \"parcoords\": [{\"line\": {\"colorbar\": {\"outlinewidth\": 0, \"ticks\": \"\"}}, \"type\": \"parcoords\"}], \"pie\": [{\"automargin\": true, \"type\": \"pie\"}], \"scatter\": [{\"marker\": {\"colorbar\": {\"outlinewidth\": 0, \"ticks\": \"\"}}, \"type\": \"scatter\"}], \"scatter3d\": [{\"line\": {\"colorbar\": {\"outlinewidth\": 0, \"ticks\": \"\"}}, \"marker\": {\"colorbar\": {\"outlinewidth\": 0, \"ticks\": \"\"}}, \"type\": \"scatter3d\"}], \"scattercarpet\": [{\"marker\": {\"colorbar\": {\"outlinewidth\": 0, \"ticks\": \"\"}}, \"type\": \"scattercarpet\"}], \"scattergeo\": [{\"marker\": {\"colorbar\": {\"outlinewidth\": 0, \"ticks\": \"\"}}, \"type\": \"scattergeo\"}], \"scattergl\": [{\"marker\": {\"colorbar\": {\"outlinewidth\": 0, \"ticks\": \"\"}}, \"type\": \"scattergl\"}], \"scattermapbox\": [{\"marker\": {\"colorbar\": {\"outlinewidth\": 0, \"ticks\": \"\"}}, \"type\": \"scattermapbox\"}], \"scatterpolar\": [{\"marker\": {\"colorbar\": {\"outlinewidth\": 0, \"ticks\": \"\"}}, \"type\": \"scatterpolar\"}], \"scatterpolargl\": [{\"marker\": {\"colorbar\": {\"outlinewidth\": 0, \"ticks\": \"\"}}, \"type\": \"scatterpolargl\"}], \"scatterternary\": [{\"marker\": {\"colorbar\": {\"outlinewidth\": 0, \"ticks\": \"\"}}, \"type\": \"scatterternary\"}], \"surface\": [{\"colorbar\": {\"outlinewidth\": 0, \"ticks\": \"\"}, \"colorscale\": [[0.0, \"#0d0887\"], [0.1111111111111111, \"#46039f\"], [0.2222222222222222, \"#7201a8\"], [0.3333333333333333, \"#9c179e\"], [0.4444444444444444, \"#bd3786\"], [0.5555555555555556, \"#d8576b\"], [0.6666666666666666, \"#ed7953\"], [0.7777777777777778, \"#fb9f3a\"], [0.8888888888888888, \"#fdca26\"], [1.0, \"#f0f921\"]], \"type\": \"surface\"}], \"table\": [{\"cells\": {\"fill\": {\"color\": \"#EBF0F8\"}, \"line\": {\"color\": \"white\"}}, \"header\": {\"fill\": {\"color\": \"#C8D4E3\"}, \"line\": {\"color\": \"white\"}}, \"type\": \"table\"}]}, \"layout\": {\"annotationdefaults\": {\"arrowcolor\": \"#2a3f5f\", \"arrowhead\": 0, \"arrowwidth\": 1}, \"autotypenumbers\": \"strict\", \"coloraxis\": {\"colorbar\": {\"outlinewidth\": 0, \"ticks\": \"\"}}, \"colorscale\": {\"diverging\": [[0, \"#8e0152\"], [0.1, \"#c51b7d\"], [0.2, \"#de77ae\"], [0.3, \"#f1b6da\"], [0.4, \"#fde0ef\"], [0.5, \"#f7f7f7\"], [0.6, \"#e6f5d0\"], [0.7, \"#b8e186\"], [0.8, \"#7fbc41\"], [0.9, \"#4d9221\"], [1, \"#276419\"]], \"sequential\": [[0.0, \"#0d0887\"], [0.1111111111111111, \"#46039f\"], [0.2222222222222222, \"#7201a8\"], [0.3333333333333333, \"#9c179e\"], [0.4444444444444444, \"#bd3786\"], [0.5555555555555556, \"#d8576b\"], [0.6666666666666666, \"#ed7953\"], [0.7777777777777778, \"#fb9f3a\"], [0.8888888888888888, \"#fdca26\"], [1.0, \"#f0f921\"]], \"sequentialminus\": [[0.0, \"#0d0887\"], [0.1111111111111111, \"#46039f\"], [0.2222222222222222, \"#7201a8\"], [0.3333333333333333, \"#9c179e\"], [0.4444444444444444, \"#bd3786\"], [0.5555555555555556, \"#d8576b\"], [0.6666666666666666, \"#ed7953\"], [0.7777777777777778, \"#fb9f3a\"], [0.8888888888888888, \"#fdca26\"], [1.0, \"#f0f921\"]]}, \"colorway\": [\"#636efa\", \"#EF553B\", \"#00cc96\", \"#ab63fa\", \"#FFA15A\", \"#19d3f3\", \"#FF6692\", \"#B6E880\", \"#FF97FF\", \"#FECB52\"], \"font\": {\"color\": \"#2a3f5f\"}, \"geo\": {\"bgcolor\": \"white\", \"lakecolor\": \"white\", \"landcolor\": \"#E5ECF6\", \"showlakes\": true, \"showland\": true, \"subunitcolor\": \"white\"}, \"hoverlabel\": {\"align\": \"left\"}, \"hovermode\": \"closest\", \"mapbox\": {\"style\": \"light\"}, \"paper_bgcolor\": \"white\", \"plot_bgcolor\": \"#E5ECF6\", \"polar\": {\"angularaxis\": {\"gridcolor\": \"white\", \"linecolor\": \"white\", \"ticks\": \"\"}, \"bgcolor\": \"#E5ECF6\", \"radialaxis\": {\"gridcolor\": \"white\", \"linecolor\": \"white\", \"ticks\": \"\"}}, \"scene\": {\"xaxis\": {\"backgroundcolor\": \"#E5ECF6\", \"gridcolor\": \"white\", \"gridwidth\": 2, \"linecolor\": \"white\", \"showbackground\": true, \"ticks\": \"\", \"zerolinecolor\": \"white\"}, \"yaxis\": {\"backgroundcolor\": \"#E5ECF6\", \"gridcolor\": \"white\", \"gridwidth\": 2, \"linecolor\": \"white\", \"showbackground\": true, \"ticks\": \"\", \"zerolinecolor\": \"white\"}, \"zaxis\": {\"backgroundcolor\": \"#E5ECF6\", \"gridcolor\": \"white\", \"gridwidth\": 2, \"linecolor\": \"white\", \"showbackground\": true, \"ticks\": \"\", \"zerolinecolor\": \"white\"}}, \"shapedefaults\": {\"line\": {\"color\": \"#2a3f5f\"}}, \"ternary\": {\"aaxis\": {\"gridcolor\": \"white\", \"linecolor\": \"white\", \"ticks\": \"\"}, \"baxis\": {\"gridcolor\": \"white\", \"linecolor\": \"white\", \"ticks\": \"\"}, \"bgcolor\": \"#E5ECF6\", \"caxis\": {\"gridcolor\": \"white\", \"linecolor\": \"white\", \"ticks\": \"\"}}, \"title\": {\"x\": 0.05}, \"xaxis\": {\"automargin\": true, \"gridcolor\": \"white\", \"linecolor\": \"white\", \"ticks\": \"\", \"title\": {\"standoff\": 15}, \"zerolinecolor\": \"white\", \"zerolinewidth\": 2}, \"yaxis\": {\"automargin\": true, \"gridcolor\": \"white\", \"linecolor\": \"white\", \"ticks\": \"\", \"title\": {\"standoff\": 15}, \"zerolinecolor\": \"white\", \"zerolinewidth\": 2}}}, \"xaxis\": {\"anchor\": \"y\", \"domain\": [0.0, 1.0], \"title\": {\"text\": \"department\"}}, \"yaxis\": {\"anchor\": \"x\", \"domain\": [0.0, 1.0], \"title\": {\"text\": \"wip\"}}},                        {\"responsive\": true}                    ).then(function(){\n",
       "                            \n",
       "var gd = document.getElementById('a7b2bc8b-6ced-40fb-853f-0d88334b472c');\n",
       "var x = new MutationObserver(function (mutations, observer) {{\n",
       "        var display = window.getComputedStyle(gd).display;\n",
       "        if (!display || display === 'none') {{\n",
       "            console.log([gd, 'removed!']);\n",
       "            Plotly.purge(gd);\n",
       "            observer.disconnect();\n",
       "        }}\n",
       "}});\n",
       "\n",
       "// Listen for the removal of the full notebook cells\n",
       "var notebookContainer = gd.closest('#notebook-container');\n",
       "if (notebookContainer) {{\n",
       "    x.observe(notebookContainer, {childList: true});\n",
       "}}\n",
       "\n",
       "// Listen for the clearing of the current output cell\n",
       "var outputEl = gd.closest('.output');\n",
       "if (outputEl) {{\n",
       "    x.observe(outputEl, {childList: true});\n",
       "}}\n",
       "\n",
       "                        })                };                });            </script>        </div>"
      ]
     },
     "metadata": {}
    }
   ],
   "metadata": {
    "execution": {
     "iopub.execute_input": "2021-04-10T14:15:13.063435Z",
     "iopub.status.busy": "2021-04-10T14:15:13.062385Z",
     "iopub.status.idle": "2021-04-10T14:15:13.125430Z",
     "shell.execute_reply": "2021-04-10T14:15:13.125959Z"
    },
    "papermill": {
     "duration": 0.146561,
     "end_time": "2021-04-10T14:15:13.126140",
     "exception": false,
     "start_time": "2021-04-10T14:15:12.979579",
     "status": "completed"
    },
    "tags": []
   }
  },
  {
   "cell_type": "markdown",
   "source": [
    "## Work in progress in teams"
   ],
   "metadata": {
    "papermill": {
     "duration": 0.066707,
     "end_time": "2021-04-10T14:15:13.261054",
     "exception": false,
     "start_time": "2021-04-10T14:15:13.194347",
     "status": "completed"
    },
    "tags": []
   }
  },
  {
   "cell_type": "code",
   "execution_count": 35,
   "source": [
    "fig = px.box(df, x=\"team\", y=\"wip\")\n",
    "fig.show()"
   ],
   "outputs": [
    {
     "output_type": "display_data",
     "data": {
      "text/html": [
       "<div>                            <div id=\"bb577700-5254-4c4f-9d0b-5030a2c9980c\" class=\"plotly-graph-div\" style=\"height:525px; width:100%;\"></div>            <script type=\"text/javascript\">                require([\"plotly\"], function(Plotly) {                    window.PLOTLYENV=window.PLOTLYENV || {};                                    if (document.getElementById(\"bb577700-5254-4c4f-9d0b-5030a2c9980c\")) {                    Plotly.newPlot(                        \"bb577700-5254-4c4f-9d0b-5030a2c9980c\",                        [{\"alignmentgroup\": \"True\", \"hovertemplate\": \"team=%{x}<br>wip=%{y}<extra></extra>\", \"legendgroup\": \"\", \"marker\": {\"color\": \"#636efa\"}, \"name\": \"\", \"notched\": false, \"offsetgroup\": \"\", \"orientation\": \"v\", \"showlegend\": false, \"type\": \"box\", \"x\": [8, 1, 11, 12, 6, 7, 2, 3, 2, 1, 9, 10, 5, 10, 8, 4, 7, 4, 11, 4, 11, 9, 3, 1, 1, 3, 8, 12, 11, 5, 6, 7, 10, 2, 2, 10, 4, 9, 8, 7, 3, 9, 1, 6, 4, 9, 7, 8, 4, 1, 2, 12, 2, 10, 11, 3, 10, 8, 7, 5, 11, 1, 11, 4, 3, 9, 9, 2, 7, 8, 1, 11, 6, 12, 2, 4, 10, 5, 10, 3, 7, 8, 5, 4, 1, 3, 11, 9, 1, 9, 10, 2, 2, 4, 3, 12, 7, 8, 6, 10, 11, 8, 5, 7, 1, 9, 1, 9, 8, 3, 4, 2, 10, 7, 2, 4, 6, 3, 12, 7, 10, 5, 8, 6, 11, 5, 1, 4, 9, 9, 1, 4, 7, 8, 2, 5, 2, 3, 12, 6, 10, 10, 8, 3, 7, 11, 11, 5, 1, 3, 4, 9, 9, 7, 8, 10, 11, 2, 4, 2, 12, 6, 1, 10, 3, 11, 7, 8, 5, 5, 3, 4, 9, 1, 9, 1, 7, 8, 10, 2, 6, 12, 2, 10, 3, 11, 8, 5, 11, 6, 7, 4, 5, 1, 4, 3, 2, 9, 1, 9, 7, 8, 6, 5, 3, 6, 12, 2, 8, 10, 5, 11, 7, 11, 4, 10, 4, 1, 10, 3, 9, 1, 9, 8, 7, 5, 2, 6, 12, 2, 3, 8, 7, 11, 11, 5, 4, 10, 11, 4, 7, 1, 5, 9, 9, 8, 7, 3, 12, 6, 1, 5, 8, 4, 10, 11, 10, 2, 2, 4, 10, 1, 5, 9, 1, 8, 7, 9, 6, 12, 5, 7, 3, 4, 8, 10, 11, 2, 5, 2, 10, 1, 9, 6, 12, 7, 8, 1, 9, 2, 4, 8, 7, 10, 3, 11, 6, 5, 11, 5, 11, 6, 6, 7, 8, 9, 4, 10, 7, 12, 3, 11, 2, 8, 5, 9, 1, 10, 4, 9, 5, 6, 8, 9, 12, 2, 4, 3, 10, 11, 8, 5, 7, 1, 10, 11, 12, 5, 6, 8, 9, 4, 10, 3, 2, 9, 11, 5, 8, 12, 7, 11, 4, 2, 4, 6, 9, 8, 2, 10, 5, 5, 3, 11, 1, 12, 8, 9, 1, 7, 11, 7, 10, 4, 2, 6, 10, 1, 3, 5, 5, 11, 4, 1, 2, 6, 12, 7, 8, 9, 3, 8, 12, 5, 10, 8, 2, 4, 11, 3, 7, 12, 1, 10, 6, 3, 12, 11, 5, 4, 7, 9, 2, 1, 8, 9, 5, 2, 1, 3, 10, 4, 4, 2, 1, 3, 6, 10, 7, 7, 12, 5, 9, 12, 11, 8, 8, 3, 10, 4, 5, 2, 1, 4, 6, 3, 2, 1, 10, 12, 5, 9, 12, 7, 8, 11, 2, 3, 10, 4, 5, 10, 3, 4, 8, 12, 7, 1, 2, 1, 9, 12, 8, 6, 6, 5, 11, 2, 3, 6, 1, 2, 10, 1, 10, 5, 4, 12, 9, 12, 4, 8, 11, 8, 6, 7, 7, 11, 2, 4, 3, 4, 10, 6, 8, 11, 10, 1, 1, 9, 5, 2, 12, 12, 11, 6, 3, 7, 3, 2, 2, 3, 4, 10, 1, 9, 12, 5, 7, 8, 11, 6, 10, 4, 9, 1, 12, 5, 11, 6, 7, 8, 8, 2, 1, 1, 3, 2, 7, 10, 10, 4, 4, 9, 12, 12, 11, 6, 8, 7, 6, 1, 9, 2, 3, 10, 10, 4, 12, 4, 9, 12, 11, 6, 8, 1, 5, 7, 6, 8, 2, 1, 10, 1, 8, 3, 2, 9, 4, 12, 12, 9, 11, 6, 8, 7, 4, 6, 5, 2, 3, 10, 2, 1, 8, 1, 12, 9, 7, 9, 6, 7, 11, 8, 12, 5, 6, 4, 2, 1, 10, 2, 3, 6, 12, 7, 1, 12, 9, 10, 11, 6, 5, 7, 4, 8, 2, 2, 3, 1, 10, 12, 1, 6, 12, 9, 9, 6, 11, 7, 7, 4, 5, 4, 8, 2, 7, 10, 1, 3, 1, 12, 2, 8, 12, 9, 6, 11, 5, 6, 9, 4, 7, 8, 2, 1, 10, 1, 2, 6, 12, 3, 9, 4, 11, 8, 5, 9, 6, 7, 8, 12, 12, 2, 10, 1, 3, 2, 1, 9, 12, 4, 6, 11, 5, 8, 4, 9, 6, 7, 8, 4, 12, 2, 1, 8, 2, 5, 10, 6, 12, 9, 5, 8, 4, 1, 7, 9, 3, 11, 1, 4, 2, 12, 12, 8, 5, 6, 1, 9, 4, 2, 5, 7, 11, 9, 8, 10, 3, 1, 7, 4, 12, 12, 2, 1, 4, 5, 8, 8, 7, 11, 6, 3, 6, 9, 1, 2, 1, 12, 12, 5, 5, 11, 7, 8, 6, 11, 8, 6, 4, 3, 2, 4, 9, 1, 9, 12, 3, 3, 5, 12, 6, 6, 4, 4, 7, 5, 8, 11, 10, 9, 7, 1, 10, 7, 12, 12, 3, 6, 4, 6, 7, 11, 3, 4, 5, 9, 8, 9, 2, 2, 10, 12, 6, 2, 11, 4, 5, 12, 1, 6, 7, 4, 3, 9, 7, 10, 8, 9, 2, 10, 3, 8, 3, 12, 1, 4, 5, 6, 6, 10, 2, 3, 11, 8, 4, 8, 9, 5, 7, 12, 2, 10, 3, 6, 2, 11, 12, 4, 12, 9, 6, 1, 8, 2, 11, 9, 3, 10, 7, 10, 5, 7, 10, 8, 12, 3, 12, 4, 5, 7, 6, 11, 2, 8, 3, 9, 10, 6, 9, 2, 7, 10, 3, 12, 5, 4, 8, 7, 6, 11, 3, 6, 9, 2, 8, 9, 11, 10, 2, 1, 9, 5, 3, 12, 10, 4, 12, 7, 6, 11, 3, 8, 2, 10, 7, 8, 5, 1, 2, 6, 9, 3, 5, 7, 11, 12, 1, 6, 3, 9, 8, 10, 2, 12, 2, 4, 5, 10, 9, 1, 8, 6, 3, 5, 11, 12, 7, 1, 3, 6, 8, 9, 10, 2, 12, 2, 5, 1, 4, 10, 9, 8, 6, 3, 8, 12, 8, 6, 3, 9, 5, 10, 1, 2, 11, 4, 10, 4, 2, 7, 1, 9, 7, 2, 3, 4, 1, 12, 9, 11, 3, 7, 8, 6, 8, 9, 4, 5, 10, 10, 12, 1, 7, 7, 3, 11, 1, 12, 3, 7, 4, 8, 9, 6, 8, 5, 10, 12, 2, 1, 4, 10, 5, 6, 2, 3, 8, 12, 9, 1, 4, 11, 12, 3, 7, 4, 1, 9, 5, 10, 7, 5, 2, 8, 2, 6, 8, 2, 11, 12, 1, 4, 3, 11, 3, 12, 1, 9, 4, 5, 10, 2, 9, 7, 6, 12, 12, 1, 7, 5, 4, 3, 11, 6, 9, 10, 1, 4, 11, 2, 8, 2, 6, 5, 3, 12, 9, 1, 4, 2, 5, 4, 1, 3, 12, 11, 11, 9, 10, 2, 6, 8, 5, 8, 10, 6, 11, 12, 5, 4, 1, 9, 3, 12, 11, 3, 4, 1, 9, 2, 10, 2, 6, 8, 5, 7, 10, 8, 12, 5, 1, 3, 4, 1, 4, 9, 12, 3, 11, 11, 10, 9, 2, 8, 6, 2, 5, 7, 8, 7, 10, 12, 11, 2, 4, 1, 12, 3, 11, 3, 5, 10, 9, 2, 1, 4, 5, 8, 6, 7, 10, 8, 7, 9, 6], \"x0\": \" \", \"xaxis\": \"x\", \"y\": [1108.0, null, 968.0, 968.0, 1170.0, 984.0, null, 795.0, 733.0, 681.0, 872.0, 578.0, 668.0, null, null, null, null, 861.0, null, null, null, null, null, null, 772.0, 913.0, 1261.0, 844.0, 1005.0, 659.0, 1152.0, 1138.0, 610.0, null, 944.0, null, 544.0, 1072.0, null, null, null, null, null, 539.0, null, 1278.0, 1227.0, 1039.0, 878.0, 1033.0, 782.0, 1216.0, null, null, 513.0, 734.0, 1202.0, null, null, 884.0, null, null, null, null, null, 1227.0, null, null, 1255.0, 1047.0, 1138.0, 678.0, 712.0, 1037.0, 757.0, 759.0, null, null, 1083.0, 944.0, null, null, 666.0, null, null, null, null, null, 1187.0, 1305.0, null, null, 716.0, 925.0, 963.0, 1101.0, 1035.0, 1083.0, 910.0, 1209.0, 590.0, null, 808.0, null, null, null, 1179.0, 1324.0, 1135.0, null, null, null, null, null, 776.0, 990.0, 986.0, 924.0, 1120.0, 1066.0, 1144.0, 413.0, null, null, 568.0, null, null, null, 1216.0, null, 1189.0, 942.0, 1050.0, 1026.0, null, null, 783.0, 857.0, 548.0, 411.0, 1066.0, null, null, null, null, null, 287.0, 724.0, null, null, null, null, 1122.0, 970.0, 1158.0, null, null, null, 660.0, 749.0, 893.0, 887.0, 1335.0, 1082.0, 1075.0, 749.0, null, null, 966.0, null, null, null, 1095.0, null, null, 1383.0, 1012.0, 1209.0, null, null, 887.0, 896.0, 805.0, 762.0, 1043.0, null, null, null, 831.0, null, null, 562.0, 1208.0, null, null, null, null, null, 1099.0, 1093.0, 1031.0, 1233.0, null, null, 941.0, 843.0, 760.0, 737.0, null, 381.0, 1141.0, 1004.0, null, null, 581.0, null, null, null, null, null, null, 1073.0, 1156.0, 1211.0, 1126.0, null, null, 1004.0, 1063.0, 723.0, 465.0, null, null, null, 530.0, 1297.0, 783.0, 715.0, null, null, 1150.0, null, null, null, 1232.0, 1218.0, null, null, 1159.0, 972.0, 1092.0, 965.0, null, 816.0, 947.0, 838.0, null, 1086.0, null, null, null, null, null, null, 1160.0, 1177.0, 1281.0, 1369.0, 1084.0, 1216.0, 391.0, null, 1102.0, 872.0, null, 1076.0, 917.0, 1044.0, null, null, null, null, null, 1067.0, 1039.0, 1396.0, 1292.0, 171.0, 1128.0, 865.0, 825.0, null, null, 1163.0, 1140.0, 1027.0, null, 1052.0, null, null, null, null, 1140.0, 624.0, 1288.0, 1381.0, 882.0, 1002.0, null, 585.0, 1138.0, 1140.0, 1025.0, null, 1031.0, null, 1381.0, null, null, null, null, 1028.0, 1380.0, 1196.0, null, 1006.0, 930.0, 1095.0, 938.0, 1484.0, null, 1255.0, 1040.0, 1492.0, null, null, 1111.0, null, 1047.0, 1434.0, 399.0, 983.0, 1108.0, 1134.0, 1363.0, null, 1501.0, 1352.0, null, 1352.0, 1450.0, null, null, null, 825.0, 916.0, null, 562.0, 1422.0, 1206.0, null, 1404.0, 1139.0, 1735.0, 1595.0, 1245.0, null, 757.0, null, 1720.0, null, null, null, 759.0, 1510.0, 955.0, 1328.0, 1384.0, 1244.0, null, 1480.0, 1863.0, null, null, null, null, 1492.0, 1859.0, 980.0, 970.0, null, null, null, null, null, null, 1606.0, 727.0, null, null, null, null, 1472.0, 1332.0, 1009.0, 1266.0, 1316.0, 1282.0, 1382.0, null, 1295.0, 925.0, null, null, 1448.0, null, null, null, null, null, null, null, 867.0, 1636.0, 1682.0, 1495.0, 1181.0, 1413.0, null, 360.0, 1296.0, 1217.0, 1086.0, null, 532.0, 1557.0, null, null, null, null, null, null, null, 1016.0, 1072.0, 1584.0, 1764.0, 1745.0, 1250.0, null, 1118.0, 1143.0, 1337.0, null, 1519.0, 749.0, 1635.0, 1299.0, null, null, null, 1134.0, null, 1106.0, null, null, null, 1871.0, null, null, 1294.0, 1462.0, 976.0, 338.0, null, 1455.0, 1282.0, 1559.0, 1350.0, null, null, null, 1175.0, 1868.0, null, 1045.0, 1342.0, null, 1340.0, 1429.0, null, null, 1413.0, 336.0, 511.0, null, 958.0, null, 1416.0, null, 1287.0, 1444.0, 1088.0, null, null, null, null, null, 1579.0, 1170.0, 1015.0, null, 1436.0, null, 1601.0, 717.0, null, 830.0, 1136.0, 1397.0, null, null, null, null, null, null, null, null, null, null, null, null, 1116.0, 1432.0, 1082.0, 1502.0, 1209.0, 282.0, 1417.0, 799.0, 1109.0, 1144.0, null, 1396.0, 1582.0, null, 1124.0, null, null, null, 1282.0, 1472.0, null, 1282.0, 1276.0, null, 1192.0, 881.0, 1196.0, 1400.0, null, 16882.0, null, 21385.0, 21266.0, 21540.0, null, null, 12261.0, 23122.0, 8992.0, null, 9792.0, 2984.0, null, null, 839.0, 2698.0, null, 1435.0, null, 1500.0, 1188.0, null, null, 1112.0, 1452.0, null, 340.0, 1029.0, null, 1070.0, 946.0, 913.0, 1363.0, 1639.0, null, null, 415.0, 1263.0, 968.0, 1108.0, null, null, null, 1532.0, 1094.0, 1086.0, null, null, 941.0, 1471.0, 1042.0, 1248.0, null, 326.0, null, 287.0, 1300.0, 1485.0, 1039.0, null, 1063.0, null, null, null, null, 1083.0, 1069.0, null, 668.0, 766.0, 557.0, 1608.0, 417.0, 1167.0, null, 1186.0, 1060.0, 1534.0, 1142.0, null, null, null, 1021.0, 829.0, null, 813.0, 677.0, null, 658.0, 486.0, 687.0, null, 652.0, 1233.0, null, 1388.0, 1615.0, 1283.0, null, null, null, null, 1026.0, 909.0, 670.0, 629.0, 754.0, null, null, 712.0, 148.0, 154.0, null, null, 1127.0, 1506.0, 1413.0, null, 970.0, 1271.0, 1073.0, 767.0, 103.0, null, 773.0, null, 708.0, 842.0, 901.0, null, null, null, 1268.0, 1546.0, 813.0, 1512.0, null, 1263.0, 900.0, null, 640.0, 13.0, 855.0, null, 855.0, null, null, 1025.0, 1061.0, null, null, 1557.0, 1498.0, null, null, null, 598.0, 656.0, 854.0, 609.0, 788.0, 1069.0, 667.0, null, 829.0, null, 11.0, 434.0, 1397.0, null, 1327.0, null, 894.0, null, 610.0, 779.0, null, null, 419.0, null, null, 909.0, 1039.0, 14.0, 1193.0, 10.0, 770.0, 1416.0, null, null, null, 942.0, 674.0, null, 481.0, 664.0, null, 824.0, 957.0, 1039.0, 822.0, 1261.0, null, null, null, null, 1420.0, null, 1120.0, null, 679.0, null, 881.0, 507.0, 814.0, 700.0, null, null, 919.0, 1361.0, 12.0, null, 1688.0, 1422.0, null, null, null, 1263.0, 461.0, 1079.0, null, 895.0, 912.0, null, 784.0, null, 7.0, 680.0, 1131.0, 2103.0, null, 1445.0, null, null, null, 1133.0, null, 726.0, 849.0, null, 562.0, 1054.0, 1422.0, null, 680.0, 2120.0, 179.0, null, null, 838.0, 741.0, null, null, null, 685.0, 864.0, 511.0, 1095.0, 1374.0, 759.0, 553.0, null, 1057.0, 1587.0, null, null, null, null, 868.0, 1119.0, null, 962.0, null, 1126.0, 265.0, 859.0, 276.0, null, 899.0, null, null, 247.0, 653.0, 1116.0, null, null, 1603.0, null, 444.0, null, 841.0, 1410.0, null, null, null, null, 1103.0, 922.0, null, null, 1055.0, null, 1146.0, 746.0, 834.0, 1717.0, 1041.0, 1531.0, 627.0, null, 450.0, null, null, null, null, null, 1060.0, 891.0, 541.0, 709.0, 1100.0, 826.0, 577.0, 1094.0, 1228.0, 1641.0, 1583.0, null, null, null, null, null, null, 1062.0, 450.0, 901.0, null, 739.0, 913.0, 698.0, 1172.0, null, null, 408.0, 1079.0, 1068.0, null, 1834.0, null, 708.0, 1085.0, null, null, null, null, 323.0, 1053.0, 786.0, 1003.0, 635.0, 1283.0, 847.0, 361.0, 1653.0, null, null, 15.0, 762.0, null, null, null, null, null, 694.0, 816.0, 1065.0, null, 912.0, 1244.0, 1020.0, 916.0, 1591.0, 398.0, null, null, 437.0, 413.0, null, null, 1164.0, null, null, null, null, 954.0, 1194.0, 644.0, null, 1144.0, 1012.0, 792.0, 841.0, 1448.0, 512.0, null, null, 609.0, 1448.0, 556.0, null, null, null, null, null, null, 1106.0, 622.0, 1193.0, 1143.0, 895.0, 549.0, 1393.0, 1578.0, 254.0, 347.0, null, null, 692.0, null, 934.0, null, null, null, null, null, null, 1527.0, 1035.0, null, 632.0, 1231.0, 616.0, null, 947.0, 551.0, 935.0, 832.0, 544.0, 1511.0, null, null, null, null, null, null, 601.0, 1562.0, 983.0, 1156.0, 29.0, 950.0, 534.0, 1096.0, 402.0, null, 573.0, 1313.0, null, null, null, null, null, null, null, 157.0, null, null, null, null, null, null, 433.0, 961.0, 1169.0, 874.0, 1028.0, 1772.0, 1206.0, 586.0, 1334.0, null, null, null, 30.0, 261.0, 52.0, null, null, null, null, null, null, null, 455.0, 797.0, 959.0, 1373.0, 1228.0, 1117.0, 230.0, 1390.0, 529.0, null, 834.0, 1450.0, null, 986.0, 1267.0, null, null, 1195.0, 983.0, 471.0, null, 1226.0, 1251.0, null, null, null, 626.0, null, null, 1379.0, 541.0, null, null, null, null, null, null, null, 1082.0, 1254.0, 1278.0, 1064.0, 313.0, null, 1239.0, 1335.0, 928.0, 1266.0, 869.0, 711.0, null, null, null, null, null, null, 1079.0, 1322.0, null, 964.0, 1132.0, 357.0, null, null, null, 1193.0, 817.0, 1576.0, null, 1262.0, 953.0, 919.0, 1161.0, null, null, null, null, 1574.0, null, null, null, 1104.0, null, 1069.0, 756.0, 338.0, null, 1499.0, 1247.0, null, 923.0, 1180.0, 957.0, 1001.0, 1017.0, null, null, null, null, null, null, null, null, 470.0, 735.0, 560.0, null, null, 1674.0, 290.0, 971.0, 1322.0, 1054.0, 992.0, 914.0, 1128.0, 935.0, null, null, null, null, null], \"y0\": \" \", \"yaxis\": \"y\"}],                        {\"boxmode\": \"group\", \"legend\": {\"tracegroupgap\": 0}, \"margin\": {\"t\": 60}, \"template\": {\"data\": {\"bar\": [{\"error_x\": {\"color\": \"#2a3f5f\"}, \"error_y\": {\"color\": \"#2a3f5f\"}, \"marker\": {\"line\": {\"color\": \"#E5ECF6\", \"width\": 0.5}}, \"type\": \"bar\"}], \"barpolar\": [{\"marker\": {\"line\": {\"color\": \"#E5ECF6\", \"width\": 0.5}}, \"type\": \"barpolar\"}], \"carpet\": [{\"aaxis\": {\"endlinecolor\": \"#2a3f5f\", \"gridcolor\": \"white\", \"linecolor\": \"white\", \"minorgridcolor\": \"white\", \"startlinecolor\": \"#2a3f5f\"}, \"baxis\": {\"endlinecolor\": \"#2a3f5f\", \"gridcolor\": \"white\", \"linecolor\": \"white\", \"minorgridcolor\": \"white\", \"startlinecolor\": \"#2a3f5f\"}, \"type\": \"carpet\"}], \"choropleth\": [{\"colorbar\": {\"outlinewidth\": 0, \"ticks\": \"\"}, \"type\": \"choropleth\"}], \"contour\": [{\"colorbar\": {\"outlinewidth\": 0, \"ticks\": \"\"}, \"colorscale\": [[0.0, \"#0d0887\"], [0.1111111111111111, \"#46039f\"], [0.2222222222222222, \"#7201a8\"], [0.3333333333333333, \"#9c179e\"], [0.4444444444444444, \"#bd3786\"], [0.5555555555555556, \"#d8576b\"], [0.6666666666666666, \"#ed7953\"], [0.7777777777777778, \"#fb9f3a\"], [0.8888888888888888, \"#fdca26\"], [1.0, \"#f0f921\"]], \"type\": \"contour\"}], \"contourcarpet\": [{\"colorbar\": {\"outlinewidth\": 0, \"ticks\": \"\"}, \"type\": \"contourcarpet\"}], \"heatmap\": [{\"colorbar\": {\"outlinewidth\": 0, \"ticks\": \"\"}, \"colorscale\": [[0.0, \"#0d0887\"], [0.1111111111111111, \"#46039f\"], [0.2222222222222222, \"#7201a8\"], [0.3333333333333333, \"#9c179e\"], [0.4444444444444444, \"#bd3786\"], [0.5555555555555556, \"#d8576b\"], [0.6666666666666666, \"#ed7953\"], [0.7777777777777778, \"#fb9f3a\"], [0.8888888888888888, \"#fdca26\"], [1.0, \"#f0f921\"]], \"type\": \"heatmap\"}], \"heatmapgl\": [{\"colorbar\": {\"outlinewidth\": 0, \"ticks\": \"\"}, \"colorscale\": [[0.0, \"#0d0887\"], [0.1111111111111111, \"#46039f\"], [0.2222222222222222, \"#7201a8\"], [0.3333333333333333, \"#9c179e\"], [0.4444444444444444, \"#bd3786\"], [0.5555555555555556, \"#d8576b\"], [0.6666666666666666, \"#ed7953\"], [0.7777777777777778, \"#fb9f3a\"], [0.8888888888888888, \"#fdca26\"], [1.0, \"#f0f921\"]], \"type\": \"heatmapgl\"}], \"histogram\": [{\"marker\": {\"colorbar\": {\"outlinewidth\": 0, \"ticks\": \"\"}}, \"type\": \"histogram\"}], \"histogram2d\": [{\"colorbar\": {\"outlinewidth\": 0, \"ticks\": \"\"}, \"colorscale\": [[0.0, \"#0d0887\"], [0.1111111111111111, \"#46039f\"], [0.2222222222222222, \"#7201a8\"], [0.3333333333333333, \"#9c179e\"], [0.4444444444444444, \"#bd3786\"], [0.5555555555555556, \"#d8576b\"], [0.6666666666666666, \"#ed7953\"], [0.7777777777777778, \"#fb9f3a\"], [0.8888888888888888, \"#fdca26\"], [1.0, \"#f0f921\"]], \"type\": \"histogram2d\"}], \"histogram2dcontour\": [{\"colorbar\": {\"outlinewidth\": 0, \"ticks\": \"\"}, \"colorscale\": [[0.0, \"#0d0887\"], [0.1111111111111111, \"#46039f\"], [0.2222222222222222, \"#7201a8\"], [0.3333333333333333, \"#9c179e\"], [0.4444444444444444, \"#bd3786\"], [0.5555555555555556, \"#d8576b\"], [0.6666666666666666, \"#ed7953\"], [0.7777777777777778, \"#fb9f3a\"], [0.8888888888888888, \"#fdca26\"], [1.0, \"#f0f921\"]], \"type\": \"histogram2dcontour\"}], \"mesh3d\": [{\"colorbar\": {\"outlinewidth\": 0, \"ticks\": \"\"}, \"type\": \"mesh3d\"}], \"parcoords\": [{\"line\": {\"colorbar\": {\"outlinewidth\": 0, \"ticks\": \"\"}}, \"type\": \"parcoords\"}], \"pie\": [{\"automargin\": true, \"type\": \"pie\"}], \"scatter\": [{\"marker\": {\"colorbar\": {\"outlinewidth\": 0, \"ticks\": \"\"}}, \"type\": \"scatter\"}], \"scatter3d\": [{\"line\": {\"colorbar\": {\"outlinewidth\": 0, \"ticks\": \"\"}}, \"marker\": {\"colorbar\": {\"outlinewidth\": 0, \"ticks\": \"\"}}, \"type\": \"scatter3d\"}], \"scattercarpet\": [{\"marker\": {\"colorbar\": {\"outlinewidth\": 0, \"ticks\": \"\"}}, \"type\": \"scattercarpet\"}], \"scattergeo\": [{\"marker\": {\"colorbar\": {\"outlinewidth\": 0, \"ticks\": \"\"}}, \"type\": \"scattergeo\"}], \"scattergl\": [{\"marker\": {\"colorbar\": {\"outlinewidth\": 0, \"ticks\": \"\"}}, \"type\": \"scattergl\"}], \"scattermapbox\": [{\"marker\": {\"colorbar\": {\"outlinewidth\": 0, \"ticks\": \"\"}}, \"type\": \"scattermapbox\"}], \"scatterpolar\": [{\"marker\": {\"colorbar\": {\"outlinewidth\": 0, \"ticks\": \"\"}}, \"type\": \"scatterpolar\"}], \"scatterpolargl\": [{\"marker\": {\"colorbar\": {\"outlinewidth\": 0, \"ticks\": \"\"}}, \"type\": \"scatterpolargl\"}], \"scatterternary\": [{\"marker\": {\"colorbar\": {\"outlinewidth\": 0, \"ticks\": \"\"}}, \"type\": \"scatterternary\"}], \"surface\": [{\"colorbar\": {\"outlinewidth\": 0, \"ticks\": \"\"}, \"colorscale\": [[0.0, \"#0d0887\"], [0.1111111111111111, \"#46039f\"], [0.2222222222222222, \"#7201a8\"], [0.3333333333333333, \"#9c179e\"], [0.4444444444444444, \"#bd3786\"], [0.5555555555555556, \"#d8576b\"], [0.6666666666666666, \"#ed7953\"], [0.7777777777777778, \"#fb9f3a\"], [0.8888888888888888, \"#fdca26\"], [1.0, \"#f0f921\"]], \"type\": \"surface\"}], \"table\": [{\"cells\": {\"fill\": {\"color\": \"#EBF0F8\"}, \"line\": {\"color\": \"white\"}}, \"header\": {\"fill\": {\"color\": \"#C8D4E3\"}, \"line\": {\"color\": \"white\"}}, \"type\": \"table\"}]}, \"layout\": {\"annotationdefaults\": {\"arrowcolor\": \"#2a3f5f\", \"arrowhead\": 0, \"arrowwidth\": 1}, \"autotypenumbers\": \"strict\", \"coloraxis\": {\"colorbar\": {\"outlinewidth\": 0, \"ticks\": \"\"}}, \"colorscale\": {\"diverging\": [[0, \"#8e0152\"], [0.1, \"#c51b7d\"], [0.2, \"#de77ae\"], [0.3, \"#f1b6da\"], [0.4, \"#fde0ef\"], [0.5, \"#f7f7f7\"], [0.6, \"#e6f5d0\"], [0.7, \"#b8e186\"], [0.8, \"#7fbc41\"], [0.9, \"#4d9221\"], [1, \"#276419\"]], \"sequential\": [[0.0, \"#0d0887\"], [0.1111111111111111, \"#46039f\"], [0.2222222222222222, \"#7201a8\"], [0.3333333333333333, \"#9c179e\"], [0.4444444444444444, \"#bd3786\"], [0.5555555555555556, \"#d8576b\"], [0.6666666666666666, \"#ed7953\"], [0.7777777777777778, \"#fb9f3a\"], [0.8888888888888888, \"#fdca26\"], [1.0, \"#f0f921\"]], \"sequentialminus\": [[0.0, \"#0d0887\"], [0.1111111111111111, \"#46039f\"], [0.2222222222222222, \"#7201a8\"], [0.3333333333333333, \"#9c179e\"], [0.4444444444444444, \"#bd3786\"], [0.5555555555555556, \"#d8576b\"], [0.6666666666666666, \"#ed7953\"], [0.7777777777777778, \"#fb9f3a\"], [0.8888888888888888, \"#fdca26\"], [1.0, \"#f0f921\"]]}, \"colorway\": [\"#636efa\", \"#EF553B\", \"#00cc96\", \"#ab63fa\", \"#FFA15A\", \"#19d3f3\", \"#FF6692\", \"#B6E880\", \"#FF97FF\", \"#FECB52\"], \"font\": {\"color\": \"#2a3f5f\"}, \"geo\": {\"bgcolor\": \"white\", \"lakecolor\": \"white\", \"landcolor\": \"#E5ECF6\", \"showlakes\": true, \"showland\": true, \"subunitcolor\": \"white\"}, \"hoverlabel\": {\"align\": \"left\"}, \"hovermode\": \"closest\", \"mapbox\": {\"style\": \"light\"}, \"paper_bgcolor\": \"white\", \"plot_bgcolor\": \"#E5ECF6\", \"polar\": {\"angularaxis\": {\"gridcolor\": \"white\", \"linecolor\": \"white\", \"ticks\": \"\"}, \"bgcolor\": \"#E5ECF6\", \"radialaxis\": {\"gridcolor\": \"white\", \"linecolor\": \"white\", \"ticks\": \"\"}}, \"scene\": {\"xaxis\": {\"backgroundcolor\": \"#E5ECF6\", \"gridcolor\": \"white\", \"gridwidth\": 2, \"linecolor\": \"white\", \"showbackground\": true, \"ticks\": \"\", \"zerolinecolor\": \"white\"}, \"yaxis\": {\"backgroundcolor\": \"#E5ECF6\", \"gridcolor\": \"white\", \"gridwidth\": 2, \"linecolor\": \"white\", \"showbackground\": true, \"ticks\": \"\", \"zerolinecolor\": \"white\"}, \"zaxis\": {\"backgroundcolor\": \"#E5ECF6\", \"gridcolor\": \"white\", \"gridwidth\": 2, \"linecolor\": \"white\", \"showbackground\": true, \"ticks\": \"\", \"zerolinecolor\": \"white\"}}, \"shapedefaults\": {\"line\": {\"color\": \"#2a3f5f\"}}, \"ternary\": {\"aaxis\": {\"gridcolor\": \"white\", \"linecolor\": \"white\", \"ticks\": \"\"}, \"baxis\": {\"gridcolor\": \"white\", \"linecolor\": \"white\", \"ticks\": \"\"}, \"bgcolor\": \"#E5ECF6\", \"caxis\": {\"gridcolor\": \"white\", \"linecolor\": \"white\", \"ticks\": \"\"}}, \"title\": {\"x\": 0.05}, \"xaxis\": {\"automargin\": true, \"gridcolor\": \"white\", \"linecolor\": \"white\", \"ticks\": \"\", \"title\": {\"standoff\": 15}, \"zerolinecolor\": \"white\", \"zerolinewidth\": 2}, \"yaxis\": {\"automargin\": true, \"gridcolor\": \"white\", \"linecolor\": \"white\", \"ticks\": \"\", \"title\": {\"standoff\": 15}, \"zerolinecolor\": \"white\", \"zerolinewidth\": 2}}}, \"xaxis\": {\"anchor\": \"y\", \"domain\": [0.0, 1.0], \"title\": {\"text\": \"team\"}}, \"yaxis\": {\"anchor\": \"x\", \"domain\": [0.0, 1.0], \"title\": {\"text\": \"wip\"}}},                        {\"responsive\": true}                    ).then(function(){\n",
       "                            \n",
       "var gd = document.getElementById('bb577700-5254-4c4f-9d0b-5030a2c9980c');\n",
       "var x = new MutationObserver(function (mutations, observer) {{\n",
       "        var display = window.getComputedStyle(gd).display;\n",
       "        if (!display || display === 'none') {{\n",
       "            console.log([gd, 'removed!']);\n",
       "            Plotly.purge(gd);\n",
       "            observer.disconnect();\n",
       "        }}\n",
       "}});\n",
       "\n",
       "// Listen for the removal of the full notebook cells\n",
       "var notebookContainer = gd.closest('#notebook-container');\n",
       "if (notebookContainer) {{\n",
       "    x.observe(notebookContainer, {childList: true});\n",
       "}}\n",
       "\n",
       "// Listen for the clearing of the current output cell\n",
       "var outputEl = gd.closest('.output');\n",
       "if (outputEl) {{\n",
       "    x.observe(outputEl, {childList: true});\n",
       "}}\n",
       "\n",
       "                        })                };                });            </script>        </div>"
      ]
     },
     "metadata": {}
    }
   ],
   "metadata": {
    "execution": {
     "iopub.execute_input": "2021-04-10T14:15:13.394713Z",
     "iopub.status.busy": "2021-04-10T14:15:13.394057Z",
     "iopub.status.idle": "2021-04-10T14:15:13.459798Z",
     "shell.execute_reply": "2021-04-10T14:15:13.460263Z"
    },
    "papermill": {
     "duration": 0.134896,
     "end_time": "2021-04-10T14:15:13.460442",
     "exception": false,
     "start_time": "2021-04-10T14:15:13.325546",
     "status": "completed"
    },
    "tags": []
   }
  },
  {
   "cell_type": "markdown",
   "source": [
    "# Work in progress in teams"
   ],
   "metadata": {
    "papermill": {
     "duration": 0.065506,
     "end_time": "2021-04-10T14:15:13.593276",
     "exception": false,
     "start_time": "2021-04-10T14:15:13.527770",
     "status": "completed"
    },
    "tags": []
   }
  },
  {
   "cell_type": "code",
   "execution_count": 36,
   "source": [
    "fig = px.box(df, x=\"quarter\", y=\"wip\")\n",
    "fig.show()"
   ],
   "outputs": [
    {
     "output_type": "display_data",
     "data": {
      "text/html": [
       "<div>                            <div id=\"f37488dc-6c82-48a3-bd2d-a1b1f2b0a7d2\" class=\"plotly-graph-div\" style=\"height:525px; width:100%;\"></div>            <script type=\"text/javascript\">                require([\"plotly\"], function(Plotly) {                    window.PLOTLYENV=window.PLOTLYENV || {};                                    if (document.getElementById(\"f37488dc-6c82-48a3-bd2d-a1b1f2b0a7d2\")) {                    Plotly.newPlot(                        \"f37488dc-6c82-48a3-bd2d-a1b1f2b0a7d2\",                        [{\"alignmentgroup\": \"True\", \"hovertemplate\": \"quarter=%{x}<br>wip=%{y}<extra></extra>\", \"legendgroup\": \"\", \"marker\": {\"color\": \"#636efa\"}, \"name\": \"\", \"notched\": false, \"offsetgroup\": \"\", \"orientation\": \"v\", \"showlegend\": false, \"type\": \"box\", \"x\": [\"Quarter1\", \"Quarter1\", \"Quarter1\", \"Quarter1\", \"Quarter1\", \"Quarter1\", \"Quarter1\", \"Quarter1\", \"Quarter1\", \"Quarter1\", \"Quarter1\", \"Quarter1\", \"Quarter1\", \"Quarter1\", \"Quarter1\", \"Quarter1\", \"Quarter1\", \"Quarter1\", \"Quarter1\", \"Quarter1\", \"Quarter1\", \"Quarter1\", \"Quarter1\", \"Quarter1\", \"Quarter1\", \"Quarter1\", \"Quarter1\", \"Quarter1\", \"Quarter1\", \"Quarter1\", \"Quarter1\", \"Quarter1\", \"Quarter1\", \"Quarter1\", \"Quarter1\", \"Quarter1\", \"Quarter1\", \"Quarter1\", \"Quarter1\", \"Quarter1\", \"Quarter1\", \"Quarter1\", \"Quarter1\", \"Quarter1\", \"Quarter1\", \"Quarter1\", \"Quarter1\", \"Quarter1\", \"Quarter1\", \"Quarter1\", \"Quarter1\", \"Quarter1\", \"Quarter1\", \"Quarter1\", \"Quarter1\", \"Quarter1\", \"Quarter1\", \"Quarter1\", \"Quarter1\", \"Quarter1\", \"Quarter1\", \"Quarter1\", \"Quarter1\", \"Quarter1\", \"Quarter1\", \"Quarter1\", \"Quarter1\", \"Quarter1\", \"Quarter1\", \"Quarter1\", \"Quarter1\", \"Quarter1\", \"Quarter1\", \"Quarter1\", \"Quarter1\", \"Quarter1\", \"Quarter1\", \"Quarter1\", \"Quarter1\", \"Quarter1\", \"Quarter1\", \"Quarter1\", \"Quarter1\", \"Quarter1\", \"Quarter1\", \"Quarter1\", \"Quarter1\", \"Quarter1\", \"Quarter1\", \"Quarter1\", \"Quarter1\", \"Quarter1\", \"Quarter1\", \"Quarter1\", \"Quarter1\", \"Quarter1\", \"Quarter1\", \"Quarter1\", \"Quarter1\", \"Quarter1\", \"Quarter1\", \"Quarter1\", \"Quarter1\", \"Quarter1\", \"Quarter1\", \"Quarter1\", \"Quarter1\", \"Quarter1\", \"Quarter1\", \"Quarter1\", \"Quarter1\", \"Quarter1\", \"Quarter1\", \"Quarter1\", \"Quarter1\", \"Quarter1\", \"Quarter1\", \"Quarter1\", \"Quarter1\", \"Quarter1\", \"Quarter1\", \"Quarter1\", \"Quarter1\", \"Quarter1\", \"Quarter1\", \"Quarter1\", \"Quarter2\", \"Quarter2\", \"Quarter2\", \"Quarter2\", \"Quarter2\", \"Quarter2\", \"Quarter2\", \"Quarter2\", \"Quarter2\", \"Quarter2\", \"Quarter2\", \"Quarter2\", \"Quarter2\", \"Quarter2\", \"Quarter2\", \"Quarter2\", \"Quarter2\", \"Quarter2\", \"Quarter2\", \"Quarter2\", \"Quarter2\", \"Quarter2\", \"Quarter2\", \"Quarter2\", \"Quarter2\", \"Quarter2\", \"Quarter2\", \"Quarter2\", \"Quarter2\", \"Quarter2\", \"Quarter2\", \"Quarter2\", \"Quarter2\", \"Quarter2\", \"Quarter2\", \"Quarter2\", \"Quarter2\", \"Quarter2\", \"Quarter2\", \"Quarter2\", \"Quarter2\", \"Quarter2\", \"Quarter2\", \"Quarter2\", \"Quarter2\", \"Quarter2\", \"Quarter2\", \"Quarter2\", \"Quarter2\", \"Quarter2\", \"Quarter2\", \"Quarter2\", \"Quarter2\", \"Quarter2\", \"Quarter2\", \"Quarter2\", \"Quarter2\", \"Quarter2\", \"Quarter2\", \"Quarter2\", \"Quarter2\", \"Quarter2\", \"Quarter2\", \"Quarter2\", \"Quarter2\", \"Quarter2\", \"Quarter2\", \"Quarter2\", \"Quarter2\", \"Quarter2\", \"Quarter2\", \"Quarter2\", \"Quarter2\", \"Quarter2\", \"Quarter2\", \"Quarter2\", \"Quarter2\", \"Quarter2\", \"Quarter2\", \"Quarter2\", \"Quarter2\", \"Quarter2\", \"Quarter2\", \"Quarter2\", \"Quarter2\", \"Quarter2\", \"Quarter2\", \"Quarter2\", \"Quarter2\", \"Quarter2\", \"Quarter2\", \"Quarter2\", \"Quarter2\", \"Quarter2\", \"Quarter2\", \"Quarter2\", \"Quarter2\", \"Quarter2\", \"Quarter2\", \"Quarter2\", \"Quarter2\", \"Quarter2\", \"Quarter2\", \"Quarter2\", \"Quarter2\", \"Quarter2\", \"Quarter2\", \"Quarter2\", \"Quarter2\", \"Quarter2\", \"Quarter2\", \"Quarter2\", \"Quarter2\", \"Quarter2\", \"Quarter2\", \"Quarter2\", \"Quarter2\", \"Quarter2\", \"Quarter2\", \"Quarter2\", \"Quarter2\", \"Quarter2\", \"Quarter2\", \"Quarter2\", \"Quarter2\", \"Quarter2\", \"Quarter2\", \"Quarter2\", \"Quarter2\", \"Quarter2\", \"Quarter2\", \"Quarter2\", \"Quarter2\", \"Quarter3\", \"Quarter3\", \"Quarter3\", \"Quarter3\", \"Quarter3\", \"Quarter3\", \"Quarter3\", \"Quarter3\", \"Quarter3\", \"Quarter3\", \"Quarter3\", \"Quarter3\", \"Quarter3\", \"Quarter3\", \"Quarter3\", \"Quarter3\", \"Quarter3\", \"Quarter3\", \"Quarter3\", \"Quarter3\", \"Quarter3\", \"Quarter3\", \"Quarter3\", \"Quarter3\", \"Quarter3\", \"Quarter3\", \"Quarter3\", \"Quarter3\", \"Quarter3\", \"Quarter3\", \"Quarter3\", \"Quarter3\", \"Quarter3\", \"Quarter3\", \"Quarter3\", \"Quarter3\", \"Quarter3\", \"Quarter3\", \"Quarter3\", \"Quarter3\", \"Quarter3\", \"Quarter3\", \"Quarter3\", \"Quarter3\", \"Quarter3\", \"Quarter3\", \"Quarter3\", \"Quarter3\", \"Quarter3\", \"Quarter3\", \"Quarter3\", \"Quarter3\", \"Quarter3\", \"Quarter3\", \"Quarter3\", \"Quarter3\", \"Quarter3\", \"Quarter3\", \"Quarter3\", \"Quarter3\", \"Quarter3\", \"Quarter3\", \"Quarter3\", \"Quarter3\", \"Quarter3\", \"Quarter3\", \"Quarter3\", \"Quarter3\", \"Quarter3\", \"Quarter3\", \"Quarter3\", \"Quarter3\", \"Quarter3\", \"Quarter3\", \"Quarter3\", \"Quarter3\", \"Quarter3\", \"Quarter3\", \"Quarter3\", \"Quarter3\", \"Quarter3\", \"Quarter3\", \"Quarter3\", \"Quarter3\", \"Quarter3\", \"Quarter3\", \"Quarter3\", \"Quarter3\", \"Quarter3\", \"Quarter3\", \"Quarter3\", \"Quarter3\", \"Quarter3\", \"Quarter3\", \"Quarter3\", \"Quarter3\", \"Quarter3\", \"Quarter3\", \"Quarter3\", \"Quarter3\", \"Quarter3\", \"Quarter3\", \"Quarter3\", \"Quarter3\", \"Quarter3\", \"Quarter3\", \"Quarter3\", \"Quarter3\", \"Quarter3\", \"Quarter3\", \"Quarter3\", \"Quarter3\", \"Quarter4\", \"Quarter4\", \"Quarter4\", \"Quarter4\", \"Quarter4\", \"Quarter4\", \"Quarter4\", \"Quarter4\", \"Quarter4\", \"Quarter4\", \"Quarter4\", \"Quarter4\", \"Quarter4\", \"Quarter4\", \"Quarter4\", \"Quarter4\", \"Quarter4\", \"Quarter4\", \"Quarter4\", \"Quarter4\", \"Quarter4\", \"Quarter4\", \"Quarter4\", \"Quarter4\", \"Quarter4\", \"Quarter4\", \"Quarter4\", \"Quarter4\", \"Quarter4\", \"Quarter4\", \"Quarter4\", \"Quarter4\", \"Quarter4\", \"Quarter4\", \"Quarter4\", \"Quarter4\", \"Quarter4\", \"Quarter4\", \"Quarter4\", \"Quarter4\", \"Quarter4\", \"Quarter4\", \"Quarter4\", \"Quarter4\", \"Quarter4\", \"Quarter4\", \"Quarter4\", \"Quarter4\", \"Quarter4\", \"Quarter4\", \"Quarter4\", \"Quarter4\", \"Quarter4\", \"Quarter4\", \"Quarter4\", \"Quarter4\", \"Quarter4\", \"Quarter4\", \"Quarter4\", \"Quarter4\", \"Quarter4\", \"Quarter4\", \"Quarter4\", \"Quarter4\", \"Quarter4\", \"Quarter4\", \"Quarter4\", \"Quarter4\", \"Quarter4\", \"Quarter4\", \"Quarter4\", \"Quarter4\", \"Quarter4\", \"Quarter4\", \"Quarter4\", \"Quarter4\", \"Quarter4\", \"Quarter4\", \"Quarter4\", \"Quarter4\", \"Quarter4\", \"Quarter4\", \"Quarter4\", \"Quarter4\", \"Quarter4\", \"Quarter4\", \"Quarter4\", \"Quarter4\", \"Quarter4\", \"Quarter4\", \"Quarter4\", \"Quarter4\", \"Quarter4\", \"Quarter4\", \"Quarter4\", \"Quarter4\", \"Quarter4\", \"Quarter4\", \"Quarter4\", \"Quarter4\", \"Quarter4\", \"Quarter4\", \"Quarter4\", \"Quarter4\", \"Quarter4\", \"Quarter4\", \"Quarter4\", \"Quarter4\", \"Quarter4\", \"Quarter4\", \"Quarter4\", \"Quarter4\", \"Quarter4\", \"Quarter4\", \"Quarter4\", \"Quarter4\", \"Quarter4\", \"Quarter4\", \"Quarter4\", \"Quarter4\", \"Quarter4\", \"Quarter4\", \"Quarter4\", \"Quarter4\", \"Quarter4\", \"Quarter4\", \"Quarter4\", \"Quarter5\", \"Quarter5\", \"Quarter5\", \"Quarter5\", \"Quarter5\", \"Quarter5\", \"Quarter5\", \"Quarter5\", \"Quarter5\", \"Quarter5\", \"Quarter5\", \"Quarter5\", \"Quarter5\", \"Quarter5\", \"Quarter5\", \"Quarter5\", \"Quarter5\", \"Quarter5\", \"Quarter5\", \"Quarter5\", \"Quarter5\", \"Quarter5\", \"Quarter5\", \"Quarter5\", \"Quarter5\", \"Quarter5\", \"Quarter5\", \"Quarter5\", \"Quarter5\", \"Quarter5\", \"Quarter5\", \"Quarter5\", \"Quarter5\", \"Quarter5\", \"Quarter5\", \"Quarter5\", \"Quarter5\", \"Quarter5\", \"Quarter5\", \"Quarter5\", \"Quarter5\", \"Quarter5\", \"Quarter5\", \"Quarter5\", \"Quarter1\", \"Quarter1\", \"Quarter1\", \"Quarter1\", \"Quarter1\", \"Quarter1\", \"Quarter1\", \"Quarter1\", \"Quarter1\", \"Quarter1\", \"Quarter1\", \"Quarter1\", \"Quarter1\", \"Quarter1\", \"Quarter1\", \"Quarter1\", \"Quarter1\", \"Quarter1\", \"Quarter1\", \"Quarter1\", \"Quarter1\", \"Quarter1\", \"Quarter1\", \"Quarter1\", \"Quarter1\", \"Quarter1\", \"Quarter1\", \"Quarter1\", \"Quarter1\", \"Quarter1\", \"Quarter1\", \"Quarter1\", \"Quarter1\", \"Quarter1\", \"Quarter1\", \"Quarter1\", \"Quarter1\", \"Quarter1\", \"Quarter1\", \"Quarter1\", \"Quarter1\", \"Quarter1\", \"Quarter1\", \"Quarter1\", \"Quarter1\", \"Quarter1\", \"Quarter1\", \"Quarter1\", \"Quarter1\", \"Quarter1\", \"Quarter1\", \"Quarter1\", \"Quarter1\", \"Quarter1\", \"Quarter1\", \"Quarter1\", \"Quarter1\", \"Quarter1\", \"Quarter1\", \"Quarter1\", \"Quarter1\", \"Quarter1\", \"Quarter1\", \"Quarter1\", \"Quarter1\", \"Quarter1\", \"Quarter1\", \"Quarter1\", \"Quarter1\", \"Quarter1\", \"Quarter1\", \"Quarter1\", \"Quarter1\", \"Quarter1\", \"Quarter1\", \"Quarter1\", \"Quarter1\", \"Quarter1\", \"Quarter1\", \"Quarter1\", \"Quarter1\", \"Quarter1\", \"Quarter1\", \"Quarter1\", \"Quarter1\", \"Quarter1\", \"Quarter1\", \"Quarter1\", \"Quarter1\", \"Quarter1\", \"Quarter1\", \"Quarter1\", \"Quarter1\", \"Quarter1\", \"Quarter1\", \"Quarter1\", \"Quarter1\", \"Quarter1\", \"Quarter1\", \"Quarter1\", \"Quarter1\", \"Quarter1\", \"Quarter1\", \"Quarter1\", \"Quarter1\", \"Quarter1\", \"Quarter1\", \"Quarter1\", \"Quarter1\", \"Quarter1\", \"Quarter1\", \"Quarter1\", \"Quarter1\", \"Quarter2\", \"Quarter2\", \"Quarter2\", \"Quarter2\", \"Quarter2\", \"Quarter2\", \"Quarter2\", \"Quarter2\", \"Quarter2\", \"Quarter2\", \"Quarter2\", \"Quarter2\", \"Quarter2\", \"Quarter2\", \"Quarter2\", \"Quarter2\", \"Quarter2\", \"Quarter2\", \"Quarter2\", \"Quarter2\", \"Quarter2\", \"Quarter2\", \"Quarter2\", \"Quarter2\", \"Quarter2\", \"Quarter2\", \"Quarter2\", \"Quarter2\", \"Quarter2\", \"Quarter2\", \"Quarter2\", \"Quarter2\", \"Quarter2\", \"Quarter2\", \"Quarter2\", \"Quarter2\", \"Quarter2\", \"Quarter2\", \"Quarter2\", \"Quarter2\", \"Quarter2\", \"Quarter2\", \"Quarter2\", \"Quarter2\", \"Quarter2\", \"Quarter2\", \"Quarter2\", \"Quarter2\", \"Quarter2\", \"Quarter2\", \"Quarter2\", \"Quarter2\", \"Quarter2\", \"Quarter2\", \"Quarter2\", \"Quarter2\", \"Quarter2\", \"Quarter2\", \"Quarter2\", \"Quarter2\", \"Quarter2\", \"Quarter2\", \"Quarter2\", \"Quarter2\", \"Quarter2\", \"Quarter2\", \"Quarter2\", \"Quarter2\", \"Quarter2\", \"Quarter2\", \"Quarter2\", \"Quarter2\", \"Quarter2\", \"Quarter2\", \"Quarter2\", \"Quarter2\", \"Quarter2\", \"Quarter2\", \"Quarter2\", \"Quarter2\", \"Quarter2\", \"Quarter2\", \"Quarter2\", \"Quarter2\", \"Quarter2\", \"Quarter2\", \"Quarter2\", \"Quarter2\", \"Quarter2\", \"Quarter2\", \"Quarter2\", \"Quarter2\", \"Quarter2\", \"Quarter2\", \"Quarter2\", \"Quarter2\", \"Quarter2\", \"Quarter2\", \"Quarter2\", \"Quarter2\", \"Quarter2\", \"Quarter2\", \"Quarter2\", \"Quarter2\", \"Quarter2\", \"Quarter2\", \"Quarter2\", \"Quarter2\", \"Quarter2\", \"Quarter2\", \"Quarter2\", \"Quarter3\", \"Quarter3\", \"Quarter3\", \"Quarter3\", \"Quarter3\", \"Quarter3\", \"Quarter3\", \"Quarter3\", \"Quarter3\", \"Quarter3\", \"Quarter3\", \"Quarter3\", \"Quarter3\", \"Quarter3\", \"Quarter3\", \"Quarter3\", \"Quarter3\", \"Quarter3\", \"Quarter3\", \"Quarter3\", \"Quarter3\", \"Quarter3\", \"Quarter3\", \"Quarter3\", \"Quarter3\", \"Quarter3\", \"Quarter3\", \"Quarter3\", \"Quarter3\", \"Quarter3\", \"Quarter3\", \"Quarter3\", \"Quarter3\", \"Quarter3\", \"Quarter3\", \"Quarter3\", \"Quarter3\", \"Quarter3\", \"Quarter3\", \"Quarter3\", \"Quarter3\", \"Quarter3\", \"Quarter3\", \"Quarter3\", \"Quarter3\", \"Quarter3\", \"Quarter3\", \"Quarter3\", \"Quarter3\", \"Quarter3\", \"Quarter3\", \"Quarter3\", \"Quarter3\", \"Quarter3\", \"Quarter3\", \"Quarter3\", \"Quarter3\", \"Quarter3\", \"Quarter3\", \"Quarter3\", \"Quarter3\", \"Quarter3\", \"Quarter3\", \"Quarter3\", \"Quarter3\", \"Quarter3\", \"Quarter3\", \"Quarter3\", \"Quarter3\", \"Quarter3\", \"Quarter3\", \"Quarter3\", \"Quarter3\", \"Quarter3\", \"Quarter3\", \"Quarter3\", \"Quarter3\", \"Quarter3\", \"Quarter3\", \"Quarter3\", \"Quarter3\", \"Quarter3\", \"Quarter3\", \"Quarter3\", \"Quarter3\", \"Quarter3\", \"Quarter3\", \"Quarter3\", \"Quarter3\", \"Quarter3\", \"Quarter3\", \"Quarter3\", \"Quarter3\", \"Quarter3\", \"Quarter3\", \"Quarter3\", \"Quarter3\", \"Quarter3\", \"Quarter4\", \"Quarter4\", \"Quarter4\", \"Quarter4\", \"Quarter4\", \"Quarter4\", \"Quarter4\", \"Quarter4\", \"Quarter4\", \"Quarter4\", \"Quarter4\", \"Quarter4\", \"Quarter4\", \"Quarter4\", \"Quarter4\", \"Quarter4\", \"Quarter4\", \"Quarter4\", \"Quarter4\", \"Quarter4\", \"Quarter4\", \"Quarter4\", \"Quarter4\", \"Quarter4\", \"Quarter4\", \"Quarter4\", \"Quarter4\", \"Quarter4\", \"Quarter4\", \"Quarter4\", \"Quarter4\", \"Quarter4\", \"Quarter4\", \"Quarter4\", \"Quarter4\", \"Quarter4\", \"Quarter4\", \"Quarter4\", \"Quarter4\", \"Quarter4\", \"Quarter4\", \"Quarter4\", \"Quarter4\", \"Quarter4\", \"Quarter4\", \"Quarter4\", \"Quarter4\", \"Quarter4\", \"Quarter4\", \"Quarter4\", \"Quarter4\", \"Quarter4\", \"Quarter4\", \"Quarter4\", \"Quarter4\", \"Quarter4\", \"Quarter4\", \"Quarter4\", \"Quarter4\", \"Quarter4\", \"Quarter4\", \"Quarter4\", \"Quarter4\", \"Quarter4\", \"Quarter4\", \"Quarter4\", \"Quarter4\", \"Quarter4\", \"Quarter4\", \"Quarter4\", \"Quarter4\", \"Quarter4\", \"Quarter4\", \"Quarter4\", \"Quarter4\", \"Quarter4\", \"Quarter4\", \"Quarter4\", \"Quarter4\", \"Quarter4\", \"Quarter4\", \"Quarter4\", \"Quarter4\", \"Quarter4\", \"Quarter4\", \"Quarter4\", \"Quarter4\", \"Quarter4\", \"Quarter4\", \"Quarter4\", \"Quarter4\", \"Quarter4\", \"Quarter4\", \"Quarter4\", \"Quarter4\", \"Quarter4\", \"Quarter4\", \"Quarter4\", \"Quarter4\", \"Quarter4\", \"Quarter4\", \"Quarter4\", \"Quarter4\", \"Quarter4\", \"Quarter4\", \"Quarter4\", \"Quarter4\", \"Quarter4\", \"Quarter4\", \"Quarter4\", \"Quarter4\", \"Quarter4\", \"Quarter4\", \"Quarter4\", \"Quarter4\", \"Quarter4\", \"Quarter4\", \"Quarter4\", \"Quarter4\", \"Quarter4\", \"Quarter4\", \"Quarter1\", \"Quarter1\", \"Quarter1\", \"Quarter1\", \"Quarter1\", \"Quarter1\", \"Quarter1\", \"Quarter1\", \"Quarter1\", \"Quarter1\", \"Quarter1\", \"Quarter1\", \"Quarter1\", \"Quarter1\", \"Quarter1\", \"Quarter1\", \"Quarter1\", \"Quarter1\", \"Quarter1\", \"Quarter1\", \"Quarter1\", \"Quarter1\", \"Quarter1\", \"Quarter1\", \"Quarter1\", \"Quarter1\", \"Quarter1\", \"Quarter1\", \"Quarter1\", \"Quarter1\", \"Quarter1\", \"Quarter1\", \"Quarter1\", \"Quarter1\", \"Quarter1\", \"Quarter1\", \"Quarter1\", \"Quarter1\", \"Quarter1\", \"Quarter1\", \"Quarter1\", \"Quarter1\", \"Quarter1\", \"Quarter1\", \"Quarter1\", \"Quarter1\", \"Quarter1\", \"Quarter1\", \"Quarter1\", \"Quarter1\", \"Quarter1\", \"Quarter1\", \"Quarter1\", \"Quarter1\", \"Quarter1\", \"Quarter1\", \"Quarter1\", \"Quarter1\", \"Quarter1\", \"Quarter1\", \"Quarter1\", \"Quarter1\", \"Quarter1\", \"Quarter1\", \"Quarter1\", \"Quarter1\", \"Quarter1\", \"Quarter1\", \"Quarter1\", \"Quarter1\", \"Quarter1\", \"Quarter1\", \"Quarter1\", \"Quarter1\", \"Quarter1\", \"Quarter1\", \"Quarter1\", \"Quarter1\", \"Quarter1\", \"Quarter1\", \"Quarter1\", \"Quarter1\", \"Quarter1\", \"Quarter1\", \"Quarter1\", \"Quarter1\", \"Quarter1\", \"Quarter1\", \"Quarter1\", \"Quarter1\", \"Quarter1\", \"Quarter1\", \"Quarter1\", \"Quarter1\", \"Quarter1\", \"Quarter1\", \"Quarter1\", \"Quarter1\", \"Quarter1\", \"Quarter1\", \"Quarter1\", \"Quarter1\", \"Quarter1\", \"Quarter1\", \"Quarter1\", \"Quarter1\", \"Quarter1\", \"Quarter1\", \"Quarter1\", \"Quarter1\", \"Quarter1\", \"Quarter1\", \"Quarter1\", \"Quarter1\", \"Quarter1\", \"Quarter1\", \"Quarter1\", \"Quarter1\", \"Quarter1\", \"Quarter1\", \"Quarter1\", \"Quarter2\", \"Quarter2\", \"Quarter2\", \"Quarter2\", \"Quarter2\", \"Quarter2\", \"Quarter2\", \"Quarter2\", \"Quarter2\", \"Quarter2\", \"Quarter2\", \"Quarter2\", \"Quarter2\", \"Quarter2\", \"Quarter2\", \"Quarter2\", \"Quarter2\", \"Quarter2\", \"Quarter2\", \"Quarter2\", \"Quarter2\", \"Quarter2\", \"Quarter2\", \"Quarter2\", \"Quarter2\", \"Quarter2\", \"Quarter2\", \"Quarter2\", \"Quarter2\", \"Quarter2\", \"Quarter2\", \"Quarter2\", \"Quarter2\", \"Quarter2\", \"Quarter2\", \"Quarter2\", \"Quarter2\", \"Quarter2\", \"Quarter2\", \"Quarter2\", \"Quarter2\", \"Quarter2\", \"Quarter2\", \"Quarter2\", \"Quarter2\", \"Quarter2\", \"Quarter2\", \"Quarter2\", \"Quarter2\", \"Quarter2\", \"Quarter2\", \"Quarter2\", \"Quarter2\", \"Quarter2\", \"Quarter2\", \"Quarter2\", \"Quarter2\", \"Quarter2\", \"Quarter2\", \"Quarter2\", \"Quarter2\", \"Quarter2\", \"Quarter2\", \"Quarter2\", \"Quarter2\", \"Quarter2\", \"Quarter2\", \"Quarter2\", \"Quarter2\", \"Quarter2\", \"Quarter2\", \"Quarter2\", \"Quarter2\", \"Quarter2\", \"Quarter2\", \"Quarter2\", \"Quarter2\", \"Quarter2\", \"Quarter2\", \"Quarter2\", \"Quarter2\", \"Quarter2\", \"Quarter2\", \"Quarter2\", \"Quarter2\", \"Quarter2\", \"Quarter2\", \"Quarter2\", \"Quarter2\", \"Quarter2\", \"Quarter2\"], \"x0\": \" \", \"xaxis\": \"x\", \"y\": [1108.0, null, 968.0, 968.0, 1170.0, 984.0, null, 795.0, 733.0, 681.0, 872.0, 578.0, 668.0, null, null, null, null, 861.0, null, null, null, null, null, null, 772.0, 913.0, 1261.0, 844.0, 1005.0, 659.0, 1152.0, 1138.0, 610.0, null, 944.0, null, 544.0, 1072.0, null, null, null, null, null, 539.0, null, 1278.0, 1227.0, 1039.0, 878.0, 1033.0, 782.0, 1216.0, null, null, 513.0, 734.0, 1202.0, null, null, 884.0, null, null, null, null, null, 1227.0, null, null, 1255.0, 1047.0, 1138.0, 678.0, 712.0, 1037.0, 757.0, 759.0, null, null, 1083.0, 944.0, null, null, 666.0, null, null, null, null, null, 1187.0, 1305.0, null, null, 716.0, 925.0, 963.0, 1101.0, 1035.0, 1083.0, 910.0, 1209.0, 590.0, null, 808.0, null, null, null, 1179.0, 1324.0, 1135.0, null, null, null, null, null, 776.0, 990.0, 986.0, 924.0, 1120.0, 1066.0, 1144.0, 413.0, null, null, 568.0, null, null, null, 1216.0, null, 1189.0, 942.0, 1050.0, 1026.0, null, null, 783.0, 857.0, 548.0, 411.0, 1066.0, null, null, null, null, null, 287.0, 724.0, null, null, null, null, 1122.0, 970.0, 1158.0, null, null, null, 660.0, 749.0, 893.0, 887.0, 1335.0, 1082.0, 1075.0, 749.0, null, null, 966.0, null, null, null, 1095.0, null, null, 1383.0, 1012.0, 1209.0, null, null, 887.0, 896.0, 805.0, 762.0, 1043.0, null, null, null, 831.0, null, null, 562.0, 1208.0, null, null, null, null, null, 1099.0, 1093.0, 1031.0, 1233.0, null, null, 941.0, 843.0, 760.0, 737.0, null, 381.0, 1141.0, 1004.0, null, null, 581.0, null, null, null, null, null, null, 1073.0, 1156.0, 1211.0, 1126.0, null, null, 1004.0, 1063.0, 723.0, 465.0, null, null, null, 530.0, 1297.0, 783.0, 715.0, null, null, 1150.0, null, null, null, 1232.0, 1218.0, null, null, 1159.0, 972.0, 1092.0, 965.0, null, 816.0, 947.0, 838.0, null, 1086.0, null, null, null, null, null, null, 1160.0, 1177.0, 1281.0, 1369.0, 1084.0, 1216.0, 391.0, null, 1102.0, 872.0, null, 1076.0, 917.0, 1044.0, null, null, null, null, null, 1067.0, 1039.0, 1396.0, 1292.0, 171.0, 1128.0, 865.0, 825.0, null, null, 1163.0, 1140.0, 1027.0, null, 1052.0, null, null, null, null, 1140.0, 624.0, 1288.0, 1381.0, 882.0, 1002.0, null, 585.0, 1138.0, 1140.0, 1025.0, null, 1031.0, null, 1381.0, null, null, null, null, 1028.0, 1380.0, 1196.0, null, 1006.0, 930.0, 1095.0, 938.0, 1484.0, null, 1255.0, 1040.0, 1492.0, null, null, 1111.0, null, 1047.0, 1434.0, 399.0, 983.0, 1108.0, 1134.0, 1363.0, null, 1501.0, 1352.0, null, 1352.0, 1450.0, null, null, null, 825.0, 916.0, null, 562.0, 1422.0, 1206.0, null, 1404.0, 1139.0, 1735.0, 1595.0, 1245.0, null, 757.0, null, 1720.0, null, null, null, 759.0, 1510.0, 955.0, 1328.0, 1384.0, 1244.0, null, 1480.0, 1863.0, null, null, null, null, 1492.0, 1859.0, 980.0, 970.0, null, null, null, null, null, null, 1606.0, 727.0, null, null, null, null, 1472.0, 1332.0, 1009.0, 1266.0, 1316.0, 1282.0, 1382.0, null, 1295.0, 925.0, null, null, 1448.0, null, null, null, null, null, null, null, 867.0, 1636.0, 1682.0, 1495.0, 1181.0, 1413.0, null, 360.0, 1296.0, 1217.0, 1086.0, null, 532.0, 1557.0, null, null, null, null, null, null, null, 1016.0, 1072.0, 1584.0, 1764.0, 1745.0, 1250.0, null, 1118.0, 1143.0, 1337.0, null, 1519.0, 749.0, 1635.0, 1299.0, null, null, null, 1134.0, null, 1106.0, null, null, null, 1871.0, null, null, 1294.0, 1462.0, 976.0, 338.0, null, 1455.0, 1282.0, 1559.0, 1350.0, null, null, null, 1175.0, 1868.0, null, 1045.0, 1342.0, null, 1340.0, 1429.0, null, null, 1413.0, 336.0, 511.0, null, 958.0, null, 1416.0, null, 1287.0, 1444.0, 1088.0, null, null, null, null, null, 1579.0, 1170.0, 1015.0, null, 1436.0, null, 1601.0, 717.0, null, 830.0, 1136.0, 1397.0, null, null, null, null, null, null, null, null, null, null, null, null, 1116.0, 1432.0, 1082.0, 1502.0, 1209.0, 282.0, 1417.0, 799.0, 1109.0, 1144.0, null, 1396.0, 1582.0, null, 1124.0, null, null, null, 1282.0, 1472.0, null, 1282.0, 1276.0, null, 1192.0, 881.0, 1196.0, 1400.0, null, 16882.0, null, 21385.0, 21266.0, 21540.0, null, null, 12261.0, 23122.0, 8992.0, null, 9792.0, 2984.0, null, null, 839.0, 2698.0, null, 1435.0, null, 1500.0, 1188.0, null, null, 1112.0, 1452.0, null, 340.0, 1029.0, null, 1070.0, 946.0, 913.0, 1363.0, 1639.0, null, null, 415.0, 1263.0, 968.0, 1108.0, null, null, null, 1532.0, 1094.0, 1086.0, null, null, 941.0, 1471.0, 1042.0, 1248.0, null, 326.0, null, 287.0, 1300.0, 1485.0, 1039.0, null, 1063.0, null, null, null, null, 1083.0, 1069.0, null, 668.0, 766.0, 557.0, 1608.0, 417.0, 1167.0, null, 1186.0, 1060.0, 1534.0, 1142.0, null, null, null, 1021.0, 829.0, null, 813.0, 677.0, null, 658.0, 486.0, 687.0, null, 652.0, 1233.0, null, 1388.0, 1615.0, 1283.0, null, null, null, null, 1026.0, 909.0, 670.0, 629.0, 754.0, null, null, 712.0, 148.0, 154.0, null, null, 1127.0, 1506.0, 1413.0, null, 970.0, 1271.0, 1073.0, 767.0, 103.0, null, 773.0, null, 708.0, 842.0, 901.0, null, null, null, 1268.0, 1546.0, 813.0, 1512.0, null, 1263.0, 900.0, null, 640.0, 13.0, 855.0, null, 855.0, null, null, 1025.0, 1061.0, null, null, 1557.0, 1498.0, null, null, null, 598.0, 656.0, 854.0, 609.0, 788.0, 1069.0, 667.0, null, 829.0, null, 11.0, 434.0, 1397.0, null, 1327.0, null, 894.0, null, 610.0, 779.0, null, null, 419.0, null, null, 909.0, 1039.0, 14.0, 1193.0, 10.0, 770.0, 1416.0, null, null, null, 942.0, 674.0, null, 481.0, 664.0, null, 824.0, 957.0, 1039.0, 822.0, 1261.0, null, null, null, null, 1420.0, null, 1120.0, null, 679.0, null, 881.0, 507.0, 814.0, 700.0, null, null, 919.0, 1361.0, 12.0, null, 1688.0, 1422.0, null, null, null, 1263.0, 461.0, 1079.0, null, 895.0, 912.0, null, 784.0, null, 7.0, 680.0, 1131.0, 2103.0, null, 1445.0, null, null, null, 1133.0, null, 726.0, 849.0, null, 562.0, 1054.0, 1422.0, null, 680.0, 2120.0, 179.0, null, null, 838.0, 741.0, null, null, null, 685.0, 864.0, 511.0, 1095.0, 1374.0, 759.0, 553.0, null, 1057.0, 1587.0, null, null, null, null, 868.0, 1119.0, null, 962.0, null, 1126.0, 265.0, 859.0, 276.0, null, 899.0, null, null, 247.0, 653.0, 1116.0, null, null, 1603.0, null, 444.0, null, 841.0, 1410.0, null, null, null, null, 1103.0, 922.0, null, null, 1055.0, null, 1146.0, 746.0, 834.0, 1717.0, 1041.0, 1531.0, 627.0, null, 450.0, null, null, null, null, null, 1060.0, 891.0, 541.0, 709.0, 1100.0, 826.0, 577.0, 1094.0, 1228.0, 1641.0, 1583.0, null, null, null, null, null, null, 1062.0, 450.0, 901.0, null, 739.0, 913.0, 698.0, 1172.0, null, null, 408.0, 1079.0, 1068.0, null, 1834.0, null, 708.0, 1085.0, null, null, null, null, 323.0, 1053.0, 786.0, 1003.0, 635.0, 1283.0, 847.0, 361.0, 1653.0, null, null, 15.0, 762.0, null, null, null, null, null, 694.0, 816.0, 1065.0, null, 912.0, 1244.0, 1020.0, 916.0, 1591.0, 398.0, null, null, 437.0, 413.0, null, null, 1164.0, null, null, null, null, 954.0, 1194.0, 644.0, null, 1144.0, 1012.0, 792.0, 841.0, 1448.0, 512.0, null, null, 609.0, 1448.0, 556.0, null, null, null, null, null, null, 1106.0, 622.0, 1193.0, 1143.0, 895.0, 549.0, 1393.0, 1578.0, 254.0, 347.0, null, null, 692.0, null, 934.0, null, null, null, null, null, null, 1527.0, 1035.0, null, 632.0, 1231.0, 616.0, null, 947.0, 551.0, 935.0, 832.0, 544.0, 1511.0, null, null, null, null, null, null, 601.0, 1562.0, 983.0, 1156.0, 29.0, 950.0, 534.0, 1096.0, 402.0, null, 573.0, 1313.0, null, null, null, null, null, null, null, 157.0, null, null, null, null, null, null, 433.0, 961.0, 1169.0, 874.0, 1028.0, 1772.0, 1206.0, 586.0, 1334.0, null, null, null, 30.0, 261.0, 52.0, null, null, null, null, null, null, null, 455.0, 797.0, 959.0, 1373.0, 1228.0, 1117.0, 230.0, 1390.0, 529.0, null, 834.0, 1450.0, null, 986.0, 1267.0, null, null, 1195.0, 983.0, 471.0, null, 1226.0, 1251.0, null, null, null, 626.0, null, null, 1379.0, 541.0, null, null, null, null, null, null, null, 1082.0, 1254.0, 1278.0, 1064.0, 313.0, null, 1239.0, 1335.0, 928.0, 1266.0, 869.0, 711.0, null, null, null, null, null, null, 1079.0, 1322.0, null, 964.0, 1132.0, 357.0, null, null, null, 1193.0, 817.0, 1576.0, null, 1262.0, 953.0, 919.0, 1161.0, null, null, null, null, 1574.0, null, null, null, 1104.0, null, 1069.0, 756.0, 338.0, null, 1499.0, 1247.0, null, 923.0, 1180.0, 957.0, 1001.0, 1017.0, null, null, null, null, null, null, null, null, 470.0, 735.0, 560.0, null, null, 1674.0, 290.0, 971.0, 1322.0, 1054.0, 992.0, 914.0, 1128.0, 935.0, null, null, null, null, null], \"y0\": \" \", \"yaxis\": \"y\"}],                        {\"boxmode\": \"group\", \"legend\": {\"tracegroupgap\": 0}, \"margin\": {\"t\": 60}, \"template\": {\"data\": {\"bar\": [{\"error_x\": {\"color\": \"#2a3f5f\"}, \"error_y\": {\"color\": \"#2a3f5f\"}, \"marker\": {\"line\": {\"color\": \"#E5ECF6\", \"width\": 0.5}}, \"type\": \"bar\"}], \"barpolar\": [{\"marker\": {\"line\": {\"color\": \"#E5ECF6\", \"width\": 0.5}}, \"type\": \"barpolar\"}], \"carpet\": [{\"aaxis\": {\"endlinecolor\": \"#2a3f5f\", \"gridcolor\": \"white\", \"linecolor\": \"white\", \"minorgridcolor\": \"white\", \"startlinecolor\": \"#2a3f5f\"}, \"baxis\": {\"endlinecolor\": \"#2a3f5f\", \"gridcolor\": \"white\", \"linecolor\": \"white\", \"minorgridcolor\": \"white\", \"startlinecolor\": \"#2a3f5f\"}, \"type\": \"carpet\"}], \"choropleth\": [{\"colorbar\": {\"outlinewidth\": 0, \"ticks\": \"\"}, \"type\": \"choropleth\"}], \"contour\": [{\"colorbar\": {\"outlinewidth\": 0, \"ticks\": \"\"}, \"colorscale\": [[0.0, \"#0d0887\"], [0.1111111111111111, \"#46039f\"], [0.2222222222222222, \"#7201a8\"], [0.3333333333333333, \"#9c179e\"], [0.4444444444444444, \"#bd3786\"], [0.5555555555555556, \"#d8576b\"], [0.6666666666666666, \"#ed7953\"], [0.7777777777777778, \"#fb9f3a\"], [0.8888888888888888, \"#fdca26\"], [1.0, \"#f0f921\"]], \"type\": \"contour\"}], \"contourcarpet\": [{\"colorbar\": {\"outlinewidth\": 0, \"ticks\": \"\"}, \"type\": \"contourcarpet\"}], \"heatmap\": [{\"colorbar\": {\"outlinewidth\": 0, \"ticks\": \"\"}, \"colorscale\": [[0.0, \"#0d0887\"], [0.1111111111111111, \"#46039f\"], [0.2222222222222222, \"#7201a8\"], [0.3333333333333333, \"#9c179e\"], [0.4444444444444444, \"#bd3786\"], [0.5555555555555556, \"#d8576b\"], [0.6666666666666666, \"#ed7953\"], [0.7777777777777778, \"#fb9f3a\"], [0.8888888888888888, \"#fdca26\"], [1.0, \"#f0f921\"]], \"type\": \"heatmap\"}], \"heatmapgl\": [{\"colorbar\": {\"outlinewidth\": 0, \"ticks\": \"\"}, \"colorscale\": [[0.0, \"#0d0887\"], [0.1111111111111111, \"#46039f\"], [0.2222222222222222, \"#7201a8\"], [0.3333333333333333, \"#9c179e\"], [0.4444444444444444, \"#bd3786\"], [0.5555555555555556, \"#d8576b\"], [0.6666666666666666, \"#ed7953\"], [0.7777777777777778, \"#fb9f3a\"], [0.8888888888888888, \"#fdca26\"], [1.0, \"#f0f921\"]], \"type\": \"heatmapgl\"}], \"histogram\": [{\"marker\": {\"colorbar\": {\"outlinewidth\": 0, \"ticks\": \"\"}}, \"type\": \"histogram\"}], \"histogram2d\": [{\"colorbar\": {\"outlinewidth\": 0, \"ticks\": \"\"}, \"colorscale\": [[0.0, \"#0d0887\"], [0.1111111111111111, \"#46039f\"], [0.2222222222222222, \"#7201a8\"], [0.3333333333333333, \"#9c179e\"], [0.4444444444444444, \"#bd3786\"], [0.5555555555555556, \"#d8576b\"], [0.6666666666666666, \"#ed7953\"], [0.7777777777777778, \"#fb9f3a\"], [0.8888888888888888, \"#fdca26\"], [1.0, \"#f0f921\"]], \"type\": \"histogram2d\"}], \"histogram2dcontour\": [{\"colorbar\": {\"outlinewidth\": 0, \"ticks\": \"\"}, \"colorscale\": [[0.0, \"#0d0887\"], [0.1111111111111111, \"#46039f\"], [0.2222222222222222, \"#7201a8\"], [0.3333333333333333, \"#9c179e\"], [0.4444444444444444, \"#bd3786\"], [0.5555555555555556, \"#d8576b\"], [0.6666666666666666, \"#ed7953\"], [0.7777777777777778, \"#fb9f3a\"], [0.8888888888888888, \"#fdca26\"], [1.0, \"#f0f921\"]], \"type\": \"histogram2dcontour\"}], \"mesh3d\": [{\"colorbar\": {\"outlinewidth\": 0, \"ticks\": \"\"}, \"type\": \"mesh3d\"}], \"parcoords\": [{\"line\": {\"colorbar\": {\"outlinewidth\": 0, \"ticks\": \"\"}}, \"type\": \"parcoords\"}], \"pie\": [{\"automargin\": true, \"type\": \"pie\"}], \"scatter\": [{\"marker\": {\"colorbar\": {\"outlinewidth\": 0, \"ticks\": \"\"}}, \"type\": \"scatter\"}], \"scatter3d\": [{\"line\": {\"colorbar\": {\"outlinewidth\": 0, \"ticks\": \"\"}}, \"marker\": {\"colorbar\": {\"outlinewidth\": 0, \"ticks\": \"\"}}, \"type\": \"scatter3d\"}], \"scattercarpet\": [{\"marker\": {\"colorbar\": {\"outlinewidth\": 0, \"ticks\": \"\"}}, \"type\": \"scattercarpet\"}], \"scattergeo\": [{\"marker\": {\"colorbar\": {\"outlinewidth\": 0, \"ticks\": \"\"}}, \"type\": \"scattergeo\"}], \"scattergl\": [{\"marker\": {\"colorbar\": {\"outlinewidth\": 0, \"ticks\": \"\"}}, \"type\": \"scattergl\"}], \"scattermapbox\": [{\"marker\": {\"colorbar\": {\"outlinewidth\": 0, \"ticks\": \"\"}}, \"type\": \"scattermapbox\"}], \"scatterpolar\": [{\"marker\": {\"colorbar\": {\"outlinewidth\": 0, \"ticks\": \"\"}}, \"type\": \"scatterpolar\"}], \"scatterpolargl\": [{\"marker\": {\"colorbar\": {\"outlinewidth\": 0, \"ticks\": \"\"}}, \"type\": \"scatterpolargl\"}], \"scatterternary\": [{\"marker\": {\"colorbar\": {\"outlinewidth\": 0, \"ticks\": \"\"}}, \"type\": \"scatterternary\"}], \"surface\": [{\"colorbar\": {\"outlinewidth\": 0, \"ticks\": \"\"}, \"colorscale\": [[0.0, \"#0d0887\"], [0.1111111111111111, \"#46039f\"], [0.2222222222222222, \"#7201a8\"], [0.3333333333333333, \"#9c179e\"], [0.4444444444444444, \"#bd3786\"], [0.5555555555555556, \"#d8576b\"], [0.6666666666666666, \"#ed7953\"], [0.7777777777777778, \"#fb9f3a\"], [0.8888888888888888, \"#fdca26\"], [1.0, \"#f0f921\"]], \"type\": \"surface\"}], \"table\": [{\"cells\": {\"fill\": {\"color\": \"#EBF0F8\"}, \"line\": {\"color\": \"white\"}}, \"header\": {\"fill\": {\"color\": \"#C8D4E3\"}, \"line\": {\"color\": \"white\"}}, \"type\": \"table\"}]}, \"layout\": {\"annotationdefaults\": {\"arrowcolor\": \"#2a3f5f\", \"arrowhead\": 0, \"arrowwidth\": 1}, \"autotypenumbers\": \"strict\", \"coloraxis\": {\"colorbar\": {\"outlinewidth\": 0, \"ticks\": \"\"}}, \"colorscale\": {\"diverging\": [[0, \"#8e0152\"], [0.1, \"#c51b7d\"], [0.2, \"#de77ae\"], [0.3, \"#f1b6da\"], [0.4, \"#fde0ef\"], [0.5, \"#f7f7f7\"], [0.6, \"#e6f5d0\"], [0.7, \"#b8e186\"], [0.8, \"#7fbc41\"], [0.9, \"#4d9221\"], [1, \"#276419\"]], \"sequential\": [[0.0, \"#0d0887\"], [0.1111111111111111, \"#46039f\"], [0.2222222222222222, \"#7201a8\"], [0.3333333333333333, \"#9c179e\"], [0.4444444444444444, \"#bd3786\"], [0.5555555555555556, \"#d8576b\"], [0.6666666666666666, \"#ed7953\"], [0.7777777777777778, \"#fb9f3a\"], [0.8888888888888888, \"#fdca26\"], [1.0, \"#f0f921\"]], \"sequentialminus\": [[0.0, \"#0d0887\"], [0.1111111111111111, \"#46039f\"], [0.2222222222222222, \"#7201a8\"], [0.3333333333333333, \"#9c179e\"], [0.4444444444444444, \"#bd3786\"], [0.5555555555555556, \"#d8576b\"], [0.6666666666666666, \"#ed7953\"], [0.7777777777777778, \"#fb9f3a\"], [0.8888888888888888, \"#fdca26\"], [1.0, \"#f0f921\"]]}, \"colorway\": [\"#636efa\", \"#EF553B\", \"#00cc96\", \"#ab63fa\", \"#FFA15A\", \"#19d3f3\", \"#FF6692\", \"#B6E880\", \"#FF97FF\", \"#FECB52\"], \"font\": {\"color\": \"#2a3f5f\"}, \"geo\": {\"bgcolor\": \"white\", \"lakecolor\": \"white\", \"landcolor\": \"#E5ECF6\", \"showlakes\": true, \"showland\": true, \"subunitcolor\": \"white\"}, \"hoverlabel\": {\"align\": \"left\"}, \"hovermode\": \"closest\", \"mapbox\": {\"style\": \"light\"}, \"paper_bgcolor\": \"white\", \"plot_bgcolor\": \"#E5ECF6\", \"polar\": {\"angularaxis\": {\"gridcolor\": \"white\", \"linecolor\": \"white\", \"ticks\": \"\"}, \"bgcolor\": \"#E5ECF6\", \"radialaxis\": {\"gridcolor\": \"white\", \"linecolor\": \"white\", \"ticks\": \"\"}}, \"scene\": {\"xaxis\": {\"backgroundcolor\": \"#E5ECF6\", \"gridcolor\": \"white\", \"gridwidth\": 2, \"linecolor\": \"white\", \"showbackground\": true, \"ticks\": \"\", \"zerolinecolor\": \"white\"}, \"yaxis\": {\"backgroundcolor\": \"#E5ECF6\", \"gridcolor\": \"white\", \"gridwidth\": 2, \"linecolor\": \"white\", \"showbackground\": true, \"ticks\": \"\", \"zerolinecolor\": \"white\"}, \"zaxis\": {\"backgroundcolor\": \"#E5ECF6\", \"gridcolor\": \"white\", \"gridwidth\": 2, \"linecolor\": \"white\", \"showbackground\": true, \"ticks\": \"\", \"zerolinecolor\": \"white\"}}, \"shapedefaults\": {\"line\": {\"color\": \"#2a3f5f\"}}, \"ternary\": {\"aaxis\": {\"gridcolor\": \"white\", \"linecolor\": \"white\", \"ticks\": \"\"}, \"baxis\": {\"gridcolor\": \"white\", \"linecolor\": \"white\", \"ticks\": \"\"}, \"bgcolor\": \"#E5ECF6\", \"caxis\": {\"gridcolor\": \"white\", \"linecolor\": \"white\", \"ticks\": \"\"}}, \"title\": {\"x\": 0.05}, \"xaxis\": {\"automargin\": true, \"gridcolor\": \"white\", \"linecolor\": \"white\", \"ticks\": \"\", \"title\": {\"standoff\": 15}, \"zerolinecolor\": \"white\", \"zerolinewidth\": 2}, \"yaxis\": {\"automargin\": true, \"gridcolor\": \"white\", \"linecolor\": \"white\", \"ticks\": \"\", \"title\": {\"standoff\": 15}, \"zerolinecolor\": \"white\", \"zerolinewidth\": 2}}}, \"xaxis\": {\"anchor\": \"y\", \"domain\": [0.0, 1.0], \"title\": {\"text\": \"quarter\"}}, \"yaxis\": {\"anchor\": \"x\", \"domain\": [0.0, 1.0], \"title\": {\"text\": \"wip\"}}},                        {\"responsive\": true}                    ).then(function(){\n",
       "                            \n",
       "var gd = document.getElementById('f37488dc-6c82-48a3-bd2d-a1b1f2b0a7d2');\n",
       "var x = new MutationObserver(function (mutations, observer) {{\n",
       "        var display = window.getComputedStyle(gd).display;\n",
       "        if (!display || display === 'none') {{\n",
       "            console.log([gd, 'removed!']);\n",
       "            Plotly.purge(gd);\n",
       "            observer.disconnect();\n",
       "        }}\n",
       "}});\n",
       "\n",
       "// Listen for the removal of the full notebook cells\n",
       "var notebookContainer = gd.closest('#notebook-container');\n",
       "if (notebookContainer) {{\n",
       "    x.observe(notebookContainer, {childList: true});\n",
       "}}\n",
       "\n",
       "// Listen for the clearing of the current output cell\n",
       "var outputEl = gd.closest('.output');\n",
       "if (outputEl) {{\n",
       "    x.observe(outputEl, {childList: true});\n",
       "}}\n",
       "\n",
       "                        })                };                });            </script>        </div>"
      ]
     },
     "metadata": {}
    }
   ],
   "metadata": {
    "execution": {
     "iopub.execute_input": "2021-04-10T14:15:13.729977Z",
     "iopub.status.busy": "2021-04-10T14:15:13.729252Z",
     "iopub.status.idle": "2021-04-10T14:15:13.803002Z",
     "shell.execute_reply": "2021-04-10T14:15:13.802439Z"
    },
    "papermill": {
     "duration": 0.144117,
     "end_time": "2021-04-10T14:15:13.803148",
     "exception": false,
     "start_time": "2021-04-10T14:15:13.659031",
     "status": "completed"
    },
    "tags": []
   }
  },
  {
   "cell_type": "markdown",
   "source": [
    "**Notebook is under construction .. Do Appreciate if you find it useful and checkout this dataset to create visualisations and submitting tasks**\n",
    "**Thank you**"
   ],
   "metadata": {
    "papermill": {
     "duration": 0.068424,
     "end_time": "2021-04-10T14:15:13.939640",
     "exception": false,
     "start_time": "2021-04-10T14:15:13.871216",
     "status": "completed"
    },
    "tags": []
   }
  }
 ],
 "metadata": {
  "kernelspec": {
   "name": "python3",
   "display_name": "Python 3.9.6 64-bit ('mis-381n': conda)"
  },
  "language_info": {
   "codemirror_mode": {
    "name": "ipython",
    "version": 3
   },
   "file_extension": ".py",
   "mimetype": "text/x-python",
   "name": "python",
   "nbconvert_exporter": "python",
   "pygments_lexer": "ipython3",
   "version": "3.9.6"
  },
  "papermill": {
   "default_parameters": {},
   "duration": 21.750116,
   "end_time": "2021-04-10T14:15:14.920924",
   "environment_variables": {},
   "exception": null,
   "input_path": "__notebook__.ipynb",
   "output_path": "__notebook__.ipynb",
   "parameters": {},
   "start_time": "2021-04-10T14:14:53.170808",
   "version": "2.3.2"
  },
  "interpreter": {
   "hash": "06b40021540639983462c9e311a6ff423d5a2e962ab45520e073600d5efc95cc"
  }
 },
 "nbformat": 4,
 "nbformat_minor": 5
}