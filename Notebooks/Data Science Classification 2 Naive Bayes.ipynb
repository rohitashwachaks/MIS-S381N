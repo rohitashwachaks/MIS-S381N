{
 "cells": [
  {
   "cell_type": "markdown",
   "source": [
    "# Classification 2"
   ],
   "metadata": {
    "slideshow": {
     "slide_type": "slide"
    }
   }
  },
  {
   "cell_type": "markdown",
   "source": [
    "We will look at the Naive Bayes classifier.\n",
    "\n",
    "* Only slightly more complicated than nearest-neighbors in terms of parameter fitting\n",
    "* Scales to large datasets easily\n",
    "* Works best when features are _independent_"
   ],
   "metadata": {}
  },
  {
   "cell_type": "markdown",
   "source": [
    "## Income Prediction\n",
    "\n",
    "This data was extracted from a census bureau dataset. It contains several features about individuals: their age, working status, education level, marital status, etc. The goal is to predict if the individual makes more or less than 50K per year.\n",
    "\n",
    "See [here](https://archive.ics.uci.edu/ml/machine-learning-databases/adult/adult.names \"Adult names\") for details."
   ],
   "metadata": {
    "slideshow": {
     "slide_type": "slide"
    }
   }
  },
  {
   "cell_type": "code",
   "execution_count": 1,
   "source": [
    "from pandas import Series, DataFrame\n",
    "import pandas as pd\n",
    "from patsy import dmatrices\n",
    "%pylab inline"
   ],
   "outputs": [
    {
     "output_type": "stream",
     "name": "stdout",
     "text": [
      "Populating the interactive namespace from numpy and matplotlib\n"
     ]
    }
   ],
   "metadata": {
    "slideshow": {
     "slide_type": "slide"
    }
   }
  },
  {
   "cell_type": "code",
   "execution_count": 2,
   "source": [
    "# We will ignore some silly warnings that pop up due to scikit-learn\n",
    "import warnings\n",
    "warnings.filterwarnings('ignore')"
   ],
   "outputs": [],
   "metadata": {}
  },
  {
   "cell_type": "code",
   "execution_count": 3,
   "source": [
    "names = ['age', 'workclass', 'fnlwgt', 'education', 'education_num', 'marital_status', \\\n",
    "         'occupation', 'relationship', 'race', 'sex', 'capital_gain', 'capital_loss', \\\n",
    "         'hours_per_week', 'native_country', 'income_band']\n",
    "df = pd.read_csv('Classification_2_data/adult.data', sep=', ', names=names)\n",
    "df[:5]"
   ],
   "outputs": [
    {
     "output_type": "execute_result",
     "data": {
      "text/plain": [
       "   age         workclass  fnlwgt  education  education_num  \\\n",
       "0   39         State-gov   77516  Bachelors             13   \n",
       "1   50  Self-emp-not-inc   83311  Bachelors             13   \n",
       "2   38           Private  215646    HS-grad              9   \n",
       "3   53           Private  234721       11th              7   \n",
       "4   28           Private  338409  Bachelors             13   \n",
       "\n",
       "       marital_status         occupation   relationship   race     sex  \\\n",
       "0       Never-married       Adm-clerical  Not-in-family  White    Male   \n",
       "1  Married-civ-spouse    Exec-managerial        Husband  White    Male   \n",
       "2            Divorced  Handlers-cleaners  Not-in-family  White    Male   \n",
       "3  Married-civ-spouse  Handlers-cleaners        Husband  Black    Male   \n",
       "4  Married-civ-spouse     Prof-specialty           Wife  Black  Female   \n",
       "\n",
       "   capital_gain  capital_loss  hours_per_week native_country income_band  \n",
       "0          2174             0              40  United-States       <=50K  \n",
       "1             0             0              13  United-States       <=50K  \n",
       "2             0             0              40  United-States       <=50K  \n",
       "3             0             0              40  United-States       <=50K  \n",
       "4             0             0              40           Cuba       <=50K  "
      ],
      "text/html": [
       "<div>\n",
       "<style scoped>\n",
       "    .dataframe tbody tr th:only-of-type {\n",
       "        vertical-align: middle;\n",
       "    }\n",
       "\n",
       "    .dataframe tbody tr th {\n",
       "        vertical-align: top;\n",
       "    }\n",
       "\n",
       "    .dataframe thead th {\n",
       "        text-align: right;\n",
       "    }\n",
       "</style>\n",
       "<table border=\"1\" class=\"dataframe\">\n",
       "  <thead>\n",
       "    <tr style=\"text-align: right;\">\n",
       "      <th></th>\n",
       "      <th>age</th>\n",
       "      <th>workclass</th>\n",
       "      <th>fnlwgt</th>\n",
       "      <th>education</th>\n",
       "      <th>education_num</th>\n",
       "      <th>marital_status</th>\n",
       "      <th>occupation</th>\n",
       "      <th>relationship</th>\n",
       "      <th>race</th>\n",
       "      <th>sex</th>\n",
       "      <th>capital_gain</th>\n",
       "      <th>capital_loss</th>\n",
       "      <th>hours_per_week</th>\n",
       "      <th>native_country</th>\n",
       "      <th>income_band</th>\n",
       "    </tr>\n",
       "  </thead>\n",
       "  <tbody>\n",
       "    <tr>\n",
       "      <th>0</th>\n",
       "      <td>39</td>\n",
       "      <td>State-gov</td>\n",
       "      <td>77516</td>\n",
       "      <td>Bachelors</td>\n",
       "      <td>13</td>\n",
       "      <td>Never-married</td>\n",
       "      <td>Adm-clerical</td>\n",
       "      <td>Not-in-family</td>\n",
       "      <td>White</td>\n",
       "      <td>Male</td>\n",
       "      <td>2174</td>\n",
       "      <td>0</td>\n",
       "      <td>40</td>\n",
       "      <td>United-States</td>\n",
       "      <td>&lt;=50K</td>\n",
       "    </tr>\n",
       "    <tr>\n",
       "      <th>1</th>\n",
       "      <td>50</td>\n",
       "      <td>Self-emp-not-inc</td>\n",
       "      <td>83311</td>\n",
       "      <td>Bachelors</td>\n",
       "      <td>13</td>\n",
       "      <td>Married-civ-spouse</td>\n",
       "      <td>Exec-managerial</td>\n",
       "      <td>Husband</td>\n",
       "      <td>White</td>\n",
       "      <td>Male</td>\n",
       "      <td>0</td>\n",
       "      <td>0</td>\n",
       "      <td>13</td>\n",
       "      <td>United-States</td>\n",
       "      <td>&lt;=50K</td>\n",
       "    </tr>\n",
       "    <tr>\n",
       "      <th>2</th>\n",
       "      <td>38</td>\n",
       "      <td>Private</td>\n",
       "      <td>215646</td>\n",
       "      <td>HS-grad</td>\n",
       "      <td>9</td>\n",
       "      <td>Divorced</td>\n",
       "      <td>Handlers-cleaners</td>\n",
       "      <td>Not-in-family</td>\n",
       "      <td>White</td>\n",
       "      <td>Male</td>\n",
       "      <td>0</td>\n",
       "      <td>0</td>\n",
       "      <td>40</td>\n",
       "      <td>United-States</td>\n",
       "      <td>&lt;=50K</td>\n",
       "    </tr>\n",
       "    <tr>\n",
       "      <th>3</th>\n",
       "      <td>53</td>\n",
       "      <td>Private</td>\n",
       "      <td>234721</td>\n",
       "      <td>11th</td>\n",
       "      <td>7</td>\n",
       "      <td>Married-civ-spouse</td>\n",
       "      <td>Handlers-cleaners</td>\n",
       "      <td>Husband</td>\n",
       "      <td>Black</td>\n",
       "      <td>Male</td>\n",
       "      <td>0</td>\n",
       "      <td>0</td>\n",
       "      <td>40</td>\n",
       "      <td>United-States</td>\n",
       "      <td>&lt;=50K</td>\n",
       "    </tr>\n",
       "    <tr>\n",
       "      <th>4</th>\n",
       "      <td>28</td>\n",
       "      <td>Private</td>\n",
       "      <td>338409</td>\n",
       "      <td>Bachelors</td>\n",
       "      <td>13</td>\n",
       "      <td>Married-civ-spouse</td>\n",
       "      <td>Prof-specialty</td>\n",
       "      <td>Wife</td>\n",
       "      <td>Black</td>\n",
       "      <td>Female</td>\n",
       "      <td>0</td>\n",
       "      <td>0</td>\n",
       "      <td>40</td>\n",
       "      <td>Cuba</td>\n",
       "      <td>&lt;=50K</td>\n",
       "    </tr>\n",
       "  </tbody>\n",
       "</table>\n",
       "</div>"
      ]
     },
     "metadata": {},
     "execution_count": 3
    }
   ],
   "metadata": {
    "slideshow": {
     "slide_type": "fragment"
    }
   }
  },
  {
   "cell_type": "code",
   "execution_count": 4,
   "source": [
    "df.describe()"
   ],
   "outputs": [
    {
     "output_type": "execute_result",
     "data": {
      "text/plain": [
       "                age        fnlwgt  education_num  capital_gain  capital_loss  \\\n",
       "count  32561.000000  3.256100e+04   32561.000000  32561.000000  32561.000000   \n",
       "mean      38.581647  1.897784e+05      10.080679   1077.648844     87.303830   \n",
       "std       13.640433  1.055500e+05       2.572720   7385.292085    402.960219   \n",
       "min       17.000000  1.228500e+04       1.000000      0.000000      0.000000   \n",
       "25%       28.000000  1.178270e+05       9.000000      0.000000      0.000000   \n",
       "50%       37.000000  1.783560e+05      10.000000      0.000000      0.000000   \n",
       "75%       48.000000  2.370510e+05      12.000000      0.000000      0.000000   \n",
       "max       90.000000  1.484705e+06      16.000000  99999.000000   4356.000000   \n",
       "\n",
       "       hours_per_week  \n",
       "count    32561.000000  \n",
       "mean        40.437456  \n",
       "std         12.347429  \n",
       "min          1.000000  \n",
       "25%         40.000000  \n",
       "50%         40.000000  \n",
       "75%         45.000000  \n",
       "max         99.000000  "
      ],
      "text/html": [
       "<div>\n",
       "<style scoped>\n",
       "    .dataframe tbody tr th:only-of-type {\n",
       "        vertical-align: middle;\n",
       "    }\n",
       "\n",
       "    .dataframe tbody tr th {\n",
       "        vertical-align: top;\n",
       "    }\n",
       "\n",
       "    .dataframe thead th {\n",
       "        text-align: right;\n",
       "    }\n",
       "</style>\n",
       "<table border=\"1\" class=\"dataframe\">\n",
       "  <thead>\n",
       "    <tr style=\"text-align: right;\">\n",
       "      <th></th>\n",
       "      <th>age</th>\n",
       "      <th>fnlwgt</th>\n",
       "      <th>education_num</th>\n",
       "      <th>capital_gain</th>\n",
       "      <th>capital_loss</th>\n",
       "      <th>hours_per_week</th>\n",
       "    </tr>\n",
       "  </thead>\n",
       "  <tbody>\n",
       "    <tr>\n",
       "      <th>count</th>\n",
       "      <td>32561.000000</td>\n",
       "      <td>3.256100e+04</td>\n",
       "      <td>32561.000000</td>\n",
       "      <td>32561.000000</td>\n",
       "      <td>32561.000000</td>\n",
       "      <td>32561.000000</td>\n",
       "    </tr>\n",
       "    <tr>\n",
       "      <th>mean</th>\n",
       "      <td>38.581647</td>\n",
       "      <td>1.897784e+05</td>\n",
       "      <td>10.080679</td>\n",
       "      <td>1077.648844</td>\n",
       "      <td>87.303830</td>\n",
       "      <td>40.437456</td>\n",
       "    </tr>\n",
       "    <tr>\n",
       "      <th>std</th>\n",
       "      <td>13.640433</td>\n",
       "      <td>1.055500e+05</td>\n",
       "      <td>2.572720</td>\n",
       "      <td>7385.292085</td>\n",
       "      <td>402.960219</td>\n",
       "      <td>12.347429</td>\n",
       "    </tr>\n",
       "    <tr>\n",
       "      <th>min</th>\n",
       "      <td>17.000000</td>\n",
       "      <td>1.228500e+04</td>\n",
       "      <td>1.000000</td>\n",
       "      <td>0.000000</td>\n",
       "      <td>0.000000</td>\n",
       "      <td>1.000000</td>\n",
       "    </tr>\n",
       "    <tr>\n",
       "      <th>25%</th>\n",
       "      <td>28.000000</td>\n",
       "      <td>1.178270e+05</td>\n",
       "      <td>9.000000</td>\n",
       "      <td>0.000000</td>\n",
       "      <td>0.000000</td>\n",
       "      <td>40.000000</td>\n",
       "    </tr>\n",
       "    <tr>\n",
       "      <th>50%</th>\n",
       "      <td>37.000000</td>\n",
       "      <td>1.783560e+05</td>\n",
       "      <td>10.000000</td>\n",
       "      <td>0.000000</td>\n",
       "      <td>0.000000</td>\n",
       "      <td>40.000000</td>\n",
       "    </tr>\n",
       "    <tr>\n",
       "      <th>75%</th>\n",
       "      <td>48.000000</td>\n",
       "      <td>2.370510e+05</td>\n",
       "      <td>12.000000</td>\n",
       "      <td>0.000000</td>\n",
       "      <td>0.000000</td>\n",
       "      <td>45.000000</td>\n",
       "    </tr>\n",
       "    <tr>\n",
       "      <th>max</th>\n",
       "      <td>90.000000</td>\n",
       "      <td>1.484705e+06</td>\n",
       "      <td>16.000000</td>\n",
       "      <td>99999.000000</td>\n",
       "      <td>4356.000000</td>\n",
       "      <td>99.000000</td>\n",
       "    </tr>\n",
       "  </tbody>\n",
       "</table>\n",
       "</div>"
      ]
     },
     "metadata": {},
     "execution_count": 4
    }
   ],
   "metadata": {
    "slideshow": {
     "slide_type": "slide"
    }
   }
  },
  {
   "cell_type": "markdown",
   "source": [
    "#### Create the target"
   ],
   "metadata": {
    "slideshow": {
     "slide_type": "slide"
    }
   }
  },
  {
   "cell_type": "code",
   "execution_count": 5,
   "source": [
    "df['target'] = 0.0\n",
    "mask = (df['income_band'] == '>50K')\n",
    "df['target'][mask] = 1.0"
   ],
   "outputs": [],
   "metadata": {}
  },
  {
   "cell_type": "code",
   "execution_count": 6,
   "source": [
    "df['target'].value_counts()"
   ],
   "outputs": [
    {
     "output_type": "execute_result",
     "data": {
      "text/plain": [
       "0.0    24720\n",
       "1.0     7841\n",
       "Name: target, dtype: int64"
      ]
     },
     "metadata": {},
     "execution_count": 6
    }
   ],
   "metadata": {}
  },
  {
   "cell_type": "markdown",
   "source": [
    "### Discretize continuous values"
   ],
   "metadata": {
    "slideshow": {
     "slide_type": "slide"
    }
   }
  },
  {
   "cell_type": "markdown",
   "source": [
    "While Naive Bayes can be run with continuous values, we will try it only with categorical features\n",
    "\n",
    "* **workclass** is categorical; it takes values among\n",
    "    * Private, Self-emp-not-inc, Self-emp-inc, Federal-gov, Local-gov, State-gov, Without-pay, Never-worked.\n",
    "* **age** is continuous."
   ],
   "metadata": {}
  },
  {
   "cell_type": "markdown",
   "source": [
    "For the continuous features, we will _discretize_ them into bins. Thankfully, pandas gives us a simple way to do so."
   ],
   "metadata": {}
  },
  {
   "cell_type": "code",
   "execution_count": 7,
   "source": [
    "# NOTE: We also return the bins (retbins=True).\n",
    "# We will use these bins later on the test set.\n",
    "df['age_binned'], age_bins = pd.qcut(df['age'], 5, retbins=True)\n",
    "print(df['age_binned'][:5])"
   ],
   "outputs": [
    {
     "output_type": "stream",
     "name": "stdout",
     "text": [
      "0    (33.0, 41.0]\n",
      "1    (41.0, 50.0]\n",
      "2    (33.0, 41.0]\n",
      "3    (50.0, 90.0]\n",
      "4    (26.0, 33.0]\n",
      "Name: age_binned, dtype: category\n",
      "Categories (5, interval[float64, right]): [(16.999, 26.0] < (26.0, 33.0] < (33.0, 41.0] < (41.0, 50.0] < (50.0, 90.0]]\n"
     ]
    }
   ],
   "metadata": {
    "slideshow": {
     "slide_type": "fragment"
    }
   }
  },
  {
   "cell_type": "code",
   "execution_count": 8,
   "source": [
    "df['fnlwgt_binned'], fnlwgt_bins = pd.qcut(df['fnlwgt'], 5, retbins=True)\n",
    "df['education_num_binned'], education_num_bins = pd.qcut(df['education_num'], 3, retbins=True)"
   ],
   "outputs": [],
   "metadata": {
    "slideshow": {
     "slide_type": "fragment"
    }
   }
  },
  {
   "cell_type": "markdown",
   "source": [
    "Other seemingly continuous features are actually almost categorical. Consider capital_loss, for instance."
   ],
   "metadata": {
    "slideshow": {
     "slide_type": "slide"
    }
   }
  },
  {
   "cell_type": "code",
   "execution_count": 9,
   "source": [
    "df['capital_loss'].value_counts()[:5]"
   ],
   "outputs": [
    {
     "output_type": "execute_result",
     "data": {
      "text/plain": [
       "0       31042\n",
       "1902      202\n",
       "1977      168\n",
       "1887      159\n",
       "1848       51\n",
       "Name: capital_loss, dtype: int64"
      ]
     },
     "metadata": {},
     "execution_count": 9
    }
   ],
   "metadata": {}
  },
  {
   "cell_type": "code",
   "execution_count": 10,
   "source": [
    "len(df)"
   ],
   "outputs": [
    {
     "output_type": "execute_result",
     "data": {
      "text/plain": [
       "32561"
      ]
     },
     "metadata": {},
     "execution_count": 10
    }
   ],
   "metadata": {
    "slideshow": {
     "slide_type": "fragment"
    }
   }
  },
  {
   "cell_type": "markdown",
   "source": [
    "So, let us bin capital loss as either 0, or greater than 0."
   ],
   "metadata": {
    "slideshow": {
     "slide_type": "fragment"
    }
   }
  },
  {
   "cell_type": "code",
   "execution_count": 11,
   "source": [
    "df['capital_loss_binned'] = '0'\n",
    "df['capital_loss_binned'][df['capital_loss'] > 0] = '>0'"
   ],
   "outputs": [],
   "metadata": {
    "slideshow": {
     "slide_type": "slide"
    }
   }
  },
  {
   "cell_type": "code",
   "execution_count": 12,
   "source": [
    "df['capital_gain_binned'] = '0'\n",
    "df['capital_gain_binned'][df['capital_gain'] > 0] = '>0'"
   ],
   "outputs": [],
   "metadata": {}
  },
  {
   "cell_type": "markdown",
   "source": [
    "Similarly for hours_per_week: less than 40, 40, and more than 40."
   ],
   "metadata": {
    "slideshow": {
     "slide_type": "fragment"
    }
   }
  },
  {
   "cell_type": "code",
   "execution_count": 13,
   "source": [
    "df['hours_binned'] = '40'\n",
    "df['hours_binned'][df['hours_per_week'] < 40] = '<40'\n",
    "df['hours_binned'][df['hours_per_week'] > 40] = '>40'"
   ],
   "outputs": [],
   "metadata": {
    "slideshow": {
     "slide_type": "fragment"
    }
   }
  },
  {
   "cell_type": "markdown",
   "source": [
    "#### Create the design matrices"
   ],
   "metadata": {
    "slideshow": {
     "slide_type": "slide"
    }
   }
  },
  {
   "cell_type": "code",
   "execution_count": 14,
   "source": [
    "print(df.columns.values)"
   ],
   "outputs": [
    {
     "output_type": "stream",
     "name": "stdout",
     "text": [
      "['age' 'workclass' 'fnlwgt' 'education' 'education_num' 'marital_status'\n",
      " 'occupation' 'relationship' 'race' 'sex' 'capital_gain' 'capital_loss'\n",
      " 'hours_per_week' 'native_country' 'income_band' 'target' 'age_binned'\n",
      " 'fnlwgt_binned' 'education_num_binned' 'capital_loss_binned'\n",
      " 'capital_gain_binned' 'hours_binned']\n"
     ]
    }
   ],
   "metadata": {}
  },
  {
   "cell_type": "markdown",
   "source": [
    "For Naive Bayes, we want all dummy variables, but unfortunately standard patsy doesn't necessarily give us that. So, just for the Naive Bayes classifier, we will use a pandas-specific way of dummy encoding."
   ],
   "metadata": {
    "slideshow": {
     "slide_type": "fragment"
    }
   }
  },
  {
   "cell_type": "code",
   "execution_count": 15,
   "source": [
    "categorical_columns = ['age_binned', 'workclass', 'fnlwgt_binned', 'education',\n",
    "          'education_num_binned', 'marital_status', 'occupation', 'relationship',\n",
    "          'race', 'sex', 'capital_gain_binned', 'capital_loss_binned', 'hours_binned']\n",
    "df_dummies = pd.get_dummies(df[categorical_columns],\n",
    "                            prefix=categorical_columns,\n",
    "                            columns=categorical_columns)\n",
    "dummy_column_names = df_dummies.columns.values\n",
    "dummy_column_names[:10]"
   ],
   "outputs": [
    {
     "output_type": "execute_result",
     "data": {
      "text/plain": [
       "array(['age_binned_(16.999, 26.0]', 'age_binned_(26.0, 33.0]',\n",
       "       'age_binned_(33.0, 41.0]', 'age_binned_(41.0, 50.0]',\n",
       "       'age_binned_(50.0, 90.0]', 'workclass_?', 'workclass_Federal-gov',\n",
       "       'workclass_Local-gov', 'workclass_Never-worked',\n",
       "       'workclass_Private'], dtype=object)"
      ]
     },
     "metadata": {},
     "execution_count": 15
    }
   ],
   "metadata": {
    "slideshow": {
     "slide_type": "fragment"
    }
   }
  },
  {
   "cell_type": "code",
   "execution_count": 16,
   "source": [
    "# Concatenate all these new dummy columns into the old dataframe\n",
    "df2 = pd.concat([df, df_dummies], axis=1)"
   ],
   "outputs": [],
   "metadata": {
    "slideshow": {
     "slide_type": "slide"
    }
   }
  },
  {
   "cell_type": "code",
   "execution_count": 17,
   "source": [
    "df2.head()"
   ],
   "outputs": [
    {
     "output_type": "execute_result",
     "data": {
      "text/plain": [
       "   age         workclass  fnlwgt  education  education_num  \\\n",
       "0   39         State-gov   77516  Bachelors             13   \n",
       "1   50  Self-emp-not-inc   83311  Bachelors             13   \n",
       "2   38           Private  215646    HS-grad              9   \n",
       "3   53           Private  234721       11th              7   \n",
       "4   28           Private  338409  Bachelors             13   \n",
       "\n",
       "       marital_status         occupation   relationship   race     sex  ...  \\\n",
       "0       Never-married       Adm-clerical  Not-in-family  White    Male  ...   \n",
       "1  Married-civ-spouse    Exec-managerial        Husband  White    Male  ...   \n",
       "2            Divorced  Handlers-cleaners  Not-in-family  White    Male  ...   \n",
       "3  Married-civ-spouse  Handlers-cleaners        Husband  Black    Male  ...   \n",
       "4  Married-civ-spouse     Prof-specialty           Wife  Black  Female  ...   \n",
       "\n",
       "   race_White  sex_Female  sex_Male capital_gain_binned_0  \\\n",
       "0           1           0         1                     0   \n",
       "1           1           0         1                     1   \n",
       "2           1           0         1                     1   \n",
       "3           0           0         1                     1   \n",
       "4           0           1         0                     1   \n",
       "\n",
       "  capital_gain_binned_>0  capital_loss_binned_0 capital_loss_binned_>0  \\\n",
       "0                      1                      1                      0   \n",
       "1                      0                      1                      0   \n",
       "2                      0                      1                      0   \n",
       "3                      0                      1                      0   \n",
       "4                      0                      1                      0   \n",
       "\n",
       "  hours_binned_40 hours_binned_<40 hours_binned_>40  \n",
       "0               1                0                0  \n",
       "1               0                1                0  \n",
       "2               1                0                0  \n",
       "3               1                0                0  \n",
       "4               1                0                0  \n",
       "\n",
       "[5 rows x 102 columns]"
      ],
      "text/html": [
       "<div>\n",
       "<style scoped>\n",
       "    .dataframe tbody tr th:only-of-type {\n",
       "        vertical-align: middle;\n",
       "    }\n",
       "\n",
       "    .dataframe tbody tr th {\n",
       "        vertical-align: top;\n",
       "    }\n",
       "\n",
       "    .dataframe thead th {\n",
       "        text-align: right;\n",
       "    }\n",
       "</style>\n",
       "<table border=\"1\" class=\"dataframe\">\n",
       "  <thead>\n",
       "    <tr style=\"text-align: right;\">\n",
       "      <th></th>\n",
       "      <th>age</th>\n",
       "      <th>workclass</th>\n",
       "      <th>fnlwgt</th>\n",
       "      <th>education</th>\n",
       "      <th>education_num</th>\n",
       "      <th>marital_status</th>\n",
       "      <th>occupation</th>\n",
       "      <th>relationship</th>\n",
       "      <th>race</th>\n",
       "      <th>sex</th>\n",
       "      <th>...</th>\n",
       "      <th>race_White</th>\n",
       "      <th>sex_Female</th>\n",
       "      <th>sex_Male</th>\n",
       "      <th>capital_gain_binned_0</th>\n",
       "      <th>capital_gain_binned_&gt;0</th>\n",
       "      <th>capital_loss_binned_0</th>\n",
       "      <th>capital_loss_binned_&gt;0</th>\n",
       "      <th>hours_binned_40</th>\n",
       "      <th>hours_binned_&lt;40</th>\n",
       "      <th>hours_binned_&gt;40</th>\n",
       "    </tr>\n",
       "  </thead>\n",
       "  <tbody>\n",
       "    <tr>\n",
       "      <th>0</th>\n",
       "      <td>39</td>\n",
       "      <td>State-gov</td>\n",
       "      <td>77516</td>\n",
       "      <td>Bachelors</td>\n",
       "      <td>13</td>\n",
       "      <td>Never-married</td>\n",
       "      <td>Adm-clerical</td>\n",
       "      <td>Not-in-family</td>\n",
       "      <td>White</td>\n",
       "      <td>Male</td>\n",
       "      <td>...</td>\n",
       "      <td>1</td>\n",
       "      <td>0</td>\n",
       "      <td>1</td>\n",
       "      <td>0</td>\n",
       "      <td>1</td>\n",
       "      <td>1</td>\n",
       "      <td>0</td>\n",
       "      <td>1</td>\n",
       "      <td>0</td>\n",
       "      <td>0</td>\n",
       "    </tr>\n",
       "    <tr>\n",
       "      <th>1</th>\n",
       "      <td>50</td>\n",
       "      <td>Self-emp-not-inc</td>\n",
       "      <td>83311</td>\n",
       "      <td>Bachelors</td>\n",
       "      <td>13</td>\n",
       "      <td>Married-civ-spouse</td>\n",
       "      <td>Exec-managerial</td>\n",
       "      <td>Husband</td>\n",
       "      <td>White</td>\n",
       "      <td>Male</td>\n",
       "      <td>...</td>\n",
       "      <td>1</td>\n",
       "      <td>0</td>\n",
       "      <td>1</td>\n",
       "      <td>1</td>\n",
       "      <td>0</td>\n",
       "      <td>1</td>\n",
       "      <td>0</td>\n",
       "      <td>0</td>\n",
       "      <td>1</td>\n",
       "      <td>0</td>\n",
       "    </tr>\n",
       "    <tr>\n",
       "      <th>2</th>\n",
       "      <td>38</td>\n",
       "      <td>Private</td>\n",
       "      <td>215646</td>\n",
       "      <td>HS-grad</td>\n",
       "      <td>9</td>\n",
       "      <td>Divorced</td>\n",
       "      <td>Handlers-cleaners</td>\n",
       "      <td>Not-in-family</td>\n",
       "      <td>White</td>\n",
       "      <td>Male</td>\n",
       "      <td>...</td>\n",
       "      <td>1</td>\n",
       "      <td>0</td>\n",
       "      <td>1</td>\n",
       "      <td>1</td>\n",
       "      <td>0</td>\n",
       "      <td>1</td>\n",
       "      <td>0</td>\n",
       "      <td>1</td>\n",
       "      <td>0</td>\n",
       "      <td>0</td>\n",
       "    </tr>\n",
       "    <tr>\n",
       "      <th>3</th>\n",
       "      <td>53</td>\n",
       "      <td>Private</td>\n",
       "      <td>234721</td>\n",
       "      <td>11th</td>\n",
       "      <td>7</td>\n",
       "      <td>Married-civ-spouse</td>\n",
       "      <td>Handlers-cleaners</td>\n",
       "      <td>Husband</td>\n",
       "      <td>Black</td>\n",
       "      <td>Male</td>\n",
       "      <td>...</td>\n",
       "      <td>0</td>\n",
       "      <td>0</td>\n",
       "      <td>1</td>\n",
       "      <td>1</td>\n",
       "      <td>0</td>\n",
       "      <td>1</td>\n",
       "      <td>0</td>\n",
       "      <td>1</td>\n",
       "      <td>0</td>\n",
       "      <td>0</td>\n",
       "    </tr>\n",
       "    <tr>\n",
       "      <th>4</th>\n",
       "      <td>28</td>\n",
       "      <td>Private</td>\n",
       "      <td>338409</td>\n",
       "      <td>Bachelors</td>\n",
       "      <td>13</td>\n",
       "      <td>Married-civ-spouse</td>\n",
       "      <td>Prof-specialty</td>\n",
       "      <td>Wife</td>\n",
       "      <td>Black</td>\n",
       "      <td>Female</td>\n",
       "      <td>...</td>\n",
       "      <td>0</td>\n",
       "      <td>1</td>\n",
       "      <td>0</td>\n",
       "      <td>1</td>\n",
       "      <td>0</td>\n",
       "      <td>1</td>\n",
       "      <td>0</td>\n",
       "      <td>1</td>\n",
       "      <td>0</td>\n",
       "      <td>0</td>\n",
       "    </tr>\n",
       "  </tbody>\n",
       "</table>\n",
       "<p>5 rows × 102 columns</p>\n",
       "</div>"
      ]
     },
     "metadata": {},
     "execution_count": 17
    }
   ],
   "metadata": {}
  },
  {
   "cell_type": "code",
   "execution_count": 18,
   "source": [
    "formula = 'target ~ 0 + {}'.format(' + '.join(['Q(\"{}\")'.format(x) for x in dummy_column_names]))\n",
    "print(formula)"
   ],
   "outputs": [
    {
     "output_type": "stream",
     "name": "stdout",
     "text": [
      "target ~ 0 + Q(\"age_binned_(16.999, 26.0]\") + Q(\"age_binned_(26.0, 33.0]\") + Q(\"age_binned_(33.0, 41.0]\") + Q(\"age_binned_(41.0, 50.0]\") + Q(\"age_binned_(50.0, 90.0]\") + Q(\"workclass_?\") + Q(\"workclass_Federal-gov\") + Q(\"workclass_Local-gov\") + Q(\"workclass_Never-worked\") + Q(\"workclass_Private\") + Q(\"workclass_Self-emp-inc\") + Q(\"workclass_Self-emp-not-inc\") + Q(\"workclass_State-gov\") + Q(\"workclass_Without-pay\") + Q(\"fnlwgt_binned_(12284.999, 106648.0]\") + Q(\"fnlwgt_binned_(106648.0, 158662.0]\") + Q(\"fnlwgt_binned_(158662.0, 196338.0]\") + Q(\"fnlwgt_binned_(196338.0, 259873.0]\") + Q(\"fnlwgt_binned_(259873.0, 1484705.0]\") + Q(\"education_10th\") + Q(\"education_11th\") + Q(\"education_12th\") + Q(\"education_1st-4th\") + Q(\"education_5th-6th\") + Q(\"education_7th-8th\") + Q(\"education_9th\") + Q(\"education_Assoc-acdm\") + Q(\"education_Assoc-voc\") + Q(\"education_Bachelors\") + Q(\"education_Doctorate\") + Q(\"education_HS-grad\") + Q(\"education_Masters\") + Q(\"education_Preschool\") + Q(\"education_Prof-school\") + Q(\"education_Some-college\") + Q(\"education_num_binned_(0.999, 9.0]\") + Q(\"education_num_binned_(9.0, 10.0]\") + Q(\"education_num_binned_(10.0, 16.0]\") + Q(\"marital_status_Divorced\") + Q(\"marital_status_Married-AF-spouse\") + Q(\"marital_status_Married-civ-spouse\") + Q(\"marital_status_Married-spouse-absent\") + Q(\"marital_status_Never-married\") + Q(\"marital_status_Separated\") + Q(\"marital_status_Widowed\") + Q(\"occupation_?\") + Q(\"occupation_Adm-clerical\") + Q(\"occupation_Armed-Forces\") + Q(\"occupation_Craft-repair\") + Q(\"occupation_Exec-managerial\") + Q(\"occupation_Farming-fishing\") + Q(\"occupation_Handlers-cleaners\") + Q(\"occupation_Machine-op-inspct\") + Q(\"occupation_Other-service\") + Q(\"occupation_Priv-house-serv\") + Q(\"occupation_Prof-specialty\") + Q(\"occupation_Protective-serv\") + Q(\"occupation_Sales\") + Q(\"occupation_Tech-support\") + Q(\"occupation_Transport-moving\") + Q(\"relationship_Husband\") + Q(\"relationship_Not-in-family\") + Q(\"relationship_Other-relative\") + Q(\"relationship_Own-child\") + Q(\"relationship_Unmarried\") + Q(\"relationship_Wife\") + Q(\"race_Amer-Indian-Eskimo\") + Q(\"race_Asian-Pac-Islander\") + Q(\"race_Black\") + Q(\"race_Other\") + Q(\"race_White\") + Q(\"sex_Female\") + Q(\"sex_Male\") + Q(\"capital_gain_binned_0\") + Q(\"capital_gain_binned_>0\") + Q(\"capital_loss_binned_0\") + Q(\"capital_loss_binned_>0\") + Q(\"hours_binned_40\") + Q(\"hours_binned_<40\") + Q(\"hours_binned_>40\")\n"
     ]
    }
   ],
   "metadata": {
    "slideshow": {
     "slide_type": "fragment"
    }
   }
  },
  {
   "cell_type": "code",
   "execution_count": 19,
   "source": [
    "Y, X = dmatrices(formula, df2, return_type='dataframe')"
   ],
   "outputs": [],
   "metadata": {
    "slideshow": {
     "slide_type": "slide"
    }
   }
  },
  {
   "cell_type": "code",
   "execution_count": 20,
   "source": [
    "y = Y['target'].values\n",
    "y[:10]"
   ],
   "outputs": [
    {
     "output_type": "execute_result",
     "data": {
      "text/plain": [
       "array([0., 0., 0., 0., 0., 0., 0., 1., 1., 1.])"
      ]
     },
     "metadata": {},
     "execution_count": 20
    }
   ],
   "metadata": {}
  },
  {
   "cell_type": "markdown",
   "source": [
    "#### Set up the classifier"
   ],
   "metadata": {
    "slideshow": {
     "slide_type": "slide"
    }
   }
  },
  {
   "cell_type": "code",
   "execution_count": 21,
   "source": [
    "from sklearn import naive_bayes\n",
    "model = naive_bayes.MultinomialNB()"
   ],
   "outputs": [],
   "metadata": {}
  },
  {
   "cell_type": "markdown",
   "source": [
    "#### Fit the model"
   ],
   "metadata": {
    "slideshow": {
     "slide_type": "fragment"
    }
   }
  },
  {
   "cell_type": "code",
   "execution_count": 22,
   "source": [
    "model.fit(X, y)"
   ],
   "outputs": [
    {
     "output_type": "execute_result",
     "data": {
      "text/plain": [
       "MultinomialNB()"
      ]
     },
     "metadata": {},
     "execution_count": 22
    }
   ],
   "metadata": {
    "slideshow": {
     "slide_type": "fragment"
    }
   }
  },
  {
   "cell_type": "markdown",
   "source": [
    "#### Test on some training data"
   ],
   "metadata": {
    "slideshow": {
     "slide_type": "slide"
    }
   }
  },
  {
   "cell_type": "code",
   "execution_count": 23,
   "source": [
    "print('Prediction')\n",
    "print(model.predict(X[:10]))\n",
    "print('Actual')\n",
    "print(y[:10])"
   ],
   "outputs": [
    {
     "output_type": "stream",
     "name": "stdout",
     "text": [
      "Prediction\n",
      "[0. 1. 0. 0. 1. 1. 0. 1. 1. 1.]\n",
      "Actual\n",
      "[0. 0. 0. 0. 0. 0. 0. 1. 1. 1.]\n"
     ]
    }
   ],
   "metadata": {}
  },
  {
   "cell_type": "code",
   "execution_count": 24,
   "source": [
    "from sklearn import metrics\n",
    "\n",
    "prediction_train = model.predict(X)\n",
    "print(metrics.accuracy_score(y, prediction_train))"
   ],
   "outputs": [
    {
     "output_type": "stream",
     "name": "stdout",
     "text": [
      "0.8188937686189\n"
     ]
    }
   ],
   "metadata": {
    "slideshow": {
     "slide_type": "fragment"
    }
   }
  },
  {
   "cell_type": "markdown",
   "source": [
    "#### Test\n",
    "\n",
    "We load the test data from another CSV file."
   ],
   "metadata": {
    "slideshow": {
     "slide_type": "slide"
    }
   }
  },
  {
   "cell_type": "code",
   "execution_count": 25,
   "source": [
    "df_test = pd.read_csv('Classification_2_data/adult.test', sep=', ', names=names)"
   ],
   "outputs": [],
   "metadata": {}
  },
  {
   "cell_type": "markdown",
   "source": [
    "#### Create the target"
   ],
   "metadata": {
    "slideshow": {
     "slide_type": "fragment"
    }
   }
  },
  {
   "cell_type": "code",
   "execution_count": 26,
   "source": [
    "df_test['target'] = 0.0\n",
    "mask = (df_test['income_band'] == '>50K')\n",
    "df_test['target'][mask] = 1.0"
   ],
   "outputs": [],
   "metadata": {
    "slideshow": {
     "slide_type": "fragment"
    }
   }
  },
  {
   "cell_type": "markdown",
   "source": [
    "#### Do the feature binning"
   ],
   "metadata": {
    "slideshow": {
     "slide_type": "slide"
    }
   }
  },
  {
   "cell_type": "code",
   "execution_count": 27,
   "source": [
    "# Use the bins we created using from the training set\n",
    "# Now, we need pd.cut instead of pd.qcut\n",
    "df_test['age_binned'] = pd.cut(df_test['age'], bins=age_bins, include_lowest=True)\n",
    "df_test['fnlwgt_binned'] = pd.cut(df_test['fnlwgt'], bins=fnlwgt_bins, include_lowest=True)\n",
    "df_test['education_num_binned'] = pd.cut(df_test['education_num'], bins=education_num_bins, include_lowest=True)\n",
    "\n",
    "df_test['capital_loss_binned'] = '0'\n",
    "df_test['capital_loss_binned'][df_test['capital_loss'] > 0] = '>0'\n",
    "\n",
    "df_test['capital_gain_binned'] = '0'\n",
    "df_test['capital_gain_binned'][df_test['capital_gain'] > 0] = '>0'\n",
    "\n",
    "df_test['hours_binned'] = '40'\n",
    "df_test['hours_binned'][df_test['hours_per_week'] < 40] = '<40'\n",
    "df_test['hours_binned'][df_test['hours_per_week'] > 40] = '>40'"
   ],
   "outputs": [],
   "metadata": {}
  },
  {
   "cell_type": "markdown",
   "source": [
    "#### Create the design matrices"
   ],
   "metadata": {
    "slideshow": {
     "slide_type": "slide"
    }
   }
  },
  {
   "cell_type": "code",
   "execution_count": 28,
   "source": [
    "df_dummies = pd.get_dummies(df_test[categorical_columns],\n",
    "                            prefix=categorical_columns,\n",
    "                            columns=categorical_columns)\n",
    "dummy_column_names = df_dummies.columns.values\n",
    "df_test2 = pd.concat([df_test, df_dummies], axis=1)\n",
    "formula = 'target ~ 0 + {}'.format(' + '.join(['Q(\"{}\")'.format(x) for x in dummy_column_names]))"
   ],
   "outputs": [],
   "metadata": {}
  },
  {
   "cell_type": "code",
   "execution_count": 29,
   "source": [
    "Y_test, X_test = dmatrices(formula, df_test2, return_type='dataframe')\n",
    "y_test = Y_test['target'].values"
   ],
   "outputs": [],
   "metadata": {}
  },
  {
   "cell_type": "markdown",
   "source": [
    "#### Run the test"
   ],
   "metadata": {
    "slideshow": {
     "slide_type": "slide"
    }
   }
  },
  {
   "cell_type": "code",
   "execution_count": 30,
   "source": [
    "prediction_test = model.predict(X_test)\n",
    "print(metrics.accuracy_score(y_test, prediction_test))"
   ],
   "outputs": [
    {
     "output_type": "stream",
     "name": "stdout",
     "text": [
      "0.8220625268718138\n"
     ]
    }
   ],
   "metadata": {}
  },
  {
   "cell_type": "markdown",
   "source": [
    "* Testing accuracy was similar to training accuracy\n",
    "    * The accuracy on the training set was 0.819\n",
    "* This is good; it means we are not overfitting\n",
    "    * With overfitting, we would have great training accuracy,\n",
    "    * but the classifier would perform poorly on the test set."
   ],
   "metadata": {
    "slideshow": {
     "slide_type": "-"
    }
   }
  },
  {
   "cell_type": "markdown",
   "source": [
    "#### Class priors"
   ],
   "metadata": {
    "slideshow": {
     "slide_type": "slide"
    }
   }
  },
  {
   "cell_type": "markdown",
   "source": [
    "* Class priors are encoded in the \"model\" variable, after fitting the model to the training data. \n",
    "* The priors are available from *model.class_log_prior_*\n",
    "    * This is not the fraction of each class in the training data, but rather\n",
    "    * the _logarithm_ of that."
   ],
   "metadata": {}
  },
  {
   "cell_type": "code",
   "execution_count": 31,
   "source": [
    "print('Prior probability for the negative class is',)\n",
    "print(exp(model.class_log_prior_[0]))\n",
    "print('Prior probability for the positive class is',)\n",
    "print(exp(model.class_log_prior_[1]))"
   ],
   "outputs": [
    {
     "output_type": "stream",
     "name": "stdout",
     "text": [
      "Prior probability for the negative class is\n",
      "0.7591904425539763\n",
      "Prior probability for the positive class is\n",
      "0.24080955744602456\n"
     ]
    }
   ],
   "metadata": {
    "slideshow": {
     "slide_type": "fragment"
    }
   }
  },
  {
   "cell_type": "markdown",
   "source": [
    "This says:\n",
    "\n",
    "* first class (class 0) has prior probability 0.76\n",
    "* second class (class 1) has probability 0.24"
   ],
   "metadata": {
    "slideshow": {
     "slide_type": "fragment"
    }
   }
  },
  {
   "cell_type": "markdown",
   "source": [
    "We can quickly check that this is exactly the fraction of these classes in the training data."
   ],
   "metadata": {
    "slideshow": {
     "slide_type": "slide"
    }
   }
  },
  {
   "cell_type": "code",
   "execution_count": 32,
   "source": [
    "df['target'].value_counts() / len(df)"
   ],
   "outputs": [
    {
     "output_type": "execute_result",
     "data": {
      "text/plain": [
       "0.0    0.75919\n",
       "1.0    0.24081\n",
       "Name: target, dtype: float64"
      ]
     },
     "metadata": {},
     "execution_count": 32
    }
   ],
   "metadata": {}
  },
  {
   "cell_type": "markdown",
   "source": [
    "This also says that we can easily achieve 76% accuracy: just predict negative class always."
   ],
   "metadata": {
    "slideshow": {
     "slide_type": "fragment"
    }
   }
  },
  {
   "cell_type": "markdown",
   "source": [
    "Our accuracy of 82% is better than this baseline, but perhaps not by a lot."
   ],
   "metadata": {
    "slideshow": {
     "slide_type": "fragment"
    }
   }
  },
  {
   "cell_type": "markdown",
   "source": [
    "#### What are the likelihoods?"
   ],
   "metadata": {
    "slideshow": {
     "slide_type": "slide"
    }
   }
  },
  {
   "cell_type": "markdown",
   "source": [
    "There is a special attribute called **feature\\_log\\_prob\\_** that is available in the _model_ variable after fitting the training data."
   ],
   "metadata": {
    "slideshow": {
     "slide_type": "fragment"
    }
   }
  },
  {
   "cell_type": "code",
   "execution_count": 33,
   "source": [
    "# Log of the likelihoods for class 1 (positive class) for the first 5 features\n",
    "model.feature_log_prob_[1][:5]"
   ],
   "outputs": [
    {
     "output_type": "execute_result",
     "data": {
      "text/plain": [
       "array([-6.35107198, -4.55837662, -3.87227007, -3.75926107, -3.88363922])"
      ]
     },
     "metadata": {},
     "execution_count": 33
    }
   ],
   "metadata": {
    "slideshow": {
     "slide_type": "fragment"
    }
   }
  },
  {
   "cell_type": "code",
   "execution_count": 34,
   "source": [
    "print('Likelihoods for the negative class (first 5 features)')\n",
    "print(np.exp(model.feature_log_prob_[0])[:5])\n",
    "print('Likelihoods for the positive class (first 5 features)')\n",
    "print(np.exp(model.feature_log_prob_[1])[:5])"
   ],
   "outputs": [
    {
     "output_type": "stream",
     "name": "stdout",
     "text": [
      "Likelihoods for the negative class (first 5 features)\n",
      "[0.02183922 0.0152439  0.01444126 0.0118218  0.0135733 ]\n",
      "Likelihoods for the positive class (first 5 features)\n",
      "[0.00174488 0.01047906 0.02081107 0.02330095 0.02057581]\n"
     ]
    }
   ],
   "metadata": {
    "slideshow": {
     "slide_type": "fragment"
    }
   }
  },
  {
   "cell_type": "markdown",
   "source": [
    "#### Which features are most important?"
   ],
   "metadata": {
    "slideshow": {
     "slide_type": "slide"
    }
   }
  },
  {
   "cell_type": "markdown",
   "source": [
    "A feature is important (i.e. very **discriminative**) if it is very _likely_ in one class but very _unlikely_ in the other."
   ],
   "metadata": {}
  },
  {
   "cell_type": "markdown",
   "source": [
    "$$\\mbox{If }\\frac{P(\\mbox{feature in positive class})}{P(\\mbox{feature in negative class})} \\gg 1 \\Rightarrow \\mbox{presence of feature implies positive class}$$\\\n"
   ],
   "metadata": {
    "slideshow": {
     "slide_type": "fragment"
    }
   }
  },
  {
   "cell_type": "markdown",
   "source": [
    "$$\\mbox{If }\\frac{P(\\mbox{feature in positive class})}{P(\\mbox{feature in negative class})} \\ll 1 \\Rightarrow \\mbox{presence of feature implies negative class}$$"
   ],
   "metadata": {
    "slideshow": {
     "slide_type": "fragment"
    }
   }
  },
  {
   "cell_type": "markdown",
   "source": [
    "$$\\mbox{In either case,} \\log\\left(\\frac{P(\\mbox{feature in positive class})}{P(\\mbox{feature in negative class})}\\right) \\mbox{is very large in magnitude}$$"
   ],
   "metadata": {
    "slideshow": {
     "slide_type": "fragment"
    }
   }
  },
  {
   "cell_type": "code",
   "execution_count": 35,
   "source": [
    "feature_importances = abs(model.feature_log_prob_[1] - model.feature_log_prob_[0])\n",
    "feature_importances"
   ],
   "outputs": [
    {
     "output_type": "execute_result",
     "data": {
      "text/plain": [
       "array([2.5270243 , 0.37480093, 0.36539552, 0.67854877, 0.41601179,\n",
       "       1.00089736, 0.68648196, 0.27643082, 0.9317309 , 0.12556119,\n",
       "       1.3776994 , 0.22839003, 0.16476499, 1.56033956, 0.03601936,\n",
       "       0.09083016, 0.06662479, 0.07646216, 0.05127959, 1.47994405,\n",
       "       1.75892163, 1.31989026, 2.00012941, 1.78112739, 1.54724608,\n",
       "       1.71040025, 0.04285224, 0.10983809, 0.80348916, 2.19242717,\n",
       "       0.51369456, 1.3747681 , 2.80353307, 2.1604915 , 0.30022494,\n",
       "       0.75221789, 0.30022494, 0.87100125, 1.00169313, 0.90654859,\n",
       "       0.9343262 , 1.25018463, 1.88326713, 1.51453002, 1.21028715,\n",
       "       1.00514108, 0.71251662, 0.35636675, 0.07890704, 1.0837754 ,\n",
       "       0.87862107, 1.54489523, 0.7959203 , 1.98304647, 3.16308848,\n",
       "       0.94323488, 0.41979751, 0.15025213, 0.32588538, 0.23389987,\n",
       "       0.9412969 , 1.01482075, 2.06588812, 3.15037476, 1.5431454 ,\n",
       "       1.04826572, 0.86177231, 0.13316036, 0.80626702, 1.10358115,\n",
       "       0.08020373, 0.94780858, 0.32766705, 0.19828537, 1.62994611,\n",
       "       0.07358195, 1.18321733, 0.15673699, 1.10436427, 0.75258312])"
      ]
     },
     "metadata": {},
     "execution_count": 35
    }
   ],
   "metadata": {
    "slideshow": {
     "slide_type": "slide"
    }
   }
  },
  {
   "cell_type": "markdown",
   "source": [
    "We have the feature weights, but what are the names of these features?\n",
    "\n",
    "Recall that the features are the columns of the _design matrix_ X, so let's put all the information together in a Series."
   ],
   "metadata": {
    "slideshow": {
     "slide_type": "slide"
    }
   }
  },
  {
   "cell_type": "code",
   "execution_count": 36,
   "source": [
    "feature_importance_series = Series(feature_importances, index=X.columns.values)\n",
    "feature_importance_series[:10]"
   ],
   "outputs": [
    {
     "output_type": "execute_result",
     "data": {
      "text/plain": [
       "Q(\"age_binned_(16.999, 26.0]\")    2.527024\n",
       "Q(\"age_binned_(26.0, 33.0]\")      0.374801\n",
       "Q(\"age_binned_(33.0, 41.0]\")      0.365396\n",
       "Q(\"age_binned_(41.0, 50.0]\")      0.678549\n",
       "Q(\"age_binned_(50.0, 90.0]\")      0.416012\n",
       "Q(\"workclass_?\")                  1.000897\n",
       "Q(\"workclass_Federal-gov\")        0.686482\n",
       "Q(\"workclass_Local-gov\")          0.276431\n",
       "Q(\"workclass_Never-worked\")       0.931731\n",
       "Q(\"workclass_Private\")            0.125561\n",
       "dtype: float64"
      ]
     },
     "metadata": {},
     "execution_count": 36
    }
   ],
   "metadata": {
    "slideshow": {
     "slide_type": "fragment"
    }
   }
  },
  {
   "cell_type": "markdown",
   "source": [
    "How can we find the top features?"
   ],
   "metadata": {
    "slideshow": {
     "slide_type": "fragment"
    }
   }
  },
  {
   "cell_type": "code",
   "execution_count": 37,
   "source": [
    "feature_importance_series.sort_values(ascending=False)[:10]"
   ],
   "outputs": [
    {
     "output_type": "execute_result",
     "data": {
      "text/plain": [
       "Q(\"occupation_Priv-house-serv\")      3.163088\n",
       "Q(\"relationship_Own-child\")          3.150375\n",
       "Q(\"education_Preschool\")             2.803533\n",
       "Q(\"age_binned_(16.999, 26.0]\")       2.527024\n",
       "Q(\"education_Doctorate\")             2.192427\n",
       "Q(\"education_Prof-school\")           2.160491\n",
       "Q(\"relationship_Other-relative\")     2.065888\n",
       "Q(\"education_1st-4th\")               2.000129\n",
       "Q(\"occupation_Other-service\")        1.983046\n",
       "Q(\"marital_status_Never-married\")    1.883267\n",
       "dtype: float64"
      ]
     },
     "metadata": {},
     "execution_count": 37
    }
   ],
   "metadata": {
    "slideshow": {
     "slide_type": "slide"
    }
   }
  },
  {
   "cell_type": "markdown",
   "source": [
    "These are the absolute differences\n",
    "\n",
    "* absolute value of log P(positive class) - log P(negative class).\n",
    "\n",
    "But how do we figure out if the numbers were\n",
    "\n",
    "* positive (i.e., higher probability in positive class), or\n",
    "* negative (i.e., higher probability in negative class)?"
   ],
   "metadata": {
    "slideshow": {
     "slide_type": "fragment"
    }
   }
  },
  {
   "cell_type": "code",
   "execution_count": 38,
   "source": [
    "top_10_feature_indices = feature_importance_series.sort_values(ascending=False)[:10].index.values"
   ],
   "outputs": [],
   "metadata": {
    "slideshow": {
     "slide_type": "slide"
    }
   }
  },
  {
   "cell_type": "code",
   "execution_count": 39,
   "source": [
    "inter_class_differences = model.feature_log_prob_[1] - model.feature_log_prob_[0]\n",
    "new_feature_importance_series = Series(inter_class_differences, index=X.columns.values)\n",
    "\n",
    "new_feature_importance_series.loc[top_10_feature_indices]"
   ],
   "outputs": [
    {
     "output_type": "execute_result",
     "data": {
      "text/plain": [
       "Q(\"occupation_Priv-house-serv\")     -3.163088\n",
       "Q(\"relationship_Own-child\")         -3.150375\n",
       "Q(\"education_Preschool\")            -2.803533\n",
       "Q(\"age_binned_(16.999, 26.0]\")      -2.527024\n",
       "Q(\"education_Doctorate\")             2.192427\n",
       "Q(\"education_Prof-school\")           2.160491\n",
       "Q(\"relationship_Other-relative\")    -2.065888\n",
       "Q(\"education_1st-4th\")              -2.000129\n",
       "Q(\"occupation_Other-service\")       -1.983046\n",
       "Q(\"marital_status_Never-married\")   -1.883267\n",
       "dtype: float64"
      ]
     },
     "metadata": {},
     "execution_count": 39
    }
   ],
   "metadata": {
    "slideshow": {
     "slide_type": "fragment"
    }
   }
  }
 ],
 "metadata": {
  "celltoolbar": "Slideshow",
  "kernelspec": {
   "name": "python3",
   "display_name": "Python 3.9.6 64-bit ('mis-381n': conda)"
  },
  "language_info": {
   "codemirror_mode": {
    "name": "ipython",
    "version": 3
   },
   "file_extension": ".py",
   "mimetype": "text/x-python",
   "name": "python",
   "nbconvert_exporter": "python",
   "pygments_lexer": "ipython3",
   "version": "3.9.6"
  },
  "interpreter": {
   "hash": "06b40021540639983462c9e311a6ff423d5a2e962ab45520e073600d5efc95cc"
  }
 },
 "nbformat": 4,
 "nbformat_minor": 1
}