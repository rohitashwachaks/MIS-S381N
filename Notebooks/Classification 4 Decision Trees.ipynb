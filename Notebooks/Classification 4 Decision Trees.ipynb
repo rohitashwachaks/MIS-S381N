{
 "cells": [
  {
   "cell_type": "markdown",
   "source": [
    "# Classification 4\n",
    "\n",
    "We are going to look at Decision Trees."
   ],
   "metadata": {
    "slideshow": {
     "slide_type": "slide"
    }
   }
  },
  {
   "cell_type": "markdown",
   "source": [
    "We will analyze the _Titanic_ dataset, containing features of the people on the Titanic, and whether they survived or not. Data can be found [here](http://biostat.mc.vanderbilt.edu/wiki/pub/Main/DataSets/titanic.txt).\n",
    "\n",
    "We will use Decision Trees to answer super-important questions like:\n",
    "\n",
    "**Will Leo di Caprio make it out alive?**"
   ],
   "metadata": {
    "slideshow": {
     "slide_type": "slide"
    }
   }
  },
  {
   "cell_type": "markdown",
   "source": [
    "(Hint: Nah.)"
   ],
   "metadata": {
    "slideshow": {
     "slide_type": "fragment"
    }
   }
  },
  {
   "cell_type": "code",
   "execution_count": 1,
   "source": [
    "from pandas import Series, DataFrame\n",
    "import pandas as pd\n",
    "from patsy import dmatrices\n",
    "import warnings\n",
    "%pylab inline\n",
    "warnings.filterwarnings('ignore')"
   ],
   "outputs": [
    {
     "output_type": "stream",
     "name": "stdout",
     "text": [
      "Populating the interactive namespace from numpy and matplotlib\n"
     ]
    }
   ],
   "metadata": {
    "slideshow": {
     "slide_type": "fragment"
    }
   }
  },
  {
   "cell_type": "code",
   "execution_count": 2,
   "source": [
    "df = pd.read_csv('Classification_4_data/titanic.txt')\n",
    "df.columns.values"
   ],
   "outputs": [
    {
     "output_type": "execute_result",
     "data": {
      "text/plain": [
       "array(['row.names', 'pclass', 'survived', 'name', 'age', 'embarked',\n",
       "       'home.dest', 'room', 'ticket', 'boat', 'sex'], dtype=object)"
      ]
     },
     "metadata": {},
     "execution_count": 2
    }
   ],
   "metadata": {
    "slideshow": {
     "slide_type": "slide"
    }
   }
  },
  {
   "cell_type": "markdown",
   "source": [
    "How many passengers?"
   ],
   "metadata": {
    "slideshow": {
     "slide_type": "fragment"
    }
   }
  },
  {
   "cell_type": "code",
   "execution_count": 3,
   "source": [
    "len(df)"
   ],
   "outputs": [
    {
     "output_type": "execute_result",
     "data": {
      "text/plain": [
       "1313"
      ]
     },
     "metadata": {},
     "execution_count": 3
    }
   ],
   "metadata": {
    "slideshow": {
     "slide_type": "fragment"
    }
   }
  },
  {
   "cell_type": "markdown",
   "source": [
    "Show me one."
   ],
   "metadata": {
    "slideshow": {
     "slide_type": "fragment"
    }
   }
  },
  {
   "cell_type": "code",
   "execution_count": 4,
   "source": [
    "df.iloc[0]"
   ],
   "outputs": [
    {
     "output_type": "execute_result",
     "data": {
      "text/plain": [
       "row.names                               1\n",
       "pclass                                1st\n",
       "survived                                1\n",
       "name         Allen, Miss Elisabeth Walton\n",
       "age                                  29.0\n",
       "embarked                      Southampton\n",
       "home.dest                    St Louis, MO\n",
       "room                                  B-5\n",
       "ticket                         24160 L221\n",
       "boat                                    2\n",
       "sex                                female\n",
       "Name: 0, dtype: object"
      ]
     },
     "metadata": {},
     "execution_count": 4
    }
   ],
   "metadata": {
    "slideshow": {
     "slide_type": "fragment"
    }
   }
  },
  {
   "cell_type": "code",
   "execution_count": 5,
   "source": [
    "df['embarked'].value_counts()"
   ],
   "outputs": [
    {
     "output_type": "execute_result",
     "data": {
      "text/plain": [
       "Southampton    573\n",
       "Cherbourg      203\n",
       "Queenstown      45\n",
       "Name: embarked, dtype: int64"
      ]
     },
     "metadata": {},
     "execution_count": 5
    }
   ],
   "metadata": {
    "slideshow": {
     "slide_type": "fragment"
    }
   }
  },
  {
   "cell_type": "markdown",
   "source": [
    "### Create the design matrices"
   ],
   "metadata": {
    "slideshow": {
     "slide_type": "slide"
    }
   }
  },
  {
   "cell_type": "code",
   "execution_count": 13,
   "source": [
    "Y, X = dmatrices('survived ~ 0 + C(pclass) + age + C(embarked) + sex', df, return_type='dataframe')\n",
    "y = Y['survived'].values"
   ],
   "outputs": [],
   "metadata": {}
  },
  {
   "cell_type": "code",
   "execution_count": 14,
   "source": [
    "X[:5]"
   ],
   "outputs": [
    {
     "output_type": "execute_result",
     "data": {
      "text/plain": [
       "   C(pclass)[1st]  C(pclass)[2nd]  C(pclass)[3rd]  C(embarked)[T.Queenstown]  \\\n",
       "0             1.0             0.0             0.0                        0.0   \n",
       "1             1.0             0.0             0.0                        0.0   \n",
       "2             1.0             0.0             0.0                        0.0   \n",
       "3             1.0             0.0             0.0                        0.0   \n",
       "4             1.0             0.0             0.0                        0.0   \n",
       "\n",
       "   C(embarked)[T.Southampton]  sex[T.male]      age  \n",
       "0                         1.0          0.0  29.0000  \n",
       "1                         1.0          0.0   2.0000  \n",
       "2                         1.0          1.0  30.0000  \n",
       "3                         1.0          0.0  25.0000  \n",
       "4                         1.0          1.0   0.9167  "
      ],
      "text/html": [
       "<div>\n",
       "<style scoped>\n",
       "    .dataframe tbody tr th:only-of-type {\n",
       "        vertical-align: middle;\n",
       "    }\n",
       "\n",
       "    .dataframe tbody tr th {\n",
       "        vertical-align: top;\n",
       "    }\n",
       "\n",
       "    .dataframe thead th {\n",
       "        text-align: right;\n",
       "    }\n",
       "</style>\n",
       "<table border=\"1\" class=\"dataframe\">\n",
       "  <thead>\n",
       "    <tr style=\"text-align: right;\">\n",
       "      <th></th>\n",
       "      <th>C(pclass)[1st]</th>\n",
       "      <th>C(pclass)[2nd]</th>\n",
       "      <th>C(pclass)[3rd]</th>\n",
       "      <th>C(embarked)[T.Queenstown]</th>\n",
       "      <th>C(embarked)[T.Southampton]</th>\n",
       "      <th>sex[T.male]</th>\n",
       "      <th>age</th>\n",
       "    </tr>\n",
       "  </thead>\n",
       "  <tbody>\n",
       "    <tr>\n",
       "      <th>0</th>\n",
       "      <td>1.0</td>\n",
       "      <td>0.0</td>\n",
       "      <td>0.0</td>\n",
       "      <td>0.0</td>\n",
       "      <td>1.0</td>\n",
       "      <td>0.0</td>\n",
       "      <td>29.0000</td>\n",
       "    </tr>\n",
       "    <tr>\n",
       "      <th>1</th>\n",
       "      <td>1.0</td>\n",
       "      <td>0.0</td>\n",
       "      <td>0.0</td>\n",
       "      <td>0.0</td>\n",
       "      <td>1.0</td>\n",
       "      <td>0.0</td>\n",
       "      <td>2.0000</td>\n",
       "    </tr>\n",
       "    <tr>\n",
       "      <th>2</th>\n",
       "      <td>1.0</td>\n",
       "      <td>0.0</td>\n",
       "      <td>0.0</td>\n",
       "      <td>0.0</td>\n",
       "      <td>1.0</td>\n",
       "      <td>1.0</td>\n",
       "      <td>30.0000</td>\n",
       "    </tr>\n",
       "    <tr>\n",
       "      <th>3</th>\n",
       "      <td>1.0</td>\n",
       "      <td>0.0</td>\n",
       "      <td>0.0</td>\n",
       "      <td>0.0</td>\n",
       "      <td>1.0</td>\n",
       "      <td>0.0</td>\n",
       "      <td>25.0000</td>\n",
       "    </tr>\n",
       "    <tr>\n",
       "      <th>4</th>\n",
       "      <td>1.0</td>\n",
       "      <td>0.0</td>\n",
       "      <td>0.0</td>\n",
       "      <td>0.0</td>\n",
       "      <td>1.0</td>\n",
       "      <td>1.0</td>\n",
       "      <td>0.9167</td>\n",
       "    </tr>\n",
       "  </tbody>\n",
       "</table>\n",
       "</div>"
      ]
     },
     "metadata": {},
     "execution_count": 14
    }
   ],
   "metadata": {}
  },
  {
   "cell_type": "code",
   "execution_count": 15,
   "source": [
    "df['pclass'].value_counts()"
   ],
   "outputs": [
    {
     "output_type": "execute_result",
     "data": {
      "text/plain": [
       "3rd    711\n",
       "1st    322\n",
       "2nd    280\n",
       "Name: pclass, dtype: int64"
      ]
     },
     "metadata": {},
     "execution_count": 15
    }
   ],
   "metadata": {}
  },
  {
   "cell_type": "markdown",
   "source": [
    "### Split data into train and test"
   ],
   "metadata": {
    "slideshow": {
     "slide_type": "slide"
    }
   }
  },
  {
   "cell_type": "code",
   "execution_count": 34,
   "source": [
    "from sklearn.model_selection import train_test_split\n",
    "X_train, X_test, y_train, y_test = train_test_split(X, y, test_size=0.3, random_state=1)"
   ],
   "outputs": [],
   "metadata": {}
  },
  {
   "cell_type": "markdown",
   "source": [
    "### Set up classifier"
   ],
   "metadata": {
    "slideshow": {
     "slide_type": "fragment"
    }
   }
  },
  {
   "cell_type": "code",
   "execution_count": 35,
   "source": [
    "from sklearn import tree\n",
    "model = tree.DecisionTreeClassifier(criterion='entropy')"
   ],
   "outputs": [],
   "metadata": {
    "slideshow": {
     "slide_type": "fragment"
    }
   }
  },
  {
   "cell_type": "markdown",
   "source": [
    "### Fit the data"
   ],
   "metadata": {
    "slideshow": {
     "slide_type": "fragment"
    }
   }
  },
  {
   "cell_type": "code",
   "execution_count": 36,
   "source": [
    "result = model.fit(X_train, y_train)"
   ],
   "outputs": [],
   "metadata": {
    "slideshow": {
     "slide_type": "fragment"
    }
   }
  },
  {
   "cell_type": "code",
   "execution_count": 37,
   "source": [
    "from sklearn import metrics\n",
    "\n",
    "prediction_train = model.predict(X_train)\n",
    "print(metrics.accuracy_score(y_train, prediction_train))"
   ],
   "outputs": [
    {
     "output_type": "stream",
     "name": "stdout",
     "text": [
      "0.9246575342465754\n"
     ]
    }
   ],
   "metadata": {
    "slideshow": {
     "slide_type": "fragment"
    }
   }
  },
  {
   "cell_type": "markdown",
   "source": [
    "### Accuracy on test set"
   ],
   "metadata": {
    "slideshow": {
     "slide_type": "slide"
    }
   }
  },
  {
   "cell_type": "code",
   "execution_count": 38,
   "source": [
    "prediction = model.predict(X_test)\n",
    "print(metrics.accuracy_score(y_test, prediction))"
   ],
   "outputs": [
    {
     "output_type": "stream",
     "name": "stdout",
     "text": [
      "0.7724867724867724\n"
     ]
    }
   ],
   "metadata": {}
  },
  {
   "cell_type": "markdown",
   "source": [
    "This is far worse than the 92% accuracy we expected from the training set. Clearly, we are **overfitting**."
   ],
   "metadata": {}
  },
  {
   "cell_type": "markdown",
   "source": [
    "One way to avoid overfitting is to ensure that trees never become too deep, via the *max\\_depth* argument."
   ],
   "metadata": {}
  },
  {
   "cell_type": "code",
   "execution_count": 21,
   "source": [
    "model2 = tree.DecisionTreeClassifier(criterion='entropy', max_depth=2)\n",
    "result = model2.fit(X_train, y_train)"
   ],
   "outputs": [],
   "metadata": {}
  },
  {
   "cell_type": "markdown",
   "source": [
    "### Accuracy"
   ],
   "metadata": {
    "slideshow": {
     "slide_type": "slide"
    }
   }
  },
  {
   "cell_type": "code",
   "execution_count": 22,
   "source": [
    "prediction_train = model2.predict(X_train)\n",
    "print(metrics.accuracy_score(y_train, prediction_train))"
   ],
   "outputs": [
    {
     "output_type": "stream",
     "name": "stdout",
     "text": [
      "0.8287671232876712\n"
     ]
    }
   ],
   "metadata": {
    "slideshow": {
     "slide_type": "-"
    }
   }
  },
  {
   "cell_type": "code",
   "execution_count": 23,
   "source": [
    "prediction = model2.predict(X_test)\n",
    "print(metrics.accuracy_score(y_test, prediction))"
   ],
   "outputs": [
    {
     "output_type": "stream",
     "name": "stdout",
     "text": [
      "0.8095238095238095\n"
     ]
    }
   ],
   "metadata": {}
  },
  {
   "cell_type": "markdown",
   "source": [
    "### What does the tree look like?"
   ],
   "metadata": {
    "slideshow": {
     "slide_type": "slide"
    }
   }
  },
  {
   "cell_type": "code",
   "execution_count": 41,
   "source": [
    "# Install the anaconda package \"python-graphviz\" (easier)\n",
    "# Alternately, install \"Graphviz\" software, and the \"pip install graphviz\"\n",
    "import graphviz\n",
    "graphviz.Source(tree.export_graphviz(model2,\n",
    "                                     out_file=None,\n",
    "                                     feature_names=X.columns.values,\n",
    "                                     filled=True))"
   ],
   "outputs": [
    {
     "output_type": "execute_result",
     "data": {
      "text/plain": [
       "<graphviz.files.Source at 0x7fb411265550>"
      ],
      "image/svg+xml": "<?xml version=\"1.0\" encoding=\"UTF-8\" standalone=\"no\"?>\n<!DOCTYPE svg PUBLIC \"-//W3C//DTD SVG 1.1//EN\"\n \"http://www.w3.org/Graphics/SVG/1.1/DTD/svg11.dtd\">\n<!-- Generated by graphviz version 2.48.0 (0)\n -->\n<!-- Title: Tree Pages: 1 -->\n<svg width=\"498pt\" height=\"269pt\"\n viewBox=\"0.00 0.00 497.50 269.00\" xmlns=\"http://www.w3.org/2000/svg\" xmlns:xlink=\"http://www.w3.org/1999/xlink\">\n<g id=\"graph0\" class=\"graph\" transform=\"scale(1 1) rotate(0) translate(4 265)\">\n<title>Tree</title>\n<polygon fill=\"white\" stroke=\"transparent\" points=\"-4,4 -4,-265 493.5,-265 493.5,4 -4,4\"/>\n<!-- 0 -->\n<g id=\"node1\" class=\"node\">\n<title>0</title>\n<polygon fill=\"#fae6d8\" stroke=\"black\" points=\"304.5,-261 181.5,-261 181.5,-193 304.5,-193 304.5,-261\"/>\n<text text-anchor=\"middle\" x=\"243\" y=\"-245.8\" font-family=\"Times,serif\" font-size=\"14.00\">sex[T.male] &lt;= 0.5</text>\n<text text-anchor=\"middle\" x=\"243\" y=\"-230.8\" font-family=\"Times,serif\" font-size=\"14.00\">entropy = 0.991</text>\n<text text-anchor=\"middle\" x=\"243\" y=\"-215.8\" font-family=\"Times,serif\" font-size=\"14.00\">samples = 438</text>\n<text text-anchor=\"middle\" x=\"243\" y=\"-200.8\" font-family=\"Times,serif\" font-size=\"14.00\">value = [243, 195]</text>\n</g>\n<!-- 1 -->\n<g id=\"node2\" class=\"node\">\n<title>1</title>\n<polygon fill=\"#66b3eb\" stroke=\"black\" points=\"240,-157 102,-157 102,-89 240,-89 240,-157\"/>\n<text text-anchor=\"middle\" x=\"171\" y=\"-141.8\" font-family=\"Times,serif\" font-size=\"14.00\">C(pclass)[3rd] &lt;= 0.5</text>\n<text text-anchor=\"middle\" x=\"171\" y=\"-126.8\" font-family=\"Times,serif\" font-size=\"14.00\">entropy = 0.691</text>\n<text text-anchor=\"middle\" x=\"171\" y=\"-111.8\" font-family=\"Times,serif\" font-size=\"14.00\">samples = 162</text>\n<text text-anchor=\"middle\" x=\"171\" y=\"-96.8\" font-family=\"Times,serif\" font-size=\"14.00\">value = [30, 132]</text>\n</g>\n<!-- 0&#45;&gt;1 -->\n<g id=\"edge1\" class=\"edge\">\n<title>0&#45;&gt;1</title>\n<path fill=\"none\" stroke=\"black\" d=\"M219.62,-192.88C213.46,-184.15 206.74,-174.62 200.3,-165.51\"/>\n<polygon fill=\"black\" stroke=\"black\" points=\"203.13,-163.45 194.51,-157.3 197.41,-167.49 203.13,-163.45\"/>\n<text text-anchor=\"middle\" x=\"190.26\" y=\"-178.24\" font-family=\"Times,serif\" font-size=\"14.00\">True</text>\n</g>\n<!-- 4 -->\n<g id=\"node5\" class=\"node\">\n<title>4</title>\n<polygon fill=\"#eda674\" stroke=\"black\" points=\"371.5,-157 258.5,-157 258.5,-89 371.5,-89 371.5,-157\"/>\n<text text-anchor=\"middle\" x=\"315\" y=\"-141.8\" font-family=\"Times,serif\" font-size=\"14.00\">age &lt;= 4.5</text>\n<text text-anchor=\"middle\" x=\"315\" y=\"-126.8\" font-family=\"Times,serif\" font-size=\"14.00\">entropy = 0.775</text>\n<text text-anchor=\"middle\" x=\"315\" y=\"-111.8\" font-family=\"Times,serif\" font-size=\"14.00\">samples = 276</text>\n<text text-anchor=\"middle\" x=\"315\" y=\"-96.8\" font-family=\"Times,serif\" font-size=\"14.00\">value = [213, 63]</text>\n</g>\n<!-- 0&#45;&gt;4 -->\n<g id=\"edge4\" class=\"edge\">\n<title>0&#45;&gt;4</title>\n<path fill=\"none\" stroke=\"black\" d=\"M266.38,-192.88C272.54,-184.15 279.26,-174.62 285.7,-165.51\"/>\n<polygon fill=\"black\" stroke=\"black\" points=\"288.59,-167.49 291.49,-157.3 282.87,-163.45 288.59,-167.49\"/>\n<text text-anchor=\"middle\" x=\"295.74\" y=\"-178.24\" font-family=\"Times,serif\" font-size=\"14.00\">False</text>\n</g>\n<!-- 2 -->\n<g id=\"node3\" class=\"node\">\n<title>2</title>\n<polygon fill=\"#47a4e7\" stroke=\"black\" points=\"106,-53 0,-53 0,0 106,0 106,-53\"/>\n<text text-anchor=\"middle\" x=\"53\" y=\"-37.8\" font-family=\"Times,serif\" font-size=\"14.00\">entropy = 0.343</text>\n<text text-anchor=\"middle\" x=\"53\" y=\"-22.8\" font-family=\"Times,serif\" font-size=\"14.00\">samples = 125</text>\n<text text-anchor=\"middle\" x=\"53\" y=\"-7.8\" font-family=\"Times,serif\" font-size=\"14.00\">value = [8, 117]</text>\n</g>\n<!-- 1&#45;&gt;2 -->\n<g id=\"edge2\" class=\"edge\">\n<title>1&#45;&gt;2</title>\n<path fill=\"none\" stroke=\"black\" d=\"M129.73,-88.95C117.85,-79.43 104.91,-69.07 93.1,-59.62\"/>\n<polygon fill=\"black\" stroke=\"black\" points=\"95.13,-56.76 85.14,-53.24 90.75,-62.22 95.13,-56.76\"/>\n</g>\n<!-- 3 -->\n<g id=\"node4\" class=\"node\">\n<title>3</title>\n<polygon fill=\"#f7d7c0\" stroke=\"black\" points=\"230,-53 124,-53 124,0 230,0 230,-53\"/>\n<text text-anchor=\"middle\" x=\"177\" y=\"-37.8\" font-family=\"Times,serif\" font-size=\"14.00\">entropy = 0.974</text>\n<text text-anchor=\"middle\" x=\"177\" y=\"-22.8\" font-family=\"Times,serif\" font-size=\"14.00\">samples = 37</text>\n<text text-anchor=\"middle\" x=\"177\" y=\"-7.8\" font-family=\"Times,serif\" font-size=\"14.00\">value = [22, 15]</text>\n</g>\n<!-- 1&#45;&gt;3 -->\n<g id=\"edge3\" class=\"edge\">\n<title>1&#45;&gt;3</title>\n<path fill=\"none\" stroke=\"black\" d=\"M173.1,-88.95C173.62,-80.72 174.18,-71.85 174.72,-63.48\"/>\n<polygon fill=\"black\" stroke=\"black\" points=\"178.23,-63.44 175.37,-53.24 171.24,-62.99 178.23,-63.44\"/>\n</g>\n<!-- 5 -->\n<g id=\"node6\" class=\"node\">\n<title>5</title>\n<polygon fill=\"#399de5\" stroke=\"black\" points=\"358.5,-53 259.5,-53 259.5,0 358.5,0 358.5,-53\"/>\n<text text-anchor=\"middle\" x=\"309\" y=\"-37.8\" font-family=\"Times,serif\" font-size=\"14.00\">entropy = 0.0</text>\n<text text-anchor=\"middle\" x=\"309\" y=\"-22.8\" font-family=\"Times,serif\" font-size=\"14.00\">samples = 11</text>\n<text text-anchor=\"middle\" x=\"309\" y=\"-7.8\" font-family=\"Times,serif\" font-size=\"14.00\">value = [0, 11]</text>\n</g>\n<!-- 4&#45;&gt;5 -->\n<g id=\"edge5\" class=\"edge\">\n<title>4&#45;&gt;5</title>\n<path fill=\"none\" stroke=\"black\" d=\"M312.9,-88.95C312.38,-80.72 311.82,-71.85 311.28,-63.48\"/>\n<polygon fill=\"black\" stroke=\"black\" points=\"314.76,-62.99 310.63,-53.24 307.77,-63.44 314.76,-62.99\"/>\n</g>\n<!-- 6 -->\n<g id=\"node7\" class=\"node\">\n<title>6</title>\n<polygon fill=\"#eba069\" stroke=\"black\" points=\"489.5,-53 376.5,-53 376.5,0 489.5,0 489.5,-53\"/>\n<text text-anchor=\"middle\" x=\"433\" y=\"-37.8\" font-family=\"Times,serif\" font-size=\"14.00\">entropy = 0.714</text>\n<text text-anchor=\"middle\" x=\"433\" y=\"-22.8\" font-family=\"Times,serif\" font-size=\"14.00\">samples = 265</text>\n<text text-anchor=\"middle\" x=\"433\" y=\"-7.8\" font-family=\"Times,serif\" font-size=\"14.00\">value = [213, 52]</text>\n</g>\n<!-- 4&#45;&gt;6 -->\n<g id=\"edge6\" class=\"edge\">\n<title>4&#45;&gt;6</title>\n<path fill=\"none\" stroke=\"black\" d=\"M356.27,-88.95C368.15,-79.43 381.09,-69.07 392.9,-59.62\"/>\n<polygon fill=\"black\" stroke=\"black\" points=\"395.25,-62.22 400.86,-53.24 390.87,-56.76 395.25,-62.22\"/>\n</g>\n</g>\n</svg>\n"
     },
     "metadata": {},
     "execution_count": 41
    }
   ],
   "metadata": {}
  },
  {
   "cell_type": "markdown",
   "source": [
    "* Each node of the decision tree checks a feature value\n",
    "    * If the answer is _Yes_, take the left branch\n",
    "    * else take the right branch.\n",
    "* Root node in the tree checks if sex[T.male] <= 0.5. sex[T.male] is 1 if male and 0 if female, so it is less than 0.5 for females.\n",
    "    * If _Yes_ (left branch), check if pclass[3rd] is 0, etc.\n",
    "* A leaf node has _value_ (i.e., class label) as a list:\n",
    "    * first item of list is class label 0 (negative class)\n",
    "    * second list item is class label 1 (positive class)"
   ],
   "metadata": {}
  },
  {
   "cell_type": "markdown",
   "source": [
    "    if sex=female:\n",
    "        if not 3rd class passenger:\n",
    "            return \"likely survives: probability 117/125\"\n",
    "        else:\n",
    "            return \"likely dies: probability 22/37\"\n",
    "    else:\n",
    "        if age <= 4.5 years (baby):\n",
    "            return \"always survives\"\n",
    "        else:\n",
    "            return \"likely dies: probability 52/265\""
   ],
   "metadata": {
    "slideshow": {
     "slide_type": "slide"
    }
   }
  },
  {
   "cell_type": "markdown",
   "source": [
    "Note that even though port of embarkation was a feature, it was not discriminative enough to be included."
   ],
   "metadata": {}
  },
  {
   "cell_type": "markdown",
   "source": [
    "What did our first model (with possible overfitting) look like?"
   ],
   "metadata": {
    "slideshow": {
     "slide_type": "slide"
    }
   }
  },
  {
   "cell_type": "code",
   "execution_count": 42,
   "source": [
    "graphviz.Source(tree.export_graphviz(model,\n",
    "                                     out_file=None,\n",
    "                                     feature_names=X.columns.values,\n",
    "                                     filled=True)).render('Classification_4_data/titanic1', format='png')"
   ],
   "outputs": [
    {
     "output_type": "execute_result",
     "data": {
      "text/plain": [
       "'Classification_4_data/titanic1.png'"
      ]
     },
     "metadata": {},
     "execution_count": 42
    }
   ],
   "metadata": {}
  },
  {
   "cell_type": "markdown",
   "source": [
    "![Titanic overfitting](Classification_4_data/titanic1.png)"
   ],
   "metadata": {}
  },
  {
   "cell_type": "markdown",
   "source": [
    "Let us try decision trees on another problem: guessing the income level of an adult. We saw this problem earlier when we tried Naive Bayes."
   ],
   "metadata": {
    "slideshow": {
     "slide_type": "slide"
    }
   }
  },
  {
   "cell_type": "code",
   "execution_count": 43,
   "source": [
    "names = ['age', 'workclass', 'fnlwgt', 'education', 'education_num', \\\n",
    "         'marital_status', 'occupation', 'relationship', 'race', 'sex', \\\n",
    "         'capital_gain', 'capital_loss', 'hours_per_week', \\\n",
    "         'native_country', 'income_band']\n",
    "df = pd.read_table('Classification_2_data/adult.data', sep=', ', names=names)\n",
    "df.iloc[0]"
   ],
   "outputs": [
    {
     "output_type": "execute_result",
     "data": {
      "text/plain": [
       "age                          39\n",
       "workclass             State-gov\n",
       "fnlwgt                    77516\n",
       "education             Bachelors\n",
       "education_num                13\n",
       "marital_status    Never-married\n",
       "occupation         Adm-clerical\n",
       "relationship      Not-in-family\n",
       "race                      White\n",
       "sex                        Male\n",
       "capital_gain               2174\n",
       "capital_loss                  0\n",
       "hours_per_week               40\n",
       "native_country    United-States\n",
       "income_band               <=50K\n",
       "Name: 0, dtype: object"
      ]
     },
     "metadata": {},
     "execution_count": 43
    }
   ],
   "metadata": {}
  },
  {
   "cell_type": "markdown",
   "source": [
    "### Create the target"
   ],
   "metadata": {
    "slideshow": {
     "slide_type": "slide"
    }
   }
  },
  {
   "cell_type": "code",
   "execution_count": 44,
   "source": [
    "df['target'] = 0.0\n",
    "mask = (df['income_band'] == '>50K')\n",
    "df['target'][mask] = 1.0"
   ],
   "outputs": [],
   "metadata": {}
  },
  {
   "cell_type": "markdown",
   "source": [
    "### Create the design matrices\n",
    "\n",
    "With Naive Bayes, we had to properly bin the data (e.g., hours worked, capital gains, etc.) A decision tree should be able to figure out the right split thresholds by itself."
   ],
   "metadata": {}
  },
  {
   "cell_type": "code",
   "execution_count": 45,
   "source": [
    "formula = 'target ~ 0 + age + workclass + fnlwgt + education + education_num + ' + \\\n",
    "          'marital_status + occupation + relationship + race + sex + ' \\\n",
    "          'capital_gain + capital_loss + hours_per_week'\n",
    "Y, X = dmatrices(formula, df, return_type='dataframe')\n",
    "y = Y['target'].values"
   ],
   "outputs": [],
   "metadata": {}
  },
  {
   "cell_type": "markdown",
   "source": [
    "### Split intro training and testing sets"
   ],
   "metadata": {}
  },
  {
   "cell_type": "code",
   "execution_count": 46,
   "source": [
    "X_train, X_test, y_train, y_test = train_test_split(X, y, test_size=0.3, random_state=1)"
   ],
   "outputs": [],
   "metadata": {}
  },
  {
   "cell_type": "markdown",
   "source": [
    "### Set up the classifier\n",
    "\n",
    "We saw that getting the right _max\\_depth_ was important to avoid overfitting. Let us try cross-validation for this."
   ],
   "metadata": {
    "slideshow": {
     "slide_type": "slide"
    }
   }
  },
  {
   "cell_type": "code",
   "execution_count": 51,
   "source": [
    "from sklearn.model_selection import cross_val_score, StratifiedKFold\n",
    "\n",
    "# Create the folds in the training data\n",
    "kfold = StratifiedKFold(n_splits=3, shuffle=True)\n",
    "\n",
    "# Iterate over max_depth\n",
    "for max_depth in range(1,9,1):\n",
    "    model3 = tree.DecisionTreeClassifier(criterion='entropy', max_depth=max_depth)\n",
    "    scores = cross_val_score(model3, X_train, y_train, cv=kfold)\n",
    "    print('max_depth={} scores={} avg_score={}'.format(max_depth, scores, scores.mean()))"
   ],
   "outputs": [
    {
     "output_type": "stream",
     "name": "stdout",
     "text": [
      "max_depth=1 scores=[0.75335615 0.75332368 0.75332368] avg_score=0.7533345023848733\n",
      "max_depth=2 scores=[0.82219005 0.79807819 0.79834145] avg_score=0.8062032297814921\n",
      "max_depth=3 scores=[0.84153725 0.84375411 0.84046334] avg_score=0.8419182336340377\n",
      "max_depth=4 scores=[0.84074757 0.84217454 0.8424378 ] avg_score=0.8417866373759314\n",
      "max_depth=5 scores=[0.84430113 0.84980914 0.84006845] avg_score=0.8447262383777862\n",
      "max_depth=6 scores=[0.85390892 0.84217454 0.84783467] avg_score=0.8479727125214601\n",
      "max_depth=7 scores=[0.85022374 0.84941424 0.8483612 ] avg_score=0.8493330602543508\n",
      "max_depth=8 scores=[0.84877599 0.85270502 0.85402132] avg_score=0.8518341110090087\n"
     ]
    }
   ],
   "metadata": {}
  },
  {
   "cell_type": "markdown",
   "source": [
    "So let's pick the smallest tree that works well: **max\\_depth=3**."
   ],
   "metadata": {}
  },
  {
   "cell_type": "markdown",
   "source": [
    "### Fit with max_depth=3"
   ],
   "metadata": {
    "slideshow": {
     "slide_type": "slide"
    }
   }
  },
  {
   "cell_type": "code",
   "execution_count": 52,
   "source": [
    "model3 = tree.DecisionTreeClassifier(criterion='entropy', max_depth=3)\n",
    "result = model3.fit(X_train, y_train)"
   ],
   "outputs": [],
   "metadata": {}
  },
  {
   "cell_type": "markdown",
   "source": [
    "### Accuracy on training set"
   ],
   "metadata": {}
  },
  {
   "cell_type": "code",
   "execution_count": 53,
   "source": [
    "prediction_train = model3.predict(X_train)\n",
    "print(metrics.accuracy_score(y_train, prediction_train))"
   ],
   "outputs": [
    {
     "output_type": "stream",
     "name": "stdout",
     "text": [
      "0.8418743418743418\n"
     ]
    }
   ],
   "metadata": {}
  },
  {
   "cell_type": "markdown",
   "source": [
    "This matches what we got from the cross-validation output."
   ],
   "metadata": {}
  },
  {
   "cell_type": "markdown",
   "source": [
    "### Accuracy on testing set"
   ],
   "metadata": {}
  },
  {
   "cell_type": "code",
   "execution_count": 54,
   "source": [
    "prediction = model3.predict(X_test)\n",
    "print(metrics.accuracy_score(y_test, prediction))"
   ],
   "outputs": [
    {
     "output_type": "stream",
     "name": "stdout",
     "text": [
      "0.8481932644078206\n"
     ]
    }
   ],
   "metadata": {}
  },
  {
   "cell_type": "markdown",
   "source": [
    "This is in the same ballpark as the training accuracy, so we didn't overfit. All thanks to cross-validation."
   ],
   "metadata": {}
  },
  {
   "cell_type": "markdown",
   "source": [
    "For reference, Naive Bayes got 82.5%, so Decision Trees outperform Naive Bayes here."
   ],
   "metadata": {}
  },
  {
   "cell_type": "markdown",
   "source": [
    "### What does the tree look like"
   ],
   "metadata": {
    "slideshow": {
     "slide_type": "slide"
    }
   }
  },
  {
   "cell_type": "code",
   "execution_count": 55,
   "source": [
    "graphviz.Source(tree.export_graphviz(model3,\n",
    "                                     out_file=None,\n",
    "                                     feature_names=X.columns.values,\n",
    "                                     filled=True)).render('Classification_4_data/incomes', format='png')"
   ],
   "outputs": [
    {
     "output_type": "execute_result",
     "data": {
      "text/plain": [
       "'Classification_4_data/incomes.png'"
      ]
     },
     "metadata": {},
     "execution_count": 55
    }
   ],
   "metadata": {}
  },
  {
   "cell_type": "markdown",
   "source": [
    "![Adult income tree](Classification_4_data/incomes.png)"
   ],
   "metadata": {}
  },
  {
   "cell_type": "markdown",
   "source": [
    "* Primary split based on marital status\n",
    "    * The leaves in the left subtree (not married) are generally biased towards the negative class (income below 50K)\n",
    "    * Being in the higher-income bracket is more likely in the right subtree.\n",
    "    * This is precisely why the Decision Tree Classifier chose marriage as the first split.\n",
    "* After marital status, the education level and capital gains are enough to classify most of the data.\n",
    "    * Higher capital gains $\\Rightarrow$ more chances of being in the high-income class (Duh)."
   ],
   "metadata": {}
  }
 ],
 "metadata": {
  "anaconda-cloud": {},
  "celltoolbar": "Slideshow",
  "kernelspec": {
   "name": "python3",
   "display_name": "Python 3.9.6 64-bit ('mis-381n': conda)"
  },
  "language_info": {
   "codemirror_mode": {
    "name": "ipython",
    "version": 3
   },
   "file_extension": ".py",
   "mimetype": "text/x-python",
   "name": "python",
   "nbconvert_exporter": "python",
   "pygments_lexer": "ipython3",
   "version": "3.9.6"
  },
  "interpreter": {
   "hash": "06b40021540639983462c9e311a6ff423d5a2e962ab45520e073600d5efc95cc"
  }
 },
 "nbformat": 4,
 "nbformat_minor": 1
}