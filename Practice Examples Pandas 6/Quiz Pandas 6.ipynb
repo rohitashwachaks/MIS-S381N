{
 "cells": [
  {
   "cell_type": "code",
   "execution_count": 1,
   "source": [
    "from pandas import Series, DataFrame\r\n",
    "import pandas as pd\r\n",
    "%pylab inline"
   ],
   "outputs": [
    {
     "output_type": "stream",
     "name": "stdout",
     "text": [
      "Populating the interactive namespace from numpy and matplotlib\n"
     ]
    }
   ],
   "metadata": {}
  },
  {
   "cell_type": "code",
   "execution_count": 2,
   "source": [
    "df = pd.read_csv('jobs.csv')\r\n",
    "df[:5]"
   ],
   "outputs": [
    {
     "output_type": "execute_result",
     "data": {
      "text/plain": [
       "   Year Month    jobs\n",
       "0  1939   Jan   912.0\n",
       "1  1940   Jan   980.0\n",
       "2  1941   Jan  1201.0\n",
       "3  1942   Jan  1756.0\n",
       "4  1943   Jan  2956.0"
      ],
      "text/html": [
       "<div>\n",
       "<style scoped>\n",
       "    .dataframe tbody tr th:only-of-type {\n",
       "        vertical-align: middle;\n",
       "    }\n",
       "\n",
       "    .dataframe tbody tr th {\n",
       "        vertical-align: top;\n",
       "    }\n",
       "\n",
       "    .dataframe thead th {\n",
       "        text-align: right;\n",
       "    }\n",
       "</style>\n",
       "<table border=\"1\" class=\"dataframe\">\n",
       "  <thead>\n",
       "    <tr style=\"text-align: right;\">\n",
       "      <th></th>\n",
       "      <th>Year</th>\n",
       "      <th>Month</th>\n",
       "      <th>jobs</th>\n",
       "    </tr>\n",
       "  </thead>\n",
       "  <tbody>\n",
       "    <tr>\n",
       "      <th>0</th>\n",
       "      <td>1939</td>\n",
       "      <td>Jan</td>\n",
       "      <td>912.0</td>\n",
       "    </tr>\n",
       "    <tr>\n",
       "      <th>1</th>\n",
       "      <td>1940</td>\n",
       "      <td>Jan</td>\n",
       "      <td>980.0</td>\n",
       "    </tr>\n",
       "    <tr>\n",
       "      <th>2</th>\n",
       "      <td>1941</td>\n",
       "      <td>Jan</td>\n",
       "      <td>1201.0</td>\n",
       "    </tr>\n",
       "    <tr>\n",
       "      <th>3</th>\n",
       "      <td>1942</td>\n",
       "      <td>Jan</td>\n",
       "      <td>1756.0</td>\n",
       "    </tr>\n",
       "    <tr>\n",
       "      <th>4</th>\n",
       "      <td>1943</td>\n",
       "      <td>Jan</td>\n",
       "      <td>2956.0</td>\n",
       "    </tr>\n",
       "  </tbody>\n",
       "</table>\n",
       "</div>"
      ]
     },
     "metadata": {},
     "execution_count": 2
    }
   ],
   "metadata": {}
  },
  {
   "cell_type": "markdown",
   "source": [
    "### Convert this data into a time series\n",
    "\n",
    "* First, convert the Year to a string\n",
    "    * df['Year'] = df['Year'].astype(str)\n",
    "* Then, create a column called \"DateString\" of the form \"Jan 2011\" (i.e., Month followed by Year, with a space in between)\n",
    "* Convert this to the Pandas datetime format and save it in a column called \"Date\"\n",
    "    * See pd.to_datetime(df['DateString'])\n",
    "* Sort the DataFrame so that the dates are in increasing order, and then set Date as the index."
   ],
   "metadata": {}
  },
  {
   "cell_type": "code",
   "execution_count": 6,
   "source": [
    "df[\"DateString\"] = df[\"Month\"] + \" \"+df[\"Year\"].astype(str)\r\n",
    "df[\"DateString\"] = pd.to_datetime(df[\"DateString\"])\r\n",
    "df.set_index(\"DateString\", inplace = True)\r\n",
    "df.sort_index(inplace = True)\r\n",
    "df.head()"
   ],
   "outputs": [
    {
     "output_type": "execute_result",
     "data": {
      "text/plain": [
       "            Year Month   jobs\n",
       "DateString                   \n",
       "1939-01-01  1939   Jan  912.0\n",
       "1939-02-01  1939   Feb  925.0\n",
       "1939-03-01  1939   Mar  929.0\n",
       "1939-04-01  1939   Apr  933.0\n",
       "1939-05-01  1939   May  941.0"
      ],
      "text/html": [
       "<div>\n",
       "<style scoped>\n",
       "    .dataframe tbody tr th:only-of-type {\n",
       "        vertical-align: middle;\n",
       "    }\n",
       "\n",
       "    .dataframe tbody tr th {\n",
       "        vertical-align: top;\n",
       "    }\n",
       "\n",
       "    .dataframe thead th {\n",
       "        text-align: right;\n",
       "    }\n",
       "</style>\n",
       "<table border=\"1\" class=\"dataframe\">\n",
       "  <thead>\n",
       "    <tr style=\"text-align: right;\">\n",
       "      <th></th>\n",
       "      <th>Year</th>\n",
       "      <th>Month</th>\n",
       "      <th>jobs</th>\n",
       "    </tr>\n",
       "    <tr>\n",
       "      <th>DateString</th>\n",
       "      <th></th>\n",
       "      <th></th>\n",
       "      <th></th>\n",
       "    </tr>\n",
       "  </thead>\n",
       "  <tbody>\n",
       "    <tr>\n",
       "      <th>1939-01-01</th>\n",
       "      <td>1939</td>\n",
       "      <td>Jan</td>\n",
       "      <td>912.0</td>\n",
       "    </tr>\n",
       "    <tr>\n",
       "      <th>1939-02-01</th>\n",
       "      <td>1939</td>\n",
       "      <td>Feb</td>\n",
       "      <td>925.0</td>\n",
       "    </tr>\n",
       "    <tr>\n",
       "      <th>1939-03-01</th>\n",
       "      <td>1939</td>\n",
       "      <td>Mar</td>\n",
       "      <td>929.0</td>\n",
       "    </tr>\n",
       "    <tr>\n",
       "      <th>1939-04-01</th>\n",
       "      <td>1939</td>\n",
       "      <td>Apr</td>\n",
       "      <td>933.0</td>\n",
       "    </tr>\n",
       "    <tr>\n",
       "      <th>1939-05-01</th>\n",
       "      <td>1939</td>\n",
       "      <td>May</td>\n",
       "      <td>941.0</td>\n",
       "    </tr>\n",
       "  </tbody>\n",
       "</table>\n",
       "</div>"
      ]
     },
     "metadata": {},
     "execution_count": 6
    }
   ],
   "metadata": {}
  },
  {
   "cell_type": "markdown",
   "source": [
    "### Plot the jobs numbers as a time series\n",
    "\n",
    "Also plot the 1-year and 5-year moving averages.\n",
    "Label these appropriately in a legend."
   ],
   "metadata": {}
  },
  {
   "cell_type": "code",
   "execution_count": 9,
   "source": [
    "df[\"jobs\"].plot(label = \"Jobs\")\r\n",
    "\r\n",
    "# 1 year moving Average\r\n",
    "df[\"jobs\"].rolling(window=12).mean().plot(label = \"1 yr Moving Average\")\r\n",
    "\r\n",
    "\r\n",
    "# 5 year moving Average\r\n",
    "df[\"jobs\"].rolling(window=60).mean().plot(label = \"5 yr Moving Average\")\r\n",
    "\r\n",
    "legend(loc=\"best\")"
   ],
   "outputs": [
    {
     "output_type": "execute_result",
     "data": {
      "text/plain": [
       "<matplotlib.legend.Legend at 0x17bffe45250>"
      ]
     },
     "metadata": {},
     "execution_count": 9
    },
    {
     "output_type": "display_data",
     "data": {
      "text/plain": [
       "<Figure size 432x288 with 1 Axes>"
      ],
      "image/png": "[encoded data removed]"
     },
     "metadata": {
      "needs_background": "light"
     }
    }
   ],
   "metadata": {}
  },
  {
   "cell_type": "markdown",
   "source": [
    "### Deviations from moving average\n",
    "\n",
    "Find the dates where the jobs number was at least 500 more than the 1-year moving average"
   ],
   "metadata": {}
  },
  {
   "cell_type": "code",
   "execution_count": 12,
   "source": [
    "mask = (df[\"jobs\"] - df[\"jobs\"].rolling(12).mean()) >= 500\r\n",
    "df[mask]"
   ],
   "outputs": [
    {
     "output_type": "execute_result",
     "data": {
      "text/plain": [
       "            Year Month    jobs\n",
       "DateString                    \n",
       "1942-08-01  1942   Aug  2583.0\n",
       "1942-09-01  1942   Sep  2630.0\n",
       "1942-10-01  1942   Oct  2734.0\n",
       "1942-11-01  1942   Nov  2825.0\n",
       "1943-01-01  1943   Jan  2956.0\n",
       "1943-02-01  1943   Feb  3027.0\n",
       "2010-05-01  2010   May  3416.0"
      ],
      "text/html": [
       "<div>\n",
       "<style scoped>\n",
       "    .dataframe tbody tr th:only-of-type {\n",
       "        vertical-align: middle;\n",
       "    }\n",
       "\n",
       "    .dataframe tbody tr th {\n",
       "        vertical-align: top;\n",
       "    }\n",
       "\n",
       "    .dataframe thead th {\n",
       "        text-align: right;\n",
       "    }\n",
       "</style>\n",
       "<table border=\"1\" class=\"dataframe\">\n",
       "  <thead>\n",
       "    <tr style=\"text-align: right;\">\n",
       "      <th></th>\n",
       "      <th>Year</th>\n",
       "      <th>Month</th>\n",
       "      <th>jobs</th>\n",
       "    </tr>\n",
       "    <tr>\n",
       "      <th>DateString</th>\n",
       "      <th></th>\n",
       "      <th></th>\n",
       "      <th></th>\n",
       "    </tr>\n",
       "  </thead>\n",
       "  <tbody>\n",
       "    <tr>\n",
       "      <th>1942-08-01</th>\n",
       "      <td>1942</td>\n",
       "      <td>Aug</td>\n",
       "      <td>2583.0</td>\n",
       "    </tr>\n",
       "    <tr>\n",
       "      <th>1942-09-01</th>\n",
       "      <td>1942</td>\n",
       "      <td>Sep</td>\n",
       "      <td>2630.0</td>\n",
       "    </tr>\n",
       "    <tr>\n",
       "      <th>1942-10-01</th>\n",
       "      <td>1942</td>\n",
       "      <td>Oct</td>\n",
       "      <td>2734.0</td>\n",
       "    </tr>\n",
       "    <tr>\n",
       "      <th>1942-11-01</th>\n",
       "      <td>1942</td>\n",
       "      <td>Nov</td>\n",
       "      <td>2825.0</td>\n",
       "    </tr>\n",
       "    <tr>\n",
       "      <th>1943-01-01</th>\n",
       "      <td>1943</td>\n",
       "      <td>Jan</td>\n",
       "      <td>2956.0</td>\n",
       "    </tr>\n",
       "    <tr>\n",
       "      <th>1943-02-01</th>\n",
       "      <td>1943</td>\n",
       "      <td>Feb</td>\n",
       "      <td>3027.0</td>\n",
       "    </tr>\n",
       "    <tr>\n",
       "      <th>2010-05-01</th>\n",
       "      <td>2010</td>\n",
       "      <td>May</td>\n",
       "      <td>3416.0</td>\n",
       "    </tr>\n",
       "  </tbody>\n",
       "</table>\n",
       "</div>"
      ]
     },
     "metadata": {},
     "execution_count": 12
    }
   ],
   "metadata": {}
  },
  {
   "cell_type": "markdown",
   "source": [
    "### Another kind of deviation\n",
    "\n",
    "Find the dates where the jobs number was at least 500 more than the jobs number 1 year earlier **and** at least 500 more than the number 1 year later."
   ],
   "metadata": {}
  },
  {
   "cell_type": "code",
   "execution_count": 18,
   "source": [
    "mask1 = (df[\"jobs\"] - df[\"jobs\"].rolling(12).mean()) >= 500\r\n",
    "mask2 = (df[\"jobs\"] - df[\"jobs\"].shift(12).rolling(12).mean()) >= 500\r\n",
    "mask2\r\n",
    "df[mask1 & mask2]"
   ],
   "outputs": [
    {
     "output_type": "execute_result",
     "data": {
      "text/plain": [
       "            Year Month    jobs\n",
       "DateString                    \n",
       "1942-08-01  1942   Aug  2583.0\n",
       "1942-09-01  1942   Sep  2630.0\n",
       "1942-10-01  1942   Oct  2734.0\n",
       "1942-11-01  1942   Nov  2825.0\n",
       "1943-01-01  1943   Jan  2956.0\n",
       "1943-02-01  1943   Feb  3027.0\n",
       "2010-05-01  2010   May  3416.0"
      ],
      "text/html": [
       "<div>\n",
       "<style scoped>\n",
       "    .dataframe tbody tr th:only-of-type {\n",
       "        vertical-align: middle;\n",
       "    }\n",
       "\n",
       "    .dataframe tbody tr th {\n",
       "        vertical-align: top;\n",
       "    }\n",
       "\n",
       "    .dataframe thead th {\n",
       "        text-align: right;\n",
       "    }\n",
       "</style>\n",
       "<table border=\"1\" class=\"dataframe\">\n",
       "  <thead>\n",
       "    <tr style=\"text-align: right;\">\n",
       "      <th></th>\n",
       "      <th>Year</th>\n",
       "      <th>Month</th>\n",
       "      <th>jobs</th>\n",
       "    </tr>\n",
       "    <tr>\n",
       "      <th>DateString</th>\n",
       "      <th></th>\n",
       "      <th></th>\n",
       "      <th></th>\n",
       "    </tr>\n",
       "  </thead>\n",
       "  <tbody>\n",
       "    <tr>\n",
       "      <th>1942-08-01</th>\n",
       "      <td>1942</td>\n",
       "      <td>Aug</td>\n",
       "      <td>2583.0</td>\n",
       "    </tr>\n",
       "    <tr>\n",
       "      <th>1942-09-01</th>\n",
       "      <td>1942</td>\n",
       "      <td>Sep</td>\n",
       "      <td>2630.0</td>\n",
       "    </tr>\n",
       "    <tr>\n",
       "      <th>1942-10-01</th>\n",
       "      <td>1942</td>\n",
       "      <td>Oct</td>\n",
       "      <td>2734.0</td>\n",
       "    </tr>\n",
       "    <tr>\n",
       "      <th>1942-11-01</th>\n",
       "      <td>1942</td>\n",
       "      <td>Nov</td>\n",
       "      <td>2825.0</td>\n",
       "    </tr>\n",
       "    <tr>\n",
       "      <th>1943-01-01</th>\n",
       "      <td>1943</td>\n",
       "      <td>Jan</td>\n",
       "      <td>2956.0</td>\n",
       "    </tr>\n",
       "    <tr>\n",
       "      <th>1943-02-01</th>\n",
       "      <td>1943</td>\n",
       "      <td>Feb</td>\n",
       "      <td>3027.0</td>\n",
       "    </tr>\n",
       "    <tr>\n",
       "      <th>2010-05-01</th>\n",
       "      <td>2010</td>\n",
       "      <td>May</td>\n",
       "      <td>3416.0</td>\n",
       "    </tr>\n",
       "  </tbody>\n",
       "</table>\n",
       "</div>"
      ]
     },
     "metadata": {},
     "execution_count": 18
    }
   ],
   "metadata": {}
  },
  {
   "cell_type": "code",
   "execution_count": null,
   "source": [],
   "outputs": [],
   "metadata": {}
  }
 ],
 "metadata": {
  "kernelspec": {
   "name": "python3",
   "display_name": "Python 3.9.5 64-bit ('mis-s381n': conda)"
  },
  "language_info": {
   "codemirror_mode": {
    "name": "ipython",
    "version": 3
   },
   "file_extension": ".py",
   "mimetype": "text/x-python",
   "name": "python",
   "nbconvert_exporter": "python",
   "pygments_lexer": "ipython3",
   "version": "3.9.5"
  },
  "interpreter": {
   "hash": "e5b1541b0a1a84e3211cbea9f4124df9067eaf6cd09ed5b6ae3071e8db40a93f"
  }
 },
 "nbformat": 4,
 "nbformat_minor": 2
}