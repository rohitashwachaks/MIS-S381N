{
 "cells": [
  {
   "cell_type": "code",
   "execution_count": 1,
   "metadata": {},
   "outputs": [
    {
     "name": "stdout",
     "output_type": "stream",
     "text": [
      "Populating the interactive namespace from numpy and matplotlib\n"
     ]
    }
   ],
   "source": [
    "from pandas import Series, DataFrame\n",
    "import pandas as pd\n",
    "%pylab inline"
   ]
  },
  {
   "cell_type": "code",
   "execution_count": 2,
   "metadata": {},
   "outputs": [
    {
     "data": {
      "text/html": [
       "<div>\n",
       "<style scoped>\n",
       "    .dataframe tbody tr th:only-of-type {\n",
       "        vertical-align: middle;\n",
       "    }\n",
       "\n",
       "    .dataframe tbody tr th {\n",
       "        vertical-align: top;\n",
       "    }\n",
       "\n",
       "    .dataframe thead th {\n",
       "        text-align: right;\n",
       "    }\n",
       "</style>\n",
       "<table border=\"1\" class=\"dataframe\">\n",
       "  <thead>\n",
       "    <tr style=\"text-align: right;\">\n",
       "      <th></th>\n",
       "      <th>Year</th>\n",
       "      <th>Month</th>\n",
       "      <th>jobs</th>\n",
       "    </tr>\n",
       "    <tr>\n",
       "      <th>Date</th>\n",
       "      <th></th>\n",
       "      <th></th>\n",
       "      <th></th>\n",
       "    </tr>\n",
       "  </thead>\n",
       "  <tbody>\n",
       "    <tr>\n",
       "      <th>1939-01-01</th>\n",
       "      <td>1939</td>\n",
       "      <td>Jan</td>\n",
       "      <td>912.0</td>\n",
       "    </tr>\n",
       "    <tr>\n",
       "      <th>1939-02-01</th>\n",
       "      <td>1939</td>\n",
       "      <td>Feb</td>\n",
       "      <td>925.0</td>\n",
       "    </tr>\n",
       "    <tr>\n",
       "      <th>1939-03-01</th>\n",
       "      <td>1939</td>\n",
       "      <td>Mar</td>\n",
       "      <td>929.0</td>\n",
       "    </tr>\n",
       "    <tr>\n",
       "      <th>1939-04-01</th>\n",
       "      <td>1939</td>\n",
       "      <td>Apr</td>\n",
       "      <td>933.0</td>\n",
       "    </tr>\n",
       "    <tr>\n",
       "      <th>1939-05-01</th>\n",
       "      <td>1939</td>\n",
       "      <td>May</td>\n",
       "      <td>941.0</td>\n",
       "    </tr>\n",
       "  </tbody>\n",
       "</table>\n",
       "</div>"
      ],
      "text/plain": [
       "            Year Month   jobs\n",
       "Date                         \n",
       "1939-01-01  1939   Jan  912.0\n",
       "1939-02-01  1939   Feb  925.0\n",
       "1939-03-01  1939   Mar  929.0\n",
       "1939-04-01  1939   Apr  933.0\n",
       "1939-05-01  1939   May  941.0"
      ]
     },
     "execution_count": 2,
     "metadata": {},
     "output_type": "execute_result"
    }
   ],
   "source": [
    "df = pd.read_csv('jobs.csv')\n",
    "df['Date'] = pd.to_datetime(df['Month'] + ' ' + df['Year'].astype(str))\n",
    "df = df.sort_values(by='Date').set_index('Date')\n",
    "df[:5]"
   ]
  },
  {
   "cell_type": "markdown",
   "metadata": {},
   "source": [
    "### Plot the year-over-year (YoY) change in jobs\n",
    "\n",
    "The YoY change for Jan-1940 is the (jobs['Jan 1940'] - jobs['Jan 1939'])*100.0 / jobs['Jan 1939']"
   ]
  },
  {
   "cell_type": "code",
   "execution_count": null,
   "metadata": {},
   "outputs": [],
   "source": []
  },
  {
   "cell_type": "markdown",
   "metadata": {},
   "source": [
    "### Find the months where the YoY change flipped from below 10% to above 10%.\n",
    "\n",
    "If August-1940 had Yoy=9.2% and September-1940 had YoY=10.5%, we will say that September-1940 was the month where YoY flipped up (we call these the \"flip-up\" months).\n",
    "\n",
    "Similarly find the \"flip-down\" months."
   ]
  },
  {
   "cell_type": "code",
   "execution_count": null,
   "metadata": {},
   "outputs": [],
   "source": []
  },
  {
   "cell_type": "markdown",
   "metadata": {},
   "source": [
    "### Find the periods (in number of days) where YoY remained above 10%.\n",
    "\n",
    "For example, the first up-month is September-1940, and the corresponding down-month is November-1943. This corresponds to 1156 days. The second such period has 821 days, etc. Print out the number of days in each of the periods where YoY was above 10%.\n",
    "\n",
    "* Build a DataFrame of up-months and down-months, so that the up-month and down-month for each period are aligned.\n",
    "    * For example, the first row could be \"1940-09-01\" and \"1943-11-01\" (both as datetime objects)\n",
    "* Now find the number of days in the difference between these two\n",
    "    * If you just do a difference between datetime columns, it will give you the number of days."
   ]
  },
  {
   "cell_type": "code",
   "execution_count": null,
   "metadata": {},
   "outputs": [],
   "source": []
  }
 ],
 "metadata": {
  "kernelspec": {
   "display_name": "Python 2",
   "language": "python",
   "name": "python2"
  },
  "language_info": {
   "codemirror_mode": {
    "name": "ipython",
    "version": 2
   },
   "file_extension": ".py",
   "mimetype": "text/x-python",
   "name": "python",
   "nbconvert_exporter": "python",
   "pygments_lexer": "ipython2",
   "version": "2.7.15"
  }
 },
 "nbformat": 4,
 "nbformat_minor": 2
}
