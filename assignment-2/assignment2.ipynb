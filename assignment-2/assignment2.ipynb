{
 "cells": [
  {
   "cell_type": "markdown",
   "source": [
    "# Homework Assignment -2\r\n",
    "\r\n",
    "## Group Members\r\n",
    "\r\n",
    "- Conoly Cravens _(mcc4443)_\r\n",
    "- Matthew Tran _(mct2345)_\r\n",
    "- Rohitashwa Chakraborty _(rc47878)_\r\n"
   ],
   "metadata": {}
  },
  {
   "cell_type": "markdown",
   "source": [
    "# NYC Restaurants\r\n",
    "\r\n",
    "**Dataset Path:**  _\"./NYCRestaurants.csv\"_\r\n",
    "\r\n",
    "Analyze restaurant inspections in New York City, starting November1, 2014 and ending January 31, 2015\r\n"
   ],
   "metadata": {}
  },
  {
   "cell_type": "code",
   "execution_count": 1,
   "source": [
    "import pandas as pd\r\n",
    "from pandas import  Series, DataFrame\r\n",
    "# %notebook magic\r\n",
    "%pylab inline"
   ],
   "outputs": [
    {
     "output_type": "stream",
     "name": "stdout",
     "text": [
      "Populating the interactive namespace from numpy and matplotlib\n"
     ]
    }
   ],
   "metadata": {}
  },
  {
   "cell_type": "code",
   "execution_count": 2,
   "source": [
    "data = pd.read_csv(\"NYC_Restaurants.csv\", dtype=str)\r\n",
    "print(\"#rows:{rows}, #columns: {columns}\".format(rows = data.shape[0], columns = data.shape[1]))"
   ],
   "outputs": [
    {
     "output_type": "stream",
     "name": "stdout",
     "text": [
      "#rows:44633, #columns: 19\n"
     ]
    }
   ],
   "metadata": {}
  },
  {
   "cell_type": "markdown",
   "source": [
    "Drop Column _\"Unnamed: 0\"_ because it is row number and redundant"
   ],
   "metadata": {}
  },
  {
   "cell_type": "code",
   "execution_count": 3,
   "source": [
    "data.drop(columns=[\"Unnamed: 0\"], inplace=True)\r\n",
    "data.head(2)"
   ],
   "outputs": [
    {
     "output_type": "execute_result",
     "data": {
      "text/plain": [
       "      CAMIS      DBA      BORO BUILDING           STREET ZIPCODE       PHONE  \\\n",
       "0  30112340  WENDY'S  BROOKLYN      469  FLATBUSH AVENUE   11225  7182875005   \n",
       "1  30112340  WENDY'S  BROOKLYN      469  FLATBUSH AVENUE   11225  7182875005   \n",
       "\n",
       "  CUISINE DESCRIPTION INSPECTION DATE  \\\n",
       "0          Hamburgers      12/30/2014   \n",
       "1          Hamburgers      12/30/2014   \n",
       "\n",
       "                                            ACTION VIOLATION CODE  \\\n",
       "0  Violations were cited in the following area(s).            06C   \n",
       "1  Violations were cited in the following area(s).            10F   \n",
       "\n",
       "                               VIOLATION DESCRIPTION CRITICAL FLAG SCORE  \\\n",
       "0  Food not protected from potential source of co...      Critical     8   \n",
       "1  Non-food contact surface improperly constructe...  Not Critical     8   \n",
       "\n",
       "  GRADE  GRADE DATE RECORD DATE                   INSPECTION TYPE  \n",
       "0     A  12/30/2014  02/12/2015  Cycle Inspection / Re-inspection  \n",
       "1     A  12/30/2014  02/12/2015  Cycle Inspection / Re-inspection  "
      ],
      "text/html": [
       "<div>\n",
       "<style scoped>\n",
       "    .dataframe tbody tr th:only-of-type {\n",
       "        vertical-align: middle;\n",
       "    }\n",
       "\n",
       "    .dataframe tbody tr th {\n",
       "        vertical-align: top;\n",
       "    }\n",
       "\n",
       "    .dataframe thead th {\n",
       "        text-align: right;\n",
       "    }\n",
       "</style>\n",
       "<table border=\"1\" class=\"dataframe\">\n",
       "  <thead>\n",
       "    <tr style=\"text-align: right;\">\n",
       "      <th></th>\n",
       "      <th>CAMIS</th>\n",
       "      <th>DBA</th>\n",
       "      <th>BORO</th>\n",
       "      <th>BUILDING</th>\n",
       "      <th>STREET</th>\n",
       "      <th>ZIPCODE</th>\n",
       "      <th>PHONE</th>\n",
       "      <th>CUISINE DESCRIPTION</th>\n",
       "      <th>INSPECTION DATE</th>\n",
       "      <th>ACTION</th>\n",
       "      <th>VIOLATION CODE</th>\n",
       "      <th>VIOLATION DESCRIPTION</th>\n",
       "      <th>CRITICAL FLAG</th>\n",
       "      <th>SCORE</th>\n",
       "      <th>GRADE</th>\n",
       "      <th>GRADE DATE</th>\n",
       "      <th>RECORD DATE</th>\n",
       "      <th>INSPECTION TYPE</th>\n",
       "    </tr>\n",
       "  </thead>\n",
       "  <tbody>\n",
       "    <tr>\n",
       "      <th>0</th>\n",
       "      <td>30112340</td>\n",
       "      <td>WENDY'S</td>\n",
       "      <td>BROOKLYN</td>\n",
       "      <td>469</td>\n",
       "      <td>FLATBUSH AVENUE</td>\n",
       "      <td>11225</td>\n",
       "      <td>7182875005</td>\n",
       "      <td>Hamburgers</td>\n",
       "      <td>12/30/2014</td>\n",
       "      <td>Violations were cited in the following area(s).</td>\n",
       "      <td>06C</td>\n",
       "      <td>Food not protected from potential source of co...</td>\n",
       "      <td>Critical</td>\n",
       "      <td>8</td>\n",
       "      <td>A</td>\n",
       "      <td>12/30/2014</td>\n",
       "      <td>02/12/2015</td>\n",
       "      <td>Cycle Inspection / Re-inspection</td>\n",
       "    </tr>\n",
       "    <tr>\n",
       "      <th>1</th>\n",
       "      <td>30112340</td>\n",
       "      <td>WENDY'S</td>\n",
       "      <td>BROOKLYN</td>\n",
       "      <td>469</td>\n",
       "      <td>FLATBUSH AVENUE</td>\n",
       "      <td>11225</td>\n",
       "      <td>7182875005</td>\n",
       "      <td>Hamburgers</td>\n",
       "      <td>12/30/2014</td>\n",
       "      <td>Violations were cited in the following area(s).</td>\n",
       "      <td>10F</td>\n",
       "      <td>Non-food contact surface improperly constructe...</td>\n",
       "      <td>Not Critical</td>\n",
       "      <td>8</td>\n",
       "      <td>A</td>\n",
       "      <td>12/30/2014</td>\n",
       "      <td>02/12/2015</td>\n",
       "      <td>Cycle Inspection / Re-inspection</td>\n",
       "    </tr>\n",
       "  </tbody>\n",
       "</table>\n",
       "</div>"
      ]
     },
     "metadata": {},
     "execution_count": 3
    }
   ],
   "metadata": {}
  },
  {
   "cell_type": "markdown",
   "source": [
    "# [Q1, 6 points] Create a unique name for each restaurant\r\n",
    "\r\n",
    "## Problem Statement\r\n",
    "\r\n",
    "Add a new column - **RESTAURANT**, that combines _DBA, BUILDING, STREET, ZIPCODE &  BORO_  fields\r\n",
    "\r\n",
    "For  example:  _“WENDY’S 469 FLATBUSH AVENUE 11225 BROOKLYN”_\r\n",
    "\r\n",
    "Print the first 10 values of the **RESTAURANT** column\r\n",
    "\r\n",
    "## Solution\r\n"
   ],
   "metadata": {}
  },
  {
   "cell_type": "code",
   "execution_count": 4,
   "source": [
    "data[\"RESTAURANT\"] = data.apply(lambda x: \" \".join(x[[\"DBA\",\"BUILDING\",\"STREET\",\"ZIPCODE\",\"BORO\"]].apply(lambda x: x.rstrip())), axis=1)\r\n",
    "data[\"RESTAURANT\"][:10]"
   ],
   "outputs": [
    {
     "output_type": "execute_result",
     "data": {
      "text/plain": [
       "0           WENDY'S 469 FLATBUSH AVENUE 11225 BROOKLYN\n",
       "1           WENDY'S 469 FLATBUSH AVENUE 11225 BROOKLYN\n",
       "2           WENDY'S 469 FLATBUSH AVENUE 11225 BROOKLYN\n",
       "3           WENDY'S 469 FLATBUSH AVENUE 11225 BROOKLYN\n",
       "4           WENDY'S 469 FLATBUSH AVENUE 11225 BROOKLYN\n",
       "5        TOV KOSHER KITCHEN 97-22 63 ROAD 11374 QUEENS\n",
       "6        TOV KOSHER KITCHEN 97-22 63 ROAD 11374 QUEENS\n",
       "7        TOV KOSHER KITCHEN 97-22 63 ROAD 11374 QUEENS\n",
       "8        TOV KOSHER KITCHEN 97-22 63 ROAD 11374 QUEENS\n",
       "9    BRUNOS ON THE BOULEVARD 8825 ASTORIA BOULEVARD...\n",
       "Name: RESTAURANT, dtype: object"
      ]
     },
     "metadata": {},
     "execution_count": 4
    }
   ],
   "metadata": {}
  },
  {
   "cell_type": "markdown",
   "source": [
    "# [Q2, 6 points] How many restaurants are included in the data\r\n",
    "\r\n",
    "## Problem Statement\r\n",
    "\r\n",
    "Count Unique Restaurants\r\n",
    "Careful now:\r\n",
    "\r\n",
    "- A “Subway” in one particular address (i.e., building, street, zipcode and boro) counts as one restaurant; Don’t combine all Subways into one restaurant!\r\n",
    "- The data can have multiple violations for the same restaurant!\r\n",
    "\r\n",
    "## Solution:\r\n"
   ],
   "metadata": {}
  },
  {
   "cell_type": "code",
   "execution_count": 5,
   "source": [
    "df = data.drop_duplicates(\"RESTAURANT\")\r\n",
    "\r\n",
    "print(\"Number of Unique Restaurants: \", df[\"RESTAURANT\"].shape[0])"
   ],
   "outputs": [
    {
     "output_type": "stream",
     "name": "stdout",
     "text": [
      "Number of Unique Restaurants:  10114\n"
     ]
    }
   ],
   "metadata": {}
  },
  {
   "cell_type": "markdown",
   "source": [
    "# [Q3, 6 points] How many chains are there?\r\n",
    "\r\n",
    "## Problem Statement\r\n",
    "\r\n",
    "- Let us define a chain to be the same restaurant name occurring in at least two different (building, street,zipcode, boro) addresses (i.e., one DBA with multiple restaurant locations)\r\n",
    "- You’ll see multiple versions of the name _”DUNKIN DONUTS”_\r\n",
    "- Just act as if they are different chains\r\n",
    "\r\n",
    "## Solution"
   ],
   "metadata": {}
  },
  {
   "cell_type": "code",
   "execution_count": 6,
   "source": [
    "chains = DataFrame(df[\"DBA\"].value_counts())\r\n",
    "chains = chains[chains[\"DBA\"]>1]\r\n",
    "print(\"Number of Restaurant Chains in Data Base: \",len(chains))"
   ],
   "outputs": [
    {
     "output_type": "stream",
     "name": "stdout",
     "text": [
      "Number of Restaurant Chains in Data Base:  368\n"
     ]
    }
   ],
   "metadata": {}
  },
  {
   "cell_type": "markdown",
   "source": [
    "# [Q4, 6 points] Plot a bar graph of the top 20 most popular chains\r\n",
    "\r\n",
    "## Problem Statement\r\n",
    "\r\n",
    "We already have the chains from the previous problem\r\n",
    "\r\n",
    "Count the number of restaurants for each chain as a measure of its popularity\r\n",
    "\r\n",
    "## Solutions\r\n"
   ],
   "metadata": {}
  },
  {
   "cell_type": "code",
   "execution_count": 7,
   "source": [
    "chains.sort_values(by=\"DBA\", ascending= False)[:20].plot.bar()"
   ],
   "outputs": [
    {
     "output_type": "execute_result",
     "data": {
      "text/plain": [
       "<AxesSubplot:>"
      ]
     },
     "metadata": {},
     "execution_count": 7
    },
    {
     "output_type": "display_data",
     "data": {
      "text/plain": [
       "<Figure size 432x288 with 1 Axes>"
      ],
      "image/png": "[encoded data removed]"
     },
     "metadata": {
      "needs_background": "light"
     }
    }
   ],
   "metadata": {}
  },
  {
   "cell_type": "markdown",
   "source": [
    "# [Q5, 6 points] What fraction of all restaurants are chain restaurants\r\n",
    "\r\n",
    "## Problem Statement\r\n",
    "\r\n",
    "- A restaurant is one restaurant at one location\r\n",
    "- e.g: So _“Wendy’s 5th Street”_ and _“Wendy’s on 10th Street”_ are two different restaurants\r\n",
    "- Essentially a restaurant is what we defined in Q1\r\n",
    "\r\n",
    "## Solution"
   ],
   "metadata": {}
  },
  {
   "cell_type": "code",
   "execution_count": 8,
   "source": [
    "chain_restaurant = (int)(sum(chains))\r\n",
    "\r\n",
    "print(\"\"\"Number of Restaurants part of chains: {chains},\r\n",
    "Number of Restaurants: {res},\r\n",
    "Fraction of Restaurants that are chain restaurants: {frac} ({chains}/{res})\r\n",
    "\"\"\".format(chains = chain_restaurant, \r\n",
    "    res = len(df[\"RESTAURANT\"].unique()),\r\n",
    "    frac = chain_restaurant/len(df[\"RESTAURANT\"].unique())))"
   ],
   "outputs": [
    {
     "output_type": "stream",
     "name": "stdout",
     "text": [
      "Number of Restaurants part of chains: 1666,\n",
      "Number of Restaurants: 10114,\n",
      "Fraction of Restaurants that are chain restaurants: 0.16472216729286138 (1666/10114)\n",
      "\n"
     ]
    }
   ],
   "metadata": {}
  },
  {
   "cell_type": "markdown",
   "source": [
    "# [Q6, 6 points] Plot the number of non-chain restaurants in each boro\r\n",
    "\r\n",
    "## Problem Statement\r\n",
    "\r\n",
    "- First, we need to figure out all the non-chain restaurants\r\n",
    "- Then select out only those restaurants\r\n",
    "- Finally plot the number of such restaurants by boro.\r\n",
    "\r\n",
    "**_Note_**\r\n",
    "\r\n",
    "Make sure to look at the plot.  We don’t want to see the **“missing”** boro\r\n",
    "\r\n",
    "## Solution\r\n"
   ],
   "metadata": {}
  },
  {
   "cell_type": "code",
   "execution_count": 9,
   "source": [
    "non_chains = df[df.apply(lambda x: x[\"DBA\"] not in set(chains.index), axis = 1)]\r\n",
    "non_chains[\"BORO\"].value_counts()[:-1].plot.bar() # -1 to remove \"Missing\""
   ],
   "outputs": [
    {
     "output_type": "execute_result",
     "data": {
      "text/plain": [
       "<AxesSubplot:>"
      ]
     },
     "metadata": {},
     "execution_count": 9
    },
    {
     "output_type": "display_data",
     "data": {
      "text/plain": [
       "<Figure size 432x288 with 1 Axes>"
      ],
      "image/png": "[encoded data removed]"
     },
     "metadata": {
      "needs_background": "light"
     }
    }
   ],
   "metadata": {}
  },
  {
   "cell_type": "markdown",
   "source": [
    "# [Q7, 8 points] Plot the fraction of non-chain restaurants in each boro\r\n",
    "\r\n",
    "## Problem Statement\r\n",
    "\r\n",
    "- The boro with the most non-chain restaurants might just be the boro with the most restaurants in general\r\n",
    "- If we want to find the boro that attracts the most _“independent”_ restauranteurs, we must divide the number of non-chain restaurants by the total number of restaurants in the boro\r\n",
    "- Plot this: Is the boro with the most independent restaurants also the one with the highest ratio of independent restaurants\r\n",
    "\r\n",
    "## Solution\r\n",
    "\r\n",
    "**No**, The borough with the *maximum independent restaurants* is ***MANHATTEN***.\r\n",
    "\r\n",
    "However, the borough with the *highest ratio of independent restaurants* is ***BROOKLYN***.\r\n",
    "\r\n",
    "Thus, the borough with the most independent restaurants is not the one with the highest ratio of independent restaurants.\r\n"
   ],
   "metadata": {}
  },
  {
   "cell_type": "code",
   "execution_count": 10,
   "source": [
    "non_chain_frac = non_chains[\"BORO\"].value_counts()[:-1]/df[\"BORO\"].value_counts()[:-1]\r\n",
    "non_chain_frac.plot.bar()"
   ],
   "outputs": [
    {
     "output_type": "execute_result",
     "data": {
      "text/plain": [
       "<AxesSubplot:>"
      ]
     },
     "metadata": {},
     "execution_count": 10
    },
    {
     "output_type": "display_data",
     "data": {
      "text/plain": [
       "<Figure size 432x288 with 1 Axes>"
      ],
      "image/png": "[encoded data removed]"
     },
     "metadata": {
      "needs_background": "light"
     }
    }
   ],
   "metadata": {}
  },
  {
   "cell_type": "markdown",
   "source": [
    "# [Q8, 6 points] Plot the popularity of cuisines\r\n",
    "\r\n",
    "## Problem Statement\r\n",
    "\r\n",
    "- Which cuisines are the most well-represented among all restaurants?\r\n",
    "- Define the popularity of a cuisine as the number of restaurants serving that cuisine.\r\n",
    "- Plot the popularity of the top 20 cuisines\r\n",
    "\r\n",
    "## Solution\r\n"
   ],
   "metadata": {}
  },
  {
   "cell_type": "code",
   "execution_count": 11,
   "source": [
    "df[\"CUISINE DESCRIPTION\"].value_counts()[:20].plot.bar()"
   ],
   "outputs": [
    {
     "output_type": "execute_result",
     "data": {
      "text/plain": [
       "<AxesSubplot:>"
      ]
     },
     "metadata": {},
     "execution_count": 11
    },
    {
     "output_type": "display_data",
     "data": {
      "text/plain": [
       "<Figure size 432x288 with 1 Axes>"
      ],
      "image/png": "[encoded data removed]"
     },
     "metadata": {
      "needs_background": "light"
     }
    }
   ],
   "metadata": {}
  },
  {
   "cell_type": "markdown",
   "source": [
    "# [Q9, 9 points] Plot the cuisines among restaurants which never got cited for violations\r\n",
    "\r\n",
    "## Problem Statement\r\n",
    "\r\n",
    "- Ideally, you should explore and see what happens when there is no violation, but here I will just tell you:  the _’VIOLATIONCODE’_ field is missing.\r\n",
    "- First, find the restaurants that were never cited for a code violation.\r\n",
    "- Then compute the popularity of each cuisine among these “clean” restaurants.\r\n",
    "- Plot the popularity of the top-20 among these cuisines\r\n",
    "\r\n",
    "## Solution\r\n"
   ],
   "metadata": {}
  },
  {
   "cell_type": "code",
   "execution_count": 12,
   "source": [
    "# Violated is a set of all Restaurants that have had ATLEAST 1 Violation\r\n",
    "violated = set(data[data[\"VIOLATION CODE\"].notnull() == True][\"RESTAURANT\"])\r\n",
    "\r\n",
    "# Filter Restaurants from Original Dataset that have NEVER had a violation\r\n",
    "df_clean_restaurant  = data[data[\"RESTAURANT\"].apply(lambda x: x not in violated)].copy()\r\n",
    "\r\n",
    "# Filter Unique Restaurants\r\n",
    "df_clean_restaurant.drop_duplicates(\"RESTAURANT\", inplace = True)\r\n",
    "\r\n",
    "# Popularity of each cuisine\r\n",
    "df_clean_restaurant[\"CUISINE DESCRIPTION\"].value_counts()[:20].plot.bar()"
   ],
   "outputs": [
    {
     "output_type": "execute_result",
     "data": {
      "text/plain": [
       "<AxesSubplot:>"
      ]
     },
     "metadata": {},
     "execution_count": 12
    },
    {
     "output_type": "display_data",
     "data": {
      "text/plain": [
       "<Figure size 432x288 with 1 Axes>"
      ],
      "image/png": "[encoded data removed]"
     },
     "metadata": {
      "needs_background": "light"
     }
    }
   ],
   "metadata": {}
  },
  {
   "cell_type": "code",
   "execution_count": 22,
   "source": [
    "df_clean_restaurant[\"CUISINE DESCRIPTION\"].value_counts()[:20]"
   ],
   "outputs": [
    {
     "output_type": "execute_result",
     "data": {
      "text/plain": [
       "American                                                            49\n",
       "Chinese                                                             42\n",
       "Café/Coffee/Tea                                                     14\n",
       "Pizza                                                               11\n",
       "Italian                                                             10\n",
       "Latin (Cuban, Dominican, Puerto Rican, South & Central American)    10\n",
       "Spanish                                                              8\n",
       "Japanese                                                             8\n",
       "Bakery                                                               7\n",
       "Asian                                                                6\n",
       "Other                                                                6\n",
       "Donuts                                                               5\n",
       "Delicatessen                                                         5\n",
       "Thai                                                                 4\n",
       "French                                                               4\n",
       "Pizza/Italian                                                        3\n",
       "Mexican                                                              3\n",
       "Hamburgers                                                           3\n",
       "Sandwiches/Salads/Mixed Buffet                                       3\n",
       "Korean                                                               3\n",
       "Name: CUISINE DESCRIPTION, dtype: int64"
      ]
     },
     "metadata": {},
     "execution_count": 22
    }
   ],
   "metadata": {}
  },
  {
   "cell_type": "markdown",
   "source": [
    "# [Q10, 6 points] What cuisines tend to be the “cleanest”?\r\n",
    "\r\n",
    "## Problem Statement\r\n",
    "\r\n",
    "- Select all cuisines for which there were at least 20 restaurants representing that cuisine\r\n",
    "- For each such cuisine, compute the ratio of the counts in Q9 to Q8. This is the ratio of restaurants that never got cited, versus total number of restaurants, for each cuisine\r\n",
    "- Find the top-10 cuisines with the highest ratios; these are that cuisines whose restaurants are _“most likely to be clean”_\r\n",
    "\r\n",
    "## Solution\r\n"
   ],
   "metadata": {}
  },
  {
   "cell_type": "code",
   "execution_count": 13,
   "source": [
    "# Ration of Clean/Total per cuisine\r\n",
    "clean = df_clean_restaurant[\"CUISINE DESCRIPTION\"].value_counts()\r\n",
    "total = df[\"CUISINE DESCRIPTION\"].value_counts()\r\n",
    "\r\n",
    "most_clean = DataFrame([clean, total], index=[\"CLEAN\",\"TOTAL\"]).T\r\n",
    "most_clean[\"RATIO\"] = most_clean.apply(lambda x: x[\"CLEAN\"]/x[\"TOTAL\"], axis = 1)\r\n",
    "\r\n",
    "\r\n",
    "# Cuisines with more than 20 restaurants representing\r\n",
    "most_clean = most_clean[most_clean[\"TOTAL\"] >= 20]\r\n",
    "most_clean.sort_values(by=\"RATIO\", ascending= False, inplace= True)\r\n",
    "\r\n",
    "print(\"The 10 cuisines which are most likely to be clean are:\\n \",list(most_clean[:10].index))\r\n",
    "# most_clean[:10]"
   ],
   "outputs": [
    {
     "output_type": "stream",
     "name": "stdout",
     "text": [
      "The 10 cuisines which are most likely to be clean are:\n",
      "  ['Soul Food', 'Vietnamese/Cambodian/Malaysia', 'Other', 'Continental', 'Soups & Sandwiches', 'Barbecue', 'Asian', 'Chinese', 'Greek', 'Peruvian']\n"
     ]
    }
   ],
   "metadata": {}
  },
  {
   "cell_type": "markdown",
   "source": [
    "# [Q11, 8 points] What are the most common violations in each borough?\r\n",
    "\r\n",
    "## Problem Statement\r\n",
    "\r\n",
    "- Create a table of the number of times each violation description was observed in each borough, and figure out the most common violation description for each borough\r\n",
    "- To create the table, check out the _crosstab_ function\r\n",
    "- We will see a more general version of this when we discuss _groupby_ in class\r\n",
    "- Once you do have the table, you will still need to find the most common violation description for each borough.\r\n",
    "\r\n",
    "## Solution\r\n"
   ],
   "metadata": {}
  },
  {
   "cell_type": "code",
   "execution_count": 14,
   "source": [
    "table = pd.crosstab(index=data['VIOLATION CODE'], columns=data['BORO'])\r\n",
    "\r\n",
    "# Most frequent Violations per borogh\r\n",
    "freq_violation = table.apply(lambda x: x.idxmax())\r\n",
    "freq_violation.drop([\"Missing\"], inplace=True)\r\n",
    "\r\n",
    "for index in freq_violation.index:\r\n",
    "    print(\"Most frequent Violation in {boro} is {vio}\".format(boro = index, vio = freq_violation[index]))"
   ],
   "outputs": [
    {
     "output_type": "stream",
     "name": "stdout",
     "text": [
      "Most frequent Violation in BRONX is 10F\n",
      "Most frequent Violation in BROOKLYN is 10F\n",
      "Most frequent Violation in MANHATTAN is 10F\n",
      "Most frequent Violation in QUEENS is 10F\n",
      "Most frequent Violation in STATEN ISLAND is 10F\n"
     ]
    }
   ],
   "metadata": {}
  },
  {
   "cell_type": "markdown",
   "source": [
    "# [Q12, 9 points] What are the most common violations per borough,after normalizing for the relative abundance of each violation?\r\n",
    "\r\n",
    "## Problem Statement\r\n",
    "\r\n",
    "Hopefully, the answer to the previous question left you unsatisfied, because some violations are just very common, irrespective of borough. A better approach would be to normalize the violation counts, as follows:\r\n",
    "  - **Get overall frequencies:** Figure out how common each violation is, over the entire dataset; let’s call this **_violationFrequency_**\r\n",
    "  - **Normalize:** Consider the table of number of violations by boro that you created for the previous question\r\n",
    "  - For each borough, divide the number of violations of each type by the total number of violations for that type; i.e., divide the series of violations by **_violationFrequency_**. We want to do this for each borough\r\n",
    "  - **Find the biggest violations:** Now, after this normalization, for each borough, figure out the most common violation description\r\n",
    "\r\n",
    "## Solution\r\n",
    "\r\n",
    "## Question: Scenario?Why does Normalisation change output?\r\n"
   ],
   "metadata": {}
  },
  {
   "cell_type": "code",
   "execution_count": 15,
   "source": [
    "violationFrequency = data[\"VIOLATION CODE\"].value_counts()\r\n",
    "\r\n",
    "# Normalise\r\n",
    "norm_table = table.apply(lambda x: x/violationFrequency[x.name], axis = 1)\r\n",
    "\r\n",
    "# Max Violation per Borogh\r\n",
    "norm_freq_violation = norm_table.apply(lambda x: x.idxmax())\r\n",
    "norm_freq_violation.drop([\"Missing\"], inplace=True)\r\n",
    "\r\n",
    "# Output\r\n",
    "for index in norm_freq_violation.index:\r\n",
    "    print(\"Most frequent Violation in {boro} is {vio}\".format(boro = index, vio = norm_freq_violation[index]))\r\n",
    "# norm_table"
   ],
   "outputs": [
    {
     "output_type": "stream",
     "name": "stdout",
     "text": [
      "Most frequent Violation in BRONX is 04I\n",
      "Most frequent Violation in BROOKLYN is 02D\n",
      "Most frequent Violation in MANHATTAN is 03E\n",
      "Most frequent Violation in QUEENS is 03G\n",
      "Most frequent Violation in STATEN ISLAND is 03C\n"
     ]
    }
   ],
   "metadata": {}
  },
  {
   "cell_type": "markdown",
   "source": [
    "# [Q13, 8 points] How many phone area codes correspond to a single zipcode?\r\n",
    "\r\n",
    "## Problem Statement\r\n",
    "\r\n",
    "- The first three digits of the restaurant phone numbers are their area codes\r\n",
    "- The area codes do not generally align with zip codes, but some area codes are only for a single zip code\r\n",
    "- You must figure out how many areacodes have this property\r\n",
    "- To extract the first 3 characters of the phone number, recall that strings are pretty similar to lists\r\n",
    "\r\n",
    "## Solution\r\n"
   ],
   "metadata": {}
  },
  {
   "cell_type": "code",
   "execution_count": 16,
   "source": [
    "ph_zip_df = data[[\"ZIPCODE\",\"PHONE\"]].copy()\r\n",
    "\r\n",
    "# Area Code from Phone Number\r\n",
    "ph_zip_df[\"PHONE\"] = ph_zip_df[\"PHONE\"].apply(lambda x: x[:3])\r\n",
    "\r\n",
    "# Dropping duplicates\r\n",
    "ph_zip_df.drop_duplicates(inplace = True)\r\n",
    "\r\n",
    "\r\n",
    "ph2zp_mapping = ph_zip_df[\"PHONE\"].value_counts()\r\n",
    "\r\n",
    "print(\"Number of Phone Area Codes that correspond to single ZipCode are:\\n\",len(ph2zp_mapping[ph2zp_mapping == 1]))"
   ],
   "outputs": [
    {
     "output_type": "stream",
     "name": "stdout",
     "text": [
      "Number of Phone Area Codes that correspond to single ZipCode are:\n",
      " 34\n"
     ]
    }
   ],
   "metadata": {}
  },
  {
   "cell_type": "markdown",
   "source": [
    "# [Q14, 10 points] Find common misspellings of street names\r\n",
    "\r\n",
    "## Problem Statement\r\n",
    "\r\n",
    "Sometimes, it's _Avenue_, and sometimes, it's _Ave_.\r\n",
    "We will try to come up with an automated way to find common misspellings.\r\n",
    "The idea is the following:\r\n",
    "\r\n",
    "- If _Ave_ and _Avenue_ are the same, they should show up often in similar-sounding street names, e.g.,Lexington Ave and Lexington Avenue\r\n",
    "- Create a new column, called ***STREET TYPE***, which is the the last word in the name of the street\r\n",
    "For example, if the street is _“Astoria Boulevard”_, the street type should be _“Boulevard”_\r\n",
    "- Create another column, called ***STREET BASE***, which contains everything but the last word in the name of the street. For example, if the street is _“Astoria Boulevard”_, the street base should be _“Astoria”_\r\n",
    "- Create a third column, called ***STREET BASE & ZIP***, that combines the street base and the zipcode\r\n",
    "- Create a table containing just these three columns, and remove any duplicates or instances where street base is empty\r\n",
    "- This table now contains unique street names, along with the street type\r\n",
    "- Merge this table with itself, on the ***STREET BASE & ZIP*** column\r\n",
    "- Thus, in the new merged tabled, we will have two ***STREET TYPE*** fields foreach ***street base and zipcode***. For example, if both _Lexington Ave_ and _Lexington Avenue_ exist in the same zipcode, we will get a row for the street base Lexington and the two street types Ave and Avenue\r\n",
    "- From the merged table, select only the rows where the street types are different\r\n",
    "- Now, do a _cross-tabulation_ of the two distinct street types (check out the _crosstab_ function in Pandas)\r\n",
    "- This gives us the number of times _Ave_ and _Avenue_ were used with the same ***STREET BASE & ZIP***\r\n",
    "- From this _cross-tabulation_ table, find the most commonly street type that occurs with each of the following: _AVE,ST,RD,PL,BOULEARD,_ and _BULEVARD_\r\n",
    "\r\n",
    "## Solution\r\n"
   ],
   "metadata": {}
  },
  {
   "cell_type": "code",
   "execution_count": 17,
   "source": [
    "# Add Columns\r\n",
    "data[\"STREET TYPE\"] = data[\"STREET\"].apply(lambda x: x.split()[-1])\r\n",
    "data[\"STREET BASE\"] = data[\"STREET\"].apply(lambda x: \" \".join(x.split()[:-1]))\r\n",
    "data[\"STREET BASE & ZIP\"] = data.apply(lambda x: \" \".join(x[[\"STREET BASE\",\"ZIPCODE\"]]), axis = 1)"
   ],
   "outputs": [],
   "metadata": {}
  },
  {
   "cell_type": "code",
   "execution_count": 18,
   "source": [
    "# Create new DataFrame with a subset of columns\r\n",
    "street_df = data[[\"STREET TYPE\",\"STREET BASE\",\"STREET BASE & ZIP\"]].copy()\r\n",
    "\r\n",
    "street_df.drop_duplicates(inplace = True)\r\n",
    "street_df.reset_index(drop = True, inplace=True)\r\n",
    "street_df.dropna(subset=[\"STREET BASE\"], inplace = True)"
   ],
   "outputs": [],
   "metadata": {}
  },
  {
   "cell_type": "code",
   "execution_count": 19,
   "source": [
    "# Merge DataFrame with itself on \"STREET BASE & ZIP\"\r\n",
    "merged_street = street_df.merge(street_df,\r\n",
    "                left_on=\"STREET BASE & ZIP\",\r\n",
    "                right_on=\"STREET BASE & ZIP\",\r\n",
    "                suffixes=(\"_x\",\"_y\"))\r\n",
    "# print(merged_street.shape)\r\n",
    "\r\n",
    "# Filter Rows where Left and Right STREET TYPE are different\r\n",
    "merged_street = merged_street[merged_street[\"STREET TYPE_x\"] != merged_street[\"STREET TYPE_y\"]]\r\n",
    "# print(merged_street.shape)\r\n",
    "# merged_street"
   ],
   "outputs": [],
   "metadata": {}
  },
  {
   "cell_type": "code",
   "execution_count": 20,
   "source": [
    "# Cross-Tabulation\r\n",
    "crosstab_street = pd.crosstab(index=merged_street[\"STREET TYPE_x\"], columns=merged_street[\"STREET TYPE_y\"])\r\n",
    "# crosstab_street"
   ],
   "outputs": [],
   "metadata": {}
  },
  {
   "cell_type": "code",
   "execution_count": 21,
   "source": [
    " # Find Most common match for AVE,ST,RD,PL,BOULEARD and BULEVARD\r\n",
    "streetList = [\"AVE\",\"ST\",\"RD\",\"PL\",\"BOULEARD\",\"BULEVARD\"]\r\n",
    "misspellings = crosstab_street[streetList].apply(lambda x: x.idxmax())\r\n",
    "for x in misspellings.index:\r\n",
    "    print(\"Most Common Match for {x} is {y}\".format(x = x, y = misspellings[x]))"
   ],
   "outputs": [
    {
     "output_type": "stream",
     "name": "stdout",
     "text": [
      "Most Common Match for AVE is AVENUE\n",
      "Most Common Match for ST is STREET\n",
      "Most Common Match for RD is ROAD\n",
      "Most Common Match for PL is PLACE\n",
      "Most Common Match for BOULEARD is BLVD\n",
      "Most Common Match for BULEVARD is BLVD\n"
     ]
    }
   ],
   "metadata": {}
  },
  {
   "cell_type": "markdown",
   "source": [
    "# END OF ASSIGNMENT\r\n"
   ],
   "metadata": {}
  }
 ],
 "metadata": {
  "orig_nbformat": 4,
  "language_info": {
   "name": "python",
   "version": "3.9.5",
   "mimetype": "text/x-python",
   "codemirror_mode": {
    "name": "ipython",
    "version": 3
   },
   "pygments_lexer": "ipython3",
   "nbconvert_exporter": "python",
   "file_extension": ".py"
  },
  "kernelspec": {
   "name": "python3",
   "display_name": "Python 3.9.5 64-bit ('mis-s381n': conda)"
  },
  "interpreter": {
   "hash": "e5b1541b0a1a84e3211cbea9f4124df9067eaf6cd09ed5b6ae3071e8db40a93f"
  }
 },
 "nbformat": 4,
 "nbformat_minor": 2
}