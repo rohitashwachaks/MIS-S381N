{
 "cells": [
  {
   "cell_type": "markdown",
   "source": [
    "# Homework Assignment -3\r\n",
    "\r\n",
    "## Group Members\r\n",
    "\r\n",
    "- Rohitashwa Chakraborty _(rc47878)_\r\n"
   ],
   "metadata": {}
  },
  {
   "cell_type": "code",
   "execution_count": null,
   "source": [],
   "outputs": [],
   "metadata": {}
  }
 ],
 "metadata": {
  "orig_nbformat": 4,
  "language_info": {
   "name": "python"
  }
 },
 "nbformat": 4,
 "nbformat_minor": 2
}