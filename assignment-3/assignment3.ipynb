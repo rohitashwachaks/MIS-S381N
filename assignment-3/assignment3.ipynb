{
 "cells": [
  {
   "cell_type": "markdown",
   "source": [
    "# Homework Assignment -3\n",
    "\n",
    "## Group Members\n",
    "\n",
    "- Jacob Pammer _()_\n",
    "- Rohitashwa Chakraborty _(rc47878)_\n",
    "- Vishal Gupta _()_\n"
   ],
   "metadata": {}
  },
  {
   "cell_type": "code",
   "execution_count": 7,
   "source": [
    "import pandas as pd\n",
    "from pandas import Series, DataFrame\n",
    "\n",
    "%pylab inline "
   ],
   "outputs": [
    {
     "output_type": "stream",
     "name": "stdout",
     "text": [
      "Populating the interactive namespace from numpy and matplotlib\n"
     ]
    }
   ],
   "metadata": {}
  },
  {
   "source": [
    "# [Q1 10 points] Read in data\n",
    "\n",
    "## Problem Statement:\n",
    "Read in the files gold.txt and labels.txt.  The gold DataFrame should have columns url and category, while thelabelsDataFrame should havecolumnsturk,urlandcategory.  You will have to pick the right separator.\n",
    "\n",
    "## Solution:\n",
    "Reading gold.txt and labels.txt into DataFrames ```gold``` and ```labels``` respectively\n",
    "\n",
    "## Code:"
   ],
   "cell_type": "markdown",
   "metadata": {}
  },
  {
   "cell_type": "code",
   "execution_count": 8,
   "metadata": {},
   "outputs": [
    {
     "output_type": "stream",
     "name": "stdout",
     "text": [
      "Length of gold 1517\nLength of gold after dropping duplicate urls 1517\n"
     ]
    },
    {
     "output_type": "execute_result",
     "data": {
      "text/plain": [
       "                                      url category\n",
       "0               http://0800-horoscope.com        G\n",
       "1                      http://18games.net        X\n",
       "2                    http://1pixelout.net        G\n",
       "3  http://1porno.com/004/teens/index.html        X\n",
       "4   http://1stpussy.com/005/16/index.html        X"
      ],
      "text/html": "<div>\n<style scoped>\n    .dataframe tbody tr th:only-of-type {\n        vertical-align: middle;\n    }\n\n    .dataframe tbody tr th {\n        vertical-align: top;\n    }\n\n    .dataframe thead th {\n        text-align: right;\n    }\n</style>\n<table border=\"1\" class=\"dataframe\">\n  <thead>\n    <tr style=\"text-align: right;\">\n      <th></th>\n      <th>url</th>\n      <th>category</th>\n    </tr>\n  </thead>\n  <tbody>\n    <tr>\n      <th>0</th>\n      <td>http://0800-horoscope.com</td>\n      <td>G</td>\n    </tr>\n    <tr>\n      <th>1</th>\n      <td>http://18games.net</td>\n      <td>X</td>\n    </tr>\n    <tr>\n      <th>2</th>\n      <td>http://1pixelout.net</td>\n      <td>G</td>\n    </tr>\n    <tr>\n      <th>3</th>\n      <td>http://1porno.com/004/teens/index.html</td>\n      <td>X</td>\n    </tr>\n    <tr>\n      <th>4</th>\n      <td>http://1stpussy.com/005/16/index.html</td>\n      <td>X</td>\n    </tr>\n  </tbody>\n</table>\n</div>"
     },
     "metadata": {},
     "execution_count": 8
    }
   ],
   "source": [
    "gold = pd.read_csv(\"gold.txt\", sep = \"\\t\", header=None)\n",
    "gold.columns = [\"url\",\"category\"]\n",
    "print(\"Length of gold\",len(gold))\n",
    "gold.drop_duplicates(subset=\"url\",inplace=True)\n",
    "print(\"Length of gold after dropping duplicate urls\",len(gold))\n",
    "\n",
    "gold.head()"
   ]
  },
  {
   "cell_type": "code",
   "execution_count": 9,
   "metadata": {},
   "outputs": [
    {
     "output_type": "stream",
     "name": "stdout",
     "text": [
      "Length of Labels 92721\n"
     ]
    },
    {
     "output_type": "execute_result",
     "data": {
      "text/plain": [
       "             turk            url category\n",
       "0  A1OT3A29R9N1DG  http://000.cc        P\n",
       "1  A1PXXEOGQ76RNJ  http://000.cc        G\n",
       "2  A1PXXEOGQ76RNJ  http://000.cc        G\n",
       "3  A21US576U8SCO4  http://000.cc        G\n",
       "4  A2LGX47NN7C5D3  http://000.cc        G"
      ],
      "text/html": "<div>\n<style scoped>\n    .dataframe tbody tr th:only-of-type {\n        vertical-align: middle;\n    }\n\n    .dataframe tbody tr th {\n        vertical-align: top;\n    }\n\n    .dataframe thead th {\n        text-align: right;\n    }\n</style>\n<table border=\"1\" class=\"dataframe\">\n  <thead>\n    <tr style=\"text-align: right;\">\n      <th></th>\n      <th>turk</th>\n      <th>url</th>\n      <th>category</th>\n    </tr>\n  </thead>\n  <tbody>\n    <tr>\n      <th>0</th>\n      <td>A1OT3A29R9N1DG</td>\n      <td>http://000.cc</td>\n      <td>P</td>\n    </tr>\n    <tr>\n      <th>1</th>\n      <td>A1PXXEOGQ76RNJ</td>\n      <td>http://000.cc</td>\n      <td>G</td>\n    </tr>\n    <tr>\n      <th>2</th>\n      <td>A1PXXEOGQ76RNJ</td>\n      <td>http://000.cc</td>\n      <td>G</td>\n    </tr>\n    <tr>\n      <th>3</th>\n      <td>A21US576U8SCO4</td>\n      <td>http://000.cc</td>\n      <td>G</td>\n    </tr>\n    <tr>\n      <th>4</th>\n      <td>A2LGX47NN7C5D3</td>\n      <td>http://000.cc</td>\n      <td>G</td>\n    </tr>\n  </tbody>\n</table>\n</div>"
     },
     "metadata": {},
     "execution_count": 9
    }
   ],
   "source": [
    "labels = pd.read_csv(\"labels.txt\", sep = \"\\t\", header=None)\n",
    "labels.columns = [\"turk\",\"url\",\"category\"]\n",
    "print(\"Length of Labels\",len(labels))\n",
    "labels.head()"
   ]
  },
  {
   "source": [
    "# [Q2 10 points] Split into two DataFrames\n",
    "## Problem Statement\n",
    "\n",
    "Split thelabelsDataFrame into two:labelsongoldandlabelsunknown,the former containing all rows where the url is present in the gold set, andthe latter one contains all remaining rows oflabels.\n",
    "\n",
    "## Solution\n",
    "\n",
    ".\n",
    "\n",
    "## Code\n"
   ],
   "cell_type": "markdown",
   "metadata": {}
  },
  {
   "cell_type": "code",
   "execution_count": 10,
   "metadata": {},
   "outputs": [
    {
     "output_type": "stream",
     "name": "stdout",
     "text": [
      "Length of Labels on Gold 3324\n"
     ]
    },
    {
     "output_type": "execute_result",
     "data": {
      "text/plain": [
       "               turk                        url category\n",
       "245  A1253FXHCZ9CWM  http://0800-horoscope.com        G\n",
       "246  A153PKAL7OAY36  http://0800-horoscope.com        G\n",
       "247  A1FV9SAPL5C6KY  http://0800-horoscope.com        G\n",
       "248  A1JTOT0DWM6QGL  http://0800-horoscope.com        G\n",
       "249  A1PXXEOGQ76RNJ  http://0800-horoscope.com        G"
      ],
      "text/html": "<div>\n<style scoped>\n    .dataframe tbody tr th:only-of-type {\n        vertical-align: middle;\n    }\n\n    .dataframe tbody tr th {\n        vertical-align: top;\n    }\n\n    .dataframe thead th {\n        text-align: right;\n    }\n</style>\n<table border=\"1\" class=\"dataframe\">\n  <thead>\n    <tr style=\"text-align: right;\">\n      <th></th>\n      <th>turk</th>\n      <th>url</th>\n      <th>category</th>\n    </tr>\n  </thead>\n  <tbody>\n    <tr>\n      <th>245</th>\n      <td>A1253FXHCZ9CWM</td>\n      <td>http://0800-horoscope.com</td>\n      <td>G</td>\n    </tr>\n    <tr>\n      <th>246</th>\n      <td>A153PKAL7OAY36</td>\n      <td>http://0800-horoscope.com</td>\n      <td>G</td>\n    </tr>\n    <tr>\n      <th>247</th>\n      <td>A1FV9SAPL5C6KY</td>\n      <td>http://0800-horoscope.com</td>\n      <td>G</td>\n    </tr>\n    <tr>\n      <th>248</th>\n      <td>A1JTOT0DWM6QGL</td>\n      <td>http://0800-horoscope.com</td>\n      <td>G</td>\n    </tr>\n    <tr>\n      <th>249</th>\n      <td>A1PXXEOGQ76RNJ</td>\n      <td>http://0800-horoscope.com</td>\n      <td>G</td>\n    </tr>\n  </tbody>\n</table>\n</div>"
     },
     "metadata": {},
     "execution_count": 10
    }
   ],
   "source": [
    "gold_dict = set(gold[\"url\"])\n",
    "labels_on_gold = labels[labels.apply(lambda row: row[\"url\"] in gold_dict, axis = 1)]\n",
    "print(\"Length of Labels on Gold\",len(labels_on_gold))\n",
    "labels_on_gold.head()"
   ]
  },
  {
   "cell_type": "code",
   "execution_count": 11,
   "metadata": {},
   "outputs": [
    {
     "output_type": "stream",
     "name": "stdout",
     "text": [
      "Length of Labels Unknown 89397\n"
     ]
    },
    {
     "output_type": "execute_result",
     "data": {
      "text/plain": [
       "             turk            url category\n",
       "0  A1OT3A29R9N1DG  http://000.cc        P\n",
       "1  A1PXXEOGQ76RNJ  http://000.cc        G\n",
       "2  A1PXXEOGQ76RNJ  http://000.cc        G\n",
       "3  A21US576U8SCO4  http://000.cc        G\n",
       "4  A2LGX47NN7C5D3  http://000.cc        G"
      ],
      "text/html": "<div>\n<style scoped>\n    .dataframe tbody tr th:only-of-type {\n        vertical-align: middle;\n    }\n\n    .dataframe tbody tr th {\n        vertical-align: top;\n    }\n\n    .dataframe thead th {\n        text-align: right;\n    }\n</style>\n<table border=\"1\" class=\"dataframe\">\n  <thead>\n    <tr style=\"text-align: right;\">\n      <th></th>\n      <th>turk</th>\n      <th>url</th>\n      <th>category</th>\n    </tr>\n  </thead>\n  <tbody>\n    <tr>\n      <th>0</th>\n      <td>A1OT3A29R9N1DG</td>\n      <td>http://000.cc</td>\n      <td>P</td>\n    </tr>\n    <tr>\n      <th>1</th>\n      <td>A1PXXEOGQ76RNJ</td>\n      <td>http://000.cc</td>\n      <td>G</td>\n    </tr>\n    <tr>\n      <th>2</th>\n      <td>A1PXXEOGQ76RNJ</td>\n      <td>http://000.cc</td>\n      <td>G</td>\n    </tr>\n    <tr>\n      <th>3</th>\n      <td>A21US576U8SCO4</td>\n      <td>http://000.cc</td>\n      <td>G</td>\n    </tr>\n    <tr>\n      <th>4</th>\n      <td>A2LGX47NN7C5D3</td>\n      <td>http://000.cc</td>\n      <td>G</td>\n    </tr>\n  </tbody>\n</table>\n</div>"
     },
     "metadata": {},
     "execution_count": 11
    }
   ],
   "source": [
    "labels_unknown = labels[labels.apply(lambda row: row[\"url\"] not in gold_dict, axis = 1)]\n",
    "print(\"Length of Labels Unknown\",len(labels_unknown))\n",
    "labels_unknown.head()"
   ]
  },
  {
   "source": [
    "# [Q3 10 points] Compute accuracies of turks\n",
    "\n",
    "## Problem Statement\n",
    "\n",
    "Create aratergoodnessDataFrame that is indexed by turk, and has twocolumns:  the number of ratings, and the average correctness of ratings foreach turk (both on gold set urls).\n",
    "\n",
    "## Solution\n",
    "\n",
    ".\n",
    "\n",
    "## Code\n"
   ],
   "cell_type": "markdown",
   "metadata": {}
  },
  {
   "cell_type": "code",
   "execution_count": 12,
   "metadata": {},
   "outputs": [
    {
     "output_type": "execute_result",
     "data": {
      "text/plain": [
       "                turk                        url category_labels category_gold\n",
       "0     A1253FXHCZ9CWM  http://0800-horoscope.com               G             G\n",
       "1     A153PKAL7OAY36  http://0800-horoscope.com               G             G\n",
       "2     A1FV9SAPL5C6KY  http://0800-horoscope.com               G             G\n",
       "3     A1JTOT0DWM6QGL  http://0800-horoscope.com               G             G\n",
       "4     A1PXXEOGQ76RNJ  http://0800-horoscope.com               G             G\n",
       "...              ...                        ...             ...           ...\n",
       "3319  A35CBDDGBM7T6E       http://yousendit.com               G             G\n",
       "3320  A3J86MK3VIE6ST       http://yousendit.com               G             G\n",
       "3321   A4GP97LAQCCHJ       http://yousendit.com               G             G\n",
       "3322   AAQNUEUU7H1Y5       http://yousendit.com               G             G\n",
       "3323   ANC9EWZTGN5HK       http://yousendit.com               G             G\n",
       "\n",
       "[3324 rows x 4 columns]"
      ],
      "text/html": "<div>\n<style scoped>\n    .dataframe tbody tr th:only-of-type {\n        vertical-align: middle;\n    }\n\n    .dataframe tbody tr th {\n        vertical-align: top;\n    }\n\n    .dataframe thead th {\n        text-align: right;\n    }\n</style>\n<table border=\"1\" class=\"dataframe\">\n  <thead>\n    <tr style=\"text-align: right;\">\n      <th></th>\n      <th>turk</th>\n      <th>url</th>\n      <th>category_labels</th>\n      <th>category_gold</th>\n    </tr>\n  </thead>\n  <tbody>\n    <tr>\n      <th>0</th>\n      <td>A1253FXHCZ9CWM</td>\n      <td>http://0800-horoscope.com</td>\n      <td>G</td>\n      <td>G</td>\n    </tr>\n    <tr>\n      <th>1</th>\n      <td>A153PKAL7OAY36</td>\n      <td>http://0800-horoscope.com</td>\n      <td>G</td>\n      <td>G</td>\n    </tr>\n    <tr>\n      <th>2</th>\n      <td>A1FV9SAPL5C6KY</td>\n      <td>http://0800-horoscope.com</td>\n      <td>G</td>\n      <td>G</td>\n    </tr>\n    <tr>\n      <th>3</th>\n      <td>A1JTOT0DWM6QGL</td>\n      <td>http://0800-horoscope.com</td>\n      <td>G</td>\n      <td>G</td>\n    </tr>\n    <tr>\n      <th>4</th>\n      <td>A1PXXEOGQ76RNJ</td>\n      <td>http://0800-horoscope.com</td>\n      <td>G</td>\n      <td>G</td>\n    </tr>\n    <tr>\n      <th>...</th>\n      <td>...</td>\n      <td>...</td>\n      <td>...</td>\n      <td>...</td>\n    </tr>\n    <tr>\n      <th>3319</th>\n      <td>A35CBDDGBM7T6E</td>\n      <td>http://yousendit.com</td>\n      <td>G</td>\n      <td>G</td>\n    </tr>\n    <tr>\n      <th>3320</th>\n      <td>A3J86MK3VIE6ST</td>\n      <td>http://yousendit.com</td>\n      <td>G</td>\n      <td>G</td>\n    </tr>\n    <tr>\n      <th>3321</th>\n      <td>A4GP97LAQCCHJ</td>\n      <td>http://yousendit.com</td>\n      <td>G</td>\n      <td>G</td>\n    </tr>\n    <tr>\n      <th>3322</th>\n      <td>AAQNUEUU7H1Y5</td>\n      <td>http://yousendit.com</td>\n      <td>G</td>\n      <td>G</td>\n    </tr>\n    <tr>\n      <th>3323</th>\n      <td>ANC9EWZTGN5HK</td>\n      <td>http://yousendit.com</td>\n      <td>G</td>\n      <td>G</td>\n    </tr>\n  </tbody>\n</table>\n<p>3324 rows × 4 columns</p>\n</div>"
     },
     "metadata": {},
     "execution_count": 12
    }
   ],
   "source": [
    "df = pd.merge(left = labels_on_gold, right = gold, on = \"url\", suffixes = (\"_labels\",\"_gold\"))\n",
    "df"
   ]
  },
  {
   "cell_type": "code",
   "execution_count": 13,
   "metadata": {},
   "outputs": [
    {
     "output_type": "stream",
     "name": "stdout",
     "text": [
      "Dimensions of rater_goodness:  (269, 2)\n"
     ]
    },
    {
     "output_type": "execute_result",
     "data": {
      "text/plain": [
       "               Number of Ratings Average Correctness of Ratings\n",
       "A2QQBCDN6GQOKC               NaN                            NaN\n",
       "A3220HG1O83HQ4               NaN                            NaN\n",
       "A3QMK5XZX02CGN               NaN                            NaN\n",
       "A3J86MK3VIE6ST               NaN                            NaN\n",
       "A13OE9GBRJ0S2U               NaN                            NaN"
      ],
      "text/html": "<div>\n<style scoped>\n    .dataframe tbody tr th:only-of-type {\n        vertical-align: middle;\n    }\n\n    .dataframe tbody tr th {\n        vertical-align: top;\n    }\n\n    .dataframe thead th {\n        text-align: right;\n    }\n</style>\n<table border=\"1\" class=\"dataframe\">\n  <thead>\n    <tr style=\"text-align: right;\">\n      <th></th>\n      <th>Number of Ratings</th>\n      <th>Average Correctness of Ratings</th>\n    </tr>\n  </thead>\n  <tbody>\n    <tr>\n      <th>A2QQBCDN6GQOKC</th>\n      <td>NaN</td>\n      <td>NaN</td>\n    </tr>\n    <tr>\n      <th>A3220HG1O83HQ4</th>\n      <td>NaN</td>\n      <td>NaN</td>\n    </tr>\n    <tr>\n      <th>A3QMK5XZX02CGN</th>\n      <td>NaN</td>\n      <td>NaN</td>\n    </tr>\n    <tr>\n      <th>A3J86MK3VIE6ST</th>\n      <td>NaN</td>\n      <td>NaN</td>\n    </tr>\n    <tr>\n      <th>A13OE9GBRJ0S2U</th>\n      <td>NaN</td>\n      <td>NaN</td>\n    </tr>\n  </tbody>\n</table>\n</div>"
     },
     "metadata": {},
     "execution_count": 13
    }
   ],
   "source": [
    "rater_goodness = DataFrame([], index = set(df[\"turk\"]),\n",
    "                            columns = [\"Number of Ratings\",\n",
    "                            \"Average Correctness of Ratings\"])\n",
    "print(\"Dimensions of rater_goodness: \",rater_goodness.shape)\n",
    "rater_goodness.head()"
   ]
  },
  {
   "cell_type": "code",
   "execution_count": 18,
   "metadata": {},
   "outputs": [
    {
     "output_type": "execute_result",
     "data": {
      "text/plain": [
       "                Number of Ratings  Average Correctness of Ratings\n",
       "turk                                                             \n",
       "A112DVP1KG4QZU                  1                        1.000000\n",
       "A1253FXHCZ9CWM                 29                        0.517241\n",
       "A12CY1Q7XKJJDE                  1                        1.000000\n",
       "A12RE8G66WTO8B                 20                        0.750000\n",
       "A12Y1GTGIQDGRA                  3                        0.333333\n",
       "...                           ...                             ...\n",
       "AYWOBMTEGFVVI                   1                        0.000000\n",
       "AZ1S5BIG5R6P6                  35                        0.714286\n",
       "AZSDW7JJL5VA7                 100                        0.680000\n",
       "AZVB3RZW0OR1H                   3                        0.666667\n",
       "amurray                        15                        0.933333\n",
       "\n",
       "[269 rows x 2 columns]"
      ],
      "text/html": "<div>\n<style scoped>\n    .dataframe tbody tr th:only-of-type {\n        vertical-align: middle;\n    }\n\n    .dataframe tbody tr th {\n        vertical-align: top;\n    }\n\n    .dataframe thead th {\n        text-align: right;\n    }\n</style>\n<table border=\"1\" class=\"dataframe\">\n  <thead>\n    <tr style=\"text-align: right;\">\n      <th></th>\n      <th>Number of Ratings</th>\n      <th>Average Correctness of Ratings</th>\n    </tr>\n    <tr>\n      <th>turk</th>\n      <th></th>\n      <th></th>\n    </tr>\n  </thead>\n  <tbody>\n    <tr>\n      <th>A112DVP1KG4QZU</th>\n      <td>1</td>\n      <td>1.000000</td>\n    </tr>\n    <tr>\n      <th>A1253FXHCZ9CWM</th>\n      <td>29</td>\n      <td>0.517241</td>\n    </tr>\n    <tr>\n      <th>A12CY1Q7XKJJDE</th>\n      <td>1</td>\n      <td>1.000000</td>\n    </tr>\n    <tr>\n      <th>A12RE8G66WTO8B</th>\n      <td>20</td>\n      <td>0.750000</td>\n    </tr>\n    <tr>\n      <th>A12Y1GTGIQDGRA</th>\n      <td>3</td>\n      <td>0.333333</td>\n    </tr>\n    <tr>\n      <th>...</th>\n      <td>...</td>\n      <td>...</td>\n    </tr>\n    <tr>\n      <th>AYWOBMTEGFVVI</th>\n      <td>1</td>\n      <td>0.000000</td>\n    </tr>\n    <tr>\n      <th>AZ1S5BIG5R6P6</th>\n      <td>35</td>\n      <td>0.714286</td>\n    </tr>\n    <tr>\n      <th>AZSDW7JJL5VA7</th>\n      <td>100</td>\n      <td>0.680000</td>\n    </tr>\n    <tr>\n      <th>AZVB3RZW0OR1H</th>\n      <td>3</td>\n      <td>0.666667</td>\n    </tr>\n    <tr>\n      <th>amurray</th>\n      <td>15</td>\n      <td>0.933333</td>\n    </tr>\n  </tbody>\n</table>\n<p>269 rows × 2 columns</p>\n</div>"
     },
     "metadata": {},
     "execution_count": 18
    }
   ],
   "source": [
    "# creating merged dataframe with category marked by turk and known category\n",
    "labels_merged = labels_on_gold.merge(gold, on='url', suffixes=('_turk', '_actual'))\n",
    "labels_merged['correct_label'] = (labels_merged['category_turk'] == labels_merged['category_actual']).astype(int)\n",
    "\n",
    " \n",
    "\n",
    "# creating groupby df to get total labels checked by each turk and average correctness\n",
    "rater_goodness = labels_merged.groupby('turk')['correct_label'].agg(['count', 'mean'])\n",
    "rater_goodness.columns = [\"Number of Ratings\",\"Average Correctness of Ratings\"]\n",
    "rater_goodness"
   ]
  },
  {
   "cell_type": "code",
   "execution_count": 19,
   "metadata": {},
   "outputs": [],
   "source": [
    "# df_grouped = df.groupby(\"turk\")\n",
    "# for item in df_grouped.groups:\n",
    "#     temp = df_grouped.get_group(item)\n",
    "#     rater_goodness[\"Number of Ratings\"][item] = temp.shape[0]\n",
    "#     rater_goodness[\"Average Correctness of Ratings\"][item] = sum(temp.apply(lambda x: x[\"category_labels\"] == x[\"category_gold\"], axis = 1))/temp.shape[0]\n",
    "# rater_goodness"
   ]
  },
  {
   "source": [
    "# [Q4 10 points] Odds ratios\n",
    "\n",
    "## Problem Statement\n",
    "\n",
    "If someone is correctpfraction of the time, theoddsof success are defined as: $odds =p/(1.001−p)$ .Attach a column calledoddsto theratergoodnessDataFrame, using theaverage correctness of the turk as his or herp.\n",
    "\n",
    "## Solution\n",
    "\n",
    ".\n",
    "\n",
    "## Code\n"
   ],
   "cell_type": "markdown",
   "metadata": {}
  },
  {
   "cell_type": "code",
   "execution_count": 20,
   "metadata": {},
   "outputs": [
    {
     "output_type": "execute_result",
     "data": {
      "text/plain": [
       "                Number of Ratings  Average Correctness of Ratings         Odds\n",
       "turk                                                                          \n",
       "A112DVP1KG4QZU                  1                        1.000000  1000.000000\n",
       "A1253FXHCZ9CWM                 29                        0.517241     1.069214\n",
       "A12CY1Q7XKJJDE                  1                        1.000000  1000.000000\n",
       "A12RE8G66WTO8B                 20                        0.750000     2.988048\n",
       "A12Y1GTGIQDGRA                  3                        0.333333     0.499251\n",
       "...                           ...                             ...          ...\n",
       "AYWOBMTEGFVVI                   1                        0.000000     0.000000\n",
       "AZ1S5BIG5R6P6                  35                        0.714286     2.491281\n",
       "AZSDW7JJL5VA7                 100                        0.680000     2.118380\n",
       "AZVB3RZW0OR1H                   3                        0.666667     1.994018\n",
       "amurray                        15                        0.933333    13.793103\n",
       "\n",
       "[269 rows x 3 columns]"
      ],
      "text/html": "<div>\n<style scoped>\n    .dataframe tbody tr th:only-of-type {\n        vertical-align: middle;\n    }\n\n    .dataframe tbody tr th {\n        vertical-align: top;\n    }\n\n    .dataframe thead th {\n        text-align: right;\n    }\n</style>\n<table border=\"1\" class=\"dataframe\">\n  <thead>\n    <tr style=\"text-align: right;\">\n      <th></th>\n      <th>Number of Ratings</th>\n      <th>Average Correctness of Ratings</th>\n      <th>Odds</th>\n    </tr>\n    <tr>\n      <th>turk</th>\n      <th></th>\n      <th></th>\n      <th></th>\n    </tr>\n  </thead>\n  <tbody>\n    <tr>\n      <th>A112DVP1KG4QZU</th>\n      <td>1</td>\n      <td>1.000000</td>\n      <td>1000.000000</td>\n    </tr>\n    <tr>\n      <th>A1253FXHCZ9CWM</th>\n      <td>29</td>\n      <td>0.517241</td>\n      <td>1.069214</td>\n    </tr>\n    <tr>\n      <th>A12CY1Q7XKJJDE</th>\n      <td>1</td>\n      <td>1.000000</td>\n      <td>1000.000000</td>\n    </tr>\n    <tr>\n      <th>A12RE8G66WTO8B</th>\n      <td>20</td>\n      <td>0.750000</td>\n      <td>2.988048</td>\n    </tr>\n    <tr>\n      <th>A12Y1GTGIQDGRA</th>\n      <td>3</td>\n      <td>0.333333</td>\n      <td>0.499251</td>\n    </tr>\n    <tr>\n      <th>...</th>\n      <td>...</td>\n      <td>...</td>\n      <td>...</td>\n    </tr>\n    <tr>\n      <th>AYWOBMTEGFVVI</th>\n      <td>1</td>\n      <td>0.000000</td>\n      <td>0.000000</td>\n    </tr>\n    <tr>\n      <th>AZ1S5BIG5R6P6</th>\n      <td>35</td>\n      <td>0.714286</td>\n      <td>2.491281</td>\n    </tr>\n    <tr>\n      <th>AZSDW7JJL5VA7</th>\n      <td>100</td>\n      <td>0.680000</td>\n      <td>2.118380</td>\n    </tr>\n    <tr>\n      <th>AZVB3RZW0OR1H</th>\n      <td>3</td>\n      <td>0.666667</td>\n      <td>1.994018</td>\n    </tr>\n    <tr>\n      <th>amurray</th>\n      <td>15</td>\n      <td>0.933333</td>\n      <td>13.793103</td>\n    </tr>\n  </tbody>\n</table>\n<p>269 rows × 3 columns</p>\n</div>"
     },
     "metadata": {},
     "execution_count": 20
    }
   ],
   "source": [
    "rater_goodness[\"Odds\"] = rater_goodness[\"Average Correctness of Ratings\"].apply(lambda p: (p/(1.001-p)))\n",
    "rater_goodness"
   ]
  },
  {
   "source": [
    "# Q5"
   ],
   "cell_type": "markdown",
   "metadata": {}
  },
  {
   "cell_type": "code",
   "execution_count": 21,
   "metadata": {},
   "outputs": [
    {
     "output_type": "stream",
     "name": "stdout",
     "text": [
      "The top 20 most accurate Turks are:\nA2U0R4X38GUKZE,\nA22C0PJUBFJTI0,\nA23YQUBXZPKILZ,\nATVALOQVDCMZW,\nA1HIXWH4OXT8S4,\nA3220HG1O83HQ4,\nA32W20KGQXS0LL,\nA20PWAB7G3HDHU,\nAJSJVK40F5HM6,\nA31OCN4MNHUQ6W,\nA3MA9V9UPGCOK7,\nA3IP9KYNZZ028B,\nA3477QYMFXUC4I,\nA1JTOT0DWM6QGL,\nAVWJPWUEE3U4Q,\nA25CRC4AZY5KC1,\nA12RE8G66WTO8B,\nA35GER5TWMH9VP,\nAPYV9Y0DFZFVP,\nA153PKAL7OAY36\n"
     ]
    }
   ],
   "source": [
    "print(\"The top 20 most accurate Turks are:\\n{0}\".format(\",\\n\".join(rater_goodness[rater_goodness[\"Number of Ratings\"] >= 20].sort_values(by=\"Average Correctness of Ratings\", ascending = False).index[:20])))"
   ]
  },
  {
   "source": [
    "# Q6"
   ],
   "cell_type": "markdown",
   "metadata": {}
  },
  {
   "cell_type": "code",
   "execution_count": 23,
   "metadata": {},
   "outputs": [
    {
     "output_type": "execute_result",
     "data": {
      "text/plain": [
       "Text(0.5, 1.0, 'Counts v/s Accuracy')"
      ]
     },
     "metadata": {},
     "execution_count": 23
    },
    {
     "output_type": "display_data",
     "data": {
      "text/plain": "<Figure size 432x288 with 1 Axes>",
      "image/svg+xml": "<?xml version=\"1.0\" encoding=\"utf-8\" standalone=\"no\"?>\n<!DOCTYPE svg PUBLIC \"-//W3C//DTD SVG 1.1//EN\"\n  \"http://www.w3.org/Graphics/SVG/1.1/DTD/svg11.dtd\">\n<svg height=\"277.314375pt\" version=\"1.1\" viewBox=\"0 0 385.78125 277.314375\" width=\"385.78125pt\" xmlns=\"http://www.w3.org/2000/svg\" xmlns:xlink=\"http://www.w3.org/1999/xlink\">\n <metadata>\n  <rdf:RDF xmlns:cc=\"http://creativecommons.org/ns#\" xmlns:dc=\"http://purl.org/dc/elements/1.1/\" xmlns:rdf=\"http://www.w3.org/1999/02/22-rdf-syntax-ns#\">\n   <cc:Work>\n    <dc:type rdf:resource=\"http://purl.org/dc/dcmitype/StillImage\"/>\n    <dc:date>2021-08-03T12:40:09.388182</dc:date>\n    <dc:format>image/svg+xml</dc:format>\n    <dc:creator>\n     <cc:Agent>\n      <dc:title>Matplotlib v3.4.2, https://matplotlib.org/</dc:title>\n     </cc:Agent>\n    </dc:creator>\n   </cc:Work>\n  </rdf:RDF>\n </metadata>\n <defs>\n  <style type=\"text/css\">*{stroke-linecap:butt;stroke-linejoin:round;}</style>\n </defs>\n <g id=\"figure_1\">\n  <g id=\"patch_1\">\n   <path d=\"M 0 277.314375 \nL 385.78125 277.314375 \nL 385.78125 0 \nL 0 0 \nz\n\" style=\"fill:none;\"/>\n  </g>\n  <g id=\"axes_1\">\n   <g id=\"patch_2\">\n    <path d=\"M 43.78125 239.758125 \nL 378.58125 239.758125 \nL 378.58125 22.318125 \nL 43.78125 22.318125 \nz\n\" style=\"fill:#ffffff;\"/>\n   </g>\n   <g id=\"PathCollection_1\">\n    <defs>\n     <path d=\"M 0 3 \nC 0.795609 3 1.55874 2.683901 2.12132 2.12132 \nC 2.683901 1.55874 3 0.795609 3 0 \nC 3 -0.795609 2.683901 -1.55874 2.12132 -2.12132 \nC 1.55874 -2.683901 0.795609 -3 0 -3 \nC -0.795609 -3 -1.55874 -2.683901 -2.12132 -2.12132 \nC -2.683901 -1.55874 -3 -0.795609 -3 0 \nC -3 0.795609 -2.683901 1.55874 -2.12132 2.12132 \nC -1.55874 2.683901 -0.795609 3 0 3 \nz\n\" id=\"m21074579f4\" style=\"stroke:#1f77b4;\"/>\n    </defs>\n    <g clip-path=\"url(#p8164dd643b)\">\n     <use style=\"fill:#1f77b4;stroke:#1f77b4;\" x=\"58.999432\" xlink:href=\"#m21074579f4\" y=\"32.201761\"/>\n     <use style=\"fill:#1f77b4;stroke:#1f77b4;\" x=\"105.568731\" xlink:href=\"#m21074579f4\" y=\"127.629975\"/>\n     <use style=\"fill:#1f77b4;stroke:#1f77b4;\" x=\"58.999432\" xlink:href=\"#m21074579f4\" y=\"32.201761\"/>\n     <use style=\"fill:#1f77b4;stroke:#1f77b4;\" x=\"90.600028\" xlink:href=\"#m21074579f4\" y=\"81.619943\"/>\n     <use style=\"fill:#1f77b4;stroke:#1f77b4;\" x=\"62.32581\" xlink:href=\"#m21074579f4\" y=\"163.98358\"/>\n     <use style=\"fill:#1f77b4;stroke:#1f77b4;\" x=\"58.999432\" xlink:href=\"#m21074579f4\" y=\"32.201761\"/>\n     <use style=\"fill:#1f77b4;stroke:#1f77b4;\" x=\"63.989\" xlink:href=\"#m21074579f4\" y=\"81.619943\"/>\n     <use style=\"fill:#1f77b4;stroke:#1f77b4;\" x=\"58.999432\" xlink:href=\"#m21074579f4\" y=\"32.201761\"/>\n     <use style=\"fill:#1f77b4;stroke:#1f77b4;\" x=\"303.488254\" xlink:href=\"#m21074579f4\" y=\"86.962449\"/>\n     <use style=\"fill:#1f77b4;stroke:#1f77b4;\" x=\"58.999432\" xlink:href=\"#m21074579f4\" y=\"32.201761\"/>\n     <use style=\"fill:#1f77b4;stroke:#1f77b4;\" x=\"58.999432\" xlink:href=\"#m21074579f4\" y=\"32.201761\"/>\n     <use style=\"fill:#1f77b4;stroke:#1f77b4;\" x=\"60.662621\" xlink:href=\"#m21074579f4\" y=\"131.038125\"/>\n     <use style=\"fill:#1f77b4;stroke:#1f77b4;\" x=\"70.641757\" xlink:href=\"#m21074579f4\" y=\"56.910852\"/>\n     <use style=\"fill:#1f77b4;stroke:#1f77b4;\" x=\"78.957703\" xlink:href=\"#m21074579f4\" y=\"123.435328\"/>\n     <use style=\"fill:#1f77b4;stroke:#1f77b4;\" x=\"58.999432\" xlink:href=\"#m21074579f4\" y=\"32.201761\"/>\n     <use style=\"fill:#1f77b4;stroke:#1f77b4;\" x=\"63.989\" xlink:href=\"#m21074579f4\" y=\"180.456307\"/>\n     <use style=\"fill:#1f77b4;stroke:#1f77b4;\" x=\"60.662621\" xlink:href=\"#m21074579f4\" y=\"131.038125\"/>\n     <use style=\"fill:#1f77b4;stroke:#1f77b4;\" x=\"58.999432\" xlink:href=\"#m21074579f4\" y=\"229.874489\"/>\n     <use style=\"fill:#1f77b4;stroke:#1f77b4;\" x=\"58.999432\" xlink:href=\"#m21074579f4\" y=\"229.874489\"/>\n     <use style=\"fill:#1f77b4;stroke:#1f77b4;\" x=\"58.999432\" xlink:href=\"#m21074579f4\" y=\"32.201761\"/>\n     <use style=\"fill:#1f77b4;stroke:#1f77b4;\" x=\"58.999432\" xlink:href=\"#m21074579f4\" y=\"229.874489\"/>\n     <use style=\"fill:#1f77b4;stroke:#1f77b4;\" x=\"58.999432\" xlink:href=\"#m21074579f4\" y=\"229.874489\"/>\n     <use style=\"fill:#1f77b4;stroke:#1f77b4;\" x=\"93.926406\" xlink:href=\"#m21074579f4\" y=\"113.067877\"/>\n     <use style=\"fill:#1f77b4;stroke:#1f77b4;\" x=\"58.999432\" xlink:href=\"#m21074579f4\" y=\"229.874489\"/>\n     <use style=\"fill:#1f77b4;stroke:#1f77b4;\" x=\"58.999432\" xlink:href=\"#m21074579f4\" y=\"32.201761\"/>\n     <use style=\"fill:#1f77b4;stroke:#1f77b4;\" x=\"62.32581\" xlink:href=\"#m21074579f4\" y=\"98.09267\"/>\n     <use style=\"fill:#1f77b4;stroke:#1f77b4;\" x=\"123.863813\" xlink:href=\"#m21074579f4\" y=\"66.794489\"/>\n     <use style=\"fill:#1f77b4;stroke:#1f77b4;\" x=\"58.999432\" xlink:href=\"#m21074579f4\" y=\"32.201761\"/>\n     <use style=\"fill:#1f77b4;stroke:#1f77b4;\" x=\"77.294514\" xlink:href=\"#m21074579f4\" y=\"65.147216\"/>\n     <use style=\"fill:#1f77b4;stroke:#1f77b4;\" x=\"58.999432\" xlink:href=\"#m21074579f4\" y=\"32.201761\"/>\n     <use style=\"fill:#1f77b4;stroke:#1f77b4;\" x=\"58.999432\" xlink:href=\"#m21074579f4\" y=\"229.874489\"/>\n     <use style=\"fill:#1f77b4;stroke:#1f77b4;\" x=\"58.999432\" xlink:href=\"#m21074579f4\" y=\"229.874489\"/>\n     <use style=\"fill:#1f77b4;stroke:#1f77b4;\" x=\"105.568731\" xlink:href=\"#m21074579f4\" y=\"79.915868\"/>\n     <use style=\"fill:#1f77b4;stroke:#1f77b4;\" x=\"62.32581\" xlink:href=\"#m21074579f4\" y=\"98.09267\"/>\n     <use style=\"fill:#1f77b4;stroke:#1f77b4;\" x=\"60.662621\" xlink:href=\"#m21074579f4\" y=\"131.038125\"/>\n     <use style=\"fill:#1f77b4;stroke:#1f77b4;\" x=\"62.32581\" xlink:href=\"#m21074579f4\" y=\"98.09267\"/>\n     <use style=\"fill:#1f77b4;stroke:#1f77b4;\" x=\"58.999432\" xlink:href=\"#m21074579f4\" y=\"32.201761\"/>\n     <use style=\"fill:#1f77b4;stroke:#1f77b4;\" x=\"72.304946\" xlink:href=\"#m21074579f4\" y=\"76.129034\"/>\n     <use style=\"fill:#1f77b4;stroke:#1f77b4;\" x=\"58.999432\" xlink:href=\"#m21074579f4\" y=\"32.201761\"/>\n     <use style=\"fill:#1f77b4;stroke:#1f77b4;\" x=\"70.641757\" xlink:href=\"#m21074579f4\" y=\"131.038125\"/>\n     <use style=\"fill:#1f77b4;stroke:#1f77b4;\" x=\"58.999432\" xlink:href=\"#m21074579f4\" y=\"32.201761\"/>\n     <use style=\"fill:#1f77b4;stroke:#1f77b4;\" x=\"68.978567\" xlink:href=\"#m21074579f4\" y=\"173.396567\"/>\n     <use style=\"fill:#1f77b4;stroke:#1f77b4;\" x=\"125.527003\" xlink:href=\"#m21074579f4\" y=\"128.627482\"/>\n     <use style=\"fill:#1f77b4;stroke:#1f77b4;\" x=\"58.999432\" xlink:href=\"#m21074579f4\" y=\"229.874489\"/>\n     <use style=\"fill:#1f77b4;stroke:#1f77b4;\" x=\"60.662621\" xlink:href=\"#m21074579f4\" y=\"131.038125\"/>\n     <use style=\"fill:#1f77b4;stroke:#1f77b4;\" x=\"60.662621\" xlink:href=\"#m21074579f4\" y=\"131.038125\"/>\n     <use style=\"fill:#1f77b4;stroke:#1f77b4;\" x=\"60.662621\" xlink:href=\"#m21074579f4\" y=\"32.201761\"/>\n     <use style=\"fill:#1f77b4;stroke:#1f77b4;\" x=\"80.620892\" xlink:href=\"#m21074579f4\" y=\"88.679683\"/>\n     <use style=\"fill:#1f77b4;stroke:#1f77b4;\" x=\"62.32581\" xlink:href=\"#m21074579f4\" y=\"98.09267\"/>\n     <use style=\"fill:#1f77b4;stroke:#1f77b4;\" x=\"58.999432\" xlink:href=\"#m21074579f4\" y=\"229.874489\"/>\n     <use style=\"fill:#1f77b4;stroke:#1f77b4;\" x=\"70.641757\" xlink:href=\"#m21074579f4\" y=\"32.201761\"/>\n     <use style=\"fill:#1f77b4;stroke:#1f77b4;\" x=\"60.662621\" xlink:href=\"#m21074579f4\" y=\"32.201761\"/>\n     <use style=\"fill:#1f77b4;stroke:#1f77b4;\" x=\"88.936839\" xlink:href=\"#m21074579f4\" y=\"73.817072\"/>\n     <use style=\"fill:#1f77b4;stroke:#1f77b4;\" x=\"58.999432\" xlink:href=\"#m21074579f4\" y=\"32.201761\"/>\n     <use style=\"fill:#1f77b4;stroke:#1f77b4;\" x=\"58.999432\" xlink:href=\"#m21074579f4\" y=\"229.874489\"/>\n     <use style=\"fill:#1f77b4;stroke:#1f77b4;\" x=\"63.989\" xlink:href=\"#m21074579f4\" y=\"32.201761\"/>\n     <use style=\"fill:#1f77b4;stroke:#1f77b4;\" x=\"58.999432\" xlink:href=\"#m21074579f4\" y=\"32.201761\"/>\n     <use style=\"fill:#1f77b4;stroke:#1f77b4;\" x=\"90.600028\" xlink:href=\"#m21074579f4\" y=\"71.736307\"/>\n     <use style=\"fill:#1f77b4;stroke:#1f77b4;\" x=\"160.453977\" xlink:href=\"#m21074579f4\" y=\"92.778887\"/>\n     <use style=\"fill:#1f77b4;stroke:#1f77b4;\" x=\"118.874246\" xlink:href=\"#m21074579f4\" y=\"106.996847\"/>\n     <use style=\"fill:#1f77b4;stroke:#1f77b4;\" x=\"138.832517\" xlink:href=\"#m21074579f4\" y=\"116.918644\"/>\n     <use style=\"fill:#1f77b4;stroke:#1f77b4;\" x=\"117.211056\" xlink:href=\"#m21074579f4\" y=\"48.674489\"/>\n     <use style=\"fill:#1f77b4;stroke:#1f77b4;\" x=\"67.315378\" xlink:href=\"#m21074579f4\" y=\"65.147216\"/>\n     <use style=\"fill:#1f77b4;stroke:#1f77b4;\" x=\"58.999432\" xlink:href=\"#m21074579f4\" y=\"229.874489\"/>\n     <use style=\"fill:#1f77b4;stroke:#1f77b4;\" x=\"58.999432\" xlink:href=\"#m21074579f4\" y=\"229.874489\"/>\n     <use style=\"fill:#1f77b4;stroke:#1f77b4;\" x=\"97.252785\" xlink:href=\"#m21074579f4\" y=\"56.910852\"/>\n     <use style=\"fill:#1f77b4;stroke:#1f77b4;\" x=\"58.999432\" xlink:href=\"#m21074579f4\" y=\"32.201761\"/>\n     <use style=\"fill:#1f77b4;stroke:#1f77b4;\" x=\"58.999432\" xlink:href=\"#m21074579f4\" y=\"32.201761\"/>\n     <use style=\"fill:#1f77b4;stroke:#1f77b4;\" x=\"137.169327\" xlink:href=\"#m21074579f4\" y=\"81.619943\"/>\n     <use style=\"fill:#1f77b4;stroke:#1f77b4;\" x=\"93.926406\" xlink:href=\"#m21074579f4\" y=\"140.023249\"/>\n     <use style=\"fill:#1f77b4;stroke:#1f77b4;\" x=\"60.662621\" xlink:href=\"#m21074579f4\" y=\"131.038125\"/>\n     <use style=\"fill:#1f77b4;stroke:#1f77b4;\" x=\"98.915974\" xlink:href=\"#m21074579f4\" y=\"87.550125\"/>\n     <use style=\"fill:#1f77b4;stroke:#1f77b4;\" x=\"58.999432\" xlink:href=\"#m21074579f4\" y=\"32.201761\"/>\n     <use style=\"fill:#1f77b4;stroke:#1f77b4;\" x=\"158.790788\" xlink:href=\"#m21074579f4\" y=\"90.531419\"/>\n     <use style=\"fill:#1f77b4;stroke:#1f77b4;\" x=\"58.999432\" xlink:href=\"#m21074579f4\" y=\"229.874489\"/>\n     <use style=\"fill:#1f77b4;stroke:#1f77b4;\" x=\"62.32581\" xlink:href=\"#m21074579f4\" y=\"32.201761\"/>\n     <use style=\"fill:#1f77b4;stroke:#1f77b4;\" x=\"92.263217\" xlink:href=\"#m21074579f4\" y=\"107.505657\"/>\n     <use style=\"fill:#1f77b4;stroke:#1f77b4;\" x=\"142.158895\" xlink:href=\"#m21074579f4\" y=\"90.340799\"/>\n     <use style=\"fill:#1f77b4;stroke:#1f77b4;\" x=\"92.263217\" xlink:href=\"#m21074579f4\" y=\"88.679683\"/>\n     <use style=\"fill:#1f77b4;stroke:#1f77b4;\" x=\"58.999432\" xlink:href=\"#m21074579f4\" y=\"32.201761\"/>\n     <use style=\"fill:#1f77b4;stroke:#1f77b4;\" x=\"58.999432\" xlink:href=\"#m21074579f4\" y=\"32.201761\"/>\n     <use style=\"fill:#1f77b4;stroke:#1f77b4;\" x=\"266.898091\" xlink:href=\"#m21074579f4\" y=\"126.331631\"/>\n     <use style=\"fill:#1f77b4;stroke:#1f77b4;\" x=\"68.978567\" xlink:href=\"#m21074579f4\" y=\"88.679683\"/>\n     <use style=\"fill:#1f77b4;stroke:#1f77b4;\" x=\"60.662621\" xlink:href=\"#m21074579f4\" y=\"131.038125\"/>\n     <use style=\"fill:#1f77b4;stroke:#1f77b4;\" x=\"68.978567\" xlink:href=\"#m21074579f4\" y=\"32.201761\"/>\n     <use style=\"fill:#1f77b4;stroke:#1f77b4;\" x=\"173.759491\" xlink:href=\"#m21074579f4\" y=\"97.151372\"/>\n     <use style=\"fill:#1f77b4;stroke:#1f77b4;\" x=\"58.999432\" xlink:href=\"#m21074579f4\" y=\"32.201761\"/>\n     <use style=\"fill:#1f77b4;stroke:#1f77b4;\" x=\"58.999432\" xlink:href=\"#m21074579f4\" y=\"32.201761\"/>\n     <use style=\"fill:#1f77b4;stroke:#1f77b4;\" x=\"58.999432\" xlink:href=\"#m21074579f4\" y=\"229.874489\"/>\n     <use style=\"fill:#1f77b4;stroke:#1f77b4;\" x=\"58.999432\" xlink:href=\"#m21074579f4\" y=\"229.874489\"/>\n     <use style=\"fill:#1f77b4;stroke:#1f77b4;\" x=\"58.999432\" xlink:href=\"#m21074579f4\" y=\"32.201761\"/>\n     <use style=\"fill:#1f77b4;stroke:#1f77b4;\" x=\"137.169327\" xlink:href=\"#m21074579f4\" y=\"93.974489\"/>\n     <use style=\"fill:#1f77b4;stroke:#1f77b4;\" x=\"60.662621\" xlink:href=\"#m21074579f4\" y=\"32.201761\"/>\n     <use style=\"fill:#1f77b4;stroke:#1f77b4;\" x=\"58.999432\" xlink:href=\"#m21074579f4\" y=\"32.201761\"/>\n     <use style=\"fill:#1f77b4;stroke:#1f77b4;\" x=\"67.315378\" xlink:href=\"#m21074579f4\" y=\"196.929034\"/>\n     <use style=\"fill:#1f77b4;stroke:#1f77b4;\" x=\"58.999432\" xlink:href=\"#m21074579f4\" y=\"32.201761\"/>\n     <use style=\"fill:#1f77b4;stroke:#1f77b4;\" x=\"168.769924\" xlink:href=\"#m21074579f4\" y=\"91.208546\"/>\n     <use style=\"fill:#1f77b4;stroke:#1f77b4;\" x=\"190.391384\" xlink:href=\"#m21074579f4\" y=\"93.974489\"/>\n     <use style=\"fill:#1f77b4;stroke:#1f77b4;\" x=\"62.32581\" xlink:href=\"#m21074579f4\" y=\"98.09267\"/>\n     <use style=\"fill:#1f77b4;stroke:#1f77b4;\" x=\"60.662621\" xlink:href=\"#m21074579f4\" y=\"229.874489\"/>\n     <use style=\"fill:#1f77b4;stroke:#1f77b4;\" x=\"65.652189\" xlink:href=\"#m21074579f4\" y=\"71.736307\"/>\n     <use style=\"fill:#1f77b4;stroke:#1f77b4;\" x=\"62.32581\" xlink:href=\"#m21074579f4\" y=\"32.201761\"/>\n     <use style=\"fill:#1f77b4;stroke:#1f77b4;\" x=\"58.999432\" xlink:href=\"#m21074579f4\" y=\"32.201761\"/>\n     <use style=\"fill:#1f77b4;stroke:#1f77b4;\" x=\"63.989\" xlink:href=\"#m21074579f4\" y=\"81.619943\"/>\n     <use style=\"fill:#1f77b4;stroke:#1f77b4;\" x=\"65.652189\" xlink:href=\"#m21074579f4\" y=\"150.805398\"/>\n     <use style=\"fill:#1f77b4;stroke:#1f77b4;\" x=\"62.32581\" xlink:href=\"#m21074579f4\" y=\"163.98358\"/>\n     <use style=\"fill:#1f77b4;stroke:#1f77b4;\" x=\"60.662621\" xlink:href=\"#m21074579f4\" y=\"32.201761\"/>\n     <use style=\"fill:#1f77b4;stroke:#1f77b4;\" x=\"68.978567\" xlink:href=\"#m21074579f4\" y=\"60.440722\"/>\n     <use style=\"fill:#1f77b4;stroke:#1f77b4;\" x=\"58.999432\" xlink:href=\"#m21074579f4\" y=\"32.201761\"/>\n     <use style=\"fill:#1f77b4;stroke:#1f77b4;\" x=\"60.662621\" xlink:href=\"#m21074579f4\" y=\"131.038125\"/>\n     <use style=\"fill:#1f77b4;stroke:#1f77b4;\" x=\"60.662621\" xlink:href=\"#m21074579f4\" y=\"131.038125\"/>\n     <use style=\"fill:#1f77b4;stroke:#1f77b4;\" x=\"65.652189\" xlink:href=\"#m21074579f4\" y=\"32.201761\"/>\n     <use style=\"fill:#1f77b4;stroke:#1f77b4;\" x=\"58.999432\" xlink:href=\"#m21074579f4\" y=\"229.874489\"/>\n     <use style=\"fill:#1f77b4;stroke:#1f77b4;\" x=\"132.17976\" xlink:href=\"#m21074579f4\" y=\"102.485398\"/>\n     <use style=\"fill:#1f77b4;stroke:#1f77b4;\" x=\"73.968135\" xlink:href=\"#m21074579f4\" y=\"91.50358\"/>\n     <use style=\"fill:#1f77b4;stroke:#1f77b4;\" x=\"62.32581\" xlink:href=\"#m21074579f4\" y=\"98.09267\"/>\n     <use style=\"fill:#1f77b4;stroke:#1f77b4;\" x=\"58.999432\" xlink:href=\"#m21074579f4\" y=\"32.201761\"/>\n     <use style=\"fill:#1f77b4;stroke:#1f77b4;\" x=\"73.968135\" xlink:href=\"#m21074579f4\" y=\"71.736307\"/>\n     <use style=\"fill:#1f77b4;stroke:#1f77b4;\" x=\"58.999432\" xlink:href=\"#m21074579f4\" y=\"229.874489\"/>\n     <use style=\"fill:#1f77b4;stroke:#1f77b4;\" x=\"63.989\" xlink:href=\"#m21074579f4\" y=\"81.619943\"/>\n     <use style=\"fill:#1f77b4;stroke:#1f77b4;\" x=\"72.304946\" xlink:href=\"#m21074579f4\" y=\"98.09267\"/>\n     <use style=\"fill:#1f77b4;stroke:#1f77b4;\" x=\"70.641757\" xlink:href=\"#m21074579f4\" y=\"106.329034\"/>\n     <use style=\"fill:#1f77b4;stroke:#1f77b4;\" x=\"90.600028\" xlink:href=\"#m21074579f4\" y=\"42.085398\"/>\n     <use style=\"fill:#1f77b4;stroke:#1f77b4;\" x=\"62.32581\" xlink:href=\"#m21074579f4\" y=\"98.09267\"/>\n     <use style=\"fill:#1f77b4;stroke:#1f77b4;\" x=\"155.464409\" xlink:href=\"#m21074579f4\" y=\"156.166014\"/>\n     <use style=\"fill:#1f77b4;stroke:#1f77b4;\" x=\"58.999432\" xlink:href=\"#m21074579f4\" y=\"229.874489\"/>\n     <use style=\"fill:#1f77b4;stroke:#1f77b4;\" x=\"65.652189\" xlink:href=\"#m21074579f4\" y=\"71.736307\"/>\n     <use style=\"fill:#1f77b4;stroke:#1f77b4;\" x=\"58.999432\" xlink:href=\"#m21074579f4\" y=\"32.201761\"/>\n     <use style=\"fill:#1f77b4;stroke:#1f77b4;\" x=\"62.32581\" xlink:href=\"#m21074579f4\" y=\"98.09267\"/>\n     <use style=\"fill:#1f77b4;stroke:#1f77b4;\" x=\"62.32581\" xlink:href=\"#m21074579f4\" y=\"98.09267\"/>\n     <use style=\"fill:#1f77b4;stroke:#1f77b4;\" x=\"70.641757\" xlink:href=\"#m21074579f4\" y=\"106.329034\"/>\n     <use style=\"fill:#1f77b4;stroke:#1f77b4;\" x=\"72.304946\" xlink:href=\"#m21074579f4\" y=\"142.019943\"/>\n     <use style=\"fill:#1f77b4;stroke:#1f77b4;\" x=\"363.363068\" xlink:href=\"#m21074579f4\" y=\"76.248402\"/>\n     <use style=\"fill:#1f77b4;stroke:#1f77b4;\" x=\"93.926406\" xlink:href=\"#m21074579f4\" y=\"68.142257\"/>\n     <use style=\"fill:#1f77b4;stroke:#1f77b4;\" x=\"58.999432\" xlink:href=\"#m21074579f4\" y=\"32.201761\"/>\n     <use style=\"fill:#1f77b4;stroke:#1f77b4;\" x=\"67.315378\" xlink:href=\"#m21074579f4\" y=\"65.147216\"/>\n     <use style=\"fill:#1f77b4;stroke:#1f77b4;\" x=\"98.915974\" xlink:href=\"#m21074579f4\" y=\"71.736307\"/>\n     <use style=\"fill:#1f77b4;stroke:#1f77b4;\" x=\"58.999432\" xlink:href=\"#m21074579f4\" y=\"32.201761\"/>\n     <use style=\"fill:#1f77b4;stroke:#1f77b4;\" x=\"58.999432\" xlink:href=\"#m21074579f4\" y=\"32.201761\"/>\n     <use style=\"fill:#1f77b4;stroke:#1f77b4;\" x=\"98.915974\" xlink:href=\"#m21074579f4\" y=\"79.643216\"/>\n     <use style=\"fill:#1f77b4;stroke:#1f77b4;\" x=\"63.989\" xlink:href=\"#m21074579f4\" y=\"131.038125\"/>\n     <use style=\"fill:#1f77b4;stroke:#1f77b4;\" x=\"58.999432\" xlink:href=\"#m21074579f4\" y=\"32.201761\"/>\n     <use style=\"fill:#1f77b4;stroke:#1f77b4;\" x=\"163.780356\" xlink:href=\"#m21074579f4\" y=\"81.619943\"/>\n     <use style=\"fill:#1f77b4;stroke:#1f77b4;\" x=\"75.631325\" xlink:href=\"#m21074579f4\" y=\"104.082753\"/>\n     <use style=\"fill:#1f77b4;stroke:#1f77b4;\" x=\"63.989\" xlink:href=\"#m21074579f4\" y=\"32.201761\"/>\n     <use style=\"fill:#1f77b4;stroke:#1f77b4;\" x=\"58.999432\" xlink:href=\"#m21074579f4\" y=\"229.874489\"/>\n     <use style=\"fill:#1f77b4;stroke:#1f77b4;\" x=\"58.999432\" xlink:href=\"#m21074579f4\" y=\"32.201761\"/>\n     <use style=\"fill:#1f77b4;stroke:#1f77b4;\" x=\"68.978567\" xlink:href=\"#m21074579f4\" y=\"88.679683\"/>\n     <use style=\"fill:#1f77b4;stroke:#1f77b4;\" x=\"83.947271\" xlink:href=\"#m21074579f4\" y=\"44.556307\"/>\n     <use style=\"fill:#1f77b4;stroke:#1f77b4;\" x=\"60.662621\" xlink:href=\"#m21074579f4\" y=\"32.201761\"/>\n     <use style=\"fill:#1f77b4;stroke:#1f77b4;\" x=\"58.999432\" xlink:href=\"#m21074579f4\" y=\"32.201761\"/>\n     <use style=\"fill:#1f77b4;stroke:#1f77b4;\" x=\"58.999432\" xlink:href=\"#m21074579f4\" y=\"32.201761\"/>\n     <use style=\"fill:#1f77b4;stroke:#1f77b4;\" x=\"60.662621\" xlink:href=\"#m21074579f4\" y=\"32.201761\"/>\n     <use style=\"fill:#1f77b4;stroke:#1f77b4;\" x=\"58.999432\" xlink:href=\"#m21074579f4\" y=\"229.874489\"/>\n     <use style=\"fill:#1f77b4;stroke:#1f77b4;\" x=\"62.32581\" xlink:href=\"#m21074579f4\" y=\"32.201761\"/>\n     <use style=\"fill:#1f77b4;stroke:#1f77b4;\" x=\"60.662621\" xlink:href=\"#m21074579f4\" y=\"32.201761\"/>\n     <use style=\"fill:#1f77b4;stroke:#1f77b4;\" x=\"58.999432\" xlink:href=\"#m21074579f4\" y=\"229.874489\"/>\n     <use style=\"fill:#1f77b4;stroke:#1f77b4;\" x=\"73.968135\" xlink:href=\"#m21074579f4\" y=\"51.969034\"/>\n     <use style=\"fill:#1f77b4;stroke:#1f77b4;\" x=\"58.999432\" xlink:href=\"#m21074579f4\" y=\"229.874489\"/>\n     <use style=\"fill:#1f77b4;stroke:#1f77b4;\" x=\"108.89511\" xlink:href=\"#m21074579f4\" y=\"95.967157\"/>\n     <use style=\"fill:#1f77b4;stroke:#1f77b4;\" x=\"58.999432\" xlink:href=\"#m21074579f4\" y=\"32.201761\"/>\n     <use style=\"fill:#1f77b4;stroke:#1f77b4;\" x=\"113.884678\" xlink:href=\"#m21074579f4\" y=\"90.340799\"/>\n     <use style=\"fill:#1f77b4;stroke:#1f77b4;\" x=\"67.315378\" xlink:href=\"#m21074579f4\" y=\"32.201761\"/>\n     <use style=\"fill:#1f77b4;stroke:#1f77b4;\" x=\"58.999432\" xlink:href=\"#m21074579f4\" y=\"229.874489\"/>\n     <use style=\"fill:#1f77b4;stroke:#1f77b4;\" x=\"198.70733\" xlink:href=\"#m21074579f4\" y=\"99.643045\"/>\n     <use style=\"fill:#1f77b4;stroke:#1f77b4;\" x=\"58.999432\" xlink:href=\"#m21074579f4\" y=\"32.201761\"/>\n     <use style=\"fill:#1f77b4;stroke:#1f77b4;\" x=\"60.662621\" xlink:href=\"#m21074579f4\" y=\"32.201761\"/>\n     <use style=\"fill:#1f77b4;stroke:#1f77b4;\" x=\"58.999432\" xlink:href=\"#m21074579f4\" y=\"229.874489\"/>\n     <use style=\"fill:#1f77b4;stroke:#1f77b4;\" x=\"58.999432\" xlink:href=\"#m21074579f4\" y=\"32.201761\"/>\n     <use style=\"fill:#1f77b4;stroke:#1f77b4;\" x=\"93.926406\" xlink:href=\"#m21074579f4\" y=\"77.127381\"/>\n     <use style=\"fill:#1f77b4;stroke:#1f77b4;\" x=\"70.641757\" xlink:href=\"#m21074579f4\" y=\"106.329034\"/>\n     <use style=\"fill:#1f77b4;stroke:#1f77b4;\" x=\"62.32581\" xlink:href=\"#m21074579f4\" y=\"98.09267\"/>\n     <use style=\"fill:#1f77b4;stroke:#1f77b4;\" x=\"190.391384\" xlink:href=\"#m21074579f4\" y=\"96.445398\"/>\n     <use style=\"fill:#1f77b4;stroke:#1f77b4;\" x=\"58.999432\" xlink:href=\"#m21074579f4\" y=\"229.874489\"/>\n     <use style=\"fill:#1f77b4;stroke:#1f77b4;\" x=\"60.662621\" xlink:href=\"#m21074579f4\" y=\"131.038125\"/>\n     <use style=\"fill:#1f77b4;stroke:#1f77b4;\" x=\"175.422681\" xlink:href=\"#m21074579f4\" y=\"76.747728\"/>\n     <use style=\"fill:#1f77b4;stroke:#1f77b4;\" x=\"138.832517\" xlink:href=\"#m21074579f4\" y=\"209.703802\"/>\n     <use style=\"fill:#1f77b4;stroke:#1f77b4;\" x=\"90.600028\" xlink:href=\"#m21074579f4\" y=\"101.387216\"/>\n     <use style=\"fill:#1f77b4;stroke:#1f77b4;\" x=\"137.169327\" xlink:href=\"#m21074579f4\" y=\"126.919943\"/>\n     <use style=\"fill:#1f77b4;stroke:#1f77b4;\" x=\"58.999432\" xlink:href=\"#m21074579f4\" y=\"32.201761\"/>\n     <use style=\"fill:#1f77b4;stroke:#1f77b4;\" x=\"92.263217\" xlink:href=\"#m21074579f4\" y=\"98.09267\"/>\n     <use style=\"fill:#1f77b4;stroke:#1f77b4;\" x=\"58.999432\" xlink:href=\"#m21074579f4\" y=\"32.201761\"/>\n     <use style=\"fill:#1f77b4;stroke:#1f77b4;\" x=\"65.652189\" xlink:href=\"#m21074579f4\" y=\"32.201761\"/>\n     <use style=\"fill:#1f77b4;stroke:#1f77b4;\" x=\"60.662621\" xlink:href=\"#m21074579f4\" y=\"131.038125\"/>\n     <use style=\"fill:#1f77b4;stroke:#1f77b4;\" x=\"58.999432\" xlink:href=\"#m21074579f4\" y=\"32.201761\"/>\n     <use style=\"fill:#1f77b4;stroke:#1f77b4;\" x=\"63.989\" xlink:href=\"#m21074579f4\" y=\"32.201761\"/>\n     <use style=\"fill:#1f77b4;stroke:#1f77b4;\" x=\"60.662621\" xlink:href=\"#m21074579f4\" y=\"131.038125\"/>\n     <use style=\"fill:#1f77b4;stroke:#1f77b4;\" x=\"60.662621\" xlink:href=\"#m21074579f4\" y=\"32.201761\"/>\n     <use style=\"fill:#1f77b4;stroke:#1f77b4;\" x=\"58.999432\" xlink:href=\"#m21074579f4\" y=\"229.874489\"/>\n     <use style=\"fill:#1f77b4;stroke:#1f77b4;\" x=\"58.999432\" xlink:href=\"#m21074579f4\" y=\"32.201761\"/>\n     <use style=\"fill:#1f77b4;stroke:#1f77b4;\" x=\"60.662621\" xlink:href=\"#m21074579f4\" y=\"229.874489\"/>\n     <use style=\"fill:#1f77b4;stroke:#1f77b4;\" x=\"58.999432\" xlink:href=\"#m21074579f4\" y=\"229.874489\"/>\n     <use style=\"fill:#1f77b4;stroke:#1f77b4;\" x=\"58.999432\" xlink:href=\"#m21074579f4\" y=\"32.201761\"/>\n     <use style=\"fill:#1f77b4;stroke:#1f77b4;\" x=\"58.999432\" xlink:href=\"#m21074579f4\" y=\"32.201761\"/>\n     <use style=\"fill:#1f77b4;stroke:#1f77b4;\" x=\"58.999432\" xlink:href=\"#m21074579f4\" y=\"229.874489\"/>\n     <use style=\"fill:#1f77b4;stroke:#1f77b4;\" x=\"58.999432\" xlink:href=\"#m21074579f4\" y=\"229.874489\"/>\n     <use style=\"fill:#1f77b4;stroke:#1f77b4;\" x=\"58.999432\" xlink:href=\"#m21074579f4\" y=\"32.201761\"/>\n     <use style=\"fill:#1f77b4;stroke:#1f77b4;\" x=\"63.989\" xlink:href=\"#m21074579f4\" y=\"81.619943\"/>\n     <use style=\"fill:#1f77b4;stroke:#1f77b4;\" x=\"63.989\" xlink:href=\"#m21074579f4\" y=\"131.038125\"/>\n     <use style=\"fill:#1f77b4;stroke:#1f77b4;\" x=\"63.989\" xlink:href=\"#m21074579f4\" y=\"32.201761\"/>\n     <use style=\"fill:#1f77b4;stroke:#1f77b4;\" x=\"90.600028\" xlink:href=\"#m21074579f4\" y=\"101.387216\"/>\n     <use style=\"fill:#1f77b4;stroke:#1f77b4;\" x=\"77.294514\" xlink:href=\"#m21074579f4\" y=\"114.565398\"/>\n     <use style=\"fill:#1f77b4;stroke:#1f77b4;\" x=\"65.652189\" xlink:href=\"#m21074579f4\" y=\"71.736307\"/>\n     <use style=\"fill:#1f77b4;stroke:#1f77b4;\" x=\"87.273649\" xlink:href=\"#m21074579f4\" y=\"142.019943\"/>\n     <use style=\"fill:#1f77b4;stroke:#1f77b4;\" x=\"58.999432\" xlink:href=\"#m21074579f4\" y=\"32.201761\"/>\n     <use style=\"fill:#1f77b4;stroke:#1f77b4;\" x=\"58.999432\" xlink:href=\"#m21074579f4\" y=\"32.201761\"/>\n     <use style=\"fill:#1f77b4;stroke:#1f77b4;\" x=\"63.989\" xlink:href=\"#m21074579f4\" y=\"81.619943\"/>\n     <use style=\"fill:#1f77b4;stroke:#1f77b4;\" x=\"78.957703\" xlink:href=\"#m21074579f4\" y=\"93.024139\"/>\n     <use style=\"fill:#1f77b4;stroke:#1f77b4;\" x=\"60.662621\" xlink:href=\"#m21074579f4\" y=\"131.038125\"/>\n     <use style=\"fill:#1f77b4;stroke:#1f77b4;\" x=\"73.968135\" xlink:href=\"#m21074579f4\" y=\"51.969034\"/>\n     <use style=\"fill:#1f77b4;stroke:#1f77b4;\" x=\"60.662621\" xlink:href=\"#m21074579f4\" y=\"131.038125\"/>\n     <use style=\"fill:#1f77b4;stroke:#1f77b4;\" x=\"60.662621\" xlink:href=\"#m21074579f4\" y=\"32.201761\"/>\n     <use style=\"fill:#1f77b4;stroke:#1f77b4;\" x=\"58.999432\" xlink:href=\"#m21074579f4\" y=\"32.201761\"/>\n     <use style=\"fill:#1f77b4;stroke:#1f77b4;\" x=\"78.957703\" xlink:href=\"#m21074579f4\" y=\"77.818545\"/>\n     <use style=\"fill:#1f77b4;stroke:#1f77b4;\" x=\"68.978567\" xlink:href=\"#m21074579f4\" y=\"173.396567\"/>\n     <use style=\"fill:#1f77b4;stroke:#1f77b4;\" x=\"58.999432\" xlink:href=\"#m21074579f4\" y=\"229.874489\"/>\n     <use style=\"fill:#1f77b4;stroke:#1f77b4;\" x=\"58.999432\" xlink:href=\"#m21074579f4\" y=\"229.874489\"/>\n     <use style=\"fill:#1f77b4;stroke:#1f77b4;\" x=\"58.999432\" xlink:href=\"#m21074579f4\" y=\"229.874489\"/>\n     <use style=\"fill:#1f77b4;stroke:#1f77b4;\" x=\"58.999432\" xlink:href=\"#m21074579f4\" y=\"32.201761\"/>\n     <use style=\"fill:#1f77b4;stroke:#1f77b4;\" x=\"58.999432\" xlink:href=\"#m21074579f4\" y=\"32.201761\"/>\n     <use style=\"fill:#1f77b4;stroke:#1f77b4;\" x=\"62.32581\" xlink:href=\"#m21074579f4\" y=\"98.09267\"/>\n     <use style=\"fill:#1f77b4;stroke:#1f77b4;\" x=\"62.32581\" xlink:href=\"#m21074579f4\" y=\"32.201761\"/>\n     <use style=\"fill:#1f77b4;stroke:#1f77b4;\" x=\"73.968135\" xlink:href=\"#m21074579f4\" y=\"111.270852\"/>\n     <use style=\"fill:#1f77b4;stroke:#1f77b4;\" x=\"67.315378\" xlink:href=\"#m21074579f4\" y=\"131.038125\"/>\n     <use style=\"fill:#1f77b4;stroke:#1f77b4;\" x=\"60.662621\" xlink:href=\"#m21074579f4\" y=\"32.201761\"/>\n     <use style=\"fill:#1f77b4;stroke:#1f77b4;\" x=\"58.999432\" xlink:href=\"#m21074579f4\" y=\"32.201761\"/>\n     <use style=\"fill:#1f77b4;stroke:#1f77b4;\" x=\"58.999432\" xlink:href=\"#m21074579f4\" y=\"229.874489\"/>\n     <use style=\"fill:#1f77b4;stroke:#1f77b4;\" x=\"103.905542\" xlink:href=\"#m21074579f4\" y=\"74.560203\"/>\n     <use style=\"fill:#1f77b4;stroke:#1f77b4;\" x=\"58.999432\" xlink:href=\"#m21074579f4\" y=\"32.201761\"/>\n     <use style=\"fill:#1f77b4;stroke:#1f77b4;\" x=\"87.273649\" xlink:href=\"#m21074579f4\" y=\"120.056307\"/>\n     <use style=\"fill:#1f77b4;stroke:#1f77b4;\" x=\"87.273649\" xlink:href=\"#m21074579f4\" y=\"131.038125\"/>\n     <use style=\"fill:#1f77b4;stroke:#1f77b4;\" x=\"60.662621\" xlink:href=\"#m21074579f4\" y=\"131.038125\"/>\n     <use style=\"fill:#1f77b4;stroke:#1f77b4;\" x=\"63.989\" xlink:href=\"#m21074579f4\" y=\"131.038125\"/>\n     <use style=\"fill:#1f77b4;stroke:#1f77b4;\" x=\"78.957703\" xlink:href=\"#m21074579f4\" y=\"77.818545\"/>\n     <use style=\"fill:#1f77b4;stroke:#1f77b4;\" x=\"58.999432\" xlink:href=\"#m21074579f4\" y=\"32.201761\"/>\n     <use style=\"fill:#1f77b4;stroke:#1f77b4;\" x=\"73.968135\" xlink:href=\"#m21074579f4\" y=\"111.270852\"/>\n     <use style=\"fill:#1f77b4;stroke:#1f77b4;\" x=\"58.999432\" xlink:href=\"#m21074579f4\" y=\"32.201761\"/>\n     <use style=\"fill:#1f77b4;stroke:#1f77b4;\" x=\"58.999432\" xlink:href=\"#m21074579f4\" y=\"229.874489\"/>\n     <use style=\"fill:#1f77b4;stroke:#1f77b4;\" x=\"63.989\" xlink:href=\"#m21074579f4\" y=\"180.456307\"/>\n     <use style=\"fill:#1f77b4;stroke:#1f77b4;\" x=\"70.641757\" xlink:href=\"#m21074579f4\" y=\"56.910852\"/>\n     <use style=\"fill:#1f77b4;stroke:#1f77b4;\" x=\"58.999432\" xlink:href=\"#m21074579f4\" y=\"229.874489\"/>\n     <use style=\"fill:#1f77b4;stroke:#1f77b4;\" x=\"62.32581\" xlink:href=\"#m21074579f4\" y=\"32.201761\"/>\n     <use style=\"fill:#1f77b4;stroke:#1f77b4;\" x=\"58.999432\" xlink:href=\"#m21074579f4\" y=\"32.201761\"/>\n     <use style=\"fill:#1f77b4;stroke:#1f77b4;\" x=\"60.662621\" xlink:href=\"#m21074579f4\" y=\"229.874489\"/>\n     <use style=\"fill:#1f77b4;stroke:#1f77b4;\" x=\"63.989\" xlink:href=\"#m21074579f4\" y=\"131.038125\"/>\n     <use style=\"fill:#1f77b4;stroke:#1f77b4;\" x=\"175.422681\" xlink:href=\"#m21074579f4\" y=\"82.315974\"/>\n     <use style=\"fill:#1f77b4;stroke:#1f77b4;\" x=\"62.32581\" xlink:href=\"#m21074579f4\" y=\"163.98358\"/>\n     <use style=\"fill:#1f77b4;stroke:#1f77b4;\" x=\"60.662621\" xlink:href=\"#m21074579f4\" y=\"32.201761\"/>\n     <use style=\"fill:#1f77b4;stroke:#1f77b4;\" x=\"62.32581\" xlink:href=\"#m21074579f4\" y=\"163.98358\"/>\n     <use style=\"fill:#1f77b4;stroke:#1f77b4;\" x=\"75.631325\" xlink:href=\"#m21074579f4\" y=\"122.053001\"/>\n     <use style=\"fill:#1f77b4;stroke:#1f77b4;\" x=\"58.999432\" xlink:href=\"#m21074579f4\" y=\"229.874489\"/>\n     <use style=\"fill:#1f77b4;stroke:#1f77b4;\" x=\"93.926406\" xlink:href=\"#m21074579f4\" y=\"113.067877\"/>\n     <use style=\"fill:#1f77b4;stroke:#1f77b4;\" x=\"58.999432\" xlink:href=\"#m21074579f4\" y=\"229.874489\"/>\n     <use style=\"fill:#1f77b4;stroke:#1f77b4;\" x=\"107.231921\" xlink:href=\"#m21074579f4\" y=\"117.859943\"/>\n     <use style=\"fill:#1f77b4;stroke:#1f77b4;\" x=\"73.968135\" xlink:href=\"#m21074579f4\" y=\"51.969034\"/>\n     <use style=\"fill:#1f77b4;stroke:#1f77b4;\" x=\"62.32581\" xlink:href=\"#m21074579f4\" y=\"163.98358\"/>\n     <use style=\"fill:#1f77b4;stroke:#1f77b4;\" x=\"228.644737\" xlink:href=\"#m21074579f4\" y=\"60.989052\"/>\n     <use style=\"fill:#1f77b4;stroke:#1f77b4;\" x=\"62.32581\" xlink:href=\"#m21074579f4\" y=\"98.09267\"/>\n     <use style=\"fill:#1f77b4;stroke:#1f77b4;\" x=\"78.957703\" xlink:href=\"#m21074579f4\" y=\"108.229733\"/>\n     <use style=\"fill:#1f77b4;stroke:#1f77b4;\" x=\"117.211056\" xlink:href=\"#m21074579f4\" y=\"81.619943\"/>\n     <use style=\"fill:#1f77b4;stroke:#1f77b4;\" x=\"58.999432\" xlink:href=\"#m21074579f4\" y=\"229.874489\"/>\n     <use style=\"fill:#1f77b4;stroke:#1f77b4;\" x=\"62.32581\" xlink:href=\"#m21074579f4\" y=\"98.09267\"/>\n     <use style=\"fill:#1f77b4;stroke:#1f77b4;\" x=\"62.32581\" xlink:href=\"#m21074579f4\" y=\"98.09267\"/>\n     <use style=\"fill:#1f77b4;stroke:#1f77b4;\" x=\"60.662621\" xlink:href=\"#m21074579f4\" y=\"32.201761\"/>\n     <use style=\"fill:#1f77b4;stroke:#1f77b4;\" x=\"58.999432\" xlink:href=\"#m21074579f4\" y=\"229.874489\"/>\n     <use style=\"fill:#1f77b4;stroke:#1f77b4;\" x=\"115.547867\" xlink:href=\"#m21074579f4\" y=\"88.679683\"/>\n     <use style=\"fill:#1f77b4;stroke:#1f77b4;\" x=\"223.65517\" xlink:href=\"#m21074579f4\" y=\"95.457034\"/>\n     <use style=\"fill:#1f77b4;stroke:#1f77b4;\" x=\"62.32581\" xlink:href=\"#m21074579f4\" y=\"98.09267\"/>\n     <use style=\"fill:#1f77b4;stroke:#1f77b4;\" x=\"82.284082\" xlink:href=\"#m21074579f4\" y=\"45.379943\"/>\n    </g>\n   </g>\n   <g id=\"matplotlib.axis_1\">\n    <g id=\"xtick_1\">\n     <g id=\"line2d_1\">\n      <defs>\n       <path d=\"M 0 0 \nL 0 3.5 \n\" id=\"m07a481bdfd\" style=\"stroke:#000000;stroke-width:0.8;\"/>\n      </defs>\n      <g>\n       <use style=\"stroke:#000000;stroke-width:0.8;\" x=\"57.336243\" xlink:href=\"#m07a481bdfd\" y=\"239.758125\"/>\n      </g>\n     </g>\n     <g id=\"text_1\">\n      <!-- 0 -->\n      <g transform=\"translate(54.154993 254.356562)scale(0.1 -0.1)\">\n       <defs>\n        <path d=\"M 2034 4250 \nQ 1547 4250 1301 3770 \nQ 1056 3291 1056 2328 \nQ 1056 1369 1301 889 \nQ 1547 409 2034 409 \nQ 2525 409 2770 889 \nQ 3016 1369 3016 2328 \nQ 3016 3291 2770 3770 \nQ 2525 4250 2034 4250 \nz\nM 2034 4750 \nQ 2819 4750 3233 4129 \nQ 3647 3509 3647 2328 \nQ 3647 1150 3233 529 \nQ 2819 -91 2034 -91 \nQ 1250 -91 836 529 \nQ 422 1150 422 2328 \nQ 422 3509 836 4129 \nQ 1250 4750 2034 4750 \nz\n\" id=\"DejaVuSans-30\" transform=\"scale(0.015625)\"/>\n       </defs>\n       <use xlink:href=\"#DejaVuSans-30\"/>\n      </g>\n     </g>\n    </g>\n    <g id=\"xtick_2\">\n     <g id=\"line2d_2\">\n      <g>\n       <use style=\"stroke:#000000;stroke-width:0.8;\" x=\"98.915974\" xlink:href=\"#m07a481bdfd\" y=\"239.758125\"/>\n      </g>\n     </g>\n     <g id=\"text_2\">\n      <!-- 25 -->\n      <g transform=\"translate(92.553474 254.356562)scale(0.1 -0.1)\">\n       <defs>\n        <path d=\"M 1228 531 \nL 3431 531 \nL 3431 0 \nL 469 0 \nL 469 531 \nQ 828 903 1448 1529 \nQ 2069 2156 2228 2338 \nQ 2531 2678 2651 2914 \nQ 2772 3150 2772 3378 \nQ 2772 3750 2511 3984 \nQ 2250 4219 1831 4219 \nQ 1534 4219 1204 4116 \nQ 875 4013 500 3803 \nL 500 4441 \nQ 881 4594 1212 4672 \nQ 1544 4750 1819 4750 \nQ 2544 4750 2975 4387 \nQ 3406 4025 3406 3419 \nQ 3406 3131 3298 2873 \nQ 3191 2616 2906 2266 \nQ 2828 2175 2409 1742 \nQ 1991 1309 1228 531 \nz\n\" id=\"DejaVuSans-32\" transform=\"scale(0.015625)\"/>\n        <path d=\"M 691 4666 \nL 3169 4666 \nL 3169 4134 \nL 1269 4134 \nL 1269 2991 \nQ 1406 3038 1543 3061 \nQ 1681 3084 1819 3084 \nQ 2600 3084 3056 2656 \nQ 3513 2228 3513 1497 \nQ 3513 744 3044 326 \nQ 2575 -91 1722 -91 \nQ 1428 -91 1123 -41 \nQ 819 9 494 109 \nL 494 744 \nQ 775 591 1075 516 \nQ 1375 441 1709 441 \nQ 2250 441 2565 725 \nQ 2881 1009 2881 1497 \nQ 2881 1984 2565 2268 \nQ 2250 2553 1709 2553 \nQ 1456 2553 1204 2497 \nQ 953 2441 691 2322 \nL 691 4666 \nz\n\" id=\"DejaVuSans-35\" transform=\"scale(0.015625)\"/>\n       </defs>\n       <use xlink:href=\"#DejaVuSans-32\"/>\n       <use x=\"63.623047\" xlink:href=\"#DejaVuSans-35\"/>\n      </g>\n     </g>\n    </g>\n    <g id=\"xtick_3\">\n     <g id=\"line2d_3\">\n      <g>\n       <use style=\"stroke:#000000;stroke-width:0.8;\" x=\"140.495706\" xlink:href=\"#m07a481bdfd\" y=\"239.758125\"/>\n      </g>\n     </g>\n     <g id=\"text_3\">\n      <!-- 50 -->\n      <g transform=\"translate(134.133206 254.356562)scale(0.1 -0.1)\">\n       <use xlink:href=\"#DejaVuSans-35\"/>\n       <use x=\"63.623047\" xlink:href=\"#DejaVuSans-30\"/>\n      </g>\n     </g>\n    </g>\n    <g id=\"xtick_4\">\n     <g id=\"line2d_4\">\n      <g>\n       <use style=\"stroke:#000000;stroke-width:0.8;\" x=\"182.075438\" xlink:href=\"#m07a481bdfd\" y=\"239.758125\"/>\n      </g>\n     </g>\n     <g id=\"text_4\">\n      <!-- 75 -->\n      <g transform=\"translate(175.712938 254.356562)scale(0.1 -0.1)\">\n       <defs>\n        <path d=\"M 525 4666 \nL 3525 4666 \nL 3525 4397 \nL 1831 0 \nL 1172 0 \nL 2766 4134 \nL 525 4134 \nL 525 4666 \nz\n\" id=\"DejaVuSans-37\" transform=\"scale(0.015625)\"/>\n       </defs>\n       <use xlink:href=\"#DejaVuSans-37\"/>\n       <use x=\"63.623047\" xlink:href=\"#DejaVuSans-35\"/>\n      </g>\n     </g>\n    </g>\n    <g id=\"xtick_5\">\n     <g id=\"line2d_5\">\n      <g>\n       <use style=\"stroke:#000000;stroke-width:0.8;\" x=\"223.65517\" xlink:href=\"#m07a481bdfd\" y=\"239.758125\"/>\n      </g>\n     </g>\n     <g id=\"text_5\">\n      <!-- 100 -->\n      <g transform=\"translate(214.11142 254.356562)scale(0.1 -0.1)\">\n       <defs>\n        <path d=\"M 794 531 \nL 1825 531 \nL 1825 4091 \nL 703 3866 \nL 703 4441 \nL 1819 4666 \nL 2450 4666 \nL 2450 531 \nL 3481 531 \nL 3481 0 \nL 794 0 \nL 794 531 \nz\n\" id=\"DejaVuSans-31\" transform=\"scale(0.015625)\"/>\n       </defs>\n       <use xlink:href=\"#DejaVuSans-31\"/>\n       <use x=\"63.623047\" xlink:href=\"#DejaVuSans-30\"/>\n       <use x=\"127.246094\" xlink:href=\"#DejaVuSans-30\"/>\n      </g>\n     </g>\n    </g>\n    <g id=\"xtick_6\">\n     <g id=\"line2d_6\">\n      <g>\n       <use style=\"stroke:#000000;stroke-width:0.8;\" x=\"265.234901\" xlink:href=\"#m07a481bdfd\" y=\"239.758125\"/>\n      </g>\n     </g>\n     <g id=\"text_6\">\n      <!-- 125 -->\n      <g transform=\"translate(255.691151 254.356562)scale(0.1 -0.1)\">\n       <use xlink:href=\"#DejaVuSans-31\"/>\n       <use x=\"63.623047\" xlink:href=\"#DejaVuSans-32\"/>\n       <use x=\"127.246094\" xlink:href=\"#DejaVuSans-35\"/>\n      </g>\n     </g>\n    </g>\n    <g id=\"xtick_7\">\n     <g id=\"line2d_7\">\n      <g>\n       <use style=\"stroke:#000000;stroke-width:0.8;\" x=\"306.814633\" xlink:href=\"#m07a481bdfd\" y=\"239.758125\"/>\n      </g>\n     </g>\n     <g id=\"text_7\">\n      <!-- 150 -->\n      <g transform=\"translate(297.270883 254.356562)scale(0.1 -0.1)\">\n       <use xlink:href=\"#DejaVuSans-31\"/>\n       <use x=\"63.623047\" xlink:href=\"#DejaVuSans-35\"/>\n       <use x=\"127.246094\" xlink:href=\"#DejaVuSans-30\"/>\n      </g>\n     </g>\n    </g>\n    <g id=\"xtick_8\">\n     <g id=\"line2d_8\">\n      <g>\n       <use style=\"stroke:#000000;stroke-width:0.8;\" x=\"348.394365\" xlink:href=\"#m07a481bdfd\" y=\"239.758125\"/>\n      </g>\n     </g>\n     <g id=\"text_8\">\n      <!-- 175 -->\n      <g transform=\"translate(338.850615 254.356562)scale(0.1 -0.1)\">\n       <use xlink:href=\"#DejaVuSans-31\"/>\n       <use x=\"63.623047\" xlink:href=\"#DejaVuSans-37\"/>\n       <use x=\"127.246094\" xlink:href=\"#DejaVuSans-35\"/>\n      </g>\n     </g>\n    </g>\n    <g id=\"text_9\">\n     <!-- Counts -->\n     <g transform=\"translate(193.728125 268.034687)scale(0.1 -0.1)\">\n      <defs>\n       <path d=\"M 4122 4306 \nL 4122 3641 \nQ 3803 3938 3442 4084 \nQ 3081 4231 2675 4231 \nQ 1875 4231 1450 3742 \nQ 1025 3253 1025 2328 \nQ 1025 1406 1450 917 \nQ 1875 428 2675 428 \nQ 3081 428 3442 575 \nQ 3803 722 4122 1019 \nL 4122 359 \nQ 3791 134 3420 21 \nQ 3050 -91 2638 -91 \nQ 1578 -91 968 557 \nQ 359 1206 359 2328 \nQ 359 3453 968 4101 \nQ 1578 4750 2638 4750 \nQ 3056 4750 3426 4639 \nQ 3797 4528 4122 4306 \nz\n\" id=\"DejaVuSans-43\" transform=\"scale(0.015625)\"/>\n       <path d=\"M 1959 3097 \nQ 1497 3097 1228 2736 \nQ 959 2375 959 1747 \nQ 959 1119 1226 758 \nQ 1494 397 1959 397 \nQ 2419 397 2687 759 \nQ 2956 1122 2956 1747 \nQ 2956 2369 2687 2733 \nQ 2419 3097 1959 3097 \nz\nM 1959 3584 \nQ 2709 3584 3137 3096 \nQ 3566 2609 3566 1747 \nQ 3566 888 3137 398 \nQ 2709 -91 1959 -91 \nQ 1206 -91 779 398 \nQ 353 888 353 1747 \nQ 353 2609 779 3096 \nQ 1206 3584 1959 3584 \nz\n\" id=\"DejaVuSans-6f\" transform=\"scale(0.015625)\"/>\n       <path d=\"M 544 1381 \nL 544 3500 \nL 1119 3500 \nL 1119 1403 \nQ 1119 906 1312 657 \nQ 1506 409 1894 409 \nQ 2359 409 2629 706 \nQ 2900 1003 2900 1516 \nL 2900 3500 \nL 3475 3500 \nL 3475 0 \nL 2900 0 \nL 2900 538 \nQ 2691 219 2414 64 \nQ 2138 -91 1772 -91 \nQ 1169 -91 856 284 \nQ 544 659 544 1381 \nz\nM 1991 3584 \nL 1991 3584 \nz\n\" id=\"DejaVuSans-75\" transform=\"scale(0.015625)\"/>\n       <path d=\"M 3513 2113 \nL 3513 0 \nL 2938 0 \nL 2938 2094 \nQ 2938 2591 2744 2837 \nQ 2550 3084 2163 3084 \nQ 1697 3084 1428 2787 \nQ 1159 2491 1159 1978 \nL 1159 0 \nL 581 0 \nL 581 3500 \nL 1159 3500 \nL 1159 2956 \nQ 1366 3272 1645 3428 \nQ 1925 3584 2291 3584 \nQ 2894 3584 3203 3211 \nQ 3513 2838 3513 2113 \nz\n\" id=\"DejaVuSans-6e\" transform=\"scale(0.015625)\"/>\n       <path d=\"M 1172 4494 \nL 1172 3500 \nL 2356 3500 \nL 2356 3053 \nL 1172 3053 \nL 1172 1153 \nQ 1172 725 1289 603 \nQ 1406 481 1766 481 \nL 2356 481 \nL 2356 0 \nL 1766 0 \nQ 1100 0 847 248 \nQ 594 497 594 1153 \nL 594 3053 \nL 172 3053 \nL 172 3500 \nL 594 3500 \nL 594 4494 \nL 1172 4494 \nz\n\" id=\"DejaVuSans-74\" transform=\"scale(0.015625)\"/>\n       <path d=\"M 2834 3397 \nL 2834 2853 \nQ 2591 2978 2328 3040 \nQ 2066 3103 1784 3103 \nQ 1356 3103 1142 2972 \nQ 928 2841 928 2578 \nQ 928 2378 1081 2264 \nQ 1234 2150 1697 2047 \nL 1894 2003 \nQ 2506 1872 2764 1633 \nQ 3022 1394 3022 966 \nQ 3022 478 2636 193 \nQ 2250 -91 1575 -91 \nQ 1294 -91 989 -36 \nQ 684 19 347 128 \nL 347 722 \nQ 666 556 975 473 \nQ 1284 391 1588 391 \nQ 1994 391 2212 530 \nQ 2431 669 2431 922 \nQ 2431 1156 2273 1281 \nQ 2116 1406 1581 1522 \nL 1381 1569 \nQ 847 1681 609 1914 \nQ 372 2147 372 2553 \nQ 372 3047 722 3315 \nQ 1072 3584 1716 3584 \nQ 2034 3584 2315 3537 \nQ 2597 3491 2834 3397 \nz\n\" id=\"DejaVuSans-73\" transform=\"scale(0.015625)\"/>\n      </defs>\n      <use xlink:href=\"#DejaVuSans-43\"/>\n      <use x=\"69.824219\" xlink:href=\"#DejaVuSans-6f\"/>\n      <use x=\"131.005859\" xlink:href=\"#DejaVuSans-75\"/>\n      <use x=\"194.384766\" xlink:href=\"#DejaVuSans-6e\"/>\n      <use x=\"257.763672\" xlink:href=\"#DejaVuSans-74\"/>\n      <use x=\"296.972656\" xlink:href=\"#DejaVuSans-73\"/>\n     </g>\n    </g>\n   </g>\n   <g id=\"matplotlib.axis_2\">\n    <g id=\"ytick_1\">\n     <g id=\"line2d_9\">\n      <defs>\n       <path d=\"M 0 0 \nL -3.5 0 \n\" id=\"m04c999b5f7\" style=\"stroke:#000000;stroke-width:0.8;\"/>\n      </defs>\n      <g>\n       <use style=\"stroke:#000000;stroke-width:0.8;\" x=\"43.78125\" xlink:href=\"#m04c999b5f7\" y=\"229.874489\"/>\n      </g>\n     </g>\n     <g id=\"text_10\">\n      <!-- 0.0 -->\n      <g transform=\"translate(20.878125 233.673707)scale(0.1 -0.1)\">\n       <defs>\n        <path d=\"M 684 794 \nL 1344 794 \nL 1344 0 \nL 684 0 \nL 684 794 \nz\n\" id=\"DejaVuSans-2e\" transform=\"scale(0.015625)\"/>\n       </defs>\n       <use xlink:href=\"#DejaVuSans-30\"/>\n       <use x=\"63.623047\" xlink:href=\"#DejaVuSans-2e\"/>\n       <use x=\"95.410156\" xlink:href=\"#DejaVuSans-30\"/>\n      </g>\n     </g>\n    </g>\n    <g id=\"ytick_2\">\n     <g id=\"line2d_10\">\n      <g>\n       <use style=\"stroke:#000000;stroke-width:0.8;\" x=\"43.78125\" xlink:href=\"#m04c999b5f7\" y=\"190.339943\"/>\n      </g>\n     </g>\n     <g id=\"text_11\">\n      <!-- 0.2 -->\n      <g transform=\"translate(20.878125 194.139162)scale(0.1 -0.1)\">\n       <use xlink:href=\"#DejaVuSans-30\"/>\n       <use x=\"63.623047\" xlink:href=\"#DejaVuSans-2e\"/>\n       <use x=\"95.410156\" xlink:href=\"#DejaVuSans-32\"/>\n      </g>\n     </g>\n    </g>\n    <g id=\"ytick_3\">\n     <g id=\"line2d_11\">\n      <g>\n       <use style=\"stroke:#000000;stroke-width:0.8;\" x=\"43.78125\" xlink:href=\"#m04c999b5f7\" y=\"150.805398\"/>\n      </g>\n     </g>\n     <g id=\"text_12\">\n      <!-- 0.4 -->\n      <g transform=\"translate(20.878125 154.604616)scale(0.1 -0.1)\">\n       <defs>\n        <path d=\"M 2419 4116 \nL 825 1625 \nL 2419 1625 \nL 2419 4116 \nz\nM 2253 4666 \nL 3047 4666 \nL 3047 1625 \nL 3713 1625 \nL 3713 1100 \nL 3047 1100 \nL 3047 0 \nL 2419 0 \nL 2419 1100 \nL 313 1100 \nL 313 1709 \nL 2253 4666 \nz\n\" id=\"DejaVuSans-34\" transform=\"scale(0.015625)\"/>\n       </defs>\n       <use xlink:href=\"#DejaVuSans-30\"/>\n       <use x=\"63.623047\" xlink:href=\"#DejaVuSans-2e\"/>\n       <use x=\"95.410156\" xlink:href=\"#DejaVuSans-34\"/>\n      </g>\n     </g>\n    </g>\n    <g id=\"ytick_4\">\n     <g id=\"line2d_12\">\n      <g>\n       <use style=\"stroke:#000000;stroke-width:0.8;\" x=\"43.78125\" xlink:href=\"#m04c999b5f7\" y=\"111.270852\"/>\n      </g>\n     </g>\n     <g id=\"text_13\">\n      <!-- 0.6 -->\n      <g transform=\"translate(20.878125 115.070071)scale(0.1 -0.1)\">\n       <defs>\n        <path d=\"M 2113 2584 \nQ 1688 2584 1439 2293 \nQ 1191 2003 1191 1497 \nQ 1191 994 1439 701 \nQ 1688 409 2113 409 \nQ 2538 409 2786 701 \nQ 3034 994 3034 1497 \nQ 3034 2003 2786 2293 \nQ 2538 2584 2113 2584 \nz\nM 3366 4563 \nL 3366 3988 \nQ 3128 4100 2886 4159 \nQ 2644 4219 2406 4219 \nQ 1781 4219 1451 3797 \nQ 1122 3375 1075 2522 \nQ 1259 2794 1537 2939 \nQ 1816 3084 2150 3084 \nQ 2853 3084 3261 2657 \nQ 3669 2231 3669 1497 \nQ 3669 778 3244 343 \nQ 2819 -91 2113 -91 \nQ 1303 -91 875 529 \nQ 447 1150 447 2328 \nQ 447 3434 972 4092 \nQ 1497 4750 2381 4750 \nQ 2619 4750 2861 4703 \nQ 3103 4656 3366 4563 \nz\n\" id=\"DejaVuSans-36\" transform=\"scale(0.015625)\"/>\n       </defs>\n       <use xlink:href=\"#DejaVuSans-30\"/>\n       <use x=\"63.623047\" xlink:href=\"#DejaVuSans-2e\"/>\n       <use x=\"95.410156\" xlink:href=\"#DejaVuSans-36\"/>\n      </g>\n     </g>\n    </g>\n    <g id=\"ytick_5\">\n     <g id=\"line2d_13\">\n      <g>\n       <use style=\"stroke:#000000;stroke-width:0.8;\" x=\"43.78125\" xlink:href=\"#m04c999b5f7\" y=\"71.736307\"/>\n      </g>\n     </g>\n     <g id=\"text_14\">\n      <!-- 0.8 -->\n      <g transform=\"translate(20.878125 75.535526)scale(0.1 -0.1)\">\n       <defs>\n        <path d=\"M 2034 2216 \nQ 1584 2216 1326 1975 \nQ 1069 1734 1069 1313 \nQ 1069 891 1326 650 \nQ 1584 409 2034 409 \nQ 2484 409 2743 651 \nQ 3003 894 3003 1313 \nQ 3003 1734 2745 1975 \nQ 2488 2216 2034 2216 \nz\nM 1403 2484 \nQ 997 2584 770 2862 \nQ 544 3141 544 3541 \nQ 544 4100 942 4425 \nQ 1341 4750 2034 4750 \nQ 2731 4750 3128 4425 \nQ 3525 4100 3525 3541 \nQ 3525 3141 3298 2862 \nQ 3072 2584 2669 2484 \nQ 3125 2378 3379 2068 \nQ 3634 1759 3634 1313 \nQ 3634 634 3220 271 \nQ 2806 -91 2034 -91 \nQ 1263 -91 848 271 \nQ 434 634 434 1313 \nQ 434 1759 690 2068 \nQ 947 2378 1403 2484 \nz\nM 1172 3481 \nQ 1172 3119 1398 2916 \nQ 1625 2713 2034 2713 \nQ 2441 2713 2670 2916 \nQ 2900 3119 2900 3481 \nQ 2900 3844 2670 4047 \nQ 2441 4250 2034 4250 \nQ 1625 4250 1398 4047 \nQ 1172 3844 1172 3481 \nz\n\" id=\"DejaVuSans-38\" transform=\"scale(0.015625)\"/>\n       </defs>\n       <use xlink:href=\"#DejaVuSans-30\"/>\n       <use x=\"63.623047\" xlink:href=\"#DejaVuSans-2e\"/>\n       <use x=\"95.410156\" xlink:href=\"#DejaVuSans-38\"/>\n      </g>\n     </g>\n    </g>\n    <g id=\"ytick_6\">\n     <g id=\"line2d_14\">\n      <g>\n       <use style=\"stroke:#000000;stroke-width:0.8;\" x=\"43.78125\" xlink:href=\"#m04c999b5f7\" y=\"32.201761\"/>\n      </g>\n     </g>\n     <g id=\"text_15\">\n      <!-- 1.0 -->\n      <g transform=\"translate(20.878125 36.00098)scale(0.1 -0.1)\">\n       <use xlink:href=\"#DejaVuSans-31\"/>\n       <use x=\"63.623047\" xlink:href=\"#DejaVuSans-2e\"/>\n       <use x=\"95.410156\" xlink:href=\"#DejaVuSans-30\"/>\n      </g>\n     </g>\n    </g>\n    <g id=\"text_16\">\n     <!-- Accuracy -->\n     <g transform=\"translate(14.798438 153.86625)rotate(-90)scale(0.1 -0.1)\">\n      <defs>\n       <path d=\"M 2188 4044 \nL 1331 1722 \nL 3047 1722 \nL 2188 4044 \nz\nM 1831 4666 \nL 2547 4666 \nL 4325 0 \nL 3669 0 \nL 3244 1197 \nL 1141 1197 \nL 716 0 \nL 50 0 \nL 1831 4666 \nz\n\" id=\"DejaVuSans-41\" transform=\"scale(0.015625)\"/>\n       <path d=\"M 3122 3366 \nL 3122 2828 \nQ 2878 2963 2633 3030 \nQ 2388 3097 2138 3097 \nQ 1578 3097 1268 2742 \nQ 959 2388 959 1747 \nQ 959 1106 1268 751 \nQ 1578 397 2138 397 \nQ 2388 397 2633 464 \nQ 2878 531 3122 666 \nL 3122 134 \nQ 2881 22 2623 -34 \nQ 2366 -91 2075 -91 \nQ 1284 -91 818 406 \nQ 353 903 353 1747 \nQ 353 2603 823 3093 \nQ 1294 3584 2113 3584 \nQ 2378 3584 2631 3529 \nQ 2884 3475 3122 3366 \nz\n\" id=\"DejaVuSans-63\" transform=\"scale(0.015625)\"/>\n       <path d=\"M 2631 2963 \nQ 2534 3019 2420 3045 \nQ 2306 3072 2169 3072 \nQ 1681 3072 1420 2755 \nQ 1159 2438 1159 1844 \nL 1159 0 \nL 581 0 \nL 581 3500 \nL 1159 3500 \nL 1159 2956 \nQ 1341 3275 1631 3429 \nQ 1922 3584 2338 3584 \nQ 2397 3584 2469 3576 \nQ 2541 3569 2628 3553 \nL 2631 2963 \nz\n\" id=\"DejaVuSans-72\" transform=\"scale(0.015625)\"/>\n       <path d=\"M 2194 1759 \nQ 1497 1759 1228 1600 \nQ 959 1441 959 1056 \nQ 959 750 1161 570 \nQ 1363 391 1709 391 \nQ 2188 391 2477 730 \nQ 2766 1069 2766 1631 \nL 2766 1759 \nL 2194 1759 \nz\nM 3341 1997 \nL 3341 0 \nL 2766 0 \nL 2766 531 \nQ 2569 213 2275 61 \nQ 1981 -91 1556 -91 \nQ 1019 -91 701 211 \nQ 384 513 384 1019 \nQ 384 1609 779 1909 \nQ 1175 2209 1959 2209 \nL 2766 2209 \nL 2766 2266 \nQ 2766 2663 2505 2880 \nQ 2244 3097 1772 3097 \nQ 1472 3097 1187 3025 \nQ 903 2953 641 2809 \nL 641 3341 \nQ 956 3463 1253 3523 \nQ 1550 3584 1831 3584 \nQ 2591 3584 2966 3190 \nQ 3341 2797 3341 1997 \nz\n\" id=\"DejaVuSans-61\" transform=\"scale(0.015625)\"/>\n       <path d=\"M 2059 -325 \nQ 1816 -950 1584 -1140 \nQ 1353 -1331 966 -1331 \nL 506 -1331 \nL 506 -850 \nL 844 -850 \nQ 1081 -850 1212 -737 \nQ 1344 -625 1503 -206 \nL 1606 56 \nL 191 3500 \nL 800 3500 \nL 1894 763 \nL 2988 3500 \nL 3597 3500 \nL 2059 -325 \nz\n\" id=\"DejaVuSans-79\" transform=\"scale(0.015625)\"/>\n      </defs>\n      <use xlink:href=\"#DejaVuSans-41\"/>\n      <use x=\"66.658203\" xlink:href=\"#DejaVuSans-63\"/>\n      <use x=\"121.638672\" xlink:href=\"#DejaVuSans-63\"/>\n      <use x=\"176.619141\" xlink:href=\"#DejaVuSans-75\"/>\n      <use x=\"239.998047\" xlink:href=\"#DejaVuSans-72\"/>\n      <use x=\"281.111328\" xlink:href=\"#DejaVuSans-61\"/>\n      <use x=\"342.390625\" xlink:href=\"#DejaVuSans-63\"/>\n      <use x=\"397.371094\" xlink:href=\"#DejaVuSans-79\"/>\n     </g>\n    </g>\n   </g>\n   <g id=\"patch_3\">\n    <path d=\"M 43.78125 239.758125 \nL 43.78125 22.318125 \n\" style=\"fill:none;stroke:#000000;stroke-linecap:square;stroke-linejoin:miter;stroke-width:0.8;\"/>\n   </g>\n   <g id=\"patch_4\">\n    <path d=\"M 378.58125 239.758125 \nL 378.58125 22.318125 \n\" style=\"fill:none;stroke:#000000;stroke-linecap:square;stroke-linejoin:miter;stroke-width:0.8;\"/>\n   </g>\n   <g id=\"patch_5\">\n    <path d=\"M 43.78125 239.758125 \nL 378.58125 239.758125 \n\" style=\"fill:none;stroke:#000000;stroke-linecap:square;stroke-linejoin:miter;stroke-width:0.8;\"/>\n   </g>\n   <g id=\"patch_6\">\n    <path d=\"M 43.78125 22.318125 \nL 378.58125 22.318125 \n\" style=\"fill:none;stroke:#000000;stroke-linecap:square;stroke-linejoin:miter;stroke-width:0.8;\"/>\n   </g>\n   <g id=\"text_17\">\n    <!-- Counts v/s Accuracy -->\n    <g transform=\"translate(150.331875 16.318125)scale(0.12 -0.12)\">\n     <defs>\n      <path id=\"DejaVuSans-20\" transform=\"scale(0.015625)\"/>\n      <path d=\"M 191 3500 \nL 800 3500 \nL 1894 563 \nL 2988 3500 \nL 3597 3500 \nL 2284 0 \nL 1503 0 \nL 191 3500 \nz\n\" id=\"DejaVuSans-76\" transform=\"scale(0.015625)\"/>\n      <path d=\"M 1625 4666 \nL 2156 4666 \nL 531 -594 \nL 0 -594 \nL 1625 4666 \nz\n\" id=\"DejaVuSans-2f\" transform=\"scale(0.015625)\"/>\n     </defs>\n     <use xlink:href=\"#DejaVuSans-43\"/>\n     <use x=\"69.824219\" xlink:href=\"#DejaVuSans-6f\"/>\n     <use x=\"131.005859\" xlink:href=\"#DejaVuSans-75\"/>\n     <use x=\"194.384766\" xlink:href=\"#DejaVuSans-6e\"/>\n     <use x=\"257.763672\" xlink:href=\"#DejaVuSans-74\"/>\n     <use x=\"296.972656\" xlink:href=\"#DejaVuSans-73\"/>\n     <use x=\"349.072266\" xlink:href=\"#DejaVuSans-20\"/>\n     <use x=\"380.859375\" xlink:href=\"#DejaVuSans-76\"/>\n     <use x=\"440.039062\" xlink:href=\"#DejaVuSans-2f\"/>\n     <use x=\"473.730469\" xlink:href=\"#DejaVuSans-73\"/>\n     <use x=\"525.830078\" xlink:href=\"#DejaVuSans-20\"/>\n     <use x=\"557.617188\" xlink:href=\"#DejaVuSans-41\"/>\n     <use x=\"624.275391\" xlink:href=\"#DejaVuSans-63\"/>\n     <use x=\"679.255859\" xlink:href=\"#DejaVuSans-63\"/>\n     <use x=\"734.236328\" xlink:href=\"#DejaVuSans-75\"/>\n     <use x=\"797.615234\" xlink:href=\"#DejaVuSans-72\"/>\n     <use x=\"838.728516\" xlink:href=\"#DejaVuSans-61\"/>\n     <use x=\"900.007812\" xlink:href=\"#DejaVuSans-63\"/>\n     <use x=\"954.988281\" xlink:href=\"#DejaVuSans-79\"/>\n    </g>\n   </g>\n  </g>\n </g>\n <defs>\n  <clipPath id=\"p8164dd643b\">\n   <rect height=\"217.44\" width=\"334.8\" x=\"43.78125\" y=\"22.318125\"/>\n  </clipPath>\n </defs>\n</svg>\n",
      "image/png": "[encoded data removed]"
     },
     "metadata": {
      "needs_background": "light"
     }
    }
   ],
   "source": [
    "plt.scatter(rater_goodness[\"Number of Ratings\"],\n",
    "            rater_goodness[\"Average Correctness of Ratings\"])\n",
    "plt.xlabel(\"Counts\")\n",
    "plt.ylabel(\"Accuracy\")\n",
    "plt.title(\"Counts v/s Accuracy\")"
   ]
  },
  {
   "source": [
    "## Inference:\n",
    "\n",
    "higher count implies reliability\n",
    "lower counts could be spamming (though its only a minority)"
   ],
   "cell_type": "markdown",
   "metadata": {}
  },
  {
   "source": [
    "# Q7"
   ],
   "cell_type": "markdown",
   "metadata": {}
  },
  {
   "cell_type": "code",
   "execution_count": 24,
   "metadata": {},
   "outputs": [
    {
     "output_type": "execute_result",
     "data": {
      "text/plain": [
       "                Number of Ratings  Average Correctness of Ratings       Odds\n",
       "turk                                                                        \n",
       "A1253FXHCZ9CWM                 29                        0.517241   1.069214\n",
       "A12RE8G66WTO8B                 20                        0.750000   2.988048\n",
       "A153PKAL7OAY36                148                        0.722973   2.600369\n",
       "A18HIFA78GUAG9                 13                        0.538462   1.164144\n",
       "A1DCIXV1JC91MY                 22                        0.590909   1.440922\n",
       "...                           ...                             ...        ...\n",
       "AV30XWLULCP43                  13                        0.615385   1.595851\n",
       "AVWJPWUEE3U4Q                  36                        0.750000   2.988048\n",
       "AZ1S5BIG5R6P6                  35                        0.714286   2.491281\n",
       "AZSDW7JJL5VA7                 100                        0.680000   2.118380\n",
       "amurray                        15                        0.933333  13.793103\n",
       "\n",
       "[66 rows x 3 columns]"
      ],
      "text/html": "<div>\n<style scoped>\n    .dataframe tbody tr th:only-of-type {\n        vertical-align: middle;\n    }\n\n    .dataframe tbody tr th {\n        vertical-align: top;\n    }\n\n    .dataframe thead th {\n        text-align: right;\n    }\n</style>\n<table border=\"1\" class=\"dataframe\">\n  <thead>\n    <tr style=\"text-align: right;\">\n      <th></th>\n      <th>Number of Ratings</th>\n      <th>Average Correctness of Ratings</th>\n      <th>Odds</th>\n    </tr>\n    <tr>\n      <th>turk</th>\n      <th></th>\n      <th></th>\n      <th></th>\n    </tr>\n  </thead>\n  <tbody>\n    <tr>\n      <th>A1253FXHCZ9CWM</th>\n      <td>29</td>\n      <td>0.517241</td>\n      <td>1.069214</td>\n    </tr>\n    <tr>\n      <th>A12RE8G66WTO8B</th>\n      <td>20</td>\n      <td>0.750000</td>\n      <td>2.988048</td>\n    </tr>\n    <tr>\n      <th>A153PKAL7OAY36</th>\n      <td>148</td>\n      <td>0.722973</td>\n      <td>2.600369</td>\n    </tr>\n    <tr>\n      <th>A18HIFA78GUAG9</th>\n      <td>13</td>\n      <td>0.538462</td>\n      <td>1.164144</td>\n    </tr>\n    <tr>\n      <th>A1DCIXV1JC91MY</th>\n      <td>22</td>\n      <td>0.590909</td>\n      <td>1.440922</td>\n    </tr>\n    <tr>\n      <th>...</th>\n      <td>...</td>\n      <td>...</td>\n      <td>...</td>\n    </tr>\n    <tr>\n      <th>AV30XWLULCP43</th>\n      <td>13</td>\n      <td>0.615385</td>\n      <td>1.595851</td>\n    </tr>\n    <tr>\n      <th>AVWJPWUEE3U4Q</th>\n      <td>36</td>\n      <td>0.750000</td>\n      <td>2.988048</td>\n    </tr>\n    <tr>\n      <th>AZ1S5BIG5R6P6</th>\n      <td>35</td>\n      <td>0.714286</td>\n      <td>2.491281</td>\n    </tr>\n    <tr>\n      <th>AZSDW7JJL5VA7</th>\n      <td>100</td>\n      <td>0.680000</td>\n      <td>2.118380</td>\n    </tr>\n    <tr>\n      <th>amurray</th>\n      <td>15</td>\n      <td>0.933333</td>\n      <td>13.793103</td>\n    </tr>\n  </tbody>\n</table>\n<p>66 rows × 3 columns</p>\n</div>"
     },
     "metadata": {},
     "execution_count": 24
    }
   ],
   "source": [
    "active_turks = rater_goodness[rater_goodness[\"Number of Ratings\"] > rater_goodness[\"Number of Ratings\"].quantile(0.75)]\n",
    "active_turks"
   ]
  },
  {
   "cell_type": "code",
   "execution_count": 25,
   "metadata": {},
   "outputs": [
    {
     "output_type": "execute_result",
     "data": {
      "text/plain": [
       "       Number of Ratings  Average Correctness of Ratings       Odds  \\\n",
       "63                    29                        0.517241   1.069214   \n",
       "300                   29                        0.517241   1.069214   \n",
       "435                   29                        0.517241   1.069214   \n",
       "445                   29                        0.517241   1.069214   \n",
       "660                   29                        0.517241   1.069214   \n",
       "...                  ...                             ...        ...   \n",
       "90172                 15                        0.933333  13.793103   \n",
       "90173                 15                        0.933333  13.793103   \n",
       "90188                 15                        0.933333  13.793103   \n",
       "90189                 15                        0.933333  13.793103   \n",
       "90201                 15                        0.933333  13.793103   \n",
       "\n",
       "                 turk                                                url  \\\n",
       "63     A1253FXHCZ9CWM  http://007absolutehardcore.com/early_cumshots/...   \n",
       "300    A1253FXHCZ9CWM                              http://10000birds.com   \n",
       "435    A1253FXHCZ9CWM    http://101fetishes.com/femdomtorture/portal.htm   \n",
       "445    A1253FXHCZ9CWM                           http://101greatgoals.com   \n",
       "660    A1253FXHCZ9CWM                               http://123movers.com   \n",
       "...               ...                                                ...   \n",
       "90172         amurray                       http://www.blazzpage.7p.com/   \n",
       "90173         amurray                      http://www.byroncrawford.com/   \n",
       "90188         amurray                    http://www.freelayouticons.com/   \n",
       "90189         amurray               http://www.hollywoodtuna.com/?p=4729   \n",
       "90201         amurray  http://www.ninjadude.com/index.php/joss-stone-...   \n",
       "\n",
       "      category  \n",
       "63           P  \n",
       "300          G  \n",
       "435          X  \n",
       "445          G  \n",
       "660          G  \n",
       "...        ...  \n",
       "90172        G  \n",
       "90173        P  \n",
       "90188        P  \n",
       "90189        R  \n",
       "90201        R  \n",
       "\n",
       "[40621 rows x 6 columns]"
      ],
      "text/html": "<div>\n<style scoped>\n    .dataframe tbody tr th:only-of-type {\n        vertical-align: middle;\n    }\n\n    .dataframe tbody tr th {\n        vertical-align: top;\n    }\n\n    .dataframe thead th {\n        text-align: right;\n    }\n</style>\n<table border=\"1\" class=\"dataframe\">\n  <thead>\n    <tr style=\"text-align: right;\">\n      <th></th>\n      <th>Number of Ratings</th>\n      <th>Average Correctness of Ratings</th>\n      <th>Odds</th>\n      <th>turk</th>\n      <th>url</th>\n      <th>category</th>\n    </tr>\n  </thead>\n  <tbody>\n    <tr>\n      <th>63</th>\n      <td>29</td>\n      <td>0.517241</td>\n      <td>1.069214</td>\n      <td>A1253FXHCZ9CWM</td>\n      <td>http://007absolutehardcore.com/early_cumshots/...</td>\n      <td>P</td>\n    </tr>\n    <tr>\n      <th>300</th>\n      <td>29</td>\n      <td>0.517241</td>\n      <td>1.069214</td>\n      <td>A1253FXHCZ9CWM</td>\n      <td>http://10000birds.com</td>\n      <td>G</td>\n    </tr>\n    <tr>\n      <th>435</th>\n      <td>29</td>\n      <td>0.517241</td>\n      <td>1.069214</td>\n      <td>A1253FXHCZ9CWM</td>\n      <td>http://101fetishes.com/femdomtorture/portal.htm</td>\n      <td>X</td>\n    </tr>\n    <tr>\n      <th>445</th>\n      <td>29</td>\n      <td>0.517241</td>\n      <td>1.069214</td>\n      <td>A1253FXHCZ9CWM</td>\n      <td>http://101greatgoals.com</td>\n      <td>G</td>\n    </tr>\n    <tr>\n      <th>660</th>\n      <td>29</td>\n      <td>0.517241</td>\n      <td>1.069214</td>\n      <td>A1253FXHCZ9CWM</td>\n      <td>http://123movers.com</td>\n      <td>G</td>\n    </tr>\n    <tr>\n      <th>...</th>\n      <td>...</td>\n      <td>...</td>\n      <td>...</td>\n      <td>...</td>\n      <td>...</td>\n      <td>...</td>\n    </tr>\n    <tr>\n      <th>90172</th>\n      <td>15</td>\n      <td>0.933333</td>\n      <td>13.793103</td>\n      <td>amurray</td>\n      <td>http://www.blazzpage.7p.com/</td>\n      <td>G</td>\n    </tr>\n    <tr>\n      <th>90173</th>\n      <td>15</td>\n      <td>0.933333</td>\n      <td>13.793103</td>\n      <td>amurray</td>\n      <td>http://www.byroncrawford.com/</td>\n      <td>P</td>\n    </tr>\n    <tr>\n      <th>90188</th>\n      <td>15</td>\n      <td>0.933333</td>\n      <td>13.793103</td>\n      <td>amurray</td>\n      <td>http://www.freelayouticons.com/</td>\n      <td>P</td>\n    </tr>\n    <tr>\n      <th>90189</th>\n      <td>15</td>\n      <td>0.933333</td>\n      <td>13.793103</td>\n      <td>amurray</td>\n      <td>http://www.hollywoodtuna.com/?p=4729</td>\n      <td>R</td>\n    </tr>\n    <tr>\n      <th>90201</th>\n      <td>15</td>\n      <td>0.933333</td>\n      <td>13.793103</td>\n      <td>amurray</td>\n      <td>http://www.ninjadude.com/index.php/joss-stone-...</td>\n      <td>R</td>\n    </tr>\n  </tbody>\n</table>\n<p>40621 rows × 6 columns</p>\n</div>"
     },
     "metadata": {},
     "execution_count": 25
    }
   ],
   "source": [
    "turk_group = pd.merge(active_turks, labels_unknown, left_index=True, right_on='turk')\n",
    "turk_group"
   ]
  },
  {
   "cell_type": "code",
   "execution_count": 26,
   "metadata": {},
   "outputs": [
    {
     "output_type": "execute_result",
     "data": {
      "text/plain": [
       "                               url category       prod\n",
       "0                 http://0-101.net        G   2.155963\n",
       "1                    http://000.cc        G   1.460583\n",
       "2                   http://0000.jp        G  14.488244\n",
       "3      http://000relationships.com        G   5.681060\n",
       "4      http://000relationships.com        P   1.851852\n",
       "...                            ...      ...        ...\n",
       "13978             http://zynga.com        G   3.704611\n",
       "13979             http://zz868.com        G   1.047852\n",
       "13980             http://zz868.com        P   1.851852\n",
       "13981                http://zzx.cc        G   1.330229\n",
       "13982                http://zzx.cc        X   1.620746\n",
       "\n",
       "[13983 rows x 3 columns]"
      ],
      "text/html": "<div>\n<style scoped>\n    .dataframe tbody tr th:only-of-type {\n        vertical-align: middle;\n    }\n\n    .dataframe tbody tr th {\n        vertical-align: top;\n    }\n\n    .dataframe thead th {\n        text-align: right;\n    }\n</style>\n<table border=\"1\" class=\"dataframe\">\n  <thead>\n    <tr style=\"text-align: right;\">\n      <th></th>\n      <th>url</th>\n      <th>category</th>\n      <th>prod</th>\n    </tr>\n  </thead>\n  <tbody>\n    <tr>\n      <th>0</th>\n      <td>http://0-101.net</td>\n      <td>G</td>\n      <td>2.155963</td>\n    </tr>\n    <tr>\n      <th>1</th>\n      <td>http://000.cc</td>\n      <td>G</td>\n      <td>1.460583</td>\n    </tr>\n    <tr>\n      <th>2</th>\n      <td>http://0000.jp</td>\n      <td>G</td>\n      <td>14.488244</td>\n    </tr>\n    <tr>\n      <th>3</th>\n      <td>http://000relationships.com</td>\n      <td>G</td>\n      <td>5.681060</td>\n    </tr>\n    <tr>\n      <th>4</th>\n      <td>http://000relationships.com</td>\n      <td>P</td>\n      <td>1.851852</td>\n    </tr>\n    <tr>\n      <th>...</th>\n      <td>...</td>\n      <td>...</td>\n      <td>...</td>\n    </tr>\n    <tr>\n      <th>13978</th>\n      <td>http://zynga.com</td>\n      <td>G</td>\n      <td>3.704611</td>\n    </tr>\n    <tr>\n      <th>13979</th>\n      <td>http://zz868.com</td>\n      <td>G</td>\n      <td>1.047852</td>\n    </tr>\n    <tr>\n      <th>13980</th>\n      <td>http://zz868.com</td>\n      <td>P</td>\n      <td>1.851852</td>\n    </tr>\n    <tr>\n      <th>13981</th>\n      <td>http://zzx.cc</td>\n      <td>G</td>\n      <td>1.330229</td>\n    </tr>\n    <tr>\n      <th>13982</th>\n      <td>http://zzx.cc</td>\n      <td>X</td>\n      <td>1.620746</td>\n    </tr>\n  </tbody>\n</table>\n<p>13983 rows × 3 columns</p>\n</div>"
     },
     "metadata": {},
     "execution_count": 26
    }
   ],
   "source": [
    "product_odds = turk_group.groupby([\"url\",\"category\"])[\"Odds\"].agg([\"prod\"])\n",
    "product_odds.reset_index(inplace = True)\n",
    "product_odds"
   ]
  },
  {
   "source": [
    "# Q8"
   ],
   "cell_type": "markdown",
   "metadata": {}
  },
  {
   "cell_type": "code",
   "execution_count": 27,
   "metadata": {},
   "outputs": [
    {
     "output_type": "execute_result",
     "data": {
      "text/plain": [
       "                                   max category       prod\n",
       "url                                                       \n",
       "http://0-101.net              2.155963        G   2.155963\n",
       "http://000.cc                 1.460583        G   1.460583\n",
       "http://0000.jp               14.488244        G  14.488244\n",
       "http://000relationships.com   5.681060        G   5.681060\n",
       "http://000vitamins.com        3.784982        G   3.784982\n",
       "...                                ...      ...        ...\n",
       "http://zwinky.com            16.141443        G  16.141443\n",
       "http://zylom.com              1.735526        G   1.735526\n",
       "http://zynga.com              3.704611        G   3.704611\n",
       "http://zz868.com              1.851852        P   1.851852\n",
       "http://zzx.cc                 1.620746        X   1.620746\n",
       "\n",
       "[10612 rows x 3 columns]"
      ],
      "text/html": "<div>\n<style scoped>\n    .dataframe tbody tr th:only-of-type {\n        vertical-align: middle;\n    }\n\n    .dataframe tbody tr th {\n        vertical-align: top;\n    }\n\n    .dataframe thead th {\n        text-align: right;\n    }\n</style>\n<table border=\"1\" class=\"dataframe\">\n  <thead>\n    <tr style=\"text-align: right;\">\n      <th></th>\n      <th>max</th>\n      <th>category</th>\n      <th>prod</th>\n    </tr>\n    <tr>\n      <th>url</th>\n      <th></th>\n      <th></th>\n      <th></th>\n    </tr>\n  </thead>\n  <tbody>\n    <tr>\n      <th>http://0-101.net</th>\n      <td>2.155963</td>\n      <td>G</td>\n      <td>2.155963</td>\n    </tr>\n    <tr>\n      <th>http://000.cc</th>\n      <td>1.460583</td>\n      <td>G</td>\n      <td>1.460583</td>\n    </tr>\n    <tr>\n      <th>http://0000.jp</th>\n      <td>14.488244</td>\n      <td>G</td>\n      <td>14.488244</td>\n    </tr>\n    <tr>\n      <th>http://000relationships.com</th>\n      <td>5.681060</td>\n      <td>G</td>\n      <td>5.681060</td>\n    </tr>\n    <tr>\n      <th>http://000vitamins.com</th>\n      <td>3.784982</td>\n      <td>G</td>\n      <td>3.784982</td>\n    </tr>\n    <tr>\n      <th>...</th>\n      <td>...</td>\n      <td>...</td>\n      <td>...</td>\n    </tr>\n    <tr>\n      <th>http://zwinky.com</th>\n      <td>16.141443</td>\n      <td>G</td>\n      <td>16.141443</td>\n    </tr>\n    <tr>\n      <th>http://zylom.com</th>\n      <td>1.735526</td>\n      <td>G</td>\n      <td>1.735526</td>\n    </tr>\n    <tr>\n      <th>http://zynga.com</th>\n      <td>3.704611</td>\n      <td>G</td>\n      <td>3.704611</td>\n    </tr>\n    <tr>\n      <th>http://zz868.com</th>\n      <td>1.851852</td>\n      <td>P</td>\n      <td>1.851852</td>\n    </tr>\n    <tr>\n      <th>http://zzx.cc</th>\n      <td>1.620746</td>\n      <td>X</td>\n      <td>1.620746</td>\n    </tr>\n  </tbody>\n</table>\n<p>10612 rows × 3 columns</p>\n</div>"
     },
     "metadata": {},
     "execution_count": 27
    }
   ],
   "source": [
    "x = product_odds.groupby(\"url\")[\"prod\"].agg([\"max\"]).reset_index()\n",
    "q8 = pd.merge(x,product_odds, left_on = [\"url\",\"max\"], right_on = [\"url\", \"prod\"])\n",
    "q8 = q8.set_index(\"url\")\n",
    "q8"
   ]
  },
  {
   "cell_type": "code",
   "execution_count": 28,
   "metadata": {},
   "outputs": [
    {
     "output_type": "execute_result",
     "data": {
      "text/plain": [
       "                            top category   top odds\n",
       "url                                                \n",
       "http://0-101.net                       G   2.155963\n",
       "http://000.cc                          G   1.460583\n",
       "http://0000.jp                         G  14.488244\n",
       "http://000relationships.com            G   5.681060\n",
       "http://000vitamins.com                 G   3.784982\n",
       "...                                  ...        ...\n",
       "http://zwinky.com                      G  16.141443\n",
       "http://zylom.com                       G   1.735526\n",
       "http://zynga.com                       G   3.704611\n",
       "http://zz868.com                       P   1.851852\n",
       "http://zzx.cc                          X   1.620746\n",
       "\n",
       "[10612 rows x 2 columns]"
      ],
      "text/html": "<div>\n<style scoped>\n    .dataframe tbody tr th:only-of-type {\n        vertical-align: middle;\n    }\n\n    .dataframe tbody tr th {\n        vertical-align: top;\n    }\n\n    .dataframe thead th {\n        text-align: right;\n    }\n</style>\n<table border=\"1\" class=\"dataframe\">\n  <thead>\n    <tr style=\"text-align: right;\">\n      <th></th>\n      <th>top category</th>\n      <th>top odds</th>\n    </tr>\n    <tr>\n      <th>url</th>\n      <th></th>\n      <th></th>\n    </tr>\n  </thead>\n  <tbody>\n    <tr>\n      <th>http://0-101.net</th>\n      <td>G</td>\n      <td>2.155963</td>\n    </tr>\n    <tr>\n      <th>http://000.cc</th>\n      <td>G</td>\n      <td>1.460583</td>\n    </tr>\n    <tr>\n      <th>http://0000.jp</th>\n      <td>G</td>\n      <td>14.488244</td>\n    </tr>\n    <tr>\n      <th>http://000relationships.com</th>\n      <td>G</td>\n      <td>5.681060</td>\n    </tr>\n    <tr>\n      <th>http://000vitamins.com</th>\n      <td>G</td>\n      <td>3.784982</td>\n    </tr>\n    <tr>\n      <th>...</th>\n      <td>...</td>\n      <td>...</td>\n    </tr>\n    <tr>\n      <th>http://zwinky.com</th>\n      <td>G</td>\n      <td>16.141443</td>\n    </tr>\n    <tr>\n      <th>http://zylom.com</th>\n      <td>G</td>\n      <td>1.735526</td>\n    </tr>\n    <tr>\n      <th>http://zynga.com</th>\n      <td>G</td>\n      <td>3.704611</td>\n    </tr>\n    <tr>\n      <th>http://zz868.com</th>\n      <td>P</td>\n      <td>1.851852</td>\n    </tr>\n    <tr>\n      <th>http://zzx.cc</th>\n      <td>X</td>\n      <td>1.620746</td>\n    </tr>\n  </tbody>\n</table>\n<p>10612 rows × 2 columns</p>\n</div>"
     },
     "metadata": {},
     "execution_count": 28
    }
   ],
   "source": [
    "result_75 = pd.DataFrame(q8[[\"category\",\"max\"]])\n",
    "result_75.columns = [\"top category\",\"top odds\"]\n",
    "result_75"
   ]
  },
  {
   "source": [
    "# Q9"
   ],
   "cell_type": "markdown",
   "metadata": {}
  },
  {
   "cell_type": "code",
   "execution_count": 29,
   "metadata": {},
   "outputs": [
    {
     "output_type": "execute_result",
     "data": {
      "text/plain": [
       "                Number of Ratings  Average Correctness of Ratings         Odds\n",
       "turk                                                                          \n",
       "A1253FXHCZ9CWM                 29                        0.517241     1.069214\n",
       "A12RE8G66WTO8B                 20                        0.750000     2.988048\n",
       "A12Y1GTGIQDGRA                  3                        0.333333     0.499251\n",
       "A13OE9GBRJ0S2U                  4                        0.750000     2.988048\n",
       "A153PKAL7OAY36                148                        0.722973     2.600369\n",
       "...                           ...                             ...          ...\n",
       "AYUOM6WFSVC1C                   2                        1.000000  1000.000000\n",
       "AZ1S5BIG5R6P6                  35                        0.714286     2.491281\n",
       "AZSDW7JJL5VA7                 100                        0.680000     2.118380\n",
       "AZVB3RZW0OR1H                   3                        0.666667     1.994018\n",
       "amurray                        15                        0.933333    13.793103\n",
       "\n",
       "[173 rows x 3 columns]"
      ],
      "text/html": "<div>\n<style scoped>\n    .dataframe tbody tr th:only-of-type {\n        vertical-align: middle;\n    }\n\n    .dataframe tbody tr th {\n        vertical-align: top;\n    }\n\n    .dataframe thead th {\n        text-align: right;\n    }\n</style>\n<table border=\"1\" class=\"dataframe\">\n  <thead>\n    <tr style=\"text-align: right;\">\n      <th></th>\n      <th>Number of Ratings</th>\n      <th>Average Correctness of Ratings</th>\n      <th>Odds</th>\n    </tr>\n    <tr>\n      <th>turk</th>\n      <th></th>\n      <th></th>\n      <th></th>\n    </tr>\n  </thead>\n  <tbody>\n    <tr>\n      <th>A1253FXHCZ9CWM</th>\n      <td>29</td>\n      <td>0.517241</td>\n      <td>1.069214</td>\n    </tr>\n    <tr>\n      <th>A12RE8G66WTO8B</th>\n      <td>20</td>\n      <td>0.750000</td>\n      <td>2.988048</td>\n    </tr>\n    <tr>\n      <th>A12Y1GTGIQDGRA</th>\n      <td>3</td>\n      <td>0.333333</td>\n      <td>0.499251</td>\n    </tr>\n    <tr>\n      <th>A13OE9GBRJ0S2U</th>\n      <td>4</td>\n      <td>0.750000</td>\n      <td>2.988048</td>\n    </tr>\n    <tr>\n      <th>A153PKAL7OAY36</th>\n      <td>148</td>\n      <td>0.722973</td>\n      <td>2.600369</td>\n    </tr>\n    <tr>\n      <th>...</th>\n      <td>...</td>\n      <td>...</td>\n      <td>...</td>\n    </tr>\n    <tr>\n      <th>AYUOM6WFSVC1C</th>\n      <td>2</td>\n      <td>1.000000</td>\n      <td>1000.000000</td>\n    </tr>\n    <tr>\n      <th>AZ1S5BIG5R6P6</th>\n      <td>35</td>\n      <td>0.714286</td>\n      <td>2.491281</td>\n    </tr>\n    <tr>\n      <th>AZSDW7JJL5VA7</th>\n      <td>100</td>\n      <td>0.680000</td>\n      <td>2.118380</td>\n    </tr>\n    <tr>\n      <th>AZVB3RZW0OR1H</th>\n      <td>3</td>\n      <td>0.666667</td>\n      <td>1.994018</td>\n    </tr>\n    <tr>\n      <th>amurray</th>\n      <td>15</td>\n      <td>0.933333</td>\n      <td>13.793103</td>\n    </tr>\n  </tbody>\n</table>\n<p>173 rows × 3 columns</p>\n</div>"
     },
     "metadata": {},
     "execution_count": 29
    }
   ],
   "source": [
    "turks_25 = rater_goodness[rater_goodness[\"Number of Ratings\"] > rater_goodness[\"Number of Ratings\"].quantile(0.25)]\n",
    "turks_25"
   ]
  },
  {
   "cell_type": "code",
   "execution_count": 30,
   "metadata": {},
   "outputs": [
    {
     "output_type": "execute_result",
     "data": {
      "text/plain": [
       "       Number of Ratings  Average Correctness of Ratings       Odds  \\\n",
       "63                    29                        0.517241   1.069214   \n",
       "300                   29                        0.517241   1.069214   \n",
       "435                   29                        0.517241   1.069214   \n",
       "445                   29                        0.517241   1.069214   \n",
       "660                   29                        0.517241   1.069214   \n",
       "...                  ...                             ...        ...   \n",
       "90172                 15                        0.933333  13.793103   \n",
       "90173                 15                        0.933333  13.793103   \n",
       "90188                 15                        0.933333  13.793103   \n",
       "90189                 15                        0.933333  13.793103   \n",
       "90201                 15                        0.933333  13.793103   \n",
       "\n",
       "                 turk                                                url  \\\n",
       "63     A1253FXHCZ9CWM  http://007absolutehardcore.com/early_cumshots/...   \n",
       "300    A1253FXHCZ9CWM                              http://10000birds.com   \n",
       "435    A1253FXHCZ9CWM    http://101fetishes.com/femdomtorture/portal.htm   \n",
       "445    A1253FXHCZ9CWM                           http://101greatgoals.com   \n",
       "660    A1253FXHCZ9CWM                               http://123movers.com   \n",
       "...               ...                                                ...   \n",
       "90172         amurray                       http://www.blazzpage.7p.com/   \n",
       "90173         amurray                      http://www.byroncrawford.com/   \n",
       "90188         amurray                    http://www.freelayouticons.com/   \n",
       "90189         amurray               http://www.hollywoodtuna.com/?p=4729   \n",
       "90201         amurray  http://www.ninjadude.com/index.php/joss-stone-...   \n",
       "\n",
       "      category  \n",
       "63           P  \n",
       "300          G  \n",
       "435          X  \n",
       "445          G  \n",
       "660          G  \n",
       "...        ...  \n",
       "90172        G  \n",
       "90173        P  \n",
       "90188        P  \n",
       "90189        R  \n",
       "90201        R  \n",
       "\n",
       "[66210 rows x 6 columns]"
      ],
      "text/html": "<div>\n<style scoped>\n    .dataframe tbody tr th:only-of-type {\n        vertical-align: middle;\n    }\n\n    .dataframe tbody tr th {\n        vertical-align: top;\n    }\n\n    .dataframe thead th {\n        text-align: right;\n    }\n</style>\n<table border=\"1\" class=\"dataframe\">\n  <thead>\n    <tr style=\"text-align: right;\">\n      <th></th>\n      <th>Number of Ratings</th>\n      <th>Average Correctness of Ratings</th>\n      <th>Odds</th>\n      <th>turk</th>\n      <th>url</th>\n      <th>category</th>\n    </tr>\n  </thead>\n  <tbody>\n    <tr>\n      <th>63</th>\n      <td>29</td>\n      <td>0.517241</td>\n      <td>1.069214</td>\n      <td>A1253FXHCZ9CWM</td>\n      <td>http://007absolutehardcore.com/early_cumshots/...</td>\n      <td>P</td>\n    </tr>\n    <tr>\n      <th>300</th>\n      <td>29</td>\n      <td>0.517241</td>\n      <td>1.069214</td>\n      <td>A1253FXHCZ9CWM</td>\n      <td>http://10000birds.com</td>\n      <td>G</td>\n    </tr>\n    <tr>\n      <th>435</th>\n      <td>29</td>\n      <td>0.517241</td>\n      <td>1.069214</td>\n      <td>A1253FXHCZ9CWM</td>\n      <td>http://101fetishes.com/femdomtorture/portal.htm</td>\n      <td>X</td>\n    </tr>\n    <tr>\n      <th>445</th>\n      <td>29</td>\n      <td>0.517241</td>\n      <td>1.069214</td>\n      <td>A1253FXHCZ9CWM</td>\n      <td>http://101greatgoals.com</td>\n      <td>G</td>\n    </tr>\n    <tr>\n      <th>660</th>\n      <td>29</td>\n      <td>0.517241</td>\n      <td>1.069214</td>\n      <td>A1253FXHCZ9CWM</td>\n      <td>http://123movers.com</td>\n      <td>G</td>\n    </tr>\n    <tr>\n      <th>...</th>\n      <td>...</td>\n      <td>...</td>\n      <td>...</td>\n      <td>...</td>\n      <td>...</td>\n      <td>...</td>\n    </tr>\n    <tr>\n      <th>90172</th>\n      <td>15</td>\n      <td>0.933333</td>\n      <td>13.793103</td>\n      <td>amurray</td>\n      <td>http://www.blazzpage.7p.com/</td>\n      <td>G</td>\n    </tr>\n    <tr>\n      <th>90173</th>\n      <td>15</td>\n      <td>0.933333</td>\n      <td>13.793103</td>\n      <td>amurray</td>\n      <td>http://www.byroncrawford.com/</td>\n      <td>P</td>\n    </tr>\n    <tr>\n      <th>90188</th>\n      <td>15</td>\n      <td>0.933333</td>\n      <td>13.793103</td>\n      <td>amurray</td>\n      <td>http://www.freelayouticons.com/</td>\n      <td>P</td>\n    </tr>\n    <tr>\n      <th>90189</th>\n      <td>15</td>\n      <td>0.933333</td>\n      <td>13.793103</td>\n      <td>amurray</td>\n      <td>http://www.hollywoodtuna.com/?p=4729</td>\n      <td>R</td>\n    </tr>\n    <tr>\n      <th>90201</th>\n      <td>15</td>\n      <td>0.933333</td>\n      <td>13.793103</td>\n      <td>amurray</td>\n      <td>http://www.ninjadude.com/index.php/joss-stone-...</td>\n      <td>R</td>\n    </tr>\n  </tbody>\n</table>\n<p>66210 rows × 6 columns</p>\n</div>"
     },
     "metadata": {},
     "execution_count": 30
    }
   ],
   "source": [
    "turk25_group = pd.merge(turks_25, labels_unknown, left_index=True, right_on='turk')\n",
    "turk25_group"
   ]
  },
  {
   "cell_type": "code",
   "execution_count": 31,
   "metadata": {},
   "outputs": [
    {
     "output_type": "execute_result",
     "data": {
      "text/plain": [
       "                               url category          prod\n",
       "0                 http://0-101.net        G  2.155963e+00\n",
       "1                    http://000.cc        G  2.181050e+03\n",
       "2                    http://000.cc        P  9.980040e-01\n",
       "3                   http://0000.jp        G  2.877556e+07\n",
       "4      http://000relationships.com        G  0.000000e+00\n",
       "...                            ...      ...           ...\n",
       "16685             http://zz868.com        G  1.209566e+13\n",
       "16686             http://zz868.com        P  1.851852e+00\n",
       "16687                http://zzx.cc        G  1.330229e+00\n",
       "16688                http://zzx.cc        P  9.980040e-01\n",
       "16689                http://zzx.cc        X  1.620746e+00\n",
       "\n",
       "[16690 rows x 3 columns]"
      ],
      "text/html": "<div>\n<style scoped>\n    .dataframe tbody tr th:only-of-type {\n        vertical-align: middle;\n    }\n\n    .dataframe tbody tr th {\n        vertical-align: top;\n    }\n\n    .dataframe thead th {\n        text-align: right;\n    }\n</style>\n<table border=\"1\" class=\"dataframe\">\n  <thead>\n    <tr style=\"text-align: right;\">\n      <th></th>\n      <th>url</th>\n      <th>category</th>\n      <th>prod</th>\n    </tr>\n  </thead>\n  <tbody>\n    <tr>\n      <th>0</th>\n      <td>http://0-101.net</td>\n      <td>G</td>\n      <td>2.155963e+00</td>\n    </tr>\n    <tr>\n      <th>1</th>\n      <td>http://000.cc</td>\n      <td>G</td>\n      <td>2.181050e+03</td>\n    </tr>\n    <tr>\n      <th>2</th>\n      <td>http://000.cc</td>\n      <td>P</td>\n      <td>9.980040e-01</td>\n    </tr>\n    <tr>\n      <th>3</th>\n      <td>http://0000.jp</td>\n      <td>G</td>\n      <td>2.877556e+07</td>\n    </tr>\n    <tr>\n      <th>4</th>\n      <td>http://000relationships.com</td>\n      <td>G</td>\n      <td>0.000000e+00</td>\n    </tr>\n    <tr>\n      <th>...</th>\n      <td>...</td>\n      <td>...</td>\n      <td>...</td>\n    </tr>\n    <tr>\n      <th>16685</th>\n      <td>http://zz868.com</td>\n      <td>G</td>\n      <td>1.209566e+13</td>\n    </tr>\n    <tr>\n      <th>16686</th>\n      <td>http://zz868.com</td>\n      <td>P</td>\n      <td>1.851852e+00</td>\n    </tr>\n    <tr>\n      <th>16687</th>\n      <td>http://zzx.cc</td>\n      <td>G</td>\n      <td>1.330229e+00</td>\n    </tr>\n    <tr>\n      <th>16688</th>\n      <td>http://zzx.cc</td>\n      <td>P</td>\n      <td>9.980040e-01</td>\n    </tr>\n    <tr>\n      <th>16689</th>\n      <td>http://zzx.cc</td>\n      <td>X</td>\n      <td>1.620746e+00</td>\n    </tr>\n  </tbody>\n</table>\n<p>16690 rows × 3 columns</p>\n</div>"
     },
     "metadata": {},
     "execution_count": 31
    }
   ],
   "source": [
    "product_odds25 = turk25_group.groupby([\"url\",\"category\"])[\"Odds\"].agg([\"prod\"])\n",
    "product_odds25.reset_index(inplace = True)\n",
    "product_odds25"
   ]
  },
  {
   "cell_type": "code",
   "execution_count": 32,
   "metadata": {},
   "outputs": [
    {
     "output_type": "execute_result",
     "data": {
      "text/plain": [
       "                                      max category          prod\n",
       "url                                                             \n",
       "http://0-101.net             2.155963e+00        G  2.155963e+00\n",
       "http://000.cc                2.181050e+03        G  2.181050e+03\n",
       "http://0000.jp               2.877556e+07        G  2.877556e+07\n",
       "http://000relationships.com  1.851852e+00        P  1.851852e+00\n",
       "http://000vitamins.com       5.014149e+00        G  5.014149e+00\n",
       "...                                   ...      ...           ...\n",
       "http://zwinky.com            1.000000e+03        P  1.000000e+03\n",
       "http://zylom.com             2.873345e+03        G  2.873345e+03\n",
       "http://zynga.com             5.442125e+01        G  5.442125e+01\n",
       "http://zz868.com             1.209566e+13        G  1.209566e+13\n",
       "http://zzx.cc                1.620746e+00        X  1.620746e+00\n",
       "\n",
       "[10709 rows x 3 columns]"
      ],
      "text/html": "<div>\n<style scoped>\n    .dataframe tbody tr th:only-of-type {\n        vertical-align: middle;\n    }\n\n    .dataframe tbody tr th {\n        vertical-align: top;\n    }\n\n    .dataframe thead th {\n        text-align: right;\n    }\n</style>\n<table border=\"1\" class=\"dataframe\">\n  <thead>\n    <tr style=\"text-align: right;\">\n      <th></th>\n      <th>max</th>\n      <th>category</th>\n      <th>prod</th>\n    </tr>\n    <tr>\n      <th>url</th>\n      <th></th>\n      <th></th>\n      <th></th>\n    </tr>\n  </thead>\n  <tbody>\n    <tr>\n      <th>http://0-101.net</th>\n      <td>2.155963e+00</td>\n      <td>G</td>\n      <td>2.155963e+00</td>\n    </tr>\n    <tr>\n      <th>http://000.cc</th>\n      <td>2.181050e+03</td>\n      <td>G</td>\n      <td>2.181050e+03</td>\n    </tr>\n    <tr>\n      <th>http://0000.jp</th>\n      <td>2.877556e+07</td>\n      <td>G</td>\n      <td>2.877556e+07</td>\n    </tr>\n    <tr>\n      <th>http://000relationships.com</th>\n      <td>1.851852e+00</td>\n      <td>P</td>\n      <td>1.851852e+00</td>\n    </tr>\n    <tr>\n      <th>http://000vitamins.com</th>\n      <td>5.014149e+00</td>\n      <td>G</td>\n      <td>5.014149e+00</td>\n    </tr>\n    <tr>\n      <th>...</th>\n      <td>...</td>\n      <td>...</td>\n      <td>...</td>\n    </tr>\n    <tr>\n      <th>http://zwinky.com</th>\n      <td>1.000000e+03</td>\n      <td>P</td>\n      <td>1.000000e+03</td>\n    </tr>\n    <tr>\n      <th>http://zylom.com</th>\n      <td>2.873345e+03</td>\n      <td>G</td>\n      <td>2.873345e+03</td>\n    </tr>\n    <tr>\n      <th>http://zynga.com</th>\n      <td>5.442125e+01</td>\n      <td>G</td>\n      <td>5.442125e+01</td>\n    </tr>\n    <tr>\n      <th>http://zz868.com</th>\n      <td>1.209566e+13</td>\n      <td>G</td>\n      <td>1.209566e+13</td>\n    </tr>\n    <tr>\n      <th>http://zzx.cc</th>\n      <td>1.620746e+00</td>\n      <td>X</td>\n      <td>1.620746e+00</td>\n    </tr>\n  </tbody>\n</table>\n<p>10709 rows × 3 columns</p>\n</div>"
     },
     "metadata": {},
     "execution_count": 32
    }
   ],
   "source": [
    "x = product_odds25.groupby(\"url\")[\"prod\"].agg([\"max\"]).reset_index()\n",
    "q9 = pd.merge(x,product_odds25, left_on = [\"url\",\"max\"], right_on = [\"url\", \"prod\"])\n",
    "q9 = q9.set_index(\"url\")\n",
    "q9"
   ]
  },
  {
   "cell_type": "code",
   "execution_count": 33,
   "metadata": {},
   "outputs": [
    {
     "output_type": "execute_result",
     "data": {
      "text/plain": [
       "                            top category      top odds\n",
       "url                                                   \n",
       "http://0-101.net                       G  2.155963e+00\n",
       "http://000.cc                          G  2.181050e+03\n",
       "http://0000.jp                         G  2.877556e+07\n",
       "http://000relationships.com            P  1.851852e+00\n",
       "http://000vitamins.com                 G  5.014149e+00\n",
       "...                                  ...           ...\n",
       "http://zwinky.com                      P  1.000000e+03\n",
       "http://zylom.com                       G  2.873345e+03\n",
       "http://zynga.com                       G  5.442125e+01\n",
       "http://zz868.com                       G  1.209566e+13\n",
       "http://zzx.cc                          X  1.620746e+00\n",
       "\n",
       "[10709 rows x 2 columns]"
      ],
      "text/html": "<div>\n<style scoped>\n    .dataframe tbody tr th:only-of-type {\n        vertical-align: middle;\n    }\n\n    .dataframe tbody tr th {\n        vertical-align: top;\n    }\n\n    .dataframe thead th {\n        text-align: right;\n    }\n</style>\n<table border=\"1\" class=\"dataframe\">\n  <thead>\n    <tr style=\"text-align: right;\">\n      <th></th>\n      <th>top category</th>\n      <th>top odds</th>\n    </tr>\n    <tr>\n      <th>url</th>\n      <th></th>\n      <th></th>\n    </tr>\n  </thead>\n  <tbody>\n    <tr>\n      <th>http://0-101.net</th>\n      <td>G</td>\n      <td>2.155963e+00</td>\n    </tr>\n    <tr>\n      <th>http://000.cc</th>\n      <td>G</td>\n      <td>2.181050e+03</td>\n    </tr>\n    <tr>\n      <th>http://0000.jp</th>\n      <td>G</td>\n      <td>2.877556e+07</td>\n    </tr>\n    <tr>\n      <th>http://000relationships.com</th>\n      <td>P</td>\n      <td>1.851852e+00</td>\n    </tr>\n    <tr>\n      <th>http://000vitamins.com</th>\n      <td>G</td>\n      <td>5.014149e+00</td>\n    </tr>\n    <tr>\n      <th>...</th>\n      <td>...</td>\n      <td>...</td>\n    </tr>\n    <tr>\n      <th>http://zwinky.com</th>\n      <td>P</td>\n      <td>1.000000e+03</td>\n    </tr>\n    <tr>\n      <th>http://zylom.com</th>\n      <td>G</td>\n      <td>2.873345e+03</td>\n    </tr>\n    <tr>\n      <th>http://zynga.com</th>\n      <td>G</td>\n      <td>5.442125e+01</td>\n    </tr>\n    <tr>\n      <th>http://zz868.com</th>\n      <td>G</td>\n      <td>1.209566e+13</td>\n    </tr>\n    <tr>\n      <th>http://zzx.cc</th>\n      <td>X</td>\n      <td>1.620746e+00</td>\n    </tr>\n  </tbody>\n</table>\n<p>10709 rows × 2 columns</p>\n</div>"
     },
     "metadata": {},
     "execution_count": 33
    }
   ],
   "source": [
    "result_25 = pd.DataFrame(q9[[\"category\",\"max\"]])\n",
    "result_25.columns = [\"top category\",\"top odds\"]\n",
    "result_25"
   ]
  },
  {
   "cell_type": "code",
   "execution_count": 39,
   "metadata": {},
   "outputs": [
    {
     "output_type": "execute_result",
     "data": {
      "text/plain": [
       "25%ile     G    P    R    X\n",
       "75%ile                     \n",
       "G       7510  830  340  623\n",
       "P        471   57   28   29\n",
       "R        171   16    8   13\n",
       "X        406   39   15   56"
      ],
      "text/html": "<div>\n<style scoped>\n    .dataframe tbody tr th:only-of-type {\n        vertical-align: middle;\n    }\n\n    .dataframe tbody tr th {\n        vertical-align: top;\n    }\n\n    .dataframe thead th {\n        text-align: right;\n    }\n</style>\n<table border=\"1\" class=\"dataframe\">\n  <thead>\n    <tr style=\"text-align: right;\">\n      <th>25%ile</th>\n      <th>G</th>\n      <th>P</th>\n      <th>R</th>\n      <th>X</th>\n    </tr>\n    <tr>\n      <th>75%ile</th>\n      <th></th>\n      <th></th>\n      <th></th>\n      <th></th>\n    </tr>\n  </thead>\n  <tbody>\n    <tr>\n      <th>G</th>\n      <td>7510</td>\n      <td>830</td>\n      <td>340</td>\n      <td>623</td>\n    </tr>\n    <tr>\n      <th>P</th>\n      <td>471</td>\n      <td>57</td>\n      <td>28</td>\n      <td>29</td>\n    </tr>\n    <tr>\n      <th>R</th>\n      <td>171</td>\n      <td>16</td>\n      <td>8</td>\n      <td>13</td>\n    </tr>\n    <tr>\n      <th>X</th>\n      <td>406</td>\n      <td>39</td>\n      <td>15</td>\n      <td>56</td>\n    </tr>\n  </tbody>\n</table>\n</div>"
     },
     "metadata": {},
     "execution_count": 39
    }
   ],
   "source": [
    "pd.crosstab(index = result_75.reset_index()[\"top category\"], rownames = [\"75%ile\"],\n",
    "            columns = result_25.reset_index()[\"top category\"], colnames = [\"25%ile\"])"
   ]
  },
  {
   "cell_type": "code",
   "execution_count": 43,
   "metadata": {},
   "outputs": [
    {
     "output_type": "execute_result",
     "data": {
      "text/plain": [
       "25%ile         G         P         R         X\n",
       "75%ile                                        \n",
       "G       0.807266  0.089219  0.036547  0.066968\n",
       "P       0.805128  0.097436  0.047863  0.049573\n",
       "R       0.822115  0.076923  0.038462  0.062500\n",
       "X       0.786822  0.075581  0.029070  0.108527"
      ],
      "text/html": "<div>\n<style scoped>\n    .dataframe tbody tr th:only-of-type {\n        vertical-align: middle;\n    }\n\n    .dataframe tbody tr th {\n        vertical-align: top;\n    }\n\n    .dataframe thead th {\n        text-align: right;\n    }\n</style>\n<table border=\"1\" class=\"dataframe\">\n  <thead>\n    <tr style=\"text-align: right;\">\n      <th>25%ile</th>\n      <th>G</th>\n      <th>P</th>\n      <th>R</th>\n      <th>X</th>\n    </tr>\n    <tr>\n      <th>75%ile</th>\n      <th></th>\n      <th></th>\n      <th></th>\n      <th></th>\n    </tr>\n  </thead>\n  <tbody>\n    <tr>\n      <th>G</th>\n      <td>0.807266</td>\n      <td>0.089219</td>\n      <td>0.036547</td>\n      <td>0.066968</td>\n    </tr>\n    <tr>\n      <th>P</th>\n      <td>0.805128</td>\n      <td>0.097436</td>\n      <td>0.047863</td>\n      <td>0.049573</td>\n    </tr>\n    <tr>\n      <th>R</th>\n      <td>0.822115</td>\n      <td>0.076923</td>\n      <td>0.038462</td>\n      <td>0.062500</td>\n    </tr>\n    <tr>\n      <th>X</th>\n      <td>0.786822</td>\n      <td>0.075581</td>\n      <td>0.029070</td>\n      <td>0.108527</td>\n    </tr>\n  </tbody>\n</table>\n</div>"
     },
     "metadata": {},
     "execution_count": 43
    }
   ],
   "source": [
    "pd.crosstab(index = result_75.reset_index()[\"top category\"], rownames = [\"75%ile\"],\n",
    "            columns = result_25.reset_index()[\"top category\"], colnames = [\"25%ile\"], normalize = 0)"
   ]
  },
  {
   "source": [
    "# Inference:\n",
    "\n"
   ],
   "cell_type": "markdown",
   "metadata": {}
  }
 ],
 "metadata": {
  "orig_nbformat": 4,
  "language_info": {
   "name": "python",
   "version": "3.9.6"
  },
  "kernelspec": {
   "name": "python3",
   "display_name": "Python 3.9.6 64-bit ('mis-381n': conda)"
  },
  "interpreter": {
   "hash": "06b40021540639983462c9e311a6ff423d5a2e962ab45520e073600d5efc95cc"
  }
 },
 "nbformat": 4,
 "nbformat_minor": 2
}