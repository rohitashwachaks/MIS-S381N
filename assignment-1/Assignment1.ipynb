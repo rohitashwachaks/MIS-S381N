{
 "cells": [
  {
   "cell_type": "markdown",
   "source": [
    "# Bugs\r\n",
    "\r\n",
    "- Q1 input RRPPSS\r\n"
   ],
   "metadata": {}
  },
  {
   "cell_type": "markdown",
   "source": [
    "# Assignment\r\n",
    "\r\n",
    "## Group Members\r\n",
    "\r\n",
    "- Kaushik Kumaran _(kk34537)_\r\n",
    "- Rohitashwa Chakraborty _(rc47878)_\r\n",
    "- Sahil Arora _(sa52623)_\r\n"
   ],
   "metadata": {}
  },
  {
   "cell_type": "markdown",
   "source": [
    "# Question-1: Rock, Paper, Scissors (20 points)\r\n",
    "\r\n",
    "## Game setup:\r\n",
    "\r\n",
    "- Each game round consists two turns, the first by the computer and the second by a human.\r\n",
    "\r\n",
    "- The computer continues playing rounds untill the human chooses to quit.\r\n",
    "\r\n",
    "- The computer chooses one of Rock, Paper, and Scissors, but keeps its choice secret.\r\n",
    "\r\n",
    "- The computer asks for the human’s input.\r\n",
    "\r\n",
    "- The human chooses one of Rock, Paper, and Scissors, or Quit.\r\n",
    "\r\n",
    "- Unless the human quits, the computer figures out the result of the game, as follows:\r\n",
    "  - Rock smashes Scissors, so Rock beats Scissors\r\n",
    "  - Scissors can cut up paper, so Scissors beat Paper\r\n",
    "  - Paper covers Rock, so Paper beats Rock\r\n",
    "  - If both players chose the same, it is a draw\r\n",
    "  - The computer reports theresult of this round\r\n",
    "\r\n",
    "- If the human chooses to quit, the computer reports:\r\n",
    "  - Number of games played\r\n",
    "  - Number of times the human won\r\n"
   ],
   "metadata": {}
  },
  {
   "cell_type": "markdown",
   "source": [
    "## Importing the relevant liabraries"
   ],
   "metadata": {}
  },
  {
   "cell_type": "code",
   "execution_count": 1,
   "source": [
    "## Loading liabraries to work\r\n",
    "import numpy as np\r\n",
    "## Command to display all outputs in Jupyter \r\n",
    "from IPython.core.interactiveshell import InteractiveShell\r\n",
    "InteractiveShell.ast_node_interactivity = \"all\""
   ],
   "outputs": [],
   "metadata": {}
  },
  {
   "cell_type": "markdown",
   "source": [
    "## Defining constant parameters that we will use in the code later "
   ],
   "metadata": {}
  },
  {
   "cell_type": "markdown",
   "source": [
    "Choice List: A list of possible choices that can be made\n",
    "\n",
    "winning dictionary : This is the dictionary to choose the weapon against the Person so that computer can win the game"
   ],
   "metadata": {}
  },
  {
   "cell_type": "code",
   "execution_count": 2,
   "source": [
    "\r\n",
    "### Lets first associate a dictionary to the possible outcomes : R: R; P:P ; S:S ; Quit:Q\r\n",
    "choice_list = ['R','P','S','Q']\r\n",
    "\r\n",
    "\r\n",
    "## Defining Winning Dictionary\r\n",
    "winning_dictionary = {\r\n",
    "    'S':'R',\r\n",
    "    'P':'S',\r\n",
    "    'R':'P'}"
   ],
   "outputs": [],
   "metadata": {}
  },
  {
   "cell_type": "markdown",
   "source": [
    "## Functions for computer choice\r\n",
    "\r\n",
    "most_frequent:\r\n",
    "\r\n",
    "    1. function to instruct computer to counter the most frequent weapon used by Human\r\n",
    "    \r\n",
    "    2. In case there is a tie in choice the funciton will pick up the most recent one"
   ],
   "metadata": {}
  },
  {
   "cell_type": "code",
   "execution_count": 3,
   "source": [
    "## Defining most frequent element in a list\r\n",
    "def most_frequent(test_list):\r\n",
    "    \"\"\"\r\n",
    "        This function takes a list as an input and returns the most frequent element in the list.\r\n",
    "        In case the frequency matches, it returns the \r\n",
    "        most recent one. \r\n",
    "    \"\"\"\r\n",
    "    R_freq = test_list.count('R')\r\n",
    "    P_freq = test_list.count('P')\r\n",
    "    S_freq = test_list.count('S')\r\n",
    "    \r\n",
    "    max_dict = {\r\n",
    "        R_freq:'R',\r\n",
    "        P_freq:'P',\r\n",
    "        S_freq:'S'}\r\n",
    "    ## maximum freq case : To get the highest frequency weapon\r\n",
    "    max_freq_list = [R_freq, P_freq, S_freq]\r\n",
    "    #print(max_freq_list)\r\n",
    "    max_freq_weapon  = max(R_freq,P_freq,S_freq)\r\n",
    "    if max_freq_list.count(max_freq_weapon)>1:\r\n",
    "        #There is a tie with frequency:\r\n",
    "        ## Choose the most recent:\r\n",
    "        return test_list[-1]\r\n",
    "    else:\r\n",
    "        return max_dict[max_freq_weapon]"
   ],
   "outputs": [],
   "metadata": {}
  },
  {
   "cell_type": "markdown",
   "source": [
    "choice_comp:\r\n",
    "\r\n",
    "    1. Function that calls the most frequent function and assigns a choice for the computer\r\n",
    "    \r\n",
    "    2. In case its the first iteration, computer is assigned a random weapon"
   ],
   "metadata": {}
  },
  {
   "cell_type": "code",
   "execution_count": 4,
   "source": [
    "def choice_comp(iterations, player_moves):\r\n",
    "    \"\"\"\r\n",
    "        Function that calls the most frequent function and assigns a choice for the computer\r\n",
    "        In case its the first iteration, computer is assigned a random weapon\r\n",
    "    \"\"\"\r\n",
    "    if iterations == 0:\r\n",
    "        comp_choice = int(np.random.randint(0,3,1))\r\n",
    "        return choice_list[comp_choice]\r\n",
    "    else:\r\n",
    "        return winning_dictionary[most_frequent(player_moves)]"
   ],
   "outputs": [],
   "metadata": {}
  },
  {
   "cell_type": "markdown",
   "source": [
    "## Function to ensure that there is no bad input from the user"
   ],
   "metadata": {}
  },
  {
   "cell_type": "code",
   "execution_count": 5,
   "source": [
    "def Pchoice_func():\r\n",
    "    \"\"\"\r\n",
    "        This will ensure that only good Inputs come from the Player\r\n",
    "    \"\"\"\r\n",
    "    Pchoice = str(input(\"Please Choose Your Weapon (R:Rock; P:Paper ; S:Scissor ; Q: Quit) :\")).upper()\r\n",
    "    if Pchoice not in choice_list:\r\n",
    "        print(\"ERROR!!! Choose a valid weapon\")\r\n",
    "        return Pchoice_func()\r\n",
    "    else:\r\n",
    "        return(Pchoice)\r\n"
   ],
   "outputs": [],
   "metadata": {}
  },
  {
   "cell_type": "markdown",
   "source": [
    "## Function to define winning criteria"
   ],
   "metadata": {}
  },
  {
   "cell_type": "code",
   "execution_count": 6,
   "source": [
    "def win_criteria(human,comp):\r\n",
    "    \"\"\"\r\n",
    "        Deciding Criteria of Winning/Loosing/Draw\r\n",
    "    \"\"\"\r\n",
    "    if human == comp : \r\n",
    "        return 0\r\n",
    "    elif (human == 'P' and comp == 'R') or (human == 'R' and comp == 'S') or (human == 'S' and comp == 'P'):\r\n",
    "        return 1\r\n",
    "    elif human =='Q':\r\n",
    "        return -99\r\n",
    "    else: \r\n",
    "        return -1"
   ],
   "outputs": [],
   "metadata": {}
  },
  {
   "cell_type": "markdown",
   "source": [
    "## Main function of code"
   ],
   "metadata": {}
  },
  {
   "cell_type": "code",
   "execution_count": 7,
   "source": [
    "## Now lets start the main code to play the game\r\n",
    "Pchoicelist = list([]) \r\n",
    "Cchoicelist = list([])\r\n",
    "Pchoice = 'Null'\r\n",
    "game_iterations = 0\r\n",
    "games_result = list([])\r\n",
    "while Pchoice != 'Q':\r\n",
    "    # Computer Chooses first and keeps the choice a secret\r\n",
    "    Cchoice = choice_comp(game_iterations,Pchoicelist)\r\n",
    "    #Player chooses Second\r\n",
    "    Pchoice = Pchoice_func()\r\n",
    "    print(\"Person :{} , Computer : {}\".format(Pchoice , Cchoice))\r\n",
    "    Cchoicelist.append(Cchoice) \r\n",
    "    res = win_criteria(Pchoice,Cchoice)\r\n",
    "    if res == 0:\r\n",
    "        print(\"It's a draw\")\r\n",
    "    game_iterations+=1\r\n",
    "    games_result.append(res)\r\n",
    "    Pchoicelist.append(Pchoice) \r\n",
    "\r\n",
    "print(\"You played {} games and won {} times\".format(game_iterations-1 , games_result.count(1)))"
   ],
   "outputs": [
    {
     "output_type": "stream",
     "name": "stdout",
     "text": [
      "Person :R , Computer : R\n",
      "It's a draw\n",
      "Person :P , Computer : P\n",
      "It's a draw\n",
      "Person :R , Computer : S\n",
      "Person :S , Computer : P\n",
      "Person :Q , Computer : P\n",
      "You played 4 games and won 2 times\n"
     ]
    }
   ],
   "metadata": {}
  },
  {
   "cell_type": "markdown",
   "source": [
    "# Question-2: Voters in Florida (20 points)\r\n",
    "\r\n",
    "The file _FloridaVoters.html_ contains a Web Table of republican and democratic voters in various counties in Florida.\r\n",
    "\r\n",
    "Write code that reads in this fileas a standard text file and prints out the counties,\r\n",
    "along with the numberof republican and democratic voters in those counties,sorted by the number of democratic voters.\r\n",
    "\r\n",
    "## Importing the necessary libraries\r\n"
   ],
   "metadata": {}
  },
  {
   "cell_type": "code",
   "execution_count": 8,
   "source": [
    "import pandas as pd\r\n",
    "\r\n",
    "# Mac Users:\r\n",
    "# import regex as re\r\n",
    "\r\n",
    "# Windows/Linux Users:\r\n",
    "import re"
   ],
   "outputs": [],
   "metadata": {}
  },
  {
   "cell_type": "markdown",
   "source": [
    "# Reading the file"
   ],
   "metadata": {}
  },
  {
   "cell_type": "code",
   "execution_count": 9,
   "source": [
    "filename = \"FloridaVoters.html\"\r\n",
    "with open(filename,\"r\") as f:  #Opening the file in read mode\r\n",
    "    content = f.readlines()\r\n",
    "    f.close()                  #Closing the file\r\n",
    "print(\"Number of Lines:\", len(content))"
   ],
   "outputs": [
    {
     "output_type": "stream",
     "name": "stdout",
     "text": [
      "Number of Lines: 1396\n"
     ]
    }
   ],
   "metadata": {}
  },
  {
   "cell_type": "markdown",
   "source": [
    "# Extracting the table contents and cleaning them"
   ],
   "metadata": {}
  },
  {
   "cell_type": "code",
   "execution_count": 10,
   "source": [
    "list_rows = []\r\n",
    "for row in content:\r\n",
    "    cell = re.match('<td>|<th>',row)                       #Match the table headers and the table values\r\n",
    "    if cell is not None:\r\n",
    "        row1 = re.sub(\"<td>|<th>|</td>|</th>|\\n|,\",\"\",row) #Removing the unnecessary tags\r\n",
    "        list_rows.append(row1)                             #Appending all the rows into a list"
   ],
   "outputs": [],
   "metadata": {}
  },
  {
   "cell_type": "markdown",
   "source": [
    "# Creating List of Tuples"
   ],
   "metadata": {}
  },
  {
   "cell_type": "code",
   "execution_count": 11,
   "source": [
    "merged_list = [(list_rows[i], list_rows[i+1],list_rows[i+2],list_rows[i+3],list_rows[i+4],list_rows[i+5]) \r\n",
    "               for i in range(0, len(list_rows)-5,6)]"
   ],
   "outputs": [],
   "metadata": {}
  },
  {
   "cell_type": "markdown",
   "source": [
    "# Creating DataFrame and Sorting"
   ],
   "metadata": {}
  },
  {
   "cell_type": "code",
   "execution_count": 12,
   "source": [
    "df = pd.DataFrame(merged_list) #Converting to a dataframe\r\n",
    "#Promoting Header\r\n",
    "header_row = 0\r\n",
    "df.columns = df.iloc[header_row]\r\n",
    "df = df.drop(header_row)\r\n",
    "\r\n",
    "df.reset_index(inplace = True)\r\n",
    "df = df[['COUNTY','REPUBLICAN','DEMOCRAT']]\r\n",
    "\r\n",
    "df['REPUBLICAN'] = df['REPUBLICAN'].astype('int')\r\n",
    "df['DEMOCRAT'] = df['DEMOCRAT'].astype('int')\r\n",
    "#Sorting the Dataframe\r\n",
    "df = df.sort_values(by = ['DEMOCRAT'])"
   ],
   "outputs": [],
   "metadata": {}
  },
  {
   "cell_type": "markdown",
   "source": [
    "# Final Output"
   ],
   "metadata": {}
  },
  {
   "cell_type": "code",
   "execution_count": 13,
   "source": [
    "# Printing in the required format\r\n",
    "def print_df(df):\r\n",
    "   # This code delete index and columns names\r\n",
    "    df_ = df.copy()\r\n",
    "    df_.columns = ['', '', '']\r\n",
    "    df_.index = ['' for _ in range(len(df))]\r\n",
    "    print(df_)"
   ],
   "outputs": [],
   "metadata": {}
  },
  {
   "cell_type": "code",
   "execution_count": 14,
   "source": [
    "print_df(df)"
   ],
   "outputs": [
    {
     "output_type": "stream",
     "name": "stdout",
     "text": [
      "                                  \n",
      "       LAFAYETTE     1373     2672\n",
      "          GLADES     2190     3110\n",
      "         LIBERTY      720     3372\n",
      "           UNION     2752     3579\n",
      "       GILCHRIST     5789     3652\n",
      "..           ...      ...      ...\n",
      "    HILLSBOROUGH   257436   314265\n",
      "      PALM BEACH   245452   367236\n",
      "      MIAMI-DADE   362161   539367\n",
      "         BROWARD   249762   566185\n",
      "           Total  4377713  4637026\n",
      "\n",
      "[68 rows x 3 columns]\n"
     ]
    }
   ],
   "metadata": {}
  },
  {
   "cell_type": "markdown",
   "source": [
    "# Question-3: Near-duplicate detection (20 points)\r\n",
    "\r\n",
    "Tweets on a subject are often nearly (but not exactly) duplicates of each other.\r\n",
    "\r\n",
    "The  file **Santa.txt** contains a few tweets about Santa Claus, one tweet per line.\r\n",
    "\r\n",
    "We will try to detect tweets that we have already seen before.\r\n",
    "\r\n",
    "## Convert each tweet into a dictionary of phrases (6-points)\r\n",
    "\r\n",
    "- Write a function called **moving_window** that takes as input a tweet (that is,a string), and converts it into a bunch of phrases.  Each phrase is three consecutive words in the tweet.\r\n",
    "- For example, the tweet _\"This is an awesome tweet, dude\"_ consists of the phrases _\"This is an\"_,_\"is an awesome\"_,_\"an awesome tweet,\"_ and _\"awesome tweet, dude\"_.\r\n",
    "- Return a dictionary whose keys are these phrases, and just set the corresponding values to 1.\r\n",
    "- This dictionary contains all the unique 3-word phrases in the tweet.\r\n"
   ],
   "metadata": {}
  },
  {
   "cell_type": "code",
   "execution_count": 15,
   "source": [
    "def moving_window(tweet: str, size: int = 3):\r\n",
    "    \"\"\"\r\n",
    "        Function that takes a tweet and phrase size as inputs.\r\n",
    "        Returns Dictionary of consecutive word phrases of given \"size\"\r\n",
    "    \"\"\"\r\n",
    "    wordList = tweet.lower().split()\r\n",
    "    phraseList = dict()\r\n",
    "    for index in range(len(wordList)-size+1):\r\n",
    "        phrase = tuple(wordList[index:index+size])\r\n",
    "        if phrase not in phraseList.keys():\r\n",
    "            phraseList[phrase] = 1\r\n",
    "        else:\r\n",
    "            phraseList[phrase] += 1\r\n",
    "    return phraseList\r\n",
    "\r\n",
    "# moving_window(\"The quick Brown Fox jumped over the lazy dog\")"
   ],
   "outputs": [],
   "metadata": {}
  },
  {
   "cell_type": "markdown",
   "source": [
    "## Calculate Similarity between two tweets\r\n",
    "\r\n",
    "To check if one tweet is a near-duplicate of another, we compute their cosine similarity:\r\n",
    "\r\n",
    "_cosine(tweet1, tweet2)_ = matches/√(n1∗n2)\r\n",
    "\r\n",
    "where matches is the number of 3-word phrases in common between the two tweets, and n1 and n2 are the number of phrases in the two tweets respectively.\r\n",
    "\r\n",
    "- Write a function called **cosine** that takes as input two dictionaries.\r\n",
    "- Each dictionary contains the 3-word phrases from one tweet.\r\n",
    "- Return the cosine similarity between the phrases in the two dictionaries"
   ],
   "metadata": {}
  },
  {
   "cell_type": "code",
   "execution_count": 16,
   "source": [
    "import math\r\n",
    "def Cosine(tweet1: dict, tweet2: dict):\r\n",
    "    \"\"\"\r\n",
    "        Function to compare the cosine similarity between two tweets.\r\n",
    "        Inputs: Tweet1 and Tweet2\r\n",
    "        Output: Cosine Similarity Score\r\n",
    "    \"\"\"\r\n",
    "    phraseSet1 = set(tweet1.keys())\r\n",
    "    phraseSet2 = set(tweet2.keys())\r\n",
    "    # print(phraseSet1)\r\n",
    "    # print(phraseSet2)\r\n",
    "\r\n",
    "    intersection = phraseSet1.intersection(phraseSet2)\r\n",
    "    # print(intersection)\r\n",
    "\r\n",
    "    return len(intersection)/math.sqrt(len(phraseSet1)*len(phraseSet2))\r\n",
    "\r\n",
    "# sentence1 = \"The quick Brown Fox jumped over the lazy dog\"\r\n",
    "# sentence2 = \"the lazy dog is a man's best friend\"\r\n",
    "# Cosine(moving_window(sentence1),moving_window(sentence2))"
   ],
   "outputs": [],
   "metadata": {}
  },
  {
   "cell_type": "markdown",
   "source": [
    "## Read in tweets, and output near-duplicates (8 points)\r\n",
    "\r\n",
    "- Read in the tweets in the file **Santa.txt**.\r\n",
    "- For each tweet, figure out if it is a _near-duplicate_ of any of the previously-seen tweets.\r\n",
    "- We say that the two tweets are _near-duplicates_ if their cosine similarity is greater than **0.5**.\r\n",
    "- You should call the functions: _moving\\_window_ and _cosine_ here"
   ],
   "metadata": {}
  },
  {
   "cell_type": "code",
   "execution_count": 17,
   "source": [
    "filename = \"Santa.txt\"\r\n",
    "with open(filename,\"r\") as f:\r\n",
    "    content = f.readlines()\r\n",
    "    f.close()\r\n",
    "print(\"Number of Tweets:\", len(content))\r\n",
    "# content"
   ],
   "outputs": [
    {
     "output_type": "stream",
     "name": "stdout",
     "text": [
      "Number of Tweets: 5\n"
     ]
    }
   ],
   "metadata": {}
  },
  {
   "cell_type": "code",
   "execution_count": 18,
   "source": [
    "counter = 0\r\n",
    "for i in range(len(content)):\r\n",
    "    for j in range(0,i):\r\n",
    "        cosine_score = Cosine(moving_window(content[i]),moving_window(content[j]))\r\n",
    "        if cosine_score >= 0.5:\r\n",
    "            print(\"\"\"\r\n",
    "Tweet {i} is similar to Tweet {j}!\\n\\tScore: {score}\r\n",
    "-------------\r\n",
    "Tweet{i}: {tweet1}\r\n",
    "Tweet{j}: {tweet2}\"\"\".format(score = cosine_score,\r\n",
    "                        tweet1 = content[i].rstrip(),\r\n",
    "                        tweet2 = content[j].rstrip(),\r\n",
    "                        i = i+1, j = j+1))\r\n",
    "            counter += 1\r\n",
    "print(\"Total Matches: {}\".format(counter))"
   ],
   "outputs": [
    {
     "output_type": "stream",
     "name": "stdout",
     "text": [
      "\n",
      "Tweet 3 is similar to Tweet 1!\n",
      "\tScore: 0.8838834764831844\n",
      "-------------\n",
      "Tweet3: RT @BuyBookstore: SPECIAL SECRET HEARTS: A Child's Introduction to Dementia and Pink Curls - A Santa ... - http://t.co/UWCdc8FA9a http://t.Â…\n",
      "Tweet1: SPECIAL SECRET HEARTS: A Child's Introduction to Dementia and Pink Curls - A Santa ... - http://t.co/UWCdc8FA9a http://t.co/meexKLGTKl\n",
      "\n",
      "Tweet 4 is similar to Tweet 2!\n",
      "\tScore: 0.628970902033151\n",
      "-------------\n",
      "Tweet4: \"RT @DrewFtDevonne_: Rt si te gusta Santa Claus Is Coming To Town #MTVHottest Justin Bieber\"\n",
      "Tweet2: \"Santa Claus Is Coming To Town #MTVHottest Justin Bieber\"\n",
      "\n",
      "Tweet 5 is similar to Tweet 2!\n",
      "\tScore: 0.6837634587578276\n",
      "-------------\n",
      "Tweet5: \"Rt si te gusta Santa Claus Is Coming To Town #MTVHottest Justin Bieber\"\n",
      "Tweet2: \"Santa Claus Is Coming To Town #MTVHottest Justin Bieber\"\n",
      "\n",
      "Tweet 5 is similar to Tweet 4!\n",
      "\tScore: 0.8362420100070908\n",
      "-------------\n",
      "Tweet5: \"Rt si te gusta Santa Claus Is Coming To Town #MTVHottest Justin Bieber\"\n",
      "Tweet4: \"RT @DrewFtDevonne_: Rt si te gusta Santa Claus Is Coming To Town #MTVHottest Justin Bieber\"\n",
      "Total Matches: 4\n"
     ]
    }
   ],
   "metadata": {}
  },
  {
   "cell_type": "markdown",
   "source": [
    "# Question-4: The Google of Quotes (40 points)\r\n",
    "\r\n",
    " The file “quotes.txt” contains pairs of lines, with the first line being a quoteand  the  following  line  being  the  person  who  said  it.   We  want  to  build  asearch engine that, given a word or words, finds the best matching quotes."
   ],
   "metadata": {}
  },
  {
   "cell_type": "code",
   "execution_count": 19,
   "source": [
    "# Mac Users:\r\n",
    "# import regex as re\r\n",
    "\r\n",
    "# Windows/Linux Users:\r\n",
    "import re"
   ],
   "outputs": [],
   "metadata": {}
  },
  {
   "cell_type": "code",
   "execution_count": 20,
   "source": [
    "filename = \"quotes.txt\"\r\n",
    "with open(filename,\"r\") as f:\r\n",
    "    content = f.readlines()\r\n",
    "    f.close()\r\n",
    "print(\"Number of Lines:\", len(content))"
   ],
   "outputs": [
    {
     "output_type": "stream",
     "name": "stdout",
     "text": [
      "Number of Lines: 1772\n"
     ]
    }
   ],
   "metadata": {}
  },
  {
   "cell_type": "markdown",
   "source": [
    "## Build a list of full quotes (5 points)\r\n",
    "\r\n",
    "Read in the file, and create a list of full quotes of the form “quote - speaker”.\r\n",
    "\r\n",
    "For example,“The hearthas its reasons, of which the mind knows nothing. - Blaise Pascal”."
   ],
   "metadata": {}
  },
  {
   "cell_type": "code",
   "execution_count": 21,
   "source": [
    "# Regex to clear string.\r\n",
    "# String can contain only Characters, Digits or underscore\r\n",
    "content = list(map(lambda x: re.sub('[^A-Za-z0-9_ ]', '', x),content))\r\n",
    "# content[0:8]"
   ],
   "outputs": [],
   "metadata": {}
  },
  {
   "cell_type": "code",
   "execution_count": 22,
   "source": [
    "content = [\" - \".join([content[i],content[i+1]]) for i in range(0,len(content),2)]\r\n",
    "# print(len(content))\r\n",
    "# content[0:5]"
   ],
   "outputs": [],
   "metadata": {}
  },
  {
   "cell_type": "markdown",
   "source": [
    "## Words from full quotes (5 points)\r\n",
    "\r\n",
    "- Write  a  function  that  takes a full  quote  as  argument  and  outputs  a  list  of  the  words  in  the  it.\r\n",
    "- The words should all be lower-case, and should contain only characters, digits, or underscore\r\n"
   ],
   "metadata": {}
  },
  {
   "cell_type": "code",
   "execution_count": 23,
   "source": [
    "def WordSplit(quote: str):\r\n",
    "    \"\"\"\r\n",
    "        Split quotes into words.\r\n",
    "    \"\"\"\r\n",
    "    return quote.lower().replace(\" - \",\" \").replace(\".\",\" \").split()\r\n",
    "\r\n",
    "# WordSplit(content[0])"
   ],
   "outputs": [],
   "metadata": {}
  },
  {
   "cell_type": "markdown",
   "source": [
    "## Build the postings-list dictionary (6 points)\r\n",
    "\r\n",
    "A postings-list is a dictionary  whose  keys  are  full  quotes,  and  whose  values  are  themselves dictionaries  with  key  being  a  word,  and  value  being  the  number  of  times the  word  occurs  in  the  full  quote.\r\n",
    "\r\n",
    "So, for the **key** _\"The heart has its reasons, of which the mind knows nothing. - Blaise Pascal\"_,\r\n",
    "\r\n",
    "the value will itself be the following  dictionary:\r\n",
    "\r\n",
    "```Python\r\n",
    "{\"the\":2, \"heart\":1, \"has\":1, \"its\":1, \"reasons\":1, \"of\":1, \"which\":1, \"mind\":1, \"knows\":1, \"nothing\":1, \"blaise\":1, \"pascal\":1}\r\n",
    "```\r\n"
   ],
   "metadata": {}
  },
  {
   "cell_type": "code",
   "execution_count": 24,
   "source": [
    "def TfDict(words: tuple):\r\n",
    "    \"\"\"\r\n",
    "        Function that takes tuple of words as input\r\n",
    "        Returns PostingsList Dictionary as output\r\n",
    "    \"\"\"\r\n",
    "    tfDict = dict()\r\n",
    "    for word in words:\r\n",
    "        if word not in tfDict.keys():\r\n",
    "            tfDict[word] = 1\r\n",
    "        else:\r\n",
    "            tfDict[word] += 1\r\n",
    "    return tfDict\r\n",
    "\r\n",
    "# list(map(TfDict,map(WordSplit, content)))[0]"
   ],
   "outputs": [],
   "metadata": {}
  },
  {
   "cell_type": "code",
   "execution_count": 25,
   "source": [
    "postingsList = dict()\r\n",
    "for quote in content:\r\n",
    "    if quote not in postingsList.keys():\r\n",
    "        postingsList[quote] = TfDict(tuple(WordSplit(quote)))\r\n",
    "    else:\r\n",
    "        print(\"Duplicate Quote:\\n{quote}\".format(quote = quote))\r\n",
    "# postingsList['How we spend our days is of course how we spend our lives - Annie Dillard']"
   ],
   "outputs": [],
   "metadata": {}
  },
  {
   "cell_type": "markdown",
   "source": [
    "# Build the reverse postings-list dictionary (6 points)\r\n",
    "\r\n",
    "A reverse postings-list is a dictionary whose keys are the words, and the values are themselves dictionaries with the key being a full quote, and the value being the number of times the word appeared in the full quote.\r\n",
    "\r\n",
    "So, for the key _\"entertainer\"_, the value is the dictionary\r\n",
    "\r\n",
    "```Python\r\n",
    "{\"An actor is at most a poet and at least an entertainer. - Marlon Brando\":  1} \r\n",
    "#only this quote contains the word “entertainer”\r\n",
    "```\r\n"
   ],
   "metadata": {}
  },
  {
   "cell_type": "code",
   "execution_count": 26,
   "source": [
    "# Create Set of all words\r\n",
    "allWords = set(\" \".join(content).lower().replace(\" - \",\" \").replace(\".\",\" \").split())\r\n",
    "# print(len(allWords))"
   ],
   "outputs": [],
   "metadata": {}
  },
  {
   "cell_type": "code",
   "execution_count": 27,
   "source": [
    "def IdfDict(word: str):\r\n",
    "    \"\"\"\r\n",
    "        Function that takes a words as input\r\n",
    "        Returns Reverse-PostingsList Dictionary as output\r\n",
    "    \"\"\"\r\n",
    "    idfDict = dict()\r\n",
    "    for quote in content:\r\n",
    "        if word in postingsList[quote].keys():\r\n",
    "            idfDict[quote] = postingsList[quote][word]\r\n",
    "    return idfDict\r\n",
    "\r\n",
    "# IdfDict(\"spend\")"
   ],
   "outputs": [],
   "metadata": {}
  },
  {
   "cell_type": "code",
   "execution_count": 28,
   "source": [
    "revPostingsList = dict()\r\n",
    "for word in allWords:\r\n",
    "    if word not in revPostingsList.keys():\r\n",
    "        revPostingsList[word] = IdfDict(word)\r\n",
    "    else:\r\n",
    "        print(\"Duplicate Word:\\n{word}\".format(word = word))\r\n",
    "# revPostingsList[\"spent\"]"
   ],
   "outputs": [
    {
     "output_type": "execute_result",
     "data": {
      "text/plain": [
       "{'I feel impelled to speak today in a language that in a sense is newone which I who have spent so much of my life in the military profession would have preferred never to use That new language is the language of atomic warfare - Dwight Eisenhower': 1,\n",
       " 'There are perhaps no days of our childhood we lived so fully as those we spent with a favorite book - Marcel Proust': 1}"
      ]
     },
     "metadata": {},
     "execution_count": 28
    }
   ],
   "metadata": {}
  },
  {
   "cell_type": "markdown",
   "source": [
    "# Write a TF-IDF function (8 points)\r\n",
    "\r\n",
    "To measure how much a full quote is about a particular word, one typically uses the TF-IDF measure\r\n",
    "\r\n",
    "## TF\r\n",
    "\r\n",
    "- TF  stands  for  **term  frequency**\r\n",
    "- The  term  frequency  of  a  word _w_ in a  full  quote _q_ is  the  **number  of  times** _w_ occurs  in q,  divided  by  the maximum number of times any word occurs in _q_\r\n",
    "\r\n",
    "## IDF\r\n",
    "\r\n",
    "- IDF stands for **inverse document frequency**\r\n",
    "- The IDF of a word _w_ is the logarithm of the ratio of the total number _N_ of full quotes to the number of full quotes in that contain the word _w_\r\n",
    "\r\n",
    "TF-IDF of a word _w_ for a full quote _q_ is just the **product** of the **TF** and **IDF**.\r\n",
    "\r\n",
    "So, for the word _entertainer_ in the Marlon Brando quote of part (d):\r\n",
    "\r\n",
    "- The  TF  is  0.5  (it  occurs  once,  while  the  most  frequent  word  in  that quote is “at”, which occurs twice, so the TF ratio is 0.5)\r\n",
    "- The IDF is log (886/1),  since there are 886 documents and the word“entertainer ”occurs in only one full quote.\r\n",
    "\r\n",
    "Write a function to compute the TF-IDF of any word in any full quote, using the postings and reverse-postings.\r\n",
    "\r\n",
    "Hint:Do import math and use _math.log()_ to get logarithms.\r\n"
   ],
   "metadata": {}
  },
  {
   "cell_type": "code",
   "execution_count": 29,
   "source": [
    "import operator\r\n",
    "def MaxWordFreqinQuote(quote: str):\r\n",
    "    \"\"\"\r\n",
    "        Function to return the Frequency of the most frequent word in a quote\r\n",
    "    \"\"\"\r\n",
    "    return max(postingsList[quote].items(), key=operator.itemgetter(1))[1]"
   ],
   "outputs": [],
   "metadata": {}
  },
  {
   "cell_type": "code",
   "execution_count": 30,
   "source": [
    "import math\r\n",
    "def TfIdf(word: str, quote: str):\r\n",
    "    \"\"\"\r\n",
    "        Function to return the Tf-Idf score for a given word in a given quote\r\n",
    "        Inputs: Word and Quote\r\n",
    "        Outputs: Tf-Idf Score\r\n",
    "    \"\"\"\r\n",
    "    tf, idf = 0,0\r\n",
    "\r\n",
    "    # Check if Quote Exists and Word exists in Quote. Else, return 0 (b/c TF = 0)\r\n",
    "    if (quote in postingsList.keys())and (word in postingsList[quote].keys()):\r\n",
    "        tf = postingsList[quote][word]/MaxWordFreqinQuote(quote)\r\n",
    "    \r\n",
    "    # Check if Word exists in revPostingList. Else, return 0 (b/c IDF = 0)\r\n",
    "    if word in revPostingsList.keys():\r\n",
    "        idf = math.log(len(content) / len(revPostingsList[word].keys()))\r\n",
    "    else:\r\n",
    "        return \"Word Does not exist\"\r\n",
    "    # print(\"TF: {tfscore};\\nIDF: log({N}/{x}) = {idfscore}\".format(tfscore = tf,\r\n",
    "    #                                                             idfscore = idf,\r\n",
    "    #                                                             N = len(content),\r\n",
    "    #                                                             x = len(revPostingsList[word].keys())))\r\n",
    "    return tf*idf"
   ],
   "outputs": [],
   "metadata": {}
  },
  {
   "cell_type": "markdown",
   "source": [
    "## Quote  search  using  a  single  word  (5  points)\r\n",
    "\r\n",
    "Write  a  function that takes a word as argument, and returns a dictionary whose keys are full quotes containing that word, and whose values are the TF-IDF score of thatword for that full quote.\r\n"
   ],
   "metadata": {}
  },
  {
   "cell_type": "code",
   "execution_count": 31,
   "source": [
    "def SingleWordScore(word: str):\r\n",
    "    \"\"\"\r\n",
    "        Input: Word \r\n",
    "        Returns: A dictionary:   KEYS -> full quotes containing that word\r\n",
    "                                VALUE -> TF-IDF score of the word for that full quote\r\n",
    "    \"\"\"\r\n",
    "    score = dict()\r\n",
    "    if word in revPostingsList.keys():\r\n",
    "        for quote in revPostingsList[word]:\r\n",
    "            score[quote] = TfIdf(word = word, quote= quote)\r\n",
    "    return score\r\n",
    "\r\n",
    "SingleWordScore(\"spent\")"
   ],
   "outputs": [
    {
     "output_type": "execute_result",
     "data": {
      "text/plain": [
       "{'I feel impelled to speak today in a language that in a sense is newone which I who have spent so much of my life in the military profession would have preferred never to use That new language is the language of atomic warfare - Dwight Eisenhower': 2.0311899233483786,\n",
       " 'There are perhaps no days of our childhood we lived so fully as those we spent with a favorite book - Marcel Proust': 3.046784885022568}"
      ]
     },
     "metadata": {},
     "execution_count": 31
    }
   ],
   "metadata": {}
  },
  {
   "cell_type": "code",
   "execution_count": 32,
   "source": [
    "SingleWordScore(\"book\")"
   ],
   "outputs": [
    {
     "output_type": "execute_result",
     "data": {
      "text/plain": [
       "{'The Bible is not my book and Christianity is not my religion I could never give assent to the long complicated statements of Christian dogma - Abraham Lincoln': 2.497478740688513,\n",
       " 'There is a great deal of difference between an eager man who wants to read a book and the tired man who wants a book to read - GK Chesterton': 3.3299716542513504,\n",
       " 'The covers of this book are too far apart - Ambrose Bierce': 4.994957481377026,\n",
       " 'There are perhaps no days of our childhood we lived so fully as those we spent with a favorite book - Marcel Proust': 2.497478740688513,\n",
       " 'A truly great book should be read in youth again in maturity and once more in old age as a fine building should be seen by morning light at noon and by moonlight - Robertson Davies': 1.6649858271256752,\n",
       " 'Dont join the book burners Do not think you are going to conceal thoughts by concealing evidence that they ever existed - Dwight Eisenhower': 4.994957481377026}"
      ]
     },
     "metadata": {},
     "execution_count": 32
    }
   ],
   "metadata": {}
  },
  {
   "cell_type": "markdown",
   "source": [
    "## Quote search using multiple words (5 points)\r\n",
    "\r\n",
    "Write a function that takes a list of words as argument, and returns a dictionary whose keys are full quotes containing one or more of the words in that list, and whose values are the **sum of TF-IDF scores** of the words in that list for that full-quote.\r\n"
   ],
   "metadata": {}
  },
  {
   "cell_type": "code",
   "execution_count": 33,
   "source": [
    "def MultiWordScore(wordList: list):\r\n",
    "    \"\"\"\r\n",
    "        Input: List of Words\r\n",
    "        Returns: A dictionary:   KEYS -> full quotes containing that word(s)\r\n",
    "                                VALUE -> sum of TF-IDF score of the word(s) for that full quote\r\n",
    "    \"\"\"\r\n",
    "    score = dict()\r\n",
    "    for word in wordList:\r\n",
    "        if word in revPostingsList.keys():\r\n",
    "            for quote in revPostingsList[word]:\r\n",
    "                if quote in score.keys():\r\n",
    "                    score[quote] += TfIdf(word = word, quote= quote)\r\n",
    "                else:\r\n",
    "                    score[quote] = TfIdf(word = word, quote= quote)\r\n",
    "    return score\r\n",
    "\r\n",
    "MultiWordScore([\"spent\",\"book\",\"entertainer\"])"
   ],
   "outputs": [
    {
     "output_type": "execute_result",
     "data": {
      "text/plain": [
       "{'I feel impelled to speak today in a language that in a sense is newone which I who have spent so much of my life in the military profession would have preferred never to use That new language is the language of atomic warfare - Dwight Eisenhower': 2.0311899233483786,\n",
       " 'There are perhaps no days of our childhood we lived so fully as those we spent with a favorite book - Marcel Proust': 5.54426362571108,\n",
       " 'The Bible is not my book and Christianity is not my religion I could never give assent to the long complicated statements of Christian dogma - Abraham Lincoln': 2.497478740688513,\n",
       " 'There is a great deal of difference between an eager man who wants to read a book and the tired man who wants a book to read - GK Chesterton': 3.3299716542513504,\n",
       " 'The covers of this book are too far apart - Ambrose Bierce': 4.994957481377026,\n",
       " 'A truly great book should be read in youth again in maturity and once more in old age as a fine building should be seen by morning light at noon and by moonlight - Robertson Davies': 1.6649858271256752,\n",
       " 'Dont join the book burners Do not think you are going to conceal thoughts by concealing evidence that they ever existed - Dwight Eisenhower': 4.994957481377026,\n",
       " 'An actor is at most a poet and at least an entertainer - Marlon Brando': 3.3933584753025405}"
      ]
     },
     "metadata": {},
     "execution_count": 33
    }
   ],
   "metadata": {}
  },
  {
   "cell_type": "markdown",
   "source": [
    "<br><p>\r\n",
    "**TF-IDF** score of _**spent**_ in _'There are perhaps no days of our childhood we lived so fully as those we spent with a favorite book - Marcel Proust'_ : **3.0467**\r\n",
    "<br><p>\r\n",
    "**TF-IDF** score of _**book**_ in _'There are perhaps no days of our childhood we lived so fully as those we spent with a favorite book - Marcel Proust'_ : **2.4974**\r\n",
    "<br><p>\r\n",
    "**TF-IDF** score of _**spent, book**_ in _'There are perhaps no days of our childhood we lived so fully as those we spent with a favorite book - Marcel Proust'_ : **5.54426**"
   ],
   "metadata": {}
  }
 ],
 "metadata": {
  "orig_nbformat": 4,
  "language_info": {
   "name": "python"
  }
 },
 "nbformat": 4,
 "nbformat_minor": 2
}