{
 "cells": [
  {
   "cell_type": "markdown",
   "source": [
    "# Near-duplicate detection (20 points)\r\n",
    "\r\n",
    "Tweets  on  a  subject  are  often  nearly  (but  not  exactly)  duplicates  of  eachother.   The  fileSanta.txtcontains  a  few  tweets  about  Santa  Claus,  onetweet per line.  We will try to detect tweets that we have already seen before.\r\n",
    "\r\n",
    "\r\n",
    "## Questions\r\n",
    "\r\n",
    "- Do we have to take care of punctuations and stuff?\r\n",
    "- Does the Function name, parameter data structure etc have to match EXACTLY? \r\n"
   ],
   "metadata": {}
  },
  {
   "cell_type": "code",
   "execution_count": null,
   "source": [
    "import math"
   ],
   "outputs": [],
   "metadata": {}
  },
  {
   "cell_type": "markdown",
   "source": [
    "## Read a file"
   ],
   "metadata": {}
  },
  {
   "cell_type": "code",
   "execution_count": null,
   "source": [
    "filename = \"Santa.txt\"\r\n",
    "with open(filename,\"r\") as f:\r\n",
    "    content = f.readlines()\r\n",
    "    f.close()\r\n",
    "print(\"Number of Tweets:\", len(content))\r\n",
    "# content"
   ],
   "outputs": [],
   "metadata": {}
  },
  {
   "cell_type": "markdown",
   "source": [
    "## Convert each tweet into a dictionary of phrases (6-points)\r\n"
   ],
   "metadata": {}
  },
  {
   "cell_type": "code",
   "execution_count": null,
   "source": [
    "def Tweet2Phrase(tweet: str, size: int = 3):\r\n",
    "    \"\"\"\r\n",
    "        Function that takes a tweet and phrase size as inputs.\r\n",
    "        Returns consecutive word phrases of given \"size\"\r\n",
    "    \"\"\"\r\n",
    "    wordList = tweet.lower().split()\r\n",
    "    phraseList = []\r\n",
    "    for index in range(len(wordList)-size+1):\r\n",
    "        phrase = tuple(sorted(wordList[index:index+size]))\r\n",
    "        phraseList.append(phrase)\r\n",
    "    return set(phraseList)\r\n",
    "    \r\n",
    "# Tweet2Phrase(\"The quick Brown Fox jumped over the lazy dog\")"
   ],
   "outputs": [],
   "metadata": {}
  },
  {
   "cell_type": "markdown",
   "source": [
    "## Calculate Similarity between two tweets\r\n"
   ],
   "metadata": {}
  },
  {
   "cell_type": "code",
   "execution_count": null,
   "source": [
    "def CompareTweets(tweet1: str, tweet2: str):\r\n",
    "    \"\"\"\r\n",
    "        Function to compare the cosine similarity between two tweets.\r\n",
    "        Inputs: Tweet1 and Tweet2\r\n",
    "        Output: Cosine Similarity Score\r\n",
    "    \"\"\"\r\n",
    "    phraseSet1 = Tweet2Phrase(tweet= tweet1)\r\n",
    "    phraseSet2 = Tweet2Phrase(tweet= tweet2)\r\n",
    "\r\n",
    "    intersection = phraseSet1.intersection(phraseSet2)\r\n",
    "\r\n",
    "    return len(intersection)/math.sqrt(len(phraseSet1)*len(phraseSet2))\r\n",
    "\r\n",
    "# sentence1 = \"The quick Brown Fox jumped over the lazy dog\"\r\n",
    "# sentence2 = \"the lazy dog is a man's best friend\"\r\n",
    "# CompareTweets(sentence1,sentence2)"
   ],
   "outputs": [],
   "metadata": {}
  },
  {
   "cell_type": "markdown",
   "source": [
    "## Read in tweets, and output near-duplicates (8 points)."
   ],
   "metadata": {}
  },
  {
   "cell_type": "code",
   "execution_count": null,
   "source": [
    "counter = 0\r\n",
    "for i in range(len(content)):\r\n",
    "    for j in range(i+1,len(content)):\r\n",
    "        if CompareTweets(content[i],content[j]) >= 0.5:\r\n",
    "            print(\"\"\"\r\n",
    "                Match Found! Score: {score}\r\n",
    "                Tweet1: {tweet1}\r\n",
    "                Tweet2: {tweet2}\r\n",
    "            \"\"\".format(score = CompareTweets(content[i],content[j]), \r\n",
    "                        tweet1 = content[i],\r\n",
    "                        tweet2 = content[j]))\r\n",
    "            counter += 1\r\n",
    "print(\"Total Matches: {}\".format(counter))"
   ],
   "outputs": [],
   "metadata": {}
  }
 ],
 "metadata": {
  "orig_nbformat": 4,
  "language_info": {
   "name": "python"
  }
 },
 "nbformat": 4,
 "nbformat_minor": 2
}