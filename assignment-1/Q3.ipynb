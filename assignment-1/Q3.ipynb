{
 "cells": [
  {
   "cell_type": "markdown",
   "source": [
    "# Near-duplicate detection (20 points)\r\n",
    "\r\n",
    "Tweets on a subject are often nearly (but not exactly) duplicates of each other.\r\n",
    "\r\n",
    "The  file **Santa.txt** contains a few tweets about Santa Claus, one tweet per line.\r\n",
    "\r\n",
    "We will try to detect tweets that we have already seen before.\r\n",
    "\r\n",
    "## Convert each tweet into a dictionary of phrases (6-points)\r\n",
    "\r\n",
    "- Write a function called **moving_window** that takes as input a tweet (that is,a string), and converts it into a bunch of phrases.  Each phrase is three consecutive words in the tweet.\r\n",
    "- For example, the tweet _\"This is an awesome tweet, dude\"_ consists of the phrases _\"This is an\"_,_\"is an awesome\"_,_\"an awesome tweet,\"_ and _\"awesome tweet, dude\"_.\r\n",
    "- Return a dictionary whose keys are these phrases, and just set the corresponding values to 1.\r\n",
    "- This dictionary contains all the unique 3-word phrases in the tweet.\r\n"
   ],
   "metadata": {}
  },
  {
   "cell_type": "code",
   "execution_count": 1,
   "source": [
    "def moving_window(tweet: str, size: int = 3):\r\n",
    "    \"\"\"\r\n",
    "        Function that takes a tweet and phrase size as inputs.\r\n",
    "        Returns Dictionary of consecutive word phrases of given \"size\"\r\n",
    "    \"\"\"\r\n",
    "    wordList = tweet.lower().split()\r\n",
    "    phraseList = dict()\r\n",
    "    for index in range(len(wordList)-size+1):\r\n",
    "        phrase = tuple(sorted(wordList[index:index+size]))\r\n",
    "        if phrase not in phraseList.keys():\r\n",
    "            phraseList[phrase] = 1\r\n",
    "        else:\r\n",
    "            phraseList[phrase] += 1\r\n",
    "    return phraseList\r\n",
    "    \r\n",
    "# moving_window(\"The quick Brown Fox jumped over the lazy dog\")"
   ],
   "outputs": [],
   "metadata": {}
  },
  {
   "cell_type": "markdown",
   "source": [
    "## Calculate Similarity between two tweets\r\n",
    "\r\n",
    "To check if one tweet is a near-duplicate of another, we compute their cosine similarity:\r\n",
    "\r\n",
    "_cosine(tweet1, tweet2)_ = matches/√(n1∗n2)\r\n",
    "\r\n",
    "where matches is the number of 3-word phrases in common between the two tweets, and n1 and n2 are the number of phrases in the two tweets respectively.\r\n",
    "\r\n",
    "- Write a function called **cosine** that takes as input two dictionaries.\r\n",
    "- Each dictionary contains the 3-word phrases from one tweet.\r\n",
    "- Return the cosine similarity between the phrases in the two dictionaries"
   ],
   "metadata": {}
  },
  {
   "cell_type": "code",
   "execution_count": 2,
   "source": [
    "import math\r\n",
    "def Cosine(tweet1: dict, tweet2: dict):\r\n",
    "    \"\"\"\r\n",
    "        Function to compare the cosine similarity between two tweets.\r\n",
    "        Inputs: Tweet1 and Tweet2\r\n",
    "        Output: Cosine Similarity Score\r\n",
    "    \"\"\"\r\n",
    "    phraseSet1 = set(tweet1.keys())\r\n",
    "    phraseSet2 = set(tweet2.keys())\r\n",
    "    # print(phraseSet1)\r\n",
    "    # print(phraseSet2)\r\n",
    "\r\n",
    "    intersection = phraseSet1.intersection(phraseSet2)\r\n",
    "    # print(intersection)\r\n",
    "\r\n",
    "    return len(intersection)/math.sqrt(len(phraseSet1)*len(phraseSet2))\r\n",
    "\r\n",
    "# sentence1 = \"The quick Brown Fox jumped over the lazy dog\"\r\n",
    "# sentence2 = \"the lazy dog is a man's best friend\"\r\n",
    "# Cosine(moving_window(sentence1),moving_window(sentence2))"
   ],
   "outputs": [],
   "metadata": {}
  },
  {
   "cell_type": "markdown",
   "source": [
    "## Read in tweets, and output near-duplicates (8 points)\r\n",
    "\r\n",
    "- Read in the tweets in the file **Santa.txt**.\r\n",
    "- For each tweet, figure out if it is a _near-duplicate_ of any of the previously-seen tweets.\r\n",
    "- We say that the two tweets are _near-duplicates_ if their cosine similarity is greater than **0.5**.\r\n",
    "- You should call the functions: _moving\\_window_ and _cosine_ here"
   ],
   "metadata": {}
  },
  {
   "cell_type": "code",
   "execution_count": 3,
   "source": [
    "filename = \"Santa.txt\"\r\n",
    "with open(filename,\"r\") as f:\r\n",
    "    content = f.readlines()\r\n",
    "    f.close()\r\n",
    "print(\"Number of Tweets:\", len(content))\r\n",
    "# content"
   ],
   "outputs": [
    {
     "output_type": "stream",
     "name": "stdout",
     "text": [
      "Number of Tweets: 5\n"
     ]
    }
   ],
   "metadata": {}
  },
  {
   "cell_type": "code",
   "execution_count": 6,
   "source": [
    "counter = 0\r\n",
    "for i in range(len(content)):\r\n",
    "    for j in range(0,i):\r\n",
    "        cosine_score = Cosine(moving_window(content[i]),moving_window(content[j]))\r\n",
    "        if cosine_score >= 0.5:\r\n",
    "            print(\"\"\"\r\n",
    "Match Found between tweets: {i}, {j}!\\n\\tScore: {score}\r\n",
    "-------------\r\n",
    "Tweet{i}: {tweet1}\r\n",
    "Tweet{j}: {tweet2}\"\"\".format(score = cosine_score,\r\n",
    "                        tweet1 = content[i].rstrip(),\r\n",
    "                        tweet2 = content[j].rstrip(),\r\n",
    "                        i = i+1, j = j+1))\r\n",
    "            counter += 1\r\n",
    "print(\"Total Matches: {}\".format(counter))"
   ],
   "outputs": [
    {
     "output_type": "stream",
     "name": "stdout",
     "text": [
      "\n",
      "Match Found between tweets: 3, 1!\n",
      "\tScore: 0.8838834764831844\n",
      "-------------\n",
      "Tweet3: RT @BuyBookstore: SPECIAL SECRET HEARTS: A Child's Introduction to Dementia and Pink Curls - A Santa ... - http://t.co/UWCdc8FA9a http://t.Â…\n",
      "Tweet1: SPECIAL SECRET HEARTS: A Child's Introduction to Dementia and Pink Curls - A Santa ... - http://t.co/UWCdc8FA9a http://t.co/meexKLGTKl\n",
      "\n",
      "Match Found between tweets: 4, 2!\n",
      "\tScore: 0.628970902033151\n",
      "-------------\n",
      "Tweet4: \"RT @DrewFtDevonne_: Rt si te gusta Santa Claus Is Coming To Town #MTVHottest Justin Bieber\"\n",
      "Tweet2: \"Santa Claus Is Coming To Town #MTVHottest Justin Bieber\"\n",
      "\n",
      "Match Found between tweets: 5, 2!\n",
      "\tScore: 0.6837634587578276\n",
      "-------------\n",
      "Tweet5: \"Rt si te gusta Santa Claus Is Coming To Town #MTVHottest Justin Bieber\"\n",
      "Tweet2: \"Santa Claus Is Coming To Town #MTVHottest Justin Bieber\"\n",
      "\n",
      "Match Found between tweets: 5, 4!\n",
      "\tScore: 0.8362420100070908\n",
      "-------------\n",
      "Tweet5: \"Rt si te gusta Santa Claus Is Coming To Town #MTVHottest Justin Bieber\"\n",
      "Tweet4: \"RT @DrewFtDevonne_: Rt si te gusta Santa Claus Is Coming To Town #MTVHottest Justin Bieber\"\n",
      "Total Matches: 4\n"
     ]
    }
   ],
   "metadata": {}
  },
  {
   "cell_type": "code",
   "execution_count": null,
   "source": [],
   "outputs": [],
   "metadata": {}
  }
 ],
 "metadata": {
  "orig_nbformat": 4,
  "language_info": {
   "name": "python"
  }
 },
 "nbformat": 4,
 "nbformat_minor": 2
}