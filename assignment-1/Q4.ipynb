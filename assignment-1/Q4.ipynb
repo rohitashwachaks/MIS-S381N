{
 "cells": [
  {
   "cell_type": "markdown",
   "source": [
    "# The Google of Quotes (40 points)\r\n",
    "\r\n",
    " The file “quotes.txt” contains pairs of lines, with the first line being a quoteand  the  following  line  being  the  person  who  said  it.   We  want  to  build  asearch engine that, given a word or words, finds the best matching quotes."
   ],
   "metadata": {}
  },
  {
   "cell_type": "code",
   "execution_count": 1,
   "source": [
    "import re\r\n",
    "filename = \"quotes.txt\"\r\n",
    "with open(filename,\"r\") as f:\r\n",
    "    content = f.readlines()\r\n",
    "    f.close()\r\n",
    "print(\"Number of Lines:\", len(content))"
   ],
   "outputs": [
    {
     "output_type": "stream",
     "name": "stdout",
     "text": [
      "Number of Lines: 1772\n"
     ]
    }
   ],
   "metadata": {}
  },
  {
   "cell_type": "markdown",
   "source": [
    "# Build a list of full quotes (5 points)\r\n",
    "\r\n",
    "Read in the file, and create a list of full quotes of the form “quote - speaker”.\r\n",
    "\r\n",
    "For example,“The hearthas its reasons, of which the mind knows nothing. - Blaise Pascal”."
   ],
   "metadata": {}
  },
  {
   "cell_type": "code",
   "execution_count": 2,
   "source": [
    "# Regex to clear string.\r\n",
    "# String can contain only Characters, Digits or underscore\r\n",
    "content = list(map(lambda x: re.sub('[^A-Za-z0-9_ ]', '', x),content))\r\n",
    "content[0:8]"
   ],
   "outputs": [
    {
     "output_type": "execute_result",
     "data": {
      "text/plain": [
       "['How we spend our days is of course how we spend our lives',\n",
       " 'Annie Dillard',\n",
       " 'Two roads diverged in a wood and II took the one less traveled by and that has made all the difference',\n",
       " 'Robert Frost',\n",
       " 'What is happiness The feeling that power is growing that resistance is overcome',\n",
       " 'Friedrich Nietzsche',\n",
       " 'A great deal of intelligence can be invested in ignorance when the need for illusion is deep',\n",
       " 'Saul Bellow']"
      ]
     },
     "metadata": {},
     "execution_count": 2
    }
   ],
   "metadata": {}
  },
  {
   "cell_type": "code",
   "execution_count": 3,
   "source": [
    "content = [\" - \".join([content[i],content[i+1]]) for i in range(0,len(content),2)]\r\n",
    "print(len(content))\r\n",
    "content[0:5]"
   ],
   "outputs": [
    {
     "output_type": "stream",
     "name": "stdout",
     "text": [
      "886\n"
     ]
    },
    {
     "output_type": "execute_result",
     "data": {
      "text/plain": [
       "['How we spend our days is of course how we spend our lives - Annie Dillard',\n",
       " 'Two roads diverged in a wood and II took the one less traveled by and that has made all the difference - Robert Frost',\n",
       " 'What is happiness The feeling that power is growing that resistance is overcome - Friedrich Nietzsche',\n",
       " 'A great deal of intelligence can be invested in ignorance when the need for illusion is deep - Saul Bellow',\n",
       " 'Those who are preoccupied with making a statement usually dont have any statements worth making - Thomas Sowell']"
      ]
     },
     "metadata": {},
     "execution_count": 3
    }
   ],
   "metadata": {}
  },
  {
   "cell_type": "markdown",
   "source": [
    "# Words from full quotes (5 points)\r\n",
    "\r\n",
    "- Write  a  function  that  takes a full  quote  as  argument  and  outputs  a  list  of  the  words  in  the  it.\r\n",
    "- The words should all be lower-case, and should contain only characters, digits, or underscore\r\n"
   ],
   "metadata": {}
  },
  {
   "cell_type": "code",
   "execution_count": 4,
   "source": [
    "def WordSplit(quote: str):\r\n",
    "    \"\"\"\r\n",
    "        .\r\n",
    "    \"\"\"\r\n",
    "    return tuple(quote.lower().replace(\" - \",\" \").replace(\".\",\" \").split())\r\n",
    "\r\n",
    "list(map(WordSplit, content))[0]"
   ],
   "outputs": [
    {
     "output_type": "execute_result",
     "data": {
      "text/plain": [
       "('how',\n",
       " 'we',\n",
       " 'spend',\n",
       " 'our',\n",
       " 'days',\n",
       " 'is',\n",
       " 'of',\n",
       " 'course',\n",
       " 'how',\n",
       " 'we',\n",
       " 'spend',\n",
       " 'our',\n",
       " 'lives',\n",
       " 'annie',\n",
       " 'dillard')"
      ]
     },
     "metadata": {},
     "execution_count": 4
    }
   ],
   "metadata": {}
  },
  {
   "cell_type": "markdown",
   "source": [
    "# Build the postings-list dictionary (6 points)\r\n",
    "\r\n",
    "A postings-list is a dictionary  whose  keys  are  full  quotes,  and  whose  values  are  themselves dictionaries  with  key  being  a  word,  and  value  being  the  number  of  times the  word  occurs  in  the  full  quote.\r\n",
    "\r\n",
    "So, for the **key** _\"The heart has its reasons, of which the mind knows nothing. - Blaise Pascal\"_,\r\n",
    "\r\n",
    "the value will itself be the following  dictionary:\r\n",
    "\r\n",
    "```Python\r\n",
    "{\"the\":2, \"heart\":1, \"has\":1, \"its\":1, \"reasons\":1, \"of\":1, \"which\":1, \"mind\":1, \"knows\":1, \"nothing\":1, \"blaise\":1, \"pascal\":1}\r\n",
    "```\r\n"
   ],
   "metadata": {}
  },
  {
   "cell_type": "code",
   "execution_count": 5,
   "source": [
    "def TfDict(words: tuple):\r\n",
    "    \"\"\"\r\n",
    "        .\r\n",
    "    \"\"\"\r\n",
    "    tfDict = dict()\r\n",
    "    for word in words:\r\n",
    "        if word not in tfDict.keys():\r\n",
    "            tfDict[word] = 1\r\n",
    "        else:\r\n",
    "            tfDict[word] += 1\r\n",
    "    return tfDict\r\n",
    "\r\n",
    "list(map(TfDict,map(WordSplit, content)))[0]"
   ],
   "outputs": [
    {
     "output_type": "execute_result",
     "data": {
      "text/plain": [
       "{'how': 2,\n",
       " 'we': 2,\n",
       " 'spend': 2,\n",
       " 'our': 2,\n",
       " 'days': 1,\n",
       " 'is': 1,\n",
       " 'of': 1,\n",
       " 'course': 1,\n",
       " 'lives': 1,\n",
       " 'annie': 1,\n",
       " 'dillard': 1}"
      ]
     },
     "metadata": {},
     "execution_count": 5
    }
   ],
   "metadata": {}
  },
  {
   "cell_type": "code",
   "execution_count": 6,
   "source": [
    "postingsList = dict()\r\n",
    "for quote in content:\r\n",
    "    if quote not in postingsList.keys():\r\n",
    "        postingsList[quote] = TfDict(WordSplit(quote))\r\n",
    "    else:\r\n",
    "        print(\"Duplicate Quote:\\n{quote}\".format(quote = quote))\r\n",
    "postingsList['How we spend our days is of course how we spend our lives - Annie Dillard']"
   ],
   "outputs": [
    {
     "output_type": "execute_result",
     "data": {
      "text/plain": [
       "{'how': 2,\n",
       " 'we': 2,\n",
       " 'spend': 2,\n",
       " 'our': 2,\n",
       " 'days': 1,\n",
       " 'is': 1,\n",
       " 'of': 1,\n",
       " 'course': 1,\n",
       " 'lives': 1,\n",
       " 'annie': 1,\n",
       " 'dillard': 1}"
      ]
     },
     "metadata": {},
     "execution_count": 6
    }
   ],
   "metadata": {}
  },
  {
   "cell_type": "markdown",
   "source": [
    "# Build the reverse postings-list dictionary (6 points)\r\n",
    "\r\n",
    "A reverse postings-list is a dictionary whose keys are the words, and the values are themselves dictionaries with the key being a full quote, and the value being the number of times the word appeared in the full quote.\r\n",
    "\r\n",
    "So, for the key _\"entertainer\"_, the value is the dictionary\r\n",
    "\r\n",
    "```Python\r\n",
    "{\"An actor is at most a poet and at least an entertainer. - Marlon Brando\":  1} \r\n",
    "#only this quote contains the word “entertainer”\r\n",
    "```\r\n"
   ],
   "metadata": {}
  },
  {
   "cell_type": "code",
   "execution_count": 7,
   "source": [
    "# Create Set of all words\r\n",
    "allWords = set(\" \".join(content).lower().replace(\" - \",\" \").replace(\".\",\" \").split())\r\n",
    "print(len(allWords))"
   ],
   "outputs": [
    {
     "output_type": "stream",
     "name": "stdout",
     "text": [
      "3888\n"
     ]
    }
   ],
   "metadata": {}
  },
  {
   "cell_type": "code",
   "execution_count": 8,
   "source": [
    "def IdfDict(word: str):\r\n",
    "    \"\"\"\r\n",
    "        .\r\n",
    "    \"\"\"\r\n",
    "    idfDict = dict()\r\n",
    "    for quote in content:\r\n",
    "        if word in postingsList[quote].keys():\r\n",
    "            idfDict[quote] = postingsList[quote][word]\r\n",
    "    return idfDict\r\n",
    "\r\n",
    "IdfDict(\"spend\")"
   ],
   "outputs": [
    {
     "output_type": "execute_result",
     "data": {
      "text/plain": [
       "{'How we spend our days is of course how we spend our lives - Annie Dillard': 2,\n",
       " 'Are you entitled to the fruits of your labor or does government have some presumptive right to spend and spend and spend - Ronald Reagan': 3,\n",
       " 'If God had wanted us to spend our time fretting about the problems of home ownership He would never have invented beer - Dave Barry': 1}"
      ]
     },
     "metadata": {},
     "execution_count": 8
    }
   ],
   "metadata": {}
  },
  {
   "cell_type": "code",
   "execution_count": 9,
   "source": [
    "revPostingsList = dict()\r\n",
    "for word in allWords:\r\n",
    "    if word not in revPostingsList.keys():\r\n",
    "        revPostingsList[word] = IdfDict(word)\r\n",
    "    else:\r\n",
    "        print(\"Duplicate Word:\\n{word}\".format(word = word))\r\n",
    "revPostingsList[\"entertainer\"]"
   ],
   "outputs": [
    {
     "output_type": "execute_result",
     "data": {
      "text/plain": [
       "{'An actor is at most a poet and at least an entertainer - Marlon Brando': 1}"
      ]
     },
     "metadata": {},
     "execution_count": 9
    }
   ],
   "metadata": {}
  },
  {
   "cell_type": "markdown",
   "source": [
    "# Write a TF-IDF function (8 points)\r\n",
    "\r\n",
    "To measure how much a full quote is about a particular word, one typically uses the TF-IDF measure\r\n",
    "\r\n",
    "## TF\r\n",
    "\r\n",
    "- TF  stands  for  **term  frequency**\r\n",
    "- The  term  frequency  of  a  word _w_ in a  full  quote _q_ is  the  **number  of  times** _w_ occurs  in q,  divided  by  the maximum number of times any word occurs in _q_\r\n",
    "\r\n",
    "## IDF\r\n",
    "\r\n",
    "- IDF stands for **inverse document frequency**\r\n",
    "- The IDF of a word _w_ is the logarithm of the ratio of the total number _N_ of full quotes to the number of full quotes in that contain the word _w_\r\n",
    "\r\n",
    "TF-IDF of a word _w_ for a full quote _q_ is just the **product** of the **TF** and **IDF**.\r\n",
    "\r\n",
    "So, for the word _entertainer_ in the Marlon Brando quote of part (d):\r\n",
    "\r\n",
    "- The  TF  is  0.5  (it  occurs  once,  while  the  most  frequent  word  in  that quote is “at”, which occurs twice, so the TF ratio is 0.5)\r\n",
    "- The IDF is log (886/1),  since there are 886 documents and the word“entertainer ”occurs in only one full quote.\r\n",
    "\r\n",
    "Write a function to compute the TF-IDF of any word in any full quote, using the postings and reverse-postings.\r\n",
    "\r\n",
    "Hint:Do import math and use _math.log()_ to get logarithms.\r\n"
   ],
   "metadata": {}
  },
  {
   "cell_type": "code",
   "execution_count": 10,
   "source": [
    "import operator\r\n",
    "def MaxWordFreqinQuote(quote: str):\r\n",
    "    return max(postingsList[quote].items(), key=operator.itemgetter(1))[1]"
   ],
   "outputs": [],
   "metadata": {}
  },
  {
   "cell_type": "code",
   "execution_count": 11,
   "source": [
    "import math\r\n",
    "def TfIdf(word: str, quote: str):\r\n",
    "    \"\"\"\r\n",
    "        .\r\n",
    "    \"\"\"\r\n",
    "    tf, idf = 0,0\r\n",
    "\r\n",
    "    # Check if Quote Exists and Word exists in Quote. Else, return 0 (b/c TF = 0)\r\n",
    "    if (quote in postingsList.keys())and (word in postingsList[quote].keys()):\r\n",
    "        tf = postingsList[quote][word]/MaxWordFreqinQuote(quote)\r\n",
    "    \r\n",
    "    # Check if Word exists in revPostingList. Else, return 0 (b/c IDF = 0)\r\n",
    "    if word in revPostingsList.keys():\r\n",
    "        idf = math.log(len(content) / len(revPostingsList[word].keys()))\r\n",
    "    else:\r\n",
    "        return \"Word Does not exist\"\r\n",
    "    # print(\"TF: {tfscore};\\nIDF: log({N}/{x}) = {idfscore}\".format(tfscore = tf,\r\n",
    "    #                                                             idfscore = idf,\r\n",
    "    #                                                             N = len(content),\r\n",
    "    #                                                             x = len(revPostingsList[word].keys())))\r\n",
    "    return tf*idf"
   ],
   "outputs": [],
   "metadata": {}
  },
  {
   "cell_type": "markdown",
   "source": [
    "## Quote  search  using  a  single  word  (5  points)\r\n",
    "\r\n",
    "Write  a  function that takes a word as argument, and returns a dictionary whose keys are full quotes containing that word, and whose values are the TF-IDF score of thatword for that full quote.\r\n"
   ],
   "metadata": {}
  },
  {
   "cell_type": "code",
   "execution_count": 12,
   "source": [
    "def SingleWordScore(word: str):\r\n",
    "    \"\"\"\r\n",
    "        Input: Word \r\n",
    "        Returns: A dictionary:   KEYS -> full quotes containing that word\r\n",
    "                                VALUE -> TF-IDF score of the word for that full quote\r\n",
    "    \"\"\"\r\n",
    "    score = dict()\r\n",
    "    if word in revPostingsList.keys():\r\n",
    "        for quote in revPostingsList[word]:\r\n",
    "            score[quote] = TfIdf(word = word, quote= quote)\r\n",
    "    return score\r\n",
    "\r\n",
    "SingleWordScore(\"spent\")"
   ],
   "outputs": [
    {
     "output_type": "execute_result",
     "data": {
      "text/plain": [
       "{'I feel impelled to speak today in a language that in a sense is newone which I who have spent so much of my life in the military profession would have preferred never to use That new language is the language of atomic warfare - Dwight Eisenhower': 2.0311899233483786,\n",
       " 'There are perhaps no days of our childhood we lived so fully as those we spent with a favorite book - Marcel Proust': 3.046784885022568}"
      ]
     },
     "metadata": {},
     "execution_count": 12
    }
   ],
   "metadata": {}
  },
  {
   "cell_type": "code",
   "execution_count": 13,
   "source": [
    "SingleWordScore(\"book\")"
   ],
   "outputs": [
    {
     "output_type": "execute_result",
     "data": {
      "text/plain": [
       "{'The Bible is not my book and Christianity is not my religion I could never give assent to the long complicated statements of Christian dogma - Abraham Lincoln': 2.497478740688513,\n",
       " 'There is a great deal of difference between an eager man who wants to read a book and the tired man who wants a book to read - GK Chesterton': 3.3299716542513504,\n",
       " 'The covers of this book are too far apart - Ambrose Bierce': 4.994957481377026,\n",
       " 'There are perhaps no days of our childhood we lived so fully as those we spent with a favorite book - Marcel Proust': 2.497478740688513,\n",
       " 'A truly great book should be read in youth again in maturity and once more in old age as a fine building should be seen by morning light at noon and by moonlight - Robertson Davies': 1.6649858271256752,\n",
       " 'Dont join the book burners Do not think you are going to conceal thoughts by concealing evidence that they ever existed - Dwight Eisenhower': 4.994957481377026}"
      ]
     },
     "metadata": {},
     "execution_count": 13
    }
   ],
   "metadata": {}
  },
  {
   "cell_type": "markdown",
   "source": [
    "## Quote search using multiple words (5 points)\r\n",
    "\r\n",
    "Write a function that takes a list of words as argument, and returns a dictionary whose keys are full quotes containing one or more of the words in that list, and whose values are the **sum of TF-IDF scores** of the words in that list for that full-quote.\r\n"
   ],
   "metadata": {}
  },
  {
   "cell_type": "code",
   "execution_count": 14,
   "source": [
    "def MultiWordScore(wordList: list):\r\n",
    "    \"\"\"\r\n",
    "        Input: List of Words\r\n",
    "        Returns: A dictionary:   KEYS -> full quotes containing that word(s)\r\n",
    "                                VALUE -> sum of TF-IDF score of the word(s) for that full quote\r\n",
    "    \"\"\"\r\n",
    "    score = dict()\r\n",
    "    for word in wordList:\r\n",
    "        if word in revPostingsList.keys():\r\n",
    "            for quote in revPostingsList[word]:\r\n",
    "                if quote in score.keys():\r\n",
    "                    score[quote] += TfIdf(word = word, quote= quote)\r\n",
    "                else:\r\n",
    "                    score[quote] = TfIdf(word = word, quote= quote)\r\n",
    "    return score\r\n",
    "\r\n",
    "MultiWordScore([\"spent\",\"book\",\"entertainer\"])"
   ],
   "outputs": [
    {
     "output_type": "execute_result",
     "data": {
      "text/plain": [
       "{'I feel impelled to speak today in a language that in a sense is newone which I who have spent so much of my life in the military profession would have preferred never to use That new language is the language of atomic warfare - Dwight Eisenhower': 2.0311899233483786,\n",
       " 'There are perhaps no days of our childhood we lived so fully as those we spent with a favorite book - Marcel Proust': 5.54426362571108,\n",
       " 'The Bible is not my book and Christianity is not my religion I could never give assent to the long complicated statements of Christian dogma - Abraham Lincoln': 2.497478740688513,\n",
       " 'There is a great deal of difference between an eager man who wants to read a book and the tired man who wants a book to read - GK Chesterton': 3.3299716542513504,\n",
       " 'The covers of this book are too far apart - Ambrose Bierce': 4.994957481377026,\n",
       " 'A truly great book should be read in youth again in maturity and once more in old age as a fine building should be seen by morning light at noon and by moonlight - Robertson Davies': 1.6649858271256752,\n",
       " 'Dont join the book burners Do not think you are going to conceal thoughts by concealing evidence that they ever existed - Dwight Eisenhower': 4.994957481377026,\n",
       " 'An actor is at most a poet and at least an entertainer - Marlon Brando': 3.3933584753025405}"
      ]
     },
     "metadata": {},
     "execution_count": 14
    }
   ],
   "metadata": {}
  },
  {
   "cell_type": "markdown",
   "source": [
    "<br><p>\r\n",
    "**TF-IDF** score of _**spent**_ in _'There are perhaps no days of our childhood we lived so fully as those we spent with a favorite book - Marcel Proust'_ : **3.0467**\r\n",
    "<br><p>\r\n",
    "**TF-IDF** score of _**book**_ in _'There are perhaps no days of our childhood we lived so fully as those we spent with a favorite book - Marcel Proust'_ : **2.4974**\r\n",
    "<br><p>\r\n",
    "**TF-IDF** score of _**spent, book**_ in _'There are perhaps no days of our childhood we lived so fully as those we spent with a favorite book - Marcel Proust'_ : **5.54426**"
   ],
   "metadata": {}
  }
 ],
 "metadata": {
  "orig_nbformat": 4,
  "language_info": {
   "name": "python"
  }
 },
 "nbformat": 4,
 "nbformat_minor": 2
}