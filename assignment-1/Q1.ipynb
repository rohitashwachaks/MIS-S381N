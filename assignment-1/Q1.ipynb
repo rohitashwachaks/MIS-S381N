{
 "cells": [
  {
   "cell_type": "markdown",
   "id": "6e254033",
   "metadata": {},
   "source": [
    "# ROCK PAPER SCISSOR"
   ]
  },
  {
   "cell_type": "markdown",
   "id": "bc3e5155",
   "metadata": {},
   "source": [
    "## Importing the relevant liabraries"
   ]
  },
  {
   "cell_type": "code",
   "execution_count": 41,
   "id": "78e3f8c8",
   "metadata": {},
   "outputs": [],
   "source": [
    "## Loading liabraries to work\n",
    "import numpy as np\n",
    "## Command to display all outputs in Jupyter \n",
    "from IPython.core.interactiveshell import InteractiveShell\n",
    "InteractiveShell.ast_node_interactivity = \"all\""
   ]
  },
  {
   "cell_type": "markdown",
   "id": "481f8b92",
   "metadata": {},
   "source": [
    "## Defining constant parameters that we will use in the code later "
   ]
  },
  {
   "cell_type": "markdown",
   "id": "9f4548fe",
   "metadata": {},
   "source": [
    "Choice List: A list of possible choices that can be made\n",
    "\n",
    "winning dictionary : This is the dictionary to choose the weapon against the Person so that computer can win the game"
   ]
  },
  {
   "cell_type": "code",
   "execution_count": 42,
   "id": "0119e786",
   "metadata": {},
   "outputs": [],
   "source": [
    "\n",
    "### Lets first associate a dictionary to the possible outcomes : R: R; P:P ; S:S ; Quit:Q\n",
    "choice_list = ['R','P','S','Q']\n",
    "\n",
    "\n",
    "## Defining Winning Dictionary\n",
    "winning_dictionary = {\n",
    "    'S':'R',\n",
    "    'P':'S',\n",
    "    'R':'P'}"
   ]
  },
  {
   "cell_type": "markdown",
   "id": "28d82d98",
   "metadata": {},
   "source": [
    "## Functions for computer choice\n",
    "\n",
    "most_frequent:\n",
    "\n",
    "    1. function to instruct computer to counter the most frequent weapon used by Human\n",
    "    \n",
    "    2. In case there is a tie in choice the funciton will pick up the most recent one\n",
    "    \n",
    "choice_comp:\n",
    "\n",
    "    1. Function that calls the most frequent function and assigns a choice for the computer\n",
    "    \n",
    "    2. In case its the first iteration, computer is assigned a random weapon\n",
    "   "
   ]
  },
  {
   "cell_type": "code",
   "execution_count": 43,
   "id": "3b7dd83b",
   "metadata": {},
   "outputs": [],
   "source": [
    "## Defining most frequent element in a list\n",
    "def most_frequent(test_list):\n",
    "    \"\"\"\n",
    "    This function takes a list as an input and returns the most frequent element in the list.\n",
    "    In case the frequency matches, it returns the \n",
    "    most recent one. \n",
    "    \"\"\"\n",
    "    R_freq = test_list.count('R')\n",
    "    P_freq = test_list.count('P')\n",
    "    S_freq = test_list.count('S')\n",
    "    \n",
    "    max_dict = {\n",
    "        R_freq:'R',\n",
    "        P_freq:'P',\n",
    "        S_freq:'S'}\n",
    "    ## maximum freq case : To get the highest frequency weapon\n",
    "    max_freq_list = [R_freq, P_freq, S_freq]\n",
    "    #print(max_freq_list)\n",
    "    max_freq_weapon  = max(R_freq,P_freq,S_freq)\n",
    "    if max_freq_list.count(max_freq_weapon)>1:\n",
    "        #There is a tie with frequency:\n",
    "        ## Choose the most recent:\n",
    "        return test_list[-1]\n",
    "    else:\n",
    "        return max_dict[max_freq_weapon]\n",
    "\n",
    "\n",
    "## Computer Choice Function\n",
    "def choice_comp(iterations, player_moves):\n",
    "    if iterations == 0:\n",
    "        comp_choice = int(np.random.randint(0,3,1))\n",
    "        return choice_list[comp_choice]\n",
    "    else:\n",
    "        return winning_dictionary[most_frequent(player_moves)]"
   ]
  },
  {
   "cell_type": "markdown",
   "id": "dc46edfb",
   "metadata": {},
   "source": [
    "## Function to ensure that there is no bad input from the user"
   ]
  },
  {
   "cell_type": "code",
   "execution_count": 44,
   "id": "1b6719be",
   "metadata": {},
   "outputs": [],
   "source": [
    "## This will ensure that only good Inputs come from the Player\n",
    "def Pchoice_func():\n",
    "    Pchoice = str(input(\"Please Choose Your Weapon (R:Rock; P:Paper ; S:Scissor ; Q: Quit) :\")).upper()\n",
    "    if Pchoice not in choice_list:\n",
    "        print(\"ERROR!!! Choose a valid weapon\")\n",
    "        return Pchoice_func()\n",
    "    else:\n",
    "        return(Pchoice)\n"
   ]
  },
  {
   "cell_type": "markdown",
   "id": "7f9b5245",
   "metadata": {},
   "source": [
    "## Function to define winning criteria"
   ]
  },
  {
   "cell_type": "code",
   "execution_count": 45,
   "id": "d67d4f5e",
   "metadata": {},
   "outputs": [],
   "source": [
    "## Deciding Criteria of Winning/Loosing/Draw\n",
    "def win_criteria(human,comp):\n",
    "    if human == comp : \n",
    "        return 0\n",
    "    elif (human == 'P' and comp == 'R') or (human == 'R' and comp == 'S') or (human == 'S' and comp == 'P'):\n",
    "        return 1\n",
    "    elif human =='Q':\n",
    "        return -99\n",
    "    else: \n",
    "        return -1"
   ]
  },
  {
   "cell_type": "markdown",
   "id": "8a2bc547",
   "metadata": {},
   "source": [
    "## Main function of code"
   ]
  },
  {
   "cell_type": "code",
   "execution_count": 46,
   "id": "f0667331",
   "metadata": {},
   "outputs": [
    {
     "name": "stdout",
     "output_type": "stream",
     "text": [
      "Please Choose Your Weapon (R:Rock; P:Paper ; S:Scissor ; Q: Quit) :Q\n",
      "You played 0 games and won 0 times\n"
     ]
    }
   ],
   "source": [
    "## Now lets start the main code to play the game\n",
    "Pchoicelist = list([]) \n",
    "Cchoicelist = list([])\n",
    "Pchoice = 'Null'\n",
    "game_iterations = 0\n",
    "games_result = list([])\n",
    "while Pchoice != 'Q':\n",
    "    Pchoice = Pchoice_func()\n",
    "    Cchoice = choice_comp(game_iterations,Pchoicelist)\n",
    "#    print(\"Person :{} , Computer : {}\".format(Pchoice , Cchoice))\n",
    "    Cchoicelist.append(Cchoice) \n",
    "    res = win_criteria(Pchoice,Cchoice)\n",
    "    if res == 0:\n",
    "        print(\"It's a draw\")\n",
    "    game_iterations+=1\n",
    "    games_result.append(res)\n",
    "    Pchoicelist.append(Pchoice) \n",
    "\n",
    "print(\"You played {} games and won {} times\".format(game_iterations-1 , games_result.count(1)))"
   ]
  }
 ],
 "metadata": {
  "kernelspec": {
   "display_name": "Python 3",
   "language": "python",
   "name": "python3"
  },
  "language_info": {
   "codemirror_mode": {
    "name": "ipython",
    "version": 3
   },
   "file_extension": ".py",
   "mimetype": "text/x-python",
   "name": "python",
   "nbconvert_exporter": "python",
   "pygments_lexer": "ipython3",
   "version": "3.8.8"
  }
 },
 "nbformat": 4,
 "nbformat_minor": 5
}
