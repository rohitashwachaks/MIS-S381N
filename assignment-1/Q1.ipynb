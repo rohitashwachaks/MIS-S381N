{
 "cells": [
  {
   "cell_type": "markdown",
   "source": [
    "# Rock, Paper, Scissors (20 points)\r\n",
    "\r\n",
    "## Game setup:\r\n",
    "\r\n",
    "- Each game round consists two turns, the first by the computer and the second by a human.\r\n",
    "\r\n",
    "- The computer continues playing rounds untill the human chooses to quit.\r\n",
    "\r\n",
    "- The computer chooses one of Rock, Paper, and Scissors, but keeps its choice secret.\r\n",
    "\r\n",
    "- The computer asks for the human’s input.\r\n",
    "\r\n",
    "- The human chooses one of Rock, Paper, and Scissors, or Quit.\r\n",
    "\r\n",
    "- Unless the human quits, the computer figures out the result of the game, as follows:\r\n",
    "  - Rock smashes Scissors, so Rock beats Scissors\r\n",
    "  - Scissors can cut up paper, so Scissors beat Paper\r\n",
    "  - Paper covers Rock, so Paper beats Rock\r\n",
    "  - If both players chose the same, it is a draw\r\n",
    "  - The computer reports theresult of this round\r\n",
    "\r\n",
    "- If the human chooses to quit, the computer reports:\r\n",
    "  - Number of games played\r\n",
    "  - Number of times the human won\r\n"
   ],
   "metadata": {}
  },
  {
   "cell_type": "markdown",
   "source": [
    "## Importing the relevant liabraries"
   ],
   "metadata": {}
  },
  {
   "cell_type": "code",
   "execution_count": 41,
   "source": [
    "## Loading liabraries to work\r\n",
    "import numpy as np\r\n",
    "## Command to display all outputs in Jupyter \r\n",
    "from IPython.core.interactiveshell import InteractiveShell\r\n",
    "InteractiveShell.ast_node_interactivity = \"all\""
   ],
   "outputs": [],
   "metadata": {}
  },
  {
   "cell_type": "markdown",
   "source": [
    "## Defining constant parameters that we will use in the code later "
   ],
   "metadata": {}
  },
  {
   "cell_type": "markdown",
   "source": [
    "Choice List: A list of possible choices that can be made\n",
    "\n",
    "winning dictionary : This is the dictionary to choose the weapon against the Person so that computer can win the game"
   ],
   "metadata": {}
  },
  {
   "cell_type": "code",
   "execution_count": 42,
   "source": [
    "\r\n",
    "### Lets first associate a dictionary to the possible outcomes : R: R; P:P ; S:S ; Quit:Q\r\n",
    "choice_list = ['R','P','S','Q']\r\n",
    "\r\n",
    "\r\n",
    "## Defining Winning Dictionary\r\n",
    "winning_dictionary = {\r\n",
    "    'S':'R',\r\n",
    "    'P':'S',\r\n",
    "    'R':'P'}"
   ],
   "outputs": [],
   "metadata": {}
  },
  {
   "cell_type": "markdown",
   "source": [
    "## Functions for computer choice\n",
    "\n",
    "most_frequent:\n",
    "\n",
    "    1. function to instruct computer to counter the most frequent weapon used by Human\n",
    "    \n",
    "    2. In case there is a tie in choice the funciton will pick up the most recent one\n",
    "    \n",
    "choice_comp:\n",
    "\n",
    "    1. Function that calls the most frequent function and assigns a choice for the computer\n",
    "    \n",
    "    2. In case its the first iteration, computer is assigned a random weapon\n",
    "   "
   ],
   "metadata": {}
  },
  {
   "cell_type": "code",
   "execution_count": 43,
   "source": [
    "## Defining most frequent element in a list\r\n",
    "def most_frequent(test_list):\r\n",
    "    \"\"\"\r\n",
    "        This function takes a list as an input and returns the most frequent element in the list.\r\n",
    "        In case the frequency matches, it returns the \r\n",
    "        most recent one. \r\n",
    "    \"\"\"\r\n",
    "    R_freq = test_list.count('R')\r\n",
    "    P_freq = test_list.count('P')\r\n",
    "    S_freq = test_list.count('S')\r\n",
    "    \r\n",
    "    max_dict = {\r\n",
    "        R_freq:'R',\r\n",
    "        P_freq:'P',\r\n",
    "        S_freq:'S'}\r\n",
    "    ## maximum freq case : To get the highest frequency weapon\r\n",
    "    max_freq_list = [R_freq, P_freq, S_freq]\r\n",
    "    #print(max_freq_list)\r\n",
    "    max_freq_weapon  = max(R_freq,P_freq,S_freq)\r\n",
    "    if max_freq_list.count(max_freq_weapon)>1:\r\n",
    "        #There is a tie with frequency:\r\n",
    "        ## Choose the most recent:\r\n",
    "        return test_list[-1]\r\n",
    "    else:\r\n",
    "        return max_dict[max_freq_weapon]"
   ],
   "outputs": [],
   "metadata": {}
  },
  {
   "cell_type": "code",
   "execution_count": null,
   "source": [
    "def choice_comp(iterations, player_moves):\r\n",
    "    \"\"\"\r\n",
    "        Computer Choice Function\r\n",
    "    \"\"\"\r\n",
    "    if iterations == 0:\r\n",
    "        comp_choice = int(np.random.randint(0,3,1))\r\n",
    "        return choice_list[comp_choice]\r\n",
    "    else:\r\n",
    "        return winning_dictionary[most_frequent(player_moves)]"
   ],
   "outputs": [],
   "metadata": {}
  },
  {
   "cell_type": "markdown",
   "source": [
    "## Function to ensure that there is no bad input from the user"
   ],
   "metadata": {}
  },
  {
   "cell_type": "code",
   "execution_count": 44,
   "source": [
    "def Pchoice_func():\r\n",
    "    \"\"\"\r\n",
    "        This will ensure that only good Inputs come from the Player\r\n",
    "    \"\"\"\r\n",
    "    Pchoice = str(input(\"Please Choose Your Weapon (R:Rock; P:Paper ; S:Scissor ; Q: Quit) :\")).upper()\r\n",
    "    if Pchoice not in choice_list:\r\n",
    "        print(\"ERROR!!! Choose a valid weapon\")\r\n",
    "        return Pchoice_func()\r\n",
    "    else:\r\n",
    "        return(Pchoice)\r\n"
   ],
   "outputs": [],
   "metadata": {}
  },
  {
   "cell_type": "markdown",
   "source": [
    "## Function to define winning criteria"
   ],
   "metadata": {}
  },
  {
   "cell_type": "code",
   "execution_count": 45,
   "source": [
    "def win_criteria(human,comp):\r\n",
    "    \"\"\"\r\n",
    "        Deciding Criteria of Winning/Loosing/Draw\r\n",
    "    \"\"\"\r\n",
    "    if human == comp : \r\n",
    "        return 0\r\n",
    "    elif (human == 'P' and comp == 'R') or (human == 'R' and comp == 'S') or (human == 'S' and comp == 'P'):\r\n",
    "        return 1\r\n",
    "    elif human =='Q':\r\n",
    "        return -99\r\n",
    "    else: \r\n",
    "        return -1"
   ],
   "outputs": [],
   "metadata": {}
  },
  {
   "cell_type": "markdown",
   "source": [
    "## Main function of code"
   ],
   "metadata": {}
  },
  {
   "cell_type": "code",
   "execution_count": 46,
   "source": [
    "## Now lets start the main code to play the game\r\n",
    "Pchoicelist = list([]) \r\n",
    "Cchoicelist = list([])\r\n",
    "Pchoice = 'Null'\r\n",
    "game_iterations = 0\r\n",
    "games_result = list([])\r\n",
    "while Pchoice != 'Q':\r\n",
    "    Pchoice = Pchoice_func()\r\n",
    "    Cchoice = choice_comp(game_iterations,Pchoicelist)\r\n",
    "#    print(\"Person :{} , Computer : {}\".format(Pchoice , Cchoice))\r\n",
    "    Cchoicelist.append(Cchoice) \r\n",
    "    res = win_criteria(Pchoice,Cchoice)\r\n",
    "    if res == 0:\r\n",
    "        print(\"It's a draw\")\r\n",
    "    game_iterations+=1\r\n",
    "    games_result.append(res)\r\n",
    "    Pchoicelist.append(Pchoice) \r\n",
    "\r\n",
    "print(\"You played {} games and won {} times\".format(game_iterations-1 , games_result.count(1)))"
   ],
   "outputs": [
    {
     "output_type": "stream",
     "name": "stdout",
     "text": [
      "Please Choose Your Weapon (R:Rock; P:Paper ; S:Scissor ; Q: Quit) :Q\n",
      "You played 0 games and won 0 times\n"
     ]
    }
   ],
   "metadata": {}
  }
 ],
 "metadata": {
  "kernelspec": {
   "display_name": "Python 3",
   "language": "python",
   "name": "python3"
  },
  "language_info": {
   "codemirror_mode": {
    "name": "ipython",
    "version": 3
   },
   "file_extension": ".py",
   "mimetype": "text/x-python",
   "name": "python",
   "nbconvert_exporter": "python",
   "pygments_lexer": "ipython3",
   "version": "3.8.8"
  }
 },
 "nbformat": 4,
 "nbformat_minor": 5
}