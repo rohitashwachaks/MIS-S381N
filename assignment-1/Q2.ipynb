{
 "cells": [
  {
   "cell_type": "markdown",
   "source": [
    "# Importing the necessary libraries"
   ],
   "metadata": {}
  },
  {
   "cell_type": "code",
   "execution_count": 1,
   "source": [
    "import re\r\n",
    "import pandas as pd"
   ],
   "outputs": [],
   "metadata": {}
  },
  {
   "cell_type": "markdown",
   "source": [
    "# Reading the file"
   ],
   "metadata": {}
  },
  {
   "cell_type": "code",
   "execution_count": 1,
   "source": [
    "filename = \"FloridaVoters.html\"\r\n",
    "with open(filename,\"r\") as f:  #Opening the file in read mode\r\n",
    "    content = f.readlines()\r\n",
    "    f.close()                  #Closing the file\r\n",
    "print(\"Number of Lines:\", len(content))"
   ],
   "outputs": [
    {
     "output_type": "stream",
     "name": "stdout",
     "text": [
      "Number of Lines: 1396\n"
     ]
    }
   ],
   "metadata": {}
  },
  {
   "cell_type": "markdown",
   "source": [
    "# Extracting the table contents and cleaning them"
   ],
   "metadata": {}
  },
  {
   "cell_type": "code",
   "execution_count": 82,
   "source": [
    "list_rows = []\r\n",
    "for row in content:\r\n",
    "    cell = re.match('<td>|<th>',row)                       #Match the table headers and the table values\r\n",
    "    if cell is not None:\r\n",
    "        row1 = re.sub(\"<td>|<th>|</td>|</th>|\\n|,\",\"\",row) #Removing the unnecessary tags\r\n",
    "        list_rows.append(row1)                             #Appending all the rows into a list"
   ],
   "outputs": [],
   "metadata": {}
  },
  {
   "cell_type": "markdown",
   "source": [
    "# Creating List of Tuples"
   ],
   "metadata": {}
  },
  {
   "cell_type": "code",
   "execution_count": 83,
   "source": [
    "merged_list = [(list_rows[i], list_rows[i+1],list_rows[i+2],list_rows[i+3],list_rows[i+4],list_rows[i+5]) \n",
    "               for i in range(0, len(list_rows)-5,6)]"
   ],
   "outputs": [],
   "metadata": {}
  },
  {
   "cell_type": "markdown",
   "source": [
    "# Creating DataFrame and Sorting"
   ],
   "metadata": {}
  },
  {
   "cell_type": "code",
   "execution_count": 99,
   "source": [
    "df = pd.DataFrame(merged_list) #Converting to a dataframe\n",
    "#Promoting Header\n",
    "header_row = 0\n",
    "df.columns = df.iloc[header_row]\n",
    "df = df.drop(header_row)\n",
    "#Sorting the Dataframe\n",
    "df_final = df.sort_values(by = ['DEMOCRAT'])"
   ],
   "outputs": [],
   "metadata": {}
  },
  {
   "cell_type": "markdown",
   "source": [
    "# Final Dataframe"
   ],
   "metadata": {}
  },
  {
   "cell_type": "code",
   "execution_count": 100,
   "source": [
    "df_final"
   ],
   "outputs": [
    {
     "output_type": "execute_result",
     "data": {
      "text/plain": [
       "0     COUNTY REPUBLICAN DEMOCRAT  MINOR    NONE   TOTAL\n",
       "66    WALTON      25609    10013    842    8150   44614\n",
       "36      LEON      54554   103140   4305   30416  192415\n",
       "51     PASCO     125305   104324  14943   77546  322118\n",
       "61  SUWANNEE      10745    11126   1019    2959   25849\n",
       "35       LEE     180718   114633  10921  108675  414947\n",
       "..       ...        ...      ...    ...     ...     ...\n",
       "25    HENDRY       5862     7999    273    2742   16876\n",
       "65   WAKULLA       7374     8889    560    2681   19504\n",
       "56  SARASOTA     125872    89711   9144   66483  291210\n",
       "57  SEMINOLE     107833    91686   7005   67125  273649\n",
       "37      LEVY      11665     9509   1307    3518   25999\n",
       "\n",
       "[68 rows x 6 columns]"
      ],
      "text/html": [
       "<div>\n",
       "<style scoped>\n",
       "    .dataframe tbody tr th:only-of-type {\n",
       "        vertical-align: middle;\n",
       "    }\n",
       "\n",
       "    .dataframe tbody tr th {\n",
       "        vertical-align: top;\n",
       "    }\n",
       "\n",
       "    .dataframe thead th {\n",
       "        text-align: right;\n",
       "    }\n",
       "</style>\n",
       "<table border=\"1\" class=\"dataframe\">\n",
       "  <thead>\n",
       "    <tr style=\"text-align: right;\">\n",
       "      <th></th>\n",
       "      <th>COUNTY</th>\n",
       "      <th>REPUBLICAN</th>\n",
       "      <th>DEMOCRAT</th>\n",
       "      <th>MINOR</th>\n",
       "      <th>NONE</th>\n",
       "      <th>TOTAL</th>\n",
       "    </tr>\n",
       "  </thead>\n",
       "  <tbody>\n",
       "    <tr>\n",
       "      <th>66</th>\n",
       "      <td>WALTON</td>\n",
       "      <td>25609</td>\n",
       "      <td>10013</td>\n",
       "      <td>842</td>\n",
       "      <td>8150</td>\n",
       "      <td>44614</td>\n",
       "    </tr>\n",
       "    <tr>\n",
       "      <th>36</th>\n",
       "      <td>LEON</td>\n",
       "      <td>54554</td>\n",
       "      <td>103140</td>\n",
       "      <td>4305</td>\n",
       "      <td>30416</td>\n",
       "      <td>192415</td>\n",
       "    </tr>\n",
       "    <tr>\n",
       "      <th>51</th>\n",
       "      <td>PASCO</td>\n",
       "      <td>125305</td>\n",
       "      <td>104324</td>\n",
       "      <td>14943</td>\n",
       "      <td>77546</td>\n",
       "      <td>322118</td>\n",
       "    </tr>\n",
       "    <tr>\n",
       "      <th>61</th>\n",
       "      <td>SUWANNEE</td>\n",
       "      <td>10745</td>\n",
       "      <td>11126</td>\n",
       "      <td>1019</td>\n",
       "      <td>2959</td>\n",
       "      <td>25849</td>\n",
       "    </tr>\n",
       "    <tr>\n",
       "      <th>35</th>\n",
       "      <td>LEE</td>\n",
       "      <td>180718</td>\n",
       "      <td>114633</td>\n",
       "      <td>10921</td>\n",
       "      <td>108675</td>\n",
       "      <td>414947</td>\n",
       "    </tr>\n",
       "    <tr>\n",
       "      <th>...</th>\n",
       "      <td>...</td>\n",
       "      <td>...</td>\n",
       "      <td>...</td>\n",
       "      <td>...</td>\n",
       "      <td>...</td>\n",
       "      <td>...</td>\n",
       "    </tr>\n",
       "    <tr>\n",
       "      <th>25</th>\n",
       "      <td>HENDRY</td>\n",
       "      <td>5862</td>\n",
       "      <td>7999</td>\n",
       "      <td>273</td>\n",
       "      <td>2742</td>\n",
       "      <td>16876</td>\n",
       "    </tr>\n",
       "    <tr>\n",
       "      <th>65</th>\n",
       "      <td>WAKULLA</td>\n",
       "      <td>7374</td>\n",
       "      <td>8889</td>\n",
       "      <td>560</td>\n",
       "      <td>2681</td>\n",
       "      <td>19504</td>\n",
       "    </tr>\n",
       "    <tr>\n",
       "      <th>56</th>\n",
       "      <td>SARASOTA</td>\n",
       "      <td>125872</td>\n",
       "      <td>89711</td>\n",
       "      <td>9144</td>\n",
       "      <td>66483</td>\n",
       "      <td>291210</td>\n",
       "    </tr>\n",
       "    <tr>\n",
       "      <th>57</th>\n",
       "      <td>SEMINOLE</td>\n",
       "      <td>107833</td>\n",
       "      <td>91686</td>\n",
       "      <td>7005</td>\n",
       "      <td>67125</td>\n",
       "      <td>273649</td>\n",
       "    </tr>\n",
       "    <tr>\n",
       "      <th>37</th>\n",
       "      <td>LEVY</td>\n",
       "      <td>11665</td>\n",
       "      <td>9509</td>\n",
       "      <td>1307</td>\n",
       "      <td>3518</td>\n",
       "      <td>25999</td>\n",
       "    </tr>\n",
       "  </tbody>\n",
       "</table>\n",
       "<p>68 rows × 6 columns</p>\n",
       "</div>"
      ]
     },
     "metadata": {},
     "execution_count": 100
    }
   ],
   "metadata": {}
  }
 ],
 "metadata": {
  "kernelspec": {
   "display_name": "Python 3",
   "language": "python",
   "name": "python3"
  },
  "language_info": {
   "codemirror_mode": {
    "name": "ipython",
    "version": 3
   },
   "file_extension": ".py",
   "mimetype": "text/x-python",
   "name": "python",
   "nbconvert_exporter": "python",
   "pygments_lexer": "ipython3",
   "version": "3.9.5"
  }
 },
 "nbformat": 4,
 "nbformat_minor": 5
}