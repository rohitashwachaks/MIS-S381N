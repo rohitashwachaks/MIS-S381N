{
 "cells": [
  {
   "cell_type": "markdown",
   "source": [
    "# Question-2: Voters in Florida (20 points)\r\n",
    "\r\n",
    "The file _FloridaVoters.html_ contains a Web Table of republican and democratic voters in various counties in Florida.\r\n",
    "\r\n",
    "Write code that reads in this fileas a standard text file and prints out the counties,\r\n",
    "along with the numberof republican and democratic voters in those counties,sorted by the number of democratic voters.\r\n",
    "\r\n",
    "## Importing the necessary libraries\r\n"
   ],
   "metadata": {}
  },
  {
   "cell_type": "code",
   "execution_count": null,
   "source": [
    "import pandas as pd\r\n",
    "\r\n",
    "# Mac Users:\r\n",
    "# import regex as re\r\n",
    "\r\n",
    "# Windows/Linux Users:\r\n",
    "import re"
   ],
   "outputs": [],
   "metadata": {}
  },
  {
   "cell_type": "markdown",
   "source": [
    "# Reading the file"
   ],
   "metadata": {}
  },
  {
   "cell_type": "code",
   "execution_count": null,
   "source": [
    "filename = \"/Users/Kaushik Kumaran/Downloads/FloridaVoters.html\"\r\n",
    "with open(filename,\"r\") as f:  #Opening the file in read mode\r\n",
    "    content = f.readlines()\r\n",
    "    f.close()                  #Closing the file\r\n",
    "print(\"Number of Lines:\", len(content))"
   ],
   "outputs": [],
   "metadata": {}
  },
  {
   "cell_type": "markdown",
   "source": [
    "# Extracting the table contents and cleaning them"
   ],
   "metadata": {}
  },
  {
   "cell_type": "code",
   "execution_count": null,
   "source": [
    "list_rows = []\r\n",
    "for row in content:\r\n",
    "    cell = re.match('<td>|<th>',row)                       #Match the table headers and the table values\r\n",
    "    if cell is not None:\r\n",
    "        row1 = re.sub(\"<td>|<th>|</td>|</th>|\\n|,\",\"\",row) #Removing the unnecessary tags\r\n",
    "        list_rows.append(row1)                             #Appending all the rows into a list"
   ],
   "outputs": [],
   "metadata": {}
  },
  {
   "cell_type": "markdown",
   "source": [
    "# Creating List of Tuples"
   ],
   "metadata": {}
  },
  {
   "cell_type": "code",
   "execution_count": null,
   "source": [
    "merged_list = [(list_rows[i], list_rows[i+1],list_rows[i+2],list_rows[i+3],list_rows[i+4],list_rows[i+5]) \r\n",
    "               for i in range(0, len(list_rows)-5,6)]"
   ],
   "outputs": [],
   "metadata": {}
  },
  {
   "cell_type": "markdown",
   "source": [
    "# Creating DataFrame and Sorting"
   ],
   "metadata": {}
  },
  {
   "cell_type": "code",
   "execution_count": null,
   "source": [
    "df = pd.DataFrame(merged_list) #Converting to a dataframe\r\n",
    "#Promoting Header\r\n",
    "header_row = 0\r\n",
    "df.columns = df.iloc[header_row]\r\n",
    "df = df.drop(header_row)\r\n",
    "\r\n",
    "df.reset_index(inplace = True)\r\n",
    "df = df[['COUNTY','REPUBLICAN','DEMOCRAT']]\r\n",
    "\r\n",
    "df['REPUBLICAN'] = df['REPUBLICAN'].astype('int')\r\n",
    "df['DEMOCRAT'] = df['DEMOCRAT'].astype('int')\r\n",
    "#Sorting the Dataframe\r\n",
    "df = df.sort_values(by = ['DEMOCRAT'])"
   ],
   "outputs": [],
   "metadata": {}
  },
  {
   "cell_type": "markdown",
   "source": [
    "# Final Output"
   ],
   "metadata": {}
  },
  {
   "cell_type": "code",
   "execution_count": null,
   "source": [
    "# Printing in the required format\r\n",
    "def print_df(df):\r\n",
    "   # This code delete index and columns names\r\n",
    "    df_ = df.copy()\r\n",
    "    df_.columns = ['', '', '']\r\n",
    "    df_.index = ['' for _ in range(len(df))]\r\n",
    "    print(df_)"
   ],
   "outputs": [],
   "metadata": {}
  },
  {
   "cell_type": "code",
   "execution_count": null,
   "source": [
    "print_df(df)"
   ],
   "outputs": [],
   "metadata": {}
  }
 ],
 "metadata": {
  "kernelspec": {
   "display_name": "Python 3",
   "language": "python",
   "name": "python3"
  },
  "language_info": {
   "codemirror_mode": {
    "name": "ipython",
    "version": 3
   },
   "file_extension": ".py",
   "mimetype": "text/x-python",
   "name": "python",
   "nbconvert_exporter": "python",
   "pygments_lexer": "ipython3",
   "version": "3.9.5"
  }
 },
 "nbformat": 4,
 "nbformat_minor": 5
}