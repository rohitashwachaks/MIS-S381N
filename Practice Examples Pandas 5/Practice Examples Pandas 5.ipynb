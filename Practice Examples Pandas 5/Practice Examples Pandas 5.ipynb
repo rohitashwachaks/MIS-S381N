{
 "cells": [
  {
   "cell_type": "code",
   "execution_count": 17,
   "metadata": {},
   "outputs": [
    {
     "name": "stdout",
     "output_type": "stream",
     "text": [
      "Populating the interactive namespace from numpy and matplotlib\n"
     ]
    }
   ],
   "source": [
    "from pandas import Series, DataFrame\n",
    "import pandas as pd\n",
    "%pylab inline"
   ]
  },
  {
   "cell_type": "code",
   "execution_count": 18,
   "metadata": {},
   "outputs": [
    {
     "data": {
      "text/plain": [
       "array(['Id', 'PostTypeId', 'AcceptedAnswerId', 'CreationDate', 'Score',\n",
       "       'ViewCount', 'Body', 'OwnerUserId', 'OwnerDisplayName',\n",
       "       'LastEditorUserId', 'LastEditDate', 'LastActivityDate', 'Title',\n",
       "       'Tags', 'AnswerCount', 'CommentCount', 'FavoriteCount',\n",
       "       'ClosedDate'], dtype=object)"
      ]
     },
     "execution_count": 18,
     "metadata": {},
     "output_type": "execute_result"
    }
   ],
   "source": [
    "df = pd.read_csv('Questions.csv')\n",
    "df.columns.values"
   ]
  },
  {
   "cell_type": "code",
   "execution_count": 19,
   "metadata": {},
   "outputs": [
    {
     "data": {
      "text/plain": [
       "0                       <python><pandas>\n",
       "1                               <pandas>\n",
       "2                       <python><pandas>\n",
       "3                <python><pandas><apply>\n",
       "4    <python><tuples><pandas><intervals>\n",
       "Name: Tags, dtype: object"
      ]
     },
     "execution_count": 19,
     "metadata": {},
     "output_type": "execute_result"
    }
   ],
   "source": [
    "df['Tags'][:5]"
   ]
  },
  {
   "cell_type": "markdown",
   "metadata": {},
   "source": [
    "### Fill in missing CommentCount, AnswerCount, and FavoriteCount fields with 0"
   ]
  },
  {
   "cell_type": "code",
   "execution_count": null,
   "metadata": {},
   "outputs": [],
   "source": []
  },
  {
   "cell_type": "markdown",
   "metadata": {},
   "source": [
    "### Create a CanonicalTags column\n",
    "\n",
    "The first question has tag \"<python\\><pandas\\>\". Some other question could have tag \"<pandas\\><python\\>\". These would look different to Pandas, but we know they are really the same.\n",
    "\n",
    "CanonicalTags is a string with the tags in alphabetical order (and we'll also drop the '<' and '>').\n",
    "\n",
    "    * The CanonicalTags for \"<python><pandas>\" is \"pandas python\"\n",
    "    * The CanonicalTags for \"<pandas><python>\" is also \"pandas python\"\n",
    "    * The CanonicalTags for \"<python><tuples><pandas><intervals>\" is \"intervals pandas python tuples\""
   ]
  },
  {
   "cell_type": "code",
   "execution_count": null,
   "metadata": {},
   "outputs": [],
   "source": []
  },
  {
   "cell_type": "markdown",
   "metadata": {},
   "source": [
    "### For each CanonicalTags, find the maximum AnswerCount among all questions about that CanonicalTags.\n",
    "\n",
    "Sort the CanonicalTags in decreasing order of maximum AnswerCount."
   ]
  },
  {
   "cell_type": "code",
   "execution_count": null,
   "metadata": {},
   "outputs": [],
   "source": []
  },
  {
   "cell_type": "markdown",
   "metadata": {},
   "source": [
    "### Find popular CanonicalTags\n",
    "\n",
    "Find the CanonicalTags for which there are 5 or more questions with those CanonicalTags.\n",
    "Sort these CanonicalTags in decreasing order of mean CommentCount for questions with these CanonicalTags.\n",
    "\n",
    "For example, for CanonicalTags=\"numpy pandas python\", there are 31 questions, with a mean CommentCount of 1.42"
   ]
  },
  {
   "cell_type": "code",
   "execution_count": null,
   "metadata": {},
   "outputs": [],
   "source": []
  }
 ],
 "metadata": {
  "kernelspec": {
   "display_name": "Python 3",
   "language": "python",
   "name": "python3"
  },
  "language_info": {
   "codemirror_mode": {
    "name": "ipython",
    "version": 3
   },
   "file_extension": ".py",
   "mimetype": "text/x-python",
   "name": "python",
   "nbconvert_exporter": "python",
   "pygments_lexer": "ipython3",
   "version": "3.7.10"
  }
 },
 "nbformat": 4,
 "nbformat_minor": 2
}
