{
 "cells": [
  {
   "cell_type": "code",
   "execution_count": 1,
   "metadata": {},
   "outputs": [
    {
     "name": "stdout",
     "output_type": "stream",
     "text": [
      "Populating the interactive namespace from numpy and matplotlib\n"
     ]
    }
   ],
   "source": [
    "from pandas import Series, DataFrame\n",
    "import pandas as pd\n",
    "%pylab inline"
   ]
  },
  {
   "cell_type": "code",
   "execution_count": 2,
   "metadata": {},
   "outputs": [
    {
     "data": {
      "text/plain": [
       "array(['Id', 'PostTypeId', 'AcceptedAnswerId', 'CreationDate', 'Score',\n",
       "       'ViewCount', 'Body', 'OwnerUserId', 'OwnerDisplayName',\n",
       "       'LastEditorUserId', 'LastEditDate', 'LastActivityDate', 'Title',\n",
       "       'Tags', 'AnswerCount', 'CommentCount', 'FavoriteCount',\n",
       "       'ClosedDate'], dtype=object)"
      ]
     },
     "execution_count": 2,
     "metadata": {},
     "output_type": "execute_result"
    }
   ],
   "source": [
    "df = pd.read_csv('Questions.csv')\n",
    "df.columns.values"
   ]
  },
  {
   "cell_type": "code",
   "execution_count": 3,
   "metadata": {},
   "outputs": [
    {
     "data": {
      "text/plain": [
       "0                       <python><pandas>\n",
       "1                               <pandas>\n",
       "2                       <python><pandas>\n",
       "3                <python><pandas><apply>\n",
       "4    <python><tuples><pandas><intervals>\n",
       "Name: Tags, dtype: object"
      ]
     },
     "execution_count": 3,
     "metadata": {},
     "output_type": "execute_result"
    }
   ],
   "source": [
    "df['Tags'][:5]"
   ]
  },
  {
   "cell_type": "markdown",
   "metadata": {},
   "source": [
    "### Fill in missing CommentCount, AnswerCount, and FavoriteCount fields with 0"
   ]
  },
  {
   "cell_type": "code",
   "execution_count": 4,
   "metadata": {},
   "outputs": [],
   "source": [
    "df['CommentCount'].fillna(0, inplace=True)\n",
    "df['AnswerCount'].fillna(0, inplace=True)\n",
    "df['FavoriteCount'].fillna(0, inplace=True)"
   ]
  },
  {
   "cell_type": "markdown",
   "metadata": {},
   "source": [
    "### Create a CanonicalTags column\n",
    "\n",
    "The first question has tag \"<python\\><pandas\\>\". Some other question could have tag \"<pandas\\><python\\>\". These would look different to Pandas, but we know they are really the same.\n",
    "\n",
    "CanonicalTags is a string with the tags in alphabetical order (and we'll also drop the '<' and '>').\n",
    "\n",
    "    * The CanonicalTags for \"<python><pandas>\" is \"pandas python\"\n",
    "    * The CanonicalTags for \"<pandas><python>\" is also \"pandas python\"\n",
    "    * The CanonicalTags for \"<python><tuples><pandas><intervals>\" is \"intervals pandas python tuples\""
   ]
  },
  {
   "cell_type": "code",
   "execution_count": 5,
   "metadata": {},
   "outputs": [
    {
     "data": {
      "text/plain": [
       "0                     pandas python\n",
       "1                            pandas\n",
       "2                     pandas python\n",
       "3               apply pandas python\n",
       "4    intervals pandas python tuples\n",
       "Name: CanonicalTags, dtype: object"
      ]
     },
     "execution_count": 5,
     "metadata": {},
     "output_type": "execute_result"
    }
   ],
   "source": [
    "def canonical_tags(s):\n",
    "    return ' '.join(sorted(s.lstrip('<').rstrip('>').split('><')))\n",
    "\n",
    "df['CanonicalTags']=df['Tags'].map(canonical_tags)\n",
    "df['CanonicalTags'][:5]"
   ]
  },
  {
   "cell_type": "markdown",
   "metadata": {},
   "source": [
    "### For each CanonicalTags, find the maximum AnswerCount among all questions about that CanonicalTags.\n",
    "\n",
    "Sort the CanonicalTags in decreasing order of maximum AnswerCount."
   ]
  },
  {
   "cell_type": "code",
   "execution_count": 6,
   "metadata": {},
   "outputs": [
    {
     "data": {
      "text/plain": [
       "CanonicalTags\n",
       "enthought numpy pandas python scipy                       7.0\n",
       "easy-install numpy pandas pip python                      6.0\n",
       "date pandas python                                        5.0\n",
       "pandas python                                             5.0\n",
       "algorithm average numpy pandas python                     5.0\n",
       "                                                         ... \n",
       "distutils installation osx pandas python-3.3              0.0\n",
       "bash pandas python root terminal                          0.0\n",
       "inheritance pandas python series                          0.0\n",
       "histogram matplotlib pandas                               0.0\n",
       "hierarchical-data multi-index pandas python regression    0.0\n",
       "Name: AnswerCount, Length: 337, dtype: float64"
      ]
     },
     "execution_count": 6,
     "metadata": {},
     "output_type": "execute_result"
    }
   ],
   "source": [
    "df.groupby('CanonicalTags')['AnswerCount'].max().sort_values(ascending=False)"
   ]
  },
  {
   "cell_type": "markdown",
   "metadata": {},
   "source": [
    "### Find popular CanonicalTags\n",
    "\n",
    "Find the CanonicalTags for which there are 5 or more questions with those CanonicalTags.\n",
    "Sort these CanonicalTags in decreasing order of mean CommentCount for questions with these CanonicalTags.\n",
    "\n",
    "For example, for CanonicalTags=\"numpy pandas python\", there are 31 questions, with a mean CommentCount of 1.42"
   ]
  },
  {
   "cell_type": "code",
   "execution_count": 7,
   "metadata": {
    "scrolled": true
   },
   "outputs": [
    {
     "data": {
      "text/html": [
       "<div>\n",
       "<style scoped>\n",
       "    .dataframe tbody tr th:only-of-type {\n",
       "        vertical-align: middle;\n",
       "    }\n",
       "\n",
       "    .dataframe tbody tr th {\n",
       "        vertical-align: top;\n",
       "    }\n",
       "\n",
       "    .dataframe thead th {\n",
       "        text-align: right;\n",
       "    }\n",
       "</style>\n",
       "<table border=\"1\" class=\"dataframe\">\n",
       "  <thead>\n",
       "    <tr style=\"text-align: right;\">\n",
       "      <th></th>\n",
       "      <th>count</th>\n",
       "      <th>mean</th>\n",
       "    </tr>\n",
       "    <tr>\n",
       "      <th>CanonicalTags</th>\n",
       "      <th></th>\n",
       "      <th></th>\n",
       "    </tr>\n",
       "  </thead>\n",
       "  <tbody>\n",
       "    <tr>\n",
       "      <th>numpy pandas python scipy</th>\n",
       "      <td>5</td>\n",
       "      <td>3.600000</td>\n",
       "    </tr>\n",
       "    <tr>\n",
       "      <th>data-analysis pandas python</th>\n",
       "      <td>5</td>\n",
       "      <td>2.000000</td>\n",
       "    </tr>\n",
       "    <tr>\n",
       "      <th>matplotlib pandas</th>\n",
       "      <td>7</td>\n",
       "      <td>1.857143</td>\n",
       "    </tr>\n",
       "    <tr>\n",
       "      <th>ipython pandas python</th>\n",
       "      <td>6</td>\n",
       "      <td>1.666667</td>\n",
       "    </tr>\n",
       "    <tr>\n",
       "      <th>numpy pandas python</th>\n",
       "      <td>31</td>\n",
       "      <td>1.419355</td>\n",
       "    </tr>\n",
       "    <tr>\n",
       "      <th>pandas python</th>\n",
       "      <td>351</td>\n",
       "      <td>1.005698</td>\n",
       "    </tr>\n",
       "    <tr>\n",
       "      <th>pandas</th>\n",
       "      <td>73</td>\n",
       "      <td>0.808219</td>\n",
       "    </tr>\n",
       "    <tr>\n",
       "      <th>pandas plot python</th>\n",
       "      <td>5</td>\n",
       "      <td>0.800000</td>\n",
       "    </tr>\n",
       "    <tr>\n",
       "      <th>datetime pandas python</th>\n",
       "      <td>8</td>\n",
       "      <td>0.750000</td>\n",
       "    </tr>\n",
       "    <tr>\n",
       "      <th>matplotlib pandas python</th>\n",
       "      <td>24</td>\n",
       "      <td>0.750000</td>\n",
       "    </tr>\n",
       "    <tr>\n",
       "      <th>data.frame pandas python</th>\n",
       "      <td>23</td>\n",
       "      <td>0.695652</td>\n",
       "    </tr>\n",
       "    <tr>\n",
       "      <th>pandas python time-series</th>\n",
       "      <td>23</td>\n",
       "      <td>0.608696</td>\n",
       "    </tr>\n",
       "    <tr>\n",
       "      <th>numpy pandas python time-series</th>\n",
       "      <td>5</td>\n",
       "      <td>0.400000</td>\n",
       "    </tr>\n",
       "    <tr>\n",
       "      <th>csv pandas python</th>\n",
       "      <td>9</td>\n",
       "      <td>0.333333</td>\n",
       "    </tr>\n",
       "  </tbody>\n",
       "</table>\n",
       "</div>"
      ],
      "text/plain": [
       "                                 count      mean\n",
       "CanonicalTags                                   \n",
       "numpy pandas python scipy            5  3.600000\n",
       "data-analysis pandas python          5  2.000000\n",
       "matplotlib pandas                    7  1.857143\n",
       "ipython pandas python                6  1.666667\n",
       "numpy pandas python                 31  1.419355\n",
       "pandas python                      351  1.005698\n",
       "pandas                              73  0.808219\n",
       "pandas plot python                   5  0.800000\n",
       "datetime pandas python               8  0.750000\n",
       "matplotlib pandas python            24  0.750000\n",
       "data.frame pandas python            23  0.695652\n",
       "pandas python time-series           23  0.608696\n",
       "numpy pandas python time-series      5  0.400000\n",
       "csv pandas python                    9  0.333333"
      ]
     },
     "execution_count": 7,
     "metadata": {},
     "output_type": "execute_result"
    }
   ],
   "source": [
    "df2 = df.groupby('CanonicalTags')['CommentCount'].agg(['count', 'mean'])\n",
    "df2[df2['count']>=5].sort_values(by='mean', ascending=False)"
   ]
  }
 ],
 "metadata": {
  "kernelspec": {
   "display_name": "Python 3",
   "language": "python",
   "name": "python3"
  },
  "language_info": {
   "codemirror_mode": {
    "name": "ipython",
    "version": 3
   },
   "file_extension": ".py",
   "mimetype": "text/x-python",
   "name": "python",
   "nbconvert_exporter": "python",
   "pygments_lexer": "ipython3",
   "version": "3.7.10"
  }
 },
 "nbformat": 4,
 "nbformat_minor": 2
}
