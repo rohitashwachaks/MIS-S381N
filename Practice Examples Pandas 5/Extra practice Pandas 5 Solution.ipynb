{
 "cells": [
  {
   "cell_type": "code",
   "execution_count": 1,
   "metadata": {},
   "outputs": [
    {
     "name": "stdout",
     "output_type": "stream",
     "text": [
      "Populating the interactive namespace from numpy and matplotlib\n"
     ]
    }
   ],
   "source": [
    "from pandas import Series, DataFrame\n",
    "import pandas as pd\n",
    "%pylab inline"
   ]
  },
  {
   "cell_type": "code",
   "execution_count": 2,
   "metadata": {},
   "outputs": [
    {
     "data": {
      "text/plain": [
       "array(['Id', 'PostTypeId', 'AcceptedAnswerId', 'CreationDate', 'Score',\n",
       "       'ViewCount', 'Body', 'OwnerUserId', 'OwnerDisplayName',\n",
       "       'LastEditorUserId', 'LastEditDate', 'LastActivityDate', 'Title',\n",
       "       'Tags', 'AnswerCount', 'CommentCount', 'FavoriteCount',\n",
       "       'ClosedDate'], dtype=object)"
      ]
     },
     "execution_count": 2,
     "metadata": {},
     "output_type": "execute_result"
    }
   ],
   "source": [
    "df = pd.read_csv('Questions.csv')\n",
    "df['AnswerCount'].fillna(0, inplace=True)\n",
    "df['CommentCount'].fillna(0, inplace=True)\n",
    "df['FavoriteCount'].fillna(0, inplace=True)\n",
    "df.columns.values"
   ]
  },
  {
   "cell_type": "markdown",
   "metadata": {},
   "source": [
    "### Most engaged question askers\n",
    "\n",
    "Define the engagement of any person (OwnerUserId) as the maximum of the total answers, or total comments, or total favorite-counts of all the questions asked by that person. Find the top 10 most OwnerUserIds with the highest engagement."
   ]
  },
  {
   "cell_type": "code",
   "execution_count": 3,
   "metadata": {},
   "outputs": [
    {
     "data": {
      "text/plain": [
       "OwnerUserId\n",
       "1072888    36.0\n",
       "1438637    26.0\n",
       "248237     20.0\n",
       "983191     20.0\n",
       "1911092    20.0\n",
       "1952633    19.0\n",
       "567620     19.0\n",
       "854739     18.0\n",
       "1529852    17.0\n",
       "1289107    17.0\n",
       "dtype: float64"
      ]
     },
     "execution_count": 3,
     "metadata": {},
     "output_type": "execute_result"
    }
   ],
   "source": [
    "df.groupby('OwnerUserId')[['AnswerCount', 'CommentCount', 'FavoriteCount']].sum().T.max().sort_values(ascending=False)[:10]"
   ]
  },
  {
   "cell_type": "markdown",
   "metadata": {},
   "source": [
    "### Binge askers\n",
    "\n",
    "A binge asker is someone who asks lots of questions on the same day. Figure out a way to get just the date part of the CreationDate column (e.g., \"2012-11-19\" from \"2012-11-19 02:12:10\"). Then, for each OwnerUserId, figure out the maximum number of questions he or she asked on any one day. Print out the top few binging OwnerUserIds."
   ]
  },
  {
   "cell_type": "code",
   "execution_count": 4,
   "metadata": {},
   "outputs": [
    {
     "data": {
      "text/plain": [
       "OwnerUserId\n",
       "566942     3\n",
       "1289107    3\n",
       "1579844    2\n",
       "460147     2\n",
       "128580     2\n",
       "Name: CreationDate_onlyDate, dtype: int64"
      ]
     },
     "execution_count": 4,
     "metadata": {},
     "output_type": "execute_result"
    }
   ],
   "source": [
    "def onlyTheDate(s):\n",
    "    return s.split()[0]\n",
    "df['CreationDate_onlyDate'] = df['CreationDate'].map(onlyTheDate)\n",
    "\n",
    "def bingeDate(s):\n",
    "    return s.value_counts()[0]\n",
    "df.groupby('OwnerUserId')['CreationDate_onlyDate'].agg(bingeDate).sort_values(ascending=False)[:5]"
   ]
  }
 ],
 "metadata": {
  "kernelspec": {
   "display_name": "Python 3",
   "language": "python",
   "name": "python3"
  },
  "language_info": {
   "codemirror_mode": {
    "name": "ipython",
    "version": 3
   },
   "file_extension": ".py",
   "mimetype": "text/x-python",
   "name": "python",
   "nbconvert_exporter": "python",
   "pygments_lexer": "ipython3",
   "version": "3.7.7"
  }
 },
 "nbformat": 4,
 "nbformat_minor": 2
}
