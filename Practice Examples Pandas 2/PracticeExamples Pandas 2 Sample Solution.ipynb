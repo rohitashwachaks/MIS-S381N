{
 "cells": [
  {
   "cell_type": "code",
   "execution_count": 1,
   "metadata": {},
   "outputs": [
    {
     "name": "stdout",
     "output_type": "stream",
     "text": [
      "Populating the interactive namespace from numpy and matplotlib\n"
     ]
    }
   ],
   "source": [
    "from pandas import Series, DataFrame\n",
    "import pandas as pd\n",
    "%pylab inline"
   ]
  },
  {
   "cell_type": "markdown",
   "metadata": {},
   "source": [
    "### Read in pizza.csv and print the first row."
   ]
  },
  {
   "cell_type": "code",
   "execution_count": 2,
   "metadata": {
    "scrolled": true
   },
   "outputs": [
    {
     "data": {
      "text/plain": [
       "id                                                 AVwc_6KEIN2L1WUfrKAH\n",
       "address                         Cascade Village Mall Across From Target\n",
       "categories                                                  Pizza Place\n",
       "city                                                               Bend\n",
       "country                                                              US\n",
       "keys                  us/or/bend/cascadevillagemallacrossfromtarget/...\n",
       "latitude                                                        44.1027\n",
       "longitude                                                      -121.301\n",
       "menuPageURL                                                         NaN\n",
       "menus.amountMax                                                    22.5\n",
       "menus.amountMin                                                    15.5\n",
       "menus.currency                                                      USD\n",
       "menus.dateSeen                                     2016-03-31T02:19:42Z\n",
       "menus.description                                                   NaN\n",
       "menus.name                                                 Bianca Pizza\n",
       "name                                              Little Pizza Paradise\n",
       "postalCode                                                        97701\n",
       "priceRangeCurrency                                                  NaN\n",
       "priceRangeMin                                                       NaN\n",
       "priceRangeMax                                                       NaN\n",
       "province                                                             OR\n",
       "Name: 0, dtype: object"
      ]
     },
     "execution_count": 2,
     "metadata": {},
     "output_type": "execute_result"
    }
   ],
   "source": [
    "df = pd.read_csv('pizza.csv')\n",
    "df.iloc[0]"
   ]
  },
  {
   "cell_type": "markdown",
   "metadata": {},
   "source": [
    "### Plot the top 10 most common pizzas.\n",
    "Look at *menus.name*."
   ]
  },
  {
   "cell_type": "code",
   "execution_count": 3,
   "metadata": {},
   "outputs": [
    {
     "data": {
      "text/plain": [
       "<matplotlib.axes._subplots.AxesSubplot at 0x1ba22751308>"
      ]
     },
     "execution_count": 3,
     "metadata": {},
     "output_type": "execute_result"
    },
    {
     "data": {
      "image/png": "[encoded data removed]",
      "text/plain": [
       "<Figure size 432x288 with 1 Axes>"
      ]
     },
     "metadata": {
      "needs_background": "light"
     },
     "output_type": "display_data"
    }
   ],
   "source": [
    "df['menus.name'].value_counts()[:10].plot(kind='bar')"
   ]
  },
  {
   "cell_type": "markdown",
   "metadata": {},
   "source": [
    "### Plot the top 10 cities with the most pizza items.\n",
    "The x-axis should be the city, and the y-axis the number of menu items that show up in this city (i.e., the number of rows corresponding to this city)."
   ]
  },
  {
   "cell_type": "code",
   "execution_count": 4,
   "metadata": {},
   "outputs": [
    {
     "data": {
      "text/plain": [
       "<matplotlib.axes._subplots.AxesSubplot at 0x1ba22cecd08>"
      ]
     },
     "execution_count": 4,
     "metadata": {},
     "output_type": "execute_result"
    },
    {
     "data": {
      "image/png": "[encoded data removed]",
      "text/plain": [
       "<Figure size 432x288 with 1 Axes>"
      ]
     },
     "metadata": {
      "needs_background": "light"
     },
     "output_type": "display_data"
    }
   ],
   "source": [
    "df['city'].value_counts()[:10].plot(kind='bar')"
   ]
  },
  {
   "cell_type": "markdown",
   "metadata": {},
   "source": [
    "### Find the cheapest pizza (anywhere!)\n",
    "\n",
    "Look at the *menus.amountMin* field, but ignore rows where *menus.amountMin = 0* (because there's no such thing as a free pizza; it's probably just missing data)."
   ]
  },
  {
   "cell_type": "code",
   "execution_count": 5,
   "metadata": {},
   "outputs": [
    {
     "data": {
      "text/plain": [
       "'Cheese Pizza'"
      ]
     },
     "execution_count": 5,
     "metadata": {},
     "output_type": "execute_result"
    }
   ],
   "source": [
    "df[df['menus.amountMin'] > 0].sort_values(by='menus.amountMin').iloc[0]['menus.name']"
   ]
  },
  {
   "cell_type": "code",
   "execution_count": 7,
   "metadata": {},
   "outputs": [
    {
     "data": {
      "text/plain": [
       "'Cheese Pizza'"
      ]
     },
     "execution_count": 7,
     "metadata": {},
     "output_type": "execute_result"
    }
   ],
   "source": [
    "df2 = df[df['menus.amountMin'] > 0]\n",
    "tmp = df2['menus.amountMin'].idxmin()\n",
    "df2.loc[tmp]['menus.name']"
   ]
  },
  {
   "cell_type": "markdown",
   "metadata": {},
   "source": [
    "### Find the top 10 restaurants (or chains) with the biggest menus (i.e., they serve the most distinct pizzas).\n",
    "\n",
    "A restaurant or a chain has a *name*, and serves a pizza of type *menus.name*. You want to count the number of unique *menus.name* for each *name*, and pick the top 10 *names* with the most menu options.\n",
    "\n",
    "Note: You may see multiple rows where **name = Sicilia's Pizza** (say) and **menus.name = Cheese Pizza**. This probably means Sicilia's pizza is a chain. We **don't** want to count Cheese Pizza twice when counting the menu size for Sicilia's Pizza."
   ]
  },
  {
   "cell_type": "code",
   "execution_count": 7,
   "metadata": {},
   "outputs": [
    {
     "data": {
      "text/plain": [
       "J & G Restaurant           55\n",
       "The Pizza Joint            36\n",
       "Sicilia's Pizzeria         32\n",
       "Labella Pizza and Pasta    31\n",
       "Giovanni's Pizzeria        28\n",
       "Takka Grill                26\n",
       "North End Pizzeria         25\n",
       "Stone and Paddle           22\n",
       "Hungry Howie's Pizza       20\n",
       "Pronto Pizza               19\n",
       "Name: name, dtype: int64"
      ]
     },
     "execution_count": 7,
     "metadata": {},
     "output_type": "execute_result"
    }
   ],
   "source": [
    "df[['name', 'menus.name']].drop_duplicates()['name'].value_counts()[:10]"
   ]
  },
  {
   "cell_type": "markdown",
   "metadata": {},
   "source": [
    "### How many unique restaurant names have a menuPageURL that is not missing?"
   ]
  },
  {
   "cell_type": "code",
   "execution_count": 11,
   "metadata": {},
   "outputs": [
    {
     "data": {
      "text/plain": [
       "124"
      ]
     },
     "execution_count": 11,
     "metadata": {},
     "output_type": "execute_result"
    }
   ],
   "source": [
    "len(df[df['menuPageURL'].notnull()]['name'].value_counts())"
   ]
  },
  {
   "cell_type": "markdown",
   "metadata": {},
   "source": [
    "### Check if any postalCode is associated with multiple provinces.\n",
    "\n",
    "The \"province\" is the state code, while the postalCode is the zipcode. We don't expect any zipcode to cross state boundaries, but how would you check it?"
   ]
  },
  {
   "cell_type": "code",
   "execution_count": 12,
   "metadata": {},
   "outputs": [
    {
     "data": {
      "text/plain": [
       "Series([], Name: postalCode, dtype: int64)"
      ]
     },
     "execution_count": 12,
     "metadata": {},
     "output_type": "execute_result"
    }
   ],
   "source": [
    "z = df[['postalCode', 'province']].drop_duplicates()['postalCode'].value_counts()\n",
    "z[z>1]"
   ]
  }
 ],
 "metadata": {
  "kernelspec": {
   "display_name": "Python 3",
   "language": "python",
   "name": "python3"
  },
  "language_info": {
   "codemirror_mode": {
    "name": "ipython",
    "version": 3
   },
   "file_extension": ".py",
   "mimetype": "text/x-python",
   "name": "python",
   "nbconvert_exporter": "python",
   "pygments_lexer": "ipython3",
   "version": "3.7.10"
  }
 },
 "nbformat": 4,
 "nbformat_minor": 2
}
